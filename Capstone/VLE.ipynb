{
 "cells": [
  {
   "cell_type": "code",
   "execution_count": 1,
   "id": "e0584e52-bb7f-49c4-9736-3f11af522a45",
   "metadata": {
    "tags": [
     "remove_cell"
    ]
   },
   "outputs": [],
   "source": [
    "from functions import *"
   ]
  },
  {
   "cell_type": "markdown",
   "id": "1eeba669-58b5-49bf-acd5-7b0684a50a4d",
   "metadata": {},
   "source": [
    "# VLE\n",
    "---\n",
    "## VLE\n",
    "---\n",
    "\n",
    "The VLE dataframe contains information about materials available on the Virtual Learning Environment."
   ]
  },
  {
   "cell_type": "code",
   "execution_count": 26,
   "id": "4c3239f1-bd2f-4635-839a-2a358a55ce89",
   "metadata": {
    "tags": [
     "remove_input"
    ]
   },
   "outputs": [
    {
     "data": {
      "text/html": [
       "<div>\n",
       "<style scoped>\n",
       "    .dataframe tbody tr th:only-of-type {\n",
       "        vertical-align: middle;\n",
       "    }\n",
       "\n",
       "    .dataframe tbody tr th {\n",
       "        vertical-align: top;\n",
       "    }\n",
       "\n",
       "    .dataframe thead th {\n",
       "        text-align: right;\n",
       "    }\n",
       "</style>\n",
       "<table border=\"1\" class=\"dataframe\">\n",
       "  <thead>\n",
       "    <tr style=\"text-align: right;\">\n",
       "      <th></th>\n",
       "      <th>id_site</th>\n",
       "      <th>code_module</th>\n",
       "      <th>code_presentation</th>\n",
       "      <th>activity_type</th>\n",
       "    </tr>\n",
       "  </thead>\n",
       "  <tbody>\n",
       "    <tr>\n",
       "      <th>0</th>\n",
       "      <td>546943</td>\n",
       "      <td>AAA</td>\n",
       "      <td>2013J</td>\n",
       "      <td>resource</td>\n",
       "    </tr>\n",
       "    <tr>\n",
       "      <th>1</th>\n",
       "      <td>546712</td>\n",
       "      <td>AAA</td>\n",
       "      <td>2013J</td>\n",
       "      <td>oucontent</td>\n",
       "    </tr>\n",
       "    <tr>\n",
       "      <th>2</th>\n",
       "      <td>546998</td>\n",
       "      <td>AAA</td>\n",
       "      <td>2013J</td>\n",
       "      <td>resource</td>\n",
       "    </tr>\n",
       "    <tr>\n",
       "      <th>3</th>\n",
       "      <td>546888</td>\n",
       "      <td>AAA</td>\n",
       "      <td>2013J</td>\n",
       "      <td>url</td>\n",
       "    </tr>\n",
       "    <tr>\n",
       "      <th>4</th>\n",
       "      <td>547035</td>\n",
       "      <td>AAA</td>\n",
       "      <td>2013J</td>\n",
       "      <td>resource</td>\n",
       "    </tr>\n",
       "  </tbody>\n",
       "</table>\n",
       "</div>"
      ],
      "text/plain": [
       "  id_site code_module code_presentation activity_type\n",
       "0  546943         AAA             2013J      resource\n",
       "1  546712         AAA             2013J     oucontent\n",
       "2  546998         AAA             2013J      resource\n",
       "3  546888         AAA             2013J           url\n",
       "4  547035         AAA             2013J      resource"
      ]
     },
     "execution_count": 26,
     "metadata": {},
     "output_type": "execute_result"
    }
   ],
   "source": [
    "# show first 5 of vle dataframe\n",
    "vle.head()"
   ]
  },
  {
   "cell_type": "markdown",
   "id": "b6330afb-7a82-4601-8ec8-70aca6444c1c",
   "metadata": {},
   "source": [
    "---\n",
    "\n",
    "#### VLE Information"
   ]
  },
  {
   "cell_type": "markdown",
   "id": "f3610365-e80c-415b-ac3c-bad92a9b11dd",
   "metadata": {},
   "source": [
    "**Size**"
   ]
  },
  {
   "cell_type": "code",
   "execution_count": 2,
   "id": "8cfa612e-b3c9-4c42-96a9-72f4bd2a477e",
   "metadata": {
    "tags": [
     "remove_input"
    ]
   },
   "outputs": [
    {
     "data": {
      "text/html": [
       "<div>\n",
       "<style scoped>\n",
       "    .dataframe tbody tr th:only-of-type {\n",
       "        vertical-align: middle;\n",
       "    }\n",
       "\n",
       "    .dataframe tbody tr th {\n",
       "        vertical-align: top;\n",
       "    }\n",
       "\n",
       "    .dataframe thead th {\n",
       "        text-align: right;\n",
       "    }\n",
       "</style>\n",
       "<table border=\"1\" class=\"dataframe\">\n",
       "  <thead>\n",
       "    <tr style=\"text-align: right;\">\n",
       "      <th></th>\n",
       "      <th>Count</th>\n",
       "    </tr>\n",
       "  </thead>\n",
       "  <tbody>\n",
       "    <tr>\n",
       "      <th>Columns</th>\n",
       "      <td>6</td>\n",
       "    </tr>\n",
       "    <tr>\n",
       "      <th>Rows</th>\n",
       "      <td>6364</td>\n",
       "    </tr>\n",
       "  </tbody>\n",
       "</table>\n",
       "</div>"
      ],
      "text/plain": [
       "         Count\n",
       "Columns      6\n",
       "Rows      6364"
      ]
     },
     "execution_count": 2,
     "metadata": {},
     "output_type": "execute_result"
    }
   ],
   "source": [
    "## return a dataframe of column and row count\n",
    "get_size(vle)"
   ]
  },
  {
   "cell_type": "code",
   "execution_count": 3,
   "id": "330c00b1-0321-41e9-9dd2-89c76d755a8e",
   "metadata": {
    "tags": [
     "remove_input"
    ]
   },
   "outputs": [
    {
     "data": {
      "text/markdown": [
       "\n",
       "VLE has 6 columns and 6,364 rows which represent the online resources we have data for.\n"
      ],
      "text/plain": [
       "<IPython.core.display.Markdown object>"
      ]
     },
     "execution_count": 3,
     "metadata": {},
     "output_type": "execute_result"
    }
   ],
   "source": [
    "## store the size of vle's columns\n",
    "vle_cols = len(vle.columns)\n",
    "## store the size of vle's rows\n",
    "vle_rows = len(vle)\n",
    "md(f'''\n",
    "VLE has {vle_cols} features and {\"{:,}\".format(vle_rows)} rows which represent the online resources we have data for.\n",
    "''')"
   ]
  },
  {
   "cell_type": "markdown",
   "id": "06b7a968-b09b-4c65-a535-8abe78845caa",
   "metadata": {},
   "source": [
    "---\n",
    "\n",
    "#### VLE Contents\n",
    "\n",
    "* **id_site**: The site ID is the unique identifier for the online resource.\n",
    "* **code_module**: The code module is the module the resource is associated with.\n",
    "* **code_presentation**: The code presentation represents the time the module was held at.\n",
    "* **activity_type**: The activity type is the type of online material.\n",
    "* **week_from**: The week from is the week the material was intended to be used from.\n",
    "    - week_from will not be used in our analysis due to it being irrelevant information and will be dropped.\n",
    "* **week_to**: The week to is the week the material was intended to be used until.\n",
    "    - week_to will not be used in our analysis due to it being irrelevant information and will be dropped."
   ]
  },
  {
   "cell_type": "code",
   "execution_count": 3,
   "id": "68f8bf9a-12fd-4909-b307-46bbf2f4cbe9",
   "metadata": {
    "tags": [
     "remove_cell"
    ]
   },
   "outputs": [],
   "source": [
    "## dropping week_to and week_from from VLE dataframe\n",
    "vle = vle.drop(columns=['week_from', 'week_to'])"
   ]
  },
  {
   "cell_type": "markdown",
   "id": "bf655f29-03da-4bb4-abc2-2f7c9ef6ee48",
   "metadata": {},
   "source": [
    "# Student VLE\n",
    "---\n",
    "\n",
    "The Student VLE Dataframe contains information about student interactions with the online resources in the Virtual Learning Environment"
   ]
  },
  {
   "cell_type": "code",
   "execution_count": 5,
   "id": "1881c56f-e9ea-4e26-8897-2daa7636596a",
   "metadata": {},
   "outputs": [
    {
     "data": {
      "text/html": [
       "<div>\n",
       "<style scoped>\n",
       "    .dataframe tbody tr th:only-of-type {\n",
       "        vertical-align: middle;\n",
       "    }\n",
       "\n",
       "    .dataframe tbody tr th {\n",
       "        vertical-align: top;\n",
       "    }\n",
       "\n",
       "    .dataframe thead th {\n",
       "        text-align: right;\n",
       "    }\n",
       "</style>\n",
       "<table border=\"1\" class=\"dataframe\">\n",
       "  <thead>\n",
       "    <tr style=\"text-align: right;\">\n",
       "      <th></th>\n",
       "      <th>code_module</th>\n",
       "      <th>code_presentation</th>\n",
       "      <th>id_student</th>\n",
       "      <th>id_site</th>\n",
       "      <th>date</th>\n",
       "      <th>sum_click</th>\n",
       "    </tr>\n",
       "  </thead>\n",
       "  <tbody>\n",
       "    <tr>\n",
       "      <th>0</th>\n",
       "      <td>AAA</td>\n",
       "      <td>2013J</td>\n",
       "      <td>28400</td>\n",
       "      <td>546652</td>\n",
       "      <td>-10</td>\n",
       "      <td>4</td>\n",
       "    </tr>\n",
       "    <tr>\n",
       "      <th>1</th>\n",
       "      <td>AAA</td>\n",
       "      <td>2013J</td>\n",
       "      <td>28400</td>\n",
       "      <td>546652</td>\n",
       "      <td>-10</td>\n",
       "      <td>1</td>\n",
       "    </tr>\n",
       "    <tr>\n",
       "      <th>2</th>\n",
       "      <td>AAA</td>\n",
       "      <td>2013J</td>\n",
       "      <td>28400</td>\n",
       "      <td>546652</td>\n",
       "      <td>-10</td>\n",
       "      <td>1</td>\n",
       "    </tr>\n",
       "    <tr>\n",
       "      <th>3</th>\n",
       "      <td>AAA</td>\n",
       "      <td>2013J</td>\n",
       "      <td>28400</td>\n",
       "      <td>546614</td>\n",
       "      <td>-10</td>\n",
       "      <td>11</td>\n",
       "    </tr>\n",
       "    <tr>\n",
       "      <th>4</th>\n",
       "      <td>AAA</td>\n",
       "      <td>2013J</td>\n",
       "      <td>28400</td>\n",
       "      <td>546714</td>\n",
       "      <td>-10</td>\n",
       "      <td>1</td>\n",
       "    </tr>\n",
       "  </tbody>\n",
       "</table>\n",
       "</div>"
      ],
      "text/plain": [
       "  code_module code_presentation  id_student  id_site  date  sum_click\n",
       "0         AAA             2013J       28400   546652   -10          4\n",
       "1         AAA             2013J       28400   546652   -10          1\n",
       "2         AAA             2013J       28400   546652   -10          1\n",
       "3         AAA             2013J       28400   546614   -10         11\n",
       "4         AAA             2013J       28400   546714   -10          1"
      ]
     },
     "execution_count": 5,
     "metadata": {},
     "output_type": "execute_result"
    }
   ],
   "source": [
    "student_vle.head()"
   ]
  },
  {
   "cell_type": "markdown",
   "id": "80377316-d46e-4051-881e-3654d04586f2",
   "metadata": {},
   "source": [
    "**Size**"
   ]
  },
  {
   "cell_type": "code",
   "execution_count": 3,
   "id": "5bff06c3-6c3d-45cb-847a-81b64b4d8fbe",
   "metadata": {
    "tags": [
     "remove_input"
    ]
   },
   "outputs": [
    {
     "data": {
      "text/html": [
       "<div>\n",
       "<style scoped>\n",
       "    .dataframe tbody tr th:only-of-type {\n",
       "        vertical-align: middle;\n",
       "    }\n",
       "\n",
       "    .dataframe tbody tr th {\n",
       "        vertical-align: top;\n",
       "    }\n",
       "\n",
       "    .dataframe thead th {\n",
       "        text-align: right;\n",
       "    }\n",
       "</style>\n",
       "<table border=\"1\" class=\"dataframe\">\n",
       "  <thead>\n",
       "    <tr style=\"text-align: right;\">\n",
       "      <th></th>\n",
       "      <th>Count</th>\n",
       "    </tr>\n",
       "  </thead>\n",
       "  <tbody>\n",
       "    <tr>\n",
       "      <th>Columns</th>\n",
       "      <td>6</td>\n",
       "    </tr>\n",
       "    <tr>\n",
       "      <th>Rows</th>\n",
       "      <td>10655280</td>\n",
       "    </tr>\n",
       "  </tbody>\n",
       "</table>\n",
       "</div>"
      ],
      "text/plain": [
       "            Count\n",
       "Columns         6\n",
       "Rows     10655280"
      ]
     },
     "execution_count": 3,
     "metadata": {},
     "output_type": "execute_result"
    }
   ],
   "source": [
    "get_size(student_vle)"
   ]
  },
  {
   "cell_type": "code",
   "execution_count": 6,
   "id": "4046bf24-53ce-407f-8985-0b57dca0c355",
   "metadata": {
    "tags": [
     "remove_input"
    ]
   },
   "outputs": [
    {
     "data": {
      "text/markdown": [
       "\n",
       "Student VLE has 6 features and 10,655,280 rows which represent the student resource interactions we have data for.\n"
      ],
      "text/plain": [
       "<IPython.core.display.Markdown object>"
      ]
     },
     "execution_count": 6,
     "metadata": {},
     "output_type": "execute_result"
    }
   ],
   "source": [
    "# store the size of student_vle's columns\n",
    "stud_vle_cols = len(student_vle.columns)\n",
    "# store the size of student_vle's rows\n",
    "stud_vle_rows = len(student_vle)\n",
    "md(f'''\n",
    "Student VLE has {stud_vle_cols} features and {\"{:,}\".format(stud_vle_rows)} rows which represent the student resource interactions we have data for.\n",
    "''')"
   ]
  },
  {
   "cell_type": "markdown",
   "id": "eb5c4ec4-8dbb-425f-a4ce-f1fae5a8d59b",
   "metadata": {},
   "source": [
    "---\n",
    "\n",
    "## Student VLE Contents\n",
    "\n",
    "* **code_module**: The code module is the module the resource and student are associated with.\n",
    "* **code_presentation**: The code presentation represents the time the module was held at.\n",
    "* **id_site**: The site ID is the unique identifier for the online resource with which the student engaged.\n",
    "* **date**: The date represents the date that the student engaged with the material relevant to the start date of the module.\n",
    "* **sum_click**: The sum click represents the number of clicks the student made on that day."
   ]
  },
  {
   "cell_type": "markdown",
   "id": "67686314-9439-4d37-8066-2639f64d2bfe",
   "metadata": {},
   "source": [
    "---\n",
    "\n",
    "## VLE Information"
   ]
  },
  {
   "cell_type": "markdown",
   "id": "3300886a-d017-475b-8f37-973ce0bcc391",
   "metadata": {},
   "source": [
    "**Data Types**"
   ]
  },
  {
   "cell_type": "code",
   "execution_count": 7,
   "id": "d40a39ef-4d29-4e51-bba1-06758e733f71",
   "metadata": {
    "tags": [
     "remove_input"
    ]
   },
   "outputs": [
    {
     "data": {
      "text/html": [
       "<style type=\"text/css\">\n",
       "#T_0946a_ td.col0 {\n",
       "  font-weight: bold;\n",
       "}\n",
       "</style>\n",
       "<table id=\"T_0946a_\">\n",
       "  <thead>\n",
       "    <tr>\n",
       "      <th class=\"col_heading level0 col0\" >index</th>\n",
       "      <th class=\"col_heading level0 col1\" >Type</th>\n",
       "    </tr>\n",
       "  </thead>\n",
       "  <tbody>\n",
       "    <tr>\n",
       "      <td id=\"T_0946a_row0_col0\" class=\"data row0 col0\" >id_site</td>\n",
       "      <td id=\"T_0946a_row0_col1\" class=\"data row0 col1\" >int64</td>\n",
       "    </tr>\n",
       "    <tr>\n",
       "      <td id=\"T_0946a_row1_col0\" class=\"data row1 col0\" >code_module</td>\n",
       "      <td id=\"T_0946a_row1_col1\" class=\"data row1 col1\" >object</td>\n",
       "    </tr>\n",
       "    <tr>\n",
       "      <td id=\"T_0946a_row2_col0\" class=\"data row2 col0\" >code_presentation</td>\n",
       "      <td id=\"T_0946a_row2_col1\" class=\"data row2 col1\" >object</td>\n",
       "    </tr>\n",
       "    <tr>\n",
       "      <td id=\"T_0946a_row3_col0\" class=\"data row3 col0\" >activity_type</td>\n",
       "      <td id=\"T_0946a_row3_col1\" class=\"data row3 col1\" >object</td>\n",
       "    </tr>\n",
       "    <tr>\n",
       "      <td id=\"T_0946a_row4_col0\" class=\"data row4 col0\" >week_from</td>\n",
       "      <td id=\"T_0946a_row4_col1\" class=\"data row4 col1\" >float64</td>\n",
       "    </tr>\n",
       "    <tr>\n",
       "      <td id=\"T_0946a_row5_col0\" class=\"data row5 col0\" >week_to</td>\n",
       "      <td id=\"T_0946a_row5_col1\" class=\"data row5 col1\" >float64</td>\n",
       "    </tr>\n",
       "  </tbody>\n",
       "</table>\n"
      ],
      "text/plain": [
       "<pandas.io.formats.style.Styler at 0x251a2115f10>"
      ]
     },
     "execution_count": 7,
     "metadata": {},
     "output_type": "execute_result"
    }
   ],
   "source": [
    "# return a dataframe of vle's columns' data types\n",
    "get_dtypes(vle)"
   ]
  },
  {
   "cell_type": "markdown",
   "id": "3cc5f92a-950b-444d-9be4-b3459c77310f",
   "metadata": {},
   "source": [
    "* `id_site` is categorical and will need to be changed into a `string`\n",
    "* `object` datatypes will again be turned into strings"
   ]
  },
  {
   "cell_type": "code",
   "execution_count": 8,
   "id": "3d53c7fd-f40b-458b-bc6c-26784f9d09e7",
   "metadata": {
    "tags": [
     "remove_cell"
    ]
   },
   "outputs": [
    {
     "data": {
      "text/html": [
       "<style type=\"text/css\">\n",
       "#T_cb775_ td.col0 {\n",
       "  font-weight: bold;\n",
       "}\n",
       "</style>\n",
       "<table id=\"T_cb775_\">\n",
       "  <thead>\n",
       "    <tr>\n",
       "      <th class=\"col_heading level0 col0\" >index</th>\n",
       "      <th class=\"col_heading level0 col1\" >Type</th>\n",
       "    </tr>\n",
       "  </thead>\n",
       "  <tbody>\n",
       "    <tr>\n",
       "      <td id=\"T_cb775_row0_col0\" class=\"data row0 col0\" >id_site</td>\n",
       "      <td id=\"T_cb775_row0_col1\" class=\"data row0 col1\" >string</td>\n",
       "    </tr>\n",
       "    <tr>\n",
       "      <td id=\"T_cb775_row1_col0\" class=\"data row1 col0\" >code_module</td>\n",
       "      <td id=\"T_cb775_row1_col1\" class=\"data row1 col1\" >string</td>\n",
       "    </tr>\n",
       "    <tr>\n",
       "      <td id=\"T_cb775_row2_col0\" class=\"data row2 col0\" >code_presentation</td>\n",
       "      <td id=\"T_cb775_row2_col1\" class=\"data row2 col1\" >string</td>\n",
       "    </tr>\n",
       "    <tr>\n",
       "      <td id=\"T_cb775_row3_col0\" class=\"data row3 col0\" >activity_type</td>\n",
       "      <td id=\"T_cb775_row3_col1\" class=\"data row3 col1\" >string</td>\n",
       "    </tr>\n",
       "    <tr>\n",
       "      <td id=\"T_cb775_row4_col0\" class=\"data row4 col0\" >week_from</td>\n",
       "      <td id=\"T_cb775_row4_col1\" class=\"data row4 col1\" >Int64</td>\n",
       "    </tr>\n",
       "    <tr>\n",
       "      <td id=\"T_cb775_row5_col0\" class=\"data row5 col0\" >week_to</td>\n",
       "      <td id=\"T_cb775_row5_col1\" class=\"data row5 col1\" >Int64</td>\n",
       "    </tr>\n",
       "  </tbody>\n",
       "</table>\n"
      ],
      "text/plain": [
       "<pandas.io.formats.style.Styler at 0x251a21150a0>"
      ]
     },
     "execution_count": 8,
     "metadata": {},
     "output_type": "execute_result"
    }
   ],
   "source": [
    "# change id_site to string type\n",
    "vle['id_site'] = vle['id_site'].astype(str)\n",
    "# convert all other types to ideal typings for pandas\n",
    "vle = vle.convert_dtypes()\n",
    "# show new datatypes dataframe\n",
    "get_dtypes(vle)"
   ]
  },
  {
   "cell_type": "markdown",
   "id": "ad6a444e-c6d3-4476-ad08-9cbda3460efd",
   "metadata": {},
   "source": [
    "**Null Values**"
   ]
  },
  {
   "cell_type": "code",
   "execution_count": 9,
   "id": "34c46f49-1493-47d5-80c9-fb28e28bd630",
   "metadata": {
    "tags": [
     "remove_input"
    ]
   },
   "outputs": [
    {
     "data": {
      "text/html": [
       "<style type=\"text/css\">\n",
       "#T_10ea2_ td.col0 {\n",
       "  font-weight: bold;\n",
       "}\n",
       "</style>\n",
       "<table id=\"T_10ea2_\">\n",
       "  <thead>\n",
       "    <tr>\n",
       "      <th class=\"col_heading level0 col0\" >index</th>\n",
       "      <th class=\"col_heading level0 col1\" >Null Values</th>\n",
       "    </tr>\n",
       "  </thead>\n",
       "  <tbody>\n",
       "    <tr>\n",
       "      <td id=\"T_10ea2_row0_col0\" class=\"data row0 col0\" >id_site</td>\n",
       "      <td id=\"T_10ea2_row0_col1\" class=\"data row0 col1\" >0</td>\n",
       "    </tr>\n",
       "    <tr>\n",
       "      <td id=\"T_10ea2_row1_col0\" class=\"data row1 col0\" >code_module</td>\n",
       "      <td id=\"T_10ea2_row1_col1\" class=\"data row1 col1\" >0</td>\n",
       "    </tr>\n",
       "    <tr>\n",
       "      <td id=\"T_10ea2_row2_col0\" class=\"data row2 col0\" >code_presentation</td>\n",
       "      <td id=\"T_10ea2_row2_col1\" class=\"data row2 col1\" >0</td>\n",
       "    </tr>\n",
       "    <tr>\n",
       "      <td id=\"T_10ea2_row3_col0\" class=\"data row3 col0\" >activity_type</td>\n",
       "      <td id=\"T_10ea2_row3_col1\" class=\"data row3 col1\" >0</td>\n",
       "    </tr>\n",
       "    <tr>\n",
       "      <td id=\"T_10ea2_row4_col0\" class=\"data row4 col0\" >week_from</td>\n",
       "      <td id=\"T_10ea2_row4_col1\" class=\"data row4 col1\" >5243</td>\n",
       "    </tr>\n",
       "    <tr>\n",
       "      <td id=\"T_10ea2_row5_col0\" class=\"data row5 col0\" >week_to</td>\n",
       "      <td id=\"T_10ea2_row5_col1\" class=\"data row5 col1\" >5243</td>\n",
       "    </tr>\n",
       "  </tbody>\n",
       "</table>\n"
      ],
      "text/plain": [
       "<pandas.io.formats.style.Styler at 0x2518e8b1700>"
      ]
     },
     "execution_count": 9,
     "metadata": {},
     "output_type": "execute_result"
    }
   ],
   "source": [
    "# return a dataframe of null values if any\n",
    "null_vals(vle)"
   ]
  },
  {
   "cell_type": "markdown",
   "id": "08f3800e-5852-4f02-ae5f-011c052ba407",
   "metadata": {},
   "source": [
    "**Duplicate Values**"
   ]
  },
  {
   "cell_type": "code",
   "execution_count": 10,
   "id": "265ee292-c099-4a50-bb90-c6ad88d5ebe3",
   "metadata": {
    "tags": [
     "remove_input"
    ]
   },
   "outputs": [
    {
     "data": {
      "text/markdown": [
       "There are no Duplicate Values"
      ],
      "text/plain": [
       "<IPython.core.display.Markdown object>"
      ]
     },
     "execution_count": 10,
     "metadata": {},
     "output_type": "execute_result"
    }
   ],
   "source": [
    "# return a dataframe of duplicate rows if any\n",
    "get_dupes(vle)"
   ]
  },
  {
   "cell_type": "markdown",
   "id": "854f81bd-5e17-4867-9075-d168e8e95543",
   "metadata": {},
   "source": [
    "**Unique Value Counts**"
   ]
  },
  {
   "cell_type": "code",
   "execution_count": 11,
   "id": "7464670b-60b0-4d80-a599-5fe4c14d16db",
   "metadata": {
    "tags": [
     "remove_input"
    ]
   },
   "outputs": [
    {
     "data": {
      "text/html": [
       "<style type=\"text/css\">\n",
       "#T_130d8_ td.col0 {\n",
       "  font-weight: bold;\n",
       "}\n",
       "</style>\n",
       "<table id=\"T_130d8_\">\n",
       "  <thead>\n",
       "    <tr>\n",
       "      <th class=\"col_heading level0 col0\" >index</th>\n",
       "      <th class=\"col_heading level0 col1\" >Count</th>\n",
       "    </tr>\n",
       "  </thead>\n",
       "  <tbody>\n",
       "    <tr>\n",
       "      <td id=\"T_130d8_row0_col0\" class=\"data row0 col0\" >id_site</td>\n",
       "      <td id=\"T_130d8_row0_col1\" class=\"data row0 col1\" >6364</td>\n",
       "    </tr>\n",
       "    <tr>\n",
       "      <td id=\"T_130d8_row1_col0\" class=\"data row1 col0\" >code_module</td>\n",
       "      <td id=\"T_130d8_row1_col1\" class=\"data row1 col1\" >7</td>\n",
       "    </tr>\n",
       "    <tr>\n",
       "      <td id=\"T_130d8_row2_col0\" class=\"data row2 col0\" >code_presentation</td>\n",
       "      <td id=\"T_130d8_row2_col1\" class=\"data row2 col1\" >4</td>\n",
       "    </tr>\n",
       "    <tr>\n",
       "      <td id=\"T_130d8_row3_col0\" class=\"data row3 col0\" >activity_type</td>\n",
       "      <td id=\"T_130d8_row3_col1\" class=\"data row3 col1\" >20</td>\n",
       "    </tr>\n",
       "    <tr>\n",
       "      <td id=\"T_130d8_row4_col0\" class=\"data row4 col0\" >week_from</td>\n",
       "      <td id=\"T_130d8_row4_col1\" class=\"data row4 col1\" >30</td>\n",
       "    </tr>\n",
       "    <tr>\n",
       "      <td id=\"T_130d8_row5_col0\" class=\"data row5 col0\" >week_to</td>\n",
       "      <td id=\"T_130d8_row5_col1\" class=\"data row5 col1\" >30</td>\n",
       "    </tr>\n",
       "  </tbody>\n",
       "</table>\n"
      ],
      "text/plain": [
       "<pandas.io.formats.style.Styler at 0x251a2115250>"
      ]
     },
     "execution_count": 11,
     "metadata": {},
     "output_type": "execute_result"
    }
   ],
   "source": [
    "# return a dataframe of counts of unique values per column\n",
    "count_unique(vle)"
   ]
  },
  {
   "cell_type": "markdown",
   "id": "e24869c5-607a-4d1c-9672-ee0c1752b81f",
   "metadata": {},
   "source": [
    "**Unique Categorical Values**"
   ]
  },
  {
   "cell_type": "code",
   "execution_count": 12,
   "id": "f1c4a7fb-d06a-46ec-a46c-ff62b08f560f",
   "metadata": {
    "tags": [
     "remove_input"
    ]
   },
   "outputs": [
    {
     "data": {
      "text/html": [
       "<style type=\"text/css\">\n",
       "#T_b2126_ td.col0 {\n",
       "  font-weight: bold;\n",
       "}\n",
       "</style>\n",
       "<table id=\"T_b2126_\">\n",
       "  <thead>\n",
       "    <tr>\n",
       "      <th class=\"col_heading level0 col0\" >index</th>\n",
       "      <th class=\"col_heading level0 col1\" >Values</th>\n",
       "    </tr>\n",
       "  </thead>\n",
       "  <tbody>\n",
       "    <tr>\n",
       "      <td id=\"T_b2126_row0_col0\" class=\"data row0 col0\" >code_module</td>\n",
       "      <td id=\"T_b2126_row0_col1\" class=\"data row0 col1\" >['AAA', 'BBB', 'CCC', 'DDD', 'EEE', 'FFF', 'GGG']</td>\n",
       "    </tr>\n",
       "    <tr>\n",
       "      <td id=\"T_b2126_row1_col0\" class=\"data row1 col0\" >code_presentation</td>\n",
       "      <td id=\"T_b2126_row1_col1\" class=\"data row1 col1\" >['2013J', '2014J', '2013B', '2014B']</td>\n",
       "    </tr>\n",
       "    <tr>\n",
       "      <td id=\"T_b2126_row2_col0\" class=\"data row2 col0\" >activity_type</td>\n",
       "      <td id=\"T_b2126_row2_col1\" class=\"data row2 col1\" >['resource', 'oucontent', 'url', 'homepage', 'subpage', 'glossary', 'forumng', 'oucollaborate', 'dataplus', 'quiz', 'ouelluminate', 'sharedsubpage', 'questionnaire', 'page', 'externalquiz', 'ouwiki', 'dualpane', 'repeatactivity', 'folder', 'htmlactivity']</td>\n",
       "    </tr>\n",
       "  </tbody>\n",
       "</table>\n"
      ],
      "text/plain": [
       "<pandas.io.formats.style.Styler at 0x251a21492e0>"
      ]
     },
     "execution_count": 12,
     "metadata": {},
     "output_type": "execute_result"
    }
   ],
   "source": [
    "# return a dataframe of unique categorical variables' values\n",
    "unique_vals(vle)"
   ]
  },
  {
   "cell_type": "markdown",
   "id": "44347094-5dd2-4eea-9787-df3fbc47f899",
   "metadata": {},
   "source": [
    "---\n",
    "\n",
    "## Student VLE Information"
   ]
  },
  {
   "cell_type": "markdown",
   "id": "dc2ec143-e6b4-4163-b3bb-8ad230ad9c71",
   "metadata": {},
   "source": [
    "**Data Types**"
   ]
  },
  {
   "cell_type": "code",
   "execution_count": 5,
   "id": "cab3f8c2-a00b-43de-9a8c-b376c54a1a1d",
   "metadata": {
    "tags": [
     "remove_input"
    ]
   },
   "outputs": [
    {
     "data": {
      "text/html": [
       "<style type=\"text/css\">\n",
       "#T_3637d_ td.col0 {\n",
       "  font-weight: bold;\n",
       "}\n",
       "</style>\n",
       "<table id=\"T_3637d_\">\n",
       "  <thead>\n",
       "    <tr>\n",
       "      <th class=\"col_heading level0 col0\" >index</th>\n",
       "      <th class=\"col_heading level0 col1\" >Type</th>\n",
       "    </tr>\n",
       "  </thead>\n",
       "  <tbody>\n",
       "    <tr>\n",
       "      <td id=\"T_3637d_row0_col0\" class=\"data row0 col0\" >code_module</td>\n",
       "      <td id=\"T_3637d_row0_col1\" class=\"data row0 col1\" >object</td>\n",
       "    </tr>\n",
       "    <tr>\n",
       "      <td id=\"T_3637d_row1_col0\" class=\"data row1 col0\" >code_presentation</td>\n",
       "      <td id=\"T_3637d_row1_col1\" class=\"data row1 col1\" >object</td>\n",
       "    </tr>\n",
       "    <tr>\n",
       "      <td id=\"T_3637d_row2_col0\" class=\"data row2 col0\" >id_student</td>\n",
       "      <td id=\"T_3637d_row2_col1\" class=\"data row2 col1\" >int64</td>\n",
       "    </tr>\n",
       "    <tr>\n",
       "      <td id=\"T_3637d_row3_col0\" class=\"data row3 col0\" >id_site</td>\n",
       "      <td id=\"T_3637d_row3_col1\" class=\"data row3 col1\" >int64</td>\n",
       "    </tr>\n",
       "    <tr>\n",
       "      <td id=\"T_3637d_row4_col0\" class=\"data row4 col0\" >date</td>\n",
       "      <td id=\"T_3637d_row4_col1\" class=\"data row4 col1\" >int64</td>\n",
       "    </tr>\n",
       "    <tr>\n",
       "      <td id=\"T_3637d_row5_col0\" class=\"data row5 col0\" >sum_click</td>\n",
       "      <td id=\"T_3637d_row5_col1\" class=\"data row5 col1\" >int64</td>\n",
       "    </tr>\n",
       "  </tbody>\n",
       "</table>\n"
      ],
      "text/plain": [
       "<pandas.io.formats.style.Styler at 0x264da44beb0>"
      ]
     },
     "execution_count": 5,
     "metadata": {},
     "output_type": "execute_result"
    }
   ],
   "source": [
    "get_dtypes(student_vle)"
   ]
  },
  {
   "cell_type": "code",
   "execution_count": 6,
   "id": "30f37fc1-6c0c-462a-a3d5-15ea96e25ecd",
   "metadata": {
    "tags": [
     "remove_cell"
    ]
   },
   "outputs": [],
   "source": [
    "student_vle = student_vle.astype({'id_site':str, 'id_student':str})\n",
    "student_vle = student_vle.convert_dtypes(convert_integer=False)"
   ]
  },
  {
   "cell_type": "markdown",
   "id": "f46a1fc4-fde9-412b-aed9-5ad7499a64c5",
   "metadata": {},
   "source": [
    "**Null Values**"
   ]
  },
  {
   "cell_type": "code",
   "execution_count": 7,
   "id": "78107f93-d910-420a-9d86-294a0343f600",
   "metadata": {
    "tags": [
     "remove_input"
    ]
   },
   "outputs": [
    {
     "data": {
      "text/html": [
       "<style type=\"text/css\">\n",
       "#T_311e2_ td.col0 {\n",
       "  font-weight: bold;\n",
       "}\n",
       "</style>\n",
       "<table id=\"T_311e2_\">\n",
       "  <thead>\n",
       "    <tr>\n",
       "      <th class=\"col_heading level0 col0\" >index</th>\n",
       "      <th class=\"col_heading level0 col1\" >Null Values</th>\n",
       "    </tr>\n",
       "  </thead>\n",
       "  <tbody>\n",
       "    <tr>\n",
       "      <td id=\"T_311e2_row0_col0\" class=\"data row0 col0\" >code_module</td>\n",
       "      <td id=\"T_311e2_row0_col1\" class=\"data row0 col1\" >0</td>\n",
       "    </tr>\n",
       "    <tr>\n",
       "      <td id=\"T_311e2_row1_col0\" class=\"data row1 col0\" >code_presentation</td>\n",
       "      <td id=\"T_311e2_row1_col1\" class=\"data row1 col1\" >0</td>\n",
       "    </tr>\n",
       "    <tr>\n",
       "      <td id=\"T_311e2_row2_col0\" class=\"data row2 col0\" >id_student</td>\n",
       "      <td id=\"T_311e2_row2_col1\" class=\"data row2 col1\" >0</td>\n",
       "    </tr>\n",
       "    <tr>\n",
       "      <td id=\"T_311e2_row3_col0\" class=\"data row3 col0\" >id_site</td>\n",
       "      <td id=\"T_311e2_row3_col1\" class=\"data row3 col1\" >0</td>\n",
       "    </tr>\n",
       "    <tr>\n",
       "      <td id=\"T_311e2_row4_col0\" class=\"data row4 col0\" >date</td>\n",
       "      <td id=\"T_311e2_row4_col1\" class=\"data row4 col1\" >0</td>\n",
       "    </tr>\n",
       "    <tr>\n",
       "      <td id=\"T_311e2_row5_col0\" class=\"data row5 col0\" >sum_click</td>\n",
       "      <td id=\"T_311e2_row5_col1\" class=\"data row5 col1\" >0</td>\n",
       "    </tr>\n",
       "  </tbody>\n",
       "</table>\n"
      ],
      "text/plain": [
       "<pandas.io.formats.style.Styler at 0x2648001cc70>"
      ]
     },
     "execution_count": 7,
     "metadata": {},
     "output_type": "execute_result"
    }
   ],
   "source": [
    "null_vals(student_vle)"
   ]
  },
  {
   "cell_type": "markdown",
   "id": "2c26b43c-2f39-487d-978d-e64c5cc387f6",
   "metadata": {},
   "source": [
    "**Duplicate Values**"
   ]
  },
  {
   "cell_type": "code",
   "execution_count": 8,
   "id": "8348cb4c-2caf-46f5-bbfe-5cdd7d0fb2b3",
   "metadata": {
    "tags": [
     "remove_input"
    ]
   },
   "outputs": [
    {
     "data": {
      "text/html": [
       "<div>\n",
       "<style scoped>\n",
       "    .dataframe tbody tr th:only-of-type {\n",
       "        vertical-align: middle;\n",
       "    }\n",
       "\n",
       "    .dataframe tbody tr th {\n",
       "        vertical-align: top;\n",
       "    }\n",
       "\n",
       "    .dataframe thead th {\n",
       "        text-align: right;\n",
       "    }\n",
       "</style>\n",
       "<table border=\"1\" class=\"dataframe\">\n",
       "  <thead>\n",
       "    <tr style=\"text-align: right;\">\n",
       "      <th></th>\n",
       "      <th>code_module</th>\n",
       "      <th>code_presentation</th>\n",
       "      <th>id_student</th>\n",
       "      <th>id_site</th>\n",
       "      <th>date</th>\n",
       "      <th>sum_click</th>\n",
       "    </tr>\n",
       "  </thead>\n",
       "  <tbody>\n",
       "    <tr>\n",
       "      <th>2</th>\n",
       "      <td>AAA</td>\n",
       "      <td>2013J</td>\n",
       "      <td>28400</td>\n",
       "      <td>546652</td>\n",
       "      <td>-10</td>\n",
       "      <td>1</td>\n",
       "    </tr>\n",
       "    <tr>\n",
       "      <th>63</th>\n",
       "      <td>AAA</td>\n",
       "      <td>2013J</td>\n",
       "      <td>45462</td>\n",
       "      <td>546652</td>\n",
       "      <td>-10</td>\n",
       "      <td>1</td>\n",
       "    </tr>\n",
       "    <tr>\n",
       "      <th>180</th>\n",
       "      <td>AAA</td>\n",
       "      <td>2013J</td>\n",
       "      <td>77367</td>\n",
       "      <td>546652</td>\n",
       "      <td>-10</td>\n",
       "      <td>4</td>\n",
       "    </tr>\n",
       "    <tr>\n",
       "      <th>193</th>\n",
       "      <td>AAA</td>\n",
       "      <td>2013J</td>\n",
       "      <td>94961</td>\n",
       "      <td>546652</td>\n",
       "      <td>-10</td>\n",
       "      <td>2</td>\n",
       "    </tr>\n",
       "    <tr>\n",
       "      <th>442</th>\n",
       "      <td>AAA</td>\n",
       "      <td>2013J</td>\n",
       "      <td>248270</td>\n",
       "      <td>546652</td>\n",
       "      <td>-10</td>\n",
       "      <td>4</td>\n",
       "    </tr>\n",
       "  </tbody>\n",
       "</table>\n",
       "</div>"
      ],
      "text/plain": [
       "    code_module code_presentation id_student id_site  date  sum_click\n",
       "2           AAA             2013J      28400  546652   -10          1\n",
       "63          AAA             2013J      45462  546652   -10          1\n",
       "180         AAA             2013J      77367  546652   -10          4\n",
       "193         AAA             2013J      94961  546652   -10          2\n",
       "442         AAA             2013J     248270  546652   -10          4"
      ]
     },
     "execution_count": 8,
     "metadata": {},
     "output_type": "execute_result"
    }
   ],
   "source": [
    "duplicates = get_dupes(student_vle)\n",
    "duplicates.head()"
   ]
  },
  {
   "cell_type": "code",
   "execution_count": 13,
   "id": "d01e79c4-066d-4482-a918-279b2d2e5417",
   "metadata": {
    "tags": [
     "remove_input"
    ]
   },
   "outputs": [
    {
     "data": {
      "text/markdown": [
       "\n",
       "There are 787,170 duplicated rows which are merely the same students on the same day, interacting with the same material in the same way, which is to be expected.\n"
      ],
      "text/plain": [
       "<IPython.core.display.Markdown object>"
      ]
     },
     "execution_count": 13,
     "metadata": {},
     "output_type": "execute_result"
    }
   ],
   "source": [
    "md(f'''\n",
    "There are {\"{:,}\".format(len(duplicates))} duplicated rows which are merely the same students on the same day, interacting with the same material in the same way, which is to be expected.\n",
    "''')"
   ]
  },
  {
   "cell_type": "markdown",
   "id": "10dff752-264d-483f-9214-b0c32be9afcd",
   "metadata": {},
   "source": [
    "**Unique Value Counts**"
   ]
  },
  {
   "cell_type": "code",
   "execution_count": 10,
   "id": "16063fd1-a0c5-4a28-9486-810ef4288c42",
   "metadata": {
    "tags": [
     "remove_input"
    ]
   },
   "outputs": [
    {
     "data": {
      "text/html": [
       "<style type=\"text/css\">\n",
       "#T_7c5c7_ td.col0 {\n",
       "  font-weight: bold;\n",
       "}\n",
       "</style>\n",
       "<table id=\"T_7c5c7_\">\n",
       "  <thead>\n",
       "    <tr>\n",
       "      <th class=\"col_heading level0 col0\" >index</th>\n",
       "      <th class=\"col_heading level0 col1\" >Count</th>\n",
       "    </tr>\n",
       "  </thead>\n",
       "  <tbody>\n",
       "    <tr>\n",
       "      <td id=\"T_7c5c7_row0_col0\" class=\"data row0 col0\" >code_module</td>\n",
       "      <td id=\"T_7c5c7_row0_col1\" class=\"data row0 col1\" >7</td>\n",
       "    </tr>\n",
       "    <tr>\n",
       "      <td id=\"T_7c5c7_row1_col0\" class=\"data row1 col0\" >code_presentation</td>\n",
       "      <td id=\"T_7c5c7_row1_col1\" class=\"data row1 col1\" >4</td>\n",
       "    </tr>\n",
       "    <tr>\n",
       "      <td id=\"T_7c5c7_row2_col0\" class=\"data row2 col0\" >id_student</td>\n",
       "      <td id=\"T_7c5c7_row2_col1\" class=\"data row2 col1\" >26074</td>\n",
       "    </tr>\n",
       "    <tr>\n",
       "      <td id=\"T_7c5c7_row3_col0\" class=\"data row3 col0\" >id_site</td>\n",
       "      <td id=\"T_7c5c7_row3_col1\" class=\"data row3 col1\" >6268</td>\n",
       "    </tr>\n",
       "    <tr>\n",
       "      <td id=\"T_7c5c7_row4_col0\" class=\"data row4 col0\" >date</td>\n",
       "      <td id=\"T_7c5c7_row4_col1\" class=\"data row4 col1\" >295</td>\n",
       "    </tr>\n",
       "    <tr>\n",
       "      <td id=\"T_7c5c7_row5_col0\" class=\"data row5 col0\" >sum_click</td>\n",
       "      <td id=\"T_7c5c7_row5_col1\" class=\"data row5 col1\" >498</td>\n",
       "    </tr>\n",
       "  </tbody>\n",
       "</table>\n"
      ],
      "text/plain": [
       "<pandas.io.formats.style.Styler at 0x264801deb80>"
      ]
     },
     "execution_count": 10,
     "metadata": {},
     "output_type": "execute_result"
    }
   ],
   "source": [
    "count_unique(student_vle)"
   ]
  },
  {
   "cell_type": "code",
   "execution_count": 15,
   "id": "c2c8a273-7e9d-43cc-b2cf-dca2582c9420",
   "metadata": {
    "tags": [
     "remove_input"
    ]
   },
   "outputs": [
    {
     "data": {
      "text/markdown": [
       "\n",
       "There are 26,074 in the student_vle out of the 28,785 \n",
       "students we have in student info. So 2,711 students from student info do not have online interaction data.\n"
      ],
      "text/plain": [
       "<IPython.core.display.Markdown object>"
      ]
     },
     "execution_count": 15,
     "metadata": {},
     "output_type": "execute_result"
    }
   ],
   "source": [
    "unique_students = student_vle['id_student'].nunique()\n",
    "si_unique_students = student_info['id_student'].nunique()\n",
    "md(f'''\n",
    "There are {\"{:,}\".format(unique_students)} in the student_vle out of the {\"{:,}\".format(si_unique_students)} \n",
    "students we have in student info. So {\"{:,}\".format(si_unique_students - unique_students)} students from student info do not have online interaction data.\n",
    "''')"
   ]
  },
  {
   "cell_type": "markdown",
   "id": "594e47e9-9739-4082-b943-c6f9c0be63d0",
   "metadata": {},
   "source": [
    "**Numerical Values**"
   ]
  },
  {
   "cell_type": "code",
   "execution_count": 11,
   "id": "aeae9f5f-97ef-4420-b8d6-2721381a099b",
   "metadata": {
    "tags": [
     "remove_input"
    ]
   },
   "outputs": [
    {
     "data": {
      "text/html": [
       "<div>\n",
       "<style scoped>\n",
       "    .dataframe tbody tr th:only-of-type {\n",
       "        vertical-align: middle;\n",
       "    }\n",
       "\n",
       "    .dataframe tbody tr th {\n",
       "        vertical-align: top;\n",
       "    }\n",
       "\n",
       "    .dataframe thead th {\n",
       "        text-align: right;\n",
       "    }\n",
       "</style>\n",
       "<table border=\"1\" class=\"dataframe\">\n",
       "  <thead>\n",
       "    <tr style=\"text-align: right;\">\n",
       "      <th></th>\n",
       "      <th>date</th>\n",
       "      <th>sum_click</th>\n",
       "    </tr>\n",
       "  </thead>\n",
       "  <tbody>\n",
       "    <tr>\n",
       "      <th>count</th>\n",
       "      <td>10655280.0</td>\n",
       "      <td>10655280.0</td>\n",
       "    </tr>\n",
       "    <tr>\n",
       "      <th>mean</th>\n",
       "      <td>95.2</td>\n",
       "      <td>3.7</td>\n",
       "    </tr>\n",
       "    <tr>\n",
       "      <th>std</th>\n",
       "      <td>76.1</td>\n",
       "      <td>8.8</td>\n",
       "    </tr>\n",
       "    <tr>\n",
       "      <th>min</th>\n",
       "      <td>-25.0</td>\n",
       "      <td>1.0</td>\n",
       "    </tr>\n",
       "    <tr>\n",
       "      <th>25%</th>\n",
       "      <td>25.0</td>\n",
       "      <td>1.0</td>\n",
       "    </tr>\n",
       "    <tr>\n",
       "      <th>50%</th>\n",
       "      <td>86.0</td>\n",
       "      <td>2.0</td>\n",
       "    </tr>\n",
       "    <tr>\n",
       "      <th>75%</th>\n",
       "      <td>156.0</td>\n",
       "      <td>3.0</td>\n",
       "    </tr>\n",
       "    <tr>\n",
       "      <th>max</th>\n",
       "      <td>269.0</td>\n",
       "      <td>6977.0</td>\n",
       "    </tr>\n",
       "  </tbody>\n",
       "</table>\n",
       "</div>"
      ],
      "text/plain": [
       "             date   sum_click\n",
       "count  10655280.0  10655280.0\n",
       "mean         95.2         3.7\n",
       "std          76.1         8.8\n",
       "min         -25.0         1.0\n",
       "25%          25.0         1.0\n",
       "50%          86.0         2.0\n",
       "75%         156.0         3.0\n",
       "max         269.0      6977.0"
      ]
     },
     "execution_count": 11,
     "metadata": {},
     "output_type": "execute_result"
    }
   ],
   "source": [
    "student_vle.describe().round(1)"
   ]
  },
  {
   "cell_type": "code",
   "execution_count": null,
   "id": "bf151102-6e98-4395-81a2-a9f1022ea2c3",
   "metadata": {},
   "outputs": [],
   "source": []
  }
 ],
 "metadata": {
  "kernelspec": {
   "display_name": "Python 3",
   "language": "python",
   "name": "python3"
  },
  "language_info": {
   "codemirror_mode": {
    "name": "ipython",
    "version": 3
   },
   "file_extension": ".py",
   "mimetype": "text/x-python",
   "name": "python",
   "nbconvert_exporter": "python",
   "pygments_lexer": "ipython3",
   "version": "3.9.6"
  }
 },
 "nbformat": 4,
 "nbformat_minor": 5
}
