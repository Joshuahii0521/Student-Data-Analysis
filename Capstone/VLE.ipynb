{
 "cells": [
  {
   "cell_type": "code",
   "execution_count": 1,
   "id": "e0584e52-bb7f-49c4-9736-3f11af522a45",
   "metadata": {
    "tags": [
     "remove_cell"
    ]
   },
   "outputs": [],
   "source": [
    "from functions import *"
   ]
  },
  {
   "cell_type": "markdown",
   "id": "1eeba669-58b5-49bf-acd5-7b0684a50a4d",
   "metadata": {},
   "source": [
    "# VLE\n",
    "---\n",
    "\n",
    "The VLE dataframe contains information about materials available on the Virtual Learning Environment."
   ]
  },
  {
   "cell_type": "code",
   "execution_count": 26,
   "id": "4c3239f1-bd2f-4635-839a-2a358a55ce89",
   "metadata": {
    "tags": [
     "remove_input"
    ]
   },
   "outputs": [
    {
     "data": {
      "text/html": [
       "<div>\n",
       "<style scoped>\n",
       "    .dataframe tbody tr th:only-of-type {\n",
       "        vertical-align: middle;\n",
       "    }\n",
       "\n",
       "    .dataframe tbody tr th {\n",
       "        vertical-align: top;\n",
       "    }\n",
       "\n",
       "    .dataframe thead th {\n",
       "        text-align: right;\n",
       "    }\n",
       "</style>\n",
       "<table border=\"1\" class=\"dataframe\">\n",
       "  <thead>\n",
       "    <tr style=\"text-align: right;\">\n",
       "      <th></th>\n",
       "      <th>id_site</th>\n",
       "      <th>code_module</th>\n",
       "      <th>code_presentation</th>\n",
       "      <th>activity_type</th>\n",
       "    </tr>\n",
       "  </thead>\n",
       "  <tbody>\n",
       "    <tr>\n",
       "      <th>0</th>\n",
       "      <td>546943</td>\n",
       "      <td>AAA</td>\n",
       "      <td>2013J</td>\n",
       "      <td>resource</td>\n",
       "    </tr>\n",
       "    <tr>\n",
       "      <th>1</th>\n",
       "      <td>546712</td>\n",
       "      <td>AAA</td>\n",
       "      <td>2013J</td>\n",
       "      <td>oucontent</td>\n",
       "    </tr>\n",
       "    <tr>\n",
       "      <th>2</th>\n",
       "      <td>546998</td>\n",
       "      <td>AAA</td>\n",
       "      <td>2013J</td>\n",
       "      <td>resource</td>\n",
       "    </tr>\n",
       "    <tr>\n",
       "      <th>3</th>\n",
       "      <td>546888</td>\n",
       "      <td>AAA</td>\n",
       "      <td>2013J</td>\n",
       "      <td>url</td>\n",
       "    </tr>\n",
       "    <tr>\n",
       "      <th>4</th>\n",
       "      <td>547035</td>\n",
       "      <td>AAA</td>\n",
       "      <td>2013J</td>\n",
       "      <td>resource</td>\n",
       "    </tr>\n",
       "  </tbody>\n",
       "</table>\n",
       "</div>"
      ],
      "text/plain": [
       "  id_site code_module code_presentation activity_type\n",
       "0  546943         AAA             2013J      resource\n",
       "1  546712         AAA             2013J     oucontent\n",
       "2  546998         AAA             2013J      resource\n",
       "3  546888         AAA             2013J           url\n",
       "4  547035         AAA             2013J      resource"
      ]
     },
     "execution_count": 26,
     "metadata": {},
     "output_type": "execute_result"
    }
   ],
   "source": [
    "# show first 5 of vle dataframe\n",
    "vle.head()"
   ]
  },
  {
   "cell_type": "markdown",
   "id": "06b7a968-b09b-4c65-a535-8abe78845caa",
   "metadata": {},
   "source": [
    "---\n",
    "\n",
    "## VLE Contents\n",
    "\n",
    "* **id_site**: The site ID is the unique identifier for the online resource.\n",
    "* **code_module**: The code module is the module the resource is associated with.\n",
    "* **code_presentation**: The code presentation represents the time the module was held at.\n",
    "* **activity_type**: The activity type is the type of online material.\n",
    "* **week_from**: The week from is the week the material was intended to be used from.\n",
    "    - week_from will not be used in our analysis due to it being irrelevant information and will be dropped.\n",
    "* **week_to**: The week to is the week the material was intended to be used until.\n",
    "    - week_to will not be used in our analysis due to it being irrelevant information and will be dropped."
   ]
  },
  {
   "cell_type": "code",
   "execution_count": 3,
   "id": "68f8bf9a-12fd-4909-b307-46bbf2f4cbe9",
   "metadata": {
    "tags": [
     "remove_cell"
    ]
   },
   "outputs": [],
   "source": [
    "# dropping week_to and week_from from VLE dataframe\n",
    "vle = vle.drop(columns=['week_from', 'week_to'])"
   ]
  },
  {
   "cell_type": "markdown",
   "id": "b6330afb-7a82-4601-8ec8-70aca6444c1c",
   "metadata": {},
   "source": [
    "---\n",
    "\n",
    "## VLE Information"
   ]
  },
  {
   "cell_type": "markdown",
   "id": "f3610365-e80c-415b-ac3c-bad92a9b11dd",
   "metadata": {},
   "source": [
    "**Size**"
   ]
  },
  {
   "cell_type": "code",
   "execution_count": 9,
   "id": "8cfa612e-b3c9-4c42-96a9-72f4bd2a477e",
   "metadata": {
    "tags": [
     "remove_input"
    ]
   },
   "outputs": [
    {
     "data": {
      "text/html": [
       "<div>\n",
       "<style scoped>\n",
       "    .dataframe tbody tr th:only-of-type {\n",
       "        vertical-align: middle;\n",
       "    }\n",
       "\n",
       "    .dataframe tbody tr th {\n",
       "        vertical-align: top;\n",
       "    }\n",
       "\n",
       "    .dataframe thead th {\n",
       "        text-align: right;\n",
       "    }\n",
       "</style>\n",
       "<table border=\"1\" class=\"dataframe\">\n",
       "  <thead>\n",
       "    <tr style=\"text-align: right;\">\n",
       "      <th></th>\n",
       "      <th>Count</th>\n",
       "    </tr>\n",
       "  </thead>\n",
       "  <tbody>\n",
       "    <tr>\n",
       "      <th>Columns</th>\n",
       "      <td>4</td>\n",
       "    </tr>\n",
       "    <tr>\n",
       "      <th>Rows</th>\n",
       "      <td>6364</td>\n",
       "    </tr>\n",
       "  </tbody>\n",
       "</table>\n",
       "</div>"
      ],
      "text/plain": [
       "         Count\n",
       "Columns      4\n",
       "Rows      6364"
      ]
     },
     "execution_count": 9,
     "metadata": {},
     "output_type": "execute_result"
    }
   ],
   "source": [
    "# return a dataframe of column and row count\n",
    "get_size(vle)"
   ]
  },
  {
   "cell_type": "code",
   "execution_count": 12,
   "id": "330c00b1-0321-41e9-9dd2-89c76d755a8e",
   "metadata": {
    "tags": [
     "remove_input"
    ]
   },
   "outputs": [
    {
     "data": {
      "text/markdown": [
       "\n",
       "VLE has 4 columns and 6,364 rows which represent the online resources we have data for.\n"
      ],
      "text/plain": [
       "<IPython.core.display.Markdown object>"
      ]
     },
     "execution_count": 12,
     "metadata": {},
     "output_type": "execute_result"
    }
   ],
   "source": [
    "# store the size of vle's columns\n",
    "vle_cols = len(vle.columns)\n",
    "# store the size of vle's rows\n",
    "vle_rows = len(vle)\n",
    "md(f'''\n",
    "VLE has {vle_cols} columns and {\"{:,}\".format(vle_rows)} rows which represent the online resources we have data for.\n",
    "''')"
   ]
  },
  {
   "cell_type": "markdown",
   "id": "3300886a-d017-475b-8f37-973ce0bcc391",
   "metadata": {},
   "source": [
    "**Data Types**"
   ]
  },
  {
   "cell_type": "code",
   "execution_count": 14,
   "id": "d40a39ef-4d29-4e51-bba1-06758e733f71",
   "metadata": {
    "tags": [
     "remove_input"
    ]
   },
   "outputs": [
    {
     "data": {
      "text/html": [
       "<style type=\"text/css\">\n",
       "#T_d1e3e_ td.col0 {\n",
       "  font-weight: bold;\n",
       "}\n",
       "</style>\n",
       "<table id=\"T_d1e3e_\">\n",
       "  <thead>\n",
       "    <tr>\n",
       "      <th class=\"col_heading level0 col0\" >index</th>\n",
       "      <th class=\"col_heading level0 col1\" >Type</th>\n",
       "    </tr>\n",
       "  </thead>\n",
       "  <tbody>\n",
       "    <tr>\n",
       "      <td id=\"T_d1e3e_row0_col0\" class=\"data row0 col0\" >id_site</td>\n",
       "      <td id=\"T_d1e3e_row0_col1\" class=\"data row0 col1\" >int64</td>\n",
       "    </tr>\n",
       "    <tr>\n",
       "      <td id=\"T_d1e3e_row1_col0\" class=\"data row1 col0\" >code_module</td>\n",
       "      <td id=\"T_d1e3e_row1_col1\" class=\"data row1 col1\" >object</td>\n",
       "    </tr>\n",
       "    <tr>\n",
       "      <td id=\"T_d1e3e_row2_col0\" class=\"data row2 col0\" >code_presentation</td>\n",
       "      <td id=\"T_d1e3e_row2_col1\" class=\"data row2 col1\" >object</td>\n",
       "    </tr>\n",
       "    <tr>\n",
       "      <td id=\"T_d1e3e_row3_col0\" class=\"data row3 col0\" >activity_type</td>\n",
       "      <td id=\"T_d1e3e_row3_col1\" class=\"data row3 col1\" >object</td>\n",
       "    </tr>\n",
       "  </tbody>\n",
       "</table>\n"
      ],
      "text/plain": [
       "<pandas.io.formats.style.Styler at 0x2149edd4280>"
      ]
     },
     "execution_count": 14,
     "metadata": {},
     "output_type": "execute_result"
    }
   ],
   "source": [
    "# return a dataframe of vle's columns' data types\n",
    "get_dtypes(vle)"
   ]
  },
  {
   "cell_type": "markdown",
   "id": "3cc5f92a-950b-444d-9be4-b3459c77310f",
   "metadata": {},
   "source": [
    "* `id_site` is categorical and will need to be changed into a `string`\n",
    "* `object` datatypes will again be turned into strings"
   ]
  },
  {
   "cell_type": "code",
   "execution_count": 18,
   "id": "3d53c7fd-f40b-458b-bc6c-26784f9d09e7",
   "metadata": {
    "tags": [
     "remove_cell"
    ]
   },
   "outputs": [
    {
     "data": {
      "text/html": [
       "<style type=\"text/css\">\n",
       "#T_298f5_ td.col0 {\n",
       "  font-weight: bold;\n",
       "}\n",
       "</style>\n",
       "<table id=\"T_298f5_\">\n",
       "  <thead>\n",
       "    <tr>\n",
       "      <th class=\"col_heading level0 col0\" >index</th>\n",
       "      <th class=\"col_heading level0 col1\" >Type</th>\n",
       "    </tr>\n",
       "  </thead>\n",
       "  <tbody>\n",
       "    <tr>\n",
       "      <td id=\"T_298f5_row0_col0\" class=\"data row0 col0\" >id_site</td>\n",
       "      <td id=\"T_298f5_row0_col1\" class=\"data row0 col1\" >string</td>\n",
       "    </tr>\n",
       "    <tr>\n",
       "      <td id=\"T_298f5_row1_col0\" class=\"data row1 col0\" >code_module</td>\n",
       "      <td id=\"T_298f5_row1_col1\" class=\"data row1 col1\" >string</td>\n",
       "    </tr>\n",
       "    <tr>\n",
       "      <td id=\"T_298f5_row2_col0\" class=\"data row2 col0\" >code_presentation</td>\n",
       "      <td id=\"T_298f5_row2_col1\" class=\"data row2 col1\" >string</td>\n",
       "    </tr>\n",
       "    <tr>\n",
       "      <td id=\"T_298f5_row3_col0\" class=\"data row3 col0\" >activity_type</td>\n",
       "      <td id=\"T_298f5_row3_col1\" class=\"data row3 col1\" >string</td>\n",
       "    </tr>\n",
       "  </tbody>\n",
       "</table>\n"
      ],
      "text/plain": [
       "<pandas.io.formats.style.Styler at 0x2149edd4640>"
      ]
     },
     "execution_count": 18,
     "metadata": {},
     "output_type": "execute_result"
    }
   ],
   "source": [
    "# change id_site to string type\n",
    "vle['id_site'] = vle['id_site'].astype(str)\n",
    "# convert all other types to ideal typings for pandas\n",
    "vle = vle.convert_dtypes()\n",
    "# show new datatypes dataframe\n",
    "get_dtypes(vle)"
   ]
  },
  {
   "cell_type": "markdown",
   "id": "ad6a444e-c6d3-4476-ad08-9cbda3460efd",
   "metadata": {},
   "source": [
    "**Null Values**"
   ]
  },
  {
   "cell_type": "code",
   "execution_count": 19,
   "id": "34c46f49-1493-47d5-80c9-fb28e28bd630",
   "metadata": {
    "tags": [
     "remove_input"
    ]
   },
   "outputs": [
    {
     "data": {
      "text/html": [
       "<style type=\"text/css\">\n",
       "#T_7c6da_ td.col0 {\n",
       "  font-weight: bold;\n",
       "}\n",
       "</style>\n",
       "<table id=\"T_7c6da_\">\n",
       "  <thead>\n",
       "    <tr>\n",
       "      <th class=\"col_heading level0 col0\" >index</th>\n",
       "      <th class=\"col_heading level0 col1\" >Null Values</th>\n",
       "    </tr>\n",
       "  </thead>\n",
       "  <tbody>\n",
       "    <tr>\n",
       "      <td id=\"T_7c6da_row0_col0\" class=\"data row0 col0\" >id_site</td>\n",
       "      <td id=\"T_7c6da_row0_col1\" class=\"data row0 col1\" >0</td>\n",
       "    </tr>\n",
       "    <tr>\n",
       "      <td id=\"T_7c6da_row1_col0\" class=\"data row1 col0\" >code_module</td>\n",
       "      <td id=\"T_7c6da_row1_col1\" class=\"data row1 col1\" >0</td>\n",
       "    </tr>\n",
       "    <tr>\n",
       "      <td id=\"T_7c6da_row2_col0\" class=\"data row2 col0\" >code_presentation</td>\n",
       "      <td id=\"T_7c6da_row2_col1\" class=\"data row2 col1\" >0</td>\n",
       "    </tr>\n",
       "    <tr>\n",
       "      <td id=\"T_7c6da_row3_col0\" class=\"data row3 col0\" >activity_type</td>\n",
       "      <td id=\"T_7c6da_row3_col1\" class=\"data row3 col1\" >0</td>\n",
       "    </tr>\n",
       "  </tbody>\n",
       "</table>\n"
      ],
      "text/plain": [
       "<pandas.io.formats.style.Styler at 0x2149edd42e0>"
      ]
     },
     "execution_count": 19,
     "metadata": {},
     "output_type": "execute_result"
    }
   ],
   "source": [
    "# return a dataframe of null values if any\n",
    "null_vals(vle)"
   ]
  },
  {
   "cell_type": "markdown",
   "id": "08f3800e-5852-4f02-ae5f-011c052ba407",
   "metadata": {},
   "source": [
    "**Duplicate Values**"
   ]
  },
  {
   "cell_type": "code",
   "execution_count": 20,
   "id": "265ee292-c099-4a50-bb90-c6ad88d5ebe3",
   "metadata": {
    "tags": [
     "remove_input"
    ]
   },
   "outputs": [
    {
     "data": {
      "text/markdown": [
       "There are no Duplicate Values"
      ],
      "text/plain": [
       "<IPython.core.display.Markdown object>"
      ]
     },
     "execution_count": 20,
     "metadata": {},
     "output_type": "execute_result"
    }
   ],
   "source": [
    "# return a dataframe of duplicate rows if any\n",
    "get_dupes(vle)"
   ]
  },
  {
   "cell_type": "markdown",
   "id": "854f81bd-5e17-4867-9075-d168e8e95543",
   "metadata": {},
   "source": [
    "**Unique Value Counts**"
   ]
  },
  {
   "cell_type": "code",
   "execution_count": 22,
   "id": "7464670b-60b0-4d80-a599-5fe4c14d16db",
   "metadata": {
    "tags": [
     "remove_input"
    ]
   },
   "outputs": [
    {
     "data": {
      "text/html": [
       "<style type=\"text/css\">\n",
       "#T_8dab2_ td.col0 {\n",
       "  font-weight: bold;\n",
       "}\n",
       "</style>\n",
       "<table id=\"T_8dab2_\">\n",
       "  <thead>\n",
       "    <tr>\n",
       "      <th class=\"col_heading level0 col0\" >index</th>\n",
       "      <th class=\"col_heading level0 col1\" >Count</th>\n",
       "    </tr>\n",
       "  </thead>\n",
       "  <tbody>\n",
       "    <tr>\n",
       "      <td id=\"T_8dab2_row0_col0\" class=\"data row0 col0\" >id_site</td>\n",
       "      <td id=\"T_8dab2_row0_col1\" class=\"data row0 col1\" >6364</td>\n",
       "    </tr>\n",
       "    <tr>\n",
       "      <td id=\"T_8dab2_row1_col0\" class=\"data row1 col0\" >code_module</td>\n",
       "      <td id=\"T_8dab2_row1_col1\" class=\"data row1 col1\" >7</td>\n",
       "    </tr>\n",
       "    <tr>\n",
       "      <td id=\"T_8dab2_row2_col0\" class=\"data row2 col0\" >code_presentation</td>\n",
       "      <td id=\"T_8dab2_row2_col1\" class=\"data row2 col1\" >4</td>\n",
       "    </tr>\n",
       "    <tr>\n",
       "      <td id=\"T_8dab2_row3_col0\" class=\"data row3 col0\" >activity_type</td>\n",
       "      <td id=\"T_8dab2_row3_col1\" class=\"data row3 col1\" >20</td>\n",
       "    </tr>\n",
       "  </tbody>\n",
       "</table>\n"
      ],
      "text/plain": [
       "<pandas.io.formats.style.Styler at 0x2149ed46520>"
      ]
     },
     "execution_count": 22,
     "metadata": {},
     "output_type": "execute_result"
    }
   ],
   "source": [
    "# return a dataframe of counts of unique values per column\n",
    "count_unique(vle)"
   ]
  },
  {
   "cell_type": "markdown",
   "id": "e24869c5-607a-4d1c-9672-ee0c1752b81f",
   "metadata": {},
   "source": [
    "**Unique Categorical Values**"
   ]
  },
  {
   "cell_type": "code",
   "execution_count": 25,
   "id": "f1c4a7fb-d06a-46ec-a46c-ff62b08f560f",
   "metadata": {
    "tags": [
     "remove_input"
    ]
   },
   "outputs": [
    {
     "data": {
      "text/html": [
       "<style type=\"text/css\">\n",
       "#T_9b0b3_ td.col0 {\n",
       "  font-weight: bold;\n",
       "}\n",
       "</style>\n",
       "<table id=\"T_9b0b3_\">\n",
       "  <thead>\n",
       "    <tr>\n",
       "      <th class=\"col_heading level0 col0\" >index</th>\n",
       "      <th class=\"col_heading level0 col1\" >Values</th>\n",
       "    </tr>\n",
       "  </thead>\n",
       "  <tbody>\n",
       "    <tr>\n",
       "      <td id=\"T_9b0b3_row0_col0\" class=\"data row0 col0\" >code_module</td>\n",
       "      <td id=\"T_9b0b3_row0_col1\" class=\"data row0 col1\" >['AAA', 'BBB', 'CCC', 'DDD', 'EEE', 'FFF', 'GGG']</td>\n",
       "    </tr>\n",
       "    <tr>\n",
       "      <td id=\"T_9b0b3_row1_col0\" class=\"data row1 col0\" >code_presentation</td>\n",
       "      <td id=\"T_9b0b3_row1_col1\" class=\"data row1 col1\" >['2013J', '2014J', '2013B', '2014B']</td>\n",
       "    </tr>\n",
       "    <tr>\n",
       "      <td id=\"T_9b0b3_row2_col0\" class=\"data row2 col0\" >activity_type</td>\n",
       "      <td id=\"T_9b0b3_row2_col1\" class=\"data row2 col1\" >['resource', 'oucontent', 'url', 'homepage', 'subpage', 'glossary', 'forumng', 'oucollaborate', 'dataplus', 'quiz', 'ouelluminate', 'sharedsubpage', 'questionnaire', 'page', 'externalquiz', 'ouwiki', 'dualpane', 'repeatactivity', 'folder', 'htmlactivity']</td>\n",
       "    </tr>\n",
       "  </tbody>\n",
       "</table>\n"
      ],
      "text/plain": [
       "<pandas.io.formats.style.Styler at 0x2149fcaf1f0>"
      ]
     },
     "execution_count": 25,
     "metadata": {},
     "output_type": "execute_result"
    }
   ],
   "source": [
    "# return a dataframe of unique categorical variables' values\n",
    "unique_vals(vle)"
   ]
  },
  {
   "cell_type": "code",
   "execution_count": null,
   "id": "97629a33-c2a0-412b-8cb3-445b05eaa0a0",
   "metadata": {},
   "outputs": [],
   "source": []
  }
 ],
 "metadata": {
  "kernelspec": {
   "display_name": "Python 3",
   "language": "python",
   "name": "python3"
  },
  "language_info": {
   "codemirror_mode": {
    "name": "ipython",
    "version": 3
   },
   "file_extension": ".py",
   "mimetype": "text/x-python",
   "name": "python",
   "nbconvert_exporter": "python",
   "pygments_lexer": "ipython3",
   "version": "3.9.6"
  }
 },
 "nbformat": 4,
 "nbformat_minor": 5
}
