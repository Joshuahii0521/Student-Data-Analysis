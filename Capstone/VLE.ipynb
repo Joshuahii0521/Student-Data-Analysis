{
 "cells": [
  {
   "cell_type": "code",
   "execution_count": 1,
   "id": "e0584e52-bb7f-49c4-9736-3f11af522a45",
   "metadata": {},
   "outputs": [],
   "source": [
    "from functions import *"
   ]
  },
  {
   "cell_type": "markdown",
   "id": "1eeba669-58b5-49bf-acd5-7b0684a50a4d",
   "metadata": {},
   "source": [
    "# VLE\n",
    "---\n",
    "\n",
    "The VLE dataframe contains information about materials available on the Virtual Learning Environment."
   ]
  },
  {
   "cell_type": "code",
   "execution_count": 2,
   "id": "4c3239f1-bd2f-4635-839a-2a358a55ce89",
   "metadata": {},
   "outputs": [
    {
     "data": {
      "text/html": [
       "<div>\n",
       "<style scoped>\n",
       "    .dataframe tbody tr th:only-of-type {\n",
       "        vertical-align: middle;\n",
       "    }\n",
       "\n",
       "    .dataframe tbody tr th {\n",
       "        vertical-align: top;\n",
       "    }\n",
       "\n",
       "    .dataframe thead th {\n",
       "        text-align: right;\n",
       "    }\n",
       "</style>\n",
       "<table border=\"1\" class=\"dataframe\">\n",
       "  <thead>\n",
       "    <tr style=\"text-align: right;\">\n",
       "      <th></th>\n",
       "      <th>id_site</th>\n",
       "      <th>code_module</th>\n",
       "      <th>code_presentation</th>\n",
       "      <th>activity_type</th>\n",
       "      <th>week_from</th>\n",
       "      <th>week_to</th>\n",
       "    </tr>\n",
       "  </thead>\n",
       "  <tbody>\n",
       "    <tr>\n",
       "      <th>0</th>\n",
       "      <td>546943</td>\n",
       "      <td>AAA</td>\n",
       "      <td>2013J</td>\n",
       "      <td>resource</td>\n",
       "      <td>NaN</td>\n",
       "      <td>NaN</td>\n",
       "    </tr>\n",
       "    <tr>\n",
       "      <th>1</th>\n",
       "      <td>546712</td>\n",
       "      <td>AAA</td>\n",
       "      <td>2013J</td>\n",
       "      <td>oucontent</td>\n",
       "      <td>NaN</td>\n",
       "      <td>NaN</td>\n",
       "    </tr>\n",
       "    <tr>\n",
       "      <th>2</th>\n",
       "      <td>546998</td>\n",
       "      <td>AAA</td>\n",
       "      <td>2013J</td>\n",
       "      <td>resource</td>\n",
       "      <td>NaN</td>\n",
       "      <td>NaN</td>\n",
       "    </tr>\n",
       "    <tr>\n",
       "      <th>3</th>\n",
       "      <td>546888</td>\n",
       "      <td>AAA</td>\n",
       "      <td>2013J</td>\n",
       "      <td>url</td>\n",
       "      <td>NaN</td>\n",
       "      <td>NaN</td>\n",
       "    </tr>\n",
       "    <tr>\n",
       "      <th>4</th>\n",
       "      <td>547035</td>\n",
       "      <td>AAA</td>\n",
       "      <td>2013J</td>\n",
       "      <td>resource</td>\n",
       "      <td>NaN</td>\n",
       "      <td>NaN</td>\n",
       "    </tr>\n",
       "  </tbody>\n",
       "</table>\n",
       "</div>"
      ],
      "text/plain": [
       "   id_site code_module code_presentation activity_type  week_from  week_to\n",
       "0   546943         AAA             2013J      resource        NaN      NaN\n",
       "1   546712         AAA             2013J     oucontent        NaN      NaN\n",
       "2   546998         AAA             2013J      resource        NaN      NaN\n",
       "3   546888         AAA             2013J           url        NaN      NaN\n",
       "4   547035         AAA             2013J      resource        NaN      NaN"
      ]
     },
     "execution_count": 2,
     "metadata": {},
     "output_type": "execute_result"
    }
   ],
   "source": [
    "vle.head()"
   ]
  },
  {
   "cell_type": "markdown",
   "id": "06b7a968-b09b-4c65-a535-8abe78845caa",
   "metadata": {},
   "source": [
    "---\n",
    "\n",
    "## VLE Contents\n",
    "\n",
    "* **id_site**: The site ID is the unique identifier for the online resource.\n",
    "* **code_module**: The code module is the module the resource is associated with.\n",
    "* **code_presentation**: The code presentation represents the time the module was held at.\n",
    "* **activity_type**: The activity type is the type of online material.\n",
    "* **week_from**: The week from is the week the material was intended to be used from.\n",
    "    - week_from will not be used in our analysis due to it being irrelevant information and will be dropped.\n",
    "* **week_to**: The week to is the week the material was intended to be used until.\n",
    "    - week_to will not be used in our analysis due to it being irrelevant information and will be dropped."
   ]
  },
  {
   "cell_type": "code",
   "execution_count": 3,
   "id": "68f8bf9a-12fd-4909-b307-46bbf2f4cbe9",
   "metadata": {},
   "outputs": [],
   "source": [
    "# dropping week_to and week_from from VLE dataframe\n",
    "vle = vle.drop(columns=['week_from', 'week_to'])"
   ]
  },
  {
   "cell_type": "markdown",
   "id": "b6330afb-7a82-4601-8ec8-70aca6444c1c",
   "metadata": {},
   "source": [
    "---\n",
    "\n",
    "## VLE Information"
   ]
  },
  {
   "cell_type": "markdown",
   "id": "f3610365-e80c-415b-ac3c-bad92a9b11dd",
   "metadata": {},
   "source": [
    "**Size**"
   ]
  },
  {
   "cell_type": "markdown",
   "id": "3300886a-d017-475b-8f37-973ce0bcc391",
   "metadata": {},
   "source": [
    "**Data Types**"
   ]
  },
  {
   "cell_type": "markdown",
   "id": "ad6a444e-c6d3-4476-ad08-9cbda3460efd",
   "metadata": {},
   "source": [
    "**Null Values**"
   ]
  },
  {
   "cell_type": "markdown",
   "id": "08f3800e-5852-4f02-ae5f-011c052ba407",
   "metadata": {},
   "source": [
    "**Duplicate Values**"
   ]
  },
  {
   "cell_type": "markdown",
   "id": "854f81bd-5e17-4867-9075-d168e8e95543",
   "metadata": {},
   "source": [
    "**Unique Value Counts**"
   ]
  },
  {
   "cell_type": "markdown",
   "id": "e24869c5-607a-4d1c-9672-ee0c1752b81f",
   "metadata": {},
   "source": [
    "**Unique Categorical Values**"
   ]
  },
  {
   "cell_type": "markdown",
   "id": "1ad89fe0-b366-42a8-a291-5821ccd41e62",
   "metadata": {},
   "source": [
    "**Numerical Values**"
   ]
  },
  {
   "cell_type": "code",
   "execution_count": null,
   "id": "97629a33-c2a0-412b-8cb3-445b05eaa0a0",
   "metadata": {},
   "outputs": [],
   "source": []
  }
 ],
 "metadata": {
  "kernelspec": {
   "display_name": "Python 3",
   "language": "python",
   "name": "python3"
  },
  "language_info": {
   "codemirror_mode": {
    "name": "ipython",
    "version": 3
   },
   "file_extension": ".py",
   "mimetype": "text/x-python",
   "name": "python",
   "nbconvert_exporter": "python",
   "pygments_lexer": "ipython3",
   "version": "3.9.6"
  }
 },
 "nbformat": 4,
 "nbformat_minor": 5
}
