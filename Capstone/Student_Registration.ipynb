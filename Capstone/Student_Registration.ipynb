{
 "cells": [
  {
   "cell_type": "code",
   "execution_count": 29,
   "id": "d548f977-55e4-499c-996c-5aa8070958b0",
   "metadata": {
    "tags": [
     "remove_cell"
    ]
   },
   "outputs": [],
   "source": [
    "from functions import *"
   ]
  },
  {
   "cell_type": "markdown",
   "id": "e5a14227-1aa2-445b-8c28-1dcf1751ca8b",
   "metadata": {},
   "source": [
    "# Student Registration Dataframe\n",
    "\n",
    "---"
   ]
  },
  {
   "cell_type": "markdown",
   "id": "82086860-4afb-4a6e-8216-29a7b584d20f",
   "metadata": {},
   "source": [
    "## General"
   ]
  },
  {
   "cell_type": "markdown",
   "id": "47c27976-96aa-450f-a7c4-ce6110aa3012",
   "metadata": {},
   "source": [
    "The student registration dataframe contains information about the dates that students registered and,if applicable, unregistered from the module."
   ]
  },
  {
   "cell_type": "code",
   "execution_count": 30,
   "id": "f09eff96-c3d1-4d97-9934-62e2e092907a",
   "metadata": {
    "tags": [
     "remove_input"
    ]
   },
   "outputs": [
    {
     "data": {
      "text/html": [
       "<div>\n",
       "<style scoped>\n",
       "    .dataframe tbody tr th:only-of-type {\n",
       "        vertical-align: middle;\n",
       "    }\n",
       "\n",
       "    .dataframe tbody tr th {\n",
       "        vertical-align: top;\n",
       "    }\n",
       "\n",
       "    .dataframe thead th {\n",
       "        text-align: right;\n",
       "    }\n",
       "</style>\n",
       "<table border=\"1\" class=\"dataframe\">\n",
       "  <thead>\n",
       "    <tr style=\"text-align: right;\">\n",
       "      <th></th>\n",
       "      <th>code_module</th>\n",
       "      <th>code_presentation</th>\n",
       "      <th>id_student</th>\n",
       "      <th>date_registration</th>\n",
       "      <th>date_unregistration</th>\n",
       "    </tr>\n",
       "  </thead>\n",
       "  <tbody>\n",
       "    <tr>\n",
       "      <th>0</th>\n",
       "      <td>AAA</td>\n",
       "      <td>2013J</td>\n",
       "      <td>11391</td>\n",
       "      <td>-159.0</td>\n",
       "      <td>NaN</td>\n",
       "    </tr>\n",
       "    <tr>\n",
       "      <th>1</th>\n",
       "      <td>AAA</td>\n",
       "      <td>2013J</td>\n",
       "      <td>28400</td>\n",
       "      <td>-53.0</td>\n",
       "      <td>NaN</td>\n",
       "    </tr>\n",
       "    <tr>\n",
       "      <th>2</th>\n",
       "      <td>AAA</td>\n",
       "      <td>2013J</td>\n",
       "      <td>30268</td>\n",
       "      <td>-92.0</td>\n",
       "      <td>12.0</td>\n",
       "    </tr>\n",
       "    <tr>\n",
       "      <th>3</th>\n",
       "      <td>AAA</td>\n",
       "      <td>2013J</td>\n",
       "      <td>31604</td>\n",
       "      <td>-52.0</td>\n",
       "      <td>NaN</td>\n",
       "    </tr>\n",
       "    <tr>\n",
       "      <th>4</th>\n",
       "      <td>AAA</td>\n",
       "      <td>2013J</td>\n",
       "      <td>32885</td>\n",
       "      <td>-176.0</td>\n",
       "      <td>NaN</td>\n",
       "    </tr>\n",
       "  </tbody>\n",
       "</table>\n",
       "</div>"
      ],
      "text/plain": [
       "  code_module code_presentation id_student  date_registration  \\\n",
       "0         AAA             2013J      11391             -159.0   \n",
       "1         AAA             2013J      28400              -53.0   \n",
       "2         AAA             2013J      30268              -92.0   \n",
       "3         AAA             2013J      31604              -52.0   \n",
       "4         AAA             2013J      32885             -176.0   \n",
       "\n",
       "   date_unregistration  \n",
       "0                  NaN  \n",
       "1                  NaN  \n",
       "2                 12.0  \n",
       "3                  NaN  \n",
       "4                  NaN  "
      ]
     },
     "execution_count": 30,
     "metadata": {},
     "output_type": "execute_result"
    }
   ],
   "source": [
    "# looking at the student_registration dataframe\n",
    "student_registration.head()"
   ]
  },
  {
   "cell_type": "markdown",
   "id": "95164537-6672-4df0-a054-1977fa69bdbe",
   "metadata": {},
   "source": [
    "## Student Registration Contents\n",
    "\n",
    "* **code_module**: The code module represents the course which the sutdent registered for.\n",
    "* **code_presentation**: The code presentation represents the time of year the course which the student registered for began.\n",
    "* **id_student**: The student ID is the unique identifier for each student.\n",
    "* **date_registration**: The registration date is the date that the student registered for the module relative to the start of the module. A negative value indicates that many days before the module began.\n",
    "* **date_unregistration**: The unregistration date is the date that the student unregistered from the course module in relation to the start date of the course, if applicable.\n"
   ]
  },
  {
   "cell_type": "markdown",
   "id": "a9db8a6a-7a55-42e6-af4c-1c0022a6f2b2",
   "metadata": {},
   "source": [
    "**Size**"
   ]
  },
  {
   "cell_type": "code",
   "execution_count": 31,
   "id": "ee706d71-4274-4a34-9449-6fc3f962873c",
   "metadata": {
    "tags": [
     "remove_input"
    ]
   },
   "outputs": [
    {
     "data": {
      "text/html": [
       "<div>\n",
       "<style scoped>\n",
       "    .dataframe tbody tr th:only-of-type {\n",
       "        vertical-align: middle;\n",
       "    }\n",
       "\n",
       "    .dataframe tbody tr th {\n",
       "        vertical-align: top;\n",
       "    }\n",
       "\n",
       "    .dataframe thead th {\n",
       "        text-align: right;\n",
       "    }\n",
       "</style>\n",
       "<table border=\"1\" class=\"dataframe\">\n",
       "  <thead>\n",
       "    <tr style=\"text-align: right;\">\n",
       "      <th></th>\n",
       "      <th>Count</th>\n",
       "    </tr>\n",
       "  </thead>\n",
       "  <tbody>\n",
       "    <tr>\n",
       "      <th>Columns</th>\n",
       "      <td>5</td>\n",
       "    </tr>\n",
       "    <tr>\n",
       "      <th>Rows</th>\n",
       "      <td>32593</td>\n",
       "    </tr>\n",
       "  </tbody>\n",
       "</table>\n",
       "</div>"
      ],
      "text/plain": [
       "         Count\n",
       "Columns      5\n",
       "Rows     32593"
      ]
     },
     "execution_count": 31,
     "metadata": {},
     "output_type": "execute_result"
    }
   ],
   "source": [
    "# get the row & column sizes for student registration\n",
    "get_size(student_registration)"
   ]
  },
  {
   "cell_type": "code",
   "execution_count": 32,
   "id": "91bdaa0e-5602-4c7b-8c34-7d38b2f93946",
   "metadata": {},
   "outputs": [
    {
     "data": {
      "text/markdown": [
       "\n",
       "Student Registration has 5 columns and 32,593 rows\n"
      ],
      "text/plain": [
       "<IPython.core.display.Markdown object>"
      ]
     },
     "execution_count": 32,
     "metadata": {},
     "output_type": "execute_result"
    }
   ],
   "source": [
    "md(f'''\n",
    "Student Registration has {len(student_registration.columns)} columns and {\"{:,}\".format(len(student_registration))} rows\n",
    "''')"
   ]
  },
  {
   "cell_type": "markdown",
   "id": "449ffd28-6fbe-4b10-8bb6-f86515043441",
   "metadata": {},
   "source": [
    "**Data Types**"
   ]
  },
  {
   "cell_type": "code",
   "execution_count": 33,
   "id": "284377a5-1698-4cb2-9d7e-f6ab7b5950b9",
   "metadata": {
    "tags": [
     "remove_input"
    ]
   },
   "outputs": [
    {
     "data": {
      "text/html": [
       "<style type=\"text/css\">\n",
       "#T_1375f_ td.col0 {\n",
       "  font-weight: bold;\n",
       "}\n",
       "</style>\n",
       "<table id=\"T_1375f_\">\n",
       "  <thead>\n",
       "    <tr>\n",
       "      <th class=\"col_heading level0 col0\" >index</th>\n",
       "      <th class=\"col_heading level0 col1\" >Type</th>\n",
       "    </tr>\n",
       "  </thead>\n",
       "  <tbody>\n",
       "    <tr>\n",
       "      <td id=\"T_1375f_row0_col0\" class=\"data row0 col0\" >code_module</td>\n",
       "      <td id=\"T_1375f_row0_col1\" class=\"data row0 col1\" >object</td>\n",
       "    </tr>\n",
       "    <tr>\n",
       "      <td id=\"T_1375f_row1_col0\" class=\"data row1 col0\" >code_presentation</td>\n",
       "      <td id=\"T_1375f_row1_col1\" class=\"data row1 col1\" >object</td>\n",
       "    </tr>\n",
       "    <tr>\n",
       "      <td id=\"T_1375f_row2_col0\" class=\"data row2 col0\" >id_student</td>\n",
       "      <td id=\"T_1375f_row2_col1\" class=\"data row2 col1\" >object</td>\n",
       "    </tr>\n",
       "    <tr>\n",
       "      <td id=\"T_1375f_row3_col0\" class=\"data row3 col0\" >date_registration</td>\n",
       "      <td id=\"T_1375f_row3_col1\" class=\"data row3 col1\" >float64</td>\n",
       "    </tr>\n",
       "    <tr>\n",
       "      <td id=\"T_1375f_row4_col0\" class=\"data row4 col0\" >date_unregistration</td>\n",
       "      <td id=\"T_1375f_row4_col1\" class=\"data row4 col1\" >float64</td>\n",
       "    </tr>\n",
       "  </tbody>\n",
       "</table>\n"
      ],
      "text/plain": [
       "<pandas.io.formats.style.Styler at 0x171946cf340>"
      ]
     },
     "execution_count": 33,
     "metadata": {},
     "output_type": "execute_result"
    }
   ],
   "source": [
    "# show student registration data types\n",
    "get_dtypes(student_registration)"
   ]
  },
  {
   "cell_type": "markdown",
   "id": "7b71cf15-eb52-4d18-85fa-bdde712629ba",
   "metadata": {},
   "source": [
    "* `id_student` is currently an int64 datatype, but would be more appropriate to cast it as categorical\n",
    "* `object` datatypes will be converted to string\n",
    "* `date_registration` and `date_unregistration` "
   ]
  },
  {
   "cell_type": "code",
   "execution_count": null,
   "id": "6b616c30-111a-4849-bfd9-7fe6b67a0980",
   "metadata": {},
   "outputs": [],
   "source": []
  },
  {
   "cell_type": "code",
   "execution_count": 34,
   "id": "f5aace78-48dc-4328-aba9-26d30fd18dcb",
   "metadata": {
    "tags": [
     "remove_cell"
    ]
   },
   "outputs": [
    {
     "data": {
      "text/html": [
       "<div>\n",
       "<style scoped>\n",
       "    .dataframe tbody tr th:only-of-type {\n",
       "        vertical-align: middle;\n",
       "    }\n",
       "\n",
       "    .dataframe tbody tr th {\n",
       "        vertical-align: top;\n",
       "    }\n",
       "\n",
       "    .dataframe thead th {\n",
       "        text-align: right;\n",
       "    }\n",
       "</style>\n",
       "<table border=\"1\" class=\"dataframe\">\n",
       "  <thead>\n",
       "    <tr style=\"text-align: right;\">\n",
       "      <th></th>\n",
       "      <th>Data Type</th>\n",
       "    </tr>\n",
       "  </thead>\n",
       "  <tbody>\n",
       "    <tr>\n",
       "      <th>code_module</th>\n",
       "      <td>string</td>\n",
       "    </tr>\n",
       "    <tr>\n",
       "      <th>code_presentation</th>\n",
       "      <td>string</td>\n",
       "    </tr>\n",
       "    <tr>\n",
       "      <th>id_student</th>\n",
       "      <td>string</td>\n",
       "    </tr>\n",
       "    <tr>\n",
       "      <th>date_registration</th>\n",
       "      <td>Int64</td>\n",
       "    </tr>\n",
       "    <tr>\n",
       "      <th>date_unregistration</th>\n",
       "      <td>Int64</td>\n",
       "    </tr>\n",
       "  </tbody>\n",
       "</table>\n",
       "</div>"
      ],
      "text/plain": [
       "                    Data Type\n",
       "code_module            string\n",
       "code_presentation      string\n",
       "id_student             string\n",
       "date_registration       Int64\n",
       "date_unregistration     Int64"
      ]
     },
     "execution_count": 34,
     "metadata": {},
     "output_type": "execute_result"
    }
   ],
   "source": [
    "# changing id_student to the string data type\n",
    "student_registration['id_student'] = student_registration['id_student'].astype('str')\n",
    "# convert other objects datatypes to strings\n",
    "student_registration = student_registration.convert_dtypes()\n",
    "# show the result of the conversion\n",
    "dataframe(student_registration.dtypes, columns=[\"Data Type\"])"
   ]
  },
  {
   "cell_type": "markdown",
   "id": "a9bff32a-0995-4135-87c7-195ee15cf083",
   "metadata": {},
   "source": [
    "**Null Values:**"
   ]
  },
  {
   "cell_type": "code",
   "execution_count": 35,
   "id": "d5afafad-68eb-462a-aadb-024459790296",
   "metadata": {
    "tags": [
     "remove_input"
    ]
   },
   "outputs": [
    {
     "data": {
      "text/html": [
       "<style type=\"text/css\">\n",
       "#T_05808_ td.col0 {\n",
       "  font-weight: bold;\n",
       "}\n",
       "</style>\n",
       "<table id=\"T_05808_\">\n",
       "  <thead>\n",
       "    <tr>\n",
       "      <th class=\"col_heading level0 col0\" >index</th>\n",
       "      <th class=\"col_heading level0 col1\" >Null Values</th>\n",
       "    </tr>\n",
       "  </thead>\n",
       "  <tbody>\n",
       "    <tr>\n",
       "      <td id=\"T_05808_row0_col0\" class=\"data row0 col0\" >code_module</td>\n",
       "      <td id=\"T_05808_row0_col1\" class=\"data row0 col1\" >0</td>\n",
       "    </tr>\n",
       "    <tr>\n",
       "      <td id=\"T_05808_row1_col0\" class=\"data row1 col0\" >code_presentation</td>\n",
       "      <td id=\"T_05808_row1_col1\" class=\"data row1 col1\" >0</td>\n",
       "    </tr>\n",
       "    <tr>\n",
       "      <td id=\"T_05808_row2_col0\" class=\"data row2 col0\" >id_student</td>\n",
       "      <td id=\"T_05808_row2_col1\" class=\"data row2 col1\" >0</td>\n",
       "    </tr>\n",
       "    <tr>\n",
       "      <td id=\"T_05808_row3_col0\" class=\"data row3 col0\" >date_registration</td>\n",
       "      <td id=\"T_05808_row3_col1\" class=\"data row3 col1\" >45</td>\n",
       "    </tr>\n",
       "    <tr>\n",
       "      <td id=\"T_05808_row4_col0\" class=\"data row4 col0\" >date_unregistration</td>\n",
       "      <td id=\"T_05808_row4_col1\" class=\"data row4 col1\" >22521</td>\n",
       "    </tr>\n",
       "  </tbody>\n",
       "</table>\n"
      ],
      "text/plain": [
       "<pandas.io.formats.style.Styler at 0x171946cffa0>"
      ]
     },
     "execution_count": 35,
     "metadata": {},
     "output_type": "execute_result"
    }
   ],
   "source": [
    "# get the null values for each column\n",
    "null_vals(student_registration)"
   ]
  },
  {
   "cell_type": "code",
   "execution_count": 36,
   "id": "09f77842-4df2-475f-b7a5-ee16c951a8dd",
   "metadata": {
    "tags": [
     "remove_cell"
    ]
   },
   "outputs": [],
   "source": [
    "# store the sum of null values of date_registration\n",
    "null_registration = student_registration['date_registration'].isnull().sum()\n",
    "# store the sum of null values of date_unregistration\n",
    "null_unregistration = student_registration['date_unregistration'].isnull().sum()"
   ]
  },
  {
   "cell_type": "code",
   "execution_count": 37,
   "id": "0c72026a-5d1f-438f-af7d-048f98fd64fb",
   "metadata": {
    "tags": [
     "remove_input"
    ]
   },
   "outputs": [
    {
     "data": {
      "text/markdown": [
       "\n",
       "* We have 45 null values for date_registration, and no mention of this in the dataset documentation, so we will treat this as missing data.\n",
       "* There are 22521 null values for date_unregistration which represent the students that did not withdraw from the course.\n"
      ],
      "text/plain": [
       "<IPython.core.display.Markdown object>"
      ]
     },
     "execution_count": 37,
     "metadata": {},
     "output_type": "execute_result"
    }
   ],
   "source": [
    "md(f'''\n",
    "* We have {null_registration} null values for date_registration, and no mention of this in the dataset documentation, so we will treat this as missing data.\n",
    "* There are {null_unregistration} null values for date_unregistration which represent the students that did not withdraw from the course.\n",
    "''')"
   ]
  },
  {
   "cell_type": "markdown",
   "id": "3c7117eb-3a57-4735-b7c3-17b2101032c4",
   "metadata": {},
   "source": [
    "**Duplicate Values**"
   ]
  },
  {
   "cell_type": "code",
   "execution_count": 38,
   "id": "c6b0c86c-1eb9-47dc-ae26-04858b8b63dc",
   "metadata": {
    "tags": [
     "remove_input"
    ]
   },
   "outputs": [
    {
     "data": {
      "text/markdown": [
       "There are no Duplicate Values"
      ],
      "text/plain": [
       "<IPython.core.display.Markdown object>"
      ]
     },
     "execution_count": 38,
     "metadata": {},
     "output_type": "execute_result"
    }
   ],
   "source": [
    "# get the duplicate values for student registration if any\n",
    "get_dupes(student_registration)"
   ]
  },
  {
   "cell_type": "markdown",
   "id": "22de507f-e475-4e22-afbd-dc3fd9393de5",
   "metadata": {},
   "source": [
    "**Unique Counts:**"
   ]
  },
  {
   "cell_type": "code",
   "execution_count": 39,
   "id": "8f2f48bf-d9fe-4964-8807-eda67574843c",
   "metadata": {
    "tags": [
     "remove_input"
    ]
   },
   "outputs": [
    {
     "data": {
      "text/html": [
       "<style type=\"text/css\">\n",
       "#T_056d4_ td.col0 {\n",
       "  font-weight: bold;\n",
       "}\n",
       "</style>\n",
       "<table id=\"T_056d4_\">\n",
       "  <thead>\n",
       "    <tr>\n",
       "      <th class=\"col_heading level0 col0\" >index</th>\n",
       "      <th class=\"col_heading level0 col1\" >Count</th>\n",
       "    </tr>\n",
       "  </thead>\n",
       "  <tbody>\n",
       "    <tr>\n",
       "      <td id=\"T_056d4_row0_col0\" class=\"data row0 col0\" >code_module</td>\n",
       "      <td id=\"T_056d4_row0_col1\" class=\"data row0 col1\" >7</td>\n",
       "    </tr>\n",
       "    <tr>\n",
       "      <td id=\"T_056d4_row1_col0\" class=\"data row1 col0\" >code_presentation</td>\n",
       "      <td id=\"T_056d4_row1_col1\" class=\"data row1 col1\" >4</td>\n",
       "    </tr>\n",
       "    <tr>\n",
       "      <td id=\"T_056d4_row2_col0\" class=\"data row2 col0\" >id_student</td>\n",
       "      <td id=\"T_056d4_row2_col1\" class=\"data row2 col1\" >28785</td>\n",
       "    </tr>\n",
       "    <tr>\n",
       "      <td id=\"T_056d4_row3_col0\" class=\"data row3 col0\" >date_registration</td>\n",
       "      <td id=\"T_056d4_row3_col1\" class=\"data row3 col1\" >332</td>\n",
       "    </tr>\n",
       "    <tr>\n",
       "      <td id=\"T_056d4_row4_col0\" class=\"data row4 col0\" >date_unregistration</td>\n",
       "      <td id=\"T_056d4_row4_col1\" class=\"data row4 col1\" >416</td>\n",
       "    </tr>\n",
       "  </tbody>\n",
       "</table>\n"
      ],
      "text/plain": [
       "<pandas.io.formats.style.Styler at 0x171946dd1c0>"
      ]
     },
     "execution_count": 39,
     "metadata": {},
     "output_type": "execute_result"
    }
   ],
   "source": [
    "# get the sum of unique values in columns\n",
    "count_unique(student_registration)"
   ]
  },
  {
   "cell_type": "markdown",
   "id": "f24cab70-bc40-46f2-83e9-2c0e89601a44",
   "metadata": {},
   "source": [
    "**Unique Categorical Values**"
   ]
  },
  {
   "cell_type": "code",
   "execution_count": 40,
   "id": "1c0a70d4-b84f-4108-96b0-381d2f4646fd",
   "metadata": {
    "tags": [
     "remove_input"
    ]
   },
   "outputs": [
    {
     "data": {
      "text/html": [
       "<style type=\"text/css\">\n",
       "#T_6e84a_ td.col0 {\n",
       "  font-weight: bold;\n",
       "}\n",
       "</style>\n",
       "<table id=\"T_6e84a_\">\n",
       "  <thead>\n",
       "    <tr>\n",
       "      <th class=\"col_heading level0 col0\" >index</th>\n",
       "      <th class=\"col_heading level0 col1\" >Values</th>\n",
       "    </tr>\n",
       "  </thead>\n",
       "  <tbody>\n",
       "    <tr>\n",
       "      <td id=\"T_6e84a_row0_col0\" class=\"data row0 col0\" >code_module</td>\n",
       "      <td id=\"T_6e84a_row0_col1\" class=\"data row0 col1\" >['AAA', 'BBB', 'CCC', 'DDD', 'EEE', 'FFF', 'GGG']</td>\n",
       "    </tr>\n",
       "    <tr>\n",
       "      <td id=\"T_6e84a_row1_col0\" class=\"data row1 col0\" >code_presentation</td>\n",
       "      <td id=\"T_6e84a_row1_col1\" class=\"data row1 col1\" >['2013J', '2014J', '2013B', '2014B']</td>\n",
       "    </tr>\n",
       "  </tbody>\n",
       "</table>\n"
      ],
      "text/plain": [
       "<pandas.io.formats.style.Styler at 0x17194a0ca90>"
      ]
     },
     "execution_count": 40,
     "metadata": {},
     "output_type": "execute_result"
    }
   ],
   "source": [
    "# get the unique categorical values\n",
    "unique_vals(student_registration)"
   ]
  },
  {
   "cell_type": "code",
   "execution_count": 41,
   "id": "83f953ca-bdc5-4344-bfbb-1c2ea3cb39c5",
   "metadata": {},
   "outputs": [
    {
     "data": {
      "text/markdown": [
       "* The Student info dataframe is 32,593 rows, but there are only 28,785 unique student ID's.\n",
       "* This suggests that there are some students who took multiple modules since we eliminated those who have taken the same course more than once.\n",
       "        "
      ],
      "text/plain": [
       "<IPython.core.display.Markdown object>"
      ]
     },
     "execution_count": 41,
     "metadata": {},
     "output_type": "execute_result"
    }
   ],
   "source": [
    "# store the number of students in student_info\n",
    "total_students = len(student_registration)\n",
    "# store the student info student ids that are unique\n",
    "unique_students = student_registration['id_student'].nunique()\n",
    "md(f'''* The Student info dataframe is {\"{:,}\".format(total_students)} rows, but there are only {\"{:,}\".format(unique_students)} unique student ID's.\n",
    "* This suggests that there are some students who took multiple modules since we eliminated those who have taken the same course more than once.\n",
    "        ''')"
   ]
  },
  {
   "cell_type": "code",
   "execution_count": 42,
   "id": "cf17d007-fe72-4de7-961e-5eb7fb5988bf",
   "metadata": {},
   "outputs": [
    {
     "data": {
      "text/html": [
       "<div>\n",
       "<style scoped>\n",
       "    .dataframe tbody tr th:only-of-type {\n",
       "        vertical-align: middle;\n",
       "    }\n",
       "\n",
       "    .dataframe tbody tr th {\n",
       "        vertical-align: top;\n",
       "    }\n",
       "\n",
       "    .dataframe thead th {\n",
       "        text-align: right;\n",
       "    }\n",
       "</style>\n",
       "<table border=\"1\" class=\"dataframe\">\n",
       "  <thead>\n",
       "    <tr style=\"text-align: right;\">\n",
       "      <th></th>\n",
       "      <th>code_module</th>\n",
       "      <th>code_presentation</th>\n",
       "      <th>id_student</th>\n",
       "      <th>date_registration</th>\n",
       "      <th>date_unregistration</th>\n",
       "    </tr>\n",
       "  </thead>\n",
       "  <tbody>\n",
       "    <tr>\n",
       "      <th>395</th>\n",
       "      <td>AAA</td>\n",
       "      <td>2014J</td>\n",
       "      <td>65002</td>\n",
       "      <td>-144</td>\n",
       "      <td>&lt;NA&gt;</td>\n",
       "    </tr>\n",
       "    <tr>\n",
       "      <th>403</th>\n",
       "      <td>AAA</td>\n",
       "      <td>2014J</td>\n",
       "      <td>94961</td>\n",
       "      <td>-150</td>\n",
       "      <td>&lt;NA&gt;</td>\n",
       "    </tr>\n",
       "    <tr>\n",
       "      <th>415</th>\n",
       "      <td>AAA</td>\n",
       "      <td>2014J</td>\n",
       "      <td>129955</td>\n",
       "      <td>-143</td>\n",
       "      <td>143</td>\n",
       "    </tr>\n",
       "    <tr>\n",
       "      <th>422</th>\n",
       "      <td>AAA</td>\n",
       "      <td>2014J</td>\n",
       "      <td>135335</td>\n",
       "      <td>-82</td>\n",
       "      <td>24</td>\n",
       "    </tr>\n",
       "    <tr>\n",
       "      <th>423</th>\n",
       "      <td>AAA</td>\n",
       "      <td>2014J</td>\n",
       "      <td>135400</td>\n",
       "      <td>-51</td>\n",
       "      <td>&lt;NA&gt;</td>\n",
       "    </tr>\n",
       "  </tbody>\n",
       "</table>\n",
       "</div>"
      ],
      "text/plain": [
       "    code_module code_presentation id_student  date_registration  \\\n",
       "395         AAA             2014J      65002               -144   \n",
       "403         AAA             2014J      94961               -150   \n",
       "415         AAA             2014J     129955               -143   \n",
       "422         AAA             2014J     135335                -82   \n",
       "423         AAA             2014J     135400                -51   \n",
       "\n",
       "     date_unregistration  \n",
       "395                 <NA>  \n",
       "403                 <NA>  \n",
       "415                  143  \n",
       "422                   24  \n",
       "423                 <NA>  "
      ]
     },
     "execution_count": 42,
     "metadata": {},
     "output_type": "execute_result"
    }
   ],
   "source": [
    "duplicate_students = student_registration[student_registration['id_student'].duplicated()]\n",
    "duplicate_students.head()"
   ]
  },
  {
   "cell_type": "code",
   "execution_count": 43,
   "id": "a024788d-dd2a-491d-a4ac-5092637f852b",
   "metadata": {},
   "outputs": [
    {
     "data": {
      "text/markdown": [
       "\n",
       "This dataframe contains the students who have duplicate records. \n",
       "There is a total of 3,808 students whose ID is listed more than once"
      ],
      "text/plain": [
       "<IPython.core.display.Markdown object>"
      ]
     },
     "execution_count": 43,
     "metadata": {},
     "output_type": "execute_result"
    }
   ],
   "source": [
    "md(f'''\n",
    "This dataframe contains the students who have duplicate records. \n",
    "There is a total of {\"{:,}\".format(len(duplicate_students))} students whose ID is listed more than once''')"
   ]
  },
  {
   "cell_type": "markdown",
   "id": "d630e90e-487b-490b-afcb-611e6ed461cb",
   "metadata": {},
   "source": [
    "**Duplicate Student ID's**"
   ]
  },
  {
   "cell_type": "code",
   "execution_count": 44,
   "id": "9ac30cb8-c389-4d02-878b-8939200e0822",
   "metadata": {},
   "outputs": [
    {
     "data": {
      "text/html": [
       "<div>\n",
       "<style scoped>\n",
       "    .dataframe tbody tr th:only-of-type {\n",
       "        vertical-align: middle;\n",
       "    }\n",
       "\n",
       "    .dataframe tbody tr th {\n",
       "        vertical-align: top;\n",
       "    }\n",
       "\n",
       "    .dataframe thead th {\n",
       "        text-align: right;\n",
       "    }\n",
       "</style>\n",
       "<table border=\"1\" class=\"dataframe\">\n",
       "  <thead>\n",
       "    <tr style=\"text-align: right;\">\n",
       "      <th></th>\n",
       "      <th>code_module</th>\n",
       "      <th>code_presentation</th>\n",
       "      <th>id_student</th>\n",
       "      <th>date_registration</th>\n",
       "      <th>date_unregistration</th>\n",
       "    </tr>\n",
       "  </thead>\n",
       "  <tbody>\n",
       "    <tr>\n",
       "      <th>10637</th>\n",
       "      <td>CCC</td>\n",
       "      <td>2014J</td>\n",
       "      <td>100788</td>\n",
       "      <td>-103</td>\n",
       "      <td>&lt;NA&gt;</td>\n",
       "    </tr>\n",
       "    <tr>\n",
       "      <th>23954</th>\n",
       "      <td>FFF</td>\n",
       "      <td>2013J</td>\n",
       "      <td>100788</td>\n",
       "      <td>-82</td>\n",
       "      <td>&lt;NA&gt;</td>\n",
       "    </tr>\n",
       "    <tr>\n",
       "      <th>23955</th>\n",
       "      <td>FFF</td>\n",
       "      <td>2013J</td>\n",
       "      <td>101217</td>\n",
       "      <td>-121</td>\n",
       "      <td>93</td>\n",
       "    </tr>\n",
       "    <tr>\n",
       "      <th>27730</th>\n",
       "      <td>FFF</td>\n",
       "      <td>2014J</td>\n",
       "      <td>101217</td>\n",
       "      <td>-44</td>\n",
       "      <td>&lt;NA&gt;</td>\n",
       "    </tr>\n",
       "    <tr>\n",
       "      <th>12835</th>\n",
       "      <td>CCC</td>\n",
       "      <td>2014J</td>\n",
       "      <td>1031884</td>\n",
       "      <td>-30</td>\n",
       "      <td>&lt;NA&gt;</td>\n",
       "    </tr>\n",
       "  </tbody>\n",
       "</table>\n",
       "</div>"
      ],
      "text/plain": [
       "      code_module code_presentation id_student  date_registration  \\\n",
       "10637         CCC             2014J     100788               -103   \n",
       "23954         FFF             2013J     100788                -82   \n",
       "23955         FFF             2013J     101217               -121   \n",
       "27730         FFF             2014J     101217                -44   \n",
       "12835         CCC             2014J    1031884                -30   \n",
       "\n",
       "       date_unregistration  \n",
       "10637                 <NA>  \n",
       "23954                 <NA>  \n",
       "23955                   93  \n",
       "27730                 <NA>  \n",
       "12835                 <NA>  "
      ]
     },
     "execution_count": 44,
     "metadata": {},
     "output_type": "execute_result"
    }
   ],
   "source": [
    "# finding student records with duplicate ID's\n",
    "total_duplicate_records = pd.concat(x for _, x in student_registration.groupby(\"id_student\") if len(x) > 1)\n",
    "total_duplicate_records.head()"
   ]
  },
  {
   "cell_type": "code",
   "execution_count": 45,
   "id": "78621f9c-2868-42ec-8743-8d3e7bc4ee79",
   "metadata": {},
   "outputs": [
    {
     "data": {
      "text/markdown": [
       "\n",
       "* This dataframe contains all of the records of the students whose ID appears more than once.\n",
       "* There is a total of 7,346 duplicate student ID's. \n",
       "* These students do seem to be in different courses, and represent students who have taken multiple courses or the same course more than once"
      ],
      "text/plain": [
       "<IPython.core.display.Markdown object>"
      ]
     },
     "execution_count": 45,
     "metadata": {},
     "output_type": "execute_result"
    }
   ],
   "source": [
    "md(f'''\n",
    "* This dataframe contains all of the records of the students whose ID appears more than once.\n",
    "* There is a total of {\"{:,}\".format(len(total_duplicate_records))} duplicate student ID's. \n",
    "* These students do seem to be in different courses, and represent students who have taken multiple courses or the same course more than once''')"
   ]
  },
  {
   "cell_type": "markdown",
   "id": "33021991-b346-4bee-9a22-d0eafed344de",
   "metadata": {},
   "source": [
    "**Numerical Values**"
   ]
  },
  {
   "cell_type": "code",
   "execution_count": 46,
   "id": "92fb8a11-86e1-4936-8773-ba2c27a9738a",
   "metadata": {
    "tags": [
     "remove_input"
    ]
   },
   "outputs": [
    {
     "data": {
      "text/html": [
       "<div>\n",
       "<style scoped>\n",
       "    .dataframe tbody tr th:only-of-type {\n",
       "        vertical-align: middle;\n",
       "    }\n",
       "\n",
       "    .dataframe tbody tr th {\n",
       "        vertical-align: top;\n",
       "    }\n",
       "\n",
       "    .dataframe thead th {\n",
       "        text-align: right;\n",
       "    }\n",
       "</style>\n",
       "<table border=\"1\" class=\"dataframe\">\n",
       "  <thead>\n",
       "    <tr style=\"text-align: right;\">\n",
       "      <th></th>\n",
       "      <th>date_registration</th>\n",
       "      <th>date_unregistration</th>\n",
       "    </tr>\n",
       "  </thead>\n",
       "  <tbody>\n",
       "    <tr>\n",
       "      <th>count</th>\n",
       "      <td>32548.00</td>\n",
       "      <td>10072.00</td>\n",
       "    </tr>\n",
       "    <tr>\n",
       "      <th>mean</th>\n",
       "      <td>-69.41</td>\n",
       "      <td>49.76</td>\n",
       "    </tr>\n",
       "    <tr>\n",
       "      <th>std</th>\n",
       "      <td>49.26</td>\n",
       "      <td>82.46</td>\n",
       "    </tr>\n",
       "    <tr>\n",
       "      <th>min</th>\n",
       "      <td>-322.00</td>\n",
       "      <td>-365.00</td>\n",
       "    </tr>\n",
       "    <tr>\n",
       "      <th>25%</th>\n",
       "      <td>-100.00</td>\n",
       "      <td>-2.00</td>\n",
       "    </tr>\n",
       "    <tr>\n",
       "      <th>50%</th>\n",
       "      <td>-57.00</td>\n",
       "      <td>27.00</td>\n",
       "    </tr>\n",
       "    <tr>\n",
       "      <th>75%</th>\n",
       "      <td>-29.00</td>\n",
       "      <td>109.00</td>\n",
       "    </tr>\n",
       "    <tr>\n",
       "      <th>max</th>\n",
       "      <td>167.00</td>\n",
       "      <td>444.00</td>\n",
       "    </tr>\n",
       "  </tbody>\n",
       "</table>\n",
       "</div>"
      ],
      "text/plain": [
       "       date_registration  date_unregistration\n",
       "count           32548.00             10072.00\n",
       "mean              -69.41                49.76\n",
       "std                49.26                82.46\n",
       "min              -322.00              -365.00\n",
       "25%              -100.00                -2.00\n",
       "50%               -57.00                27.00\n",
       "75%               -29.00               109.00\n",
       "max               167.00               444.00"
      ]
     },
     "execution_count": 46,
     "metadata": {},
     "output_type": "execute_result"
    }
   ],
   "source": [
    "student_registration.describe().round(2)"
   ]
  },
  {
   "cell_type": "code",
   "execution_count": 76,
   "id": "e4e58a88-d9d9-4627-b010-130e5a28189a",
   "metadata": {},
   "outputs": [
    {
     "data": {
      "text/markdown": [
       "\n",
       "* There are 10,072 values for of date_unregistration which represents the number of students who withdrew from the course.\n",
       "* The earliest date_unregistration date is -365 days before the course began, which means this student did not make it to the first day. \n"
      ],
      "text/plain": [
       "<IPython.core.display.Markdown object>"
      ]
     },
     "execution_count": 76,
     "metadata": {},
     "output_type": "execute_result"
    }
   ],
   "source": [
    "unreg_total = student_registration['date_unregistration'].count()\n",
    "unreg_min = student_registration['date_unregistration'].min()\n",
    "md(f'''\n",
    "* There are {\"{:,}\".format(unreg_total)} values for of date_unregistration which represents the number of students who withdrew from the course.\n",
    "* The earliest date_unregistration date is {unreg_min} days before the course began, which means this student did not make it to the first day. \n",
    "''')"
   ]
  },
  {
   "cell_type": "code",
   "execution_count": 79,
   "id": "e5d6b7fe-ee33-464e-9af1-f28ee3a82d8e",
   "metadata": {},
   "outputs": [
    {
     "data": {
      "text/html": [
       "<div>\n",
       "<style scoped>\n",
       "    .dataframe tbody tr th:only-of-type {\n",
       "        vertical-align: middle;\n",
       "    }\n",
       "\n",
       "    .dataframe tbody tr th {\n",
       "        vertical-align: top;\n",
       "    }\n",
       "\n",
       "    .dataframe thead th {\n",
       "        text-align: right;\n",
       "    }\n",
       "</style>\n",
       "<table border=\"1\" class=\"dataframe\">\n",
       "  <thead>\n",
       "    <tr style=\"text-align: right;\">\n",
       "      <th></th>\n",
       "      <th>code_module</th>\n",
       "      <th>code_presentation</th>\n",
       "      <th>id_student</th>\n",
       "      <th>date_registration</th>\n",
       "      <th>date_unregistration</th>\n",
       "    </tr>\n",
       "  </thead>\n",
       "  <tbody>\n",
       "    <tr>\n",
       "      <th>125</th>\n",
       "      <td>AAA</td>\n",
       "      <td>2013J</td>\n",
       "      <td>292923</td>\n",
       "      <td>-162</td>\n",
       "      <td>-121</td>\n",
       "    </tr>\n",
       "    <tr>\n",
       "      <th>136</th>\n",
       "      <td>AAA</td>\n",
       "      <td>2013J</td>\n",
       "      <td>305539</td>\n",
       "      <td>-54</td>\n",
       "      <td>-3</td>\n",
       "    </tr>\n",
       "    <tr>\n",
       "      <th>198</th>\n",
       "      <td>AAA</td>\n",
       "      <td>2013J</td>\n",
       "      <td>405961</td>\n",
       "      <td>-170</td>\n",
       "      <td>-100</td>\n",
       "    </tr>\n",
       "    <tr>\n",
       "      <th>256</th>\n",
       "      <td>AAA</td>\n",
       "      <td>2013J</td>\n",
       "      <td>1763015</td>\n",
       "      <td>-58</td>\n",
       "      <td>-2</td>\n",
       "    </tr>\n",
       "    <tr>\n",
       "      <th>298</th>\n",
       "      <td>AAA</td>\n",
       "      <td>2013J</td>\n",
       "      <td>2318055</td>\n",
       "      <td>-56</td>\n",
       "      <td>-19</td>\n",
       "    </tr>\n",
       "  </tbody>\n",
       "</table>\n",
       "</div>"
      ],
      "text/plain": [
       "    code_module code_presentation id_student  date_registration  \\\n",
       "125         AAA             2013J     292923               -162   \n",
       "136         AAA             2013J     305539                -54   \n",
       "198         AAA             2013J     405961               -170   \n",
       "256         AAA             2013J    1763015                -58   \n",
       "298         AAA             2013J    2318055                -56   \n",
       "\n",
       "     date_unregistration  \n",
       "125                 -121  \n",
       "136                   -3  \n",
       "198                 -100  \n",
       "256                   -2  \n",
       "298                  -19  "
      ]
     },
     "execution_count": 79,
     "metadata": {},
     "output_type": "execute_result"
    }
   ],
   "source": [
    "early_withdraws = student_registration.loc[student_registration['date_unregistration'] <= 0]\n",
    "early_withdraws.head()"
   ]
  },
  {
   "cell_type": "code",
   "execution_count": 85,
   "id": "cf436f41-62af-47fe-8920-fa62ea2c0439",
   "metadata": {},
   "outputs": [
    {
     "data": {
      "text/markdown": [
       "\n",
       "Here we can see the 3,097 students with a withdrawal date before the first day,\n",
       "and it is tempting to remove them since students who never attended probably don't add much information, \n",
       "but first let's find them in the student info dataframe\n"
      ],
      "text/plain": [
       "<IPython.core.display.Markdown object>"
      ]
     },
     "execution_count": 85,
     "metadata": {},
     "output_type": "execute_result"
    }
   ],
   "source": [
    "md(f'''\n",
    "Here we can see the {\"{:,}\".format(len(early_withdraws))} students with a withdrawal date before the first day,\n",
    "and it is tempting to remove them since students who never attended probably don't add much information, \n",
    "but first let's find them in the student info dataframe\n",
    "''')"
   ]
  },
  {
   "cell_type": "code",
   "execution_count": 86,
   "id": "2a222b8a-6e74-45e6-819f-089cfddb5543",
   "metadata": {},
   "outputs": [
    {
     "data": {
      "text/html": [
       "<div>\n",
       "<style scoped>\n",
       "    .dataframe tbody tr th:only-of-type {\n",
       "        vertical-align: middle;\n",
       "    }\n",
       "\n",
       "    .dataframe tbody tr th {\n",
       "        vertical-align: top;\n",
       "    }\n",
       "\n",
       "    .dataframe thead th {\n",
       "        text-align: right;\n",
       "    }\n",
       "</style>\n",
       "<table border=\"1\" class=\"dataframe\">\n",
       "  <thead>\n",
       "    <tr style=\"text-align: right;\">\n",
       "      <th></th>\n",
       "      <th>code_module</th>\n",
       "      <th>code_presentation</th>\n",
       "      <th>id_student</th>\n",
       "      <th>gender</th>\n",
       "      <th>region</th>\n",
       "      <th>highest_education</th>\n",
       "      <th>imd_band</th>\n",
       "      <th>age_band</th>\n",
       "      <th>num_of_prev_attempts</th>\n",
       "      <th>studied_credits</th>\n",
       "      <th>disability</th>\n",
       "      <th>final_result</th>\n",
       "    </tr>\n",
       "  </thead>\n",
       "  <tbody>\n",
       "    <tr>\n",
       "      <th>125</th>\n",
       "      <td>AAA</td>\n",
       "      <td>2013J</td>\n",
       "      <td>292923</td>\n",
       "      <td>F</td>\n",
       "      <td>South East Region</td>\n",
       "      <td>A Level or Equivalent</td>\n",
       "      <td>90-100%</td>\n",
       "      <td>35-55</td>\n",
       "      <td>0</td>\n",
       "      <td>180</td>\n",
       "      <td>N</td>\n",
       "      <td>Withdrawn</td>\n",
       "    </tr>\n",
       "    <tr>\n",
       "      <th>136</th>\n",
       "      <td>AAA</td>\n",
       "      <td>2013J</td>\n",
       "      <td>305539</td>\n",
       "      <td>F</td>\n",
       "      <td>Wales</td>\n",
       "      <td>Lower Than A Level</td>\n",
       "      <td>80-90%</td>\n",
       "      <td>0-35</td>\n",
       "      <td>0</td>\n",
       "      <td>120</td>\n",
       "      <td>N</td>\n",
       "      <td>Withdrawn</td>\n",
       "    </tr>\n",
       "    <tr>\n",
       "      <th>198</th>\n",
       "      <td>AAA</td>\n",
       "      <td>2013J</td>\n",
       "      <td>405961</td>\n",
       "      <td>M</td>\n",
       "      <td>Scotland</td>\n",
       "      <td>A Level or Equivalent</td>\n",
       "      <td>90-100%</td>\n",
       "      <td>0-35</td>\n",
       "      <td>0</td>\n",
       "      <td>240</td>\n",
       "      <td>Y</td>\n",
       "      <td>Withdrawn</td>\n",
       "    </tr>\n",
       "    <tr>\n",
       "      <th>256</th>\n",
       "      <td>AAA</td>\n",
       "      <td>2013J</td>\n",
       "      <td>1763015</td>\n",
       "      <td>F</td>\n",
       "      <td>Scotland</td>\n",
       "      <td>A Level or Equivalent</td>\n",
       "      <td>10-20</td>\n",
       "      <td>35-55</td>\n",
       "      <td>0</td>\n",
       "      <td>60</td>\n",
       "      <td>N</td>\n",
       "      <td>Withdrawn</td>\n",
       "    </tr>\n",
       "    <tr>\n",
       "      <th>298</th>\n",
       "      <td>AAA</td>\n",
       "      <td>2013J</td>\n",
       "      <td>2318055</td>\n",
       "      <td>M</td>\n",
       "      <td>Wales</td>\n",
       "      <td>A Level or Equivalent</td>\n",
       "      <td>90-100%</td>\n",
       "      <td>35-55</td>\n",
       "      <td>0</td>\n",
       "      <td>60</td>\n",
       "      <td>N</td>\n",
       "      <td>Withdrawn</td>\n",
       "    </tr>\n",
       "  </tbody>\n",
       "</table>\n",
       "</div>"
      ],
      "text/plain": [
       "    code_module code_presentation  id_student gender             region  \\\n",
       "125         AAA             2013J      292923      F  South East Region   \n",
       "136         AAA             2013J      305539      F              Wales   \n",
       "198         AAA             2013J      405961      M           Scotland   \n",
       "256         AAA             2013J     1763015      F           Scotland   \n",
       "298         AAA             2013J     2318055      M              Wales   \n",
       "\n",
       "         highest_education imd_band age_band  num_of_prev_attempts  \\\n",
       "125  A Level or Equivalent  90-100%    35-55                     0   \n",
       "136     Lower Than A Level   80-90%     0-35                     0   \n",
       "198  A Level or Equivalent  90-100%     0-35                     0   \n",
       "256  A Level or Equivalent    10-20    35-55                     0   \n",
       "298  A Level or Equivalent  90-100%    35-55                     0   \n",
       "\n",
       "     studied_credits disability final_result  \n",
       "125              180          N    Withdrawn  \n",
       "136              120          N    Withdrawn  \n",
       "198              240          Y    Withdrawn  \n",
       "256               60          N    Withdrawn  \n",
       "298               60          N    Withdrawn  "
      ]
     },
     "execution_count": 86,
     "metadata": {},
     "output_type": "execute_result"
    }
   ],
   "source": [
    "withdraw_info = dataframe()\n",
    "for i in student_registration.loc[student_registration['date_unregistration'] <= 0, 'id_student']:\n",
    "    withdraw_info = withdraw_info.append(student_info.loc[student_info['id_student'] == int(i)])\n",
    "    \n",
    "withdraw_info.head()"
   ]
  },
  {
   "cell_type": "code",
   "execution_count": 82,
   "id": "27877822-23de-4ee5-8dc6-5a91d958c892",
   "metadata": {},
   "outputs": [
    {
     "data": {
      "text/html": [
       "<div>\n",
       "<style scoped>\n",
       "    .dataframe tbody tr th:only-of-type {\n",
       "        vertical-align: middle;\n",
       "    }\n",
       "\n",
       "    .dataframe tbody tr th {\n",
       "        vertical-align: top;\n",
       "    }\n",
       "\n",
       "    .dataframe thead th {\n",
       "        text-align: right;\n",
       "    }\n",
       "</style>\n",
       "<table border=\"1\" class=\"dataframe\">\n",
       "  <thead>\n",
       "    <tr style=\"text-align: right;\">\n",
       "      <th></th>\n",
       "      <th>final_result</th>\n",
       "    </tr>\n",
       "  </thead>\n",
       "  <tbody>\n",
       "    <tr>\n",
       "      <th>Withdrawn</th>\n",
       "      <td>3715</td>\n",
       "    </tr>\n",
       "    <tr>\n",
       "      <th>Pass</th>\n",
       "      <td>201</td>\n",
       "    </tr>\n",
       "    <tr>\n",
       "      <th>Fail</th>\n",
       "      <td>121</td>\n",
       "    </tr>\n",
       "    <tr>\n",
       "      <th>Distinction</th>\n",
       "      <td>40</td>\n",
       "    </tr>\n",
       "  </tbody>\n",
       "</table>\n",
       "</div>"
      ],
      "text/plain": [
       "             final_result\n",
       "Withdrawn            3715\n",
       "Pass                  201\n",
       "Fail                  121\n",
       "Distinction            40"
      ]
     },
     "execution_count": 82,
     "metadata": {},
     "output_type": "execute_result"
    }
   ],
   "source": [
    "dataframe(withdraw_info['final_result'].value_counts())"
   ]
  },
  {
   "cell_type": "code",
   "execution_count": 90,
   "id": "c9bae24e-6734-42a5-aed7-34f3d9838f38",
   "metadata": {},
   "outputs": [
    {
     "data": {
      "text/markdown": [
       "\n",
       "It seems that while many of these students withdrew, there are those who still managed to fail, pass, and pass with distinction early.\n",
       "because of this we will keep all of the data. The registration and unregistration dates seem to have unusual data.\n"
      ],
      "text/plain": [
       "<IPython.core.display.Markdown object>"
      ]
     },
     "execution_count": 90,
     "metadata": {},
     "output_type": "execute_result"
    }
   ],
   "source": [
    "md('''\n",
    "It seems that while many of these students withdrew, there are those who still managed to fail, pass, and pass with distinction early.\n",
    "because of this we will keep all of the data. The registration and unregistration dates seem to have unusual data.\n",
    "''')"
   ]
  },
  {
   "cell_type": "code",
   "execution_count": 91,
   "id": "b60515cb-c209-473a-875c-9ffda174280a",
   "metadata": {
    "tags": [
     "remove_input"
    ]
   },
   "outputs": [
    {
     "data": {
      "text/markdown": [
       "* The longest course from module_presentation length in the courses dataframe was 269 days, yet we see here the latest unregistration date is 444 days, which is longer than any course went on.\n",
       "    "
      ],
      "text/plain": [
       "<IPython.core.display.Markdown object>"
      ]
     },
     "execution_count": 91,
     "metadata": {},
     "output_type": "execute_result"
    }
   ],
   "source": [
    "# finds the longest module length in courses and prints it\n",
    "longest_course = courses['module_presentation_length'].max()\n",
    "longest_unreg = student_registration['date_unregistration'].max().astype(int)\n",
    "md(f'''* The longest course from module_presentation length in the courses dataframe was {longest_course} days, yet we see here the latest unregistration date is {longest_unreg} days, which is longer than any course went on.\n",
    "    ''')"
   ]
  },
  {
   "cell_type": "markdown",
   "id": "cf2cf6da-71d1-4184-b7f5-b20a50266798",
   "metadata": {},
   "source": [
    "**All Students with an unregistration point after 269 days:**"
   ]
  },
  {
   "cell_type": "code",
   "execution_count": 92,
   "id": "f6f8b825-7b82-43ca-b174-5bcaaed2192f",
   "metadata": {
    "tags": [
     "remove_input"
    ]
   },
   "outputs": [
    {
     "data": {
      "text/html": [
       "<div>\n",
       "<style scoped>\n",
       "    .dataframe tbody tr th:only-of-type {\n",
       "        vertical-align: middle;\n",
       "    }\n",
       "\n",
       "    .dataframe tbody tr th {\n",
       "        vertical-align: top;\n",
       "    }\n",
       "\n",
       "    .dataframe thead th {\n",
       "        text-align: right;\n",
       "    }\n",
       "</style>\n",
       "<table border=\"1\" class=\"dataframe\">\n",
       "  <thead>\n",
       "    <tr style=\"text-align: right;\">\n",
       "      <th></th>\n",
       "      <th>code_module</th>\n",
       "      <th>code_presentation</th>\n",
       "      <th>id_student</th>\n",
       "      <th>date_registration</th>\n",
       "      <th>date_unregistration</th>\n",
       "    </tr>\n",
       "  </thead>\n",
       "  <tbody>\n",
       "    <tr>\n",
       "      <th>25249</th>\n",
       "      <td>FFF</td>\n",
       "      <td>2013J</td>\n",
       "      <td>586851</td>\n",
       "      <td>-22</td>\n",
       "      <td>444</td>\n",
       "    </tr>\n",
       "  </tbody>\n",
       "</table>\n",
       "</div>"
      ],
      "text/plain": [
       "      code_module code_presentation id_student  date_registration  \\\n",
       "25249         FFF             2013J     586851                -22   \n",
       "\n",
       "       date_unregistration  \n",
       "25249                  444  "
      ]
     },
     "execution_count": 92,
     "metadata": {},
     "output_type": "execute_result"
    }
   ],
   "source": [
    "# finding students whose courses went on for longer than the maximum course length\n",
    "student_registration.loc[student_registration['date_unregistration'] > 269]"
   ]
  },
  {
   "cell_type": "markdown",
   "id": "8812360e-ebe5-4025-b752-f583b0f50351",
   "metadata": {},
   "source": [
    "* It seems to be just this one student is an outlier, but should not affect our overall analysis so we will leave this intact"
   ]
  },
  {
   "cell_type": "code",
   "execution_count": null,
   "id": "1e66dcfb-a999-4080-9aed-a3c577e4c513",
   "metadata": {},
   "outputs": [],
   "source": []
  }
 ],
 "metadata": {
  "kernelspec": {
   "display_name": "Python 3",
   "language": "python",
   "name": "python3"
  },
  "language_info": {
   "codemirror_mode": {
    "name": "ipython",
    "version": 3
   },
   "file_extension": ".py",
   "mimetype": "text/x-python",
   "name": "python",
   "nbconvert_exporter": "python",
   "pygments_lexer": "ipython3",
   "version": "3.9.6"
  }
 },
 "nbformat": 4,
 "nbformat_minor": 5
}
