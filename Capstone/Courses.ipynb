{
 "cells": [
  {
   "cell_type": "code",
   "execution_count": 2,
   "id": "5b06955f-f7ee-483f-8bfa-bccfd9825bc0",
   "metadata": {
    "tags": [
     "remove_input"
    ]
   },
   "outputs": [],
   "source": [
    "from functions import *\n",
    "\n",
    "@register_cell_magic\n",
    "def markdown(line, cell):\n",
    "    return md(cell.format(**globals()))"
   ]
  },
  {
   "cell_type": "markdown",
   "id": "5b2c141d-b2e7-4ab4-871b-e231bdd183d1",
   "metadata": {},
   "source": [
    "<a id='Courses'></a>\n",
    "\n",
    "---\n",
    "\n",
    "<h2>Courses Dataframe</h2>\n",
    "\n",
    "---"
   ]
  },
  {
   "cell_type": "markdown",
   "id": "05a4c4a1-38d8-4f3e-98bc-041485b33b9e",
   "metadata": {},
   "source": [
    "The courses datframe has information for all modules and their presentations."
   ]
  },
  {
   "cell_type": "code",
   "execution_count": 3,
   "id": "a49c8858-14d9-461c-a5ea-8318341696e0",
   "metadata": {
    "tags": [
     "remove_input"
    ]
   },
   "outputs": [
    {
     "data": {
      "text/html": [
       "<div>\n",
       "<style scoped>\n",
       "    .dataframe tbody tr th:only-of-type {\n",
       "        vertical-align: middle;\n",
       "    }\n",
       "\n",
       "    .dataframe tbody tr th {\n",
       "        vertical-align: top;\n",
       "    }\n",
       "\n",
       "    .dataframe thead th {\n",
       "        text-align: right;\n",
       "    }\n",
       "</style>\n",
       "<table border=\"1\" class=\"dataframe\">\n",
       "  <thead>\n",
       "    <tr style=\"text-align: right;\">\n",
       "      <th></th>\n",
       "      <th>code_module</th>\n",
       "      <th>code_presentation</th>\n",
       "      <th>module_presentation_length</th>\n",
       "    </tr>\n",
       "  </thead>\n",
       "  <tbody>\n",
       "    <tr>\n",
       "      <th>0</th>\n",
       "      <td>AAA</td>\n",
       "      <td>2013J</td>\n",
       "      <td>268</td>\n",
       "    </tr>\n",
       "    <tr>\n",
       "      <th>1</th>\n",
       "      <td>AAA</td>\n",
       "      <td>2014J</td>\n",
       "      <td>269</td>\n",
       "    </tr>\n",
       "    <tr>\n",
       "      <th>2</th>\n",
       "      <td>BBB</td>\n",
       "      <td>2013J</td>\n",
       "      <td>268</td>\n",
       "    </tr>\n",
       "    <tr>\n",
       "      <th>3</th>\n",
       "      <td>BBB</td>\n",
       "      <td>2014J</td>\n",
       "      <td>262</td>\n",
       "    </tr>\n",
       "    <tr>\n",
       "      <th>4</th>\n",
       "      <td>BBB</td>\n",
       "      <td>2013B</td>\n",
       "      <td>240</td>\n",
       "    </tr>\n",
       "  </tbody>\n",
       "</table>\n",
       "</div>"
      ],
      "text/plain": [
       "  code_module code_presentation  module_presentation_length\n",
       "0         AAA             2013J                         268\n",
       "1         AAA             2014J                         269\n",
       "2         BBB             2013J                         268\n",
       "3         BBB             2014J                         262\n",
       "4         BBB             2013B                         240"
      ]
     },
     "execution_count": 3,
     "metadata": {},
     "output_type": "execute_result"
    }
   ],
   "source": [
    "courses.head()"
   ]
  },
  {
   "cell_type": "markdown",
   "id": "d3095cd3-6ee0-4145-b55d-4485204a0c24",
   "metadata": {},
   "source": [
    "---\n",
    "\n",
    "<h4>Contents</h4>\n",
    "\n",
    "* <b>code_module</b>: The code module represents the code name of the course. Modules are identified with three capital letters which run sequentially between AAA and GGG\n",
    "* <b>code_presentation</b>: The presentations are codified by their year and offering semester. B is for February and J is for October. 2013B for example is February of 2013. \n",
    "* <b>mode_presentation_length</b>: The module presentation length is the length of the course in days."
   ]
  },
  {
   "cell_type": "markdown",
   "id": "9ac8f3f8-f852-437d-9461-66354c349604",
   "metadata": {},
   "source": [
    "---\n",
    "\n",
    "<h4>Courses Information</h4>"
   ]
  },
  {
   "cell_type": "code",
   "execution_count": 4,
   "id": "2685f908-cbcd-4272-858c-ed98dac9efcc",
   "metadata": {
    "tags": [
     "remove_input"
    ]
   },
   "outputs": [],
   "source": [
    "courses_types = analyze_df(courses, types=True)\n",
    "courses_nulls = analyze_df(courses, nulls=True)\n",
    "courses_nunique = analyze_df(courses, uniques=True)\n",
    "courses_dupes = analyze_df(courses, dupes=True)\n",
    "courses_nums = analyze_df(courses, nums=True)"
   ]
  },
  {
   "cell_type": "code",
   "execution_count": 5,
   "id": "2e10731c-5b21-4f26-b2ec-3b3ebf3eb522",
   "metadata": {
    "tags": [
     "remove_input"
    ]
   },
   "outputs": [
    {
     "data": {
      "text/markdown": [
       "\n",
       "<b>Size</b>\n",
       "    \n",
       "* Number of Rows: 22\n",
       "* Number of Columns: 3\n",
       "\n",
       "<b>Data Types</b>\n"
      ],
      "text/plain": [
       "<IPython.core.display.Markdown object>"
      ]
     },
     "execution_count": 5,
     "metadata": {},
     "output_type": "execute_result"
    }
   ],
   "source": [
    "md(f'''\n",
    "<b>Size</b>\n",
    "    \n",
    "* Number of Rows: {analyze_df(courses, rowlen=True)}\n",
    "* Number of Columns: {analyze_df(courses, collen=True)}\n",
    "\n",
    "<b>Data Types</b>\n",
    "''')"
   ]
  },
  {
   "cell_type": "code",
   "execution_count": 6,
   "id": "e597d777-12be-45af-b663-5e159dac4acb",
   "metadata": {},
   "outputs": [
    {
     "data": {
      "text/plain": [
       "code_module                   object\n",
       "code_presentation             object\n",
       "module_presentation_length     int64\n",
       "dtype: object"
      ]
     },
     "execution_count": 6,
     "metadata": {},
     "output_type": "execute_result"
    }
   ],
   "source": [
    "courses.dtypes"
   ]
  },
  {
   "cell_type": "markdown",
   "id": "ef541052-2c58-41c5-9628-adc03e65846e",
   "metadata": {},
   "source": [
    "<b>Null Values:</b>"
   ]
  },
  {
   "cell_type": "code",
   "execution_count": 7,
   "id": "faaf0965-f89f-47b9-9e40-b5e0069c9d5e",
   "metadata": {},
   "outputs": [],
   "source": [
    "courses_nulls"
   ]
  },
  {
   "cell_type": "markdown",
   "id": "ea58c127-a9e0-4dc9-8918-2f6bb1f3f238",
   "metadata": {},
   "source": [
    "<b>Unique Counts:</b>"
   ]
  },
  {
   "cell_type": "code",
   "execution_count": 8,
   "id": "106ebc9c-ec26-414b-96de-880a8b676f47",
   "metadata": {
    "tags": [
     "remove_input"
    ]
   },
   "outputs": [
    {
     "data": {
      "text/plain": [
       "code_module                   7\n",
       "code_presentation             4\n",
       "module_presentation_length    7\n",
       "dtype: int64"
      ]
     },
     "execution_count": 8,
     "metadata": {},
     "output_type": "execute_result"
    }
   ],
   "source": [
    "courses.nunique()"
   ]
  },
  {
   "cell_type": "markdown",
   "id": "fec7bfd3-70d5-426f-b220-ecd7daaa4338",
   "metadata": {},
   "source": [
    "<b>Unique Categorical Values</b>:"
   ]
  },
  {
   "cell_type": "code",
   "execution_count": 9,
   "id": "6931bea2-fd9d-4ec7-bd5d-2947d3cd3709",
   "metadata": {
    "tags": [
     "remove_input"
    ]
   },
   "outputs": [
    {
     "name": "stdout",
     "output_type": "stream",
     "text": [
      "code_module: ['AAA' 'BBB' 'CCC' 'DDD' 'EEE' 'FFF' 'GGG']\n",
      "\n",
      "code_presentation: ['2013J' '2014J' '2013B' '2014B']\n",
      "\n"
     ]
    }
   ],
   "source": [
    "unique_vals(courses)"
   ]
  },
  {
   "cell_type": "markdown",
   "id": "4ddf4e7b-d98e-4532-b3e1-d6fd85618f18",
   "metadata": {},
   "source": [
    "<b>Duplicate Values</b>"
   ]
  },
  {
   "cell_type": "code",
   "execution_count": 10,
   "id": "bdd07706-a4d3-4362-9bf0-94adbf460ae7",
   "metadata": {},
   "outputs": [
    {
     "data": {
      "text/plain": [
       "'No Duplicate Values'"
      ]
     },
     "execution_count": 10,
     "metadata": {},
     "output_type": "execute_result"
    }
   ],
   "source": [
    "analyze_df(courses, dupes=True)"
   ]
  },
  {
   "cell_type": "markdown",
   "id": "f352112b-9bfa-4c60-96ae-e98c2033bf20",
   "metadata": {},
   "source": [
    "<b>Statistics:</b>"
   ]
  },
  {
   "cell_type": "code",
   "execution_count": 11,
   "id": "a56b2f82-c8d3-491e-aaef-04c903bb23b0",
   "metadata": {
    "tags": [
     "remove_input"
    ]
   },
   "outputs": [
    {
     "data": {
      "text/html": [
       "<div>\n",
       "<style scoped>\n",
       "    .dataframe tbody tr th:only-of-type {\n",
       "        vertical-align: middle;\n",
       "    }\n",
       "\n",
       "    .dataframe tbody tr th {\n",
       "        vertical-align: top;\n",
       "    }\n",
       "\n",
       "    .dataframe thead th {\n",
       "        text-align: right;\n",
       "    }\n",
       "</style>\n",
       "<table border=\"1\" class=\"dataframe\">\n",
       "  <thead>\n",
       "    <tr style=\"text-align: right;\">\n",
       "      <th></th>\n",
       "      <th>module_presentation_length</th>\n",
       "    </tr>\n",
       "  </thead>\n",
       "  <tbody>\n",
       "    <tr>\n",
       "      <th>count</th>\n",
       "      <td>22.0</td>\n",
       "    </tr>\n",
       "    <tr>\n",
       "      <th>mean</th>\n",
       "      <td>255.5</td>\n",
       "    </tr>\n",
       "    <tr>\n",
       "      <th>std</th>\n",
       "      <td>13.7</td>\n",
       "    </tr>\n",
       "    <tr>\n",
       "      <th>min</th>\n",
       "      <td>234.0</td>\n",
       "    </tr>\n",
       "    <tr>\n",
       "      <th>25%</th>\n",
       "      <td>241.0</td>\n",
       "    </tr>\n",
       "    <tr>\n",
       "      <th>50%</th>\n",
       "      <td>261.5</td>\n",
       "    </tr>\n",
       "    <tr>\n",
       "      <th>75%</th>\n",
       "      <td>268.0</td>\n",
       "    </tr>\n",
       "    <tr>\n",
       "      <th>max</th>\n",
       "      <td>269.0</td>\n",
       "    </tr>\n",
       "  </tbody>\n",
       "</table>\n",
       "</div>"
      ],
      "text/plain": [
       "       module_presentation_length\n",
       "count                        22.0\n",
       "mean                        255.5\n",
       "std                          13.7\n",
       "min                         234.0\n",
       "25%                         241.0\n",
       "50%                         261.5\n",
       "75%                         268.0\n",
       "max                         269.0"
      ]
     },
     "execution_count": 11,
     "metadata": {},
     "output_type": "execute_result"
    }
   ],
   "source": [
    "courses.describe().round(1)"
   ]
  },
  {
   "cell_type": "markdown",
   "id": "b93260e3-a54e-43c0-9ddd-5dcbbd4a973f",
   "metadata": {},
   "source": [
    "---\n",
    "\n",
    "<h4>Modules and Presentations</h4>"
   ]
  },
  {
   "cell_type": "code",
   "execution_count": 57,
   "id": "0f867cd5-e78c-4029-8f57-160993b1b3df",
   "metadata": {
    "tags": [
     "remove_input"
    ]
   },
   "outputs": [
    {
     "data": {
      "text/markdown": [
       "* There are 7 unique modules delivered over 4 presentations as detailed below:"
      ],
      "text/plain": [
       "<IPython.core.display.Markdown object>"
      ]
     },
     "execution_count": 57,
     "metadata": {},
     "output_type": "execute_result"
    }
   ],
   "source": [
    "mod_count = courses['code_module'].nunique()\n",
    "presentation_count = courses['code_presentation'].nunique()\n",
    "min_mod_count = courses['module_presentation_length'].min()\n",
    "max_mod_count = courses['module_presentation_length'].max()\n",
    "avg_mod_count = round(courses['module_presentation_length'].mean(), 1)\n",
    "\n",
    "md(f'''* There are {mod_count} unique modules delivered over {presentation_count} presentations as detailed below:''')"
   ]
  },
  {
   "cell_type": "code",
   "execution_count": 16,
   "id": "4d04d829-735d-41f3-9dcb-3675a23aa8ca",
   "metadata": {
    "tags": [
     "remove_input"
    ]
   },
   "outputs": [
    {
     "data": {
      "text/html": [
       "<div>\n",
       "<style scoped>\n",
       "    .dataframe tbody tr th:only-of-type {\n",
       "        vertical-align: middle;\n",
       "    }\n",
       "\n",
       "    .dataframe tbody tr th {\n",
       "        vertical-align: top;\n",
       "    }\n",
       "\n",
       "    .dataframe thead th {\n",
       "        text-align: right;\n",
       "    }\n",
       "</style>\n",
       "<table border=\"1\" class=\"dataframe\">\n",
       "  <thead>\n",
       "    <tr style=\"text-align: right;\">\n",
       "      <th>code_presentation</th>\n",
       "      <th>2013B</th>\n",
       "      <th>2013J</th>\n",
       "      <th>2014B</th>\n",
       "      <th>2014J</th>\n",
       "    </tr>\n",
       "    <tr>\n",
       "      <th>code_module</th>\n",
       "      <th></th>\n",
       "      <th></th>\n",
       "      <th></th>\n",
       "      <th></th>\n",
       "    </tr>\n",
       "  </thead>\n",
       "  <tbody>\n",
       "    <tr>\n",
       "      <th>AAA</th>\n",
       "      <td>0</td>\n",
       "      <td>1</td>\n",
       "      <td>0</td>\n",
       "      <td>1</td>\n",
       "    </tr>\n",
       "    <tr>\n",
       "      <th>BBB</th>\n",
       "      <td>1</td>\n",
       "      <td>1</td>\n",
       "      <td>1</td>\n",
       "      <td>1</td>\n",
       "    </tr>\n",
       "    <tr>\n",
       "      <th>CCC</th>\n",
       "      <td>0</td>\n",
       "      <td>0</td>\n",
       "      <td>1</td>\n",
       "      <td>1</td>\n",
       "    </tr>\n",
       "    <tr>\n",
       "      <th>DDD</th>\n",
       "      <td>1</td>\n",
       "      <td>1</td>\n",
       "      <td>1</td>\n",
       "      <td>1</td>\n",
       "    </tr>\n",
       "    <tr>\n",
       "      <th>EEE</th>\n",
       "      <td>0</td>\n",
       "      <td>1</td>\n",
       "      <td>1</td>\n",
       "      <td>1</td>\n",
       "    </tr>\n",
       "    <tr>\n",
       "      <th>FFF</th>\n",
       "      <td>1</td>\n",
       "      <td>1</td>\n",
       "      <td>1</td>\n",
       "      <td>1</td>\n",
       "    </tr>\n",
       "    <tr>\n",
       "      <th>GGG</th>\n",
       "      <td>0</td>\n",
       "      <td>1</td>\n",
       "      <td>1</td>\n",
       "      <td>1</td>\n",
       "    </tr>\n",
       "  </tbody>\n",
       "</table>\n",
       "</div>"
      ],
      "text/plain": [
       "code_presentation  2013B  2013J  2014B  2014J\n",
       "code_module                                  \n",
       "AAA                    0      1      0      1\n",
       "BBB                    1      1      1      1\n",
       "CCC                    0      0      1      1\n",
       "DDD                    1      1      1      1\n",
       "EEE                    0      1      1      1\n",
       "FFF                    1      1      1      1\n",
       "GGG                    0      1      1      1"
      ]
     },
     "execution_count": 16,
     "metadata": {},
     "output_type": "execute_result"
    }
   ],
   "source": [
    "# making a crosstab to map each code module to its presentation\n",
    "pd.crosstab(index=courses['code_module'], columns=courses['code_presentation'])"
   ]
  },
  {
   "cell_type": "code",
   "execution_count": 29,
   "id": "35fac7a9-b36e-4504-bea1-6eacd3819929",
   "metadata": {
    "tags": [
     "remove_input"
    ]
   },
   "outputs": [
    {
     "data": {
      "text/markdown": [
       "\n",
       "---\n",
       "\n",
       "<h4>Module Presentation Length</h4>\n",
       "\n",
       "* There are 7 modules and 4 presentations.\n",
       "* Modules range from 234 to 269 days in length.\n",
       "* The average module is 255.5 days.\n"
      ],
      "text/plain": [
       "<IPython.core.display.Markdown object>"
      ]
     },
     "execution_count": 29,
     "metadata": {},
     "output_type": "execute_result"
    }
   ],
   "source": [
    "%%markdown\n",
    "\n",
    "---\n",
    "\n",
    "<h4>Module Presentation Length</h4>\n",
    "\n",
    "* Modules range from {min_mod_count} to {max_mod_count} days in length.\n",
    "* The average module is {avg_mod_count} days."
   ]
  }
 ],
 "metadata": {
  "kernelspec": {
   "display_name": "Python 3 (ipykernel)",
   "language": "python",
   "name": "python3"
  },
  "language_info": {
   "codemirror_mode": {
    "name": "ipython",
    "version": 3
   },
   "file_extension": ".py",
   "mimetype": "text/x-python",
   "name": "python",
   "nbconvert_exporter": "python",
   "pygments_lexer": "ipython3",
   "version": "3.9.5"
  }
 },
 "nbformat": 4,
 "nbformat_minor": 5
}
