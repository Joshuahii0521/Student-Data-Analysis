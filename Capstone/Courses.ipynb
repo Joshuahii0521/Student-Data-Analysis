{
 "cells": [
  {
   "cell_type": "code",
   "execution_count": 1,
   "id": "5b06955f-f7ee-483f-8bfa-bccfd9825bc0",
   "metadata": {
    "tags": [
     "remove_input"
    ]
   },
   "outputs": [],
   "source": [
    "from functions import *"
   ]
  },
  {
   "cell_type": "markdown",
   "id": "5b2c141d-b2e7-4ab4-871b-e231bdd183d1",
   "metadata": {},
   "source": [
    "# Courses\n",
    "\n",
    "---"
   ]
  },
  {
   "cell_type": "markdown",
   "id": "97f51a11-38d2-4f6f-867c-664eb48de0f5",
   "metadata": {},
   "source": [
    "## General"
   ]
  },
  {
   "cell_type": "markdown",
   "id": "05a4c4a1-38d8-4f3e-98bc-041485b33b9e",
   "metadata": {},
   "source": [
    "The courses dataframe has information for all modules and their presentations."
   ]
  },
  {
   "cell_type": "code",
   "execution_count": 2,
   "id": "a49c8858-14d9-461c-a5ea-8318341696e0",
   "metadata": {
    "tags": [
     "remove_input"
    ]
   },
   "outputs": [
    {
     "data": {
      "text/html": [
       "<div>\n",
       "<style scoped>\n",
       "    .dataframe tbody tr th:only-of-type {\n",
       "        vertical-align: middle;\n",
       "    }\n",
       "\n",
       "    .dataframe tbody tr th {\n",
       "        vertical-align: top;\n",
       "    }\n",
       "\n",
       "    .dataframe thead th {\n",
       "        text-align: right;\n",
       "    }\n",
       "</style>\n",
       "<table border=\"1\" class=\"dataframe\">\n",
       "  <thead>\n",
       "    <tr style=\"text-align: right;\">\n",
       "      <th></th>\n",
       "      <th>code_module</th>\n",
       "      <th>code_presentation</th>\n",
       "      <th>module_presentation_length</th>\n",
       "    </tr>\n",
       "  </thead>\n",
       "  <tbody>\n",
       "    <tr>\n",
       "      <th>0</th>\n",
       "      <td>AAA</td>\n",
       "      <td>2013J</td>\n",
       "      <td>268</td>\n",
       "    </tr>\n",
       "    <tr>\n",
       "      <th>1</th>\n",
       "      <td>AAA</td>\n",
       "      <td>2014J</td>\n",
       "      <td>269</td>\n",
       "    </tr>\n",
       "    <tr>\n",
       "      <th>2</th>\n",
       "      <td>BBB</td>\n",
       "      <td>2013J</td>\n",
       "      <td>268</td>\n",
       "    </tr>\n",
       "    <tr>\n",
       "      <th>3</th>\n",
       "      <td>BBB</td>\n",
       "      <td>2014J</td>\n",
       "      <td>262</td>\n",
       "    </tr>\n",
       "    <tr>\n",
       "      <th>4</th>\n",
       "      <td>BBB</td>\n",
       "      <td>2013B</td>\n",
       "      <td>240</td>\n",
       "    </tr>\n",
       "  </tbody>\n",
       "</table>\n",
       "</div>"
      ],
      "text/plain": [
       "  code_module code_presentation  module_presentation_length\n",
       "0         AAA             2013J                         268\n",
       "1         AAA             2014J                         269\n",
       "2         BBB             2013J                         268\n",
       "3         BBB             2014J                         262\n",
       "4         BBB             2013B                         240"
      ]
     },
     "execution_count": 2,
     "metadata": {},
     "output_type": "execute_result"
    }
   ],
   "source": [
    "courses.head()"
   ]
  },
  {
   "cell_type": "markdown",
   "id": "d3095cd3-6ee0-4145-b55d-4485204a0c24",
   "metadata": {},
   "source": [
    "---\n",
    "\n",
    "## Courses Contents\n",
    "\n",
    "* **code_module**: The code module represents the code name of the course. Modules are identified with three capital letters which run sequentially between AAA and GGG\n",
    "* **code_presentation**: The presentations are codified by their year and offering semester. B is for February and J is for October. 2013B for example is February of 2013. \n",
    "* **mode_presentation_length**: The module presentation length is the length of the course in days."
   ]
  },
  {
   "cell_type": "markdown",
   "id": "9ac8f3f8-f852-437d-9461-66354c349604",
   "metadata": {},
   "source": [
    "---\n",
    "\n",
    "## Courses Information"
   ]
  },
  {
   "cell_type": "markdown",
   "id": "bb9a94fb-2b91-4f36-952e-eb55ba21c8cc",
   "metadata": {},
   "source": [
    "**Size**"
   ]
  },
  {
   "cell_type": "code",
   "execution_count": 3,
   "id": "f8eed971-050e-41bc-8b1b-c0092091f0d5",
   "metadata": {
    "tags": [
     "remove_input"
    ]
   },
   "outputs": [
    {
     "data": {
      "text/html": [
       "<div>\n",
       "<style scoped>\n",
       "    .dataframe tbody tr th:only-of-type {\n",
       "        vertical-align: middle;\n",
       "    }\n",
       "\n",
       "    .dataframe tbody tr th {\n",
       "        vertical-align: top;\n",
       "    }\n",
       "\n",
       "    .dataframe thead th {\n",
       "        text-align: right;\n",
       "    }\n",
       "</style>\n",
       "<table border=\"1\" class=\"dataframe\">\n",
       "  <thead>\n",
       "    <tr style=\"text-align: right;\">\n",
       "      <th></th>\n",
       "      <th>Count</th>\n",
       "    </tr>\n",
       "  </thead>\n",
       "  <tbody>\n",
       "    <tr>\n",
       "      <th>Columns</th>\n",
       "      <td>3</td>\n",
       "    </tr>\n",
       "    <tr>\n",
       "      <th>Rows</th>\n",
       "      <td>22</td>\n",
       "    </tr>\n",
       "  </tbody>\n",
       "</table>\n",
       "</div>"
      ],
      "text/plain": [
       "         Count\n",
       "Columns      3\n",
       "Rows        22"
      ]
     },
     "execution_count": 3,
     "metadata": {},
     "output_type": "execute_result"
    }
   ],
   "source": [
    "get_size(courses)"
   ]
  },
  {
   "cell_type": "markdown",
   "id": "59cce765-1889-41f0-9b77-7fa0cdeab589",
   "metadata": {},
   "source": [
    "**Data Types**"
   ]
  },
  {
   "cell_type": "code",
   "execution_count": 4,
   "id": "e597d777-12be-45af-b663-5e159dac4acb",
   "metadata": {
    "tags": [
     "remove_input"
    ]
   },
   "outputs": [
    {
     "data": {
      "text/html": [
       "<style type=\"text/css\">\n",
       "#T_92ddf_ td.col0 {\n",
       "  font-weight: bold;\n",
       "}\n",
       "</style>\n",
       "<table id=\"T_92ddf_\">\n",
       "  <thead>\n",
       "    <tr>\n",
       "      <th class=\"col_heading level0 col0\" >Variable</th>\n",
       "      <th class=\"col_heading level0 col1\" >Type</th>\n",
       "    </tr>\n",
       "  </thead>\n",
       "  <tbody>\n",
       "    <tr>\n",
       "      <td id=\"T_92ddf_row0_col0\" class=\"data row0 col0\" >code_module</td>\n",
       "      <td id=\"T_92ddf_row0_col1\" class=\"data row0 col1\" >object</td>\n",
       "    </tr>\n",
       "    <tr>\n",
       "      <td id=\"T_92ddf_row1_col0\" class=\"data row1 col0\" >code_presentation</td>\n",
       "      <td id=\"T_92ddf_row1_col1\" class=\"data row1 col1\" >object</td>\n",
       "    </tr>\n",
       "    <tr>\n",
       "      <td id=\"T_92ddf_row2_col0\" class=\"data row2 col0\" >module_presentation_length</td>\n",
       "      <td id=\"T_92ddf_row2_col1\" class=\"data row2 col1\" >int64</td>\n",
       "    </tr>\n",
       "  </tbody>\n",
       "</table>\n"
      ],
      "text/plain": [
       "<pandas.io.formats.style.Styler at 0x1de93470160>"
      ]
     },
     "execution_count": 4,
     "metadata": {},
     "output_type": "execute_result"
    }
   ],
   "source": [
    "get_dtypes(courses)"
   ]
  },
  {
   "cell_type": "markdown",
   "id": "ef541052-2c58-41c5-9628-adc03e65846e",
   "metadata": {},
   "source": [
    "**Null Values:**"
   ]
  },
  {
   "cell_type": "code",
   "execution_count": 5,
   "id": "a1f74991-a741-484b-a11d-5509f935bbf8",
   "metadata": {
    "tags": [
     "remove_input"
    ]
   },
   "outputs": [
    {
     "data": {
      "text/html": [
       "<style type=\"text/css\">\n",
       "#T_4ecaf_ td.col0 {\n",
       "  font-weight: bold;\n",
       "}\n",
       "</style>\n",
       "<table id=\"T_4ecaf_\">\n",
       "  <thead>\n",
       "    <tr>\n",
       "      <th class=\"col_heading level0 col0\" >Variable</th>\n",
       "      <th class=\"col_heading level0 col1\" >Null Values</th>\n",
       "    </tr>\n",
       "  </thead>\n",
       "  <tbody>\n",
       "    <tr>\n",
       "      <td id=\"T_4ecaf_row0_col0\" class=\"data row0 col0\" >code_module</td>\n",
       "      <td id=\"T_4ecaf_row0_col1\" class=\"data row0 col1\" >0</td>\n",
       "    </tr>\n",
       "    <tr>\n",
       "      <td id=\"T_4ecaf_row1_col0\" class=\"data row1 col0\" >code_presentation</td>\n",
       "      <td id=\"T_4ecaf_row1_col1\" class=\"data row1 col1\" >0</td>\n",
       "    </tr>\n",
       "    <tr>\n",
       "      <td id=\"T_4ecaf_row2_col0\" class=\"data row2 col0\" >module_presentation_length</td>\n",
       "      <td id=\"T_4ecaf_row2_col1\" class=\"data row2 col1\" >0</td>\n",
       "    </tr>\n",
       "  </tbody>\n",
       "</table>\n"
      ],
      "text/plain": [
       "<pandas.io.formats.style.Styler at 0x1de9360b040>"
      ]
     },
     "execution_count": 5,
     "metadata": {},
     "output_type": "execute_result"
    }
   ],
   "source": [
    "null_vals(courses)"
   ]
  },
  {
   "cell_type": "markdown",
   "id": "ea58c127-a9e0-4dc9-8918-2f6bb1f3f238",
   "metadata": {},
   "source": [
    "**Unique Counts:**"
   ]
  },
  {
   "cell_type": "code",
   "execution_count": 6,
   "id": "106ebc9c-ec26-414b-96de-880a8b676f47",
   "metadata": {
    "tags": [
     "remove_input"
    ]
   },
   "outputs": [
    {
     "data": {
      "text/html": [
       "<style type=\"text/css\">\n",
       "#T_e01f1_ td.col0 {\n",
       "  font-weight: bold;\n",
       "}\n",
       "</style>\n",
       "<table id=\"T_e01f1_\">\n",
       "  <thead>\n",
       "    <tr>\n",
       "      <th class=\"col_heading level0 col0\" >Variable</th>\n",
       "      <th class=\"col_heading level0 col1\" >Count</th>\n",
       "    </tr>\n",
       "  </thead>\n",
       "  <tbody>\n",
       "    <tr>\n",
       "      <td id=\"T_e01f1_row0_col0\" class=\"data row0 col0\" >code_module</td>\n",
       "      <td id=\"T_e01f1_row0_col1\" class=\"data row0 col1\" >7</td>\n",
       "    </tr>\n",
       "    <tr>\n",
       "      <td id=\"T_e01f1_row1_col0\" class=\"data row1 col0\" >code_presentation</td>\n",
       "      <td id=\"T_e01f1_row1_col1\" class=\"data row1 col1\" >4</td>\n",
       "    </tr>\n",
       "    <tr>\n",
       "      <td id=\"T_e01f1_row2_col0\" class=\"data row2 col0\" >module_presentation_length</td>\n",
       "      <td id=\"T_e01f1_row2_col1\" class=\"data row2 col1\" >7</td>\n",
       "    </tr>\n",
       "  </tbody>\n",
       "</table>\n"
      ],
      "text/plain": [
       "<pandas.io.formats.style.Styler at 0x1de9360ba30>"
      ]
     },
     "execution_count": 6,
     "metadata": {},
     "output_type": "execute_result"
    }
   ],
   "source": [
    "count_unique(courses)"
   ]
  },
  {
   "cell_type": "markdown",
   "id": "fec7bfd3-70d5-426f-b220-ecd7daaa4338",
   "metadata": {},
   "source": [
    "**Unique Categorical Values**:"
   ]
  },
  {
   "cell_type": "code",
   "execution_count": 7,
   "id": "6931bea2-fd9d-4ec7-bd5d-2947d3cd3709",
   "metadata": {
    "tags": [
     "remove_input"
    ]
   },
   "outputs": [
    {
     "data": {
      "text/html": [
       "<style type=\"text/css\">\n",
       "#T_55cca_ td.col0 {\n",
       "  font-weight: bold;\n",
       "}\n",
       "</style>\n",
       "<table id=\"T_55cca_\">\n",
       "  <thead>\n",
       "    <tr>\n",
       "      <th class=\"col_heading level0 col0\" >Variable</th>\n",
       "      <th class=\"col_heading level0 col1\" >Values</th>\n",
       "    </tr>\n",
       "  </thead>\n",
       "  <tbody>\n",
       "    <tr>\n",
       "      <td id=\"T_55cca_row0_col0\" class=\"data row0 col0\" >code_module</td>\n",
       "      <td id=\"T_55cca_row0_col1\" class=\"data row0 col1\" >['AAA' 'BBB' 'CCC' 'DDD' 'EEE' 'FFF' 'GGG']</td>\n",
       "    </tr>\n",
       "    <tr>\n",
       "      <td id=\"T_55cca_row1_col0\" class=\"data row1 col0\" >code_presentation</td>\n",
       "      <td id=\"T_55cca_row1_col1\" class=\"data row1 col1\" >['2013J' '2014J' '2013B' '2014B']</td>\n",
       "    </tr>\n",
       "    <tr>\n",
       "      <td id=\"T_55cca_row2_col0\" class=\"data row2 col0\" >module_presentation_length</td>\n",
       "      <td id=\"T_55cca_row2_col1\" class=\"data row2 col1\" >[268 269 262 240 234 241 261]</td>\n",
       "    </tr>\n",
       "  </tbody>\n",
       "</table>\n"
      ],
      "text/plain": [
       "<pandas.io.formats.style.Styler at 0x1deffb80220>"
      ]
     },
     "execution_count": 7,
     "metadata": {},
     "output_type": "execute_result"
    }
   ],
   "source": [
    "courses_uniques = unique_vals(courses)\n",
    "courses_uniques"
   ]
  },
  {
   "cell_type": "markdown",
   "id": "4ddf4e7b-d98e-4532-b3e1-d6fd85618f18",
   "metadata": {},
   "source": [
    "**Duplicate Values**"
   ]
  },
  {
   "cell_type": "code",
   "execution_count": 8,
   "id": "bdd07706-a4d3-4362-9bf0-94adbf460ae7",
   "metadata": {
    "tags": [
     "remove_input"
    ]
   },
   "outputs": [
    {
     "data": {
      "text/markdown": [
       "No Duplicate Values"
      ],
      "text/plain": [
       "<IPython.core.display.Markdown object>"
      ]
     },
     "execution_count": 8,
     "metadata": {},
     "output_type": "execute_result"
    }
   ],
   "source": [
    "get_dupes(courses)"
   ]
  },
  {
   "cell_type": "markdown",
   "id": "f352112b-9bfa-4c60-96ae-e98c2033bf20",
   "metadata": {},
   "source": [
    "**Statistics:**"
   ]
  },
  {
   "cell_type": "code",
   "execution_count": 9,
   "id": "a56b2f82-c8d3-491e-aaef-04c903bb23b0",
   "metadata": {
    "tags": [
     "remove_input"
    ]
   },
   "outputs": [
    {
     "data": {
      "text/html": [
       "<div>\n",
       "<style scoped>\n",
       "    .dataframe tbody tr th:only-of-type {\n",
       "        vertical-align: middle;\n",
       "    }\n",
       "\n",
       "    .dataframe tbody tr th {\n",
       "        vertical-align: top;\n",
       "    }\n",
       "\n",
       "    .dataframe thead th {\n",
       "        text-align: right;\n",
       "    }\n",
       "</style>\n",
       "<table border=\"1\" class=\"dataframe\">\n",
       "  <thead>\n",
       "    <tr style=\"text-align: right;\">\n",
       "      <th>Variable</th>\n",
       "      <th>module_presentation_length</th>\n",
       "    </tr>\n",
       "  </thead>\n",
       "  <tbody>\n",
       "    <tr>\n",
       "      <th>count</th>\n",
       "      <td>22.0</td>\n",
       "    </tr>\n",
       "    <tr>\n",
       "      <th>mean</th>\n",
       "      <td>255.5</td>\n",
       "    </tr>\n",
       "    <tr>\n",
       "      <th>std</th>\n",
       "      <td>13.7</td>\n",
       "    </tr>\n",
       "    <tr>\n",
       "      <th>min</th>\n",
       "      <td>234.0</td>\n",
       "    </tr>\n",
       "    <tr>\n",
       "      <th>25%</th>\n",
       "      <td>241.0</td>\n",
       "    </tr>\n",
       "    <tr>\n",
       "      <th>50%</th>\n",
       "      <td>261.5</td>\n",
       "    </tr>\n",
       "    <tr>\n",
       "      <th>75%</th>\n",
       "      <td>268.0</td>\n",
       "    </tr>\n",
       "    <tr>\n",
       "      <th>max</th>\n",
       "      <td>269.0</td>\n",
       "    </tr>\n",
       "  </tbody>\n",
       "</table>\n",
       "</div>"
      ],
      "text/plain": [
       "Variable  module_presentation_length\n",
       "count                           22.0\n",
       "mean                           255.5\n",
       "std                             13.7\n",
       "min                            234.0\n",
       "25%                            241.0\n",
       "50%                            261.5\n",
       "75%                            268.0\n",
       "max                            269.0"
      ]
     },
     "execution_count": 9,
     "metadata": {},
     "output_type": "execute_result"
    }
   ],
   "source": [
    "courses.describe().round(1)"
   ]
  },
  {
   "cell_type": "markdown",
   "id": "b93260e3-a54e-43c0-9ddd-5dcbbd4a973f",
   "metadata": {},
   "source": [
    "---\n",
    "\n",
    "## Modules and Presentations"
   ]
  },
  {
   "cell_type": "code",
   "execution_count": 10,
   "id": "0f867cd5-e78c-4029-8f57-160993b1b3df",
   "metadata": {
    "tags": [
     "remove_input"
    ]
   },
   "outputs": [
    {
     "data": {
      "text/markdown": [
       "There are 7 unique modules delivered over 4 presentations as detailed below:"
      ],
      "text/plain": [
       "<IPython.core.display.Markdown object>"
      ]
     },
     "execution_count": 10,
     "metadata": {},
     "output_type": "execute_result"
    }
   ],
   "source": [
    "mod_count = courses['code_module'].nunique()\n",
    "presentation_count = courses['code_presentation'].nunique()\n",
    "min_mod_count = courses['module_presentation_length'].min()\n",
    "max_mod_count = courses['module_presentation_length'].max()\n",
    "avg_mod_count = round(courses['module_presentation_length'].mean(), 1)\n",
    "\n",
    "md(f'''There are {mod_count} unique modules delivered over {presentation_count} presentations as detailed below:''')"
   ]
  },
  {
   "cell_type": "code",
   "execution_count": 40,
   "id": "4d04d829-735d-41f3-9dcb-3675a23aa8ca",
   "metadata": {
    "tags": [
     "remove_input"
    ]
   },
   "outputs": [
    {
     "data": {
      "text/html": [
       "<div>\n",
       "<style scoped>\n",
       "    .dataframe tbody tr th:only-of-type {\n",
       "        vertical-align: middle;\n",
       "    }\n",
       "\n",
       "    .dataframe tbody tr th {\n",
       "        vertical-align: top;\n",
       "    }\n",
       "\n",
       "    .dataframe thead th {\n",
       "        text-align: right;\n",
       "    }\n",
       "</style>\n",
       "<table border=\"1\" class=\"dataframe\">\n",
       "  <thead>\n",
       "    <tr style=\"text-align: right;\">\n",
       "      <th>code_presentation</th>\n",
       "      <th>2013B</th>\n",
       "      <th>2013J</th>\n",
       "      <th>2014B</th>\n",
       "      <th>2014J</th>\n",
       "    </tr>\n",
       "    <tr>\n",
       "      <th>code_module</th>\n",
       "      <th></th>\n",
       "      <th></th>\n",
       "      <th></th>\n",
       "      <th></th>\n",
       "    </tr>\n",
       "  </thead>\n",
       "  <tbody>\n",
       "    <tr>\n",
       "      <th>AAA</th>\n",
       "      <td>0</td>\n",
       "      <td>1</td>\n",
       "      <td>0</td>\n",
       "      <td>1</td>\n",
       "    </tr>\n",
       "    <tr>\n",
       "      <th>BBB</th>\n",
       "      <td>1</td>\n",
       "      <td>1</td>\n",
       "      <td>1</td>\n",
       "      <td>1</td>\n",
       "    </tr>\n",
       "    <tr>\n",
       "      <th>CCC</th>\n",
       "      <td>0</td>\n",
       "      <td>0</td>\n",
       "      <td>1</td>\n",
       "      <td>1</td>\n",
       "    </tr>\n",
       "    <tr>\n",
       "      <th>DDD</th>\n",
       "      <td>1</td>\n",
       "      <td>1</td>\n",
       "      <td>1</td>\n",
       "      <td>1</td>\n",
       "    </tr>\n",
       "    <tr>\n",
       "      <th>EEE</th>\n",
       "      <td>0</td>\n",
       "      <td>1</td>\n",
       "      <td>1</td>\n",
       "      <td>1</td>\n",
       "    </tr>\n",
       "    <tr>\n",
       "      <th>FFF</th>\n",
       "      <td>1</td>\n",
       "      <td>1</td>\n",
       "      <td>1</td>\n",
       "      <td>1</td>\n",
       "    </tr>\n",
       "    <tr>\n",
       "      <th>GGG</th>\n",
       "      <td>0</td>\n",
       "      <td>1</td>\n",
       "      <td>1</td>\n",
       "      <td>1</td>\n",
       "    </tr>\n",
       "  </tbody>\n",
       "</table>\n",
       "</div>"
      ],
      "text/plain": [
       "code_presentation  2013B  2013J  2014B  2014J\n",
       "code_module                                  \n",
       "AAA                    0      1      0      1\n",
       "BBB                    1      1      1      1\n",
       "CCC                    0      0      1      1\n",
       "DDD                    1      1      1      1\n",
       "EEE                    0      1      1      1\n",
       "FFF                    1      1      1      1\n",
       "GGG                    0      1      1      1"
      ]
     },
     "execution_count": 40,
     "metadata": {},
     "output_type": "execute_result"
    }
   ],
   "source": [
    "# making a crosstab to map each code module to its presentation\n",
    "pd.crosstab(index=courses['code_module'], columns=courses['code_presentation'])"
   ]
  },
  {
   "cell_type": "code",
   "execution_count": 42,
   "id": "35fac7a9-b36e-4504-bea1-6eacd3819929",
   "metadata": {
    "tags": [
     "remove_input"
    ]
   },
   "outputs": [
    {
     "data": {
      "text/markdown": [
       "\n",
       "## Module Presentation Length\n",
       "\n",
       "* Modules range from 234 to 269 days in length.\n",
       "* The average module is 255.5 days.\n"
      ],
      "text/plain": [
       "<IPython.core.display.Markdown object>"
      ]
     },
     "execution_count": 42,
     "metadata": {},
     "output_type": "execute_result"
    }
   ],
   "source": [
    "md(f\"\"\"\n",
    "## Module Presentation Length\n",
    "\n",
    "* Modules range from {min_mod_count} to {max_mod_count} days in length.\n",
    "* The average module is {avg_mod_count} days.\n",
    "\"\"\")"
   ]
  },
  {
   "cell_type": "code",
   "execution_count": null,
   "id": "8eb7e8ac-af6e-4045-9281-168e53c71287",
   "metadata": {},
   "outputs": [],
   "source": []
  }
 ],
 "metadata": {
  "kernelspec": {
   "display_name": "Python 3",
   "language": "python",
   "name": "python3"
  },
  "language_info": {
   "codemirror_mode": {
    "name": "ipython",
    "version": 3
   },
   "file_extension": ".py",
   "mimetype": "text/x-python",
   "name": "python",
   "nbconvert_exporter": "python",
   "pygments_lexer": "ipython3",
   "version": "3.9.6"
  }
 },
 "nbformat": 4,
 "nbformat_minor": 5
}
