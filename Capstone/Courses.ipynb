{
 "cells": [
  {
   "cell_type": "code",
   "execution_count": 1,
   "id": "5b06955f-f7ee-483f-8bfa-bccfd9825bc0",
   "metadata": {
    "tags": [
     "remove_input"
    ]
   },
   "outputs": [],
   "source": [
    "from functions import *"
   ]
  },
  {
   "cell_type": "markdown",
   "id": "5b2c141d-b2e7-4ab4-871b-e231bdd183d1",
   "metadata": {},
   "source": [
    "# Courses\n",
    "\n",
    "---"
   ]
  },
  {
   "cell_type": "markdown",
   "id": "05a4c4a1-38d8-4f3e-98bc-041485b33b9e",
   "metadata": {},
   "source": [
    "The courses dataframe has information for all modules and their presentations."
   ]
  },
  {
   "cell_type": "code",
   "execution_count": 2,
   "id": "a49c8858-14d9-461c-a5ea-8318341696e0",
   "metadata": {
    "tags": [
     "remove_input"
    ]
   },
   "outputs": [
    {
     "data": {
      "text/html": [
       "<div>\n",
       "<style scoped>\n",
       "    .dataframe tbody tr th:only-of-type {\n",
       "        vertical-align: middle;\n",
       "    }\n",
       "\n",
       "    .dataframe tbody tr th {\n",
       "        vertical-align: top;\n",
       "    }\n",
       "\n",
       "    .dataframe thead th {\n",
       "        text-align: right;\n",
       "    }\n",
       "</style>\n",
       "<table border=\"1\" class=\"dataframe\">\n",
       "  <thead>\n",
       "    <tr style=\"text-align: right;\">\n",
       "      <th></th>\n",
       "      <th>code_module</th>\n",
       "      <th>code_presentation</th>\n",
       "      <th>module_presentation_length</th>\n",
       "    </tr>\n",
       "  </thead>\n",
       "  <tbody>\n",
       "    <tr>\n",
       "      <th>0</th>\n",
       "      <td>AAA</td>\n",
       "      <td>2013J</td>\n",
       "      <td>268</td>\n",
       "    </tr>\n",
       "    <tr>\n",
       "      <th>1</th>\n",
       "      <td>AAA</td>\n",
       "      <td>2014J</td>\n",
       "      <td>269</td>\n",
       "    </tr>\n",
       "    <tr>\n",
       "      <th>2</th>\n",
       "      <td>BBB</td>\n",
       "      <td>2013J</td>\n",
       "      <td>268</td>\n",
       "    </tr>\n",
       "    <tr>\n",
       "      <th>3</th>\n",
       "      <td>BBB</td>\n",
       "      <td>2014J</td>\n",
       "      <td>262</td>\n",
       "    </tr>\n",
       "    <tr>\n",
       "      <th>4</th>\n",
       "      <td>BBB</td>\n",
       "      <td>2013B</td>\n",
       "      <td>240</td>\n",
       "    </tr>\n",
       "  </tbody>\n",
       "</table>\n",
       "</div>"
      ],
      "text/plain": [
       "  code_module code_presentation  module_presentation_length\n",
       "0         AAA             2013J                         268\n",
       "1         AAA             2014J                         269\n",
       "2         BBB             2013J                         268\n",
       "3         BBB             2014J                         262\n",
       "4         BBB             2013B                         240"
      ]
     },
     "execution_count": 2,
     "metadata": {},
     "output_type": "execute_result"
    }
   ],
   "source": [
    "# show head of courses dataframe\n",
    "courses.head()"
   ]
  },
  {
   "cell_type": "markdown",
   "id": "d3095cd3-6ee0-4145-b55d-4485204a0c24",
   "metadata": {},
   "source": [
    "---\n",
    "\n",
    "## Courses Contents\n",
    "\n",
    "* **code_module**: The code module represents the code name of the course. Modules are identified with three capital letters which run sequentially between AAA and GGG\n",
    "* **code_presentation**: The presentations are codified by their year and offering semester. B is for February and J is for October. 2013B for example is February of 2013. \n",
    "* **mode_presentation_length**: The module presentation length is the length of the course in days."
   ]
  },
  {
   "cell_type": "markdown",
   "id": "9ac8f3f8-f852-437d-9461-66354c349604",
   "metadata": {},
   "source": [
    "---\n",
    "\n",
    "## Courses Information"
   ]
  },
  {
   "cell_type": "markdown",
   "id": "bb9a94fb-2b91-4f36-952e-eb55ba21c8cc",
   "metadata": {},
   "source": [
    "**Size**"
   ]
  },
  {
   "cell_type": "code",
   "execution_count": 3,
   "id": "f8eed971-050e-41bc-8b1b-c0092091f0d5",
   "metadata": {
    "tags": [
     "remove_input"
    ]
   },
   "outputs": [
    {
     "data": {
      "text/html": [
       "<div>\n",
       "<style scoped>\n",
       "    .dataframe tbody tr th:only-of-type {\n",
       "        vertical-align: middle;\n",
       "    }\n",
       "\n",
       "    .dataframe tbody tr th {\n",
       "        vertical-align: top;\n",
       "    }\n",
       "\n",
       "    .dataframe thead th {\n",
       "        text-align: right;\n",
       "    }\n",
       "</style>\n",
       "<table border=\"1\" class=\"dataframe\">\n",
       "  <thead>\n",
       "    <tr style=\"text-align: right;\">\n",
       "      <th></th>\n",
       "      <th>Count</th>\n",
       "    </tr>\n",
       "  </thead>\n",
       "  <tbody>\n",
       "    <tr>\n",
       "      <th>Columns</th>\n",
       "      <td>3</td>\n",
       "    </tr>\n",
       "    <tr>\n",
       "      <th>Rows</th>\n",
       "      <td>22</td>\n",
       "    </tr>\n",
       "  </tbody>\n",
       "</table>\n",
       "</div>"
      ],
      "text/plain": [
       "         Count\n",
       "Columns      3\n",
       "Rows        22"
      ]
     },
     "execution_count": 3,
     "metadata": {},
     "output_type": "execute_result"
    }
   ],
   "source": [
    "# get row & column count for courses dataframe\n",
    "get_size(courses)"
   ]
  },
  {
   "cell_type": "code",
   "execution_count": 4,
   "id": "23d99d85-aeb1-4f11-bf5a-5c0e08a6491c",
   "metadata": {
    "tags": [
     "remove_input"
    ]
   },
   "outputs": [
    {
     "data": {
      "text/markdown": [
       "\n",
       "Courses has 3 columns and 22 rows\n"
      ],
      "text/plain": [
       "<IPython.core.display.Markdown object>"
      ]
     },
     "execution_count": 4,
     "metadata": {},
     "output_type": "execute_result"
    }
   ],
   "source": [
    "md(f'''\n",
    "Courses has {len(courses.columns)} columns and {len(courses)} rows\n",
    "''')"
   ]
  },
  {
   "cell_type": "markdown",
   "id": "59cce765-1889-41f0-9b77-7fa0cdeab589",
   "metadata": {},
   "source": [
    "**Data Types**"
   ]
  },
  {
   "cell_type": "code",
   "execution_count": 5,
   "id": "e597d777-12be-45af-b663-5e159dac4acb",
   "metadata": {
    "tags": [
     "remove_input"
    ]
   },
   "outputs": [
    {
     "data": {
      "text/html": [
       "<style type=\"text/css\">\n",
       "#T_eb7b6_ td.col0 {\n",
       "  font-weight: bold;\n",
       "}\n",
       "</style>\n",
       "<table id=\"T_eb7b6_\">\n",
       "  <thead>\n",
       "    <tr>\n",
       "      <th class=\"col_heading level0 col0\" >index</th>\n",
       "      <th class=\"col_heading level0 col1\" >Type</th>\n",
       "    </tr>\n",
       "  </thead>\n",
       "  <tbody>\n",
       "    <tr>\n",
       "      <td id=\"T_eb7b6_row0_col0\" class=\"data row0 col0\" >code_module</td>\n",
       "      <td id=\"T_eb7b6_row0_col1\" class=\"data row0 col1\" >object</td>\n",
       "    </tr>\n",
       "    <tr>\n",
       "      <td id=\"T_eb7b6_row1_col0\" class=\"data row1 col0\" >code_presentation</td>\n",
       "      <td id=\"T_eb7b6_row1_col1\" class=\"data row1 col1\" >object</td>\n",
       "    </tr>\n",
       "    <tr>\n",
       "      <td id=\"T_eb7b6_row2_col0\" class=\"data row2 col0\" >module_presentation_length</td>\n",
       "      <td id=\"T_eb7b6_row2_col1\" class=\"data row2 col1\" >int64</td>\n",
       "    </tr>\n",
       "  </tbody>\n",
       "</table>\n"
      ],
      "text/plain": [
       "<pandas.io.formats.style.Styler at 0x215d6031ac0>"
      ]
     },
     "execution_count": 5,
     "metadata": {},
     "output_type": "execute_result"
    }
   ],
   "source": [
    "# show data types for courses dataframe\n",
    "get_dtypes(courses)"
   ]
  },
  {
   "cell_type": "markdown",
   "id": "68fa52e8-987f-4943-9203-e17475a13f56",
   "metadata": {},
   "source": [
    "The `object` datatype in pandas can present unexpected behavior and so we will change the `object` datatypes to `string`."
   ]
  },
  {
   "cell_type": "code",
   "execution_count": 6,
   "id": "3e8d875f-7324-481a-8024-29b10b532d14",
   "metadata": {},
   "outputs": [],
   "source": [
    "# convert objects into datatypes that are better supported\n",
    "courses = courses.convert_dtypes(convert_integer=False)"
   ]
  },
  {
   "cell_type": "markdown",
   "id": "ef541052-2c58-41c5-9628-adc03e65846e",
   "metadata": {},
   "source": [
    "**Null Values**"
   ]
  },
  {
   "cell_type": "code",
   "execution_count": 7,
   "id": "a1f74991-a741-484b-a11d-5509f935bbf8",
   "metadata": {
    "tags": [
     "remove_input"
    ]
   },
   "outputs": [
    {
     "data": {
      "text/html": [
       "<style type=\"text/css\">\n",
       "#T_26370_ td.col0 {\n",
       "  font-weight: bold;\n",
       "}\n",
       "</style>\n",
       "<table id=\"T_26370_\">\n",
       "  <thead>\n",
       "    <tr>\n",
       "      <th class=\"col_heading level0 col0\" >index</th>\n",
       "      <th class=\"col_heading level0 col1\" >Null Values</th>\n",
       "    </tr>\n",
       "  </thead>\n",
       "  <tbody>\n",
       "    <tr>\n",
       "      <td id=\"T_26370_row0_col0\" class=\"data row0 col0\" >code_module</td>\n",
       "      <td id=\"T_26370_row0_col1\" class=\"data row0 col1\" >0</td>\n",
       "    </tr>\n",
       "    <tr>\n",
       "      <td id=\"T_26370_row1_col0\" class=\"data row1 col0\" >code_presentation</td>\n",
       "      <td id=\"T_26370_row1_col1\" class=\"data row1 col1\" >0</td>\n",
       "    </tr>\n",
       "    <tr>\n",
       "      <td id=\"T_26370_row2_col0\" class=\"data row2 col0\" >module_presentation_length</td>\n",
       "      <td id=\"T_26370_row2_col1\" class=\"data row2 col1\" >0</td>\n",
       "    </tr>\n",
       "  </tbody>\n",
       "</table>\n"
      ],
      "text/plain": [
       "<pandas.io.formats.style.Styler at 0x215d60263a0>"
      ]
     },
     "execution_count": 7,
     "metadata": {},
     "output_type": "execute_result"
    }
   ],
   "source": [
    "# show null values for columns in courses\n",
    "null_vals(courses)"
   ]
  },
  {
   "cell_type": "markdown",
   "id": "4ddf4e7b-d98e-4532-b3e1-d6fd85618f18",
   "metadata": {},
   "source": [
    "**Duplicate Values**"
   ]
  },
  {
   "cell_type": "code",
   "execution_count": 8,
   "id": "bdd07706-a4d3-4362-9bf0-94adbf460ae7",
   "metadata": {
    "tags": [
     "remove_input"
    ]
   },
   "outputs": [
    {
     "data": {
      "text/markdown": [
       "There are no Duplicate Values"
      ],
      "text/plain": [
       "<IPython.core.display.Markdown object>"
      ]
     },
     "execution_count": 8,
     "metadata": {},
     "output_type": "execute_result"
    }
   ],
   "source": [
    "# show duplicate values in courses if any\n",
    "get_dupes(courses)"
   ]
  },
  {
   "cell_type": "markdown",
   "id": "ea58c127-a9e0-4dc9-8918-2f6bb1f3f238",
   "metadata": {},
   "source": [
    "**Unique Counts**"
   ]
  },
  {
   "cell_type": "code",
   "execution_count": 28,
   "id": "106ebc9c-ec26-414b-96de-880a8b676f47",
   "metadata": {
    "tags": [
     "remove_input"
    ]
   },
   "outputs": [
    {
     "data": {
      "text/html": [
       "<style type=\"text/css\">\n",
       "#T_c6217_ td.col0 {\n",
       "  font-weight: bold;\n",
       "}\n",
       "</style>\n",
       "<table id=\"T_c6217_\">\n",
       "  <thead>\n",
       "    <tr>\n",
       "      <th class=\"col_heading level0 col0\" >index</th>\n",
       "      <th class=\"col_heading level0 col1\" >Count</th>\n",
       "    </tr>\n",
       "  </thead>\n",
       "  <tbody>\n",
       "    <tr>\n",
       "      <td id=\"T_c6217_row0_col0\" class=\"data row0 col0\" >code_module</td>\n",
       "      <td id=\"T_c6217_row0_col1\" class=\"data row0 col1\" >7</td>\n",
       "    </tr>\n",
       "    <tr>\n",
       "      <td id=\"T_c6217_row1_col0\" class=\"data row1 col0\" >code_presentation</td>\n",
       "      <td id=\"T_c6217_row1_col1\" class=\"data row1 col1\" >4</td>\n",
       "    </tr>\n",
       "    <tr>\n",
       "      <td id=\"T_c6217_row2_col0\" class=\"data row2 col0\" >module_presentation_length</td>\n",
       "      <td id=\"T_c6217_row2_col1\" class=\"data row2 col1\" >7</td>\n",
       "    </tr>\n",
       "  </tbody>\n",
       "</table>\n"
      ],
      "text/plain": [
       "<pandas.io.formats.style.Styler at 0x2158a433d30>"
      ]
     },
     "execution_count": 28,
     "metadata": {},
     "output_type": "execute_result"
    }
   ],
   "source": [
    "# get counts for the unque values in courses columns\n",
    "count_unique(courses)"
   ]
  },
  {
   "cell_type": "code",
   "execution_count": 29,
   "id": "0f867cd5-e78c-4029-8f57-160993b1b3df",
   "metadata": {
    "tags": [
     "remove_input"
    ]
   },
   "outputs": [
    {
     "data": {
      "text/markdown": [
       "There are 7 unique modules delivered over 4 presentations"
      ],
      "text/plain": [
       "<IPython.core.display.Markdown object>"
      ]
     },
     "execution_count": 29,
     "metadata": {},
     "output_type": "execute_result"
    }
   ],
   "source": [
    "# store the number of unique modules\n",
    "mod_count = courses['code_module'].nunique()\n",
    "# store the number of unique presentations\n",
    "presentation_count = courses['code_presentation'].nunique()\n",
    "# store the minimum module length in days\n",
    "min_mod_count = courses['module_presentation_length'].min()\n",
    "# store the maximum module length in dats\n",
    "max_mod_count = courses['module_presentation_length'].max()\n",
    "# store the average module length in days\n",
    "avg_mod_count = round(courses['module_presentation_length'].mean(), 1)\n",
    "\n",
    "md(f'''There are {mod_count} unique modules delivered over {presentation_count} presentations''')"
   ]
  },
  {
   "cell_type": "markdown",
   "id": "fec7bfd3-70d5-426f-b220-ecd7daaa4338",
   "metadata": {},
   "source": [
    "**Unique Categorical Values**"
   ]
  },
  {
   "cell_type": "code",
   "execution_count": 10,
   "id": "6931bea2-fd9d-4ec7-bd5d-2947d3cd3709",
   "metadata": {
    "tags": [
     "remove_input"
    ]
   },
   "outputs": [
    {
     "data": {
      "text/html": [
       "<style type=\"text/css\">\n",
       "#T_d8606_ td.col0 {\n",
       "  font-weight: bold;\n",
       "}\n",
       "</style>\n",
       "<table id=\"T_d8606_\">\n",
       "  <thead>\n",
       "    <tr>\n",
       "      <th class=\"col_heading level0 col0\" >index</th>\n",
       "      <th class=\"col_heading level0 col1\" >Values</th>\n",
       "    </tr>\n",
       "  </thead>\n",
       "  <tbody>\n",
       "    <tr>\n",
       "      <td id=\"T_d8606_row0_col0\" class=\"data row0 col0\" >code_module</td>\n",
       "      <td id=\"T_d8606_row0_col1\" class=\"data row0 col1\" >['AAA', 'BBB', 'CCC', 'DDD', 'EEE', 'FFF', 'GGG']</td>\n",
       "    </tr>\n",
       "    <tr>\n",
       "      <td id=\"T_d8606_row1_col0\" class=\"data row1 col0\" >code_presentation</td>\n",
       "      <td id=\"T_d8606_row1_col1\" class=\"data row1 col1\" >['2013J', '2014J', '2013B', '2014B']</td>\n",
       "    </tr>\n",
       "  </tbody>\n",
       "</table>\n"
      ],
      "text/plain": [
       "<pandas.io.formats.style.Styler at 0x2158a439af0>"
      ]
     },
     "execution_count": 10,
     "metadata": {},
     "output_type": "execute_result"
    }
   ],
   "source": [
    "# get the unique categorical values in courses\n",
    "unique_vals(courses)"
   ]
  },
  {
   "cell_type": "markdown",
   "id": "d752b9a7-6ae2-4714-962c-074697ed5262",
   "metadata": {},
   "source": [
    "Here we can see the modules AAA through GGG and the four presentations they were delivered over"
   ]
  },
  {
   "cell_type": "code",
   "execution_count": 13,
   "id": "4d04d829-735d-41f3-9dcb-3675a23aa8ca",
   "metadata": {
    "tags": [
     "remove_input"
    ]
   },
   "outputs": [
    {
     "data": {
      "text/html": [
       "<style type=\"text/css\">\n",
       "</style>\n",
       "<table id=\"T_b125f_\">\n",
       "  <thead>\n",
       "    <tr>\n",
       "      <th class=\"index_name level0\" >code_presentation</th>\n",
       "      <th class=\"blank col0\" >&nbsp;</th>\n",
       "      <th class=\"blank col1\" >&nbsp;</th>\n",
       "      <th class=\"blank col2\" >&nbsp;</th>\n",
       "      <th class=\"blank col3\" >&nbsp;</th>\n",
       "      <th class=\"blank col4\" >&nbsp;</th>\n",
       "      <th class=\"blank col5\" >&nbsp;</th>\n",
       "      <th class=\"blank col6\" >&nbsp;</th>\n",
       "    </tr>\n",
       "  </thead>\n",
       "  <tbody>\n",
       "    <tr>\n",
       "      <th id=\"T_b125f_level0_row0\" class=\"row_heading level0 row0\" >2013B</th>\n",
       "      <td id=\"T_b125f_row0_col0\" class=\"data row0 col0\" >0</td>\n",
       "      <td id=\"T_b125f_row0_col1\" class=\"data row0 col1\" >BBB</td>\n",
       "      <td id=\"T_b125f_row0_col2\" class=\"data row0 col2\" >0</td>\n",
       "      <td id=\"T_b125f_row0_col3\" class=\"data row0 col3\" >DDD</td>\n",
       "      <td id=\"T_b125f_row0_col4\" class=\"data row0 col4\" >0</td>\n",
       "      <td id=\"T_b125f_row0_col5\" class=\"data row0 col5\" >FFF</td>\n",
       "      <td id=\"T_b125f_row0_col6\" class=\"data row0 col6\" >0</td>\n",
       "    </tr>\n",
       "    <tr>\n",
       "      <th id=\"T_b125f_level0_row1\" class=\"row_heading level0 row1\" >2013J</th>\n",
       "      <td id=\"T_b125f_row1_col0\" class=\"data row1 col0\" >AAA</td>\n",
       "      <td id=\"T_b125f_row1_col1\" class=\"data row1 col1\" >BBB</td>\n",
       "      <td id=\"T_b125f_row1_col2\" class=\"data row1 col2\" >0</td>\n",
       "      <td id=\"T_b125f_row1_col3\" class=\"data row1 col3\" >DDD</td>\n",
       "      <td id=\"T_b125f_row1_col4\" class=\"data row1 col4\" >EEE</td>\n",
       "      <td id=\"T_b125f_row1_col5\" class=\"data row1 col5\" >FFF</td>\n",
       "      <td id=\"T_b125f_row1_col6\" class=\"data row1 col6\" >GGG</td>\n",
       "    </tr>\n",
       "    <tr>\n",
       "      <th id=\"T_b125f_level0_row2\" class=\"row_heading level0 row2\" >2014B</th>\n",
       "      <td id=\"T_b125f_row2_col0\" class=\"data row2 col0\" >0</td>\n",
       "      <td id=\"T_b125f_row2_col1\" class=\"data row2 col1\" >BBB</td>\n",
       "      <td id=\"T_b125f_row2_col2\" class=\"data row2 col2\" >CCC</td>\n",
       "      <td id=\"T_b125f_row2_col3\" class=\"data row2 col3\" >DDD</td>\n",
       "      <td id=\"T_b125f_row2_col4\" class=\"data row2 col4\" >EEE</td>\n",
       "      <td id=\"T_b125f_row2_col5\" class=\"data row2 col5\" >FFF</td>\n",
       "      <td id=\"T_b125f_row2_col6\" class=\"data row2 col6\" >GGG</td>\n",
       "    </tr>\n",
       "    <tr>\n",
       "      <th id=\"T_b125f_level0_row3\" class=\"row_heading level0 row3\" >2014J</th>\n",
       "      <td id=\"T_b125f_row3_col0\" class=\"data row3 col0\" >AAA</td>\n",
       "      <td id=\"T_b125f_row3_col1\" class=\"data row3 col1\" >BBB</td>\n",
       "      <td id=\"T_b125f_row3_col2\" class=\"data row3 col2\" >CCC</td>\n",
       "      <td id=\"T_b125f_row3_col3\" class=\"data row3 col3\" >DDD</td>\n",
       "      <td id=\"T_b125f_row3_col4\" class=\"data row3 col4\" >EEE</td>\n",
       "      <td id=\"T_b125f_row3_col5\" class=\"data row3 col5\" >FFF</td>\n",
       "      <td id=\"T_b125f_row3_col6\" class=\"data row3 col6\" >GGG</td>\n",
       "    </tr>\n",
       "  </tbody>\n",
       "</table>\n"
      ],
      "text/plain": [
       "<pandas.io.formats.style.Styler at 0x215e9759d00>"
      ]
     },
     "execution_count": 13,
     "metadata": {},
     "output_type": "execute_result"
    }
   ],
   "source": [
    "# making a crosstab to map each code module to its presentation\n",
    "modules_dates = pd.crosstab(index=courses['code_presentation'], columns=courses['code_module'])\n",
    "modules_dates = modules_dates.replace(1, pd.Series(modules_dates.columns, modules_dates.columns))\n",
    "modules_dates.style.hide_columns()\n"
   ]
  },
  {
   "cell_type": "markdown",
   "id": "ca384eb2-402d-4018-b2ff-329ccd153862",
   "metadata": {},
   "source": [
    "Here is a breakdown of each presentation and what modules were offered during that time"
   ]
  },
  {
   "cell_type": "markdown",
   "id": "f352112b-9bfa-4c60-96ae-e98c2033bf20",
   "metadata": {},
   "source": [
    "**Numerical Values**"
   ]
  },
  {
   "cell_type": "code",
   "execution_count": 11,
   "id": "a56b2f82-c8d3-491e-aaef-04c903bb23b0",
   "metadata": {
    "tags": [
     "remove_input"
    ]
   },
   "outputs": [
    {
     "data": {
      "text/html": [
       "<div>\n",
       "<style scoped>\n",
       "    .dataframe tbody tr th:only-of-type {\n",
       "        vertical-align: middle;\n",
       "    }\n",
       "\n",
       "    .dataframe tbody tr th {\n",
       "        vertical-align: top;\n",
       "    }\n",
       "\n",
       "    .dataframe thead th {\n",
       "        text-align: right;\n",
       "    }\n",
       "</style>\n",
       "<table border=\"1\" class=\"dataframe\">\n",
       "  <thead>\n",
       "    <tr style=\"text-align: right;\">\n",
       "      <th></th>\n",
       "      <th>module_presentation_length</th>\n",
       "    </tr>\n",
       "  </thead>\n",
       "  <tbody>\n",
       "    <tr>\n",
       "      <th>count</th>\n",
       "      <td>22.0</td>\n",
       "    </tr>\n",
       "    <tr>\n",
       "      <th>mean</th>\n",
       "      <td>255.5</td>\n",
       "    </tr>\n",
       "    <tr>\n",
       "      <th>std</th>\n",
       "      <td>13.7</td>\n",
       "    </tr>\n",
       "    <tr>\n",
       "      <th>min</th>\n",
       "      <td>234.0</td>\n",
       "    </tr>\n",
       "    <tr>\n",
       "      <th>25%</th>\n",
       "      <td>241.0</td>\n",
       "    </tr>\n",
       "    <tr>\n",
       "      <th>50%</th>\n",
       "      <td>261.5</td>\n",
       "    </tr>\n",
       "    <tr>\n",
       "      <th>75%</th>\n",
       "      <td>268.0</td>\n",
       "    </tr>\n",
       "    <tr>\n",
       "      <th>max</th>\n",
       "      <td>269.0</td>\n",
       "    </tr>\n",
       "  </tbody>\n",
       "</table>\n",
       "</div>"
      ],
      "text/plain": [
       "       module_presentation_length\n",
       "count                        22.0\n",
       "mean                        255.5\n",
       "std                          13.7\n",
       "min                         234.0\n",
       "25%                         241.0\n",
       "50%                         261.5\n",
       "75%                         268.0\n",
       "max                         269.0"
      ]
     },
     "execution_count": 11,
     "metadata": {},
     "output_type": "execute_result"
    }
   ],
   "source": [
    "# show statistical breakdown of numerical values in courses\n",
    "courses.describe().round(1)"
   ]
  },
  {
   "cell_type": "code",
   "execution_count": 14,
   "id": "35fac7a9-b36e-4504-bea1-6eacd3819929",
   "metadata": {
    "tags": [
     "remove_input"
    ]
   },
   "outputs": [
    {
     "data": {
      "text/markdown": [
       "\n",
       "* Modules range from 234 to 269 days in length.\n",
       "* The average module is 255.5 days.\n"
      ],
      "text/plain": [
       "<IPython.core.display.Markdown object>"
      ]
     },
     "execution_count": 14,
     "metadata": {},
     "output_type": "execute_result"
    }
   ],
   "source": [
    "md(f\"\"\"\n",
    "* Modules range from {min_mod_count} to {max_mod_count} days in length.\n",
    "* The average module is {avg_mod_count} days.\n",
    "\"\"\")"
   ]
  },
  {
   "cell_type": "code",
   "execution_count": null,
   "id": "5df90e23-3d05-4097-9f99-4f131eda3f64",
   "metadata": {},
   "outputs": [],
   "source": []
  }
 ],
 "metadata": {
  "kernelspec": {
   "display_name": "Python 3",
   "language": "python",
   "name": "python3"
  },
  "language_info": {
   "codemirror_mode": {
    "name": "ipython",
    "version": 3
   },
   "file_extension": ".py",
   "mimetype": "text/x-python",
   "name": "python",
   "nbconvert_exporter": "python",
   "pygments_lexer": "ipython3",
   "version": "3.9.6"
  }
 },
 "nbformat": 4,
 "nbformat_minor": 5
}
