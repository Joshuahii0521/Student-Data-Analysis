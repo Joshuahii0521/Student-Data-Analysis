{
 "cells": [
  {
   "cell_type": "code",
   "execution_count": 1,
   "id": "d548f977-55e4-499c-996c-5aa8070958b0",
   "metadata": {
    "tags": [
     "remove_cell"
    ]
   },
   "outputs": [],
   "source": [
    "from functions import *"
   ]
  },
  {
   "cell_type": "markdown",
   "id": "e5a14227-1aa2-445b-8c28-1dcf1751ca8b",
   "metadata": {},
   "source": [
    "# Students\n",
    "\n",
    "---"
   ]
  },
  {
   "cell_type": "markdown",
   "id": "eb384d36-73ae-41ec-94cc-330079eef6cd",
   "metadata": {},
   "source": [
    "## Student Info\n",
    "---"
   ]
  },
  {
   "cell_type": "markdown",
   "id": "77349fd2-fb9e-4319-9e22-7c4d689fe8b9",
   "metadata": {},
   "source": [
    "The student info file contains details about students including the module they took, the presentation they took the module during, demographic information and the final result of their studies."
   ]
  },
  {
   "cell_type": "code",
   "execution_count": 2,
   "id": "77678c71-d2e0-4dfd-8af5-a20cd4168caf",
   "metadata": {
    "tags": [
     "remove_input"
    ]
   },
   "outputs": [
    {
     "data": {
      "text/html": [
       "<div>\n",
       "<style scoped>\n",
       "    .dataframe tbody tr th:only-of-type {\n",
       "        vertical-align: middle;\n",
       "    }\n",
       "\n",
       "    .dataframe tbody tr th {\n",
       "        vertical-align: top;\n",
       "    }\n",
       "\n",
       "    .dataframe thead th {\n",
       "        text-align: right;\n",
       "    }\n",
       "</style>\n",
       "<table border=\"1\" class=\"dataframe\">\n",
       "  <thead>\n",
       "    <tr style=\"text-align: right;\">\n",
       "      <th></th>\n",
       "      <th>code_module</th>\n",
       "      <th>code_presentation</th>\n",
       "      <th>id_student</th>\n",
       "      <th>gender</th>\n",
       "      <th>region</th>\n",
       "      <th>highest_education</th>\n",
       "      <th>imd_band</th>\n",
       "      <th>age_band</th>\n",
       "      <th>num_of_prev_attempts</th>\n",
       "      <th>studied_credits</th>\n",
       "      <th>disability</th>\n",
       "      <th>final_result</th>\n",
       "    </tr>\n",
       "  </thead>\n",
       "  <tbody>\n",
       "    <tr>\n",
       "      <th>0</th>\n",
       "      <td>AAA</td>\n",
       "      <td>2013J</td>\n",
       "      <td>11391</td>\n",
       "      <td>M</td>\n",
       "      <td>East Anglian Region</td>\n",
       "      <td>HE Qualification</td>\n",
       "      <td>90-100%</td>\n",
       "      <td>55&lt;=</td>\n",
       "      <td>0</td>\n",
       "      <td>240</td>\n",
       "      <td>N</td>\n",
       "      <td>Pass</td>\n",
       "    </tr>\n",
       "    <tr>\n",
       "      <th>1</th>\n",
       "      <td>AAA</td>\n",
       "      <td>2013J</td>\n",
       "      <td>28400</td>\n",
       "      <td>F</td>\n",
       "      <td>Scotland</td>\n",
       "      <td>HE Qualification</td>\n",
       "      <td>20-30%</td>\n",
       "      <td>35-55</td>\n",
       "      <td>0</td>\n",
       "      <td>60</td>\n",
       "      <td>N</td>\n",
       "      <td>Pass</td>\n",
       "    </tr>\n",
       "    <tr>\n",
       "      <th>2</th>\n",
       "      <td>AAA</td>\n",
       "      <td>2013J</td>\n",
       "      <td>30268</td>\n",
       "      <td>F</td>\n",
       "      <td>North Western Region</td>\n",
       "      <td>A Level or Equivalent</td>\n",
       "      <td>30-40%</td>\n",
       "      <td>35-55</td>\n",
       "      <td>0</td>\n",
       "      <td>60</td>\n",
       "      <td>Y</td>\n",
       "      <td>Withdrawn</td>\n",
       "    </tr>\n",
       "    <tr>\n",
       "      <th>3</th>\n",
       "      <td>AAA</td>\n",
       "      <td>2013J</td>\n",
       "      <td>31604</td>\n",
       "      <td>F</td>\n",
       "      <td>South East Region</td>\n",
       "      <td>A Level or Equivalent</td>\n",
       "      <td>50-60%</td>\n",
       "      <td>35-55</td>\n",
       "      <td>0</td>\n",
       "      <td>60</td>\n",
       "      <td>N</td>\n",
       "      <td>Pass</td>\n",
       "    </tr>\n",
       "    <tr>\n",
       "      <th>4</th>\n",
       "      <td>AAA</td>\n",
       "      <td>2013J</td>\n",
       "      <td>32885</td>\n",
       "      <td>F</td>\n",
       "      <td>West Midlands Region</td>\n",
       "      <td>Lower Than A Level</td>\n",
       "      <td>50-60%</td>\n",
       "      <td>0-35</td>\n",
       "      <td>0</td>\n",
       "      <td>60</td>\n",
       "      <td>N</td>\n",
       "      <td>Pass</td>\n",
       "    </tr>\n",
       "  </tbody>\n",
       "</table>\n",
       "</div>"
      ],
      "text/plain": [
       "  code_module code_presentation  id_student gender                region  \\\n",
       "0         AAA             2013J       11391      M   East Anglian Region   \n",
       "1         AAA             2013J       28400      F              Scotland   \n",
       "2         AAA             2013J       30268      F  North Western Region   \n",
       "3         AAA             2013J       31604      F     South East Region   \n",
       "4         AAA             2013J       32885      F  West Midlands Region   \n",
       "\n",
       "       highest_education imd_band age_band  num_of_prev_attempts  \\\n",
       "0       HE Qualification  90-100%     55<=                     0   \n",
       "1       HE Qualification   20-30%    35-55                     0   \n",
       "2  A Level or Equivalent   30-40%    35-55                     0   \n",
       "3  A Level or Equivalent   50-60%    35-55                     0   \n",
       "4     Lower Than A Level   50-60%     0-35                     0   \n",
       "\n",
       "   studied_credits disability final_result  \n",
       "0              240          N         Pass  \n",
       "1               60          N         Pass  \n",
       "2               60          Y    Withdrawn  \n",
       "3               60          N         Pass  \n",
       "4               60          N         Pass  "
      ]
     },
     "execution_count": 2,
     "metadata": {},
     "output_type": "execute_result"
    }
   ],
   "source": [
    "# looking at the stud_info dataframe\n",
    "student_info.head()"
   ]
  },
  {
   "cell_type": "markdown",
   "id": "b24bc1ff-b761-4327-bca2-79d69044ba3f",
   "metadata": {},
   "source": [
    "**Size**"
   ]
  },
  {
   "cell_type": "code",
   "execution_count": 3,
   "id": "7986116e-1a30-4e96-91f9-492b1b84a00e",
   "metadata": {
    "tags": [
     "remove_input"
    ]
   },
   "outputs": [
    {
     "data": {
      "text/html": [
       "<div>\n",
       "<style scoped>\n",
       "    .dataframe tbody tr th:only-of-type {\n",
       "        vertical-align: middle;\n",
       "    }\n",
       "\n",
       "    .dataframe tbody tr th {\n",
       "        vertical-align: top;\n",
       "    }\n",
       "\n",
       "    .dataframe thead th {\n",
       "        text-align: right;\n",
       "    }\n",
       "</style>\n",
       "<table border=\"1\" class=\"dataframe\">\n",
       "  <thead>\n",
       "    <tr style=\"text-align: right;\">\n",
       "      <th></th>\n",
       "      <th>Count</th>\n",
       "    </tr>\n",
       "  </thead>\n",
       "  <tbody>\n",
       "    <tr>\n",
       "      <th>Columns</th>\n",
       "      <td>12</td>\n",
       "    </tr>\n",
       "    <tr>\n",
       "      <th>Rows</th>\n",
       "      <td>32593</td>\n",
       "    </tr>\n",
       "  </tbody>\n",
       "</table>\n",
       "</div>"
      ],
      "text/plain": [
       "         Count\n",
       "Columns     12\n",
       "Rows     32593"
      ]
     },
     "execution_count": 3,
     "metadata": {},
     "output_type": "execute_result"
    }
   ],
   "source": [
    "# get size counts of stud_info\n",
    "get_size(student_info)"
   ]
  },
  {
   "cell_type": "code",
   "execution_count": 4,
   "id": "aa040bf7-c09e-490f-ad76-7a3cceca63c2",
   "metadata": {
    "tags": [
     "remove_input"
    ]
   },
   "outputs": [
    {
     "data": {
      "text/markdown": [
       "\n",
       "Student Info has 12 features and 32,593 student records.\n"
      ],
      "text/plain": [
       "<IPython.core.display.Markdown object>"
      ]
     },
     "execution_count": 4,
     "metadata": {},
     "output_type": "execute_result"
    }
   ],
   "source": [
    "md(f'''\n",
    "Student Info has {len(student_info.columns)} features and {\"{:,}\".format(len(student_info))} student records.\n",
    "''')"
   ]
  },
  {
   "cell_type": "markdown",
   "id": "2921a502-dd6c-4a6a-9b49-c00e22402cf6",
   "metadata": {},
   "source": [
    "### Student Info Contents\n",
    "\n",
    "* **code_module**: The code module represents the course the student is taking.\n",
    "* **code_presentation**: The code presentations are the year and semester the student is taking the course.\n",
    "* **id_student**: The student ID is a unique identifier for each student\n",
    "* **gender**: The gender represents the binary gender of a student 'M' for students who identify as male and 'F' for students who identify as female.\n",
    "* **region**: Region represents the location of the student when they took the module. All regions are in the UK, Scotland, Ireland or Wales.\n",
    "* **highest_education**: Highest education is representative of a students highest level of formal academic achievement.\n",
    "    - Education levels in order from least to most formal education: \n",
    "        - No formal quals (qualifications)\n",
    "        - Lower than A Level which is nearly but not quite analagous to under high school level\n",
    "        - A Level or equivalent which is again nearly analagous to high school level, but more like college ready\n",
    "        - HE Qualification which stands for higher education qualification\n",
    "        - Post Graduate Qualification\n",
    "* **imd_band**: The imd_band represents the Indices of multiple deprivation (IMD) score which is a commonly used method in the UK to measure poverty or deprivation in an area. The lower the score, the more 'deprived' the area is.\n",
    "* **age_band**: There are only three bins for age; _0-35_, _35-55_ and _55<=_\n",
    "* **num_of_prev_attempts**: The number of times the student has attempted the course previously.\n",
    "* **studied_credits**: The number of credits for the module the student is taking.\n",
    "* **disability**: Disability status is represented by a binary 'Y', yes a student does identify as having a disability and 'N', no a student does not identify as having a disability.\n",
    "* **final_results**: * The final result is the students overall result in the class.\n",
    "    - Possible Results include:\n",
    "         - _Pass_: The student passed the course\n",
    "         - _Fail_: The student did not pass the course\n",
    "         - _Withdraw_: The student withdrew before the course term ended\n",
    "         - _Distinction_: The student passed the class with distinction"
   ]
  },
  {
   "cell_type": "markdown",
   "id": "bec604a0-3280-46cb-8607-3ec1ed5394f3",
   "metadata": {},
   "source": [
    "## Student Registration Dataframe\n",
    "\n",
    "---"
   ]
  },
  {
   "cell_type": "markdown",
   "id": "e66cf453-cbdb-4476-8f59-6d689f7f0918",
   "metadata": {},
   "source": [
    "The information that the student registration file adds includes the dates that students registered and, if applicable, unregistered from the module."
   ]
  },
  {
   "cell_type": "code",
   "execution_count": 5,
   "id": "fa8c5401-2804-4a73-a485-43c6314475b2",
   "metadata": {
    "tags": [
     "remove_input"
    ]
   },
   "outputs": [
    {
     "data": {
      "text/html": [
       "<div>\n",
       "<style scoped>\n",
       "    .dataframe tbody tr th:only-of-type {\n",
       "        vertical-align: middle;\n",
       "    }\n",
       "\n",
       "    .dataframe tbody tr th {\n",
       "        vertical-align: top;\n",
       "    }\n",
       "\n",
       "    .dataframe thead th {\n",
       "        text-align: right;\n",
       "    }\n",
       "</style>\n",
       "<table border=\"1\" class=\"dataframe\">\n",
       "  <thead>\n",
       "    <tr style=\"text-align: right;\">\n",
       "      <th></th>\n",
       "      <th>code_module</th>\n",
       "      <th>code_presentation</th>\n",
       "      <th>id_student</th>\n",
       "      <th>date_registration</th>\n",
       "      <th>date_unregistration</th>\n",
       "    </tr>\n",
       "  </thead>\n",
       "  <tbody>\n",
       "    <tr>\n",
       "      <th>0</th>\n",
       "      <td>AAA</td>\n",
       "      <td>2013J</td>\n",
       "      <td>11391</td>\n",
       "      <td>-159.0</td>\n",
       "      <td>NaN</td>\n",
       "    </tr>\n",
       "    <tr>\n",
       "      <th>1</th>\n",
       "      <td>AAA</td>\n",
       "      <td>2013J</td>\n",
       "      <td>28400</td>\n",
       "      <td>-53.0</td>\n",
       "      <td>NaN</td>\n",
       "    </tr>\n",
       "    <tr>\n",
       "      <th>2</th>\n",
       "      <td>AAA</td>\n",
       "      <td>2013J</td>\n",
       "      <td>30268</td>\n",
       "      <td>-92.0</td>\n",
       "      <td>12.0</td>\n",
       "    </tr>\n",
       "    <tr>\n",
       "      <th>3</th>\n",
       "      <td>AAA</td>\n",
       "      <td>2013J</td>\n",
       "      <td>31604</td>\n",
       "      <td>-52.0</td>\n",
       "      <td>NaN</td>\n",
       "    </tr>\n",
       "    <tr>\n",
       "      <th>4</th>\n",
       "      <td>AAA</td>\n",
       "      <td>2013J</td>\n",
       "      <td>32885</td>\n",
       "      <td>-176.0</td>\n",
       "      <td>NaN</td>\n",
       "    </tr>\n",
       "  </tbody>\n",
       "</table>\n",
       "</div>"
      ],
      "text/plain": [
       "  code_module code_presentation  id_student  date_registration  \\\n",
       "0         AAA             2013J       11391             -159.0   \n",
       "1         AAA             2013J       28400              -53.0   \n",
       "2         AAA             2013J       30268              -92.0   \n",
       "3         AAA             2013J       31604              -52.0   \n",
       "4         AAA             2013J       32885             -176.0   \n",
       "\n",
       "   date_unregistration  \n",
       "0                  NaN  \n",
       "1                  NaN  \n",
       "2                 12.0  \n",
       "3                  NaN  \n",
       "4                  NaN  "
      ]
     },
     "execution_count": 5,
     "metadata": {},
     "output_type": "execute_result"
    }
   ],
   "source": [
    "# looking at the student_registration dataframe\n",
    "student_registration.head()"
   ]
  },
  {
   "cell_type": "markdown",
   "id": "fa6e0fca-373f-4da0-beeb-ea93ee286ec8",
   "metadata": {},
   "source": [
    "**Size**"
   ]
  },
  {
   "cell_type": "code",
   "execution_count": 6,
   "id": "baed9098-e4ab-45a7-8931-a8f3de6452a6",
   "metadata": {
    "tags": []
   },
   "outputs": [
    {
     "data": {
      "text/html": [
       "<div>\n",
       "<style scoped>\n",
       "    .dataframe tbody tr th:only-of-type {\n",
       "        vertical-align: middle;\n",
       "    }\n",
       "\n",
       "    .dataframe tbody tr th {\n",
       "        vertical-align: top;\n",
       "    }\n",
       "\n",
       "    .dataframe thead th {\n",
       "        text-align: right;\n",
       "    }\n",
       "</style>\n",
       "<table border=\"1\" class=\"dataframe\">\n",
       "  <thead>\n",
       "    <tr style=\"text-align: right;\">\n",
       "      <th></th>\n",
       "      <th>Count</th>\n",
       "    </tr>\n",
       "  </thead>\n",
       "  <tbody>\n",
       "    <tr>\n",
       "      <th>Columns</th>\n",
       "      <td>5</td>\n",
       "    </tr>\n",
       "    <tr>\n",
       "      <th>Rows</th>\n",
       "      <td>32593</td>\n",
       "    </tr>\n",
       "  </tbody>\n",
       "</table>\n",
       "</div>"
      ],
      "text/plain": [
       "         Count\n",
       "Columns      5\n",
       "Rows     32593"
      ]
     },
     "execution_count": 6,
     "metadata": {},
     "output_type": "execute_result"
    }
   ],
   "source": [
    "get_size(student_registration)"
   ]
  },
  {
   "cell_type": "code",
   "execution_count": 7,
   "id": "9a263df0-182c-4684-9082-c027377b5d70",
   "metadata": {
    "tags": []
   },
   "outputs": [
    {
     "data": {
      "text/markdown": [
       " \n",
       "Student Registration has 5 features and 32,593 student records.\n"
      ],
      "text/plain": [
       "<IPython.core.display.Markdown object>"
      ]
     },
     "execution_count": 7,
     "metadata": {},
     "output_type": "execute_result"
    }
   ],
   "source": [
    "md(f''' \n",
    "Student Registration has {len(student_registration.columns)} features and {\"{:,}\".format(len(student_registration))} student records.\n",
    "''')"
   ]
  },
  {
   "cell_type": "markdown",
   "id": "86bfad0d-ec27-4e4f-b7ab-0e22a246745c",
   "metadata": {},
   "source": [
    "### Student Registration Contents\n",
    "\n",
    "* **code_module**: The code module represents the course which the sutdent registered for.\n",
    "* **code_presentation**: The code presentation represents the time of year the course which the student registered for began.\n",
    "* **id_student**: The student ID is the unique identifier for each student.\n",
    "* **date_registration**: The registration date is the date that the student registered for the module relative to the start of the module. A negative value indicates that many days before the module began.\n",
    "* **date_unregistration**: The unregistration date is the date that the student unregistered from the course module in relation to the start date of the course, if applicable."
   ]
  },
  {
   "cell_type": "markdown",
   "id": "ac599dc0-225f-4b28-b2d2-5ab4ea15eb3b",
   "metadata": {},
   "source": [
    "---\n",
    "\n",
    "### Student Info Exploration and Cleaning"
   ]
  },
  {
   "cell_type": "markdown",
   "id": "c6522a03-b768-4f30-9d1f-3e5effccfcdc",
   "metadata": {},
   "source": [
    "```{note}\n",
    "* The student registration dataframe matches 1:1 with the student info dataframe only adding the date the student registered and the date in which they unregistered, and so we will merge these two dataframes.\n",
    "* The dataframe columns can then be reordered to keep relevent data together. \n",
    "```"
   ]
  },
  {
   "cell_type": "code",
   "execution_count": 8,
   "id": "5d7130c8-d091-4ba3-a553-1e60442cc98a",
   "metadata": {
    "tags": []
   },
   "outputs": [],
   "source": [
    "# outer join and merge student info with student registration\n",
    "stud_info = student_info.merge(student_registration, how='outer', on=['code_module', 'code_presentation', 'id_student'], indicator=False)\n",
    "\n",
    "# reordering the stud_info dataframe to keep country, module and student data together\n",
    "stud_info = stud_info[['code_module', 'code_presentation', 'id_student', 'region', 'imd_band', 'age_band', 'gender', 'highest_education', 'disability', 'num_of_prev_attempts', 'studied_credits', 'final_result', 'date_registration', 'date_unregistration']]"
   ]
  },
  {
   "cell_type": "markdown",
   "id": "01e4884a-7a09-4199-a840-9f3818b0d61c",
   "metadata": {},
   "source": [
    "* Column names will be changed to be less verbose\n",
    "    * code_module to module\n",
    "    * code_presentation to presentation\n",
    "    * highest_education to education\n",
    "    * imd_band to imd\n",
    "    * age_band to age\n",
    "    * num_of_prev_attempts to attempts\n",
    "    * studied_credits to credits\n",
    "    * final result to result\n",
    "* Column values will be changed to be less verbose:\n",
    "    * education\n",
    "        - `HE Qualification` to `HE`\n",
    "        - `A Level or Equivalent` to `A Level`\n",
    "        - `Lower than A Level` to `Under A Level`\n",
    "        - `Post Graduate Qualification` to `Post Grad`\n",
    "        - `No Formal quals` to `No Formal`\n",
    "    * region\n",
    "        - Region will be removed from the end of each region name\n",
    "* 'Y' and 'N' in disability will be changed to boolean for ease of manipulation"
   ]
  },
  {
   "cell_type": "code",
   "execution_count": 9,
   "id": "f6bb910b-3f29-4b54-a184-030039561af0",
   "metadata": {},
   "outputs": [],
   "source": [
    "regions = ['East Anglian Region', 'North Western Region',\n",
    " 'South East Region', 'West Midlands Region', 'North Region',\n",
    " 'South Region', 'South West Region', 'East Midlands Region',\n",
    " 'Yorkshire Region', 'London Region', 'Wales', 'Scotland', 'Ireland']"
   ]
  },
  {
   "cell_type": "code",
   "execution_count": 10,
   "id": "de9a3139-0c0e-483f-a112-255de7dac41f",
   "metadata": {
    "tags": [
     "remove_cell"
    ]
   },
   "outputs": [],
   "source": [
    "# rename num_of_prev_attempts column to prev_attempts to save space\n",
    "stud_info_rename = {'code_module':'module', 'code_presentation':'presentation', 'final_result':'result', 'studied_credits':'credits', 'age_band':'age', 'num_of_prev_attempts':'attempts', 'highest_education':'education', 'imd_band':'imd'}\n",
    "stud_info = stud_info.rename(columns=stud_info_rename)\n",
    "\n",
    "stud_info = stud_info.replace({'disability':{'Y':True, 'N':False}, 'region':{'East Anglian Region':'East Anglian', 'North Western Region':'North Western', 'South East Region':'South East', 'West Midlands Region':'West Midlands', 'North Region':'North',\n",
    " 'South Region':'South', 'South West Region':'South West', 'East Midlands Region':'East Midlands',\n",
    " 'Yorkshire Region':'Yorkshire', 'London Region':'London'}, 'education':{'HE Qualification':'HE', 'A Level or Equivalent':'A Level', 'Post Graduate Qualification':'Post Grad', 'No Formal quals':'No Formal', 'Lower Than A Level':'Under A Level'}})"
   ]
  },
  {
   "cell_type": "markdown",
   "id": "434e4748-cf6e-43bb-8cfb-fe803e9a6444",
   "metadata": {},
   "source": [
    "**Data Types**"
   ]
  },
  {
   "cell_type": "code",
   "execution_count": 11,
   "id": "284377a5-1698-4cb2-9d7e-f6ab7b5950b9",
   "metadata": {
    "tags": [
     "remove_input"
    ]
   },
   "outputs": [
    {
     "data": {
      "text/html": [
       "<style type=\"text/css\">\n",
       "#T_b86c0_ td.col0 {\n",
       "  font-weight: bold;\n",
       "}\n",
       "</style>\n",
       "<table id=\"T_b86c0_\">\n",
       "  <thead>\n",
       "    <tr>\n",
       "      <th class=\"col_heading level0 col0\" >index</th>\n",
       "      <th class=\"col_heading level0 col1\" >Type</th>\n",
       "    </tr>\n",
       "  </thead>\n",
       "  <tbody>\n",
       "    <tr>\n",
       "      <td id=\"T_b86c0_row0_col0\" class=\"data row0 col0\" >module</td>\n",
       "      <td id=\"T_b86c0_row0_col1\" class=\"data row0 col1\" >object</td>\n",
       "    </tr>\n",
       "    <tr>\n",
       "      <td id=\"T_b86c0_row1_col0\" class=\"data row1 col0\" >presentation</td>\n",
       "      <td id=\"T_b86c0_row1_col1\" class=\"data row1 col1\" >object</td>\n",
       "    </tr>\n",
       "    <tr>\n",
       "      <td id=\"T_b86c0_row2_col0\" class=\"data row2 col0\" >id_student</td>\n",
       "      <td id=\"T_b86c0_row2_col1\" class=\"data row2 col1\" >int64</td>\n",
       "    </tr>\n",
       "    <tr>\n",
       "      <td id=\"T_b86c0_row3_col0\" class=\"data row3 col0\" >region</td>\n",
       "      <td id=\"T_b86c0_row3_col1\" class=\"data row3 col1\" >object</td>\n",
       "    </tr>\n",
       "    <tr>\n",
       "      <td id=\"T_b86c0_row4_col0\" class=\"data row4 col0\" >imd</td>\n",
       "      <td id=\"T_b86c0_row4_col1\" class=\"data row4 col1\" >object</td>\n",
       "    </tr>\n",
       "    <tr>\n",
       "      <td id=\"T_b86c0_row5_col0\" class=\"data row5 col0\" >age</td>\n",
       "      <td id=\"T_b86c0_row5_col1\" class=\"data row5 col1\" >object</td>\n",
       "    </tr>\n",
       "    <tr>\n",
       "      <td id=\"T_b86c0_row6_col0\" class=\"data row6 col0\" >gender</td>\n",
       "      <td id=\"T_b86c0_row6_col1\" class=\"data row6 col1\" >object</td>\n",
       "    </tr>\n",
       "    <tr>\n",
       "      <td id=\"T_b86c0_row7_col0\" class=\"data row7 col0\" >education</td>\n",
       "      <td id=\"T_b86c0_row7_col1\" class=\"data row7 col1\" >object</td>\n",
       "    </tr>\n",
       "    <tr>\n",
       "      <td id=\"T_b86c0_row8_col0\" class=\"data row8 col0\" >disability</td>\n",
       "      <td id=\"T_b86c0_row8_col1\" class=\"data row8 col1\" >bool</td>\n",
       "    </tr>\n",
       "    <tr>\n",
       "      <td id=\"T_b86c0_row9_col0\" class=\"data row9 col0\" >attempts</td>\n",
       "      <td id=\"T_b86c0_row9_col1\" class=\"data row9 col1\" >int64</td>\n",
       "    </tr>\n",
       "    <tr>\n",
       "      <td id=\"T_b86c0_row10_col0\" class=\"data row10 col0\" >credits</td>\n",
       "      <td id=\"T_b86c0_row10_col1\" class=\"data row10 col1\" >int64</td>\n",
       "    </tr>\n",
       "    <tr>\n",
       "      <td id=\"T_b86c0_row11_col0\" class=\"data row11 col0\" >result</td>\n",
       "      <td id=\"T_b86c0_row11_col1\" class=\"data row11 col1\" >object</td>\n",
       "    </tr>\n",
       "    <tr>\n",
       "      <td id=\"T_b86c0_row12_col0\" class=\"data row12 col0\" >date_registration</td>\n",
       "      <td id=\"T_b86c0_row12_col1\" class=\"data row12 col1\" >float64</td>\n",
       "    </tr>\n",
       "    <tr>\n",
       "      <td id=\"T_b86c0_row13_col0\" class=\"data row13 col0\" >date_unregistration</td>\n",
       "      <td id=\"T_b86c0_row13_col1\" class=\"data row13 col1\" >float64</td>\n",
       "    </tr>\n",
       "  </tbody>\n",
       "</table>\n"
      ],
      "text/plain": [
       "<pandas.io.formats.style.Styler at 0x17100044730>"
      ]
     },
     "execution_count": 11,
     "metadata": {},
     "output_type": "execute_result"
    }
   ],
   "source": [
    "# show student info data types\n",
    "get_dtypes(stud_info)"
   ]
  },
  {
   "cell_type": "markdown",
   "id": "7b71cf15-eb52-4d18-85fa-bdde712629ba",
   "metadata": {},
   "source": [
    "* `id_student`, `module`, `presentation`, `region`, `imd`, `age`, `gender`, `education`, and `result` are all categorical and will be changed to `category` datatype"
   ]
  },
  {
   "cell_type": "code",
   "execution_count": 12,
   "id": "f5aace78-48dc-4328-aba9-26d30fd18dcb",
   "metadata": {
    "tags": [
     "remove_cell"
    ]
   },
   "outputs": [
    {
     "data": {
      "text/html": [
       "<style type=\"text/css\">\n",
       "#T_300d7_ td.col0 {\n",
       "  font-weight: bold;\n",
       "}\n",
       "</style>\n",
       "<table id=\"T_300d7_\">\n",
       "  <thead>\n",
       "    <tr>\n",
       "      <th class=\"col_heading level0 col0\" >index</th>\n",
       "      <th class=\"col_heading level0 col1\" >Type</th>\n",
       "    </tr>\n",
       "  </thead>\n",
       "  <tbody>\n",
       "    <tr>\n",
       "      <td id=\"T_300d7_row0_col0\" class=\"data row0 col0\" >module</td>\n",
       "      <td id=\"T_300d7_row0_col1\" class=\"data row0 col1\" >string</td>\n",
       "    </tr>\n",
       "    <tr>\n",
       "      <td id=\"T_300d7_row1_col0\" class=\"data row1 col0\" >presentation</td>\n",
       "      <td id=\"T_300d7_row1_col1\" class=\"data row1 col1\" >string</td>\n",
       "    </tr>\n",
       "    <tr>\n",
       "      <td id=\"T_300d7_row2_col0\" class=\"data row2 col0\" >id_student</td>\n",
       "      <td id=\"T_300d7_row2_col1\" class=\"data row2 col1\" >category</td>\n",
       "    </tr>\n",
       "    <tr>\n",
       "      <td id=\"T_300d7_row3_col0\" class=\"data row3 col0\" >region</td>\n",
       "      <td id=\"T_300d7_row3_col1\" class=\"data row3 col1\" >string</td>\n",
       "    </tr>\n",
       "    <tr>\n",
       "      <td id=\"T_300d7_row4_col0\" class=\"data row4 col0\" >imd</td>\n",
       "      <td id=\"T_300d7_row4_col1\" class=\"data row4 col1\" >string</td>\n",
       "    </tr>\n",
       "    <tr>\n",
       "      <td id=\"T_300d7_row5_col0\" class=\"data row5 col0\" >age</td>\n",
       "      <td id=\"T_300d7_row5_col1\" class=\"data row5 col1\" >string</td>\n",
       "    </tr>\n",
       "    <tr>\n",
       "      <td id=\"T_300d7_row6_col0\" class=\"data row6 col0\" >gender</td>\n",
       "      <td id=\"T_300d7_row6_col1\" class=\"data row6 col1\" >string</td>\n",
       "    </tr>\n",
       "    <tr>\n",
       "      <td id=\"T_300d7_row7_col0\" class=\"data row7 col0\" >education</td>\n",
       "      <td id=\"T_300d7_row7_col1\" class=\"data row7 col1\" >string</td>\n",
       "    </tr>\n",
       "    <tr>\n",
       "      <td id=\"T_300d7_row8_col0\" class=\"data row8 col0\" >disability</td>\n",
       "      <td id=\"T_300d7_row8_col1\" class=\"data row8 col1\" >boolean</td>\n",
       "    </tr>\n",
       "    <tr>\n",
       "      <td id=\"T_300d7_row9_col0\" class=\"data row9 col0\" >attempts</td>\n",
       "      <td id=\"T_300d7_row9_col1\" class=\"data row9 col1\" >Int64</td>\n",
       "    </tr>\n",
       "    <tr>\n",
       "      <td id=\"T_300d7_row10_col0\" class=\"data row10 col0\" >credits</td>\n",
       "      <td id=\"T_300d7_row10_col1\" class=\"data row10 col1\" >Int64</td>\n",
       "    </tr>\n",
       "    <tr>\n",
       "      <td id=\"T_300d7_row11_col0\" class=\"data row11 col0\" >result</td>\n",
       "      <td id=\"T_300d7_row11_col1\" class=\"data row11 col1\" >string</td>\n",
       "    </tr>\n",
       "    <tr>\n",
       "      <td id=\"T_300d7_row12_col0\" class=\"data row12 col0\" >date_registration</td>\n",
       "      <td id=\"T_300d7_row12_col1\" class=\"data row12 col1\" >Int64</td>\n",
       "    </tr>\n",
       "    <tr>\n",
       "      <td id=\"T_300d7_row13_col0\" class=\"data row13 col0\" >date_unregistration</td>\n",
       "      <td id=\"T_300d7_row13_col1\" class=\"data row13 col1\" >Int64</td>\n",
       "    </tr>\n",
       "  </tbody>\n",
       "</table>\n"
      ],
      "text/plain": [
       "<pandas.io.formats.style.Styler at 0x17100044520>"
      ]
     },
     "execution_count": 12,
     "metadata": {},
     "output_type": "execute_result"
    }
   ],
   "source": [
    "# changing id_student to the category data type\n",
    "stud_info['id_student'] = stud_info['id_student'].astype('category')\n",
    "stud_info = stud_info.convert_dtypes()\n",
    "get_dtypes(stud_info)"
   ]
  },
  {
   "cell_type": "markdown",
   "id": "a9bff32a-0995-4135-87c7-195ee15cf083",
   "metadata": {},
   "source": [
    "**Null Values**"
   ]
  },
  {
   "cell_type": "code",
   "execution_count": 13,
   "id": "d5afafad-68eb-462a-aadb-024459790296",
   "metadata": {
    "tags": [
     "remove_input"
    ]
   },
   "outputs": [
    {
     "data": {
      "text/html": [
       "<style type=\"text/css\">\n",
       "#T_8930b_ td.col0 {\n",
       "  font-weight: bold;\n",
       "}\n",
       "</style>\n",
       "<table id=\"T_8930b_\">\n",
       "  <thead>\n",
       "    <tr>\n",
       "      <th class=\"col_heading level0 col0\" >index</th>\n",
       "      <th class=\"col_heading level0 col1\" >Null Values</th>\n",
       "    </tr>\n",
       "  </thead>\n",
       "  <tbody>\n",
       "    <tr>\n",
       "      <td id=\"T_8930b_row0_col0\" class=\"data row0 col0\" >module</td>\n",
       "      <td id=\"T_8930b_row0_col1\" class=\"data row0 col1\" >0</td>\n",
       "    </tr>\n",
       "    <tr>\n",
       "      <td id=\"T_8930b_row1_col0\" class=\"data row1 col0\" >presentation</td>\n",
       "      <td id=\"T_8930b_row1_col1\" class=\"data row1 col1\" >0</td>\n",
       "    </tr>\n",
       "    <tr>\n",
       "      <td id=\"T_8930b_row2_col0\" class=\"data row2 col0\" >id_student</td>\n",
       "      <td id=\"T_8930b_row2_col1\" class=\"data row2 col1\" >0</td>\n",
       "    </tr>\n",
       "    <tr>\n",
       "      <td id=\"T_8930b_row3_col0\" class=\"data row3 col0\" >region</td>\n",
       "      <td id=\"T_8930b_row3_col1\" class=\"data row3 col1\" >0</td>\n",
       "    </tr>\n",
       "    <tr>\n",
       "      <td id=\"T_8930b_row4_col0\" class=\"data row4 col0\" >imd</td>\n",
       "      <td id=\"T_8930b_row4_col1\" class=\"data row4 col1\" >1111</td>\n",
       "    </tr>\n",
       "    <tr>\n",
       "      <td id=\"T_8930b_row5_col0\" class=\"data row5 col0\" >age</td>\n",
       "      <td id=\"T_8930b_row5_col1\" class=\"data row5 col1\" >0</td>\n",
       "    </tr>\n",
       "    <tr>\n",
       "      <td id=\"T_8930b_row6_col0\" class=\"data row6 col0\" >gender</td>\n",
       "      <td id=\"T_8930b_row6_col1\" class=\"data row6 col1\" >0</td>\n",
       "    </tr>\n",
       "    <tr>\n",
       "      <td id=\"T_8930b_row7_col0\" class=\"data row7 col0\" >education</td>\n",
       "      <td id=\"T_8930b_row7_col1\" class=\"data row7 col1\" >0</td>\n",
       "    </tr>\n",
       "    <tr>\n",
       "      <td id=\"T_8930b_row8_col0\" class=\"data row8 col0\" >disability</td>\n",
       "      <td id=\"T_8930b_row8_col1\" class=\"data row8 col1\" >0</td>\n",
       "    </tr>\n",
       "    <tr>\n",
       "      <td id=\"T_8930b_row9_col0\" class=\"data row9 col0\" >attempts</td>\n",
       "      <td id=\"T_8930b_row9_col1\" class=\"data row9 col1\" >0</td>\n",
       "    </tr>\n",
       "    <tr>\n",
       "      <td id=\"T_8930b_row10_col0\" class=\"data row10 col0\" >credits</td>\n",
       "      <td id=\"T_8930b_row10_col1\" class=\"data row10 col1\" >0</td>\n",
       "    </tr>\n",
       "    <tr>\n",
       "      <td id=\"T_8930b_row11_col0\" class=\"data row11 col0\" >result</td>\n",
       "      <td id=\"T_8930b_row11_col1\" class=\"data row11 col1\" >0</td>\n",
       "    </tr>\n",
       "    <tr>\n",
       "      <td id=\"T_8930b_row12_col0\" class=\"data row12 col0\" >date_registration</td>\n",
       "      <td id=\"T_8930b_row12_col1\" class=\"data row12 col1\" >45</td>\n",
       "    </tr>\n",
       "    <tr>\n",
       "      <td id=\"T_8930b_row13_col0\" class=\"data row13 col0\" >date_unregistration</td>\n",
       "      <td id=\"T_8930b_row13_col1\" class=\"data row13 col1\" >22521</td>\n",
       "    </tr>\n",
       "  </tbody>\n",
       "</table>\n"
      ],
      "text/plain": [
       "<pandas.io.formats.style.Styler at 0x171000611c0>"
      ]
     },
     "execution_count": 13,
     "metadata": {},
     "output_type": "execute_result"
    }
   ],
   "source": [
    "null_vals(stud_info)"
   ]
  },
  {
   "cell_type": "code",
   "execution_count": 14,
   "id": "1db313a5-1bdf-42c6-9a31-cbe57d9b2c21",
   "metadata": {
    "tags": [
     "remove_input"
    ]
   },
   "outputs": [
    {
     "data": {
      "text/markdown": [
       "\n",
       "* The `imd` variable has 1,111 null values. For these, we will find the most common imd band for each region and assert that as the value.\n",
       "* We have 45 null values for date_registration, and no mention of this in the dataset documentation, so we will treat this as missing data.\n",
       "* There are 22,521 null values for `date_unregistration` which represent the students that did not withdraw from the course.\n",
       "    * Not every withdrawn student has a date that they unregistered. There are 93 entries of students with a `Withdrawn` result but a `date_unregstration` of `<NA>`"
      ],
      "text/plain": [
       "<IPython.core.display.Markdown object>"
      ]
     },
     "execution_count": 14,
     "metadata": {},
     "output_type": "execute_result"
    }
   ],
   "source": [
    "# store sum of imd null values\n",
    "imd_null = stud_info['imd'].isnull().sum()\n",
    "\n",
    "# store the sum of null values of date_registration\n",
    "null_registration = student_registration['date_registration'].isnull().sum()\n",
    "\n",
    "# store the sum of null values of date_unregistration\n",
    "null_unregistration = student_registration['date_unregistration'].isnull().sum()\n",
    "\n",
    "# locate where stud_info has a result of withdrawn and a date_unregistration of NA\n",
    "withdrawn_na = stud_info.loc[(stud_info['result'] == 'Withdrawn') & (stud_info['date_unregistration'].isna())]\n",
    "\n",
    "\n",
    "md(f'''\n",
    "* The `imd` variable has {\"{:,}\".format(imd_null)} null values. For these, we will find the most common imd band for each region and assert that as the value.\n",
    "* We have {null_registration} null values for date_registration, and no mention of this in the dataset documentation, so we will treat this as missing data.\n",
    "* There are {\"{:,}\".format(null_unregistration)} null values for `date_unregistration` which represent the students that did not withdraw from the course.\n",
    "    * Not every withdrawn student has a date that they unregistered. There are {len(withdrawn_na)} entries of students with a `Withdrawn` result but a `date_unregstration` of `<NA>`''')"
   ]
  },
  {
   "cell_type": "code",
   "execution_count": 15,
   "id": "d0906500-bd56-4a2e-9d2d-f3a475fbbbfc",
   "metadata": {},
   "outputs": [
    {
     "data": {
      "text/html": [
       "<div>\n",
       "<style scoped>\n",
       "    .dataframe tbody tr th:only-of-type {\n",
       "        vertical-align: middle;\n",
       "    }\n",
       "\n",
       "    .dataframe tbody tr th {\n",
       "        vertical-align: top;\n",
       "    }\n",
       "\n",
       "    .dataframe thead th {\n",
       "        text-align: right;\n",
       "    }\n",
       "</style>\n",
       "<table border=\"1\" class=\"dataframe\">\n",
       "  <thead>\n",
       "    <tr style=\"text-align: right;\">\n",
       "      <th></th>\n",
       "      <th>module</th>\n",
       "      <th>presentation</th>\n",
       "      <th>id_student</th>\n",
       "      <th>region</th>\n",
       "      <th>imd</th>\n",
       "      <th>age</th>\n",
       "      <th>gender</th>\n",
       "      <th>education</th>\n",
       "      <th>disability</th>\n",
       "      <th>attempts</th>\n",
       "      <th>credits</th>\n",
       "      <th>result</th>\n",
       "      <th>date_registration</th>\n",
       "      <th>date_unregistration</th>\n",
       "    </tr>\n",
       "  </thead>\n",
       "  <tbody>\n",
       "    <tr>\n",
       "      <th>19</th>\n",
       "      <td>AAA</td>\n",
       "      <td>2013J</td>\n",
       "      <td>75091</td>\n",
       "      <td>South West</td>\n",
       "      <td>30-40%</td>\n",
       "      <td>35-55</td>\n",
       "      <td>M</td>\n",
       "      <td>A Level</td>\n",
       "      <td>False</td>\n",
       "      <td>0</td>\n",
       "      <td>60</td>\n",
       "      <td>Pass</td>\n",
       "      <td>-107</td>\n",
       "      <td>&lt;NA&gt;</td>\n",
       "    </tr>\n",
       "    <tr>\n",
       "      <th>46</th>\n",
       "      <td>AAA</td>\n",
       "      <td>2013J</td>\n",
       "      <td>137873</td>\n",
       "      <td>South West</td>\n",
       "      <td>40-50%</td>\n",
       "      <td>35-55</td>\n",
       "      <td>M</td>\n",
       "      <td>A Level</td>\n",
       "      <td>False</td>\n",
       "      <td>0</td>\n",
       "      <td>60</td>\n",
       "      <td>Pass</td>\n",
       "      <td>-195</td>\n",
       "      <td>&lt;NA&gt;</td>\n",
       "    </tr>\n",
       "    <tr>\n",
       "      <th>48</th>\n",
       "      <td>AAA</td>\n",
       "      <td>2013J</td>\n",
       "      <td>141377</td>\n",
       "      <td>South West</td>\n",
       "      <td>90-100%</td>\n",
       "      <td>0-35</td>\n",
       "      <td>M</td>\n",
       "      <td>A Level</td>\n",
       "      <td>False</td>\n",
       "      <td>0</td>\n",
       "      <td>345</td>\n",
       "      <td>Withdrawn</td>\n",
       "      <td>-110</td>\n",
       "      <td>129</td>\n",
       "    </tr>\n",
       "    <tr>\n",
       "      <th>51</th>\n",
       "      <td>AAA</td>\n",
       "      <td>2013J</td>\n",
       "      <td>145130</td>\n",
       "      <td>South West</td>\n",
       "      <td>60-70%</td>\n",
       "      <td>0-35</td>\n",
       "      <td>M</td>\n",
       "      <td>HE</td>\n",
       "      <td>False</td>\n",
       "      <td>0</td>\n",
       "      <td>120</td>\n",
       "      <td>Pass</td>\n",
       "      <td>-36</td>\n",
       "      <td>&lt;NA&gt;</td>\n",
       "    </tr>\n",
       "    <tr>\n",
       "      <th>60</th>\n",
       "      <td>AAA</td>\n",
       "      <td>2013J</td>\n",
       "      <td>157568</td>\n",
       "      <td>South West</td>\n",
       "      <td>90-100%</td>\n",
       "      <td>0-35</td>\n",
       "      <td>F</td>\n",
       "      <td>A Level</td>\n",
       "      <td>False</td>\n",
       "      <td>0</td>\n",
       "      <td>60</td>\n",
       "      <td>Pass</td>\n",
       "      <td>-52</td>\n",
       "      <td>&lt;NA&gt;</td>\n",
       "    </tr>\n",
       "    <tr>\n",
       "      <th>...</th>\n",
       "      <td>...</td>\n",
       "      <td>...</td>\n",
       "      <td>...</td>\n",
       "      <td>...</td>\n",
       "      <td>...</td>\n",
       "      <td>...</td>\n",
       "      <td>...</td>\n",
       "      <td>...</td>\n",
       "      <td>...</td>\n",
       "      <td>...</td>\n",
       "      <td>...</td>\n",
       "      <td>...</td>\n",
       "      <td>...</td>\n",
       "      <td>...</td>\n",
       "    </tr>\n",
       "    <tr>\n",
       "      <th>32523</th>\n",
       "      <td>GGG</td>\n",
       "      <td>2014J</td>\n",
       "      <td>695143</td>\n",
       "      <td>South West</td>\n",
       "      <td>0-10%</td>\n",
       "      <td>35-55</td>\n",
       "      <td>F</td>\n",
       "      <td>Under A Level</td>\n",
       "      <td>True</td>\n",
       "      <td>0</td>\n",
       "      <td>90</td>\n",
       "      <td>Withdrawn</td>\n",
       "      <td>3</td>\n",
       "      <td>37</td>\n",
       "    </tr>\n",
       "    <tr>\n",
       "      <th>32530</th>\n",
       "      <td>GGG</td>\n",
       "      <td>2014J</td>\n",
       "      <td>696514</td>\n",
       "      <td>South West</td>\n",
       "      <td>40-50%</td>\n",
       "      <td>35-55</td>\n",
       "      <td>F</td>\n",
       "      <td>Under A Level</td>\n",
       "      <td>False</td>\n",
       "      <td>0</td>\n",
       "      <td>30</td>\n",
       "      <td>Distinction</td>\n",
       "      <td>-14</td>\n",
       "      <td>&lt;NA&gt;</td>\n",
       "    </tr>\n",
       "    <tr>\n",
       "      <th>32553</th>\n",
       "      <td>GGG</td>\n",
       "      <td>2014J</td>\n",
       "      <td>1689081</td>\n",
       "      <td>South West</td>\n",
       "      <td>20-30%</td>\n",
       "      <td>35-55</td>\n",
       "      <td>F</td>\n",
       "      <td>A Level</td>\n",
       "      <td>False</td>\n",
       "      <td>0</td>\n",
       "      <td>30</td>\n",
       "      <td>Pass</td>\n",
       "      <td>-22</td>\n",
       "      <td>&lt;NA&gt;</td>\n",
       "    </tr>\n",
       "    <tr>\n",
       "      <th>32563</th>\n",
       "      <td>GGG</td>\n",
       "      <td>2014J</td>\n",
       "      <td>1950911</td>\n",
       "      <td>South West</td>\n",
       "      <td>40-50%</td>\n",
       "      <td>35-55</td>\n",
       "      <td>F</td>\n",
       "      <td>Under A Level</td>\n",
       "      <td>False</td>\n",
       "      <td>0</td>\n",
       "      <td>30</td>\n",
       "      <td>Pass</td>\n",
       "      <td>-10</td>\n",
       "      <td>&lt;NA&gt;</td>\n",
       "    </tr>\n",
       "    <tr>\n",
       "      <th>32567</th>\n",
       "      <td>GGG</td>\n",
       "      <td>2014J</td>\n",
       "      <td>2053521</td>\n",
       "      <td>South West</td>\n",
       "      <td>20-30%</td>\n",
       "      <td>35-55</td>\n",
       "      <td>F</td>\n",
       "      <td>A Level</td>\n",
       "      <td>True</td>\n",
       "      <td>1</td>\n",
       "      <td>30</td>\n",
       "      <td>Pass</td>\n",
       "      <td>-101</td>\n",
       "      <td>&lt;NA&gt;</td>\n",
       "    </tr>\n",
       "  </tbody>\n",
       "</table>\n",
       "<p>2436 rows × 14 columns</p>\n",
       "</div>"
      ],
      "text/plain": [
       "      module presentation id_student      region      imd    age gender  \\\n",
       "19       AAA        2013J      75091  South West   30-40%  35-55      M   \n",
       "46       AAA        2013J     137873  South West   40-50%  35-55      M   \n",
       "48       AAA        2013J     141377  South West  90-100%   0-35      M   \n",
       "51       AAA        2013J     145130  South West   60-70%   0-35      M   \n",
       "60       AAA        2013J     157568  South West  90-100%   0-35      F   \n",
       "...      ...          ...        ...         ...      ...    ...    ...   \n",
       "32523    GGG        2014J     695143  South West    0-10%  35-55      F   \n",
       "32530    GGG        2014J     696514  South West   40-50%  35-55      F   \n",
       "32553    GGG        2014J    1689081  South West   20-30%  35-55      F   \n",
       "32563    GGG        2014J    1950911  South West   40-50%  35-55      F   \n",
       "32567    GGG        2014J    2053521  South West   20-30%  35-55      F   \n",
       "\n",
       "           education  disability  attempts  credits       result  \\\n",
       "19           A Level       False         0       60         Pass   \n",
       "46           A Level       False         0       60         Pass   \n",
       "48           A Level       False         0      345    Withdrawn   \n",
       "51                HE       False         0      120         Pass   \n",
       "60           A Level       False         0       60         Pass   \n",
       "...              ...         ...       ...      ...          ...   \n",
       "32523  Under A Level        True         0       90    Withdrawn   \n",
       "32530  Under A Level       False         0       30  Distinction   \n",
       "32553        A Level       False         0       30         Pass   \n",
       "32563  Under A Level       False         0       30         Pass   \n",
       "32567        A Level        True         1       30         Pass   \n",
       "\n",
       "       date_registration  date_unregistration  \n",
       "19                  -107                 <NA>  \n",
       "46                  -195                 <NA>  \n",
       "48                  -110                  129  \n",
       "51                   -36                 <NA>  \n",
       "60                   -52                 <NA>  \n",
       "...                  ...                  ...  \n",
       "32523                  3                   37  \n",
       "32530                -14                 <NA>  \n",
       "32553                -22                 <NA>  \n",
       "32563                -10                 <NA>  \n",
       "32567               -101                 <NA>  \n",
       "\n",
       "[2436 rows x 14 columns]"
      ]
     },
     "execution_count": 15,
     "metadata": {},
     "output_type": "execute_result"
    }
   ],
   "source": [
    "stud_info.loc[stud_info['region'] == 'South West']"
   ]
  },
  {
   "cell_type": "code",
   "execution_count": 16,
   "id": "a2af54c2-4aaf-4388-96ba-9201669bdb80",
   "metadata": {
    "tags": [
     "remove_cell"
    ]
   },
   "outputs": [],
   "source": [
    "regions = ['East Anglian', 'North Western',\n",
    " 'South East', 'West Midlands', 'North',\n",
    " 'South', 'South West', 'East Midlands',\n",
    " 'Yorkshire', 'London', 'Wales', 'Scotland', 'Ireland']\n",
    "\n",
    "# initiate a dictionary for {region:imd}\n",
    "common_imds = {}\n",
    "\n",
    "# iterate through regions list found above\n",
    "for i in regions:\n",
    "    # locate the imds for each region in stud_info\n",
    "    region_imds = stud_info.loc[stud_info['region'] == i, 'imd']\n",
    "    # get the value_counts for the regions imds and add the highest count to a dict keyed by region\n",
    "    common_imds[i] = region_imds.value_counts().idxmax()\n",
    "\n",
    "# iterate through a sub dataframe of stud_info where imd is NA\n",
    "for index, row in stud_info[stud_info['imd'].isna()].iterrows():\n",
    "    # set the imd at the index of the sub dataframe to the key of the region in the dict in the main dataframe\n",
    "    stud_info.at[index, 'imd'] = common_imds[row['region']]"
   ]
  },
  {
   "cell_type": "markdown",
   "id": "3c7117eb-3a57-4735-b7c3-17b2101032c4",
   "metadata": {},
   "source": [
    "**Duplicate Values**"
   ]
  },
  {
   "cell_type": "code",
   "execution_count": 17,
   "id": "c6b0c86c-1eb9-47dc-ae26-04858b8b63dc",
   "metadata": {
    "tags": [
     "remove_input"
    ]
   },
   "outputs": [
    {
     "data": {
      "text/markdown": [
       "There are no Duplicate Values"
      ],
      "text/plain": [
       "<IPython.core.display.Markdown object>"
      ]
     },
     "execution_count": 17,
     "metadata": {},
     "output_type": "execute_result"
    }
   ],
   "source": [
    "# show duplicate values in student info if any\n",
    "get_dupes(stud_info)"
   ]
  },
  {
   "cell_type": "markdown",
   "id": "22de507f-e475-4e22-afbd-dc3fd9393de5",
   "metadata": {},
   "source": [
    "**Unique Counts**"
   ]
  },
  {
   "cell_type": "code",
   "execution_count": 18,
   "id": "8f2f48bf-d9fe-4964-8807-eda67574843c",
   "metadata": {
    "tags": [
     "remove_input"
    ]
   },
   "outputs": [
    {
     "data": {
      "text/html": [
       "<style type=\"text/css\">\n",
       "#T_22741_ td.col0 {\n",
       "  font-weight: bold;\n",
       "}\n",
       "</style>\n",
       "<table id=\"T_22741_\">\n",
       "  <thead>\n",
       "    <tr>\n",
       "      <th class=\"col_heading level0 col0\" >index</th>\n",
       "      <th class=\"col_heading level0 col1\" >Count</th>\n",
       "    </tr>\n",
       "  </thead>\n",
       "  <tbody>\n",
       "    <tr>\n",
       "      <td id=\"T_22741_row0_col0\" class=\"data row0 col0\" >module</td>\n",
       "      <td id=\"T_22741_row0_col1\" class=\"data row0 col1\" >7</td>\n",
       "    </tr>\n",
       "    <tr>\n",
       "      <td id=\"T_22741_row1_col0\" class=\"data row1 col0\" >presentation</td>\n",
       "      <td id=\"T_22741_row1_col1\" class=\"data row1 col1\" >4</td>\n",
       "    </tr>\n",
       "    <tr>\n",
       "      <td id=\"T_22741_row2_col0\" class=\"data row2 col0\" >id_student</td>\n",
       "      <td id=\"T_22741_row2_col1\" class=\"data row2 col1\" >28785</td>\n",
       "    </tr>\n",
       "    <tr>\n",
       "      <td id=\"T_22741_row3_col0\" class=\"data row3 col0\" >region</td>\n",
       "      <td id=\"T_22741_row3_col1\" class=\"data row3 col1\" >13</td>\n",
       "    </tr>\n",
       "    <tr>\n",
       "      <td id=\"T_22741_row4_col0\" class=\"data row4 col0\" >imd</td>\n",
       "      <td id=\"T_22741_row4_col1\" class=\"data row4 col1\" >10</td>\n",
       "    </tr>\n",
       "    <tr>\n",
       "      <td id=\"T_22741_row5_col0\" class=\"data row5 col0\" >age</td>\n",
       "      <td id=\"T_22741_row5_col1\" class=\"data row5 col1\" >3</td>\n",
       "    </tr>\n",
       "    <tr>\n",
       "      <td id=\"T_22741_row6_col0\" class=\"data row6 col0\" >gender</td>\n",
       "      <td id=\"T_22741_row6_col1\" class=\"data row6 col1\" >2</td>\n",
       "    </tr>\n",
       "    <tr>\n",
       "      <td id=\"T_22741_row7_col0\" class=\"data row7 col0\" >education</td>\n",
       "      <td id=\"T_22741_row7_col1\" class=\"data row7 col1\" >5</td>\n",
       "    </tr>\n",
       "    <tr>\n",
       "      <td id=\"T_22741_row8_col0\" class=\"data row8 col0\" >disability</td>\n",
       "      <td id=\"T_22741_row8_col1\" class=\"data row8 col1\" >2</td>\n",
       "    </tr>\n",
       "    <tr>\n",
       "      <td id=\"T_22741_row9_col0\" class=\"data row9 col0\" >attempts</td>\n",
       "      <td id=\"T_22741_row9_col1\" class=\"data row9 col1\" >7</td>\n",
       "    </tr>\n",
       "    <tr>\n",
       "      <td id=\"T_22741_row10_col0\" class=\"data row10 col0\" >credits</td>\n",
       "      <td id=\"T_22741_row10_col1\" class=\"data row10 col1\" >61</td>\n",
       "    </tr>\n",
       "    <tr>\n",
       "      <td id=\"T_22741_row11_col0\" class=\"data row11 col0\" >result</td>\n",
       "      <td id=\"T_22741_row11_col1\" class=\"data row11 col1\" >4</td>\n",
       "    </tr>\n",
       "    <tr>\n",
       "      <td id=\"T_22741_row12_col0\" class=\"data row12 col0\" >date_registration</td>\n",
       "      <td id=\"T_22741_row12_col1\" class=\"data row12 col1\" >332</td>\n",
       "    </tr>\n",
       "    <tr>\n",
       "      <td id=\"T_22741_row13_col0\" class=\"data row13 col0\" >date_unregistration</td>\n",
       "      <td id=\"T_22741_row13_col1\" class=\"data row13 col1\" >416</td>\n",
       "    </tr>\n",
       "  </tbody>\n",
       "</table>\n"
      ],
      "text/plain": [
       "<pandas.io.formats.style.Styler at 0x171003b6730>"
      ]
     },
     "execution_count": 18,
     "metadata": {},
     "output_type": "execute_result"
    }
   ],
   "source": [
    "# Get number of unique values per variable in student info\n",
    "count_unique(stud_info)"
   ]
  },
  {
   "cell_type": "code",
   "execution_count": 19,
   "id": "a84f532d-0659-4b73-b1e2-3cd9b60349f7",
   "metadata": {},
   "outputs": [],
   "source": [
    "# store count of total student ids\n",
    "total_students = stud_info['id_student'].count()\n",
    "\n",
    "# store count of unique student ids\n",
    "unique_students = stud_info['id_student'].nunique()\n",
    "\n",
    "# retrieve all records from students in stud_info whose id is duplicated\n",
    "dupe_students = stud_info[stud_info.duplicated(subset=['id_student'], keep=False)]\n",
    "# convert the datatypes back in dupe_students\n",
    "dupe_students = dupe_students.astype({'id_student':'category'})\n",
    "dupe_students = dupe_students.convert_dtypes()\n",
    "\n",
    "# subset those who took multiple modules in the same presentation by finding duplicate id_students and presentations\n",
    "mult_mods = dupe_students[dupe_students.duplicated(subset=['id_student', 'presentation'], keep=False)]\n",
    "\n",
    "# subset those who took multiple attempts by finding duplicate id_students and modules\n",
    "mult_attempt = dupe_students[dupe_students.duplicated(subset=['module','id_student'], keep=False)]\n",
    "\n",
    "# merge students with multiple attempts and who took multiple modules to find the students we have values for\n",
    "merged_attempt_mods = mult_attempt.merge(mult_mods, how='outer', on=[i for i in mult_attempt.columns])\n",
    "\n",
    "# find students that are not in mult_mods or mult_attempt but still duplicated\n",
    "mult_mods_pres = pd.concat([merged_attempt_mods, dupe_students]).drop_duplicates(keep=False)\n",
    "\n",
    "# append the multiple module/presentation students to mult_mods\n",
    "mult_mods = mult_mods.append(mult_mods_pres)"
   ]
  },
  {
   "cell_type": "code",
   "execution_count": 20,
   "id": "5e4a51a5-1d47-4cee-85ff-d775be11ebd5",
   "metadata": {
    "tags": [
     "remove_input"
    ]
   },
   "outputs": [
    {
     "data": {
      "text/markdown": [
       "\n",
       "* There are 32,593 entries for students but only 28,785 unique student IDs.\n",
       "* 2,479 student IDs appear multiple times due to students taking multiple modules\n",
       "* 1,259 student IDs appear multiple times due to students attempting the same module more than once.\n"
      ],
      "text/plain": [
       "<IPython.core.display.Markdown object>"
      ]
     },
     "execution_count": 20,
     "metadata": {},
     "output_type": "execute_result"
    }
   ],
   "source": [
    "md(f'''\n",
    "* There are {\"{:,}\".format(total_students)} entries for students but only {\"{:,}\".format(unique_students)} unique student IDs.\n",
    "* {\"{:,}\".format(mult_mods['id_student'].nunique())} student IDs appear multiple times due to students taking multiple modules\n",
    "* {\"{:,}\".format(mult_attempt['id_student'].nunique())} student IDs appear multiple times due to students attempting the same module more than once.\n",
    "''')"
   ]
  },
  {
   "cell_type": "markdown",
   "id": "f24cab70-bc40-46f2-83e9-2c0e89601a44",
   "metadata": {},
   "source": [
    "**Unique Categorical Values**"
   ]
  },
  {
   "cell_type": "code",
   "execution_count": 21,
   "id": "1c0a70d4-b84f-4108-96b0-381d2f4646fd",
   "metadata": {
    "tags": [
     "remove_input"
    ]
   },
   "outputs": [
    {
     "data": {
      "text/html": [
       "<style type=\"text/css\">\n",
       "#T_a12ba_ td.col0 {\n",
       "  font-weight: bold;\n",
       "}\n",
       "</style>\n",
       "<table id=\"T_a12ba_\">\n",
       "  <thead>\n",
       "    <tr>\n",
       "      <th class=\"col_heading level0 col0\" >index</th>\n",
       "      <th class=\"col_heading level0 col1\" >Values</th>\n",
       "    </tr>\n",
       "  </thead>\n",
       "  <tbody>\n",
       "  </tbody>\n",
       "</table>\n"
      ],
      "text/plain": [
       "<pandas.io.formats.style.Styler at 0x171003b6280>"
      ]
     },
     "execution_count": 21,
     "metadata": {},
     "output_type": "execute_result"
    }
   ],
   "source": [
    "unique_vals(stud_info)"
   ]
  },
  {
   "cell_type": "markdown",
   "id": "27330c6e-f2b7-4072-bc8b-87ebef9a4af0",
   "metadata": {},
   "source": [
    "In imd_band the % sign is missing in 10-20. We will add that for consistency and clarity"
   ]
  },
  {
   "cell_type": "code",
   "execution_count": 22,
   "id": "adc531d4-82f1-49b8-9fce-4ea954f1d39f",
   "metadata": {
    "tags": [
     "remove_input"
    ]
   },
   "outputs": [
    {
     "data": {
      "text/html": [
       "<div>\n",
       "<style scoped>\n",
       "    .dataframe tbody tr th:only-of-type {\n",
       "        vertical-align: middle;\n",
       "    }\n",
       "\n",
       "    .dataframe tbody tr th {\n",
       "        vertical-align: top;\n",
       "    }\n",
       "\n",
       "    .dataframe thead th {\n",
       "        text-align: right;\n",
       "    }\n",
       "</style>\n",
       "<table border=\"1\" class=\"dataframe\">\n",
       "  <thead>\n",
       "    <tr style=\"text-align: right;\">\n",
       "      <th></th>\n",
       "      <th>imd</th>\n",
       "    </tr>\n",
       "  </thead>\n",
       "  <tbody>\n",
       "    <tr>\n",
       "      <th>0</th>\n",
       "      <td>0-10%</td>\n",
       "    </tr>\n",
       "    <tr>\n",
       "      <th>1</th>\n",
       "      <td>10-20%</td>\n",
       "    </tr>\n",
       "    <tr>\n",
       "      <th>2</th>\n",
       "      <td>20-30%</td>\n",
       "    </tr>\n",
       "    <tr>\n",
       "      <th>3</th>\n",
       "      <td>30-40%</td>\n",
       "    </tr>\n",
       "    <tr>\n",
       "      <th>4</th>\n",
       "      <td>40-50%</td>\n",
       "    </tr>\n",
       "    <tr>\n",
       "      <th>5</th>\n",
       "      <td>50-60%</td>\n",
       "    </tr>\n",
       "    <tr>\n",
       "      <th>6</th>\n",
       "      <td>60-70%</td>\n",
       "    </tr>\n",
       "    <tr>\n",
       "      <th>7</th>\n",
       "      <td>70-80%</td>\n",
       "    </tr>\n",
       "    <tr>\n",
       "      <th>8</th>\n",
       "      <td>80-90%</td>\n",
       "    </tr>\n",
       "    <tr>\n",
       "      <th>9</th>\n",
       "      <td>90-100%</td>\n",
       "    </tr>\n",
       "  </tbody>\n",
       "</table>\n",
       "</div>"
      ],
      "text/plain": [
       "       imd\n",
       "0    0-10%\n",
       "1   10-20%\n",
       "2   20-30%\n",
       "3   30-40%\n",
       "4   40-50%\n",
       "5   50-60%\n",
       "6   60-70%\n",
       "7   70-80%\n",
       "8   80-90%\n",
       "9  90-100%"
      ]
     },
     "execution_count": 22,
     "metadata": {},
     "output_type": "execute_result"
    }
   ],
   "source": [
    "# changing all 10-20 values in stud_info imd_band to 10-20% for consistency's sake\n",
    "stud_info.loc[stud_info['imd'] == '10-20', 'imd'] = '10-20%'\n",
    "# making sure it updated\n",
    "dataframe(stud_info['imd'].explode().unique(), columns=['imd']).sort_values(by='imd').reset_index(drop=True)"
   ]
  },
  {
   "cell_type": "markdown",
   "id": "33021991-b346-4bee-9a22-d0eafed344de",
   "metadata": {
    "tags": []
   },
   "source": [
    "**Numerical Values**"
   ]
  },
  {
   "cell_type": "code",
   "execution_count": 23,
   "id": "92fb8a11-86e1-4936-8773-ba2c27a9738a",
   "metadata": {
    "tags": [
     "remove_input"
    ]
   },
   "outputs": [
    {
     "data": {
      "text/html": [
       "<div>\n",
       "<style scoped>\n",
       "    .dataframe tbody tr th:only-of-type {\n",
       "        vertical-align: middle;\n",
       "    }\n",
       "\n",
       "    .dataframe tbody tr th {\n",
       "        vertical-align: top;\n",
       "    }\n",
       "\n",
       "    .dataframe thead th {\n",
       "        text-align: right;\n",
       "    }\n",
       "</style>\n",
       "<table border=\"1\" class=\"dataframe\">\n",
       "  <thead>\n",
       "    <tr style=\"text-align: right;\">\n",
       "      <th></th>\n",
       "      <th>attempts</th>\n",
       "      <th>credits</th>\n",
       "      <th>date_registration</th>\n",
       "      <th>date_unregistration</th>\n",
       "    </tr>\n",
       "  </thead>\n",
       "  <tbody>\n",
       "    <tr>\n",
       "      <th>count</th>\n",
       "      <td>32593.0</td>\n",
       "      <td>32593.0</td>\n",
       "      <td>32548.0</td>\n",
       "      <td>10072.0</td>\n",
       "    </tr>\n",
       "    <tr>\n",
       "      <th>mean</th>\n",
       "      <td>0.2</td>\n",
       "      <td>79.8</td>\n",
       "      <td>-69.4</td>\n",
       "      <td>49.8</td>\n",
       "    </tr>\n",
       "    <tr>\n",
       "      <th>std</th>\n",
       "      <td>0.5</td>\n",
       "      <td>41.1</td>\n",
       "      <td>49.3</td>\n",
       "      <td>82.5</td>\n",
       "    </tr>\n",
       "    <tr>\n",
       "      <th>min</th>\n",
       "      <td>0.0</td>\n",
       "      <td>30.0</td>\n",
       "      <td>-322.0</td>\n",
       "      <td>-365.0</td>\n",
       "    </tr>\n",
       "    <tr>\n",
       "      <th>25%</th>\n",
       "      <td>0.0</td>\n",
       "      <td>60.0</td>\n",
       "      <td>-100.0</td>\n",
       "      <td>-2.0</td>\n",
       "    </tr>\n",
       "    <tr>\n",
       "      <th>50%</th>\n",
       "      <td>0.0</td>\n",
       "      <td>60.0</td>\n",
       "      <td>-57.0</td>\n",
       "      <td>27.0</td>\n",
       "    </tr>\n",
       "    <tr>\n",
       "      <th>75%</th>\n",
       "      <td>0.0</td>\n",
       "      <td>120.0</td>\n",
       "      <td>-29.0</td>\n",
       "      <td>109.0</td>\n",
       "    </tr>\n",
       "    <tr>\n",
       "      <th>max</th>\n",
       "      <td>6.0</td>\n",
       "      <td>655.0</td>\n",
       "      <td>167.0</td>\n",
       "      <td>444.0</td>\n",
       "    </tr>\n",
       "  </tbody>\n",
       "</table>\n",
       "</div>"
      ],
      "text/plain": [
       "       attempts  credits  date_registration  date_unregistration\n",
       "count   32593.0  32593.0            32548.0              10072.0\n",
       "mean        0.2     79.8              -69.4                 49.8\n",
       "std         0.5     41.1               49.3                 82.5\n",
       "min         0.0     30.0             -322.0               -365.0\n",
       "25%         0.0     60.0             -100.0                 -2.0\n",
       "50%         0.0     60.0              -57.0                 27.0\n",
       "75%         0.0    120.0              -29.0                109.0\n",
       "max         6.0    655.0              167.0                444.0"
      ]
     },
     "execution_count": 23,
     "metadata": {},
     "output_type": "execute_result"
    }
   ],
   "source": [
    "# show statistical breakdown of numerical values in student info\n",
    "stud_info.describe(include='int64').round(1)"
   ]
  },
  {
   "cell_type": "code",
   "execution_count": 24,
   "id": "7c4d994e-d797-4291-9304-455d74bda54a",
   "metadata": {
    "tags": [
     "remove_input"
    ]
   },
   "outputs": [
    {
     "data": {
      "text/markdown": [
       "\n",
       "* Most students do not have a previous attempt, but there is a high of 6 attempts.\n",
       "    * We can only have data for up to two of the students attempts since we only have two years worth of data.\n",
       "* The maximum amount of credits a student took during the module was 655\n",
       "    * This over twenty times the minimum of 30 credits.\n",
       "* It is unknown how these courses were weighted, but this amount of credits at the same time may have influenced student success\n",
       "* There are 10,072 values for of date_unregistration which represents the number of students who withdrew from the course.\n",
       "* The earliest date_unregistration date is -365.0 days before the course began, which means this student did not make it to the first day. \n"
      ],
      "text/plain": [
       "<IPython.core.display.Markdown object>"
      ]
     },
     "execution_count": 24,
     "metadata": {},
     "output_type": "execute_result"
    }
   ],
   "source": [
    "# store the highest number of module previous attempts by students\n",
    "max_attempts = stud_info['attempts'].max()\n",
    "max_credits = stud_info['credits'].max()\n",
    "min_credits = stud_info['credits'].min()\n",
    "unreg_total = student_registration['date_unregistration'].count()\n",
    "unreg_min = student_registration['date_unregistration'].min()\n",
    "md(f'''\n",
    "* Most students do not have a previous attempt, but there is a high of {max_attempts} attempts.\n",
    "    * We can only have data for up to two of the students attempts since we only have two years worth of data.\n",
    "* The maximum amount of credits a student took during the module was {max_credits}\n",
    "    * This over twenty times the minimum of {min_credits} credits.\n",
    "* It is unknown how these courses were weighted, but this amount of credits at the same time may have influenced student success\n",
    "* There are {\"{:,}\".format(unreg_total)} values for of date_unregistration which represents the number of students who withdrew from the course.\n",
    "* The earliest date_unregistration date is {unreg_min} days before the course began, which means this student did not make it to the first day. \n",
    "''')"
   ]
  },
  {
   "cell_type": "markdown",
   "id": "7fa5f3ac-8f7e-42cf-8a4b-bc1fcbd27d5d",
   "metadata": {},
   "source": [
    "**Early Withdrawals**"
   ]
  },
  {
   "cell_type": "code",
   "execution_count": 25,
   "id": "3d9a2367-f93b-4e22-8a96-c04a7d544916",
   "metadata": {
    "tags": [
     "remove_input"
    ]
   },
   "outputs": [
    {
     "data": {
      "text/html": [
       "<div>\n",
       "<style scoped>\n",
       "    .dataframe tbody tr th:only-of-type {\n",
       "        vertical-align: middle;\n",
       "    }\n",
       "\n",
       "    .dataframe tbody tr th {\n",
       "        vertical-align: top;\n",
       "    }\n",
       "\n",
       "    .dataframe thead th {\n",
       "        text-align: right;\n",
       "    }\n",
       "</style>\n",
       "<table border=\"1\" class=\"dataframe\">\n",
       "  <thead>\n",
       "    <tr style=\"text-align: right;\">\n",
       "      <th></th>\n",
       "      <th>module</th>\n",
       "      <th>presentation</th>\n",
       "      <th>id_student</th>\n",
       "      <th>region</th>\n",
       "      <th>imd</th>\n",
       "      <th>age</th>\n",
       "      <th>gender</th>\n",
       "      <th>education</th>\n",
       "      <th>disability</th>\n",
       "      <th>attempts</th>\n",
       "      <th>credits</th>\n",
       "      <th>result</th>\n",
       "      <th>date_registration</th>\n",
       "      <th>date_unregistration</th>\n",
       "    </tr>\n",
       "  </thead>\n",
       "  <tbody>\n",
       "    <tr>\n",
       "      <th>125</th>\n",
       "      <td>AAA</td>\n",
       "      <td>2013J</td>\n",
       "      <td>292923</td>\n",
       "      <td>South East</td>\n",
       "      <td>90-100%</td>\n",
       "      <td>35-55</td>\n",
       "      <td>F</td>\n",
       "      <td>A Level</td>\n",
       "      <td>False</td>\n",
       "      <td>0</td>\n",
       "      <td>180</td>\n",
       "      <td>Withdrawn</td>\n",
       "      <td>-162</td>\n",
       "      <td>-121</td>\n",
       "    </tr>\n",
       "    <tr>\n",
       "      <th>136</th>\n",
       "      <td>AAA</td>\n",
       "      <td>2013J</td>\n",
       "      <td>305539</td>\n",
       "      <td>Wales</td>\n",
       "      <td>80-90%</td>\n",
       "      <td>0-35</td>\n",
       "      <td>F</td>\n",
       "      <td>Under A Level</td>\n",
       "      <td>False</td>\n",
       "      <td>0</td>\n",
       "      <td>120</td>\n",
       "      <td>Withdrawn</td>\n",
       "      <td>-54</td>\n",
       "      <td>-3</td>\n",
       "    </tr>\n",
       "    <tr>\n",
       "      <th>198</th>\n",
       "      <td>AAA</td>\n",
       "      <td>2013J</td>\n",
       "      <td>405961</td>\n",
       "      <td>Scotland</td>\n",
       "      <td>90-100%</td>\n",
       "      <td>0-35</td>\n",
       "      <td>M</td>\n",
       "      <td>A Level</td>\n",
       "      <td>True</td>\n",
       "      <td>0</td>\n",
       "      <td>240</td>\n",
       "      <td>Withdrawn</td>\n",
       "      <td>-170</td>\n",
       "      <td>-100</td>\n",
       "    </tr>\n",
       "    <tr>\n",
       "      <th>256</th>\n",
       "      <td>AAA</td>\n",
       "      <td>2013J</td>\n",
       "      <td>1763015</td>\n",
       "      <td>Scotland</td>\n",
       "      <td>10-20%</td>\n",
       "      <td>35-55</td>\n",
       "      <td>F</td>\n",
       "      <td>A Level</td>\n",
       "      <td>False</td>\n",
       "      <td>0</td>\n",
       "      <td>60</td>\n",
       "      <td>Withdrawn</td>\n",
       "      <td>-58</td>\n",
       "      <td>-2</td>\n",
       "    </tr>\n",
       "    <tr>\n",
       "      <th>298</th>\n",
       "      <td>AAA</td>\n",
       "      <td>2013J</td>\n",
       "      <td>2318055</td>\n",
       "      <td>Wales</td>\n",
       "      <td>90-100%</td>\n",
       "      <td>35-55</td>\n",
       "      <td>M</td>\n",
       "      <td>A Level</td>\n",
       "      <td>False</td>\n",
       "      <td>0</td>\n",
       "      <td>60</td>\n",
       "      <td>Withdrawn</td>\n",
       "      <td>-56</td>\n",
       "      <td>-19</td>\n",
       "    </tr>\n",
       "  </tbody>\n",
       "</table>\n",
       "</div>"
      ],
      "text/plain": [
       "    module presentation id_student      region      imd    age gender  \\\n",
       "125    AAA        2013J     292923  South East  90-100%  35-55      F   \n",
       "136    AAA        2013J     305539       Wales   80-90%   0-35      F   \n",
       "198    AAA        2013J     405961    Scotland  90-100%   0-35      M   \n",
       "256    AAA        2013J    1763015    Scotland   10-20%  35-55      F   \n",
       "298    AAA        2013J    2318055       Wales  90-100%  35-55      M   \n",
       "\n",
       "         education  disability  attempts  credits     result  \\\n",
       "125        A Level       False         0      180  Withdrawn   \n",
       "136  Under A Level       False         0      120  Withdrawn   \n",
       "198        A Level        True         0      240  Withdrawn   \n",
       "256        A Level       False         0       60  Withdrawn   \n",
       "298        A Level       False         0       60  Withdrawn   \n",
       "\n",
       "     date_registration  date_unregistration  \n",
       "125               -162                 -121  \n",
       "136                -54                   -3  \n",
       "198               -170                 -100  \n",
       "256                -58                   -2  \n",
       "298                -56                  -19  "
      ]
     },
     "execution_count": 25,
     "metadata": {},
     "output_type": "execute_result"
    }
   ],
   "source": [
    "early_withdraws = stud_info.loc[stud_info['date_unregistration'] <= 0]\n",
    "early_withdraws.head()"
   ]
  },
  {
   "cell_type": "code",
   "execution_count": 26,
   "id": "0a1b6f8f-bf9c-4a2a-9436-6a01424bbb07",
   "metadata": {
    "tags": [
     "remove_input"
    ]
   },
   "outputs": [
    {
     "data": {
      "text/markdown": [
       "\n",
       "Here we can see the 3,097 students with a withdrawal date before the first day,\n",
       "let's look at their results:\n"
      ],
      "text/plain": [
       "<IPython.core.display.Markdown object>"
      ]
     },
     "execution_count": 26,
     "metadata": {},
     "output_type": "execute_result"
    }
   ],
   "source": [
    "md(f'''\n",
    "Here we can see the {\"{:,}\".format(len(early_withdraws))} students with a withdrawal date before the first day,\n",
    "let's look at their results:\n",
    "''')"
   ]
  },
  {
   "cell_type": "code",
   "execution_count": 27,
   "id": "fa96f6a8-d9e8-4d06-9dcb-a38ce6155ecc",
   "metadata": {
    "tags": [
     "remove_input"
    ]
   },
   "outputs": [
    {
     "data": {
      "text/html": [
       "<div>\n",
       "<style scoped>\n",
       "    .dataframe tbody tr th:only-of-type {\n",
       "        vertical-align: middle;\n",
       "    }\n",
       "\n",
       "    .dataframe tbody tr th {\n",
       "        vertical-align: top;\n",
       "    }\n",
       "\n",
       "    .dataframe thead th {\n",
       "        text-align: right;\n",
       "    }\n",
       "</style>\n",
       "<table border=\"1\" class=\"dataframe\">\n",
       "  <thead>\n",
       "    <tr style=\"text-align: right;\">\n",
       "      <th></th>\n",
       "      <th>result</th>\n",
       "    </tr>\n",
       "  </thead>\n",
       "  <tbody>\n",
       "    <tr>\n",
       "      <th>Withdrawn</th>\n",
       "      <td>3089</td>\n",
       "    </tr>\n",
       "    <tr>\n",
       "      <th>Fail</th>\n",
       "      <td>8</td>\n",
       "    </tr>\n",
       "  </tbody>\n",
       "</table>\n",
       "</div>"
      ],
      "text/plain": [
       "           result\n",
       "Withdrawn    3089\n",
       "Fail            8"
      ]
     },
     "execution_count": 27,
     "metadata": {},
     "output_type": "execute_result"
    }
   ],
   "source": [
    "dataframe(early_withdraws['result'].value_counts())"
   ]
  },
  {
   "cell_type": "markdown",
   "id": "495c0c7f-0e4a-40ff-8b8d-ae2706146ce7",
   "metadata": {},
   "source": [
    "While the bulk of these students Withdrew, it seems some managed to fail before the first day. Let's look at these students"
   ]
  },
  {
   "cell_type": "code",
   "execution_count": 28,
   "id": "4d9997bd-b258-4cf3-8857-4e1f47d9f4d8",
   "metadata": {},
   "outputs": [
    {
     "data": {
      "text/html": [
       "<div>\n",
       "<style scoped>\n",
       "    .dataframe tbody tr th:only-of-type {\n",
       "        vertical-align: middle;\n",
       "    }\n",
       "\n",
       "    .dataframe tbody tr th {\n",
       "        vertical-align: top;\n",
       "    }\n",
       "\n",
       "    .dataframe thead th {\n",
       "        text-align: right;\n",
       "    }\n",
       "</style>\n",
       "<table border=\"1\" class=\"dataframe\">\n",
       "  <thead>\n",
       "    <tr style=\"text-align: right;\">\n",
       "      <th></th>\n",
       "      <th>module</th>\n",
       "      <th>presentation</th>\n",
       "      <th>id_student</th>\n",
       "      <th>region</th>\n",
       "      <th>imd</th>\n",
       "      <th>age</th>\n",
       "      <th>gender</th>\n",
       "      <th>education</th>\n",
       "      <th>disability</th>\n",
       "      <th>attempts</th>\n",
       "      <th>credits</th>\n",
       "      <th>result</th>\n",
       "      <th>date_registration</th>\n",
       "      <th>date_unregistration</th>\n",
       "    </tr>\n",
       "  </thead>\n",
       "  <tbody>\n",
       "    <tr>\n",
       "      <th>2777</th>\n",
       "      <td>BBB</td>\n",
       "      <td>2013J</td>\n",
       "      <td>362907</td>\n",
       "      <td>South West</td>\n",
       "      <td>20-30%</td>\n",
       "      <td>35-55</td>\n",
       "      <td>F</td>\n",
       "      <td>Under A Level</td>\n",
       "      <td>False</td>\n",
       "      <td>2</td>\n",
       "      <td>60</td>\n",
       "      <td>Fail</td>\n",
       "      <td>-37</td>\n",
       "      <td>0</td>\n",
       "    </tr>\n",
       "    <tr>\n",
       "      <th>2786</th>\n",
       "      <td>BBB</td>\n",
       "      <td>2013J</td>\n",
       "      <td>365288</td>\n",
       "      <td>South</td>\n",
       "      <td>70-80%</td>\n",
       "      <td>0-35</td>\n",
       "      <td>F</td>\n",
       "      <td>A Level</td>\n",
       "      <td>False</td>\n",
       "      <td>0</td>\n",
       "      <td>60</td>\n",
       "      <td>Fail</td>\n",
       "      <td>-75</td>\n",
       "      <td>0</td>\n",
       "    </tr>\n",
       "    <tr>\n",
       "      <th>14625</th>\n",
       "      <td>DDD</td>\n",
       "      <td>2013J</td>\n",
       "      <td>315082</td>\n",
       "      <td>West Midlands</td>\n",
       "      <td>50-60%</td>\n",
       "      <td>0-35</td>\n",
       "      <td>M</td>\n",
       "      <td>A Level</td>\n",
       "      <td>False</td>\n",
       "      <td>0</td>\n",
       "      <td>60</td>\n",
       "      <td>Fail</td>\n",
       "      <td>-73</td>\n",
       "      <td>0</td>\n",
       "    </tr>\n",
       "    <tr>\n",
       "      <th>14768</th>\n",
       "      <td>DDD</td>\n",
       "      <td>2013J</td>\n",
       "      <td>403052</td>\n",
       "      <td>Yorkshire</td>\n",
       "      <td>20-30%</td>\n",
       "      <td>0-35</td>\n",
       "      <td>F</td>\n",
       "      <td>HE</td>\n",
       "      <td>False</td>\n",
       "      <td>0</td>\n",
       "      <td>150</td>\n",
       "      <td>Fail</td>\n",
       "      <td>-22</td>\n",
       "      <td>0</td>\n",
       "    </tr>\n",
       "    <tr>\n",
       "      <th>15577</th>\n",
       "      <td>DDD</td>\n",
       "      <td>2013J</td>\n",
       "      <td>582954</td>\n",
       "      <td>London</td>\n",
       "      <td>10-20%</td>\n",
       "      <td>0-35</td>\n",
       "      <td>M</td>\n",
       "      <td>Under A Level</td>\n",
       "      <td>False</td>\n",
       "      <td>0</td>\n",
       "      <td>120</td>\n",
       "      <td>Fail</td>\n",
       "      <td>-81</td>\n",
       "      <td>-7</td>\n",
       "    </tr>\n",
       "    <tr>\n",
       "      <th>24057</th>\n",
       "      <td>FFF</td>\n",
       "      <td>2013J</td>\n",
       "      <td>234004</td>\n",
       "      <td>Yorkshire</td>\n",
       "      <td>50-60%</td>\n",
       "      <td>0-35</td>\n",
       "      <td>M</td>\n",
       "      <td>A Level</td>\n",
       "      <td>False</td>\n",
       "      <td>0</td>\n",
       "      <td>60</td>\n",
       "      <td>Fail</td>\n",
       "      <td>-33</td>\n",
       "      <td>0</td>\n",
       "    </tr>\n",
       "    <tr>\n",
       "      <th>24537</th>\n",
       "      <td>FFF</td>\n",
       "      <td>2013J</td>\n",
       "      <td>523777</td>\n",
       "      <td>North</td>\n",
       "      <td>0-10%</td>\n",
       "      <td>35-55</td>\n",
       "      <td>M</td>\n",
       "      <td>A Level</td>\n",
       "      <td>False</td>\n",
       "      <td>1</td>\n",
       "      <td>60</td>\n",
       "      <td>Fail</td>\n",
       "      <td>-60</td>\n",
       "      <td>0</td>\n",
       "    </tr>\n",
       "    <tr>\n",
       "      <th>25685</th>\n",
       "      <td>FFF</td>\n",
       "      <td>2013J</td>\n",
       "      <td>601640</td>\n",
       "      <td>London</td>\n",
       "      <td>20-30%</td>\n",
       "      <td>0-35</td>\n",
       "      <td>M</td>\n",
       "      <td>HE</td>\n",
       "      <td>False</td>\n",
       "      <td>0</td>\n",
       "      <td>90</td>\n",
       "      <td>Fail</td>\n",
       "      <td>-58</td>\n",
       "      <td>-4</td>\n",
       "    </tr>\n",
       "  </tbody>\n",
       "</table>\n",
       "</div>"
      ],
      "text/plain": [
       "      module presentation id_student         region     imd    age gender  \\\n",
       "2777     BBB        2013J     362907     South West  20-30%  35-55      F   \n",
       "2786     BBB        2013J     365288          South  70-80%   0-35      F   \n",
       "14625    DDD        2013J     315082  West Midlands  50-60%   0-35      M   \n",
       "14768    DDD        2013J     403052      Yorkshire  20-30%   0-35      F   \n",
       "15577    DDD        2013J     582954         London  10-20%   0-35      M   \n",
       "24057    FFF        2013J     234004      Yorkshire  50-60%   0-35      M   \n",
       "24537    FFF        2013J     523777          North   0-10%  35-55      M   \n",
       "25685    FFF        2013J     601640         London  20-30%   0-35      M   \n",
       "\n",
       "           education  disability  attempts  credits result  date_registration  \\\n",
       "2777   Under A Level       False         2       60   Fail                -37   \n",
       "2786         A Level       False         0       60   Fail                -75   \n",
       "14625        A Level       False         0       60   Fail                -73   \n",
       "14768             HE       False         0      150   Fail                -22   \n",
       "15577  Under A Level       False         0      120   Fail                -81   \n",
       "24057        A Level       False         0       60   Fail                -33   \n",
       "24537        A Level       False         1       60   Fail                -60   \n",
       "25685             HE       False         0       90   Fail                -58   \n",
       "\n",
       "       date_unregistration  \n",
       "2777                     0  \n",
       "2786                     0  \n",
       "14625                    0  \n",
       "14768                    0  \n",
       "15577                   -7  \n",
       "24057                    0  \n",
       "24537                    0  \n",
       "25685                   -4  "
      ]
     },
     "execution_count": 28,
     "metadata": {},
     "output_type": "execute_result"
    }
   ],
   "source": [
    "early_withdraws[early_withdraws['result'] == 'Fail']"
   ]
  },
  {
   "cell_type": "code",
   "execution_count": 29,
   "id": "21f46153-531f-4659-9bd4-a8a174141058",
   "metadata": {
    "tags": [
     "remove_input"
    ]
   },
   "outputs": [
    {
     "data": {
      "text/markdown": [
       "\n",
       "So despite the fact that all of these students did unregister, they were for some reason marked as Fails. Let's see how many students have an\n",
       "unregistration date but are not marked as withdrawn\n"
      ],
      "text/plain": [
       "<IPython.core.display.Markdown object>"
      ]
     },
     "execution_count": 29,
     "metadata": {},
     "output_type": "execute_result"
    }
   ],
   "source": [
    "md('''\n",
    "So despite the fact that all of these students did unregister, they were for some reason marked as Fails. Let's see how many students have an\n",
    "unregistration date but are not marked as withdrawn\n",
    "''')"
   ]
  },
  {
   "cell_type": "code",
   "execution_count": 30,
   "id": "080c368b-c76e-4407-a027-a0d692bfed14",
   "metadata": {},
   "outputs": [
    {
     "data": {
      "text/html": [
       "<div>\n",
       "<style scoped>\n",
       "    .dataframe tbody tr th:only-of-type {\n",
       "        vertical-align: middle;\n",
       "    }\n",
       "\n",
       "    .dataframe tbody tr th {\n",
       "        vertical-align: top;\n",
       "    }\n",
       "\n",
       "    .dataframe thead th {\n",
       "        text-align: right;\n",
       "    }\n",
       "</style>\n",
       "<table border=\"1\" class=\"dataframe\">\n",
       "  <thead>\n",
       "    <tr style=\"text-align: right;\">\n",
       "      <th></th>\n",
       "      <th>module</th>\n",
       "      <th>presentation</th>\n",
       "      <th>id_student</th>\n",
       "      <th>region</th>\n",
       "      <th>imd</th>\n",
       "      <th>age</th>\n",
       "      <th>gender</th>\n",
       "      <th>education</th>\n",
       "      <th>disability</th>\n",
       "      <th>attempts</th>\n",
       "      <th>credits</th>\n",
       "      <th>result</th>\n",
       "      <th>date_registration</th>\n",
       "      <th>date_unregistration</th>\n",
       "    </tr>\n",
       "  </thead>\n",
       "  <tbody>\n",
       "    <tr>\n",
       "      <th>2777</th>\n",
       "      <td>BBB</td>\n",
       "      <td>2013J</td>\n",
       "      <td>362907</td>\n",
       "      <td>South West</td>\n",
       "      <td>20-30%</td>\n",
       "      <td>35-55</td>\n",
       "      <td>F</td>\n",
       "      <td>Under A Level</td>\n",
       "      <td>False</td>\n",
       "      <td>2</td>\n",
       "      <td>60</td>\n",
       "      <td>Fail</td>\n",
       "      <td>-37</td>\n",
       "      <td>0</td>\n",
       "    </tr>\n",
       "    <tr>\n",
       "      <th>2786</th>\n",
       "      <td>BBB</td>\n",
       "      <td>2013J</td>\n",
       "      <td>365288</td>\n",
       "      <td>South</td>\n",
       "      <td>70-80%</td>\n",
       "      <td>0-35</td>\n",
       "      <td>F</td>\n",
       "      <td>A Level</td>\n",
       "      <td>False</td>\n",
       "      <td>0</td>\n",
       "      <td>60</td>\n",
       "      <td>Fail</td>\n",
       "      <td>-75</td>\n",
       "      <td>0</td>\n",
       "    </tr>\n",
       "    <tr>\n",
       "      <th>3340</th>\n",
       "      <td>BBB</td>\n",
       "      <td>2013J</td>\n",
       "      <td>554243</td>\n",
       "      <td>South West</td>\n",
       "      <td>60-70%</td>\n",
       "      <td>0-35</td>\n",
       "      <td>F</td>\n",
       "      <td>Under A Level</td>\n",
       "      <td>False</td>\n",
       "      <td>0</td>\n",
       "      <td>60</td>\n",
       "      <td>Fail</td>\n",
       "      <td>-35</td>\n",
       "      <td>166</td>\n",
       "    </tr>\n",
       "    <tr>\n",
       "      <th>14625</th>\n",
       "      <td>DDD</td>\n",
       "      <td>2013J</td>\n",
       "      <td>315082</td>\n",
       "      <td>West Midlands</td>\n",
       "      <td>50-60%</td>\n",
       "      <td>0-35</td>\n",
       "      <td>M</td>\n",
       "      <td>A Level</td>\n",
       "      <td>False</td>\n",
       "      <td>0</td>\n",
       "      <td>60</td>\n",
       "      <td>Fail</td>\n",
       "      <td>-73</td>\n",
       "      <td>0</td>\n",
       "    </tr>\n",
       "    <tr>\n",
       "      <th>14768</th>\n",
       "      <td>DDD</td>\n",
       "      <td>2013J</td>\n",
       "      <td>403052</td>\n",
       "      <td>Yorkshire</td>\n",
       "      <td>20-30%</td>\n",
       "      <td>0-35</td>\n",
       "      <td>F</td>\n",
       "      <td>HE</td>\n",
       "      <td>False</td>\n",
       "      <td>0</td>\n",
       "      <td>150</td>\n",
       "      <td>Fail</td>\n",
       "      <td>-22</td>\n",
       "      <td>0</td>\n",
       "    </tr>\n",
       "    <tr>\n",
       "      <th>15577</th>\n",
       "      <td>DDD</td>\n",
       "      <td>2013J</td>\n",
       "      <td>582954</td>\n",
       "      <td>London</td>\n",
       "      <td>10-20%</td>\n",
       "      <td>0-35</td>\n",
       "      <td>M</td>\n",
       "      <td>Under A Level</td>\n",
       "      <td>False</td>\n",
       "      <td>0</td>\n",
       "      <td>120</td>\n",
       "      <td>Fail</td>\n",
       "      <td>-81</td>\n",
       "      <td>-7</td>\n",
       "    </tr>\n",
       "    <tr>\n",
       "      <th>24057</th>\n",
       "      <td>FFF</td>\n",
       "      <td>2013J</td>\n",
       "      <td>234004</td>\n",
       "      <td>Yorkshire</td>\n",
       "      <td>50-60%</td>\n",
       "      <td>0-35</td>\n",
       "      <td>M</td>\n",
       "      <td>A Level</td>\n",
       "      <td>False</td>\n",
       "      <td>0</td>\n",
       "      <td>60</td>\n",
       "      <td>Fail</td>\n",
       "      <td>-33</td>\n",
       "      <td>0</td>\n",
       "    </tr>\n",
       "    <tr>\n",
       "      <th>24537</th>\n",
       "      <td>FFF</td>\n",
       "      <td>2013J</td>\n",
       "      <td>523777</td>\n",
       "      <td>North</td>\n",
       "      <td>0-10%</td>\n",
       "      <td>35-55</td>\n",
       "      <td>M</td>\n",
       "      <td>A Level</td>\n",
       "      <td>False</td>\n",
       "      <td>1</td>\n",
       "      <td>60</td>\n",
       "      <td>Fail</td>\n",
       "      <td>-60</td>\n",
       "      <td>0</td>\n",
       "    </tr>\n",
       "    <tr>\n",
       "      <th>25685</th>\n",
       "      <td>FFF</td>\n",
       "      <td>2013J</td>\n",
       "      <td>601640</td>\n",
       "      <td>London</td>\n",
       "      <td>20-30%</td>\n",
       "      <td>0-35</td>\n",
       "      <td>M</td>\n",
       "      <td>HE</td>\n",
       "      <td>False</td>\n",
       "      <td>0</td>\n",
       "      <td>90</td>\n",
       "      <td>Fail</td>\n",
       "      <td>-58</td>\n",
       "      <td>-4</td>\n",
       "    </tr>\n",
       "  </tbody>\n",
       "</table>\n",
       "</div>"
      ],
      "text/plain": [
       "      module presentation id_student         region     imd    age gender  \\\n",
       "2777     BBB        2013J     362907     South West  20-30%  35-55      F   \n",
       "2786     BBB        2013J     365288          South  70-80%   0-35      F   \n",
       "3340     BBB        2013J     554243     South West  60-70%   0-35      F   \n",
       "14625    DDD        2013J     315082  West Midlands  50-60%   0-35      M   \n",
       "14768    DDD        2013J     403052      Yorkshire  20-30%   0-35      F   \n",
       "15577    DDD        2013J     582954         London  10-20%   0-35      M   \n",
       "24057    FFF        2013J     234004      Yorkshire  50-60%   0-35      M   \n",
       "24537    FFF        2013J     523777          North   0-10%  35-55      M   \n",
       "25685    FFF        2013J     601640         London  20-30%   0-35      M   \n",
       "\n",
       "           education  disability  attempts  credits result  date_registration  \\\n",
       "2777   Under A Level       False         2       60   Fail                -37   \n",
       "2786         A Level       False         0       60   Fail                -75   \n",
       "3340   Under A Level       False         0       60   Fail                -35   \n",
       "14625        A Level       False         0       60   Fail                -73   \n",
       "14768             HE       False         0      150   Fail                -22   \n",
       "15577  Under A Level       False         0      120   Fail                -81   \n",
       "24057        A Level       False         0       60   Fail                -33   \n",
       "24537        A Level       False         1       60   Fail                -60   \n",
       "25685             HE       False         0       90   Fail                -58   \n",
       "\n",
       "       date_unregistration  \n",
       "2777                     0  \n",
       "2786                     0  \n",
       "3340                   166  \n",
       "14625                    0  \n",
       "14768                    0  \n",
       "15577                   -7  \n",
       "24057                    0  \n",
       "24537                    0  \n",
       "25685                   -4  "
      ]
     },
     "execution_count": 30,
     "metadata": {},
     "output_type": "execute_result"
    }
   ],
   "source": [
    "stud_info[(stud_info['result'] != 'Withdrawn') & (~stud_info['date_unregistration'].isna())]"
   ]
  },
  {
   "cell_type": "markdown",
   "id": "3f6b9ce7-0650-424d-84e9-32554e6a1e15",
   "metadata": {},
   "source": [
    "We can see there are a few students who are improperly marked as failing when they withdrew. Let's fix these entries"
   ]
  },
  {
   "cell_type": "code",
   "execution_count": 31,
   "id": "192d7f23-9bdb-4a80-843e-dddb227ee84b",
   "metadata": {},
   "outputs": [],
   "source": [
    "# change the values of result Fail where result should be Withdrawn\n",
    "stud_info.loc[(stud_info['result'] != 'Withdrawn') & (~stud_info['date_unregistration'].isna()), 'result'] = 'Withdrawn'"
   ]
  },
  {
   "cell_type": "markdown",
   "id": "0640b2de-aa06-4deb-a785-c717f7dda5c4",
   "metadata": {},
   "source": [
    "We will now drop any students with a registration date before 0 (day 1) of the course"
   ]
  },
  {
   "cell_type": "code",
   "execution_count": 32,
   "id": "8b2e70e2-fd6c-406b-b4e1-0bdf9a38a2fa",
   "metadata": {},
   "outputs": [],
   "source": [
    "stud_info = stud_info[(stud_info['date_unregistration'] > 0) | (stud_info['date_unregistration'].isna())]"
   ]
  },
  {
   "cell_type": "markdown",
   "id": "66550b8f-cbeb-48ba-adc5-84583ae62bd7",
   "metadata": {},
   "source": [
    "**Late Unregistration**"
   ]
  },
  {
   "cell_type": "code",
   "execution_count": 33,
   "id": "fe936aef-76de-482d-9120-5a33547d5276",
   "metadata": {
    "tags": [
     "remove_input"
    ]
   },
   "outputs": [
    {
     "data": {
      "text/markdown": [
       "* The longest course from module_presentation length in the courses dataframe was 269 days, yet we see here the \n",
       "latest unregistration date is 444 days, which is longer than any course went on.\n",
       "\n",
       "    "
      ],
      "text/plain": [
       "<IPython.core.display.Markdown object>"
      ]
     },
     "execution_count": 33,
     "metadata": {},
     "output_type": "execute_result"
    }
   ],
   "source": [
    "# finds the longest module length in courses and prints it\n",
    "longest_course = courses['module_presentation_length'].max()\n",
    "longest_unreg = int(student_registration['date_unregistration'].max())\n",
    "md(f'''* The longest course from module_presentation length in the courses dataframe was {longest_course} days, yet we see here the \n",
    "latest unregistration date is {longest_unreg} days, which is longer than any course went on.\n",
    "\n",
    "    ''')"
   ]
  },
  {
   "cell_type": "markdown",
   "id": "dccb174a-386c-4dcb-8441-488af77d4d9b",
   "metadata": {},
   "source": [
    "**All Students with an unregistration point after 269 days:**"
   ]
  },
  {
   "cell_type": "code",
   "execution_count": 34,
   "id": "bedd8d1d-715e-4b67-85e2-fbeb1cefcc2a",
   "metadata": {
    "tags": [
     "remove_input"
    ]
   },
   "outputs": [
    {
     "data": {
      "text/html": [
       "<div>\n",
       "<style scoped>\n",
       "    .dataframe tbody tr th:only-of-type {\n",
       "        vertical-align: middle;\n",
       "    }\n",
       "\n",
       "    .dataframe tbody tr th {\n",
       "        vertical-align: top;\n",
       "    }\n",
       "\n",
       "    .dataframe thead th {\n",
       "        text-align: right;\n",
       "    }\n",
       "</style>\n",
       "<table border=\"1\" class=\"dataframe\">\n",
       "  <thead>\n",
       "    <tr style=\"text-align: right;\">\n",
       "      <th></th>\n",
       "      <th>code_module</th>\n",
       "      <th>code_presentation</th>\n",
       "      <th>id_student</th>\n",
       "      <th>date_registration</th>\n",
       "      <th>date_unregistration</th>\n",
       "    </tr>\n",
       "  </thead>\n",
       "  <tbody>\n",
       "    <tr>\n",
       "      <th>25249</th>\n",
       "      <td>FFF</td>\n",
       "      <td>2013J</td>\n",
       "      <td>586851</td>\n",
       "      <td>-22.0</td>\n",
       "      <td>444.0</td>\n",
       "    </tr>\n",
       "  </tbody>\n",
       "</table>\n",
       "</div>"
      ],
      "text/plain": [
       "      code_module code_presentation  id_student  date_registration  \\\n",
       "25249         FFF             2013J      586851              -22.0   \n",
       "\n",
       "       date_unregistration  \n",
       "25249                444.0  "
      ]
     },
     "execution_count": 34,
     "metadata": {},
     "output_type": "execute_result"
    }
   ],
   "source": [
    "# finding students whose courses went on for longer than the maximum course length\n",
    "student_registration.loc[student_registration['date_unregistration'] > 269]"
   ]
  },
  {
   "cell_type": "markdown",
   "id": "f96da90e-e3aa-4aa9-bcbe-3ded413a88a6",
   "metadata": {},
   "source": [
    "* It seems to be just this one student is an outlier, but should not affect our overall analysis so we will leave this intact\n",
    "* The registration date is unlikely to provide any more interesting information to us and will be dropped"
   ]
  },
  {
   "cell_type": "code",
   "execution_count": 35,
   "id": "70dbf08c-1c7b-4a67-ad62-cb62c7e98cf2",
   "metadata": {},
   "outputs": [],
   "source": [
    "# drop date_registration from stud_info\n",
    "stud_info = stud_info.drop(columns=['date_registration'])"
   ]
  },
  {
   "cell_type": "markdown",
   "id": "f0b5d004-8ca0-4a86-a504-4f35408b3a26",
   "metadata": {},
   "source": [
    "### Student Info Data Visualization"
   ]
  },
  {
   "cell_type": "markdown",
   "id": "788e2f07-6317-4a42-bf82-12b6eccca40d",
   "metadata": {},
   "source": [
    "**Region**"
   ]
  },
  {
   "cell_type": "code",
   "execution_count": 36,
   "id": "fea3f947-0145-4694-8fe1-28a8ff915e18",
   "metadata": {},
   "outputs": [
    {
     "data": {
      "text/html": [
       "<div>\n",
       "<style scoped>\n",
       "    .dataframe tbody tr th:only-of-type {\n",
       "        vertical-align: middle;\n",
       "    }\n",
       "\n",
       "    .dataframe tbody tr th {\n",
       "        vertical-align: top;\n",
       "    }\n",
       "\n",
       "    .dataframe thead th {\n",
       "        text-align: right;\n",
       "    }\n",
       "</style>\n",
       "<table border=\"1\" class=\"dataframe\">\n",
       "  <thead>\n",
       "    <tr style=\"text-align: right;\">\n",
       "      <th></th>\n",
       "      <th>region</th>\n",
       "    </tr>\n",
       "  </thead>\n",
       "  <tbody>\n",
       "    <tr>\n",
       "      <th>Ireland</th>\n",
       "      <td>1143</td>\n",
       "    </tr>\n",
       "    <tr>\n",
       "      <th>North</th>\n",
       "      <td>1650</td>\n",
       "    </tr>\n",
       "    <tr>\n",
       "      <th>Yorkshire</th>\n",
       "      <td>1800</td>\n",
       "    </tr>\n",
       "    <tr>\n",
       "      <th>South East</th>\n",
       "      <td>1894</td>\n",
       "    </tr>\n",
       "    <tr>\n",
       "      <th>Wales</th>\n",
       "      <td>2005</td>\n",
       "    </tr>\n",
       "    <tr>\n",
       "      <th>East Midlands</th>\n",
       "      <td>2088</td>\n",
       "    </tr>\n",
       "    <tr>\n",
       "      <th>South West</th>\n",
       "      <td>2217</td>\n",
       "    </tr>\n",
       "    <tr>\n",
       "      <th>West Midlands</th>\n",
       "      <td>2285</td>\n",
       "    </tr>\n",
       "    <tr>\n",
       "      <th>North Western</th>\n",
       "      <td>2541</td>\n",
       "    </tr>\n",
       "    <tr>\n",
       "      <th>South</th>\n",
       "      <td>2798</td>\n",
       "    </tr>\n",
       "    <tr>\n",
       "      <th>London</th>\n",
       "      <td>2852</td>\n",
       "    </tr>\n",
       "    <tr>\n",
       "      <th>East Anglian</th>\n",
       "      <td>3008</td>\n",
       "    </tr>\n",
       "    <tr>\n",
       "      <th>Scotland</th>\n",
       "      <td>3215</td>\n",
       "    </tr>\n",
       "  </tbody>\n",
       "</table>\n",
       "</div>"
      ],
      "text/plain": [
       "               region\n",
       "Ireland          1143\n",
       "North            1650\n",
       "Yorkshire        1800\n",
       "South East       1894\n",
       "Wales            2005\n",
       "East Midlands    2088\n",
       "South West       2217\n",
       "West Midlands    2285\n",
       "North Western    2541\n",
       "South            2798\n",
       "London           2852\n",
       "East Anglian     3008\n",
       "Scotland         3215"
      ]
     },
     "execution_count": 36,
     "metadata": {},
     "output_type": "execute_result"
    }
   ],
   "source": [
    "sorted_regions = stud_info['region'].value_counts().sort_values()\n",
    "dataframe(sorted_regions)"
   ]
  },
  {
   "cell_type": "code",
   "execution_count": 37,
   "id": "bf8c2873-4c33-4c2f-b23b-3cd43e68bb5a",
   "metadata": {},
   "outputs": [
    {
     "data": {
      "text/plain": [
       "<AxesSubplot:xlabel='region', ylabel='count'>"
      ]
     },
     "execution_count": 37,
     "metadata": {},
     "output_type": "execute_result"
    },
    {
     "data": {
      "image/png": "[encoded data removed]",
      "text/plain": [
       "<Figure size 1800x216 with 1 Axes>"
      ]
     },
     "metadata": {
      "needs_background": "light"
     },
     "output_type": "display_data"
    }
   ],
   "source": [
    "plt.figure(figsize=(25, 3))\n",
    "sns.countplot(data=stud_info, x=stud_info['region'], order = stud_info['region'].value_counts(ascending=True).index)"
   ]
  },
  {
   "cell_type": "markdown",
   "id": "472cb4c3-05f0-4e83-91c4-127873a66f3f",
   "metadata": {},
   "source": [
    "Here we can see the distribution of students by region"
   ]
  },
  {
   "cell_type": "markdown",
   "id": "f6c00806-a6c6-41f5-bc64-053eb7e4be99",
   "metadata": {},
   "source": [
    "**IMD Band**"
   ]
  },
  {
   "cell_type": "code",
   "execution_count": 38,
   "id": "0d13dc42-f791-4808-ab5f-86c4d460f263",
   "metadata": {},
   "outputs": [
    {
     "data": {
      "text/plain": [
       "<AxesSubplot:xlabel='imd', ylabel='count'>"
      ]
     },
     "execution_count": 38,
     "metadata": {},
     "output_type": "execute_result"
    },
    {
     "data": {
      "image/png": "[encoded data removed]",
      "text/plain": [
       "<Figure size 1800x216 with 1 Axes>"
      ]
     },
     "metadata": {
      "needs_background": "light"
     },
     "output_type": "display_data"
    }
   ],
   "source": [
    "# list of imd possibilites\n",
    "imds = ['0-10%', '10-20%', '20-30%', '30-40%', '40-50%', '50-60%', '60-70%', '70-80%', '80-90%', '90-100%']\n",
    "plt.figure(figsize=(25, 3))\n",
    "sns.countplot(data=stud_info, x=stud_info['imd'], order=imds)"
   ]
  },
  {
   "cell_type": "markdown",
   "id": "bd230f95-21ba-4bcc-adb3-b179e0c3535e",
   "metadata": {},
   "source": [
    "In this bar graph we see the distribution of students by IMD band. Many students seem to be in more deprived countries with a spike in students in the 10-20% band."
   ]
  },
  {
   "cell_type": "markdown",
   "id": "a1e3f5a3-8265-4f81-8d84-461535744852",
   "metadata": {},
   "source": [
    "**Age**"
   ]
  },
  {
   "cell_type": "code",
   "execution_count": 39,
   "id": "ea40047b-4145-47e5-bdf1-de6c08e5e6d6",
   "metadata": {},
   "outputs": [
    {
     "data": {
      "image/png": "[encoded data removed]",
      "text/plain": [
       "<Figure size 1800x216 with 1 Axes>"
      ]
     },
     "metadata": {},
     "output_type": "display_data"
    }
   ],
   "source": [
    "# list of age_band possibilities\n",
    "ages = ['0-35', '35-55', '55<-']\n",
    "age_freqs = stud_info['age'].value_counts(normalize=True)\n",
    "plt.figure(figsize=(25, 3))\n",
    "plt.pie(data=stud_info, x=age_freqs, labels=ages, autopct='%1.1f%%', startangle=90)\n",
    "plt.show()"
   ]
  },
  {
   "cell_type": "markdown",
   "id": "80e9b787-c040-48f5-bbe6-7fe854fecb56",
   "metadata": {},
   "source": [
    "over 70% of our students are under 35.\n",
    "For ages we see that there is less than 1% of people in the 55 and over range and so we will combine that with the 35-55 range to make two ranges:\n",
    "0-35 and 35+"
   ]
  },
  {
   "cell_type": "code",
   "execution_count": 40,
   "id": "01a3e23b-df14-4204-9327-3bc1c78707c5",
   "metadata": {},
   "outputs": [
    {
     "data": {
      "image/png": "[encoded data removed]",
      "text/plain": [
       "<Figure size 1800x216 with 1 Axes>"
      ]
     },
     "metadata": {},
     "output_type": "display_data"
    }
   ],
   "source": [
    "stud_info = stud_info.replace({'age':{'55<=':'35+', '35-55':'35+'}})\n",
    "ages_updated = ['0-35', '55+']\n",
    "age_freqs = stud_info['age'].value_counts(normalize=True)\n",
    "plt.figure(figsize=(25, 3))\n",
    "plt.pie(data=stud_info, x=age_freqs, labels=ages_updated, autopct='%1.1f%%', startangle=90)\n",
    "plt.show()"
   ]
  },
  {
   "cell_type": "markdown",
   "id": "db77bb3e-28d2-4535-ad3f-21eb2136723c",
   "metadata": {},
   "source": [
    "**Gender**"
   ]
  },
  {
   "cell_type": "code",
   "execution_count": 42,
   "id": "fe4d6be8-d38b-45a2-aa2e-9117fe7dccd8",
   "metadata": {},
   "outputs": [
    {
     "data": {
      "image/png": "[encoded data removed]",
      "text/plain": [
       "<Figure size 1800x216 with 1 Axes>"
      ]
     },
     "metadata": {},
     "output_type": "display_data"
    }
   ],
   "source": [
    "genders = ['M', 'F']\n",
    "gender_freqs = stud_info['gender'].value_counts(normalize=True)\n",
    "plt.figure(figsize=(25, 3))\n",
    "plt.pie(data=stud_info, x=gender_freqs, labels=genders, autopct='%1.1f%%', startangle=90)\n",
    "plt.show()"
   ]
  },
  {
   "cell_type": "markdown",
   "id": "6c86a0cf-3866-4833-9958-a38f1294af19",
   "metadata": {},
   "source": [
    "Our male to female student distribution is fairly even."
   ]
  },
  {
   "cell_type": "markdown",
   "id": "d03ad07f-8edf-4a11-b113-f3d37b2bfb75",
   "metadata": {},
   "source": [
    "**Education**"
   ]
  },
  {
   "cell_type": "code",
   "execution_count": 43,
   "id": "9e6130ab-d4b5-4d50-addc-6ce3a68b65f5",
   "metadata": {},
   "outputs": [
    {
     "data": {
      "text/plain": [
       "<AxesSubplot:xlabel='education', ylabel='count'>"
      ]
     },
     "execution_count": 43,
     "metadata": {},
     "output_type": "execute_result"
    },
    {
     "data": {
      "image/png": "[encoded data removed]",
      "text/plain": [
       "<Figure size 1440x216 with 1 Axes>"
      ]
     },
     "metadata": {
      "needs_background": "light"
     },
     "output_type": "display_data"
    }
   ],
   "source": [
    "# list of education possibilities\n",
    "educations = ['No Formal', 'Under A Level', 'A Level', 'HE', 'Post Grad']\n",
    "plt.figure(figsize=(20, 3))\n",
    "sns.countplot(data=stud_info, x=stud_info['education'], order=educations)"
   ]
  },
  {
   "cell_type": "markdown",
   "id": "22f5d8f6-241f-4e4f-8bc0-66a63f77df51",
   "metadata": {},
   "source": [
    "Very few of our students fall into `No Formal` and `Post Grad` and these variables will likely not make the most accurate predictions. Due to this `No Formal` will be combined with `Under A Level` and `Post Grad` will be combined with `HE` students"
   ]
  },
  {
   "cell_type": "code",
   "execution_count": 44,
   "id": "0200935f-047d-4623-adbe-84b1944e852a",
   "metadata": {},
   "outputs": [],
   "source": [
    "stud_info = stud_info.replace({'education':{'No Formal':'Under A Level', 'Post Grad':'HE'}})"
   ]
  },
  {
   "cell_type": "code",
   "execution_count": 45,
   "id": "aa3e2a37-a51f-4dbf-806f-8ca01c2016b1",
   "metadata": {},
   "outputs": [
    {
     "data": {
      "text/plain": [
       "<AxesSubplot:xlabel='education', ylabel='count'>"
      ]
     },
     "execution_count": 45,
     "metadata": {},
     "output_type": "execute_result"
    },
    {
     "data": {
      "image/png": "[encoded data removed]",
      "text/plain": [
       "<Figure size 720x216 with 1 Axes>"
      ]
     },
     "metadata": {
      "needs_background": "light"
     },
     "output_type": "display_data"
    }
   ],
   "source": [
    "# list of education possibilities\n",
    "educations_updated = ['Under A Level', 'A Level', 'HE']\n",
    "plt.figure(figsize=(10, 3))\n",
    "sns.countplot(data=stud_info, x=stud_info['education'], order=educations_updated)"
   ]
  },
  {
   "cell_type": "markdown",
   "id": "a895535d-71fa-4212-ad0d-3abcb227507e",
   "metadata": {},
   "source": [
    "**Disability**"
   ]
  },
  {
   "cell_type": "code",
   "execution_count": 49,
   "id": "70d94548-05d0-45ff-bd52-1f20261c7495",
   "metadata": {},
   "outputs": [
    {
     "data": {
      "image/png": "[encoded data removed]",
      "text/plain": [
       "<Figure size 1800x216 with 1 Axes>"
      ]
     },
     "metadata": {},
     "output_type": "display_data"
    }
   ],
   "source": [
    "disabilities=['N', 'Y']\n",
    "disability_freqs = stud_info['disability'].value_counts(normalize=True)\n",
    "plt.figure(figsize=(25, 3))\n",
    "plt.pie(data=stud_info, x=disability_freqs, labels=disabilities, autopct='%1.1f%%', startangle=90)\n",
    "plt.show()"
   ]
  },
  {
   "cell_type": "markdown",
   "id": "0a8d86fb-6136-4ed3-bc22-1a2ba51d3f16",
   "metadata": {},
   "source": [
    "Under 10% of our students identified as having disabilities and so are underrepresented in this group."
   ]
  },
  {
   "cell_type": "markdown",
   "id": "856da20c-77d8-4961-9611-864c6f10222b",
   "metadata": {},
   "source": [
    "**Student Results Overall**"
   ]
  },
  {
   "cell_type": "code",
   "execution_count": 70,
   "id": "0de9cd16-b26c-4a79-b814-04f9cb2ae3a0",
   "metadata": {
    "tags": []
   },
   "outputs": [
    {
     "data": {
      "image/png": "[encoded data removed]",
      "text/plain": [
       "<Figure size 432x288 with 1 Axes>"
      ]
     },
     "metadata": {},
     "output_type": "display_data"
    }
   ],
   "source": [
    "# list of result possibilities\n",
    "results = ['Pass', 'Fail', 'Withdrawn', 'Distinction']\n",
    "result_freqs = stud_info['result'].value_counts(normalize=True)\n",
    "pass_perc = round((result_freqs[0] * 100), 1)\n",
    "withdraw_perc = round((result_freqs[1] * 100), 1)\n",
    "fail_perc = round((result_freqs[2] * 100), 1)\n",
    "distinct_perc = round((result_freqs[3] * 100), 1)\n",
    "results_percs = [pass_perc, fail_perc, withdraw_perc, distinct_perc]\n",
    "\n",
    "fig1, ax1 = plt.subplots()\n",
    "ax1.pie(results_percs, labels=results, autopct='%1.1f%%', startangle=90)\n",
    "ax1.axis('equal')  # Equal aspect ratio ensures that pie is drawn as a circle.\n",
    "\n",
    "plt.show()\n"
   ]
  },
  {
   "cell_type": "code",
   "execution_count": 51,
   "id": "3036159c-c609-4139-94e7-ce6098875cd8",
   "metadata": {
    "tags": []
   },
   "outputs": [
    {
     "data": {
      "text/markdown": [
       "\n",
       "* Here we can see that we have a negative result of withdrawing or failing **47.9%** of the time,\n",
       "with **52.2%** of students achieving a positive result of passing or passing with distinction.\n"
      ],
      "text/plain": [
       "<IPython.core.display.Markdown object>"
      ]
     },
     "execution_count": 51,
     "metadata": {},
     "output_type": "execute_result"
    }
   ],
   "source": [
    "neg_result = fail_perc + withdraw_perc\n",
    "pos_result = pass_perc + distinct_perc\n",
    "md(f'''\n",
    "* Here we can see that we have a negative result of withdrawing or failing **{neg_result}%** of the time,\n",
    "with **{pos_result}%** of students achieving a positive result of passing or passing with distinction.\n",
    "''')"
   ]
  },
  {
   "cell_type": "markdown",
   "id": "c574397f-bdd4-4c61-8a7d-eeacee17cf7c",
   "metadata": {},
   "source": [
    "* We will be using classification to identify students as having negative or positive results and so will identify `Distinction` and `Pass` as positive results which we will label as boolean True and `Fail` and `Withdrawn` as negative results which we will label as boolean False. This will be done in another column."
   ]
  },
  {
   "cell_type": "code",
   "execution_count": 66,
   "id": "3e3d62c1-521a-40f3-9e38-485ff64490bf",
   "metadata": {},
   "outputs": [
    {
     "data": {
      "text/html": [
       "<div>\n",
       "<style scoped>\n",
       "    .dataframe tbody tr th:only-of-type {\n",
       "        vertical-align: middle;\n",
       "    }\n",
       "\n",
       "    .dataframe tbody tr th {\n",
       "        vertical-align: top;\n",
       "    }\n",
       "\n",
       "    .dataframe thead th {\n",
       "        text-align: right;\n",
       "    }\n",
       "</style>\n",
       "<table border=\"1\" class=\"dataframe\">\n",
       "  <thead>\n",
       "    <tr style=\"text-align: right;\">\n",
       "      <th></th>\n",
       "      <th>module</th>\n",
       "      <th>presentation</th>\n",
       "      <th>id_student</th>\n",
       "      <th>region</th>\n",
       "      <th>imd</th>\n",
       "      <th>age</th>\n",
       "      <th>gender</th>\n",
       "      <th>education</th>\n",
       "      <th>disability</th>\n",
       "      <th>attempts</th>\n",
       "      <th>credits</th>\n",
       "      <th>result</th>\n",
       "      <th>date_unregistration</th>\n",
       "      <th>result_class</th>\n",
       "    </tr>\n",
       "  </thead>\n",
       "  <tbody>\n",
       "    <tr>\n",
       "      <th>0</th>\n",
       "      <td>AAA</td>\n",
       "      <td>2013J</td>\n",
       "      <td>11391</td>\n",
       "      <td>East Anglian</td>\n",
       "      <td>90-100%</td>\n",
       "      <td>35+</td>\n",
       "      <td>M</td>\n",
       "      <td>HE</td>\n",
       "      <td>False</td>\n",
       "      <td>0</td>\n",
       "      <td>240</td>\n",
       "      <td>Pass</td>\n",
       "      <td>&lt;NA&gt;</td>\n",
       "      <td>True</td>\n",
       "    </tr>\n",
       "    <tr>\n",
       "      <th>1</th>\n",
       "      <td>AAA</td>\n",
       "      <td>2013J</td>\n",
       "      <td>28400</td>\n",
       "      <td>Scotland</td>\n",
       "      <td>20-30%</td>\n",
       "      <td>35+</td>\n",
       "      <td>F</td>\n",
       "      <td>HE</td>\n",
       "      <td>False</td>\n",
       "      <td>0</td>\n",
       "      <td>60</td>\n",
       "      <td>Pass</td>\n",
       "      <td>&lt;NA&gt;</td>\n",
       "      <td>True</td>\n",
       "    </tr>\n",
       "    <tr>\n",
       "      <th>2</th>\n",
       "      <td>AAA</td>\n",
       "      <td>2013J</td>\n",
       "      <td>30268</td>\n",
       "      <td>North Western</td>\n",
       "      <td>30-40%</td>\n",
       "      <td>35+</td>\n",
       "      <td>F</td>\n",
       "      <td>A Level</td>\n",
       "      <td>True</td>\n",
       "      <td>0</td>\n",
       "      <td>60</td>\n",
       "      <td>Withdrawn</td>\n",
       "      <td>12</td>\n",
       "      <td>False</td>\n",
       "    </tr>\n",
       "    <tr>\n",
       "      <th>3</th>\n",
       "      <td>AAA</td>\n",
       "      <td>2013J</td>\n",
       "      <td>31604</td>\n",
       "      <td>South East</td>\n",
       "      <td>50-60%</td>\n",
       "      <td>35+</td>\n",
       "      <td>F</td>\n",
       "      <td>A Level</td>\n",
       "      <td>False</td>\n",
       "      <td>0</td>\n",
       "      <td>60</td>\n",
       "      <td>Pass</td>\n",
       "      <td>&lt;NA&gt;</td>\n",
       "      <td>True</td>\n",
       "    </tr>\n",
       "    <tr>\n",
       "      <th>4</th>\n",
       "      <td>AAA</td>\n",
       "      <td>2013J</td>\n",
       "      <td>32885</td>\n",
       "      <td>West Midlands</td>\n",
       "      <td>50-60%</td>\n",
       "      <td>0-35</td>\n",
       "      <td>F</td>\n",
       "      <td>Under A Level</td>\n",
       "      <td>False</td>\n",
       "      <td>0</td>\n",
       "      <td>60</td>\n",
       "      <td>Pass</td>\n",
       "      <td>&lt;NA&gt;</td>\n",
       "      <td>True</td>\n",
       "    </tr>\n",
       "    <tr>\n",
       "      <th>...</th>\n",
       "      <td>...</td>\n",
       "      <td>...</td>\n",
       "      <td>...</td>\n",
       "      <td>...</td>\n",
       "      <td>...</td>\n",
       "      <td>...</td>\n",
       "      <td>...</td>\n",
       "      <td>...</td>\n",
       "      <td>...</td>\n",
       "      <td>...</td>\n",
       "      <td>...</td>\n",
       "      <td>...</td>\n",
       "      <td>...</td>\n",
       "      <td>...</td>\n",
       "    </tr>\n",
       "    <tr>\n",
       "      <th>32588</th>\n",
       "      <td>GGG</td>\n",
       "      <td>2014J</td>\n",
       "      <td>2640965</td>\n",
       "      <td>Wales</td>\n",
       "      <td>10-20%</td>\n",
       "      <td>0-35</td>\n",
       "      <td>F</td>\n",
       "      <td>Under A Level</td>\n",
       "      <td>False</td>\n",
       "      <td>0</td>\n",
       "      <td>30</td>\n",
       "      <td>Fail</td>\n",
       "      <td>&lt;NA&gt;</td>\n",
       "      <td>False</td>\n",
       "    </tr>\n",
       "    <tr>\n",
       "      <th>32589</th>\n",
       "      <td>GGG</td>\n",
       "      <td>2014J</td>\n",
       "      <td>2645731</td>\n",
       "      <td>East Anglian</td>\n",
       "      <td>40-50%</td>\n",
       "      <td>35+</td>\n",
       "      <td>F</td>\n",
       "      <td>Under A Level</td>\n",
       "      <td>False</td>\n",
       "      <td>0</td>\n",
       "      <td>30</td>\n",
       "      <td>Distinction</td>\n",
       "      <td>&lt;NA&gt;</td>\n",
       "      <td>True</td>\n",
       "    </tr>\n",
       "    <tr>\n",
       "      <th>32590</th>\n",
       "      <td>GGG</td>\n",
       "      <td>2014J</td>\n",
       "      <td>2648187</td>\n",
       "      <td>South</td>\n",
       "      <td>20-30%</td>\n",
       "      <td>0-35</td>\n",
       "      <td>F</td>\n",
       "      <td>A Level</td>\n",
       "      <td>True</td>\n",
       "      <td>0</td>\n",
       "      <td>30</td>\n",
       "      <td>Pass</td>\n",
       "      <td>&lt;NA&gt;</td>\n",
       "      <td>True</td>\n",
       "    </tr>\n",
       "    <tr>\n",
       "      <th>32591</th>\n",
       "      <td>GGG</td>\n",
       "      <td>2014J</td>\n",
       "      <td>2679821</td>\n",
       "      <td>South East</td>\n",
       "      <td>90-100%</td>\n",
       "      <td>35+</td>\n",
       "      <td>F</td>\n",
       "      <td>Under A Level</td>\n",
       "      <td>False</td>\n",
       "      <td>0</td>\n",
       "      <td>30</td>\n",
       "      <td>Withdrawn</td>\n",
       "      <td>101</td>\n",
       "      <td>False</td>\n",
       "    </tr>\n",
       "    <tr>\n",
       "      <th>32592</th>\n",
       "      <td>GGG</td>\n",
       "      <td>2014J</td>\n",
       "      <td>2684003</td>\n",
       "      <td>Yorkshire</td>\n",
       "      <td>50-60%</td>\n",
       "      <td>35+</td>\n",
       "      <td>F</td>\n",
       "      <td>HE</td>\n",
       "      <td>False</td>\n",
       "      <td>0</td>\n",
       "      <td>30</td>\n",
       "      <td>Distinction</td>\n",
       "      <td>&lt;NA&gt;</td>\n",
       "      <td>True</td>\n",
       "    </tr>\n",
       "  </tbody>\n",
       "</table>\n",
       "<p>29496 rows × 14 columns</p>\n",
       "</div>"
      ],
      "text/plain": [
       "      module presentation id_student         region      imd   age gender  \\\n",
       "0        AAA        2013J      11391   East Anglian  90-100%   35+      M   \n",
       "1        AAA        2013J      28400       Scotland   20-30%   35+      F   \n",
       "2        AAA        2013J      30268  North Western   30-40%   35+      F   \n",
       "3        AAA        2013J      31604     South East   50-60%   35+      F   \n",
       "4        AAA        2013J      32885  West Midlands   50-60%  0-35      F   \n",
       "...      ...          ...        ...            ...      ...   ...    ...   \n",
       "32588    GGG        2014J    2640965          Wales   10-20%  0-35      F   \n",
       "32589    GGG        2014J    2645731   East Anglian   40-50%   35+      F   \n",
       "32590    GGG        2014J    2648187          South   20-30%  0-35      F   \n",
       "32591    GGG        2014J    2679821     South East  90-100%   35+      F   \n",
       "32592    GGG        2014J    2684003      Yorkshire   50-60%   35+      F   \n",
       "\n",
       "           education  disability  attempts  credits       result  \\\n",
       "0                 HE       False         0      240         Pass   \n",
       "1                 HE       False         0       60         Pass   \n",
       "2            A Level        True         0       60    Withdrawn   \n",
       "3            A Level       False         0       60         Pass   \n",
       "4      Under A Level       False         0       60         Pass   \n",
       "...              ...         ...       ...      ...          ...   \n",
       "32588  Under A Level       False         0       30         Fail   \n",
       "32589  Under A Level       False         0       30  Distinction   \n",
       "32590        A Level        True         0       30         Pass   \n",
       "32591  Under A Level       False         0       30    Withdrawn   \n",
       "32592             HE       False         0       30  Distinction   \n",
       "\n",
       "       date_unregistration  result_class  \n",
       "0                     <NA>          True  \n",
       "1                     <NA>          True  \n",
       "2                       12         False  \n",
       "3                     <NA>          True  \n",
       "4                     <NA>          True  \n",
       "...                    ...           ...  \n",
       "32588                 <NA>         False  \n",
       "32589                 <NA>          True  \n",
       "32590                 <NA>          True  \n",
       "32591                  101         False  \n",
       "32592                 <NA>          True  \n",
       "\n",
       "[29496 rows x 14 columns]"
      ]
     },
     "execution_count": 66,
     "metadata": {},
     "output_type": "execute_result"
    }
   ],
   "source": [
    "classify_results(stud_info)"
   ]
  },
  {
   "cell_type": "code",
   "execution_count": 71,
   "id": "5d048330-e0a5-4026-8649-2b158ce450ee",
   "metadata": {},
   "outputs": [
    {
     "data": {
      "image/png": "[encoded data removed]",
      "text/plain": [
       "<Figure size 432x288 with 1 Axes>"
      ]
     },
     "metadata": {},
     "output_type": "display_data"
    }
   ],
   "source": [
    "# list of result possibilities\n",
    "results_classes = ['Positive', 'Negative']\n",
    "result_class_freqs = stud_info['result'].value_counts(normalize=True)\n",
    "pos_perc = round((result_freqs[0] * 100), 1)\n",
    "neg_perc = round((result_freqs[1] * 100), 1)\n",
    "results_percs = [pos_perc, neg_perc]\n",
    "\n",
    "fig1, ax1 = plt.subplots()\n",
    "ax1.pie(results_percs, labels=results_classes, autopct='%1.1f%%', startangle=90)\n",
    "ax1.axis('equal')  # Equal aspect ratio ensures that pie is drawn as a circle.\n",
    "\n",
    "plt.show()\n"
   ]
  },
  {
   "cell_type": "code",
   "execution_count": null,
   "id": "8fede4fe-0299-4188-a77a-845b7d8fcea5",
   "metadata": {},
   "outputs": [],
   "source": []
  }
 ],
 "metadata": {
  "kernelspec": {
   "display_name": "Python 3",
   "language": "python",
   "name": "python3"
  },
  "language_info": {
   "codemirror_mode": {
    "name": "ipython",
    "version": 3
   },
   "file_extension": ".py",
   "mimetype": "text/x-python",
   "name": "python",
   "nbconvert_exporter": "python",
   "pygments_lexer": "ipython3",
   "version": "3.9.6"
  }
 },
 "nbformat": 4,
 "nbformat_minor": 5
}
