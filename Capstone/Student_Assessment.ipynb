{
 "cells": [
  {
   "cell_type": "code",
   "execution_count": 2,
   "id": "9bcb060c-b76b-4bf4-b110-906b4b9f9e07",
   "metadata": {
    "tags": [
     "remove-cell"
    ]
   },
   "outputs": [],
   "source": [
    "from functions import *\n",
    "from ipynb.fs.full.Student_Info import student_info\n",
    "from ipynb.fs.full.Assessments import assessments"
   ]
  },
  {
   "cell_type": "markdown",
   "id": "fc1acb26-714c-4527-9345-0f8621a5ff4d",
   "metadata": {},
   "source": [
    "# Student Assessment\n",
    "\n",
    "---"
   ]
  },
  {
   "cell_type": "markdown",
   "id": "a2b95941-b268-4c44-bfbd-639ee3e4034e",
   "metadata": {},
   "source": [
    "The Student Assessments dataframe contains information about each student and the assessments they took during the module"
   ]
  },
  {
   "cell_type": "code",
   "execution_count": 3,
   "id": "c9cf2b18-60e4-4965-bafc-4bb1d831e7f9",
   "metadata": {
    "tags": [
     "remove_input"
    ]
   },
   "outputs": [
    {
     "data": {
      "text/html": [
       "<div>\n",
       "<style scoped>\n",
       "    .dataframe tbody tr th:only-of-type {\n",
       "        vertical-align: middle;\n",
       "    }\n",
       "\n",
       "    .dataframe tbody tr th {\n",
       "        vertical-align: top;\n",
       "    }\n",
       "\n",
       "    .dataframe thead th {\n",
       "        text-align: right;\n",
       "    }\n",
       "</style>\n",
       "<table border=\"1\" class=\"dataframe\">\n",
       "  <thead>\n",
       "    <tr style=\"text-align: right;\">\n",
       "      <th></th>\n",
       "      <th>id_assessment</th>\n",
       "      <th>id_student</th>\n",
       "      <th>date_submitted</th>\n",
       "      <th>is_banked</th>\n",
       "      <th>score</th>\n",
       "    </tr>\n",
       "  </thead>\n",
       "  <tbody>\n",
       "    <tr>\n",
       "      <th>0</th>\n",
       "      <td>1752</td>\n",
       "      <td>11391</td>\n",
       "      <td>18</td>\n",
       "      <td>0</td>\n",
       "      <td>78.0</td>\n",
       "    </tr>\n",
       "    <tr>\n",
       "      <th>1</th>\n",
       "      <td>1752</td>\n",
       "      <td>28400</td>\n",
       "      <td>22</td>\n",
       "      <td>0</td>\n",
       "      <td>70.0</td>\n",
       "    </tr>\n",
       "    <tr>\n",
       "      <th>2</th>\n",
       "      <td>1752</td>\n",
       "      <td>31604</td>\n",
       "      <td>17</td>\n",
       "      <td>0</td>\n",
       "      <td>72.0</td>\n",
       "    </tr>\n",
       "    <tr>\n",
       "      <th>3</th>\n",
       "      <td>1752</td>\n",
       "      <td>32885</td>\n",
       "      <td>26</td>\n",
       "      <td>0</td>\n",
       "      <td>69.0</td>\n",
       "    </tr>\n",
       "    <tr>\n",
       "      <th>4</th>\n",
       "      <td>1752</td>\n",
       "      <td>38053</td>\n",
       "      <td>19</td>\n",
       "      <td>0</td>\n",
       "      <td>79.0</td>\n",
       "    </tr>\n",
       "  </tbody>\n",
       "</table>\n",
       "</div>"
      ],
      "text/plain": [
       "   id_assessment  id_student  date_submitted  is_banked  score\n",
       "0           1752       11391              18          0   78.0\n",
       "1           1752       28400              22          0   70.0\n",
       "2           1752       31604              17          0   72.0\n",
       "3           1752       32885              26          0   69.0\n",
       "4           1752       38053              19          0   79.0"
      ]
     },
     "execution_count": 3,
     "metadata": {},
     "output_type": "execute_result"
    }
   ],
   "source": [
    "student_assessment.head()"
   ]
  },
  {
   "cell_type": "markdown",
   "id": "6ecc2137-eaa7-4e22-bf65-1b7868707fac",
   "metadata": {},
   "source": [
    "---\n",
    "\n",
    "## Student Assessment Contents\n",
    "\n",
    "* **id_assessment**: The assessment ID is the unique identifier for the assessment the student took.\n",
    "* **id_student**: The student ID is the unique identifier for the student who took the assessment.\n",
    "* **date_submitted**: The date submitted is the date the student submitted the exam relevant to the start date of the module.\n",
    "* **is_banked**: Whether the score for the assessment is banked indicates wheter the assessment result was transferred from a previous presentation.\n",
    "    - is_banked has no relevant information to our analysis and can be removed\n",
    "* **score**: The score the student received for the assessment. 40 or above is considered a passing score."
   ]
  },
  {
   "cell_type": "markdown",
   "id": "cdc50bc2-6b9e-4a49-ba4a-58ae30df7145",
   "metadata": {},
   "source": [
    "---\n",
    "\n",
    "## Student Assessment Information"
   ]
  },
  {
   "cell_type": "markdown",
   "id": "766d6951-45d3-4cfa-b3a0-0c8f36d794fb",
   "metadata": {},
   "source": [
    "**Size**"
   ]
  },
  {
   "cell_type": "code",
   "execution_count": 5,
   "id": "0035b3b3-b761-42ba-a649-a8c77e59564e",
   "metadata": {
    "tags": [
     "remove_input"
    ]
   },
   "outputs": [
    {
     "data": {
      "text/html": [
       "<div>\n",
       "<style scoped>\n",
       "    .dataframe tbody tr th:only-of-type {\n",
       "        vertical-align: middle;\n",
       "    }\n",
       "\n",
       "    .dataframe tbody tr th {\n",
       "        vertical-align: top;\n",
       "    }\n",
       "\n",
       "    .dataframe thead th {\n",
       "        text-align: right;\n",
       "    }\n",
       "</style>\n",
       "<table border=\"1\" class=\"dataframe\">\n",
       "  <thead>\n",
       "    <tr style=\"text-align: right;\">\n",
       "      <th></th>\n",
       "      <th>Count</th>\n",
       "    </tr>\n",
       "  </thead>\n",
       "  <tbody>\n",
       "    <tr>\n",
       "      <th>Columns</th>\n",
       "      <td>4</td>\n",
       "    </tr>\n",
       "    <tr>\n",
       "      <th>Rows</th>\n",
       "      <td>173912</td>\n",
       "    </tr>\n",
       "  </tbody>\n",
       "</table>\n",
       "</div>"
      ],
      "text/plain": [
       "          Count\n",
       "Columns       4\n",
       "Rows     173912"
      ]
     },
     "execution_count": 5,
     "metadata": {},
     "output_type": "execute_result"
    }
   ],
   "source": [
    "# get the size of student_assessment\n",
    "get_size(student_assessment)"
   ]
  },
  {
   "cell_type": "code",
   "execution_count": 6,
   "id": "c22a69c3-00e8-494e-ad80-c80598c60d9a",
   "metadata": {},
   "outputs": [
    {
     "data": {
      "text/markdown": [
       "\n",
       "Student Assessment has 4 columns and 173,912 rows, which is how many exams we have data for.\n"
      ],
      "text/plain": [
       "<IPython.core.display.Markdown object>"
      ]
     },
     "execution_count": 6,
     "metadata": {},
     "output_type": "execute_result"
    }
   ],
   "source": [
    "# store the size of student_assessment's columns\n",
    "sa_cols = len(student_assessment.columns)\n",
    "# store the size of student_assessment's rows\n",
    "sa_rows = len(student_assessment)\n",
    "md(f'''\n",
    "Student Assessment has {sa_cols} columns and {\"{:,}\".format(sa_rows)} rows, which is how many exams we have data for.\n",
    "''')"
   ]
  },
  {
   "cell_type": "markdown",
   "id": "a748695b-f90b-4bf8-912f-d123585ff9f2",
   "metadata": {},
   "source": [
    "**Data Types**"
   ]
  },
  {
   "cell_type": "code",
   "execution_count": 7,
   "id": "71fed38e-4597-4631-bd6e-78d5c82600ec",
   "metadata": {
    "tags": [
     "remove_input"
    ]
   },
   "outputs": [
    {
     "data": {
      "text/html": [
       "<style type=\"text/css\">\n",
       "#T_cc3c9_ td.col0 {\n",
       "  font-weight: bold;\n",
       "}\n",
       "</style>\n",
       "<table id=\"T_cc3c9_\">\n",
       "  <thead>\n",
       "    <tr>\n",
       "      <th class=\"col_heading level0 col0\" >index</th>\n",
       "      <th class=\"col_heading level0 col1\" >Type</th>\n",
       "    </tr>\n",
       "  </thead>\n",
       "  <tbody>\n",
       "    <tr>\n",
       "      <td id=\"T_cc3c9_row0_col0\" class=\"data row0 col0\" >id_assessment</td>\n",
       "      <td id=\"T_cc3c9_row0_col1\" class=\"data row0 col1\" >int64</td>\n",
       "    </tr>\n",
       "    <tr>\n",
       "      <td id=\"T_cc3c9_row1_col0\" class=\"data row1 col0\" >id_student</td>\n",
       "      <td id=\"T_cc3c9_row1_col1\" class=\"data row1 col1\" >int64</td>\n",
       "    </tr>\n",
       "    <tr>\n",
       "      <td id=\"T_cc3c9_row2_col0\" class=\"data row2 col0\" >date_submitted</td>\n",
       "      <td id=\"T_cc3c9_row2_col1\" class=\"data row2 col1\" >int64</td>\n",
       "    </tr>\n",
       "    <tr>\n",
       "      <td id=\"T_cc3c9_row3_col0\" class=\"data row3 col0\" >score</td>\n",
       "      <td id=\"T_cc3c9_row3_col1\" class=\"data row3 col1\" >float64</td>\n",
       "    </tr>\n",
       "  </tbody>\n",
       "</table>\n"
      ],
      "text/plain": [
       "<pandas.io.formats.style.Styler at 0x1a6003a9190>"
      ]
     },
     "execution_count": 7,
     "metadata": {},
     "output_type": "execute_result"
    }
   ],
   "source": [
    "# get student_assessment column datatypes\n",
    "get_dtypes(student_assessment)"
   ]
  },
  {
   "cell_type": "markdown",
   "id": "b87836e4-b938-43dd-8e40-033ef284c4cc",
   "metadata": {},
   "source": [
    "* `id_student` and `id_assessments` are both categorical values and so should be converted from `int64` to `string`"
   ]
  },
  {
   "cell_type": "code",
   "execution_count": 8,
   "id": "16bfc18e-6a1e-404f-bfaa-b5586296ee98",
   "metadata": {
    "tags": [
     "remove-cell"
    ]
   },
   "outputs": [
    {
     "data": {
      "text/plain": [
       "id_assessment     string\n",
       "id_student        string\n",
       "date_submitted     Int64\n",
       "score              Int64\n",
       "dtype: object"
      ]
     },
     "execution_count": 8,
     "metadata": {},
     "output_type": "execute_result"
    }
   ],
   "source": [
    "# converting the data types\n",
    "student_assessment = student_assessment.astype({'id_assessment': str, 'id_student': str})\n",
    "# change student_assessment datatypes to values pandas supports better\n",
    "student_assessment = student_assessment.convert_dtypes()\n",
    "student_assessment.dtypes"
   ]
  },
  {
   "cell_type": "markdown",
   "id": "f90bb93a-6076-4ecf-82a7-3b6f924e9f2d",
   "metadata": {},
   "source": [
    "**Null Values**"
   ]
  },
  {
   "cell_type": "code",
   "execution_count": 9,
   "id": "a8c9b7b6-21ed-4033-a973-462dca7db7ec",
   "metadata": {
    "tags": [
     "remove_input"
    ]
   },
   "outputs": [
    {
     "data": {
      "text/html": [
       "<style type=\"text/css\">\n",
       "#T_98b40_ td.col0 {\n",
       "  font-weight: bold;\n",
       "}\n",
       "</style>\n",
       "<table id=\"T_98b40_\">\n",
       "  <thead>\n",
       "    <tr>\n",
       "      <th class=\"col_heading level0 col0\" >index</th>\n",
       "      <th class=\"col_heading level0 col1\" >Null Values</th>\n",
       "    </tr>\n",
       "  </thead>\n",
       "  <tbody>\n",
       "    <tr>\n",
       "      <td id=\"T_98b40_row0_col0\" class=\"data row0 col0\" >id_assessment</td>\n",
       "      <td id=\"T_98b40_row0_col1\" class=\"data row0 col1\" >0</td>\n",
       "    </tr>\n",
       "    <tr>\n",
       "      <td id=\"T_98b40_row1_col0\" class=\"data row1 col0\" >id_student</td>\n",
       "      <td id=\"T_98b40_row1_col1\" class=\"data row1 col1\" >0</td>\n",
       "    </tr>\n",
       "    <tr>\n",
       "      <td id=\"T_98b40_row2_col0\" class=\"data row2 col0\" >date_submitted</td>\n",
       "      <td id=\"T_98b40_row2_col1\" class=\"data row2 col1\" >0</td>\n",
       "    </tr>\n",
       "    <tr>\n",
       "      <td id=\"T_98b40_row3_col0\" class=\"data row3 col0\" >score</td>\n",
       "      <td id=\"T_98b40_row3_col1\" class=\"data row3 col1\" >173</td>\n",
       "    </tr>\n",
       "  </tbody>\n",
       "</table>\n"
      ],
      "text/plain": [
       "<pandas.io.formats.style.Styler at 0x1a637cb6430>"
      ]
     },
     "execution_count": 9,
     "metadata": {},
     "output_type": "execute_result"
    }
   ],
   "source": [
    "# get null values if any\n",
    "null_vals(student_assessment)"
   ]
  },
  {
   "cell_type": "code",
   "execution_count": 10,
   "id": "70943352-c973-4206-aa4d-5a9e736dafd4",
   "metadata": {},
   "outputs": [
    {
     "data": {
      "text/markdown": [
       "\n",
       "* We have 173 null values for score, which is important as it is a value we will be trying to predict.\n"
      ],
      "text/plain": [
       "<IPython.core.display.Markdown object>"
      ]
     },
     "execution_count": 10,
     "metadata": {},
     "output_type": "execute_result"
    }
   ],
   "source": [
    "null_score = student_assessment['score'].isnull().sum()\n",
    "md(f'''\n",
    "* We have {null_score} null values for score, which is important as it is a value we will be trying to predict.\n",
    "''')"
   ]
  },
  {
   "cell_type": "code",
   "execution_count": 11,
   "id": "7542fa4f-daff-4c87-abca-1641c82bf098",
   "metadata": {},
   "outputs": [
    {
     "data": {
      "text/html": [
       "<div>\n",
       "<style scoped>\n",
       "    .dataframe tbody tr th:only-of-type {\n",
       "        vertical-align: middle;\n",
       "    }\n",
       "\n",
       "    .dataframe tbody tr th {\n",
       "        vertical-align: top;\n",
       "    }\n",
       "\n",
       "    .dataframe thead th {\n",
       "        text-align: right;\n",
       "    }\n",
       "</style>\n",
       "<table border=\"1\" class=\"dataframe\">\n",
       "  <thead>\n",
       "    <tr style=\"text-align: right;\">\n",
       "      <th></th>\n",
       "      <th>id_assessment</th>\n",
       "      <th>id_student</th>\n",
       "      <th>date_submitted</th>\n",
       "      <th>score</th>\n",
       "    </tr>\n",
       "  </thead>\n",
       "  <tbody>\n",
       "    <tr>\n",
       "      <th>785</th>\n",
       "      <td>1754</td>\n",
       "      <td>2456480</td>\n",
       "      <td>123</td>\n",
       "      <td>0</td>\n",
       "    </tr>\n",
       "    <tr>\n",
       "      <th>4322</th>\n",
       "      <td>14984</td>\n",
       "      <td>554986</td>\n",
       "      <td>24</td>\n",
       "      <td>0</td>\n",
       "    </tr>\n",
       "    <tr>\n",
       "      <th>4730</th>\n",
       "      <td>14985</td>\n",
       "      <td>141823</td>\n",
       "      <td>46</td>\n",
       "      <td>0</td>\n",
       "    </tr>\n",
       "    <tr>\n",
       "      <th>5391</th>\n",
       "      <td>14985</td>\n",
       "      <td>542259</td>\n",
       "      <td>46</td>\n",
       "      <td>0</td>\n",
       "    </tr>\n",
       "    <tr>\n",
       "      <th>5509</th>\n",
       "      <td>14985</td>\n",
       "      <td>549078</td>\n",
       "      <td>48</td>\n",
       "      <td>0</td>\n",
       "    </tr>\n",
       "  </tbody>\n",
       "</table>\n",
       "</div>"
      ],
      "text/plain": [
       "     id_assessment id_student  date_submitted  score\n",
       "785           1754    2456480             123      0\n",
       "4322         14984     554986              24      0\n",
       "4730         14985     141823              46      0\n",
       "5391         14985     542259              46      0\n",
       "5509         14985     549078              48      0"
      ]
     },
     "execution_count": 11,
     "metadata": {},
     "output_type": "execute_result"
    }
   ],
   "source": [
    "# make a dataframe of students with a score of 0 and display it\n",
    "zero_scores = student_assessment.loc[student_assessment['score'] == 0]\n",
    "zero_scores.head()"
   ]
  },
  {
   "cell_type": "code",
   "execution_count": 12,
   "id": "98c24e4a-1f9e-48d8-b9e4-00f67fecd854",
   "metadata": {},
   "outputs": [
    {
     "data": {
      "text/markdown": [
       "\n",
       "The first thing to check would be whether there are students with a 0 for a score to see if the NaNs represent 0's.\n",
       "We see here that there are 329 records of assessments with a 0 score, so the NaNs are not necessarily 0's.\n"
      ],
      "text/plain": [
       "<IPython.core.display.Markdown object>"
      ]
     },
     "execution_count": 12,
     "metadata": {},
     "output_type": "execute_result"
    }
   ],
   "source": [
    "md(f'''\n",
    "The first thing to check would be whether there are students with a 0 for a score to see if the NaNs represent 0's.\n",
    "We see here that there are {len(zero_scores)} records of assessments with a 0 score, so the NaNs are not necessarily 0's.\n",
    "''')"
   ]
  },
  {
   "cell_type": "code",
   "execution_count": 13,
   "id": "f8a5dfaa-86a2-4740-ae9c-302ab0634b13",
   "metadata": {},
   "outputs": [
    {
     "data": {
      "text/html": [
       "<div>\n",
       "<style scoped>\n",
       "    .dataframe tbody tr th:only-of-type {\n",
       "        vertical-align: middle;\n",
       "    }\n",
       "\n",
       "    .dataframe tbody tr th {\n",
       "        vertical-align: top;\n",
       "    }\n",
       "\n",
       "    .dataframe thead th {\n",
       "        text-align: right;\n",
       "    }\n",
       "</style>\n",
       "<table border=\"1\" class=\"dataframe\">\n",
       "  <thead>\n",
       "    <tr style=\"text-align: right;\">\n",
       "      <th></th>\n",
       "      <th>id_assessment</th>\n",
       "      <th>id_student</th>\n",
       "      <th>date_submitted</th>\n",
       "      <th>score</th>\n",
       "    </tr>\n",
       "  </thead>\n",
       "  <tbody>\n",
       "    <tr>\n",
       "      <th>215</th>\n",
       "      <td>1752</td>\n",
       "      <td>721259</td>\n",
       "      <td>22</td>\n",
       "      <td>&lt;NA&gt;</td>\n",
       "    </tr>\n",
       "    <tr>\n",
       "      <th>937</th>\n",
       "      <td>1754</td>\n",
       "      <td>260355</td>\n",
       "      <td>127</td>\n",
       "      <td>&lt;NA&gt;</td>\n",
       "    </tr>\n",
       "    <tr>\n",
       "      <th>2364</th>\n",
       "      <td>1760</td>\n",
       "      <td>2606802</td>\n",
       "      <td>180</td>\n",
       "      <td>&lt;NA&gt;</td>\n",
       "    </tr>\n",
       "    <tr>\n",
       "      <th>3358</th>\n",
       "      <td>14984</td>\n",
       "      <td>186780</td>\n",
       "      <td>77</td>\n",
       "      <td>&lt;NA&gt;</td>\n",
       "    </tr>\n",
       "    <tr>\n",
       "      <th>3914</th>\n",
       "      <td>14984</td>\n",
       "      <td>531205</td>\n",
       "      <td>26</td>\n",
       "      <td>&lt;NA&gt;</td>\n",
       "    </tr>\n",
       "  </tbody>\n",
       "</table>\n",
       "</div>"
      ],
      "text/plain": [
       "     id_assessment id_student  date_submitted  score\n",
       "215           1752     721259              22   <NA>\n",
       "937           1754     260355             127   <NA>\n",
       "2364          1760    2606802             180   <NA>\n",
       "3358         14984     186780              77   <NA>\n",
       "3914         14984     531205              26   <NA>"
      ]
     },
     "execution_count": 13,
     "metadata": {},
     "output_type": "execute_result"
    }
   ],
   "source": [
    "# make a dataframe of all assessments with NaN scores\n",
    "NaN_scores = student_assessment.loc[student_assessment['score'].isnull() == True]\n",
    "NaN_scores.head()"
   ]
  },
  {
   "cell_type": "markdown",
   "id": "18434bd3-0b4b-44c8-92fa-bcbc3c472ff1",
   "metadata": {},
   "source": [
    "Here is a dataframe of the assessments which are missing scores"
   ]
  },
  {
   "cell_type": "code",
   "execution_count": 14,
   "id": "f7573685-9060-4f3e-b79c-19e4831e21a4",
   "metadata": {},
   "outputs": [],
   "source": [
    "# make a dataframe of students whose score is NaN from student info\n",
    "#initiate dataframe to store students with NaN scores\n",
    "students_w_NaN_scores = pd.DataFrame()\n",
    "\n",
    "# iterate through NaN_scores\n",
    "for index, row in NaN_scores.iterrows():\n",
    "    # if student_id from NaN scores is found in student_info append that students information to a new dataframe students_w_NaN_scores\n",
    "    students_w_NaN_scores = students_w_NaN_scores.append(student_info.loc[student_info['id_student'] == row['id_student']])"
   ]
  },
  {
   "cell_type": "code",
   "execution_count": 15,
   "id": "0e2a56d7-5bff-44ec-b343-91f7710133f9",
   "metadata": {},
   "outputs": [
    {
     "data": {
      "text/html": [
       "<div>\n",
       "<style scoped>\n",
       "    .dataframe tbody tr th:only-of-type {\n",
       "        vertical-align: middle;\n",
       "    }\n",
       "\n",
       "    .dataframe tbody tr th {\n",
       "        vertical-align: top;\n",
       "    }\n",
       "\n",
       "    .dataframe thead th {\n",
       "        text-align: right;\n",
       "    }\n",
       "</style>\n",
       "<table border=\"1\" class=\"dataframe\">\n",
       "  <thead>\n",
       "    <tr style=\"text-align: right;\">\n",
       "      <th></th>\n",
       "      <th>code_module</th>\n",
       "      <th>code_presentation</th>\n",
       "      <th>id_student</th>\n",
       "      <th>gender</th>\n",
       "      <th>region</th>\n",
       "      <th>highest_education</th>\n",
       "      <th>imd_band</th>\n",
       "      <th>age_band</th>\n",
       "      <th>prev_attempts</th>\n",
       "      <th>studied_credits</th>\n",
       "      <th>disability</th>\n",
       "      <th>final_result</th>\n",
       "    </tr>\n",
       "  </thead>\n",
       "  <tbody>\n",
       "    <tr>\n",
       "      <th>227</th>\n",
       "      <td>AAA</td>\n",
       "      <td>2013J</td>\n",
       "      <td>721259</td>\n",
       "      <td>F</td>\n",
       "      <td>South Region</td>\n",
       "      <td>Lower Than A Level</td>\n",
       "      <td>50-60%</td>\n",
       "      <td>55&lt;=</td>\n",
       "      <td>0</td>\n",
       "      <td>120</td>\n",
       "      <td>False</td>\n",
       "      <td>Withdrawn</td>\n",
       "    </tr>\n",
       "    <tr>\n",
       "      <th>638</th>\n",
       "      <td>AAA</td>\n",
       "      <td>2014J</td>\n",
       "      <td>721259</td>\n",
       "      <td>F</td>\n",
       "      <td>South Region</td>\n",
       "      <td>Lower Than A Level</td>\n",
       "      <td>50-60%</td>\n",
       "      <td>55&lt;=</td>\n",
       "      <td>1</td>\n",
       "      <td>60</td>\n",
       "      <td>False</td>\n",
       "      <td>Withdrawn</td>\n",
       "    </tr>\n",
       "    <tr>\n",
       "      <th>108</th>\n",
       "      <td>AAA</td>\n",
       "      <td>2013J</td>\n",
       "      <td>260355</td>\n",
       "      <td>F</td>\n",
       "      <td>London Region</td>\n",
       "      <td>A Level or Equivalent</td>\n",
       "      <td>80-90%</td>\n",
       "      <td>35-55</td>\n",
       "      <td>0</td>\n",
       "      <td>60</td>\n",
       "      <td>False</td>\n",
       "      <td>Withdrawn</td>\n",
       "    </tr>\n",
       "    <tr>\n",
       "      <th>466</th>\n",
       "      <td>AAA</td>\n",
       "      <td>2014J</td>\n",
       "      <td>260355</td>\n",
       "      <td>F</td>\n",
       "      <td>London Region</td>\n",
       "      <td>A Level or Equivalent</td>\n",
       "      <td>80-90%</td>\n",
       "      <td>35-55</td>\n",
       "      <td>1</td>\n",
       "      <td>120</td>\n",
       "      <td>False</td>\n",
       "      <td>Withdrawn</td>\n",
       "    </tr>\n",
       "    <tr>\n",
       "      <th>733</th>\n",
       "      <td>AAA</td>\n",
       "      <td>2014J</td>\n",
       "      <td>2606802</td>\n",
       "      <td>M</td>\n",
       "      <td>North Region</td>\n",
       "      <td>A Level or Equivalent</td>\n",
       "      <td>60-70%</td>\n",
       "      <td>0-35</td>\n",
       "      <td>0</td>\n",
       "      <td>60</td>\n",
       "      <td>False</td>\n",
       "      <td>Fail</td>\n",
       "    </tr>\n",
       "  </tbody>\n",
       "</table>\n",
       "</div>"
      ],
      "text/plain": [
       "    code_module code_presentation id_student gender         region  \\\n",
       "227         AAA             2013J     721259      F   South Region   \n",
       "638         AAA             2014J     721259      F   South Region   \n",
       "108         AAA             2013J     260355      F  London Region   \n",
       "466         AAA             2014J     260355      F  London Region   \n",
       "733         AAA             2014J    2606802      M   North Region   \n",
       "\n",
       "         highest_education imd_band age_band  prev_attempts  studied_credits  \\\n",
       "227     Lower Than A Level   50-60%     55<=              0              120   \n",
       "638     Lower Than A Level   50-60%     55<=              1               60   \n",
       "108  A Level or Equivalent   80-90%    35-55              0               60   \n",
       "466  A Level or Equivalent   80-90%    35-55              1              120   \n",
       "733  A Level or Equivalent   60-70%     0-35              0               60   \n",
       "\n",
       "     disability final_result  \n",
       "227       False    Withdrawn  \n",
       "638       False    Withdrawn  \n",
       "108       False    Withdrawn  \n",
       "466       False    Withdrawn  \n",
       "733       False         Fail  "
      ]
     },
     "execution_count": 15,
     "metadata": {},
     "output_type": "execute_result"
    }
   ],
   "source": [
    "# display the new dataframe\n",
    "students_w_NaN_scores.head()"
   ]
  },
  {
   "cell_type": "markdown",
   "id": "e95c698b-1822-4457-8212-20246bbe0201",
   "metadata": {},
   "source": [
    "This dataframe contains the students which are missing scores for their exams"
   ]
  },
  {
   "cell_type": "code",
   "execution_count": 16,
   "id": "bbf5f4eb-5260-4cde-af4b-087d5fd844cc",
   "metadata": {},
   "outputs": [
    {
     "data": {
      "text/html": [
       "<div>\n",
       "<style scoped>\n",
       "    .dataframe tbody tr th:only-of-type {\n",
       "        vertical-align: middle;\n",
       "    }\n",
       "\n",
       "    .dataframe tbody tr th {\n",
       "        vertical-align: top;\n",
       "    }\n",
       "\n",
       "    .dataframe thead th {\n",
       "        text-align: right;\n",
       "    }\n",
       "</style>\n",
       "<table border=\"1\" class=\"dataframe\">\n",
       "  <thead>\n",
       "    <tr style=\"text-align: right;\">\n",
       "      <th></th>\n",
       "      <th>final_result</th>\n",
       "    </tr>\n",
       "  </thead>\n",
       "  <tbody>\n",
       "    <tr>\n",
       "      <th>Withdrawn</th>\n",
       "      <td>104</td>\n",
       "    </tr>\n",
       "    <tr>\n",
       "      <th>Fail</th>\n",
       "      <td>82</td>\n",
       "    </tr>\n",
       "    <tr>\n",
       "      <th>Pass</th>\n",
       "      <td>40</td>\n",
       "    </tr>\n",
       "    <tr>\n",
       "      <th>Distinction</th>\n",
       "      <td>1</td>\n",
       "    </tr>\n",
       "  </tbody>\n",
       "</table>\n",
       "</div>"
      ],
      "text/plain": [
       "             final_result\n",
       "Withdrawn             104\n",
       "Fail                   82\n",
       "Pass                   40\n",
       "Distinction             1"
      ]
     },
     "execution_count": 16,
     "metadata": {},
     "output_type": "execute_result"
    }
   ],
   "source": [
    "# get the counts of each student result within the NaN scores dataframe\n",
    "dataframe(students_w_NaN_scores['final_result'].value_counts())"
   ]
  },
  {
   "cell_type": "markdown",
   "id": "7e7202c6-358f-4c0b-8e99-92155ea6523a",
   "metadata": {},
   "source": [
    "For students which withdrew or failed it makes sense that some of their test scores would be missing. For the passed students, it is possible that they still made it by without passing an exam. The student with distinction is of note. Let's check their record first."
   ]
  },
  {
   "cell_type": "code",
   "execution_count": 17,
   "id": "0ae8df9f-954a-4f1c-8903-0ad5ed3f8789",
   "metadata": {},
   "outputs": [
    {
     "data": {
      "text/html": [
       "<div>\n",
       "<style scoped>\n",
       "    .dataframe tbody tr th:only-of-type {\n",
       "        vertical-align: middle;\n",
       "    }\n",
       "\n",
       "    .dataframe tbody tr th {\n",
       "        vertical-align: top;\n",
       "    }\n",
       "\n",
       "    .dataframe thead th {\n",
       "        text-align: right;\n",
       "    }\n",
       "</style>\n",
       "<table border=\"1\" class=\"dataframe\">\n",
       "  <thead>\n",
       "    <tr style=\"text-align: right;\">\n",
       "      <th></th>\n",
       "      <th>code_module</th>\n",
       "      <th>code_presentation</th>\n",
       "      <th>id_student</th>\n",
       "      <th>gender</th>\n",
       "      <th>region</th>\n",
       "      <th>highest_education</th>\n",
       "      <th>imd_band</th>\n",
       "      <th>age_band</th>\n",
       "      <th>prev_attempts</th>\n",
       "      <th>studied_credits</th>\n",
       "      <th>disability</th>\n",
       "      <th>final_result</th>\n",
       "    </tr>\n",
       "  </thead>\n",
       "  <tbody>\n",
       "    <tr>\n",
       "      <th>11401</th>\n",
       "      <td>CCC</td>\n",
       "      <td>2014J</td>\n",
       "      <td>571765</td>\n",
       "      <td>M</td>\n",
       "      <td>South East Region</td>\n",
       "      <td>No Formal quals</td>\n",
       "      <td>20-30%</td>\n",
       "      <td>0-35</td>\n",
       "      <td>0</td>\n",
       "      <td>60</td>\n",
       "      <td>False</td>\n",
       "      <td>Distinction</td>\n",
       "    </tr>\n",
       "  </tbody>\n",
       "</table>\n",
       "</div>"
      ],
      "text/plain": [
       "      code_module code_presentation id_student gender             region  \\\n",
       "11401         CCC             2014J     571765      M  South East Region   \n",
       "\n",
       "      highest_education imd_band age_band  prev_attempts  studied_credits  \\\n",
       "11401   No Formal quals   20-30%     0-35              0               60   \n",
       "\n",
       "       disability final_result  \n",
       "11401       False  Distinction  "
      ]
     },
     "execution_count": 17,
     "metadata": {},
     "output_type": "execute_result"
    }
   ],
   "source": [
    "# locate the student in students_w_NaN scores whose final_result was Distinction\n",
    "students_w_NaN_scores.loc[students_w_NaN_scores['final_result'] == 'Distinction']"
   ]
  },
  {
   "cell_type": "markdown",
   "id": "03f551c5-2f2f-43ec-8799-91a665a445b9",
   "metadata": {},
   "source": [
    "Above we have the student in question with ID 571765. Now let's see the rest of their test scores"
   ]
  },
  {
   "cell_type": "code",
   "execution_count": 18,
   "id": "9c2ebc82-08b1-4df6-bdcd-b46fe5d8bb0b",
   "metadata": {},
   "outputs": [
    {
     "data": {
      "text/html": [
       "<div>\n",
       "<style scoped>\n",
       "    .dataframe tbody tr th:only-of-type {\n",
       "        vertical-align: middle;\n",
       "    }\n",
       "\n",
       "    .dataframe tbody tr th {\n",
       "        vertical-align: top;\n",
       "    }\n",
       "\n",
       "    .dataframe thead th {\n",
       "        text-align: right;\n",
       "    }\n",
       "</style>\n",
       "<table border=\"1\" class=\"dataframe\">\n",
       "  <thead>\n",
       "    <tr style=\"text-align: right;\">\n",
       "      <th></th>\n",
       "      <th>id_assessment</th>\n",
       "      <th>id_student</th>\n",
       "      <th>date_submitted</th>\n",
       "      <th>score</th>\n",
       "    </tr>\n",
       "  </thead>\n",
       "  <tbody>\n",
       "    <tr>\n",
       "      <th>54125</th>\n",
       "      <td>24291</td>\n",
       "      <td>571765</td>\n",
       "      <td>31</td>\n",
       "      <td>86</td>\n",
       "    </tr>\n",
       "    <tr>\n",
       "      <th>55788</th>\n",
       "      <td>24292</td>\n",
       "      <td>571765</td>\n",
       "      <td>99</td>\n",
       "      <td>95</td>\n",
       "    </tr>\n",
       "    <tr>\n",
       "      <th>56257</th>\n",
       "      <td>24293</td>\n",
       "      <td>571765</td>\n",
       "      <td>156</td>\n",
       "      <td>97</td>\n",
       "    </tr>\n",
       "    <tr>\n",
       "      <th>57455</th>\n",
       "      <td>24294</td>\n",
       "      <td>571765</td>\n",
       "      <td>176</td>\n",
       "      <td>88</td>\n",
       "    </tr>\n",
       "    <tr>\n",
       "      <th>59287</th>\n",
       "      <td>24295</td>\n",
       "      <td>571765</td>\n",
       "      <td>21</td>\n",
       "      <td>78</td>\n",
       "    </tr>\n",
       "    <tr>\n",
       "      <th>60075</th>\n",
       "      <td>24296</td>\n",
       "      <td>571765</td>\n",
       "      <td>69</td>\n",
       "      <td>86</td>\n",
       "    </tr>\n",
       "    <tr>\n",
       "      <th>61964</th>\n",
       "      <td>24297</td>\n",
       "      <td>571765</td>\n",
       "      <td>147</td>\n",
       "      <td>92</td>\n",
       "    </tr>\n",
       "    <tr>\n",
       "      <th>63525</th>\n",
       "      <td>24298</td>\n",
       "      <td>571765</td>\n",
       "      <td>219</td>\n",
       "      <td>83</td>\n",
       "    </tr>\n",
       "    <tr>\n",
       "      <th>63995</th>\n",
       "      <td>24299</td>\n",
       "      <td>571765</td>\n",
       "      <td>245</td>\n",
       "      <td>98</td>\n",
       "    </tr>\n",
       "    <tr>\n",
       "      <th>75592</th>\n",
       "      <td>25348</td>\n",
       "      <td>571765</td>\n",
       "      <td>24</td>\n",
       "      <td>98</td>\n",
       "    </tr>\n",
       "    <tr>\n",
       "      <th>77671</th>\n",
       "      <td>25349</td>\n",
       "      <td>571765</td>\n",
       "      <td>49</td>\n",
       "      <td>89</td>\n",
       "    </tr>\n",
       "    <tr>\n",
       "      <th>79086</th>\n",
       "      <td>25350</td>\n",
       "      <td>571765</td>\n",
       "      <td>87</td>\n",
       "      <td>95</td>\n",
       "    </tr>\n",
       "    <tr>\n",
       "      <th>79608</th>\n",
       "      <td>25351</td>\n",
       "      <td>571765</td>\n",
       "      <td>106</td>\n",
       "      <td>83</td>\n",
       "    </tr>\n",
       "    <tr>\n",
       "      <th>81143</th>\n",
       "      <td>25352</td>\n",
       "      <td>571765</td>\n",
       "      <td>165</td>\n",
       "      <td>53</td>\n",
       "    </tr>\n",
       "    <tr>\n",
       "      <th>82132</th>\n",
       "      <td>25353</td>\n",
       "      <td>571765</td>\n",
       "      <td>237</td>\n",
       "      <td>0</td>\n",
       "    </tr>\n",
       "    <tr>\n",
       "      <th>82536</th>\n",
       "      <td>25354</td>\n",
       "      <td>571765</td>\n",
       "      <td>237</td>\n",
       "      <td>78</td>\n",
       "    </tr>\n",
       "  </tbody>\n",
       "</table>\n",
       "</div>"
      ],
      "text/plain": [
       "      id_assessment id_student  date_submitted  score\n",
       "54125         24291     571765              31     86\n",
       "55788         24292     571765              99     95\n",
       "56257         24293     571765             156     97\n",
       "57455         24294     571765             176     88\n",
       "59287         24295     571765              21     78\n",
       "60075         24296     571765              69     86\n",
       "61964         24297     571765             147     92\n",
       "63525         24298     571765             219     83\n",
       "63995         24299     571765             245     98\n",
       "75592         25348     571765              24     98\n",
       "77671         25349     571765              49     89\n",
       "79086         25350     571765              87     95\n",
       "79608         25351     571765             106     83\n",
       "81143         25352     571765             165     53\n",
       "82132         25353     571765             237      0\n",
       "82536         25354     571765             237     78"
      ]
     },
     "execution_count": 18,
     "metadata": {},
     "output_type": "execute_result"
    }
   ],
   "source": [
    "# locate the other test scores of the student with Distinction\n",
    "student_assessment.loc[student_assessment['id_student'] == '571765'].fillna(0)"
   ]
  },
  {
   "cell_type": "markdown",
   "id": "1cc7e564-a921-4fbe-9e9c-62bda13796e1",
   "metadata": {},
   "source": [
    "According to the data source, a score of 40 or less is interpreted as failure. This student receieved excellent marks on their exams aside from the NaN value which we have filled with a 0 here. It is very possible that this student still received distinction with a 0 on one exam. Also of note is that the exam was submitted late into the module, and possibly defaulted to a 0. Let's do another test case with the first student in the dataframe of students with NaN scores who still passed."
   ]
  },
  {
   "cell_type": "code",
   "execution_count": 19,
   "id": "f2cab000-0e96-48c7-a421-f14b62c98dcd",
   "metadata": {},
   "outputs": [
    {
     "data": {
      "text/html": [
       "<div>\n",
       "<style scoped>\n",
       "    .dataframe tbody tr th:only-of-type {\n",
       "        vertical-align: middle;\n",
       "    }\n",
       "\n",
       "    .dataframe tbody tr th {\n",
       "        vertical-align: top;\n",
       "    }\n",
       "\n",
       "    .dataframe thead th {\n",
       "        text-align: right;\n",
       "    }\n",
       "</style>\n",
       "<table border=\"1\" class=\"dataframe\">\n",
       "  <thead>\n",
       "    <tr style=\"text-align: right;\">\n",
       "      <th></th>\n",
       "      <th>code_module</th>\n",
       "      <th>code_presentation</th>\n",
       "      <th>id_student</th>\n",
       "      <th>gender</th>\n",
       "      <th>region</th>\n",
       "      <th>highest_education</th>\n",
       "      <th>imd_band</th>\n",
       "      <th>age_band</th>\n",
       "      <th>prev_attempts</th>\n",
       "      <th>studied_credits</th>\n",
       "      <th>disability</th>\n",
       "      <th>final_result</th>\n",
       "    </tr>\n",
       "  </thead>\n",
       "  <tbody>\n",
       "    <tr>\n",
       "      <th>1361</th>\n",
       "      <td>BBB</td>\n",
       "      <td>2013B</td>\n",
       "      <td>502717</td>\n",
       "      <td>F</td>\n",
       "      <td>Wales</td>\n",
       "      <td>Lower Than A Level</td>\n",
       "      <td>80-90%</td>\n",
       "      <td>0-35</td>\n",
       "      <td>1</td>\n",
       "      <td>240</td>\n",
       "      <td>False</td>\n",
       "      <td>Pass</td>\n",
       "    </tr>\n",
       "    <tr>\n",
       "      <th>1458</th>\n",
       "      <td>BBB</td>\n",
       "      <td>2013B</td>\n",
       "      <td>515497</td>\n",
       "      <td>F</td>\n",
       "      <td>London Region</td>\n",
       "      <td>A Level or Equivalent</td>\n",
       "      <td>0-10%</td>\n",
       "      <td>0-35</td>\n",
       "      <td>0</td>\n",
       "      <td>120</td>\n",
       "      <td>False</td>\n",
       "      <td>Pass</td>\n",
       "    </tr>\n",
       "    <tr>\n",
       "      <th>3059</th>\n",
       "      <td>BBB</td>\n",
       "      <td>2013J</td>\n",
       "      <td>501208</td>\n",
       "      <td>F</td>\n",
       "      <td>South East Region</td>\n",
       "      <td>Lower Than A Level</td>\n",
       "      <td>60-70%</td>\n",
       "      <td>35-55</td>\n",
       "      <td>1</td>\n",
       "      <td>60</td>\n",
       "      <td>False</td>\n",
       "      <td>Pass</td>\n",
       "    </tr>\n",
       "    <tr>\n",
       "      <th>2760</th>\n",
       "      <td>BBB</td>\n",
       "      <td>2013J</td>\n",
       "      <td>342685</td>\n",
       "      <td>F</td>\n",
       "      <td>Scotland</td>\n",
       "      <td>A Level or Equivalent</td>\n",
       "      <td>30-40%</td>\n",
       "      <td>0-35</td>\n",
       "      <td>0</td>\n",
       "      <td>60</td>\n",
       "      <td>True</td>\n",
       "      <td>Pass</td>\n",
       "    </tr>\n",
       "    <tr>\n",
       "      <th>3778</th>\n",
       "      <td>BBB</td>\n",
       "      <td>2013J</td>\n",
       "      <td>583473</td>\n",
       "      <td>M</td>\n",
       "      <td>South Region</td>\n",
       "      <td>Lower Than A Level</td>\n",
       "      <td>90-100%</td>\n",
       "      <td>35-55</td>\n",
       "      <td>0</td>\n",
       "      <td>120</td>\n",
       "      <td>False</td>\n",
       "      <td>Pass</td>\n",
       "    </tr>\n",
       "  </tbody>\n",
       "</table>\n",
       "</div>"
      ],
      "text/plain": [
       "     code_module code_presentation id_student gender             region  \\\n",
       "1361         BBB             2013B     502717      F              Wales   \n",
       "1458         BBB             2013B     515497      F      London Region   \n",
       "3059         BBB             2013J     501208      F  South East Region   \n",
       "2760         BBB             2013J     342685      F           Scotland   \n",
       "3778         BBB             2013J     583473      M       South Region   \n",
       "\n",
       "          highest_education imd_band age_band  prev_attempts  studied_credits  \\\n",
       "1361     Lower Than A Level   80-90%     0-35              1              240   \n",
       "1458  A Level or Equivalent    0-10%     0-35              0              120   \n",
       "3059     Lower Than A Level   60-70%    35-55              1               60   \n",
       "2760  A Level or Equivalent   30-40%     0-35              0               60   \n",
       "3778     Lower Than A Level  90-100%    35-55              0              120   \n",
       "\n",
       "      disability final_result  \n",
       "1361       False         Pass  \n",
       "1458       False         Pass  \n",
       "3059       False         Pass  \n",
       "2760        True         Pass  \n",
       "3778       False         Pass  "
      ]
     },
     "execution_count": 19,
     "metadata": {},
     "output_type": "execute_result"
    }
   ],
   "source": [
    "# locate the students who passed with NaN test scores\n",
    "students_w_NaN_scores.loc[students_w_NaN_scores['final_result'] == 'Pass'].head()"
   ]
  },
  {
   "cell_type": "markdown",
   "id": "861f8fcd-8642-4edf-9068-8029ce9baf90",
   "metadata": {},
   "source": [
    "Here is the dataframe of students with a NaN value test score who still passed.\n",
    "We will check the scores of the first student, 502717."
   ]
  },
  {
   "cell_type": "code",
   "execution_count": 20,
   "id": "d44bbb1d-3bea-48f3-9140-8d0050b33c29",
   "metadata": {},
   "outputs": [
    {
     "data": {
      "text/html": [
       "<div>\n",
       "<style scoped>\n",
       "    .dataframe tbody tr th:only-of-type {\n",
       "        vertical-align: middle;\n",
       "    }\n",
       "\n",
       "    .dataframe tbody tr th {\n",
       "        vertical-align: top;\n",
       "    }\n",
       "\n",
       "    .dataframe thead th {\n",
       "        text-align: right;\n",
       "    }\n",
       "</style>\n",
       "<table border=\"1\" class=\"dataframe\">\n",
       "  <thead>\n",
       "    <tr style=\"text-align: right;\">\n",
       "      <th></th>\n",
       "      <th>id_assessment</th>\n",
       "      <th>id_student</th>\n",
       "      <th>date_submitted</th>\n",
       "      <th>score</th>\n",
       "    </tr>\n",
       "  </thead>\n",
       "  <tbody>\n",
       "    <tr>\n",
       "      <th>3762</th>\n",
       "      <td>14984</td>\n",
       "      <td>502717</td>\n",
       "      <td>19</td>\n",
       "      <td>67</td>\n",
       "    </tr>\n",
       "    <tr>\n",
       "      <th>5116</th>\n",
       "      <td>14985</td>\n",
       "      <td>502717</td>\n",
       "      <td>46</td>\n",
       "      <td>76</td>\n",
       "    </tr>\n",
       "    <tr>\n",
       "      <th>6088</th>\n",
       "      <td>14986</td>\n",
       "      <td>502717</td>\n",
       "      <td>96</td>\n",
       "      <td>60</td>\n",
       "    </tr>\n",
       "    <tr>\n",
       "      <th>7187</th>\n",
       "      <td>14987</td>\n",
       "      <td>502717</td>\n",
       "      <td>138</td>\n",
       "      <td>77</td>\n",
       "    </tr>\n",
       "    <tr>\n",
       "      <th>8847</th>\n",
       "      <td>14989</td>\n",
       "      <td>502717</td>\n",
       "      <td>216</td>\n",
       "      <td>0</td>\n",
       "    </tr>\n",
       "    <tr>\n",
       "      <th>9899</th>\n",
       "      <td>14991</td>\n",
       "      <td>502717</td>\n",
       "      <td>60</td>\n",
       "      <td>100</td>\n",
       "    </tr>\n",
       "    <tr>\n",
       "      <th>11080</th>\n",
       "      <td>14992</td>\n",
       "      <td>502717</td>\n",
       "      <td>95</td>\n",
       "      <td>100</td>\n",
       "    </tr>\n",
       "    <tr>\n",
       "      <th>11959</th>\n",
       "      <td>14993</td>\n",
       "      <td>502717</td>\n",
       "      <td>126</td>\n",
       "      <td>80</td>\n",
       "    </tr>\n",
       "    <tr>\n",
       "      <th>13976</th>\n",
       "      <td>14995</td>\n",
       "      <td>502717</td>\n",
       "      <td>189</td>\n",
       "      <td>100</td>\n",
       "    </tr>\n",
       "  </tbody>\n",
       "</table>\n",
       "</div>"
      ],
      "text/plain": [
       "      id_assessment id_student  date_submitted  score\n",
       "3762          14984     502717              19     67\n",
       "5116          14985     502717              46     76\n",
       "6088          14986     502717              96     60\n",
       "7187          14987     502717             138     77\n",
       "8847          14989     502717             216      0\n",
       "9899          14991     502717              60    100\n",
       "11080         14992     502717              95    100\n",
       "11959         14993     502717             126     80\n",
       "13976         14995     502717             189    100"
      ]
     },
     "execution_count": 20,
     "metadata": {},
     "output_type": "execute_result"
    }
   ],
   "source": [
    "# locate the test scores of the first passing student with NaN scores\n",
    "student_assessment.loc[student_assessment['id_student'] == '502717'].fillna(0)"
   ]
  },
  {
   "cell_type": "markdown",
   "id": "bfecf7cc-089e-4199-b0d1-3f9a3462fa90",
   "metadata": {},
   "source": [
    "Here we can see the test scores of the student with 502717. Once again we see that it was possible for them to have passed with a 0, and the exam was submitted late into the module.\n",
    "\n",
    "With this information we will fill the NA values with 0's under the assumption that these exams were not turned in."
   ]
  },
  {
   "cell_type": "code",
   "execution_count": 21,
   "id": "d6a7d9b4-9faa-4068-82d0-257aabdc0012",
   "metadata": {},
   "outputs": [],
   "source": [
    "# putting 0 for the NA scores in student_assessment\n",
    "student_assessment = student_assessment.fillna(0)"
   ]
  },
  {
   "cell_type": "markdown",
   "id": "1ed27811-88bf-4e0c-a2ef-6f4f99866b1a",
   "metadata": {},
   "source": [
    "**Duplicate Values**"
   ]
  },
  {
   "cell_type": "code",
   "execution_count": 22,
   "id": "5d997a52-e6d0-42eb-a22d-e10bfb4b66a9",
   "metadata": {},
   "outputs": [
    {
     "data": {
      "text/markdown": [
       "There are no Duplicate Values"
      ],
      "text/plain": [
       "<IPython.core.display.Markdown object>"
      ]
     },
     "execution_count": 22,
     "metadata": {},
     "output_type": "execute_result"
    }
   ],
   "source": [
    "# gives a dataframe of duplicate values if any\n",
    "get_dupes(student_assessment)"
   ]
  },
  {
   "cell_type": "markdown",
   "id": "9f4b2c9d-73ed-42fe-9b1f-74d05bff9b60",
   "metadata": {},
   "source": [
    "**Unique Value Counts**"
   ]
  },
  {
   "cell_type": "code",
   "execution_count": 23,
   "id": "48bedc05-db96-41ef-90c2-d052ae5d97e7",
   "metadata": {},
   "outputs": [
    {
     "data": {
      "text/html": [
       "<style type=\"text/css\">\n",
       "#T_29447_ td.col0 {\n",
       "  font-weight: bold;\n",
       "}\n",
       "</style>\n",
       "<table id=\"T_29447_\">\n",
       "  <thead>\n",
       "    <tr>\n",
       "      <th class=\"col_heading level0 col0\" >index</th>\n",
       "      <th class=\"col_heading level0 col1\" >Count</th>\n",
       "    </tr>\n",
       "  </thead>\n",
       "  <tbody>\n",
       "    <tr>\n",
       "      <td id=\"T_29447_row0_col0\" class=\"data row0 col0\" >id_assessment</td>\n",
       "      <td id=\"T_29447_row0_col1\" class=\"data row0 col1\" >188</td>\n",
       "    </tr>\n",
       "    <tr>\n",
       "      <td id=\"T_29447_row1_col0\" class=\"data row1 col0\" >id_student</td>\n",
       "      <td id=\"T_29447_row1_col1\" class=\"data row1 col1\" >23369</td>\n",
       "    </tr>\n",
       "    <tr>\n",
       "      <td id=\"T_29447_row2_col0\" class=\"data row2 col0\" >date_submitted</td>\n",
       "      <td id=\"T_29447_row2_col1\" class=\"data row2 col1\" >312</td>\n",
       "    </tr>\n",
       "    <tr>\n",
       "      <td id=\"T_29447_row3_col0\" class=\"data row3 col0\" >score</td>\n",
       "      <td id=\"T_29447_row3_col1\" class=\"data row3 col1\" >101</td>\n",
       "    </tr>\n",
       "  </tbody>\n",
       "</table>\n"
      ],
      "text/plain": [
       "<pandas.io.formats.style.Styler at 0x1a60037c610>"
      ]
     },
     "execution_count": 23,
     "metadata": {},
     "output_type": "execute_result"
    }
   ],
   "source": [
    "# gives a dataframe of counts of unique values per column\n",
    "count_unique(student_assessment)"
   ]
  },
  {
   "cell_type": "code",
   "execution_count": 24,
   "id": "62fd612f-7dbf-4492-a1a0-d69867b36281",
   "metadata": {},
   "outputs": [
    {
     "data": {
      "text/markdown": [
       "\n",
       "* There are 188 unique assessments that students took.\n",
       "* This is less than the 206 assessments we observed in the assessments dataframe meaning that there are some assessments on record that students did not take.\n"
      ],
      "text/plain": [
       "<IPython.core.display.Markdown object>"
      ]
     },
     "execution_count": 24,
     "metadata": {},
     "output_type": "execute_result"
    }
   ],
   "source": [
    "assmnt_count = student_assessment['id_assessment'].nunique()\n",
    "total_assmnts = assessments['id_assessment'].nunique()\n",
    "md(f'''\n",
    "* There are {assmnt_count} unique assessments that students took.\n",
    "* This is less than the {total_assmnts} assessments we observed in the assessments dataframe meaning that there are some assessments on record that students did not take.\n",
    "''')"
   ]
  },
  {
   "cell_type": "markdown",
   "id": "e6cc9f65-7bc4-4b94-9747-defea82fd690",
   "metadata": {},
   "source": [
    "**Numerical Values**"
   ]
  },
  {
   "cell_type": "code",
   "execution_count": 26,
   "id": "624ca46e-7f22-4fb7-a3f4-603f1ffb1558",
   "metadata": {},
   "outputs": [
    {
     "data": {
      "text/html": [
       "<div>\n",
       "<style scoped>\n",
       "    .dataframe tbody tr th:only-of-type {\n",
       "        vertical-align: middle;\n",
       "    }\n",
       "\n",
       "    .dataframe tbody tr th {\n",
       "        vertical-align: top;\n",
       "    }\n",
       "\n",
       "    .dataframe thead th {\n",
       "        text-align: right;\n",
       "    }\n",
       "</style>\n",
       "<table border=\"1\" class=\"dataframe\">\n",
       "  <thead>\n",
       "    <tr style=\"text-align: right;\">\n",
       "      <th></th>\n",
       "      <th>date_submitted</th>\n",
       "      <th>score</th>\n",
       "    </tr>\n",
       "  </thead>\n",
       "  <tbody>\n",
       "    <tr>\n",
       "      <th>count</th>\n",
       "      <td>173912.0</td>\n",
       "      <td>173912.0</td>\n",
       "    </tr>\n",
       "    <tr>\n",
       "      <th>mean</th>\n",
       "      <td>116.0</td>\n",
       "      <td>75.7</td>\n",
       "    </tr>\n",
       "    <tr>\n",
       "      <th>std</th>\n",
       "      <td>71.5</td>\n",
       "      <td>18.9</td>\n",
       "    </tr>\n",
       "    <tr>\n",
       "      <th>min</th>\n",
       "      <td>-11.0</td>\n",
       "      <td>0.0</td>\n",
       "    </tr>\n",
       "    <tr>\n",
       "      <th>25%</th>\n",
       "      <td>51.0</td>\n",
       "      <td>65.0</td>\n",
       "    </tr>\n",
       "    <tr>\n",
       "      <th>50%</th>\n",
       "      <td>116.0</td>\n",
       "      <td>80.0</td>\n",
       "    </tr>\n",
       "    <tr>\n",
       "      <th>75%</th>\n",
       "      <td>173.0</td>\n",
       "      <td>90.0</td>\n",
       "    </tr>\n",
       "    <tr>\n",
       "      <th>max</th>\n",
       "      <td>608.0</td>\n",
       "      <td>100.0</td>\n",
       "    </tr>\n",
       "  </tbody>\n",
       "</table>\n",
       "</div>"
      ],
      "text/plain": [
       "       date_submitted     score\n",
       "count        173912.0  173912.0\n",
       "mean            116.0      75.7\n",
       "std              71.5      18.9\n",
       "min             -11.0       0.0\n",
       "25%              51.0      65.0\n",
       "50%             116.0      80.0\n",
       "75%             173.0      90.0\n",
       "max             608.0     100.0"
      ]
     },
     "execution_count": 26,
     "metadata": {},
     "output_type": "execute_result"
    }
   ],
   "source": [
    "student_assessment.describe().round(1)"
   ]
  },
  {
   "cell_type": "code",
   "execution_count": 59,
   "id": "c7286bad-cad5-4c35-937c-5f08fe667485",
   "metadata": {
    "tags": [
     "remove_input"
    ]
   },
   "outputs": [
    {
     "data": {
      "text/markdown": [
       "\n",
       "* The average test score is 75.7 so most students are passing handily if 40 is considered a failing score.\n",
       "* The minimum date_submitted is -11 so it is possible the students had access to the first exam early.\n",
       "* The maximum date submitted is 608, which is around 2.5 times longer than any course went on for.\n",
       "* Let's check for records that are over the maximum course length of 269 days.\n"
      ],
      "text/plain": [
       "<IPython.core.display.Markdown object>"
      ]
     },
     "execution_count": 59,
     "metadata": {},
     "output_type": "execute_result"
    }
   ],
   "source": [
    "mean_score = student_assessment['score'].mean().round(1)\n",
    "date_max = student_assessment['date_submitted'].max()\n",
    "date_min = student_assessment['date_submitted'].min()\n",
    "max_course_length = courses['module_presentation_length'].max()\n",
    "md(f'''\n",
    "* The average test score is {mean_score} so most students are passing handily if 40 is considered a failing score.\n",
    "* The minimum date_submitted is {date_min} so it is possible the students had access to the first exam early.\n",
    "* The maximum date submitted is {date_max}, which is around 2.5 times longer than any course went on for.\n",
    "* Let's check for records that are over the maximum course length of {max_course_length} days.\n",
    "''')"
   ]
  },
  {
   "cell_type": "code",
   "execution_count": 46,
   "id": "e18c4f95-ff09-4bd9-a8d2-b0c0a14a0282",
   "metadata": {},
   "outputs": [
    {
     "data": {
      "text/html": [
       "<div>\n",
       "<style scoped>\n",
       "    .dataframe tbody tr th:only-of-type {\n",
       "        vertical-align: middle;\n",
       "    }\n",
       "\n",
       "    .dataframe tbody tr th {\n",
       "        vertical-align: top;\n",
       "    }\n",
       "\n",
       "    .dataframe thead th {\n",
       "        text-align: right;\n",
       "    }\n",
       "</style>\n",
       "<table border=\"1\" class=\"dataframe\">\n",
       "  <thead>\n",
       "    <tr style=\"text-align: right;\">\n",
       "      <th></th>\n",
       "      <th>id_assessment</th>\n",
       "      <th>id_student</th>\n",
       "      <th>date_submitted</th>\n",
       "      <th>score</th>\n",
       "    </tr>\n",
       "  </thead>\n",
       "  <tbody>\n",
       "    <tr>\n",
       "      <th>0</th>\n",
       "      <td>15022</td>\n",
       "      <td>1723749</td>\n",
       "      <td>270</td>\n",
       "      <td>0</td>\n",
       "    </tr>\n",
       "    <tr>\n",
       "      <th>1</th>\n",
       "      <td>30722</td>\n",
       "      <td>691701</td>\n",
       "      <td>274</td>\n",
       "      <td>0</td>\n",
       "    </tr>\n",
       "    <tr>\n",
       "      <th>2</th>\n",
       "      <td>25368</td>\n",
       "      <td>2341830</td>\n",
       "      <td>279</td>\n",
       "      <td>49</td>\n",
       "    </tr>\n",
       "    <tr>\n",
       "      <th>3</th>\n",
       "      <td>24299</td>\n",
       "      <td>555498</td>\n",
       "      <td>285</td>\n",
       "      <td>58</td>\n",
       "    </tr>\n",
       "    <tr>\n",
       "      <th>4</th>\n",
       "      <td>34879</td>\n",
       "      <td>595935</td>\n",
       "      <td>287</td>\n",
       "      <td>96</td>\n",
       "    </tr>\n",
       "    <tr>\n",
       "      <th>...</th>\n",
       "      <td>...</td>\n",
       "      <td>...</td>\n",
       "      <td>...</td>\n",
       "      <td>...</td>\n",
       "    </tr>\n",
       "    <tr>\n",
       "      <th>68</th>\n",
       "      <td>34881</td>\n",
       "      <td>325750</td>\n",
       "      <td>608</td>\n",
       "      <td>66</td>\n",
       "    </tr>\n",
       "    <tr>\n",
       "      <th>69</th>\n",
       "      <td>34880</td>\n",
       "      <td>325750</td>\n",
       "      <td>608</td>\n",
       "      <td>68</td>\n",
       "    </tr>\n",
       "    <tr>\n",
       "      <th>70</th>\n",
       "      <td>34878</td>\n",
       "      <td>325750</td>\n",
       "      <td>608</td>\n",
       "      <td>74</td>\n",
       "    </tr>\n",
       "    <tr>\n",
       "      <th>71</th>\n",
       "      <td>34882</td>\n",
       "      <td>325750</td>\n",
       "      <td>608</td>\n",
       "      <td>68</td>\n",
       "    </tr>\n",
       "    <tr>\n",
       "      <th>72</th>\n",
       "      <td>34879</td>\n",
       "      <td>325750</td>\n",
       "      <td>608</td>\n",
       "      <td>95</td>\n",
       "    </tr>\n",
       "  </tbody>\n",
       "</table>\n",
       "<p>73 rows × 4 columns</p>\n",
       "</div>"
      ],
      "text/plain": [
       "   id_assessment id_student  date_submitted  score\n",
       "0          15022    1723749             270      0\n",
       "1          30722     691701             274      0\n",
       "2          25368    2341830             279     49\n",
       "3          24299     555498             285     58\n",
       "4          34879     595935             287     96\n",
       "..           ...        ...             ...    ...\n",
       "68         34881     325750             608     66\n",
       "69         34880     325750             608     68\n",
       "70         34878     325750             608     74\n",
       "71         34882     325750             608     68\n",
       "72         34879     325750             608     95\n",
       "\n",
       "[73 rows x 4 columns]"
      ]
     },
     "execution_count": 46,
     "metadata": {},
     "output_type": "execute_result"
    }
   ],
   "source": [
    "late_tests = student_assessment.loc[student_assessment['date_submitted'] > 269].sort_values(by='date_submitted').reset_index(drop=True)\n",
    "late_tests"
   ]
  },
  {
   "cell_type": "code",
   "execution_count": 53,
   "id": "d833ad4a-ac42-4cb3-9f9e-01559a146bb4",
   "metadata": {},
   "outputs": [
    {
     "data": {
      "text/markdown": [
       "\n",
       "* There are 73 records of students handing in their exams well after the end of the module.\n",
       "* These dates range from 270 days after the course began and 608 days after the course began with an average of 470.2 days.\n",
       "* The data source makes no mention of these, and they should not affect our analysis, so though strage, we will leave these records\n"
      ],
      "text/plain": [
       "<IPython.core.display.Markdown object>"
      ]
     },
     "execution_count": 53,
     "metadata": {},
     "output_type": "execute_result"
    }
   ],
   "source": [
    "late_test_count = len(late_tests['date_submitted'])\n",
    "late_test_min = late_tests['date_submitted'].min()\n",
    "late_test_max = late_tests['date_submitted'].max()\n",
    "late_test_avg = late_tests['date_submitted'].mean().round(1)\n",
    "md(f'''\n",
    "* There are {late_test_count} records of students handing in their exams well after the end of the module.\n",
    "* These dates range from {late_test_min} days after the course began and {late_test_max} days after the course began with an average of {late_test_avg} days.\n",
    "* The data source makes no mention of these, and they should not affect our analysis, so though strage, we will leave these records\n",
    "''')"
   ]
  },
  {
   "cell_type": "code",
   "execution_count": 57,
   "id": "57ed196e-5536-4e3f-ac78-2d5350a5e300",
   "metadata": {},
   "outputs": [
    {
     "data": {
      "text/html": [
       "<div>\n",
       "<style scoped>\n",
       "    .dataframe tbody tr th:only-of-type {\n",
       "        vertical-align: middle;\n",
       "    }\n",
       "\n",
       "    .dataframe tbody tr th {\n",
       "        vertical-align: top;\n",
       "    }\n",
       "\n",
       "    .dataframe thead th {\n",
       "        text-align: right;\n",
       "    }\n",
       "</style>\n",
       "<table border=\"1\" class=\"dataframe\">\n",
       "  <thead>\n",
       "    <tr style=\"text-align: right;\">\n",
       "      <th></th>\n",
       "      <th>id_assessment</th>\n",
       "      <th>id_student</th>\n",
       "      <th>date_submitted</th>\n",
       "      <th>score</th>\n",
       "    </tr>\n",
       "  </thead>\n",
       "  <tbody>\n",
       "    <tr>\n",
       "      <th>28783</th>\n",
       "      <td>15008</td>\n",
       "      <td>559381</td>\n",
       "      <td>-11</td>\n",
       "      <td>63</td>\n",
       "    </tr>\n",
       "    <tr>\n",
       "      <th>76237</th>\n",
       "      <td>25348</td>\n",
       "      <td>2472145</td>\n",
       "      <td>-10</td>\n",
       "      <td>85</td>\n",
       "    </tr>\n",
       "    <tr>\n",
       "      <th>15866</th>\n",
       "      <td>14996</td>\n",
       "      <td>610700</td>\n",
       "      <td>-9</td>\n",
       "      <td>75</td>\n",
       "    </tr>\n",
       "    <tr>\n",
       "      <th>109487</th>\n",
       "      <td>34865</td>\n",
       "      <td>2389267</td>\n",
       "      <td>-8</td>\n",
       "      <td>84</td>\n",
       "    </tr>\n",
       "    <tr>\n",
       "      <th>110172</th>\n",
       "      <td>34865</td>\n",
       "      <td>539759</td>\n",
       "      <td>-8</td>\n",
       "      <td>98</td>\n",
       "    </tr>\n",
       "    <tr>\n",
       "      <th>104635</th>\n",
       "      <td>34860</td>\n",
       "      <td>514913</td>\n",
       "      <td>-8</td>\n",
       "      <td>66</td>\n",
       "    </tr>\n",
       "    <tr>\n",
       "      <th>110202</th>\n",
       "      <td>34865</td>\n",
       "      <td>542386</td>\n",
       "      <td>-8</td>\n",
       "      <td>94</td>\n",
       "    </tr>\n",
       "    <tr>\n",
       "      <th>110217</th>\n",
       "      <td>34865</td>\n",
       "      <td>543599</td>\n",
       "      <td>-8</td>\n",
       "      <td>100</td>\n",
       "    </tr>\n",
       "    <tr>\n",
       "      <th>110317</th>\n",
       "      <td>34865</td>\n",
       "      <td>550813</td>\n",
       "      <td>-8</td>\n",
       "      <td>88</td>\n",
       "    </tr>\n",
       "    <tr>\n",
       "      <th>110358</th>\n",
       "      <td>34865</td>\n",
       "      <td>553649</td>\n",
       "      <td>-8</td>\n",
       "      <td>95</td>\n",
       "    </tr>\n",
       "  </tbody>\n",
       "</table>\n",
       "</div>"
      ],
      "text/plain": [
       "       id_assessment id_student  date_submitted  score\n",
       "28783          15008     559381             -11     63\n",
       "76237          25348    2472145             -10     85\n",
       "15866          14996     610700              -9     75\n",
       "109487         34865    2389267              -8     84\n",
       "110172         34865     539759              -8     98\n",
       "104635         34860     514913              -8     66\n",
       "110202         34865     542386              -8     94\n",
       "110217         34865     543599              -8    100\n",
       "110317         34865     550813              -8     88\n",
       "110358         34865     553649              -8     95"
      ]
     },
     "execution_count": 57,
     "metadata": {},
     "output_type": "execute_result"
    }
   ],
   "source": [
    "early_tests = student_assessment.loc[student_assessment['date_submitted'] < 0].sort_values('date_submitted').head(10)\n",
    "early_tests"
   ]
  },
  {
   "cell_type": "code",
   "execution_count": 75,
   "id": "c18b8876-1342-4c41-bff1-f6a225fca50a",
   "metadata": {},
   "outputs": [
    {
     "data": {
      "text/html": [
       "<div>\n",
       "<style scoped>\n",
       "    .dataframe tbody tr th:only-of-type {\n",
       "        vertical-align: middle;\n",
       "    }\n",
       "\n",
       "    .dataframe tbody tr th {\n",
       "        vertical-align: top;\n",
       "    }\n",
       "\n",
       "    .dataframe thead th {\n",
       "        text-align: right;\n",
       "    }\n",
       "</style>\n",
       "<table border=\"1\" class=\"dataframe\">\n",
       "  <thead>\n",
       "    <tr style=\"text-align: right;\">\n",
       "      <th></th>\n",
       "      <th>id_assessment</th>\n",
       "      <th>id_student</th>\n",
       "      <th>date_submitted</th>\n",
       "      <th>score</th>\n",
       "    </tr>\n",
       "  </thead>\n",
       "  <tbody>\n",
       "    <tr>\n",
       "      <th>28783</th>\n",
       "      <td>15008</td>\n",
       "      <td>559381</td>\n",
       "      <td>-11</td>\n",
       "      <td>63</td>\n",
       "    </tr>\n",
       "    <tr>\n",
       "      <th>30301</th>\n",
       "      <td>15009</td>\n",
       "      <td>559381</td>\n",
       "      <td>38</td>\n",
       "      <td>75</td>\n",
       "    </tr>\n",
       "    <tr>\n",
       "      <th>31431</th>\n",
       "      <td>15010</td>\n",
       "      <td>559381</td>\n",
       "      <td>80</td>\n",
       "      <td>60</td>\n",
       "    </tr>\n",
       "    <tr>\n",
       "      <th>31985</th>\n",
       "      <td>15011</td>\n",
       "      <td>559381</td>\n",
       "      <td>107</td>\n",
       "      <td>80</td>\n",
       "    </tr>\n",
       "    <tr>\n",
       "      <th>33040</th>\n",
       "      <td>15012</td>\n",
       "      <td>559381</td>\n",
       "      <td>138</td>\n",
       "      <td>87</td>\n",
       "    </tr>\n",
       "    <tr>\n",
       "      <th>33877</th>\n",
       "      <td>15013</td>\n",
       "      <td>559381</td>\n",
       "      <td>190</td>\n",
       "      <td>75</td>\n",
       "    </tr>\n",
       "    <tr>\n",
       "      <th>34282</th>\n",
       "      <td>15015</td>\n",
       "      <td>559381</td>\n",
       "      <td>49</td>\n",
       "      <td>80</td>\n",
       "    </tr>\n",
       "    <tr>\n",
       "      <th>35631</th>\n",
       "      <td>15016</td>\n",
       "      <td>559381</td>\n",
       "      <td>84</td>\n",
       "      <td>80</td>\n",
       "    </tr>\n",
       "    <tr>\n",
       "      <th>36673</th>\n",
       "      <td>15017</td>\n",
       "      <td>559381</td>\n",
       "      <td>119</td>\n",
       "      <td>80</td>\n",
       "    </tr>\n",
       "    <tr>\n",
       "      <th>37187</th>\n",
       "      <td>15018</td>\n",
       "      <td>559381</td>\n",
       "      <td>154</td>\n",
       "      <td>100</td>\n",
       "    </tr>\n",
       "    <tr>\n",
       "      <th>38240</th>\n",
       "      <td>15019</td>\n",
       "      <td>559381</td>\n",
       "      <td>200</td>\n",
       "      <td>60</td>\n",
       "    </tr>\n",
       "  </tbody>\n",
       "</table>\n",
       "</div>"
      ],
      "text/plain": [
       "      id_assessment id_student  date_submitted  score\n",
       "28783         15008     559381             -11     63\n",
       "30301         15009     559381              38     75\n",
       "31431         15010     559381              80     60\n",
       "31985         15011     559381             107     80\n",
       "33040         15012     559381             138     87\n",
       "33877         15013     559381             190     75\n",
       "34282         15015     559381              49     80\n",
       "35631         15016     559381              84     80\n",
       "36673         15017     559381             119     80\n",
       "37187         15018     559381             154    100\n",
       "38240         15019     559381             200     60"
      ]
     },
     "execution_count": 75,
     "metadata": {},
     "output_type": "execute_result"
    }
   ],
   "source": [
    "student_assessment.loc[student_assessment['id_student'] == '559381']"
   ]
  },
  {
   "cell_type": "code",
   "execution_count": 81,
   "id": "4654e37a-7050-4d6e-b3d6-9e69fe925827",
   "metadata": {},
   "outputs": [
    {
     "name": "stdout",
     "output_type": "stream",
     "text": [
      "i\n"
     ]
    },
    {
     "ename": "ValueError",
     "evalue": "('Lengths must match to compare', (173912,), (1,))",
     "output_type": "error",
     "traceback": [
      "\u001b[1;31m---------------------------------------------------------------------------\u001b[0m",
      "\u001b[1;31mValueError\u001b[0m                                Traceback (most recent call last)",
      "\u001b[1;32m<ipython-input-81-419be6dfa3a8>\u001b[0m in \u001b[0;36m<module>\u001b[1;34m\u001b[0m\n\u001b[0;32m      1\u001b[0m \u001b[1;32mfor\u001b[0m \u001b[0mi\u001b[0m \u001b[1;32min\u001b[0m \u001b[0mearly_tests\u001b[0m\u001b[1;33m:\u001b[0m\u001b[1;33m\u001b[0m\u001b[1;33m\u001b[0m\u001b[0m\n\u001b[0;32m      2\u001b[0m     \u001b[0mprint\u001b[0m\u001b[1;33m(\u001b[0m\u001b[0mi\u001b[0m\u001b[1;33m[\u001b[0m\u001b[1;36m0\u001b[0m\u001b[1;33m]\u001b[0m\u001b[1;33m)\u001b[0m\u001b[1;33m\u001b[0m\u001b[1;33m\u001b[0m\u001b[0m\n\u001b[1;32m----> 3\u001b[1;33m     \u001b[1;32mif\u001b[0m \u001b[0mstudent_assessment\u001b[0m\u001b[1;33m.\u001b[0m\u001b[0mloc\u001b[0m\u001b[1;33m[\u001b[0m\u001b[0mstudent_assessment\u001b[0m\u001b[1;33m[\u001b[0m\u001b[1;34m'id_student'\u001b[0m\u001b[1;33m]\u001b[0m \u001b[1;33m==\u001b[0m \u001b[1;33m[\u001b[0m\u001b[1;34m'id_student'\u001b[0m\u001b[1;33m]\u001b[0m\u001b[1;33m]\u001b[0m\u001b[1;33m.\u001b[0m\u001b[0mhead\u001b[0m\u001b[1;33m(\u001b[0m\u001b[1;36m1\u001b[0m\u001b[1;33m)\u001b[0m \u001b[1;33m==\u001b[0m \u001b[0mr\u001b[0m\u001b[1;33m:\u001b[0m\u001b[1;33m\u001b[0m\u001b[1;33m\u001b[0m\u001b[0m\n\u001b[0m\u001b[0;32m      4\u001b[0m         \u001b[0mprint\u001b[0m\u001b[1;33m(\u001b[0m\u001b[0mr\u001b[0m\u001b[1;33m)\u001b[0m\u001b[1;33m\u001b[0m\u001b[1;33m\u001b[0m\u001b[0m\n",
      "\u001b[1;32m~\\anaconda3\\envs\\py39\\lib\\site-packages\\pandas\\core\\ops\\common.py\u001b[0m in \u001b[0;36mnew_method\u001b[1;34m(self, other)\u001b[0m\n\u001b[0;32m     67\u001b[0m         \u001b[0mother\u001b[0m \u001b[1;33m=\u001b[0m \u001b[0mitem_from_zerodim\u001b[0m\u001b[1;33m(\u001b[0m\u001b[0mother\u001b[0m\u001b[1;33m)\u001b[0m\u001b[1;33m\u001b[0m\u001b[1;33m\u001b[0m\u001b[0m\n\u001b[0;32m     68\u001b[0m \u001b[1;33m\u001b[0m\u001b[0m\n\u001b[1;32m---> 69\u001b[1;33m         \u001b[1;32mreturn\u001b[0m \u001b[0mmethod\u001b[0m\u001b[1;33m(\u001b[0m\u001b[0mself\u001b[0m\u001b[1;33m,\u001b[0m \u001b[0mother\u001b[0m\u001b[1;33m)\u001b[0m\u001b[1;33m\u001b[0m\u001b[1;33m\u001b[0m\u001b[0m\n\u001b[0m\u001b[0;32m     70\u001b[0m \u001b[1;33m\u001b[0m\u001b[0m\n\u001b[0;32m     71\u001b[0m     \u001b[1;32mreturn\u001b[0m \u001b[0mnew_method\u001b[0m\u001b[1;33m\u001b[0m\u001b[1;33m\u001b[0m\u001b[0m\n",
      "\u001b[1;32m~\\anaconda3\\envs\\py39\\lib\\site-packages\\pandas\\core\\arraylike.py\u001b[0m in \u001b[0;36m__eq__\u001b[1;34m(self, other)\u001b[0m\n\u001b[0;32m     30\u001b[0m     \u001b[1;33m@\u001b[0m\u001b[0munpack_zerodim_and_defer\u001b[0m\u001b[1;33m(\u001b[0m\u001b[1;34m\"__eq__\"\u001b[0m\u001b[1;33m)\u001b[0m\u001b[1;33m\u001b[0m\u001b[1;33m\u001b[0m\u001b[0m\n\u001b[0;32m     31\u001b[0m     \u001b[1;32mdef\u001b[0m \u001b[0m__eq__\u001b[0m\u001b[1;33m(\u001b[0m\u001b[0mself\u001b[0m\u001b[1;33m,\u001b[0m \u001b[0mother\u001b[0m\u001b[1;33m)\u001b[0m\u001b[1;33m:\u001b[0m\u001b[1;33m\u001b[0m\u001b[1;33m\u001b[0m\u001b[0m\n\u001b[1;32m---> 32\u001b[1;33m         \u001b[1;32mreturn\u001b[0m \u001b[0mself\u001b[0m\u001b[1;33m.\u001b[0m\u001b[0m_cmp_method\u001b[0m\u001b[1;33m(\u001b[0m\u001b[0mother\u001b[0m\u001b[1;33m,\u001b[0m \u001b[0moperator\u001b[0m\u001b[1;33m.\u001b[0m\u001b[0meq\u001b[0m\u001b[1;33m)\u001b[0m\u001b[1;33m\u001b[0m\u001b[1;33m\u001b[0m\u001b[0m\n\u001b[0m\u001b[0;32m     33\u001b[0m \u001b[1;33m\u001b[0m\u001b[0m\n\u001b[0;32m     34\u001b[0m     \u001b[1;33m@\u001b[0m\u001b[0munpack_zerodim_and_defer\u001b[0m\u001b[1;33m(\u001b[0m\u001b[1;34m\"__ne__\"\u001b[0m\u001b[1;33m)\u001b[0m\u001b[1;33m\u001b[0m\u001b[1;33m\u001b[0m\u001b[0m\n",
      "\u001b[1;32m~\\anaconda3\\envs\\py39\\lib\\site-packages\\pandas\\core\\series.py\u001b[0m in \u001b[0;36m_cmp_method\u001b[1;34m(self, other, op)\u001b[0m\n\u001b[0;32m   5499\u001b[0m \u001b[1;33m\u001b[0m\u001b[0m\n\u001b[0;32m   5500\u001b[0m         \u001b[1;32mwith\u001b[0m \u001b[0mnp\u001b[0m\u001b[1;33m.\u001b[0m\u001b[0merrstate\u001b[0m\u001b[1;33m(\u001b[0m\u001b[0mall\u001b[0m\u001b[1;33m=\u001b[0m\u001b[1;34m\"ignore\"\u001b[0m\u001b[1;33m)\u001b[0m\u001b[1;33m:\u001b[0m\u001b[1;33m\u001b[0m\u001b[1;33m\u001b[0m\u001b[0m\n\u001b[1;32m-> 5501\u001b[1;33m             \u001b[0mres_values\u001b[0m \u001b[1;33m=\u001b[0m \u001b[0mops\u001b[0m\u001b[1;33m.\u001b[0m\u001b[0mcomparison_op\u001b[0m\u001b[1;33m(\u001b[0m\u001b[0mlvalues\u001b[0m\u001b[1;33m,\u001b[0m \u001b[0mrvalues\u001b[0m\u001b[1;33m,\u001b[0m \u001b[0mop\u001b[0m\u001b[1;33m)\u001b[0m\u001b[1;33m\u001b[0m\u001b[1;33m\u001b[0m\u001b[0m\n\u001b[0m\u001b[0;32m   5502\u001b[0m \u001b[1;33m\u001b[0m\u001b[0m\n\u001b[0;32m   5503\u001b[0m         \u001b[1;32mreturn\u001b[0m \u001b[0mself\u001b[0m\u001b[1;33m.\u001b[0m\u001b[0m_construct_result\u001b[0m\u001b[1;33m(\u001b[0m\u001b[0mres_values\u001b[0m\u001b[1;33m,\u001b[0m \u001b[0mname\u001b[0m\u001b[1;33m=\u001b[0m\u001b[0mres_name\u001b[0m\u001b[1;33m)\u001b[0m\u001b[1;33m\u001b[0m\u001b[1;33m\u001b[0m\u001b[0m\n",
      "\u001b[1;32m~\\anaconda3\\envs\\py39\\lib\\site-packages\\pandas\\core\\ops\\array_ops.py\u001b[0m in \u001b[0;36mcomparison_op\u001b[1;34m(left, right, op)\u001b[0m\n\u001b[0;32m    259\u001b[0m         \u001b[1;31m#  The ambiguous case is object-dtype.  See GH#27803\u001b[0m\u001b[1;33m\u001b[0m\u001b[1;33m\u001b[0m\u001b[1;33m\u001b[0m\u001b[0m\n\u001b[0;32m    260\u001b[0m         \u001b[1;32mif\u001b[0m \u001b[0mlen\u001b[0m\u001b[1;33m(\u001b[0m\u001b[0mlvalues\u001b[0m\u001b[1;33m)\u001b[0m \u001b[1;33m!=\u001b[0m \u001b[0mlen\u001b[0m\u001b[1;33m(\u001b[0m\u001b[0mrvalues\u001b[0m\u001b[1;33m)\u001b[0m\u001b[1;33m:\u001b[0m\u001b[1;33m\u001b[0m\u001b[1;33m\u001b[0m\u001b[0m\n\u001b[1;32m--> 261\u001b[1;33m             raise ValueError(\n\u001b[0m\u001b[0;32m    262\u001b[0m                 \u001b[1;34m\"Lengths must match to compare\"\u001b[0m\u001b[1;33m,\u001b[0m \u001b[0mlvalues\u001b[0m\u001b[1;33m.\u001b[0m\u001b[0mshape\u001b[0m\u001b[1;33m,\u001b[0m \u001b[0mrvalues\u001b[0m\u001b[1;33m.\u001b[0m\u001b[0mshape\u001b[0m\u001b[1;33m\u001b[0m\u001b[1;33m\u001b[0m\u001b[0m\n\u001b[0;32m    263\u001b[0m             )\n",
      "\u001b[1;31mValueError\u001b[0m: ('Lengths must match to compare', (173912,), (1,))"
     ]
    }
   ],
   "source": [
    "for i in early_tests.iter:\n",
    "    print()\n",
    "    if student_assessment.loc[student_assessment['id_student'] == ['id_student']].head(1) == r:\n",
    "        print(r)"
   ]
  },
  {
   "cell_type": "markdown",
   "id": "79737c4f-e54d-4b4a-ae1c-7da3fe8a421b",
   "metadata": {},
   "source": [
    "**Merged Assessment/Student_info dataframes**"
   ]
  },
  {
   "cell_type": "markdown",
   "id": "e02b07c7-78b9-40ac-81ec-3b1fcf9aaf3f",
   "metadata": {},
   "source": [
    "In order to remove the students that we removed for the number of previous attempts, we must merge assessments and student info and find the difference"
   ]
  },
  {
   "cell_type": "code",
   "execution_count": null,
   "id": "1415babb-3164-4430-b130-f1baed32307b",
   "metadata": {
    "tags": [
     "remove_input"
    ]
   },
   "outputs": [],
   "source": [
    "# merged 'student info/assessments' with a full outer join on their common columns\n",
    "merged_si_assm = student_assessment.merge(student_info, how='outer', on=['id_student', 'code_module', 'code_presentation'], indicator=True)\n",
    "merged_si_assm.head()"
   ]
  },
  {
   "cell_type": "markdown",
   "id": "b19d4ef0-eff1-4e47-aae5-bf260e4a6de5",
   "metadata": {},
   "source": [
    "For this merge column the right side would be the student info dataframe and the left side would be assessments. If an entry receives the label of right_only there is a student who has no assessments, if the label is left_only, there is an assessment that doesn't match up with a student."
   ]
  },
  {
   "cell_type": "code",
   "execution_count": null,
   "id": "cf5ad962-7e3a-4798-8cce-59647a781690",
   "metadata": {
    "tags": [
     "remove-cell"
    ]
   },
   "outputs": [],
   "source": [
    "# variable for where merge is left_only, and only found on the \n",
    "only_assessments = merged_si_assm.loc[merged_si_assm['_merge']=='left_only']\n",
    "only_student_info = merged_si_assm.loc[merged_si_assm['_merge']=='right_only']"
   ]
  },
  {
   "cell_type": "markdown",
   "id": "e9534013-73d6-44b9-8447-83d2a74e447b",
   "metadata": {},
   "source": [
    "**Assessments that do not map to students**:"
   ]
  },
  {
   "cell_type": "code",
   "execution_count": null,
   "id": "0b0f683e-be6a-4b52-b3bc-684f9c3a8271",
   "metadata": {
    "tags": [
     "remove_input"
    ]
   },
   "outputs": [],
   "source": [
    "only_assessments.head()"
   ]
  },
  {
   "cell_type": "markdown",
   "id": "e20b3939-7696-4721-8c51-f8b87d2ecbee",
   "metadata": {},
   "source": [
    "**Students without any test scores**:"
   ]
  },
  {
   "cell_type": "code",
   "execution_count": null,
   "id": "81417eee-e722-4d24-b351-6dfd8614d9bc",
   "metadata": {},
   "outputs": [],
   "source": [
    "only_student_info.head()"
   ]
  },
  {
   "cell_type": "code",
   "execution_count": null,
   "id": "1fccc36f-5ec6-4c15-8eac-77a017dc98db",
   "metadata": {
    "tags": [
     "remove_input"
    ]
   },
   "outputs": [],
   "source": [
    "md(f'''\n",
    "    We have {len(only_assessments)} values in only assessments, which map to students who had made previous attempts which we eliminated, and {len(only_student_info)} values in only student_info, which means we have students for whom we have no test scores.\n",
    "    We can drop both of these which are missing values for the purpose of this dataframe since we are just analyzing test scores\n",
    "    ''')"
   ]
  },
  {
   "cell_type": "code",
   "execution_count": null,
   "id": "1b118400-07c9-4c10-a707-da66ea528409",
   "metadata": {
    "tags": [
     "remove-cell"
    ]
   },
   "outputs": [],
   "source": [
    "# merging assessments with the original student data dataframe to make sure that the missing students are the ones we removed.\n",
    "merged_test = student_assessment.merge(student_info, how='outer', on=['id_student', 'code_module', 'code_presentation'], indicator=True)\n",
    "\n",
    "# removing entries where num_prev_attempts == 0\n",
    "merged_test = merged_test[merged_test['num_of_prev_attempts'] == 0]\n",
    "\n",
    "# checking if any in only the student info dataframe remain (left_only). No output means all of the tests without students map to a student where num_prev_attempts == 0\n",
    "merged_test.loc[merged_test['_merge']=='left_only']"
   ]
  },
  {
   "cell_type": "code",
   "execution_count": null,
   "id": "6084ddc8-e024-4233-b4e1-323f5f036144",
   "metadata": {
    "tags": [
     "remove-cell"
    ]
   },
   "outputs": [],
   "source": [
    "# removing any student with NaN values in id_assessment or region\n",
    "merged_si_assm = merged_si_assm.dropna(subset=['id_assessment', 'region'])"
   ]
  },
  {
   "cell_type": "code",
   "execution_count": null,
   "id": "12a2ceee-46cd-476b-b3d0-c2ec51c81405",
   "metadata": {
    "tags": [
     "remove-cell"
    ]
   },
   "outputs": [],
   "source": [
    "# reordering dataframe columns to group like data\n",
    "merged_si_assm = merged_si_assm[['code_module', 'code_presentation', 'id_student', 'region', 'imd_band', 'age_band', 'gender', 'highest_education', 'disability', 'final_result', 'id_assessment', 'assessment_type', 'date_submitted', 'date', 'weight', 'score']]"
   ]
  },
  {
   "cell_type": "code",
   "execution_count": null,
   "id": "8929c3d0-7505-44c8-b16c-bf76f29e9fac",
   "metadata": {},
   "outputs": [],
   "source": [
    "# converting the data types back\n",
    "merged_si_assm = merged_si_assm.astype({'id_assessment': int, 'id_student': int})\n",
    "merged_si_assm = merged_si_assm.astype({'id_assessment': object, 'id_student': object})"
   ]
  },
  {
   "cell_type": "code",
   "execution_count": null,
   "id": "d9bcffd6-b31b-40b2-a742-c38a5de1274d",
   "metadata": {
    "tags": [
     "remove_input"
    ]
   },
   "outputs": [],
   "source": [
    "# reset the index\n",
    "merged_si_assm.reset_index(drop=True).head()"
   ]
  },
  {
   "cell_type": "code",
   "execution_count": null,
   "id": "70ad6983-2a0f-4947-9232-a5b767174f7d",
   "metadata": {},
   "outputs": [],
   "source": [
    "student_assessment = merged_si_assm"
   ]
  },
  {
   "cell_type": "markdown",
   "id": "12a82008-f64a-4b36-b4df-8d0fe5cbcf21",
   "metadata": {},
   "source": [
    "**Unique Counts**"
   ]
  },
  {
   "cell_type": "code",
   "execution_count": null,
   "id": "fd2e029c-9dc3-442c-a150-097032cf18bc",
   "metadata": {
    "tags": [
     "remove_input"
    ]
   },
   "outputs": [],
   "source": [
    "student_assessment.nunique()"
   ]
  },
  {
   "cell_type": "markdown",
   "id": "12b44979-f5b1-4122-923c-dca2d7dac7d3",
   "metadata": {},
   "source": [
    "**Unique Categorical Values**"
   ]
  },
  {
   "cell_type": "code",
   "execution_count": null,
   "id": "cc695273-72e6-4547-bde6-f870e75f850b",
   "metadata": {
    "tags": [
     "remove_input"
    ]
   },
   "outputs": [],
   "source": [
    "unique_vals(student_assessment)"
   ]
  },
  {
   "cell_type": "markdown",
   "id": "6b6c5f0f-bb08-49af-a523-546a159dffae",
   "metadata": {},
   "source": [
    "**Duplicate Values:**"
   ]
  },
  {
   "cell_type": "code",
   "execution_count": null,
   "id": "193037fb-6b33-4002-9882-f92bfaa3d4fa",
   "metadata": {
    "tags": [
     "remove_input"
    ]
   },
   "outputs": [],
   "source": [
    "duplicate_vals(student_assessment)"
   ]
  },
  {
   "cell_type": "markdown",
   "id": "c2a3dea0-4249-4808-8990-a06002234ed8",
   "metadata": {},
   "source": [
    "**Statistics**"
   ]
  },
  {
   "cell_type": "code",
   "execution_count": null,
   "id": "513daf4b-0bca-4c52-81b6-8dcf7cc46df0",
   "metadata": {},
   "outputs": [],
   "source": [
    "student_assessment.describe()"
   ]
  }
 ],
 "metadata": {
  "kernelspec": {
   "display_name": "Python 3",
   "language": "python",
   "name": "python3"
  },
  "language_info": {
   "codemirror_mode": {
    "name": "ipython",
    "version": 3
   },
   "file_extension": ".py",
   "mimetype": "text/x-python",
   "name": "python",
   "nbconvert_exporter": "python",
   "pygments_lexer": "ipython3",
   "version": "3.9.6"
  }
 },
 "nbformat": 4,
 "nbformat_minor": 5
}
