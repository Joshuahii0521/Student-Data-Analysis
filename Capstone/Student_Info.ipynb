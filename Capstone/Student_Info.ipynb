{
 "cells": [
  {
   "cell_type": "code",
   "execution_count": 46,
   "id": "d548f977-55e4-499c-996c-5aa8070958b0",
   "metadata": {
    "tags": [
     "remove_cell"
    ]
   },
   "outputs": [],
   "source": [
    "from functions import *"
   ]
  },
  {
   "cell_type": "markdown",
   "id": "e5a14227-1aa2-445b-8c28-1dcf1751ca8b",
   "metadata": {},
   "source": [
    "# Students\n",
    "\n",
    "---"
   ]
  },
  {
   "cell_type": "markdown",
   "id": "eb384d36-73ae-41ec-94cc-330079eef6cd",
   "metadata": {},
   "source": [
    "## Student Info\n",
    "---"
   ]
  },
  {
   "cell_type": "markdown",
   "id": "77349fd2-fb9e-4319-9e22-7c4d689fe8b9",
   "metadata": {},
   "source": [
    "The student info file contains details about students including the module they took, the presentation they took the module during, demographic information and the final result of their studies."
   ]
  },
  {
   "cell_type": "code",
   "execution_count": 47,
   "id": "77678c71-d2e0-4dfd-8af5-a20cd4168caf",
   "metadata": {
    "tags": [
     "remove_input"
    ]
   },
   "outputs": [
    {
     "data": {
      "text/html": [
       "<div>\n",
       "<style scoped>\n",
       "    .dataframe tbody tr th:only-of-type {\n",
       "        vertical-align: middle;\n",
       "    }\n",
       "\n",
       "    .dataframe tbody tr th {\n",
       "        vertical-align: top;\n",
       "    }\n",
       "\n",
       "    .dataframe thead th {\n",
       "        text-align: right;\n",
       "    }\n",
       "</style>\n",
       "<table border=\"1\" class=\"dataframe\">\n",
       "  <thead>\n",
       "    <tr style=\"text-align: right;\">\n",
       "      <th></th>\n",
       "      <th>code_module</th>\n",
       "      <th>code_presentation</th>\n",
       "      <th>id_student</th>\n",
       "      <th>gender</th>\n",
       "      <th>region</th>\n",
       "      <th>highest_education</th>\n",
       "      <th>imd_band</th>\n",
       "      <th>age_band</th>\n",
       "      <th>num_of_prev_attempts</th>\n",
       "      <th>studied_credits</th>\n",
       "      <th>disability</th>\n",
       "      <th>final_result</th>\n",
       "    </tr>\n",
       "  </thead>\n",
       "  <tbody>\n",
       "    <tr>\n",
       "      <th>0</th>\n",
       "      <td>AAA</td>\n",
       "      <td>2013J</td>\n",
       "      <td>11391</td>\n",
       "      <td>M</td>\n",
       "      <td>East Anglian Region</td>\n",
       "      <td>HE Qualification</td>\n",
       "      <td>90-100%</td>\n",
       "      <td>55&lt;=</td>\n",
       "      <td>0</td>\n",
       "      <td>240</td>\n",
       "      <td>N</td>\n",
       "      <td>Pass</td>\n",
       "    </tr>\n",
       "    <tr>\n",
       "      <th>1</th>\n",
       "      <td>AAA</td>\n",
       "      <td>2013J</td>\n",
       "      <td>28400</td>\n",
       "      <td>F</td>\n",
       "      <td>Scotland</td>\n",
       "      <td>HE Qualification</td>\n",
       "      <td>20-30%</td>\n",
       "      <td>35-55</td>\n",
       "      <td>0</td>\n",
       "      <td>60</td>\n",
       "      <td>N</td>\n",
       "      <td>Pass</td>\n",
       "    </tr>\n",
       "    <tr>\n",
       "      <th>2</th>\n",
       "      <td>AAA</td>\n",
       "      <td>2013J</td>\n",
       "      <td>30268</td>\n",
       "      <td>F</td>\n",
       "      <td>North Western Region</td>\n",
       "      <td>A Level or Equivalent</td>\n",
       "      <td>30-40%</td>\n",
       "      <td>35-55</td>\n",
       "      <td>0</td>\n",
       "      <td>60</td>\n",
       "      <td>Y</td>\n",
       "      <td>Withdrawn</td>\n",
       "    </tr>\n",
       "    <tr>\n",
       "      <th>3</th>\n",
       "      <td>AAA</td>\n",
       "      <td>2013J</td>\n",
       "      <td>31604</td>\n",
       "      <td>F</td>\n",
       "      <td>South East Region</td>\n",
       "      <td>A Level or Equivalent</td>\n",
       "      <td>50-60%</td>\n",
       "      <td>35-55</td>\n",
       "      <td>0</td>\n",
       "      <td>60</td>\n",
       "      <td>N</td>\n",
       "      <td>Pass</td>\n",
       "    </tr>\n",
       "    <tr>\n",
       "      <th>4</th>\n",
       "      <td>AAA</td>\n",
       "      <td>2013J</td>\n",
       "      <td>32885</td>\n",
       "      <td>F</td>\n",
       "      <td>West Midlands Region</td>\n",
       "      <td>Lower Than A Level</td>\n",
       "      <td>50-60%</td>\n",
       "      <td>0-35</td>\n",
       "      <td>0</td>\n",
       "      <td>60</td>\n",
       "      <td>N</td>\n",
       "      <td>Pass</td>\n",
       "    </tr>\n",
       "  </tbody>\n",
       "</table>\n",
       "</div>"
      ],
      "text/plain": [
       "  code_module code_presentation  id_student gender                region  \\\n",
       "0         AAA             2013J       11391      M   East Anglian Region   \n",
       "1         AAA             2013J       28400      F              Scotland   \n",
       "2         AAA             2013J       30268      F  North Western Region   \n",
       "3         AAA             2013J       31604      F     South East Region   \n",
       "4         AAA             2013J       32885      F  West Midlands Region   \n",
       "\n",
       "       highest_education imd_band age_band  num_of_prev_attempts  \\\n",
       "0       HE Qualification  90-100%     55<=                     0   \n",
       "1       HE Qualification   20-30%    35-55                     0   \n",
       "2  A Level or Equivalent   30-40%    35-55                     0   \n",
       "3  A Level or Equivalent   50-60%    35-55                     0   \n",
       "4     Lower Than A Level   50-60%     0-35                     0   \n",
       "\n",
       "   studied_credits disability final_result  \n",
       "0              240          N         Pass  \n",
       "1               60          N         Pass  \n",
       "2               60          Y    Withdrawn  \n",
       "3               60          N         Pass  \n",
       "4               60          N         Pass  "
      ]
     },
     "execution_count": 47,
     "metadata": {},
     "output_type": "execute_result"
    }
   ],
   "source": [
    "# looking at the stud_info dataframe\n",
    "student_info.head()"
   ]
  },
  {
   "cell_type": "markdown",
   "id": "b24bc1ff-b761-4327-bca2-79d69044ba3f",
   "metadata": {},
   "source": [
    "**Size**"
   ]
  },
  {
   "cell_type": "code",
   "execution_count": 48,
   "id": "7986116e-1a30-4e96-91f9-492b1b84a00e",
   "metadata": {
    "tags": [
     "remove_input"
    ]
   },
   "outputs": [
    {
     "data": {
      "text/html": [
       "<div>\n",
       "<style scoped>\n",
       "    .dataframe tbody tr th:only-of-type {\n",
       "        vertical-align: middle;\n",
       "    }\n",
       "\n",
       "    .dataframe tbody tr th {\n",
       "        vertical-align: top;\n",
       "    }\n",
       "\n",
       "    .dataframe thead th {\n",
       "        text-align: right;\n",
       "    }\n",
       "</style>\n",
       "<table border=\"1\" class=\"dataframe\">\n",
       "  <thead>\n",
       "    <tr style=\"text-align: right;\">\n",
       "      <th></th>\n",
       "      <th>Count</th>\n",
       "    </tr>\n",
       "  </thead>\n",
       "  <tbody>\n",
       "    <tr>\n",
       "      <th>Columns</th>\n",
       "      <td>14</td>\n",
       "    </tr>\n",
       "    <tr>\n",
       "      <th>Rows</th>\n",
       "      <td>32593</td>\n",
       "    </tr>\n",
       "  </tbody>\n",
       "</table>\n",
       "</div>"
      ],
      "text/plain": [
       "         Count\n",
       "Columns     14\n",
       "Rows     32593"
      ]
     },
     "execution_count": 48,
     "metadata": {},
     "output_type": "execute_result"
    }
   ],
   "source": [
    "# get size counts of stud_info\n",
    "get_size(stud_info)"
   ]
  },
  {
   "cell_type": "code",
   "execution_count": 49,
   "id": "aa040bf7-c09e-490f-ad76-7a3cceca63c2",
   "metadata": {
    "tags": [
     "remove_input"
    ]
   },
   "outputs": [
    {
     "data": {
      "text/markdown": [
       "\n",
       "Student Info has 14 features and 32,593 student records.\n"
      ],
      "text/plain": [
       "<IPython.core.display.Markdown object>"
      ]
     },
     "execution_count": 49,
     "metadata": {},
     "output_type": "execute_result"
    }
   ],
   "source": [
    "md(f'''\n",
    "Student Info has {len(stud_info.columns)} features and {\"{:,}\".format(len(stud_info))} student records.\n",
    "''')"
   ]
  },
  {
   "cell_type": "markdown",
   "id": "2921a502-dd6c-4a6a-9b49-c00e22402cf6",
   "metadata": {},
   "source": [
    "### Student Info Contents\n",
    "\n",
    "* **code_module**: The code module represents the course the student is taking.\n",
    "* **code_presentation**: The code presentations are the year and semester the student is taking the course.\n",
    "* **id_student**: The student ID is a unique identifier for each student\n",
    "* **gender**: The gender represents the binary gender of a student 'M' for students who identify as male and 'F' for students who identify as female.\n",
    "* **region**: Region represents the location of the student when they took the module. All regions are in the UK, Scotland, Ireland or Wales.\n",
    "* **highest_education**: Highest education is representative of a students highest level of formal academic achievement.\n",
    "    - Education levels in order from least to most formal education: \n",
    "        - No formal quals (qualifications)\n",
    "        - Lower than A Level which is nearly but not quite analagous to under high school level\n",
    "        - A Level or equivalent which is again nearly analagous to high school level, but more like college ready\n",
    "        - HE Qualification which stands for higher education qualification\n",
    "        - Post Graduate Qualification\n",
    "* **imd_band**: The imd_band represents the Indices of multiple deprivation (IMD) score which is a commonly used method in the UK to measure poverty or deprivation in an area. The lower the score, the more 'deprived' the area is.\n",
    "* **age_band**: There are only three bins for age; _0-35_, _35-55_ and _55<=_\n",
    "* **num_of_prev_attempts**: The number of times the student has attempted the course previously.\n",
    "* **studied_credits**: The number of credits for the module the student is taking.\n",
    "* **disability**: Disability status is represented by a binary 'Y', yes a student does identify as having a disability and 'N', no a student does not identify as having a disability.\n",
    "* **final_results**: * The final result is the students overall result in the class.\n",
    "    - Possible Results include:\n",
    "         - _Pass_: The student passed the course\n",
    "         - _Fail_: The student did not pass the course\n",
    "         - _Withdraw_: The student withdrew before the course term ended\n",
    "         - _Distinction_: The student passed the class with distinction"
   ]
  },
  {
   "cell_type": "markdown",
   "id": "bec604a0-3280-46cb-8607-3ec1ed5394f3",
   "metadata": {},
   "source": [
    "## Student Registration Dataframe\n",
    "\n",
    "---"
   ]
  },
  {
   "cell_type": "markdown",
   "id": "e66cf453-cbdb-4476-8f59-6d689f7f0918",
   "metadata": {},
   "source": [
    "The information that the student registration file adds includes the dates that students registered and, if applicable, unregistered from the module."
   ]
  },
  {
   "cell_type": "code",
   "execution_count": 50,
   "id": "fa8c5401-2804-4a73-a485-43c6314475b2",
   "metadata": {
    "tags": [
     "remove_input"
    ]
   },
   "outputs": [
    {
     "data": {
      "text/html": [
       "<div>\n",
       "<style scoped>\n",
       "    .dataframe tbody tr th:only-of-type {\n",
       "        vertical-align: middle;\n",
       "    }\n",
       "\n",
       "    .dataframe tbody tr th {\n",
       "        vertical-align: top;\n",
       "    }\n",
       "\n",
       "    .dataframe thead th {\n",
       "        text-align: right;\n",
       "    }\n",
       "</style>\n",
       "<table border=\"1\" class=\"dataframe\">\n",
       "  <thead>\n",
       "    <tr style=\"text-align: right;\">\n",
       "      <th></th>\n",
       "      <th>code_module</th>\n",
       "      <th>code_presentation</th>\n",
       "      <th>id_student</th>\n",
       "      <th>date_registration</th>\n",
       "      <th>date_unregistration</th>\n",
       "    </tr>\n",
       "  </thead>\n",
       "  <tbody>\n",
       "    <tr>\n",
       "      <th>0</th>\n",
       "      <td>AAA</td>\n",
       "      <td>2013J</td>\n",
       "      <td>11391</td>\n",
       "      <td>-159.0</td>\n",
       "      <td>NaN</td>\n",
       "    </tr>\n",
       "    <tr>\n",
       "      <th>1</th>\n",
       "      <td>AAA</td>\n",
       "      <td>2013J</td>\n",
       "      <td>28400</td>\n",
       "      <td>-53.0</td>\n",
       "      <td>NaN</td>\n",
       "    </tr>\n",
       "    <tr>\n",
       "      <th>2</th>\n",
       "      <td>AAA</td>\n",
       "      <td>2013J</td>\n",
       "      <td>30268</td>\n",
       "      <td>-92.0</td>\n",
       "      <td>12.0</td>\n",
       "    </tr>\n",
       "    <tr>\n",
       "      <th>3</th>\n",
       "      <td>AAA</td>\n",
       "      <td>2013J</td>\n",
       "      <td>31604</td>\n",
       "      <td>-52.0</td>\n",
       "      <td>NaN</td>\n",
       "    </tr>\n",
       "    <tr>\n",
       "      <th>4</th>\n",
       "      <td>AAA</td>\n",
       "      <td>2013J</td>\n",
       "      <td>32885</td>\n",
       "      <td>-176.0</td>\n",
       "      <td>NaN</td>\n",
       "    </tr>\n",
       "  </tbody>\n",
       "</table>\n",
       "</div>"
      ],
      "text/plain": [
       "  code_module code_presentation  id_student  date_registration  \\\n",
       "0         AAA             2013J       11391             -159.0   \n",
       "1         AAA             2013J       28400              -53.0   \n",
       "2         AAA             2013J       30268              -92.0   \n",
       "3         AAA             2013J       31604              -52.0   \n",
       "4         AAA             2013J       32885             -176.0   \n",
       "\n",
       "   date_unregistration  \n",
       "0                  NaN  \n",
       "1                  NaN  \n",
       "2                 12.0  \n",
       "3                  NaN  \n",
       "4                  NaN  "
      ]
     },
     "execution_count": 50,
     "metadata": {},
     "output_type": "execute_result"
    }
   ],
   "source": [
    "# looking at the student_registration dataframe\n",
    "student_registration.head()"
   ]
  },
  {
   "cell_type": "markdown",
   "id": "fa6e0fca-373f-4da0-beeb-ea93ee286ec8",
   "metadata": {},
   "source": [
    "**Size**"
   ]
  },
  {
   "cell_type": "code",
   "execution_count": 51,
   "id": "baed9098-e4ab-45a7-8931-a8f3de6452a6",
   "metadata": {
    "tags": []
   },
   "outputs": [
    {
     "data": {
      "text/html": [
       "<div>\n",
       "<style scoped>\n",
       "    .dataframe tbody tr th:only-of-type {\n",
       "        vertical-align: middle;\n",
       "    }\n",
       "\n",
       "    .dataframe tbody tr th {\n",
       "        vertical-align: top;\n",
       "    }\n",
       "\n",
       "    .dataframe thead th {\n",
       "        text-align: right;\n",
       "    }\n",
       "</style>\n",
       "<table border=\"1\" class=\"dataframe\">\n",
       "  <thead>\n",
       "    <tr style=\"text-align: right;\">\n",
       "      <th></th>\n",
       "      <th>Count</th>\n",
       "    </tr>\n",
       "  </thead>\n",
       "  <tbody>\n",
       "    <tr>\n",
       "      <th>Columns</th>\n",
       "      <td>5</td>\n",
       "    </tr>\n",
       "    <tr>\n",
       "      <th>Rows</th>\n",
       "      <td>32593</td>\n",
       "    </tr>\n",
       "  </tbody>\n",
       "</table>\n",
       "</div>"
      ],
      "text/plain": [
       "         Count\n",
       "Columns      5\n",
       "Rows     32593"
      ]
     },
     "execution_count": 51,
     "metadata": {},
     "output_type": "execute_result"
    }
   ],
   "source": [
    "get_size(student_registration)"
   ]
  },
  {
   "cell_type": "code",
   "execution_count": 52,
   "id": "9a263df0-182c-4684-9082-c027377b5d70",
   "metadata": {
    "tags": []
   },
   "outputs": [
    {
     "data": {
      "text/markdown": [
       " \n",
       "Student Registration has 5 features and 32,593 student records.\n"
      ],
      "text/plain": [
       "<IPython.core.display.Markdown object>"
      ]
     },
     "execution_count": 52,
     "metadata": {},
     "output_type": "execute_result"
    }
   ],
   "source": [
    "md(f''' \n",
    "Student Registration has {len(student_registration.columns)} features and {\"{:,}\".format(len(student_registration))} student records.\n",
    "''')"
   ]
  },
  {
   "cell_type": "markdown",
   "id": "86bfad0d-ec27-4e4f-b7ab-0e22a246745c",
   "metadata": {},
   "source": [
    "### Student Registration Contents\n",
    "\n",
    "* **code_module**: The code module represents the course which the sutdent registered for.\n",
    "* **code_presentation**: The code presentation represents the time of year the course which the student registered for began.\n",
    "* **id_student**: The student ID is the unique identifier for each student.\n",
    "* **date_registration**: The registration date is the date that the student registered for the module relative to the start of the module. A negative value indicates that many days before the module began.\n",
    "* **date_unregistration**: The unregistration date is the date that the student unregistered from the course module in relation to the start date of the course, if applicable."
   ]
  },
  {
   "cell_type": "markdown",
   "id": "ac599dc0-225f-4b28-b2d2-5ab4ea15eb3b",
   "metadata": {},
   "source": [
    "---\n",
    "\n",
    "### Student Info Exploration and Cleaning"
   ]
  },
  {
   "cell_type": "code",
   "execution_count": 53,
   "id": "075df554-c269-44c6-83f9-9852a4144cfa",
   "metadata": {
    "jupyter": {
     "source_hidden": true
    },
    "tags": [
     "remove_cell"
    ]
   },
   "outputs": [],
   "source": [
    "# list of result possibilities\n",
    "results = ['Pass', 'Fail', 'Withdrawn', 'Distinction']\n",
    "\n",
    "# list of disability possibilities\n",
    "disabilities = ['N', 'Y']\n",
    "\n",
    "# list of region possibilities\n",
    "regions = ['East Anglian Region', 'North Western Region',\n",
    " 'South East Region', 'West Midlands Region', 'North Region',\n",
    " 'South Region', 'South West Region', 'East Midlands Region',\n",
    " 'Yorkshire Region', 'London Region', 'Wales', 'Scotland', 'Ireland']\n",
    "\n",
    "# list of education possibilities\n",
    "educations = ['No Formal quals', 'Lower Than A Level', 'A Level or Equivalent', 'HE Qualification', 'Post Graduate Qualification' ]\n",
    "\n",
    "# list of imd possibilites\n",
    "imds = ['0-10%', '10-20%', '20-30%', '30-40%', '40-50%', '50-60%', '60-70%', '70-80%', '80-90%', '90-100%']\n",
    "\n",
    "# list of age_band possibilities\n",
    "ages = ['0-35', '35-55', '55<=']\n",
    "\n",
    "# list of presentation possibilities\n",
    "presentations = ['2013B', '2013J', '2014B', '2014J']\n",
    "\n",
    "# list of module possibilities\n",
    "modules = ['AAA', 'BBB', 'CCC', 'DDD', 'EEE', 'FFF', 'GGG']\n",
    "\n",
    "# list of gender possibilities\n",
    "genders = ['M', 'F']\n",
    "\n",
    "# dictionary mapping column string names to the above lists to pass to the change_col_val function\n",
    "col_dict = {'imd':imds, 'region':regions, 'disability':disabilities, 'age_band':ages, 'module':modules, 'highest_education':educations, 'gender':genders, 'final_result':results}"
   ]
  },
  {
   "cell_type": "markdown",
   "id": "c6522a03-b768-4f30-9d1f-3e5effccfcdc",
   "metadata": {},
   "source": [
    "```{note}\n",
    "* The student registration dataframe matches 1:1 with the student info dataframe only adding the date the student registered and the date in which they unregistered, and so we will merge these two dataframes.\n",
    "* The dataframe columns can then be reordered to keep relevent data together. \n",
    "```"
   ]
  },
  {
   "cell_type": "code",
   "execution_count": 54,
   "id": "5d7130c8-d091-4ba3-a553-1e60442cc98a",
   "metadata": {
    "tags": []
   },
   "outputs": [],
   "source": [
    "# outer join and merge student info with student registration\n",
    "stud_info = student_info.merge(student_registration, how='outer', on=['code_module', 'code_presentation', 'id_student'], indicator=True)\n",
    "\n",
    "# reordering the stud_info dataframe to keep country, module and student data together\n",
    "stud_info = stud_info[['code_module', 'code_presentation', 'id_student', 'region', 'imd_band', 'age_band', 'gender', 'highest_education', 'disability', 'num_of_prev_attempts', 'studied_credits', 'final_result', 'date_registration', 'date_unregistration']]"
   ]
  },
  {
   "cell_type": "markdown",
   "id": "01e4884a-7a09-4199-a840-9f3818b0d61c",
   "metadata": {},
   "source": [
    "* Column names will be changed to be less verbose\n",
    "    * code_module to module\n",
    "    * code_presentation to presentation\n",
    "    * highest_education to education\n",
    "    * imd_band to imd\n",
    "    * age_band to age\n",
    "    * num_of_prev_attempts to attempts\n",
    "    * studied_credits to credits\n",
    "    * final result to result\n",
    "* 'Y' and 'N' in disability will be changed to boolean for ease of manipulation"
   ]
  },
  {
   "cell_type": "code",
   "execution_count": 55,
   "id": "de9a3139-0c0e-483f-a112-255de7dac41f",
   "metadata": {
    "jupyter": {
     "source_hidden": true
    },
    "tags": [
     "remove_cell"
    ]
   },
   "outputs": [],
   "source": [
    "# rename num_of_prev_attempts column to prev_attempts to save space\n",
    "stud_info_rename = {'code_module':'module', 'code_presentation':'presentation', 'final_result':'result', 'studied_credits':'credits', 'age_band':'age', 'num_of_prev_attempts':'attempts', 'highest_education':'education', 'imd_band':'imd'}\n",
    "stud_info = stud_info.rename(columns=stud_info_rename)\n",
    "stud_info = stud_info.replace({'disability':{'Y':True, 'N':False}})"
   ]
  },
  {
   "cell_type": "markdown",
   "id": "434e4748-cf6e-43bb-8cfb-fe803e9a6444",
   "metadata": {},
   "source": [
    "**Data Types**"
   ]
  },
  {
   "cell_type": "code",
   "execution_count": 56,
   "id": "284377a5-1698-4cb2-9d7e-f6ab7b5950b9",
   "metadata": {
    "jupyter": {
     "source_hidden": true
    },
    "tags": [
     "remove_input"
    ]
   },
   "outputs": [
    {
     "data": {
      "text/html": [
       "<style type=\"text/css\">\n",
       "#T_2b5d5_ td.col0 {\n",
       "  font-weight: bold;\n",
       "}\n",
       "</style>\n",
       "<table id=\"T_2b5d5_\">\n",
       "  <thead>\n",
       "    <tr>\n",
       "      <th class=\"col_heading level0 col0\" >index</th>\n",
       "      <th class=\"col_heading level0 col1\" >Type</th>\n",
       "    </tr>\n",
       "  </thead>\n",
       "  <tbody>\n",
       "    <tr>\n",
       "      <td id=\"T_2b5d5_row0_col0\" class=\"data row0 col0\" >module</td>\n",
       "      <td id=\"T_2b5d5_row0_col1\" class=\"data row0 col1\" >object</td>\n",
       "    </tr>\n",
       "    <tr>\n",
       "      <td id=\"T_2b5d5_row1_col0\" class=\"data row1 col0\" >presentation</td>\n",
       "      <td id=\"T_2b5d5_row1_col1\" class=\"data row1 col1\" >object</td>\n",
       "    </tr>\n",
       "    <tr>\n",
       "      <td id=\"T_2b5d5_row2_col0\" class=\"data row2 col0\" >id_student</td>\n",
       "      <td id=\"T_2b5d5_row2_col1\" class=\"data row2 col1\" >int64</td>\n",
       "    </tr>\n",
       "    <tr>\n",
       "      <td id=\"T_2b5d5_row3_col0\" class=\"data row3 col0\" >region</td>\n",
       "      <td id=\"T_2b5d5_row3_col1\" class=\"data row3 col1\" >object</td>\n",
       "    </tr>\n",
       "    <tr>\n",
       "      <td id=\"T_2b5d5_row4_col0\" class=\"data row4 col0\" >imd</td>\n",
       "      <td id=\"T_2b5d5_row4_col1\" class=\"data row4 col1\" >object</td>\n",
       "    </tr>\n",
       "    <tr>\n",
       "      <td id=\"T_2b5d5_row5_col0\" class=\"data row5 col0\" >age</td>\n",
       "      <td id=\"T_2b5d5_row5_col1\" class=\"data row5 col1\" >object</td>\n",
       "    </tr>\n",
       "    <tr>\n",
       "      <td id=\"T_2b5d5_row6_col0\" class=\"data row6 col0\" >gender</td>\n",
       "      <td id=\"T_2b5d5_row6_col1\" class=\"data row6 col1\" >object</td>\n",
       "    </tr>\n",
       "    <tr>\n",
       "      <td id=\"T_2b5d5_row7_col0\" class=\"data row7 col0\" >education</td>\n",
       "      <td id=\"T_2b5d5_row7_col1\" class=\"data row7 col1\" >object</td>\n",
       "    </tr>\n",
       "    <tr>\n",
       "      <td id=\"T_2b5d5_row8_col0\" class=\"data row8 col0\" >disability</td>\n",
       "      <td id=\"T_2b5d5_row8_col1\" class=\"data row8 col1\" >bool</td>\n",
       "    </tr>\n",
       "    <tr>\n",
       "      <td id=\"T_2b5d5_row9_col0\" class=\"data row9 col0\" >attempts</td>\n",
       "      <td id=\"T_2b5d5_row9_col1\" class=\"data row9 col1\" >int64</td>\n",
       "    </tr>\n",
       "    <tr>\n",
       "      <td id=\"T_2b5d5_row10_col0\" class=\"data row10 col0\" >credits</td>\n",
       "      <td id=\"T_2b5d5_row10_col1\" class=\"data row10 col1\" >int64</td>\n",
       "    </tr>\n",
       "    <tr>\n",
       "      <td id=\"T_2b5d5_row11_col0\" class=\"data row11 col0\" >result</td>\n",
       "      <td id=\"T_2b5d5_row11_col1\" class=\"data row11 col1\" >object</td>\n",
       "    </tr>\n",
       "    <tr>\n",
       "      <td id=\"T_2b5d5_row12_col0\" class=\"data row12 col0\" >date_registration</td>\n",
       "      <td id=\"T_2b5d5_row12_col1\" class=\"data row12 col1\" >float64</td>\n",
       "    </tr>\n",
       "    <tr>\n",
       "      <td id=\"T_2b5d5_row13_col0\" class=\"data row13 col0\" >date_unregistration</td>\n",
       "      <td id=\"T_2b5d5_row13_col1\" class=\"data row13 col1\" >float64</td>\n",
       "    </tr>\n",
       "  </tbody>\n",
       "</table>\n"
      ],
      "text/plain": [
       "<pandas.io.formats.style.Styler at 0x1b22422d280>"
      ]
     },
     "execution_count": 56,
     "metadata": {},
     "output_type": "execute_result"
    }
   ],
   "source": [
    "# show student info data types\n",
    "get_dtypes(stud_info)"
   ]
  },
  {
   "cell_type": "markdown",
   "id": "7b71cf15-eb52-4d18-85fa-bdde712629ba",
   "metadata": {},
   "source": [
    "* `id_student` is currently `int64` datatype, but will be changed to `string` as it as categorical.\n",
    "* `object` datatypes can have unexpected behavior and will be recast to `string`\n"
   ]
  },
  {
   "cell_type": "code",
   "execution_count": 57,
   "id": "f5aace78-48dc-4328-aba9-26d30fd18dcb",
   "metadata": {
    "jupyter": {
     "source_hidden": true
    },
    "tags": [
     "remove_cell"
    ]
   },
   "outputs": [
    {
     "data": {
      "text/html": [
       "<style type=\"text/css\">\n",
       "#T_ae6ee_ td.col0 {\n",
       "  font-weight: bold;\n",
       "}\n",
       "</style>\n",
       "<table id=\"T_ae6ee_\">\n",
       "  <thead>\n",
       "    <tr>\n",
       "      <th class=\"col_heading level0 col0\" >index</th>\n",
       "      <th class=\"col_heading level0 col1\" >Type</th>\n",
       "    </tr>\n",
       "  </thead>\n",
       "  <tbody>\n",
       "    <tr>\n",
       "      <td id=\"T_ae6ee_row0_col0\" class=\"data row0 col0\" >module</td>\n",
       "      <td id=\"T_ae6ee_row0_col1\" class=\"data row0 col1\" >string</td>\n",
       "    </tr>\n",
       "    <tr>\n",
       "      <td id=\"T_ae6ee_row1_col0\" class=\"data row1 col0\" >presentation</td>\n",
       "      <td id=\"T_ae6ee_row1_col1\" class=\"data row1 col1\" >string</td>\n",
       "    </tr>\n",
       "    <tr>\n",
       "      <td id=\"T_ae6ee_row2_col0\" class=\"data row2 col0\" >id_student</td>\n",
       "      <td id=\"T_ae6ee_row2_col1\" class=\"data row2 col1\" >string</td>\n",
       "    </tr>\n",
       "    <tr>\n",
       "      <td id=\"T_ae6ee_row3_col0\" class=\"data row3 col0\" >region</td>\n",
       "      <td id=\"T_ae6ee_row3_col1\" class=\"data row3 col1\" >string</td>\n",
       "    </tr>\n",
       "    <tr>\n",
       "      <td id=\"T_ae6ee_row4_col0\" class=\"data row4 col0\" >imd</td>\n",
       "      <td id=\"T_ae6ee_row4_col1\" class=\"data row4 col1\" >string</td>\n",
       "    </tr>\n",
       "    <tr>\n",
       "      <td id=\"T_ae6ee_row5_col0\" class=\"data row5 col0\" >age</td>\n",
       "      <td id=\"T_ae6ee_row5_col1\" class=\"data row5 col1\" >string</td>\n",
       "    </tr>\n",
       "    <tr>\n",
       "      <td id=\"T_ae6ee_row6_col0\" class=\"data row6 col0\" >gender</td>\n",
       "      <td id=\"T_ae6ee_row6_col1\" class=\"data row6 col1\" >string</td>\n",
       "    </tr>\n",
       "    <tr>\n",
       "      <td id=\"T_ae6ee_row7_col0\" class=\"data row7 col0\" >education</td>\n",
       "      <td id=\"T_ae6ee_row7_col1\" class=\"data row7 col1\" >string</td>\n",
       "    </tr>\n",
       "    <tr>\n",
       "      <td id=\"T_ae6ee_row8_col0\" class=\"data row8 col0\" >disability</td>\n",
       "      <td id=\"T_ae6ee_row8_col1\" class=\"data row8 col1\" >boolean</td>\n",
       "    </tr>\n",
       "    <tr>\n",
       "      <td id=\"T_ae6ee_row9_col0\" class=\"data row9 col0\" >attempts</td>\n",
       "      <td id=\"T_ae6ee_row9_col1\" class=\"data row9 col1\" >Int64</td>\n",
       "    </tr>\n",
       "    <tr>\n",
       "      <td id=\"T_ae6ee_row10_col0\" class=\"data row10 col0\" >credits</td>\n",
       "      <td id=\"T_ae6ee_row10_col1\" class=\"data row10 col1\" >Int64</td>\n",
       "    </tr>\n",
       "    <tr>\n",
       "      <td id=\"T_ae6ee_row11_col0\" class=\"data row11 col0\" >result</td>\n",
       "      <td id=\"T_ae6ee_row11_col1\" class=\"data row11 col1\" >string</td>\n",
       "    </tr>\n",
       "    <tr>\n",
       "      <td id=\"T_ae6ee_row12_col0\" class=\"data row12 col0\" >date_registration</td>\n",
       "      <td id=\"T_ae6ee_row12_col1\" class=\"data row12 col1\" >Int64</td>\n",
       "    </tr>\n",
       "    <tr>\n",
       "      <td id=\"T_ae6ee_row13_col0\" class=\"data row13 col0\" >date_unregistration</td>\n",
       "      <td id=\"T_ae6ee_row13_col1\" class=\"data row13 col1\" >Int64</td>\n",
       "    </tr>\n",
       "  </tbody>\n",
       "</table>\n"
      ],
      "text/plain": [
       "<pandas.io.formats.style.Styler at 0x1b2459edcd0>"
      ]
     },
     "execution_count": 57,
     "metadata": {},
     "output_type": "execute_result"
    }
   ],
   "source": [
    "# changing id_student to the object data type\n",
    "stud_info['id_student'] = stud_info['id_student'].astype(str)\n",
    "stud_info = stud_info.convert_dtypes()\n",
    "get_dtypes(stud_info)"
   ]
  },
  {
   "cell_type": "markdown",
   "id": "a9bff32a-0995-4135-87c7-195ee15cf083",
   "metadata": {},
   "source": [
    "**Null Values**"
   ]
  },
  {
   "cell_type": "code",
   "execution_count": 58,
   "id": "d5afafad-68eb-462a-aadb-024459790296",
   "metadata": {
    "jupyter": {
     "source_hidden": true
    },
    "tags": [
     "remove_input"
    ]
   },
   "outputs": [
    {
     "data": {
      "text/html": [
       "<style type=\"text/css\">\n",
       "#T_77d25_ td.col0 {\n",
       "  font-weight: bold;\n",
       "}\n",
       "</style>\n",
       "<table id=\"T_77d25_\">\n",
       "  <thead>\n",
       "    <tr>\n",
       "      <th class=\"col_heading level0 col0\" >index</th>\n",
       "      <th class=\"col_heading level0 col1\" >Null Values</th>\n",
       "    </tr>\n",
       "  </thead>\n",
       "  <tbody>\n",
       "    <tr>\n",
       "      <td id=\"T_77d25_row0_col0\" class=\"data row0 col0\" >module</td>\n",
       "      <td id=\"T_77d25_row0_col1\" class=\"data row0 col1\" >0</td>\n",
       "    </tr>\n",
       "    <tr>\n",
       "      <td id=\"T_77d25_row1_col0\" class=\"data row1 col0\" >presentation</td>\n",
       "      <td id=\"T_77d25_row1_col1\" class=\"data row1 col1\" >0</td>\n",
       "    </tr>\n",
       "    <tr>\n",
       "      <td id=\"T_77d25_row2_col0\" class=\"data row2 col0\" >id_student</td>\n",
       "      <td id=\"T_77d25_row2_col1\" class=\"data row2 col1\" >0</td>\n",
       "    </tr>\n",
       "    <tr>\n",
       "      <td id=\"T_77d25_row3_col0\" class=\"data row3 col0\" >region</td>\n",
       "      <td id=\"T_77d25_row3_col1\" class=\"data row3 col1\" >0</td>\n",
       "    </tr>\n",
       "    <tr>\n",
       "      <td id=\"T_77d25_row4_col0\" class=\"data row4 col0\" >imd</td>\n",
       "      <td id=\"T_77d25_row4_col1\" class=\"data row4 col1\" >1111</td>\n",
       "    </tr>\n",
       "    <tr>\n",
       "      <td id=\"T_77d25_row5_col0\" class=\"data row5 col0\" >age</td>\n",
       "      <td id=\"T_77d25_row5_col1\" class=\"data row5 col1\" >0</td>\n",
       "    </tr>\n",
       "    <tr>\n",
       "      <td id=\"T_77d25_row6_col0\" class=\"data row6 col0\" >gender</td>\n",
       "      <td id=\"T_77d25_row6_col1\" class=\"data row6 col1\" >0</td>\n",
       "    </tr>\n",
       "    <tr>\n",
       "      <td id=\"T_77d25_row7_col0\" class=\"data row7 col0\" >education</td>\n",
       "      <td id=\"T_77d25_row7_col1\" class=\"data row7 col1\" >0</td>\n",
       "    </tr>\n",
       "    <tr>\n",
       "      <td id=\"T_77d25_row8_col0\" class=\"data row8 col0\" >disability</td>\n",
       "      <td id=\"T_77d25_row8_col1\" class=\"data row8 col1\" >0</td>\n",
       "    </tr>\n",
       "    <tr>\n",
       "      <td id=\"T_77d25_row9_col0\" class=\"data row9 col0\" >attempts</td>\n",
       "      <td id=\"T_77d25_row9_col1\" class=\"data row9 col1\" >0</td>\n",
       "    </tr>\n",
       "    <tr>\n",
       "      <td id=\"T_77d25_row10_col0\" class=\"data row10 col0\" >credits</td>\n",
       "      <td id=\"T_77d25_row10_col1\" class=\"data row10 col1\" >0</td>\n",
       "    </tr>\n",
       "    <tr>\n",
       "      <td id=\"T_77d25_row11_col0\" class=\"data row11 col0\" >result</td>\n",
       "      <td id=\"T_77d25_row11_col1\" class=\"data row11 col1\" >0</td>\n",
       "    </tr>\n",
       "    <tr>\n",
       "      <td id=\"T_77d25_row12_col0\" class=\"data row12 col0\" >date_registration</td>\n",
       "      <td id=\"T_77d25_row12_col1\" class=\"data row12 col1\" >45</td>\n",
       "    </tr>\n",
       "    <tr>\n",
       "      <td id=\"T_77d25_row13_col0\" class=\"data row13 col0\" >date_unregistration</td>\n",
       "      <td id=\"T_77d25_row13_col1\" class=\"data row13 col1\" >22521</td>\n",
       "    </tr>\n",
       "  </tbody>\n",
       "</table>\n"
      ],
      "text/plain": [
       "<pandas.io.formats.style.Styler at 0x1b2263d32b0>"
      ]
     },
     "execution_count": 58,
     "metadata": {},
     "output_type": "execute_result"
    }
   ],
   "source": [
    "null_vals(stud_info)"
   ]
  },
  {
   "cell_type": "code",
   "execution_count": 59,
   "id": "1db313a5-1bdf-42c6-9a31-cbe57d9b2c21",
   "metadata": {
    "tags": [
     "remove_input"
    ]
   },
   "outputs": [
    {
     "data": {
      "text/markdown": [
       "\n",
       "* The `imd` variable has 1,111 null values. For these, we will find the most common imd band for each region and assert that as the value.\n",
       "* We have 45 null values for date_registration, and no mention of this in the dataset documentation, so we will treat this as missing data.\n",
       "* There are 22,521 null values for `date_unregistration` which represent the students that did not withdraw from the course.\n",
       "    * Not every withdrawn student has a date that they unregistered. There are 93 entries of students with a `Withdrawn` result but a `date_unregstration` of `<NA>`"
      ],
      "text/plain": [
       "<IPython.core.display.Markdown object>"
      ]
     },
     "execution_count": 59,
     "metadata": {},
     "output_type": "execute_result"
    }
   ],
   "source": [
    "# store sum of imd null values\n",
    "imd_null = stud_info['imd'].isnull().sum()\n",
    "\n",
    "# store the sum of null values of date_registration\n",
    "null_registration = student_registration['date_registration'].isnull().sum()\n",
    "\n",
    "# store the sum of null values of date_unregistration\n",
    "null_unregistration = student_registration['date_unregistration'].isnull().sum()\n",
    "\n",
    "# locate where stud_info has a result of withdrawn and a date_unregistration of NA\n",
    "withdrawn_na = stud_info.loc[(stud_info['result'] == 'Withdrawn') & (stud_info['date_unregistration'].isna())]\n",
    "\n",
    "\n",
    "md(f'''\n",
    "* The `imd` variable has {\"{:,}\".format(imd_null)} null values. For these, we will find the most common imd band for each region and assert that as the value.\n",
    "* We have {null_registration} null values for date_registration, and no mention of this in the dataset documentation, so we will treat this as missing data.\n",
    "* There are {\"{:,}\".format(null_unregistration)} null values for `date_unregistration` which represent the students that did not withdraw from the course.\n",
    "    * Not every withdrawn student has a date that they unregistered. There are {len(withdrawn_na)} entries of students with a `Withdrawn` result but a `date_unregstration` of `<NA>`''')"
   ]
  },
  {
   "cell_type": "code",
   "execution_count": 60,
   "id": "a2af54c2-4aaf-4388-96ba-9201669bdb80",
   "metadata": {
    "jupyter": {
     "source_hidden": true
    },
    "tags": [
     "remove_cell"
    ]
   },
   "outputs": [],
   "source": [
    "# initiate a dictionary for {region:imd}\n",
    "common_imds = {}\n",
    "\n",
    "# iterate through regions list found above\n",
    "for i in regions:\n",
    "    # locate the imds for each region in stud_info\n",
    "    region_imds = stud_info.loc[stud_info['region'] == i, 'imd']\n",
    "    # get the value_counts for the regions imds and add the highest count to a dict keyed by region\n",
    "    common_imds[i] = region_imds.value_counts().idxmax()\n",
    "\n",
    "# iterate through a sub dataframe of stud_info where imd is NA\n",
    "for index, row in stud_info[stud_info['imd'].isna()].iterrows():\n",
    "    # set the imd at the index of the sub dataframe to the key of the region in the dict in the main dataframe\n",
    "    stud_info.at[index, 'imd'] = common_imds[row['region']]"
   ]
  },
  {
   "cell_type": "markdown",
   "id": "3c7117eb-3a57-4735-b7c3-17b2101032c4",
   "metadata": {},
   "source": [
    "**Duplicate Values**"
   ]
  },
  {
   "cell_type": "code",
   "execution_count": 61,
   "id": "c6b0c86c-1eb9-47dc-ae26-04858b8b63dc",
   "metadata": {
    "jupyter": {
     "source_hidden": true
    },
    "tags": [
     "remove_input"
    ]
   },
   "outputs": [
    {
     "data": {
      "text/markdown": [
       "There are no Duplicate Values"
      ],
      "text/plain": [
       "<IPython.core.display.Markdown object>"
      ]
     },
     "execution_count": 61,
     "metadata": {},
     "output_type": "execute_result"
    }
   ],
   "source": [
    "# show duplicate values in student info if any\n",
    "get_dupes(stud_info)"
   ]
  },
  {
   "cell_type": "markdown",
   "id": "22de507f-e475-4e22-afbd-dc3fd9393de5",
   "metadata": {},
   "source": [
    "**Unique Counts**"
   ]
  },
  {
   "cell_type": "code",
   "execution_count": 62,
   "id": "8f2f48bf-d9fe-4964-8807-eda67574843c",
   "metadata": {
    "jupyter": {
     "source_hidden": true
    },
    "tags": [
     "remove_input"
    ]
   },
   "outputs": [
    {
     "data": {
      "text/html": [
       "<style type=\"text/css\">\n",
       "#T_be60d_ td.col0 {\n",
       "  font-weight: bold;\n",
       "}\n",
       "</style>\n",
       "<table id=\"T_be60d_\">\n",
       "  <thead>\n",
       "    <tr>\n",
       "      <th class=\"col_heading level0 col0\" >index</th>\n",
       "      <th class=\"col_heading level0 col1\" >Count</th>\n",
       "    </tr>\n",
       "  </thead>\n",
       "  <tbody>\n",
       "    <tr>\n",
       "      <td id=\"T_be60d_row0_col0\" class=\"data row0 col0\" >module</td>\n",
       "      <td id=\"T_be60d_row0_col1\" class=\"data row0 col1\" >7</td>\n",
       "    </tr>\n",
       "    <tr>\n",
       "      <td id=\"T_be60d_row1_col0\" class=\"data row1 col0\" >presentation</td>\n",
       "      <td id=\"T_be60d_row1_col1\" class=\"data row1 col1\" >4</td>\n",
       "    </tr>\n",
       "    <tr>\n",
       "      <td id=\"T_be60d_row2_col0\" class=\"data row2 col0\" >id_student</td>\n",
       "      <td id=\"T_be60d_row2_col1\" class=\"data row2 col1\" >28785</td>\n",
       "    </tr>\n",
       "    <tr>\n",
       "      <td id=\"T_be60d_row3_col0\" class=\"data row3 col0\" >region</td>\n",
       "      <td id=\"T_be60d_row3_col1\" class=\"data row3 col1\" >13</td>\n",
       "    </tr>\n",
       "    <tr>\n",
       "      <td id=\"T_be60d_row4_col0\" class=\"data row4 col0\" >imd</td>\n",
       "      <td id=\"T_be60d_row4_col1\" class=\"data row4 col1\" >10</td>\n",
       "    </tr>\n",
       "    <tr>\n",
       "      <td id=\"T_be60d_row5_col0\" class=\"data row5 col0\" >age</td>\n",
       "      <td id=\"T_be60d_row5_col1\" class=\"data row5 col1\" >3</td>\n",
       "    </tr>\n",
       "    <tr>\n",
       "      <td id=\"T_be60d_row6_col0\" class=\"data row6 col0\" >gender</td>\n",
       "      <td id=\"T_be60d_row6_col1\" class=\"data row6 col1\" >2</td>\n",
       "    </tr>\n",
       "    <tr>\n",
       "      <td id=\"T_be60d_row7_col0\" class=\"data row7 col0\" >education</td>\n",
       "      <td id=\"T_be60d_row7_col1\" class=\"data row7 col1\" >5</td>\n",
       "    </tr>\n",
       "    <tr>\n",
       "      <td id=\"T_be60d_row8_col0\" class=\"data row8 col0\" >disability</td>\n",
       "      <td id=\"T_be60d_row8_col1\" class=\"data row8 col1\" >2</td>\n",
       "    </tr>\n",
       "    <tr>\n",
       "      <td id=\"T_be60d_row9_col0\" class=\"data row9 col0\" >attempts</td>\n",
       "      <td id=\"T_be60d_row9_col1\" class=\"data row9 col1\" >7</td>\n",
       "    </tr>\n",
       "    <tr>\n",
       "      <td id=\"T_be60d_row10_col0\" class=\"data row10 col0\" >credits</td>\n",
       "      <td id=\"T_be60d_row10_col1\" class=\"data row10 col1\" >61</td>\n",
       "    </tr>\n",
       "    <tr>\n",
       "      <td id=\"T_be60d_row11_col0\" class=\"data row11 col0\" >result</td>\n",
       "      <td id=\"T_be60d_row11_col1\" class=\"data row11 col1\" >4</td>\n",
       "    </tr>\n",
       "    <tr>\n",
       "      <td id=\"T_be60d_row12_col0\" class=\"data row12 col0\" >date_registration</td>\n",
       "      <td id=\"T_be60d_row12_col1\" class=\"data row12 col1\" >332</td>\n",
       "    </tr>\n",
       "    <tr>\n",
       "      <td id=\"T_be60d_row13_col0\" class=\"data row13 col0\" >date_unregistration</td>\n",
       "      <td id=\"T_be60d_row13_col1\" class=\"data row13 col1\" >416</td>\n",
       "    </tr>\n",
       "  </tbody>\n",
       "</table>\n"
      ],
      "text/plain": [
       "<pandas.io.formats.style.Styler at 0x1b245797760>"
      ]
     },
     "execution_count": 62,
     "metadata": {},
     "output_type": "execute_result"
    }
   ],
   "source": [
    "# Get number of unique values per variable in student info\n",
    "count_unique(stud_info)"
   ]
  },
  {
   "cell_type": "code",
   "execution_count": 63,
   "id": "a84f532d-0659-4b73-b1e2-3cd9b60349f7",
   "metadata": {},
   "outputs": [],
   "source": [
    "# store count of total student ids\n",
    "total_students = stud_info['id_student'].count()\n",
    "\n",
    "# store count of unique student ids\n",
    "unique_students = stud_info['id_student'].nunique()\n",
    "\n",
    "# retrieve all records from students in stud_info whose id is duplicated\n",
    "dupe_students = stud_info[stud_info.duplicated(subset=['id_student'], keep=False)]\n",
    "# convert the datatypes back in dupe_students\n",
    "dupe_students = dupe_students.astype({'id_student':str})\n",
    "dupe_students = dupe_students.convert_dtypes()\n",
    "\n",
    "# subset those who took multiple modules in the same presentation by finding duplicate id_students and presentations\n",
    "mult_mods = dupe_students[dupe_students.duplicated(subset=['id_student', 'presentation'], keep=False)]\n",
    "\n",
    "# subset those who took multiple attempts by finding duplicate id_students and modules\n",
    "mult_attempt = dupe_students[dupe_students.duplicated(subset=['module','id_student'], keep=False)]\n",
    "\n",
    "# merge students with multiple attempts and who took multiple modules to find the students we have values for\n",
    "merged_attempt_mods = mult_attempt.merge(mult_mods, how='outer', on=[i for i in mult_attempt.columns])\n",
    "\n",
    "# find students that are not in mult_mods or mult_attempt but still duplicated\n",
    "mult_mods_pres = pd.concat([merged_attempt_mods, dupe_students]).drop_duplicates(keep=False)\n",
    "\n",
    "# append the multiple module/presentation students to mult_mods\n",
    "mult_mods = mult_mods.append(mult_mods_pres)"
   ]
  },
  {
   "cell_type": "code",
   "execution_count": 79,
   "id": "5e4a51a5-1d47-4cee-85ff-d775be11ebd5",
   "metadata": {
    "tags": [
     "remove_input"
    ]
   },
   "outputs": [
    {
     "data": {
      "text/markdown": [
       "\n",
       "* There are 32,593 entries for students but only 28,785 unique student IDs.\n",
       "* 2,479 student IDs appear multiple times due to students taking multiple modules\n",
       "* 1,259 student IDs appear multiple times due to students attempting the same module more than once.\n"
      ],
      "text/plain": [
       "<IPython.core.display.Markdown object>"
      ]
     },
     "execution_count": 79,
     "metadata": {},
     "output_type": "execute_result"
    }
   ],
   "source": [
    "md(f'''\n",
    "* There are {\"{:,}\".format(total_students)} entries for students but only {\"{:,}\".format(unique_students)} unique student IDs.\n",
    "* {\"{:,}\".format(mult_mods['id_student'].nunique())} student IDs appear multiple times due to students taking multiple modules\n",
    "* {\"{:,}\".format(mult_attempt['id_student'].nunique())} student IDs appear multiple times due to students attempting the same module more than once.\n",
    "''')"
   ]
  },
  {
   "cell_type": "markdown",
   "id": "f24cab70-bc40-46f2-83e9-2c0e89601a44",
   "metadata": {},
   "source": [
    "**Unique Categorical Values**"
   ]
  },
  {
   "cell_type": "code",
   "execution_count": 21,
   "id": "1c0a70d4-b84f-4108-96b0-381d2f4646fd",
   "metadata": {
    "tags": [
     "remove_input"
    ]
   },
   "outputs": [
    {
     "data": {
      "text/html": [
       "<style type=\"text/css\">\n",
       "#T_5389a_ td.col0 {\n",
       "  font-weight: bold;\n",
       "}\n",
       "</style>\n",
       "<table id=\"T_5389a_\">\n",
       "  <thead>\n",
       "    <tr>\n",
       "      <th class=\"col_heading level0 col0\" >index</th>\n",
       "      <th class=\"col_heading level0 col1\" >Values</th>\n",
       "    </tr>\n",
       "  </thead>\n",
       "  <tbody>\n",
       "    <tr>\n",
       "      <td id=\"T_5389a_row0_col0\" class=\"data row0 col0\" >module</td>\n",
       "      <td id=\"T_5389a_row0_col1\" class=\"data row0 col1\" >['AAA', 'BBB', 'CCC', 'DDD', 'EEE', 'FFF', 'GGG']</td>\n",
       "    </tr>\n",
       "    <tr>\n",
       "      <td id=\"T_5389a_row1_col0\" class=\"data row1 col0\" >presentation</td>\n",
       "      <td id=\"T_5389a_row1_col1\" class=\"data row1 col1\" >['2013J', '2014J', '2013B', '2014B']</td>\n",
       "    </tr>\n",
       "    <tr>\n",
       "      <td id=\"T_5389a_row2_col0\" class=\"data row2 col0\" >region</td>\n",
       "      <td id=\"T_5389a_row2_col1\" class=\"data row2 col1\" >['East Anglian Region', 'Scotland', 'North Western Region', 'South East Region', 'West Midlands Region', 'Wales', 'North Region', 'South Region', 'Ireland', 'South West Region', 'East Midlands Region', 'Yorkshire Region', 'London Region']</td>\n",
       "    </tr>\n",
       "    <tr>\n",
       "      <td id=\"T_5389a_row3_col0\" class=\"data row3 col0\" >imd</td>\n",
       "      <td id=\"T_5389a_row3_col1\" class=\"data row3 col1\" >['90-100%', '20-30%', '30-40%', '50-60%', '80-90%', '70-80%', <NA>, '60-70%', '40-50%', '10-20', '0-10%']</td>\n",
       "    </tr>\n",
       "    <tr>\n",
       "      <td id=\"T_5389a_row4_col0\" class=\"data row4 col0\" >age</td>\n",
       "      <td id=\"T_5389a_row4_col1\" class=\"data row4 col1\" >['55<=', '35-55', '0-35']</td>\n",
       "    </tr>\n",
       "    <tr>\n",
       "      <td id=\"T_5389a_row5_col0\" class=\"data row5 col0\" >gender</td>\n",
       "      <td id=\"T_5389a_row5_col1\" class=\"data row5 col1\" >['M', 'F']</td>\n",
       "    </tr>\n",
       "    <tr>\n",
       "      <td id=\"T_5389a_row6_col0\" class=\"data row6 col0\" >education</td>\n",
       "      <td id=\"T_5389a_row6_col1\" class=\"data row6 col1\" >['HE Qualification', 'A Level or Equivalent', 'Lower Than A Level', 'Post Graduate Qualification', 'No Formal quals']</td>\n",
       "    </tr>\n",
       "    <tr>\n",
       "      <td id=\"T_5389a_row7_col0\" class=\"data row7 col0\" >result</td>\n",
       "      <td id=\"T_5389a_row7_col1\" class=\"data row7 col1\" >['Pass', 'Withdrawn', 'Fail', 'Distinction']</td>\n",
       "    </tr>\n",
       "  </tbody>\n",
       "</table>\n"
      ],
      "text/plain": [
       "<pandas.io.formats.style.Styler at 0x1ff04b0ff70>"
      ]
     },
     "execution_count": 21,
     "metadata": {},
     "output_type": "execute_result"
    }
   ],
   "source": [
    "unique_vals(stud_info)"
   ]
  },
  {
   "cell_type": "markdown",
   "id": "27330c6e-f2b7-4072-bc8b-87ebef9a4af0",
   "metadata": {},
   "source": [
    "In imd_band the % sign is missing in 10-20. We will add that for consistency and clarity"
   ]
  },
  {
   "cell_type": "code",
   "execution_count": 80,
   "id": "adc531d4-82f1-49b8-9fce-4ea954f1d39f",
   "metadata": {
    "tags": [
     "remove_input"
    ]
   },
   "outputs": [
    {
     "data": {
      "text/html": [
       "<div>\n",
       "<style scoped>\n",
       "    .dataframe tbody tr th:only-of-type {\n",
       "        vertical-align: middle;\n",
       "    }\n",
       "\n",
       "    .dataframe tbody tr th {\n",
       "        vertical-align: top;\n",
       "    }\n",
       "\n",
       "    .dataframe thead th {\n",
       "        text-align: right;\n",
       "    }\n",
       "</style>\n",
       "<table border=\"1\" class=\"dataframe\">\n",
       "  <thead>\n",
       "    <tr style=\"text-align: right;\">\n",
       "      <th></th>\n",
       "      <th>imd</th>\n",
       "    </tr>\n",
       "  </thead>\n",
       "  <tbody>\n",
       "    <tr>\n",
       "      <th>0</th>\n",
       "      <td>0-10%</td>\n",
       "    </tr>\n",
       "    <tr>\n",
       "      <th>1</th>\n",
       "      <td>10-20%</td>\n",
       "    </tr>\n",
       "    <tr>\n",
       "      <th>2</th>\n",
       "      <td>20-30%</td>\n",
       "    </tr>\n",
       "    <tr>\n",
       "      <th>3</th>\n",
       "      <td>30-40%</td>\n",
       "    </tr>\n",
       "    <tr>\n",
       "      <th>4</th>\n",
       "      <td>40-50%</td>\n",
       "    </tr>\n",
       "    <tr>\n",
       "      <th>5</th>\n",
       "      <td>50-60%</td>\n",
       "    </tr>\n",
       "    <tr>\n",
       "      <th>6</th>\n",
       "      <td>60-70%</td>\n",
       "    </tr>\n",
       "    <tr>\n",
       "      <th>7</th>\n",
       "      <td>70-80%</td>\n",
       "    </tr>\n",
       "    <tr>\n",
       "      <th>8</th>\n",
       "      <td>80-90%</td>\n",
       "    </tr>\n",
       "    <tr>\n",
       "      <th>9</th>\n",
       "      <td>90-100%</td>\n",
       "    </tr>\n",
       "  </tbody>\n",
       "</table>\n",
       "</div>"
      ],
      "text/plain": [
       "       imd\n",
       "0    0-10%\n",
       "1   10-20%\n",
       "2   20-30%\n",
       "3   30-40%\n",
       "4   40-50%\n",
       "5   50-60%\n",
       "6   60-70%\n",
       "7   70-80%\n",
       "8   80-90%\n",
       "9  90-100%"
      ]
     },
     "execution_count": 80,
     "metadata": {},
     "output_type": "execute_result"
    }
   ],
   "source": [
    "# changing all 10-20 values in stud_info imd_band to 10-20% for consistency's sake\n",
    "stud_info.loc[stud_info['imd'] == '10-20', 'imd'] = '10-20%'\n",
    "# making sure it updated\n",
    "dataframe(stud_info['imd'].explode().unique(), columns=['imd']).sort_values(by='imd').reset_index(drop=True)"
   ]
  },
  {
   "cell_type": "markdown",
   "id": "23c9af10-1889-4bf2-9e0d-4f6bace1109b",
   "metadata": {},
   "source": [
    "**Results**"
   ]
  },
  {
   "cell_type": "code",
   "execution_count": 81,
   "id": "1a0ae3a8-c592-441f-853d-8e9ef1ab6d30",
   "metadata": {
    "tags": [
     "remove_input"
    ]
   },
   "outputs": [
    {
     "data": {
      "text/html": [
       "<div>\n",
       "<style scoped>\n",
       "    .dataframe tbody tr th:only-of-type {\n",
       "        vertical-align: middle;\n",
       "    }\n",
       "\n",
       "    .dataframe tbody tr th {\n",
       "        vertical-align: top;\n",
       "    }\n",
       "\n",
       "    .dataframe thead th {\n",
       "        text-align: right;\n",
       "    }\n",
       "</style>\n",
       "<table border=\"1\" class=\"dataframe\">\n",
       "  <thead>\n",
       "    <tr style=\"text-align: right;\">\n",
       "      <th></th>\n",
       "      <th>result</th>\n",
       "    </tr>\n",
       "  </thead>\n",
       "  <tbody>\n",
       "    <tr>\n",
       "      <th>Pass</th>\n",
       "      <td>0.379253</td>\n",
       "    </tr>\n",
       "    <tr>\n",
       "      <th>Withdrawn</th>\n",
       "      <td>0.311601</td>\n",
       "    </tr>\n",
       "    <tr>\n",
       "      <th>Fail</th>\n",
       "      <td>0.216365</td>\n",
       "    </tr>\n",
       "    <tr>\n",
       "      <th>Distinction</th>\n",
       "      <td>0.092781</td>\n",
       "    </tr>\n",
       "  </tbody>\n",
       "</table>\n",
       "</div>"
      ],
      "text/plain": [
       "               result\n",
       "Pass         0.379253\n",
       "Withdrawn    0.311601\n",
       "Fail         0.216365\n",
       "Distinction  0.092781"
      ]
     },
     "execution_count": 81,
     "metadata": {},
     "output_type": "execute_result"
    }
   ],
   "source": [
    "result_freqs = stud_info['result'].value_counts(normalize=True)\n",
    "dataframe(result_freqs)"
   ]
  },
  {
   "cell_type": "markdown",
   "id": "440ab28f-668a-4e82-95a6-f69e092c8e79",
   "metadata": {},
   "source": [
    "Above is a frequency table of overall student course results."
   ]
  },
  {
   "cell_type": "code",
   "execution_count": 82,
   "id": "d3ae3464-e98e-4d56-91d6-6a9f4777bba1",
   "metadata": {
    "tags": []
   },
   "outputs": [
    {
     "data": {
      "image/png": "[encoded data removed]",
      "text/plain": [
       "<Figure size 432x288 with 1 Axes>"
      ]
     },
     "metadata": {},
     "output_type": "display_data"
    }
   ],
   "source": [
    "pass_perc = round((result_freqs[0] * 100), 1)\n",
    "withdraw_perc = round((result_freqs[1] * 100), 1)\n",
    "fail_perc = round((result_freqs[2] * 100), 1)\n",
    "distinct_perc = round((result_freqs[3] * 100), 1)\n",
    "results_percs = [pass_perc, fail_perc, withdraw_perc, distinct_perc]\n",
    "\n",
    "labels = results\n",
    "sizes = [15, 30, 45, 10]\n",
    "\n",
    "fig1, ax1 = plt.subplots()\n",
    "ax1.pie(results_percs, labels=results, autopct='%1.1f%%', startangle=90)\n",
    "ax1.axis('equal')  # Equal aspect ratio ensures that pie is drawn as a circle.\n",
    "\n",
    "plt.show()\n"
   ]
  },
  {
   "cell_type": "code",
   "execution_count": 83,
   "id": "28093731-fec4-4826-b9e2-64e1341ee6a0",
   "metadata": {
    "tags": []
   },
   "outputs": [
    {
     "data": {
      "text/markdown": [
       "\n",
       "Here we can see that we have a negative result of withdrawing or failing **52.8%** of the time,\n",
       "with **47.2%** of students achieving a positive result of passing or passing with distinction.\n"
      ],
      "text/plain": [
       "<IPython.core.display.Markdown object>"
      ]
     },
     "execution_count": 83,
     "metadata": {},
     "output_type": "execute_result"
    }
   ],
   "source": [
    "neg_result = fail_perc + withdraw_perc\n",
    "pos_result = pass_perc + distinct_perc\n",
    "md(f'''\n",
    "Here we can see that we have a negative result of withdrawing or failing **{neg_result}%** of the time,\n",
    "with **{pos_result}%** of students achieving a positive result of passing or passing with distinction.\n",
    "''')"
   ]
  },
  {
   "cell_type": "markdown",
   "id": "33021991-b346-4bee-9a22-d0eafed344de",
   "metadata": {
    "jupyter": {
     "source_hidden": true
    },
    "tags": []
   },
   "source": [
    "**Numerical Values**"
   ]
  },
  {
   "cell_type": "code",
   "execution_count": 26,
   "id": "92fb8a11-86e1-4936-8773-ba2c27a9738a",
   "metadata": {
    "tags": [
     "remove_input"
    ]
   },
   "outputs": [
    {
     "data": {
      "text/html": [
       "<div>\n",
       "<style scoped>\n",
       "    .dataframe tbody tr th:only-of-type {\n",
       "        vertical-align: middle;\n",
       "    }\n",
       "\n",
       "    .dataframe tbody tr th {\n",
       "        vertical-align: top;\n",
       "    }\n",
       "\n",
       "    .dataframe thead th {\n",
       "        text-align: right;\n",
       "    }\n",
       "</style>\n",
       "<table border=\"1\" class=\"dataframe\">\n",
       "  <thead>\n",
       "    <tr style=\"text-align: right;\">\n",
       "      <th></th>\n",
       "      <th>attempts</th>\n",
       "      <th>credits</th>\n",
       "      <th>date_registration</th>\n",
       "      <th>date_unregistration</th>\n",
       "    </tr>\n",
       "  </thead>\n",
       "  <tbody>\n",
       "    <tr>\n",
       "      <th>count</th>\n",
       "      <td>32593.0</td>\n",
       "      <td>32593.0</td>\n",
       "      <td>32548.0</td>\n",
       "      <td>10072.0</td>\n",
       "    </tr>\n",
       "    <tr>\n",
       "      <th>mean</th>\n",
       "      <td>0.2</td>\n",
       "      <td>79.8</td>\n",
       "      <td>-69.4</td>\n",
       "      <td>49.8</td>\n",
       "    </tr>\n",
       "    <tr>\n",
       "      <th>std</th>\n",
       "      <td>0.5</td>\n",
       "      <td>41.1</td>\n",
       "      <td>49.3</td>\n",
       "      <td>82.5</td>\n",
       "    </tr>\n",
       "    <tr>\n",
       "      <th>min</th>\n",
       "      <td>0.0</td>\n",
       "      <td>30.0</td>\n",
       "      <td>-322.0</td>\n",
       "      <td>-365.0</td>\n",
       "    </tr>\n",
       "    <tr>\n",
       "      <th>25%</th>\n",
       "      <td>0.0</td>\n",
       "      <td>60.0</td>\n",
       "      <td>-100.0</td>\n",
       "      <td>-2.0</td>\n",
       "    </tr>\n",
       "    <tr>\n",
       "      <th>50%</th>\n",
       "      <td>0.0</td>\n",
       "      <td>60.0</td>\n",
       "      <td>-57.0</td>\n",
       "      <td>27.0</td>\n",
       "    </tr>\n",
       "    <tr>\n",
       "      <th>75%</th>\n",
       "      <td>0.0</td>\n",
       "      <td>120.0</td>\n",
       "      <td>-29.0</td>\n",
       "      <td>109.0</td>\n",
       "    </tr>\n",
       "    <tr>\n",
       "      <th>max</th>\n",
       "      <td>6.0</td>\n",
       "      <td>655.0</td>\n",
       "      <td>167.0</td>\n",
       "      <td>444.0</td>\n",
       "    </tr>\n",
       "  </tbody>\n",
       "</table>\n",
       "</div>"
      ],
      "text/plain": [
       "       attempts  credits  date_registration  date_unregistration\n",
       "count   32593.0  32593.0            32548.0              10072.0\n",
       "mean        0.2     79.8              -69.4                 49.8\n",
       "std         0.5     41.1               49.3                 82.5\n",
       "min         0.0     30.0             -322.0               -365.0\n",
       "25%         0.0     60.0             -100.0                 -2.0\n",
       "50%         0.0     60.0              -57.0                 27.0\n",
       "75%         0.0    120.0              -29.0                109.0\n",
       "max         6.0    655.0              167.0                444.0"
      ]
     },
     "execution_count": 26,
     "metadata": {},
     "output_type": "execute_result"
    }
   ],
   "source": [
    "# show statistical breakdown of numerical values in student info\n",
    "stud_info.describe(include='int64').round(1)"
   ]
  },
  {
   "cell_type": "code",
   "execution_count": 28,
   "id": "7c4d994e-d797-4291-9304-455d74bda54a",
   "metadata": {
    "tags": [
     "remove_input"
    ]
   },
   "outputs": [
    {
     "data": {
      "text/markdown": [
       "\n",
       "* Most students do not have a previous attempt, but there is a high of 6 attempts.\n",
       "    * We can only have data for up to two of the students attempts since we only have two years worth of data.\n",
       "* The maximum amount of credits a student took during the module was 655\n",
       "    * This over twenty times the minimum of 30 credits.\n",
       "* It is unknown how these courses were weighted, but this amount of credits at the same time may have influenced student success\n",
       "* There are 10,072 values for of date_unregistration which represents the number of students who withdrew from the course.\n",
       "* The earliest date_unregistration date is -365.0 days before the course began, which means this student did not make it to the first day. \n"
      ],
      "text/plain": [
       "<IPython.core.display.Markdown object>"
      ]
     },
     "execution_count": 28,
     "metadata": {},
     "output_type": "execute_result"
    }
   ],
   "source": [
    "# store the highest number of module previous attempts by students\n",
    "max_attempts = stud_info['attempts'].max()\n",
    "max_credits = stud_info['credits'].max()\n",
    "min_credits = stud_info['credits'].min()\n",
    "unreg_total = student_registration['date_unregistration'].count()\n",
    "unreg_min = student_registration['date_unregistration'].min()\n",
    "md(f'''\n",
    "* Most students do not have a previous attempt, but there is a high of {max_attempts} attempts.\n",
    "    * We can only have data for up to two of the students attempts since we only have two years worth of data.\n",
    "* The maximum amount of credits a student took during the module was {max_credits}\n",
    "    * This over twenty times the minimum of {min_credits} credits.\n",
    "* It is unknown how these courses were weighted, but this amount of credits at the same time may have influenced student success\n",
    "* There are {\"{:,}\".format(unreg_total)} values for of date_unregistration which represents the number of students who withdrew from the course.\n",
    "* The earliest date_unregistration date is {unreg_min} days before the course began, which means this student did not make it to the first day. \n",
    "''')"
   ]
  },
  {
   "cell_type": "markdown",
   "id": "7fa5f3ac-8f7e-42cf-8a4b-bc1fcbd27d5d",
   "metadata": {},
   "source": [
    "**Early Withdrawals**"
   ]
  },
  {
   "cell_type": "code",
   "execution_count": 29,
   "id": "3d9a2367-f93b-4e22-8a96-c04a7d544916",
   "metadata": {
    "tags": [
     "remove_input"
    ]
   },
   "outputs": [
    {
     "data": {
      "text/html": [
       "<div>\n",
       "<style scoped>\n",
       "    .dataframe tbody tr th:only-of-type {\n",
       "        vertical-align: middle;\n",
       "    }\n",
       "\n",
       "    .dataframe tbody tr th {\n",
       "        vertical-align: top;\n",
       "    }\n",
       "\n",
       "    .dataframe thead th {\n",
       "        text-align: right;\n",
       "    }\n",
       "</style>\n",
       "<table border=\"1\" class=\"dataframe\">\n",
       "  <thead>\n",
       "    <tr style=\"text-align: right;\">\n",
       "      <th></th>\n",
       "      <th>module</th>\n",
       "      <th>presentation</th>\n",
       "      <th>id_student</th>\n",
       "      <th>region</th>\n",
       "      <th>imd</th>\n",
       "      <th>age</th>\n",
       "      <th>gender</th>\n",
       "      <th>education</th>\n",
       "      <th>disability</th>\n",
       "      <th>attempts</th>\n",
       "      <th>credits</th>\n",
       "      <th>result</th>\n",
       "      <th>date_registration</th>\n",
       "      <th>date_unregistration</th>\n",
       "    </tr>\n",
       "  </thead>\n",
       "  <tbody>\n",
       "    <tr>\n",
       "      <th>125</th>\n",
       "      <td>AAA</td>\n",
       "      <td>2013J</td>\n",
       "      <td>292923</td>\n",
       "      <td>South East Region</td>\n",
       "      <td>90-100%</td>\n",
       "      <td>35-55</td>\n",
       "      <td>F</td>\n",
       "      <td>A Level or Equivalent</td>\n",
       "      <td>False</td>\n",
       "      <td>0</td>\n",
       "      <td>180</td>\n",
       "      <td>Withdrawn</td>\n",
       "      <td>-162</td>\n",
       "      <td>-121</td>\n",
       "    </tr>\n",
       "    <tr>\n",
       "      <th>136</th>\n",
       "      <td>AAA</td>\n",
       "      <td>2013J</td>\n",
       "      <td>305539</td>\n",
       "      <td>Wales</td>\n",
       "      <td>80-90%</td>\n",
       "      <td>0-35</td>\n",
       "      <td>F</td>\n",
       "      <td>Lower Than A Level</td>\n",
       "      <td>False</td>\n",
       "      <td>0</td>\n",
       "      <td>120</td>\n",
       "      <td>Withdrawn</td>\n",
       "      <td>-54</td>\n",
       "      <td>-3</td>\n",
       "    </tr>\n",
       "    <tr>\n",
       "      <th>198</th>\n",
       "      <td>AAA</td>\n",
       "      <td>2013J</td>\n",
       "      <td>405961</td>\n",
       "      <td>Scotland</td>\n",
       "      <td>90-100%</td>\n",
       "      <td>0-35</td>\n",
       "      <td>M</td>\n",
       "      <td>A Level or Equivalent</td>\n",
       "      <td>True</td>\n",
       "      <td>0</td>\n",
       "      <td>240</td>\n",
       "      <td>Withdrawn</td>\n",
       "      <td>-170</td>\n",
       "      <td>-100</td>\n",
       "    </tr>\n",
       "    <tr>\n",
       "      <th>256</th>\n",
       "      <td>AAA</td>\n",
       "      <td>2013J</td>\n",
       "      <td>1763015</td>\n",
       "      <td>Scotland</td>\n",
       "      <td>10-20%</td>\n",
       "      <td>35-55</td>\n",
       "      <td>F</td>\n",
       "      <td>A Level or Equivalent</td>\n",
       "      <td>False</td>\n",
       "      <td>0</td>\n",
       "      <td>60</td>\n",
       "      <td>Withdrawn</td>\n",
       "      <td>-58</td>\n",
       "      <td>-2</td>\n",
       "    </tr>\n",
       "    <tr>\n",
       "      <th>298</th>\n",
       "      <td>AAA</td>\n",
       "      <td>2013J</td>\n",
       "      <td>2318055</td>\n",
       "      <td>Wales</td>\n",
       "      <td>90-100%</td>\n",
       "      <td>35-55</td>\n",
       "      <td>M</td>\n",
       "      <td>A Level or Equivalent</td>\n",
       "      <td>False</td>\n",
       "      <td>0</td>\n",
       "      <td>60</td>\n",
       "      <td>Withdrawn</td>\n",
       "      <td>-56</td>\n",
       "      <td>-19</td>\n",
       "    </tr>\n",
       "  </tbody>\n",
       "</table>\n",
       "</div>"
      ],
      "text/plain": [
       "    module presentation id_student             region      imd    age gender  \\\n",
       "125    AAA        2013J     292923  South East Region  90-100%  35-55      F   \n",
       "136    AAA        2013J     305539              Wales   80-90%   0-35      F   \n",
       "198    AAA        2013J     405961           Scotland  90-100%   0-35      M   \n",
       "256    AAA        2013J    1763015           Scotland   10-20%  35-55      F   \n",
       "298    AAA        2013J    2318055              Wales  90-100%  35-55      M   \n",
       "\n",
       "                 education  disability  attempts  credits     result  \\\n",
       "125  A Level or Equivalent       False         0      180  Withdrawn   \n",
       "136     Lower Than A Level       False         0      120  Withdrawn   \n",
       "198  A Level or Equivalent        True         0      240  Withdrawn   \n",
       "256  A Level or Equivalent       False         0       60  Withdrawn   \n",
       "298  A Level or Equivalent       False         0       60  Withdrawn   \n",
       "\n",
       "     date_registration  date_unregistration  \n",
       "125               -162                 -121  \n",
       "136                -54                   -3  \n",
       "198               -170                 -100  \n",
       "256                -58                   -2  \n",
       "298                -56                  -19  "
      ]
     },
     "execution_count": 29,
     "metadata": {},
     "output_type": "execute_result"
    }
   ],
   "source": [
    "early_withdraws = stud_info.loc[stud_info['date_unregistration'] <= 0]\n",
    "early_withdraws.head()"
   ]
  },
  {
   "cell_type": "code",
   "execution_count": 30,
   "id": "0a1b6f8f-bf9c-4a2a-9436-6a01424bbb07",
   "metadata": {
    "tags": [
     "remove_input"
    ]
   },
   "outputs": [
    {
     "data": {
      "text/markdown": [
       "\n",
       "Here we can see the 3,097 students with a withdrawal date before the first day,\n",
       "and it is tempting to remove them since students who never attended probably don't add much information, but let's look at their results:\n"
      ],
      "text/plain": [
       "<IPython.core.display.Markdown object>"
      ]
     },
     "execution_count": 30,
     "metadata": {},
     "output_type": "execute_result"
    }
   ],
   "source": [
    "md(f'''\n",
    "Here we can see the {\"{:,}\".format(len(early_withdraws))} students with a withdrawal date before the first day,\n",
    "and it is tempting to remove them since students who never attended probably don't add much information, but let's look at their results:\n",
    "''')"
   ]
  },
  {
   "cell_type": "code",
   "execution_count": 31,
   "id": "fa96f6a8-d9e8-4d06-9dcb-a38ce6155ecc",
   "metadata": {
    "tags": [
     "remove_input"
    ]
   },
   "outputs": [
    {
     "data": {
      "text/html": [
       "<div>\n",
       "<style scoped>\n",
       "    .dataframe tbody tr th:only-of-type {\n",
       "        vertical-align: middle;\n",
       "    }\n",
       "\n",
       "    .dataframe tbody tr th {\n",
       "        vertical-align: top;\n",
       "    }\n",
       "\n",
       "    .dataframe thead th {\n",
       "        text-align: right;\n",
       "    }\n",
       "</style>\n",
       "<table border=\"1\" class=\"dataframe\">\n",
       "  <thead>\n",
       "    <tr style=\"text-align: right;\">\n",
       "      <th></th>\n",
       "      <th>result</th>\n",
       "    </tr>\n",
       "  </thead>\n",
       "  <tbody>\n",
       "    <tr>\n",
       "      <th>Withdrawn</th>\n",
       "      <td>3089</td>\n",
       "    </tr>\n",
       "    <tr>\n",
       "      <th>Fail</th>\n",
       "      <td>8</td>\n",
       "    </tr>\n",
       "  </tbody>\n",
       "</table>\n",
       "</div>"
      ],
      "text/plain": [
       "           result\n",
       "Withdrawn    3089\n",
       "Fail            8"
      ]
     },
     "execution_count": 31,
     "metadata": {},
     "output_type": "execute_result"
    }
   ],
   "source": [
    "dataframe(early_withdraws['result'].value_counts())"
   ]
  },
  {
   "cell_type": "code",
   "execution_count": 32,
   "id": "21f46153-531f-4659-9bd4-a8a174141058",
   "metadata": {
    "tags": [
     "remove_input"
    ]
   },
   "outputs": [
    {
     "data": {
      "text/markdown": [
       "\n",
       "It seems that while many of these students withdrew, there are those who still managed to fail, pass, and pass with distinction early.\n",
       "Because of this we will keep all of the data. The registration and unregistration dates seem to have unusual data.\n"
      ],
      "text/plain": [
       "<IPython.core.display.Markdown object>"
      ]
     },
     "execution_count": 32,
     "metadata": {},
     "output_type": "execute_result"
    }
   ],
   "source": [
    "md('''\n",
    "It seems that while many of these students withdrew, there are those who still managed to fail, pass, and pass with distinction early.\n",
    "Because of this we will keep all of the data. The registration and unregistration dates seem to have unusual data.\n",
    "''')"
   ]
  },
  {
   "cell_type": "markdown",
   "id": "66550b8f-cbeb-48ba-adc5-84583ae62bd7",
   "metadata": {},
   "source": [
    "**Late Unregistration**"
   ]
  },
  {
   "cell_type": "code",
   "execution_count": 33,
   "id": "fe936aef-76de-482d-9120-5a33547d5276",
   "metadata": {
    "tags": [
     "remove_input"
    ]
   },
   "outputs": [
    {
     "data": {
      "text/markdown": [
       "* The longest course from module_presentation length in the courses dataframe was 269 days, yet we see here the latest unregistration date is 444 days, which is longer than any course went on.\n",
       "    "
      ],
      "text/plain": [
       "<IPython.core.display.Markdown object>"
      ]
     },
     "execution_count": 33,
     "metadata": {},
     "output_type": "execute_result"
    }
   ],
   "source": [
    "# finds the longest module length in courses and prints it\n",
    "longest_course = courses['module_presentation_length'].max()\n",
    "longest_unreg = int(student_registration['date_unregistration'].max())\n",
    "md(f'''* The longest course from module_presentation length in the courses dataframe was {longest_course} days, yet we see here the latest unregistration date is {longest_unreg} days, which is longer than any course went on.\n",
    "    ''')"
   ]
  },
  {
   "cell_type": "markdown",
   "id": "dccb174a-386c-4dcb-8441-488af77d4d9b",
   "metadata": {},
   "source": [
    "**All Students with an unregistration point after 269 days:**"
   ]
  },
  {
   "cell_type": "code",
   "execution_count": 34,
   "id": "bedd8d1d-715e-4b67-85e2-fbeb1cefcc2a",
   "metadata": {
    "tags": [
     "remove_input"
    ]
   },
   "outputs": [
    {
     "data": {
      "text/html": [
       "<div>\n",
       "<style scoped>\n",
       "    .dataframe tbody tr th:only-of-type {\n",
       "        vertical-align: middle;\n",
       "    }\n",
       "\n",
       "    .dataframe tbody tr th {\n",
       "        vertical-align: top;\n",
       "    }\n",
       "\n",
       "    .dataframe thead th {\n",
       "        text-align: right;\n",
       "    }\n",
       "</style>\n",
       "<table border=\"1\" class=\"dataframe\">\n",
       "  <thead>\n",
       "    <tr style=\"text-align: right;\">\n",
       "      <th></th>\n",
       "      <th>code_module</th>\n",
       "      <th>code_presentation</th>\n",
       "      <th>id_student</th>\n",
       "      <th>date_registration</th>\n",
       "      <th>date_unregistration</th>\n",
       "    </tr>\n",
       "  </thead>\n",
       "  <tbody>\n",
       "    <tr>\n",
       "      <th>25249</th>\n",
       "      <td>FFF</td>\n",
       "      <td>2013J</td>\n",
       "      <td>586851</td>\n",
       "      <td>-22.0</td>\n",
       "      <td>444.0</td>\n",
       "    </tr>\n",
       "  </tbody>\n",
       "</table>\n",
       "</div>"
      ],
      "text/plain": [
       "      code_module code_presentation  id_student  date_registration  \\\n",
       "25249         FFF             2013J      586851              -22.0   \n",
       "\n",
       "       date_unregistration  \n",
       "25249                444.0  "
      ]
     },
     "execution_count": 34,
     "metadata": {},
     "output_type": "execute_result"
    }
   ],
   "source": [
    "# finding students whose courses went on for longer than the maximum course length\n",
    "student_registration.loc[student_registration['date_unregistration'] > 269]"
   ]
  },
  {
   "cell_type": "markdown",
   "id": "f96da90e-e3aa-4aa9-bcbe-3ded413a88a6",
   "metadata": {},
   "source": [
    "* It seems to be just this one student is an outlier, but should not affect our overall analysis so we will leave this intact"
   ]
  },
  {
   "cell_type": "markdown",
   "id": "65973c4d-586c-4171-aef6-c1c3c9edaf1c",
   "metadata": {},
   "source": [
    "**Modules**"
   ]
  },
  {
   "cell_type": "code",
   "execution_count": 36,
   "id": "06dabb53-5911-415a-865e-6ddf038c295f",
   "metadata": {},
   "outputs": [
    {
     "data": {
      "image/png": "[encoded data removed]",
      "text/plain": [
       "<Figure size 1080x576 with 1 Axes>"
      ]
     },
     "metadata": {
      "needs_background": "light"
     },
     "output_type": "display_data"
    }
   ],
   "source": [
    "plt.figure(figsize=(15,8))\n",
    "ax = sns.countplot(x='result', data=stud_info, hue='gender')\n",
    "plt.title('Student Counts per Module')\n",
    "plt.xlabel('Result')\n",
    "plt.ylabel('Student Count')\n",
    "\n",
    "for p in ax.patches:\n",
    "        ax.annotate('{0:,.{1}f}'.format(p.get_height(), 0), (p.get_x(), p.get_height()))"
   ]
  }
 ],
 "metadata": {
  "kernelspec": {
   "display_name": "Python 3",
   "language": "python",
   "name": "python3"
  },
  "language_info": {
   "codemirror_mode": {
    "name": "ipython",
    "version": 3
   },
   "file_extension": ".py",
   "mimetype": "text/x-python",
   "name": "python",
   "nbconvert_exporter": "python",
   "pygments_lexer": "ipython3",
   "version": "3.9.6"
  }
 },
 "nbformat": 4,
 "nbformat_minor": 5
}
