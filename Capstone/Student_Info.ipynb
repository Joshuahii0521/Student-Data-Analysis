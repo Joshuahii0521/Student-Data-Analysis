{
 "cells": [
  {
   "cell_type": "code",
   "execution_count": 1,
   "id": "d548f977-55e4-499c-996c-5aa8070958b0",
   "metadata": {
    "tags": [
     "remove_cell"
    ]
   },
   "outputs": [],
   "source": [
    "from functions import *"
   ]
  },
  {
   "cell_type": "markdown",
   "id": "e5a14227-1aa2-445b-8c28-1dcf1751ca8b",
   "metadata": {},
   "source": [
    "# Student Info\n",
    "\n",
    "---"
   ]
  },
  {
   "cell_type": "markdown",
   "id": "3b3a1cee-376b-4f42-b6c7-3c65ac28edc8",
   "metadata": {},
   "source": [
    "## General"
   ]
  },
  {
   "cell_type": "markdown",
   "id": "77349fd2-fb9e-4319-9e22-7c4d689fe8b9",
   "metadata": {},
   "source": [
    "The student info dataframe contains information about students including the module and presentation they took, demographic information and the final result of their studies."
   ]
  },
  {
   "cell_type": "code",
   "execution_count": 2,
   "id": "77678c71-d2e0-4dfd-8af5-a20cd4168caf",
   "metadata": {
    "tags": [
     "remove_input"
    ]
   },
   "outputs": [
    {
     "data": {
      "text/html": [
       "<div>\n",
       "<style scoped>\n",
       "    .dataframe tbody tr th:only-of-type {\n",
       "        vertical-align: middle;\n",
       "    }\n",
       "\n",
       "    .dataframe tbody tr th {\n",
       "        vertical-align: top;\n",
       "    }\n",
       "\n",
       "    .dataframe thead th {\n",
       "        text-align: right;\n",
       "    }\n",
       "</style>\n",
       "<table border=\"1\" class=\"dataframe\">\n",
       "  <thead>\n",
       "    <tr style=\"text-align: right;\">\n",
       "      <th></th>\n",
       "      <th>code_module</th>\n",
       "      <th>code_presentation</th>\n",
       "      <th>id_student</th>\n",
       "      <th>gender</th>\n",
       "      <th>region</th>\n",
       "      <th>highest_education</th>\n",
       "      <th>imd_band</th>\n",
       "      <th>age_band</th>\n",
       "      <th>num_of_prev_attempts</th>\n",
       "      <th>studied_credits</th>\n",
       "      <th>disability</th>\n",
       "      <th>final_result</th>\n",
       "    </tr>\n",
       "  </thead>\n",
       "  <tbody>\n",
       "    <tr>\n",
       "      <th>0</th>\n",
       "      <td>AAA</td>\n",
       "      <td>2013J</td>\n",
       "      <td>11391</td>\n",
       "      <td>M</td>\n",
       "      <td>East Anglian Region</td>\n",
       "      <td>HE Qualification</td>\n",
       "      <td>90-100%</td>\n",
       "      <td>55&lt;=</td>\n",
       "      <td>0</td>\n",
       "      <td>240</td>\n",
       "      <td>N</td>\n",
       "      <td>Pass</td>\n",
       "    </tr>\n",
       "    <tr>\n",
       "      <th>1</th>\n",
       "      <td>AAA</td>\n",
       "      <td>2013J</td>\n",
       "      <td>28400</td>\n",
       "      <td>F</td>\n",
       "      <td>Scotland</td>\n",
       "      <td>HE Qualification</td>\n",
       "      <td>20-30%</td>\n",
       "      <td>35-55</td>\n",
       "      <td>0</td>\n",
       "      <td>60</td>\n",
       "      <td>N</td>\n",
       "      <td>Pass</td>\n",
       "    </tr>\n",
       "    <tr>\n",
       "      <th>2</th>\n",
       "      <td>AAA</td>\n",
       "      <td>2013J</td>\n",
       "      <td>30268</td>\n",
       "      <td>F</td>\n",
       "      <td>North Western Region</td>\n",
       "      <td>A Level or Equivalent</td>\n",
       "      <td>30-40%</td>\n",
       "      <td>35-55</td>\n",
       "      <td>0</td>\n",
       "      <td>60</td>\n",
       "      <td>Y</td>\n",
       "      <td>Withdrawn</td>\n",
       "    </tr>\n",
       "    <tr>\n",
       "      <th>3</th>\n",
       "      <td>AAA</td>\n",
       "      <td>2013J</td>\n",
       "      <td>31604</td>\n",
       "      <td>F</td>\n",
       "      <td>South East Region</td>\n",
       "      <td>A Level or Equivalent</td>\n",
       "      <td>50-60%</td>\n",
       "      <td>35-55</td>\n",
       "      <td>0</td>\n",
       "      <td>60</td>\n",
       "      <td>N</td>\n",
       "      <td>Pass</td>\n",
       "    </tr>\n",
       "    <tr>\n",
       "      <th>4</th>\n",
       "      <td>AAA</td>\n",
       "      <td>2013J</td>\n",
       "      <td>32885</td>\n",
       "      <td>F</td>\n",
       "      <td>West Midlands Region</td>\n",
       "      <td>Lower Than A Level</td>\n",
       "      <td>50-60%</td>\n",
       "      <td>0-35</td>\n",
       "      <td>0</td>\n",
       "      <td>60</td>\n",
       "      <td>N</td>\n",
       "      <td>Pass</td>\n",
       "    </tr>\n",
       "  </tbody>\n",
       "</table>\n",
       "</div>"
      ],
      "text/plain": [
       "  code_module code_presentation  id_student gender                region  \\\n",
       "0         AAA             2013J       11391      M   East Anglian Region   \n",
       "1         AAA             2013J       28400      F              Scotland   \n",
       "2         AAA             2013J       30268      F  North Western Region   \n",
       "3         AAA             2013J       31604      F     South East Region   \n",
       "4         AAA             2013J       32885      F  West Midlands Region   \n",
       "\n",
       "       highest_education imd_band age_band  num_of_prev_attempts  \\\n",
       "0       HE Qualification  90-100%     55<=                     0   \n",
       "1       HE Qualification   20-30%    35-55                     0   \n",
       "2  A Level or Equivalent   30-40%    35-55                     0   \n",
       "3  A Level or Equivalent   50-60%    35-55                     0   \n",
       "4     Lower Than A Level   50-60%     0-35                     0   \n",
       "\n",
       "   studied_credits disability final_result  \n",
       "0              240          N         Pass  \n",
       "1               60          N         Pass  \n",
       "2               60          Y    Withdrawn  \n",
       "3               60          N         Pass  \n",
       "4               60          N         Pass  "
      ]
     },
     "execution_count": 2,
     "metadata": {},
     "output_type": "execute_result"
    }
   ],
   "source": [
    "# looking at the student_info dataframe\n",
    "student_info.head()"
   ]
  },
  {
   "cell_type": "markdown",
   "id": "2921a502-dd6c-4a6a-9b49-c00e22402cf6",
   "metadata": {},
   "source": [
    "## Student Info Contents\n",
    "\n",
    "* **code_module**: The code module represents the course the student is taking.\n",
    "* **code_presentation**: The code presentations are the year and semester the student is taking the course.\n",
    "* **id_student**: The student ID is a unique identifier for each student\n",
    "* **gender**: The gender represents the binary gender of a student 'M' for students who identify as male and 'F' for students who identify as female.\n",
    "* **region**: Region represents the location of the student when they took the module. All regions are in the UK, Scotland, Ireland or Wales.\n",
    "* **highest_education**: Highest education is representative of a students highest level of formal academic achievement.\n",
    "    - Education levels in order from least to most formal education: \n",
    "        - No formal quals (qualifications)\n",
    "        - Lower than A Level which is nearly but not quite analagous to under high school level\n",
    "        - A Level or equivalent which is again nearly analagous to high school level, but more like college ready\n",
    "        - HE Qualification which stands for higher education qualification\n",
    "        - Post Graduate Qualification\n",
    "* **imd_band**: The imd_band represents the Indices of multiple deprivation (IMD) score which is a commonly used method in the UK to measure poverty or deprivation in an area. The lower the score, the more 'deprived' the area is.\n",
    "* **age_band**: There are only three bins for age; 0-35, 35-55 and over 55\n",
    "* **num_of_prev_attempts**: The number of times the student has attempted the course previously.\n",
    "* **studied_credits**: The number of credits for the module the student is taking.\n",
    "* **disability**: Disability status is represented by a binary 'Y', yes a student does identify as having a disability and 'N', no a student does not identify as having a disability.\n",
    "* **final_results**: * The final result is the students overall result in the class.\n",
    "    - Possible Results include:\n",
    "         - Pass: The student passed the course\n",
    "         - Fail: The student did not pass the course\n",
    "         - Withdraw: The student withdrew before the course term ended\n",
    "         - Distinction: The student passed the class with distinction"
   ]
  },
  {
   "cell_type": "markdown",
   "id": "ac599dc0-225f-4b28-b2d2-5ab4ea15eb3b",
   "metadata": {},
   "source": [
    "---\n",
    "\n",
    "## Student Info Information"
   ]
  },
  {
   "cell_type": "code",
   "execution_count": 3,
   "id": "ee706d71-4274-4a34-9449-6fc3f962873c",
   "metadata": {
    "tags": [
     "remove_input"
    ]
   },
   "outputs": [
    {
     "data": {
      "text/html": [
       "<div>\n",
       "<style scoped>\n",
       "    .dataframe tbody tr th:only-of-type {\n",
       "        vertical-align: middle;\n",
       "    }\n",
       "\n",
       "    .dataframe tbody tr th {\n",
       "        vertical-align: top;\n",
       "    }\n",
       "\n",
       "    .dataframe thead th {\n",
       "        text-align: right;\n",
       "    }\n",
       "</style>\n",
       "<table border=\"1\" class=\"dataframe\">\n",
       "  <thead>\n",
       "    <tr style=\"text-align: right;\">\n",
       "      <th></th>\n",
       "      <th>Count</th>\n",
       "    </tr>\n",
       "  </thead>\n",
       "  <tbody>\n",
       "    <tr>\n",
       "      <th>Columns</th>\n",
       "      <td>12</td>\n",
       "    </tr>\n",
       "    <tr>\n",
       "      <th>Rows</th>\n",
       "      <td>32593</td>\n",
       "    </tr>\n",
       "  </tbody>\n",
       "</table>\n",
       "</div>"
      ],
      "text/plain": [
       "         Count\n",
       "Columns     12\n",
       "Rows     32593"
      ]
     },
     "execution_count": 3,
     "metadata": {},
     "output_type": "execute_result"
    }
   ],
   "source": [
    "# get size counts of student_info\n",
    "get_size(student_info)"
   ]
  },
  {
   "cell_type": "code",
   "execution_count": 4,
   "id": "284377a5-1698-4cb2-9d7e-f6ab7b5950b9",
   "metadata": {
    "tags": [
     "remove_input"
    ]
   },
   "outputs": [
    {
     "data": {
      "text/html": [
       "<style type=\"text/css\">\n",
       "#T_3b778_ td.col0 {\n",
       "  font-weight: bold;\n",
       "}\n",
       "</style>\n",
       "<table id=\"T_3b778_\">\n",
       "  <thead>\n",
       "    <tr>\n",
       "      <th class=\"col_heading level0 col0\" >Variable</th>\n",
       "      <th class=\"col_heading level0 col1\" >Type</th>\n",
       "    </tr>\n",
       "  </thead>\n",
       "  <tbody>\n",
       "    <tr>\n",
       "      <td id=\"T_3b778_row0_col0\" class=\"data row0 col0\" >code_module</td>\n",
       "      <td id=\"T_3b778_row0_col1\" class=\"data row0 col1\" >object</td>\n",
       "    </tr>\n",
       "    <tr>\n",
       "      <td id=\"T_3b778_row1_col0\" class=\"data row1 col0\" >code_presentation</td>\n",
       "      <td id=\"T_3b778_row1_col1\" class=\"data row1 col1\" >object</td>\n",
       "    </tr>\n",
       "    <tr>\n",
       "      <td id=\"T_3b778_row2_col0\" class=\"data row2 col0\" >id_student</td>\n",
       "      <td id=\"T_3b778_row2_col1\" class=\"data row2 col1\" >int64</td>\n",
       "    </tr>\n",
       "    <tr>\n",
       "      <td id=\"T_3b778_row3_col0\" class=\"data row3 col0\" >gender</td>\n",
       "      <td id=\"T_3b778_row3_col1\" class=\"data row3 col1\" >object</td>\n",
       "    </tr>\n",
       "    <tr>\n",
       "      <td id=\"T_3b778_row4_col0\" class=\"data row4 col0\" >region</td>\n",
       "      <td id=\"T_3b778_row4_col1\" class=\"data row4 col1\" >object</td>\n",
       "    </tr>\n",
       "    <tr>\n",
       "      <td id=\"T_3b778_row5_col0\" class=\"data row5 col0\" >highest_education</td>\n",
       "      <td id=\"T_3b778_row5_col1\" class=\"data row5 col1\" >object</td>\n",
       "    </tr>\n",
       "    <tr>\n",
       "      <td id=\"T_3b778_row6_col0\" class=\"data row6 col0\" >imd_band</td>\n",
       "      <td id=\"T_3b778_row6_col1\" class=\"data row6 col1\" >object</td>\n",
       "    </tr>\n",
       "    <tr>\n",
       "      <td id=\"T_3b778_row7_col0\" class=\"data row7 col0\" >age_band</td>\n",
       "      <td id=\"T_3b778_row7_col1\" class=\"data row7 col1\" >object</td>\n",
       "    </tr>\n",
       "    <tr>\n",
       "      <td id=\"T_3b778_row8_col0\" class=\"data row8 col0\" >num_of_prev_attempts</td>\n",
       "      <td id=\"T_3b778_row8_col1\" class=\"data row8 col1\" >int64</td>\n",
       "    </tr>\n",
       "    <tr>\n",
       "      <td id=\"T_3b778_row9_col0\" class=\"data row9 col0\" >studied_credits</td>\n",
       "      <td id=\"T_3b778_row9_col1\" class=\"data row9 col1\" >int64</td>\n",
       "    </tr>\n",
       "    <tr>\n",
       "      <td id=\"T_3b778_row10_col0\" class=\"data row10 col0\" >disability</td>\n",
       "      <td id=\"T_3b778_row10_col1\" class=\"data row10 col1\" >object</td>\n",
       "    </tr>\n",
       "    <tr>\n",
       "      <td id=\"T_3b778_row11_col0\" class=\"data row11 col0\" >final_result</td>\n",
       "      <td id=\"T_3b778_row11_col1\" class=\"data row11 col1\" >object</td>\n",
       "    </tr>\n",
       "  </tbody>\n",
       "</table>\n"
      ],
      "text/plain": [
       "<pandas.io.formats.style.Styler at 0x1ef00004640>"
      ]
     },
     "execution_count": 4,
     "metadata": {},
     "output_type": "execute_result"
    }
   ],
   "source": [
    "# show student info data types\n",
    "get_dtypes(student_info)"
   ]
  },
  {
   "cell_type": "markdown",
   "id": "7b71cf15-eb52-4d18-85fa-bdde712629ba",
   "metadata": {},
   "source": [
    "`id_student` is currently an int64 datatype, but would be more appropriate as an object data type since it is categorical."
   ]
  },
  {
   "cell_type": "code",
   "execution_count": 5,
   "id": "f5aace78-48dc-4328-aba9-26d30fd18dcb",
   "metadata": {
    "tags": [
     "remove_cell"
    ]
   },
   "outputs": [],
   "source": [
    "# changing id_student to the object data type\n",
    "student_info['id_student'] = student_info['id_student'].astype(object)"
   ]
  },
  {
   "cell_type": "markdown",
   "id": "a9bff32a-0995-4135-87c7-195ee15cf083",
   "metadata": {},
   "source": [
    "**Null Values:**"
   ]
  },
  {
   "cell_type": "code",
   "execution_count": 6,
   "id": "d5afafad-68eb-462a-aadb-024459790296",
   "metadata": {
    "tags": [
     "remove_input"
    ]
   },
   "outputs": [
    {
     "data": {
      "text/html": [
       "<style type=\"text/css\">\n",
       "#T_b2745_ td.col0 {\n",
       "  font-weight: bold;\n",
       "}\n",
       "</style>\n",
       "<table id=\"T_b2745_\">\n",
       "  <thead>\n",
       "    <tr>\n",
       "      <th class=\"col_heading level0 col0\" >Variable</th>\n",
       "      <th class=\"col_heading level0 col1\" >Null Values</th>\n",
       "    </tr>\n",
       "  </thead>\n",
       "  <tbody>\n",
       "    <tr>\n",
       "      <td id=\"T_b2745_row0_col0\" class=\"data row0 col0\" >code_module</td>\n",
       "      <td id=\"T_b2745_row0_col1\" class=\"data row0 col1\" >0</td>\n",
       "    </tr>\n",
       "    <tr>\n",
       "      <td id=\"T_b2745_row1_col0\" class=\"data row1 col0\" >code_presentation</td>\n",
       "      <td id=\"T_b2745_row1_col1\" class=\"data row1 col1\" >0</td>\n",
       "    </tr>\n",
       "    <tr>\n",
       "      <td id=\"T_b2745_row2_col0\" class=\"data row2 col0\" >id_student</td>\n",
       "      <td id=\"T_b2745_row2_col1\" class=\"data row2 col1\" >0</td>\n",
       "    </tr>\n",
       "    <tr>\n",
       "      <td id=\"T_b2745_row3_col0\" class=\"data row3 col0\" >gender</td>\n",
       "      <td id=\"T_b2745_row3_col1\" class=\"data row3 col1\" >0</td>\n",
       "    </tr>\n",
       "    <tr>\n",
       "      <td id=\"T_b2745_row4_col0\" class=\"data row4 col0\" >region</td>\n",
       "      <td id=\"T_b2745_row4_col1\" class=\"data row4 col1\" >0</td>\n",
       "    </tr>\n",
       "    <tr>\n",
       "      <td id=\"T_b2745_row5_col0\" class=\"data row5 col0\" >highest_education</td>\n",
       "      <td id=\"T_b2745_row5_col1\" class=\"data row5 col1\" >0</td>\n",
       "    </tr>\n",
       "    <tr>\n",
       "      <td id=\"T_b2745_row6_col0\" class=\"data row6 col0\" >imd_band</td>\n",
       "      <td id=\"T_b2745_row6_col1\" class=\"data row6 col1\" >1111</td>\n",
       "    </tr>\n",
       "    <tr>\n",
       "      <td id=\"T_b2745_row7_col0\" class=\"data row7 col0\" >age_band</td>\n",
       "      <td id=\"T_b2745_row7_col1\" class=\"data row7 col1\" >0</td>\n",
       "    </tr>\n",
       "    <tr>\n",
       "      <td id=\"T_b2745_row8_col0\" class=\"data row8 col0\" >num_of_prev_attempts</td>\n",
       "      <td id=\"T_b2745_row8_col1\" class=\"data row8 col1\" >0</td>\n",
       "    </tr>\n",
       "    <tr>\n",
       "      <td id=\"T_b2745_row9_col0\" class=\"data row9 col0\" >studied_credits</td>\n",
       "      <td id=\"T_b2745_row9_col1\" class=\"data row9 col1\" >0</td>\n",
       "    </tr>\n",
       "    <tr>\n",
       "      <td id=\"T_b2745_row10_col0\" class=\"data row10 col0\" >disability</td>\n",
       "      <td id=\"T_b2745_row10_col1\" class=\"data row10 col1\" >0</td>\n",
       "    </tr>\n",
       "    <tr>\n",
       "      <td id=\"T_b2745_row11_col0\" class=\"data row11 col0\" >final_result</td>\n",
       "      <td id=\"T_b2745_row11_col1\" class=\"data row11 col1\" >0</td>\n",
       "    </tr>\n",
       "  </tbody>\n",
       "</table>\n"
      ],
      "text/plain": [
       "<pandas.io.formats.style.Styler at 0x1ef0001a940>"
      ]
     },
     "execution_count": 6,
     "metadata": {},
     "output_type": "execute_result"
    }
   ],
   "source": [
    "null_vals(student_info)"
   ]
  },
  {
   "cell_type": "code",
   "execution_count": 7,
   "id": "1db313a5-1bdf-42c6-9a31-cbe57d9b2c21",
   "metadata": {
    "tags": [
     "remove_input"
    ]
   },
   "outputs": [
    {
     "data": {
      "text/markdown": [
       "The imd_band variable has 1111 null values which we may have to work around."
      ],
      "text/plain": [
       "<IPython.core.display.Markdown object>"
      ]
     },
     "execution_count": 7,
     "metadata": {},
     "output_type": "execute_result"
    }
   ],
   "source": [
    "# store sum of imd null values\n",
    "imd_null = student_info['imd_band'].isnull().sum()\n",
    "md(f'''The imd_band variable has {imd_null} null values which we may have to work around.''')"
   ]
  },
  {
   "cell_type": "markdown",
   "id": "3c7117eb-3a57-4735-b7c3-17b2101032c4",
   "metadata": {},
   "source": [
    "**Duplicate Values**"
   ]
  },
  {
   "cell_type": "code",
   "execution_count": 25,
   "id": "c6b0c86c-1eb9-47dc-ae26-04858b8b63dc",
   "metadata": {
    "tags": [
     "remove_input"
    ]
   },
   "outputs": [
    {
     "data": {
      "text/markdown": [
       "No Duplicate Values"
      ],
      "text/plain": [
       "<IPython.core.display.Markdown object>"
      ]
     },
     "execution_count": 25,
     "metadata": {},
     "output_type": "execute_result"
    }
   ],
   "source": [
    "# show duplicate values in student info if any\n",
    "get_dupes(student_info)"
   ]
  },
  {
   "cell_type": "markdown",
   "id": "22de507f-e475-4e22-afbd-dc3fd9393de5",
   "metadata": {},
   "source": [
    "**Unique Counts:**"
   ]
  },
  {
   "cell_type": "code",
   "execution_count": 8,
   "id": "8f2f48bf-d9fe-4964-8807-eda67574843c",
   "metadata": {
    "tags": [
     "remove_input"
    ]
   },
   "outputs": [
    {
     "data": {
      "text/html": [
       "<style type=\"text/css\">\n",
       "#T_cc7d9_ td.col0 {\n",
       "  font-weight: bold;\n",
       "}\n",
       "</style>\n",
       "<table id=\"T_cc7d9_\">\n",
       "  <thead>\n",
       "    <tr>\n",
       "      <th class=\"col_heading level0 col0\" >Variable</th>\n",
       "      <th class=\"col_heading level0 col1\" >Count</th>\n",
       "    </tr>\n",
       "  </thead>\n",
       "  <tbody>\n",
       "    <tr>\n",
       "      <td id=\"T_cc7d9_row0_col0\" class=\"data row0 col0\" >code_module</td>\n",
       "      <td id=\"T_cc7d9_row0_col1\" class=\"data row0 col1\" >7</td>\n",
       "    </tr>\n",
       "    <tr>\n",
       "      <td id=\"T_cc7d9_row1_col0\" class=\"data row1 col0\" >code_presentation</td>\n",
       "      <td id=\"T_cc7d9_row1_col1\" class=\"data row1 col1\" >4</td>\n",
       "    </tr>\n",
       "    <tr>\n",
       "      <td id=\"T_cc7d9_row2_col0\" class=\"data row2 col0\" >id_student</td>\n",
       "      <td id=\"T_cc7d9_row2_col1\" class=\"data row2 col1\" >28785</td>\n",
       "    </tr>\n",
       "    <tr>\n",
       "      <td id=\"T_cc7d9_row3_col0\" class=\"data row3 col0\" >gender</td>\n",
       "      <td id=\"T_cc7d9_row3_col1\" class=\"data row3 col1\" >2</td>\n",
       "    </tr>\n",
       "    <tr>\n",
       "      <td id=\"T_cc7d9_row4_col0\" class=\"data row4 col0\" >region</td>\n",
       "      <td id=\"T_cc7d9_row4_col1\" class=\"data row4 col1\" >13</td>\n",
       "    </tr>\n",
       "    <tr>\n",
       "      <td id=\"T_cc7d9_row5_col0\" class=\"data row5 col0\" >highest_education</td>\n",
       "      <td id=\"T_cc7d9_row5_col1\" class=\"data row5 col1\" >5</td>\n",
       "    </tr>\n",
       "    <tr>\n",
       "      <td id=\"T_cc7d9_row6_col0\" class=\"data row6 col0\" >imd_band</td>\n",
       "      <td id=\"T_cc7d9_row6_col1\" class=\"data row6 col1\" >10</td>\n",
       "    </tr>\n",
       "    <tr>\n",
       "      <td id=\"T_cc7d9_row7_col0\" class=\"data row7 col0\" >age_band</td>\n",
       "      <td id=\"T_cc7d9_row7_col1\" class=\"data row7 col1\" >3</td>\n",
       "    </tr>\n",
       "    <tr>\n",
       "      <td id=\"T_cc7d9_row8_col0\" class=\"data row8 col0\" >num_of_prev_attempts</td>\n",
       "      <td id=\"T_cc7d9_row8_col1\" class=\"data row8 col1\" >7</td>\n",
       "    </tr>\n",
       "    <tr>\n",
       "      <td id=\"T_cc7d9_row9_col0\" class=\"data row9 col0\" >studied_credits</td>\n",
       "      <td id=\"T_cc7d9_row9_col1\" class=\"data row9 col1\" >61</td>\n",
       "    </tr>\n",
       "    <tr>\n",
       "      <td id=\"T_cc7d9_row10_col0\" class=\"data row10 col0\" >disability</td>\n",
       "      <td id=\"T_cc7d9_row10_col1\" class=\"data row10 col1\" >2</td>\n",
       "    </tr>\n",
       "    <tr>\n",
       "      <td id=\"T_cc7d9_row11_col0\" class=\"data row11 col0\" >final_result</td>\n",
       "      <td id=\"T_cc7d9_row11_col1\" class=\"data row11 col1\" >4</td>\n",
       "    </tr>\n",
       "  </tbody>\n",
       "</table>\n"
      ],
      "text/plain": [
       "<pandas.io.formats.style.Styler at 0x1ef35e615e0>"
      ]
     },
     "execution_count": 8,
     "metadata": {},
     "output_type": "execute_result"
    }
   ],
   "source": [
    "# Get number of unique values per variable in student info\n",
    "count_unique(student_info)"
   ]
  },
  {
   "cell_type": "code",
   "execution_count": 9,
   "id": "2c89fb24-966e-4035-a136-19f76fbec543",
   "metadata": {
    "tags": [
     "remove_cell"
    ]
   },
   "outputs": [],
   "source": [
    "# store count of total student ids\n",
    "total_students = student_info['id_student'].count()\n",
    "# store count of unique student ids\n",
    "unique_students = student_info['id_student'].nunique()"
   ]
  },
  {
   "cell_type": "code",
   "execution_count": 10,
   "id": "5e4a51a5-1d47-4cee-85ff-d775be11ebd5",
   "metadata": {
    "tags": [
     "remove_input"
    ]
   },
   "outputs": [
    {
     "data": {
      "text/markdown": [
       "\n",
       "* There are 32593 entries for students but only 28785 unique student IDs.\n",
       "* This may represent students who have taken the course more than once or who are taking multiple modules\n"
      ],
      "text/plain": [
       "<IPython.core.display.Markdown object>"
      ]
     },
     "execution_count": 10,
     "metadata": {},
     "output_type": "execute_result"
    }
   ],
   "source": [
    "md(f'''\n",
    "* There are {total_students} entries for students but only {unique_students} unique student IDs.\n",
    "* This may represent students who have taken the course more than once or who are taking multiple modules\n",
    "''')"
   ]
  },
  {
   "cell_type": "markdown",
   "id": "f24cab70-bc40-46f2-83e9-2c0e89601a44",
   "metadata": {},
   "source": [
    "**Unique Categorical Values**"
   ]
  },
  {
   "cell_type": "code",
   "execution_count": 11,
   "id": "1c0a70d4-b84f-4108-96b0-381d2f4646fd",
   "metadata": {
    "tags": [
     "remove_input"
    ]
   },
   "outputs": [
    {
     "data": {
      "text/html": [
       "<style type=\"text/css\">\n",
       "#T_0f76a_ td.col0 {\n",
       "  font-weight: bold;\n",
       "}\n",
       "</style>\n",
       "<table id=\"T_0f76a_\">\n",
       "  <thead>\n",
       "    <tr>\n",
       "      <th class=\"col_heading level0 col0\" >Variable</th>\n",
       "      <th class=\"col_heading level0 col1\" >Values</th>\n",
       "    </tr>\n",
       "  </thead>\n",
       "  <tbody>\n",
       "    <tr>\n",
       "      <td id=\"T_0f76a_row0_col0\" class=\"data row0 col0\" >code_module</td>\n",
       "      <td id=\"T_0f76a_row0_col1\" class=\"data row0 col1\" >['AAA' 'BBB' 'CCC' 'DDD' 'EEE' 'FFF' 'GGG']</td>\n",
       "    </tr>\n",
       "    <tr>\n",
       "      <td id=\"T_0f76a_row1_col0\" class=\"data row1 col0\" >code_presentation</td>\n",
       "      <td id=\"T_0f76a_row1_col1\" class=\"data row1 col1\" >['2013J' '2014J' '2013B' '2014B']</td>\n",
       "    </tr>\n",
       "    <tr>\n",
       "      <td id=\"T_0f76a_row2_col0\" class=\"data row2 col0\" >id_student</td>\n",
       "      <td id=\"T_0f76a_row2_col1\" class=\"data row2 col1\" >[11391 28400 30268 ... 2648187 2679821 2684003]</td>\n",
       "    </tr>\n",
       "    <tr>\n",
       "      <td id=\"T_0f76a_row3_col0\" class=\"data row3 col0\" >gender</td>\n",
       "      <td id=\"T_0f76a_row3_col1\" class=\"data row3 col1\" >['M' 'F']</td>\n",
       "    </tr>\n",
       "    <tr>\n",
       "      <td id=\"T_0f76a_row4_col0\" class=\"data row4 col0\" >region</td>\n",
       "      <td id=\"T_0f76a_row4_col1\" class=\"data row4 col1\" >['East Anglian Region' 'Scotland' 'North Western Region'\n",
       " 'South East Region' 'West Midlands Region' 'Wales' 'North Region'\n",
       " 'South Region' 'Ireland' 'South West Region' 'East Midlands Region'\n",
       " 'Yorkshire Region' 'London Region']</td>\n",
       "    </tr>\n",
       "    <tr>\n",
       "      <td id=\"T_0f76a_row5_col0\" class=\"data row5 col0\" >highest_education</td>\n",
       "      <td id=\"T_0f76a_row5_col1\" class=\"data row5 col1\" >['HE Qualification' 'A Level or Equivalent' 'Lower Than A Level'\n",
       " 'Post Graduate Qualification' 'No Formal quals']</td>\n",
       "    </tr>\n",
       "    <tr>\n",
       "      <td id=\"T_0f76a_row6_col0\" class=\"data row6 col0\" >imd_band</td>\n",
       "      <td id=\"T_0f76a_row6_col1\" class=\"data row6 col1\" >['90-100%' '20-30%' '30-40%' '50-60%' '80-90%' '70-80%' nan '60-70%'\n",
       " '40-50%' '10-20' '0-10%']</td>\n",
       "    </tr>\n",
       "    <tr>\n",
       "      <td id=\"T_0f76a_row7_col0\" class=\"data row7 col0\" >age_band</td>\n",
       "      <td id=\"T_0f76a_row7_col1\" class=\"data row7 col1\" >['55<=' '35-55' '0-35']</td>\n",
       "    </tr>\n",
       "    <tr>\n",
       "      <td id=\"T_0f76a_row8_col0\" class=\"data row8 col0\" >num_of_prev_attempts</td>\n",
       "      <td id=\"T_0f76a_row8_col1\" class=\"data row8 col1\" >[0 1 2 4 3 5 6]</td>\n",
       "    </tr>\n",
       "    <tr>\n",
       "      <td id=\"T_0f76a_row9_col0\" class=\"data row9 col0\" >studied_credits</td>\n",
       "      <td id=\"T_0f76a_row9_col1\" class=\"data row9 col1\" >[240  60 120  90 150 180 345 420 170  80  75 300 330 210 270 360 135  70\n",
       " 225 585 325 130 195 105 655 165 100 390 220 160 250  30  40  45 400 235\n",
       " 145 630 355  50 110 115  55  85 480 280 175  95 155 190 315 200 140 540\n",
       " 310 370 205 215 255  65 430]</td>\n",
       "    </tr>\n",
       "    <tr>\n",
       "      <td id=\"T_0f76a_row10_col0\" class=\"data row10 col0\" >disability</td>\n",
       "      <td id=\"T_0f76a_row10_col1\" class=\"data row10 col1\" >['N' 'Y']</td>\n",
       "    </tr>\n",
       "    <tr>\n",
       "      <td id=\"T_0f76a_row11_col0\" class=\"data row11 col0\" >final_result</td>\n",
       "      <td id=\"T_0f76a_row11_col1\" class=\"data row11 col1\" >['Pass' 'Withdrawn' 'Fail' 'Distinction']</td>\n",
       "    </tr>\n",
       "  </tbody>\n",
       "</table>\n"
      ],
      "text/plain": [
       "<pandas.io.formats.style.Styler at 0x1ef001a7940>"
      ]
     },
     "execution_count": 11,
     "metadata": {},
     "output_type": "execute_result"
    }
   ],
   "source": [
    "unique_vals(student_info)"
   ]
  },
  {
   "cell_type": "markdown",
   "id": "27330c6e-f2b7-4072-bc8b-87ebef9a4af0",
   "metadata": {},
   "source": [
    "In imd_band the % sign is missing in 10-20. We will add that for consistency and clarity"
   ]
  },
  {
   "cell_type": "code",
   "execution_count": 22,
   "id": "adc531d4-82f1-49b8-9fce-4ea954f1d39f",
   "metadata": {
    "tags": [
     "remove_cell"
    ]
   },
   "outputs": [
    {
     "data": {
      "text/plain": [
       "array(['90-100%', '20-30%', '30-40%', '50-60%', '80-90%', '70-80%', nan,\n",
       "       '60-70%', '40-50%', '10-20%', '0-10%'], dtype=object)"
      ]
     },
     "execution_count": 22,
     "metadata": {},
     "output_type": "execute_result"
    }
   ],
   "source": [
    "# changing all 10-20 values in student_info imd_band to 10-20% for consistency's sake\n",
    "student_info.loc[student_info['imd_band'] == '10-20', 'imd_band'] = '10-20%'\n",
    "# making sure it updated\n",
    "student_info['imd_band'].explode().unique()"
   ]
  },
  {
   "cell_type": "markdown",
   "id": "33021991-b346-4bee-9a22-d0eafed344de",
   "metadata": {},
   "source": [
    "**Statistics:**"
   ]
  },
  {
   "cell_type": "code",
   "execution_count": 26,
   "id": "92fb8a11-86e1-4936-8773-ba2c27a9738a",
   "metadata": {
    "tags": [
     "remove_input"
    ]
   },
   "outputs": [
    {
     "data": {
      "text/html": [
       "<div>\n",
       "<style scoped>\n",
       "    .dataframe tbody tr th:only-of-type {\n",
       "        vertical-align: middle;\n",
       "    }\n",
       "\n",
       "    .dataframe tbody tr th {\n",
       "        vertical-align: top;\n",
       "    }\n",
       "\n",
       "    .dataframe thead th {\n",
       "        text-align: right;\n",
       "    }\n",
       "</style>\n",
       "<table border=\"1\" class=\"dataframe\">\n",
       "  <thead>\n",
       "    <tr style=\"text-align: right;\">\n",
       "      <th>Variable</th>\n",
       "      <th>num_of_prev_attempts</th>\n",
       "      <th>studied_credits</th>\n",
       "    </tr>\n",
       "  </thead>\n",
       "  <tbody>\n",
       "    <tr>\n",
       "      <th>count</th>\n",
       "      <td>32593</td>\n",
       "      <td>32593</td>\n",
       "    </tr>\n",
       "    <tr>\n",
       "      <th>mean</th>\n",
       "      <td>0</td>\n",
       "      <td>79</td>\n",
       "    </tr>\n",
       "    <tr>\n",
       "      <th>std</th>\n",
       "      <td>0</td>\n",
       "      <td>41</td>\n",
       "    </tr>\n",
       "    <tr>\n",
       "      <th>min</th>\n",
       "      <td>0</td>\n",
       "      <td>30</td>\n",
       "    </tr>\n",
       "    <tr>\n",
       "      <th>25%</th>\n",
       "      <td>0</td>\n",
       "      <td>60</td>\n",
       "    </tr>\n",
       "    <tr>\n",
       "      <th>50%</th>\n",
       "      <td>0</td>\n",
       "      <td>60</td>\n",
       "    </tr>\n",
       "    <tr>\n",
       "      <th>75%</th>\n",
       "      <td>0</td>\n",
       "      <td>120</td>\n",
       "    </tr>\n",
       "    <tr>\n",
       "      <th>max</th>\n",
       "      <td>6</td>\n",
       "      <td>655</td>\n",
       "    </tr>\n",
       "  </tbody>\n",
       "</table>\n",
       "</div>"
      ],
      "text/plain": [
       "Variable  num_of_prev_attempts  studied_credits\n",
       "count                    32593            32593\n",
       "mean                         0               79\n",
       "std                          0               41\n",
       "min                          0               30\n",
       "25%                          0               60\n",
       "50%                          0               60\n",
       "75%                          0              120\n",
       "max                          6              655"
      ]
     },
     "execution_count": 26,
     "metadata": {},
     "output_type": "execute_result"
    }
   ],
   "source": [
    "# show statistical breakdown of numerical values in student info\n",
    "student_info.describe().astype(int)"
   ]
  },
  {
   "cell_type": "code",
   "execution_count": 29,
   "id": "9ed78feb-f907-4f44-9738-292847114012",
   "metadata": {},
   "outputs": [],
   "source": [
    "# store the highest number of module previous attempts by students\n",
    "max_attempts = student_info['num_of_prev_attempts'].max()"
   ]
  },
  {
   "cell_type": "code",
   "execution_count": 30,
   "id": "7c4d994e-d797-4291-9304-455d74bda54a",
   "metadata": {},
   "outputs": [
    {
     "data": {
      "text/markdown": [
       "\n",
       "* Most students do not have a previous attempt, but there is a high of 6 attempts.\n",
       "* We can only have data for up to two of the students attempts since we only have two years worth of data.\n"
      ],
      "text/plain": [
       "<IPython.core.display.Markdown object>"
      ]
     },
     "execution_count": 30,
     "metadata": {},
     "output_type": "execute_result"
    }
   ],
   "source": [
    "md(f'''\n",
    "* Most students do not have a previous attempt, but there is a high of {max_attempts} attempts.\n",
    "* We can only have data for up to two of the students attempts since we only have two years worth of data.\n",
    "''')"
   ]
  },
  {
   "cell_type": "code",
   "execution_count": 32,
   "id": "b9f8863d-cea7-42ed-9643-f6219990cf62",
   "metadata": {},
   "outputs": [],
   "source": []
  }
 ],
 "metadata": {
  "kernelspec": {
   "display_name": "Python 3",
   "language": "python",
   "name": "python3"
  },
  "language_info": {
   "codemirror_mode": {
    "name": "ipython",
    "version": 3
   },
   "file_extension": ".py",
   "mimetype": "text/x-python",
   "name": "python",
   "nbconvert_exporter": "python",
   "pygments_lexer": "ipython3",
   "version": "3.9.6"
  }
 },
 "nbformat": 4,
 "nbformat_minor": 5
}
