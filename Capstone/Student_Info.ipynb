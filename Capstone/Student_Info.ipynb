{
 "cells": [
  {
   "cell_type": "code",
   "execution_count": 1,
   "id": "d548f977-55e4-499c-996c-5aa8070958b0",
   "metadata": {
    "tags": [
     "remove_cell"
    ]
   },
   "outputs": [],
   "source": [
    "from functions import *"
   ]
  },
  {
   "cell_type": "markdown",
   "id": "e5a14227-1aa2-445b-8c28-1dcf1751ca8b",
   "metadata": {},
   "source": [
    "# Students\n",
    "\n",
    "---"
   ]
  },
  {
   "cell_type": "markdown",
   "id": "eb384d36-73ae-41ec-94cc-330079eef6cd",
   "metadata": {},
   "source": []
  },
  {
   "cell_type": "markdown",
   "id": "77349fd2-fb9e-4319-9e22-7c4d689fe8b9",
   "metadata": {},
   "source": [
    "The student info dataframe contains information about students including the module and presentation they took, demographic information and the final result of their studies."
   ]
  },
  {
   "cell_type": "code",
   "execution_count": 2,
   "id": "77678c71-d2e0-4dfd-8af5-a20cd4168caf",
   "metadata": {
    "tags": [
     "remove_input"
    ]
   },
   "outputs": [
    {
     "data": {
      "text/html": [
       "<div>\n",
       "<style scoped>\n",
       "    .dataframe tbody tr th:only-of-type {\n",
       "        vertical-align: middle;\n",
       "    }\n",
       "\n",
       "    .dataframe tbody tr th {\n",
       "        vertical-align: top;\n",
       "    }\n",
       "\n",
       "    .dataframe thead th {\n",
       "        text-align: right;\n",
       "    }\n",
       "</style>\n",
       "<table border=\"1\" class=\"dataframe\">\n",
       "  <thead>\n",
       "    <tr style=\"text-align: right;\">\n",
       "      <th></th>\n",
       "      <th>code_module</th>\n",
       "      <th>code_presentation</th>\n",
       "      <th>id_student</th>\n",
       "      <th>gender</th>\n",
       "      <th>region</th>\n",
       "      <th>highest_education</th>\n",
       "      <th>imd_band</th>\n",
       "      <th>age_band</th>\n",
       "      <th>num_of_prev_attempts</th>\n",
       "      <th>studied_credits</th>\n",
       "      <th>disability</th>\n",
       "      <th>final_result</th>\n",
       "    </tr>\n",
       "  </thead>\n",
       "  <tbody>\n",
       "    <tr>\n",
       "      <th>0</th>\n",
       "      <td>AAA</td>\n",
       "      <td>2013J</td>\n",
       "      <td>11391</td>\n",
       "      <td>M</td>\n",
       "      <td>East Anglian Region</td>\n",
       "      <td>HE Qualification</td>\n",
       "      <td>90-100%</td>\n",
       "      <td>55&lt;=</td>\n",
       "      <td>0</td>\n",
       "      <td>240</td>\n",
       "      <td>N</td>\n",
       "      <td>Pass</td>\n",
       "    </tr>\n",
       "    <tr>\n",
       "      <th>1</th>\n",
       "      <td>AAA</td>\n",
       "      <td>2013J</td>\n",
       "      <td>28400</td>\n",
       "      <td>F</td>\n",
       "      <td>Scotland</td>\n",
       "      <td>HE Qualification</td>\n",
       "      <td>20-30%</td>\n",
       "      <td>35-55</td>\n",
       "      <td>0</td>\n",
       "      <td>60</td>\n",
       "      <td>N</td>\n",
       "      <td>Pass</td>\n",
       "    </tr>\n",
       "    <tr>\n",
       "      <th>2</th>\n",
       "      <td>AAA</td>\n",
       "      <td>2013J</td>\n",
       "      <td>30268</td>\n",
       "      <td>F</td>\n",
       "      <td>North Western Region</td>\n",
       "      <td>A Level or Equivalent</td>\n",
       "      <td>30-40%</td>\n",
       "      <td>35-55</td>\n",
       "      <td>0</td>\n",
       "      <td>60</td>\n",
       "      <td>Y</td>\n",
       "      <td>Withdrawn</td>\n",
       "    </tr>\n",
       "    <tr>\n",
       "      <th>3</th>\n",
       "      <td>AAA</td>\n",
       "      <td>2013J</td>\n",
       "      <td>31604</td>\n",
       "      <td>F</td>\n",
       "      <td>South East Region</td>\n",
       "      <td>A Level or Equivalent</td>\n",
       "      <td>50-60%</td>\n",
       "      <td>35-55</td>\n",
       "      <td>0</td>\n",
       "      <td>60</td>\n",
       "      <td>N</td>\n",
       "      <td>Pass</td>\n",
       "    </tr>\n",
       "    <tr>\n",
       "      <th>4</th>\n",
       "      <td>AAA</td>\n",
       "      <td>2013J</td>\n",
       "      <td>32885</td>\n",
       "      <td>F</td>\n",
       "      <td>West Midlands Region</td>\n",
       "      <td>Lower Than A Level</td>\n",
       "      <td>50-60%</td>\n",
       "      <td>0-35</td>\n",
       "      <td>0</td>\n",
       "      <td>60</td>\n",
       "      <td>N</td>\n",
       "      <td>Pass</td>\n",
       "    </tr>\n",
       "  </tbody>\n",
       "</table>\n",
       "</div>"
      ],
      "text/plain": [
       "  code_module code_presentation  id_student gender                region  \\\n",
       "0         AAA             2013J       11391      M   East Anglian Region   \n",
       "1         AAA             2013J       28400      F              Scotland   \n",
       "2         AAA             2013J       30268      F  North Western Region   \n",
       "3         AAA             2013J       31604      F     South East Region   \n",
       "4         AAA             2013J       32885      F  West Midlands Region   \n",
       "\n",
       "       highest_education imd_band age_band  num_of_prev_attempts  \\\n",
       "0       HE Qualification  90-100%     55<=                     0   \n",
       "1       HE Qualification   20-30%    35-55                     0   \n",
       "2  A Level or Equivalent   30-40%    35-55                     0   \n",
       "3  A Level or Equivalent   50-60%    35-55                     0   \n",
       "4     Lower Than A Level   50-60%     0-35                     0   \n",
       "\n",
       "   studied_credits disability final_result  \n",
       "0              240          N         Pass  \n",
       "1               60          N         Pass  \n",
       "2               60          Y    Withdrawn  \n",
       "3               60          N         Pass  \n",
       "4               60          N         Pass  "
      ]
     },
     "execution_count": 2,
     "metadata": {},
     "output_type": "execute_result"
    }
   ],
   "source": [
    "# looking at the student_info dataframe\n",
    "student_info.head()"
   ]
  },
  {
   "cell_type": "markdown",
   "id": "2921a502-dd6c-4a6a-9b49-c00e22402cf6",
   "metadata": {},
   "source": [
    "## Student Info Contents\n",
    "\n",
    "* **code_module**: The code module represents the course the student is taking.\n",
    "* **code_presentation**: The code presentations are the year and semester the student is taking the course.\n",
    "* **id_student**: The student ID is a unique identifier for each student\n",
    "* **gender**: The gender represents the binary gender of a student 'M' for students who identify as male and 'F' for students who identify as female.\n",
    "* **region**: Region represents the location of the student when they took the module. All regions are in the UK, Scotland, Ireland or Wales.\n",
    "* **highest_education**: Highest education is representative of a students highest level of formal academic achievement.\n",
    "    - Education levels in order from least to most formal education: \n",
    "        - No formal quals (qualifications)\n",
    "        - Lower than A Level which is nearly but not quite analagous to under high school level\n",
    "        - A Level or equivalent which is again nearly analagous to high school level, but more like college ready\n",
    "        - HE Qualification which stands for higher education qualification\n",
    "        - Post Graduate Qualification\n",
    "* **imd_band**: The imd_band represents the Indices of multiple deprivation (IMD) score which is a commonly used method in the UK to measure poverty or deprivation in an area. The lower the score, the more 'deprived' the area is.\n",
    "* **age_band**: There are only three bins for age; 0-35, 35-55 and over 55\n",
    "* **num_of_prev_attempts**: The number of times the student has attempted the course previously.\n",
    "* **studied_credits**: The number of credits for the module the student is taking.\n",
    "* **disability**: Disability status is represented by a binary 'Y', yes a student does identify as having a disability and 'N', no a student does not identify as having a disability.\n",
    "* **final_results**: * The final result is the students overall result in the class.\n",
    "    - Possible Results include:\n",
    "         - Pass: The student passed the course\n",
    "         - Fail: The student did not pass the course\n",
    "         - Withdraw: The student withdrew before the course term ended\n",
    "         - Distinction: The student passed the class with distinction"
   ]
  },
  {
   "cell_type": "markdown",
   "id": "01e4884a-7a09-4199-a840-9f3818b0d61c",
   "metadata": {},
   "source": [
    "* num_of_prev_attempts will be changed to prev_attempts to save space\n",
    "* 'Y' and 'N' in disability can be changed to boolean to make it easier to work with"
   ]
  },
  {
   "cell_type": "code",
   "execution_count": 57,
   "id": "de9a3139-0c0e-483f-a112-255de7dac41f",
   "metadata": {
    "tags": [
     "remove_cell"
    ]
   },
   "outputs": [],
   "source": [
    "# rename num_of_prev_attempts column to prev_attempts to save space\n",
    "student_info = student_info.rename(columns={'num_of_prev_attempts':'prev_attempts'})\n",
    "student_info = student_info.replace({'disability':{'Y':True, 'N':False}})"
   ]
  },
  {
   "cell_type": "markdown",
   "id": "ac599dc0-225f-4b28-b2d2-5ab4ea15eb3b",
   "metadata": {},
   "source": [
    "---\n",
    "\n",
    "## Student Info Information"
   ]
  },
  {
   "cell_type": "code",
   "execution_count": 4,
   "id": "ee706d71-4274-4a34-9449-6fc3f962873c",
   "metadata": {
    "tags": [
     "remove_input"
    ]
   },
   "outputs": [
    {
     "data": {
      "text/html": [
       "<div>\n",
       "<style scoped>\n",
       "    .dataframe tbody tr th:only-of-type {\n",
       "        vertical-align: middle;\n",
       "    }\n",
       "\n",
       "    .dataframe tbody tr th {\n",
       "        vertical-align: top;\n",
       "    }\n",
       "\n",
       "    .dataframe thead th {\n",
       "        text-align: right;\n",
       "    }\n",
       "</style>\n",
       "<table border=\"1\" class=\"dataframe\">\n",
       "  <thead>\n",
       "    <tr style=\"text-align: right;\">\n",
       "      <th></th>\n",
       "      <th>Count</th>\n",
       "    </tr>\n",
       "  </thead>\n",
       "  <tbody>\n",
       "    <tr>\n",
       "      <th>Columns</th>\n",
       "      <td>12</td>\n",
       "    </tr>\n",
       "    <tr>\n",
       "      <th>Rows</th>\n",
       "      <td>32593</td>\n",
       "    </tr>\n",
       "  </tbody>\n",
       "</table>\n",
       "</div>"
      ],
      "text/plain": [
       "         Count\n",
       "Columns     12\n",
       "Rows     32593"
      ]
     },
     "execution_count": 4,
     "metadata": {},
     "output_type": "execute_result"
    }
   ],
   "source": [
    "# get size counts of student_info\n",
    "get_size(student_info)"
   ]
  },
  {
   "cell_type": "code",
   "execution_count": 5,
   "id": "b3d8b2a2-64a3-444a-90c7-50aa8b6e8c08",
   "metadata": {
    "tags": [
     "remove_input"
    ]
   },
   "outputs": [
    {
     "data": {
      "text/markdown": [
       "\n",
       "Student Info has 12 columns and 32,593 rows\n"
      ],
      "text/plain": [
       "<IPython.core.display.Markdown object>"
      ]
     },
     "execution_count": 5,
     "metadata": {},
     "output_type": "execute_result"
    }
   ],
   "source": [
    "md(f'''\n",
    "Student Info has {len(student_info.columns)} columns and {\"{:,}\".format(len(student_info))} rows\n",
    "''')"
   ]
  },
  {
   "cell_type": "code",
   "execution_count": 6,
   "id": "284377a5-1698-4cb2-9d7e-f6ab7b5950b9",
   "metadata": {
    "tags": [
     "remove_input"
    ]
   },
   "outputs": [
    {
     "data": {
      "text/plain": [
       "code_module          object\n",
       "code_presentation    object\n",
       "id_student            int64\n",
       "gender               object\n",
       "region               object\n",
       "highest_education    object\n",
       "imd_band             object\n",
       "age_band             object\n",
       "prev_attempts         int64\n",
       "studied_credits       int64\n",
       "disability           object\n",
       "final_result         object\n",
       "dtype: object"
      ]
     },
     "execution_count": 6,
     "metadata": {},
     "output_type": "execute_result"
    }
   ],
   "source": [
    "# show student info data types\n",
    "get_dtypes(student_info)"
   ]
  },
  {
   "cell_type": "markdown",
   "id": "7b71cf15-eb52-4d18-85fa-bdde712629ba",
   "metadata": {},
   "source": [
    "* `id_student` is currently `int64` datatype, but would be more appropriate to recast it as categorical.\n",
    "* `object` datatypes can have unexpected behavior and should be recast to `string`\n"
   ]
  },
  {
   "cell_type": "code",
   "execution_count": 7,
   "id": "f5aace78-48dc-4328-aba9-26d30fd18dcb",
   "metadata": {
    "tags": [
     "remove_cell"
    ]
   },
   "outputs": [
    {
     "data": {
      "text/plain": [
       "code_module          string\n",
       "code_presentation    string\n",
       "id_student           string\n",
       "gender               string\n",
       "region               string\n",
       "highest_education    string\n",
       "imd_band             string\n",
       "age_band             string\n",
       "prev_attempts         Int64\n",
       "studied_credits       Int64\n",
       "disability           string\n",
       "final_result         string\n",
       "dtype: object"
      ]
     },
     "execution_count": 7,
     "metadata": {},
     "output_type": "execute_result"
    }
   ],
   "source": [
    "# changing id_student to the object data type\n",
    "student_info['id_student'] = student_info['id_student'].astype(str)\n",
    "student_info = student_info.convert_dtypes()\n",
    "student_info.dtypes"
   ]
  },
  {
   "cell_type": "markdown",
   "id": "a9bff32a-0995-4135-87c7-195ee15cf083",
   "metadata": {},
   "source": [
    "**Null Values**"
   ]
  },
  {
   "cell_type": "code",
   "execution_count": 8,
   "id": "d5afafad-68eb-462a-aadb-024459790296",
   "metadata": {
    "tags": [
     "remove_input"
    ]
   },
   "outputs": [
    {
     "data": {
      "text/html": [
       "<style type=\"text/css\">\n",
       "#T_08105_ td.col0 {\n",
       "  font-weight: bold;\n",
       "}\n",
       "</style>\n",
       "<table id=\"T_08105_\">\n",
       "  <thead>\n",
       "    <tr>\n",
       "      <th class=\"col_heading level0 col0\" >index</th>\n",
       "      <th class=\"col_heading level0 col1\" >Null Values</th>\n",
       "    </tr>\n",
       "  </thead>\n",
       "  <tbody>\n",
       "    <tr>\n",
       "      <td id=\"T_08105_row0_col0\" class=\"data row0 col0\" >code_module</td>\n",
       "      <td id=\"T_08105_row0_col1\" class=\"data row0 col1\" >0</td>\n",
       "    </tr>\n",
       "    <tr>\n",
       "      <td id=\"T_08105_row1_col0\" class=\"data row1 col0\" >code_presentation</td>\n",
       "      <td id=\"T_08105_row1_col1\" class=\"data row1 col1\" >0</td>\n",
       "    </tr>\n",
       "    <tr>\n",
       "      <td id=\"T_08105_row2_col0\" class=\"data row2 col0\" >id_student</td>\n",
       "      <td id=\"T_08105_row2_col1\" class=\"data row2 col1\" >0</td>\n",
       "    </tr>\n",
       "    <tr>\n",
       "      <td id=\"T_08105_row3_col0\" class=\"data row3 col0\" >gender</td>\n",
       "      <td id=\"T_08105_row3_col1\" class=\"data row3 col1\" >0</td>\n",
       "    </tr>\n",
       "    <tr>\n",
       "      <td id=\"T_08105_row4_col0\" class=\"data row4 col0\" >region</td>\n",
       "      <td id=\"T_08105_row4_col1\" class=\"data row4 col1\" >0</td>\n",
       "    </tr>\n",
       "    <tr>\n",
       "      <td id=\"T_08105_row5_col0\" class=\"data row5 col0\" >highest_education</td>\n",
       "      <td id=\"T_08105_row5_col1\" class=\"data row5 col1\" >0</td>\n",
       "    </tr>\n",
       "    <tr>\n",
       "      <td id=\"T_08105_row6_col0\" class=\"data row6 col0\" >imd_band</td>\n",
       "      <td id=\"T_08105_row6_col1\" class=\"data row6 col1\" >1111</td>\n",
       "    </tr>\n",
       "    <tr>\n",
       "      <td id=\"T_08105_row7_col0\" class=\"data row7 col0\" >age_band</td>\n",
       "      <td id=\"T_08105_row7_col1\" class=\"data row7 col1\" >0</td>\n",
       "    </tr>\n",
       "    <tr>\n",
       "      <td id=\"T_08105_row8_col0\" class=\"data row8 col0\" >prev_attempts</td>\n",
       "      <td id=\"T_08105_row8_col1\" class=\"data row8 col1\" >0</td>\n",
       "    </tr>\n",
       "    <tr>\n",
       "      <td id=\"T_08105_row9_col0\" class=\"data row9 col0\" >studied_credits</td>\n",
       "      <td id=\"T_08105_row9_col1\" class=\"data row9 col1\" >0</td>\n",
       "    </tr>\n",
       "    <tr>\n",
       "      <td id=\"T_08105_row10_col0\" class=\"data row10 col0\" >disability</td>\n",
       "      <td id=\"T_08105_row10_col1\" class=\"data row10 col1\" >0</td>\n",
       "    </tr>\n",
       "    <tr>\n",
       "      <td id=\"T_08105_row11_col0\" class=\"data row11 col0\" >final_result</td>\n",
       "      <td id=\"T_08105_row11_col1\" class=\"data row11 col1\" >0</td>\n",
       "    </tr>\n",
       "  </tbody>\n",
       "</table>\n"
      ],
      "text/plain": [
       "<pandas.io.formats.style.Styler at 0x247d7576310>"
      ]
     },
     "execution_count": 8,
     "metadata": {},
     "output_type": "execute_result"
    }
   ],
   "source": [
    "null_vals(student_info)"
   ]
  },
  {
   "cell_type": "code",
   "execution_count": 9,
   "id": "1db313a5-1bdf-42c6-9a31-cbe57d9b2c21",
   "metadata": {
    "tags": [
     "remove_input"
    ]
   },
   "outputs": [
    {
     "data": {
      "text/markdown": [
       "The imd_band variable has 1111 null values which we may have to work around."
      ],
      "text/plain": [
       "<IPython.core.display.Markdown object>"
      ]
     },
     "execution_count": 9,
     "metadata": {},
     "output_type": "execute_result"
    }
   ],
   "source": [
    "# store sum of imd null values\n",
    "imd_null = student_info['imd_band'].isnull().sum()\n",
    "md(f'''The imd_band variable has {imd_null} null values which we may have to work around.''')"
   ]
  },
  {
   "cell_type": "markdown",
   "id": "3c7117eb-3a57-4735-b7c3-17b2101032c4",
   "metadata": {},
   "source": [
    "**Duplicate Values**"
   ]
  },
  {
   "cell_type": "code",
   "execution_count": 10,
   "id": "c6b0c86c-1eb9-47dc-ae26-04858b8b63dc",
   "metadata": {
    "tags": [
     "remove_input"
    ]
   },
   "outputs": [
    {
     "data": {
      "text/markdown": [
       "There are no Duplicate Values"
      ],
      "text/plain": [
       "<IPython.core.display.Markdown object>"
      ]
     },
     "execution_count": 10,
     "metadata": {},
     "output_type": "execute_result"
    }
   ],
   "source": [
    "# show duplicate values in student info if any\n",
    "get_dupes(student_info)"
   ]
  },
  {
   "cell_type": "markdown",
   "id": "22de507f-e475-4e22-afbd-dc3fd9393de5",
   "metadata": {},
   "source": [
    "**Unique Counts**"
   ]
  },
  {
   "cell_type": "code",
   "execution_count": 11,
   "id": "8f2f48bf-d9fe-4964-8807-eda67574843c",
   "metadata": {
    "tags": [
     "remove_input"
    ]
   },
   "outputs": [
    {
     "data": {
      "text/html": [
       "<style type=\"text/css\">\n",
       "#T_015e4_ td.col0 {\n",
       "  font-weight: bold;\n",
       "}\n",
       "</style>\n",
       "<table id=\"T_015e4_\">\n",
       "  <thead>\n",
       "    <tr>\n",
       "      <th class=\"col_heading level0 col0\" >index</th>\n",
       "      <th class=\"col_heading level0 col1\" >Count</th>\n",
       "    </tr>\n",
       "  </thead>\n",
       "  <tbody>\n",
       "    <tr>\n",
       "      <td id=\"T_015e4_row0_col0\" class=\"data row0 col0\" >code_module</td>\n",
       "      <td id=\"T_015e4_row0_col1\" class=\"data row0 col1\" >7</td>\n",
       "    </tr>\n",
       "    <tr>\n",
       "      <td id=\"T_015e4_row1_col0\" class=\"data row1 col0\" >code_presentation</td>\n",
       "      <td id=\"T_015e4_row1_col1\" class=\"data row1 col1\" >4</td>\n",
       "    </tr>\n",
       "    <tr>\n",
       "      <td id=\"T_015e4_row2_col0\" class=\"data row2 col0\" >id_student</td>\n",
       "      <td id=\"T_015e4_row2_col1\" class=\"data row2 col1\" >28785</td>\n",
       "    </tr>\n",
       "    <tr>\n",
       "      <td id=\"T_015e4_row3_col0\" class=\"data row3 col0\" >gender</td>\n",
       "      <td id=\"T_015e4_row3_col1\" class=\"data row3 col1\" >2</td>\n",
       "    </tr>\n",
       "    <tr>\n",
       "      <td id=\"T_015e4_row4_col0\" class=\"data row4 col0\" >region</td>\n",
       "      <td id=\"T_015e4_row4_col1\" class=\"data row4 col1\" >13</td>\n",
       "    </tr>\n",
       "    <tr>\n",
       "      <td id=\"T_015e4_row5_col0\" class=\"data row5 col0\" >highest_education</td>\n",
       "      <td id=\"T_015e4_row5_col1\" class=\"data row5 col1\" >5</td>\n",
       "    </tr>\n",
       "    <tr>\n",
       "      <td id=\"T_015e4_row6_col0\" class=\"data row6 col0\" >imd_band</td>\n",
       "      <td id=\"T_015e4_row6_col1\" class=\"data row6 col1\" >10</td>\n",
       "    </tr>\n",
       "    <tr>\n",
       "      <td id=\"T_015e4_row7_col0\" class=\"data row7 col0\" >age_band</td>\n",
       "      <td id=\"T_015e4_row7_col1\" class=\"data row7 col1\" >3</td>\n",
       "    </tr>\n",
       "    <tr>\n",
       "      <td id=\"T_015e4_row8_col0\" class=\"data row8 col0\" >prev_attempts</td>\n",
       "      <td id=\"T_015e4_row8_col1\" class=\"data row8 col1\" >7</td>\n",
       "    </tr>\n",
       "    <tr>\n",
       "      <td id=\"T_015e4_row9_col0\" class=\"data row9 col0\" >studied_credits</td>\n",
       "      <td id=\"T_015e4_row9_col1\" class=\"data row9 col1\" >61</td>\n",
       "    </tr>\n",
       "    <tr>\n",
       "      <td id=\"T_015e4_row10_col0\" class=\"data row10 col0\" >disability</td>\n",
       "      <td id=\"T_015e4_row10_col1\" class=\"data row10 col1\" >2</td>\n",
       "    </tr>\n",
       "    <tr>\n",
       "      <td id=\"T_015e4_row11_col0\" class=\"data row11 col0\" >final_result</td>\n",
       "      <td id=\"T_015e4_row11_col1\" class=\"data row11 col1\" >4</td>\n",
       "    </tr>\n",
       "  </tbody>\n",
       "</table>\n"
      ],
      "text/plain": [
       "<pandas.io.formats.style.Styler at 0x247ead0bdc0>"
      ]
     },
     "execution_count": 11,
     "metadata": {},
     "output_type": "execute_result"
    }
   ],
   "source": [
    "# Get number of unique values per variable in student info\n",
    "count_unique(student_info)"
   ]
  },
  {
   "cell_type": "code",
   "execution_count": 12,
   "id": "2c89fb24-966e-4035-a136-19f76fbec543",
   "metadata": {
    "tags": [
     "remove_cell"
    ]
   },
   "outputs": [],
   "source": [
    "# store count of total student ids\n",
    "total_students = student_info['id_student'].count()\n",
    "# store count of unique student ids\n",
    "unique_students = student_info['id_student'].nunique()"
   ]
  },
  {
   "cell_type": "code",
   "execution_count": 19,
   "id": "5e4a51a5-1d47-4cee-85ff-d775be11ebd5",
   "metadata": {
    "tags": [
     "remove_input"
    ]
   },
   "outputs": [
    {
     "data": {
      "text/markdown": [
       "\n",
       "* There are 32,593 entries for students but only 28,785 unique student IDs.\n",
       "* This may represent students who have taken the course more than once or who are taking multiple modules\n"
      ],
      "text/plain": [
       "<IPython.core.display.Markdown object>"
      ]
     },
     "execution_count": 19,
     "metadata": {},
     "output_type": "execute_result"
    }
   ],
   "source": [
    "md(f'''\n",
    "* There are {\"{:,}\".format(total_students)} entries for students but only {\"{:,}\".format(unique_students)} unique student IDs.\n",
    "* This may represent students who have taken the course more than once or who are taking multiple modules\n",
    "''')"
   ]
  },
  {
   "cell_type": "markdown",
   "id": "f24cab70-bc40-46f2-83e9-2c0e89601a44",
   "metadata": {},
   "source": [
    "**Unique Categorical Values**"
   ]
  },
  {
   "cell_type": "code",
   "execution_count": 20,
   "id": "1c0a70d4-b84f-4108-96b0-381d2f4646fd",
   "metadata": {
    "tags": [
     "remove_input"
    ]
   },
   "outputs": [
    {
     "data": {
      "text/html": [
       "<style type=\"text/css\">\n",
       "#T_cf37d_ td.col0 {\n",
       "  font-weight: bold;\n",
       "}\n",
       "</style>\n",
       "<table id=\"T_cf37d_\">\n",
       "  <thead>\n",
       "    <tr>\n",
       "      <th class=\"col_heading level0 col0\" >index</th>\n",
       "      <th class=\"col_heading level0 col1\" >Values</th>\n",
       "    </tr>\n",
       "  </thead>\n",
       "  <tbody>\n",
       "    <tr>\n",
       "      <td id=\"T_cf37d_row0_col0\" class=\"data row0 col0\" >code_module</td>\n",
       "      <td id=\"T_cf37d_row0_col1\" class=\"data row0 col1\" >['AAA', 'BBB', 'CCC', 'DDD', 'EEE', 'FFF', 'GGG']</td>\n",
       "    </tr>\n",
       "    <tr>\n",
       "      <td id=\"T_cf37d_row1_col0\" class=\"data row1 col0\" >code_presentation</td>\n",
       "      <td id=\"T_cf37d_row1_col1\" class=\"data row1 col1\" >['2013J', '2014J', '2013B', '2014B']</td>\n",
       "    </tr>\n",
       "    <tr>\n",
       "      <td id=\"T_cf37d_row2_col0\" class=\"data row2 col0\" >gender</td>\n",
       "      <td id=\"T_cf37d_row2_col1\" class=\"data row2 col1\" >['M', 'F']</td>\n",
       "    </tr>\n",
       "    <tr>\n",
       "      <td id=\"T_cf37d_row3_col0\" class=\"data row3 col0\" >region</td>\n",
       "      <td id=\"T_cf37d_row3_col1\" class=\"data row3 col1\" >['East Anglian Region', 'Scotland', 'North Western Region', 'South East Region', 'West Midlands Region', 'Wales', 'North Region', 'South Region', 'Ireland', 'South West Region', 'East Midlands Region', 'Yorkshire Region', 'London Region']</td>\n",
       "    </tr>\n",
       "    <tr>\n",
       "      <td id=\"T_cf37d_row4_col0\" class=\"data row4 col0\" >highest_education</td>\n",
       "      <td id=\"T_cf37d_row4_col1\" class=\"data row4 col1\" >['HE Qualification', 'A Level or Equivalent', 'Lower Than A Level', 'Post Graduate Qualification', 'No Formal quals']</td>\n",
       "    </tr>\n",
       "    <tr>\n",
       "      <td id=\"T_cf37d_row5_col0\" class=\"data row5 col0\" >imd_band</td>\n",
       "      <td id=\"T_cf37d_row5_col1\" class=\"data row5 col1\" >['90-100%', '20-30%', '30-40%', '50-60%', '80-90%', '70-80%', <NA>, '60-70%', '40-50%', '10-20%', '0-10%']</td>\n",
       "    </tr>\n",
       "    <tr>\n",
       "      <td id=\"T_cf37d_row6_col0\" class=\"data row6 col0\" >age_band</td>\n",
       "      <td id=\"T_cf37d_row6_col1\" class=\"data row6 col1\" >['55<=', '35-55', '0-35']</td>\n",
       "    </tr>\n",
       "    <tr>\n",
       "      <td id=\"T_cf37d_row7_col0\" class=\"data row7 col0\" >disability</td>\n",
       "      <td id=\"T_cf37d_row7_col1\" class=\"data row7 col1\" >['N', 'Y']</td>\n",
       "    </tr>\n",
       "    <tr>\n",
       "      <td id=\"T_cf37d_row8_col0\" class=\"data row8 col0\" >final_result</td>\n",
       "      <td id=\"T_cf37d_row8_col1\" class=\"data row8 col1\" >['Pass', 'Withdrawn', 'Fail', 'Distinction']</td>\n",
       "    </tr>\n",
       "  </tbody>\n",
       "</table>\n"
      ],
      "text/plain": [
       "<pandas.io.formats.style.Styler at 0x2478a49bee0>"
      ]
     },
     "execution_count": 20,
     "metadata": {},
     "output_type": "execute_result"
    }
   ],
   "source": [
    "unique_vals(student_info)"
   ]
  },
  {
   "cell_type": "markdown",
   "id": "27330c6e-f2b7-4072-bc8b-87ebef9a4af0",
   "metadata": {},
   "source": [
    "In imd_band the % sign is missing in 10-20. We will add that for consistency and clarity"
   ]
  },
  {
   "cell_type": "code",
   "execution_count": 30,
   "id": "adc531d4-82f1-49b8-9fce-4ea954f1d39f",
   "metadata": {
    "tags": [
     "remove_input"
    ]
   },
   "outputs": [
    {
     "data": {
      "text/html": [
       "<div>\n",
       "<style scoped>\n",
       "    .dataframe tbody tr th:only-of-type {\n",
       "        vertical-align: middle;\n",
       "    }\n",
       "\n",
       "    .dataframe tbody tr th {\n",
       "        vertical-align: top;\n",
       "    }\n",
       "\n",
       "    .dataframe thead th {\n",
       "        text-align: right;\n",
       "    }\n",
       "</style>\n",
       "<table border=\"1\" class=\"dataframe\">\n",
       "  <thead>\n",
       "    <tr style=\"text-align: right;\">\n",
       "      <th></th>\n",
       "      <th>imd_band</th>\n",
       "    </tr>\n",
       "  </thead>\n",
       "  <tbody>\n",
       "    <tr>\n",
       "      <th>0</th>\n",
       "      <td>0-10%</td>\n",
       "    </tr>\n",
       "    <tr>\n",
       "      <th>1</th>\n",
       "      <td>10-20%</td>\n",
       "    </tr>\n",
       "    <tr>\n",
       "      <th>2</th>\n",
       "      <td>20-30%</td>\n",
       "    </tr>\n",
       "    <tr>\n",
       "      <th>3</th>\n",
       "      <td>30-40%</td>\n",
       "    </tr>\n",
       "    <tr>\n",
       "      <th>4</th>\n",
       "      <td>40-50%</td>\n",
       "    </tr>\n",
       "    <tr>\n",
       "      <th>5</th>\n",
       "      <td>50-60%</td>\n",
       "    </tr>\n",
       "    <tr>\n",
       "      <th>6</th>\n",
       "      <td>60-70%</td>\n",
       "    </tr>\n",
       "    <tr>\n",
       "      <th>7</th>\n",
       "      <td>70-80%</td>\n",
       "    </tr>\n",
       "    <tr>\n",
       "      <th>8</th>\n",
       "      <td>80-90%</td>\n",
       "    </tr>\n",
       "    <tr>\n",
       "      <th>9</th>\n",
       "      <td>90-100%</td>\n",
       "    </tr>\n",
       "    <tr>\n",
       "      <th>10</th>\n",
       "      <td>&lt;NA&gt;</td>\n",
       "    </tr>\n",
       "  </tbody>\n",
       "</table>\n",
       "</div>"
      ],
      "text/plain": [
       "   imd_band\n",
       "0     0-10%\n",
       "1    10-20%\n",
       "2    20-30%\n",
       "3    30-40%\n",
       "4    40-50%\n",
       "5    50-60%\n",
       "6    60-70%\n",
       "7    70-80%\n",
       "8    80-90%\n",
       "9   90-100%\n",
       "10     <NA>"
      ]
     },
     "execution_count": 30,
     "metadata": {},
     "output_type": "execute_result"
    }
   ],
   "source": [
    "# changing all 10-20 values in student_info imd_band to 10-20% for consistency's sake\n",
    "student_info.loc[student_info['imd_band'] == '10-20', 'imd_band'] = '10-20%'\n",
    "# making sure it updated\n",
    "dataframe(student_info['imd_band'].explode().unique(), columns=['imd_band']).sort_values(by='imd_band').reset_index(drop=True)"
   ]
  },
  {
   "cell_type": "code",
   "execution_count": 59,
   "id": "1a0ae3a8-c592-441f-853d-8e9ef1ab6d30",
   "metadata": {
    "tags": [
     "remove_input"
    ]
   },
   "outputs": [
    {
     "data": {
      "text/html": [
       "<div>\n",
       "<style scoped>\n",
       "    .dataframe tbody tr th:only-of-type {\n",
       "        vertical-align: middle;\n",
       "    }\n",
       "\n",
       "    .dataframe tbody tr th {\n",
       "        vertical-align: top;\n",
       "    }\n",
       "\n",
       "    .dataframe thead th {\n",
       "        text-align: right;\n",
       "    }\n",
       "</style>\n",
       "<table border=\"1\" class=\"dataframe\">\n",
       "  <thead>\n",
       "    <tr style=\"text-align: right;\">\n",
       "      <th></th>\n",
       "      <th>final_result</th>\n",
       "    </tr>\n",
       "  </thead>\n",
       "  <tbody>\n",
       "    <tr>\n",
       "      <th>Pass</th>\n",
       "      <td>12361</td>\n",
       "    </tr>\n",
       "    <tr>\n",
       "      <th>Withdrawn</th>\n",
       "      <td>10156</td>\n",
       "    </tr>\n",
       "    <tr>\n",
       "      <th>Fail</th>\n",
       "      <td>7052</td>\n",
       "    </tr>\n",
       "    <tr>\n",
       "      <th>Distinction</th>\n",
       "      <td>3024</td>\n",
       "    </tr>\n",
       "  </tbody>\n",
       "</table>\n",
       "</div>"
      ],
      "text/plain": [
       "             final_result\n",
       "Pass                12361\n",
       "Withdrawn           10156\n",
       "Fail                 7052\n",
       "Distinction          3024"
      ]
     },
     "execution_count": 59,
     "metadata": {},
     "output_type": "execute_result"
    }
   ],
   "source": [
    "dataframe(student_info['final_result'].value_counts())"
   ]
  },
  {
   "cell_type": "markdown",
   "id": "33021991-b346-4bee-9a22-d0eafed344de",
   "metadata": {},
   "source": [
    "**Numerical Values**"
   ]
  },
  {
   "cell_type": "code",
   "execution_count": 35,
   "id": "92fb8a11-86e1-4936-8773-ba2c27a9738a",
   "metadata": {
    "tags": [
     "remove_input"
    ]
   },
   "outputs": [
    {
     "data": {
      "text/html": [
       "<div>\n",
       "<style scoped>\n",
       "    .dataframe tbody tr th:only-of-type {\n",
       "        vertical-align: middle;\n",
       "    }\n",
       "\n",
       "    .dataframe tbody tr th {\n",
       "        vertical-align: top;\n",
       "    }\n",
       "\n",
       "    .dataframe thead th {\n",
       "        text-align: right;\n",
       "    }\n",
       "</style>\n",
       "<table border=\"1\" class=\"dataframe\">\n",
       "  <thead>\n",
       "    <tr style=\"text-align: right;\">\n",
       "      <th></th>\n",
       "      <th>prev_attempts</th>\n",
       "      <th>studied_credits</th>\n",
       "    </tr>\n",
       "  </thead>\n",
       "  <tbody>\n",
       "    <tr>\n",
       "      <th>count</th>\n",
       "      <td>32593.0</td>\n",
       "      <td>32593.0</td>\n",
       "    </tr>\n",
       "    <tr>\n",
       "      <th>mean</th>\n",
       "      <td>0.2</td>\n",
       "      <td>79.8</td>\n",
       "    </tr>\n",
       "    <tr>\n",
       "      <th>std</th>\n",
       "      <td>0.5</td>\n",
       "      <td>41.1</td>\n",
       "    </tr>\n",
       "    <tr>\n",
       "      <th>min</th>\n",
       "      <td>0.0</td>\n",
       "      <td>30.0</td>\n",
       "    </tr>\n",
       "    <tr>\n",
       "      <th>25%</th>\n",
       "      <td>0.0</td>\n",
       "      <td>60.0</td>\n",
       "    </tr>\n",
       "    <tr>\n",
       "      <th>50%</th>\n",
       "      <td>0.0</td>\n",
       "      <td>60.0</td>\n",
       "    </tr>\n",
       "    <tr>\n",
       "      <th>75%</th>\n",
       "      <td>0.0</td>\n",
       "      <td>120.0</td>\n",
       "    </tr>\n",
       "    <tr>\n",
       "      <th>max</th>\n",
       "      <td>6.0</td>\n",
       "      <td>655.0</td>\n",
       "    </tr>\n",
       "  </tbody>\n",
       "</table>\n",
       "</div>"
      ],
      "text/plain": [
       "       prev_attempts  studied_credits\n",
       "count        32593.0          32593.0\n",
       "mean             0.2             79.8\n",
       "std              0.5             41.1\n",
       "min              0.0             30.0\n",
       "25%              0.0             60.0\n",
       "50%              0.0             60.0\n",
       "75%              0.0            120.0\n",
       "max              6.0            655.0"
      ]
     },
     "execution_count": 35,
     "metadata": {},
     "output_type": "execute_result"
    }
   ],
   "source": [
    "# show statistical breakdown of numerical values in student info\n",
    "student_info.describe().round(1)"
   ]
  },
  {
   "cell_type": "code",
   "execution_count": 49,
   "id": "9ed78feb-f907-4f44-9738-292847114012",
   "metadata": {
    "tags": [
     "remove_cell"
    ]
   },
   "outputs": [],
   "source": [
    "# store the highest number of module previous attempts by students\n",
    "max_attempts = student_info['prev_attempts'].max()\n",
    "max_credits = student_info['studied_credits'].max()\n",
    "min_credits = student_info['studied_credits'].min()"
   ]
  },
  {
   "cell_type": "code",
   "execution_count": 55,
   "id": "7c4d994e-d797-4291-9304-455d74bda54a",
   "metadata": {
    "tags": [
     "remove_input"
    ]
   },
   "outputs": [
    {
     "data": {
      "text/markdown": [
       "\n",
       "* Most students do not have a previous attempt, but there is a high of 6 attempts.\n",
       "    * We can only have data for up to two of the students attempts since we only have two years worth of data.\n",
       "* The maximum amount of credits a student took during the module was 655\n",
       "    * This over twenty times the minimum of 30 credits.\n",
       "* It is unknown how these courses were weighted, but this amount of credits at the same time may have influenced student success\n"
      ],
      "text/plain": [
       "<IPython.core.display.Markdown object>"
      ]
     },
     "execution_count": 55,
     "metadata": {},
     "output_type": "execute_result"
    }
   ],
   "source": [
    "md(f'''\n",
    "* Most students do not have a previous attempt, but there is a high of {max_attempts} attempts.\n",
    "    * We can only have data for up to two of the students attempts since we only have two years worth of data.\n",
    "* The maximum amount of credits a student took during the module was {max_credits}\n",
    "    * This over twenty times the minimum of {min_credits} credits.\n",
    "* It is unknown how these courses were weighted, but this amount of credits at the same time may have influenced student success\n",
    "''')"
   ]
  },
  {
   "cell_type": "markdown",
   "id": "bec604a0-3280-46cb-8607-3ec1ed5394f3",
   "metadata": {},
   "source": [
    "# Student Registration Dataframe\n",
    "\n",
    "---"
   ]
  },
  {
   "cell_type": "markdown",
   "id": "2809ed9f-3eec-47ad-ae7f-b0b6d7f15272",
   "metadata": {},
   "source": [
    "## General"
   ]
  },
  {
   "cell_type": "markdown",
   "id": "e66cf453-cbdb-4476-8f59-6d689f7f0918",
   "metadata": {},
   "source": [
    "The student registration dataframe contains information about the dates that students registered and,if applicable, unregistered from the module."
   ]
  },
  {
   "cell_type": "code",
   "execution_count": 30,
   "id": "fa8c5401-2804-4a73-a485-43c6314475b2",
   "metadata": {
    "tags": [
     "remove_input"
    ]
   },
   "outputs": [
    {
     "data": {
      "text/html": [
       "<div>\n",
       "<style scoped>\n",
       "    .dataframe tbody tr th:only-of-type {\n",
       "        vertical-align: middle;\n",
       "    }\n",
       "\n",
       "    .dataframe tbody tr th {\n",
       "        vertical-align: top;\n",
       "    }\n",
       "\n",
       "    .dataframe thead th {\n",
       "        text-align: right;\n",
       "    }\n",
       "</style>\n",
       "<table border=\"1\" class=\"dataframe\">\n",
       "  <thead>\n",
       "    <tr style=\"text-align: right;\">\n",
       "      <th></th>\n",
       "      <th>code_module</th>\n",
       "      <th>code_presentation</th>\n",
       "      <th>id_student</th>\n",
       "      <th>date_registration</th>\n",
       "      <th>date_unregistration</th>\n",
       "    </tr>\n",
       "  </thead>\n",
       "  <tbody>\n",
       "    <tr>\n",
       "      <th>0</th>\n",
       "      <td>AAA</td>\n",
       "      <td>2013J</td>\n",
       "      <td>11391</td>\n",
       "      <td>-159.0</td>\n",
       "      <td>NaN</td>\n",
       "    </tr>\n",
       "    <tr>\n",
       "      <th>1</th>\n",
       "      <td>AAA</td>\n",
       "      <td>2013J</td>\n",
       "      <td>28400</td>\n",
       "      <td>-53.0</td>\n",
       "      <td>NaN</td>\n",
       "    </tr>\n",
       "    <tr>\n",
       "      <th>2</th>\n",
       "      <td>AAA</td>\n",
       "      <td>2013J</td>\n",
       "      <td>30268</td>\n",
       "      <td>-92.0</td>\n",
       "      <td>12.0</td>\n",
       "    </tr>\n",
       "    <tr>\n",
       "      <th>3</th>\n",
       "      <td>AAA</td>\n",
       "      <td>2013J</td>\n",
       "      <td>31604</td>\n",
       "      <td>-52.0</td>\n",
       "      <td>NaN</td>\n",
       "    </tr>\n",
       "    <tr>\n",
       "      <th>4</th>\n",
       "      <td>AAA</td>\n",
       "      <td>2013J</td>\n",
       "      <td>32885</td>\n",
       "      <td>-176.0</td>\n",
       "      <td>NaN</td>\n",
       "    </tr>\n",
       "  </tbody>\n",
       "</table>\n",
       "</div>"
      ],
      "text/plain": [
       "  code_module code_presentation id_student  date_registration  \\\n",
       "0         AAA             2013J      11391             -159.0   \n",
       "1         AAA             2013J      28400              -53.0   \n",
       "2         AAA             2013J      30268              -92.0   \n",
       "3         AAA             2013J      31604              -52.0   \n",
       "4         AAA             2013J      32885             -176.0   \n",
       "\n",
       "   date_unregistration  \n",
       "0                  NaN  \n",
       "1                  NaN  \n",
       "2                 12.0  \n",
       "3                  NaN  \n",
       "4                  NaN  "
      ]
     },
     "execution_count": 30,
     "metadata": {},
     "output_type": "execute_result"
    }
   ],
   "source": [
    "# looking at the student_registration dataframe\n",
    "student_registration.head()"
   ]
  },
  {
   "cell_type": "markdown",
   "id": "86bfad0d-ec27-4e4f-b7ab-0e22a246745c",
   "metadata": {},
   "source": [
    "## Student Registration Contents\n",
    "\n",
    "* **code_module**: The code module represents the course which the sutdent registered for.\n",
    "* **code_presentation**: The code presentation represents the time of year the course which the student registered for began.\n",
    "* **id_student**: The student ID is the unique identifier for each student.\n",
    "* **date_registration**: The registration date is the date that the student registered for the module relative to the start of the module. A negative value indicates that many days before the module began.\n",
    "* **date_unregistration**: The unregistration date is the date that the student unregistered from the course module in relation to the start date of the course, if applicable.\n"
   ]
  },
  {
   "cell_type": "markdown",
   "id": "182a7371-4591-42ff-b63c-0397dc57e6f3",
   "metadata": {},
   "source": [
    "**Size**"
   ]
  },
  {
   "cell_type": "code",
   "execution_count": 31,
   "id": "8b45306f-0a9a-4dac-b467-5bb400bfc890",
   "metadata": {
    "tags": [
     "remove_input"
    ]
   },
   "outputs": [
    {
     "data": {
      "text/html": [
       "<div>\n",
       "<style scoped>\n",
       "    .dataframe tbody tr th:only-of-type {\n",
       "        vertical-align: middle;\n",
       "    }\n",
       "\n",
       "    .dataframe tbody tr th {\n",
       "        vertical-align: top;\n",
       "    }\n",
       "\n",
       "    .dataframe thead th {\n",
       "        text-align: right;\n",
       "    }\n",
       "</style>\n",
       "<table border=\"1\" class=\"dataframe\">\n",
       "  <thead>\n",
       "    <tr style=\"text-align: right;\">\n",
       "      <th></th>\n",
       "      <th>Count</th>\n",
       "    </tr>\n",
       "  </thead>\n",
       "  <tbody>\n",
       "    <tr>\n",
       "      <th>Columns</th>\n",
       "      <td>5</td>\n",
       "    </tr>\n",
       "    <tr>\n",
       "      <th>Rows</th>\n",
       "      <td>32593</td>\n",
       "    </tr>\n",
       "  </tbody>\n",
       "</table>\n",
       "</div>"
      ],
      "text/plain": [
       "         Count\n",
       "Columns      5\n",
       "Rows     32593"
      ]
     },
     "execution_count": 31,
     "metadata": {},
     "output_type": "execute_result"
    }
   ],
   "source": [
    "# get the row & column sizes for student registration\n",
    "get_size(student_registration)"
   ]
  },
  {
   "cell_type": "code",
   "execution_count": 32,
   "id": "fddf5498-7cac-46e6-8a55-85745af83ff3",
   "metadata": {
    "tags": [
     "remove_input"
    ]
   },
   "outputs": [
    {
     "data": {
      "text/markdown": [
       "\n",
       "Student Registration has 5 columns and 32,593 rows\n"
      ],
      "text/plain": [
       "<IPython.core.display.Markdown object>"
      ]
     },
     "execution_count": 32,
     "metadata": {},
     "output_type": "execute_result"
    }
   ],
   "source": [
    "md(f'''\n",
    "Student Registration has {len(student_registration.columns)} columns and {\"{:,}\".format(len(student_registration))} rows\n",
    "''')"
   ]
  },
  {
   "cell_type": "markdown",
   "id": "dcf50502-779e-4355-9943-b242556b3545",
   "metadata": {},
   "source": [
    "**Data Types**"
   ]
  },
  {
   "cell_type": "code",
   "execution_count": 33,
   "id": "e5667edb-dce5-45b8-938c-ed6ee8f54612",
   "metadata": {
    "tags": [
     "remove_input"
    ]
   },
   "outputs": [
    {
     "data": {
      "text/html": [
       "<style type=\"text/css\">\n",
       "#T_1375f_ td.col0 {\n",
       "  font-weight: bold;\n",
       "}\n",
       "</style>\n",
       "<table id=\"T_1375f_\">\n",
       "  <thead>\n",
       "    <tr>\n",
       "      <th class=\"col_heading level0 col0\" >index</th>\n",
       "      <th class=\"col_heading level0 col1\" >Type</th>\n",
       "    </tr>\n",
       "  </thead>\n",
       "  <tbody>\n",
       "    <tr>\n",
       "      <td id=\"T_1375f_row0_col0\" class=\"data row0 col0\" >code_module</td>\n",
       "      <td id=\"T_1375f_row0_col1\" class=\"data row0 col1\" >object</td>\n",
       "    </tr>\n",
       "    <tr>\n",
       "      <td id=\"T_1375f_row1_col0\" class=\"data row1 col0\" >code_presentation</td>\n",
       "      <td id=\"T_1375f_row1_col1\" class=\"data row1 col1\" >object</td>\n",
       "    </tr>\n",
       "    <tr>\n",
       "      <td id=\"T_1375f_row2_col0\" class=\"data row2 col0\" >id_student</td>\n",
       "      <td id=\"T_1375f_row2_col1\" class=\"data row2 col1\" >object</td>\n",
       "    </tr>\n",
       "    <tr>\n",
       "      <td id=\"T_1375f_row3_col0\" class=\"data row3 col0\" >date_registration</td>\n",
       "      <td id=\"T_1375f_row3_col1\" class=\"data row3 col1\" >float64</td>\n",
       "    </tr>\n",
       "    <tr>\n",
       "      <td id=\"T_1375f_row4_col0\" class=\"data row4 col0\" >date_unregistration</td>\n",
       "      <td id=\"T_1375f_row4_col1\" class=\"data row4 col1\" >float64</td>\n",
       "    </tr>\n",
       "  </tbody>\n",
       "</table>\n"
      ],
      "text/plain": [
       "<pandas.io.formats.style.Styler at 0x171946cf340>"
      ]
     },
     "execution_count": 33,
     "metadata": {},
     "output_type": "execute_result"
    }
   ],
   "source": [
    "# show student registration data types\n",
    "get_dtypes(student_registration)"
   ]
  },
  {
   "cell_type": "markdown",
   "id": "30e73ca7-bc3c-4b7b-9dd6-0b4aa1178db1",
   "metadata": {},
   "source": [
    "* `id_student` is currently an int64 datatype, but would be more appropriate to cast it as categorical\n",
    "* `object` datatypes will be converted to string\n",
    "* `date_registration` and `date_unregistration` "
   ]
  },
  {
   "cell_type": "code",
   "execution_count": 34,
   "id": "112bb5c8-bdc3-4bcd-9ea9-35b37826d492",
   "metadata": {
    "tags": [
     "remove_cell"
    ]
   },
   "outputs": [
    {
     "data": {
      "text/html": [
       "<div>\n",
       "<style scoped>\n",
       "    .dataframe tbody tr th:only-of-type {\n",
       "        vertical-align: middle;\n",
       "    }\n",
       "\n",
       "    .dataframe tbody tr th {\n",
       "        vertical-align: top;\n",
       "    }\n",
       "\n",
       "    .dataframe thead th {\n",
       "        text-align: right;\n",
       "    }\n",
       "</style>\n",
       "<table border=\"1\" class=\"dataframe\">\n",
       "  <thead>\n",
       "    <tr style=\"text-align: right;\">\n",
       "      <th></th>\n",
       "      <th>Data Type</th>\n",
       "    </tr>\n",
       "  </thead>\n",
       "  <tbody>\n",
       "    <tr>\n",
       "      <th>code_module</th>\n",
       "      <td>string</td>\n",
       "    </tr>\n",
       "    <tr>\n",
       "      <th>code_presentation</th>\n",
       "      <td>string</td>\n",
       "    </tr>\n",
       "    <tr>\n",
       "      <th>id_student</th>\n",
       "      <td>string</td>\n",
       "    </tr>\n",
       "    <tr>\n",
       "      <th>date_registration</th>\n",
       "      <td>Int64</td>\n",
       "    </tr>\n",
       "    <tr>\n",
       "      <th>date_unregistration</th>\n",
       "      <td>Int64</td>\n",
       "    </tr>\n",
       "  </tbody>\n",
       "</table>\n",
       "</div>"
      ],
      "text/plain": [
       "                    Data Type\n",
       "code_module            string\n",
       "code_presentation      string\n",
       "id_student             string\n",
       "date_registration       Int64\n",
       "date_unregistration     Int64"
      ]
     },
     "execution_count": 34,
     "metadata": {},
     "output_type": "execute_result"
    }
   ],
   "source": [
    "# changing id_student to the string data type\n",
    "student_registration['id_student'] = student_registration['id_student'].astype('str')\n",
    "# convert other objects datatypes to strings\n",
    "student_registration = student_registration.convert_dtypes()\n",
    "# show the result of the conversion\n",
    "dataframe(student_registration.dtypes, columns=[\"Data Type\"])"
   ]
  },
  {
   "cell_type": "markdown",
   "id": "d3b7d1a4-24a4-42bc-9190-8b989edad71e",
   "metadata": {},
   "source": [
    "**Null Values:**"
   ]
  },
  {
   "cell_type": "code",
   "execution_count": 35,
   "id": "4d8de6b0-ea25-4341-bde9-436a51dfd7bf",
   "metadata": {
    "tags": [
     "remove_input"
    ]
   },
   "outputs": [
    {
     "data": {
      "text/html": [
       "<style type=\"text/css\">\n",
       "#T_05808_ td.col0 {\n",
       "  font-weight: bold;\n",
       "}\n",
       "</style>\n",
       "<table id=\"T_05808_\">\n",
       "  <thead>\n",
       "    <tr>\n",
       "      <th class=\"col_heading level0 col0\" >index</th>\n",
       "      <th class=\"col_heading level0 col1\" >Null Values</th>\n",
       "    </tr>\n",
       "  </thead>\n",
       "  <tbody>\n",
       "    <tr>\n",
       "      <td id=\"T_05808_row0_col0\" class=\"data row0 col0\" >code_module</td>\n",
       "      <td id=\"T_05808_row0_col1\" class=\"data row0 col1\" >0</td>\n",
       "    </tr>\n",
       "    <tr>\n",
       "      <td id=\"T_05808_row1_col0\" class=\"data row1 col0\" >code_presentation</td>\n",
       "      <td id=\"T_05808_row1_col1\" class=\"data row1 col1\" >0</td>\n",
       "    </tr>\n",
       "    <tr>\n",
       "      <td id=\"T_05808_row2_col0\" class=\"data row2 col0\" >id_student</td>\n",
       "      <td id=\"T_05808_row2_col1\" class=\"data row2 col1\" >0</td>\n",
       "    </tr>\n",
       "    <tr>\n",
       "      <td id=\"T_05808_row3_col0\" class=\"data row3 col0\" >date_registration</td>\n",
       "      <td id=\"T_05808_row3_col1\" class=\"data row3 col1\" >45</td>\n",
       "    </tr>\n",
       "    <tr>\n",
       "      <td id=\"T_05808_row4_col0\" class=\"data row4 col0\" >date_unregistration</td>\n",
       "      <td id=\"T_05808_row4_col1\" class=\"data row4 col1\" >22521</td>\n",
       "    </tr>\n",
       "  </tbody>\n",
       "</table>\n"
      ],
      "text/plain": [
       "<pandas.io.formats.style.Styler at 0x171946cffa0>"
      ]
     },
     "execution_count": 35,
     "metadata": {},
     "output_type": "execute_result"
    }
   ],
   "source": [
    "# get the null values for each column\n",
    "null_vals(student_registration)"
   ]
  },
  {
   "cell_type": "code",
   "execution_count": 36,
   "id": "baa719bf-768e-491a-ba7c-a67ccc529ac4",
   "metadata": {
    "tags": [
     "remove_cell"
    ]
   },
   "outputs": [],
   "source": [
    "# store the sum of null values of date_registration\n",
    "null_registration = student_registration['date_registration'].isnull().sum()\n",
    "# store the sum of null values of date_unregistration\n",
    "null_unregistration = student_registration['date_unregistration'].isnull().sum()"
   ]
  },
  {
   "cell_type": "code",
   "execution_count": 37,
   "id": "bc317956-6af1-47d8-b615-3fd91e25a2d9",
   "metadata": {
    "tags": [
     "remove_input"
    ]
   },
   "outputs": [
    {
     "data": {
      "text/markdown": [
       "\n",
       "* We have 45 null values for date_registration, and no mention of this in the dataset documentation, so we will treat this as missing data.\n",
       "* There are 22521 null values for date_unregistration which represent the students that did not withdraw from the course.\n"
      ],
      "text/plain": [
       "<IPython.core.display.Markdown object>"
      ]
     },
     "execution_count": 37,
     "metadata": {},
     "output_type": "execute_result"
    }
   ],
   "source": [
    "md(f'''\n",
    "* We have {null_registration} null values for date_registration, and no mention of this in the dataset documentation, so we will treat this as missing data.\n",
    "* There are {null_unregistration} null values for date_unregistration which represent the students that did not withdraw from the course.\n",
    "''')"
   ]
  },
  {
   "cell_type": "markdown",
   "id": "45a2f04a-117e-45a4-9a39-e6efa8ea1894",
   "metadata": {},
   "source": [
    "**Duplicate Values**"
   ]
  },
  {
   "cell_type": "code",
   "execution_count": 38,
   "id": "f43807ec-c65a-4d47-9412-2529401f8c9c",
   "metadata": {
    "tags": [
     "remove_input"
    ]
   },
   "outputs": [
    {
     "data": {
      "text/markdown": [
       "There are no Duplicate Values"
      ],
      "text/plain": [
       "<IPython.core.display.Markdown object>"
      ]
     },
     "execution_count": 38,
     "metadata": {},
     "output_type": "execute_result"
    }
   ],
   "source": [
    "# get the duplicate values for student registration if any\n",
    "get_dupes(student_registration)"
   ]
  },
  {
   "cell_type": "markdown",
   "id": "ba16f3dd-af16-49c2-88e3-f430fcb3876b",
   "metadata": {},
   "source": [
    "**Unique Counts:**"
   ]
  },
  {
   "cell_type": "code",
   "execution_count": 39,
   "id": "776b7b48-1fb2-4bc4-bb35-92bf3ce8a615",
   "metadata": {
    "tags": [
     "remove_input"
    ]
   },
   "outputs": [
    {
     "data": {
      "text/html": [
       "<style type=\"text/css\">\n",
       "#T_056d4_ td.col0 {\n",
       "  font-weight: bold;\n",
       "}\n",
       "</style>\n",
       "<table id=\"T_056d4_\">\n",
       "  <thead>\n",
       "    <tr>\n",
       "      <th class=\"col_heading level0 col0\" >index</th>\n",
       "      <th class=\"col_heading level0 col1\" >Count</th>\n",
       "    </tr>\n",
       "  </thead>\n",
       "  <tbody>\n",
       "    <tr>\n",
       "      <td id=\"T_056d4_row0_col0\" class=\"data row0 col0\" >code_module</td>\n",
       "      <td id=\"T_056d4_row0_col1\" class=\"data row0 col1\" >7</td>\n",
       "    </tr>\n",
       "    <tr>\n",
       "      <td id=\"T_056d4_row1_col0\" class=\"data row1 col0\" >code_presentation</td>\n",
       "      <td id=\"T_056d4_row1_col1\" class=\"data row1 col1\" >4</td>\n",
       "    </tr>\n",
       "    <tr>\n",
       "      <td id=\"T_056d4_row2_col0\" class=\"data row2 col0\" >id_student</td>\n",
       "      <td id=\"T_056d4_row2_col1\" class=\"data row2 col1\" >28785</td>\n",
       "    </tr>\n",
       "    <tr>\n",
       "      <td id=\"T_056d4_row3_col0\" class=\"data row3 col0\" >date_registration</td>\n",
       "      <td id=\"T_056d4_row3_col1\" class=\"data row3 col1\" >332</td>\n",
       "    </tr>\n",
       "    <tr>\n",
       "      <td id=\"T_056d4_row4_col0\" class=\"data row4 col0\" >date_unregistration</td>\n",
       "      <td id=\"T_056d4_row4_col1\" class=\"data row4 col1\" >416</td>\n",
       "    </tr>\n",
       "  </tbody>\n",
       "</table>\n"
      ],
      "text/plain": [
       "<pandas.io.formats.style.Styler at 0x171946dd1c0>"
      ]
     },
     "execution_count": 39,
     "metadata": {},
     "output_type": "execute_result"
    }
   ],
   "source": [
    "# get the sum of unique values in columns\n",
    "count_unique(student_registration)"
   ]
  },
  {
   "cell_type": "markdown",
   "id": "49fa5100-4a38-4e2c-a98c-5070956e50fc",
   "metadata": {},
   "source": [
    "**Unique Categorical Values**"
   ]
  },
  {
   "cell_type": "code",
   "execution_count": 40,
   "id": "9296f2b3-bc13-4bbd-909a-b9b3b7d05482",
   "metadata": {
    "tags": [
     "remove_input"
    ]
   },
   "outputs": [
    {
     "data": {
      "text/html": [
       "<style type=\"text/css\">\n",
       "#T_6e84a_ td.col0 {\n",
       "  font-weight: bold;\n",
       "}\n",
       "</style>\n",
       "<table id=\"T_6e84a_\">\n",
       "  <thead>\n",
       "    <tr>\n",
       "      <th class=\"col_heading level0 col0\" >index</th>\n",
       "      <th class=\"col_heading level0 col1\" >Values</th>\n",
       "    </tr>\n",
       "  </thead>\n",
       "  <tbody>\n",
       "    <tr>\n",
       "      <td id=\"T_6e84a_row0_col0\" class=\"data row0 col0\" >code_module</td>\n",
       "      <td id=\"T_6e84a_row0_col1\" class=\"data row0 col1\" >['AAA', 'BBB', 'CCC', 'DDD', 'EEE', 'FFF', 'GGG']</td>\n",
       "    </tr>\n",
       "    <tr>\n",
       "      <td id=\"T_6e84a_row1_col0\" class=\"data row1 col0\" >code_presentation</td>\n",
       "      <td id=\"T_6e84a_row1_col1\" class=\"data row1 col1\" >['2013J', '2014J', '2013B', '2014B']</td>\n",
       "    </tr>\n",
       "  </tbody>\n",
       "</table>\n"
      ],
      "text/plain": [
       "<pandas.io.formats.style.Styler at 0x17194a0ca90>"
      ]
     },
     "execution_count": 40,
     "metadata": {},
     "output_type": "execute_result"
    }
   ],
   "source": [
    "# get the unique categorical values\n",
    "unique_vals(student_registration)"
   ]
  },
  {
   "cell_type": "code",
   "execution_count": 41,
   "id": "588e4394-6b1e-4d78-8070-47bab58ec75d",
   "metadata": {
    "tags": [
     "remove_input"
    ]
   },
   "outputs": [
    {
     "data": {
      "text/markdown": [
       "* The Student info dataframe is 32,593 rows, but there are only 28,785 unique student ID's.\n",
       "* This suggests that there are some students who took multiple modules since we eliminated those who have taken the same course more than once.\n",
       "        "
      ],
      "text/plain": [
       "<IPython.core.display.Markdown object>"
      ]
     },
     "execution_count": 41,
     "metadata": {},
     "output_type": "execute_result"
    }
   ],
   "source": [
    "# store the number of students in student_info\n",
    "total_students = len(student_registration)\n",
    "# store the student info student ids that are unique\n",
    "unique_students = student_registration['id_student'].nunique()\n",
    "md(f'''* The Student info dataframe is {\"{:,}\".format(total_students)} rows, but there are only {\"{:,}\".format(unique_students)} unique student ID's.\n",
    "* This suggests that there are some students who took multiple modules since we eliminated those who have taken the same course more than once.\n",
    "        ''')"
   ]
  },
  {
   "cell_type": "code",
   "execution_count": 42,
   "id": "b0415cd3-05fb-493d-add8-3d2a6b93277f",
   "metadata": {
    "tags": [
     "remove_input"
    ]
   },
   "outputs": [
    {
     "data": {
      "text/html": [
       "<div>\n",
       "<style scoped>\n",
       "    .dataframe tbody tr th:only-of-type {\n",
       "        vertical-align: middle;\n",
       "    }\n",
       "\n",
       "    .dataframe tbody tr th {\n",
       "        vertical-align: top;\n",
       "    }\n",
       "\n",
       "    .dataframe thead th {\n",
       "        text-align: right;\n",
       "    }\n",
       "</style>\n",
       "<table border=\"1\" class=\"dataframe\">\n",
       "  <thead>\n",
       "    <tr style=\"text-align: right;\">\n",
       "      <th></th>\n",
       "      <th>code_module</th>\n",
       "      <th>code_presentation</th>\n",
       "      <th>id_student</th>\n",
       "      <th>date_registration</th>\n",
       "      <th>date_unregistration</th>\n",
       "    </tr>\n",
       "  </thead>\n",
       "  <tbody>\n",
       "    <tr>\n",
       "      <th>395</th>\n",
       "      <td>AAA</td>\n",
       "      <td>2014J</td>\n",
       "      <td>65002</td>\n",
       "      <td>-144</td>\n",
       "      <td>&lt;NA&gt;</td>\n",
       "    </tr>\n",
       "    <tr>\n",
       "      <th>403</th>\n",
       "      <td>AAA</td>\n",
       "      <td>2014J</td>\n",
       "      <td>94961</td>\n",
       "      <td>-150</td>\n",
       "      <td>&lt;NA&gt;</td>\n",
       "    </tr>\n",
       "    <tr>\n",
       "      <th>415</th>\n",
       "      <td>AAA</td>\n",
       "      <td>2014J</td>\n",
       "      <td>129955</td>\n",
       "      <td>-143</td>\n",
       "      <td>143</td>\n",
       "    </tr>\n",
       "    <tr>\n",
       "      <th>422</th>\n",
       "      <td>AAA</td>\n",
       "      <td>2014J</td>\n",
       "      <td>135335</td>\n",
       "      <td>-82</td>\n",
       "      <td>24</td>\n",
       "    </tr>\n",
       "    <tr>\n",
       "      <th>423</th>\n",
       "      <td>AAA</td>\n",
       "      <td>2014J</td>\n",
       "      <td>135400</td>\n",
       "      <td>-51</td>\n",
       "      <td>&lt;NA&gt;</td>\n",
       "    </tr>\n",
       "  </tbody>\n",
       "</table>\n",
       "</div>"
      ],
      "text/plain": [
       "    code_module code_presentation id_student  date_registration  \\\n",
       "395         AAA             2014J      65002               -144   \n",
       "403         AAA             2014J      94961               -150   \n",
       "415         AAA             2014J     129955               -143   \n",
       "422         AAA             2014J     135335                -82   \n",
       "423         AAA             2014J     135400                -51   \n",
       "\n",
       "     date_unregistration  \n",
       "395                 <NA>  \n",
       "403                 <NA>  \n",
       "415                  143  \n",
       "422                   24  \n",
       "423                 <NA>  "
      ]
     },
     "execution_count": 42,
     "metadata": {},
     "output_type": "execute_result"
    }
   ],
   "source": [
    "duplicate_students = student_registration[student_registration['id_student'].duplicated()]\n",
    "duplicate_students.head()"
   ]
  },
  {
   "cell_type": "code",
   "execution_count": 43,
   "id": "8f8ac4b7-fdf8-49c6-a49d-2fbcb1feafad",
   "metadata": {
    "tags": [
     "remove_input"
    ]
   },
   "outputs": [
    {
     "data": {
      "text/markdown": [
       "\n",
       "This dataframe contains the students who have duplicate records. \n",
       "There is a total of 3,808 students whose ID is listed more than once"
      ],
      "text/plain": [
       "<IPython.core.display.Markdown object>"
      ]
     },
     "execution_count": 43,
     "metadata": {},
     "output_type": "execute_result"
    }
   ],
   "source": [
    "md(f'''\n",
    "This dataframe contains the students who have duplicate records. \n",
    "There is a total of {\"{:,}\".format(len(duplicate_students))} students whose ID is listed more than once''')"
   ]
  },
  {
   "cell_type": "markdown",
   "id": "9c141079-4d30-4b72-9c5b-91b1ba3b6fbe",
   "metadata": {},
   "source": [
    "**Duplicate Student ID's**"
   ]
  },
  {
   "cell_type": "code",
   "execution_count": 44,
   "id": "196b8db4-96e9-49ec-9dad-59754a389f8e",
   "metadata": {
    "tags": [
     "remove_input"
    ]
   },
   "outputs": [
    {
     "data": {
      "text/html": [
       "<div>\n",
       "<style scoped>\n",
       "    .dataframe tbody tr th:only-of-type {\n",
       "        vertical-align: middle;\n",
       "    }\n",
       "\n",
       "    .dataframe tbody tr th {\n",
       "        vertical-align: top;\n",
       "    }\n",
       "\n",
       "    .dataframe thead th {\n",
       "        text-align: right;\n",
       "    }\n",
       "</style>\n",
       "<table border=\"1\" class=\"dataframe\">\n",
       "  <thead>\n",
       "    <tr style=\"text-align: right;\">\n",
       "      <th></th>\n",
       "      <th>code_module</th>\n",
       "      <th>code_presentation</th>\n",
       "      <th>id_student</th>\n",
       "      <th>date_registration</th>\n",
       "      <th>date_unregistration</th>\n",
       "    </tr>\n",
       "  </thead>\n",
       "  <tbody>\n",
       "    <tr>\n",
       "      <th>10637</th>\n",
       "      <td>CCC</td>\n",
       "      <td>2014J</td>\n",
       "      <td>100788</td>\n",
       "      <td>-103</td>\n",
       "      <td>&lt;NA&gt;</td>\n",
       "    </tr>\n",
       "    <tr>\n",
       "      <th>23954</th>\n",
       "      <td>FFF</td>\n",
       "      <td>2013J</td>\n",
       "      <td>100788</td>\n",
       "      <td>-82</td>\n",
       "      <td>&lt;NA&gt;</td>\n",
       "    </tr>\n",
       "    <tr>\n",
       "      <th>23955</th>\n",
       "      <td>FFF</td>\n",
       "      <td>2013J</td>\n",
       "      <td>101217</td>\n",
       "      <td>-121</td>\n",
       "      <td>93</td>\n",
       "    </tr>\n",
       "    <tr>\n",
       "      <th>27730</th>\n",
       "      <td>FFF</td>\n",
       "      <td>2014J</td>\n",
       "      <td>101217</td>\n",
       "      <td>-44</td>\n",
       "      <td>&lt;NA&gt;</td>\n",
       "    </tr>\n",
       "    <tr>\n",
       "      <th>12835</th>\n",
       "      <td>CCC</td>\n",
       "      <td>2014J</td>\n",
       "      <td>1031884</td>\n",
       "      <td>-30</td>\n",
       "      <td>&lt;NA&gt;</td>\n",
       "    </tr>\n",
       "  </tbody>\n",
       "</table>\n",
       "</div>"
      ],
      "text/plain": [
       "      code_module code_presentation id_student  date_registration  \\\n",
       "10637         CCC             2014J     100788               -103   \n",
       "23954         FFF             2013J     100788                -82   \n",
       "23955         FFF             2013J     101217               -121   \n",
       "27730         FFF             2014J     101217                -44   \n",
       "12835         CCC             2014J    1031884                -30   \n",
       "\n",
       "       date_unregistration  \n",
       "10637                 <NA>  \n",
       "23954                 <NA>  \n",
       "23955                   93  \n",
       "27730                 <NA>  \n",
       "12835                 <NA>  "
      ]
     },
     "execution_count": 44,
     "metadata": {},
     "output_type": "execute_result"
    }
   ],
   "source": [
    "# finding student records with duplicate ID's\n",
    "total_duplicate_records = pd.concat(x for _, x in student_registration.groupby(\"id_student\") if len(x) > 1)\n",
    "total_duplicate_records.head()"
   ]
  },
  {
   "cell_type": "code",
   "execution_count": 45,
   "id": "bd2f0aa3-233c-427e-82b0-7621c903b5d2",
   "metadata": {
    "tags": [
     "remove_input"
    ]
   },
   "outputs": [
    {
     "data": {
      "text/markdown": [
       "\n",
       "* This dataframe contains all of the records of the students whose ID appears more than once.\n",
       "* There is a total of 7,346 duplicate student ID's. \n",
       "* These students do seem to be in different courses, and represent students who have taken multiple courses or the same course more than once"
      ],
      "text/plain": [
       "<IPython.core.display.Markdown object>"
      ]
     },
     "execution_count": 45,
     "metadata": {},
     "output_type": "execute_result"
    }
   ],
   "source": [
    "md(f'''\n",
    "* This dataframe contains all of the records of the students whose ID appears more than once.\n",
    "* There is a total of {\"{:,}\".format(len(total_duplicate_records))} duplicate student ID's. \n",
    "* These students do seem to be in different courses, and represent students who have taken multiple courses or the same course more than once''')"
   ]
  },
  {
   "cell_type": "markdown",
   "id": "7a4de17f-ba70-4e81-a2f5-194376f9ca09",
   "metadata": {},
   "source": [
    "**Numerical Values**"
   ]
  },
  {
   "cell_type": "code",
   "execution_count": 46,
   "id": "1ff410ae-811a-4654-a060-1037a6db216e",
   "metadata": {
    "tags": [
     "remove_input"
    ]
   },
   "outputs": [
    {
     "data": {
      "text/html": [
       "<div>\n",
       "<style scoped>\n",
       "    .dataframe tbody tr th:only-of-type {\n",
       "        vertical-align: middle;\n",
       "    }\n",
       "\n",
       "    .dataframe tbody tr th {\n",
       "        vertical-align: top;\n",
       "    }\n",
       "\n",
       "    .dataframe thead th {\n",
       "        text-align: right;\n",
       "    }\n",
       "</style>\n",
       "<table border=\"1\" class=\"dataframe\">\n",
       "  <thead>\n",
       "    <tr style=\"text-align: right;\">\n",
       "      <th></th>\n",
       "      <th>date_registration</th>\n",
       "      <th>date_unregistration</th>\n",
       "    </tr>\n",
       "  </thead>\n",
       "  <tbody>\n",
       "    <tr>\n",
       "      <th>count</th>\n",
       "      <td>32548.00</td>\n",
       "      <td>10072.00</td>\n",
       "    </tr>\n",
       "    <tr>\n",
       "      <th>mean</th>\n",
       "      <td>-69.41</td>\n",
       "      <td>49.76</td>\n",
       "    </tr>\n",
       "    <tr>\n",
       "      <th>std</th>\n",
       "      <td>49.26</td>\n",
       "      <td>82.46</td>\n",
       "    </tr>\n",
       "    <tr>\n",
       "      <th>min</th>\n",
       "      <td>-322.00</td>\n",
       "      <td>-365.00</td>\n",
       "    </tr>\n",
       "    <tr>\n",
       "      <th>25%</th>\n",
       "      <td>-100.00</td>\n",
       "      <td>-2.00</td>\n",
       "    </tr>\n",
       "    <tr>\n",
       "      <th>50%</th>\n",
       "      <td>-57.00</td>\n",
       "      <td>27.00</td>\n",
       "    </tr>\n",
       "    <tr>\n",
       "      <th>75%</th>\n",
       "      <td>-29.00</td>\n",
       "      <td>109.00</td>\n",
       "    </tr>\n",
       "    <tr>\n",
       "      <th>max</th>\n",
       "      <td>167.00</td>\n",
       "      <td>444.00</td>\n",
       "    </tr>\n",
       "  </tbody>\n",
       "</table>\n",
       "</div>"
      ],
      "text/plain": [
       "       date_registration  date_unregistration\n",
       "count           32548.00             10072.00\n",
       "mean              -69.41                49.76\n",
       "std                49.26                82.46\n",
       "min              -322.00              -365.00\n",
       "25%              -100.00                -2.00\n",
       "50%               -57.00                27.00\n",
       "75%               -29.00               109.00\n",
       "max               167.00               444.00"
      ]
     },
     "execution_count": 46,
     "metadata": {},
     "output_type": "execute_result"
    }
   ],
   "source": [
    "student_registration.describe().round(2)"
   ]
  },
  {
   "cell_type": "code",
   "execution_count": 76,
   "id": "334db926-8595-4d74-9d6f-3440e4f4b906",
   "metadata": {
    "tags": [
     "remove_input"
    ]
   },
   "outputs": [
    {
     "data": {
      "text/markdown": [
       "\n",
       "* There are 10,072 values for of date_unregistration which represents the number of students who withdrew from the course.\n",
       "* The earliest date_unregistration date is -365 days before the course began, which means this student did not make it to the first day. \n"
      ],
      "text/plain": [
       "<IPython.core.display.Markdown object>"
      ]
     },
     "execution_count": 76,
     "metadata": {},
     "output_type": "execute_result"
    }
   ],
   "source": [
    "unreg_total = student_registration['date_unregistration'].count()\n",
    "unreg_min = student_registration['date_unregistration'].min()\n",
    "md(f'''\n",
    "* There are {\"{:,}\".format(unreg_total)} values for of date_unregistration which represents the number of students who withdrew from the course.\n",
    "* The earliest date_unregistration date is {unreg_min} days before the course began, which means this student did not make it to the first day. \n",
    "''')"
   ]
  },
  {
   "cell_type": "code",
   "execution_count": 79,
   "id": "3d9a2367-f93b-4e22-8a96-c04a7d544916",
   "metadata": {
    "tags": [
     "remove_input"
    ]
   },
   "outputs": [
    {
     "data": {
      "text/html": [
       "<div>\n",
       "<style scoped>\n",
       "    .dataframe tbody tr th:only-of-type {\n",
       "        vertical-align: middle;\n",
       "    }\n",
       "\n",
       "    .dataframe tbody tr th {\n",
       "        vertical-align: top;\n",
       "    }\n",
       "\n",
       "    .dataframe thead th {\n",
       "        text-align: right;\n",
       "    }\n",
       "</style>\n",
       "<table border=\"1\" class=\"dataframe\">\n",
       "  <thead>\n",
       "    <tr style=\"text-align: right;\">\n",
       "      <th></th>\n",
       "      <th>code_module</th>\n",
       "      <th>code_presentation</th>\n",
       "      <th>id_student</th>\n",
       "      <th>date_registration</th>\n",
       "      <th>date_unregistration</th>\n",
       "    </tr>\n",
       "  </thead>\n",
       "  <tbody>\n",
       "    <tr>\n",
       "      <th>125</th>\n",
       "      <td>AAA</td>\n",
       "      <td>2013J</td>\n",
       "      <td>292923</td>\n",
       "      <td>-162</td>\n",
       "      <td>-121</td>\n",
       "    </tr>\n",
       "    <tr>\n",
       "      <th>136</th>\n",
       "      <td>AAA</td>\n",
       "      <td>2013J</td>\n",
       "      <td>305539</td>\n",
       "      <td>-54</td>\n",
       "      <td>-3</td>\n",
       "    </tr>\n",
       "    <tr>\n",
       "      <th>198</th>\n",
       "      <td>AAA</td>\n",
       "      <td>2013J</td>\n",
       "      <td>405961</td>\n",
       "      <td>-170</td>\n",
       "      <td>-100</td>\n",
       "    </tr>\n",
       "    <tr>\n",
       "      <th>256</th>\n",
       "      <td>AAA</td>\n",
       "      <td>2013J</td>\n",
       "      <td>1763015</td>\n",
       "      <td>-58</td>\n",
       "      <td>-2</td>\n",
       "    </tr>\n",
       "    <tr>\n",
       "      <th>298</th>\n",
       "      <td>AAA</td>\n",
       "      <td>2013J</td>\n",
       "      <td>2318055</td>\n",
       "      <td>-56</td>\n",
       "      <td>-19</td>\n",
       "    </tr>\n",
       "  </tbody>\n",
       "</table>\n",
       "</div>"
      ],
      "text/plain": [
       "    code_module code_presentation id_student  date_registration  \\\n",
       "125         AAA             2013J     292923               -162   \n",
       "136         AAA             2013J     305539                -54   \n",
       "198         AAA             2013J     405961               -170   \n",
       "256         AAA             2013J    1763015                -58   \n",
       "298         AAA             2013J    2318055                -56   \n",
       "\n",
       "     date_unregistration  \n",
       "125                 -121  \n",
       "136                   -3  \n",
       "198                 -100  \n",
       "256                   -2  \n",
       "298                  -19  "
      ]
     },
     "execution_count": 79,
     "metadata": {},
     "output_type": "execute_result"
    }
   ],
   "source": [
    "early_withdraws = student_registration.loc[student_registration['date_unregistration'] <= 0]\n",
    "early_withdraws.head()"
   ]
  },
  {
   "cell_type": "code",
   "execution_count": 85,
   "id": "0a1b6f8f-bf9c-4a2a-9436-6a01424bbb07",
   "metadata": {
    "tags": [
     "remove_input"
    ]
   },
   "outputs": [
    {
     "data": {
      "text/markdown": [
       "\n",
       "Here we can see the 3,097 students with a withdrawal date before the first day,\n",
       "and it is tempting to remove them since students who never attended probably don't add much information, \n",
       "but first let's find them in the student info dataframe\n"
      ],
      "text/plain": [
       "<IPython.core.display.Markdown object>"
      ]
     },
     "execution_count": 85,
     "metadata": {},
     "output_type": "execute_result"
    }
   ],
   "source": [
    "md(f'''\n",
    "Here we can see the {\"{:,}\".format(len(early_withdraws))} students with a withdrawal date before the first day,\n",
    "and it is tempting to remove them since students who never attended probably don't add much information, \n",
    "but first let's find them in the student info dataframe\n",
    "''')"
   ]
  },
  {
   "cell_type": "code",
   "execution_count": 86,
   "id": "f7429aea-d100-4884-a33a-ba6c8636d097",
   "metadata": {
    "tags": [
     "remove_input"
    ]
   },
   "outputs": [
    {
     "data": {
      "text/html": [
       "<div>\n",
       "<style scoped>\n",
       "    .dataframe tbody tr th:only-of-type {\n",
       "        vertical-align: middle;\n",
       "    }\n",
       "\n",
       "    .dataframe tbody tr th {\n",
       "        vertical-align: top;\n",
       "    }\n",
       "\n",
       "    .dataframe thead th {\n",
       "        text-align: right;\n",
       "    }\n",
       "</style>\n",
       "<table border=\"1\" class=\"dataframe\">\n",
       "  <thead>\n",
       "    <tr style=\"text-align: right;\">\n",
       "      <th></th>\n",
       "      <th>code_module</th>\n",
       "      <th>code_presentation</th>\n",
       "      <th>id_student</th>\n",
       "      <th>gender</th>\n",
       "      <th>region</th>\n",
       "      <th>highest_education</th>\n",
       "      <th>imd_band</th>\n",
       "      <th>age_band</th>\n",
       "      <th>num_of_prev_attempts</th>\n",
       "      <th>studied_credits</th>\n",
       "      <th>disability</th>\n",
       "      <th>final_result</th>\n",
       "    </tr>\n",
       "  </thead>\n",
       "  <tbody>\n",
       "    <tr>\n",
       "      <th>125</th>\n",
       "      <td>AAA</td>\n",
       "      <td>2013J</td>\n",
       "      <td>292923</td>\n",
       "      <td>F</td>\n",
       "      <td>South East Region</td>\n",
       "      <td>A Level or Equivalent</td>\n",
       "      <td>90-100%</td>\n",
       "      <td>35-55</td>\n",
       "      <td>0</td>\n",
       "      <td>180</td>\n",
       "      <td>N</td>\n",
       "      <td>Withdrawn</td>\n",
       "    </tr>\n",
       "    <tr>\n",
       "      <th>136</th>\n",
       "      <td>AAA</td>\n",
       "      <td>2013J</td>\n",
       "      <td>305539</td>\n",
       "      <td>F</td>\n",
       "      <td>Wales</td>\n",
       "      <td>Lower Than A Level</td>\n",
       "      <td>80-90%</td>\n",
       "      <td>0-35</td>\n",
       "      <td>0</td>\n",
       "      <td>120</td>\n",
       "      <td>N</td>\n",
       "      <td>Withdrawn</td>\n",
       "    </tr>\n",
       "    <tr>\n",
       "      <th>198</th>\n",
       "      <td>AAA</td>\n",
       "      <td>2013J</td>\n",
       "      <td>405961</td>\n",
       "      <td>M</td>\n",
       "      <td>Scotland</td>\n",
       "      <td>A Level or Equivalent</td>\n",
       "      <td>90-100%</td>\n",
       "      <td>0-35</td>\n",
       "      <td>0</td>\n",
       "      <td>240</td>\n",
       "      <td>Y</td>\n",
       "      <td>Withdrawn</td>\n",
       "    </tr>\n",
       "    <tr>\n",
       "      <th>256</th>\n",
       "      <td>AAA</td>\n",
       "      <td>2013J</td>\n",
       "      <td>1763015</td>\n",
       "      <td>F</td>\n",
       "      <td>Scotland</td>\n",
       "      <td>A Level or Equivalent</td>\n",
       "      <td>10-20</td>\n",
       "      <td>35-55</td>\n",
       "      <td>0</td>\n",
       "      <td>60</td>\n",
       "      <td>N</td>\n",
       "      <td>Withdrawn</td>\n",
       "    </tr>\n",
       "    <tr>\n",
       "      <th>298</th>\n",
       "      <td>AAA</td>\n",
       "      <td>2013J</td>\n",
       "      <td>2318055</td>\n",
       "      <td>M</td>\n",
       "      <td>Wales</td>\n",
       "      <td>A Level or Equivalent</td>\n",
       "      <td>90-100%</td>\n",
       "      <td>35-55</td>\n",
       "      <td>0</td>\n",
       "      <td>60</td>\n",
       "      <td>N</td>\n",
       "      <td>Withdrawn</td>\n",
       "    </tr>\n",
       "  </tbody>\n",
       "</table>\n",
       "</div>"
      ],
      "text/plain": [
       "    code_module code_presentation  id_student gender             region  \\\n",
       "125         AAA             2013J      292923      F  South East Region   \n",
       "136         AAA             2013J      305539      F              Wales   \n",
       "198         AAA             2013J      405961      M           Scotland   \n",
       "256         AAA             2013J     1763015      F           Scotland   \n",
       "298         AAA             2013J     2318055      M              Wales   \n",
       "\n",
       "         highest_education imd_band age_band  num_of_prev_attempts  \\\n",
       "125  A Level or Equivalent  90-100%    35-55                     0   \n",
       "136     Lower Than A Level   80-90%     0-35                     0   \n",
       "198  A Level or Equivalent  90-100%     0-35                     0   \n",
       "256  A Level or Equivalent    10-20    35-55                     0   \n",
       "298  A Level or Equivalent  90-100%    35-55                     0   \n",
       "\n",
       "     studied_credits disability final_result  \n",
       "125              180          N    Withdrawn  \n",
       "136              120          N    Withdrawn  \n",
       "198              240          Y    Withdrawn  \n",
       "256               60          N    Withdrawn  \n",
       "298               60          N    Withdrawn  "
      ]
     },
     "execution_count": 86,
     "metadata": {},
     "output_type": "execute_result"
    }
   ],
   "source": [
    "withdraw_info = dataframe()\n",
    "for i in student_registration.loc[student_registration['date_unregistration'] <= 0, 'id_student']:\n",
    "    withdraw_info = withdraw_info.append(student_info.loc[student_info['id_student'] == int(i)])\n",
    "    \n",
    "withdraw_info.head()"
   ]
  },
  {
   "cell_type": "code",
   "execution_count": 82,
   "id": "fa96f6a8-d9e8-4d06-9dcb-a38ce6155ecc",
   "metadata": {
    "tags": [
     "remove_input"
    ]
   },
   "outputs": [
    {
     "data": {
      "text/html": [
       "<div>\n",
       "<style scoped>\n",
       "    .dataframe tbody tr th:only-of-type {\n",
       "        vertical-align: middle;\n",
       "    }\n",
       "\n",
       "    .dataframe tbody tr th {\n",
       "        vertical-align: top;\n",
       "    }\n",
       "\n",
       "    .dataframe thead th {\n",
       "        text-align: right;\n",
       "    }\n",
       "</style>\n",
       "<table border=\"1\" class=\"dataframe\">\n",
       "  <thead>\n",
       "    <tr style=\"text-align: right;\">\n",
       "      <th></th>\n",
       "      <th>final_result</th>\n",
       "    </tr>\n",
       "  </thead>\n",
       "  <tbody>\n",
       "    <tr>\n",
       "      <th>Withdrawn</th>\n",
       "      <td>3715</td>\n",
       "    </tr>\n",
       "    <tr>\n",
       "      <th>Pass</th>\n",
       "      <td>201</td>\n",
       "    </tr>\n",
       "    <tr>\n",
       "      <th>Fail</th>\n",
       "      <td>121</td>\n",
       "    </tr>\n",
       "    <tr>\n",
       "      <th>Distinction</th>\n",
       "      <td>40</td>\n",
       "    </tr>\n",
       "  </tbody>\n",
       "</table>\n",
       "</div>"
      ],
      "text/plain": [
       "             final_result\n",
       "Withdrawn            3715\n",
       "Pass                  201\n",
       "Fail                  121\n",
       "Distinction            40"
      ]
     },
     "execution_count": 82,
     "metadata": {},
     "output_type": "execute_result"
    }
   ],
   "source": [
    "dataframe(withdraw_info['final_result'].value_counts())"
   ]
  },
  {
   "cell_type": "code",
   "execution_count": 90,
   "id": "21f46153-531f-4659-9bd4-a8a174141058",
   "metadata": {
    "tags": [
     "remove_input"
    ]
   },
   "outputs": [
    {
     "data": {
      "text/markdown": [
       "\n",
       "It seems that while many of these students withdrew, there are those who still managed to fail, pass, and pass with distinction early.\n",
       "because of this we will keep all of the data. The registration and unregistration dates seem to have unusual data.\n"
      ],
      "text/plain": [
       "<IPython.core.display.Markdown object>"
      ]
     },
     "execution_count": 90,
     "metadata": {},
     "output_type": "execute_result"
    }
   ],
   "source": [
    "md('''\n",
    "It seems that while many of these students withdrew, there are those who still managed to fail, pass, and pass with distinction early.\n",
    "because of this we will keep all of the data. The registration and unregistration dates seem to have unusual data.\n",
    "''')"
   ]
  },
  {
   "cell_type": "code",
   "execution_count": 91,
   "id": "fe936aef-76de-482d-9120-5a33547d5276",
   "metadata": {
    "tags": [
     "remove_input"
    ]
   },
   "outputs": [
    {
     "data": {
      "text/markdown": [
       "* The longest course from module_presentation length in the courses dataframe was 269 days, yet we see here the latest unregistration date is 444 days, which is longer than any course went on.\n",
       "    "
      ],
      "text/plain": [
       "<IPython.core.display.Markdown object>"
      ]
     },
     "execution_count": 91,
     "metadata": {},
     "output_type": "execute_result"
    }
   ],
   "source": [
    "# finds the longest module length in courses and prints it\n",
    "longest_course = courses['module_presentation_length'].max()\n",
    "longest_unreg = student_registration['date_unregistration'].max().astype(int)\n",
    "md(f'''* The longest course from module_presentation length in the courses dataframe was {longest_course} days, yet we see here the latest unregistration date is {longest_unreg} days, which is longer than any course went on.\n",
    "    ''')"
   ]
  },
  {
   "cell_type": "markdown",
   "id": "dccb174a-386c-4dcb-8441-488af77d4d9b",
   "metadata": {},
   "source": [
    "**All Students with an unregistration point after 269 days:**"
   ]
  },
  {
   "cell_type": "code",
   "execution_count": 92,
   "id": "bedd8d1d-715e-4b67-85e2-fbeb1cefcc2a",
   "metadata": {
    "tags": [
     "remove_input"
    ]
   },
   "outputs": [
    {
     "data": {
      "text/html": [
       "<div>\n",
       "<style scoped>\n",
       "    .dataframe tbody tr th:only-of-type {\n",
       "        vertical-align: middle;\n",
       "    }\n",
       "\n",
       "    .dataframe tbody tr th {\n",
       "        vertical-align: top;\n",
       "    }\n",
       "\n",
       "    .dataframe thead th {\n",
       "        text-align: right;\n",
       "    }\n",
       "</style>\n",
       "<table border=\"1\" class=\"dataframe\">\n",
       "  <thead>\n",
       "    <tr style=\"text-align: right;\">\n",
       "      <th></th>\n",
       "      <th>code_module</th>\n",
       "      <th>code_presentation</th>\n",
       "      <th>id_student</th>\n",
       "      <th>date_registration</th>\n",
       "      <th>date_unregistration</th>\n",
       "    </tr>\n",
       "  </thead>\n",
       "  <tbody>\n",
       "    <tr>\n",
       "      <th>25249</th>\n",
       "      <td>FFF</td>\n",
       "      <td>2013J</td>\n",
       "      <td>586851</td>\n",
       "      <td>-22</td>\n",
       "      <td>444</td>\n",
       "    </tr>\n",
       "  </tbody>\n",
       "</table>\n",
       "</div>"
      ],
      "text/plain": [
       "      code_module code_presentation id_student  date_registration  \\\n",
       "25249         FFF             2013J     586851                -22   \n",
       "\n",
       "       date_unregistration  \n",
       "25249                  444  "
      ]
     },
     "execution_count": 92,
     "metadata": {},
     "output_type": "execute_result"
    }
   ],
   "source": [
    "# finding students whose courses went on for longer than the maximum course length\n",
    "student_registration.loc[student_registration['date_unregistration'] > 269]"
   ]
  },
  {
   "cell_type": "markdown",
   "id": "f96da90e-e3aa-4aa9-bcbe-3ded413a88a6",
   "metadata": {},
   "source": [
    "* It seems to be just this one student is an outlier, but should not affect our overall analysis so we will leave this intact"
   ]
  },
  {
   "cell_type": "code",
   "execution_count": null,
   "id": "3d13a9cc-6d7e-45b7-8a9e-385213ec0244",
   "metadata": {},
   "outputs": [],
   "source": []
  }
 ],
 "metadata": {
  "kernelspec": {
   "display_name": "Python 3",
   "language": "python",
   "name": "python3"
  },
  "language_info": {
   "codemirror_mode": {
    "name": "ipython",
    "version": 3
   },
   "file_extension": ".py",
   "mimetype": "text/x-python",
   "name": "python",
   "nbconvert_exporter": "python",
   "pygments_lexer": "ipython3",
   "version": "3.9.6"
  }
 },
 "nbformat": 4,
 "nbformat_minor": 5
}
