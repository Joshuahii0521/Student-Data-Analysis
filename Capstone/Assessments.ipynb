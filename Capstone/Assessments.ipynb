{
 "cells": [
  {
   "cell_type": "code",
   "execution_count": 400,
   "id": "73743660-3955-4bbe-8256-9c082178c16f",
   "metadata": {
    "tags": [
     "remove-cell"
    ]
   },
   "outputs": [],
   "source": [
    "%%capture\n",
    "from functions import *\n",
    "from ipynb.fs.full.Student_Information import stud_info\n",
    "from ipynb.fs.full.Courses import courses"
   ]
  },
  {
   "cell_type": "markdown",
   "id": "d9b47b9d-8949-4f88-a3f8-f52fc3258007",
   "metadata": {},
   "source": [
    "# Assessments\n",
    "---"
   ]
  },
  {
   "cell_type": "markdown",
   "id": "fc1acb26-714c-4527-9345-0f8621a5ff4d",
   "metadata": {},
   "source": [
    "## Assessments\n",
    "---\n",
    "\n",
    "The assessments dataframe contains information about the unique assessments in each code module and presentation."
   ]
  },
  {
   "cell_type": "code",
   "execution_count": 401,
   "id": "f4116f79-a23f-4925-8a7a-7f2dedb090ea",
   "metadata": {
    "tags": [
     "remove_input"
    ]
   },
   "outputs": [
    {
     "data": {
      "text/html": [
       "<div>\n",
       "<style scoped>\n",
       "    .dataframe tbody tr th:only-of-type {\n",
       "        vertical-align: middle;\n",
       "    }\n",
       "\n",
       "    .dataframe tbody tr th {\n",
       "        vertical-align: top;\n",
       "    }\n",
       "\n",
       "    .dataframe thead th {\n",
       "        text-align: right;\n",
       "    }\n",
       "</style>\n",
       "<table border=\"1\" class=\"dataframe\">\n",
       "  <thead>\n",
       "    <tr style=\"text-align: right;\">\n",
       "      <th></th>\n",
       "      <th>code_module</th>\n",
       "      <th>code_presentation</th>\n",
       "      <th>id_assessment</th>\n",
       "      <th>assessment_type</th>\n",
       "      <th>date</th>\n",
       "      <th>weight</th>\n",
       "    </tr>\n",
       "  </thead>\n",
       "  <tbody>\n",
       "    <tr>\n",
       "      <th>0</th>\n",
       "      <td>AAA</td>\n",
       "      <td>2013J</td>\n",
       "      <td>1752</td>\n",
       "      <td>TMA</td>\n",
       "      <td>19.0</td>\n",
       "      <td>10.0</td>\n",
       "    </tr>\n",
       "    <tr>\n",
       "      <th>1</th>\n",
       "      <td>AAA</td>\n",
       "      <td>2013J</td>\n",
       "      <td>1753</td>\n",
       "      <td>TMA</td>\n",
       "      <td>54.0</td>\n",
       "      <td>20.0</td>\n",
       "    </tr>\n",
       "    <tr>\n",
       "      <th>2</th>\n",
       "      <td>AAA</td>\n",
       "      <td>2013J</td>\n",
       "      <td>1754</td>\n",
       "      <td>TMA</td>\n",
       "      <td>117.0</td>\n",
       "      <td>20.0</td>\n",
       "    </tr>\n",
       "    <tr>\n",
       "      <th>3</th>\n",
       "      <td>AAA</td>\n",
       "      <td>2013J</td>\n",
       "      <td>1755</td>\n",
       "      <td>TMA</td>\n",
       "      <td>166.0</td>\n",
       "      <td>20.0</td>\n",
       "    </tr>\n",
       "    <tr>\n",
       "      <th>4</th>\n",
       "      <td>AAA</td>\n",
       "      <td>2013J</td>\n",
       "      <td>1756</td>\n",
       "      <td>TMA</td>\n",
       "      <td>215.0</td>\n",
       "      <td>30.0</td>\n",
       "    </tr>\n",
       "  </tbody>\n",
       "</table>\n",
       "</div>"
      ],
      "text/plain": [
       "  code_module code_presentation  id_assessment assessment_type   date  weight\n",
       "0         AAA             2013J           1752             TMA   19.0    10.0\n",
       "1         AAA             2013J           1753             TMA   54.0    20.0\n",
       "2         AAA             2013J           1754             TMA  117.0    20.0\n",
       "3         AAA             2013J           1755             TMA  166.0    20.0\n",
       "4         AAA             2013J           1756             TMA  215.0    30.0"
      ]
     },
     "execution_count": 401,
     "metadata": {},
     "output_type": "execute_result"
    }
   ],
   "source": [
    "# show assessments dataframe\n",
    "assessments.head()"
   ]
  },
  {
   "cell_type": "markdown",
   "id": "766d6951-45d3-4cfa-b3a0-0c8f36d794fb",
   "metadata": {},
   "source": [
    "**Size**"
   ]
  },
  {
   "cell_type": "code",
   "execution_count": 402,
   "id": "0035b3b3-b761-42ba-a649-a8c77e59564e",
   "metadata": {
    "tags": [
     "remove_input"
    ]
   },
   "outputs": [
    {
     "data": {
      "text/html": [
       "<div>\n",
       "<style scoped>\n",
       "    .dataframe tbody tr th:only-of-type {\n",
       "        vertical-align: middle;\n",
       "    }\n",
       "\n",
       "    .dataframe tbody tr th {\n",
       "        vertical-align: top;\n",
       "    }\n",
       "\n",
       "    .dataframe thead th {\n",
       "        text-align: right;\n",
       "    }\n",
       "</style>\n",
       "<table border=\"1\" class=\"dataframe\">\n",
       "  <thead>\n",
       "    <tr style=\"text-align: right;\">\n",
       "      <th></th>\n",
       "      <th>Count</th>\n",
       "    </tr>\n",
       "  </thead>\n",
       "  <tbody>\n",
       "    <tr>\n",
       "      <th>Columns</th>\n",
       "      <td>6</td>\n",
       "    </tr>\n",
       "    <tr>\n",
       "      <th>Rows</th>\n",
       "      <td>206</td>\n",
       "    </tr>\n",
       "  </tbody>\n",
       "</table>\n",
       "</div>"
      ],
      "text/plain": [
       "         Count\n",
       "Columns      6\n",
       "Rows       206"
      ]
     },
     "execution_count": 402,
     "metadata": {},
     "output_type": "execute_result"
    }
   ],
   "source": [
    "# function to get a dataframe of rows and columns\n",
    "get_size(assessments)"
   ]
  },
  {
   "cell_type": "code",
   "execution_count": 403,
   "id": "d6a6a9da-0158-426b-8c0a-2dc27b810013",
   "metadata": {
    "tags": [
     "remove_input"
    ]
   },
   "outputs": [
    {
     "data": {
      "text/markdown": [
       "\n",
       "Assessments has 6 features describing 206 exam records.\n"
      ],
      "text/plain": [
       "<IPython.core.display.Markdown object>"
      ]
     },
     "execution_count": 403,
     "metadata": {},
     "output_type": "execute_result"
    }
   ],
   "source": [
    "md(f'''\n",
    "Assessments has {len(assessments.columns)} features describing {len(assessments)} exam records.\n",
    "''')"
   ]
  },
  {
   "cell_type": "markdown",
   "id": "59824f80-17e2-4660-acbb-e42304d9fce3",
   "metadata": {},
   "source": [
    "---\n",
    "\n",
    "### Assessments Contents\n",
    "\n",
    "* **code_module**: The code module represents the code name of the course the assessment was held for.\n",
    "* **code_presentation**: The presentation represents the presentation which the test was held for.\n",
    "* **id_assessment**: The assessment ID is the unique identifier for each assessment.\n",
    "* **assessment_type**: The assessment type represents the kind of assessment it was.\n",
    "    - There are three assessment types:\n",
    "        * TMA: Tutor Marked Assessment\n",
    "        * CMA: Computer Marked Assessment\n",
    "        * Exam: The Final Exam\n",
    "* **date**: The date is how many days from the start of the course the assessment took place\n",
    "* **weight**: The weight is the weighted value of the assessment. Exams should have a weight of 100 which the rest of the assessments should add to 100 in total."
   ]
  },
  {
   "cell_type": "markdown",
   "id": "70ee3dd0-0675-4d6f-bcfe-fa4e48073c0d",
   "metadata": {},
   "source": [
    "* column names will be changed to be less verbose\n",
    "    * code_module to module\n",
    "    * code_presentation to presentation"
   ]
  },
  {
   "cell_type": "code",
   "execution_count": 404,
   "id": "43e65697-5655-412e-aeb1-27e99a087b20",
   "metadata": {
    "tags": [
     "remove-cell"
    ]
   },
   "outputs": [],
   "source": [
    "assessments_rename = {'code_module':'module', 'code_presentation':'presentation'}\n",
    "assessments = assessments.rename(columns=assessments_rename)"
   ]
  },
  {
   "cell_type": "markdown",
   "id": "364e88e7-0911-41a5-9d95-0646f8d09a4c",
   "metadata": {},
   "source": [
    "## Student Assessment\n",
    "\n",
    "---"
   ]
  },
  {
   "cell_type": "markdown",
   "id": "f0ef4d4b-dfe9-445d-91f0-bc543377d854",
   "metadata": {},
   "source": [
    "The Student Assessments dataframe contains information about each student and the assessments they took during the module"
   ]
  },
  {
   "cell_type": "code",
   "execution_count": 405,
   "id": "694aef3a-0b94-4bfa-982a-02844245411c",
   "metadata": {
    "tags": [
     "remove_input"
    ]
   },
   "outputs": [
    {
     "data": {
      "text/html": [
       "<div>\n",
       "<style scoped>\n",
       "    .dataframe tbody tr th:only-of-type {\n",
       "        vertical-align: middle;\n",
       "    }\n",
       "\n",
       "    .dataframe tbody tr th {\n",
       "        vertical-align: top;\n",
       "    }\n",
       "\n",
       "    .dataframe thead th {\n",
       "        text-align: right;\n",
       "    }\n",
       "</style>\n",
       "<table border=\"1\" class=\"dataframe\">\n",
       "  <thead>\n",
       "    <tr style=\"text-align: right;\">\n",
       "      <th></th>\n",
       "      <th>id_assessment</th>\n",
       "      <th>id_student</th>\n",
       "      <th>date_submitted</th>\n",
       "      <th>is_banked</th>\n",
       "      <th>score</th>\n",
       "    </tr>\n",
       "  </thead>\n",
       "  <tbody>\n",
       "    <tr>\n",
       "      <th>0</th>\n",
       "      <td>1752</td>\n",
       "      <td>11391</td>\n",
       "      <td>18</td>\n",
       "      <td>0</td>\n",
       "      <td>78.0</td>\n",
       "    </tr>\n",
       "    <tr>\n",
       "      <th>1</th>\n",
       "      <td>1752</td>\n",
       "      <td>28400</td>\n",
       "      <td>22</td>\n",
       "      <td>0</td>\n",
       "      <td>70.0</td>\n",
       "    </tr>\n",
       "    <tr>\n",
       "      <th>2</th>\n",
       "      <td>1752</td>\n",
       "      <td>31604</td>\n",
       "      <td>17</td>\n",
       "      <td>0</td>\n",
       "      <td>72.0</td>\n",
       "    </tr>\n",
       "    <tr>\n",
       "      <th>3</th>\n",
       "      <td>1752</td>\n",
       "      <td>32885</td>\n",
       "      <td>26</td>\n",
       "      <td>0</td>\n",
       "      <td>69.0</td>\n",
       "    </tr>\n",
       "    <tr>\n",
       "      <th>4</th>\n",
       "      <td>1752</td>\n",
       "      <td>38053</td>\n",
       "      <td>19</td>\n",
       "      <td>0</td>\n",
       "      <td>79.0</td>\n",
       "    </tr>\n",
       "  </tbody>\n",
       "</table>\n",
       "</div>"
      ],
      "text/plain": [
       "   id_assessment  id_student  date_submitted  is_banked  score\n",
       "0           1752       11391              18          0   78.0\n",
       "1           1752       28400              22          0   70.0\n",
       "2           1752       31604              17          0   72.0\n",
       "3           1752       32885              26          0   69.0\n",
       "4           1752       38053              19          0   79.0"
      ]
     },
     "execution_count": 405,
     "metadata": {},
     "output_type": "execute_result"
    }
   ],
   "source": [
    "student_assessment.head()"
   ]
  },
  {
   "cell_type": "markdown",
   "id": "ee043ea1-57fb-4eff-a19d-f851a9e61428",
   "metadata": {},
   "source": [
    "**Size**"
   ]
  },
  {
   "cell_type": "code",
   "execution_count": 406,
   "id": "ab1b5b8e-3e7f-40a2-8648-410385fba1c5",
   "metadata": {
    "tags": [
     "remove_input"
    ]
   },
   "outputs": [
    {
     "data": {
      "text/html": [
       "<div>\n",
       "<style scoped>\n",
       "    .dataframe tbody tr th:only-of-type {\n",
       "        vertical-align: middle;\n",
       "    }\n",
       "\n",
       "    .dataframe tbody tr th {\n",
       "        vertical-align: top;\n",
       "    }\n",
       "\n",
       "    .dataframe thead th {\n",
       "        text-align: right;\n",
       "    }\n",
       "</style>\n",
       "<table border=\"1\" class=\"dataframe\">\n",
       "  <thead>\n",
       "    <tr style=\"text-align: right;\">\n",
       "      <th></th>\n",
       "      <th>Count</th>\n",
       "    </tr>\n",
       "  </thead>\n",
       "  <tbody>\n",
       "    <tr>\n",
       "      <th>Columns</th>\n",
       "      <td>5</td>\n",
       "    </tr>\n",
       "    <tr>\n",
       "      <th>Rows</th>\n",
       "      <td>173912</td>\n",
       "    </tr>\n",
       "  </tbody>\n",
       "</table>\n",
       "</div>"
      ],
      "text/plain": [
       "          Count\n",
       "Columns       5\n",
       "Rows     173912"
      ]
     },
     "execution_count": 406,
     "metadata": {},
     "output_type": "execute_result"
    }
   ],
   "source": [
    "# get the size of student_assessment\n",
    "get_size(student_assessment)"
   ]
  },
  {
   "cell_type": "code",
   "execution_count": 407,
   "id": "a82aeb90-2f54-4415-a739-6199e496365d",
   "metadata": {
    "tags": [
     "remove_input"
    ]
   },
   "outputs": [
    {
     "data": {
      "text/markdown": [
       "\n",
       "Student Assessment has 5 columns and 173,912 rows, which is how many exams we have data for.\n"
      ],
      "text/plain": [
       "<IPython.core.display.Markdown object>"
      ]
     },
     "execution_count": 407,
     "metadata": {},
     "output_type": "execute_result"
    }
   ],
   "source": [
    "# store the size of student_assessment's columns\n",
    "sa_cols = len(student_assessment.columns)\n",
    "# store the size of student_assessment's rows\n",
    "sa_rows = len(student_assessment)\n",
    "md(f'''\n",
    "Student Assessment has {sa_cols} columns and {\"{:,}\".format(sa_rows)} rows, which is how many exams we have data for.\n",
    "''')"
   ]
  },
  {
   "cell_type": "markdown",
   "id": "1368a835-09f9-444f-8059-d05f4bd6715e",
   "metadata": {},
   "source": [
    "---\n",
    "\n",
    "### Student Assessment Contents\n",
    "\n",
    "* **id_assessment**: The assessment ID is the unique identifier for the assessment the student took.\n",
    "* **id_student**: The student ID is the unique identifier for the student who took the assessment.\n",
    "* **date_submitted**: The date submitted is the date the student submitted the exam relevant to the start date of the module.\n",
    "* **is_banked**: Whether the score for the assessment is banked indicates wheter the assessment result was transferred from a previous presentation.\n",
    "    - is_banked has no relevant information to our analysis and can be removed\n",
    "* **score**: The score the student received for the assessment. 40 or above is considered a passing score."
   ]
  },
  {
   "cell_type": "markdown",
   "id": "2740b37d-cf79-4a75-be7c-eb7e600fdf5d",
   "metadata": {},
   "source": [
    "* column names will be changed to be less verbose\n",
    "    * code_module to module\n",
    "    * code_presentation to presentation"
   ]
  },
  {
   "cell_type": "markdown",
   "id": "9e5bccde-bc15-47ad-8c58-6590779fc655",
   "metadata": {},
   "source": [
    "---\n",
    "\n",
    "### Assessments Information"
   ]
  },
  {
   "cell_type": "markdown",
   "id": "a748695b-f90b-4bf8-912f-d123585ff9f2",
   "metadata": {},
   "source": [
    "**Data Types**"
   ]
  },
  {
   "cell_type": "code",
   "execution_count": 408,
   "id": "71fed38e-4597-4631-bd6e-78d5c82600ec",
   "metadata": {
    "tags": [
     "remove_input"
    ]
   },
   "outputs": [
    {
     "data": {
      "text/html": [
       "<style type=\"text/css\">\n",
       "#T_14fc7_ td.col0 {\n",
       "  font-weight: bold;\n",
       "}\n",
       "</style>\n",
       "<table id=\"T_14fc7_\">\n",
       "  <thead>\n",
       "    <tr>\n",
       "      <th class=\"col_heading level0 col0\" >index</th>\n",
       "      <th class=\"col_heading level0 col1\" >Type</th>\n",
       "    </tr>\n",
       "  </thead>\n",
       "  <tbody>\n",
       "    <tr>\n",
       "      <td id=\"T_14fc7_row0_col0\" class=\"data row0 col0\" >module</td>\n",
       "      <td id=\"T_14fc7_row0_col1\" class=\"data row0 col1\" >object</td>\n",
       "    </tr>\n",
       "    <tr>\n",
       "      <td id=\"T_14fc7_row1_col0\" class=\"data row1 col0\" >presentation</td>\n",
       "      <td id=\"T_14fc7_row1_col1\" class=\"data row1 col1\" >object</td>\n",
       "    </tr>\n",
       "    <tr>\n",
       "      <td id=\"T_14fc7_row2_col0\" class=\"data row2 col0\" >id_assessment</td>\n",
       "      <td id=\"T_14fc7_row2_col1\" class=\"data row2 col1\" >int64</td>\n",
       "    </tr>\n",
       "    <tr>\n",
       "      <td id=\"T_14fc7_row3_col0\" class=\"data row3 col0\" >assessment_type</td>\n",
       "      <td id=\"T_14fc7_row3_col1\" class=\"data row3 col1\" >object</td>\n",
       "    </tr>\n",
       "    <tr>\n",
       "      <td id=\"T_14fc7_row4_col0\" class=\"data row4 col0\" >date</td>\n",
       "      <td id=\"T_14fc7_row4_col1\" class=\"data row4 col1\" >float64</td>\n",
       "    </tr>\n",
       "    <tr>\n",
       "      <td id=\"T_14fc7_row5_col0\" class=\"data row5 col0\" >weight</td>\n",
       "      <td id=\"T_14fc7_row5_col1\" class=\"data row5 col1\" >float64</td>\n",
       "    </tr>\n",
       "  </tbody>\n",
       "</table>\n"
      ],
      "text/plain": [
       "<pandas.io.formats.style.Styler at 0x1e88f5bc5e0>"
      ]
     },
     "execution_count": 408,
     "metadata": {},
     "output_type": "execute_result"
    }
   ],
   "source": [
    "# function to get a dataframe of data types\n",
    "get_dtypes(assessments)"
   ]
  },
  {
   "cell_type": "markdown",
   "id": "b87836e4-b938-43dd-8e40-033ef284c4cc",
   "metadata": {},
   "source": [
    "* `id_assessments` is a categorical value and so should be converted to `string`\n",
    "* `object` types should be converted to strings\n",
    "* Both of the `float64` typed variables are whole numbers and should be converted to `int64`"
   ]
  },
  {
   "cell_type": "code",
   "execution_count": 409,
   "id": "16bfc18e-6a1e-404f-bfaa-b5586296ee98",
   "metadata": {
    "tags": [
     "remove-cell"
    ]
   },
   "outputs": [],
   "source": [
    "# converting the data types\n",
    "# id assessment to string\n",
    "assessments['id_assessment'] = assessments['id_assessment'].astype(str)\n",
    "# all other data types to those which support pandas <NA>\n",
    "assessments = assessments.convert_dtypes(convert_integer=False)"
   ]
  },
  {
   "cell_type": "markdown",
   "id": "f90bb93a-6076-4ecf-82a7-3b6f924e9f2d",
   "metadata": {},
   "source": [
    "**Null Values**"
   ]
  },
  {
   "cell_type": "code",
   "execution_count": 410,
   "id": "a8c9b7b6-21ed-4033-a973-462dca7db7ec",
   "metadata": {
    "tags": [
     "remove_input"
    ]
   },
   "outputs": [
    {
     "data": {
      "text/html": [
       "<style type=\"text/css\">\n",
       "#T_e3c1a_ td.col0 {\n",
       "  font-weight: bold;\n",
       "}\n",
       "</style>\n",
       "<table id=\"T_e3c1a_\">\n",
       "  <thead>\n",
       "    <tr>\n",
       "      <th class=\"col_heading level0 col0\" >index</th>\n",
       "      <th class=\"col_heading level0 col1\" >Null Values</th>\n",
       "    </tr>\n",
       "  </thead>\n",
       "  <tbody>\n",
       "    <tr>\n",
       "      <td id=\"T_e3c1a_row0_col0\" class=\"data row0 col0\" >module</td>\n",
       "      <td id=\"T_e3c1a_row0_col1\" class=\"data row0 col1\" >0</td>\n",
       "    </tr>\n",
       "    <tr>\n",
       "      <td id=\"T_e3c1a_row1_col0\" class=\"data row1 col0\" >presentation</td>\n",
       "      <td id=\"T_e3c1a_row1_col1\" class=\"data row1 col1\" >0</td>\n",
       "    </tr>\n",
       "    <tr>\n",
       "      <td id=\"T_e3c1a_row2_col0\" class=\"data row2 col0\" >id_assessment</td>\n",
       "      <td id=\"T_e3c1a_row2_col1\" class=\"data row2 col1\" >0</td>\n",
       "    </tr>\n",
       "    <tr>\n",
       "      <td id=\"T_e3c1a_row3_col0\" class=\"data row3 col0\" >assessment_type</td>\n",
       "      <td id=\"T_e3c1a_row3_col1\" class=\"data row3 col1\" >0</td>\n",
       "    </tr>\n",
       "    <tr>\n",
       "      <td id=\"T_e3c1a_row4_col0\" class=\"data row4 col0\" >date</td>\n",
       "      <td id=\"T_e3c1a_row4_col1\" class=\"data row4 col1\" >11</td>\n",
       "    </tr>\n",
       "    <tr>\n",
       "      <td id=\"T_e3c1a_row5_col0\" class=\"data row5 col0\" >weight</td>\n",
       "      <td id=\"T_e3c1a_row5_col1\" class=\"data row5 col1\" >0</td>\n",
       "    </tr>\n",
       "  </tbody>\n",
       "</table>\n"
      ],
      "text/plain": [
       "<pandas.io.formats.style.Styler at 0x1e892b349a0>"
      ]
     },
     "execution_count": 410,
     "metadata": {},
     "output_type": "execute_result"
    }
   ],
   "source": [
    "# function to return dataframe of nulls in columns\n",
    "null_vals(assessments)"
   ]
  },
  {
   "cell_type": "code",
   "execution_count": 411,
   "id": "8bbb87f1-a448-46ee-950a-8fe51a833834",
   "metadata": {
    "tags": [
     "remove_input"
    ]
   },
   "outputs": [
    {
     "data": {
      "text/markdown": [
       "\n",
       "* We have 11 null data points for assessment date. \n",
       "* The documentation of this dataset states that if the exam date is missing then it is as the end of the last presentation week. \n",
       "* We can find this information in the courses dataframe, and add them in to get rid of the NaNs.\n"
      ],
      "text/plain": [
       "<IPython.core.display.Markdown object>"
      ]
     },
     "execution_count": 411,
     "metadata": {},
     "output_type": "execute_result"
    }
   ],
   "source": [
    "md(f'''\n",
    "* We have {assessments['date'].isnull().sum()} null data points for assessment date. \n",
    "* The documentation of this dataset states that if the exam date is missing then it is as the end of the last presentation week. \n",
    "* We can find this information in the courses dataframe, and add them in to get rid of the NaNs.\n",
    "''')"
   ]
  },
  {
   "cell_type": "code",
   "execution_count": 412,
   "id": "f13a8942-82eb-468d-b3d1-132e8853158d",
   "metadata": {
    "tags": [
     "remove-cell"
    ]
   },
   "outputs": [
    {
     "data": {
      "text/html": [
       "<div>\n",
       "<style scoped>\n",
       "    .dataframe tbody tr th:only-of-type {\n",
       "        vertical-align: middle;\n",
       "    }\n",
       "\n",
       "    .dataframe tbody tr th {\n",
       "        vertical-align: top;\n",
       "    }\n",
       "\n",
       "    .dataframe thead th {\n",
       "        text-align: right;\n",
       "    }\n",
       "</style>\n",
       "<table border=\"1\" class=\"dataframe\">\n",
       "  <thead>\n",
       "    <tr style=\"text-align: right;\">\n",
       "      <th></th>\n",
       "      <th>Null Values</th>\n",
       "    </tr>\n",
       "  </thead>\n",
       "  <tbody>\n",
       "    <tr>\n",
       "      <th>module</th>\n",
       "      <td>0</td>\n",
       "    </tr>\n",
       "    <tr>\n",
       "      <th>presentation</th>\n",
       "      <td>0</td>\n",
       "    </tr>\n",
       "    <tr>\n",
       "      <th>id_assessment</th>\n",
       "      <td>0</td>\n",
       "    </tr>\n",
       "    <tr>\n",
       "      <th>assessment_type</th>\n",
       "      <td>0</td>\n",
       "    </tr>\n",
       "    <tr>\n",
       "      <th>date</th>\n",
       "      <td>0</td>\n",
       "    </tr>\n",
       "    <tr>\n",
       "      <th>weight</th>\n",
       "      <td>0</td>\n",
       "    </tr>\n",
       "  </tbody>\n",
       "</table>\n",
       "</div>"
      ],
      "text/plain": [
       "                 Null Values\n",
       "module                     0\n",
       "presentation               0\n",
       "id_assessment              0\n",
       "assessment_type            0\n",
       "date                       0\n",
       "weight                     0"
      ]
     },
     "execution_count": 412,
     "metadata": {},
     "output_type": "execute_result"
    }
   ],
   "source": [
    "# adding the dates for the null test dates\n",
    "for index, row in assessments[assessments['date'].isna()].iterrows():\n",
    "    assessments.at[index, 'date'] = courses.loc[(courses['module'] == row['module']) & (courses['presentation'] == row['presentation']), 'module_presentation_length']\n",
    "\n",
    "# reprinting to ensure it worked\n",
    "dataframe(assessments.isnull().sum(), columns=['Null Values'])"
   ]
  },
  {
   "cell_type": "markdown",
   "id": "12a82008-f64a-4b36-b4df-8d0fe5cbcf21",
   "metadata": {},
   "source": [
    "**Unique Counts**"
   ]
  },
  {
   "cell_type": "code",
   "execution_count": 413,
   "id": "fd2e029c-9dc3-442c-a150-097032cf18bc",
   "metadata": {
    "tags": [
     "remove_input"
    ]
   },
   "outputs": [
    {
     "data": {
      "text/html": [
       "<style type=\"text/css\">\n",
       "#T_a418d_ td.col0 {\n",
       "  font-weight: bold;\n",
       "}\n",
       "</style>\n",
       "<table id=\"T_a418d_\">\n",
       "  <thead>\n",
       "    <tr>\n",
       "      <th class=\"col_heading level0 col0\" >index</th>\n",
       "      <th class=\"col_heading level0 col1\" >Count</th>\n",
       "    </tr>\n",
       "  </thead>\n",
       "  <tbody>\n",
       "    <tr>\n",
       "      <td id=\"T_a418d_row0_col0\" class=\"data row0 col0\" >module</td>\n",
       "      <td id=\"T_a418d_row0_col1\" class=\"data row0 col1\" >7</td>\n",
       "    </tr>\n",
       "    <tr>\n",
       "      <td id=\"T_a418d_row1_col0\" class=\"data row1 col0\" >presentation</td>\n",
       "      <td id=\"T_a418d_row1_col1\" class=\"data row1 col1\" >4</td>\n",
       "    </tr>\n",
       "    <tr>\n",
       "      <td id=\"T_a418d_row2_col0\" class=\"data row2 col0\" >id_assessment</td>\n",
       "      <td id=\"T_a418d_row2_col1\" class=\"data row2 col1\" >206</td>\n",
       "    </tr>\n",
       "    <tr>\n",
       "      <td id=\"T_a418d_row3_col0\" class=\"data row3 col0\" >assessment_type</td>\n",
       "      <td id=\"T_a418d_row3_col1\" class=\"data row3 col1\" >3</td>\n",
       "    </tr>\n",
       "    <tr>\n",
       "      <td id=\"T_a418d_row4_col0\" class=\"data row4 col0\" >date</td>\n",
       "      <td id=\"T_a418d_row4_col1\" class=\"data row4 col1\" >78</td>\n",
       "    </tr>\n",
       "    <tr>\n",
       "      <td id=\"T_a418d_row5_col0\" class=\"data row5 col0\" >weight</td>\n",
       "      <td id=\"T_a418d_row5_col1\" class=\"data row5 col1\" >24</td>\n",
       "    </tr>\n",
       "  </tbody>\n",
       "</table>\n"
      ],
      "text/plain": [
       "<pandas.io.formats.style.Styler at 0x1e881d7f400>"
      ]
     },
     "execution_count": 413,
     "metadata": {},
     "output_type": "execute_result"
    }
   ],
   "source": [
    "# function to get unique value counts\n",
    "count_unique(assessments)"
   ]
  },
  {
   "cell_type": "code",
   "execution_count": 414,
   "id": "7898593b-91e9-4886-86fb-45eba1c5cc71",
   "metadata": {
    "tags": [
     "remove_input"
    ]
   },
   "outputs": [
    {
     "data": {
      "text/markdown": [
       "\n",
       "There are 206 unique assessment ID's\n"
      ],
      "text/plain": [
       "<IPython.core.display.Markdown object>"
      ]
     },
     "execution_count": 414,
     "metadata": {},
     "output_type": "execute_result"
    }
   ],
   "source": [
    "md(f'''\n",
    "There are {assessments['id_assessment'].nunique()} unique assessment ID's\n",
    "''')"
   ]
  },
  {
   "cell_type": "markdown",
   "id": "12b44979-f5b1-4122-923c-dca2d7dac7d3",
   "metadata": {},
   "source": [
    "**Unique Categorical Values**"
   ]
  },
  {
   "cell_type": "code",
   "execution_count": 415,
   "id": "cc695273-72e6-4547-bde6-f870e75f850b",
   "metadata": {
    "tags": [
     "remove_input"
    ]
   },
   "outputs": [
    {
     "data": {
      "text/html": [
       "<style type=\"text/css\">\n",
       "#T_e672a_ td.col0 {\n",
       "  font-weight: bold;\n",
       "}\n",
       "</style>\n",
       "<table id=\"T_e672a_\">\n",
       "  <thead>\n",
       "    <tr>\n",
       "      <th class=\"col_heading level0 col0\" >index</th>\n",
       "      <th class=\"col_heading level0 col1\" >Values</th>\n",
       "    </tr>\n",
       "  </thead>\n",
       "  <tbody>\n",
       "    <tr>\n",
       "      <td id=\"T_e672a_row0_col0\" class=\"data row0 col0\" >module</td>\n",
       "      <td id=\"T_e672a_row0_col1\" class=\"data row0 col1\" >['AAA', 'BBB', 'CCC', 'DDD', 'EEE', 'FFF', 'GGG']</td>\n",
       "    </tr>\n",
       "    <tr>\n",
       "      <td id=\"T_e672a_row1_col0\" class=\"data row1 col0\" >presentation</td>\n",
       "      <td id=\"T_e672a_row1_col1\" class=\"data row1 col1\" >['2013J', '2014J', '2013B', '2014B']</td>\n",
       "    </tr>\n",
       "    <tr>\n",
       "      <td id=\"T_e672a_row2_col0\" class=\"data row2 col0\" >id_assessment</td>\n",
       "      <td id=\"T_e672a_row2_col1\" class=\"data row2 col1\" >['1752', '1753', '1754', '1755', '1756', '1757', '1758', '1759', '1760', '1761', '1762', '1763', '14991', '14992', '14993', '14994', '14995', '14984', '14985', '14986', '14987', '14988', '14989', '14990', '15003', '15004', '15005', '15006', '15007', '14996', '14997', '14998', '14999', '15000', '15001', '15002', '15015', '15016', '15017', '15018', '15019', '15008', '15009', '15010', '15011', '15012', '15013', '15014', '15020', '15021', '15022', '15023', '15024', '15025', '24286', '24287', '24288', '24289', '24282', '24283', '24284', '24285', '24290', '40087', '24295', '24296', '24297', '24298', '24291', '24292', '24293', '24294', '24299', '40088', '25341', '25342', '25343', '25344', '25345', '25346', '25347', '25334', '25335', '25336', '25337', '25338', '25339', '25340', '25348', '25349', '25350', '25351', '25352', '25353', '25354', '25355', '25356', '25357', '25358', '25359', '25360', '25361', '25362', '25363', '25364', '25365', '25366', '25367', '25368', '30709', '30710', '30711', '30712', '30713', '30714', '30715', '30716', '30717', '30718', '30719', '30720', '30721', '30722', '30723', '34865', '34866', '34867', '34868', '34869', '34871', '34870', '34860', '34861', '34862', '34863', '34864', '34872', '34878', '34879', '34880', '34881', '34882', '34884', '34883', '34873', '34874', '34875', '34876', '34877', '34885', '34891', '34892', '34893', '34894', '34895', '34897', '34896', '34886', '34887', '34888', '34889', '34890', '34898', '34904', '34905', '34906', '34907', '34908', '34910', '34909', '34899', '34900', '34901', '34902', '34903', '34911', '37418', '37419', '37420', '37421', '37422', '37423', '37415', '37416', '37417', '37424', '37428', '37429', '37430', '37431', '37432', '37433', '37425', '37426', '37427', '37434', '37438', '37439', '37440', '37441', '37442', '37443', '37435', '37436', '37437', '37444']</td>\n",
       "    </tr>\n",
       "    <tr>\n",
       "      <td id=\"T_e672a_row3_col0\" class=\"data row3 col0\" >assessment_type</td>\n",
       "      <td id=\"T_e672a_row3_col1\" class=\"data row3 col1\" >['TMA', 'Exam', 'CMA']</td>\n",
       "    </tr>\n",
       "  </tbody>\n",
       "</table>\n"
      ],
      "text/plain": [
       "<pandas.io.formats.style.Styler at 0x1e888a22190>"
      ]
     },
     "execution_count": 415,
     "metadata": {},
     "output_type": "execute_result"
    }
   ],
   "source": [
    "# function to get unique categorical values in columns\n",
    "unique_vals(assessments)"
   ]
  },
  {
   "cell_type": "markdown",
   "id": "e3f47e31-e319-4108-9ebc-9e004c4e77d0",
   "metadata": {},
   "source": [
    "Everything here is as we would expect in the data's description"
   ]
  },
  {
   "cell_type": "code",
   "execution_count": 416,
   "id": "7a79cc6f-d3f7-4a0f-9b41-0b9c39512656",
   "metadata": {},
   "outputs": [
    {
     "data": {
      "text/html": [
       "<div>\n",
       "<style scoped>\n",
       "    .dataframe tbody tr th:only-of-type {\n",
       "        vertical-align: middle;\n",
       "    }\n",
       "\n",
       "    .dataframe tbody tr th {\n",
       "        vertical-align: top;\n",
       "    }\n",
       "\n",
       "    .dataframe thead th {\n",
       "        text-align: right;\n",
       "    }\n",
       "</style>\n",
       "<table border=\"1\" class=\"dataframe\">\n",
       "  <thead>\n",
       "    <tr style=\"text-align: right;\">\n",
       "      <th></th>\n",
       "      <th>assessment_type</th>\n",
       "    </tr>\n",
       "  </thead>\n",
       "  <tbody>\n",
       "    <tr>\n",
       "      <th>TMA</th>\n",
       "      <td>106</td>\n",
       "    </tr>\n",
       "    <tr>\n",
       "      <th>CMA</th>\n",
       "      <td>76</td>\n",
       "    </tr>\n",
       "    <tr>\n",
       "      <th>Exam</th>\n",
       "      <td>24</td>\n",
       "    </tr>\n",
       "  </tbody>\n",
       "</table>\n",
       "</div>"
      ],
      "text/plain": [
       "      assessment_type\n",
       "TMA               106\n",
       "CMA                76\n",
       "Exam               24"
      ]
     },
     "execution_count": 416,
     "metadata": {},
     "output_type": "execute_result"
    }
   ],
   "source": [
    "# get the value counts for each type of exam\n",
    "dataframe(assessments['assessment_type'].value_counts())"
   ]
  },
  {
   "cell_type": "code",
   "execution_count": 417,
   "id": "a64ba967-c8b1-4baf-b230-d478bfaf0a54",
   "metadata": {},
   "outputs": [
    {
     "data": {
      "text/markdown": [
       "\n",
       "There are 106 Tutor Marked Assessements, 76 Computer Marked Assessments and 24 Final Exams in our data.\n"
      ],
      "text/plain": [
       "<IPython.core.display.Markdown object>"
      ]
     },
     "execution_count": 417,
     "metadata": {},
     "output_type": "execute_result"
    }
   ],
   "source": [
    "TMA_count = assessments['assessment_type'].value_counts()[0]\n",
    "CMA_count = assessments['assessment_type'].value_counts()[1]\n",
    "exam_count = assessments['assessment_type'].value_counts()[2]\n",
    "md(f'''\n",
    "There are {TMA_count} Tutor Marked Assessements, {CMA_count} Computer Marked Assessments and {exam_count} Final Exams in our data.\n",
    "''')"
   ]
  },
  {
   "cell_type": "code",
   "execution_count": 418,
   "id": "a35cce94-0e45-484a-9f41-fa7458febd6f",
   "metadata": {
    "tags": [
     "remove_input"
    ]
   },
   "outputs": [
    {
     "data": {
      "text/markdown": [
       "\n",
       "Our data source tells us that final exams are weighted 100 and the weights of the rest of the exams in a module should amount to 100.\n",
       " So each module should have a total weight of 200.\n"
      ],
      "text/plain": [
       "<IPython.core.display.Markdown object>"
      ]
     },
     "execution_count": 418,
     "metadata": {},
     "output_type": "execute_result"
    }
   ],
   "source": [
    "md('''\n",
    "Our data source tells us that final exams are weighted 100 and the weights of the rest of the exams in a module should amount to 100.\n",
    " So each module should have a total weight of 200.\n",
    "''')"
   ]
  },
  {
   "cell_type": "code",
   "execution_count": 419,
   "id": "e93250eb-afcf-47c8-95cb-56ee0752ede0",
   "metadata": {},
   "outputs": [
    {
     "data": {
      "text/html": [
       "<div>\n",
       "<style scoped>\n",
       "    .dataframe tbody tr th:only-of-type {\n",
       "        vertical-align: middle;\n",
       "    }\n",
       "\n",
       "    .dataframe tbody tr th {\n",
       "        vertical-align: top;\n",
       "    }\n",
       "\n",
       "    .dataframe thead th {\n",
       "        text-align: right;\n",
       "    }\n",
       "</style>\n",
       "<table border=\"1\" class=\"dataframe\">\n",
       "  <thead>\n",
       "    <tr style=\"text-align: right;\">\n",
       "      <th></th>\n",
       "      <th></th>\n",
       "      <th>weight</th>\n",
       "    </tr>\n",
       "    <tr>\n",
       "      <th>presentation</th>\n",
       "      <th>module</th>\n",
       "      <th></th>\n",
       "    </tr>\n",
       "  </thead>\n",
       "  <tbody>\n",
       "    <tr>\n",
       "      <th rowspan=\"3\" valign=\"top\">2013B</th>\n",
       "      <th>BBB</th>\n",
       "      <td>200.0</td>\n",
       "    </tr>\n",
       "    <tr>\n",
       "      <th>DDD</th>\n",
       "      <td>200.0</td>\n",
       "    </tr>\n",
       "    <tr>\n",
       "      <th>FFF</th>\n",
       "      <td>200.0</td>\n",
       "    </tr>\n",
       "    <tr>\n",
       "      <th rowspan=\"6\" valign=\"top\">2013J</th>\n",
       "      <th>AAA</th>\n",
       "      <td>200.0</td>\n",
       "    </tr>\n",
       "    <tr>\n",
       "      <th>BBB</th>\n",
       "      <td>200.0</td>\n",
       "    </tr>\n",
       "    <tr>\n",
       "      <th>DDD</th>\n",
       "      <td>200.0</td>\n",
       "    </tr>\n",
       "    <tr>\n",
       "      <th>EEE</th>\n",
       "      <td>200.0</td>\n",
       "    </tr>\n",
       "    <tr>\n",
       "      <th>FFF</th>\n",
       "      <td>200.0</td>\n",
       "    </tr>\n",
       "    <tr>\n",
       "      <th>GGG</th>\n",
       "      <td>100.0</td>\n",
       "    </tr>\n",
       "    <tr>\n",
       "      <th rowspan=\"6\" valign=\"top\">2014B</th>\n",
       "      <th>BBB</th>\n",
       "      <td>200.0</td>\n",
       "    </tr>\n",
       "    <tr>\n",
       "      <th>CCC</th>\n",
       "      <td>300.0</td>\n",
       "    </tr>\n",
       "    <tr>\n",
       "      <th>DDD</th>\n",
       "      <td>200.0</td>\n",
       "    </tr>\n",
       "    <tr>\n",
       "      <th>EEE</th>\n",
       "      <td>200.0</td>\n",
       "    </tr>\n",
       "    <tr>\n",
       "      <th>FFF</th>\n",
       "      <td>200.0</td>\n",
       "    </tr>\n",
       "    <tr>\n",
       "      <th>GGG</th>\n",
       "      <td>100.0</td>\n",
       "    </tr>\n",
       "    <tr>\n",
       "      <th rowspan=\"7\" valign=\"top\">2014J</th>\n",
       "      <th>AAA</th>\n",
       "      <td>200.0</td>\n",
       "    </tr>\n",
       "    <tr>\n",
       "      <th>BBB</th>\n",
       "      <td>200.0</td>\n",
       "    </tr>\n",
       "    <tr>\n",
       "      <th>CCC</th>\n",
       "      <td>300.0</td>\n",
       "    </tr>\n",
       "    <tr>\n",
       "      <th>DDD</th>\n",
       "      <td>200.0</td>\n",
       "    </tr>\n",
       "    <tr>\n",
       "      <th>EEE</th>\n",
       "      <td>200.0</td>\n",
       "    </tr>\n",
       "    <tr>\n",
       "      <th>FFF</th>\n",
       "      <td>200.0</td>\n",
       "    </tr>\n",
       "    <tr>\n",
       "      <th>GGG</th>\n",
       "      <td>100.0</td>\n",
       "    </tr>\n",
       "  </tbody>\n",
       "</table>\n",
       "</div>"
      ],
      "text/plain": [
       "                     weight\n",
       "presentation module        \n",
       "2013B        BBB      200.0\n",
       "             DDD      200.0\n",
       "             FFF      200.0\n",
       "2013J        AAA      200.0\n",
       "             BBB      200.0\n",
       "             DDD      200.0\n",
       "             EEE      200.0\n",
       "             FFF      200.0\n",
       "             GGG      100.0\n",
       "2014B        BBB      200.0\n",
       "             CCC      300.0\n",
       "             DDD      200.0\n",
       "             EEE      200.0\n",
       "             FFF      200.0\n",
       "             GGG      100.0\n",
       "2014J        AAA      200.0\n",
       "             BBB      200.0\n",
       "             CCC      300.0\n",
       "             DDD      200.0\n",
       "             EEE      200.0\n",
       "             FFF      200.0\n",
       "             GGG      100.0"
      ]
     },
     "execution_count": 419,
     "metadata": {},
     "output_type": "execute_result"
    }
   ],
   "source": [
    "pd.pivot_table(assessments, index=['presentation', 'module'], values='weight', aggfunc=np.sum)"
   ]
  },
  {
   "cell_type": "markdown",
   "id": "630042bd-ac3f-4b66-82b9-49fb1e8087f5",
   "metadata": {},
   "source": [
    "This pivot table shows the module presentation, the module and the total of the weights of the exams in the module.\n",
    "Because the final exam is weighted 100 and the other exams should form another 100 we should have 200 points in each module. We see here that CCC modules 300 in total weight and GGG modules have 100 in total weight."
   ]
  },
  {
   "cell_type": "code",
   "execution_count": 420,
   "id": "f11228d8-54b8-4c21-999b-a5806f13fdee",
   "metadata": {},
   "outputs": [
    {
     "data": {
      "text/html": [
       "<div>\n",
       "<style scoped>\n",
       "    .dataframe tbody tr th:only-of-type {\n",
       "        vertical-align: middle;\n",
       "    }\n",
       "\n",
       "    .dataframe tbody tr th {\n",
       "        vertical-align: top;\n",
       "    }\n",
       "\n",
       "    .dataframe thead th {\n",
       "        text-align: right;\n",
       "    }\n",
       "</style>\n",
       "<table border=\"1\" class=\"dataframe\">\n",
       "  <thead>\n",
       "    <tr style=\"text-align: right;\">\n",
       "      <th></th>\n",
       "      <th>module</th>\n",
       "      <th>id_assessment</th>\n",
       "      <th>assessment_type</th>\n",
       "      <th>weight</th>\n",
       "    </tr>\n",
       "  </thead>\n",
       "  <tbody>\n",
       "    <tr>\n",
       "      <th>54</th>\n",
       "      <td>CCC</td>\n",
       "      <td>24286</td>\n",
       "      <td>CMA</td>\n",
       "      <td>2.0</td>\n",
       "    </tr>\n",
       "    <tr>\n",
       "      <th>55</th>\n",
       "      <td>CCC</td>\n",
       "      <td>24287</td>\n",
       "      <td>CMA</td>\n",
       "      <td>7.0</td>\n",
       "    </tr>\n",
       "    <tr>\n",
       "      <th>56</th>\n",
       "      <td>CCC</td>\n",
       "      <td>24288</td>\n",
       "      <td>CMA</td>\n",
       "      <td>8.0</td>\n",
       "    </tr>\n",
       "    <tr>\n",
       "      <th>57</th>\n",
       "      <td>CCC</td>\n",
       "      <td>24289</td>\n",
       "      <td>CMA</td>\n",
       "      <td>8.0</td>\n",
       "    </tr>\n",
       "    <tr>\n",
       "      <th>58</th>\n",
       "      <td>CCC</td>\n",
       "      <td>24282</td>\n",
       "      <td>TMA</td>\n",
       "      <td>9.0</td>\n",
       "    </tr>\n",
       "    <tr>\n",
       "      <th>59</th>\n",
       "      <td>CCC</td>\n",
       "      <td>24283</td>\n",
       "      <td>TMA</td>\n",
       "      <td>22.0</td>\n",
       "    </tr>\n",
       "    <tr>\n",
       "      <th>60</th>\n",
       "      <td>CCC</td>\n",
       "      <td>24284</td>\n",
       "      <td>TMA</td>\n",
       "      <td>22.0</td>\n",
       "    </tr>\n",
       "    <tr>\n",
       "      <th>61</th>\n",
       "      <td>CCC</td>\n",
       "      <td>24285</td>\n",
       "      <td>TMA</td>\n",
       "      <td>22.0</td>\n",
       "    </tr>\n",
       "    <tr>\n",
       "      <th>62</th>\n",
       "      <td>CCC</td>\n",
       "      <td>24290</td>\n",
       "      <td>Exam</td>\n",
       "      <td>100.0</td>\n",
       "    </tr>\n",
       "    <tr>\n",
       "      <th>63</th>\n",
       "      <td>CCC</td>\n",
       "      <td>40087</td>\n",
       "      <td>Exam</td>\n",
       "      <td>100.0</td>\n",
       "    </tr>\n",
       "    <tr>\n",
       "      <th>64</th>\n",
       "      <td>CCC</td>\n",
       "      <td>24295</td>\n",
       "      <td>CMA</td>\n",
       "      <td>2.0</td>\n",
       "    </tr>\n",
       "    <tr>\n",
       "      <th>65</th>\n",
       "      <td>CCC</td>\n",
       "      <td>24296</td>\n",
       "      <td>CMA</td>\n",
       "      <td>7.0</td>\n",
       "    </tr>\n",
       "    <tr>\n",
       "      <th>66</th>\n",
       "      <td>CCC</td>\n",
       "      <td>24297</td>\n",
       "      <td>CMA</td>\n",
       "      <td>8.0</td>\n",
       "    </tr>\n",
       "    <tr>\n",
       "      <th>67</th>\n",
       "      <td>CCC</td>\n",
       "      <td>24298</td>\n",
       "      <td>CMA</td>\n",
       "      <td>8.0</td>\n",
       "    </tr>\n",
       "    <tr>\n",
       "      <th>68</th>\n",
       "      <td>CCC</td>\n",
       "      <td>24291</td>\n",
       "      <td>TMA</td>\n",
       "      <td>9.0</td>\n",
       "    </tr>\n",
       "    <tr>\n",
       "      <th>69</th>\n",
       "      <td>CCC</td>\n",
       "      <td>24292</td>\n",
       "      <td>TMA</td>\n",
       "      <td>22.0</td>\n",
       "    </tr>\n",
       "    <tr>\n",
       "      <th>70</th>\n",
       "      <td>CCC</td>\n",
       "      <td>24293</td>\n",
       "      <td>TMA</td>\n",
       "      <td>22.0</td>\n",
       "    </tr>\n",
       "    <tr>\n",
       "      <th>71</th>\n",
       "      <td>CCC</td>\n",
       "      <td>24294</td>\n",
       "      <td>TMA</td>\n",
       "      <td>22.0</td>\n",
       "    </tr>\n",
       "    <tr>\n",
       "      <th>72</th>\n",
       "      <td>CCC</td>\n",
       "      <td>24299</td>\n",
       "      <td>Exam</td>\n",
       "      <td>100.0</td>\n",
       "    </tr>\n",
       "    <tr>\n",
       "      <th>73</th>\n",
       "      <td>CCC</td>\n",
       "      <td>40088</td>\n",
       "      <td>Exam</td>\n",
       "      <td>100.0</td>\n",
       "    </tr>\n",
       "    <tr>\n",
       "      <th>176</th>\n",
       "      <td>GGG</td>\n",
       "      <td>37418</td>\n",
       "      <td>CMA</td>\n",
       "      <td>0.0</td>\n",
       "    </tr>\n",
       "    <tr>\n",
       "      <th>177</th>\n",
       "      <td>GGG</td>\n",
       "      <td>37419</td>\n",
       "      <td>CMA</td>\n",
       "      <td>0.0</td>\n",
       "    </tr>\n",
       "    <tr>\n",
       "      <th>178</th>\n",
       "      <td>GGG</td>\n",
       "      <td>37420</td>\n",
       "      <td>CMA</td>\n",
       "      <td>0.0</td>\n",
       "    </tr>\n",
       "    <tr>\n",
       "      <th>179</th>\n",
       "      <td>GGG</td>\n",
       "      <td>37421</td>\n",
       "      <td>CMA</td>\n",
       "      <td>0.0</td>\n",
       "    </tr>\n",
       "    <tr>\n",
       "      <th>180</th>\n",
       "      <td>GGG</td>\n",
       "      <td>37422</td>\n",
       "      <td>CMA</td>\n",
       "      <td>0.0</td>\n",
       "    </tr>\n",
       "    <tr>\n",
       "      <th>181</th>\n",
       "      <td>GGG</td>\n",
       "      <td>37423</td>\n",
       "      <td>CMA</td>\n",
       "      <td>0.0</td>\n",
       "    </tr>\n",
       "    <tr>\n",
       "      <th>182</th>\n",
       "      <td>GGG</td>\n",
       "      <td>37415</td>\n",
       "      <td>TMA</td>\n",
       "      <td>0.0</td>\n",
       "    </tr>\n",
       "    <tr>\n",
       "      <th>183</th>\n",
       "      <td>GGG</td>\n",
       "      <td>37416</td>\n",
       "      <td>TMA</td>\n",
       "      <td>0.0</td>\n",
       "    </tr>\n",
       "    <tr>\n",
       "      <th>184</th>\n",
       "      <td>GGG</td>\n",
       "      <td>37417</td>\n",
       "      <td>TMA</td>\n",
       "      <td>0.0</td>\n",
       "    </tr>\n",
       "    <tr>\n",
       "      <th>185</th>\n",
       "      <td>GGG</td>\n",
       "      <td>37424</td>\n",
       "      <td>Exam</td>\n",
       "      <td>100.0</td>\n",
       "    </tr>\n",
       "    <tr>\n",
       "      <th>186</th>\n",
       "      <td>GGG</td>\n",
       "      <td>37428</td>\n",
       "      <td>CMA</td>\n",
       "      <td>0.0</td>\n",
       "    </tr>\n",
       "    <tr>\n",
       "      <th>187</th>\n",
       "      <td>GGG</td>\n",
       "      <td>37429</td>\n",
       "      <td>CMA</td>\n",
       "      <td>0.0</td>\n",
       "    </tr>\n",
       "    <tr>\n",
       "      <th>188</th>\n",
       "      <td>GGG</td>\n",
       "      <td>37430</td>\n",
       "      <td>CMA</td>\n",
       "      <td>0.0</td>\n",
       "    </tr>\n",
       "    <tr>\n",
       "      <th>189</th>\n",
       "      <td>GGG</td>\n",
       "      <td>37431</td>\n",
       "      <td>CMA</td>\n",
       "      <td>0.0</td>\n",
       "    </tr>\n",
       "    <tr>\n",
       "      <th>190</th>\n",
       "      <td>GGG</td>\n",
       "      <td>37432</td>\n",
       "      <td>CMA</td>\n",
       "      <td>0.0</td>\n",
       "    </tr>\n",
       "    <tr>\n",
       "      <th>191</th>\n",
       "      <td>GGG</td>\n",
       "      <td>37433</td>\n",
       "      <td>CMA</td>\n",
       "      <td>0.0</td>\n",
       "    </tr>\n",
       "    <tr>\n",
       "      <th>192</th>\n",
       "      <td>GGG</td>\n",
       "      <td>37425</td>\n",
       "      <td>TMA</td>\n",
       "      <td>0.0</td>\n",
       "    </tr>\n",
       "    <tr>\n",
       "      <th>193</th>\n",
       "      <td>GGG</td>\n",
       "      <td>37426</td>\n",
       "      <td>TMA</td>\n",
       "      <td>0.0</td>\n",
       "    </tr>\n",
       "    <tr>\n",
       "      <th>194</th>\n",
       "      <td>GGG</td>\n",
       "      <td>37427</td>\n",
       "      <td>TMA</td>\n",
       "      <td>0.0</td>\n",
       "    </tr>\n",
       "    <tr>\n",
       "      <th>195</th>\n",
       "      <td>GGG</td>\n",
       "      <td>37434</td>\n",
       "      <td>Exam</td>\n",
       "      <td>100.0</td>\n",
       "    </tr>\n",
       "    <tr>\n",
       "      <th>196</th>\n",
       "      <td>GGG</td>\n",
       "      <td>37438</td>\n",
       "      <td>CMA</td>\n",
       "      <td>0.0</td>\n",
       "    </tr>\n",
       "    <tr>\n",
       "      <th>197</th>\n",
       "      <td>GGG</td>\n",
       "      <td>37439</td>\n",
       "      <td>CMA</td>\n",
       "      <td>0.0</td>\n",
       "    </tr>\n",
       "    <tr>\n",
       "      <th>198</th>\n",
       "      <td>GGG</td>\n",
       "      <td>37440</td>\n",
       "      <td>CMA</td>\n",
       "      <td>0.0</td>\n",
       "    </tr>\n",
       "    <tr>\n",
       "      <th>199</th>\n",
       "      <td>GGG</td>\n",
       "      <td>37441</td>\n",
       "      <td>CMA</td>\n",
       "      <td>0.0</td>\n",
       "    </tr>\n",
       "    <tr>\n",
       "      <th>200</th>\n",
       "      <td>GGG</td>\n",
       "      <td>37442</td>\n",
       "      <td>CMA</td>\n",
       "      <td>0.0</td>\n",
       "    </tr>\n",
       "    <tr>\n",
       "      <th>201</th>\n",
       "      <td>GGG</td>\n",
       "      <td>37443</td>\n",
       "      <td>CMA</td>\n",
       "      <td>0.0</td>\n",
       "    </tr>\n",
       "    <tr>\n",
       "      <th>202</th>\n",
       "      <td>GGG</td>\n",
       "      <td>37435</td>\n",
       "      <td>TMA</td>\n",
       "      <td>0.0</td>\n",
       "    </tr>\n",
       "    <tr>\n",
       "      <th>203</th>\n",
       "      <td>GGG</td>\n",
       "      <td>37436</td>\n",
       "      <td>TMA</td>\n",
       "      <td>0.0</td>\n",
       "    </tr>\n",
       "    <tr>\n",
       "      <th>204</th>\n",
       "      <td>GGG</td>\n",
       "      <td>37437</td>\n",
       "      <td>TMA</td>\n",
       "      <td>0.0</td>\n",
       "    </tr>\n",
       "    <tr>\n",
       "      <th>205</th>\n",
       "      <td>GGG</td>\n",
       "      <td>37444</td>\n",
       "      <td>Exam</td>\n",
       "      <td>100.0</td>\n",
       "    </tr>\n",
       "  </tbody>\n",
       "</table>\n",
       "</div>"
      ],
      "text/plain": [
       "    module id_assessment assessment_type  weight\n",
       "54     CCC         24286             CMA     2.0\n",
       "55     CCC         24287             CMA     7.0\n",
       "56     CCC         24288             CMA     8.0\n",
       "57     CCC         24289             CMA     8.0\n",
       "58     CCC         24282             TMA     9.0\n",
       "59     CCC         24283             TMA    22.0\n",
       "60     CCC         24284             TMA    22.0\n",
       "61     CCC         24285             TMA    22.0\n",
       "62     CCC         24290            Exam   100.0\n",
       "63     CCC         40087            Exam   100.0\n",
       "64     CCC         24295             CMA     2.0\n",
       "65     CCC         24296             CMA     7.0\n",
       "66     CCC         24297             CMA     8.0\n",
       "67     CCC         24298             CMA     8.0\n",
       "68     CCC         24291             TMA     9.0\n",
       "69     CCC         24292             TMA    22.0\n",
       "70     CCC         24293             TMA    22.0\n",
       "71     CCC         24294             TMA    22.0\n",
       "72     CCC         24299            Exam   100.0\n",
       "73     CCC         40088            Exam   100.0\n",
       "176    GGG         37418             CMA     0.0\n",
       "177    GGG         37419             CMA     0.0\n",
       "178    GGG         37420             CMA     0.0\n",
       "179    GGG         37421             CMA     0.0\n",
       "180    GGG         37422             CMA     0.0\n",
       "181    GGG         37423             CMA     0.0\n",
       "182    GGG         37415             TMA     0.0\n",
       "183    GGG         37416             TMA     0.0\n",
       "184    GGG         37417             TMA     0.0\n",
       "185    GGG         37424            Exam   100.0\n",
       "186    GGG         37428             CMA     0.0\n",
       "187    GGG         37429             CMA     0.0\n",
       "188    GGG         37430             CMA     0.0\n",
       "189    GGG         37431             CMA     0.0\n",
       "190    GGG         37432             CMA     0.0\n",
       "191    GGG         37433             CMA     0.0\n",
       "192    GGG         37425             TMA     0.0\n",
       "193    GGG         37426             TMA     0.0\n",
       "194    GGG         37427             TMA     0.0\n",
       "195    GGG         37434            Exam   100.0\n",
       "196    GGG         37438             CMA     0.0\n",
       "197    GGG         37439             CMA     0.0\n",
       "198    GGG         37440             CMA     0.0\n",
       "199    GGG         37441             CMA     0.0\n",
       "200    GGG         37442             CMA     0.0\n",
       "201    GGG         37443             CMA     0.0\n",
       "202    GGG         37435             TMA     0.0\n",
       "203    GGG         37436             TMA     0.0\n",
       "204    GGG         37437             TMA     0.0\n",
       "205    GGG         37444            Exam   100.0"
      ]
     },
     "execution_count": 420,
     "metadata": {},
     "output_type": "execute_result"
    }
   ],
   "source": [
    "ccc_ggg_weights = assessments.loc[(assessments['module'] == 'CCC') | (assessments['module'] == 'GGG')]\n",
    "ccc_ggg_weights = ccc_ggg_weights[['module', 'id_assessment', 'assessment_type', 'weight']]\n",
    "ccc_ggg_weights"
   ]
  },
  {
   "cell_type": "markdown",
   "id": "742ee344-5dd4-41b2-bddb-b4357417ed0c",
   "metadata": {},
   "source": [
    "We can see here that CCC Modules had two final exams, and the GGG module's full course weight consisted only of a final exam. \n",
    "\n",
    "The data source mentions some final exams may be missing scores, so instead of dealing with this problem here, we will come back to this problem after we have explored student_assessment in case the missing final exam scores prove problematic."
   ]
  },
  {
   "cell_type": "markdown",
   "id": "6b6c5f0f-bb08-49af-a523-546a159dffae",
   "metadata": {},
   "source": [
    "**Duplicate Values:**"
   ]
  },
  {
   "cell_type": "code",
   "execution_count": 421,
   "id": "193037fb-6b33-4002-9882-f92bfaa3d4fa",
   "metadata": {
    "tags": [
     "remove_input"
    ]
   },
   "outputs": [
    {
     "data": {
      "text/markdown": [
       "There are no Duplicate Values"
      ],
      "text/plain": [
       "<IPython.core.display.Markdown object>"
      ]
     },
     "execution_count": 421,
     "metadata": {},
     "output_type": "execute_result"
    }
   ],
   "source": [
    "get_dupes(assessments)"
   ]
  },
  {
   "cell_type": "markdown",
   "id": "c2a3dea0-4249-4808-8990-a06002234ed8",
   "metadata": {},
   "source": [
    "**Numerical Values**"
   ]
  },
  {
   "cell_type": "code",
   "execution_count": 422,
   "id": "513daf4b-0bca-4c52-81b6-8dcf7cc46df0",
   "metadata": {
    "tags": [
     "remove_input"
    ]
   },
   "outputs": [
    {
     "data": {
      "text/html": [
       "<div>\n",
       "<style scoped>\n",
       "    .dataframe tbody tr th:only-of-type {\n",
       "        vertical-align: middle;\n",
       "    }\n",
       "\n",
       "    .dataframe tbody tr th {\n",
       "        vertical-align: top;\n",
       "    }\n",
       "\n",
       "    .dataframe thead th {\n",
       "        text-align: right;\n",
       "    }\n",
       "</style>\n",
       "<table border=\"1\" class=\"dataframe\">\n",
       "  <thead>\n",
       "    <tr style=\"text-align: right;\">\n",
       "      <th></th>\n",
       "      <th>date</th>\n",
       "      <th>weight</th>\n",
       "    </tr>\n",
       "  </thead>\n",
       "  <tbody>\n",
       "    <tr>\n",
       "      <th>count</th>\n",
       "      <td>206.00</td>\n",
       "      <td>206.00</td>\n",
       "    </tr>\n",
       "    <tr>\n",
       "      <th>mean</th>\n",
       "      <td>150.97</td>\n",
       "      <td>20.87</td>\n",
       "    </tr>\n",
       "    <tr>\n",
       "      <th>std</th>\n",
       "      <td>78.16</td>\n",
       "      <td>30.38</td>\n",
       "    </tr>\n",
       "    <tr>\n",
       "      <th>min</th>\n",
       "      <td>12.00</td>\n",
       "      <td>0.00</td>\n",
       "    </tr>\n",
       "    <tr>\n",
       "      <th>25%</th>\n",
       "      <td>81.25</td>\n",
       "      <td>0.00</td>\n",
       "    </tr>\n",
       "    <tr>\n",
       "      <th>50%</th>\n",
       "      <td>159.00</td>\n",
       "      <td>12.50</td>\n",
       "    </tr>\n",
       "    <tr>\n",
       "      <th>75%</th>\n",
       "      <td>227.00</td>\n",
       "      <td>24.25</td>\n",
       "    </tr>\n",
       "    <tr>\n",
       "      <th>max</th>\n",
       "      <td>269.00</td>\n",
       "      <td>100.00</td>\n",
       "    </tr>\n",
       "  </tbody>\n",
       "</table>\n",
       "</div>"
      ],
      "text/plain": [
       "         date  weight\n",
       "count  206.00  206.00\n",
       "mean   150.97   20.87\n",
       "std     78.16   30.38\n",
       "min     12.00    0.00\n",
       "25%     81.25    0.00\n",
       "50%    159.00   12.50\n",
       "75%    227.00   24.25\n",
       "max    269.00  100.00"
      ]
     },
     "execution_count": 422,
     "metadata": {},
     "output_type": "execute_result"
    }
   ],
   "source": [
    "assessments.describe().round(2)"
   ]
  },
  {
   "cell_type": "code",
   "execution_count": 423,
   "id": "5482db2d-21f8-48f7-9ed0-30b470049a49",
   "metadata": {},
   "outputs": [
    {
     "data": {
      "text/markdown": [
       "\n",
       "The average test is weighted at 20.87, which makes sense as there is normally 5 tests adding to 100 and then a final which likely brings up that mean.\n"
      ],
      "text/plain": [
       "<IPython.core.display.Markdown object>"
      ]
     },
     "execution_count": 423,
     "metadata": {},
     "output_type": "execute_result"
    }
   ],
   "source": [
    "mean_weight = round(assessments['weight'].mean(), 2)\n",
    "md(f'''\n",
    "The average test is weighted at {mean_weight}, which makes sense as there is normally 5 tests adding to 100 and then a final which likely brings up that mean.\n",
    "''')"
   ]
  },
  {
   "cell_type": "markdown",
   "id": "be180e42-b1a2-46f0-97e9-b07c8e135362",
   "metadata": {},
   "source": [
    "---\n",
    "\n",
    "### Student Assessment Information"
   ]
  },
  {
   "cell_type": "markdown",
   "id": "27e821be-1c68-4722-99fa-815aacd53d74",
   "metadata": {},
   "source": [
    "**Data Types**"
   ]
  },
  {
   "cell_type": "code",
   "execution_count": 424,
   "id": "9d5f951b-d145-4847-a476-60f6842f993f",
   "metadata": {
    "tags": [
     "remove_input"
    ]
   },
   "outputs": [
    {
     "data": {
      "text/html": [
       "<style type=\"text/css\">\n",
       "#T_83ba5_ td.col0 {\n",
       "  font-weight: bold;\n",
       "}\n",
       "</style>\n",
       "<table id=\"T_83ba5_\">\n",
       "  <thead>\n",
       "    <tr>\n",
       "      <th class=\"col_heading level0 col0\" >index</th>\n",
       "      <th class=\"col_heading level0 col1\" >Type</th>\n",
       "    </tr>\n",
       "  </thead>\n",
       "  <tbody>\n",
       "    <tr>\n",
       "      <td id=\"T_83ba5_row0_col0\" class=\"data row0 col0\" >id_assessment</td>\n",
       "      <td id=\"T_83ba5_row0_col1\" class=\"data row0 col1\" >int64</td>\n",
       "    </tr>\n",
       "    <tr>\n",
       "      <td id=\"T_83ba5_row1_col0\" class=\"data row1 col0\" >id_student</td>\n",
       "      <td id=\"T_83ba5_row1_col1\" class=\"data row1 col1\" >int64</td>\n",
       "    </tr>\n",
       "    <tr>\n",
       "      <td id=\"T_83ba5_row2_col0\" class=\"data row2 col0\" >date_submitted</td>\n",
       "      <td id=\"T_83ba5_row2_col1\" class=\"data row2 col1\" >int64</td>\n",
       "    </tr>\n",
       "    <tr>\n",
       "      <td id=\"T_83ba5_row3_col0\" class=\"data row3 col0\" >is_banked</td>\n",
       "      <td id=\"T_83ba5_row3_col1\" class=\"data row3 col1\" >int64</td>\n",
       "    </tr>\n",
       "    <tr>\n",
       "      <td id=\"T_83ba5_row4_col0\" class=\"data row4 col0\" >score</td>\n",
       "      <td id=\"T_83ba5_row4_col1\" class=\"data row4 col1\" >float64</td>\n",
       "    </tr>\n",
       "  </tbody>\n",
       "</table>\n"
      ],
      "text/plain": [
       "<pandas.io.formats.style.Styler at 0x1e88d7de4f0>"
      ]
     },
     "execution_count": 424,
     "metadata": {},
     "output_type": "execute_result"
    }
   ],
   "source": [
    "# get student_assessment column datatypes\n",
    "get_dtypes(student_assessment)"
   ]
  },
  {
   "cell_type": "markdown",
   "id": "e93f5ac4-b241-4d35-865b-46bd4f9b5144",
   "metadata": {},
   "source": [
    "* `id_student` and `id_assessments` are both categorical values and so should be converted from `int64` to `string`"
   ]
  },
  {
   "cell_type": "code",
   "execution_count": 425,
   "id": "0b1ce356-2566-4ee6-8be0-14f37548cc26",
   "metadata": {
    "tags": [
     "remove-cell"
    ]
   },
   "outputs": [
    {
     "data": {
      "text/html": [
       "<div>\n",
       "<style scoped>\n",
       "    .dataframe tbody tr th:only-of-type {\n",
       "        vertical-align: middle;\n",
       "    }\n",
       "\n",
       "    .dataframe tbody tr th {\n",
       "        vertical-align: top;\n",
       "    }\n",
       "\n",
       "    .dataframe thead th {\n",
       "        text-align: right;\n",
       "    }\n",
       "</style>\n",
       "<table border=\"1\" class=\"dataframe\">\n",
       "  <thead>\n",
       "    <tr style=\"text-align: right;\">\n",
       "      <th></th>\n",
       "      <th>Data Type</th>\n",
       "    </tr>\n",
       "  </thead>\n",
       "  <tbody>\n",
       "    <tr>\n",
       "      <th>id_assessment</th>\n",
       "      <td>string</td>\n",
       "    </tr>\n",
       "    <tr>\n",
       "      <th>id_student</th>\n",
       "      <td>string</td>\n",
       "    </tr>\n",
       "    <tr>\n",
       "      <th>date_submitted</th>\n",
       "      <td>Int64</td>\n",
       "    </tr>\n",
       "    <tr>\n",
       "      <th>is_banked</th>\n",
       "      <td>Int64</td>\n",
       "    </tr>\n",
       "    <tr>\n",
       "      <th>score</th>\n",
       "      <td>Int64</td>\n",
       "    </tr>\n",
       "  </tbody>\n",
       "</table>\n",
       "</div>"
      ],
      "text/plain": [
       "               Data Type\n",
       "id_assessment     string\n",
       "id_student        string\n",
       "date_submitted     Int64\n",
       "is_banked          Int64\n",
       "score              Int64"
      ]
     },
     "execution_count": 425,
     "metadata": {},
     "output_type": "execute_result"
    }
   ],
   "source": [
    "# converting the data types\n",
    "student_assessment = student_assessment.astype({'id_assessment': str, 'id_student': str})\n",
    "# change student_assessment datatypes to values pandas supports better\n",
    "student_assessment = student_assessment.convert_dtypes()\n",
    "dataframe(student_assessment.dtypes, columns=['Data Type'])"
   ]
  },
  {
   "cell_type": "markdown",
   "id": "168c14d6-fa65-445c-a765-2120b6db8097",
   "metadata": {},
   "source": [
    "**Duplicate Values**"
   ]
  },
  {
   "cell_type": "code",
   "execution_count": 426,
   "id": "da1efefc-6b5e-49ee-8d39-b168f53830a2",
   "metadata": {
    "tags": [
     "remove_input"
    ]
   },
   "outputs": [
    {
     "data": {
      "text/markdown": [
       "There are no Duplicate Values"
      ],
      "text/plain": [
       "<IPython.core.display.Markdown object>"
      ]
     },
     "execution_count": 426,
     "metadata": {},
     "output_type": "execute_result"
    }
   ],
   "source": [
    "# gives a dataframe of duplicate values if any\n",
    "get_dupes(student_assessment)"
   ]
  },
  {
   "cell_type": "markdown",
   "id": "0dca9846-0e83-42fd-b51d-016982adadd0",
   "metadata": {},
   "source": [
    "**Unique Value Counts**"
   ]
  },
  {
   "cell_type": "code",
   "execution_count": 427,
   "id": "8c73d2f8-0e4d-4acd-829f-e00326c604ae",
   "metadata": {
    "tags": [
     "remove_input"
    ]
   },
   "outputs": [
    {
     "data": {
      "text/html": [
       "<style type=\"text/css\">\n",
       "#T_04a4f_ td.col0 {\n",
       "  font-weight: bold;\n",
       "}\n",
       "</style>\n",
       "<table id=\"T_04a4f_\">\n",
       "  <thead>\n",
       "    <tr>\n",
       "      <th class=\"col_heading level0 col0\" >index</th>\n",
       "      <th class=\"col_heading level0 col1\" >Count</th>\n",
       "    </tr>\n",
       "  </thead>\n",
       "  <tbody>\n",
       "    <tr>\n",
       "      <td id=\"T_04a4f_row0_col0\" class=\"data row0 col0\" >id_assessment</td>\n",
       "      <td id=\"T_04a4f_row0_col1\" class=\"data row0 col1\" >188</td>\n",
       "    </tr>\n",
       "    <tr>\n",
       "      <td id=\"T_04a4f_row1_col0\" class=\"data row1 col0\" >id_student</td>\n",
       "      <td id=\"T_04a4f_row1_col1\" class=\"data row1 col1\" >23369</td>\n",
       "    </tr>\n",
       "    <tr>\n",
       "      <td id=\"T_04a4f_row2_col0\" class=\"data row2 col0\" >date_submitted</td>\n",
       "      <td id=\"T_04a4f_row2_col1\" class=\"data row2 col1\" >312</td>\n",
       "    </tr>\n",
       "    <tr>\n",
       "      <td id=\"T_04a4f_row3_col0\" class=\"data row3 col0\" >is_banked</td>\n",
       "      <td id=\"T_04a4f_row3_col1\" class=\"data row3 col1\" >2</td>\n",
       "    </tr>\n",
       "    <tr>\n",
       "      <td id=\"T_04a4f_row4_col0\" class=\"data row4 col0\" >score</td>\n",
       "      <td id=\"T_04a4f_row4_col1\" class=\"data row4 col1\" >101</td>\n",
       "    </tr>\n",
       "  </tbody>\n",
       "</table>\n"
      ],
      "text/plain": [
       "<pandas.io.formats.style.Styler at 0x1e8896a2490>"
      ]
     },
     "execution_count": 427,
     "metadata": {},
     "output_type": "execute_result"
    }
   ],
   "source": [
    "# gives a dataframe of counts of unique values per column\n",
    "count_unique(student_assessment)"
   ]
  },
  {
   "cell_type": "code",
   "execution_count": 428,
   "id": "f7f474e0-9d25-4ade-b9e8-63aa76aa2dc0",
   "metadata": {
    "tags": [
     "remove_input"
    ]
   },
   "outputs": [
    {
     "data": {
      "text/markdown": [
       "\n",
       "* There are 188 unique assessments that students took.\n",
       "* This is less than the 206 assessments we observed in the assessments dataframe meaning that there are some assessments on record that students did not take.\n",
       "* There are 26,074 in student_assessment out of the 28,785 \n",
       "students we have in student info. So 2,711 students from student info do not have assessment data.\n"
      ],
      "text/plain": [
       "<IPython.core.display.Markdown object>"
      ]
     },
     "execution_count": 428,
     "metadata": {},
     "output_type": "execute_result"
    }
   ],
   "source": [
    "assmnt_count = student_assessment['id_assessment'].nunique()\n",
    "total_assmnts = assessments['id_assessment'].nunique()\n",
    "assmnt_unique_students = student_vle['id_student'].nunique()\n",
    "si_unique_students = stud_info['id_student'].nunique()\n",
    "md(f'''\n",
    "* There are {assmnt_count} unique assessments that students took.\n",
    "* This is less than the {total_assmnts} assessments we observed in the assessments dataframe meaning that there are some assessments on record that students did not take.\n",
    "* There are {\"{:,}\".format(assmnt_unique_students)} in student_assessment out of the {\"{:,}\".format(si_unique_students)} \n",
    "students we have in student info. So {\"{:,}\".format(si_unique_students - assmnt_unique_students)} students from student info do not have assessment data.\n",
    "''')"
   ]
  },
  {
   "cell_type": "markdown",
   "id": "745e83f5-8dbb-4d17-82ed-46f94ebd0a46",
   "metadata": {},
   "source": [
    "**Numerical Values**"
   ]
  },
  {
   "cell_type": "code",
   "execution_count": 429,
   "id": "fbf3448d-dd76-4672-8262-639b00dcc766",
   "metadata": {
    "tags": [
     "remove_input"
    ]
   },
   "outputs": [
    {
     "data": {
      "text/html": [
       "<div>\n",
       "<style scoped>\n",
       "    .dataframe tbody tr th:only-of-type {\n",
       "        vertical-align: middle;\n",
       "    }\n",
       "\n",
       "    .dataframe tbody tr th {\n",
       "        vertical-align: top;\n",
       "    }\n",
       "\n",
       "    .dataframe thead th {\n",
       "        text-align: right;\n",
       "    }\n",
       "</style>\n",
       "<table border=\"1\" class=\"dataframe\">\n",
       "  <thead>\n",
       "    <tr style=\"text-align: right;\">\n",
       "      <th></th>\n",
       "      <th>date_submitted</th>\n",
       "      <th>is_banked</th>\n",
       "      <th>score</th>\n",
       "    </tr>\n",
       "  </thead>\n",
       "  <tbody>\n",
       "    <tr>\n",
       "      <th>count</th>\n",
       "      <td>173912.0</td>\n",
       "      <td>173912.0</td>\n",
       "      <td>173739.0</td>\n",
       "    </tr>\n",
       "    <tr>\n",
       "      <th>mean</th>\n",
       "      <td>116.0</td>\n",
       "      <td>0.0</td>\n",
       "      <td>75.8</td>\n",
       "    </tr>\n",
       "    <tr>\n",
       "      <th>std</th>\n",
       "      <td>71.5</td>\n",
       "      <td>0.1</td>\n",
       "      <td>18.8</td>\n",
       "    </tr>\n",
       "    <tr>\n",
       "      <th>min</th>\n",
       "      <td>-11.0</td>\n",
       "      <td>0.0</td>\n",
       "      <td>0.0</td>\n",
       "    </tr>\n",
       "    <tr>\n",
       "      <th>25%</th>\n",
       "      <td>51.0</td>\n",
       "      <td>0.0</td>\n",
       "      <td>65.0</td>\n",
       "    </tr>\n",
       "    <tr>\n",
       "      <th>50%</th>\n",
       "      <td>116.0</td>\n",
       "      <td>0.0</td>\n",
       "      <td>80.0</td>\n",
       "    </tr>\n",
       "    <tr>\n",
       "      <th>75%</th>\n",
       "      <td>173.0</td>\n",
       "      <td>0.0</td>\n",
       "      <td>90.0</td>\n",
       "    </tr>\n",
       "    <tr>\n",
       "      <th>max</th>\n",
       "      <td>608.0</td>\n",
       "      <td>1.0</td>\n",
       "      <td>100.0</td>\n",
       "    </tr>\n",
       "  </tbody>\n",
       "</table>\n",
       "</div>"
      ],
      "text/plain": [
       "       date_submitted  is_banked     score\n",
       "count        173912.0   173912.0  173739.0\n",
       "mean            116.0        0.0      75.8\n",
       "std              71.5        0.1      18.8\n",
       "min             -11.0        0.0       0.0\n",
       "25%              51.0        0.0      65.0\n",
       "50%             116.0        0.0      80.0\n",
       "75%             173.0        0.0      90.0\n",
       "max             608.0        1.0     100.0"
      ]
     },
     "execution_count": 429,
     "metadata": {},
     "output_type": "execute_result"
    }
   ],
   "source": [
    "student_assessment.describe().round(1)"
   ]
  },
  {
   "cell_type": "code",
   "execution_count": 430,
   "id": "ec959a0a-6468-4424-92ae-8afd1a399e0f",
   "metadata": {
    "tags": [
     "remove_input"
    ]
   },
   "outputs": [
    {
     "data": {
      "text/markdown": [
       "\n",
       "* The average test score is 75.8 so most students are passing handily if 40 is considered a failing score.\n",
       "* The minimum date_submitted is -11 so it is possible the students had access to the first exam early, or that there is errors in the data.\n",
       " * They don't fall too far outside the range, so we will keep those as they are\n",
       "* The maximum date submitted is 608, which is around 2.5 times longer than any course went on for.\n",
       "* Let's check for records that are over the maximum course length of 269 days.\n"
      ],
      "text/plain": [
       "<IPython.core.display.Markdown object>"
      ]
     },
     "execution_count": 430,
     "metadata": {},
     "output_type": "execute_result"
    }
   ],
   "source": [
    "mean_score = student_assessment['score'].mean().round(1)\n",
    "date_max = student_assessment['date_submitted'].max()\n",
    "date_min = student_assessment['date_submitted'].min()\n",
    "max_course_length = courses['module_presentation_length'].max()\n",
    "md(f'''\n",
    "* The average test score is {mean_score} so most students are passing handily if 40 is considered a failing score.\n",
    "* The minimum date_submitted is {date_min} so it is possible the students had access to the first exam early, or that there is errors in the data.\n",
    " * They don't fall too far outside the range, so we will keep those as they are\n",
    "* The maximum date submitted is {date_max}, which is around 2.5 times longer than any course went on for.\n",
    "* Let's check for records that are over the maximum course length of {max_course_length} days.\n",
    "''')"
   ]
  },
  {
   "cell_type": "code",
   "execution_count": 431,
   "id": "488380ab-5b5c-4089-a6ee-49ccc0d3e738",
   "metadata": {
    "tags": [
     "remove_input"
    ]
   },
   "outputs": [
    {
     "data": {
      "text/html": [
       "<div>\n",
       "<style scoped>\n",
       "    .dataframe tbody tr th:only-of-type {\n",
       "        vertical-align: middle;\n",
       "    }\n",
       "\n",
       "    .dataframe tbody tr th {\n",
       "        vertical-align: top;\n",
       "    }\n",
       "\n",
       "    .dataframe thead th {\n",
       "        text-align: right;\n",
       "    }\n",
       "</style>\n",
       "<table border=\"1\" class=\"dataframe\">\n",
       "  <thead>\n",
       "    <tr style=\"text-align: right;\">\n",
       "      <th></th>\n",
       "      <th>id_assessment</th>\n",
       "      <th>id_student</th>\n",
       "      <th>date_submitted</th>\n",
       "      <th>is_banked</th>\n",
       "      <th>score</th>\n",
       "    </tr>\n",
       "  </thead>\n",
       "  <tbody>\n",
       "    <tr>\n",
       "      <th>0</th>\n",
       "      <td>15022</td>\n",
       "      <td>1723749</td>\n",
       "      <td>270</td>\n",
       "      <td>0</td>\n",
       "      <td>&lt;NA&gt;</td>\n",
       "    </tr>\n",
       "    <tr>\n",
       "      <th>1</th>\n",
       "      <td>30722</td>\n",
       "      <td>691701</td>\n",
       "      <td>274</td>\n",
       "      <td>0</td>\n",
       "      <td>&lt;NA&gt;</td>\n",
       "    </tr>\n",
       "    <tr>\n",
       "      <th>2</th>\n",
       "      <td>25368</td>\n",
       "      <td>2341830</td>\n",
       "      <td>279</td>\n",
       "      <td>0</td>\n",
       "      <td>49</td>\n",
       "    </tr>\n",
       "    <tr>\n",
       "      <th>3</th>\n",
       "      <td>24299</td>\n",
       "      <td>555498</td>\n",
       "      <td>285</td>\n",
       "      <td>0</td>\n",
       "      <td>58</td>\n",
       "    </tr>\n",
       "    <tr>\n",
       "      <th>4</th>\n",
       "      <td>34879</td>\n",
       "      <td>595935</td>\n",
       "      <td>287</td>\n",
       "      <td>0</td>\n",
       "      <td>96</td>\n",
       "    </tr>\n",
       "  </tbody>\n",
       "</table>\n",
       "</div>"
      ],
      "text/plain": [
       "  id_assessment id_student  date_submitted  is_banked  score\n",
       "0         15022    1723749             270          0   <NA>\n",
       "1         30722     691701             274          0   <NA>\n",
       "2         25368    2341830             279          0     49\n",
       "3         24299     555498             285          0     58\n",
       "4         34879     595935             287          0     96"
      ]
     },
     "execution_count": 431,
     "metadata": {},
     "output_type": "execute_result"
    }
   ],
   "source": [
    "late_tests = student_assessment.loc[student_assessment['date_submitted'] > 269].sort_values(by='date_submitted').reset_index(drop=True)\n",
    "late_tests.head()"
   ]
  },
  {
   "cell_type": "code",
   "execution_count": 432,
   "id": "c8d1a39a-c142-4fbb-9e80-099bba0785c9",
   "metadata": {
    "tags": [
     "remove_input"
    ]
   },
   "outputs": [
    {
     "data": {
      "text/markdown": [
       "\n",
       "* There are 73 records of students handing in their exams well after the end of the module.\n",
       "* These dates range from 270 days after the course began and 608 days after the course began with an average of 470.2 days.\n",
       "* The data source makes no mention of these, and they should not affect our analysis, so though strange, we will leave these records\n"
      ],
      "text/plain": [
       "<IPython.core.display.Markdown object>"
      ]
     },
     "execution_count": 432,
     "metadata": {},
     "output_type": "execute_result"
    }
   ],
   "source": [
    "late_test_count = len(late_tests['date_submitted'])\n",
    "late_test_min = late_tests['date_submitted'].min()\n",
    "late_test_max = late_tests['date_submitted'].max()\n",
    "late_test_avg = late_tests['date_submitted'].mean().round(1)\n",
    "md(f'''\n",
    "* There are {late_test_count} records of students handing in their exams well after the end of the module.\n",
    "* These dates range from {late_test_min} days after the course began and {late_test_max} days after the course began with an average of {late_test_avg} days.\n",
    "* The data source makes no mention of these, and they should not affect our analysis, so though strange, we will leave these records\n",
    "''')"
   ]
  },
  {
   "cell_type": "markdown",
   "id": "74135b93-3eb2-46c2-9022-88354bbbca6c",
   "metadata": {},
   "source": [
    "**Null Values**"
   ]
  },
  {
   "cell_type": "code",
   "execution_count": 433,
   "id": "49bae0d5-165b-41b3-b538-8f44b78ef693",
   "metadata": {
    "tags": [
     "remove_input"
    ]
   },
   "outputs": [
    {
     "data": {
      "text/html": [
       "<style type=\"text/css\">\n",
       "#T_e904c_ td.col0 {\n",
       "  font-weight: bold;\n",
       "}\n",
       "</style>\n",
       "<table id=\"T_e904c_\">\n",
       "  <thead>\n",
       "    <tr>\n",
       "      <th class=\"col_heading level0 col0\" >index</th>\n",
       "      <th class=\"col_heading level0 col1\" >Null Values</th>\n",
       "    </tr>\n",
       "  </thead>\n",
       "  <tbody>\n",
       "    <tr>\n",
       "      <td id=\"T_e904c_row0_col0\" class=\"data row0 col0\" >id_assessment</td>\n",
       "      <td id=\"T_e904c_row0_col1\" class=\"data row0 col1\" >0</td>\n",
       "    </tr>\n",
       "    <tr>\n",
       "      <td id=\"T_e904c_row1_col0\" class=\"data row1 col0\" >id_student</td>\n",
       "      <td id=\"T_e904c_row1_col1\" class=\"data row1 col1\" >0</td>\n",
       "    </tr>\n",
       "    <tr>\n",
       "      <td id=\"T_e904c_row2_col0\" class=\"data row2 col0\" >date_submitted</td>\n",
       "      <td id=\"T_e904c_row2_col1\" class=\"data row2 col1\" >0</td>\n",
       "    </tr>\n",
       "    <tr>\n",
       "      <td id=\"T_e904c_row3_col0\" class=\"data row3 col0\" >is_banked</td>\n",
       "      <td id=\"T_e904c_row3_col1\" class=\"data row3 col1\" >0</td>\n",
       "    </tr>\n",
       "    <tr>\n",
       "      <td id=\"T_e904c_row4_col0\" class=\"data row4 col0\" >score</td>\n",
       "      <td id=\"T_e904c_row4_col1\" class=\"data row4 col1\" >173</td>\n",
       "    </tr>\n",
       "  </tbody>\n",
       "</table>\n"
      ],
      "text/plain": [
       "<pandas.io.formats.style.Styler at 0x1e8950b9d30>"
      ]
     },
     "execution_count": 433,
     "metadata": {},
     "output_type": "execute_result"
    }
   ],
   "source": [
    "# get null values if any\n",
    "null_vals(student_assessment)"
   ]
  },
  {
   "cell_type": "code",
   "execution_count": 434,
   "id": "066fa432-22c1-49d8-be5a-1ce18cd518b8",
   "metadata": {
    "tags": [
     "remove_input"
    ]
   },
   "outputs": [
    {
     "data": {
      "text/markdown": [
       "\n",
       "* We have 173 null values for score, which is important as it is a value we will be trying to predict.\n",
       "* These may be the missing final exam scores. To know that we will have to merge the assessments and student_assessment dataframes so\n",
       "we have the score, assessment ID and module/presentation in one place.\n"
      ],
      "text/plain": [
       "<IPython.core.display.Markdown object>"
      ]
     },
     "execution_count": 434,
     "metadata": {},
     "output_type": "execute_result"
    }
   ],
   "source": [
    "null_score = student_assessment['score'].isnull().sum()\n",
    "md(f'''\n",
    "* We have {null_score} null values for score, which is important as it is a value we will be trying to predict.\n",
    "* These may be the missing final exam scores. To know that we will have to merge the assessments and student_assessment dataframes so\n",
    "we have the score, assessment ID and module/presentation in one place.\n",
    "''')"
   ]
  },
  {
   "cell_type": "markdown",
   "id": "680eedef-435a-4542-98d0-f7881b01d506",
   "metadata": {},
   "source": [
    "**Merged Asssessments**\n",
    "\n",
    "Here we will merge the assessments and student assessments dataframes in order to combine our student scores and submission dates with assessment type, date of the assessment, and weight of the assessment."
   ]
  },
  {
   "cell_type": "code",
   "execution_count": 435,
   "id": "aae10053-e6ba-4237-a94b-452edf2414e7",
   "metadata": {
    "tags": [
     "remove_input"
    ]
   },
   "outputs": [
    {
     "data": {
      "text/html": [
       "<div>\n",
       "<style scoped>\n",
       "    .dataframe tbody tr th:only-of-type {\n",
       "        vertical-align: middle;\n",
       "    }\n",
       "\n",
       "    .dataframe tbody tr th {\n",
       "        vertical-align: top;\n",
       "    }\n",
       "\n",
       "    .dataframe thead th {\n",
       "        text-align: right;\n",
       "    }\n",
       "</style>\n",
       "<table border=\"1\" class=\"dataframe\">\n",
       "  <thead>\n",
       "    <tr style=\"text-align: right;\">\n",
       "      <th></th>\n",
       "      <th>id_assessment</th>\n",
       "      <th>id_student</th>\n",
       "      <th>date_submitted</th>\n",
       "      <th>is_banked</th>\n",
       "      <th>score</th>\n",
       "      <th>module</th>\n",
       "      <th>presentation</th>\n",
       "      <th>assessment_type</th>\n",
       "      <th>date</th>\n",
       "      <th>weight</th>\n",
       "      <th>_merge</th>\n",
       "    </tr>\n",
       "  </thead>\n",
       "  <tbody>\n",
       "    <tr>\n",
       "      <th>0</th>\n",
       "      <td>1752</td>\n",
       "      <td>11391</td>\n",
       "      <td>18</td>\n",
       "      <td>0</td>\n",
       "      <td>78</td>\n",
       "      <td>AAA</td>\n",
       "      <td>2013J</td>\n",
       "      <td>TMA</td>\n",
       "      <td>19.0</td>\n",
       "      <td>10.0</td>\n",
       "      <td>both</td>\n",
       "    </tr>\n",
       "    <tr>\n",
       "      <th>1</th>\n",
       "      <td>1752</td>\n",
       "      <td>28400</td>\n",
       "      <td>22</td>\n",
       "      <td>0</td>\n",
       "      <td>70</td>\n",
       "      <td>AAA</td>\n",
       "      <td>2013J</td>\n",
       "      <td>TMA</td>\n",
       "      <td>19.0</td>\n",
       "      <td>10.0</td>\n",
       "      <td>both</td>\n",
       "    </tr>\n",
       "    <tr>\n",
       "      <th>2</th>\n",
       "      <td>1752</td>\n",
       "      <td>31604</td>\n",
       "      <td>17</td>\n",
       "      <td>0</td>\n",
       "      <td>72</td>\n",
       "      <td>AAA</td>\n",
       "      <td>2013J</td>\n",
       "      <td>TMA</td>\n",
       "      <td>19.0</td>\n",
       "      <td>10.0</td>\n",
       "      <td>both</td>\n",
       "    </tr>\n",
       "    <tr>\n",
       "      <th>3</th>\n",
       "      <td>1752</td>\n",
       "      <td>32885</td>\n",
       "      <td>26</td>\n",
       "      <td>0</td>\n",
       "      <td>69</td>\n",
       "      <td>AAA</td>\n",
       "      <td>2013J</td>\n",
       "      <td>TMA</td>\n",
       "      <td>19.0</td>\n",
       "      <td>10.0</td>\n",
       "      <td>both</td>\n",
       "    </tr>\n",
       "    <tr>\n",
       "      <th>4</th>\n",
       "      <td>1752</td>\n",
       "      <td>38053</td>\n",
       "      <td>19</td>\n",
       "      <td>0</td>\n",
       "      <td>79</td>\n",
       "      <td>AAA</td>\n",
       "      <td>2013J</td>\n",
       "      <td>TMA</td>\n",
       "      <td>19.0</td>\n",
       "      <td>10.0</td>\n",
       "      <td>both</td>\n",
       "    </tr>\n",
       "  </tbody>\n",
       "</table>\n",
       "</div>"
      ],
      "text/plain": [
       "  id_assessment id_student  date_submitted  is_banked  score module  \\\n",
       "0          1752      11391              18          0     78    AAA   \n",
       "1          1752      28400              22          0     70    AAA   \n",
       "2          1752      31604              17          0     72    AAA   \n",
       "3          1752      32885              26          0     69    AAA   \n",
       "4          1752      38053              19          0     79    AAA   \n",
       "\n",
       "  presentation assessment_type  date  weight _merge  \n",
       "0        2013J             TMA  19.0    10.0   both  \n",
       "1        2013J             TMA  19.0    10.0   both  \n",
       "2        2013J             TMA  19.0    10.0   both  \n",
       "3        2013J             TMA  19.0    10.0   both  \n",
       "4        2013J             TMA  19.0    10.0   both  "
      ]
     },
     "execution_count": 435,
     "metadata": {},
     "output_type": "execute_result"
    }
   ],
   "source": [
    "# merges dataframes student_assessment with assessments with a full outer join on their common ID id_assessment\n",
    "# creates a column _merge which tells you if the id_assessment was found in one or both dataframes\n",
    "merged_assessments = student_assessment.merge(assessments, how='outer', on=['id_assessment'] ,indicator=True)\n",
    "merged_assessments = merged_assessments.astype({'id_student': str, 'id_assessment':str}).convert_dtypes()\n",
    "merged_assessments.head()"
   ]
  },
  {
   "cell_type": "markdown",
   "id": "80a3672c-442f-4d13-a9ae-4ff884bfb0cc",
   "metadata": {},
   "source": [
    "Our new `_merge` column tells us if the data maps perfectly, or if it is only found on the right or left side, the right side being the assessments dataframe and the left side being the student_assessments dataframe. "
   ]
  },
  {
   "cell_type": "code",
   "execution_count": 436,
   "id": "640da276-7a5b-4f8c-b4f1-f7d63c7705ff",
   "metadata": {},
   "outputs": [
    {
     "data": {
      "text/html": [
       "<div>\n",
       "<style scoped>\n",
       "    .dataframe tbody tr th:only-of-type {\n",
       "        vertical-align: middle;\n",
       "    }\n",
       "\n",
       "    .dataframe tbody tr th {\n",
       "        vertical-align: top;\n",
       "    }\n",
       "\n",
       "    .dataframe thead th {\n",
       "        text-align: right;\n",
       "    }\n",
       "</style>\n",
       "<table border=\"1\" class=\"dataframe\">\n",
       "  <thead>\n",
       "    <tr style=\"text-align: right;\">\n",
       "      <th></th>\n",
       "      <th></th>\n",
       "      <th>NA Exam Count</th>\n",
       "    </tr>\n",
       "    <tr>\n",
       "      <th>id_assessment</th>\n",
       "      <th>weight</th>\n",
       "      <th></th>\n",
       "    </tr>\n",
       "  </thead>\n",
       "  <tbody>\n",
       "    <tr>\n",
       "      <th>25339</th>\n",
       "      <th>15.0</th>\n",
       "      <td>7</td>\n",
       "    </tr>\n",
       "    <tr>\n",
       "      <th>15013</th>\n",
       "      <th>18.0</th>\n",
       "      <td>7</td>\n",
       "    </tr>\n",
       "    <tr>\n",
       "      <th>34860</th>\n",
       "      <th>12.5</th>\n",
       "      <td>6</td>\n",
       "    </tr>\n",
       "    <tr>\n",
       "      <th>14998</th>\n",
       "      <th>18.0</th>\n",
       "      <td>5</td>\n",
       "    </tr>\n",
       "    <tr>\n",
       "      <th>25363</th>\n",
       "      <th>10.0</th>\n",
       "      <td>5</td>\n",
       "    </tr>\n",
       "    <tr>\n",
       "      <th>...</th>\n",
       "      <th>...</th>\n",
       "      <td>...</td>\n",
       "    </tr>\n",
       "    <tr>\n",
       "      <th>30714</th>\n",
       "      <th>16.0</th>\n",
       "      <td>1</td>\n",
       "    </tr>\n",
       "    <tr>\n",
       "      <th>30715</th>\n",
       "      <th>28.0</th>\n",
       "      <td>1</td>\n",
       "    </tr>\n",
       "    <tr>\n",
       "      <th>30718</th>\n",
       "      <th>100.0</th>\n",
       "      <td>1</td>\n",
       "    </tr>\n",
       "    <tr>\n",
       "      <th>30719</th>\n",
       "      <th>16.0</th>\n",
       "      <td>1</td>\n",
       "    </tr>\n",
       "    <tr>\n",
       "      <th>40088</th>\n",
       "      <th>100.0</th>\n",
       "      <td>1</td>\n",
       "    </tr>\n",
       "  </tbody>\n",
       "</table>\n",
       "<p>96 rows × 1 columns</p>\n",
       "</div>"
      ],
      "text/plain": [
       "                      NA Exam Count\n",
       "id_assessment weight               \n",
       "25339         15.0                7\n",
       "15013         18.0                7\n",
       "34860         12.5                6\n",
       "14998         18.0                5\n",
       "25363         10.0                5\n",
       "...                             ...\n",
       "30714         16.0                1\n",
       "30715         28.0                1\n",
       "30718         100.0               1\n",
       "30719         16.0                1\n",
       "40088         100.0               1\n",
       "\n",
       "[96 rows x 1 columns]"
      ]
     },
     "execution_count": 436,
     "metadata": {},
     "output_type": "execute_result"
    }
   ],
   "source": [
    "# make a dataframe of students with a score of 0 and display it\n",
    "na_scores = merged_assessments.loc[merged_assessments['score'].isna(), ['presentation', 'module', 'weight', 'id_assessment']]\n",
    "dataframe(na_scores.value_counts(subset=['id_assessment', 'weight']), columns=['NA Exam Count'])"
   ]
  },
  {
   "cell_type": "code",
   "execution_count": 437,
   "id": "d533361b-1df7-4160-a8a7-1bb76c875578",
   "metadata": {
    "tags": [
     "remove_input"
    ]
   },
   "outputs": [
    {
     "data": {
      "text/markdown": [
       "\n",
       "Above we can see a dataframe of the exams which have NA scores and the count of how many NA scores they have. \n",
       "* 96 out of 206 assessments have at least one NA score.\n",
       "* 18 exams  with NA scores are final exams\n",
       "* 78 exams with NA scores are not final exams\n"
      ],
      "text/plain": [
       "<IPython.core.display.Markdown object>"
      ]
     },
     "execution_count": 437,
     "metadata": {},
     "output_type": "execute_result"
    }
   ],
   "source": [
    "non_100_na = na_scores.loc[na_scores['weight'] != 100]\n",
    "weight_100_na = na_scores.loc[na_scores['weight'] == 100]\n",
    "md(f'''\n",
    "Above we can see a dataframe of the exams which have NA scores and the count of how many NA scores they have. \n",
    "* {na_scores['id_assessment'].nunique()} out of {len(assessments)} assessments have at least one NA score.\n",
    "* {weight_100_na['id_assessment'].nunique()} exams  with NA scores are final exams\n",
    "* {non_100_na['id_assessment'].nunique()} exams with NA scores are not final exams\n",
    "''')"
   ]
  },
  {
   "cell_type": "code",
   "execution_count": 438,
   "id": "a3a51428-7b03-426b-bffa-331537be36a8",
   "metadata": {
    "tags": [
     "remove_input"
    ]
   },
   "outputs": [
    {
     "data": {
      "text/html": [
       "<div>\n",
       "<style scoped>\n",
       "    .dataframe tbody tr th:only-of-type {\n",
       "        vertical-align: middle;\n",
       "    }\n",
       "\n",
       "    .dataframe tbody tr th {\n",
       "        vertical-align: top;\n",
       "    }\n",
       "\n",
       "    .dataframe thead th {\n",
       "        text-align: right;\n",
       "    }\n",
       "</style>\n",
       "<table border=\"1\" class=\"dataframe\">\n",
       "  <thead>\n",
       "    <tr style=\"text-align: right;\">\n",
       "      <th></th>\n",
       "      <th>id_assessment</th>\n",
       "      <th>id_student</th>\n",
       "      <th>date_submitted</th>\n",
       "      <th>is_banked</th>\n",
       "      <th>score</th>\n",
       "    </tr>\n",
       "  </thead>\n",
       "  <tbody>\n",
       "    <tr>\n",
       "      <th>785</th>\n",
       "      <td>1754</td>\n",
       "      <td>2456480</td>\n",
       "      <td>123</td>\n",
       "      <td>0</td>\n",
       "      <td>0</td>\n",
       "    </tr>\n",
       "    <tr>\n",
       "      <th>4322</th>\n",
       "      <td>14984</td>\n",
       "      <td>554986</td>\n",
       "      <td>24</td>\n",
       "      <td>0</td>\n",
       "      <td>0</td>\n",
       "    </tr>\n",
       "    <tr>\n",
       "      <th>4730</th>\n",
       "      <td>14985</td>\n",
       "      <td>141823</td>\n",
       "      <td>46</td>\n",
       "      <td>0</td>\n",
       "      <td>0</td>\n",
       "    </tr>\n",
       "    <tr>\n",
       "      <th>5391</th>\n",
       "      <td>14985</td>\n",
       "      <td>542259</td>\n",
       "      <td>46</td>\n",
       "      <td>0</td>\n",
       "      <td>0</td>\n",
       "    </tr>\n",
       "    <tr>\n",
       "      <th>5509</th>\n",
       "      <td>14985</td>\n",
       "      <td>549078</td>\n",
       "      <td>48</td>\n",
       "      <td>0</td>\n",
       "      <td>0</td>\n",
       "    </tr>\n",
       "  </tbody>\n",
       "</table>\n",
       "</div>"
      ],
      "text/plain": [
       "     id_assessment id_student  date_submitted  is_banked  score\n",
       "785           1754    2456480             123          0      0\n",
       "4322         14984     554986              24          0      0\n",
       "4730         14985     141823              46          0      0\n",
       "5391         14985     542259              46          0      0\n",
       "5509         14985     549078              48          0      0"
      ]
     },
     "execution_count": 438,
     "metadata": {},
     "output_type": "execute_result"
    }
   ],
   "source": [
    "# make a dataframe of students with a score of 0 and display it\n",
    "zero_scores = student_assessment.loc[student_assessment['score'] == 0]\n",
    "zero_scores.head()"
   ]
  },
  {
   "cell_type": "code",
   "execution_count": 439,
   "id": "09379b03-5dac-412c-834d-866bd3a4e5d4",
   "metadata": {
    "tags": [
     "remove_input"
    ]
   },
   "outputs": [
    {
     "data": {
      "text/markdown": [
       "\n",
       "The first thing to check would be whether there are students with a 0 for a score to see if the NaNs represent 0's.\n",
       "Above is a dataframe of length 329 for records of assessments with a 0 score, \n",
       "so the NaNs are not necessarily 0's.\n"
      ],
      "text/plain": [
       "<IPython.core.display.Markdown object>"
      ]
     },
     "execution_count": 439,
     "metadata": {},
     "output_type": "execute_result"
    }
   ],
   "source": [
    "md(f'''\n",
    "The first thing to check would be whether there are students with a 0 for a score to see if the NaNs represent 0's.\n",
    "Above is a dataframe of length {len(zero_scores)} for records of assessments with a 0 score, \n",
    "so the NaNs are not necessarily 0's.\n",
    "''')"
   ]
  },
  {
   "cell_type": "code",
   "execution_count": 440,
   "id": "fbc1c0fe-2c0a-46db-b4d2-de30cd72f74f",
   "metadata": {},
   "outputs": [
    {
     "data": {
      "text/markdown": [
       "\n",
       "**Rows that do not map**\n",
       "\n",
       "First we will deal with the missing final exam scores. We have found that 18 exams have students with\n",
       "NA scores, but our `_merge` column suggests that there are some exams only found in assessments. Let's look at those missing exams"
      ],
      "text/plain": [
       "<IPython.core.display.Markdown object>"
      ]
     },
     "execution_count": 440,
     "metadata": {},
     "output_type": "execute_result"
    }
   ],
   "source": [
    "md(f'''\n",
    "**Rows that do not map**\n",
    "\n",
    "First we will deal with the missing final exam scores. We have found that {weight_100_na['id_assessment'].nunique()} exams have students with\n",
    "NA scores, but our `_merge` column suggests that there are some exams only found in assessments. Let's look at those missing exams''')"
   ]
  },
  {
   "cell_type": "code",
   "execution_count": 441,
   "id": "0cd1eda9-e3fc-49a3-a72c-ed544e788bef",
   "metadata": {
    "tags": [
     "remove_input"
    ]
   },
   "outputs": [
    {
     "data": {
      "text/html": [
       "<div>\n",
       "<style scoped>\n",
       "    .dataframe tbody tr th:only-of-type {\n",
       "        vertical-align: middle;\n",
       "    }\n",
       "\n",
       "    .dataframe tbody tr th {\n",
       "        vertical-align: top;\n",
       "    }\n",
       "\n",
       "    .dataframe thead th {\n",
       "        text-align: right;\n",
       "    }\n",
       "</style>\n",
       "<table border=\"1\" class=\"dataframe\">\n",
       "  <thead>\n",
       "    <tr style=\"text-align: right;\">\n",
       "      <th></th>\n",
       "      <th>id_assessment</th>\n",
       "      <th>id_student</th>\n",
       "      <th>date_submitted</th>\n",
       "      <th>is_banked</th>\n",
       "      <th>score</th>\n",
       "      <th>module</th>\n",
       "      <th>presentation</th>\n",
       "      <th>assessment_type</th>\n",
       "      <th>date</th>\n",
       "      <th>weight</th>\n",
       "      <th>_merge</th>\n",
       "    </tr>\n",
       "  </thead>\n",
       "  <tbody>\n",
       "    <tr>\n",
       "      <th>0</th>\n",
       "      <td>1757</td>\n",
       "      <td>&lt;NA&gt;</td>\n",
       "      <td>&lt;NA&gt;</td>\n",
       "      <td>&lt;NA&gt;</td>\n",
       "      <td>&lt;NA&gt;</td>\n",
       "      <td>AAA</td>\n",
       "      <td>2013J</td>\n",
       "      <td>Exam</td>\n",
       "      <td>268.0</td>\n",
       "      <td>100.0</td>\n",
       "      <td>right_only</td>\n",
       "    </tr>\n",
       "    <tr>\n",
       "      <th>1</th>\n",
       "      <td>1763</td>\n",
       "      <td>&lt;NA&gt;</td>\n",
       "      <td>&lt;NA&gt;</td>\n",
       "      <td>&lt;NA&gt;</td>\n",
       "      <td>&lt;NA&gt;</td>\n",
       "      <td>AAA</td>\n",
       "      <td>2014J</td>\n",
       "      <td>Exam</td>\n",
       "      <td>269.0</td>\n",
       "      <td>100.0</td>\n",
       "      <td>right_only</td>\n",
       "    </tr>\n",
       "    <tr>\n",
       "      <th>2</th>\n",
       "      <td>14990</td>\n",
       "      <td>&lt;NA&gt;</td>\n",
       "      <td>&lt;NA&gt;</td>\n",
       "      <td>&lt;NA&gt;</td>\n",
       "      <td>&lt;NA&gt;</td>\n",
       "      <td>BBB</td>\n",
       "      <td>2013B</td>\n",
       "      <td>Exam</td>\n",
       "      <td>240.0</td>\n",
       "      <td>100.0</td>\n",
       "      <td>right_only</td>\n",
       "    </tr>\n",
       "    <tr>\n",
       "      <th>3</th>\n",
       "      <td>15002</td>\n",
       "      <td>&lt;NA&gt;</td>\n",
       "      <td>&lt;NA&gt;</td>\n",
       "      <td>&lt;NA&gt;</td>\n",
       "      <td>&lt;NA&gt;</td>\n",
       "      <td>BBB</td>\n",
       "      <td>2013J</td>\n",
       "      <td>Exam</td>\n",
       "      <td>268.0</td>\n",
       "      <td>100.0</td>\n",
       "      <td>right_only</td>\n",
       "    </tr>\n",
       "    <tr>\n",
       "      <th>4</th>\n",
       "      <td>15014</td>\n",
       "      <td>&lt;NA&gt;</td>\n",
       "      <td>&lt;NA&gt;</td>\n",
       "      <td>&lt;NA&gt;</td>\n",
       "      <td>&lt;NA&gt;</td>\n",
       "      <td>BBB</td>\n",
       "      <td>2014B</td>\n",
       "      <td>Exam</td>\n",
       "      <td>234.0</td>\n",
       "      <td>100.0</td>\n",
       "      <td>right_only</td>\n",
       "    </tr>\n",
       "    <tr>\n",
       "      <th>5</th>\n",
       "      <td>15025</td>\n",
       "      <td>&lt;NA&gt;</td>\n",
       "      <td>&lt;NA&gt;</td>\n",
       "      <td>&lt;NA&gt;</td>\n",
       "      <td>&lt;NA&gt;</td>\n",
       "      <td>BBB</td>\n",
       "      <td>2014J</td>\n",
       "      <td>Exam</td>\n",
       "      <td>262.0</td>\n",
       "      <td>100.0</td>\n",
       "      <td>right_only</td>\n",
       "    </tr>\n",
       "    <tr>\n",
       "      <th>6</th>\n",
       "      <td>40087</td>\n",
       "      <td>&lt;NA&gt;</td>\n",
       "      <td>&lt;NA&gt;</td>\n",
       "      <td>&lt;NA&gt;</td>\n",
       "      <td>&lt;NA&gt;</td>\n",
       "      <td>CCC</td>\n",
       "      <td>2014B</td>\n",
       "      <td>Exam</td>\n",
       "      <td>241.0</td>\n",
       "      <td>100.0</td>\n",
       "      <td>right_only</td>\n",
       "    </tr>\n",
       "    <tr>\n",
       "      <th>7</th>\n",
       "      <td>40088</td>\n",
       "      <td>&lt;NA&gt;</td>\n",
       "      <td>&lt;NA&gt;</td>\n",
       "      <td>&lt;NA&gt;</td>\n",
       "      <td>&lt;NA&gt;</td>\n",
       "      <td>CCC</td>\n",
       "      <td>2014J</td>\n",
       "      <td>Exam</td>\n",
       "      <td>269.0</td>\n",
       "      <td>100.0</td>\n",
       "      <td>right_only</td>\n",
       "    </tr>\n",
       "    <tr>\n",
       "      <th>8</th>\n",
       "      <td>30713</td>\n",
       "      <td>&lt;NA&gt;</td>\n",
       "      <td>&lt;NA&gt;</td>\n",
       "      <td>&lt;NA&gt;</td>\n",
       "      <td>&lt;NA&gt;</td>\n",
       "      <td>EEE</td>\n",
       "      <td>2013J</td>\n",
       "      <td>Exam</td>\n",
       "      <td>235.0</td>\n",
       "      <td>100.0</td>\n",
       "      <td>right_only</td>\n",
       "    </tr>\n",
       "    <tr>\n",
       "      <th>9</th>\n",
       "      <td>30718</td>\n",
       "      <td>&lt;NA&gt;</td>\n",
       "      <td>&lt;NA&gt;</td>\n",
       "      <td>&lt;NA&gt;</td>\n",
       "      <td>&lt;NA&gt;</td>\n",
       "      <td>EEE</td>\n",
       "      <td>2014B</td>\n",
       "      <td>Exam</td>\n",
       "      <td>228.0</td>\n",
       "      <td>100.0</td>\n",
       "      <td>right_only</td>\n",
       "    </tr>\n",
       "    <tr>\n",
       "      <th>10</th>\n",
       "      <td>30723</td>\n",
       "      <td>&lt;NA&gt;</td>\n",
       "      <td>&lt;NA&gt;</td>\n",
       "      <td>&lt;NA&gt;</td>\n",
       "      <td>&lt;NA&gt;</td>\n",
       "      <td>EEE</td>\n",
       "      <td>2014J</td>\n",
       "      <td>Exam</td>\n",
       "      <td>235.0</td>\n",
       "      <td>100.0</td>\n",
       "      <td>right_only</td>\n",
       "    </tr>\n",
       "    <tr>\n",
       "      <th>11</th>\n",
       "      <td>34872</td>\n",
       "      <td>&lt;NA&gt;</td>\n",
       "      <td>&lt;NA&gt;</td>\n",
       "      <td>&lt;NA&gt;</td>\n",
       "      <td>&lt;NA&gt;</td>\n",
       "      <td>FFF</td>\n",
       "      <td>2013B</td>\n",
       "      <td>Exam</td>\n",
       "      <td>222.0</td>\n",
       "      <td>100.0</td>\n",
       "      <td>right_only</td>\n",
       "    </tr>\n",
       "    <tr>\n",
       "      <th>12</th>\n",
       "      <td>34885</td>\n",
       "      <td>&lt;NA&gt;</td>\n",
       "      <td>&lt;NA&gt;</td>\n",
       "      <td>&lt;NA&gt;</td>\n",
       "      <td>&lt;NA&gt;</td>\n",
       "      <td>FFF</td>\n",
       "      <td>2013J</td>\n",
       "      <td>Exam</td>\n",
       "      <td>236.0</td>\n",
       "      <td>100.0</td>\n",
       "      <td>right_only</td>\n",
       "    </tr>\n",
       "    <tr>\n",
       "      <th>13</th>\n",
       "      <td>34898</td>\n",
       "      <td>&lt;NA&gt;</td>\n",
       "      <td>&lt;NA&gt;</td>\n",
       "      <td>&lt;NA&gt;</td>\n",
       "      <td>&lt;NA&gt;</td>\n",
       "      <td>FFF</td>\n",
       "      <td>2014B</td>\n",
       "      <td>Exam</td>\n",
       "      <td>227.0</td>\n",
       "      <td>100.0</td>\n",
       "      <td>right_only</td>\n",
       "    </tr>\n",
       "    <tr>\n",
       "      <th>14</th>\n",
       "      <td>34911</td>\n",
       "      <td>&lt;NA&gt;</td>\n",
       "      <td>&lt;NA&gt;</td>\n",
       "      <td>&lt;NA&gt;</td>\n",
       "      <td>&lt;NA&gt;</td>\n",
       "      <td>FFF</td>\n",
       "      <td>2014J</td>\n",
       "      <td>Exam</td>\n",
       "      <td>241.0</td>\n",
       "      <td>100.0</td>\n",
       "      <td>right_only</td>\n",
       "    </tr>\n",
       "    <tr>\n",
       "      <th>15</th>\n",
       "      <td>37424</td>\n",
       "      <td>&lt;NA&gt;</td>\n",
       "      <td>&lt;NA&gt;</td>\n",
       "      <td>&lt;NA&gt;</td>\n",
       "      <td>&lt;NA&gt;</td>\n",
       "      <td>GGG</td>\n",
       "      <td>2013J</td>\n",
       "      <td>Exam</td>\n",
       "      <td>229.0</td>\n",
       "      <td>100.0</td>\n",
       "      <td>right_only</td>\n",
       "    </tr>\n",
       "    <tr>\n",
       "      <th>16</th>\n",
       "      <td>37434</td>\n",
       "      <td>&lt;NA&gt;</td>\n",
       "      <td>&lt;NA&gt;</td>\n",
       "      <td>&lt;NA&gt;</td>\n",
       "      <td>&lt;NA&gt;</td>\n",
       "      <td>GGG</td>\n",
       "      <td>2014B</td>\n",
       "      <td>Exam</td>\n",
       "      <td>222.0</td>\n",
       "      <td>100.0</td>\n",
       "      <td>right_only</td>\n",
       "    </tr>\n",
       "    <tr>\n",
       "      <th>17</th>\n",
       "      <td>37444</td>\n",
       "      <td>&lt;NA&gt;</td>\n",
       "      <td>&lt;NA&gt;</td>\n",
       "      <td>&lt;NA&gt;</td>\n",
       "      <td>&lt;NA&gt;</td>\n",
       "      <td>GGG</td>\n",
       "      <td>2014J</td>\n",
       "      <td>Exam</td>\n",
       "      <td>229.0</td>\n",
       "      <td>100.0</td>\n",
       "      <td>right_only</td>\n",
       "    </tr>\n",
       "  </tbody>\n",
       "</table>\n",
       "</div>"
      ],
      "text/plain": [
       "   id_assessment id_student  date_submitted  is_banked  score module  \\\n",
       "0           1757       <NA>            <NA>       <NA>   <NA>    AAA   \n",
       "1           1763       <NA>            <NA>       <NA>   <NA>    AAA   \n",
       "2          14990       <NA>            <NA>       <NA>   <NA>    BBB   \n",
       "3          15002       <NA>            <NA>       <NA>   <NA>    BBB   \n",
       "4          15014       <NA>            <NA>       <NA>   <NA>    BBB   \n",
       "5          15025       <NA>            <NA>       <NA>   <NA>    BBB   \n",
       "6          40087       <NA>            <NA>       <NA>   <NA>    CCC   \n",
       "7          40088       <NA>            <NA>       <NA>   <NA>    CCC   \n",
       "8          30713       <NA>            <NA>       <NA>   <NA>    EEE   \n",
       "9          30718       <NA>            <NA>       <NA>   <NA>    EEE   \n",
       "10         30723       <NA>            <NA>       <NA>   <NA>    EEE   \n",
       "11         34872       <NA>            <NA>       <NA>   <NA>    FFF   \n",
       "12         34885       <NA>            <NA>       <NA>   <NA>    FFF   \n",
       "13         34898       <NA>            <NA>       <NA>   <NA>    FFF   \n",
       "14         34911       <NA>            <NA>       <NA>   <NA>    FFF   \n",
       "15         37424       <NA>            <NA>       <NA>   <NA>    GGG   \n",
       "16         37434       <NA>            <NA>       <NA>   <NA>    GGG   \n",
       "17         37444       <NA>            <NA>       <NA>   <NA>    GGG   \n",
       "\n",
       "   presentation assessment_type   date  weight      _merge  \n",
       "0         2013J            Exam  268.0   100.0  right_only  \n",
       "1         2014J            Exam  269.0   100.0  right_only  \n",
       "2         2013B            Exam  240.0   100.0  right_only  \n",
       "3         2013J            Exam  268.0   100.0  right_only  \n",
       "4         2014B            Exam  234.0   100.0  right_only  \n",
       "5         2014J            Exam  262.0   100.0  right_only  \n",
       "6         2014B            Exam  241.0   100.0  right_only  \n",
       "7         2014J            Exam  269.0   100.0  right_only  \n",
       "8         2013J            Exam  235.0   100.0  right_only  \n",
       "9         2014B            Exam  228.0   100.0  right_only  \n",
       "10        2014J            Exam  235.0   100.0  right_only  \n",
       "11        2013B            Exam  222.0   100.0  right_only  \n",
       "12        2013J            Exam  236.0   100.0  right_only  \n",
       "13        2014B            Exam  227.0   100.0  right_only  \n",
       "14        2014J            Exam  241.0   100.0  right_only  \n",
       "15        2013J            Exam  229.0   100.0  right_only  \n",
       "16        2014B            Exam  222.0   100.0  right_only  \n",
       "17        2014J            Exam  229.0   100.0  right_only  "
      ]
     },
     "execution_count": 441,
     "metadata": {},
     "output_type": "execute_result"
    }
   ],
   "source": [
    "missing_exams = merged_assessments.loc[merged_assessments['_merge'] != 'both'].reset_index(drop=True)\n",
    "missing_exams"
   ]
  },
  {
   "cell_type": "markdown",
   "id": "9c5c59c3-a8f5-49e2-aa79-b31e0a68c216",
   "metadata": {},
   "source": [
    "These are the final exams completely missing from the dataset. It is possible that students have other exams that are missing but not from all students, which would not show in our data."
   ]
  },
  {
   "cell_type": "code",
   "execution_count": 442,
   "id": "bd0ccb45-04b1-4da1-80d9-cceaa8b3fec9",
   "metadata": {},
   "outputs": [
    {
     "data": {
      "text/html": [
       "<div>\n",
       "<style scoped>\n",
       "    .dataframe tbody tr th:only-of-type {\n",
       "        vertical-align: middle;\n",
       "    }\n",
       "\n",
       "    .dataframe tbody tr th {\n",
       "        vertical-align: top;\n",
       "    }\n",
       "\n",
       "    .dataframe thead th {\n",
       "        text-align: right;\n",
       "    }\n",
       "</style>\n",
       "<table border=\"1\" class=\"dataframe\">\n",
       "  <thead>\n",
       "    <tr style=\"text-align: right;\">\n",
       "      <th></th>\n",
       "      <th>module</th>\n",
       "      <th>presentation</th>\n",
       "      <th>id_assessment</th>\n",
       "      <th>assessment_type</th>\n",
       "      <th>date</th>\n",
       "      <th>weight</th>\n",
       "    </tr>\n",
       "  </thead>\n",
       "  <tbody>\n",
       "    <tr>\n",
       "      <th>5</th>\n",
       "      <td>AAA</td>\n",
       "      <td>2013J</td>\n",
       "      <td>1757</td>\n",
       "      <td>Exam</td>\n",
       "      <td>268.0</td>\n",
       "      <td>100.0</td>\n",
       "    </tr>\n",
       "    <tr>\n",
       "      <th>11</th>\n",
       "      <td>AAA</td>\n",
       "      <td>2014J</td>\n",
       "      <td>1763</td>\n",
       "      <td>Exam</td>\n",
       "      <td>269.0</td>\n",
       "      <td>100.0</td>\n",
       "    </tr>\n",
       "    <tr>\n",
       "      <th>23</th>\n",
       "      <td>BBB</td>\n",
       "      <td>2013B</td>\n",
       "      <td>14990</td>\n",
       "      <td>Exam</td>\n",
       "      <td>240.0</td>\n",
       "      <td>100.0</td>\n",
       "    </tr>\n",
       "    <tr>\n",
       "      <th>35</th>\n",
       "      <td>BBB</td>\n",
       "      <td>2013J</td>\n",
       "      <td>15002</td>\n",
       "      <td>Exam</td>\n",
       "      <td>268.0</td>\n",
       "      <td>100.0</td>\n",
       "    </tr>\n",
       "    <tr>\n",
       "      <th>47</th>\n",
       "      <td>BBB</td>\n",
       "      <td>2014B</td>\n",
       "      <td>15014</td>\n",
       "      <td>Exam</td>\n",
       "      <td>234.0</td>\n",
       "      <td>100.0</td>\n",
       "    </tr>\n",
       "    <tr>\n",
       "      <th>53</th>\n",
       "      <td>BBB</td>\n",
       "      <td>2014J</td>\n",
       "      <td>15025</td>\n",
       "      <td>Exam</td>\n",
       "      <td>262.0</td>\n",
       "      <td>100.0</td>\n",
       "    </tr>\n",
       "    <tr>\n",
       "      <th>62</th>\n",
       "      <td>CCC</td>\n",
       "      <td>2014B</td>\n",
       "      <td>24290</td>\n",
       "      <td>Exam</td>\n",
       "      <td>241.0</td>\n",
       "      <td>100.0</td>\n",
       "    </tr>\n",
       "    <tr>\n",
       "      <th>63</th>\n",
       "      <td>CCC</td>\n",
       "      <td>2014B</td>\n",
       "      <td>40087</td>\n",
       "      <td>Exam</td>\n",
       "      <td>241.0</td>\n",
       "      <td>100.0</td>\n",
       "    </tr>\n",
       "    <tr>\n",
       "      <th>72</th>\n",
       "      <td>CCC</td>\n",
       "      <td>2014J</td>\n",
       "      <td>24299</td>\n",
       "      <td>Exam</td>\n",
       "      <td>269.0</td>\n",
       "      <td>100.0</td>\n",
       "    </tr>\n",
       "    <tr>\n",
       "      <th>73</th>\n",
       "      <td>CCC</td>\n",
       "      <td>2014J</td>\n",
       "      <td>40088</td>\n",
       "      <td>Exam</td>\n",
       "      <td>269.0</td>\n",
       "      <td>100.0</td>\n",
       "    </tr>\n",
       "    <tr>\n",
       "      <th>87</th>\n",
       "      <td>DDD</td>\n",
       "      <td>2013B</td>\n",
       "      <td>25340</td>\n",
       "      <td>Exam</td>\n",
       "      <td>240.0</td>\n",
       "      <td>100.0</td>\n",
       "    </tr>\n",
       "    <tr>\n",
       "      <th>94</th>\n",
       "      <td>DDD</td>\n",
       "      <td>2013J</td>\n",
       "      <td>25354</td>\n",
       "      <td>Exam</td>\n",
       "      <td>261.0</td>\n",
       "      <td>100.0</td>\n",
       "    </tr>\n",
       "    <tr>\n",
       "      <th>101</th>\n",
       "      <td>DDD</td>\n",
       "      <td>2014B</td>\n",
       "      <td>25361</td>\n",
       "      <td>Exam</td>\n",
       "      <td>241.0</td>\n",
       "      <td>100.0</td>\n",
       "    </tr>\n",
       "    <tr>\n",
       "      <th>108</th>\n",
       "      <td>DDD</td>\n",
       "      <td>2014J</td>\n",
       "      <td>25368</td>\n",
       "      <td>Exam</td>\n",
       "      <td>262.0</td>\n",
       "      <td>100.0</td>\n",
       "    </tr>\n",
       "    <tr>\n",
       "      <th>113</th>\n",
       "      <td>EEE</td>\n",
       "      <td>2013J</td>\n",
       "      <td>30713</td>\n",
       "      <td>Exam</td>\n",
       "      <td>235.0</td>\n",
       "      <td>100.0</td>\n",
       "    </tr>\n",
       "    <tr>\n",
       "      <th>118</th>\n",
       "      <td>EEE</td>\n",
       "      <td>2014B</td>\n",
       "      <td>30718</td>\n",
       "      <td>Exam</td>\n",
       "      <td>228.0</td>\n",
       "      <td>100.0</td>\n",
       "    </tr>\n",
       "    <tr>\n",
       "      <th>123</th>\n",
       "      <td>EEE</td>\n",
       "      <td>2014J</td>\n",
       "      <td>30723</td>\n",
       "      <td>Exam</td>\n",
       "      <td>235.0</td>\n",
       "      <td>100.0</td>\n",
       "    </tr>\n",
       "    <tr>\n",
       "      <th>136</th>\n",
       "      <td>FFF</td>\n",
       "      <td>2013B</td>\n",
       "      <td>34872</td>\n",
       "      <td>Exam</td>\n",
       "      <td>222.0</td>\n",
       "      <td>100.0</td>\n",
       "    </tr>\n",
       "    <tr>\n",
       "      <th>149</th>\n",
       "      <td>FFF</td>\n",
       "      <td>2013J</td>\n",
       "      <td>34885</td>\n",
       "      <td>Exam</td>\n",
       "      <td>236.0</td>\n",
       "      <td>100.0</td>\n",
       "    </tr>\n",
       "    <tr>\n",
       "      <th>162</th>\n",
       "      <td>FFF</td>\n",
       "      <td>2014B</td>\n",
       "      <td>34898</td>\n",
       "      <td>Exam</td>\n",
       "      <td>227.0</td>\n",
       "      <td>100.0</td>\n",
       "    </tr>\n",
       "    <tr>\n",
       "      <th>175</th>\n",
       "      <td>FFF</td>\n",
       "      <td>2014J</td>\n",
       "      <td>34911</td>\n",
       "      <td>Exam</td>\n",
       "      <td>241.0</td>\n",
       "      <td>100.0</td>\n",
       "    </tr>\n",
       "    <tr>\n",
       "      <th>185</th>\n",
       "      <td>GGG</td>\n",
       "      <td>2013J</td>\n",
       "      <td>37424</td>\n",
       "      <td>Exam</td>\n",
       "      <td>229.0</td>\n",
       "      <td>100.0</td>\n",
       "    </tr>\n",
       "    <tr>\n",
       "      <th>195</th>\n",
       "      <td>GGG</td>\n",
       "      <td>2014B</td>\n",
       "      <td>37434</td>\n",
       "      <td>Exam</td>\n",
       "      <td>222.0</td>\n",
       "      <td>100.0</td>\n",
       "    </tr>\n",
       "    <tr>\n",
       "      <th>205</th>\n",
       "      <td>GGG</td>\n",
       "      <td>2014J</td>\n",
       "      <td>37444</td>\n",
       "      <td>Exam</td>\n",
       "      <td>229.0</td>\n",
       "      <td>100.0</td>\n",
       "    </tr>\n",
       "  </tbody>\n",
       "</table>\n",
       "</div>"
      ],
      "text/plain": [
       "    module presentation id_assessment assessment_type   date  weight\n",
       "5      AAA        2013J          1757            Exam  268.0   100.0\n",
       "11     AAA        2014J          1763            Exam  269.0   100.0\n",
       "23     BBB        2013B         14990            Exam  240.0   100.0\n",
       "35     BBB        2013J         15002            Exam  268.0   100.0\n",
       "47     BBB        2014B         15014            Exam  234.0   100.0\n",
       "53     BBB        2014J         15025            Exam  262.0   100.0\n",
       "62     CCC        2014B         24290            Exam  241.0   100.0\n",
       "63     CCC        2014B         40087            Exam  241.0   100.0\n",
       "72     CCC        2014J         24299            Exam  269.0   100.0\n",
       "73     CCC        2014J         40088            Exam  269.0   100.0\n",
       "87     DDD        2013B         25340            Exam  240.0   100.0\n",
       "94     DDD        2013J         25354            Exam  261.0   100.0\n",
       "101    DDD        2014B         25361            Exam  241.0   100.0\n",
       "108    DDD        2014J         25368            Exam  262.0   100.0\n",
       "113    EEE        2013J         30713            Exam  235.0   100.0\n",
       "118    EEE        2014B         30718            Exam  228.0   100.0\n",
       "123    EEE        2014J         30723            Exam  235.0   100.0\n",
       "136    FFF        2013B         34872            Exam  222.0   100.0\n",
       "149    FFF        2013J         34885            Exam  236.0   100.0\n",
       "162    FFF        2014B         34898            Exam  227.0   100.0\n",
       "175    FFF        2014J         34911            Exam  241.0   100.0\n",
       "185    GGG        2013J         37424            Exam  229.0   100.0\n",
       "195    GGG        2014B         37434            Exam  222.0   100.0\n",
       "205    GGG        2014J         37444            Exam  229.0   100.0"
      ]
     },
     "execution_count": 442,
     "metadata": {},
     "output_type": "execute_result"
    }
   ],
   "source": [
    "assessments.loc[assessments['assessment_type'] == 'Exam']"
   ]
  },
  {
   "cell_type": "code",
   "execution_count": 443,
   "id": "5aefe3b4-a1d1-4ab3-954b-946cb4ee8ec9",
   "metadata": {
    "tags": [
     "remove_input"
    ]
   },
   "outputs": [
    {
     "data": {
      "text/markdown": [
       "\n",
       "These 18 rows all have entries in the assessments dataframe but have no match in the student_assessment dataframe. \n",
       "This indicates that no students in our data took these exams. These are all weight 100 and will be the missing final exams.\n"
      ],
      "text/plain": [
       "<IPython.core.display.Markdown object>"
      ]
     },
     "execution_count": 443,
     "metadata": {},
     "output_type": "execute_result"
    }
   ],
   "source": [
    "md(f'''\n",
    "These {len(missing_exams)} rows all have entries in the assessments dataframe but have no match in the student_assessment dataframe. \n",
    "This indicates that no students in our data took these exams. These are all weight 100 and will be the missing final exams.\n",
    "''')"
   ]
  },
  {
   "cell_type": "code",
   "execution_count": 444,
   "id": "63bcbb78-a7f6-4f25-b4ff-ecfa054b8b98",
   "metadata": {},
   "outputs": [
    {
     "data": {
      "text/html": [
       "<div>\n",
       "<style scoped>\n",
       "    .dataframe tbody tr th:only-of-type {\n",
       "        vertical-align: middle;\n",
       "    }\n",
       "\n",
       "    .dataframe tbody tr th {\n",
       "        vertical-align: top;\n",
       "    }\n",
       "\n",
       "    .dataframe thead th {\n",
       "        text-align: right;\n",
       "    }\n",
       "</style>\n",
       "<table border=\"1\" class=\"dataframe\">\n",
       "  <thead>\n",
       "    <tr style=\"text-align: right;\">\n",
       "      <th></th>\n",
       "      <th>weight</th>\n",
       "      <th>module</th>\n",
       "      <th>presentation</th>\n",
       "      <th>id_assessment</th>\n",
       "    </tr>\n",
       "  </thead>\n",
       "  <tbody>\n",
       "    <tr>\n",
       "      <th>52923</th>\n",
       "      <td>100.0</td>\n",
       "      <td>CCC</td>\n",
       "      <td>2014B</td>\n",
       "      <td>24290</td>\n",
       "    </tr>\n",
       "    <tr>\n",
       "      <th>63953</th>\n",
       "      <td>100.0</td>\n",
       "      <td>CCC</td>\n",
       "      <td>2014J</td>\n",
       "      <td>24299</td>\n",
       "    </tr>\n",
       "    <tr>\n",
       "      <th>69640</th>\n",
       "      <td>100.0</td>\n",
       "      <td>DDD</td>\n",
       "      <td>2013B</td>\n",
       "      <td>25340</td>\n",
       "    </tr>\n",
       "    <tr>\n",
       "      <th>82462</th>\n",
       "      <td>100.0</td>\n",
       "      <td>DDD</td>\n",
       "      <td>2013J</td>\n",
       "      <td>25354</td>\n",
       "    </tr>\n",
       "    <tr>\n",
       "      <th>87448</th>\n",
       "      <td>100.0</td>\n",
       "      <td>DDD</td>\n",
       "      <td>2014B</td>\n",
       "      <td>25361</td>\n",
       "    </tr>\n",
       "    <tr>\n",
       "      <th>95035</th>\n",
       "      <td>100.0</td>\n",
       "      <td>DDD</td>\n",
       "      <td>2014J</td>\n",
       "      <td>25368</td>\n",
       "    </tr>\n",
       "  </tbody>\n",
       "</table>\n",
       "</div>"
      ],
      "text/plain": [
       "       weight module presentation id_assessment\n",
       "52923   100.0    CCC        2014B         24290\n",
       "63953   100.0    CCC        2014J         24299\n",
       "69640   100.0    DDD        2013B         25340\n",
       "82462   100.0    DDD        2013J         25354\n",
       "87448   100.0    DDD        2014B         25361\n",
       "95035   100.0    DDD        2014J         25368"
      ]
     },
     "execution_count": 444,
     "metadata": {},
     "output_type": "execute_result"
    }
   ],
   "source": [
    "# locate the module and presentation for rows in merged_assessments where the weight is 100 and the score is not null\n",
    "finals_w_scores = merged_assessments.loc[(merged_assessments['weight'] == 100) & (merged_assessments['score'].notna()), ['weight', 'module', 'presentation', 'id_assessment']].drop_duplicates()\n",
    "finals_w_scores"
   ]
  },
  {
   "cell_type": "code",
   "execution_count": 445,
   "id": "d1dddbfa-a60f-4616-b851-495fc45bbc08",
   "metadata": {},
   "outputs": [
    {
     "data": {
      "text/markdown": [
       "Above is a dataframe of all of the modules and presentations we have a final exam for. Only 6 modules out of \n",
       "22 have final exam scores for any students.\n",
       "\n",
       "Since we are missing final exam data for so many students, we cannot use this to make a weighted average for students. It is particularly troublesome\n",
       "because we have no final exams in GGG whose whole score is based on the final exams since the other exams in GGG are weight 0.\n",
       "\n",
       "What we will do is base the weighted average on exams that are not the final exam and assign GGG's exams the rounded average of the weights of exams in\n",
       "modules that have the same number of exams."
      ],
      "text/plain": [
       "<IPython.core.display.Markdown object>"
      ]
     },
     "execution_count": 445,
     "metadata": {},
     "output_type": "execute_result"
    }
   ],
   "source": [
    "ttl_mod_pres = (courses['module'] + courses['presentation']).nunique()\n",
    "ttl_final_exams = assessments.loc[assessments['assessment_type'] == 'Exam']\n",
    "mod_pres_w_scores = len(finals_w_scores)\n",
    "md(f'''Above is a dataframe of all of the modules and presentations we have a final exam for. Only {mod_pres_w_scores} modules out of \n",
    "{ttl_mod_pres} have final exam scores for any students.\n",
    "\n",
    "Since we are missing final exam data for so many students, we cannot use this to make a weighted average for students. It is particularly troublesome\n",
    "because we have no final exams in GGG whose whole score is based on the final exams since the other exams in GGG are weight 0.\n",
    "\n",
    "What we will do is base the weighted average on exams that are not the final exam and assign GGG's exams the rounded average of the weights of exams in\n",
    "modules that have the same number of exams.''')"
   ]
  },
  {
   "cell_type": "code",
   "execution_count": 446,
   "id": "ace2e210-5f5a-497b-843d-90ab4740a89e",
   "metadata": {},
   "outputs": [
    {
     "name": "stdout",
     "output_type": "stream",
     "text": [
      "CCC 2013J\n",
      "CCC 2014J\n",
      "CCC 2013B\n",
      "CCC 2014B\n",
      "GGG 2013J\n",
      "GGG 2014J\n",
      "GGG 2013B\n",
      "GGG 2014B\n"
     ]
    }
   ],
   "source": [
    "ggg_assessments = assessments.loc[(assessments['module'] == 'GGG') & (assessments['presentation'] == '2014J'), ['presentation', 'id_assessment', 'weight']]\n",
    "modules = assessments['module'].unique()\n",
    "presentations = assessments['presentation'].unique()\n",
    "for i in modules:\n",
    "    for j in presentations:\n",
    "        if len(assessments.loc[(assessments['module'] == i) & (assessments['presentation'] == '2014J'), ['presentation', 'id_assessment', 'weight']])  == len(ggg_assessments):\n",
    "            print(i, j)"
   ]
  },
  {
   "cell_type": "code",
   "execution_count": 447,
   "id": "05d8d077-8eb2-459e-ac26-120b4c26471b",
   "metadata": {},
   "outputs": [
    {
     "data": {
      "text/plain": [
       "<StringArray>\n",
       "['1752', '1753', '1758', '1759']\n",
       "Length: 4, dtype: string"
      ]
     },
     "execution_count": 447,
     "metadata": {},
     "output_type": "execute_result"
    }
   ],
   "source": [
    "merged_assessments.loc[merged_assessments['id_student'] == '65002', 'id_assessment'].values"
   ]
  },
  {
   "cell_type": "code",
   "execution_count": 448,
   "id": "f664a93c-a8bb-4cf7-be1a-b7c7e11f21f1",
   "metadata": {},
   "outputs": [],
   "source": [
    "merged_assessments['module_presentation'] = merged_assessments['module'] + merged_assessments['presentation']\n",
    "assessments['module_presentation'] = assessments['module'] + assessments['presentation']"
   ]
  },
  {
   "cell_type": "code",
   "execution_count": 500,
   "id": "ad8b3cd5-0182-4b8a-83cb-88822924d900",
   "metadata": {},
   "outputs": [
    {
     "data": {
      "text/html": [
       "<div>\n",
       "<style scoped>\n",
       "    .dataframe tbody tr th:only-of-type {\n",
       "        vertical-align: middle;\n",
       "    }\n",
       "\n",
       "    .dataframe tbody tr th {\n",
       "        vertical-align: top;\n",
       "    }\n",
       "\n",
       "    .dataframe thead th {\n",
       "        text-align: right;\n",
       "    }\n",
       "</style>\n",
       "<table border=\"1\" class=\"dataframe\">\n",
       "  <thead>\n",
       "    <tr style=\"text-align: right;\">\n",
       "      <th></th>\n",
       "      <th>id_assessment</th>\n",
       "      <th>id_student</th>\n",
       "      <th>date_submitted</th>\n",
       "      <th>is_banked</th>\n",
       "      <th>score</th>\n",
       "      <th>module</th>\n",
       "      <th>presentation</th>\n",
       "      <th>assessment_type</th>\n",
       "      <th>date</th>\n",
       "      <th>weight</th>\n",
       "      <th>_merge</th>\n",
       "      <th>module_presentation</th>\n",
       "    </tr>\n",
       "    <tr>\n",
       "      <th>unique_student_entry</th>\n",
       "      <th></th>\n",
       "      <th></th>\n",
       "      <th></th>\n",
       "      <th></th>\n",
       "      <th></th>\n",
       "      <th></th>\n",
       "      <th></th>\n",
       "      <th></th>\n",
       "      <th></th>\n",
       "      <th></th>\n",
       "      <th></th>\n",
       "      <th></th>\n",
       "    </tr>\n",
       "  </thead>\n",
       "  <tbody>\n",
       "    <tr>\n",
       "      <th>11391AAA2013J</th>\n",
       "      <td>1752</td>\n",
       "      <td>11391</td>\n",
       "      <td>18</td>\n",
       "      <td>0</td>\n",
       "      <td>78</td>\n",
       "      <td>AAA</td>\n",
       "      <td>2013J</td>\n",
       "      <td>TMA</td>\n",
       "      <td>19.0</td>\n",
       "      <td>10.0</td>\n",
       "      <td>both</td>\n",
       "      <td>AAA2013J</td>\n",
       "    </tr>\n",
       "    <tr>\n",
       "      <th>28400AAA2013J</th>\n",
       "      <td>1752</td>\n",
       "      <td>28400</td>\n",
       "      <td>22</td>\n",
       "      <td>0</td>\n",
       "      <td>70</td>\n",
       "      <td>AAA</td>\n",
       "      <td>2013J</td>\n",
       "      <td>TMA</td>\n",
       "      <td>19.0</td>\n",
       "      <td>10.0</td>\n",
       "      <td>both</td>\n",
       "      <td>AAA2013J</td>\n",
       "    </tr>\n",
       "    <tr>\n",
       "      <th>31604AAA2013J</th>\n",
       "      <td>1752</td>\n",
       "      <td>31604</td>\n",
       "      <td>17</td>\n",
       "      <td>0</td>\n",
       "      <td>72</td>\n",
       "      <td>AAA</td>\n",
       "      <td>2013J</td>\n",
       "      <td>TMA</td>\n",
       "      <td>19.0</td>\n",
       "      <td>10.0</td>\n",
       "      <td>both</td>\n",
       "      <td>AAA2013J</td>\n",
       "    </tr>\n",
       "    <tr>\n",
       "      <th>32885AAA2013J</th>\n",
       "      <td>1752</td>\n",
       "      <td>32885</td>\n",
       "      <td>26</td>\n",
       "      <td>0</td>\n",
       "      <td>69</td>\n",
       "      <td>AAA</td>\n",
       "      <td>2013J</td>\n",
       "      <td>TMA</td>\n",
       "      <td>19.0</td>\n",
       "      <td>10.0</td>\n",
       "      <td>both</td>\n",
       "      <td>AAA2013J</td>\n",
       "    </tr>\n",
       "    <tr>\n",
       "      <th>38053AAA2013J</th>\n",
       "      <td>1752</td>\n",
       "      <td>38053</td>\n",
       "      <td>19</td>\n",
       "      <td>0</td>\n",
       "      <td>79</td>\n",
       "      <td>AAA</td>\n",
       "      <td>2013J</td>\n",
       "      <td>TMA</td>\n",
       "      <td>19.0</td>\n",
       "      <td>10.0</td>\n",
       "      <td>both</td>\n",
       "      <td>AAA2013J</td>\n",
       "    </tr>\n",
       "    <tr>\n",
       "      <th>...</th>\n",
       "      <td>...</td>\n",
       "      <td>...</td>\n",
       "      <td>...</td>\n",
       "      <td>...</td>\n",
       "      <td>...</td>\n",
       "      <td>...</td>\n",
       "      <td>...</td>\n",
       "      <td>...</td>\n",
       "      <td>...</td>\n",
       "      <td>...</td>\n",
       "      <td>...</td>\n",
       "      <td>...</td>\n",
       "    </tr>\n",
       "    <tr>\n",
       "      <th>&lt;NA&gt;FFF2014B</th>\n",
       "      <td>34898</td>\n",
       "      <td>&lt;NA&gt;</td>\n",
       "      <td>&lt;NA&gt;</td>\n",
       "      <td>&lt;NA&gt;</td>\n",
       "      <td>&lt;NA&gt;</td>\n",
       "      <td>FFF</td>\n",
       "      <td>2014B</td>\n",
       "      <td>Exam</td>\n",
       "      <td>227.0</td>\n",
       "      <td>100.0</td>\n",
       "      <td>right_only</td>\n",
       "      <td>FFF2014B</td>\n",
       "    </tr>\n",
       "    <tr>\n",
       "      <th>&lt;NA&gt;FFF2014J</th>\n",
       "      <td>34911</td>\n",
       "      <td>&lt;NA&gt;</td>\n",
       "      <td>&lt;NA&gt;</td>\n",
       "      <td>&lt;NA&gt;</td>\n",
       "      <td>&lt;NA&gt;</td>\n",
       "      <td>FFF</td>\n",
       "      <td>2014J</td>\n",
       "      <td>Exam</td>\n",
       "      <td>241.0</td>\n",
       "      <td>100.0</td>\n",
       "      <td>right_only</td>\n",
       "      <td>FFF2014J</td>\n",
       "    </tr>\n",
       "    <tr>\n",
       "      <th>&lt;NA&gt;GGG2013J</th>\n",
       "      <td>37424</td>\n",
       "      <td>&lt;NA&gt;</td>\n",
       "      <td>&lt;NA&gt;</td>\n",
       "      <td>&lt;NA&gt;</td>\n",
       "      <td>&lt;NA&gt;</td>\n",
       "      <td>GGG</td>\n",
       "      <td>2013J</td>\n",
       "      <td>Exam</td>\n",
       "      <td>229.0</td>\n",
       "      <td>100.0</td>\n",
       "      <td>right_only</td>\n",
       "      <td>GGG2013J</td>\n",
       "    </tr>\n",
       "    <tr>\n",
       "      <th>&lt;NA&gt;GGG2014B</th>\n",
       "      <td>37434</td>\n",
       "      <td>&lt;NA&gt;</td>\n",
       "      <td>&lt;NA&gt;</td>\n",
       "      <td>&lt;NA&gt;</td>\n",
       "      <td>&lt;NA&gt;</td>\n",
       "      <td>GGG</td>\n",
       "      <td>2014B</td>\n",
       "      <td>Exam</td>\n",
       "      <td>222.0</td>\n",
       "      <td>100.0</td>\n",
       "      <td>right_only</td>\n",
       "      <td>GGG2014B</td>\n",
       "    </tr>\n",
       "    <tr>\n",
       "      <th>&lt;NA&gt;GGG2014J</th>\n",
       "      <td>37444</td>\n",
       "      <td>&lt;NA&gt;</td>\n",
       "      <td>&lt;NA&gt;</td>\n",
       "      <td>&lt;NA&gt;</td>\n",
       "      <td>&lt;NA&gt;</td>\n",
       "      <td>GGG</td>\n",
       "      <td>2014J</td>\n",
       "      <td>Exam</td>\n",
       "      <td>229.0</td>\n",
       "      <td>100.0</td>\n",
       "      <td>right_only</td>\n",
       "      <td>GGG2014J</td>\n",
       "    </tr>\n",
       "  </tbody>\n",
       "</table>\n",
       "<p>173930 rows × 12 columns</p>\n",
       "</div>"
      ],
      "text/plain": [
       "                     id_assessment id_student  date_submitted  is_banked  \\\n",
       "unique_student_entry                                                       \n",
       "11391AAA2013J                 1752      11391              18          0   \n",
       "28400AAA2013J                 1752      28400              22          0   \n",
       "31604AAA2013J                 1752      31604              17          0   \n",
       "32885AAA2013J                 1752      32885              26          0   \n",
       "38053AAA2013J                 1752      38053              19          0   \n",
       "...                            ...        ...             ...        ...   \n",
       "<NA>FFF2014B                 34898       <NA>            <NA>       <NA>   \n",
       "<NA>FFF2014J                 34911       <NA>            <NA>       <NA>   \n",
       "<NA>GGG2013J                 37424       <NA>            <NA>       <NA>   \n",
       "<NA>GGG2014B                 37434       <NA>            <NA>       <NA>   \n",
       "<NA>GGG2014J                 37444       <NA>            <NA>       <NA>   \n",
       "\n",
       "                      score module presentation assessment_type   date  \\\n",
       "unique_student_entry                                                     \n",
       "11391AAA2013J            78    AAA        2013J             TMA   19.0   \n",
       "28400AAA2013J            70    AAA        2013J             TMA   19.0   \n",
       "31604AAA2013J            72    AAA        2013J             TMA   19.0   \n",
       "32885AAA2013J            69    AAA        2013J             TMA   19.0   \n",
       "38053AAA2013J            79    AAA        2013J             TMA   19.0   \n",
       "...                     ...    ...          ...             ...    ...   \n",
       "<NA>FFF2014B           <NA>    FFF        2014B            Exam  227.0   \n",
       "<NA>FFF2014J           <NA>    FFF        2014J            Exam  241.0   \n",
       "<NA>GGG2013J           <NA>    GGG        2013J            Exam  229.0   \n",
       "<NA>GGG2014B           <NA>    GGG        2014B            Exam  222.0   \n",
       "<NA>GGG2014J           <NA>    GGG        2014J            Exam  229.0   \n",
       "\n",
       "                      weight      _merge module_presentation  \n",
       "unique_student_entry                                          \n",
       "11391AAA2013J           10.0        both            AAA2013J  \n",
       "28400AAA2013J           10.0        both            AAA2013J  \n",
       "31604AAA2013J           10.0        both            AAA2013J  \n",
       "32885AAA2013J           10.0        both            AAA2013J  \n",
       "38053AAA2013J           10.0        both            AAA2013J  \n",
       "...                      ...         ...                 ...  \n",
       "<NA>FFF2014B           100.0  right_only            FFF2014B  \n",
       "<NA>FFF2014J           100.0  right_only            FFF2014J  \n",
       "<NA>GGG2013J           100.0  right_only            GGG2013J  \n",
       "<NA>GGG2014B           100.0  right_only            GGG2014B  \n",
       "<NA>GGG2014J           100.0  right_only            GGG2014J  \n",
       "\n",
       "[173930 rows x 12 columns]"
      ]
     },
     "execution_count": 500,
     "metadata": {},
     "output_type": "execute_result"
    }
   ],
   "source": [
    "merged_assessments"
   ]
  },
  {
   "cell_type": "code",
   "execution_count": 452,
   "id": "48f6b10e-d7ee-4a38-a9c6-0fa54f1696b9",
   "metadata": {},
   "outputs": [],
   "source": [
    "assessments['module_presentation'] = assessments['module'] + assessments['presentation']\n",
    "merged_assessments['module_presentation'] = merged_assessments['module'] + merged_assessments['presentation']"
   ]
  },
  {
   "cell_type": "code",
   "execution_count": 482,
   "id": "2334f5ea-f52b-4374-872f-ffdea0698e18",
   "metadata": {},
   "outputs": [],
   "source": [
    "merged_assessments['unique_student_entry'] = merged_assessments['id_student'] + merged_assessments['module_presentation']\n",
    "merged_assessments = merged_assessments.set_index('unique_student_entry')"
   ]
  },
  {
   "cell_type": "code",
   "execution_count": 498,
   "id": "a2c1dbe2-1979-4983-b707-1d2c8aae89c8",
   "metadata": {
    "tags": []
   },
   "outputs": [],
   "source": [
    "\n",
    "def get_all_assessments():\n",
    "    # initiate an empty dataframe to store students with all exams\n",
    "    merged_assessments_plus = []\n",
    "    temp_df = dataframe()\n",
    "    \n",
    "\n",
    "    # iterate through rows of merged_assessments \n",
    "    for i, r in merged_assessments.iterrows():\n",
    "        # initiate an empty dataframe to temporarily store one student at a time\n",
    "        student_assessments = merged_assessments.index[i]\n",
    "        module_assessments = assessments.loc[assessments['module_presentation'] == r['module_presentation']]\n",
    "        temp_df = student_assessments.merge(module_assessments, how='left', on=['id_assessment', 'module_presentation'])\n",
    "        temp_df['id_student'] = r['id_student']\n",
    "        merged_assessments_plus.append(temp_df.to_dict())\n",
    "        print(len(merged_assessments_plus), end = \"\\r\")"
   ]
  },
  {
   "cell_type": "code",
   "execution_count": 499,
   "id": "081ed87c-8fe9-4970-b037-5d2880e8488c",
   "metadata": {
    "tags": []
   },
   "outputs": [
    {
     "ename": "IndexError",
     "evalue": "only integers, slices (`:`), ellipsis (`...`), numpy.newaxis (`None`) and integer or boolean arrays are valid indices",
     "output_type": "error",
     "traceback": [
      "\u001b[1;31m---------------------------------------------------------------------------\u001b[0m",
      "\u001b[1;31mIndexError\u001b[0m                                Traceback (most recent call last)",
      "\u001b[1;32m<ipython-input-499-becf7cc6116d>\u001b[0m in \u001b[0;36m<module>\u001b[1;34m\u001b[0m\n\u001b[1;32m----> 1\u001b[1;33m \u001b[0mget_ipython\u001b[0m\u001b[1;33m(\u001b[0m\u001b[1;33m)\u001b[0m\u001b[1;33m.\u001b[0m\u001b[0mrun_line_magic\u001b[0m\u001b[1;33m(\u001b[0m\u001b[1;34m'lprun'\u001b[0m\u001b[1;33m,\u001b[0m \u001b[1;34m'-f get_all_assessments get_all_assessments()'\u001b[0m\u001b[1;33m)\u001b[0m\u001b[1;33m\u001b[0m\u001b[1;33m\u001b[0m\u001b[0m\n\u001b[0m",
      "\u001b[1;32m~\\anaconda3\\envs\\py39\\lib\\site-packages\\IPython\\core\\interactiveshell.py\u001b[0m in \u001b[0;36mrun_line_magic\u001b[1;34m(self, magic_name, line, _stack_depth)\u001b[0m\n\u001b[0;32m   2342\u001b[0m                 \u001b[0mkwargs\u001b[0m\u001b[1;33m[\u001b[0m\u001b[1;34m'local_ns'\u001b[0m\u001b[1;33m]\u001b[0m \u001b[1;33m=\u001b[0m \u001b[0mself\u001b[0m\u001b[1;33m.\u001b[0m\u001b[0mget_local_scope\u001b[0m\u001b[1;33m(\u001b[0m\u001b[0mstack_depth\u001b[0m\u001b[1;33m)\u001b[0m\u001b[1;33m\u001b[0m\u001b[1;33m\u001b[0m\u001b[0m\n\u001b[0;32m   2343\u001b[0m             \u001b[1;32mwith\u001b[0m \u001b[0mself\u001b[0m\u001b[1;33m.\u001b[0m\u001b[0mbuiltin_trap\u001b[0m\u001b[1;33m:\u001b[0m\u001b[1;33m\u001b[0m\u001b[1;33m\u001b[0m\u001b[0m\n\u001b[1;32m-> 2344\u001b[1;33m                 \u001b[0mresult\u001b[0m \u001b[1;33m=\u001b[0m \u001b[0mfn\u001b[0m\u001b[1;33m(\u001b[0m\u001b[1;33m*\u001b[0m\u001b[0margs\u001b[0m\u001b[1;33m,\u001b[0m \u001b[1;33m**\u001b[0m\u001b[0mkwargs\u001b[0m\u001b[1;33m)\u001b[0m\u001b[1;33m\u001b[0m\u001b[1;33m\u001b[0m\u001b[0m\n\u001b[0m\u001b[0;32m   2345\u001b[0m             \u001b[1;32mreturn\u001b[0m \u001b[0mresult\u001b[0m\u001b[1;33m\u001b[0m\u001b[1;33m\u001b[0m\u001b[0m\n\u001b[0;32m   2346\u001b[0m \u001b[1;33m\u001b[0m\u001b[0m\n",
      "\u001b[1;32m~\\anaconda3\\envs\\py39\\lib\\site-packages\\decorator.py\u001b[0m in \u001b[0;36mfun\u001b[1;34m(*args, **kw)\u001b[0m\n\u001b[0;32m    230\u001b[0m             \u001b[1;32mif\u001b[0m \u001b[1;32mnot\u001b[0m \u001b[0mkwsyntax\u001b[0m\u001b[1;33m:\u001b[0m\u001b[1;33m\u001b[0m\u001b[1;33m\u001b[0m\u001b[0m\n\u001b[0;32m    231\u001b[0m                 \u001b[0margs\u001b[0m\u001b[1;33m,\u001b[0m \u001b[0mkw\u001b[0m \u001b[1;33m=\u001b[0m \u001b[0mfix\u001b[0m\u001b[1;33m(\u001b[0m\u001b[0margs\u001b[0m\u001b[1;33m,\u001b[0m \u001b[0mkw\u001b[0m\u001b[1;33m,\u001b[0m \u001b[0msig\u001b[0m\u001b[1;33m)\u001b[0m\u001b[1;33m\u001b[0m\u001b[1;33m\u001b[0m\u001b[0m\n\u001b[1;32m--> 232\u001b[1;33m             \u001b[1;32mreturn\u001b[0m \u001b[0mcaller\u001b[0m\u001b[1;33m(\u001b[0m\u001b[0mfunc\u001b[0m\u001b[1;33m,\u001b[0m \u001b[1;33m*\u001b[0m\u001b[1;33m(\u001b[0m\u001b[0mextras\u001b[0m \u001b[1;33m+\u001b[0m \u001b[0margs\u001b[0m\u001b[1;33m)\u001b[0m\u001b[1;33m,\u001b[0m \u001b[1;33m**\u001b[0m\u001b[0mkw\u001b[0m\u001b[1;33m)\u001b[0m\u001b[1;33m\u001b[0m\u001b[1;33m\u001b[0m\u001b[0m\n\u001b[0m\u001b[0;32m    233\u001b[0m     \u001b[0mfun\u001b[0m\u001b[1;33m.\u001b[0m\u001b[0m__name__\u001b[0m \u001b[1;33m=\u001b[0m \u001b[0mfunc\u001b[0m\u001b[1;33m.\u001b[0m\u001b[0m__name__\u001b[0m\u001b[1;33m\u001b[0m\u001b[1;33m\u001b[0m\u001b[0m\n\u001b[0;32m    234\u001b[0m     \u001b[0mfun\u001b[0m\u001b[1;33m.\u001b[0m\u001b[0m__doc__\u001b[0m \u001b[1;33m=\u001b[0m \u001b[0mfunc\u001b[0m\u001b[1;33m.\u001b[0m\u001b[0m__doc__\u001b[0m\u001b[1;33m\u001b[0m\u001b[1;33m\u001b[0m\u001b[0m\n",
      "\u001b[1;32m~\\anaconda3\\envs\\py39\\lib\\site-packages\\IPython\\core\\magic.py\u001b[0m in \u001b[0;36m<lambda>\u001b[1;34m(f, *a, **k)\u001b[0m\n\u001b[0;32m    185\u001b[0m     \u001b[1;31m# but it's overkill for just that one bit of state.\u001b[0m\u001b[1;33m\u001b[0m\u001b[1;33m\u001b[0m\u001b[1;33m\u001b[0m\u001b[0m\n\u001b[0;32m    186\u001b[0m     \u001b[1;32mdef\u001b[0m \u001b[0mmagic_deco\u001b[0m\u001b[1;33m(\u001b[0m\u001b[0marg\u001b[0m\u001b[1;33m)\u001b[0m\u001b[1;33m:\u001b[0m\u001b[1;33m\u001b[0m\u001b[1;33m\u001b[0m\u001b[0m\n\u001b[1;32m--> 187\u001b[1;33m         \u001b[0mcall\u001b[0m \u001b[1;33m=\u001b[0m \u001b[1;32mlambda\u001b[0m \u001b[0mf\u001b[0m\u001b[1;33m,\u001b[0m \u001b[1;33m*\u001b[0m\u001b[0ma\u001b[0m\u001b[1;33m,\u001b[0m \u001b[1;33m**\u001b[0m\u001b[0mk\u001b[0m\u001b[1;33m:\u001b[0m \u001b[0mf\u001b[0m\u001b[1;33m(\u001b[0m\u001b[1;33m*\u001b[0m\u001b[0ma\u001b[0m\u001b[1;33m,\u001b[0m \u001b[1;33m**\u001b[0m\u001b[0mk\u001b[0m\u001b[1;33m)\u001b[0m\u001b[1;33m\u001b[0m\u001b[1;33m\u001b[0m\u001b[0m\n\u001b[0m\u001b[0;32m    188\u001b[0m \u001b[1;33m\u001b[0m\u001b[0m\n\u001b[0;32m    189\u001b[0m         \u001b[1;32mif\u001b[0m \u001b[0mcallable\u001b[0m\u001b[1;33m(\u001b[0m\u001b[0marg\u001b[0m\u001b[1;33m)\u001b[0m\u001b[1;33m:\u001b[0m\u001b[1;33m\u001b[0m\u001b[1;33m\u001b[0m\u001b[0m\n",
      "\u001b[1;32m~\\anaconda3\\envs\\py39\\lib\\site-packages\\line_profiler\\line_profiler.py\u001b[0m in \u001b[0;36mlprun\u001b[1;34m(self, parameter_s)\u001b[0m\n\u001b[0;32m    367\u001b[0m         \u001b[1;32mtry\u001b[0m\u001b[1;33m:\u001b[0m\u001b[1;33m\u001b[0m\u001b[1;33m\u001b[0m\u001b[0m\n\u001b[0;32m    368\u001b[0m             \u001b[1;32mtry\u001b[0m\u001b[1;33m:\u001b[0m\u001b[1;33m\u001b[0m\u001b[1;33m\u001b[0m\u001b[0m\n\u001b[1;32m--> 369\u001b[1;33m                 \u001b[0mprofile\u001b[0m\u001b[1;33m.\u001b[0m\u001b[0mrunctx\u001b[0m\u001b[1;33m(\u001b[0m\u001b[0marg_str\u001b[0m\u001b[1;33m,\u001b[0m \u001b[0mglobal_ns\u001b[0m\u001b[1;33m,\u001b[0m \u001b[0mlocal_ns\u001b[0m\u001b[1;33m)\u001b[0m\u001b[1;33m\u001b[0m\u001b[1;33m\u001b[0m\u001b[0m\n\u001b[0m\u001b[0;32m    370\u001b[0m                 \u001b[0mmessage\u001b[0m \u001b[1;33m=\u001b[0m \u001b[1;34m''\u001b[0m\u001b[1;33m\u001b[0m\u001b[1;33m\u001b[0m\u001b[0m\n\u001b[0;32m    371\u001b[0m             \u001b[1;32mexcept\u001b[0m \u001b[0mSystemExit\u001b[0m\u001b[1;33m:\u001b[0m\u001b[1;33m\u001b[0m\u001b[1;33m\u001b[0m\u001b[0m\n",
      "\u001b[1;32m~\\anaconda3\\envs\\py39\\lib\\site-packages\\line_profiler\\line_profiler.py\u001b[0m in \u001b[0;36mrunctx\u001b[1;34m(self, cmd, globals, locals)\u001b[0m\n\u001b[0;32m    162\u001b[0m         \u001b[0mself\u001b[0m\u001b[1;33m.\u001b[0m\u001b[0menable_by_count\u001b[0m\u001b[1;33m(\u001b[0m\u001b[1;33m)\u001b[0m\u001b[1;33m\u001b[0m\u001b[1;33m\u001b[0m\u001b[0m\n\u001b[0;32m    163\u001b[0m         \u001b[1;32mtry\u001b[0m\u001b[1;33m:\u001b[0m\u001b[1;33m\u001b[0m\u001b[1;33m\u001b[0m\u001b[0m\n\u001b[1;32m--> 164\u001b[1;33m             \u001b[0mexec_\u001b[0m\u001b[1;33m(\u001b[0m\u001b[0mcmd\u001b[0m\u001b[1;33m,\u001b[0m \u001b[0mglobals\u001b[0m\u001b[1;33m,\u001b[0m \u001b[0mlocals\u001b[0m\u001b[1;33m)\u001b[0m\u001b[1;33m\u001b[0m\u001b[1;33m\u001b[0m\u001b[0m\n\u001b[0m\u001b[0;32m    165\u001b[0m         \u001b[1;32mfinally\u001b[0m\u001b[1;33m:\u001b[0m\u001b[1;33m\u001b[0m\u001b[1;33m\u001b[0m\u001b[0m\n\u001b[0;32m    166\u001b[0m             \u001b[0mself\u001b[0m\u001b[1;33m.\u001b[0m\u001b[0mdisable_by_count\u001b[0m\u001b[1;33m(\u001b[0m\u001b[1;33m)\u001b[0m\u001b[1;33m\u001b[0m\u001b[1;33m\u001b[0m\u001b[0m\n",
      "\u001b[1;32m<string>\u001b[0m in \u001b[0;36m<module>\u001b[1;34m\u001b[0m\n",
      "\u001b[1;32m<ipython-input-498-9c610293b90c>\u001b[0m in \u001b[0;36mget_all_assessments\u001b[1;34m()\u001b[0m\n\u001b[0;32m      8\u001b[0m     \u001b[1;32mfor\u001b[0m \u001b[0mi\u001b[0m\u001b[1;33m,\u001b[0m \u001b[0mr\u001b[0m \u001b[1;32min\u001b[0m \u001b[0mmerged_assessments\u001b[0m\u001b[1;33m.\u001b[0m\u001b[0miterrows\u001b[0m\u001b[1;33m(\u001b[0m\u001b[1;33m)\u001b[0m\u001b[1;33m:\u001b[0m\u001b[1;33m\u001b[0m\u001b[1;33m\u001b[0m\u001b[0m\n\u001b[0;32m      9\u001b[0m         \u001b[1;31m# initiate an empty dataframe to temporarily store one student at a time\u001b[0m\u001b[1;33m\u001b[0m\u001b[1;33m\u001b[0m\u001b[1;33m\u001b[0m\u001b[0m\n\u001b[1;32m---> 10\u001b[1;33m         \u001b[0mstudent_assessments\u001b[0m \u001b[1;33m=\u001b[0m \u001b[0mmerged_assessments\u001b[0m\u001b[1;33m.\u001b[0m\u001b[0mindex\u001b[0m\u001b[1;33m[\u001b[0m\u001b[0mi\u001b[0m\u001b[1;33m]\u001b[0m\u001b[1;33m\u001b[0m\u001b[1;33m\u001b[0m\u001b[0m\n\u001b[0m\u001b[0;32m     11\u001b[0m         \u001b[0mmodule_assessments\u001b[0m \u001b[1;33m=\u001b[0m \u001b[0massessments\u001b[0m\u001b[1;33m.\u001b[0m\u001b[0mloc\u001b[0m\u001b[1;33m[\u001b[0m\u001b[0massessments\u001b[0m\u001b[1;33m[\u001b[0m\u001b[1;34m'module_presentation'\u001b[0m\u001b[1;33m]\u001b[0m \u001b[1;33m==\u001b[0m \u001b[0mr\u001b[0m\u001b[1;33m[\u001b[0m\u001b[1;34m'module_presentation'\u001b[0m\u001b[1;33m]\u001b[0m\u001b[1;33m]\u001b[0m\u001b[1;33m\u001b[0m\u001b[1;33m\u001b[0m\u001b[0m\n\u001b[0;32m     12\u001b[0m         \u001b[0mtemp_df\u001b[0m \u001b[1;33m=\u001b[0m \u001b[0mstudent_assessments\u001b[0m\u001b[1;33m.\u001b[0m\u001b[0mmerge\u001b[0m\u001b[1;33m(\u001b[0m\u001b[0mmodule_assessments\u001b[0m\u001b[1;33m,\u001b[0m \u001b[0mhow\u001b[0m\u001b[1;33m=\u001b[0m\u001b[1;34m'left'\u001b[0m\u001b[1;33m,\u001b[0m \u001b[0mon\u001b[0m\u001b[1;33m=\u001b[0m\u001b[1;33m[\u001b[0m\u001b[1;34m'id_assessment'\u001b[0m\u001b[1;33m,\u001b[0m \u001b[1;34m'module_presentation'\u001b[0m\u001b[1;33m]\u001b[0m\u001b[1;33m)\u001b[0m\u001b[1;33m\u001b[0m\u001b[1;33m\u001b[0m\u001b[0m\n",
      "\u001b[1;32m~\\anaconda3\\envs\\py39\\lib\\site-packages\\pandas\\core\\indexes\\base.py\u001b[0m in \u001b[0;36m__getitem__\u001b[1;34m(self, key)\u001b[0m\n\u001b[0;32m   4602\u001b[0m         \u001b[1;32mif\u001b[0m \u001b[0mis_scalar\u001b[0m\u001b[1;33m(\u001b[0m\u001b[0mkey\u001b[0m\u001b[1;33m)\u001b[0m\u001b[1;33m:\u001b[0m\u001b[1;33m\u001b[0m\u001b[1;33m\u001b[0m\u001b[0m\n\u001b[0;32m   4603\u001b[0m             \u001b[0mkey\u001b[0m \u001b[1;33m=\u001b[0m \u001b[0mcom\u001b[0m\u001b[1;33m.\u001b[0m\u001b[0mcast_scalar_indexer\u001b[0m\u001b[1;33m(\u001b[0m\u001b[0mkey\u001b[0m\u001b[1;33m,\u001b[0m \u001b[0mwarn_float\u001b[0m\u001b[1;33m=\u001b[0m\u001b[1;32mTrue\u001b[0m\u001b[1;33m)\u001b[0m\u001b[1;33m\u001b[0m\u001b[1;33m\u001b[0m\u001b[0m\n\u001b[1;32m-> 4604\u001b[1;33m             \u001b[1;32mreturn\u001b[0m \u001b[0mgetitem\u001b[0m\u001b[1;33m(\u001b[0m\u001b[0mkey\u001b[0m\u001b[1;33m)\u001b[0m\u001b[1;33m\u001b[0m\u001b[1;33m\u001b[0m\u001b[0m\n\u001b[0m\u001b[0;32m   4605\u001b[0m \u001b[1;33m\u001b[0m\u001b[0m\n\u001b[0;32m   4606\u001b[0m         \u001b[1;32mif\u001b[0m \u001b[0misinstance\u001b[0m\u001b[1;33m(\u001b[0m\u001b[0mkey\u001b[0m\u001b[1;33m,\u001b[0m \u001b[0mslice\u001b[0m\u001b[1;33m)\u001b[0m\u001b[1;33m:\u001b[0m\u001b[1;33m\u001b[0m\u001b[1;33m\u001b[0m\u001b[0m\n",
      "\u001b[1;31mIndexError\u001b[0m: only integers, slices (`:`), ellipsis (`...`), numpy.newaxis (`None`) and integer or boolean arrays are valid indices"
     ]
    }
   ],
   "source": [
    "%lprun -f get_all_assessments get_all_assessments()\n"
   ]
  },
  {
   "cell_type": "code",
   "execution_count": 466,
   "id": "64da7517-63e4-4727-ae32-2809b69ebcb5",
   "metadata": {},
   "outputs": [
    {
     "data": {
      "text/html": [
       "<div>\n",
       "<style scoped>\n",
       "    .dataframe tbody tr th:only-of-type {\n",
       "        vertical-align: middle;\n",
       "    }\n",
       "\n",
       "    .dataframe tbody tr th {\n",
       "        vertical-align: top;\n",
       "    }\n",
       "\n",
       "    .dataframe thead th {\n",
       "        text-align: right;\n",
       "    }\n",
       "</style>\n",
       "<table border=\"1\" class=\"dataframe\">\n",
       "  <thead>\n",
       "    <tr style=\"text-align: right;\">\n",
       "      <th></th>\n",
       "      <th>id_student</th>\n",
       "      <th>module_presentation</th>\n",
       "      <th>id_assessment</th>\n",
       "      <th>date_submitted</th>\n",
       "      <th>score</th>\n",
       "      <th>module</th>\n",
       "      <th>presentation</th>\n",
       "      <th>assessment_type</th>\n",
       "      <th>date</th>\n",
       "      <th>weight</th>\n",
       "    </tr>\n",
       "  </thead>\n",
       "  <tbody>\n",
       "    <tr>\n",
       "      <th>0</th>\n",
       "      <td>{0: '11391', 1: '11391', 2: '11391', 3: '11391...</td>\n",
       "      <td>{0: 'AAA2013J', 1: 'AAA2013J', 2: 'AAA2013J', ...</td>\n",
       "      <td>{0: '1752', 1: '1753', 2: '1754', 3: '1755', 4...</td>\n",
       "      <td>{0: 18, 1: 53, 2: 115, 3: 164, 4: 212, 5: &lt;NA&gt;}</td>\n",
       "      <td>{0: 78, 1: 85, 2: 80, 3: 85, 4: 82, 5: &lt;NA&gt;}</td>\n",
       "      <td>{0: 'AAA', 1: 'AAA', 2: 'AAA', 3: 'AAA', 4: 'A...</td>\n",
       "      <td>{0: '2013J', 1: '2013J', 2: '2013J', 3: '2013J...</td>\n",
       "      <td>{0: 'TMA', 1: 'TMA', 2: 'TMA', 3: 'TMA', 4: 'T...</td>\n",
       "      <td>{0: 19.0, 1: 54.0, 2: 117.0, 3: 166.0, 4: 215....</td>\n",
       "      <td>{0: 10.0, 1: 20.0, 2: 20.0, 3: 20.0, 4: 30.0, ...</td>\n",
       "    </tr>\n",
       "    <tr>\n",
       "      <th>1</th>\n",
       "      <td>{0: '28400', 1: '28400', 2: '28400', 3: '28400...</td>\n",
       "      <td>{0: 'AAA2013J', 1: 'AAA2013J', 2: 'AAA2013J', ...</td>\n",
       "      <td>{0: '1752', 1: '1753', 2: '1754', 3: '1755', 4...</td>\n",
       "      <td>{0: 22, 1: 52, 2: 121, 3: 164, 4: 212, 5: &lt;NA&gt;}</td>\n",
       "      <td>{0: 70, 1: 68, 2: 70, 3: 64, 4: 60, 5: &lt;NA&gt;}</td>\n",
       "      <td>{0: 'AAA', 1: 'AAA', 2: 'AAA', 3: 'AAA', 4: 'A...</td>\n",
       "      <td>{0: '2013J', 1: '2013J', 2: '2013J', 3: '2013J...</td>\n",
       "      <td>{0: 'TMA', 1: 'TMA', 2: 'TMA', 3: 'TMA', 4: 'T...</td>\n",
       "      <td>{0: 19.0, 1: 54.0, 2: 117.0, 3: 166.0, 4: 215....</td>\n",
       "      <td>{0: 10.0, 1: 20.0, 2: 20.0, 3: 20.0, 4: 30.0, ...</td>\n",
       "    </tr>\n",
       "    <tr>\n",
       "      <th>2</th>\n",
       "      <td>{0: '31604', 1: '31604', 2: '31604', 3: '31604...</td>\n",
       "      <td>{0: 'AAA2013J', 1: 'AAA2013J', 2: 'AAA2013J', ...</td>\n",
       "      <td>{0: '1752', 1: '1753', 2: '1754', 3: '1755', 4...</td>\n",
       "      <td>{0: 17, 1: 51, 2: 115, 3: 165, 4: 213, 5: &lt;NA&gt;}</td>\n",
       "      <td>{0: 72, 1: 71, 2: 74, 3: 88, 4: 75, 5: &lt;NA&gt;}</td>\n",
       "      <td>{0: 'AAA', 1: 'AAA', 2: 'AAA', 3: 'AAA', 4: 'A...</td>\n",
       "      <td>{0: '2013J', 1: '2013J', 2: '2013J', 3: '2013J...</td>\n",
       "      <td>{0: 'TMA', 1: 'TMA', 2: 'TMA', 3: 'TMA', 4: 'T...</td>\n",
       "      <td>{0: 19.0, 1: 54.0, 2: 117.0, 3: 166.0, 4: 215....</td>\n",
       "      <td>{0: 10.0, 1: 20.0, 2: 20.0, 3: 20.0, 4: 30.0, ...</td>\n",
       "    </tr>\n",
       "    <tr>\n",
       "      <th>3</th>\n",
       "      <td>{0: '32885', 1: '32885', 2: '32885', 3: '32885...</td>\n",
       "      <td>{0: 'AAA2013J', 1: 'AAA2013J', 2: 'AAA2013J', ...</td>\n",
       "      <td>{0: '1752', 1: '1753', 2: '1754', 3: '1755', 4...</td>\n",
       "      <td>{0: 26, 1: 75, 2: 124, 3: 181, 4: 222, 5: &lt;NA&gt;}</td>\n",
       "      <td>{0: 69, 1: 30, 2: 63, 3: 35, 4: 75, 5: &lt;NA&gt;}</td>\n",
       "      <td>{0: 'AAA', 1: 'AAA', 2: 'AAA', 3: 'AAA', 4: 'A...</td>\n",
       "      <td>{0: '2013J', 1: '2013J', 2: '2013J', 3: '2013J...</td>\n",
       "      <td>{0: 'TMA', 1: 'TMA', 2: 'TMA', 3: 'TMA', 4: 'T...</td>\n",
       "      <td>{0: 19.0, 1: 54.0, 2: 117.0, 3: 166.0, 4: 215....</td>\n",
       "      <td>{0: 10.0, 1: 20.0, 2: 20.0, 3: 20.0, 4: 30.0, ...</td>\n",
       "    </tr>\n",
       "    <tr>\n",
       "      <th>4</th>\n",
       "      <td>{0: '38053', 1: '38053', 2: '38053', 3: '38053...</td>\n",
       "      <td>{0: 'AAA2013J', 1: 'AAA2013J', 2: 'AAA2013J', ...</td>\n",
       "      <td>{0: '1752', 1: '1753', 2: '1754', 3: '1755', 4...</td>\n",
       "      <td>{0: 19, 1: 64, 2: 117, 3: 166, 4: 215, 5: &lt;NA&gt;}</td>\n",
       "      <td>{0: 79, 1: 69, 2: 74, 3: 50, 4: 68, 5: &lt;NA&gt;}</td>\n",
       "      <td>{0: 'AAA', 1: 'AAA', 2: 'AAA', 3: 'AAA', 4: 'A...</td>\n",
       "      <td>{0: '2013J', 1: '2013J', 2: '2013J', 3: '2013J...</td>\n",
       "      <td>{0: 'TMA', 1: 'TMA', 2: 'TMA', 3: 'TMA', 4: 'T...</td>\n",
       "      <td>{0: 19.0, 1: 54.0, 2: 117.0, 3: 166.0, 4: 215....</td>\n",
       "      <td>{0: 10.0, 1: 20.0, 2: 20.0, 3: 20.0, 4: 30.0, ...</td>\n",
       "    </tr>\n",
       "    <tr>\n",
       "      <th>...</th>\n",
       "      <td>...</td>\n",
       "      <td>...</td>\n",
       "      <td>...</td>\n",
       "      <td>...</td>\n",
       "      <td>...</td>\n",
       "      <td>...</td>\n",
       "      <td>...</td>\n",
       "      <td>...</td>\n",
       "      <td>...</td>\n",
       "      <td>...</td>\n",
       "    </tr>\n",
       "    <tr>\n",
       "      <th>4326</th>\n",
       "      <td>{0: '2698257', 1: '2698257', 2: '2698257', 3: ...</td>\n",
       "      <td>{0: 'AAA2014J', 1: 'AAA2014J', 2: 'AAA2014J', ...</td>\n",
       "      <td>{0: '1758', 1: '1759', 2: '1760', 3: '1761', 4...</td>\n",
       "      <td>{0: 19, 1: 54, 2: 117, 3: 166, 4: 215}</td>\n",
       "      <td>{0: 74, 1: 73, 2: 69, 3: 78, 4: 69}</td>\n",
       "      <td>{0: &lt;NA&gt;, 1: &lt;NA&gt;, 2: &lt;NA&gt;, 3: &lt;NA&gt;, 4: &lt;NA&gt;}</td>\n",
       "      <td>{0: &lt;NA&gt;, 1: &lt;NA&gt;, 2: &lt;NA&gt;, 3: &lt;NA&gt;, 4: &lt;NA&gt;}</td>\n",
       "      <td>{0: &lt;NA&gt;, 1: &lt;NA&gt;, 2: &lt;NA&gt;, 3: &lt;NA&gt;, 4: &lt;NA&gt;}</td>\n",
       "      <td>{0: &lt;NA&gt;, 1: &lt;NA&gt;, 2: &lt;NA&gt;, 3: &lt;NA&gt;, 4: &lt;NA&gt;}</td>\n",
       "      <td>{0: &lt;NA&gt;, 1: &lt;NA&gt;, 2: &lt;NA&gt;, 3: &lt;NA&gt;, 4: &lt;NA&gt;}</td>\n",
       "    </tr>\n",
       "    <tr>\n",
       "      <th>4327</th>\n",
       "      <td>{0: '704156', 1: '704156', 2: '704156', 3: '70...</td>\n",
       "      <td>{0: 'AAA2014J', 1: 'AAA2014J', 2: 'AAA2014J', ...</td>\n",
       "      <td>{0: '1758', 1: '1759', 2: '1760', 3: '1761', 4...</td>\n",
       "      <td>{0: 19, 1: 54, 2: 117, 3: 166, 4: 215}</td>\n",
       "      <td>{0: 74, 1: 73, 2: 69, 3: 78, 4: 69}</td>\n",
       "      <td>{0: &lt;NA&gt;, 1: &lt;NA&gt;, 2: &lt;NA&gt;, 3: &lt;NA&gt;, 4: &lt;NA&gt;}</td>\n",
       "      <td>{0: &lt;NA&gt;, 1: &lt;NA&gt;, 2: &lt;NA&gt;, 3: &lt;NA&gt;, 4: &lt;NA&gt;}</td>\n",
       "      <td>{0: &lt;NA&gt;, 1: &lt;NA&gt;, 2: &lt;NA&gt;, 3: &lt;NA&gt;, 4: &lt;NA&gt;}</td>\n",
       "      <td>{0: &lt;NA&gt;, 1: &lt;NA&gt;, 2: &lt;NA&gt;, 3: &lt;NA&gt;, 4: &lt;NA&gt;}</td>\n",
       "      <td>{0: &lt;NA&gt;, 1: &lt;NA&gt;, 2: &lt;NA&gt;, 3: &lt;NA&gt;, 4: &lt;NA&gt;}</td>\n",
       "    </tr>\n",
       "    <tr>\n",
       "      <th>4328</th>\n",
       "      <td>{0: '705379', 1: '705379', 2: '705379', 3: '70...</td>\n",
       "      <td>{0: 'AAA2014J', 1: 'AAA2014J', 2: 'AAA2014J', ...</td>\n",
       "      <td>{0: '1758', 1: '1759', 2: '1760', 3: '1761', 4...</td>\n",
       "      <td>{0: 19, 1: 54, 2: 117, 3: 166, 4: 215}</td>\n",
       "      <td>{0: 74, 1: 73, 2: 69, 3: 78, 4: 69}</td>\n",
       "      <td>{0: &lt;NA&gt;, 1: &lt;NA&gt;, 2: &lt;NA&gt;, 3: &lt;NA&gt;, 4: &lt;NA&gt;}</td>\n",
       "      <td>{0: &lt;NA&gt;, 1: &lt;NA&gt;, 2: &lt;NA&gt;, 3: &lt;NA&gt;, 4: &lt;NA&gt;}</td>\n",
       "      <td>{0: &lt;NA&gt;, 1: &lt;NA&gt;, 2: &lt;NA&gt;, 3: &lt;NA&gt;, 4: &lt;NA&gt;}</td>\n",
       "      <td>{0: &lt;NA&gt;, 1: &lt;NA&gt;, 2: &lt;NA&gt;, 3: &lt;NA&gt;, 4: &lt;NA&gt;}</td>\n",
       "      <td>{0: &lt;NA&gt;, 1: &lt;NA&gt;, 2: &lt;NA&gt;, 3: &lt;NA&gt;, 4: &lt;NA&gt;}</td>\n",
       "    </tr>\n",
       "    <tr>\n",
       "      <th>4329</th>\n",
       "      <td>{0: '749412', 1: '749412', 2: '749412', 3: '74...</td>\n",
       "      <td>{0: 'AAA2014J', 1: 'AAA2014J', 2: 'AAA2014J', ...</td>\n",
       "      <td>{0: '1758', 1: '1759', 2: '1760', 3: '1761', 4...</td>\n",
       "      <td>{0: 19, 1: 54, 2: 117, 3: 166, 4: 215}</td>\n",
       "      <td>{0: 74, 1: 73, 2: 69, 3: 78, 4: 69}</td>\n",
       "      <td>{0: &lt;NA&gt;, 1: &lt;NA&gt;, 2: &lt;NA&gt;, 3: &lt;NA&gt;, 4: &lt;NA&gt;}</td>\n",
       "      <td>{0: &lt;NA&gt;, 1: &lt;NA&gt;, 2: &lt;NA&gt;, 3: &lt;NA&gt;, 4: &lt;NA&gt;}</td>\n",
       "      <td>{0: &lt;NA&gt;, 1: &lt;NA&gt;, 2: &lt;NA&gt;, 3: &lt;NA&gt;, 4: &lt;NA&gt;}</td>\n",
       "      <td>{0: &lt;NA&gt;, 1: &lt;NA&gt;, 2: &lt;NA&gt;, 3: &lt;NA&gt;, 4: &lt;NA&gt;}</td>\n",
       "      <td>{0: &lt;NA&gt;, 1: &lt;NA&gt;, 2: &lt;NA&gt;, 3: &lt;NA&gt;, 4: &lt;NA&gt;}</td>\n",
       "    </tr>\n",
       "    <tr>\n",
       "      <th>4330</th>\n",
       "      <td>{0: '760729', 1: '760729', 2: '760729', 3: '76...</td>\n",
       "      <td>{0: 'AAA2014J', 1: 'AAA2014J', 2: 'AAA2014J', ...</td>\n",
       "      <td>{0: '1758', 1: '1759', 2: '1760', 3: '1761', 4...</td>\n",
       "      <td>{0: 19, 1: 54, 2: 117, 3: 166, 4: 215}</td>\n",
       "      <td>{0: 74, 1: 73, 2: 69, 3: 78, 4: 69}</td>\n",
       "      <td>{0: &lt;NA&gt;, 1: &lt;NA&gt;, 2: &lt;NA&gt;, 3: &lt;NA&gt;, 4: &lt;NA&gt;}</td>\n",
       "      <td>{0: &lt;NA&gt;, 1: &lt;NA&gt;, 2: &lt;NA&gt;, 3: &lt;NA&gt;, 4: &lt;NA&gt;}</td>\n",
       "      <td>{0: &lt;NA&gt;, 1: &lt;NA&gt;, 2: &lt;NA&gt;, 3: &lt;NA&gt;, 4: &lt;NA&gt;}</td>\n",
       "      <td>{0: &lt;NA&gt;, 1: &lt;NA&gt;, 2: &lt;NA&gt;, 3: &lt;NA&gt;, 4: &lt;NA&gt;}</td>\n",
       "      <td>{0: &lt;NA&gt;, 1: &lt;NA&gt;, 2: &lt;NA&gt;, 3: &lt;NA&gt;, 4: &lt;NA&gt;}</td>\n",
       "    </tr>\n",
       "  </tbody>\n",
       "</table>\n",
       "<p>4331 rows × 10 columns</p>\n",
       "</div>"
      ],
      "text/plain": [
       "                                             id_student  \\\n",
       "0     {0: '11391', 1: '11391', 2: '11391', 3: '11391...   \n",
       "1     {0: '28400', 1: '28400', 2: '28400', 3: '28400...   \n",
       "2     {0: '31604', 1: '31604', 2: '31604', 3: '31604...   \n",
       "3     {0: '32885', 1: '32885', 2: '32885', 3: '32885...   \n",
       "4     {0: '38053', 1: '38053', 2: '38053', 3: '38053...   \n",
       "...                                                 ...   \n",
       "4326  {0: '2698257', 1: '2698257', 2: '2698257', 3: ...   \n",
       "4327  {0: '704156', 1: '704156', 2: '704156', 3: '70...   \n",
       "4328  {0: '705379', 1: '705379', 2: '705379', 3: '70...   \n",
       "4329  {0: '749412', 1: '749412', 2: '749412', 3: '74...   \n",
       "4330  {0: '760729', 1: '760729', 2: '760729', 3: '76...   \n",
       "\n",
       "                                    module_presentation  \\\n",
       "0     {0: 'AAA2013J', 1: 'AAA2013J', 2: 'AAA2013J', ...   \n",
       "1     {0: 'AAA2013J', 1: 'AAA2013J', 2: 'AAA2013J', ...   \n",
       "2     {0: 'AAA2013J', 1: 'AAA2013J', 2: 'AAA2013J', ...   \n",
       "3     {0: 'AAA2013J', 1: 'AAA2013J', 2: 'AAA2013J', ...   \n",
       "4     {0: 'AAA2013J', 1: 'AAA2013J', 2: 'AAA2013J', ...   \n",
       "...                                                 ...   \n",
       "4326  {0: 'AAA2014J', 1: 'AAA2014J', 2: 'AAA2014J', ...   \n",
       "4327  {0: 'AAA2014J', 1: 'AAA2014J', 2: 'AAA2014J', ...   \n",
       "4328  {0: 'AAA2014J', 1: 'AAA2014J', 2: 'AAA2014J', ...   \n",
       "4329  {0: 'AAA2014J', 1: 'AAA2014J', 2: 'AAA2014J', ...   \n",
       "4330  {0: 'AAA2014J', 1: 'AAA2014J', 2: 'AAA2014J', ...   \n",
       "\n",
       "                                          id_assessment  \\\n",
       "0     {0: '1752', 1: '1753', 2: '1754', 3: '1755', 4...   \n",
       "1     {0: '1752', 1: '1753', 2: '1754', 3: '1755', 4...   \n",
       "2     {0: '1752', 1: '1753', 2: '1754', 3: '1755', 4...   \n",
       "3     {0: '1752', 1: '1753', 2: '1754', 3: '1755', 4...   \n",
       "4     {0: '1752', 1: '1753', 2: '1754', 3: '1755', 4...   \n",
       "...                                                 ...   \n",
       "4326  {0: '1758', 1: '1759', 2: '1760', 3: '1761', 4...   \n",
       "4327  {0: '1758', 1: '1759', 2: '1760', 3: '1761', 4...   \n",
       "4328  {0: '1758', 1: '1759', 2: '1760', 3: '1761', 4...   \n",
       "4329  {0: '1758', 1: '1759', 2: '1760', 3: '1761', 4...   \n",
       "4330  {0: '1758', 1: '1759', 2: '1760', 3: '1761', 4...   \n",
       "\n",
       "                                       date_submitted  \\\n",
       "0     {0: 18, 1: 53, 2: 115, 3: 164, 4: 212, 5: <NA>}   \n",
       "1     {0: 22, 1: 52, 2: 121, 3: 164, 4: 212, 5: <NA>}   \n",
       "2     {0: 17, 1: 51, 2: 115, 3: 165, 4: 213, 5: <NA>}   \n",
       "3     {0: 26, 1: 75, 2: 124, 3: 181, 4: 222, 5: <NA>}   \n",
       "4     {0: 19, 1: 64, 2: 117, 3: 166, 4: 215, 5: <NA>}   \n",
       "...                                               ...   \n",
       "4326           {0: 19, 1: 54, 2: 117, 3: 166, 4: 215}   \n",
       "4327           {0: 19, 1: 54, 2: 117, 3: 166, 4: 215}   \n",
       "4328           {0: 19, 1: 54, 2: 117, 3: 166, 4: 215}   \n",
       "4329           {0: 19, 1: 54, 2: 117, 3: 166, 4: 215}   \n",
       "4330           {0: 19, 1: 54, 2: 117, 3: 166, 4: 215}   \n",
       "\n",
       "                                             score  \\\n",
       "0     {0: 78, 1: 85, 2: 80, 3: 85, 4: 82, 5: <NA>}   \n",
       "1     {0: 70, 1: 68, 2: 70, 3: 64, 4: 60, 5: <NA>}   \n",
       "2     {0: 72, 1: 71, 2: 74, 3: 88, 4: 75, 5: <NA>}   \n",
       "3     {0: 69, 1: 30, 2: 63, 3: 35, 4: 75, 5: <NA>}   \n",
       "4     {0: 79, 1: 69, 2: 74, 3: 50, 4: 68, 5: <NA>}   \n",
       "...                                            ...   \n",
       "4326           {0: 74, 1: 73, 2: 69, 3: 78, 4: 69}   \n",
       "4327           {0: 74, 1: 73, 2: 69, 3: 78, 4: 69}   \n",
       "4328           {0: 74, 1: 73, 2: 69, 3: 78, 4: 69}   \n",
       "4329           {0: 74, 1: 73, 2: 69, 3: 78, 4: 69}   \n",
       "4330           {0: 74, 1: 73, 2: 69, 3: 78, 4: 69}   \n",
       "\n",
       "                                                 module  \\\n",
       "0     {0: 'AAA', 1: 'AAA', 2: 'AAA', 3: 'AAA', 4: 'A...   \n",
       "1     {0: 'AAA', 1: 'AAA', 2: 'AAA', 3: 'AAA', 4: 'A...   \n",
       "2     {0: 'AAA', 1: 'AAA', 2: 'AAA', 3: 'AAA', 4: 'A...   \n",
       "3     {0: 'AAA', 1: 'AAA', 2: 'AAA', 3: 'AAA', 4: 'A...   \n",
       "4     {0: 'AAA', 1: 'AAA', 2: 'AAA', 3: 'AAA', 4: 'A...   \n",
       "...                                                 ...   \n",
       "4326      {0: <NA>, 1: <NA>, 2: <NA>, 3: <NA>, 4: <NA>}   \n",
       "4327      {0: <NA>, 1: <NA>, 2: <NA>, 3: <NA>, 4: <NA>}   \n",
       "4328      {0: <NA>, 1: <NA>, 2: <NA>, 3: <NA>, 4: <NA>}   \n",
       "4329      {0: <NA>, 1: <NA>, 2: <NA>, 3: <NA>, 4: <NA>}   \n",
       "4330      {0: <NA>, 1: <NA>, 2: <NA>, 3: <NA>, 4: <NA>}   \n",
       "\n",
       "                                           presentation  \\\n",
       "0     {0: '2013J', 1: '2013J', 2: '2013J', 3: '2013J...   \n",
       "1     {0: '2013J', 1: '2013J', 2: '2013J', 3: '2013J...   \n",
       "2     {0: '2013J', 1: '2013J', 2: '2013J', 3: '2013J...   \n",
       "3     {0: '2013J', 1: '2013J', 2: '2013J', 3: '2013J...   \n",
       "4     {0: '2013J', 1: '2013J', 2: '2013J', 3: '2013J...   \n",
       "...                                                 ...   \n",
       "4326      {0: <NA>, 1: <NA>, 2: <NA>, 3: <NA>, 4: <NA>}   \n",
       "4327      {0: <NA>, 1: <NA>, 2: <NA>, 3: <NA>, 4: <NA>}   \n",
       "4328      {0: <NA>, 1: <NA>, 2: <NA>, 3: <NA>, 4: <NA>}   \n",
       "4329      {0: <NA>, 1: <NA>, 2: <NA>, 3: <NA>, 4: <NA>}   \n",
       "4330      {0: <NA>, 1: <NA>, 2: <NA>, 3: <NA>, 4: <NA>}   \n",
       "\n",
       "                                        assessment_type  \\\n",
       "0     {0: 'TMA', 1: 'TMA', 2: 'TMA', 3: 'TMA', 4: 'T...   \n",
       "1     {0: 'TMA', 1: 'TMA', 2: 'TMA', 3: 'TMA', 4: 'T...   \n",
       "2     {0: 'TMA', 1: 'TMA', 2: 'TMA', 3: 'TMA', 4: 'T...   \n",
       "3     {0: 'TMA', 1: 'TMA', 2: 'TMA', 3: 'TMA', 4: 'T...   \n",
       "4     {0: 'TMA', 1: 'TMA', 2: 'TMA', 3: 'TMA', 4: 'T...   \n",
       "...                                                 ...   \n",
       "4326      {0: <NA>, 1: <NA>, 2: <NA>, 3: <NA>, 4: <NA>}   \n",
       "4327      {0: <NA>, 1: <NA>, 2: <NA>, 3: <NA>, 4: <NA>}   \n",
       "4328      {0: <NA>, 1: <NA>, 2: <NA>, 3: <NA>, 4: <NA>}   \n",
       "4329      {0: <NA>, 1: <NA>, 2: <NA>, 3: <NA>, 4: <NA>}   \n",
       "4330      {0: <NA>, 1: <NA>, 2: <NA>, 3: <NA>, 4: <NA>}   \n",
       "\n",
       "                                                   date  \\\n",
       "0     {0: 19.0, 1: 54.0, 2: 117.0, 3: 166.0, 4: 215....   \n",
       "1     {0: 19.0, 1: 54.0, 2: 117.0, 3: 166.0, 4: 215....   \n",
       "2     {0: 19.0, 1: 54.0, 2: 117.0, 3: 166.0, 4: 215....   \n",
       "3     {0: 19.0, 1: 54.0, 2: 117.0, 3: 166.0, 4: 215....   \n",
       "4     {0: 19.0, 1: 54.0, 2: 117.0, 3: 166.0, 4: 215....   \n",
       "...                                                 ...   \n",
       "4326      {0: <NA>, 1: <NA>, 2: <NA>, 3: <NA>, 4: <NA>}   \n",
       "4327      {0: <NA>, 1: <NA>, 2: <NA>, 3: <NA>, 4: <NA>}   \n",
       "4328      {0: <NA>, 1: <NA>, 2: <NA>, 3: <NA>, 4: <NA>}   \n",
       "4329      {0: <NA>, 1: <NA>, 2: <NA>, 3: <NA>, 4: <NA>}   \n",
       "4330      {0: <NA>, 1: <NA>, 2: <NA>, 3: <NA>, 4: <NA>}   \n",
       "\n",
       "                                                 weight  \n",
       "0     {0: 10.0, 1: 20.0, 2: 20.0, 3: 20.0, 4: 30.0, ...  \n",
       "1     {0: 10.0, 1: 20.0, 2: 20.0, 3: 20.0, 4: 30.0, ...  \n",
       "2     {0: 10.0, 1: 20.0, 2: 20.0, 3: 20.0, 4: 30.0, ...  \n",
       "3     {0: 10.0, 1: 20.0, 2: 20.0, 3: 20.0, 4: 30.0, ...  \n",
       "4     {0: 10.0, 1: 20.0, 2: 20.0, 3: 20.0, 4: 30.0, ...  \n",
       "...                                                 ...  \n",
       "4326      {0: <NA>, 1: <NA>, 2: <NA>, 3: <NA>, 4: <NA>}  \n",
       "4327      {0: <NA>, 1: <NA>, 2: <NA>, 3: <NA>, 4: <NA>}  \n",
       "4328      {0: <NA>, 1: <NA>, 2: <NA>, 3: <NA>, 4: <NA>}  \n",
       "4329      {0: <NA>, 1: <NA>, 2: <NA>, 3: <NA>, 4: <NA>}  \n",
       "4330      {0: <NA>, 1: <NA>, 2: <NA>, 3: <NA>, 4: <NA>}  \n",
       "\n",
       "[4331 rows x 10 columns]"
      ]
     },
     "execution_count": 466,
     "metadata": {},
     "output_type": "execute_result"
    }
   ],
   "source": [
    "dataframe.from_records(merged_assessments_plus)\n"
   ]
  },
  {
   "cell_type": "code",
   "execution_count": 326,
   "id": "50391931-c05a-4281-ba51-ca7fc9cabdd6",
   "metadata": {},
   "outputs": [],
   "source": [
    "def get_all_assessments():\n",
    "    # initiate an empty dataframe to store students with all exams\n",
    "    merged_assessments_plus = []\n",
    "\n",
    "    # iterate through rows of merged_assessments \n",
    "    for i, r in merged_assessments.iterrows():\n",
    "        # initiate an empty dataframe to temporarily store one student at a time\n",
    "        temp_df = dataframe()\n",
    "        student_assessments = merged_assessments[merged_assessments['id_student'] == r['id_student']]\n",
    "        student_assessments = student_assessments[student_assessments['module_presentation'] == r['module_presentation']]\n",
    "        module_assessments = assessments.loc[assessments['module_presentation'] == r['module_presentation']]\n",
    "        temp_df = student_assessments.merge(module_assessments, how='outer', on=['id_assessment', 'module_presentation'])\n",
    "        temp_df['id_student'] = r['id_student']\n",
    "        temp_df = temp_df.to_dict()\n",
    "        merged_assessments_plus.append(temp_df)\n",
    "        print(len(merged_assessments_plus), end = \"\\r\")"
   ]
  },
  {
   "cell_type": "code",
   "execution_count": 329,
   "id": "e8b763fd-136f-4501-a786-0922dd0fac83",
   "metadata": {},
   "outputs": [
    {
     "name": "stdout",
     "output_type": "stream",
     "text": [
      "10801"
     ]
    },
    {
     "ename": "KeyboardInterrupt",
     "evalue": "",
     "output_type": "error",
     "traceback": [
      "\u001b[1;31m---------------------------------------------------------------------------\u001b[0m",
      "\u001b[1;31mKeyboardInterrupt\u001b[0m                         Traceback (most recent call last)",
      "\u001b[1;32m<ipython-input-329-a5600153b518>\u001b[0m in \u001b[0;36m<module>\u001b[1;34m\u001b[0m\n\u001b[1;32m----> 1\u001b[1;33m \u001b[0mget_all_assessments\u001b[0m\u001b[1;33m(\u001b[0m\u001b[1;33m)\u001b[0m\u001b[1;33m\u001b[0m\u001b[1;33m\u001b[0m\u001b[0m\n\u001b[0m",
      "\u001b[1;32m<ipython-input-326-e4ffeafaf0ac>\u001b[0m in \u001b[0;36mget_all_assessments\u001b[1;34m()\u001b[0m\n\u001b[0;32m     14\u001b[0m         \u001b[0mtemp_df\u001b[0m \u001b[1;33m=\u001b[0m \u001b[0mtemp_df\u001b[0m\u001b[1;33m.\u001b[0m\u001b[0mto_dict\u001b[0m\u001b[1;33m(\u001b[0m\u001b[1;33m)\u001b[0m\u001b[1;33m\u001b[0m\u001b[1;33m\u001b[0m\u001b[0m\n\u001b[0;32m     15\u001b[0m         \u001b[0mmerged_assessments_plus\u001b[0m\u001b[1;33m.\u001b[0m\u001b[0mappend\u001b[0m\u001b[1;33m(\u001b[0m\u001b[0mtemp_df\u001b[0m\u001b[1;33m)\u001b[0m\u001b[1;33m\u001b[0m\u001b[1;33m\u001b[0m\u001b[0m\n\u001b[1;32m---> 16\u001b[1;33m         \u001b[0mprint\u001b[0m\u001b[1;33m(\u001b[0m\u001b[0mlen\u001b[0m\u001b[1;33m(\u001b[0m\u001b[0mmerged_assessments_plus\u001b[0m\u001b[1;33m)\u001b[0m\u001b[1;33m,\u001b[0m \u001b[0mend\u001b[0m \u001b[1;33m=\u001b[0m \u001b[1;34m\"\\r\"\u001b[0m\u001b[1;33m)\u001b[0m\u001b[1;33m\u001b[0m\u001b[1;33m\u001b[0m\u001b[0m\n\u001b[0m",
      "\u001b[1;32m~\\anaconda3\\envs\\py39\\lib\\site-packages\\ipykernel\\iostream.py\u001b[0m in \u001b[0;36mwrite\u001b[1;34m(self, string)\u001b[0m\n\u001b[0;32m    402\u001b[0m             \u001b[0mis_child\u001b[0m \u001b[1;33m=\u001b[0m \u001b[1;33m(\u001b[0m\u001b[1;32mnot\u001b[0m \u001b[0mself\u001b[0m\u001b[1;33m.\u001b[0m\u001b[0m_is_master_process\u001b[0m\u001b[1;33m(\u001b[0m\u001b[1;33m)\u001b[0m\u001b[1;33m)\u001b[0m\u001b[1;33m\u001b[0m\u001b[1;33m\u001b[0m\u001b[0m\n\u001b[0;32m    403\u001b[0m             \u001b[1;31m# only touch the buffer in the IO thread to avoid races\u001b[0m\u001b[1;33m\u001b[0m\u001b[1;33m\u001b[0m\u001b[1;33m\u001b[0m\u001b[0m\n\u001b[1;32m--> 404\u001b[1;33m             \u001b[0mself\u001b[0m\u001b[1;33m.\u001b[0m\u001b[0mpub_thread\u001b[0m\u001b[1;33m.\u001b[0m\u001b[0mschedule\u001b[0m\u001b[1;33m(\u001b[0m\u001b[1;32mlambda\u001b[0m \u001b[1;33m:\u001b[0m \u001b[0mself\u001b[0m\u001b[1;33m.\u001b[0m\u001b[0m_buffer\u001b[0m\u001b[1;33m.\u001b[0m\u001b[0mwrite\u001b[0m\u001b[1;33m(\u001b[0m\u001b[0mstring\u001b[0m\u001b[1;33m)\u001b[0m\u001b[1;33m)\u001b[0m\u001b[1;33m\u001b[0m\u001b[1;33m\u001b[0m\u001b[0m\n\u001b[0m\u001b[0;32m    405\u001b[0m             \u001b[1;32mif\u001b[0m \u001b[0mis_child\u001b[0m\u001b[1;33m:\u001b[0m\u001b[1;33m\u001b[0m\u001b[1;33m\u001b[0m\u001b[0m\n\u001b[0;32m    406\u001b[0m                 \u001b[1;31m# mp.Pool cannot be trusted to flush promptly (or ever),\u001b[0m\u001b[1;33m\u001b[0m\u001b[1;33m\u001b[0m\u001b[1;33m\u001b[0m\u001b[0m\n",
      "\u001b[1;32m~\\anaconda3\\envs\\py39\\lib\\site-packages\\ipykernel\\iostream.py\u001b[0m in \u001b[0;36mschedule\u001b[1;34m(self, f)\u001b[0m\n\u001b[0;32m    203\u001b[0m             \u001b[0mself\u001b[0m\u001b[1;33m.\u001b[0m\u001b[0m_events\u001b[0m\u001b[1;33m.\u001b[0m\u001b[0mappend\u001b[0m\u001b[1;33m(\u001b[0m\u001b[0mf\u001b[0m\u001b[1;33m)\u001b[0m\u001b[1;33m\u001b[0m\u001b[1;33m\u001b[0m\u001b[0m\n\u001b[0;32m    204\u001b[0m             \u001b[1;31m# wake event thread (message content is ignored)\u001b[0m\u001b[1;33m\u001b[0m\u001b[1;33m\u001b[0m\u001b[1;33m\u001b[0m\u001b[0m\n\u001b[1;32m--> 205\u001b[1;33m             \u001b[0mself\u001b[0m\u001b[1;33m.\u001b[0m\u001b[0m_event_pipe\u001b[0m\u001b[1;33m.\u001b[0m\u001b[0msend\u001b[0m\u001b[1;33m(\u001b[0m\u001b[1;34mb''\u001b[0m\u001b[1;33m)\u001b[0m\u001b[1;33m\u001b[0m\u001b[1;33m\u001b[0m\u001b[0m\n\u001b[0m\u001b[0;32m    206\u001b[0m         \u001b[1;32melse\u001b[0m\u001b[1;33m:\u001b[0m\u001b[1;33m\u001b[0m\u001b[1;33m\u001b[0m\u001b[0m\n\u001b[0;32m    207\u001b[0m             \u001b[0mf\u001b[0m\u001b[1;33m(\u001b[0m\u001b[1;33m)\u001b[0m\u001b[1;33m\u001b[0m\u001b[1;33m\u001b[0m\u001b[0m\n",
      "\u001b[1;32m~\\anaconda3\\envs\\py39\\lib\\site-packages\\zmq\\sugar\\socket.py\u001b[0m in \u001b[0;36msend\u001b[1;34m(self, data, flags, copy, track, routing_id, group)\u001b[0m\n\u001b[0;32m    489\u001b[0m                                  copy_threshold=self.copy_threshold)\n\u001b[0;32m    490\u001b[0m             \u001b[0mdata\u001b[0m\u001b[1;33m.\u001b[0m\u001b[0mgroup\u001b[0m \u001b[1;33m=\u001b[0m \u001b[0mgroup\u001b[0m\u001b[1;33m\u001b[0m\u001b[1;33m\u001b[0m\u001b[0m\n\u001b[1;32m--> 491\u001b[1;33m         \u001b[1;32mreturn\u001b[0m \u001b[0msuper\u001b[0m\u001b[1;33m(\u001b[0m\u001b[0mSocket\u001b[0m\u001b[1;33m,\u001b[0m \u001b[0mself\u001b[0m\u001b[1;33m)\u001b[0m\u001b[1;33m.\u001b[0m\u001b[0msend\u001b[0m\u001b[1;33m(\u001b[0m\u001b[0mdata\u001b[0m\u001b[1;33m,\u001b[0m \u001b[0mflags\u001b[0m\u001b[1;33m=\u001b[0m\u001b[0mflags\u001b[0m\u001b[1;33m,\u001b[0m \u001b[0mcopy\u001b[0m\u001b[1;33m=\u001b[0m\u001b[0mcopy\u001b[0m\u001b[1;33m,\u001b[0m \u001b[0mtrack\u001b[0m\u001b[1;33m=\u001b[0m\u001b[0mtrack\u001b[0m\u001b[1;33m)\u001b[0m\u001b[1;33m\u001b[0m\u001b[1;33m\u001b[0m\u001b[0m\n\u001b[0m\u001b[0;32m    492\u001b[0m \u001b[1;33m\u001b[0m\u001b[0m\n\u001b[0;32m    493\u001b[0m     \u001b[1;32mdef\u001b[0m \u001b[0msend_multipart\u001b[0m\u001b[1;33m(\u001b[0m\u001b[0mself\u001b[0m\u001b[1;33m,\u001b[0m \u001b[0mmsg_parts\u001b[0m\u001b[1;33m,\u001b[0m \u001b[0mflags\u001b[0m\u001b[1;33m=\u001b[0m\u001b[1;36m0\u001b[0m\u001b[1;33m,\u001b[0m \u001b[0mcopy\u001b[0m\u001b[1;33m=\u001b[0m\u001b[1;32mTrue\u001b[0m\u001b[1;33m,\u001b[0m \u001b[0mtrack\u001b[0m\u001b[1;33m=\u001b[0m\u001b[1;32mFalse\u001b[0m\u001b[1;33m,\u001b[0m \u001b[1;33m**\u001b[0m\u001b[0mkwargs\u001b[0m\u001b[1;33m)\u001b[0m\u001b[1;33m:\u001b[0m\u001b[1;33m\u001b[0m\u001b[1;33m\u001b[0m\u001b[0m\n",
      "\u001b[1;32mzmq/backend/cython/socket.pyx\u001b[0m in \u001b[0;36mzmq.backend.cython.socket.Socket.send\u001b[1;34m()\u001b[0m\n",
      "\u001b[1;32mzmq/backend/cython/socket.pyx\u001b[0m in \u001b[0;36mzmq.backend.cython.socket.Socket.send\u001b[1;34m()\u001b[0m\n",
      "\u001b[1;32mzmq/backend/cython/socket.pyx\u001b[0m in \u001b[0;36mzmq.backend.cython.socket._send_copy\u001b[1;34m()\u001b[0m\n",
      "\u001b[1;32m~\\anaconda3\\envs\\py39\\lib\\site-packages\\zmq\\backend\\cython\\checkrc.pxd\u001b[0m in \u001b[0;36mzmq.backend.cython.checkrc._check_rc\u001b[1;34m()\u001b[0m\n",
      "\u001b[1;31mKeyboardInterrupt\u001b[0m: "
     ]
    }
   ],
   "source": [
    "get_all_assessments()"
   ]
  },
  {
   "cell_type": "code",
   "execution_count": 327,
   "id": "a4ae924d-e10d-4d0f-9a6c-c499f9c502b2",
   "metadata": {},
   "outputs": [
    {
     "name": "stdout",
     "output_type": "stream",
     "text": [
      "*** KeyboardInterrupt exception caught in code being profiled."
     ]
    },
    {
     "data": {
      "text/plain": [
       "Timer unit: 1e-07 s\n",
       "\n",
       "Total time: 12.2085 s\n",
       "File: <ipython-input-326-e4ffeafaf0ac>\n",
       "Function: get_all_assessments at line 1\n",
       "\n",
       "Line #      Hits         Time  Per Hit   % Time  Line Contents\n",
       "==============================================================\n",
       "     1                                           def get_all_assessments():\n",
       "     2                                               # initiate an empty dataframe to store students with all exams\n",
       "     3         1         29.0     29.0      0.0      merged_assessments_plus = []\n",
       "     4                                           \n",
       "     5                                               # iterate through rows of merged_assessments \n",
       "     6       195    1008841.0   5173.5      0.8      for i, r in merged_assessments.iterrows():\n",
       "     7                                                   # initiate an empty dataframe to temporarily store one student at a time\n",
       "     8       195    1503179.0   7708.6      1.2          temp_df = dataframe()\n",
       "     9       195   55570819.0 284978.6     45.5          student_assessments = merged_assessments[merged_assessments['id_student'] == r['id_student']]\n",
       "    10       194    7473904.0  38525.3      6.1          student_assessments = student_assessments[student_assessments['module_presentation']  == r['module_presentation']]\n",
       "    11       194    4737672.0  24421.0      3.9          module_assessments = assessments.loc[assessments['module_presentation'] == r['module_presentation']]\n",
       "    12       194   42998238.0 221640.4     35.2          temp_df = student_assessments.merge(module_assessments, how='outer', on=['id_assessment', 'module_presentation'])\n",
       "    13       194    1064673.0   5488.0      0.9          temp_df['id_student'] = r['id_student']\n",
       "    14       194    7403636.0  38163.1      6.1          temp_df = temp_df.to_dict()\n",
       "    15       194       7894.0     40.7      0.0          merged_assessments_plus.append(temp_df)\n",
       "    16       194     315807.0   1627.9      0.3          print(len(merged_assessments_plus), end = \"\\r\")"
      ]
     },
     "metadata": {},
     "output_type": "display_data"
    }
   ],
   "source": [
    "%lprun -f get_all_assessments get_all_assessments()\n"
   ]
  },
  {
   "cell_type": "code",
   "execution_count": 322,
   "id": "1d54728e-14fd-459b-874d-a818f0697507",
   "metadata": {
    "jupyter": {
     "source_hidden": true
    },
    "tags": []
   },
   "outputs": [
    {
     "name": "stdout",
     "output_type": "stream",
     "text": [
      "147*** KeyboardInterrupt exception caught in code being profiled."
     ]
    },
    {
     "data": {
      "text/plain": [
       "Timer unit: 1e-07 s\n",
       "\n",
       "Total time: 8.3492 s\n",
       "File: <ipython-input-321-2a2b3ff27334>\n",
       "Function: get_all_assessments at line 1\n",
       "\n",
       "Line #      Hits         Time  Per Hit   % Time  Line Contents\n",
       "==============================================================\n",
       "     1                                           def get_all_assessments():\n",
       "     2                                               # initiate an empty dataframe to store students with all exams\n",
       "     3         1         28.0     28.0      0.0      merged_assessments_plus = []\n",
       "     4                                           \n",
       "     5                                               # iterate through rows of merged_assessments \n",
       "     6       147     872606.0   5936.1      1.0      for i, r in merged_assessments.iterrows():\n",
       "     7                                                   # initiate an empty dataframe to temporarily store one student at a time\n",
       "     8       147    1127364.0   7669.1      1.4          temp_df = dataframe()\n",
       "     9       147   44063615.0 299752.5     52.8          student_assessments = dataframe(merged_assessments.loc[merged_assessments['id_student'] == r['id_student'], ['id_student', 'module_presentation', 'id_assessment', 'date_submitted', 'score']])\n",
       "    10       147    3875955.0  26367.0      4.6          student_assessments = student_assessments[student_assessments['module_presentation']  == r['module_presentation']]\n",
       "    11       147    3625265.0  24661.7      4.3          module_assessments = assessments.loc[assessments['module_presentation'] == r['module_presentation']]\n",
       "    12       147   25598544.0 174139.8     30.7          temp_df = student_assessments.merge(module_assessments, how='outer', on=['id_assessment', 'module_presentation'])\n",
       "    13       147     801013.0   5449.1      1.0          temp_df['id_student'] = r['id_student']\n",
       "    14       147    3247494.0  22091.8      3.9          temp_df = temp_df.to_dict()\n",
       "    15       147       5490.0     37.3      0.0          merged_assessments_plus.append(temp_df)\n",
       "    16       147     274615.0   1868.1      0.3          print(len(merged_assessments_plus), end = \"\\r\")"
      ]
     },
     "metadata": {},
     "output_type": "display_data"
    }
   ],
   "source": [
    "%lprun -f get_all_assessments get_all_assessments()\n"
   ]
  },
  {
   "cell_type": "code",
   "execution_count": 305,
   "id": "61b71186-feba-4fa4-ad77-00d5debc1012",
   "metadata": {
    "collapsed": true,
    "jupyter": {
     "outputs_hidden": true
    },
    "tags": []
   },
   "outputs": [
    {
     "name": "stdout",
     "output_type": "stream",
     "text": [
      "1669\r"
     ]
    },
    {
     "ename": "KeyboardInterrupt",
     "evalue": "",
     "output_type": "error",
     "traceback": [
      "\u001b[1;31m---------------------------------------------------------------------------\u001b[0m",
      "\u001b[1;31mKeyboardInterrupt\u001b[0m                         Traceback (most recent call last)",
      "\u001b[1;32m<ipython-input-305-a5600153b518>\u001b[0m in \u001b[0;36m<module>\u001b[1;34m\u001b[0m\n\u001b[1;32m----> 1\u001b[1;33m \u001b[0mget_all_assessments\u001b[0m\u001b[1;33m(\u001b[0m\u001b[1;33m)\u001b[0m\u001b[1;33m\u001b[0m\u001b[1;33m\u001b[0m\u001b[0m\n\u001b[0m",
      "\u001b[1;32m<ipython-input-304-5c80025da8c1>\u001b[0m in \u001b[0;36mget_all_assessments\u001b[1;34m()\u001b[0m\n\u001b[0;32m      9\u001b[0m             \u001b[0mstudent_assessments\u001b[0m \u001b[1;33m=\u001b[0m \u001b[0mdataframe\u001b[0m\u001b[1;33m(\u001b[0m\u001b[0mmerged_assessments\u001b[0m\u001b[1;33m.\u001b[0m\u001b[0mloc\u001b[0m\u001b[1;33m[\u001b[0m\u001b[1;33m(\u001b[0m\u001b[0mmerged_assessments\u001b[0m\u001b[1;33m[\u001b[0m\u001b[1;34m'id_student'\u001b[0m\u001b[1;33m]\u001b[0m \u001b[1;33m==\u001b[0m \u001b[0mr\u001b[0m\u001b[1;33m[\u001b[0m\u001b[1;34m'id_student'\u001b[0m\u001b[1;33m]\u001b[0m\u001b[1;33m)\u001b[0m \u001b[1;33m&\u001b[0m \u001b[1;33m(\u001b[0m\u001b[0mmerged_assessments\u001b[0m\u001b[1;33m[\u001b[0m\u001b[1;34m'module_presentation'\u001b[0m\u001b[1;33m]\u001b[0m \u001b[1;33m==\u001b[0m \u001b[0mr\u001b[0m\u001b[1;33m[\u001b[0m\u001b[1;34m'module_presentation'\u001b[0m\u001b[1;33m]\u001b[0m\u001b[1;33m)\u001b[0m\u001b[1;33m,\u001b[0m \u001b[1;33m[\u001b[0m\u001b[1;34m'id_student'\u001b[0m\u001b[1;33m,\u001b[0m \u001b[1;34m'module_presentation'\u001b[0m\u001b[1;33m,\u001b[0m \u001b[1;34m'id_assessment'\u001b[0m\u001b[1;33m,\u001b[0m \u001b[1;34m'date_submitted'\u001b[0m\u001b[1;33m,\u001b[0m \u001b[1;34m'score'\u001b[0m\u001b[1;33m]\u001b[0m\u001b[1;33m]\u001b[0m\u001b[1;33m)\u001b[0m\u001b[1;33m\u001b[0m\u001b[1;33m\u001b[0m\u001b[0m\n\u001b[0;32m     10\u001b[0m             \u001b[0mmodule_assessments\u001b[0m \u001b[1;33m=\u001b[0m \u001b[0massessments\u001b[0m\u001b[1;33m.\u001b[0m\u001b[0mloc\u001b[0m\u001b[1;33m[\u001b[0m\u001b[0massessments\u001b[0m\u001b[1;33m[\u001b[0m\u001b[1;34m'module_presentation'\u001b[0m\u001b[1;33m]\u001b[0m \u001b[1;33m==\u001b[0m \u001b[0mr\u001b[0m\u001b[1;33m[\u001b[0m\u001b[1;34m'module_presentation'\u001b[0m\u001b[1;33m]\u001b[0m\u001b[1;33m]\u001b[0m\u001b[1;33m\u001b[0m\u001b[1;33m\u001b[0m\u001b[0m\n\u001b[1;32m---> 11\u001b[1;33m             \u001b[0mtemp_df\u001b[0m \u001b[1;33m=\u001b[0m \u001b[0mstudent_assessments\u001b[0m\u001b[1;33m.\u001b[0m\u001b[0mmerge\u001b[0m\u001b[1;33m(\u001b[0m\u001b[0mmodule_assessments\u001b[0m\u001b[1;33m,\u001b[0m \u001b[0mhow\u001b[0m\u001b[1;33m=\u001b[0m\u001b[1;34m'outer'\u001b[0m\u001b[1;33m,\u001b[0m \u001b[0mon\u001b[0m\u001b[1;33m=\u001b[0m\u001b[1;33m[\u001b[0m\u001b[1;34m'id_assessment'\u001b[0m\u001b[1;33m,\u001b[0m \u001b[1;34m'module_presentation'\u001b[0m\u001b[1;33m]\u001b[0m\u001b[1;33m)\u001b[0m\u001b[1;33m\u001b[0m\u001b[1;33m\u001b[0m\u001b[0m\n\u001b[0m\u001b[0;32m     12\u001b[0m             \u001b[0mtemp_df\u001b[0m\u001b[1;33m[\u001b[0m\u001b[1;34m'id_student'\u001b[0m\u001b[1;33m]\u001b[0m \u001b[1;33m=\u001b[0m \u001b[0mr\u001b[0m\u001b[1;33m[\u001b[0m\u001b[1;34m'id_student'\u001b[0m\u001b[1;33m]\u001b[0m\u001b[1;33m\u001b[0m\u001b[1;33m\u001b[0m\u001b[0m\n\u001b[0;32m     13\u001b[0m             \u001b[0mtemp_df\u001b[0m \u001b[1;33m=\u001b[0m \u001b[0mtemp_df\u001b[0m\u001b[1;33m.\u001b[0m\u001b[0mto_dict\u001b[0m\u001b[1;33m(\u001b[0m\u001b[1;33m)\u001b[0m\u001b[1;33m\u001b[0m\u001b[1;33m\u001b[0m\u001b[0m\n",
      "\u001b[1;32m~\\anaconda3\\envs\\py39\\lib\\site-packages\\pandas\\core\\frame.py\u001b[0m in \u001b[0;36mmerge\u001b[1;34m(self, right, how, on, left_on, right_on, left_index, right_index, sort, suffixes, copy, indicator, validate)\u001b[0m\n\u001b[0;32m   9184\u001b[0m         \u001b[1;32mfrom\u001b[0m \u001b[0mpandas\u001b[0m\u001b[1;33m.\u001b[0m\u001b[0mcore\u001b[0m\u001b[1;33m.\u001b[0m\u001b[0mreshape\u001b[0m\u001b[1;33m.\u001b[0m\u001b[0mmerge\u001b[0m \u001b[1;32mimport\u001b[0m \u001b[0mmerge\u001b[0m\u001b[1;33m\u001b[0m\u001b[1;33m\u001b[0m\u001b[0m\n\u001b[0;32m   9185\u001b[0m \u001b[1;33m\u001b[0m\u001b[0m\n\u001b[1;32m-> 9186\u001b[1;33m         return merge(\n\u001b[0m\u001b[0;32m   9187\u001b[0m             \u001b[0mself\u001b[0m\u001b[1;33m,\u001b[0m\u001b[1;33m\u001b[0m\u001b[1;33m\u001b[0m\u001b[0m\n\u001b[0;32m   9188\u001b[0m             \u001b[0mright\u001b[0m\u001b[1;33m,\u001b[0m\u001b[1;33m\u001b[0m\u001b[1;33m\u001b[0m\u001b[0m\n",
      "\u001b[1;32m~\\anaconda3\\envs\\py39\\lib\\site-packages\\pandas\\core\\reshape\\merge.py\u001b[0m in \u001b[0;36mmerge\u001b[1;34m(left, right, how, on, left_on, right_on, left_index, right_index, sort, suffixes, copy, indicator, validate)\u001b[0m\n\u001b[0;32m    120\u001b[0m         \u001b[0mvalidate\u001b[0m\u001b[1;33m=\u001b[0m\u001b[0mvalidate\u001b[0m\u001b[1;33m,\u001b[0m\u001b[1;33m\u001b[0m\u001b[1;33m\u001b[0m\u001b[0m\n\u001b[0;32m    121\u001b[0m     )\n\u001b[1;32m--> 122\u001b[1;33m     \u001b[1;32mreturn\u001b[0m \u001b[0mop\u001b[0m\u001b[1;33m.\u001b[0m\u001b[0mget_result\u001b[0m\u001b[1;33m(\u001b[0m\u001b[1;33m)\u001b[0m\u001b[1;33m\u001b[0m\u001b[1;33m\u001b[0m\u001b[0m\n\u001b[0m\u001b[0;32m    123\u001b[0m \u001b[1;33m\u001b[0m\u001b[0m\n\u001b[0;32m    124\u001b[0m \u001b[1;33m\u001b[0m\u001b[0m\n",
      "\u001b[1;32m~\\anaconda3\\envs\\py39\\lib\\site-packages\\pandas\\core\\reshape\\merge.py\u001b[0m in \u001b[0;36mget_result\u001b[1;34m(self)\u001b[0m\n\u001b[0;32m    736\u001b[0m             \u001b[0mresult\u001b[0m \u001b[1;33m=\u001b[0m \u001b[0mself\u001b[0m\u001b[1;33m.\u001b[0m\u001b[0m_indicator_post_merge\u001b[0m\u001b[1;33m(\u001b[0m\u001b[0mresult\u001b[0m\u001b[1;33m)\u001b[0m\u001b[1;33m\u001b[0m\u001b[1;33m\u001b[0m\u001b[0m\n\u001b[0;32m    737\u001b[0m \u001b[1;33m\u001b[0m\u001b[0m\n\u001b[1;32m--> 738\u001b[1;33m         \u001b[0mself\u001b[0m\u001b[1;33m.\u001b[0m\u001b[0m_maybe_add_join_keys\u001b[0m\u001b[1;33m(\u001b[0m\u001b[0mresult\u001b[0m\u001b[1;33m,\u001b[0m \u001b[0mleft_indexer\u001b[0m\u001b[1;33m,\u001b[0m \u001b[0mright_indexer\u001b[0m\u001b[1;33m)\u001b[0m\u001b[1;33m\u001b[0m\u001b[1;33m\u001b[0m\u001b[0m\n\u001b[0m\u001b[0;32m    739\u001b[0m \u001b[1;33m\u001b[0m\u001b[0m\n\u001b[0;32m    740\u001b[0m         \u001b[0mself\u001b[0m\u001b[1;33m.\u001b[0m\u001b[0m_maybe_restore_index_levels\u001b[0m\u001b[1;33m(\u001b[0m\u001b[0mresult\u001b[0m\u001b[1;33m)\u001b[0m\u001b[1;33m\u001b[0m\u001b[1;33m\u001b[0m\u001b[0m\n",
      "\u001b[1;32m~\\anaconda3\\envs\\py39\\lib\\site-packages\\pandas\\core\\reshape\\merge.py\u001b[0m in \u001b[0;36m_maybe_add_join_keys\u001b[1;34m(self, result, left_indexer, right_indexer)\u001b[0m\n\u001b[0;32m    914\u001b[0m \u001b[1;33m\u001b[0m\u001b[0m\n\u001b[0;32m    915\u001b[0m                 \u001b[1;32mif\u001b[0m \u001b[0mresult\u001b[0m\u001b[1;33m.\u001b[0m\u001b[0m_is_label_reference\u001b[0m\u001b[1;33m(\u001b[0m\u001b[0mname\u001b[0m\u001b[1;33m)\u001b[0m\u001b[1;33m:\u001b[0m\u001b[1;33m\u001b[0m\u001b[1;33m\u001b[0m\u001b[0m\n\u001b[1;32m--> 916\u001b[1;33m                     \u001b[0mresult\u001b[0m\u001b[1;33m[\u001b[0m\u001b[0mname\u001b[0m\u001b[1;33m]\u001b[0m \u001b[1;33m=\u001b[0m \u001b[0mkey_col\u001b[0m\u001b[1;33m\u001b[0m\u001b[1;33m\u001b[0m\u001b[0m\n\u001b[0m\u001b[0;32m    917\u001b[0m                 \u001b[1;32melif\u001b[0m \u001b[0mresult\u001b[0m\u001b[1;33m.\u001b[0m\u001b[0m_is_level_reference\u001b[0m\u001b[1;33m(\u001b[0m\u001b[0mname\u001b[0m\u001b[1;33m)\u001b[0m\u001b[1;33m:\u001b[0m\u001b[1;33m\u001b[0m\u001b[1;33m\u001b[0m\u001b[0m\n\u001b[0;32m    918\u001b[0m                     \u001b[1;32mif\u001b[0m \u001b[0misinstance\u001b[0m\u001b[1;33m(\u001b[0m\u001b[0mresult\u001b[0m\u001b[1;33m.\u001b[0m\u001b[0mindex\u001b[0m\u001b[1;33m,\u001b[0m \u001b[0mMultiIndex\u001b[0m\u001b[1;33m)\u001b[0m\u001b[1;33m:\u001b[0m\u001b[1;33m\u001b[0m\u001b[1;33m\u001b[0m\u001b[0m\n",
      "\u001b[1;32m~\\anaconda3\\envs\\py39\\lib\\site-packages\\pandas\\core\\frame.py\u001b[0m in \u001b[0;36m__setitem__\u001b[1;34m(self, key, value)\u001b[0m\n\u001b[0;32m   3605\u001b[0m         \u001b[1;32melse\u001b[0m\u001b[1;33m:\u001b[0m\u001b[1;33m\u001b[0m\u001b[1;33m\u001b[0m\u001b[0m\n\u001b[0;32m   3606\u001b[0m             \u001b[1;31m# set column\u001b[0m\u001b[1;33m\u001b[0m\u001b[1;33m\u001b[0m\u001b[1;33m\u001b[0m\u001b[0m\n\u001b[1;32m-> 3607\u001b[1;33m             \u001b[0mself\u001b[0m\u001b[1;33m.\u001b[0m\u001b[0m_set_item\u001b[0m\u001b[1;33m(\u001b[0m\u001b[0mkey\u001b[0m\u001b[1;33m,\u001b[0m \u001b[0mvalue\u001b[0m\u001b[1;33m)\u001b[0m\u001b[1;33m\u001b[0m\u001b[1;33m\u001b[0m\u001b[0m\n\u001b[0m\u001b[0;32m   3608\u001b[0m \u001b[1;33m\u001b[0m\u001b[0m\n\u001b[0;32m   3609\u001b[0m     \u001b[1;32mdef\u001b[0m \u001b[0m_setitem_slice\u001b[0m\u001b[1;33m(\u001b[0m\u001b[0mself\u001b[0m\u001b[1;33m,\u001b[0m \u001b[0mkey\u001b[0m\u001b[1;33m:\u001b[0m \u001b[0mslice\u001b[0m\u001b[1;33m,\u001b[0m \u001b[0mvalue\u001b[0m\u001b[1;33m)\u001b[0m\u001b[1;33m:\u001b[0m\u001b[1;33m\u001b[0m\u001b[1;33m\u001b[0m\u001b[0m\n",
      "\u001b[1;32m~\\anaconda3\\envs\\py39\\lib\\site-packages\\pandas\\core\\frame.py\u001b[0m in \u001b[0;36m_set_item\u001b[1;34m(self, key, value)\u001b[0m\n\u001b[0;32m   3790\u001b[0m                     \u001b[0mvalue\u001b[0m \u001b[1;33m=\u001b[0m \u001b[0mnp\u001b[0m\u001b[1;33m.\u001b[0m\u001b[0mtile\u001b[0m\u001b[1;33m(\u001b[0m\u001b[0mvalue\u001b[0m\u001b[1;33m,\u001b[0m \u001b[1;33m(\u001b[0m\u001b[0mlen\u001b[0m\u001b[1;33m(\u001b[0m\u001b[0mexisting_piece\u001b[0m\u001b[1;33m.\u001b[0m\u001b[0mcolumns\u001b[0m\u001b[1;33m)\u001b[0m\u001b[1;33m,\u001b[0m \u001b[1;36m1\u001b[0m\u001b[1;33m)\u001b[0m\u001b[1;33m)\u001b[0m\u001b[1;33m.\u001b[0m\u001b[0mT\u001b[0m\u001b[1;33m\u001b[0m\u001b[1;33m\u001b[0m\u001b[0m\n\u001b[0;32m   3791\u001b[0m \u001b[1;33m\u001b[0m\u001b[0m\n\u001b[1;32m-> 3792\u001b[1;33m         \u001b[0mself\u001b[0m\u001b[1;33m.\u001b[0m\u001b[0m_set_item_mgr\u001b[0m\u001b[1;33m(\u001b[0m\u001b[0mkey\u001b[0m\u001b[1;33m,\u001b[0m \u001b[0mvalue\u001b[0m\u001b[1;33m)\u001b[0m\u001b[1;33m\u001b[0m\u001b[1;33m\u001b[0m\u001b[0m\n\u001b[0m\u001b[0;32m   3793\u001b[0m \u001b[1;33m\u001b[0m\u001b[0m\n\u001b[0;32m   3794\u001b[0m     def _set_value(\n",
      "\u001b[1;32m~\\anaconda3\\envs\\py39\\lib\\site-packages\\pandas\\core\\frame.py\u001b[0m in \u001b[0;36m_set_item_mgr\u001b[1;34m(self, key, value)\u001b[0m\n\u001b[0;32m   3749\u001b[0m             \u001b[0mself\u001b[0m\u001b[1;33m.\u001b[0m\u001b[0m_mgr\u001b[0m\u001b[1;33m.\u001b[0m\u001b[0minsert\u001b[0m\u001b[1;33m(\u001b[0m\u001b[0mlen\u001b[0m\u001b[1;33m(\u001b[0m\u001b[0mself\u001b[0m\u001b[1;33m.\u001b[0m\u001b[0m_info_axis\u001b[0m\u001b[1;33m)\u001b[0m\u001b[1;33m,\u001b[0m \u001b[0mkey\u001b[0m\u001b[1;33m,\u001b[0m \u001b[0mvalue\u001b[0m\u001b[1;33m)\u001b[0m\u001b[1;33m\u001b[0m\u001b[1;33m\u001b[0m\u001b[0m\n\u001b[0;32m   3750\u001b[0m         \u001b[1;32melse\u001b[0m\u001b[1;33m:\u001b[0m\u001b[1;33m\u001b[0m\u001b[1;33m\u001b[0m\u001b[0m\n\u001b[1;32m-> 3751\u001b[1;33m             \u001b[0mself\u001b[0m\u001b[1;33m.\u001b[0m\u001b[0m_iset_item_mgr\u001b[0m\u001b[1;33m(\u001b[0m\u001b[0mloc\u001b[0m\u001b[1;33m,\u001b[0m \u001b[0mvalue\u001b[0m\u001b[1;33m)\u001b[0m\u001b[1;33m\u001b[0m\u001b[1;33m\u001b[0m\u001b[0m\n\u001b[0m\u001b[0;32m   3752\u001b[0m \u001b[1;33m\u001b[0m\u001b[0m\n\u001b[0;32m   3753\u001b[0m         \u001b[1;31m# check if we are modifying a copy\u001b[0m\u001b[1;33m\u001b[0m\u001b[1;33m\u001b[0m\u001b[1;33m\u001b[0m\u001b[0m\n",
      "\u001b[1;32m~\\anaconda3\\envs\\py39\\lib\\site-packages\\pandas\\core\\frame.py\u001b[0m in \u001b[0;36m_iset_item_mgr\u001b[1;34m(self, loc, value)\u001b[0m\n\u001b[0;32m   3739\u001b[0m     \u001b[1;32mdef\u001b[0m \u001b[0m_iset_item_mgr\u001b[0m\u001b[1;33m(\u001b[0m\u001b[0mself\u001b[0m\u001b[1;33m,\u001b[0m \u001b[0mloc\u001b[0m\u001b[1;33m:\u001b[0m \u001b[0mint\u001b[0m \u001b[1;33m|\u001b[0m \u001b[0mslice\u001b[0m \u001b[1;33m|\u001b[0m \u001b[0mnp\u001b[0m\u001b[1;33m.\u001b[0m\u001b[0mndarray\u001b[0m\u001b[1;33m,\u001b[0m \u001b[0mvalue\u001b[0m\u001b[1;33m)\u001b[0m \u001b[1;33m->\u001b[0m \u001b[1;32mNone\u001b[0m\u001b[1;33m:\u001b[0m\u001b[1;33m\u001b[0m\u001b[1;33m\u001b[0m\u001b[0m\n\u001b[0;32m   3740\u001b[0m         \u001b[1;31m# when called from _set_item_mgr loc can be anything returned from get_loc\u001b[0m\u001b[1;33m\u001b[0m\u001b[1;33m\u001b[0m\u001b[1;33m\u001b[0m\u001b[0m\n\u001b[1;32m-> 3741\u001b[1;33m         \u001b[0mself\u001b[0m\u001b[1;33m.\u001b[0m\u001b[0m_mgr\u001b[0m\u001b[1;33m.\u001b[0m\u001b[0miset\u001b[0m\u001b[1;33m(\u001b[0m\u001b[0mloc\u001b[0m\u001b[1;33m,\u001b[0m \u001b[0mvalue\u001b[0m\u001b[1;33m)\u001b[0m\u001b[1;33m\u001b[0m\u001b[1;33m\u001b[0m\u001b[0m\n\u001b[0m\u001b[0;32m   3742\u001b[0m         \u001b[0mself\u001b[0m\u001b[1;33m.\u001b[0m\u001b[0m_clear_item_cache\u001b[0m\u001b[1;33m(\u001b[0m\u001b[1;33m)\u001b[0m\u001b[1;33m\u001b[0m\u001b[1;33m\u001b[0m\u001b[0m\n\u001b[0;32m   3743\u001b[0m \u001b[1;33m\u001b[0m\u001b[0m\n",
      "\u001b[1;32m~\\anaconda3\\envs\\py39\\lib\\site-packages\\pandas\\core\\internals\\managers.py\u001b[0m in \u001b[0;36miset\u001b[1;34m(self, loc, value)\u001b[0m\n\u001b[0;32m   1062\u001b[0m \u001b[1;33m\u001b[0m\u001b[0m\n\u001b[0;32m   1063\u001b[0m         \u001b[1;31m# Accessing public blknos ensures the public versions are initialized\u001b[0m\u001b[1;33m\u001b[0m\u001b[1;33m\u001b[0m\u001b[1;33m\u001b[0m\u001b[0m\n\u001b[1;32m-> 1064\u001b[1;33m         \u001b[0mblknos\u001b[0m \u001b[1;33m=\u001b[0m \u001b[0mself\u001b[0m\u001b[1;33m.\u001b[0m\u001b[0mblknos\u001b[0m\u001b[1;33m[\u001b[0m\u001b[0mloc\u001b[0m\u001b[1;33m]\u001b[0m\u001b[1;33m\u001b[0m\u001b[1;33m\u001b[0m\u001b[0m\n\u001b[0m\u001b[0;32m   1065\u001b[0m         \u001b[0mblklocs\u001b[0m \u001b[1;33m=\u001b[0m \u001b[0mself\u001b[0m\u001b[1;33m.\u001b[0m\u001b[0mblklocs\u001b[0m\u001b[1;33m[\u001b[0m\u001b[0mloc\u001b[0m\u001b[1;33m]\u001b[0m\u001b[1;33m.\u001b[0m\u001b[0mcopy\u001b[0m\u001b[1;33m(\u001b[0m\u001b[1;33m)\u001b[0m\u001b[1;33m\u001b[0m\u001b[1;33m\u001b[0m\u001b[0m\n\u001b[0;32m   1066\u001b[0m \u001b[1;33m\u001b[0m\u001b[0m\n",
      "\u001b[1;31mKeyboardInterrupt\u001b[0m: "
     ]
    }
   ],
   "source": [
    "get_all_assessments()"
   ]
  },
  {
   "cell_type": "code",
   "execution_count": 314,
   "id": "276b2593-1d12-415f-b39f-ff3114c0bf5d",
   "metadata": {},
   "outputs": [
    {
     "name": "stdout",
     "output_type": "stream",
     "text": [
      "*** KeyboardInterrupt exception caught in code being profiled."
     ]
    },
    {
     "data": {
      "text/plain": [
       "Timer unit: 1e-07 s\n",
       "\n",
       "Total time: 6.15705 s\n",
       "File: <ipython-input-312-5c80025da8c1>\n",
       "Function: get_all_assessments at line 1\n",
       "\n",
       "Line #      Hits         Time  Per Hit   % Time  Line Contents\n",
       "==============================================================\n",
       "     1                                           def get_all_assessments():\n",
       "     2                                               # initiate an empty dataframe to store students with all exams\n",
       "     3         1         31.0     31.0      0.0      merged_assessments_plus = []\n",
       "     4                                           \n",
       "     5                                               # iterate through rows of merged_assessments \n",
       "     6        77     642839.0   8348.6      1.0      for i, r in merged_assessments.iterrows():\n",
       "     7                                                   # initiate an empty dataframe to temporarily store one student at a time\n",
       "     8        77     583669.0   7580.1      0.9              temp_df = dataframe()\n",
       "     9        77   43212188.0 561197.2     70.2              student_assessments = dataframe(merged_assessments.loc[(merged_assessments['id_student'] == r['id_student']) & (merged_assessments['module_presentation'] == r['module_presentation']), ['id_student', 'module_presentation', 'id_assessment', 'date_submitted', 'score']])\n",
       "    10        76    1908699.0  25114.5      3.1              module_assessments = assessments.loc[assessments['module_presentation'] == r['module_presentation']]\n",
       "    11        76   13041456.0 171598.1     21.2              temp_df = student_assessments.merge(module_assessments, how='outer', on=['id_assessment', 'module_presentation'])\n",
       "    12        76     416066.0   5474.6      0.7              temp_df['id_student'] = r['id_student']\n",
       "    13        76    1625399.0  21386.8      2.6              temp_df = temp_df.to_dict()\n",
       "    14        76       2654.0     34.9      0.0              merged_assessments_plus.append(temp_df)\n",
       "    15        76     137493.0   1809.1      0.2              print(len(merged_assessments_plus), end = \"\\r\")"
      ]
     },
     "metadata": {},
     "output_type": "display_data"
    }
   ],
   "source": [
    "%lprun -f get_all_assessments get_all_assessments()\n"
   ]
  },
  {
   "cell_type": "code",
   "execution_count": 294,
   "id": "c217bccf-1538-4f6e-8aff-e700e2ace1a6",
   "metadata": {
    "tags": []
   },
   "outputs": [
    {
     "name": "stdout",
     "output_type": "stream",
     "text": [
      "996\r"
     ]
    },
    {
     "ename": "KeyboardInterrupt",
     "evalue": "",
     "output_type": "error",
     "traceback": [
      "\u001b[1;31m---------------------------------------------------------------------------\u001b[0m",
      "\u001b[1;31mKeyboardInterrupt\u001b[0m                         Traceback (most recent call last)",
      "\u001b[1;32m<ipython-input-294-1c51d47193d4>\u001b[0m in \u001b[0;36m<module>\u001b[1;34m\u001b[0m\n\u001b[0;32m      6\u001b[0m     \u001b[1;31m# initiate an empty dataframe to temporarily store one student at a time\u001b[0m\u001b[1;33m\u001b[0m\u001b[1;33m\u001b[0m\u001b[1;33m\u001b[0m\u001b[0m\n\u001b[0;32m      7\u001b[0m     \u001b[0mtemp_df\u001b[0m \u001b[1;33m=\u001b[0m \u001b[0mdataframe\u001b[0m\u001b[1;33m(\u001b[0m\u001b[1;33m)\u001b[0m\u001b[1;33m\u001b[0m\u001b[1;33m\u001b[0m\u001b[0m\n\u001b[1;32m----> 8\u001b[1;33m     \u001b[0mstudent_assessments\u001b[0m \u001b[1;33m=\u001b[0m \u001b[0mdataframe\u001b[0m\u001b[1;33m(\u001b[0m\u001b[0mmerged_assessments\u001b[0m\u001b[1;33m.\u001b[0m\u001b[0mloc\u001b[0m\u001b[1;33m[\u001b[0m\u001b[1;33m(\u001b[0m\u001b[0mmerged_assessments\u001b[0m\u001b[1;33m[\u001b[0m\u001b[1;34m'id_student'\u001b[0m\u001b[1;33m]\u001b[0m \u001b[1;33m==\u001b[0m \u001b[0mr\u001b[0m\u001b[1;33m[\u001b[0m\u001b[1;34m'id_student'\u001b[0m\u001b[1;33m]\u001b[0m\u001b[1;33m)\u001b[0m \u001b[1;33m&\u001b[0m \u001b[1;33m(\u001b[0m\u001b[0mmerged_assessments\u001b[0m\u001b[1;33m[\u001b[0m\u001b[1;34m'module_presentation'\u001b[0m\u001b[1;33m]\u001b[0m \u001b[1;33m==\u001b[0m \u001b[0mr\u001b[0m\u001b[1;33m[\u001b[0m\u001b[1;34m'module_presentation'\u001b[0m\u001b[1;33m]\u001b[0m\u001b[1;33m)\u001b[0m\u001b[1;33m,\u001b[0m \u001b[1;33m[\u001b[0m\u001b[1;34m'id_student'\u001b[0m\u001b[1;33m,\u001b[0m \u001b[1;34m'module_presentation'\u001b[0m\u001b[1;33m,\u001b[0m \u001b[1;34m'id_assessment'\u001b[0m\u001b[1;33m,\u001b[0m \u001b[1;34m'date_submitted'\u001b[0m\u001b[1;33m,\u001b[0m \u001b[1;34m'score'\u001b[0m\u001b[1;33m]\u001b[0m\u001b[1;33m]\u001b[0m\u001b[1;33m)\u001b[0m\u001b[1;33m\u001b[0m\u001b[1;33m\u001b[0m\u001b[0m\n\u001b[0m\u001b[0;32m      9\u001b[0m     \u001b[0mmodule_assessments\u001b[0m \u001b[1;33m=\u001b[0m \u001b[0massessments\u001b[0m\u001b[1;33m.\u001b[0m\u001b[0mloc\u001b[0m\u001b[1;33m[\u001b[0m\u001b[0massessments\u001b[0m\u001b[1;33m[\u001b[0m\u001b[1;34m'module_presentation'\u001b[0m\u001b[1;33m]\u001b[0m \u001b[1;33m==\u001b[0m \u001b[0mr\u001b[0m\u001b[1;33m[\u001b[0m\u001b[1;34m'module_presentation'\u001b[0m\u001b[1;33m]\u001b[0m\u001b[1;33m]\u001b[0m\u001b[1;33m\u001b[0m\u001b[1;33m\u001b[0m\u001b[0m\n\u001b[0;32m     10\u001b[0m     \u001b[0mtemp_df\u001b[0m \u001b[1;33m=\u001b[0m \u001b[0mstudent_assessments\u001b[0m\u001b[1;33m.\u001b[0m\u001b[0mmerge\u001b[0m\u001b[1;33m(\u001b[0m\u001b[0mmodule_assessments\u001b[0m\u001b[1;33m,\u001b[0m \u001b[0mhow\u001b[0m\u001b[1;33m=\u001b[0m\u001b[1;34m'outer'\u001b[0m\u001b[1;33m,\u001b[0m \u001b[0mon\u001b[0m\u001b[1;33m=\u001b[0m\u001b[1;33m[\u001b[0m\u001b[1;34m'id_assessment'\u001b[0m\u001b[1;33m,\u001b[0m \u001b[1;34m'module_presentation'\u001b[0m\u001b[1;33m]\u001b[0m\u001b[1;33m)\u001b[0m\u001b[1;33m\u001b[0m\u001b[1;33m\u001b[0m\u001b[0m\n",
      "\u001b[1;32m~\\anaconda3\\envs\\py39\\lib\\site-packages\\pandas\\core\\ops\\common.py\u001b[0m in \u001b[0;36mnew_method\u001b[1;34m(self, other)\u001b[0m\n\u001b[0;32m     67\u001b[0m         \u001b[0mother\u001b[0m \u001b[1;33m=\u001b[0m \u001b[0mitem_from_zerodim\u001b[0m\u001b[1;33m(\u001b[0m\u001b[0mother\u001b[0m\u001b[1;33m)\u001b[0m\u001b[1;33m\u001b[0m\u001b[1;33m\u001b[0m\u001b[0m\n\u001b[0;32m     68\u001b[0m \u001b[1;33m\u001b[0m\u001b[0m\n\u001b[1;32m---> 69\u001b[1;33m         \u001b[1;32mreturn\u001b[0m \u001b[0mmethod\u001b[0m\u001b[1;33m(\u001b[0m\u001b[0mself\u001b[0m\u001b[1;33m,\u001b[0m \u001b[0mother\u001b[0m\u001b[1;33m)\u001b[0m\u001b[1;33m\u001b[0m\u001b[1;33m\u001b[0m\u001b[0m\n\u001b[0m\u001b[0;32m     70\u001b[0m \u001b[1;33m\u001b[0m\u001b[0m\n\u001b[0;32m     71\u001b[0m     \u001b[1;32mreturn\u001b[0m \u001b[0mnew_method\u001b[0m\u001b[1;33m\u001b[0m\u001b[1;33m\u001b[0m\u001b[0m\n",
      "\u001b[1;32m~\\anaconda3\\envs\\py39\\lib\\site-packages\\pandas\\core\\arraylike.py\u001b[0m in \u001b[0;36m__eq__\u001b[1;34m(self, other)\u001b[0m\n\u001b[0;32m     30\u001b[0m     \u001b[1;33m@\u001b[0m\u001b[0munpack_zerodim_and_defer\u001b[0m\u001b[1;33m(\u001b[0m\u001b[1;34m\"__eq__\"\u001b[0m\u001b[1;33m)\u001b[0m\u001b[1;33m\u001b[0m\u001b[1;33m\u001b[0m\u001b[0m\n\u001b[0;32m     31\u001b[0m     \u001b[1;32mdef\u001b[0m \u001b[0m__eq__\u001b[0m\u001b[1;33m(\u001b[0m\u001b[0mself\u001b[0m\u001b[1;33m,\u001b[0m \u001b[0mother\u001b[0m\u001b[1;33m)\u001b[0m\u001b[1;33m:\u001b[0m\u001b[1;33m\u001b[0m\u001b[1;33m\u001b[0m\u001b[0m\n\u001b[1;32m---> 32\u001b[1;33m         \u001b[1;32mreturn\u001b[0m \u001b[0mself\u001b[0m\u001b[1;33m.\u001b[0m\u001b[0m_cmp_method\u001b[0m\u001b[1;33m(\u001b[0m\u001b[0mother\u001b[0m\u001b[1;33m,\u001b[0m \u001b[0moperator\u001b[0m\u001b[1;33m.\u001b[0m\u001b[0meq\u001b[0m\u001b[1;33m)\u001b[0m\u001b[1;33m\u001b[0m\u001b[1;33m\u001b[0m\u001b[0m\n\u001b[0m\u001b[0;32m     33\u001b[0m \u001b[1;33m\u001b[0m\u001b[0m\n\u001b[0;32m     34\u001b[0m     \u001b[1;33m@\u001b[0m\u001b[0munpack_zerodim_and_defer\u001b[0m\u001b[1;33m(\u001b[0m\u001b[1;34m\"__ne__\"\u001b[0m\u001b[1;33m)\u001b[0m\u001b[1;33m\u001b[0m\u001b[1;33m\u001b[0m\u001b[0m\n",
      "\u001b[1;32m~\\anaconda3\\envs\\py39\\lib\\site-packages\\pandas\\core\\series.py\u001b[0m in \u001b[0;36m_cmp_method\u001b[1;34m(self, other, op)\u001b[0m\n\u001b[0;32m   5499\u001b[0m \u001b[1;33m\u001b[0m\u001b[0m\n\u001b[0;32m   5500\u001b[0m         \u001b[1;32mwith\u001b[0m \u001b[0mnp\u001b[0m\u001b[1;33m.\u001b[0m\u001b[0merrstate\u001b[0m\u001b[1;33m(\u001b[0m\u001b[0mall\u001b[0m\u001b[1;33m=\u001b[0m\u001b[1;34m\"ignore\"\u001b[0m\u001b[1;33m)\u001b[0m\u001b[1;33m:\u001b[0m\u001b[1;33m\u001b[0m\u001b[1;33m\u001b[0m\u001b[0m\n\u001b[1;32m-> 5501\u001b[1;33m             \u001b[0mres_values\u001b[0m \u001b[1;33m=\u001b[0m \u001b[0mops\u001b[0m\u001b[1;33m.\u001b[0m\u001b[0mcomparison_op\u001b[0m\u001b[1;33m(\u001b[0m\u001b[0mlvalues\u001b[0m\u001b[1;33m,\u001b[0m \u001b[0mrvalues\u001b[0m\u001b[1;33m,\u001b[0m \u001b[0mop\u001b[0m\u001b[1;33m)\u001b[0m\u001b[1;33m\u001b[0m\u001b[1;33m\u001b[0m\u001b[0m\n\u001b[0m\u001b[0;32m   5502\u001b[0m \u001b[1;33m\u001b[0m\u001b[0m\n\u001b[0;32m   5503\u001b[0m         \u001b[1;32mreturn\u001b[0m \u001b[0mself\u001b[0m\u001b[1;33m.\u001b[0m\u001b[0m_construct_result\u001b[0m\u001b[1;33m(\u001b[0m\u001b[0mres_values\u001b[0m\u001b[1;33m,\u001b[0m \u001b[0mname\u001b[0m\u001b[1;33m=\u001b[0m\u001b[0mres_name\u001b[0m\u001b[1;33m)\u001b[0m\u001b[1;33m\u001b[0m\u001b[1;33m\u001b[0m\u001b[0m\n",
      "\u001b[1;32m~\\anaconda3\\envs\\py39\\lib\\site-packages\\pandas\\core\\ops\\array_ops.py\u001b[0m in \u001b[0;36mcomparison_op\u001b[1;34m(left, right, op)\u001b[0m\n\u001b[0;32m    268\u001b[0m     ):\n\u001b[0;32m    269\u001b[0m         \u001b[1;31m# Call the method on lvalues\u001b[0m\u001b[1;33m\u001b[0m\u001b[1;33m\u001b[0m\u001b[1;33m\u001b[0m\u001b[0m\n\u001b[1;32m--> 270\u001b[1;33m         \u001b[0mres_values\u001b[0m \u001b[1;33m=\u001b[0m \u001b[0mop\u001b[0m\u001b[1;33m(\u001b[0m\u001b[0mlvalues\u001b[0m\u001b[1;33m,\u001b[0m \u001b[0mrvalues\u001b[0m\u001b[1;33m)\u001b[0m\u001b[1;33m\u001b[0m\u001b[1;33m\u001b[0m\u001b[0m\n\u001b[0m\u001b[0;32m    271\u001b[0m \u001b[1;33m\u001b[0m\u001b[0m\n\u001b[0;32m    272\u001b[0m     \u001b[1;32melif\u001b[0m \u001b[0mis_scalar\u001b[0m\u001b[1;33m(\u001b[0m\u001b[0mrvalues\u001b[0m\u001b[1;33m)\u001b[0m \u001b[1;32mand\u001b[0m \u001b[0misna\u001b[0m\u001b[1;33m(\u001b[0m\u001b[0mrvalues\u001b[0m\u001b[1;33m)\u001b[0m\u001b[1;33m:\u001b[0m\u001b[1;33m\u001b[0m\u001b[1;33m\u001b[0m\u001b[0m\n",
      "\u001b[1;32m~\\anaconda3\\envs\\py39\\lib\\site-packages\\pandas\\core\\ops\\common.py\u001b[0m in \u001b[0;36mnew_method\u001b[1;34m(self, other)\u001b[0m\n\u001b[0;32m     67\u001b[0m         \u001b[0mother\u001b[0m \u001b[1;33m=\u001b[0m \u001b[0mitem_from_zerodim\u001b[0m\u001b[1;33m(\u001b[0m\u001b[0mother\u001b[0m\u001b[1;33m)\u001b[0m\u001b[1;33m\u001b[0m\u001b[1;33m\u001b[0m\u001b[0m\n\u001b[0;32m     68\u001b[0m \u001b[1;33m\u001b[0m\u001b[0m\n\u001b[1;32m---> 69\u001b[1;33m         \u001b[1;32mreturn\u001b[0m \u001b[0mmethod\u001b[0m\u001b[1;33m(\u001b[0m\u001b[0mself\u001b[0m\u001b[1;33m,\u001b[0m \u001b[0mother\u001b[0m\u001b[1;33m)\u001b[0m\u001b[1;33m\u001b[0m\u001b[1;33m\u001b[0m\u001b[0m\n\u001b[0m\u001b[0;32m     70\u001b[0m \u001b[1;33m\u001b[0m\u001b[0m\n\u001b[0;32m     71\u001b[0m     \u001b[1;32mreturn\u001b[0m \u001b[0mnew_method\u001b[0m\u001b[1;33m\u001b[0m\u001b[1;33m\u001b[0m\u001b[0m\n",
      "\u001b[1;32m~\\anaconda3\\envs\\py39\\lib\\site-packages\\pandas\\core\\arraylike.py\u001b[0m in \u001b[0;36m__eq__\u001b[1;34m(self, other)\u001b[0m\n\u001b[0;32m     30\u001b[0m     \u001b[1;33m@\u001b[0m\u001b[0munpack_zerodim_and_defer\u001b[0m\u001b[1;33m(\u001b[0m\u001b[1;34m\"__eq__\"\u001b[0m\u001b[1;33m)\u001b[0m\u001b[1;33m\u001b[0m\u001b[1;33m\u001b[0m\u001b[0m\n\u001b[0;32m     31\u001b[0m     \u001b[1;32mdef\u001b[0m \u001b[0m__eq__\u001b[0m\u001b[1;33m(\u001b[0m\u001b[0mself\u001b[0m\u001b[1;33m,\u001b[0m \u001b[0mother\u001b[0m\u001b[1;33m)\u001b[0m\u001b[1;33m:\u001b[0m\u001b[1;33m\u001b[0m\u001b[1;33m\u001b[0m\u001b[0m\n\u001b[1;32m---> 32\u001b[1;33m         \u001b[1;32mreturn\u001b[0m \u001b[0mself\u001b[0m\u001b[1;33m.\u001b[0m\u001b[0m_cmp_method\u001b[0m\u001b[1;33m(\u001b[0m\u001b[0mother\u001b[0m\u001b[1;33m,\u001b[0m \u001b[0moperator\u001b[0m\u001b[1;33m.\u001b[0m\u001b[0meq\u001b[0m\u001b[1;33m)\u001b[0m\u001b[1;33m\u001b[0m\u001b[1;33m\u001b[0m\u001b[0m\n\u001b[0m\u001b[0;32m     33\u001b[0m \u001b[1;33m\u001b[0m\u001b[0m\n\u001b[0;32m     34\u001b[0m     \u001b[1;33m@\u001b[0m\u001b[0munpack_zerodim_and_defer\u001b[0m\u001b[1;33m(\u001b[0m\u001b[1;34m\"__ne__\"\u001b[0m\u001b[1;33m)\u001b[0m\u001b[1;33m\u001b[0m\u001b[1;33m\u001b[0m\u001b[0m\n",
      "\u001b[1;32m~\\anaconda3\\envs\\py39\\lib\\site-packages\\pandas\\core\\arrays\\string_.py\u001b[0m in \u001b[0;36m_cmp_method\u001b[1;34m(self, other, op)\u001b[0m\n\u001b[0;32m    506\u001b[0m             \u001b[1;31m# logical\u001b[0m\u001b[1;33m\u001b[0m\u001b[1;33m\u001b[0m\u001b[1;33m\u001b[0m\u001b[0m\n\u001b[0;32m    507\u001b[0m             \u001b[0mresult\u001b[0m \u001b[1;33m=\u001b[0m \u001b[0mnp\u001b[0m\u001b[1;33m.\u001b[0m\u001b[0mzeros\u001b[0m\u001b[1;33m(\u001b[0m\u001b[0mlen\u001b[0m\u001b[1;33m(\u001b[0m\u001b[0mself\u001b[0m\u001b[1;33m.\u001b[0m\u001b[0m_ndarray\u001b[0m\u001b[1;33m)\u001b[0m\u001b[1;33m,\u001b[0m \u001b[0mdtype\u001b[0m\u001b[1;33m=\u001b[0m\u001b[1;34m\"bool\"\u001b[0m\u001b[1;33m)\u001b[0m\u001b[1;33m\u001b[0m\u001b[1;33m\u001b[0m\u001b[0m\n\u001b[1;32m--> 508\u001b[1;33m             \u001b[0mresult\u001b[0m\u001b[1;33m[\u001b[0m\u001b[0mvalid\u001b[0m\u001b[1;33m]\u001b[0m \u001b[1;33m=\u001b[0m \u001b[0mop\u001b[0m\u001b[1;33m(\u001b[0m\u001b[0mself\u001b[0m\u001b[1;33m.\u001b[0m\u001b[0m_ndarray\u001b[0m\u001b[1;33m[\u001b[0m\u001b[0mvalid\u001b[0m\u001b[1;33m]\u001b[0m\u001b[1;33m,\u001b[0m \u001b[0mother\u001b[0m\u001b[1;33m)\u001b[0m\u001b[1;33m\u001b[0m\u001b[1;33m\u001b[0m\u001b[0m\n\u001b[0m\u001b[0;32m    509\u001b[0m             \u001b[1;32mreturn\u001b[0m \u001b[0mBooleanArray\u001b[0m\u001b[1;33m(\u001b[0m\u001b[0mresult\u001b[0m\u001b[1;33m,\u001b[0m \u001b[0mmask\u001b[0m\u001b[1;33m)\u001b[0m\u001b[1;33m\u001b[0m\u001b[1;33m\u001b[0m\u001b[0m\n\u001b[0;32m    510\u001b[0m \u001b[1;33m\u001b[0m\u001b[0m\n",
      "\u001b[1;31mKeyboardInterrupt\u001b[0m: "
     ]
    }
   ],
   "source": [
    "# initiate an empty dataframe to store students with all exams\n",
    "merged_assessments_plus = []\n",
    "\n",
    "# iterate through rows of merged_assessments \n",
    "for i, r in merged_assessments.iterrows():\n",
    "    # initiate an empty dataframe to temporarily store one student at a time\n",
    "    temp_df = dataframe()\n",
    "    student_assessments = dataframe(merged_assessments.loc[(merged_assessments['id_student'] == r['id_student']) & (merged_assessments['module_presentation'] == r['module_presentation']), ['id_student', 'module_presentation', 'id_assessment', 'date_submitted', 'score']])\n",
    "    module_assessments = assessments.loc[assessments['module_presentation'] == r['module_presentation']]\n",
    "    temp_df = student_assessments.merge(module_assessments, how='outer', on=['id_assessment', 'module_presentation'])\n",
    "    temp_df['id_student'] = r['id_student']\n",
    "    temp_df = temp_df.to_dict()\n",
    "    merged_assessments_plus.append(temp_df)\n",
    "    print(len(merged_assessments_plus), end = \"\\r\")"
   ]
  },
  {
   "cell_type": "code",
   "execution_count": null,
   "id": "fdb40ebd-f6b6-48d3-99ff-0f8a0391571a",
   "metadata": {},
   "outputs": [],
   "source": [
    "merged_assessments_plus"
   ]
  },
  {
   "cell_type": "code",
   "execution_count": null,
   "id": "212c7bd7-8a08-44bc-bb3c-05f84f72264a",
   "metadata": {},
   "outputs": [],
   "source": [
    "# remove tests that students did not take\n",
    "merged_assessments = merged_assessments.dropna(subset=['id_student'])\n",
    "# drop the merge column since it is no longer of use\n",
    "# reset the index to be consecutive again\n",
    "merged_assessments = merged_assessments.drop(columns=['_merge']).reset_index(drop=True)\n",
    "# order the columns\n",
    "merged_assessments = merged_assessments[['module', 'presentation', 'id_student', 'id_assessment', 'assessment_type', 'date_submitted', 'date', 'weight', 'score']]\n",
    "# make a list of missing exams\n",
    "missing_exams_list = list(missing_exams['id_assessment'])"
   ]
  },
  {
   "cell_type": "code",
   "execution_count": null,
   "id": "c565cecc-58ee-49b5-a286-98b84fb16c34",
   "metadata": {},
   "outputs": [],
   "source": []
  },
  {
   "cell_type": "code",
   "execution_count": null,
   "id": "eff6d576-eb2c-42fb-80fb-d63fcad9dbc2",
   "metadata": {},
   "outputs": [],
   "source": []
  },
  {
   "cell_type": "code",
   "execution_count": null,
   "id": "efa4706b-c135-4d11-8570-3a81bbf4ae84",
   "metadata": {},
   "outputs": [],
   "source": []
  },
  {
   "cell_type": "code",
   "execution_count": 158,
   "id": "7ed939ec-ef80-4ca4-9226-448e42b87239",
   "metadata": {
    "tags": [
     "remove-cell"
    ]
   },
   "outputs": [],
   "source": [
    "# make a dataframe of all assessments with NaN scores\n",
    "NaN_scores = student_assessment.loc[student_assessment['score'].isnull() == True]\n",
    "\n",
    "# make a dataframe of students whose score is NaN from student info\n",
    "#initiate dataframe to store students with NaN scores\n",
    "students_w_NaN_scores = pd.DataFrame()\n",
    "\n",
    "# iterate through NaN_scores\n",
    "for index, row in NaN_scores.iterrows():\n",
    "    # if student_id from NaN scores is found in student_info_reg append that students information to a new dataframe students_w_NaN_scores\n",
    "    students_w_NaN_scores = students_w_NaN_scores.append(stud_info.loc[stud_info['id_student'] == row['id_student']])"
   ]
  },
  {
   "cell_type": "code",
   "execution_count": 159,
   "id": "fccd59e5-6c19-450e-9b8b-7ca08d6b08a5",
   "metadata": {
    "tags": [
     "remove_input"
    ]
   },
   "outputs": [
    {
     "data": {
      "text/html": [
       "<div>\n",
       "<style scoped>\n",
       "    .dataframe tbody tr th:only-of-type {\n",
       "        vertical-align: middle;\n",
       "    }\n",
       "\n",
       "    .dataframe tbody tr th {\n",
       "        vertical-align: top;\n",
       "    }\n",
       "\n",
       "    .dataframe thead th {\n",
       "        text-align: right;\n",
       "    }\n",
       "</style>\n",
       "<table border=\"1\" class=\"dataframe\">\n",
       "  <thead>\n",
       "    <tr style=\"text-align: right;\">\n",
       "      <th></th>\n",
       "      <th>module</th>\n",
       "      <th>presentation</th>\n",
       "      <th>id_student</th>\n",
       "      <th>region</th>\n",
       "      <th>imd</th>\n",
       "      <th>age</th>\n",
       "      <th>gender</th>\n",
       "      <th>education</th>\n",
       "      <th>disability</th>\n",
       "      <th>attempts</th>\n",
       "      <th>credits</th>\n",
       "      <th>result</th>\n",
       "      <th>date_registration</th>\n",
       "      <th>date_unregistration</th>\n",
       "    </tr>\n",
       "  </thead>\n",
       "  <tbody>\n",
       "    <tr>\n",
       "      <th>227</th>\n",
       "      <td>AAA</td>\n",
       "      <td>2013J</td>\n",
       "      <td>721259</td>\n",
       "      <td>South Region</td>\n",
       "      <td>50-60%</td>\n",
       "      <td>55&lt;=</td>\n",
       "      <td>F</td>\n",
       "      <td>Lower Than A Level</td>\n",
       "      <td>False</td>\n",
       "      <td>0</td>\n",
       "      <td>120</td>\n",
       "      <td>Withdrawn</td>\n",
       "      <td>-73</td>\n",
       "      <td>23</td>\n",
       "    </tr>\n",
       "    <tr>\n",
       "      <th>638</th>\n",
       "      <td>AAA</td>\n",
       "      <td>2014J</td>\n",
       "      <td>721259</td>\n",
       "      <td>South Region</td>\n",
       "      <td>50-60%</td>\n",
       "      <td>55&lt;=</td>\n",
       "      <td>F</td>\n",
       "      <td>Lower Than A Level</td>\n",
       "      <td>False</td>\n",
       "      <td>1</td>\n",
       "      <td>60</td>\n",
       "      <td>Withdrawn</td>\n",
       "      <td>-30</td>\n",
       "      <td>128</td>\n",
       "    </tr>\n",
       "    <tr>\n",
       "      <th>108</th>\n",
       "      <td>AAA</td>\n",
       "      <td>2013J</td>\n",
       "      <td>260355</td>\n",
       "      <td>London Region</td>\n",
       "      <td>80-90%</td>\n",
       "      <td>35-55</td>\n",
       "      <td>F</td>\n",
       "      <td>A Level or Equivalent</td>\n",
       "      <td>False</td>\n",
       "      <td>0</td>\n",
       "      <td>60</td>\n",
       "      <td>Withdrawn</td>\n",
       "      <td>-186</td>\n",
       "      <td>170</td>\n",
       "    </tr>\n",
       "    <tr>\n",
       "      <th>466</th>\n",
       "      <td>AAA</td>\n",
       "      <td>2014J</td>\n",
       "      <td>260355</td>\n",
       "      <td>London Region</td>\n",
       "      <td>80-90%</td>\n",
       "      <td>35-55</td>\n",
       "      <td>F</td>\n",
       "      <td>A Level or Equivalent</td>\n",
       "      <td>False</td>\n",
       "      <td>1</td>\n",
       "      <td>120</td>\n",
       "      <td>Withdrawn</td>\n",
       "      <td>-156</td>\n",
       "      <td>-87</td>\n",
       "    </tr>\n",
       "    <tr>\n",
       "      <th>733</th>\n",
       "      <td>AAA</td>\n",
       "      <td>2014J</td>\n",
       "      <td>2606802</td>\n",
       "      <td>North Region</td>\n",
       "      <td>60-70%</td>\n",
       "      <td>0-35</td>\n",
       "      <td>M</td>\n",
       "      <td>A Level or Equivalent</td>\n",
       "      <td>False</td>\n",
       "      <td>0</td>\n",
       "      <td>60</td>\n",
       "      <td>Fail</td>\n",
       "      <td>-37</td>\n",
       "      <td>&lt;NA&gt;</td>\n",
       "    </tr>\n",
       "  </tbody>\n",
       "</table>\n",
       "</div>"
      ],
      "text/plain": [
       "    module presentation id_student         region     imd    age gender  \\\n",
       "227    AAA        2013J     721259   South Region  50-60%   55<=      F   \n",
       "638    AAA        2014J     721259   South Region  50-60%   55<=      F   \n",
       "108    AAA        2013J     260355  London Region  80-90%  35-55      F   \n",
       "466    AAA        2014J     260355  London Region  80-90%  35-55      F   \n",
       "733    AAA        2014J    2606802   North Region  60-70%   0-35      M   \n",
       "\n",
       "                 education  disability  attempts  credits     result  \\\n",
       "227     Lower Than A Level       False         0      120  Withdrawn   \n",
       "638     Lower Than A Level       False         1       60  Withdrawn   \n",
       "108  A Level or Equivalent       False         0       60  Withdrawn   \n",
       "466  A Level or Equivalent       False         1      120  Withdrawn   \n",
       "733  A Level or Equivalent       False         0       60       Fail   \n",
       "\n",
       "     date_registration  date_unregistration  \n",
       "227                -73                   23  \n",
       "638                -30                  128  \n",
       "108               -186                  170  \n",
       "466               -156                  -87  \n",
       "733                -37                 <NA>  "
      ]
     },
     "execution_count": 159,
     "metadata": {},
     "output_type": "execute_result"
    }
   ],
   "source": [
    "# display the new dataframe\n",
    "students_w_NaN_scores.head()"
   ]
  },
  {
   "cell_type": "markdown",
   "id": "06a3dada-d0eb-430e-9549-05eb3d490b61",
   "metadata": {},
   "source": [
    "This dataframe contains the students which are missing scores for their exams"
   ]
  },
  {
   "cell_type": "code",
   "execution_count": null,
   "id": "f1ffaffc-a65f-4051-815b-222c9262af2e",
   "metadata": {
    "tags": [
     "remove_input"
    ]
   },
   "outputs": [],
   "source": [
    "# get the counts of each student result within the NaN scores dataframe\n",
    "dataframe(students_w_NaN_scores['result'].value_counts())"
   ]
  },
  {
   "cell_type": "markdown",
   "id": "770a87aa-d291-46ea-a4e9-4421b050cd01",
   "metadata": {},
   "source": [
    "For students which withdrew or failed it makes sense that some of their test scores would be missing. For the passed students, it is possible that they still made it by without passing an exam. The student with distinction is of note. Let's check their record first."
   ]
  },
  {
   "cell_type": "code",
   "execution_count": null,
   "id": "21380e77-51ea-4195-ba5f-f15fa6d164f9",
   "metadata": {
    "tags": [
     "remove_input"
    ]
   },
   "outputs": [],
   "source": [
    "# locate the student in students_w_NaN scores whose final_result was Distinction\n",
    "students_w_NaN_scores.loc[students_w_NaN_scores['result'] == 'Distinction']"
   ]
  },
  {
   "cell_type": "markdown",
   "id": "68513ae5-1359-4601-9dfe-d96e525ec144",
   "metadata": {},
   "source": [
    "Above we have the student in question with ID 571765. Now let's see the rest of their test scores"
   ]
  },
  {
   "cell_type": "code",
   "execution_count": null,
   "id": "6669b90a-2a90-44ca-9e86-2cb205b8770d",
   "metadata": {
    "tags": [
     "remove_input"
    ]
   },
   "outputs": [],
   "source": [
    "# locate the other test scores of the student with Distinction\n",
    "student_assessment.loc[student_assessment['id_student'] == '571765'].fillna(0)"
   ]
  },
  {
   "cell_type": "markdown",
   "id": "3ddef82c-1b90-464c-b92d-b356b13906d8",
   "metadata": {},
   "source": [
    "According to the data source, a score of 40 or less is interpreted as failure. This student receieved excellent marks on their exams aside from the NaN value which we have filled with a 0 here. It is very possible that this student still received distinction with a 0 on one exam. Also of note is that the exam was submitted late into the module, and possibly defaulted to a 0. Let's do another test case with the first student in the dataframe of students with NaN scores who still passed."
   ]
  },
  {
   "cell_type": "code",
   "execution_count": null,
   "id": "30f7b421-4265-445c-b83c-e81816d2ff75",
   "metadata": {
    "tags": [
     "remove_input"
    ]
   },
   "outputs": [],
   "source": [
    "# locate the students who passed with NaN test scores\n",
    "students_w_NaN_scores.loc[students_w_NaN_scores['result'] == 'Pass'].head()"
   ]
  },
  {
   "cell_type": "markdown",
   "id": "826da74a-a182-4061-be03-17bcfa96002a",
   "metadata": {},
   "source": [
    "Here is the dataframe of students with a NaN value test score who still passed.\n",
    "We will check the scores of the first student, 502717."
   ]
  },
  {
   "cell_type": "code",
   "execution_count": null,
   "id": "0c816a0e-e87e-43dc-ba81-32895235c6cb",
   "metadata": {
    "tags": [
     "remove_input"
    ]
   },
   "outputs": [],
   "source": [
    "# locate the test scores of the first passing student with NaN scores\n",
    "student_assessment.loc[student_assessment['id_student'] == '502717'].fillna(0)"
   ]
  },
  {
   "cell_type": "markdown",
   "id": "68432247-3a6b-4208-9b71-aa76f7473609",
   "metadata": {},
   "source": [
    "Here we can see the test scores of the student with 502717. Once again we see that it was possible for them to have passed with a 0, and the exam was submitted late into the module.\n",
    "\n",
    "With this information we will fill the NA values with 0's under the assumption that these exams were not turned in."
   ]
  },
  {
   "cell_type": "code",
   "execution_count": null,
   "id": "09865db0-60ac-4ba7-bff4-af35ce7f3877",
   "metadata": {
    "tags": [
     "remove_input"
    ]
   },
   "outputs": [],
   "source": [
    "# putting 0 for the NA scores in student_assessment\n",
    "student_assessment = student_assessment.fillna(0)"
   ]
  },
  {
   "cell_type": "code",
   "execution_count": 72,
   "id": "75f49d46-f01b-450b-8224-86174a4651be",
   "metadata": {
    "tags": [
     "remove_input"
    ]
   },
   "outputs": [
    {
     "data": {
      "text/html": [
       "<div>\n",
       "<style scoped>\n",
       "    .dataframe tbody tr th:only-of-type {\n",
       "        vertical-align: middle;\n",
       "    }\n",
       "\n",
       "    .dataframe tbody tr th {\n",
       "        vertical-align: top;\n",
       "    }\n",
       "\n",
       "    .dataframe thead th {\n",
       "        text-align: right;\n",
       "    }\n",
       "</style>\n",
       "<table border=\"1\" class=\"dataframe\">\n",
       "  <thead>\n",
       "    <tr style=\"text-align: right;\">\n",
       "      <th></th>\n",
       "      <th>id_assessment</th>\n",
       "      <th>id_student</th>\n",
       "      <th>date_submitted</th>\n",
       "      <th>is_banked</th>\n",
       "      <th>score</th>\n",
       "    </tr>\n",
       "  </thead>\n",
       "  <tbody>\n",
       "    <tr>\n",
       "      <th>215</th>\n",
       "      <td>1752</td>\n",
       "      <td>721259</td>\n",
       "      <td>22</td>\n",
       "      <td>0</td>\n",
       "      <td>&lt;NA&gt;</td>\n",
       "    </tr>\n",
       "    <tr>\n",
       "      <th>937</th>\n",
       "      <td>1754</td>\n",
       "      <td>260355</td>\n",
       "      <td>127</td>\n",
       "      <td>0</td>\n",
       "      <td>&lt;NA&gt;</td>\n",
       "    </tr>\n",
       "    <tr>\n",
       "      <th>2364</th>\n",
       "      <td>1760</td>\n",
       "      <td>2606802</td>\n",
       "      <td>180</td>\n",
       "      <td>0</td>\n",
       "      <td>&lt;NA&gt;</td>\n",
       "    </tr>\n",
       "    <tr>\n",
       "      <th>3358</th>\n",
       "      <td>14984</td>\n",
       "      <td>186780</td>\n",
       "      <td>77</td>\n",
       "      <td>0</td>\n",
       "      <td>&lt;NA&gt;</td>\n",
       "    </tr>\n",
       "    <tr>\n",
       "      <th>3914</th>\n",
       "      <td>14984</td>\n",
       "      <td>531205</td>\n",
       "      <td>26</td>\n",
       "      <td>0</td>\n",
       "      <td>&lt;NA&gt;</td>\n",
       "    </tr>\n",
       "  </tbody>\n",
       "</table>\n",
       "</div>"
      ],
      "text/plain": [
       "     id_assessment id_student  date_submitted  is_banked  score\n",
       "215           1752     721259              22          0   <NA>\n",
       "937           1754     260355             127          0   <NA>\n",
       "2364          1760    2606802             180          0   <NA>\n",
       "3358         14984     186780              77          0   <NA>\n",
       "3914         14984     531205              26          0   <NA>"
      ]
     },
     "execution_count": 72,
     "metadata": {},
     "output_type": "execute_result"
    }
   ],
   "source": [
    "# make a dataframe of all assessments with NaN scores\n",
    "NaN_scores = student_assessment.loc[student_assessment['score'].isnull() == True]\n",
    "NaN_scores.head()"
   ]
  },
  {
   "cell_type": "markdown",
   "id": "38f562bb-85e2-4180-9af2-3434c6f749ff",
   "metadata": {},
   "source": [
    "Here is a dataframe of the assessments which are missing scores"
   ]
  },
  {
   "cell_type": "code",
   "execution_count": 73,
   "id": "c3285213-feb9-4957-a476-b50ed43b7b2d",
   "metadata": {
    "tags": [
     "remove-cell"
    ]
   },
   "outputs": [],
   "source": [
    "# make a dataframe of students whose score is NaN from student info\n",
    "#initiate dataframe to store students with NaN scores\n",
    "students_w_NaN_scores = pd.DataFrame()\n",
    "\n",
    "# iterate through NaN_scores\n",
    "for index, row in NaN_scores.iterrows():\n",
    "    # if student_id from NaN scores is found in student_info_reg append that students information to a new dataframe students_w_NaN_scores\n",
    "    students_w_NaN_scores = students_w_NaN_scores.append(stud_info.loc[stud_info['id_student'] == row['id_student']])"
   ]
  },
  {
   "cell_type": "code",
   "execution_count": 74,
   "id": "5db4d0fb-7da4-4174-aaa9-c859de8230a9",
   "metadata": {
    "tags": [
     "remove_input"
    ]
   },
   "outputs": [
    {
     "data": {
      "text/html": [
       "<div>\n",
       "<style scoped>\n",
       "    .dataframe tbody tr th:only-of-type {\n",
       "        vertical-align: middle;\n",
       "    }\n",
       "\n",
       "    .dataframe tbody tr th {\n",
       "        vertical-align: top;\n",
       "    }\n",
       "\n",
       "    .dataframe thead th {\n",
       "        text-align: right;\n",
       "    }\n",
       "</style>\n",
       "<table border=\"1\" class=\"dataframe\">\n",
       "  <thead>\n",
       "    <tr style=\"text-align: right;\">\n",
       "      <th></th>\n",
       "      <th>module</th>\n",
       "      <th>presentation</th>\n",
       "      <th>id_student</th>\n",
       "      <th>region</th>\n",
       "      <th>imd</th>\n",
       "      <th>age</th>\n",
       "      <th>gender</th>\n",
       "      <th>education</th>\n",
       "      <th>disability</th>\n",
       "      <th>attempts</th>\n",
       "      <th>credits</th>\n",
       "      <th>result</th>\n",
       "      <th>date_registration</th>\n",
       "      <th>date_unregistration</th>\n",
       "    </tr>\n",
       "  </thead>\n",
       "  <tbody>\n",
       "    <tr>\n",
       "      <th>227</th>\n",
       "      <td>AAA</td>\n",
       "      <td>2013J</td>\n",
       "      <td>721259</td>\n",
       "      <td>South Region</td>\n",
       "      <td>50-60%</td>\n",
       "      <td>55&lt;=</td>\n",
       "      <td>F</td>\n",
       "      <td>Lower Than A Level</td>\n",
       "      <td>False</td>\n",
       "      <td>0</td>\n",
       "      <td>120</td>\n",
       "      <td>Withdrawn</td>\n",
       "      <td>-73</td>\n",
       "      <td>23</td>\n",
       "    </tr>\n",
       "    <tr>\n",
       "      <th>638</th>\n",
       "      <td>AAA</td>\n",
       "      <td>2014J</td>\n",
       "      <td>721259</td>\n",
       "      <td>South Region</td>\n",
       "      <td>50-60%</td>\n",
       "      <td>55&lt;=</td>\n",
       "      <td>F</td>\n",
       "      <td>Lower Than A Level</td>\n",
       "      <td>False</td>\n",
       "      <td>1</td>\n",
       "      <td>60</td>\n",
       "      <td>Withdrawn</td>\n",
       "      <td>-30</td>\n",
       "      <td>128</td>\n",
       "    </tr>\n",
       "    <tr>\n",
       "      <th>108</th>\n",
       "      <td>AAA</td>\n",
       "      <td>2013J</td>\n",
       "      <td>260355</td>\n",
       "      <td>London Region</td>\n",
       "      <td>80-90%</td>\n",
       "      <td>35-55</td>\n",
       "      <td>F</td>\n",
       "      <td>A Level or Equivalent</td>\n",
       "      <td>False</td>\n",
       "      <td>0</td>\n",
       "      <td>60</td>\n",
       "      <td>Withdrawn</td>\n",
       "      <td>-186</td>\n",
       "      <td>170</td>\n",
       "    </tr>\n",
       "    <tr>\n",
       "      <th>466</th>\n",
       "      <td>AAA</td>\n",
       "      <td>2014J</td>\n",
       "      <td>260355</td>\n",
       "      <td>London Region</td>\n",
       "      <td>80-90%</td>\n",
       "      <td>35-55</td>\n",
       "      <td>F</td>\n",
       "      <td>A Level or Equivalent</td>\n",
       "      <td>False</td>\n",
       "      <td>1</td>\n",
       "      <td>120</td>\n",
       "      <td>Withdrawn</td>\n",
       "      <td>-156</td>\n",
       "      <td>-87</td>\n",
       "    </tr>\n",
       "    <tr>\n",
       "      <th>733</th>\n",
       "      <td>AAA</td>\n",
       "      <td>2014J</td>\n",
       "      <td>2606802</td>\n",
       "      <td>North Region</td>\n",
       "      <td>60-70%</td>\n",
       "      <td>0-35</td>\n",
       "      <td>M</td>\n",
       "      <td>A Level or Equivalent</td>\n",
       "      <td>False</td>\n",
       "      <td>0</td>\n",
       "      <td>60</td>\n",
       "      <td>Fail</td>\n",
       "      <td>-37</td>\n",
       "      <td>&lt;NA&gt;</td>\n",
       "    </tr>\n",
       "  </tbody>\n",
       "</table>\n",
       "</div>"
      ],
      "text/plain": [
       "    module presentation id_student         region     imd    age gender  \\\n",
       "227    AAA        2013J     721259   South Region  50-60%   55<=      F   \n",
       "638    AAA        2014J     721259   South Region  50-60%   55<=      F   \n",
       "108    AAA        2013J     260355  London Region  80-90%  35-55      F   \n",
       "466    AAA        2014J     260355  London Region  80-90%  35-55      F   \n",
       "733    AAA        2014J    2606802   North Region  60-70%   0-35      M   \n",
       "\n",
       "                 education  disability  attempts  credits     result  \\\n",
       "227     Lower Than A Level       False         0      120  Withdrawn   \n",
       "638     Lower Than A Level       False         1       60  Withdrawn   \n",
       "108  A Level or Equivalent       False         0       60  Withdrawn   \n",
       "466  A Level or Equivalent       False         1      120  Withdrawn   \n",
       "733  A Level or Equivalent       False         0       60       Fail   \n",
       "\n",
       "     date_registration  date_unregistration  \n",
       "227                -73                   23  \n",
       "638                -30                  128  \n",
       "108               -186                  170  \n",
       "466               -156                  -87  \n",
       "733                -37                 <NA>  "
      ]
     },
     "execution_count": 74,
     "metadata": {},
     "output_type": "execute_result"
    }
   ],
   "source": [
    "# display the new dataframe\n",
    "students_w_NaN_scores.head()"
   ]
  },
  {
   "cell_type": "markdown",
   "id": "8680c0d0-b4cc-4ed1-ae78-1ecae8a9d048",
   "metadata": {},
   "source": [
    "This dataframe contains the students which are missing scores for their exams"
   ]
  },
  {
   "cell_type": "code",
   "execution_count": null,
   "id": "bc626393-e508-4d0e-ace6-57a47fffa113",
   "metadata": {
    "tags": [
     "remove_input"
    ]
   },
   "outputs": [],
   "source": [
    "# get the counts of each student result within the NaN scores dataframe\n",
    "dataframe(students_w_NaN_scores['result'].value_counts())"
   ]
  },
  {
   "cell_type": "markdown",
   "id": "28692a36-8995-421e-bcf5-19d6af281312",
   "metadata": {},
   "source": [
    "For students which withdrew or failed it makes sense that some of their test scores would be missing. For the passed students, it is possible that they still made it by without passing an exam. The student with distinction is of note. Let's check their record first."
   ]
  },
  {
   "cell_type": "code",
   "execution_count": null,
   "id": "b7ccb162-0289-4711-90cc-4bd395f75ffc",
   "metadata": {
    "tags": [
     "remove_input"
    ]
   },
   "outputs": [],
   "source": [
    "# locate the student in students_w_NaN scores whose final_result was Distinction\n",
    "students_w_NaN_scores.loc[students_w_NaN_scores['result'] == 'Distinction']"
   ]
  },
  {
   "cell_type": "markdown",
   "id": "7b212522-b898-4009-9111-f04191dbef69",
   "metadata": {},
   "source": [
    "Above we have the student in question with ID 571765. Now let's see the rest of their test scores"
   ]
  },
  {
   "cell_type": "code",
   "execution_count": null,
   "id": "18adb41d-74da-4bd6-839e-0e7b43225c61",
   "metadata": {
    "tags": [
     "remove_input"
    ]
   },
   "outputs": [],
   "source": [
    "# locate the other test scores of the student with Distinction\n",
    "student_assessment.loc[student_assessment['id_student'] == '571765'].fillna(0)"
   ]
  },
  {
   "cell_type": "markdown",
   "id": "6c1a4f19-4782-4544-af50-23c552ff0f24",
   "metadata": {},
   "source": [
    "According to the data source, a score of 40 or less is interpreted as failure. This student receieved excellent marks on their exams aside from the NaN value which we have filled with a 0 here. It is very possible that this student still received distinction with a 0 on one exam. Also of note is that the exam was submitted late into the module, and possibly defaulted to a 0. Let's do another test case with the first student in the dataframe of students with NaN scores who still passed."
   ]
  },
  {
   "cell_type": "code",
   "execution_count": null,
   "id": "435c4ec8-5097-4ab5-8c81-be4b6a3e8ec4",
   "metadata": {
    "tags": [
     "remove_input"
    ]
   },
   "outputs": [],
   "source": [
    "# locate the students who passed with NaN test scores\n",
    "students_w_NaN_scores.loc[students_w_NaN_scores['result'] == 'Pass'].head()"
   ]
  },
  {
   "cell_type": "markdown",
   "id": "309390d8-b4d7-4bfe-baf5-f809cca52e81",
   "metadata": {},
   "source": [
    "Here is the dataframe of students with a NaN value test score who still passed.\n",
    "We will check the scores of the first student, 502717."
   ]
  },
  {
   "cell_type": "code",
   "execution_count": null,
   "id": "48120580-459d-4465-9546-1a382ec29c5d",
   "metadata": {
    "tags": [
     "remove_input"
    ]
   },
   "outputs": [],
   "source": [
    "# locate the test scores of the first passing student with NaN scores\n",
    "student_assessment.loc[student_assessment['id_student'] == '502717'].fillna(0)"
   ]
  },
  {
   "cell_type": "markdown",
   "id": "08d02532-c161-4684-a2f7-3f06fe918179",
   "metadata": {},
   "source": [
    "Here we can see the test scores of the student with 502717. Once again we see that it was possible for them to have passed with a 0, and the exam was submitted late into the module.\n",
    "\n",
    "With this information we will fill the NA values with 0's under the assumption that these exams were not turned in."
   ]
  },
  {
   "cell_type": "code",
   "execution_count": null,
   "id": "4f98b4a8-c14d-49fd-9103-2abab7df4c7d",
   "metadata": {
    "tags": [
     "remove_input"
    ]
   },
   "outputs": [],
   "source": [
    "# putting 0 for the NA scores in student_assessment\n",
    "student_assessment = student_assessment.fillna(0)"
   ]
  },
  {
   "cell_type": "code",
   "execution_count": null,
   "id": "a8890d96-3f4f-4d73-b23f-1f7cd46bbbe9",
   "metadata": {},
   "outputs": [],
   "source": []
  },
  {
   "cell_type": "code",
   "execution_count": null,
   "id": "eda234e6-7719-4c94-8f82-8499708fa0ad",
   "metadata": {},
   "outputs": [],
   "source": []
  },
  {
   "cell_type": "code",
   "execution_count": null,
   "id": "4bb17089-595d-491d-b935-364155c32883",
   "metadata": {},
   "outputs": [],
   "source": []
  },
  {
   "cell_type": "code",
   "execution_count": null,
   "id": "70c69f54-14b9-4f27-ba2a-c6dc4b1b24c2",
   "metadata": {},
   "outputs": [],
   "source": []
  },
  {
   "cell_type": "code",
   "execution_count": null,
   "id": "0eea8bf1-1a30-4a0f-85e2-77487a2a8dfb",
   "metadata": {},
   "outputs": [],
   "source": []
  },
  {
   "cell_type": "code",
   "execution_count": null,
   "id": "c4304740-efc7-433a-99c9-cfc77edee9de",
   "metadata": {},
   "outputs": [],
   "source": []
  },
  {
   "cell_type": "code",
   "execution_count": null,
   "id": "c91c53f5-665f-4ea0-b3aa-487e92fbc4dc",
   "metadata": {},
   "outputs": [],
   "source": []
  }
 ],
 "metadata": {
  "kernelspec": {
   "display_name": "Python 3",
   "language": "python",
   "name": "python3"
  },
  "language_info": {
   "codemirror_mode": {
    "name": "ipython",
    "version": 3
   },
   "file_extension": ".py",
   "mimetype": "text/x-python",
   "name": "python",
   "nbconvert_exporter": "python",
   "pygments_lexer": "ipython3",
   "version": "3.9.6"
  }
 },
 "nbformat": 4,
 "nbformat_minor": 5
}
