{
 "cells": [
  {
   "cell_type": "code",
   "execution_count": 2,
   "id": "73743660-3955-4bbe-8256-9c082178c16f",
   "metadata": {
    "tags": [
     "remove-cell"
    ]
   },
   "outputs": [],
   "source": [
    "from functions import *\n",
    "from ipynb.fs.full.Student_Information import stud_info\n",
    "from ipynb.fs.full.Courses import courses"
   ]
  },
  {
   "cell_type": "markdown",
   "id": "d9b47b9d-8949-4f88-a3f8-f52fc3258007",
   "metadata": {},
   "source": [
    "# Assessments\n",
    "---"
   ]
  },
  {
   "cell_type": "markdown",
   "id": "fc1acb26-714c-4527-9345-0f8621a5ff4d",
   "metadata": {},
   "source": [
    "## Assessments\n",
    "---\n",
    "\n",
    "The assessments dataframe contains information about the unique assessments in each code module and presentation."
   ]
  },
  {
   "cell_type": "code",
   "execution_count": 3,
   "id": "f4116f79-a23f-4925-8a7a-7f2dedb090ea",
   "metadata": {
    "tags": [
     "remove_input"
    ]
   },
   "outputs": [
    {
     "data": {
      "text/html": [
       "<div>\n",
       "<style scoped>\n",
       "    .dataframe tbody tr th:only-of-type {\n",
       "        vertical-align: middle;\n",
       "    }\n",
       "\n",
       "    .dataframe tbody tr th {\n",
       "        vertical-align: top;\n",
       "    }\n",
       "\n",
       "    .dataframe thead th {\n",
       "        text-align: right;\n",
       "    }\n",
       "</style>\n",
       "<table border=\"1\" class=\"dataframe\">\n",
       "  <thead>\n",
       "    <tr style=\"text-align: right;\">\n",
       "      <th></th>\n",
       "      <th>code_module</th>\n",
       "      <th>code_presentation</th>\n",
       "      <th>id_assessment</th>\n",
       "      <th>assessment_type</th>\n",
       "      <th>date</th>\n",
       "      <th>weight</th>\n",
       "    </tr>\n",
       "  </thead>\n",
       "  <tbody>\n",
       "    <tr>\n",
       "      <th>0</th>\n",
       "      <td>AAA</td>\n",
       "      <td>2013J</td>\n",
       "      <td>1752</td>\n",
       "      <td>TMA</td>\n",
       "      <td>19.0</td>\n",
       "      <td>10.0</td>\n",
       "    </tr>\n",
       "    <tr>\n",
       "      <th>1</th>\n",
       "      <td>AAA</td>\n",
       "      <td>2013J</td>\n",
       "      <td>1753</td>\n",
       "      <td>TMA</td>\n",
       "      <td>54.0</td>\n",
       "      <td>20.0</td>\n",
       "    </tr>\n",
       "    <tr>\n",
       "      <th>2</th>\n",
       "      <td>AAA</td>\n",
       "      <td>2013J</td>\n",
       "      <td>1754</td>\n",
       "      <td>TMA</td>\n",
       "      <td>117.0</td>\n",
       "      <td>20.0</td>\n",
       "    </tr>\n",
       "    <tr>\n",
       "      <th>3</th>\n",
       "      <td>AAA</td>\n",
       "      <td>2013J</td>\n",
       "      <td>1755</td>\n",
       "      <td>TMA</td>\n",
       "      <td>166.0</td>\n",
       "      <td>20.0</td>\n",
       "    </tr>\n",
       "    <tr>\n",
       "      <th>4</th>\n",
       "      <td>AAA</td>\n",
       "      <td>2013J</td>\n",
       "      <td>1756</td>\n",
       "      <td>TMA</td>\n",
       "      <td>215.0</td>\n",
       "      <td>30.0</td>\n",
       "    </tr>\n",
       "  </tbody>\n",
       "</table>\n",
       "</div>"
      ],
      "text/plain": [
       "  code_module code_presentation  id_assessment assessment_type   date  weight\n",
       "0         AAA             2013J           1752             TMA   19.0    10.0\n",
       "1         AAA             2013J           1753             TMA   54.0    20.0\n",
       "2         AAA             2013J           1754             TMA  117.0    20.0\n",
       "3         AAA             2013J           1755             TMA  166.0    20.0\n",
       "4         AAA             2013J           1756             TMA  215.0    30.0"
      ]
     },
     "execution_count": 3,
     "metadata": {},
     "output_type": "execute_result"
    }
   ],
   "source": [
    "# show assessments dataframe\n",
    "assessments.head()"
   ]
  },
  {
   "cell_type": "markdown",
   "id": "766d6951-45d3-4cfa-b3a0-0c8f36d794fb",
   "metadata": {},
   "source": [
    "**Size**"
   ]
  },
  {
   "cell_type": "code",
   "execution_count": 4,
   "id": "0035b3b3-b761-42ba-a649-a8c77e59564e",
   "metadata": {
    "tags": [
     "remove_input"
    ]
   },
   "outputs": [
    {
     "data": {
      "text/html": [
       "<div>\n",
       "<style scoped>\n",
       "    .dataframe tbody tr th:only-of-type {\n",
       "        vertical-align: middle;\n",
       "    }\n",
       "\n",
       "    .dataframe tbody tr th {\n",
       "        vertical-align: top;\n",
       "    }\n",
       "\n",
       "    .dataframe thead th {\n",
       "        text-align: right;\n",
       "    }\n",
       "</style>\n",
       "<table border=\"1\" class=\"dataframe\">\n",
       "  <thead>\n",
       "    <tr style=\"text-align: right;\">\n",
       "      <th></th>\n",
       "      <th>Count</th>\n",
       "    </tr>\n",
       "  </thead>\n",
       "  <tbody>\n",
       "    <tr>\n",
       "      <th>Columns</th>\n",
       "      <td>6</td>\n",
       "    </tr>\n",
       "    <tr>\n",
       "      <th>Rows</th>\n",
       "      <td>206</td>\n",
       "    </tr>\n",
       "  </tbody>\n",
       "</table>\n",
       "</div>"
      ],
      "text/plain": [
       "         Count\n",
       "Columns      6\n",
       "Rows       206"
      ]
     },
     "execution_count": 4,
     "metadata": {},
     "output_type": "execute_result"
    }
   ],
   "source": [
    "# function to get a dataframe of rows and columns\n",
    "get_size(assessments)"
   ]
  },
  {
   "cell_type": "code",
   "execution_count": 5,
   "id": "d6a6a9da-0158-426b-8c0a-2dc27b810013",
   "metadata": {
    "tags": [
     "remove_input"
    ]
   },
   "outputs": [
    {
     "data": {
      "text/markdown": [
       "\n",
       "Assessments has 6 features describing 206 exam records.\n"
      ],
      "text/plain": [
       "<IPython.core.display.Markdown object>"
      ]
     },
     "execution_count": 5,
     "metadata": {},
     "output_type": "execute_result"
    }
   ],
   "source": [
    "md(f'''\n",
    "Assessments has {len(assessments.columns)} features describing {len(assessments)} exam records.\n",
    "''')"
   ]
  },
  {
   "cell_type": "markdown",
   "id": "59824f80-17e2-4660-acbb-e42304d9fce3",
   "metadata": {},
   "source": [
    "---\n",
    "\n",
    "### Assessments Contents\n",
    "\n",
    "* **code_module**: The code module represents the code name of the course the assessment was held for.\n",
    "* **code_presentation**: The presentation represents the presentation which the test was held for.\n",
    "* **id_assessment**: The assessment ID is the unique identifier for each assessment.\n",
    "* **assessment_type**: The assessment type represents the kind of assessment it was.\n",
    "    - There are three assessment types:\n",
    "        * TMA: Tutor Marked Assessment\n",
    "        * CMA: Computer Marked Assessment\n",
    "        * Exam: The Final Exam\n",
    "* **date**: The date is how many days from the start of the course the assessment took place\n",
    "* **weight**: The weight is the weighted value of the assessment. Exams should have a weight of 100 which the rest of the assessments should add to 100 in total."
   ]
  },
  {
   "cell_type": "markdown",
   "id": "70ee3dd0-0675-4d6f-bcfe-fa4e48073c0d",
   "metadata": {},
   "source": [
    "* column names will be changed to be less verbose\n",
    "    * code_module to module\n",
    "    * code_presentation to presentation"
   ]
  },
  {
   "cell_type": "code",
   "execution_count": 6,
   "id": "43e65697-5655-412e-aeb1-27e99a087b20",
   "metadata": {
    "tags": [
     "remove-cell"
    ]
   },
   "outputs": [],
   "source": [
    "# make a dictionary of columns mapping to their new name\n",
    "assessments_rename = {'code_module':'module', 'code_presentation':'presentation'}\n",
    "# rename columns in assessments based on dictionary\n",
    "assessments = assessments.rename(columns=assessments_rename)"
   ]
  },
  {
   "cell_type": "markdown",
   "id": "364e88e7-0911-41a5-9d95-0646f8d09a4c",
   "metadata": {},
   "source": [
    "## Student Assessment\n",
    "\n",
    "---"
   ]
  },
  {
   "cell_type": "markdown",
   "id": "f0ef4d4b-dfe9-445d-91f0-bc543377d854",
   "metadata": {},
   "source": [
    "The Student Assessments dataframe contains information about each student and the assessments they took during the module"
   ]
  },
  {
   "cell_type": "code",
   "execution_count": 7,
   "id": "694aef3a-0b94-4bfa-982a-02844245411c",
   "metadata": {
    "tags": [
     "remove_input"
    ]
   },
   "outputs": [
    {
     "data": {
      "text/html": [
       "<div>\n",
       "<style scoped>\n",
       "    .dataframe tbody tr th:only-of-type {\n",
       "        vertical-align: middle;\n",
       "    }\n",
       "\n",
       "    .dataframe tbody tr th {\n",
       "        vertical-align: top;\n",
       "    }\n",
       "\n",
       "    .dataframe thead th {\n",
       "        text-align: right;\n",
       "    }\n",
       "</style>\n",
       "<table border=\"1\" class=\"dataframe\">\n",
       "  <thead>\n",
       "    <tr style=\"text-align: right;\">\n",
       "      <th></th>\n",
       "      <th>id_assessment</th>\n",
       "      <th>id_student</th>\n",
       "      <th>date_submitted</th>\n",
       "      <th>is_banked</th>\n",
       "      <th>score</th>\n",
       "    </tr>\n",
       "  </thead>\n",
       "  <tbody>\n",
       "    <tr>\n",
       "      <th>0</th>\n",
       "      <td>1752</td>\n",
       "      <td>11391</td>\n",
       "      <td>18</td>\n",
       "      <td>0</td>\n",
       "      <td>78.0</td>\n",
       "    </tr>\n",
       "    <tr>\n",
       "      <th>1</th>\n",
       "      <td>1752</td>\n",
       "      <td>28400</td>\n",
       "      <td>22</td>\n",
       "      <td>0</td>\n",
       "      <td>70.0</td>\n",
       "    </tr>\n",
       "    <tr>\n",
       "      <th>2</th>\n",
       "      <td>1752</td>\n",
       "      <td>31604</td>\n",
       "      <td>17</td>\n",
       "      <td>0</td>\n",
       "      <td>72.0</td>\n",
       "    </tr>\n",
       "    <tr>\n",
       "      <th>3</th>\n",
       "      <td>1752</td>\n",
       "      <td>32885</td>\n",
       "      <td>26</td>\n",
       "      <td>0</td>\n",
       "      <td>69.0</td>\n",
       "    </tr>\n",
       "    <tr>\n",
       "      <th>4</th>\n",
       "      <td>1752</td>\n",
       "      <td>38053</td>\n",
       "      <td>19</td>\n",
       "      <td>0</td>\n",
       "      <td>79.0</td>\n",
       "    </tr>\n",
       "  </tbody>\n",
       "</table>\n",
       "</div>"
      ],
      "text/plain": [
       "   id_assessment  id_student  date_submitted  is_banked  score\n",
       "0           1752       11391              18          0   78.0\n",
       "1           1752       28400              22          0   70.0\n",
       "2           1752       31604              17          0   72.0\n",
       "3           1752       32885              26          0   69.0\n",
       "4           1752       38053              19          0   79.0"
      ]
     },
     "execution_count": 7,
     "metadata": {},
     "output_type": "execute_result"
    }
   ],
   "source": [
    "# show first 5 student_assessment entries\n",
    "student_assessment.head()"
   ]
  },
  {
   "cell_type": "markdown",
   "id": "ee043ea1-57fb-4eff-a19d-f851a9e61428",
   "metadata": {},
   "source": [
    "**Size**"
   ]
  },
  {
   "cell_type": "code",
   "execution_count": 8,
   "id": "ab1b5b8e-3e7f-40a2-8648-410385fba1c5",
   "metadata": {
    "tags": [
     "remove_input"
    ]
   },
   "outputs": [
    {
     "data": {
      "text/html": [
       "<div>\n",
       "<style scoped>\n",
       "    .dataframe tbody tr th:only-of-type {\n",
       "        vertical-align: middle;\n",
       "    }\n",
       "\n",
       "    .dataframe tbody tr th {\n",
       "        vertical-align: top;\n",
       "    }\n",
       "\n",
       "    .dataframe thead th {\n",
       "        text-align: right;\n",
       "    }\n",
       "</style>\n",
       "<table border=\"1\" class=\"dataframe\">\n",
       "  <thead>\n",
       "    <tr style=\"text-align: right;\">\n",
       "      <th></th>\n",
       "      <th>Count</th>\n",
       "    </tr>\n",
       "  </thead>\n",
       "  <tbody>\n",
       "    <tr>\n",
       "      <th>Columns</th>\n",
       "      <td>5</td>\n",
       "    </tr>\n",
       "    <tr>\n",
       "      <th>Rows</th>\n",
       "      <td>173912</td>\n",
       "    </tr>\n",
       "  </tbody>\n",
       "</table>\n",
       "</div>"
      ],
      "text/plain": [
       "          Count\n",
       "Columns       5\n",
       "Rows     173912"
      ]
     },
     "execution_count": 8,
     "metadata": {},
     "output_type": "execute_result"
    }
   ],
   "source": [
    "# get the size of student_assessment\n",
    "get_size(student_assessment)"
   ]
  },
  {
   "cell_type": "code",
   "execution_count": 9,
   "id": "a82aeb90-2f54-4415-a739-6199e496365d",
   "metadata": {
    "tags": [
     "remove_input"
    ]
   },
   "outputs": [
    {
     "data": {
      "text/markdown": [
       "\n",
       "Student Assessment has 5 columns and 173,912 rows, which is how many exams we have data for.\n"
      ],
      "text/plain": [
       "<IPython.core.display.Markdown object>"
      ]
     },
     "execution_count": 9,
     "metadata": {},
     "output_type": "execute_result"
    }
   ],
   "source": [
    "# store the size of student_assessment's columns\n",
    "sa_cols = len(student_assessment.columns)\n",
    "# store the size of student_assessment's rows\n",
    "sa_rows = len(student_assessment)\n",
    "md(f'''\n",
    "Student Assessment has {sa_cols} columns and {\"{:,}\".format(sa_rows)} rows, which is how many exams we have data for.\n",
    "''')"
   ]
  },
  {
   "cell_type": "markdown",
   "id": "1368a835-09f9-444f-8059-d05f4bd6715e",
   "metadata": {},
   "source": [
    "---\n",
    "\n",
    "### Student Assessment Contents\n",
    "\n",
    "* **id_assessment**: The assessment ID is the unique identifier for the assessment the student took.\n",
    "* **id_student**: The student ID is the unique identifier for the student who took the assessment.\n",
    "* **date_submitted**: The date submitted is the date the student submitted the exam relevant to the start date of the module.\n",
    "* **is_banked**: Whether the score for the assessment is banked indicates wheter the assessment result was transferred from a previous presentation.\n",
    "    - is_banked has no relevant information to our analysis and can be removed\n",
    "* **score**: The score the student received for the assessment. 40 or above is considered a passing score."
   ]
  },
  {
   "cell_type": "markdown",
   "id": "2740b37d-cf79-4a75-be7c-eb7e600fdf5d",
   "metadata": {},
   "source": [
    "* column names will be changed to be less verbose\n",
    "    * code_module to module\n",
    "    * code_presentation to presentation"
   ]
  },
  {
   "cell_type": "code",
   "execution_count": 10,
   "id": "0cdaaf37-6ad9-4a88-bcf5-4040f45d228a",
   "metadata": {},
   "outputs": [],
   "source": [
    "student_assessment = student_assessment.drop(columns='is_banked')"
   ]
  },
  {
   "cell_type": "markdown",
   "id": "9e5bccde-bc15-47ad-8c58-6590779fc655",
   "metadata": {},
   "source": [
    "---\n",
    "\n",
    "### Assessments Information"
   ]
  },
  {
   "cell_type": "markdown",
   "id": "a748695b-f90b-4bf8-912f-d123585ff9f2",
   "metadata": {},
   "source": [
    "**Data Types**"
   ]
  },
  {
   "cell_type": "code",
   "execution_count": 11,
   "id": "71fed38e-4597-4631-bd6e-78d5c82600ec",
   "metadata": {
    "tags": [
     "remove_input"
    ]
   },
   "outputs": [
    {
     "data": {
      "text/html": [
       "<style type=\"text/css\">\n",
       "#T_d1547_ td.col0 {\n",
       "  font-weight: bold;\n",
       "}\n",
       "</style>\n",
       "<table id=\"T_d1547_\">\n",
       "  <thead>\n",
       "    <tr>\n",
       "      <th class=\"col_heading level0 col0\" >index</th>\n",
       "      <th class=\"col_heading level0 col1\" >Type</th>\n",
       "    </tr>\n",
       "  </thead>\n",
       "  <tbody>\n",
       "    <tr>\n",
       "      <td id=\"T_d1547_row0_col0\" class=\"data row0 col0\" >module</td>\n",
       "      <td id=\"T_d1547_row0_col1\" class=\"data row0 col1\" >object</td>\n",
       "    </tr>\n",
       "    <tr>\n",
       "      <td id=\"T_d1547_row1_col0\" class=\"data row1 col0\" >presentation</td>\n",
       "      <td id=\"T_d1547_row1_col1\" class=\"data row1 col1\" >object</td>\n",
       "    </tr>\n",
       "    <tr>\n",
       "      <td id=\"T_d1547_row2_col0\" class=\"data row2 col0\" >id_assessment</td>\n",
       "      <td id=\"T_d1547_row2_col1\" class=\"data row2 col1\" >int64</td>\n",
       "    </tr>\n",
       "    <tr>\n",
       "      <td id=\"T_d1547_row3_col0\" class=\"data row3 col0\" >assessment_type</td>\n",
       "      <td id=\"T_d1547_row3_col1\" class=\"data row3 col1\" >object</td>\n",
       "    </tr>\n",
       "    <tr>\n",
       "      <td id=\"T_d1547_row4_col0\" class=\"data row4 col0\" >date</td>\n",
       "      <td id=\"T_d1547_row4_col1\" class=\"data row4 col1\" >float64</td>\n",
       "    </tr>\n",
       "    <tr>\n",
       "      <td id=\"T_d1547_row5_col0\" class=\"data row5 col0\" >weight</td>\n",
       "      <td id=\"T_d1547_row5_col1\" class=\"data row5 col1\" >float64</td>\n",
       "    </tr>\n",
       "  </tbody>\n",
       "</table>\n"
      ],
      "text/plain": [
       "<pandas.io.formats.style.Styler at 0x1954c511160>"
      ]
     },
     "execution_count": 11,
     "metadata": {},
     "output_type": "execute_result"
    }
   ],
   "source": [
    "# function to get a dataframe of data types\n",
    "get_dtypes(assessments)"
   ]
  },
  {
   "cell_type": "markdown",
   "id": "b87836e4-b938-43dd-8e40-033ef284c4cc",
   "metadata": {},
   "source": [
    "* `id_assessments` is a categorical value and so should be converted to `category`\n",
    "* `object` types should be converted to `category`"
   ]
  },
  {
   "cell_type": "code",
   "execution_count": 123,
   "id": "16bfc18e-6a1e-404f-bfaa-b5586296ee98",
   "metadata": {
    "tags": [
     "remove-cell"
    ]
   },
   "outputs": [],
   "source": [
    "# converting the data types\n",
    "# id assessment to string\n",
    "assessments= assessments.astype({'module':'category', 'presentation':'category', 'assessment_type':'category', 'id_assessment':'category'})\n",
    "# all other data types to those which support pandas <NA>\n",
    "assessments = assessments.convert_dtypes(convert_integer=False)"
   ]
  },
  {
   "cell_type": "markdown",
   "id": "f90bb93a-6076-4ecf-82a7-3b6f924e9f2d",
   "metadata": {},
   "source": [
    "**Null Values**"
   ]
  },
  {
   "cell_type": "code",
   "execution_count": 124,
   "id": "a8c9b7b6-21ed-4033-a973-462dca7db7ec",
   "metadata": {
    "tags": [
     "remove_input"
    ]
   },
   "outputs": [
    {
     "data": {
      "text/html": [
       "<style type=\"text/css\">\n",
       "#T_f1b56_ td.col0 {\n",
       "  font-weight: bold;\n",
       "}\n",
       "</style>\n",
       "<table id=\"T_f1b56_\">\n",
       "  <thead>\n",
       "    <tr>\n",
       "      <th class=\"col_heading level0 col0\" >index</th>\n",
       "      <th class=\"col_heading level0 col1\" >Null Values</th>\n",
       "    </tr>\n",
       "  </thead>\n",
       "  <tbody>\n",
       "    <tr>\n",
       "      <td id=\"T_f1b56_row0_col0\" class=\"data row0 col0\" >module</td>\n",
       "      <td id=\"T_f1b56_row0_col1\" class=\"data row0 col1\" >0</td>\n",
       "    </tr>\n",
       "    <tr>\n",
       "      <td id=\"T_f1b56_row1_col0\" class=\"data row1 col0\" >presentation</td>\n",
       "      <td id=\"T_f1b56_row1_col1\" class=\"data row1 col1\" >0</td>\n",
       "    </tr>\n",
       "    <tr>\n",
       "      <td id=\"T_f1b56_row2_col0\" class=\"data row2 col0\" >id_assessment</td>\n",
       "      <td id=\"T_f1b56_row2_col1\" class=\"data row2 col1\" >0</td>\n",
       "    </tr>\n",
       "    <tr>\n",
       "      <td id=\"T_f1b56_row3_col0\" class=\"data row3 col0\" >assessment_type</td>\n",
       "      <td id=\"T_f1b56_row3_col1\" class=\"data row3 col1\" >0</td>\n",
       "    </tr>\n",
       "    <tr>\n",
       "      <td id=\"T_f1b56_row4_col0\" class=\"data row4 col0\" >date</td>\n",
       "      <td id=\"T_f1b56_row4_col1\" class=\"data row4 col1\" >0</td>\n",
       "    </tr>\n",
       "    <tr>\n",
       "      <td id=\"T_f1b56_row5_col0\" class=\"data row5 col0\" >weight</td>\n",
       "      <td id=\"T_f1b56_row5_col1\" class=\"data row5 col1\" >0</td>\n",
       "    </tr>\n",
       "    <tr>\n",
       "      <td id=\"T_f1b56_row6_col0\" class=\"data row6 col0\" >module_presentation</td>\n",
       "      <td id=\"T_f1b56_row6_col1\" class=\"data row6 col1\" >0</td>\n",
       "    </tr>\n",
       "  </tbody>\n",
       "</table>\n"
      ],
      "text/plain": [
       "<pandas.io.formats.style.Styler at 0x195025d5d90>"
      ]
     },
     "execution_count": 124,
     "metadata": {},
     "output_type": "execute_result"
    }
   ],
   "source": [
    "# function to return dataframe of nulls in columns\n",
    "null_vals(assessments)"
   ]
  },
  {
   "cell_type": "code",
   "execution_count": 125,
   "id": "8bbb87f1-a448-46ee-950a-8fe51a833834",
   "metadata": {
    "tags": [
     "remove_input"
    ]
   },
   "outputs": [
    {
     "data": {
      "text/markdown": [
       "\n",
       "* We have 0 null data points for assessment date. \n",
       "* The documentation of this dataset states that if the exam date is missing then it is as the end of the last presentation week. \n",
       "* We can find this information in the courses dataframe, and add them in to get rid of the NaNs.\n"
      ],
      "text/plain": [
       "<IPython.core.display.Markdown object>"
      ]
     },
     "execution_count": 125,
     "metadata": {},
     "output_type": "execute_result"
    }
   ],
   "source": [
    "md(f'''\n",
    "* We have {assessments['date'].isnull().sum()} null data points for assessment date. \n",
    "* The documentation of this dataset states that if the exam date is missing then it is as the end of the last presentation week. \n",
    "* We can find this information in the courses dataframe, and add them in to get rid of the NaNs.\n",
    "''')"
   ]
  },
  {
   "cell_type": "code",
   "execution_count": 126,
   "id": "f13a8942-82eb-468d-b3d1-132e8853158d",
   "metadata": {
    "tags": [
     "remove-cell"
    ]
   },
   "outputs": [
    {
     "data": {
      "text/html": [
       "<div>\n",
       "<style scoped>\n",
       "    .dataframe tbody tr th:only-of-type {\n",
       "        vertical-align: middle;\n",
       "    }\n",
       "\n",
       "    .dataframe tbody tr th {\n",
       "        vertical-align: top;\n",
       "    }\n",
       "\n",
       "    .dataframe thead th {\n",
       "        text-align: right;\n",
       "    }\n",
       "</style>\n",
       "<table border=\"1\" class=\"dataframe\">\n",
       "  <thead>\n",
       "    <tr style=\"text-align: right;\">\n",
       "      <th></th>\n",
       "      <th>Null Values</th>\n",
       "    </tr>\n",
       "  </thead>\n",
       "  <tbody>\n",
       "    <tr>\n",
       "      <th>module</th>\n",
       "      <td>0</td>\n",
       "    </tr>\n",
       "    <tr>\n",
       "      <th>presentation</th>\n",
       "      <td>0</td>\n",
       "    </tr>\n",
       "    <tr>\n",
       "      <th>id_assessment</th>\n",
       "      <td>0</td>\n",
       "    </tr>\n",
       "    <tr>\n",
       "      <th>assessment_type</th>\n",
       "      <td>0</td>\n",
       "    </tr>\n",
       "    <tr>\n",
       "      <th>date</th>\n",
       "      <td>0</td>\n",
       "    </tr>\n",
       "    <tr>\n",
       "      <th>weight</th>\n",
       "      <td>0</td>\n",
       "    </tr>\n",
       "    <tr>\n",
       "      <th>module_presentation</th>\n",
       "      <td>0</td>\n",
       "    </tr>\n",
       "  </tbody>\n",
       "</table>\n",
       "</div>"
      ],
      "text/plain": [
       "                     Null Values\n",
       "module                         0\n",
       "presentation                   0\n",
       "id_assessment                  0\n",
       "assessment_type                0\n",
       "date                           0\n",
       "weight                         0\n",
       "module_presentation            0"
      ]
     },
     "execution_count": 126,
     "metadata": {},
     "output_type": "execute_result"
    }
   ],
   "source": [
    "# iterate through assessments entries where date is NA\n",
    "for index, row in assessments[assessments['date'].isna()].iterrows():\n",
    "    # change assessments date at current index to the module_presentation_length found in courses by locating the matching module/presentation\n",
    "    assessments.at[index, 'date'] = courses.loc[(courses['module'] == row['module']) & (courses['presentation'] == row['presentation']), 'module_presentation_length']\n",
    "\n",
    "# give a dataframe of null values to ensure there are now none\n",
    "dataframe(assessments.isnull().sum(), columns=['Null Values'])"
   ]
  },
  {
   "cell_type": "markdown",
   "id": "12a82008-f64a-4b36-b4df-8d0fe5cbcf21",
   "metadata": {},
   "source": [
    "**Unique Counts**"
   ]
  },
  {
   "cell_type": "code",
   "execution_count": 127,
   "id": "fd2e029c-9dc3-442c-a150-097032cf18bc",
   "metadata": {
    "tags": [
     "remove_input"
    ]
   },
   "outputs": [
    {
     "data": {
      "text/html": [
       "<style type=\"text/css\">\n",
       "#T_5a990_ td.col0 {\n",
       "  font-weight: bold;\n",
       "}\n",
       "</style>\n",
       "<table id=\"T_5a990_\">\n",
       "  <thead>\n",
       "    <tr>\n",
       "      <th class=\"col_heading level0 col0\" >index</th>\n",
       "      <th class=\"col_heading level0 col1\" >Count</th>\n",
       "    </tr>\n",
       "  </thead>\n",
       "  <tbody>\n",
       "    <tr>\n",
       "      <td id=\"T_5a990_row0_col0\" class=\"data row0 col0\" >module</td>\n",
       "      <td id=\"T_5a990_row0_col1\" class=\"data row0 col1\" >7</td>\n",
       "    </tr>\n",
       "    <tr>\n",
       "      <td id=\"T_5a990_row1_col0\" class=\"data row1 col0\" >presentation</td>\n",
       "      <td id=\"T_5a990_row1_col1\" class=\"data row1 col1\" >4</td>\n",
       "    </tr>\n",
       "    <tr>\n",
       "      <td id=\"T_5a990_row2_col0\" class=\"data row2 col0\" >id_assessment</td>\n",
       "      <td id=\"T_5a990_row2_col1\" class=\"data row2 col1\" >206</td>\n",
       "    </tr>\n",
       "    <tr>\n",
       "      <td id=\"T_5a990_row3_col0\" class=\"data row3 col0\" >assessment_type</td>\n",
       "      <td id=\"T_5a990_row3_col1\" class=\"data row3 col1\" >3</td>\n",
       "    </tr>\n",
       "    <tr>\n",
       "      <td id=\"T_5a990_row4_col0\" class=\"data row4 col0\" >date</td>\n",
       "      <td id=\"T_5a990_row4_col1\" class=\"data row4 col1\" >78</td>\n",
       "    </tr>\n",
       "    <tr>\n",
       "      <td id=\"T_5a990_row5_col0\" class=\"data row5 col0\" >weight</td>\n",
       "      <td id=\"T_5a990_row5_col1\" class=\"data row5 col1\" >24</td>\n",
       "    </tr>\n",
       "    <tr>\n",
       "      <td id=\"T_5a990_row6_col0\" class=\"data row6 col0\" >module_presentation</td>\n",
       "      <td id=\"T_5a990_row6_col1\" class=\"data row6 col1\" >22</td>\n",
       "    </tr>\n",
       "  </tbody>\n",
       "</table>\n"
      ],
      "text/plain": [
       "<pandas.io.formats.style.Styler at 0x1950460b580>"
      ]
     },
     "execution_count": 127,
     "metadata": {},
     "output_type": "execute_result"
    }
   ],
   "source": [
    "# function to get unique value counts\n",
    "count_unique(assessments)"
   ]
  },
  {
   "cell_type": "code",
   "execution_count": 128,
   "id": "7898593b-91e9-4886-86fb-45eba1c5cc71",
   "metadata": {
    "tags": [
     "remove_input"
    ]
   },
   "outputs": [
    {
     "data": {
      "text/markdown": [
       "\n",
       "There are 206 unique assessment ID's\n"
      ],
      "text/plain": [
       "<IPython.core.display.Markdown object>"
      ]
     },
     "execution_count": 128,
     "metadata": {},
     "output_type": "execute_result"
    }
   ],
   "source": [
    "md(f'''\n",
    "There are {assessments['id_assessment'].nunique()} unique assessment ID's\n",
    "''')"
   ]
  },
  {
   "cell_type": "markdown",
   "id": "12b44979-f5b1-4122-923c-dca2d7dac7d3",
   "metadata": {},
   "source": [
    "**Unique Categorical Values**"
   ]
  },
  {
   "cell_type": "code",
   "execution_count": 129,
   "id": "cc695273-72e6-4547-bde6-f870e75f850b",
   "metadata": {
    "tags": [
     "remove_input"
    ]
   },
   "outputs": [
    {
     "data": {
      "text/html": [
       "<style type=\"text/css\">\n",
       "#T_3b751_ td.col0 {\n",
       "  font-weight: bold;\n",
       "}\n",
       "</style>\n",
       "<table id=\"T_3b751_\">\n",
       "  <thead>\n",
       "    <tr>\n",
       "      <th class=\"col_heading level0 col0\" >index</th>\n",
       "      <th class=\"col_heading level0 col1\" >Values</th>\n",
       "    </tr>\n",
       "  </thead>\n",
       "  <tbody>\n",
       "    <tr>\n",
       "      <td id=\"T_3b751_row0_col0\" class=\"data row0 col0\" >module</td>\n",
       "      <td id=\"T_3b751_row0_col1\" class=\"data row0 col1\" >['AAA', 'BBB', 'CCC', 'DDD', 'EEE', 'FFF', 'GGG']</td>\n",
       "    </tr>\n",
       "    <tr>\n",
       "      <td id=\"T_3b751_row1_col0\" class=\"data row1 col0\" >presentation</td>\n",
       "      <td id=\"T_3b751_row1_col1\" class=\"data row1 col1\" >['2013J', '2014J', '2013B', '2014B']</td>\n",
       "    </tr>\n",
       "    <tr>\n",
       "      <td id=\"T_3b751_row2_col0\" class=\"data row2 col0\" >id_assessment</td>\n",
       "      <td id=\"T_3b751_row2_col1\" class=\"data row2 col1\" >['1752', '1753', '1754', '1755', '1756', '1757', '1758', '1759', '1760', '1761', '1762', '1763', '14991', '14992', '14993', '14994', '14995', '14984', '14985', '14986', '14987', '14988', '14989', '14990', '15003', '15004', '15005', '15006', '15007', '14996', '14997', '14998', '14999', '15000', '15001', '15002', '15015', '15016', '15017', '15018', '15019', '15008', '15009', '15010', '15011', '15012', '15013', '15014', '15020', '15021', '15022', '15023', '15024', '15025', '24286', '24287', '24288', '24289', '24282', '24283', '24284', '24285', '24290', '40087', '24295', '24296', '24297', '24298', '24291', '24292', '24293', '24294', '24299', '40088', '25341', '25342', '25343', '25344', '25345', '25346', '25347', '25334', '25335', '25336', '25337', '25338', '25339', '25340', '25348', '25349', '25350', '25351', '25352', '25353', '25354', '25355', '25356', '25357', '25358', '25359', '25360', '25361', '25362', '25363', '25364', '25365', '25366', '25367', '25368', '30709', '30710', '30711', '30712', '30713', '30714', '30715', '30716', '30717', '30718', '30719', '30720', '30721', '30722', '30723', '34865', '34866', '34867', '34868', '34869', '34871', '34870', '34860', '34861', '34862', '34863', '34864', '34872', '34878', '34879', '34880', '34881', '34882', '34884', '34883', '34873', '34874', '34875', '34876', '34877', '34885', '34891', '34892', '34893', '34894', '34895', '34897', '34896', '34886', '34887', '34888', '34889', '34890', '34898', '34904', '34905', '34906', '34907', '34908', '34910', '34909', '34899', '34900', '34901', '34902', '34903', '34911', '37418', '37419', '37420', '37421', '37422', '37423', '37415', '37416', '37417', '37424', '37428', '37429', '37430', '37431', '37432', '37433', '37425', '37426', '37427', '37434', '37438', '37439', '37440', '37441', '37442', '37443', '37435', '37436', '37437', '37444']</td>\n",
       "    </tr>\n",
       "    <tr>\n",
       "      <td id=\"T_3b751_row3_col0\" class=\"data row3 col0\" >assessment_type</td>\n",
       "      <td id=\"T_3b751_row3_col1\" class=\"data row3 col1\" >['TMA', 'Exam', 'CMA']</td>\n",
       "    </tr>\n",
       "  </tbody>\n",
       "</table>\n"
      ],
      "text/plain": [
       "<pandas.io.formats.style.Styler at 0x19501ab5670>"
      ]
     },
     "execution_count": 129,
     "metadata": {},
     "output_type": "execute_result"
    }
   ],
   "source": [
    "# function to get unique categorical values in columns\n",
    "unique_vals(assessments)"
   ]
  },
  {
   "cell_type": "markdown",
   "id": "e3f47e31-e319-4108-9ebc-9e004c4e77d0",
   "metadata": {},
   "source": [
    "Everything here is as we would expect in the data's description"
   ]
  },
  {
   "cell_type": "code",
   "execution_count": 130,
   "id": "7a79cc6f-d3f7-4a0f-9b41-0b9c39512656",
   "metadata": {},
   "outputs": [
    {
     "data": {
      "text/html": [
       "<div>\n",
       "<style scoped>\n",
       "    .dataframe tbody tr th:only-of-type {\n",
       "        vertical-align: middle;\n",
       "    }\n",
       "\n",
       "    .dataframe tbody tr th {\n",
       "        vertical-align: top;\n",
       "    }\n",
       "\n",
       "    .dataframe thead th {\n",
       "        text-align: right;\n",
       "    }\n",
       "</style>\n",
       "<table border=\"1\" class=\"dataframe\">\n",
       "  <thead>\n",
       "    <tr style=\"text-align: right;\">\n",
       "      <th></th>\n",
       "      <th>assessment_type</th>\n",
       "    </tr>\n",
       "  </thead>\n",
       "  <tbody>\n",
       "    <tr>\n",
       "      <th>TMA</th>\n",
       "      <td>106</td>\n",
       "    </tr>\n",
       "    <tr>\n",
       "      <th>CMA</th>\n",
       "      <td>76</td>\n",
       "    </tr>\n",
       "    <tr>\n",
       "      <th>Exam</th>\n",
       "      <td>24</td>\n",
       "    </tr>\n",
       "  </tbody>\n",
       "</table>\n",
       "</div>"
      ],
      "text/plain": [
       "      assessment_type\n",
       "TMA               106\n",
       "CMA                76\n",
       "Exam               24"
      ]
     },
     "execution_count": 130,
     "metadata": {},
     "output_type": "execute_result"
    }
   ],
   "source": [
    "# get the value counts for each type of exam\n",
    "dataframe(assessments['assessment_type'].value_counts())"
   ]
  },
  {
   "cell_type": "code",
   "execution_count": 131,
   "id": "a64ba967-c8b1-4baf-b230-d478bfaf0a54",
   "metadata": {},
   "outputs": [
    {
     "data": {
      "text/markdown": [
       "\n",
       "There are 106 Tutor Marked Assessements, 76 Computer Marked Assessments and 24 Final Exams in our data.\n"
      ],
      "text/plain": [
       "<IPython.core.display.Markdown object>"
      ]
     },
     "execution_count": 131,
     "metadata": {},
     "output_type": "execute_result"
    }
   ],
   "source": [
    "# store counts for each type of exam in assessments\n",
    "TMA_count = assessments['assessment_type'].value_counts()[0]\n",
    "CMA_count = assessments['assessment_type'].value_counts()[1]\n",
    "exam_count = assessments['assessment_type'].value_counts()[2]\n",
    "md(f'''\n",
    "There are {TMA_count} Tutor Marked Assessements, {CMA_count} Computer Marked Assessments and {exam_count} Final Exams in our data.\n",
    "''')"
   ]
  },
  {
   "cell_type": "code",
   "execution_count": 132,
   "id": "a35cce94-0e45-484a-9f41-fa7458febd6f",
   "metadata": {
    "tags": [
     "remove_input"
    ]
   },
   "outputs": [
    {
     "data": {
      "text/markdown": [
       "\n",
       "Our data source tells us that final exams are weighted 100 and the weights of the rest of the exams in a module should amount to 100.\n",
       " So each module should have a total weight of 200.\n"
      ],
      "text/plain": [
       "<IPython.core.display.Markdown object>"
      ]
     },
     "execution_count": 132,
     "metadata": {},
     "output_type": "execute_result"
    }
   ],
   "source": [
    "md('''\n",
    "Our data source tells us that final exams are weighted 100 and the weights of the rest of the exams in a module should amount to 100.\n",
    " So each module should have a total weight of 200.\n",
    "''')"
   ]
  },
  {
   "cell_type": "code",
   "execution_count": 133,
   "id": "e93250eb-afcf-47c8-95cb-56ee0752ede0",
   "metadata": {},
   "outputs": [
    {
     "data": {
      "text/html": [
       "<div>\n",
       "<style scoped>\n",
       "    .dataframe tbody tr th:only-of-type {\n",
       "        vertical-align: middle;\n",
       "    }\n",
       "\n",
       "    .dataframe tbody tr th {\n",
       "        vertical-align: top;\n",
       "    }\n",
       "\n",
       "    .dataframe thead th {\n",
       "        text-align: right;\n",
       "    }\n",
       "</style>\n",
       "<table border=\"1\" class=\"dataframe\">\n",
       "  <thead>\n",
       "    <tr style=\"text-align: right;\">\n",
       "      <th></th>\n",
       "      <th></th>\n",
       "      <th>weight</th>\n",
       "    </tr>\n",
       "    <tr>\n",
       "      <th>presentation</th>\n",
       "      <th>module</th>\n",
       "      <th></th>\n",
       "    </tr>\n",
       "  </thead>\n",
       "  <tbody>\n",
       "    <tr>\n",
       "      <th rowspan=\"7\" valign=\"top\">2013B</th>\n",
       "      <th>AAA</th>\n",
       "      <td>0.0</td>\n",
       "    </tr>\n",
       "    <tr>\n",
       "      <th>BBB</th>\n",
       "      <td>200.0</td>\n",
       "    </tr>\n",
       "    <tr>\n",
       "      <th>CCC</th>\n",
       "      <td>0.0</td>\n",
       "    </tr>\n",
       "    <tr>\n",
       "      <th>DDD</th>\n",
       "      <td>200.0</td>\n",
       "    </tr>\n",
       "    <tr>\n",
       "      <th>EEE</th>\n",
       "      <td>0.0</td>\n",
       "    </tr>\n",
       "    <tr>\n",
       "      <th>FFF</th>\n",
       "      <td>200.0</td>\n",
       "    </tr>\n",
       "    <tr>\n",
       "      <th>GGG</th>\n",
       "      <td>0.0</td>\n",
       "    </tr>\n",
       "    <tr>\n",
       "      <th rowspan=\"7\" valign=\"top\">2013J</th>\n",
       "      <th>AAA</th>\n",
       "      <td>200.0</td>\n",
       "    </tr>\n",
       "    <tr>\n",
       "      <th>BBB</th>\n",
       "      <td>200.0</td>\n",
       "    </tr>\n",
       "    <tr>\n",
       "      <th>CCC</th>\n",
       "      <td>0.0</td>\n",
       "    </tr>\n",
       "    <tr>\n",
       "      <th>DDD</th>\n",
       "      <td>200.0</td>\n",
       "    </tr>\n",
       "    <tr>\n",
       "      <th>EEE</th>\n",
       "      <td>200.0</td>\n",
       "    </tr>\n",
       "    <tr>\n",
       "      <th>FFF</th>\n",
       "      <td>200.0</td>\n",
       "    </tr>\n",
       "    <tr>\n",
       "      <th>GGG</th>\n",
       "      <td>100.0</td>\n",
       "    </tr>\n",
       "    <tr>\n",
       "      <th rowspan=\"7\" valign=\"top\">2014B</th>\n",
       "      <th>AAA</th>\n",
       "      <td>0.0</td>\n",
       "    </tr>\n",
       "    <tr>\n",
       "      <th>BBB</th>\n",
       "      <td>200.0</td>\n",
       "    </tr>\n",
       "    <tr>\n",
       "      <th>CCC</th>\n",
       "      <td>300.0</td>\n",
       "    </tr>\n",
       "    <tr>\n",
       "      <th>DDD</th>\n",
       "      <td>200.0</td>\n",
       "    </tr>\n",
       "    <tr>\n",
       "      <th>EEE</th>\n",
       "      <td>200.0</td>\n",
       "    </tr>\n",
       "    <tr>\n",
       "      <th>FFF</th>\n",
       "      <td>200.0</td>\n",
       "    </tr>\n",
       "    <tr>\n",
       "      <th>GGG</th>\n",
       "      <td>100.0</td>\n",
       "    </tr>\n",
       "    <tr>\n",
       "      <th rowspan=\"7\" valign=\"top\">2014J</th>\n",
       "      <th>AAA</th>\n",
       "      <td>200.0</td>\n",
       "    </tr>\n",
       "    <tr>\n",
       "      <th>BBB</th>\n",
       "      <td>200.0</td>\n",
       "    </tr>\n",
       "    <tr>\n",
       "      <th>CCC</th>\n",
       "      <td>300.0</td>\n",
       "    </tr>\n",
       "    <tr>\n",
       "      <th>DDD</th>\n",
       "      <td>200.0</td>\n",
       "    </tr>\n",
       "    <tr>\n",
       "      <th>EEE</th>\n",
       "      <td>200.0</td>\n",
       "    </tr>\n",
       "    <tr>\n",
       "      <th>FFF</th>\n",
       "      <td>200.0</td>\n",
       "    </tr>\n",
       "    <tr>\n",
       "      <th>GGG</th>\n",
       "      <td>100.0</td>\n",
       "    </tr>\n",
       "  </tbody>\n",
       "</table>\n",
       "</div>"
      ],
      "text/plain": [
       "                     weight\n",
       "presentation module        \n",
       "2013B        AAA        0.0\n",
       "             BBB      200.0\n",
       "             CCC        0.0\n",
       "             DDD      200.0\n",
       "             EEE        0.0\n",
       "             FFF      200.0\n",
       "             GGG        0.0\n",
       "2013J        AAA      200.0\n",
       "             BBB      200.0\n",
       "             CCC        0.0\n",
       "             DDD      200.0\n",
       "             EEE      200.0\n",
       "             FFF      200.0\n",
       "             GGG      100.0\n",
       "2014B        AAA        0.0\n",
       "             BBB      200.0\n",
       "             CCC      300.0\n",
       "             DDD      200.0\n",
       "             EEE      200.0\n",
       "             FFF      200.0\n",
       "             GGG      100.0\n",
       "2014J        AAA      200.0\n",
       "             BBB      200.0\n",
       "             CCC      300.0\n",
       "             DDD      200.0\n",
       "             EEE      200.0\n",
       "             FFF      200.0\n",
       "             GGG      100.0"
      ]
     },
     "execution_count": 133,
     "metadata": {},
     "output_type": "execute_result"
    }
   ],
   "source": [
    "# create a pivot table grouped by presentation and then module then the total exam weight\n",
    "pd.pivot_table(assessments, index=['presentation', 'module'], values='weight', aggfunc=np.sum)"
   ]
  },
  {
   "cell_type": "markdown",
   "id": "630042bd-ac3f-4b66-82b9-49fb1e8087f5",
   "metadata": {},
   "source": [
    "This pivot table shows the module presentation, the module and the total of the weights of the exams in the module.\n",
    "Because the final exam is weighted 100 and the other exams should form another 100 we should have 200 points in each module. We see here that CCC modules 300 in total weight and GGG modules have 100 in total weight."
   ]
  },
  {
   "cell_type": "code",
   "execution_count": 134,
   "id": "f11228d8-54b8-4c21-999b-a5806f13fdee",
   "metadata": {},
   "outputs": [
    {
     "data": {
      "text/html": [
       "<div>\n",
       "<style scoped>\n",
       "    .dataframe tbody tr th:only-of-type {\n",
       "        vertical-align: middle;\n",
       "    }\n",
       "\n",
       "    .dataframe tbody tr th {\n",
       "        vertical-align: top;\n",
       "    }\n",
       "\n",
       "    .dataframe thead th {\n",
       "        text-align: right;\n",
       "    }\n",
       "</style>\n",
       "<table border=\"1\" class=\"dataframe\">\n",
       "  <thead>\n",
       "    <tr style=\"text-align: right;\">\n",
       "      <th></th>\n",
       "      <th>module</th>\n",
       "      <th>id_assessment</th>\n",
       "      <th>assessment_type</th>\n",
       "      <th>weight</th>\n",
       "    </tr>\n",
       "  </thead>\n",
       "  <tbody>\n",
       "    <tr>\n",
       "      <th>54</th>\n",
       "      <td>CCC</td>\n",
       "      <td>24286</td>\n",
       "      <td>CMA</td>\n",
       "      <td>2.0</td>\n",
       "    </tr>\n",
       "    <tr>\n",
       "      <th>55</th>\n",
       "      <td>CCC</td>\n",
       "      <td>24287</td>\n",
       "      <td>CMA</td>\n",
       "      <td>7.0</td>\n",
       "    </tr>\n",
       "    <tr>\n",
       "      <th>56</th>\n",
       "      <td>CCC</td>\n",
       "      <td>24288</td>\n",
       "      <td>CMA</td>\n",
       "      <td>8.0</td>\n",
       "    </tr>\n",
       "    <tr>\n",
       "      <th>57</th>\n",
       "      <td>CCC</td>\n",
       "      <td>24289</td>\n",
       "      <td>CMA</td>\n",
       "      <td>8.0</td>\n",
       "    </tr>\n",
       "    <tr>\n",
       "      <th>58</th>\n",
       "      <td>CCC</td>\n",
       "      <td>24282</td>\n",
       "      <td>TMA</td>\n",
       "      <td>9.0</td>\n",
       "    </tr>\n",
       "    <tr>\n",
       "      <th>59</th>\n",
       "      <td>CCC</td>\n",
       "      <td>24283</td>\n",
       "      <td>TMA</td>\n",
       "      <td>22.0</td>\n",
       "    </tr>\n",
       "    <tr>\n",
       "      <th>60</th>\n",
       "      <td>CCC</td>\n",
       "      <td>24284</td>\n",
       "      <td>TMA</td>\n",
       "      <td>22.0</td>\n",
       "    </tr>\n",
       "    <tr>\n",
       "      <th>61</th>\n",
       "      <td>CCC</td>\n",
       "      <td>24285</td>\n",
       "      <td>TMA</td>\n",
       "      <td>22.0</td>\n",
       "    </tr>\n",
       "    <tr>\n",
       "      <th>62</th>\n",
       "      <td>CCC</td>\n",
       "      <td>24290</td>\n",
       "      <td>Exam</td>\n",
       "      <td>100.0</td>\n",
       "    </tr>\n",
       "    <tr>\n",
       "      <th>63</th>\n",
       "      <td>CCC</td>\n",
       "      <td>40087</td>\n",
       "      <td>Exam</td>\n",
       "      <td>100.0</td>\n",
       "    </tr>\n",
       "    <tr>\n",
       "      <th>64</th>\n",
       "      <td>CCC</td>\n",
       "      <td>24295</td>\n",
       "      <td>CMA</td>\n",
       "      <td>2.0</td>\n",
       "    </tr>\n",
       "    <tr>\n",
       "      <th>65</th>\n",
       "      <td>CCC</td>\n",
       "      <td>24296</td>\n",
       "      <td>CMA</td>\n",
       "      <td>7.0</td>\n",
       "    </tr>\n",
       "    <tr>\n",
       "      <th>66</th>\n",
       "      <td>CCC</td>\n",
       "      <td>24297</td>\n",
       "      <td>CMA</td>\n",
       "      <td>8.0</td>\n",
       "    </tr>\n",
       "    <tr>\n",
       "      <th>67</th>\n",
       "      <td>CCC</td>\n",
       "      <td>24298</td>\n",
       "      <td>CMA</td>\n",
       "      <td>8.0</td>\n",
       "    </tr>\n",
       "    <tr>\n",
       "      <th>68</th>\n",
       "      <td>CCC</td>\n",
       "      <td>24291</td>\n",
       "      <td>TMA</td>\n",
       "      <td>9.0</td>\n",
       "    </tr>\n",
       "    <tr>\n",
       "      <th>69</th>\n",
       "      <td>CCC</td>\n",
       "      <td>24292</td>\n",
       "      <td>TMA</td>\n",
       "      <td>22.0</td>\n",
       "    </tr>\n",
       "    <tr>\n",
       "      <th>70</th>\n",
       "      <td>CCC</td>\n",
       "      <td>24293</td>\n",
       "      <td>TMA</td>\n",
       "      <td>22.0</td>\n",
       "    </tr>\n",
       "    <tr>\n",
       "      <th>71</th>\n",
       "      <td>CCC</td>\n",
       "      <td>24294</td>\n",
       "      <td>TMA</td>\n",
       "      <td>22.0</td>\n",
       "    </tr>\n",
       "    <tr>\n",
       "      <th>72</th>\n",
       "      <td>CCC</td>\n",
       "      <td>24299</td>\n",
       "      <td>Exam</td>\n",
       "      <td>100.0</td>\n",
       "    </tr>\n",
       "    <tr>\n",
       "      <th>73</th>\n",
       "      <td>CCC</td>\n",
       "      <td>40088</td>\n",
       "      <td>Exam</td>\n",
       "      <td>100.0</td>\n",
       "    </tr>\n",
       "    <tr>\n",
       "      <th>176</th>\n",
       "      <td>GGG</td>\n",
       "      <td>37418</td>\n",
       "      <td>CMA</td>\n",
       "      <td>0.0</td>\n",
       "    </tr>\n",
       "    <tr>\n",
       "      <th>177</th>\n",
       "      <td>GGG</td>\n",
       "      <td>37419</td>\n",
       "      <td>CMA</td>\n",
       "      <td>0.0</td>\n",
       "    </tr>\n",
       "    <tr>\n",
       "      <th>178</th>\n",
       "      <td>GGG</td>\n",
       "      <td>37420</td>\n",
       "      <td>CMA</td>\n",
       "      <td>0.0</td>\n",
       "    </tr>\n",
       "    <tr>\n",
       "      <th>179</th>\n",
       "      <td>GGG</td>\n",
       "      <td>37421</td>\n",
       "      <td>CMA</td>\n",
       "      <td>0.0</td>\n",
       "    </tr>\n",
       "    <tr>\n",
       "      <th>180</th>\n",
       "      <td>GGG</td>\n",
       "      <td>37422</td>\n",
       "      <td>CMA</td>\n",
       "      <td>0.0</td>\n",
       "    </tr>\n",
       "    <tr>\n",
       "      <th>181</th>\n",
       "      <td>GGG</td>\n",
       "      <td>37423</td>\n",
       "      <td>CMA</td>\n",
       "      <td>0.0</td>\n",
       "    </tr>\n",
       "    <tr>\n",
       "      <th>182</th>\n",
       "      <td>GGG</td>\n",
       "      <td>37415</td>\n",
       "      <td>TMA</td>\n",
       "      <td>0.0</td>\n",
       "    </tr>\n",
       "    <tr>\n",
       "      <th>183</th>\n",
       "      <td>GGG</td>\n",
       "      <td>37416</td>\n",
       "      <td>TMA</td>\n",
       "      <td>0.0</td>\n",
       "    </tr>\n",
       "    <tr>\n",
       "      <th>184</th>\n",
       "      <td>GGG</td>\n",
       "      <td>37417</td>\n",
       "      <td>TMA</td>\n",
       "      <td>0.0</td>\n",
       "    </tr>\n",
       "    <tr>\n",
       "      <th>185</th>\n",
       "      <td>GGG</td>\n",
       "      <td>37424</td>\n",
       "      <td>Exam</td>\n",
       "      <td>100.0</td>\n",
       "    </tr>\n",
       "    <tr>\n",
       "      <th>186</th>\n",
       "      <td>GGG</td>\n",
       "      <td>37428</td>\n",
       "      <td>CMA</td>\n",
       "      <td>0.0</td>\n",
       "    </tr>\n",
       "    <tr>\n",
       "      <th>187</th>\n",
       "      <td>GGG</td>\n",
       "      <td>37429</td>\n",
       "      <td>CMA</td>\n",
       "      <td>0.0</td>\n",
       "    </tr>\n",
       "    <tr>\n",
       "      <th>188</th>\n",
       "      <td>GGG</td>\n",
       "      <td>37430</td>\n",
       "      <td>CMA</td>\n",
       "      <td>0.0</td>\n",
       "    </tr>\n",
       "    <tr>\n",
       "      <th>189</th>\n",
       "      <td>GGG</td>\n",
       "      <td>37431</td>\n",
       "      <td>CMA</td>\n",
       "      <td>0.0</td>\n",
       "    </tr>\n",
       "    <tr>\n",
       "      <th>190</th>\n",
       "      <td>GGG</td>\n",
       "      <td>37432</td>\n",
       "      <td>CMA</td>\n",
       "      <td>0.0</td>\n",
       "    </tr>\n",
       "    <tr>\n",
       "      <th>191</th>\n",
       "      <td>GGG</td>\n",
       "      <td>37433</td>\n",
       "      <td>CMA</td>\n",
       "      <td>0.0</td>\n",
       "    </tr>\n",
       "    <tr>\n",
       "      <th>192</th>\n",
       "      <td>GGG</td>\n",
       "      <td>37425</td>\n",
       "      <td>TMA</td>\n",
       "      <td>0.0</td>\n",
       "    </tr>\n",
       "    <tr>\n",
       "      <th>193</th>\n",
       "      <td>GGG</td>\n",
       "      <td>37426</td>\n",
       "      <td>TMA</td>\n",
       "      <td>0.0</td>\n",
       "    </tr>\n",
       "    <tr>\n",
       "      <th>194</th>\n",
       "      <td>GGG</td>\n",
       "      <td>37427</td>\n",
       "      <td>TMA</td>\n",
       "      <td>0.0</td>\n",
       "    </tr>\n",
       "    <tr>\n",
       "      <th>195</th>\n",
       "      <td>GGG</td>\n",
       "      <td>37434</td>\n",
       "      <td>Exam</td>\n",
       "      <td>100.0</td>\n",
       "    </tr>\n",
       "    <tr>\n",
       "      <th>196</th>\n",
       "      <td>GGG</td>\n",
       "      <td>37438</td>\n",
       "      <td>CMA</td>\n",
       "      <td>0.0</td>\n",
       "    </tr>\n",
       "    <tr>\n",
       "      <th>197</th>\n",
       "      <td>GGG</td>\n",
       "      <td>37439</td>\n",
       "      <td>CMA</td>\n",
       "      <td>0.0</td>\n",
       "    </tr>\n",
       "    <tr>\n",
       "      <th>198</th>\n",
       "      <td>GGG</td>\n",
       "      <td>37440</td>\n",
       "      <td>CMA</td>\n",
       "      <td>0.0</td>\n",
       "    </tr>\n",
       "    <tr>\n",
       "      <th>199</th>\n",
       "      <td>GGG</td>\n",
       "      <td>37441</td>\n",
       "      <td>CMA</td>\n",
       "      <td>0.0</td>\n",
       "    </tr>\n",
       "    <tr>\n",
       "      <th>200</th>\n",
       "      <td>GGG</td>\n",
       "      <td>37442</td>\n",
       "      <td>CMA</td>\n",
       "      <td>0.0</td>\n",
       "    </tr>\n",
       "    <tr>\n",
       "      <th>201</th>\n",
       "      <td>GGG</td>\n",
       "      <td>37443</td>\n",
       "      <td>CMA</td>\n",
       "      <td>0.0</td>\n",
       "    </tr>\n",
       "    <tr>\n",
       "      <th>202</th>\n",
       "      <td>GGG</td>\n",
       "      <td>37435</td>\n",
       "      <td>TMA</td>\n",
       "      <td>0.0</td>\n",
       "    </tr>\n",
       "    <tr>\n",
       "      <th>203</th>\n",
       "      <td>GGG</td>\n",
       "      <td>37436</td>\n",
       "      <td>TMA</td>\n",
       "      <td>0.0</td>\n",
       "    </tr>\n",
       "    <tr>\n",
       "      <th>204</th>\n",
       "      <td>GGG</td>\n",
       "      <td>37437</td>\n",
       "      <td>TMA</td>\n",
       "      <td>0.0</td>\n",
       "    </tr>\n",
       "    <tr>\n",
       "      <th>205</th>\n",
       "      <td>GGG</td>\n",
       "      <td>37444</td>\n",
       "      <td>Exam</td>\n",
       "      <td>100.0</td>\n",
       "    </tr>\n",
       "  </tbody>\n",
       "</table>\n",
       "</div>"
      ],
      "text/plain": [
       "    module id_assessment assessment_type  weight\n",
       "54     CCC         24286             CMA     2.0\n",
       "55     CCC         24287             CMA     7.0\n",
       "56     CCC         24288             CMA     8.0\n",
       "57     CCC         24289             CMA     8.0\n",
       "58     CCC         24282             TMA     9.0\n",
       "59     CCC         24283             TMA    22.0\n",
       "60     CCC         24284             TMA    22.0\n",
       "61     CCC         24285             TMA    22.0\n",
       "62     CCC         24290            Exam   100.0\n",
       "63     CCC         40087            Exam   100.0\n",
       "64     CCC         24295             CMA     2.0\n",
       "65     CCC         24296             CMA     7.0\n",
       "66     CCC         24297             CMA     8.0\n",
       "67     CCC         24298             CMA     8.0\n",
       "68     CCC         24291             TMA     9.0\n",
       "69     CCC         24292             TMA    22.0\n",
       "70     CCC         24293             TMA    22.0\n",
       "71     CCC         24294             TMA    22.0\n",
       "72     CCC         24299            Exam   100.0\n",
       "73     CCC         40088            Exam   100.0\n",
       "176    GGG         37418             CMA     0.0\n",
       "177    GGG         37419             CMA     0.0\n",
       "178    GGG         37420             CMA     0.0\n",
       "179    GGG         37421             CMA     0.0\n",
       "180    GGG         37422             CMA     0.0\n",
       "181    GGG         37423             CMA     0.0\n",
       "182    GGG         37415             TMA     0.0\n",
       "183    GGG         37416             TMA     0.0\n",
       "184    GGG         37417             TMA     0.0\n",
       "185    GGG         37424            Exam   100.0\n",
       "186    GGG         37428             CMA     0.0\n",
       "187    GGG         37429             CMA     0.0\n",
       "188    GGG         37430             CMA     0.0\n",
       "189    GGG         37431             CMA     0.0\n",
       "190    GGG         37432             CMA     0.0\n",
       "191    GGG         37433             CMA     0.0\n",
       "192    GGG         37425             TMA     0.0\n",
       "193    GGG         37426             TMA     0.0\n",
       "194    GGG         37427             TMA     0.0\n",
       "195    GGG         37434            Exam   100.0\n",
       "196    GGG         37438             CMA     0.0\n",
       "197    GGG         37439             CMA     0.0\n",
       "198    GGG         37440             CMA     0.0\n",
       "199    GGG         37441             CMA     0.0\n",
       "200    GGG         37442             CMA     0.0\n",
       "201    GGG         37443             CMA     0.0\n",
       "202    GGG         37435             TMA     0.0\n",
       "203    GGG         37436             TMA     0.0\n",
       "204    GGG         37437             TMA     0.0\n",
       "205    GGG         37444            Exam   100.0"
      ]
     },
     "execution_count": 134,
     "metadata": {},
     "output_type": "execute_result"
    }
   ],
   "source": [
    "# locate CCC and GGG exams in assessments and output dataframe \n",
    "ccc_ggg_weights = assessments.loc[(assessments['module'] == 'CCC') | (assessments['module'] == 'GGG')]\n",
    "ccc_ggg_weights = ccc_ggg_weights[['module', 'id_assessment', 'assessment_type', 'weight']]\n",
    "ccc_ggg_weights"
   ]
  },
  {
   "cell_type": "markdown",
   "id": "742ee344-5dd4-41b2-bddb-b4357417ed0c",
   "metadata": {},
   "source": [
    "We can see here that CCC Modules had two final exams, and the GGG module's full course weight consisted only of a final exam. "
   ]
  },
  {
   "cell_type": "markdown",
   "id": "6b6c5f0f-bb08-49af-a523-546a159dffae",
   "metadata": {},
   "source": [
    "**Duplicate Values:**"
   ]
  },
  {
   "cell_type": "code",
   "execution_count": 135,
   "id": "193037fb-6b33-4002-9882-f92bfaa3d4fa",
   "metadata": {
    "tags": [
     "remove_input"
    ]
   },
   "outputs": [
    {
     "data": {
      "text/markdown": [
       "There are no Duplicate Values"
      ],
      "text/plain": [
       "<IPython.core.display.Markdown object>"
      ]
     },
     "execution_count": 135,
     "metadata": {},
     "output_type": "execute_result"
    }
   ],
   "source": [
    "# function to output a dataframe of duplicate values\n",
    "get_dupes(assessments)"
   ]
  },
  {
   "cell_type": "markdown",
   "id": "c2a3dea0-4249-4808-8990-a06002234ed8",
   "metadata": {},
   "source": [
    "**Numerical Values**"
   ]
  },
  {
   "cell_type": "code",
   "execution_count": 136,
   "id": "513daf4b-0bca-4c52-81b6-8dcf7cc46df0",
   "metadata": {
    "tags": [
     "remove_input"
    ]
   },
   "outputs": [
    {
     "data": {
      "text/html": [
       "<div>\n",
       "<style scoped>\n",
       "    .dataframe tbody tr th:only-of-type {\n",
       "        vertical-align: middle;\n",
       "    }\n",
       "\n",
       "    .dataframe tbody tr th {\n",
       "        vertical-align: top;\n",
       "    }\n",
       "\n",
       "    .dataframe thead th {\n",
       "        text-align: right;\n",
       "    }\n",
       "</style>\n",
       "<table border=\"1\" class=\"dataframe\">\n",
       "  <thead>\n",
       "    <tr style=\"text-align: right;\">\n",
       "      <th></th>\n",
       "      <th>date</th>\n",
       "      <th>weight</th>\n",
       "    </tr>\n",
       "  </thead>\n",
       "  <tbody>\n",
       "    <tr>\n",
       "      <th>count</th>\n",
       "      <td>206.00</td>\n",
       "      <td>206.00</td>\n",
       "    </tr>\n",
       "    <tr>\n",
       "      <th>mean</th>\n",
       "      <td>150.97</td>\n",
       "      <td>20.87</td>\n",
       "    </tr>\n",
       "    <tr>\n",
       "      <th>std</th>\n",
       "      <td>78.16</td>\n",
       "      <td>30.38</td>\n",
       "    </tr>\n",
       "    <tr>\n",
       "      <th>min</th>\n",
       "      <td>12.00</td>\n",
       "      <td>0.00</td>\n",
       "    </tr>\n",
       "    <tr>\n",
       "      <th>25%</th>\n",
       "      <td>81.25</td>\n",
       "      <td>0.00</td>\n",
       "    </tr>\n",
       "    <tr>\n",
       "      <th>50%</th>\n",
       "      <td>159.00</td>\n",
       "      <td>12.50</td>\n",
       "    </tr>\n",
       "    <tr>\n",
       "      <th>75%</th>\n",
       "      <td>227.00</td>\n",
       "      <td>24.25</td>\n",
       "    </tr>\n",
       "    <tr>\n",
       "      <th>max</th>\n",
       "      <td>269.00</td>\n",
       "      <td>100.00</td>\n",
       "    </tr>\n",
       "  </tbody>\n",
       "</table>\n",
       "</div>"
      ],
      "text/plain": [
       "         date  weight\n",
       "count  206.00  206.00\n",
       "mean   150.97   20.87\n",
       "std     78.16   30.38\n",
       "min     12.00    0.00\n",
       "25%     81.25    0.00\n",
       "50%    159.00   12.50\n",
       "75%    227.00   24.25\n",
       "max    269.00  100.00"
      ]
     },
     "execution_count": 136,
     "metadata": {},
     "output_type": "execute_result"
    }
   ],
   "source": [
    "# show statistical information for numerical values\n",
    "assessments.describe().round(2)"
   ]
  },
  {
   "cell_type": "code",
   "execution_count": 137,
   "id": "5482db2d-21f8-48f7-9ed0-30b470049a49",
   "metadata": {},
   "outputs": [
    {
     "data": {
      "text/markdown": [
       "\n",
       "The average test is weighted at 20.87, which makes sense as there is normally 5 tests adding to 100 and then a final which likely brings up that mean.\n"
      ],
      "text/plain": [
       "<IPython.core.display.Markdown object>"
      ]
     },
     "execution_count": 137,
     "metadata": {},
     "output_type": "execute_result"
    }
   ],
   "source": [
    "mean_weight = round(assessments['weight'].mean(), 2)\n",
    "md(f'''\n",
    "The average test is weighted at {mean_weight}, which makes sense as there is normally 5 tests adding to 100 and then a final which likely brings up that mean.\n",
    "''')"
   ]
  },
  {
   "cell_type": "markdown",
   "id": "be180e42-b1a2-46f0-97e9-b07c8e135362",
   "metadata": {},
   "source": [
    "---\n",
    "\n",
    "### Student Assessment Information"
   ]
  },
  {
   "cell_type": "markdown",
   "id": "27e821be-1c68-4722-99fa-815aacd53d74",
   "metadata": {},
   "source": [
    "**Data Types**"
   ]
  },
  {
   "cell_type": "code",
   "execution_count": 138,
   "id": "9d5f951b-d145-4847-a476-60f6842f993f",
   "metadata": {
    "tags": [
     "remove_input"
    ]
   },
   "outputs": [
    {
     "data": {
      "text/html": [
       "<style type=\"text/css\">\n",
       "#T_05905_ td.col0 {\n",
       "  font-weight: bold;\n",
       "}\n",
       "</style>\n",
       "<table id=\"T_05905_\">\n",
       "  <thead>\n",
       "    <tr>\n",
       "      <th class=\"col_heading level0 col0\" >index</th>\n",
       "      <th class=\"col_heading level0 col1\" >Type</th>\n",
       "    </tr>\n",
       "  </thead>\n",
       "  <tbody>\n",
       "    <tr>\n",
       "      <td id=\"T_05905_row0_col0\" class=\"data row0 col0\" >id_assessment</td>\n",
       "      <td id=\"T_05905_row0_col1\" class=\"data row0 col1\" >string</td>\n",
       "    </tr>\n",
       "    <tr>\n",
       "      <td id=\"T_05905_row1_col0\" class=\"data row1 col0\" >id_student</td>\n",
       "      <td id=\"T_05905_row1_col1\" class=\"data row1 col1\" >string</td>\n",
       "    </tr>\n",
       "    <tr>\n",
       "      <td id=\"T_05905_row2_col0\" class=\"data row2 col0\" >date_submitted</td>\n",
       "      <td id=\"T_05905_row2_col1\" class=\"data row2 col1\" >Int64</td>\n",
       "    </tr>\n",
       "    <tr>\n",
       "      <td id=\"T_05905_row3_col0\" class=\"data row3 col0\" >score</td>\n",
       "      <td id=\"T_05905_row3_col1\" class=\"data row3 col1\" >Int64</td>\n",
       "    </tr>\n",
       "  </tbody>\n",
       "</table>\n"
      ],
      "text/plain": [
       "<pandas.io.formats.style.Styler at 0x19503f5a340>"
      ]
     },
     "execution_count": 138,
     "metadata": {},
     "output_type": "execute_result"
    }
   ],
   "source": [
    "# get student_assessment column datatypes\n",
    "get_dtypes(student_assessment)"
   ]
  },
  {
   "cell_type": "markdown",
   "id": "e93f5ac4-b241-4d35-865b-46bd4f9b5144",
   "metadata": {},
   "source": [
    "* `id_student` and `id_assessments` are both categorical values and so should be converted from `int64` to `string`"
   ]
  },
  {
   "cell_type": "code",
   "execution_count": 139,
   "id": "0b1ce356-2566-4ee6-8be0-14f37548cc26",
   "metadata": {
    "tags": [
     "remove-cell"
    ]
   },
   "outputs": [
    {
     "data": {
      "text/html": [
       "<div>\n",
       "<style scoped>\n",
       "    .dataframe tbody tr th:only-of-type {\n",
       "        vertical-align: middle;\n",
       "    }\n",
       "\n",
       "    .dataframe tbody tr th {\n",
       "        vertical-align: top;\n",
       "    }\n",
       "\n",
       "    .dataframe thead th {\n",
       "        text-align: right;\n",
       "    }\n",
       "</style>\n",
       "<table border=\"1\" class=\"dataframe\">\n",
       "  <thead>\n",
       "    <tr style=\"text-align: right;\">\n",
       "      <th></th>\n",
       "      <th>Data Type</th>\n",
       "    </tr>\n",
       "  </thead>\n",
       "  <tbody>\n",
       "    <tr>\n",
       "      <th>id_assessment</th>\n",
       "      <td>string</td>\n",
       "    </tr>\n",
       "    <tr>\n",
       "      <th>id_student</th>\n",
       "      <td>string</td>\n",
       "    </tr>\n",
       "    <tr>\n",
       "      <th>date_submitted</th>\n",
       "      <td>Int64</td>\n",
       "    </tr>\n",
       "    <tr>\n",
       "      <th>score</th>\n",
       "      <td>Int64</td>\n",
       "    </tr>\n",
       "  </tbody>\n",
       "</table>\n",
       "</div>"
      ],
      "text/plain": [
       "               Data Type\n",
       "id_assessment     string\n",
       "id_student        string\n",
       "date_submitted     Int64\n",
       "score              Int64"
      ]
     },
     "execution_count": 139,
     "metadata": {},
     "output_type": "execute_result"
    }
   ],
   "source": [
    "# converting the data types\n",
    "student_assessment = student_assessment.astype({'id_assessment': str, 'id_student': str})\n",
    "# change student_assessment datatypes to values that support pandas NA\n",
    "student_assessment = student_assessment.convert_dtypes()\n",
    "dataframe(student_assessment.dtypes, columns=['Data Type'])"
   ]
  },
  {
   "cell_type": "markdown",
   "id": "168c14d6-fa65-445c-a765-2120b6db8097",
   "metadata": {},
   "source": [
    "**Duplicate Values**"
   ]
  },
  {
   "cell_type": "code",
   "execution_count": 140,
   "id": "da1efefc-6b5e-49ee-8d39-b168f53830a2",
   "metadata": {
    "tags": [
     "remove_input"
    ]
   },
   "outputs": [
    {
     "data": {
      "text/markdown": [
       "There are no Duplicate Values"
      ],
      "text/plain": [
       "<IPython.core.display.Markdown object>"
      ]
     },
     "execution_count": 140,
     "metadata": {},
     "output_type": "execute_result"
    }
   ],
   "source": [
    "# gives a dataframe of duplicate values if any\n",
    "get_dupes(student_assessment)"
   ]
  },
  {
   "cell_type": "markdown",
   "id": "0dca9846-0e83-42fd-b51d-016982adadd0",
   "metadata": {},
   "source": [
    "**Unique Value Counts**"
   ]
  },
  {
   "cell_type": "code",
   "execution_count": 141,
   "id": "8c73d2f8-0e4d-4acd-829f-e00326c604ae",
   "metadata": {
    "tags": [
     "remove_input"
    ]
   },
   "outputs": [
    {
     "data": {
      "text/html": [
       "<style type=\"text/css\">\n",
       "#T_73b7f_ td.col0 {\n",
       "  font-weight: bold;\n",
       "}\n",
       "</style>\n",
       "<table id=\"T_73b7f_\">\n",
       "  <thead>\n",
       "    <tr>\n",
       "      <th class=\"col_heading level0 col0\" >index</th>\n",
       "      <th class=\"col_heading level0 col1\" >Count</th>\n",
       "    </tr>\n",
       "  </thead>\n",
       "  <tbody>\n",
       "    <tr>\n",
       "      <td id=\"T_73b7f_row0_col0\" class=\"data row0 col0\" >id_assessment</td>\n",
       "      <td id=\"T_73b7f_row0_col1\" class=\"data row0 col1\" >188</td>\n",
       "    </tr>\n",
       "    <tr>\n",
       "      <td id=\"T_73b7f_row1_col0\" class=\"data row1 col0\" >id_student</td>\n",
       "      <td id=\"T_73b7f_row1_col1\" class=\"data row1 col1\" >23369</td>\n",
       "    </tr>\n",
       "    <tr>\n",
       "      <td id=\"T_73b7f_row2_col0\" class=\"data row2 col0\" >date_submitted</td>\n",
       "      <td id=\"T_73b7f_row2_col1\" class=\"data row2 col1\" >312</td>\n",
       "    </tr>\n",
       "    <tr>\n",
       "      <td id=\"T_73b7f_row3_col0\" class=\"data row3 col0\" >score</td>\n",
       "      <td id=\"T_73b7f_row3_col1\" class=\"data row3 col1\" >101</td>\n",
       "    </tr>\n",
       "  </tbody>\n",
       "</table>\n"
      ],
      "text/plain": [
       "<pandas.io.formats.style.Styler at 0x1950527a8b0>"
      ]
     },
     "execution_count": 141,
     "metadata": {},
     "output_type": "execute_result"
    }
   ],
   "source": [
    "# gives a dataframe of counts of unique values per column\n",
    "count_unique(student_assessment)"
   ]
  },
  {
   "cell_type": "code",
   "execution_count": 142,
   "id": "f7f474e0-9d25-4ade-b9e8-63aa76aa2dc0",
   "metadata": {
    "tags": [
     "remove_input"
    ]
   },
   "outputs": [
    {
     "data": {
      "text/markdown": [
       "\n",
       "* There are 188 unique assessments that students took.\n",
       "* This is less than the 206 assessments we observed in the assessments dataframe meaning that there are some assessments on record that students did not take.\n",
       "* There are less unique students in student_assessments than student_info meaning there are students whom we have no test information for.\n"
      ],
      "text/plain": [
       "<IPython.core.display.Markdown object>"
      ]
     },
     "execution_count": 142,
     "metadata": {},
     "output_type": "execute_result"
    }
   ],
   "source": [
    "# get the number of unique assessments in student assessment\n",
    "assmnt_count = student_assessment['id_assessment'].nunique()\n",
    "# get the number of unique assessments in assessments\n",
    "total_assmnts = assessments['id_assessment'].nunique()\n",
    "md(f'''\n",
    "* There are {assmnt_count} unique assessments that students took.\n",
    "* This is less than the {total_assmnts} assessments we observed in the assessments dataframe meaning that there are some assessments on record that students did not take.\n",
    "* There are less unique students in student_assessments than student_info meaning there are students whom we have no test information for.\n",
    "''')"
   ]
  },
  {
   "cell_type": "code",
   "execution_count": 143,
   "id": "ee97fa9d-3a4f-454a-b439-64416d2e9462",
   "metadata": {},
   "outputs": [
    {
     "data": {
      "text/html": [
       "<div>\n",
       "<style scoped>\n",
       "    .dataframe tbody tr th:only-of-type {\n",
       "        vertical-align: middle;\n",
       "    }\n",
       "\n",
       "    .dataframe tbody tr th {\n",
       "        vertical-align: top;\n",
       "    }\n",
       "\n",
       "    .dataframe thead th {\n",
       "        text-align: right;\n",
       "    }\n",
       "</style>\n",
       "<table border=\"1\" class=\"dataframe\">\n",
       "  <thead>\n",
       "    <tr style=\"text-align: right;\">\n",
       "      <th></th>\n",
       "      <th>id_assessment</th>\n",
       "      <th>id_student</th>\n",
       "      <th>date_submitted</th>\n",
       "      <th>score</th>\n",
       "      <th>module</th>\n",
       "      <th>presentation</th>\n",
       "      <th>region</th>\n",
       "      <th>imd</th>\n",
       "      <th>age</th>\n",
       "      <th>gender</th>\n",
       "      <th>education</th>\n",
       "      <th>disability</th>\n",
       "      <th>attempts</th>\n",
       "      <th>credits</th>\n",
       "      <th>result</th>\n",
       "      <th>date_unregistration</th>\n",
       "      <th>_merge</th>\n",
       "    </tr>\n",
       "  </thead>\n",
       "  <tbody>\n",
       "    <tr>\n",
       "      <th>0</th>\n",
       "      <td>&lt;NA&gt;</td>\n",
       "      <td>11391</td>\n",
       "      <td>&lt;NA&gt;</td>\n",
       "      <td>&lt;NA&gt;</td>\n",
       "      <td>AAA</td>\n",
       "      <td>2013J</td>\n",
       "      <td>East Anglian</td>\n",
       "      <td>90-100%</td>\n",
       "      <td>55&lt;=</td>\n",
       "      <td>M</td>\n",
       "      <td>HE</td>\n",
       "      <td>False</td>\n",
       "      <td>0</td>\n",
       "      <td>240</td>\n",
       "      <td>Pass</td>\n",
       "      <td>&lt;NA&gt;</td>\n",
       "      <td>right_only</td>\n",
       "    </tr>\n",
       "    <tr>\n",
       "      <th>1</th>\n",
       "      <td>&lt;NA&gt;</td>\n",
       "      <td>28400</td>\n",
       "      <td>&lt;NA&gt;</td>\n",
       "      <td>&lt;NA&gt;</td>\n",
       "      <td>AAA</td>\n",
       "      <td>2013J</td>\n",
       "      <td>Scotland</td>\n",
       "      <td>20-30%</td>\n",
       "      <td>35-55</td>\n",
       "      <td>F</td>\n",
       "      <td>HE</td>\n",
       "      <td>False</td>\n",
       "      <td>0</td>\n",
       "      <td>60</td>\n",
       "      <td>Pass</td>\n",
       "      <td>&lt;NA&gt;</td>\n",
       "      <td>right_only</td>\n",
       "    </tr>\n",
       "    <tr>\n",
       "      <th>2</th>\n",
       "      <td>&lt;NA&gt;</td>\n",
       "      <td>30268</td>\n",
       "      <td>&lt;NA&gt;</td>\n",
       "      <td>&lt;NA&gt;</td>\n",
       "      <td>AAA</td>\n",
       "      <td>2013J</td>\n",
       "      <td>North Western</td>\n",
       "      <td>30-40%</td>\n",
       "      <td>35-55</td>\n",
       "      <td>F</td>\n",
       "      <td>A Level</td>\n",
       "      <td>True</td>\n",
       "      <td>0</td>\n",
       "      <td>60</td>\n",
       "      <td>Withdrawn</td>\n",
       "      <td>12</td>\n",
       "      <td>right_only</td>\n",
       "    </tr>\n",
       "    <tr>\n",
       "      <th>3</th>\n",
       "      <td>&lt;NA&gt;</td>\n",
       "      <td>31604</td>\n",
       "      <td>&lt;NA&gt;</td>\n",
       "      <td>&lt;NA&gt;</td>\n",
       "      <td>AAA</td>\n",
       "      <td>2013J</td>\n",
       "      <td>South East</td>\n",
       "      <td>50-60%</td>\n",
       "      <td>35-55</td>\n",
       "      <td>F</td>\n",
       "      <td>A Level</td>\n",
       "      <td>False</td>\n",
       "      <td>0</td>\n",
       "      <td>60</td>\n",
       "      <td>Pass</td>\n",
       "      <td>&lt;NA&gt;</td>\n",
       "      <td>right_only</td>\n",
       "    </tr>\n",
       "    <tr>\n",
       "      <th>4</th>\n",
       "      <td>&lt;NA&gt;</td>\n",
       "      <td>32885</td>\n",
       "      <td>&lt;NA&gt;</td>\n",
       "      <td>&lt;NA&gt;</td>\n",
       "      <td>AAA</td>\n",
       "      <td>2013J</td>\n",
       "      <td>West Midlands</td>\n",
       "      <td>50-60%</td>\n",
       "      <td>0-35</td>\n",
       "      <td>F</td>\n",
       "      <td>Under A Level</td>\n",
       "      <td>False</td>\n",
       "      <td>0</td>\n",
       "      <td>60</td>\n",
       "      <td>Pass</td>\n",
       "      <td>&lt;NA&gt;</td>\n",
       "      <td>right_only</td>\n",
       "    </tr>\n",
       "    <tr>\n",
       "      <th>...</th>\n",
       "      <td>...</td>\n",
       "      <td>...</td>\n",
       "      <td>...</td>\n",
       "      <td>...</td>\n",
       "      <td>...</td>\n",
       "      <td>...</td>\n",
       "      <td>...</td>\n",
       "      <td>...</td>\n",
       "      <td>...</td>\n",
       "      <td>...</td>\n",
       "      <td>...</td>\n",
       "      <td>...</td>\n",
       "      <td>...</td>\n",
       "      <td>...</td>\n",
       "      <td>...</td>\n",
       "      <td>...</td>\n",
       "      <td>...</td>\n",
       "    </tr>\n",
       "    <tr>\n",
       "      <th>29491</th>\n",
       "      <td>&lt;NA&gt;</td>\n",
       "      <td>2640965</td>\n",
       "      <td>&lt;NA&gt;</td>\n",
       "      <td>&lt;NA&gt;</td>\n",
       "      <td>GGG</td>\n",
       "      <td>2014J</td>\n",
       "      <td>Wales</td>\n",
       "      <td>10-20%</td>\n",
       "      <td>0-35</td>\n",
       "      <td>F</td>\n",
       "      <td>Under A Level</td>\n",
       "      <td>False</td>\n",
       "      <td>0</td>\n",
       "      <td>30</td>\n",
       "      <td>Fail</td>\n",
       "      <td>&lt;NA&gt;</td>\n",
       "      <td>right_only</td>\n",
       "    </tr>\n",
       "    <tr>\n",
       "      <th>29492</th>\n",
       "      <td>&lt;NA&gt;</td>\n",
       "      <td>2645731</td>\n",
       "      <td>&lt;NA&gt;</td>\n",
       "      <td>&lt;NA&gt;</td>\n",
       "      <td>GGG</td>\n",
       "      <td>2014J</td>\n",
       "      <td>East Anglian</td>\n",
       "      <td>40-50%</td>\n",
       "      <td>35-55</td>\n",
       "      <td>F</td>\n",
       "      <td>Under A Level</td>\n",
       "      <td>False</td>\n",
       "      <td>0</td>\n",
       "      <td>30</td>\n",
       "      <td>Distinction</td>\n",
       "      <td>&lt;NA&gt;</td>\n",
       "      <td>right_only</td>\n",
       "    </tr>\n",
       "    <tr>\n",
       "      <th>29493</th>\n",
       "      <td>&lt;NA&gt;</td>\n",
       "      <td>2648187</td>\n",
       "      <td>&lt;NA&gt;</td>\n",
       "      <td>&lt;NA&gt;</td>\n",
       "      <td>GGG</td>\n",
       "      <td>2014J</td>\n",
       "      <td>South</td>\n",
       "      <td>20-30%</td>\n",
       "      <td>0-35</td>\n",
       "      <td>F</td>\n",
       "      <td>A Level</td>\n",
       "      <td>True</td>\n",
       "      <td>0</td>\n",
       "      <td>30</td>\n",
       "      <td>Pass</td>\n",
       "      <td>&lt;NA&gt;</td>\n",
       "      <td>right_only</td>\n",
       "    </tr>\n",
       "    <tr>\n",
       "      <th>29494</th>\n",
       "      <td>&lt;NA&gt;</td>\n",
       "      <td>2679821</td>\n",
       "      <td>&lt;NA&gt;</td>\n",
       "      <td>&lt;NA&gt;</td>\n",
       "      <td>GGG</td>\n",
       "      <td>2014J</td>\n",
       "      <td>South East</td>\n",
       "      <td>90-100%</td>\n",
       "      <td>35-55</td>\n",
       "      <td>F</td>\n",
       "      <td>Under A Level</td>\n",
       "      <td>False</td>\n",
       "      <td>0</td>\n",
       "      <td>30</td>\n",
       "      <td>Withdrawn</td>\n",
       "      <td>101</td>\n",
       "      <td>right_only</td>\n",
       "    </tr>\n",
       "    <tr>\n",
       "      <th>29495</th>\n",
       "      <td>&lt;NA&gt;</td>\n",
       "      <td>2684003</td>\n",
       "      <td>&lt;NA&gt;</td>\n",
       "      <td>&lt;NA&gt;</td>\n",
       "      <td>GGG</td>\n",
       "      <td>2014J</td>\n",
       "      <td>Yorkshire</td>\n",
       "      <td>50-60%</td>\n",
       "      <td>35-55</td>\n",
       "      <td>F</td>\n",
       "      <td>HE</td>\n",
       "      <td>False</td>\n",
       "      <td>0</td>\n",
       "      <td>30</td>\n",
       "      <td>Distinction</td>\n",
       "      <td>&lt;NA&gt;</td>\n",
       "      <td>right_only</td>\n",
       "    </tr>\n",
       "  </tbody>\n",
       "</table>\n",
       "<p>29496 rows × 17 columns</p>\n",
       "</div>"
      ],
      "text/plain": [
       "      id_assessment id_student  date_submitted  score module presentation  \\\n",
       "0              <NA>      11391            <NA>   <NA>    AAA        2013J   \n",
       "1              <NA>      28400            <NA>   <NA>    AAA        2013J   \n",
       "2              <NA>      30268            <NA>   <NA>    AAA        2013J   \n",
       "3              <NA>      31604            <NA>   <NA>    AAA        2013J   \n",
       "4              <NA>      32885            <NA>   <NA>    AAA        2013J   \n",
       "...             ...        ...             ...    ...    ...          ...   \n",
       "29491          <NA>    2640965            <NA>   <NA>    GGG        2014J   \n",
       "29492          <NA>    2645731            <NA>   <NA>    GGG        2014J   \n",
       "29493          <NA>    2648187            <NA>   <NA>    GGG        2014J   \n",
       "29494          <NA>    2679821            <NA>   <NA>    GGG        2014J   \n",
       "29495          <NA>    2684003            <NA>   <NA>    GGG        2014J   \n",
       "\n",
       "              region      imd    age gender      education  disability  \\\n",
       "0       East Anglian  90-100%   55<=      M             HE       False   \n",
       "1           Scotland   20-30%  35-55      F             HE       False   \n",
       "2      North Western   30-40%  35-55      F        A Level        True   \n",
       "3         South East   50-60%  35-55      F        A Level       False   \n",
       "4      West Midlands   50-60%   0-35      F  Under A Level       False   \n",
       "...              ...      ...    ...    ...            ...         ...   \n",
       "29491          Wales   10-20%   0-35      F  Under A Level       False   \n",
       "29492   East Anglian   40-50%  35-55      F  Under A Level       False   \n",
       "29493          South   20-30%   0-35      F        A Level        True   \n",
       "29494     South East  90-100%  35-55      F  Under A Level       False   \n",
       "29495      Yorkshire   50-60%  35-55      F             HE       False   \n",
       "\n",
       "       attempts  credits       result  date_unregistration      _merge  \n",
       "0             0      240         Pass                 <NA>  right_only  \n",
       "1             0       60         Pass                 <NA>  right_only  \n",
       "2             0       60    Withdrawn                   12  right_only  \n",
       "3             0       60         Pass                 <NA>  right_only  \n",
       "4             0       60         Pass                 <NA>  right_only  \n",
       "...         ...      ...          ...                  ...         ...  \n",
       "29491         0       30         Fail                 <NA>  right_only  \n",
       "29492         0       30  Distinction                 <NA>  right_only  \n",
       "29493         0       30         Pass                 <NA>  right_only  \n",
       "29494         0       30    Withdrawn                  101  right_only  \n",
       "29495         0       30  Distinction                 <NA>  right_only  \n",
       "\n",
       "[29496 rows x 17 columns]"
      ]
     },
     "execution_count": 143,
     "metadata": {},
     "output_type": "execute_result"
    }
   ],
   "source": [
    "merged_si_sa = student_assessment.merge(stud_info, how='right', indicator=True)\n",
    "no_assessments = merged_si_sa.loc[merged_si_sa['_merge'] == 'right_only']\n",
    "no_assessments"
   ]
  },
  {
   "cell_type": "code",
   "execution_count": 144,
   "id": "678ea238-b3ff-4252-8e75-ec0855c46687",
   "metadata": {},
   "outputs": [
    {
     "data": {
      "text/html": [
       "<div>\n",
       "<style scoped>\n",
       "    .dataframe tbody tr th:only-of-type {\n",
       "        vertical-align: middle;\n",
       "    }\n",
       "\n",
       "    .dataframe tbody tr th {\n",
       "        vertical-align: top;\n",
       "    }\n",
       "\n",
       "    .dataframe thead th {\n",
       "        text-align: right;\n",
       "    }\n",
       "</style>\n",
       "<table border=\"1\" class=\"dataframe\">\n",
       "  <thead>\n",
       "    <tr style=\"text-align: right;\">\n",
       "      <th></th>\n",
       "      <th>result</th>\n",
       "    </tr>\n",
       "  </thead>\n",
       "  <tbody>\n",
       "    <tr>\n",
       "      <th>Pass</th>\n",
       "      <td>12361</td>\n",
       "    </tr>\n",
       "    <tr>\n",
       "      <th>Withdrawn</th>\n",
       "      <td>7068</td>\n",
       "    </tr>\n",
       "    <tr>\n",
       "      <th>Fail</th>\n",
       "      <td>7043</td>\n",
       "    </tr>\n",
       "    <tr>\n",
       "      <th>Distinction</th>\n",
       "      <td>3024</td>\n",
       "    </tr>\n",
       "  </tbody>\n",
       "</table>\n",
       "</div>"
      ],
      "text/plain": [
       "             result\n",
       "Pass          12361\n",
       "Withdrawn      7068\n",
       "Fail           7043\n",
       "Distinction    3024"
      ]
     },
     "execution_count": 144,
     "metadata": {},
     "output_type": "execute_result"
    }
   ],
   "source": [
    "dataframe(no_assessments['result'].value_counts())"
   ]
  },
  {
   "cell_type": "markdown",
   "id": "8b651b40-34f7-4303-ae86-cf88adee32ee",
   "metadata": {},
   "source": [
    "Results of withdrawn are to be expected, and it is likely that most of the students who failed did not participate at all but did not formally withdraw and thus have no test scores. The two passing students assessment test information is not within our dataframes."
   ]
  },
  {
   "cell_type": "code",
   "execution_count": 145,
   "id": "501f4de8-ac9a-4035-935c-1e9a7eeb14fd",
   "metadata": {},
   "outputs": [
    {
     "data": {
      "text/html": [
       "<div>\n",
       "<style scoped>\n",
       "    .dataframe tbody tr th:only-of-type {\n",
       "        vertical-align: middle;\n",
       "    }\n",
       "\n",
       "    .dataframe tbody tr th {\n",
       "        vertical-align: top;\n",
       "    }\n",
       "\n",
       "    .dataframe thead th {\n",
       "        text-align: right;\n",
       "    }\n",
       "</style>\n",
       "<table border=\"1\" class=\"dataframe\">\n",
       "  <thead>\n",
       "    <tr style=\"text-align: right;\">\n",
       "      <th></th>\n",
       "      <th>id_assessment</th>\n",
       "      <th>id_student</th>\n",
       "      <th>date_submitted</th>\n",
       "      <th>score</th>\n",
       "      <th>module</th>\n",
       "      <th>presentation</th>\n",
       "      <th>region</th>\n",
       "      <th>imd</th>\n",
       "      <th>age</th>\n",
       "      <th>gender</th>\n",
       "      <th>education</th>\n",
       "      <th>disability</th>\n",
       "      <th>attempts</th>\n",
       "      <th>credits</th>\n",
       "      <th>result</th>\n",
       "      <th>date_unregistration</th>\n",
       "      <th>_merge</th>\n",
       "    </tr>\n",
       "  </thead>\n",
       "  <tbody>\n",
       "    <tr>\n",
       "      <th>0</th>\n",
       "      <td>&lt;NA&gt;</td>\n",
       "      <td>11391</td>\n",
       "      <td>&lt;NA&gt;</td>\n",
       "      <td>&lt;NA&gt;</td>\n",
       "      <td>AAA</td>\n",
       "      <td>2013J</td>\n",
       "      <td>East Anglian</td>\n",
       "      <td>90-100%</td>\n",
       "      <td>55&lt;=</td>\n",
       "      <td>M</td>\n",
       "      <td>HE</td>\n",
       "      <td>False</td>\n",
       "      <td>0</td>\n",
       "      <td>240</td>\n",
       "      <td>Pass</td>\n",
       "      <td>&lt;NA&gt;</td>\n",
       "      <td>right_only</td>\n",
       "    </tr>\n",
       "    <tr>\n",
       "      <th>1</th>\n",
       "      <td>&lt;NA&gt;</td>\n",
       "      <td>28400</td>\n",
       "      <td>&lt;NA&gt;</td>\n",
       "      <td>&lt;NA&gt;</td>\n",
       "      <td>AAA</td>\n",
       "      <td>2013J</td>\n",
       "      <td>Scotland</td>\n",
       "      <td>20-30%</td>\n",
       "      <td>35-55</td>\n",
       "      <td>F</td>\n",
       "      <td>HE</td>\n",
       "      <td>False</td>\n",
       "      <td>0</td>\n",
       "      <td>60</td>\n",
       "      <td>Pass</td>\n",
       "      <td>&lt;NA&gt;</td>\n",
       "      <td>right_only</td>\n",
       "    </tr>\n",
       "    <tr>\n",
       "      <th>3</th>\n",
       "      <td>&lt;NA&gt;</td>\n",
       "      <td>31604</td>\n",
       "      <td>&lt;NA&gt;</td>\n",
       "      <td>&lt;NA&gt;</td>\n",
       "      <td>AAA</td>\n",
       "      <td>2013J</td>\n",
       "      <td>South East</td>\n",
       "      <td>50-60%</td>\n",
       "      <td>35-55</td>\n",
       "      <td>F</td>\n",
       "      <td>A Level</td>\n",
       "      <td>False</td>\n",
       "      <td>0</td>\n",
       "      <td>60</td>\n",
       "      <td>Pass</td>\n",
       "      <td>&lt;NA&gt;</td>\n",
       "      <td>right_only</td>\n",
       "    </tr>\n",
       "    <tr>\n",
       "      <th>4</th>\n",
       "      <td>&lt;NA&gt;</td>\n",
       "      <td>32885</td>\n",
       "      <td>&lt;NA&gt;</td>\n",
       "      <td>&lt;NA&gt;</td>\n",
       "      <td>AAA</td>\n",
       "      <td>2013J</td>\n",
       "      <td>West Midlands</td>\n",
       "      <td>50-60%</td>\n",
       "      <td>0-35</td>\n",
       "      <td>F</td>\n",
       "      <td>Under A Level</td>\n",
       "      <td>False</td>\n",
       "      <td>0</td>\n",
       "      <td>60</td>\n",
       "      <td>Pass</td>\n",
       "      <td>&lt;NA&gt;</td>\n",
       "      <td>right_only</td>\n",
       "    </tr>\n",
       "    <tr>\n",
       "      <th>5</th>\n",
       "      <td>&lt;NA&gt;</td>\n",
       "      <td>38053</td>\n",
       "      <td>&lt;NA&gt;</td>\n",
       "      <td>&lt;NA&gt;</td>\n",
       "      <td>AAA</td>\n",
       "      <td>2013J</td>\n",
       "      <td>Wales</td>\n",
       "      <td>80-90%</td>\n",
       "      <td>35-55</td>\n",
       "      <td>M</td>\n",
       "      <td>A Level</td>\n",
       "      <td>False</td>\n",
       "      <td>0</td>\n",
       "      <td>60</td>\n",
       "      <td>Pass</td>\n",
       "      <td>&lt;NA&gt;</td>\n",
       "      <td>right_only</td>\n",
       "    </tr>\n",
       "    <tr>\n",
       "      <th>...</th>\n",
       "      <td>...</td>\n",
       "      <td>...</td>\n",
       "      <td>...</td>\n",
       "      <td>...</td>\n",
       "      <td>...</td>\n",
       "      <td>...</td>\n",
       "      <td>...</td>\n",
       "      <td>...</td>\n",
       "      <td>...</td>\n",
       "      <td>...</td>\n",
       "      <td>...</td>\n",
       "      <td>...</td>\n",
       "      <td>...</td>\n",
       "      <td>...</td>\n",
       "      <td>...</td>\n",
       "      <td>...</td>\n",
       "      <td>...</td>\n",
       "    </tr>\n",
       "    <tr>\n",
       "      <th>29478</th>\n",
       "      <td>&lt;NA&gt;</td>\n",
       "      <td>2311714</td>\n",
       "      <td>&lt;NA&gt;</td>\n",
       "      <td>&lt;NA&gt;</td>\n",
       "      <td>GGG</td>\n",
       "      <td>2014J</td>\n",
       "      <td>London</td>\n",
       "      <td>30-40%</td>\n",
       "      <td>35-55</td>\n",
       "      <td>F</td>\n",
       "      <td>Under A Level</td>\n",
       "      <td>False</td>\n",
       "      <td>0</td>\n",
       "      <td>30</td>\n",
       "      <td>Pass</td>\n",
       "      <td>&lt;NA&gt;</td>\n",
       "      <td>right_only</td>\n",
       "    </tr>\n",
       "    <tr>\n",
       "      <th>29486</th>\n",
       "      <td>&lt;NA&gt;</td>\n",
       "      <td>2508153</td>\n",
       "      <td>&lt;NA&gt;</td>\n",
       "      <td>&lt;NA&gt;</td>\n",
       "      <td>GGG</td>\n",
       "      <td>2014J</td>\n",
       "      <td>East Midlands</td>\n",
       "      <td>10-20%</td>\n",
       "      <td>0-35</td>\n",
       "      <td>F</td>\n",
       "      <td>Under A Level</td>\n",
       "      <td>False</td>\n",
       "      <td>0</td>\n",
       "      <td>30</td>\n",
       "      <td>Pass</td>\n",
       "      <td>&lt;NA&gt;</td>\n",
       "      <td>right_only</td>\n",
       "    </tr>\n",
       "    <tr>\n",
       "      <th>29487</th>\n",
       "      <td>&lt;NA&gt;</td>\n",
       "      <td>2533195</td>\n",
       "      <td>&lt;NA&gt;</td>\n",
       "      <td>&lt;NA&gt;</td>\n",
       "      <td>GGG</td>\n",
       "      <td>2014J</td>\n",
       "      <td>South East</td>\n",
       "      <td>10-20%</td>\n",
       "      <td>0-35</td>\n",
       "      <td>F</td>\n",
       "      <td>Under A Level</td>\n",
       "      <td>False</td>\n",
       "      <td>0</td>\n",
       "      <td>30</td>\n",
       "      <td>Pass</td>\n",
       "      <td>&lt;NA&gt;</td>\n",
       "      <td>right_only</td>\n",
       "    </tr>\n",
       "    <tr>\n",
       "      <th>29488</th>\n",
       "      <td>&lt;NA&gt;</td>\n",
       "      <td>2606765</td>\n",
       "      <td>&lt;NA&gt;</td>\n",
       "      <td>&lt;NA&gt;</td>\n",
       "      <td>GGG</td>\n",
       "      <td>2014J</td>\n",
       "      <td>London</td>\n",
       "      <td>80-90%</td>\n",
       "      <td>0-35</td>\n",
       "      <td>F</td>\n",
       "      <td>Under A Level</td>\n",
       "      <td>False</td>\n",
       "      <td>0</td>\n",
       "      <td>30</td>\n",
       "      <td>Pass</td>\n",
       "      <td>&lt;NA&gt;</td>\n",
       "      <td>right_only</td>\n",
       "    </tr>\n",
       "    <tr>\n",
       "      <th>29493</th>\n",
       "      <td>&lt;NA&gt;</td>\n",
       "      <td>2648187</td>\n",
       "      <td>&lt;NA&gt;</td>\n",
       "      <td>&lt;NA&gt;</td>\n",
       "      <td>GGG</td>\n",
       "      <td>2014J</td>\n",
       "      <td>South</td>\n",
       "      <td>20-30%</td>\n",
       "      <td>0-35</td>\n",
       "      <td>F</td>\n",
       "      <td>A Level</td>\n",
       "      <td>True</td>\n",
       "      <td>0</td>\n",
       "      <td>30</td>\n",
       "      <td>Pass</td>\n",
       "      <td>&lt;NA&gt;</td>\n",
       "      <td>right_only</td>\n",
       "    </tr>\n",
       "  </tbody>\n",
       "</table>\n",
       "<p>12361 rows × 17 columns</p>\n",
       "</div>"
      ],
      "text/plain": [
       "      id_assessment id_student  date_submitted  score module presentation  \\\n",
       "0              <NA>      11391            <NA>   <NA>    AAA        2013J   \n",
       "1              <NA>      28400            <NA>   <NA>    AAA        2013J   \n",
       "3              <NA>      31604            <NA>   <NA>    AAA        2013J   \n",
       "4              <NA>      32885            <NA>   <NA>    AAA        2013J   \n",
       "5              <NA>      38053            <NA>   <NA>    AAA        2013J   \n",
       "...             ...        ...             ...    ...    ...          ...   \n",
       "29478          <NA>    2311714            <NA>   <NA>    GGG        2014J   \n",
       "29486          <NA>    2508153            <NA>   <NA>    GGG        2014J   \n",
       "29487          <NA>    2533195            <NA>   <NA>    GGG        2014J   \n",
       "29488          <NA>    2606765            <NA>   <NA>    GGG        2014J   \n",
       "29493          <NA>    2648187            <NA>   <NA>    GGG        2014J   \n",
       "\n",
       "              region      imd    age gender      education  disability  \\\n",
       "0       East Anglian  90-100%   55<=      M             HE       False   \n",
       "1           Scotland   20-30%  35-55      F             HE       False   \n",
       "3         South East   50-60%  35-55      F        A Level       False   \n",
       "4      West Midlands   50-60%   0-35      F  Under A Level       False   \n",
       "5              Wales   80-90%  35-55      M        A Level       False   \n",
       "...              ...      ...    ...    ...            ...         ...   \n",
       "29478         London   30-40%  35-55      F  Under A Level       False   \n",
       "29486  East Midlands   10-20%   0-35      F  Under A Level       False   \n",
       "29487     South East   10-20%   0-35      F  Under A Level       False   \n",
       "29488         London   80-90%   0-35      F  Under A Level       False   \n",
       "29493          South   20-30%   0-35      F        A Level        True   \n",
       "\n",
       "       attempts  credits result  date_unregistration      _merge  \n",
       "0             0      240   Pass                 <NA>  right_only  \n",
       "1             0       60   Pass                 <NA>  right_only  \n",
       "3             0       60   Pass                 <NA>  right_only  \n",
       "4             0       60   Pass                 <NA>  right_only  \n",
       "5             0       60   Pass                 <NA>  right_only  \n",
       "...         ...      ...    ...                  ...         ...  \n",
       "29478         0       30   Pass                 <NA>  right_only  \n",
       "29486         0       30   Pass                 <NA>  right_only  \n",
       "29487         0       30   Pass                 <NA>  right_only  \n",
       "29488         0       30   Pass                 <NA>  right_only  \n",
       "29493         0       30   Pass                 <NA>  right_only  \n",
       "\n",
       "[12361 rows x 17 columns]"
      ]
     },
     "execution_count": 145,
     "metadata": {},
     "output_type": "execute_result"
    }
   ],
   "source": [
    "no_assessments[no_assessments['result'] == 'Pass']"
   ]
  },
  {
   "cell_type": "markdown",
   "id": "745e83f5-8dbb-4d17-82ed-46f94ebd0a46",
   "metadata": {},
   "source": [
    "**Numerical Values**"
   ]
  },
  {
   "cell_type": "code",
   "execution_count": 146,
   "id": "fbf3448d-dd76-4672-8262-639b00dcc766",
   "metadata": {
    "tags": [
     "remove_input"
    ]
   },
   "outputs": [
    {
     "data": {
      "text/html": [
       "<div>\n",
       "<style scoped>\n",
       "    .dataframe tbody tr th:only-of-type {\n",
       "        vertical-align: middle;\n",
       "    }\n",
       "\n",
       "    .dataframe tbody tr th {\n",
       "        vertical-align: top;\n",
       "    }\n",
       "\n",
       "    .dataframe thead th {\n",
       "        text-align: right;\n",
       "    }\n",
       "</style>\n",
       "<table border=\"1\" class=\"dataframe\">\n",
       "  <thead>\n",
       "    <tr style=\"text-align: right;\">\n",
       "      <th></th>\n",
       "      <th>date_submitted</th>\n",
       "      <th>score</th>\n",
       "    </tr>\n",
       "  </thead>\n",
       "  <tbody>\n",
       "    <tr>\n",
       "      <th>count</th>\n",
       "      <td>173912.0</td>\n",
       "      <td>173739.0</td>\n",
       "    </tr>\n",
       "    <tr>\n",
       "      <th>mean</th>\n",
       "      <td>116.0</td>\n",
       "      <td>75.8</td>\n",
       "    </tr>\n",
       "    <tr>\n",
       "      <th>std</th>\n",
       "      <td>71.5</td>\n",
       "      <td>18.8</td>\n",
       "    </tr>\n",
       "    <tr>\n",
       "      <th>min</th>\n",
       "      <td>-11.0</td>\n",
       "      <td>0.0</td>\n",
       "    </tr>\n",
       "    <tr>\n",
       "      <th>25%</th>\n",
       "      <td>51.0</td>\n",
       "      <td>65.0</td>\n",
       "    </tr>\n",
       "    <tr>\n",
       "      <th>50%</th>\n",
       "      <td>116.0</td>\n",
       "      <td>80.0</td>\n",
       "    </tr>\n",
       "    <tr>\n",
       "      <th>75%</th>\n",
       "      <td>173.0</td>\n",
       "      <td>90.0</td>\n",
       "    </tr>\n",
       "    <tr>\n",
       "      <th>max</th>\n",
       "      <td>608.0</td>\n",
       "      <td>100.0</td>\n",
       "    </tr>\n",
       "  </tbody>\n",
       "</table>\n",
       "</div>"
      ],
      "text/plain": [
       "       date_submitted     score\n",
       "count        173912.0  173739.0\n",
       "mean            116.0      75.8\n",
       "std              71.5      18.8\n",
       "min             -11.0       0.0\n",
       "25%              51.0      65.0\n",
       "50%             116.0      80.0\n",
       "75%             173.0      90.0\n",
       "max             608.0     100.0"
      ]
     },
     "execution_count": 146,
     "metadata": {},
     "output_type": "execute_result"
    }
   ],
   "source": [
    "# show statistical information for numerical values\n",
    "student_assessment.describe().round(1)"
   ]
  },
  {
   "cell_type": "code",
   "execution_count": 147,
   "id": "ec959a0a-6468-4424-92ae-8afd1a399e0f",
   "metadata": {
    "tags": [
     "remove_input"
    ]
   },
   "outputs": [
    {
     "data": {
      "text/markdown": [
       "\n",
       "* The average test score is 75.8 so most students are passing handily if 40 is considered a failing score.\n",
       "* Scores are between 0 and 100 as would be expected.\n",
       "* The minimum date_submitted is -11 so it is possible the students had access to the first exam early, or that there is errors in the data.\n",
       "    * They don't fall too far outside the range, so we will keep those as they are\n",
       "* The maximum date submitted is 608, which is around 2.5 times longer than any course went on for.\n",
       "* Let's check for records that are over the maximum course length of 269 days.\n"
      ],
      "text/plain": [
       "<IPython.core.display.Markdown object>"
      ]
     },
     "execution_count": 147,
     "metadata": {},
     "output_type": "execute_result"
    }
   ],
   "source": [
    "# get average score of students\n",
    "mean_score = student_assessment['score'].mean().round(1)\n",
    "# get the largest date\n",
    "date_max = student_assessment['date_submitted'].max()\n",
    "# get the smallest date\n",
    "date_min = student_assessment['date_submitted'].min()\n",
    "# get the longest course length\n",
    "max_course_length = courses['module_presentation_length'].max()\n",
    "md(f'''\n",
    "* The average test score is {mean_score} so most students are passing handily if 40 is considered a failing score.\n",
    "* Scores are between 0 and 100 as would be expected.\n",
    "* The minimum date_submitted is {date_min} so it is possible the students had access to the first exam early, or that there is errors in the data.\n",
    "    * They don't fall too far outside the range, so we will keep those as they are\n",
    "* The maximum date submitted is {date_max}, which is around 2.5 times longer than any course went on for.\n",
    "* Let's check for records that are over the maximum course length of {max_course_length} days.\n",
    "''')"
   ]
  },
  {
   "cell_type": "code",
   "execution_count": 148,
   "id": "488380ab-5b5c-4089-a6ee-49ccc0d3e738",
   "metadata": {
    "tags": [
     "remove_input"
    ]
   },
   "outputs": [
    {
     "data": {
      "text/html": [
       "<div>\n",
       "<style scoped>\n",
       "    .dataframe tbody tr th:only-of-type {\n",
       "        vertical-align: middle;\n",
       "    }\n",
       "\n",
       "    .dataframe tbody tr th {\n",
       "        vertical-align: top;\n",
       "    }\n",
       "\n",
       "    .dataframe thead th {\n",
       "        text-align: right;\n",
       "    }\n",
       "</style>\n",
       "<table border=\"1\" class=\"dataframe\">\n",
       "  <thead>\n",
       "    <tr style=\"text-align: right;\">\n",
       "      <th></th>\n",
       "      <th>id_assessment</th>\n",
       "      <th>id_student</th>\n",
       "      <th>date_submitted</th>\n",
       "      <th>score</th>\n",
       "    </tr>\n",
       "  </thead>\n",
       "  <tbody>\n",
       "    <tr>\n",
       "      <th>0</th>\n",
       "      <td>15022</td>\n",
       "      <td>1723749</td>\n",
       "      <td>270</td>\n",
       "      <td>&lt;NA&gt;</td>\n",
       "    </tr>\n",
       "    <tr>\n",
       "      <th>1</th>\n",
       "      <td>30722</td>\n",
       "      <td>691701</td>\n",
       "      <td>274</td>\n",
       "      <td>&lt;NA&gt;</td>\n",
       "    </tr>\n",
       "    <tr>\n",
       "      <th>2</th>\n",
       "      <td>25368</td>\n",
       "      <td>2341830</td>\n",
       "      <td>279</td>\n",
       "      <td>49</td>\n",
       "    </tr>\n",
       "    <tr>\n",
       "      <th>3</th>\n",
       "      <td>24299</td>\n",
       "      <td>555498</td>\n",
       "      <td>285</td>\n",
       "      <td>58</td>\n",
       "    </tr>\n",
       "    <tr>\n",
       "      <th>4</th>\n",
       "      <td>34879</td>\n",
       "      <td>595935</td>\n",
       "      <td>287</td>\n",
       "      <td>96</td>\n",
       "    </tr>\n",
       "    <tr>\n",
       "      <th>...</th>\n",
       "      <td>...</td>\n",
       "      <td>...</td>\n",
       "      <td>...</td>\n",
       "      <td>...</td>\n",
       "    </tr>\n",
       "    <tr>\n",
       "      <th>68</th>\n",
       "      <td>34881</td>\n",
       "      <td>325750</td>\n",
       "      <td>608</td>\n",
       "      <td>66</td>\n",
       "    </tr>\n",
       "    <tr>\n",
       "      <th>69</th>\n",
       "      <td>34880</td>\n",
       "      <td>325750</td>\n",
       "      <td>608</td>\n",
       "      <td>68</td>\n",
       "    </tr>\n",
       "    <tr>\n",
       "      <th>70</th>\n",
       "      <td>34878</td>\n",
       "      <td>325750</td>\n",
       "      <td>608</td>\n",
       "      <td>74</td>\n",
       "    </tr>\n",
       "    <tr>\n",
       "      <th>71</th>\n",
       "      <td>34882</td>\n",
       "      <td>325750</td>\n",
       "      <td>608</td>\n",
       "      <td>68</td>\n",
       "    </tr>\n",
       "    <tr>\n",
       "      <th>72</th>\n",
       "      <td>34879</td>\n",
       "      <td>325750</td>\n",
       "      <td>608</td>\n",
       "      <td>95</td>\n",
       "    </tr>\n",
       "  </tbody>\n",
       "</table>\n",
       "<p>73 rows × 4 columns</p>\n",
       "</div>"
      ],
      "text/plain": [
       "   id_assessment id_student  date_submitted  score\n",
       "0          15022    1723749             270   <NA>\n",
       "1          30722     691701             274   <NA>\n",
       "2          25368    2341830             279     49\n",
       "3          24299     555498             285     58\n",
       "4          34879     595935             287     96\n",
       "..           ...        ...             ...    ...\n",
       "68         34881     325750             608     66\n",
       "69         34880     325750             608     68\n",
       "70         34878     325750             608     74\n",
       "71         34882     325750             608     68\n",
       "72         34879     325750             608     95\n",
       "\n",
       "[73 rows x 4 columns]"
      ]
     },
     "execution_count": 148,
     "metadata": {},
     "output_type": "execute_result"
    }
   ],
   "source": [
    "# find students whose exams are submitted after the latest possible module_presentation_length\n",
    "late_tests = student_assessment.loc[student_assessment['date_submitted'] > 269].sort_values(by='date_submitted').reset_index(drop=True)\n",
    "late_tests"
   ]
  },
  {
   "cell_type": "code",
   "execution_count": 149,
   "id": "c8d1a39a-c142-4fbb-9e80-099bba0785c9",
   "metadata": {
    "tags": [
     "remove_input"
    ]
   },
   "outputs": [
    {
     "data": {
      "text/markdown": [
       "\n",
       "* There are 73 records of students handing in their exams well after the end of the module.\n",
       "* These dates range from 270 days after the course began and 608 days after the course began.\n",
       "* The data source makes no mention of these, and they should not affect our analysis, so though strange, we will leave these records\n"
      ],
      "text/plain": [
       "<IPython.core.display.Markdown object>"
      ]
     },
     "execution_count": 149,
     "metadata": {},
     "output_type": "execute_result"
    }
   ],
   "source": [
    "# get the length of the dataframe of students with late test\n",
    "late_test_count = len(late_tests['date_submitted'])\n",
    "# find the lowest date submitted of the late tests\n",
    "late_test_min = late_tests['date_submitted'].min()\n",
    "# find the highest  date submitted of the late tests\n",
    "late_test_max = late_tests['date_submitted'].max()\n",
    "md(f'''\n",
    "* There are {late_test_count} records of students handing in their exams well after the end of the module.\n",
    "* These dates range from {late_test_min} days after the course began and {late_test_max} days after the course began.\n",
    "* The data source makes no mention of these, and they should not affect our analysis, so though strange, we will leave these records\n",
    "''')"
   ]
  },
  {
   "cell_type": "markdown",
   "id": "74135b93-3eb2-46c2-9022-88354bbbca6c",
   "metadata": {},
   "source": [
    "**Null Values**"
   ]
  },
  {
   "cell_type": "code",
   "execution_count": 150,
   "id": "49bae0d5-165b-41b3-b538-8f44b78ef693",
   "metadata": {
    "tags": [
     "remove_input"
    ]
   },
   "outputs": [
    {
     "data": {
      "text/html": [
       "<style type=\"text/css\">\n",
       "#T_dd481_ td.col0 {\n",
       "  font-weight: bold;\n",
       "}\n",
       "</style>\n",
       "<table id=\"T_dd481_\">\n",
       "  <thead>\n",
       "    <tr>\n",
       "      <th class=\"col_heading level0 col0\" >index</th>\n",
       "      <th class=\"col_heading level0 col1\" >Null Values</th>\n",
       "    </tr>\n",
       "  </thead>\n",
       "  <tbody>\n",
       "    <tr>\n",
       "      <td id=\"T_dd481_row0_col0\" class=\"data row0 col0\" >id_assessment</td>\n",
       "      <td id=\"T_dd481_row0_col1\" class=\"data row0 col1\" >0</td>\n",
       "    </tr>\n",
       "    <tr>\n",
       "      <td id=\"T_dd481_row1_col0\" class=\"data row1 col0\" >id_student</td>\n",
       "      <td id=\"T_dd481_row1_col1\" class=\"data row1 col1\" >0</td>\n",
       "    </tr>\n",
       "    <tr>\n",
       "      <td id=\"T_dd481_row2_col0\" class=\"data row2 col0\" >date_submitted</td>\n",
       "      <td id=\"T_dd481_row2_col1\" class=\"data row2 col1\" >0</td>\n",
       "    </tr>\n",
       "    <tr>\n",
       "      <td id=\"T_dd481_row3_col0\" class=\"data row3 col0\" >score</td>\n",
       "      <td id=\"T_dd481_row3_col1\" class=\"data row3 col1\" >173</td>\n",
       "    </tr>\n",
       "  </tbody>\n",
       "</table>\n"
      ],
      "text/plain": [
       "<pandas.io.formats.style.Styler at 0x19503f57dc0>"
      ]
     },
     "execution_count": 150,
     "metadata": {},
     "output_type": "execute_result"
    }
   ],
   "source": [
    "# get null values if any\n",
    "null_vals(student_assessment)"
   ]
  },
  {
   "cell_type": "code",
   "execution_count": 151,
   "id": "066fa432-22c1-49d8-be5a-1ce18cd518b8",
   "metadata": {
    "tags": [
     "remove_input"
    ]
   },
   "outputs": [
    {
     "data": {
      "text/markdown": [
       "\n",
       "* We have 173 null values for score, which is important as it is a value we will be trying to predict.\n",
       "* To find which exams these are we will merge the assessments and student_assessment dataframes to have the score, \n",
       "assessment ID and module/presentation in one place.\n"
      ],
      "text/plain": [
       "<IPython.core.display.Markdown object>"
      ]
     },
     "execution_count": 151,
     "metadata": {},
     "output_type": "execute_result"
    }
   ],
   "source": [
    "null_score = student_assessment['score'].isnull().sum()\n",
    "md(f'''\n",
    "* We have {null_score} null values for score, which is important as it is a value we will be trying to predict.\n",
    "* To find which exams these are we will merge the assessments and student_assessment dataframes to have the score, \n",
    "assessment ID and module/presentation in one place.\n",
    "''')"
   ]
  },
  {
   "cell_type": "markdown",
   "id": "680eedef-435a-4542-98d0-f7881b01d506",
   "metadata": {},
   "source": [
    "**Merged Asssessments**\n",
    "\n",
    "Here we will merge the assessments and student assessments dataframes in order to combine our student scores and submission dates with assessment type, date of the assessment, and weight of the assessment."
   ]
  },
  {
   "cell_type": "code",
   "execution_count": 152,
   "id": "aae10053-e6ba-4237-a94b-452edf2414e7",
   "metadata": {
    "tags": [
     "remove_input"
    ]
   },
   "outputs": [
    {
     "data": {
      "text/html": [
       "<div>\n",
       "<style scoped>\n",
       "    .dataframe tbody tr th:only-of-type {\n",
       "        vertical-align: middle;\n",
       "    }\n",
       "\n",
       "    .dataframe tbody tr th {\n",
       "        vertical-align: top;\n",
       "    }\n",
       "\n",
       "    .dataframe thead th {\n",
       "        text-align: right;\n",
       "    }\n",
       "</style>\n",
       "<table border=\"1\" class=\"dataframe\">\n",
       "  <thead>\n",
       "    <tr style=\"text-align: right;\">\n",
       "      <th></th>\n",
       "      <th>id_assessment</th>\n",
       "      <th>id_student</th>\n",
       "      <th>date_submitted</th>\n",
       "      <th>score</th>\n",
       "      <th>module</th>\n",
       "      <th>presentation</th>\n",
       "      <th>assessment_type</th>\n",
       "      <th>date</th>\n",
       "      <th>weight</th>\n",
       "      <th>module_presentation</th>\n",
       "      <th>_merge</th>\n",
       "    </tr>\n",
       "  </thead>\n",
       "  <tbody>\n",
       "    <tr>\n",
       "      <th>0</th>\n",
       "      <td>1752</td>\n",
       "      <td>11391</td>\n",
       "      <td>18</td>\n",
       "      <td>78</td>\n",
       "      <td>AAA</td>\n",
       "      <td>2013J</td>\n",
       "      <td>TMA</td>\n",
       "      <td>19.0</td>\n",
       "      <td>10.0</td>\n",
       "      <td>AAA2013J</td>\n",
       "      <td>both</td>\n",
       "    </tr>\n",
       "    <tr>\n",
       "      <th>1</th>\n",
       "      <td>1752</td>\n",
       "      <td>28400</td>\n",
       "      <td>22</td>\n",
       "      <td>70</td>\n",
       "      <td>AAA</td>\n",
       "      <td>2013J</td>\n",
       "      <td>TMA</td>\n",
       "      <td>19.0</td>\n",
       "      <td>10.0</td>\n",
       "      <td>AAA2013J</td>\n",
       "      <td>both</td>\n",
       "    </tr>\n",
       "    <tr>\n",
       "      <th>2</th>\n",
       "      <td>1752</td>\n",
       "      <td>31604</td>\n",
       "      <td>17</td>\n",
       "      <td>72</td>\n",
       "      <td>AAA</td>\n",
       "      <td>2013J</td>\n",
       "      <td>TMA</td>\n",
       "      <td>19.0</td>\n",
       "      <td>10.0</td>\n",
       "      <td>AAA2013J</td>\n",
       "      <td>both</td>\n",
       "    </tr>\n",
       "    <tr>\n",
       "      <th>3</th>\n",
       "      <td>1752</td>\n",
       "      <td>32885</td>\n",
       "      <td>26</td>\n",
       "      <td>69</td>\n",
       "      <td>AAA</td>\n",
       "      <td>2013J</td>\n",
       "      <td>TMA</td>\n",
       "      <td>19.0</td>\n",
       "      <td>10.0</td>\n",
       "      <td>AAA2013J</td>\n",
       "      <td>both</td>\n",
       "    </tr>\n",
       "    <tr>\n",
       "      <th>4</th>\n",
       "      <td>1752</td>\n",
       "      <td>38053</td>\n",
       "      <td>19</td>\n",
       "      <td>79</td>\n",
       "      <td>AAA</td>\n",
       "      <td>2013J</td>\n",
       "      <td>TMA</td>\n",
       "      <td>19.0</td>\n",
       "      <td>10.0</td>\n",
       "      <td>AAA2013J</td>\n",
       "      <td>both</td>\n",
       "    </tr>\n",
       "  </tbody>\n",
       "</table>\n",
       "</div>"
      ],
      "text/plain": [
       "  id_assessment id_student  date_submitted  score module presentation  \\\n",
       "0          1752      11391              18     78    AAA        2013J   \n",
       "1          1752      28400              22     70    AAA        2013J   \n",
       "2          1752      31604              17     72    AAA        2013J   \n",
       "3          1752      32885              26     69    AAA        2013J   \n",
       "4          1752      38053              19     79    AAA        2013J   \n",
       "\n",
       "  assessment_type  date  weight module_presentation _merge  \n",
       "0             TMA  19.0    10.0            AAA2013J   both  \n",
       "1             TMA  19.0    10.0            AAA2013J   both  \n",
       "2             TMA  19.0    10.0            AAA2013J   both  \n",
       "3             TMA  19.0    10.0            AAA2013J   both  \n",
       "4             TMA  19.0    10.0            AAA2013J   both  "
      ]
     },
     "execution_count": 152,
     "metadata": {},
     "output_type": "execute_result"
    }
   ],
   "source": [
    "# merges dataframes student_assessment with assessments with a full outer join on their common ID id_assessment\n",
    "# creates a column _merge which tells you if the id_assessment was found in one or both dataframes\n",
    "merged_assessments = student_assessment.merge(assessments, how='outer', on=['id_assessment'] ,indicator=True)\n",
    "# convert datatypes back since merge doesn't preserve these\n",
    "merged_assessments = merged_assessments.astype({'id_student': str, 'id_assessment':str}).convert_dtypes()\n",
    "# show first 5 rows of dataframe\n",
    "merged_assessments.head()"
   ]
  },
  {
   "cell_type": "markdown",
   "id": "80a3672c-442f-4d13-a9ae-4ff884bfb0cc",
   "metadata": {},
   "source": [
    "Our new `_merge` column tells us if the data maps perfectly, or if it is only found on the right or left side, the right side being the assessments dataframe and the left side being the student_assessments dataframe. "
   ]
  },
  {
   "cell_type": "code",
   "execution_count": 153,
   "id": "9dc0a44d-10e4-441c-9b65-24dd1ffd2561",
   "metadata": {
    "tags": []
   },
   "outputs": [
    {
     "data": {
      "text/markdown": [
       "\n",
       "**Rows that do not map**\n",
       "\n",
       "First we will check our merge column to find which rows do not map to one another in our two dataframes"
      ],
      "text/plain": [
       "<IPython.core.display.Markdown object>"
      ]
     },
     "execution_count": 153,
     "metadata": {},
     "output_type": "execute_result"
    }
   ],
   "source": [
    "md(f'''\n",
    "**Rows that do not map**\n",
    "\n",
    "First we will check our merge column to find which rows do not map to one another in our two dataframes''')"
   ]
  },
  {
   "cell_type": "code",
   "execution_count": 154,
   "id": "94a41ba1-7673-4d82-904f-c67b5592b269",
   "metadata": {
    "tags": [
     "remove_input"
    ]
   },
   "outputs": [
    {
     "data": {
      "text/html": [
       "<div>\n",
       "<style scoped>\n",
       "    .dataframe tbody tr th:only-of-type {\n",
       "        vertical-align: middle;\n",
       "    }\n",
       "\n",
       "    .dataframe tbody tr th {\n",
       "        vertical-align: top;\n",
       "    }\n",
       "\n",
       "    .dataframe thead th {\n",
       "        text-align: right;\n",
       "    }\n",
       "</style>\n",
       "<table border=\"1\" class=\"dataframe\">\n",
       "  <thead>\n",
       "    <tr style=\"text-align: right;\">\n",
       "      <th></th>\n",
       "      <th>id_assessment</th>\n",
       "      <th>id_student</th>\n",
       "      <th>date_submitted</th>\n",
       "      <th>score</th>\n",
       "      <th>module</th>\n",
       "      <th>presentation</th>\n",
       "      <th>assessment_type</th>\n",
       "      <th>date</th>\n",
       "      <th>weight</th>\n",
       "      <th>module_presentation</th>\n",
       "      <th>_merge</th>\n",
       "    </tr>\n",
       "  </thead>\n",
       "  <tbody>\n",
       "    <tr>\n",
       "      <th>0</th>\n",
       "      <td>1757</td>\n",
       "      <td>&lt;NA&gt;</td>\n",
       "      <td>&lt;NA&gt;</td>\n",
       "      <td>&lt;NA&gt;</td>\n",
       "      <td>AAA</td>\n",
       "      <td>2013J</td>\n",
       "      <td>Exam</td>\n",
       "      <td>268.0</td>\n",
       "      <td>100.0</td>\n",
       "      <td>AAA2013J</td>\n",
       "      <td>right_only</td>\n",
       "    </tr>\n",
       "    <tr>\n",
       "      <th>1</th>\n",
       "      <td>1763</td>\n",
       "      <td>&lt;NA&gt;</td>\n",
       "      <td>&lt;NA&gt;</td>\n",
       "      <td>&lt;NA&gt;</td>\n",
       "      <td>AAA</td>\n",
       "      <td>2014J</td>\n",
       "      <td>Exam</td>\n",
       "      <td>269.0</td>\n",
       "      <td>100.0</td>\n",
       "      <td>AAA2014J</td>\n",
       "      <td>right_only</td>\n",
       "    </tr>\n",
       "    <tr>\n",
       "      <th>2</th>\n",
       "      <td>14990</td>\n",
       "      <td>&lt;NA&gt;</td>\n",
       "      <td>&lt;NA&gt;</td>\n",
       "      <td>&lt;NA&gt;</td>\n",
       "      <td>BBB</td>\n",
       "      <td>2013B</td>\n",
       "      <td>Exam</td>\n",
       "      <td>240.0</td>\n",
       "      <td>100.0</td>\n",
       "      <td>BBB2013B</td>\n",
       "      <td>right_only</td>\n",
       "    </tr>\n",
       "    <tr>\n",
       "      <th>3</th>\n",
       "      <td>15002</td>\n",
       "      <td>&lt;NA&gt;</td>\n",
       "      <td>&lt;NA&gt;</td>\n",
       "      <td>&lt;NA&gt;</td>\n",
       "      <td>BBB</td>\n",
       "      <td>2013J</td>\n",
       "      <td>Exam</td>\n",
       "      <td>268.0</td>\n",
       "      <td>100.0</td>\n",
       "      <td>BBB2013J</td>\n",
       "      <td>right_only</td>\n",
       "    </tr>\n",
       "    <tr>\n",
       "      <th>4</th>\n",
       "      <td>15014</td>\n",
       "      <td>&lt;NA&gt;</td>\n",
       "      <td>&lt;NA&gt;</td>\n",
       "      <td>&lt;NA&gt;</td>\n",
       "      <td>BBB</td>\n",
       "      <td>2014B</td>\n",
       "      <td>Exam</td>\n",
       "      <td>234.0</td>\n",
       "      <td>100.0</td>\n",
       "      <td>BBB2014B</td>\n",
       "      <td>right_only</td>\n",
       "    </tr>\n",
       "    <tr>\n",
       "      <th>5</th>\n",
       "      <td>15025</td>\n",
       "      <td>&lt;NA&gt;</td>\n",
       "      <td>&lt;NA&gt;</td>\n",
       "      <td>&lt;NA&gt;</td>\n",
       "      <td>BBB</td>\n",
       "      <td>2014J</td>\n",
       "      <td>Exam</td>\n",
       "      <td>262.0</td>\n",
       "      <td>100.0</td>\n",
       "      <td>BBB2014J</td>\n",
       "      <td>right_only</td>\n",
       "    </tr>\n",
       "    <tr>\n",
       "      <th>6</th>\n",
       "      <td>40087</td>\n",
       "      <td>&lt;NA&gt;</td>\n",
       "      <td>&lt;NA&gt;</td>\n",
       "      <td>&lt;NA&gt;</td>\n",
       "      <td>CCC</td>\n",
       "      <td>2014B</td>\n",
       "      <td>Exam</td>\n",
       "      <td>241.0</td>\n",
       "      <td>100.0</td>\n",
       "      <td>CCC2014B</td>\n",
       "      <td>right_only</td>\n",
       "    </tr>\n",
       "    <tr>\n",
       "      <th>7</th>\n",
       "      <td>40088</td>\n",
       "      <td>&lt;NA&gt;</td>\n",
       "      <td>&lt;NA&gt;</td>\n",
       "      <td>&lt;NA&gt;</td>\n",
       "      <td>CCC</td>\n",
       "      <td>2014J</td>\n",
       "      <td>Exam</td>\n",
       "      <td>269.0</td>\n",
       "      <td>100.0</td>\n",
       "      <td>CCC2014J</td>\n",
       "      <td>right_only</td>\n",
       "    </tr>\n",
       "    <tr>\n",
       "      <th>8</th>\n",
       "      <td>30713</td>\n",
       "      <td>&lt;NA&gt;</td>\n",
       "      <td>&lt;NA&gt;</td>\n",
       "      <td>&lt;NA&gt;</td>\n",
       "      <td>EEE</td>\n",
       "      <td>2013J</td>\n",
       "      <td>Exam</td>\n",
       "      <td>235.0</td>\n",
       "      <td>100.0</td>\n",
       "      <td>EEE2013J</td>\n",
       "      <td>right_only</td>\n",
       "    </tr>\n",
       "    <tr>\n",
       "      <th>9</th>\n",
       "      <td>30718</td>\n",
       "      <td>&lt;NA&gt;</td>\n",
       "      <td>&lt;NA&gt;</td>\n",
       "      <td>&lt;NA&gt;</td>\n",
       "      <td>EEE</td>\n",
       "      <td>2014B</td>\n",
       "      <td>Exam</td>\n",
       "      <td>228.0</td>\n",
       "      <td>100.0</td>\n",
       "      <td>EEE2014B</td>\n",
       "      <td>right_only</td>\n",
       "    </tr>\n",
       "    <tr>\n",
       "      <th>10</th>\n",
       "      <td>30723</td>\n",
       "      <td>&lt;NA&gt;</td>\n",
       "      <td>&lt;NA&gt;</td>\n",
       "      <td>&lt;NA&gt;</td>\n",
       "      <td>EEE</td>\n",
       "      <td>2014J</td>\n",
       "      <td>Exam</td>\n",
       "      <td>235.0</td>\n",
       "      <td>100.0</td>\n",
       "      <td>EEE2014J</td>\n",
       "      <td>right_only</td>\n",
       "    </tr>\n",
       "    <tr>\n",
       "      <th>11</th>\n",
       "      <td>34872</td>\n",
       "      <td>&lt;NA&gt;</td>\n",
       "      <td>&lt;NA&gt;</td>\n",
       "      <td>&lt;NA&gt;</td>\n",
       "      <td>FFF</td>\n",
       "      <td>2013B</td>\n",
       "      <td>Exam</td>\n",
       "      <td>222.0</td>\n",
       "      <td>100.0</td>\n",
       "      <td>FFF2013B</td>\n",
       "      <td>right_only</td>\n",
       "    </tr>\n",
       "    <tr>\n",
       "      <th>12</th>\n",
       "      <td>34885</td>\n",
       "      <td>&lt;NA&gt;</td>\n",
       "      <td>&lt;NA&gt;</td>\n",
       "      <td>&lt;NA&gt;</td>\n",
       "      <td>FFF</td>\n",
       "      <td>2013J</td>\n",
       "      <td>Exam</td>\n",
       "      <td>236.0</td>\n",
       "      <td>100.0</td>\n",
       "      <td>FFF2013J</td>\n",
       "      <td>right_only</td>\n",
       "    </tr>\n",
       "    <tr>\n",
       "      <th>13</th>\n",
       "      <td>34898</td>\n",
       "      <td>&lt;NA&gt;</td>\n",
       "      <td>&lt;NA&gt;</td>\n",
       "      <td>&lt;NA&gt;</td>\n",
       "      <td>FFF</td>\n",
       "      <td>2014B</td>\n",
       "      <td>Exam</td>\n",
       "      <td>227.0</td>\n",
       "      <td>100.0</td>\n",
       "      <td>FFF2014B</td>\n",
       "      <td>right_only</td>\n",
       "    </tr>\n",
       "    <tr>\n",
       "      <th>14</th>\n",
       "      <td>34911</td>\n",
       "      <td>&lt;NA&gt;</td>\n",
       "      <td>&lt;NA&gt;</td>\n",
       "      <td>&lt;NA&gt;</td>\n",
       "      <td>FFF</td>\n",
       "      <td>2014J</td>\n",
       "      <td>Exam</td>\n",
       "      <td>241.0</td>\n",
       "      <td>100.0</td>\n",
       "      <td>FFF2014J</td>\n",
       "      <td>right_only</td>\n",
       "    </tr>\n",
       "    <tr>\n",
       "      <th>15</th>\n",
       "      <td>37424</td>\n",
       "      <td>&lt;NA&gt;</td>\n",
       "      <td>&lt;NA&gt;</td>\n",
       "      <td>&lt;NA&gt;</td>\n",
       "      <td>GGG</td>\n",
       "      <td>2013J</td>\n",
       "      <td>Exam</td>\n",
       "      <td>229.0</td>\n",
       "      <td>100.0</td>\n",
       "      <td>GGG2013J</td>\n",
       "      <td>right_only</td>\n",
       "    </tr>\n",
       "    <tr>\n",
       "      <th>16</th>\n",
       "      <td>37434</td>\n",
       "      <td>&lt;NA&gt;</td>\n",
       "      <td>&lt;NA&gt;</td>\n",
       "      <td>&lt;NA&gt;</td>\n",
       "      <td>GGG</td>\n",
       "      <td>2014B</td>\n",
       "      <td>Exam</td>\n",
       "      <td>222.0</td>\n",
       "      <td>100.0</td>\n",
       "      <td>GGG2014B</td>\n",
       "      <td>right_only</td>\n",
       "    </tr>\n",
       "    <tr>\n",
       "      <th>17</th>\n",
       "      <td>37444</td>\n",
       "      <td>&lt;NA&gt;</td>\n",
       "      <td>&lt;NA&gt;</td>\n",
       "      <td>&lt;NA&gt;</td>\n",
       "      <td>GGG</td>\n",
       "      <td>2014J</td>\n",
       "      <td>Exam</td>\n",
       "      <td>229.0</td>\n",
       "      <td>100.0</td>\n",
       "      <td>GGG2014J</td>\n",
       "      <td>right_only</td>\n",
       "    </tr>\n",
       "  </tbody>\n",
       "</table>\n",
       "</div>"
      ],
      "text/plain": [
       "   id_assessment id_student  date_submitted  score module presentation  \\\n",
       "0           1757       <NA>            <NA>   <NA>    AAA        2013J   \n",
       "1           1763       <NA>            <NA>   <NA>    AAA        2014J   \n",
       "2          14990       <NA>            <NA>   <NA>    BBB        2013B   \n",
       "3          15002       <NA>            <NA>   <NA>    BBB        2013J   \n",
       "4          15014       <NA>            <NA>   <NA>    BBB        2014B   \n",
       "5          15025       <NA>            <NA>   <NA>    BBB        2014J   \n",
       "6          40087       <NA>            <NA>   <NA>    CCC        2014B   \n",
       "7          40088       <NA>            <NA>   <NA>    CCC        2014J   \n",
       "8          30713       <NA>            <NA>   <NA>    EEE        2013J   \n",
       "9          30718       <NA>            <NA>   <NA>    EEE        2014B   \n",
       "10         30723       <NA>            <NA>   <NA>    EEE        2014J   \n",
       "11         34872       <NA>            <NA>   <NA>    FFF        2013B   \n",
       "12         34885       <NA>            <NA>   <NA>    FFF        2013J   \n",
       "13         34898       <NA>            <NA>   <NA>    FFF        2014B   \n",
       "14         34911       <NA>            <NA>   <NA>    FFF        2014J   \n",
       "15         37424       <NA>            <NA>   <NA>    GGG        2013J   \n",
       "16         37434       <NA>            <NA>   <NA>    GGG        2014B   \n",
       "17         37444       <NA>            <NA>   <NA>    GGG        2014J   \n",
       "\n",
       "   assessment_type   date  weight module_presentation      _merge  \n",
       "0             Exam  268.0   100.0            AAA2013J  right_only  \n",
       "1             Exam  269.0   100.0            AAA2014J  right_only  \n",
       "2             Exam  240.0   100.0            BBB2013B  right_only  \n",
       "3             Exam  268.0   100.0            BBB2013J  right_only  \n",
       "4             Exam  234.0   100.0            BBB2014B  right_only  \n",
       "5             Exam  262.0   100.0            BBB2014J  right_only  \n",
       "6             Exam  241.0   100.0            CCC2014B  right_only  \n",
       "7             Exam  269.0   100.0            CCC2014J  right_only  \n",
       "8             Exam  235.0   100.0            EEE2013J  right_only  \n",
       "9             Exam  228.0   100.0            EEE2014B  right_only  \n",
       "10            Exam  235.0   100.0            EEE2014J  right_only  \n",
       "11            Exam  222.0   100.0            FFF2013B  right_only  \n",
       "12            Exam  236.0   100.0            FFF2013J  right_only  \n",
       "13            Exam  227.0   100.0            FFF2014B  right_only  \n",
       "14            Exam  241.0   100.0            FFF2014J  right_only  \n",
       "15            Exam  229.0   100.0            GGG2013J  right_only  \n",
       "16            Exam  222.0   100.0            GGG2014B  right_only  \n",
       "17            Exam  229.0   100.0            GGG2014J  right_only  "
      ]
     },
     "execution_count": 154,
     "metadata": {},
     "output_type": "execute_result"
    }
   ],
   "source": [
    "# finds where the merge column is not both meaning the row has data not in both dataframes\n",
    "missing_exams = merged_assessments.loc[merged_assessments['_merge'] != 'both'].reset_index(drop=True)\n",
    "missing_exams"
   ]
  },
  {
   "cell_type": "code",
   "execution_count": 155,
   "id": "360948c1-eb2b-4b35-a26a-58a51486f19d",
   "metadata": {
    "tags": [
     "remove_input"
    ]
   },
   "outputs": [
    {
     "data": {
      "text/markdown": [
       "\n",
       "These 18 rows all have entries in the assessments dataframe but have no match in the student_assessment dataframe. \n",
       "This indicates that no students in our data took these exams. These are all weight 100 and will be the missing final exams. \n",
       "\n",
       "It is possible that students have other exams that are missing but not from all students, which would not show in our data.\n"
      ],
      "text/plain": [
       "<IPython.core.display.Markdown object>"
      ]
     },
     "execution_count": 155,
     "metadata": {},
     "output_type": "execute_result"
    }
   ],
   "source": [
    "md(f'''\n",
    "These {len(missing_exams)} rows all have entries in the assessments dataframe but have no match in the student_assessment dataframe. \n",
    "This indicates that no students in our data took these exams. These are all weight 100 and will be the missing final exams. \n",
    "\n",
    "It is possible that students have other exams that are missing but not from all students, which would not show in our data.\n",
    "''')"
   ]
  },
  {
   "cell_type": "code",
   "execution_count": 156,
   "id": "23929912-9998-4282-9498-6d8324abcee0",
   "metadata": {},
   "outputs": [
    {
     "data": {
      "text/html": [
       "<div>\n",
       "<style scoped>\n",
       "    .dataframe tbody tr th:only-of-type {\n",
       "        vertical-align: middle;\n",
       "    }\n",
       "\n",
       "    .dataframe tbody tr th {\n",
       "        vertical-align: top;\n",
       "    }\n",
       "\n",
       "    .dataframe thead th {\n",
       "        text-align: right;\n",
       "    }\n",
       "</style>\n",
       "<table border=\"1\" class=\"dataframe\">\n",
       "  <thead>\n",
       "    <tr style=\"text-align: right;\">\n",
       "      <th></th>\n",
       "      <th>weight</th>\n",
       "      <th>module</th>\n",
       "      <th>presentation</th>\n",
       "      <th>id_assessment</th>\n",
       "    </tr>\n",
       "  </thead>\n",
       "  <tbody>\n",
       "    <tr>\n",
       "      <th>52923</th>\n",
       "      <td>100.0</td>\n",
       "      <td>CCC</td>\n",
       "      <td>2014B</td>\n",
       "      <td>24290</td>\n",
       "    </tr>\n",
       "    <tr>\n",
       "      <th>63953</th>\n",
       "      <td>100.0</td>\n",
       "      <td>CCC</td>\n",
       "      <td>2014J</td>\n",
       "      <td>24299</td>\n",
       "    </tr>\n",
       "    <tr>\n",
       "      <th>69640</th>\n",
       "      <td>100.0</td>\n",
       "      <td>DDD</td>\n",
       "      <td>2013B</td>\n",
       "      <td>25340</td>\n",
       "    </tr>\n",
       "    <tr>\n",
       "      <th>82462</th>\n",
       "      <td>100.0</td>\n",
       "      <td>DDD</td>\n",
       "      <td>2013J</td>\n",
       "      <td>25354</td>\n",
       "    </tr>\n",
       "    <tr>\n",
       "      <th>87448</th>\n",
       "      <td>100.0</td>\n",
       "      <td>DDD</td>\n",
       "      <td>2014B</td>\n",
       "      <td>25361</td>\n",
       "    </tr>\n",
       "    <tr>\n",
       "      <th>95035</th>\n",
       "      <td>100.0</td>\n",
       "      <td>DDD</td>\n",
       "      <td>2014J</td>\n",
       "      <td>25368</td>\n",
       "    </tr>\n",
       "  </tbody>\n",
       "</table>\n",
       "</div>"
      ],
      "text/plain": [
       "       weight module presentation id_assessment\n",
       "52923   100.0    CCC        2014B         24290\n",
       "63953   100.0    CCC        2014J         24299\n",
       "69640   100.0    DDD        2013B         25340\n",
       "82462   100.0    DDD        2013J         25354\n",
       "87448   100.0    DDD        2014B         25361\n",
       "95035   100.0    DDD        2014J         25368"
      ]
     },
     "execution_count": 156,
     "metadata": {},
     "output_type": "execute_result"
    }
   ],
   "source": [
    "# locate the module and presentation for rows in merged_assessments where the weight is 100 and the score is not null\n",
    "finals_w_scores = merged_assessments.loc[(merged_assessments['weight'] == 100) & (merged_assessments['score'].notna()), ['weight', 'module', 'presentation', 'id_assessment']].drop_duplicates()\n",
    "finals_w_scores"
   ]
  },
  {
   "cell_type": "code",
   "execution_count": 157,
   "id": "188bdf04-cf34-4dcd-96f2-4aab684fa746",
   "metadata": {},
   "outputs": [
    {
     "data": {
      "text/markdown": [
       "Above is a dataframe of all of the modules and presentations we have a final exam for. Only 6 modules out of \n",
       "22 have final exam scores for any students.\n",
       "\n",
       "This is particularly troublesome because we have no final exams in GGG whose whole score is based on the final exams since the other \n",
       "exams in GGG are weight 0.\n",
       "\n",
       "Let's now check for any more missing exams. for simplicity we will look at only the first hundred student entries.\n"
      ],
      "text/plain": [
       "<IPython.core.display.Markdown object>"
      ]
     },
     "execution_count": 157,
     "metadata": {},
     "output_type": "execute_result"
    }
   ],
   "source": [
    "# get the number of unique module/presentation combinations\n",
    "courses['module_presentation'] = (courses['module'].astype(str)) + (courses['presentation'].astype(str))\n",
    "ttl_mod_pres = courses['module_presentation'].nunique()\n",
    "# get the length of the dataframe of finals which have scores\n",
    "mod_pres_w_scores = len(finals_w_scores)\n",
    "md(f'''Above is a dataframe of all of the modules and presentations we have a final exam for. Only {mod_pres_w_scores} modules out of \n",
    "{ttl_mod_pres} have final exam scores for any students.\n",
    "\n",
    "This is particularly troublesome because we have no final exams in GGG whose whole score is based on the final exams since the other \n",
    "exams in GGG are weight 0.\n",
    "\n",
    "Let's now check for any more missing exams. for simplicity we will look at only the first hundred student entries.\n",
    "''')"
   ]
  },
  {
   "cell_type": "code",
   "execution_count": 158,
   "id": "457c9c83-3a10-4497-9eee-e8ea7652b565",
   "metadata": {},
   "outputs": [
    {
     "data": {
      "text/html": [
       "<div>\n",
       "<style scoped>\n",
       "    .dataframe tbody tr th:only-of-type {\n",
       "        vertical-align: middle;\n",
       "    }\n",
       "\n",
       "    .dataframe tbody tr th {\n",
       "        vertical-align: top;\n",
       "    }\n",
       "\n",
       "    .dataframe thead th {\n",
       "        text-align: right;\n",
       "    }\n",
       "</style>\n",
       "<table border=\"1\" class=\"dataframe\">\n",
       "  <thead>\n",
       "    <tr style=\"text-align: right;\">\n",
       "      <th></th>\n",
       "      <th>id_assessment</th>\n",
       "    </tr>\n",
       "  </thead>\n",
       "  <tbody>\n",
       "    <tr>\n",
       "      <th>15013</th>\n",
       "      <td>7</td>\n",
       "    </tr>\n",
       "    <tr>\n",
       "      <th>25339</th>\n",
       "      <td>7</td>\n",
       "    </tr>\n",
       "    <tr>\n",
       "      <th>34860</th>\n",
       "      <td>6</td>\n",
       "    </tr>\n",
       "    <tr>\n",
       "      <th>14998</th>\n",
       "      <td>5</td>\n",
       "    </tr>\n",
       "    <tr>\n",
       "      <th>25363</th>\n",
       "      <td>5</td>\n",
       "    </tr>\n",
       "    <tr>\n",
       "      <th>...</th>\n",
       "      <td>...</td>\n",
       "    </tr>\n",
       "    <tr>\n",
       "      <th>40087</th>\n",
       "      <td>1</td>\n",
       "    </tr>\n",
       "    <tr>\n",
       "      <th>1763</th>\n",
       "      <td>1</td>\n",
       "    </tr>\n",
       "    <tr>\n",
       "      <th>34903</th>\n",
       "      <td>1</td>\n",
       "    </tr>\n",
       "    <tr>\n",
       "      <th>1752</th>\n",
       "      <td>1</td>\n",
       "    </tr>\n",
       "    <tr>\n",
       "      <th>37444</th>\n",
       "      <td>1</td>\n",
       "    </tr>\n",
       "  </tbody>\n",
       "</table>\n",
       "<p>96 rows × 1 columns</p>\n",
       "</div>"
      ],
      "text/plain": [
       "       id_assessment\n",
       "15013              7\n",
       "25339              7\n",
       "34860              6\n",
       "14998              5\n",
       "25363              5\n",
       "...              ...\n",
       "40087              1\n",
       "1763               1\n",
       "34903              1\n",
       "1752               1\n",
       "37444              1\n",
       "\n",
       "[96 rows x 1 columns]"
      ]
     },
     "execution_count": 158,
     "metadata": {},
     "output_type": "execute_result"
    }
   ],
   "source": [
    "# make a dataframe of students with a score of 0\n",
    "na_scores = merged_assessments.loc[merged_assessments['score'].isna(), ['presentation', 'module', 'weight', 'id_assessment']]\n",
    "dataframe(na_scores['id_assessment'].value_counts())"
   ]
  },
  {
   "cell_type": "code",
   "execution_count": 159,
   "id": "d533361b-1df7-4160-a8a7-1bb76c875578",
   "metadata": {
    "tags": [
     "remove_input"
    ]
   },
   "outputs": [
    {
     "data": {
      "text/markdown": [
       "\n",
       "Above we can see a dataframe of the exams which have NA scores and the count of how many NA scores they have. \n",
       "* 96 out of 206 assessments have at least one NA score.\n",
       "* 18 exams  with NA scores are final exams\n",
       "* 78 exams with NA scores are not final exams\n"
      ],
      "text/plain": [
       "<IPython.core.display.Markdown object>"
      ]
     },
     "execution_count": 159,
     "metadata": {},
     "output_type": "execute_result"
    }
   ],
   "source": [
    "# get all na scores that were not weight 100/final exams\n",
    "non_100_na = na_scores.loc[na_scores['weight'] != 100]\n",
    "# get all na scores that were weight 100/final exams\n",
    "weight_100_na = na_scores.loc[na_scores['weight'] == 100]\n",
    "md(f'''\n",
    "Above we can see a dataframe of the exams which have NA scores and the count of how many NA scores they have. \n",
    "* {na_scores['id_assessment'].nunique()} out of {len(assessments)} assessments have at least one NA score.\n",
    "* {weight_100_na['id_assessment'].nunique()} exams  with NA scores are final exams\n",
    "* {non_100_na['id_assessment'].nunique()} exams with NA scores are not final exams\n",
    "''')"
   ]
  },
  {
   "cell_type": "code",
   "execution_count": 160,
   "id": "a3a51428-7b03-426b-bffa-331537be36a8",
   "metadata": {
    "tags": [
     "remove_input"
    ]
   },
   "outputs": [
    {
     "data": {
      "text/html": [
       "<div>\n",
       "<style scoped>\n",
       "    .dataframe tbody tr th:only-of-type {\n",
       "        vertical-align: middle;\n",
       "    }\n",
       "\n",
       "    .dataframe tbody tr th {\n",
       "        vertical-align: top;\n",
       "    }\n",
       "\n",
       "    .dataframe thead th {\n",
       "        text-align: right;\n",
       "    }\n",
       "</style>\n",
       "<table border=\"1\" class=\"dataframe\">\n",
       "  <thead>\n",
       "    <tr style=\"text-align: right;\">\n",
       "      <th></th>\n",
       "      <th>id_assessment</th>\n",
       "      <th>id_student</th>\n",
       "      <th>date_submitted</th>\n",
       "      <th>score</th>\n",
       "    </tr>\n",
       "  </thead>\n",
       "  <tbody>\n",
       "    <tr>\n",
       "      <th>785</th>\n",
       "      <td>1754</td>\n",
       "      <td>2456480</td>\n",
       "      <td>123</td>\n",
       "      <td>0</td>\n",
       "    </tr>\n",
       "    <tr>\n",
       "      <th>4322</th>\n",
       "      <td>14984</td>\n",
       "      <td>554986</td>\n",
       "      <td>24</td>\n",
       "      <td>0</td>\n",
       "    </tr>\n",
       "    <tr>\n",
       "      <th>4730</th>\n",
       "      <td>14985</td>\n",
       "      <td>141823</td>\n",
       "      <td>46</td>\n",
       "      <td>0</td>\n",
       "    </tr>\n",
       "    <tr>\n",
       "      <th>5391</th>\n",
       "      <td>14985</td>\n",
       "      <td>542259</td>\n",
       "      <td>46</td>\n",
       "      <td>0</td>\n",
       "    </tr>\n",
       "    <tr>\n",
       "      <th>5509</th>\n",
       "      <td>14985</td>\n",
       "      <td>549078</td>\n",
       "      <td>48</td>\n",
       "      <td>0</td>\n",
       "    </tr>\n",
       "  </tbody>\n",
       "</table>\n",
       "</div>"
      ],
      "text/plain": [
       "     id_assessment id_student  date_submitted  score\n",
       "785           1754    2456480             123      0\n",
       "4322         14984     554986              24      0\n",
       "4730         14985     141823              46      0\n",
       "5391         14985     542259              46      0\n",
       "5509         14985     549078              48      0"
      ]
     },
     "execution_count": 160,
     "metadata": {},
     "output_type": "execute_result"
    }
   ],
   "source": [
    "# make a dataframe of students with a score of 0 and display it\n",
    "zero_scores = student_assessment.loc[student_assessment['score'] == 0]\n",
    "zero_scores.head()"
   ]
  },
  {
   "cell_type": "code",
   "execution_count": 161,
   "id": "09379b03-5dac-412c-834d-866bd3a4e5d4",
   "metadata": {
    "tags": [
     "remove_input"
    ]
   },
   "outputs": [
    {
     "data": {
      "text/markdown": [
       "\n",
       "The first thing to check would be whether there are students with a 0 for a score to see if the NaNs represent 0's.\n",
       "Above is a dataframe of length 329 for records of assessments with a 0 score, \n",
       "so the NaNs are not necessarily 0's.\n",
       "\n",
       "Next we can check whether students have an entry for all exams that they should have based on which module they are taking.\n",
       "For simplicity we will check just the first 1000 rows in merged_assessments.\n"
      ],
      "text/plain": [
       "<IPython.core.display.Markdown object>"
      ]
     },
     "execution_count": 161,
     "metadata": {},
     "output_type": "execute_result"
    }
   ],
   "source": [
    "md(f'''\n",
    "The first thing to check would be whether there are students with a 0 for a score to see if the NaNs represent 0's.\n",
    "Above is a dataframe of length {len(zero_scores)} for records of assessments with a 0 score, \n",
    "so the NaNs are not necessarily 0's.\n",
    "\n",
    "Next we can check whether students have an entry for all exams that they should have based on which module they are taking.\n",
    "For simplicity we will check just the first 1000 rows in merged_assessments.\n",
    "''')"
   ]
  },
  {
   "cell_type": "code",
   "execution_count": 162,
   "id": "6c3649f6-c896-4f17-aac8-bf7bf29fb083",
   "metadata": {},
   "outputs": [],
   "source": [
    "# prevent error for overwriting temp_df since it is irrelevant\n",
    "pd.options.mode.chained_assignment = None"
   ]
  },
  {
   "cell_type": "code",
   "execution_count": 163,
   "id": "288adc0d-ae98-459d-93f3-ce2322779968",
   "metadata": {},
   "outputs": [
    {
     "data": {
      "text/html": [
       "<div>\n",
       "<style scoped>\n",
       "    .dataframe tbody tr th:only-of-type {\n",
       "        vertical-align: middle;\n",
       "    }\n",
       "\n",
       "    .dataframe tbody tr th {\n",
       "        vertical-align: top;\n",
       "    }\n",
       "\n",
       "    .dataframe thead th {\n",
       "        text-align: right;\n",
       "    }\n",
       "</style>\n",
       "<table border=\"1\" class=\"dataframe\">\n",
       "  <thead>\n",
       "    <tr style=\"text-align: right;\">\n",
       "      <th></th>\n",
       "      <th>module</th>\n",
       "      <th>presentation</th>\n",
       "      <th>id_assessment</th>\n",
       "      <th>assessment_type</th>\n",
       "      <th>date</th>\n",
       "      <th>weight</th>\n",
       "      <th>module_presentation</th>\n",
       "    </tr>\n",
       "  </thead>\n",
       "  <tbody>\n",
       "    <tr>\n",
       "      <th>0</th>\n",
       "      <td>AAA</td>\n",
       "      <td>2013J</td>\n",
       "      <td>1752</td>\n",
       "      <td>TMA</td>\n",
       "      <td>19.0</td>\n",
       "      <td>10.0</td>\n",
       "      <td>AAA2013J</td>\n",
       "    </tr>\n",
       "    <tr>\n",
       "      <th>1</th>\n",
       "      <td>AAA</td>\n",
       "      <td>2013J</td>\n",
       "      <td>1753</td>\n",
       "      <td>TMA</td>\n",
       "      <td>54.0</td>\n",
       "      <td>20.0</td>\n",
       "      <td>AAA2013J</td>\n",
       "    </tr>\n",
       "    <tr>\n",
       "      <th>2</th>\n",
       "      <td>AAA</td>\n",
       "      <td>2013J</td>\n",
       "      <td>1754</td>\n",
       "      <td>TMA</td>\n",
       "      <td>117.0</td>\n",
       "      <td>20.0</td>\n",
       "      <td>AAA2013J</td>\n",
       "    </tr>\n",
       "    <tr>\n",
       "      <th>3</th>\n",
       "      <td>AAA</td>\n",
       "      <td>2013J</td>\n",
       "      <td>1755</td>\n",
       "      <td>TMA</td>\n",
       "      <td>166.0</td>\n",
       "      <td>20.0</td>\n",
       "      <td>AAA2013J</td>\n",
       "    </tr>\n",
       "    <tr>\n",
       "      <th>4</th>\n",
       "      <td>AAA</td>\n",
       "      <td>2013J</td>\n",
       "      <td>1756</td>\n",
       "      <td>TMA</td>\n",
       "      <td>215.0</td>\n",
       "      <td>30.0</td>\n",
       "      <td>AAA2013J</td>\n",
       "    </tr>\n",
       "    <tr>\n",
       "      <th>...</th>\n",
       "      <td>...</td>\n",
       "      <td>...</td>\n",
       "      <td>...</td>\n",
       "      <td>...</td>\n",
       "      <td>...</td>\n",
       "      <td>...</td>\n",
       "      <td>...</td>\n",
       "    </tr>\n",
       "    <tr>\n",
       "      <th>201</th>\n",
       "      <td>GGG</td>\n",
       "      <td>2014J</td>\n",
       "      <td>37443</td>\n",
       "      <td>CMA</td>\n",
       "      <td>229.0</td>\n",
       "      <td>0.0</td>\n",
       "      <td>GGG2014J</td>\n",
       "    </tr>\n",
       "    <tr>\n",
       "      <th>202</th>\n",
       "      <td>GGG</td>\n",
       "      <td>2014J</td>\n",
       "      <td>37435</td>\n",
       "      <td>TMA</td>\n",
       "      <td>61.0</td>\n",
       "      <td>0.0</td>\n",
       "      <td>GGG2014J</td>\n",
       "    </tr>\n",
       "    <tr>\n",
       "      <th>203</th>\n",
       "      <td>GGG</td>\n",
       "      <td>2014J</td>\n",
       "      <td>37436</td>\n",
       "      <td>TMA</td>\n",
       "      <td>124.0</td>\n",
       "      <td>0.0</td>\n",
       "      <td>GGG2014J</td>\n",
       "    </tr>\n",
       "    <tr>\n",
       "      <th>204</th>\n",
       "      <td>GGG</td>\n",
       "      <td>2014J</td>\n",
       "      <td>37437</td>\n",
       "      <td>TMA</td>\n",
       "      <td>173.0</td>\n",
       "      <td>0.0</td>\n",
       "      <td>GGG2014J</td>\n",
       "    </tr>\n",
       "    <tr>\n",
       "      <th>205</th>\n",
       "      <td>GGG</td>\n",
       "      <td>2014J</td>\n",
       "      <td>37444</td>\n",
       "      <td>Exam</td>\n",
       "      <td>229.0</td>\n",
       "      <td>100.0</td>\n",
       "      <td>GGG2014J</td>\n",
       "    </tr>\n",
       "  </tbody>\n",
       "</table>\n",
       "<p>206 rows × 7 columns</p>\n",
       "</div>"
      ],
      "text/plain": [
       "    module presentation id_assessment assessment_type   date  weight  \\\n",
       "0      AAA        2013J          1752             TMA   19.0    10.0   \n",
       "1      AAA        2013J          1753             TMA   54.0    20.0   \n",
       "2      AAA        2013J          1754             TMA  117.0    20.0   \n",
       "3      AAA        2013J          1755             TMA  166.0    20.0   \n",
       "4      AAA        2013J          1756             TMA  215.0    30.0   \n",
       "..     ...          ...           ...             ...    ...     ...   \n",
       "201    GGG        2014J         37443             CMA  229.0     0.0   \n",
       "202    GGG        2014J         37435             TMA   61.0     0.0   \n",
       "203    GGG        2014J         37436             TMA  124.0     0.0   \n",
       "204    GGG        2014J         37437             TMA  173.0     0.0   \n",
       "205    GGG        2014J         37444            Exam  229.0   100.0   \n",
       "\n",
       "    module_presentation  \n",
       "0              AAA2013J  \n",
       "1              AAA2013J  \n",
       "2              AAA2013J  \n",
       "3              AAA2013J  \n",
       "4              AAA2013J  \n",
       "..                  ...  \n",
       "201            GGG2014J  \n",
       "202            GGG2014J  \n",
       "203            GGG2014J  \n",
       "204            GGG2014J  \n",
       "205            GGG2014J  \n",
       "\n",
       "[206 rows x 7 columns]"
      ]
     },
     "execution_count": 163,
     "metadata": {},
     "output_type": "execute_result"
    }
   ],
   "source": [
    "assessments"
   ]
  },
  {
   "cell_type": "code",
   "execution_count": 164,
   "id": "5a1eff15-a73b-483e-8886-a91bfb92ee99",
   "metadata": {
    "tags": []
   },
   "outputs": [],
   "source": [
    "# add a useful column module_presentation to merged_assessments and assessments to easily call on individual courses\n",
    "merged_assessments['module_presentation'] = merged_assessments['module'].astype(str) + merged_assessments['presentation'].astype(str)\n",
    "assessments['module_presentation'] = assessments['module'].astype(str) + assessments['presentation'].astype(str)\n",
    "# create a dataframe of assessments that are not in the missing exams list\n",
    "scored_assessments = assessments[~assessments['id_assessment'].isin(missing_exams['id_assessment'])]\n",
    "# initiate an empty dataframe to store students with all exams\n",
    "exams_w_no_entries = dataframe()\n",
    "# initiate a temporary dataframe to manipulate before we add it to the main dataframe exams_w_no_entries\n",
    "temp_df = dataframe()\n",
    "\n",
    "# iterate through the first 1000 rows in merged_assessments\n",
    "for i, r in merged_assessments.head(1000).iterrows():\n",
    "    # find where merged_assessments id_student and module_presentation matches the iteration we are on\n",
    "    # makes a dataframe of exams the student has\n",
    "    student_assessments = merged_assessments[merged_assessments['id_student'] == r['id_student']]\n",
    "    student_assessments = student_assessments[student_assessments['module_presentation'] == r['module_presentation']]    \n",
    "    # find where in scored assessments the module_presentation matches the iteration we are on\n",
    "    # makes a dataframe of exams the student should have being in that module/presentation\n",
    "    module_assessments = scored_assessments.loc[scored_assessments['module_presentation'] == r['module_presentation']]\n",
    "    # if any assessments from module_assessments not in student_assessments make temp_df a dataframe of the missing assessments\n",
    "    if ~module_assessments['id_assessment'].isin(student_assessments['id_assessment']).all():\n",
    "        temp_df = module_assessments[~module_assessments['id_assessment'].isin(student_assessments['id_assessment'])]\n",
    "        # set the id_student to the iteration we are on\n",
    "        temp_df['id_student'] = r['id_student']\n",
    "        # append the temp_df to our main dataframe\n",
    "        exams_w_no_entries = exams_w_no_entries.append(temp_df)"
   ]
  },
  {
   "cell_type": "code",
   "execution_count": 165,
   "id": "949fd2a9-7462-446c-a2c1-12aa4c205c68",
   "metadata": {},
   "outputs": [
    {
     "data": {
      "text/markdown": [
       "\n",
       "Out of the first 1000 entries we already see that 348 exams are already missing.\n",
       "\n",
       "Next we will see the results of those students who are missing exams\n"
      ],
      "text/plain": [
       "<IPython.core.display.Markdown object>"
      ]
     },
     "execution_count": 165,
     "metadata": {},
     "output_type": "execute_result"
    }
   ],
   "source": [
    "first_1000_missing = len(exams_w_no_entries)\n",
    "md(f'''\n",
    "Out of the first 1000 entries we already see that {first_1000_missing} exams are already missing.\n",
    "\n",
    "Next we will see the results of those students who are missing exams\n",
    "''')"
   ]
  },
  {
   "cell_type": "code",
   "execution_count": 166,
   "id": "3e2b0064-a84b-4787-b75d-81b754ec9e24",
   "metadata": {},
   "outputs": [
    {
     "data": {
      "text/plain": [
       "module                 category\n",
       "presentation           category\n",
       "id_assessment          category\n",
       "assessment_type        category\n",
       "date                    Float64\n",
       "weight                  Float64\n",
       "module_presentation      object\n",
       "id_student               object\n",
       "dtype: object"
      ]
     },
     "execution_count": 166,
     "metadata": {},
     "output_type": "execute_result"
    }
   ],
   "source": [
    "exams_w_no_entries.dtypes"
   ]
  },
  {
   "cell_type": "code",
   "execution_count": 169,
   "id": "ce8d33e8-57c6-43dd-b35d-fec77b9773c9",
   "metadata": {},
   "outputs": [
    {
     "data": {
      "text/plain": [
       "module                   string\n",
       "presentation             string\n",
       "id_student             category\n",
       "region                   string\n",
       "imd                      string\n",
       "age                      string\n",
       "gender                   string\n",
       "education                string\n",
       "disability              boolean\n",
       "attempts                  Int64\n",
       "credits                   Int64\n",
       "result                   string\n",
       "date_unregistration       Int64\n",
       "dtype: object"
      ]
     },
     "execution_count": 169,
     "metadata": {},
     "output_type": "execute_result"
    }
   ],
   "source": [
    "stud_info.dtypes"
   ]
  },
  {
   "cell_type": "code",
   "execution_count": 170,
   "id": "ad277c4c-16e1-40b7-ab15-9dbdbb2c6040",
   "metadata": {},
   "outputs": [
    {
     "data": {
      "text/html": [
       "<div>\n",
       "<style scoped>\n",
       "    .dataframe tbody tr th:only-of-type {\n",
       "        vertical-align: middle;\n",
       "    }\n",
       "\n",
       "    .dataframe tbody tr th {\n",
       "        vertical-align: top;\n",
       "    }\n",
       "\n",
       "    .dataframe thead th {\n",
       "        text-align: right;\n",
       "    }\n",
       "</style>\n",
       "<table border=\"1\" class=\"dataframe\">\n",
       "  <thead>\n",
       "    <tr style=\"text-align: right;\">\n",
       "      <th></th>\n",
       "      <th>result</th>\n",
       "    </tr>\n",
       "  </thead>\n",
       "  <tbody>\n",
       "    <tr>\n",
       "      <th>Withdrawn</th>\n",
       "      <td>49</td>\n",
       "    </tr>\n",
       "    <tr>\n",
       "      <th>Fail</th>\n",
       "      <td>29</td>\n",
       "    </tr>\n",
       "    <tr>\n",
       "      <th>Pass</th>\n",
       "      <td>22</td>\n",
       "    </tr>\n",
       "    <tr>\n",
       "      <th>Distinction</th>\n",
       "      <td>1</td>\n",
       "    </tr>\n",
       "  </tbody>\n",
       "</table>\n",
       "</div>"
      ],
      "text/plain": [
       "             result\n",
       "Withdrawn        49\n",
       "Fail             29\n",
       "Pass             22\n",
       "Distinction       1"
      ]
     },
     "execution_count": 170,
     "metadata": {},
     "output_type": "execute_result"
    }
   ],
   "source": [
    "dataframe(stud_info[stud_info['id_student'].astype(str).isin(exams_w_no_entries['id_student'])]['result'].value_counts())"
   ]
  },
  {
   "cell_type": "code",
   "execution_count": 171,
   "id": "e693f196-f2c0-4aa8-bfaf-7e535b5f8d38",
   "metadata": {},
   "outputs": [
    {
     "data": {
      "text/markdown": [
       "\n",
       "It may have been interesting if all of the students with missing scores withdrew or failed but we have some who passed as can be seen above, and even\n",
       "one who passed with distinction.\n",
       "\n",
       "Without having definitive information for a great deal of the exams, and no information for most of the final exams\n",
       "we will not be able to calculate a reliable weighted average, or even make meaningful assumptions about the exams we do have with \n",
       "entries but with NA scores.\n",
       "\n",
       "Due to this we will drop all entries for students with NA scores, and we will not be able to calculate weighted averages per student.\n"
      ],
      "text/plain": [
       "<IPython.core.display.Markdown object>"
      ]
     },
     "execution_count": 171,
     "metadata": {},
     "output_type": "execute_result"
    }
   ],
   "source": [
    "md('''\n",
    "It may have been interesting if all of the students with missing scores withdrew or failed but we have some who passed as can be seen above, and even\n",
    "one who passed with distinction.\n",
    "\n",
    "Without having definitive information for a great deal of the exams, and no information for most of the final exams\n",
    "we will not be able to calculate a reliable weighted average, or even make meaningful assumptions about the exams we do have with \n",
    "entries but with NA scores.\n",
    "\n",
    "Due to this we will drop all entries for students with NA scores, and we will not be able to calculate weighted averages per student.\n",
    "''')"
   ]
  },
  {
   "cell_type": "code",
   "execution_count": null,
   "id": "a8890d96-3f4f-4d73-b23f-1f7cd46bbbe9",
   "metadata": {},
   "outputs": [],
   "source": [
    "# drop na values from merged_assessments\n",
    "merged_assessments = merged_assessments.dropna()"
   ]
  }
 ],
 "metadata": {
  "kernelspec": {
   "display_name": "Python 3",
   "language": "python",
   "name": "python3"
  },
  "language_info": {
   "codemirror_mode": {
    "name": "ipython",
    "version": 3
   },
   "file_extension": ".py",
   "mimetype": "text/x-python",
   "name": "python",
   "nbconvert_exporter": "python",
   "pygments_lexer": "ipython3",
   "version": "3.9.6"
  }
 },
 "nbformat": 4,
 "nbformat_minor": 5
}
