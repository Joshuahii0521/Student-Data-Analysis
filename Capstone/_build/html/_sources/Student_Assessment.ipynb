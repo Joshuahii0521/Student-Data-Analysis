{
 "cells": [
  {
   "cell_type": "code",
   "execution_count": 1,
   "id": "9bcb060c-b76b-4bf4-b110-906b4b9f9e07",
   "metadata": {
    "tags": [
     "remove-cell"
    ]
   },
   "outputs": [],
   "source": [
    "%%capture\n",
    "from functions import *\n",
    "\n",
    "@register_cell_magic\n",
    "def markdown(line, cell):\n",
    "    return md(cell.format(**globals()))"
   ]
  },
  {
   "cell_type": "markdown",
   "id": "fc1acb26-714c-4527-9345-0f8621a5ff4d",
   "metadata": {},
   "source": [
    "---\n",
    "\n",
    "# Student Assessment"
   ]
  },
  {
   "cell_type": "markdown",
   "id": "a2b95941-b268-4c44-bfbd-639ee3e4034e",
   "metadata": {},
   "source": [
    "The Student Assessments dataframe contains information about each student and the assessments they took during the module"
   ]
  },
  {
   "cell_type": "code",
   "execution_count": 6,
   "id": "c9cf2b18-60e4-4965-bafc-4bb1d831e7f9",
   "metadata": {
    "tags": [
     "remove_input"
    ]
   },
   "outputs": [
    {
     "data": {
      "text/html": [
       "<div>\n",
       "<style scoped>\n",
       "    .dataframe tbody tr th:only-of-type {\n",
       "        vertical-align: middle;\n",
       "    }\n",
       "\n",
       "    .dataframe tbody tr th {\n",
       "        vertical-align: top;\n",
       "    }\n",
       "\n",
       "    .dataframe thead th {\n",
       "        text-align: right;\n",
       "    }\n",
       "</style>\n",
       "<table border=\"1\" class=\"dataframe\">\n",
       "  <thead>\n",
       "    <tr style=\"text-align: right;\">\n",
       "      <th></th>\n",
       "      <th>id_assessment</th>\n",
       "      <th>id_student</th>\n",
       "      <th>date_submitted</th>\n",
       "      <th>is_banked</th>\n",
       "      <th>score</th>\n",
       "    </tr>\n",
       "  </thead>\n",
       "  <tbody>\n",
       "    <tr>\n",
       "      <th>0</th>\n",
       "      <td>1752</td>\n",
       "      <td>11391</td>\n",
       "      <td>18</td>\n",
       "      <td>0</td>\n",
       "      <td>78.0</td>\n",
       "    </tr>\n",
       "    <tr>\n",
       "      <th>1</th>\n",
       "      <td>1752</td>\n",
       "      <td>28400</td>\n",
       "      <td>22</td>\n",
       "      <td>0</td>\n",
       "      <td>70.0</td>\n",
       "    </tr>\n",
       "    <tr>\n",
       "      <th>2</th>\n",
       "      <td>1752</td>\n",
       "      <td>31604</td>\n",
       "      <td>17</td>\n",
       "      <td>0</td>\n",
       "      <td>72.0</td>\n",
       "    </tr>\n",
       "    <tr>\n",
       "      <th>3</th>\n",
       "      <td>1752</td>\n",
       "      <td>32885</td>\n",
       "      <td>26</td>\n",
       "      <td>0</td>\n",
       "      <td>69.0</td>\n",
       "    </tr>\n",
       "    <tr>\n",
       "      <th>4</th>\n",
       "      <td>1752</td>\n",
       "      <td>38053</td>\n",
       "      <td>19</td>\n",
       "      <td>0</td>\n",
       "      <td>79.0</td>\n",
       "    </tr>\n",
       "  </tbody>\n",
       "</table>\n",
       "</div>"
      ],
      "text/plain": [
       "   id_assessment  id_student  date_submitted  is_banked  score\n",
       "0           1752       11391              18          0   78.0\n",
       "1           1752       28400              22          0   70.0\n",
       "2           1752       31604              17          0   72.0\n",
       "3           1752       32885              26          0   69.0\n",
       "4           1752       38053              19          0   79.0"
      ]
     },
     "execution_count": 6,
     "metadata": {},
     "output_type": "execute_result"
    }
   ],
   "source": [
    "student_assessment.head()"
   ]
  },
  {
   "cell_type": "markdown",
   "id": "6ecc2137-eaa7-4e22-bf65-1b7868707fac",
   "metadata": {},
   "source": [
    "---\n",
    "\n",
    "## Student Assessment Contents\n",
    "\n",
    "* **id_assessment**: The assessment ID is the unique identifier for the assessment the student took.\n",
    "* **id_student**: The student ID is the unique identifier for the student who took the assessment.\n",
    "* **date_submitted**: The date submitted is the date the student submitted the exam relevant to the start date of the module.\n",
    "* **is_banked**: Whether the score for the assessment is banked indicates wheter the assessment result was transferred from a previous presentation.\n",
    "    - is_banked does indicate that the student took the course previously, but since it is their first score that is retained it is not a confounder and entries with a 1 for is_banked will be kept.\n",
    "    - is_banked has no other relevant information though and so can be removed."
   ]
  },
  {
   "cell_type": "markdown",
   "id": "cdc50bc2-6b9e-4a49-ba4a-58ae30df7145",
   "metadata": {},
   "source": [
    "---\n",
    "\n",
    "## Student Assessments Information"
   ]
  },
  {
   "cell_type": "markdown",
   "id": "766d6951-45d3-4cfa-b3a0-0c8f36d794fb",
   "metadata": {},
   "source": [
    "**Size**"
   ]
  },
  {
   "cell_type": "code",
   "execution_count": 7,
   "id": "0035b3b3-b761-42ba-a649-a8c77e59564e",
   "metadata": {
    "tags": [
     "remove_input"
    ]
   },
   "outputs": [
    {
     "data": {
      "text/markdown": [
       "* Number of Rows: 173912\n",
       "* Number of Columns: 5"
      ],
      "text/plain": [
       "<IPython.core.display.Markdown object>"
      ]
     },
     "execution_count": 7,
     "metadata": {},
     "output_type": "execute_result"
    }
   ],
   "source": [
    "md(f'''* Number of Rows: {len(student_assessment)}\n",
    "* Number of Columns: {len(student_assessment.columns)}''')"
   ]
  },
  {
   "cell_type": "markdown",
   "id": "a748695b-f90b-4bf8-912f-d123585ff9f2",
   "metadata": {},
   "source": [
    "**Data Types**"
   ]
  },
  {
   "cell_type": "code",
   "execution_count": 8,
   "id": "71fed38e-4597-4631-bd6e-78d5c82600ec",
   "metadata": {
    "tags": [
     "remove_input"
    ]
   },
   "outputs": [
    {
     "data": {
      "text/plain": [
       "id_assessment       int64\n",
       "id_student          int64\n",
       "date_submitted      int64\n",
       "is_banked           int64\n",
       "score             float64\n",
       "dtype: object"
      ]
     },
     "execution_count": 8,
     "metadata": {},
     "output_type": "execute_result"
    }
   ],
   "source": [
    "student_assessment.dtypes"
   ]
  },
  {
   "cell_type": "markdown",
   "id": "b87836e4-b938-43dd-8e40-033ef284c4cc",
   "metadata": {},
   "source": [
    "* id_student and id_assessments are both categorical values and so should be converted to objects"
   ]
  },
  {
   "cell_type": "code",
   "execution_count": 9,
   "id": "16bfc18e-6a1e-404f-bfaa-b5586296ee98",
   "metadata": {
    "tags": [
     "remove-cell"
    ]
   },
   "outputs": [],
   "source": [
    "# converting the data types\n",
    "student_assessment = student_assessment.astype({'id_assessment': int, 'id_student': int})\n",
    "student_assessment = student_assessment.astype({'id_assessment': object, 'id_student': object})"
   ]
  },
  {
   "cell_type": "markdown",
   "id": "f90bb93a-6076-4ecf-82a7-3b6f924e9f2d",
   "metadata": {},
   "source": [
    "**Null Values**"
   ]
  },
  {
   "cell_type": "code",
   "execution_count": 10,
   "id": "a8c9b7b6-21ed-4033-a973-462dca7db7ec",
   "metadata": {
    "tags": [
     "remove_input"
    ]
   },
   "outputs": [
    {
     "data": {
      "text/plain": [
       "id_assessment       0\n",
       "id_student          0\n",
       "date_submitted      0\n",
       "is_banked           0\n",
       "score             173\n",
       "dtype: int64"
      ]
     },
     "execution_count": 10,
     "metadata": {},
     "output_type": "execute_result"
    }
   ],
   "source": [
    "# prints the sum of a columns null value\n",
    "student_assessment.isnull().sum()"
   ]
  },
  {
   "cell_type": "code",
   "execution_count": 12,
   "id": "70943352-c973-4206-aa4d-5a9e736dafd4",
   "metadata": {},
   "outputs": [],
   "source": [
    "null_score = student_assessment['score'].isnull().sum()"
   ]
  },
  {
   "cell_type": "code",
   "execution_count": 13,
   "id": "a88caf74-2a3d-4e08-9060-5f3c9a55ed6d",
   "metadata": {},
   "outputs": [
    {
     "data": {
      "text/markdown": [
       "\n",
       "* We have 173 null values for score, which we are trying to predict.\n"
      ],
      "text/plain": [
       "<IPython.core.display.Markdown object>"
      ]
     },
     "execution_count": 13,
     "metadata": {},
     "output_type": "execute_result"
    }
   ],
   "source": [
    "%%markdown\n",
    "\n",
    "* We have {null_score} null values for score, which we are trying to predict."
   ]
  },
  {
   "cell_type": "code",
   "execution_count": 26,
   "id": "f8a5dfaa-86a2-4740-ae9c-302ab0634b13",
   "metadata": {},
   "outputs": [],
   "source": [
    "NaN_scores = student_assessment.loc[student_assessment['score'].isnull() == True]"
   ]
  },
  {
   "cell_type": "code",
   "execution_count": 48,
   "id": "567ebb7c-02bd-416a-aee9-d9989f583c58",
   "metadata": {},
   "outputs": [
    {
     "data": {
      "text/html": [
       "<div>\n",
       "<style scoped>\n",
       "    .dataframe tbody tr th:only-of-type {\n",
       "        vertical-align: middle;\n",
       "    }\n",
       "\n",
       "    .dataframe tbody tr th {\n",
       "        vertical-align: top;\n",
       "    }\n",
       "\n",
       "    .dataframe thead th {\n",
       "        text-align: right;\n",
       "    }\n",
       "</style>\n",
       "<table border=\"1\" class=\"dataframe\">\n",
       "  <thead>\n",
       "    <tr style=\"text-align: right;\">\n",
       "      <th></th>\n",
       "      <th>id_assessment</th>\n",
       "      <th>id_student</th>\n",
       "      <th>date_submitted</th>\n",
       "      <th>is_banked</th>\n",
       "      <th>score</th>\n",
       "    </tr>\n",
       "  </thead>\n",
       "  <tbody>\n",
       "    <tr>\n",
       "      <th>215</th>\n",
       "      <td>1752</td>\n",
       "      <td>721259</td>\n",
       "      <td>22</td>\n",
       "      <td>0</td>\n",
       "      <td>NaN</td>\n",
       "    </tr>\n",
       "    <tr>\n",
       "      <th>937</th>\n",
       "      <td>1754</td>\n",
       "      <td>260355</td>\n",
       "      <td>127</td>\n",
       "      <td>0</td>\n",
       "      <td>NaN</td>\n",
       "    </tr>\n",
       "    <tr>\n",
       "      <th>2364</th>\n",
       "      <td>1760</td>\n",
       "      <td>2606802</td>\n",
       "      <td>180</td>\n",
       "      <td>0</td>\n",
       "      <td>NaN</td>\n",
       "    </tr>\n",
       "    <tr>\n",
       "      <th>3358</th>\n",
       "      <td>14984</td>\n",
       "      <td>186780</td>\n",
       "      <td>77</td>\n",
       "      <td>0</td>\n",
       "      <td>NaN</td>\n",
       "    </tr>\n",
       "    <tr>\n",
       "      <th>3914</th>\n",
       "      <td>14984</td>\n",
       "      <td>531205</td>\n",
       "      <td>26</td>\n",
       "      <td>0</td>\n",
       "      <td>NaN</td>\n",
       "    </tr>\n",
       "    <tr>\n",
       "      <th>...</th>\n",
       "      <td>...</td>\n",
       "      <td>...</td>\n",
       "      <td>...</td>\n",
       "      <td>...</td>\n",
       "      <td>...</td>\n",
       "    </tr>\n",
       "    <tr>\n",
       "      <th>148929</th>\n",
       "      <td>34903</td>\n",
       "      <td>582670</td>\n",
       "      <td>241</td>\n",
       "      <td>0</td>\n",
       "      <td>NaN</td>\n",
       "    </tr>\n",
       "    <tr>\n",
       "      <th>159251</th>\n",
       "      <td>37415</td>\n",
       "      <td>610738</td>\n",
       "      <td>87</td>\n",
       "      <td>0</td>\n",
       "      <td>NaN</td>\n",
       "    </tr>\n",
       "    <tr>\n",
       "      <th>166390</th>\n",
       "      <td>37427</td>\n",
       "      <td>631786</td>\n",
       "      <td>221</td>\n",
       "      <td>0</td>\n",
       "      <td>NaN</td>\n",
       "    </tr>\n",
       "    <tr>\n",
       "      <th>169725</th>\n",
       "      <td>37435</td>\n",
       "      <td>648110</td>\n",
       "      <td>62</td>\n",
       "      <td>0</td>\n",
       "      <td>NaN</td>\n",
       "    </tr>\n",
       "    <tr>\n",
       "      <th>170103</th>\n",
       "      <td>37435</td>\n",
       "      <td>480914</td>\n",
       "      <td>49</td>\n",
       "      <td>0</td>\n",
       "      <td>NaN</td>\n",
       "    </tr>\n",
       "  </tbody>\n",
       "</table>\n",
       "<p>173 rows × 5 columns</p>\n",
       "</div>"
      ],
      "text/plain": [
       "       id_assessment id_student  date_submitted  is_banked  score\n",
       "215             1752     721259              22          0    NaN\n",
       "937             1754     260355             127          0    NaN\n",
       "2364            1760    2606802             180          0    NaN\n",
       "3358           14984     186780              77          0    NaN\n",
       "3914           14984     531205              26          0    NaN\n",
       "...              ...        ...             ...        ...    ...\n",
       "148929         34903     582670             241          0    NaN\n",
       "159251         37415     610738              87          0    NaN\n",
       "166390         37427     631786             221          0    NaN\n",
       "169725         37435     648110              62          0    NaN\n",
       "170103         37435     480914              49          0    NaN\n",
       "\n",
       "[173 rows x 5 columns]"
      ]
     },
     "execution_count": 48,
     "metadata": {},
     "output_type": "execute_result"
    }
   ],
   "source": [
    "NaN_scores"
   ]
  },
  {
   "cell_type": "code",
   "execution_count": 52,
   "id": "70391047-9399-432c-bf56-cd90ad0f003d",
   "metadata": {},
   "outputs": [],
   "source": [
    "students_w_NaN_scores = pd.DataFrame()"
   ]
  },
  {
   "cell_type": "code",
   "execution_count": 59,
   "id": "f7573685-9060-4f3e-b79c-19e4831e21a4",
   "metadata": {},
   "outputs": [],
   "source": [
    "for index, row in NaN_scores.iterrows():\n",
    "    students_w_NaN_scores = students_w_NaN_scores.append(student_info.loc[student_info['id_student'] == row['id_student']])"
   ]
  },
  {
   "cell_type": "code",
   "execution_count": 60,
   "id": "0e2a56d7-5bff-44ec-b343-91f7710133f9",
   "metadata": {},
   "outputs": [
    {
     "data": {
      "text/html": [
       "<div>\n",
       "<style scoped>\n",
       "    .dataframe tbody tr th:only-of-type {\n",
       "        vertical-align: middle;\n",
       "    }\n",
       "\n",
       "    .dataframe tbody tr th {\n",
       "        vertical-align: top;\n",
       "    }\n",
       "\n",
       "    .dataframe thead th {\n",
       "        text-align: right;\n",
       "    }\n",
       "</style>\n",
       "<table border=\"1\" class=\"dataframe\">\n",
       "  <thead>\n",
       "    <tr style=\"text-align: right;\">\n",
       "      <th></th>\n",
       "      <th>code_module</th>\n",
       "      <th>code_presentation</th>\n",
       "      <th>id_student</th>\n",
       "      <th>gender</th>\n",
       "      <th>region</th>\n",
       "      <th>highest_education</th>\n",
       "      <th>imd_band</th>\n",
       "      <th>age_band</th>\n",
       "      <th>num_of_prev_attempts</th>\n",
       "      <th>studied_credits</th>\n",
       "      <th>disability</th>\n",
       "      <th>final_result</th>\n",
       "    </tr>\n",
       "  </thead>\n",
       "  <tbody>\n",
       "    <tr>\n",
       "      <th>227</th>\n",
       "      <td>AAA</td>\n",
       "      <td>2013J</td>\n",
       "      <td>721259</td>\n",
       "      <td>F</td>\n",
       "      <td>South Region</td>\n",
       "      <td>Lower Than A Level</td>\n",
       "      <td>50-60%</td>\n",
       "      <td>55&lt;=</td>\n",
       "      <td>0</td>\n",
       "      <td>120</td>\n",
       "      <td>N</td>\n",
       "      <td>Withdrawn</td>\n",
       "    </tr>\n",
       "    <tr>\n",
       "      <th>638</th>\n",
       "      <td>AAA</td>\n",
       "      <td>2014J</td>\n",
       "      <td>721259</td>\n",
       "      <td>F</td>\n",
       "      <td>South Region</td>\n",
       "      <td>Lower Than A Level</td>\n",
       "      <td>50-60%</td>\n",
       "      <td>55&lt;=</td>\n",
       "      <td>1</td>\n",
       "      <td>60</td>\n",
       "      <td>N</td>\n",
       "      <td>Withdrawn</td>\n",
       "    </tr>\n",
       "    <tr>\n",
       "      <th>108</th>\n",
       "      <td>AAA</td>\n",
       "      <td>2013J</td>\n",
       "      <td>260355</td>\n",
       "      <td>F</td>\n",
       "      <td>London Region</td>\n",
       "      <td>A Level or Equivalent</td>\n",
       "      <td>80-90%</td>\n",
       "      <td>35-55</td>\n",
       "      <td>0</td>\n",
       "      <td>60</td>\n",
       "      <td>N</td>\n",
       "      <td>Withdrawn</td>\n",
       "    </tr>\n",
       "    <tr>\n",
       "      <th>466</th>\n",
       "      <td>AAA</td>\n",
       "      <td>2014J</td>\n",
       "      <td>260355</td>\n",
       "      <td>F</td>\n",
       "      <td>London Region</td>\n",
       "      <td>A Level or Equivalent</td>\n",
       "      <td>80-90%</td>\n",
       "      <td>35-55</td>\n",
       "      <td>1</td>\n",
       "      <td>120</td>\n",
       "      <td>N</td>\n",
       "      <td>Withdrawn</td>\n",
       "    </tr>\n",
       "    <tr>\n",
       "      <th>733</th>\n",
       "      <td>AAA</td>\n",
       "      <td>2014J</td>\n",
       "      <td>2606802</td>\n",
       "      <td>M</td>\n",
       "      <td>North Region</td>\n",
       "      <td>A Level or Equivalent</td>\n",
       "      <td>60-70%</td>\n",
       "      <td>0-35</td>\n",
       "      <td>0</td>\n",
       "      <td>60</td>\n",
       "      <td>N</td>\n",
       "      <td>Fail</td>\n",
       "    </tr>\n",
       "    <tr>\n",
       "      <th>...</th>\n",
       "      <td>...</td>\n",
       "      <td>...</td>\n",
       "      <td>...</td>\n",
       "      <td>...</td>\n",
       "      <td>...</td>\n",
       "      <td>...</td>\n",
       "      <td>...</td>\n",
       "      <td>...</td>\n",
       "      <td>...</td>\n",
       "      <td>...</td>\n",
       "      <td>...</td>\n",
       "      <td>...</td>\n",
       "    </tr>\n",
       "    <tr>\n",
       "      <th>28279</th>\n",
       "      <td>FFF</td>\n",
       "      <td>2014J</td>\n",
       "      <td>582670</td>\n",
       "      <td>M</td>\n",
       "      <td>South Region</td>\n",
       "      <td>Lower Than A Level</td>\n",
       "      <td>90-100%</td>\n",
       "      <td>35-55</td>\n",
       "      <td>0</td>\n",
       "      <td>60</td>\n",
       "      <td>Y</td>\n",
       "      <td>Fail</td>\n",
       "    </tr>\n",
       "    <tr>\n",
       "      <th>30917</th>\n",
       "      <td>GGG</td>\n",
       "      <td>2013J</td>\n",
       "      <td>610738</td>\n",
       "      <td>F</td>\n",
       "      <td>London Region</td>\n",
       "      <td>Lower Than A Level</td>\n",
       "      <td>10-20</td>\n",
       "      <td>35-55</td>\n",
       "      <td>0</td>\n",
       "      <td>30</td>\n",
       "      <td>N</td>\n",
       "      <td>Fail</td>\n",
       "    </tr>\n",
       "    <tr>\n",
       "      <th>31682</th>\n",
       "      <td>GGG</td>\n",
       "      <td>2014B</td>\n",
       "      <td>631786</td>\n",
       "      <td>F</td>\n",
       "      <td>East Anglian Region</td>\n",
       "      <td>A Level or Equivalent</td>\n",
       "      <td>0-10%</td>\n",
       "      <td>0-35</td>\n",
       "      <td>0</td>\n",
       "      <td>30</td>\n",
       "      <td>Y</td>\n",
       "      <td>Pass</td>\n",
       "    </tr>\n",
       "    <tr>\n",
       "      <th>32167</th>\n",
       "      <td>GGG</td>\n",
       "      <td>2014J</td>\n",
       "      <td>648110</td>\n",
       "      <td>F</td>\n",
       "      <td>London Region</td>\n",
       "      <td>Lower Than A Level</td>\n",
       "      <td>10-20</td>\n",
       "      <td>0-35</td>\n",
       "      <td>0</td>\n",
       "      <td>60</td>\n",
       "      <td>N</td>\n",
       "      <td>Withdrawn</td>\n",
       "    </tr>\n",
       "    <tr>\n",
       "      <th>31913</th>\n",
       "      <td>GGG</td>\n",
       "      <td>2014J</td>\n",
       "      <td>480914</td>\n",
       "      <td>F</td>\n",
       "      <td>East Anglian Region</td>\n",
       "      <td>No Formal quals</td>\n",
       "      <td>10-20</td>\n",
       "      <td>0-35</td>\n",
       "      <td>0</td>\n",
       "      <td>30</td>\n",
       "      <td>N</td>\n",
       "      <td>Withdrawn</td>\n",
       "    </tr>\n",
       "  </tbody>\n",
       "</table>\n",
       "<p>227 rows × 12 columns</p>\n",
       "</div>"
      ],
      "text/plain": [
       "      code_module code_presentation  id_student gender               region  \\\n",
       "227           AAA             2013J      721259      F         South Region   \n",
       "638           AAA             2014J      721259      F         South Region   \n",
       "108           AAA             2013J      260355      F        London Region   \n",
       "466           AAA             2014J      260355      F        London Region   \n",
       "733           AAA             2014J     2606802      M         North Region   \n",
       "...           ...               ...         ...    ...                  ...   \n",
       "28279         FFF             2014J      582670      M         South Region   \n",
       "30917         GGG             2013J      610738      F        London Region   \n",
       "31682         GGG             2014B      631786      F  East Anglian Region   \n",
       "32167         GGG             2014J      648110      F        London Region   \n",
       "31913         GGG             2014J      480914      F  East Anglian Region   \n",
       "\n",
       "           highest_education imd_band age_band  num_of_prev_attempts  \\\n",
       "227       Lower Than A Level   50-60%     55<=                     0   \n",
       "638       Lower Than A Level   50-60%     55<=                     1   \n",
       "108    A Level or Equivalent   80-90%    35-55                     0   \n",
       "466    A Level or Equivalent   80-90%    35-55                     1   \n",
       "733    A Level or Equivalent   60-70%     0-35                     0   \n",
       "...                      ...      ...      ...                   ...   \n",
       "28279     Lower Than A Level  90-100%    35-55                     0   \n",
       "30917     Lower Than A Level    10-20    35-55                     0   \n",
       "31682  A Level or Equivalent    0-10%     0-35                     0   \n",
       "32167     Lower Than A Level    10-20     0-35                     0   \n",
       "31913        No Formal quals    10-20     0-35                     0   \n",
       "\n",
       "       studied_credits disability final_result  \n",
       "227                120          N    Withdrawn  \n",
       "638                 60          N    Withdrawn  \n",
       "108                 60          N    Withdrawn  \n",
       "466                120          N    Withdrawn  \n",
       "733                 60          N         Fail  \n",
       "...                ...        ...          ...  \n",
       "28279               60          Y         Fail  \n",
       "30917               30          N         Fail  \n",
       "31682               30          Y         Pass  \n",
       "32167               60          N    Withdrawn  \n",
       "31913               30          N    Withdrawn  \n",
       "\n",
       "[227 rows x 12 columns]"
      ]
     },
     "execution_count": 60,
     "metadata": {},
     "output_type": "execute_result"
    }
   ],
   "source": [
    "students_w_NaN_scores"
   ]
  },
  {
   "cell_type": "code",
   "execution_count": 61,
   "id": "bbf5f4eb-5260-4cde-af4b-087d5fd844cc",
   "metadata": {},
   "outputs": [
    {
     "data": {
      "text/plain": [
       "Withdrawn      104\n",
       "Fail            82\n",
       "Pass            40\n",
       "Distinction      1\n",
       "Name: final_result, dtype: int64"
      ]
     },
     "execution_count": 61,
     "metadata": {},
     "output_type": "execute_result"
    }
   ],
   "source": [
    "students_w_NaN_scores['final_result'].value_counts()"
   ]
  },
  {
   "cell_type": "code",
   "execution_count": 63,
   "id": "d6a7d9b4-9faa-4068-82d0-257aabdc0012",
   "metadata": {},
   "outputs": [
    {
     "data": {
      "text/html": [
       "<div>\n",
       "<style scoped>\n",
       "    .dataframe tbody tr th:only-of-type {\n",
       "        vertical-align: middle;\n",
       "    }\n",
       "\n",
       "    .dataframe tbody tr th {\n",
       "        vertical-align: top;\n",
       "    }\n",
       "\n",
       "    .dataframe thead th {\n",
       "        text-align: right;\n",
       "    }\n",
       "</style>\n",
       "<table border=\"1\" class=\"dataframe\">\n",
       "  <thead>\n",
       "    <tr style=\"text-align: right;\">\n",
       "      <th></th>\n",
       "      <th>id_assessment</th>\n",
       "      <th>id_student</th>\n",
       "      <th>date_submitted</th>\n",
       "      <th>is_banked</th>\n",
       "      <th>score</th>\n",
       "    </tr>\n",
       "  </thead>\n",
       "  <tbody>\n",
       "    <tr>\n",
       "      <th>165061</th>\n",
       "      <td>37425</td>\n",
       "      <td>631786</td>\n",
       "      <td>85</td>\n",
       "      <td>0</td>\n",
       "      <td>84.0</td>\n",
       "    </tr>\n",
       "    <tr>\n",
       "      <th>165806</th>\n",
       "      <td>37426</td>\n",
       "      <td>631786</td>\n",
       "      <td>138</td>\n",
       "      <td>0</td>\n",
       "      <td>86.0</td>\n",
       "    </tr>\n",
       "    <tr>\n",
       "      <th>166390</th>\n",
       "      <td>37427</td>\n",
       "      <td>631786</td>\n",
       "      <td>221</td>\n",
       "      <td>0</td>\n",
       "      <td>NaN</td>\n",
       "    </tr>\n",
       "    <tr>\n",
       "      <th>166841</th>\n",
       "      <td>37428</td>\n",
       "      <td>631786</td>\n",
       "      <td>195</td>\n",
       "      <td>0</td>\n",
       "      <td>80.0</td>\n",
       "    </tr>\n",
       "    <tr>\n",
       "      <th>167516</th>\n",
       "      <td>37429</td>\n",
       "      <td>631786</td>\n",
       "      <td>199</td>\n",
       "      <td>0</td>\n",
       "      <td>100.0</td>\n",
       "    </tr>\n",
       "    <tr>\n",
       "      <th>168078</th>\n",
       "      <td>37430</td>\n",
       "      <td>631786</td>\n",
       "      <td>199</td>\n",
       "      <td>0</td>\n",
       "      <td>100.0</td>\n",
       "    </tr>\n",
       "    <tr>\n",
       "      <th>168481</th>\n",
       "      <td>37431</td>\n",
       "      <td>631786</td>\n",
       "      <td>199</td>\n",
       "      <td>0</td>\n",
       "      <td>100.0</td>\n",
       "    </tr>\n",
       "  </tbody>\n",
       "</table>\n",
       "</div>"
      ],
      "text/plain": [
       "       id_assessment id_student  date_submitted  is_banked  score\n",
       "165061         37425     631786              85          0   84.0\n",
       "165806         37426     631786             138          0   86.0\n",
       "166390         37427     631786             221          0    NaN\n",
       "166841         37428     631786             195          0   80.0\n",
       "167516         37429     631786             199          0  100.0\n",
       "168078         37430     631786             199          0  100.0\n",
       "168481         37431     631786             199          0  100.0"
      ]
     },
     "execution_count": 63,
     "metadata": {},
     "output_type": "execute_result"
    }
   ],
   "source": [
    "student_assessment.loc[student_assessment['id_student'] == 631786]"
   ]
  },
  {
   "cell_type": "code",
   "execution_count": null,
   "id": "daf69e5c-c935-4aa5-8b25-c1cbe384943c",
   "metadata": {},
   "outputs": [],
   "source": []
  },
  {
   "cell_type": "code",
   "execution_count": 62,
   "id": "1dd5c2c3-f06b-4f2a-9d54-1e1ce8c12fe8",
   "metadata": {},
   "outputs": [],
   "source": [
    "NaN_students_all_exams = pd.DataFrame()"
   ]
  },
  {
   "cell_type": "code",
   "execution_count": null,
   "id": "39711713-f83e-4d86-b748-0bbc742035b6",
   "metadata": {},
   "outputs": [],
   "source": [
    "for index, row in student_assessment.iterrows():\n",
    "    NaN_students_all_exams = NaN_students_all_exams.append(student_assessment.loc[student_info['id_student'] == row['id_student']])"
   ]
  },
  {
   "cell_type": "markdown",
   "id": "79737c4f-e54d-4b4a-ae1c-7da3fe8a421b",
   "metadata": {},
   "source": [
    "**Merged Assessment/Student_info dataframes**"
   ]
  },
  {
   "cell_type": "markdown",
   "id": "e02b07c7-78b9-40ac-81ec-3b1fcf9aaf3f",
   "metadata": {},
   "source": [
    "In order to remove the students that we removed for the number of previous attempts, we must merge assessments and student info and find the difference"
   ]
  },
  {
   "cell_type": "code",
   "execution_count": null,
   "id": "1415babb-3164-4430-b130-f1baed32307b",
   "metadata": {
    "tags": [
     "remove_input"
    ]
   },
   "outputs": [],
   "source": [
    "# merged 'student info/assessments' with a full outer join on their common columns\n",
    "merged_si_assm = student_assessment.merge(student_info, how='outer', on=['id_student', 'code_module', 'code_presentation'], indicator=True)\n",
    "merged_si_assm.head()"
   ]
  },
  {
   "cell_type": "markdown",
   "id": "b19d4ef0-eff1-4e47-aae5-bf260e4a6de5",
   "metadata": {},
   "source": [
    "For this merge column the right side would be the student info dataframe and the left side would be assessments. If an entry receives the label of right_only there is a student who has no assessments, if the label is left_only, there is an assessment that doesn't match up with a student."
   ]
  },
  {
   "cell_type": "code",
   "execution_count": null,
   "id": "cf5ad962-7e3a-4798-8cce-59647a781690",
   "metadata": {
    "tags": [
     "remove-cell"
    ]
   },
   "outputs": [],
   "source": [
    "# variable for where merge is left_only, and only found on the \n",
    "only_assessments = merged_si_assm.loc[merged_si_assm['_merge']=='left_only']\n",
    "only_student_info = merged_si_assm.loc[merged_si_assm['_merge']=='right_only']"
   ]
  },
  {
   "cell_type": "markdown",
   "id": "e9534013-73d6-44b9-8447-83d2a74e447b",
   "metadata": {},
   "source": [
    "**Assessments that do not map to students**:"
   ]
  },
  {
   "cell_type": "code",
   "execution_count": null,
   "id": "0b0f683e-be6a-4b52-b3bc-684f9c3a8271",
   "metadata": {
    "tags": [
     "remove_input"
    ]
   },
   "outputs": [],
   "source": [
    "only_assessments.head()"
   ]
  },
  {
   "cell_type": "markdown",
   "id": "e20b3939-7696-4721-8c51-f8b87d2ecbee",
   "metadata": {},
   "source": [
    "**Students without any test scores**:"
   ]
  },
  {
   "cell_type": "code",
   "execution_count": null,
   "id": "81417eee-e722-4d24-b351-6dfd8614d9bc",
   "metadata": {},
   "outputs": [],
   "source": [
    "only_student_info.head()"
   ]
  },
  {
   "cell_type": "code",
   "execution_count": null,
   "id": "1fccc36f-5ec6-4c15-8eac-77a017dc98db",
   "metadata": {
    "tags": [
     "remove_input"
    ]
   },
   "outputs": [],
   "source": [
    "md(f'''\n",
    "    We have {len(only_assessments)} values in only assessments, which map to students who had made previous attempts which we eliminated, and {len(only_student_info)} values in only student_info, which means we have students for whom we have no test scores.\n",
    "    We can drop both of these which are missing values for the purpose of this dataframe since we are just analyzing test scores\n",
    "    ''')"
   ]
  },
  {
   "cell_type": "code",
   "execution_count": null,
   "id": "1b118400-07c9-4c10-a707-da66ea528409",
   "metadata": {
    "tags": [
     "remove-cell"
    ]
   },
   "outputs": [],
   "source": [
    "# merging assessments with the original student data dataframe to make sure that the missing students are the ones we removed.\n",
    "merged_test = student_assessment.merge(student_info, how='outer', on=['id_student', 'code_module', 'code_presentation'], indicator=True)\n",
    "\n",
    "# removing entries where num_prev_attempts == 0\n",
    "merged_test = merged_test[merged_test['num_of_prev_attempts'] == 0]\n",
    "\n",
    "# checking if any in only the student info dataframe remain (left_only). No output means all of the tests without students map to a student where num_prev_attempts == 0\n",
    "merged_test.loc[merged_test['_merge']=='left_only']"
   ]
  },
  {
   "cell_type": "code",
   "execution_count": null,
   "id": "6084ddc8-e024-4233-b4e1-323f5f036144",
   "metadata": {
    "tags": [
     "remove-cell"
    ]
   },
   "outputs": [],
   "source": [
    "# removing any student with NaN values in id_assessment or region\n",
    "merged_si_assm = merged_si_assm.dropna(subset=['id_assessment', 'region'])"
   ]
  },
  {
   "cell_type": "code",
   "execution_count": null,
   "id": "12a2ceee-46cd-476b-b3d0-c2ec51c81405",
   "metadata": {
    "tags": [
     "remove-cell"
    ]
   },
   "outputs": [],
   "source": [
    "# reordering dataframe columns to group like data\n",
    "merged_si_assm = merged_si_assm[['code_module', 'code_presentation', 'id_student', 'region', 'imd_band', 'age_band', 'gender', 'highest_education', 'disability', 'final_result', 'id_assessment', 'assessment_type', 'date_submitted', 'date', 'weight', 'score']]"
   ]
  },
  {
   "cell_type": "code",
   "execution_count": null,
   "id": "8929c3d0-7505-44c8-b16c-bf76f29e9fac",
   "metadata": {},
   "outputs": [],
   "source": [
    "# converting the data types back\n",
    "merged_si_assm = merged_si_assm.astype({'id_assessment': int, 'id_student': int})\n",
    "merged_si_assm = merged_si_assm.astype({'id_assessment': object, 'id_student': object})"
   ]
  },
  {
   "cell_type": "code",
   "execution_count": null,
   "id": "d9bcffd6-b31b-40b2-a742-c38a5de1274d",
   "metadata": {
    "tags": [
     "remove_input"
    ]
   },
   "outputs": [],
   "source": [
    "# reset the index\n",
    "merged_si_assm.reset_index(drop=True).head()"
   ]
  },
  {
   "cell_type": "code",
   "execution_count": null,
   "id": "70ad6983-2a0f-4947-9232-a5b767174f7d",
   "metadata": {},
   "outputs": [],
   "source": [
    "student_assessment = merged_si_assm"
   ]
  },
  {
   "cell_type": "markdown",
   "id": "12a82008-f64a-4b36-b4df-8d0fe5cbcf21",
   "metadata": {},
   "source": [
    "**Unique Counts**"
   ]
  },
  {
   "cell_type": "code",
   "execution_count": null,
   "id": "fd2e029c-9dc3-442c-a150-097032cf18bc",
   "metadata": {
    "tags": [
     "remove_input"
    ]
   },
   "outputs": [],
   "source": [
    "student_assessment.nunique()"
   ]
  },
  {
   "cell_type": "markdown",
   "id": "12b44979-f5b1-4122-923c-dca2d7dac7d3",
   "metadata": {},
   "source": [
    "**Unique Categorical Values**"
   ]
  },
  {
   "cell_type": "code",
   "execution_count": null,
   "id": "cc695273-72e6-4547-bde6-f870e75f850b",
   "metadata": {
    "tags": [
     "remove_input"
    ]
   },
   "outputs": [],
   "source": [
    "unique_vals(student_assessment)"
   ]
  },
  {
   "cell_type": "markdown",
   "id": "6b6c5f0f-bb08-49af-a523-546a159dffae",
   "metadata": {},
   "source": [
    "**Duplicate Values:**"
   ]
  },
  {
   "cell_type": "code",
   "execution_count": null,
   "id": "193037fb-6b33-4002-9882-f92bfaa3d4fa",
   "metadata": {
    "tags": [
     "remove_input"
    ]
   },
   "outputs": [],
   "source": [
    "duplicate_vals(student_assessment)"
   ]
  },
  {
   "cell_type": "markdown",
   "id": "c2a3dea0-4249-4808-8990-a06002234ed8",
   "metadata": {},
   "source": [
    "**Statistics**"
   ]
  },
  {
   "cell_type": "code",
   "execution_count": null,
   "id": "513daf4b-0bca-4c52-81b6-8dcf7cc46df0",
   "metadata": {},
   "outputs": [],
   "source": [
    "student_assessment.describe()"
   ]
  }
 ],
 "metadata": {
  "kernelspec": {
   "display_name": "Python 3",
   "language": "python",
   "name": "python3"
  },
  "language_info": {
   "codemirror_mode": {
    "name": "ipython",
    "version": 3
   },
   "file_extension": ".py",
   "mimetype": "text/x-python",
   "name": "python",
   "nbconvert_exporter": "python",
   "pygments_lexer": "ipython3",
   "version": "3.9.6"
  }
 },
 "nbformat": 4,
 "nbformat_minor": 5
}
