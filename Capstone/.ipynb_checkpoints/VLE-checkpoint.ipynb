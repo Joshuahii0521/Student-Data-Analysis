{
 "cells": [
  {
   "cell_type": "code",
   "execution_count": 2,
   "id": "e0584e52-bb7f-49c4-9736-3f11af522a45",
   "metadata": {
    "tags": [
     "remove_cell"
    ]
   },
   "outputs": [],
   "source": [
    "from functions import *\n",
    "%run Student_Information.ipynb import stud_info\n",
    "%run Assessments.ipynb import merged_assessments, assessments, student_assessment"
   ]
  },
  {
   "cell_type": "markdown",
   "id": "1eeba669-58b5-49bf-acd5-7b0684a50a4d",
   "metadata": {},
   "source": [
    "# VLE\n",
    "---\n",
    "## VLE\n",
    "---\n",
    "\n",
    "The VLE dataframe contains information about materials available on the Virtual Learning Environment."
   ]
  },
  {
   "cell_type": "code",
   "execution_count": 46,
   "id": "4c3239f1-bd2f-4635-839a-2a358a55ce89",
   "metadata": {
    "tags": [
     "remove_input"
    ]
   },
   "outputs": [
    {
     "data": {
      "text/html": [
       "<div>\n",
       "<style scoped>\n",
       "    .dataframe tbody tr th:only-of-type {\n",
       "        vertical-align: middle;\n",
       "    }\n",
       "\n",
       "    .dataframe tbody tr th {\n",
       "        vertical-align: top;\n",
       "    }\n",
       "\n",
       "    .dataframe thead th {\n",
       "        text-align: right;\n",
       "    }\n",
       "</style>\n",
       "<table border=\"1\" class=\"dataframe\">\n",
       "  <thead>\n",
       "    <tr style=\"text-align: right;\">\n",
       "      <th></th>\n",
       "      <th>id_site</th>\n",
       "      <th>code_module</th>\n",
       "      <th>code_presentation</th>\n",
       "      <th>activity_type</th>\n",
       "      <th>week_from</th>\n",
       "      <th>week_to</th>\n",
       "    </tr>\n",
       "  </thead>\n",
       "  <tbody>\n",
       "    <tr>\n",
       "      <th>0</th>\n",
       "      <td>546943</td>\n",
       "      <td>AAA</td>\n",
       "      <td>2013J</td>\n",
       "      <td>resource</td>\n",
       "      <td>NaN</td>\n",
       "      <td>NaN</td>\n",
       "    </tr>\n",
       "    <tr>\n",
       "      <th>1</th>\n",
       "      <td>546712</td>\n",
       "      <td>AAA</td>\n",
       "      <td>2013J</td>\n",
       "      <td>oucontent</td>\n",
       "      <td>NaN</td>\n",
       "      <td>NaN</td>\n",
       "    </tr>\n",
       "    <tr>\n",
       "      <th>2</th>\n",
       "      <td>546998</td>\n",
       "      <td>AAA</td>\n",
       "      <td>2013J</td>\n",
       "      <td>resource</td>\n",
       "      <td>NaN</td>\n",
       "      <td>NaN</td>\n",
       "    </tr>\n",
       "    <tr>\n",
       "      <th>3</th>\n",
       "      <td>546888</td>\n",
       "      <td>AAA</td>\n",
       "      <td>2013J</td>\n",
       "      <td>url</td>\n",
       "      <td>NaN</td>\n",
       "      <td>NaN</td>\n",
       "    </tr>\n",
       "    <tr>\n",
       "      <th>4</th>\n",
       "      <td>547035</td>\n",
       "      <td>AAA</td>\n",
       "      <td>2013J</td>\n",
       "      <td>resource</td>\n",
       "      <td>NaN</td>\n",
       "      <td>NaN</td>\n",
       "    </tr>\n",
       "  </tbody>\n",
       "</table>\n",
       "</div>"
      ],
      "text/plain": [
       "   id_site code_module code_presentation activity_type  week_from  week_to\n",
       "0   546943         AAA             2013J      resource        NaN      NaN\n",
       "1   546712         AAA             2013J     oucontent        NaN      NaN\n",
       "2   546998         AAA             2013J      resource        NaN      NaN\n",
       "3   546888         AAA             2013J           url        NaN      NaN\n",
       "4   547035         AAA             2013J      resource        NaN      NaN"
      ]
     },
     "execution_count": 46,
     "metadata": {},
     "output_type": "execute_result"
    }
   ],
   "source": [
    "# show first 5 of vle dataframe\n",
    "vle.head()"
   ]
  },
  {
   "cell_type": "markdown",
   "id": "b6330afb-7a82-4601-8ec8-70aca6444c1c",
   "metadata": {},
   "source": [
    "---\n",
    "\n",
    "#### VLE Information"
   ]
  },
  {
   "cell_type": "markdown",
   "id": "f3610365-e80c-415b-ac3c-bad92a9b11dd",
   "metadata": {},
   "source": [
    "**Size**"
   ]
  },
  {
   "cell_type": "code",
   "execution_count": 47,
   "id": "8cfa612e-b3c9-4c42-96a9-72f4bd2a477e",
   "metadata": {
    "tags": [
     "remove_input"
    ]
   },
   "outputs": [
    {
     "data": {
      "text/html": [
       "<div>\n",
       "<style scoped>\n",
       "    .dataframe tbody tr th:only-of-type {\n",
       "        vertical-align: middle;\n",
       "    }\n",
       "\n",
       "    .dataframe tbody tr th {\n",
       "        vertical-align: top;\n",
       "    }\n",
       "\n",
       "    .dataframe thead th {\n",
       "        text-align: right;\n",
       "    }\n",
       "</style>\n",
       "<table border=\"1\" class=\"dataframe\">\n",
       "  <thead>\n",
       "    <tr style=\"text-align: right;\">\n",
       "      <th></th>\n",
       "      <th>Count</th>\n",
       "    </tr>\n",
       "  </thead>\n",
       "  <tbody>\n",
       "    <tr>\n",
       "      <th>Columns</th>\n",
       "      <td>6</td>\n",
       "    </tr>\n",
       "    <tr>\n",
       "      <th>Rows</th>\n",
       "      <td>6364</td>\n",
       "    </tr>\n",
       "  </tbody>\n",
       "</table>\n",
       "</div>"
      ],
      "text/plain": [
       "         Count\n",
       "Columns      6\n",
       "Rows      6364"
      ]
     },
     "execution_count": 47,
     "metadata": {},
     "output_type": "execute_result"
    }
   ],
   "source": [
    "## return a dataframe of column and row count\n",
    "get_size(vle)"
   ]
  },
  {
   "cell_type": "code",
   "execution_count": 48,
   "id": "330c00b1-0321-41e9-9dd2-89c76d755a8e",
   "metadata": {
    "tags": [
     "remove_input"
    ]
   },
   "outputs": [
    {
     "data": {
      "text/markdown": [
       "\n",
       "VLE has 6 features and 6,364 rows which represent the online resources we have data for.\n"
      ],
      "text/plain": [
       "<IPython.core.display.Markdown object>"
      ]
     },
     "execution_count": 48,
     "metadata": {},
     "output_type": "execute_result"
    }
   ],
   "source": [
    "## store the size of vle's columns\n",
    "vle_cols = len(vle.columns)\n",
    "## store the size of vle's rows\n",
    "vle_rows = len(vle)\n",
    "md(f'''\n",
    "VLE has {vle_cols} features and {\"{:,}\".format(vle_rows)} rows which represent the online resources we have data for.\n",
    "''')"
   ]
  },
  {
   "cell_type": "markdown",
   "id": "06b7a968-b09b-4c65-a535-8abe78845caa",
   "metadata": {},
   "source": [
    "---\n",
    "\n",
    "#### VLE Contents\n",
    "\n",
    "* **id_site**: The site ID is the unique identifier for the online resource.\n",
    "* **code_module**: The code module is the module the resource is associated with.\n",
    "* **code_presentation**: The code presentation represents the time the module was held at.\n",
    "* **activity_type**: The activity type is the type of online material.\n",
    "* **week_from**: The week from is the week the material was intended to be used from.\n",
    "    - week_from will not be used in our analysis due to it being irrelevant information and will be dropped.\n",
    "* **week_to**: The week to is the week the material was intended to be used until.\n",
    "    - week_to will not be used in our analysis due to it being irrelevant information and will be dropped."
   ]
  },
  {
   "cell_type": "markdown",
   "id": "efb812e6-0891-4d85-b420-6e272a25acde",
   "metadata": {
    "tags": []
   },
   "source": [
    "* column names will be changed to be less verbose\n",
    "    * code_module to module\n",
    "    * code_presentation to presentation"
   ]
  },
  {
   "cell_type": "code",
   "execution_count": 49,
   "id": "21740322-10a2-430e-b6a4-7ff4b37aafb3",
   "metadata": {},
   "outputs": [],
   "source": [
    "# make a dictionary of columns mapping to their new name\n",
    "vle_rename = {'code_module':'module', 'code_presentation':'presentation'}\n",
    "# rename columns in assessments based on dictionary\n",
    "vle = vle.rename(columns=vle_rename)"
   ]
  },
  {
   "cell_type": "code",
   "execution_count": 50,
   "id": "68f8bf9a-12fd-4909-b307-46bbf2f4cbe9",
   "metadata": {
    "tags": [
     "remove_cell"
    ]
   },
   "outputs": [],
   "source": [
    "## dropping week_to and week_from from VLE dataframe\n",
    "vle = vle.drop(columns=['week_from', 'week_to'])"
   ]
  },
  {
   "cell_type": "markdown",
   "id": "bf655f29-03da-4bb4-abc2-2f7c9ef6ee48",
   "metadata": {},
   "source": [
    "# Student VLE\n",
    "---\n",
    "\n",
    "The Student VLE Dataframe contains information about student interactions with the online resources in the Virtual Learning Environment"
   ]
  },
  {
   "cell_type": "code",
   "execution_count": 51,
   "id": "1881c56f-e9ea-4e26-8897-2daa7636596a",
   "metadata": {},
   "outputs": [
    {
     "data": {
      "text/html": [
       "<div>\n",
       "<style scoped>\n",
       "    .dataframe tbody tr th:only-of-type {\n",
       "        vertical-align: middle;\n",
       "    }\n",
       "\n",
       "    .dataframe tbody tr th {\n",
       "        vertical-align: top;\n",
       "    }\n",
       "\n",
       "    .dataframe thead th {\n",
       "        text-align: right;\n",
       "    }\n",
       "</style>\n",
       "<table border=\"1\" class=\"dataframe\">\n",
       "  <thead>\n",
       "    <tr style=\"text-align: right;\">\n",
       "      <th></th>\n",
       "      <th>code_module</th>\n",
       "      <th>code_presentation</th>\n",
       "      <th>id_student</th>\n",
       "      <th>id_site</th>\n",
       "      <th>date</th>\n",
       "      <th>sum_click</th>\n",
       "    </tr>\n",
       "  </thead>\n",
       "  <tbody>\n",
       "    <tr>\n",
       "      <th>0</th>\n",
       "      <td>AAA</td>\n",
       "      <td>2013J</td>\n",
       "      <td>28400</td>\n",
       "      <td>546652</td>\n",
       "      <td>-10</td>\n",
       "      <td>4</td>\n",
       "    </tr>\n",
       "    <tr>\n",
       "      <th>1</th>\n",
       "      <td>AAA</td>\n",
       "      <td>2013J</td>\n",
       "      <td>28400</td>\n",
       "      <td>546652</td>\n",
       "      <td>-10</td>\n",
       "      <td>1</td>\n",
       "    </tr>\n",
       "    <tr>\n",
       "      <th>2</th>\n",
       "      <td>AAA</td>\n",
       "      <td>2013J</td>\n",
       "      <td>28400</td>\n",
       "      <td>546652</td>\n",
       "      <td>-10</td>\n",
       "      <td>1</td>\n",
       "    </tr>\n",
       "    <tr>\n",
       "      <th>3</th>\n",
       "      <td>AAA</td>\n",
       "      <td>2013J</td>\n",
       "      <td>28400</td>\n",
       "      <td>546614</td>\n",
       "      <td>-10</td>\n",
       "      <td>11</td>\n",
       "    </tr>\n",
       "    <tr>\n",
       "      <th>4</th>\n",
       "      <td>AAA</td>\n",
       "      <td>2013J</td>\n",
       "      <td>28400</td>\n",
       "      <td>546714</td>\n",
       "      <td>-10</td>\n",
       "      <td>1</td>\n",
       "    </tr>\n",
       "  </tbody>\n",
       "</table>\n",
       "</div>"
      ],
      "text/plain": [
       "  code_module code_presentation  id_student  id_site  date  sum_click\n",
       "0         AAA             2013J       28400   546652   -10          4\n",
       "1         AAA             2013J       28400   546652   -10          1\n",
       "2         AAA             2013J       28400   546652   -10          1\n",
       "3         AAA             2013J       28400   546614   -10         11\n",
       "4         AAA             2013J       28400   546714   -10          1"
      ]
     },
     "execution_count": 51,
     "metadata": {},
     "output_type": "execute_result"
    }
   ],
   "source": [
    "student_vle.head()"
   ]
  },
  {
   "cell_type": "markdown",
   "id": "80377316-d46e-4051-881e-3654d04586f2",
   "metadata": {},
   "source": [
    "**Size**"
   ]
  },
  {
   "cell_type": "code",
   "execution_count": 52,
   "id": "5bff06c3-6c3d-45cb-847a-81b64b4d8fbe",
   "metadata": {
    "tags": [
     "remove_input"
    ]
   },
   "outputs": [
    {
     "data": {
      "text/html": [
       "<div>\n",
       "<style scoped>\n",
       "    .dataframe tbody tr th:only-of-type {\n",
       "        vertical-align: middle;\n",
       "    }\n",
       "\n",
       "    .dataframe tbody tr th {\n",
       "        vertical-align: top;\n",
       "    }\n",
       "\n",
       "    .dataframe thead th {\n",
       "        text-align: right;\n",
       "    }\n",
       "</style>\n",
       "<table border=\"1\" class=\"dataframe\">\n",
       "  <thead>\n",
       "    <tr style=\"text-align: right;\">\n",
       "      <th></th>\n",
       "      <th>Count</th>\n",
       "    </tr>\n",
       "  </thead>\n",
       "  <tbody>\n",
       "    <tr>\n",
       "      <th>Columns</th>\n",
       "      <td>6</td>\n",
       "    </tr>\n",
       "    <tr>\n",
       "      <th>Rows</th>\n",
       "      <td>10655280</td>\n",
       "    </tr>\n",
       "  </tbody>\n",
       "</table>\n",
       "</div>"
      ],
      "text/plain": [
       "            Count\n",
       "Columns         6\n",
       "Rows     10655280"
      ]
     },
     "execution_count": 52,
     "metadata": {},
     "output_type": "execute_result"
    }
   ],
   "source": [
    "get_size(student_vle)"
   ]
  },
  {
   "cell_type": "code",
   "execution_count": 53,
   "id": "4046bf24-53ce-407f-8985-0b57dca0c355",
   "metadata": {
    "tags": [
     "remove_input"
    ]
   },
   "outputs": [
    {
     "data": {
      "text/markdown": [
       "\n",
       "Student VLE has 6 features and 10,655,280 rows which represent the student resource interactions we have data for.\n"
      ],
      "text/plain": [
       "<IPython.core.display.Markdown object>"
      ]
     },
     "execution_count": 53,
     "metadata": {},
     "output_type": "execute_result"
    }
   ],
   "source": [
    "# store the size of student_vle's columns\n",
    "stud_vle_cols = len(student_vle.columns)\n",
    "# store the size of student_vle's rows\n",
    "stud_vle_rows = len(student_vle)\n",
    "md(f'''\n",
    "Student VLE has {stud_vle_cols} features and {\"{:,}\".format(stud_vle_rows)} rows which represent the student resource interactions we have data for.\n",
    "''')"
   ]
  },
  {
   "cell_type": "markdown",
   "id": "eb5c4ec4-8dbb-425f-a4ce-f1fae5a8d59b",
   "metadata": {},
   "source": [
    "---\n",
    "\n",
    "## Student VLE Contents\n",
    "\n",
    "* **code_module**: The code module is the module the resource and student are associated with.\n",
    "* **code_presentation**: The code presentation represents the time the module was held at.\n",
    "* **id_site**: The site ID is the unique identifier for the online resource with which the student engaged.\n",
    "* **date**: The date represents the date that the student engaged with the material relevant to the start date of the module.\n",
    "* **sum_click**: The sum click represents the number of clicks the student made on that day."
   ]
  },
  {
   "cell_type": "markdown",
   "id": "7a1e4f08-111c-47f6-a386-6dc58e0c3243",
   "metadata": {},
   "source": [
    "* column names will be changed to be less verbose\n",
    "    * code_module to module\n",
    "    * code_presentation to presentation"
   ]
  },
  {
   "cell_type": "code",
   "execution_count": 54,
   "id": "db98a0b4-8256-4ee9-9b12-ab6e90704044",
   "metadata": {},
   "outputs": [],
   "source": [
    "# make a dictionary of columns mapping to their new name\n",
    "stud_vle_rename = {'code_module':'module', 'code_presentation':'presentation'}\n",
    "# rename columns in assessments based on dictionary\n",
    "student_vle = student_vle.rename(columns=stud_vle_rename)"
   ]
  },
  {
   "cell_type": "markdown",
   "id": "67686314-9439-4d37-8066-2639f64d2bfe",
   "metadata": {},
   "source": [
    "---\n",
    "\n",
    "## VLE Information"
   ]
  },
  {
   "cell_type": "markdown",
   "id": "3300886a-d017-475b-8f37-973ce0bcc391",
   "metadata": {},
   "source": [
    "**Data Types**"
   ]
  },
  {
   "cell_type": "code",
   "execution_count": 55,
   "id": "d40a39ef-4d29-4e51-bba1-06758e733f71",
   "metadata": {
    "tags": [
     "remove_input"
    ]
   },
   "outputs": [
    {
     "data": {
      "text/html": [
       "<style type=\"text/css\">\n",
       "#T_9879c_ td.col0 {\n",
       "  font-weight: bold;\n",
       "}\n",
       "</style>\n",
       "<table id=\"T_9879c_\">\n",
       "  <thead>\n",
       "    <tr>\n",
       "      <th class=\"col_heading level0 col0\" >index</th>\n",
       "      <th class=\"col_heading level0 col1\" >Type</th>\n",
       "    </tr>\n",
       "  </thead>\n",
       "  <tbody>\n",
       "    <tr>\n",
       "      <td id=\"T_9879c_row0_col0\" class=\"data row0 col0\" >id_site</td>\n",
       "      <td id=\"T_9879c_row0_col1\" class=\"data row0 col1\" >int64</td>\n",
       "    </tr>\n",
       "    <tr>\n",
       "      <td id=\"T_9879c_row1_col0\" class=\"data row1 col0\" >module</td>\n",
       "      <td id=\"T_9879c_row1_col1\" class=\"data row1 col1\" >object</td>\n",
       "    </tr>\n",
       "    <tr>\n",
       "      <td id=\"T_9879c_row2_col0\" class=\"data row2 col0\" >presentation</td>\n",
       "      <td id=\"T_9879c_row2_col1\" class=\"data row2 col1\" >object</td>\n",
       "    </tr>\n",
       "    <tr>\n",
       "      <td id=\"T_9879c_row3_col0\" class=\"data row3 col0\" >activity_type</td>\n",
       "      <td id=\"T_9879c_row3_col1\" class=\"data row3 col1\" >object</td>\n",
       "    </tr>\n",
       "  </tbody>\n",
       "</table>\n"
      ],
      "text/plain": [
       "<pandas.io.formats.style.Styler at 0x24981ae5340>"
      ]
     },
     "execution_count": 55,
     "metadata": {},
     "output_type": "execute_result"
    }
   ],
   "source": [
    "# return a dataframe of vle's columns' data types\n",
    "get_dtypes(vle)"
   ]
  },
  {
   "cell_type": "markdown",
   "id": "3cc5f92a-950b-444d-9be4-b3459c77310f",
   "metadata": {},
   "source": [
    "* `id_site` is categorical and will need to be changed into a `string`\n",
    "* `object` datatypes will again be turned into strings"
   ]
  },
  {
   "cell_type": "code",
   "execution_count": 56,
   "id": "3d53c7fd-f40b-458b-bc6c-26784f9d09e7",
   "metadata": {
    "tags": [
     "remove_cell"
    ]
   },
   "outputs": [
    {
     "data": {
      "text/html": [
       "<style type=\"text/css\">\n",
       "#T_55e6e_ td.col0 {\n",
       "  font-weight: bold;\n",
       "}\n",
       "</style>\n",
       "<table id=\"T_55e6e_\">\n",
       "  <thead>\n",
       "    <tr>\n",
       "      <th class=\"col_heading level0 col0\" >index</th>\n",
       "      <th class=\"col_heading level0 col1\" >Type</th>\n",
       "    </tr>\n",
       "  </thead>\n",
       "  <tbody>\n",
       "    <tr>\n",
       "      <td id=\"T_55e6e_row0_col0\" class=\"data row0 col0\" >id_site</td>\n",
       "      <td id=\"T_55e6e_row0_col1\" class=\"data row0 col1\" >string</td>\n",
       "    </tr>\n",
       "    <tr>\n",
       "      <td id=\"T_55e6e_row1_col0\" class=\"data row1 col0\" >module</td>\n",
       "      <td id=\"T_55e6e_row1_col1\" class=\"data row1 col1\" >string</td>\n",
       "    </tr>\n",
       "    <tr>\n",
       "      <td id=\"T_55e6e_row2_col0\" class=\"data row2 col0\" >presentation</td>\n",
       "      <td id=\"T_55e6e_row2_col1\" class=\"data row2 col1\" >string</td>\n",
       "    </tr>\n",
       "    <tr>\n",
       "      <td id=\"T_55e6e_row3_col0\" class=\"data row3 col0\" >activity_type</td>\n",
       "      <td id=\"T_55e6e_row3_col1\" class=\"data row3 col1\" >string</td>\n",
       "    </tr>\n",
       "  </tbody>\n",
       "</table>\n"
      ],
      "text/plain": [
       "<pandas.io.formats.style.Styler at 0x249acfe1ee0>"
      ]
     },
     "execution_count": 56,
     "metadata": {},
     "output_type": "execute_result"
    }
   ],
   "source": [
    "# change id_site to string type\n",
    "vle['id_site'] = vle['id_site'].astype(str)\n",
    "# convert all other types to ideal typings for pandas\n",
    "vle = vle.convert_dtypes()\n",
    "# show new datatypes dataframe\n",
    "get_dtypes(vle)"
   ]
  },
  {
   "cell_type": "markdown",
   "id": "ad6a444e-c6d3-4476-ad08-9cbda3460efd",
   "metadata": {},
   "source": [
    "**Null Values**"
   ]
  },
  {
   "cell_type": "code",
   "execution_count": 57,
   "id": "34c46f49-1493-47d5-80c9-fb28e28bd630",
   "metadata": {
    "tags": [
     "remove_input"
    ]
   },
   "outputs": [
    {
     "data": {
      "text/html": [
       "<style type=\"text/css\">\n",
       "#T_a3913_ td.col0 {\n",
       "  font-weight: bold;\n",
       "}\n",
       "</style>\n",
       "<table id=\"T_a3913_\">\n",
       "  <thead>\n",
       "    <tr>\n",
       "      <th class=\"col_heading level0 col0\" >index</th>\n",
       "      <th class=\"col_heading level0 col1\" >Null Values</th>\n",
       "    </tr>\n",
       "  </thead>\n",
       "  <tbody>\n",
       "    <tr>\n",
       "      <td id=\"T_a3913_row0_col0\" class=\"data row0 col0\" >id_site</td>\n",
       "      <td id=\"T_a3913_row0_col1\" class=\"data row0 col1\" >0</td>\n",
       "    </tr>\n",
       "    <tr>\n",
       "      <td id=\"T_a3913_row1_col0\" class=\"data row1 col0\" >module</td>\n",
       "      <td id=\"T_a3913_row1_col1\" class=\"data row1 col1\" >0</td>\n",
       "    </tr>\n",
       "    <tr>\n",
       "      <td id=\"T_a3913_row2_col0\" class=\"data row2 col0\" >presentation</td>\n",
       "      <td id=\"T_a3913_row2_col1\" class=\"data row2 col1\" >0</td>\n",
       "    </tr>\n",
       "    <tr>\n",
       "      <td id=\"T_a3913_row3_col0\" class=\"data row3 col0\" >activity_type</td>\n",
       "      <td id=\"T_a3913_row3_col1\" class=\"data row3 col1\" >0</td>\n",
       "    </tr>\n",
       "  </tbody>\n",
       "</table>\n"
      ],
      "text/plain": [
       "<pandas.io.formats.style.Styler at 0x2498054a3a0>"
      ]
     },
     "execution_count": 57,
     "metadata": {},
     "output_type": "execute_result"
    }
   ],
   "source": [
    "# return a dataframe of null values if any\n",
    "null_vals(vle)"
   ]
  },
  {
   "cell_type": "markdown",
   "id": "4c973408-b49b-4867-87f1-62523d49dd6e",
   "metadata": {},
   "source": [
    "We have no null values in VLE"
   ]
  },
  {
   "cell_type": "markdown",
   "id": "08f3800e-5852-4f02-ae5f-011c052ba407",
   "metadata": {},
   "source": [
    "**Duplicate Values**"
   ]
  },
  {
   "cell_type": "code",
   "execution_count": 58,
   "id": "265ee292-c099-4a50-bb90-c6ad88d5ebe3",
   "metadata": {
    "tags": [
     "remove_input"
    ]
   },
   "outputs": [
    {
     "data": {
      "text/markdown": [
       "There are no Duplicate Values"
      ],
      "text/plain": [
       "<IPython.core.display.Markdown object>"
      ]
     },
     "execution_count": 58,
     "metadata": {},
     "output_type": "execute_result"
    }
   ],
   "source": [
    "# return a dataframe of duplicate rows if any\n",
    "get_dupes(vle)"
   ]
  },
  {
   "cell_type": "markdown",
   "id": "854f81bd-5e17-4867-9075-d168e8e95543",
   "metadata": {},
   "source": [
    "**Unique Value Counts**"
   ]
  },
  {
   "cell_type": "code",
   "execution_count": 59,
   "id": "7464670b-60b0-4d80-a599-5fe4c14d16db",
   "metadata": {
    "tags": [
     "remove_input"
    ]
   },
   "outputs": [
    {
     "data": {
      "text/html": [
       "<style type=\"text/css\">\n",
       "#T_bb888_ td.col0 {\n",
       "  font-weight: bold;\n",
       "}\n",
       "</style>\n",
       "<table id=\"T_bb888_\">\n",
       "  <thead>\n",
       "    <tr>\n",
       "      <th class=\"col_heading level0 col0\" >index</th>\n",
       "      <th class=\"col_heading level0 col1\" >Count</th>\n",
       "    </tr>\n",
       "  </thead>\n",
       "  <tbody>\n",
       "    <tr>\n",
       "      <td id=\"T_bb888_row0_col0\" class=\"data row0 col0\" >id_site</td>\n",
       "      <td id=\"T_bb888_row0_col1\" class=\"data row0 col1\" >6364</td>\n",
       "    </tr>\n",
       "    <tr>\n",
       "      <td id=\"T_bb888_row1_col0\" class=\"data row1 col0\" >module</td>\n",
       "      <td id=\"T_bb888_row1_col1\" class=\"data row1 col1\" >7</td>\n",
       "    </tr>\n",
       "    <tr>\n",
       "      <td id=\"T_bb888_row2_col0\" class=\"data row2 col0\" >presentation</td>\n",
       "      <td id=\"T_bb888_row2_col1\" class=\"data row2 col1\" >4</td>\n",
       "    </tr>\n",
       "    <tr>\n",
       "      <td id=\"T_bb888_row3_col0\" class=\"data row3 col0\" >activity_type</td>\n",
       "      <td id=\"T_bb888_row3_col1\" class=\"data row3 col1\" >20</td>\n",
       "    </tr>\n",
       "  </tbody>\n",
       "</table>\n"
      ],
      "text/plain": [
       "<pandas.io.formats.style.Styler at 0x2498498c670>"
      ]
     },
     "execution_count": 59,
     "metadata": {},
     "output_type": "execute_result"
    }
   ],
   "source": [
    "# return a dataframe of counts of unique values per column\n",
    "count_unique(vle)"
   ]
  },
  {
   "cell_type": "markdown",
   "id": "e24869c5-607a-4d1c-9672-ee0c1752b81f",
   "metadata": {},
   "source": [
    "**Unique Categorical Values**"
   ]
  },
  {
   "cell_type": "code",
   "execution_count": 60,
   "id": "f1c4a7fb-d06a-46ec-a46c-ff62b08f560f",
   "metadata": {
    "tags": [
     "remove_input"
    ]
   },
   "outputs": [
    {
     "data": {
      "text/html": [
       "<style type=\"text/css\">\n",
       "#T_ab561_ td.col0 {\n",
       "  font-weight: bold;\n",
       "}\n",
       "</style>\n",
       "<table id=\"T_ab561_\">\n",
       "  <thead>\n",
       "    <tr>\n",
       "      <th class=\"col_heading level0 col0\" >index</th>\n",
       "      <th class=\"col_heading level0 col1\" >Values</th>\n",
       "    </tr>\n",
       "  </thead>\n",
       "  <tbody>\n",
       "    <tr>\n",
       "      <td id=\"T_ab561_row0_col0\" class=\"data row0 col0\" >module</td>\n",
       "      <td id=\"T_ab561_row0_col1\" class=\"data row0 col1\" >['AAA', 'BBB', 'CCC', 'DDD', 'EEE', 'FFF', 'GGG']</td>\n",
       "    </tr>\n",
       "    <tr>\n",
       "      <td id=\"T_ab561_row1_col0\" class=\"data row1 col0\" >presentation</td>\n",
       "      <td id=\"T_ab561_row1_col1\" class=\"data row1 col1\" >['2013J', '2014J', '2013B', '2014B']</td>\n",
       "    </tr>\n",
       "    <tr>\n",
       "      <td id=\"T_ab561_row2_col0\" class=\"data row2 col0\" >activity_type</td>\n",
       "      <td id=\"T_ab561_row2_col1\" class=\"data row2 col1\" >['resource', 'oucontent', 'url', 'homepage', 'subpage', 'glossary', 'forumng', 'oucollaborate', 'dataplus', 'quiz', 'ouelluminate', 'sharedsubpage', 'questionnaire', 'page', 'externalquiz', 'ouwiki', 'dualpane', 'repeatactivity', 'folder', 'htmlactivity']</td>\n",
       "    </tr>\n",
       "  </tbody>\n",
       "</table>\n"
      ],
      "text/plain": [
       "<pandas.io.formats.style.Styler at 0x24984ebc8e0>"
      ]
     },
     "execution_count": 60,
     "metadata": {},
     "output_type": "execute_result"
    }
   ],
   "source": [
    "# return a dataframe of unique categorical variables' values\n",
    "unique_vals(vle)"
   ]
  },
  {
   "cell_type": "code",
   "execution_count": 61,
   "id": "b3338769-96d5-48fb-8f3b-808df13d0a7a",
   "metadata": {},
   "outputs": [
    {
     "data": {
      "text/markdown": [
       "\n",
       "We have 20 different types activities students could have participated in and 6,364 unique activities within these types\n"
      ],
      "text/plain": [
       "<IPython.core.display.Markdown object>"
      ]
     },
     "execution_count": 61,
     "metadata": {},
     "output_type": "execute_result"
    }
   ],
   "source": [
    "activity_count = vle['activity_type'].nunique()\n",
    "id_site_count = vle['id_site'].nunique()\n",
    "md(f'''\n",
    "We have {activity_count} different types activities students could have participated in and {\"{:,}\".format(id_site_count)} unique activities within these types\n",
    "''')"
   ]
  },
  {
   "cell_type": "markdown",
   "id": "44347094-5dd2-4eea-9787-df3fbc47f899",
   "metadata": {},
   "source": [
    "---\n",
    "\n",
    "## Student VLE Information"
   ]
  },
  {
   "cell_type": "markdown",
   "id": "dc2ec143-e6b4-4163-b3bb-8ad230ad9c71",
   "metadata": {},
   "source": [
    "**Data Types**"
   ]
  },
  {
   "cell_type": "code",
   "execution_count": 62,
   "id": "cab3f8c2-a00b-43de-9a8c-b376c54a1a1d",
   "metadata": {
    "tags": [
     "remove_input"
    ]
   },
   "outputs": [
    {
     "data": {
      "text/html": [
       "<style type=\"text/css\">\n",
       "#T_91d2b_ td.col0 {\n",
       "  font-weight: bold;\n",
       "}\n",
       "</style>\n",
       "<table id=\"T_91d2b_\">\n",
       "  <thead>\n",
       "    <tr>\n",
       "      <th class=\"col_heading level0 col0\" >index</th>\n",
       "      <th class=\"col_heading level0 col1\" >Type</th>\n",
       "    </tr>\n",
       "  </thead>\n",
       "  <tbody>\n",
       "    <tr>\n",
       "      <td id=\"T_91d2b_row0_col0\" class=\"data row0 col0\" >module</td>\n",
       "      <td id=\"T_91d2b_row0_col1\" class=\"data row0 col1\" >object</td>\n",
       "    </tr>\n",
       "    <tr>\n",
       "      <td id=\"T_91d2b_row1_col0\" class=\"data row1 col0\" >presentation</td>\n",
       "      <td id=\"T_91d2b_row1_col1\" class=\"data row1 col1\" >object</td>\n",
       "    </tr>\n",
       "    <tr>\n",
       "      <td id=\"T_91d2b_row2_col0\" class=\"data row2 col0\" >id_student</td>\n",
       "      <td id=\"T_91d2b_row2_col1\" class=\"data row2 col1\" >int64</td>\n",
       "    </tr>\n",
       "    <tr>\n",
       "      <td id=\"T_91d2b_row3_col0\" class=\"data row3 col0\" >id_site</td>\n",
       "      <td id=\"T_91d2b_row3_col1\" class=\"data row3 col1\" >int64</td>\n",
       "    </tr>\n",
       "    <tr>\n",
       "      <td id=\"T_91d2b_row4_col0\" class=\"data row4 col0\" >date</td>\n",
       "      <td id=\"T_91d2b_row4_col1\" class=\"data row4 col1\" >int64</td>\n",
       "    </tr>\n",
       "    <tr>\n",
       "      <td id=\"T_91d2b_row5_col0\" class=\"data row5 col0\" >sum_click</td>\n",
       "      <td id=\"T_91d2b_row5_col1\" class=\"data row5 col1\" >int64</td>\n",
       "    </tr>\n",
       "  </tbody>\n",
       "</table>\n"
      ],
      "text/plain": [
       "<pandas.io.formats.style.Styler at 0x24a42194640>"
      ]
     },
     "execution_count": 62,
     "metadata": {},
     "output_type": "execute_result"
    }
   ],
   "source": [
    "get_dtypes(student_vle)"
   ]
  },
  {
   "cell_type": "markdown",
   "id": "57e51f21-4bf5-42e9-8865-2da149b36dc7",
   "metadata": {},
   "source": [
    "id_student and id_site are categorical and must be converted to strings."
   ]
  },
  {
   "cell_type": "code",
   "execution_count": 63,
   "id": "30f37fc1-6c0c-462a-a3d5-15ea96e25ecd",
   "metadata": {
    "tags": [
     "remove_cell"
    ]
   },
   "outputs": [
    {
     "data": {
      "text/html": [
       "<style type=\"text/css\">\n",
       "#T_7c376_ td.col0 {\n",
       "  font-weight: bold;\n",
       "}\n",
       "</style>\n",
       "<table id=\"T_7c376_\">\n",
       "  <thead>\n",
       "    <tr>\n",
       "      <th class=\"col_heading level0 col0\" >index</th>\n",
       "      <th class=\"col_heading level0 col1\" >Type</th>\n",
       "    </tr>\n",
       "  </thead>\n",
       "  <tbody>\n",
       "    <tr>\n",
       "      <td id=\"T_7c376_row0_col0\" class=\"data row0 col0\" >module</td>\n",
       "      <td id=\"T_7c376_row0_col1\" class=\"data row0 col1\" >object</td>\n",
       "    </tr>\n",
       "    <tr>\n",
       "      <td id=\"T_7c376_row1_col0\" class=\"data row1 col0\" >presentation</td>\n",
       "      <td id=\"T_7c376_row1_col1\" class=\"data row1 col1\" >object</td>\n",
       "    </tr>\n",
       "    <tr>\n",
       "      <td id=\"T_7c376_row2_col0\" class=\"data row2 col0\" >id_student</td>\n",
       "      <td id=\"T_7c376_row2_col1\" class=\"data row2 col1\" >object</td>\n",
       "    </tr>\n",
       "    <tr>\n",
       "      <td id=\"T_7c376_row3_col0\" class=\"data row3 col0\" >id_site</td>\n",
       "      <td id=\"T_7c376_row3_col1\" class=\"data row3 col1\" >object</td>\n",
       "    </tr>\n",
       "    <tr>\n",
       "      <td id=\"T_7c376_row4_col0\" class=\"data row4 col0\" >date</td>\n",
       "      <td id=\"T_7c376_row4_col1\" class=\"data row4 col1\" >int64</td>\n",
       "    </tr>\n",
       "    <tr>\n",
       "      <td id=\"T_7c376_row5_col0\" class=\"data row5 col0\" >sum_click</td>\n",
       "      <td id=\"T_7c376_row5_col1\" class=\"data row5 col1\" >int64</td>\n",
       "    </tr>\n",
       "  </tbody>\n",
       "</table>\n"
      ],
      "text/plain": [
       "<pandas.io.formats.style.Styler at 0x24984ebef70>"
      ]
     },
     "execution_count": 63,
     "metadata": {},
     "output_type": "execute_result"
    }
   ],
   "source": [
    "# convert id_site and id_student to strings\n",
    "student_vle = student_vle.astype({'id_site':str, 'id_student':str})\n",
    "get_dtypes(student_vle)"
   ]
  },
  {
   "cell_type": "markdown",
   "id": "f46a1fc4-fde9-412b-aed9-5ad7499a64c5",
   "metadata": {},
   "source": [
    "**Null Values**"
   ]
  },
  {
   "cell_type": "code",
   "execution_count": 64,
   "id": "78107f93-d910-420a-9d86-294a0343f600",
   "metadata": {
    "tags": [
     "remove_input"
    ]
   },
   "outputs": [
    {
     "data": {
      "text/html": [
       "<style type=\"text/css\">\n",
       "#T_75e77_ td.col0 {\n",
       "  font-weight: bold;\n",
       "}\n",
       "</style>\n",
       "<table id=\"T_75e77_\">\n",
       "  <thead>\n",
       "    <tr>\n",
       "      <th class=\"col_heading level0 col0\" >index</th>\n",
       "      <th class=\"col_heading level0 col1\" >Null Values</th>\n",
       "    </tr>\n",
       "  </thead>\n",
       "  <tbody>\n",
       "    <tr>\n",
       "      <td id=\"T_75e77_row0_col0\" class=\"data row0 col0\" >module</td>\n",
       "      <td id=\"T_75e77_row0_col1\" class=\"data row0 col1\" >0</td>\n",
       "    </tr>\n",
       "    <tr>\n",
       "      <td id=\"T_75e77_row1_col0\" class=\"data row1 col0\" >presentation</td>\n",
       "      <td id=\"T_75e77_row1_col1\" class=\"data row1 col1\" >0</td>\n",
       "    </tr>\n",
       "    <tr>\n",
       "      <td id=\"T_75e77_row2_col0\" class=\"data row2 col0\" >id_student</td>\n",
       "      <td id=\"T_75e77_row2_col1\" class=\"data row2 col1\" >0</td>\n",
       "    </tr>\n",
       "    <tr>\n",
       "      <td id=\"T_75e77_row3_col0\" class=\"data row3 col0\" >id_site</td>\n",
       "      <td id=\"T_75e77_row3_col1\" class=\"data row3 col1\" >0</td>\n",
       "    </tr>\n",
       "    <tr>\n",
       "      <td id=\"T_75e77_row4_col0\" class=\"data row4 col0\" >date</td>\n",
       "      <td id=\"T_75e77_row4_col1\" class=\"data row4 col1\" >0</td>\n",
       "    </tr>\n",
       "    <tr>\n",
       "      <td id=\"T_75e77_row5_col0\" class=\"data row5 col0\" >sum_click</td>\n",
       "      <td id=\"T_75e77_row5_col1\" class=\"data row5 col1\" >0</td>\n",
       "    </tr>\n",
       "  </tbody>\n",
       "</table>\n"
      ],
      "text/plain": [
       "<pandas.io.formats.style.Styler at 0x24a42191250>"
      ]
     },
     "execution_count": 64,
     "metadata": {},
     "output_type": "execute_result"
    }
   ],
   "source": [
    "null_vals(student_vle)"
   ]
  },
  {
   "cell_type": "markdown",
   "id": "8cbd9b9d-c973-4187-ae49-307716e661a4",
   "metadata": {},
   "source": [
    "There are no null values in student_vle"
   ]
  },
  {
   "cell_type": "markdown",
   "id": "2c26b43c-2f39-487d-978d-e64c5cc387f6",
   "metadata": {},
   "source": [
    "**Duplicate Values**"
   ]
  },
  {
   "cell_type": "code",
   "execution_count": 65,
   "id": "8348cb4c-2caf-46f5-bbfe-5cdd7d0fb2b3",
   "metadata": {
    "tags": [
     "remove_input"
    ]
   },
   "outputs": [
    {
     "data": {
      "text/html": [
       "<div>\n",
       "<style scoped>\n",
       "    .dataframe tbody tr th:only-of-type {\n",
       "        vertical-align: middle;\n",
       "    }\n",
       "\n",
       "    .dataframe tbody tr th {\n",
       "        vertical-align: top;\n",
       "    }\n",
       "\n",
       "    .dataframe thead th {\n",
       "        text-align: right;\n",
       "    }\n",
       "</style>\n",
       "<table border=\"1\" class=\"dataframe\">\n",
       "  <thead>\n",
       "    <tr style=\"text-align: right;\">\n",
       "      <th></th>\n",
       "      <th>module</th>\n",
       "      <th>presentation</th>\n",
       "      <th>id_student</th>\n",
       "      <th>id_site</th>\n",
       "      <th>date</th>\n",
       "      <th>sum_click</th>\n",
       "    </tr>\n",
       "  </thead>\n",
       "  <tbody>\n",
       "    <tr>\n",
       "      <th>2</th>\n",
       "      <td>AAA</td>\n",
       "      <td>2013J</td>\n",
       "      <td>28400</td>\n",
       "      <td>546652</td>\n",
       "      <td>-10</td>\n",
       "      <td>1</td>\n",
       "    </tr>\n",
       "    <tr>\n",
       "      <th>63</th>\n",
       "      <td>AAA</td>\n",
       "      <td>2013J</td>\n",
       "      <td>45462</td>\n",
       "      <td>546652</td>\n",
       "      <td>-10</td>\n",
       "      <td>1</td>\n",
       "    </tr>\n",
       "    <tr>\n",
       "      <th>180</th>\n",
       "      <td>AAA</td>\n",
       "      <td>2013J</td>\n",
       "      <td>77367</td>\n",
       "      <td>546652</td>\n",
       "      <td>-10</td>\n",
       "      <td>4</td>\n",
       "    </tr>\n",
       "    <tr>\n",
       "      <th>193</th>\n",
       "      <td>AAA</td>\n",
       "      <td>2013J</td>\n",
       "      <td>94961</td>\n",
       "      <td>546652</td>\n",
       "      <td>-10</td>\n",
       "      <td>2</td>\n",
       "    </tr>\n",
       "    <tr>\n",
       "      <th>442</th>\n",
       "      <td>AAA</td>\n",
       "      <td>2013J</td>\n",
       "      <td>248270</td>\n",
       "      <td>546652</td>\n",
       "      <td>-10</td>\n",
       "      <td>4</td>\n",
       "    </tr>\n",
       "  </tbody>\n",
       "</table>\n",
       "</div>"
      ],
      "text/plain": [
       "    module presentation id_student id_site  date  sum_click\n",
       "2      AAA        2013J      28400  546652   -10          1\n",
       "63     AAA        2013J      45462  546652   -10          1\n",
       "180    AAA        2013J      77367  546652   -10          4\n",
       "193    AAA        2013J      94961  546652   -10          2\n",
       "442    AAA        2013J     248270  546652   -10          4"
      ]
     },
     "execution_count": 65,
     "metadata": {},
     "output_type": "execute_result"
    }
   ],
   "source": [
    "duplicates = get_dupes(student_vle)\n",
    "duplicates.head()"
   ]
  },
  {
   "cell_type": "code",
   "execution_count": 66,
   "id": "d01e79c4-066d-4482-a918-279b2d2e5417",
   "metadata": {
    "tags": [
     "remove_input"
    ]
   },
   "outputs": [
    {
     "data": {
      "text/markdown": [
       "\n",
       "There are 787,170 duplicated rows which are merely the same students on the same day, interacting with the same material in the same way, which is to be expected.\n"
      ],
      "text/plain": [
       "<IPython.core.display.Markdown object>"
      ]
     },
     "execution_count": 66,
     "metadata": {},
     "output_type": "execute_result"
    }
   ],
   "source": [
    "md(f'''\n",
    "There are {\"{:,}\".format(len(duplicates))} duplicated rows which are merely the same students on the same day, interacting with the same material in the same way, which is to be expected.\n",
    "''')"
   ]
  },
  {
   "cell_type": "markdown",
   "id": "10dff752-264d-483f-9214-b0c32be9afcd",
   "metadata": {},
   "source": [
    "**Unique Value Counts**"
   ]
  },
  {
   "cell_type": "code",
   "execution_count": 67,
   "id": "16063fd1-a0c5-4a28-9486-810ef4288c42",
   "metadata": {
    "tags": [
     "remove_input"
    ]
   },
   "outputs": [
    {
     "data": {
      "text/html": [
       "<style type=\"text/css\">\n",
       "#T_6a0c7_ td.col0 {\n",
       "  font-weight: bold;\n",
       "}\n",
       "</style>\n",
       "<table id=\"T_6a0c7_\">\n",
       "  <thead>\n",
       "    <tr>\n",
       "      <th class=\"col_heading level0 col0\" >index</th>\n",
       "      <th class=\"col_heading level0 col1\" >Count</th>\n",
       "    </tr>\n",
       "  </thead>\n",
       "  <tbody>\n",
       "    <tr>\n",
       "      <td id=\"T_6a0c7_row0_col0\" class=\"data row0 col0\" >module</td>\n",
       "      <td id=\"T_6a0c7_row0_col1\" class=\"data row0 col1\" >7</td>\n",
       "    </tr>\n",
       "    <tr>\n",
       "      <td id=\"T_6a0c7_row1_col0\" class=\"data row1 col0\" >presentation</td>\n",
       "      <td id=\"T_6a0c7_row1_col1\" class=\"data row1 col1\" >4</td>\n",
       "    </tr>\n",
       "    <tr>\n",
       "      <td id=\"T_6a0c7_row2_col0\" class=\"data row2 col0\" >id_student</td>\n",
       "      <td id=\"T_6a0c7_row2_col1\" class=\"data row2 col1\" >26074</td>\n",
       "    </tr>\n",
       "    <tr>\n",
       "      <td id=\"T_6a0c7_row3_col0\" class=\"data row3 col0\" >id_site</td>\n",
       "      <td id=\"T_6a0c7_row3_col1\" class=\"data row3 col1\" >6268</td>\n",
       "    </tr>\n",
       "    <tr>\n",
       "      <td id=\"T_6a0c7_row4_col0\" class=\"data row4 col0\" >date</td>\n",
       "      <td id=\"T_6a0c7_row4_col1\" class=\"data row4 col1\" >295</td>\n",
       "    </tr>\n",
       "    <tr>\n",
       "      <td id=\"T_6a0c7_row5_col0\" class=\"data row5 col0\" >sum_click</td>\n",
       "      <td id=\"T_6a0c7_row5_col1\" class=\"data row5 col1\" >498</td>\n",
       "    </tr>\n",
       "  </tbody>\n",
       "</table>\n"
      ],
      "text/plain": [
       "<pandas.io.formats.style.Styler at 0x24a42194df0>"
      ]
     },
     "execution_count": 67,
     "metadata": {},
     "output_type": "execute_result"
    }
   ],
   "source": [
    "count_unique(student_vle)"
   ]
  },
  {
   "cell_type": "code",
   "execution_count": 68,
   "id": "c2c8a273-7e9d-43cc-b2cf-dca2582c9420",
   "metadata": {
    "tags": [
     "remove_input"
    ]
   },
   "outputs": [
    {
     "data": {
      "text/markdown": [
       "\n",
       "There are 26,074 in the student_vle out of the 28,785 \n",
       "students we have in student info. So 2,711 students from student info do not have online interaction data.\n"
      ],
      "text/plain": [
       "<IPython.core.display.Markdown object>"
      ]
     },
     "execution_count": 68,
     "metadata": {},
     "output_type": "execute_result"
    }
   ],
   "source": [
    "unique_students = student_vle['id_student'].nunique()\n",
    "si_unique_students = student_info['id_student'].nunique()\n",
    "md(f'''\n",
    "There are {\"{:,}\".format(unique_students)} in the student_vle out of the {\"{:,}\".format(si_unique_students)} \n",
    "students we have in student info. So {\"{:,}\".format(si_unique_students - unique_students)} students from student info do not have online interaction data.\n",
    "''')"
   ]
  },
  {
   "cell_type": "markdown",
   "id": "594e47e9-9739-4082-b943-c6f9c0be63d0",
   "metadata": {},
   "source": [
    "**Numerical Values**"
   ]
  },
  {
   "cell_type": "code",
   "execution_count": 69,
   "id": "aeae9f5f-97ef-4420-b8d6-2721381a099b",
   "metadata": {
    "tags": [
     "remove_input"
    ]
   },
   "outputs": [
    {
     "data": {
      "text/html": [
       "<div>\n",
       "<style scoped>\n",
       "    .dataframe tbody tr th:only-of-type {\n",
       "        vertical-align: middle;\n",
       "    }\n",
       "\n",
       "    .dataframe tbody tr th {\n",
       "        vertical-align: top;\n",
       "    }\n",
       "\n",
       "    .dataframe thead th {\n",
       "        text-align: right;\n",
       "    }\n",
       "</style>\n",
       "<table border=\"1\" class=\"dataframe\">\n",
       "  <thead>\n",
       "    <tr style=\"text-align: right;\">\n",
       "      <th></th>\n",
       "      <th>date</th>\n",
       "      <th>sum_click</th>\n",
       "    </tr>\n",
       "  </thead>\n",
       "  <tbody>\n",
       "    <tr>\n",
       "      <th>count</th>\n",
       "      <td>10655280.0</td>\n",
       "      <td>10655280.0</td>\n",
       "    </tr>\n",
       "    <tr>\n",
       "      <th>mean</th>\n",
       "      <td>95.2</td>\n",
       "      <td>3.7</td>\n",
       "    </tr>\n",
       "    <tr>\n",
       "      <th>std</th>\n",
       "      <td>76.1</td>\n",
       "      <td>8.8</td>\n",
       "    </tr>\n",
       "    <tr>\n",
       "      <th>min</th>\n",
       "      <td>-25.0</td>\n",
       "      <td>1.0</td>\n",
       "    </tr>\n",
       "    <tr>\n",
       "      <th>25%</th>\n",
       "      <td>25.0</td>\n",
       "      <td>1.0</td>\n",
       "    </tr>\n",
       "    <tr>\n",
       "      <th>50%</th>\n",
       "      <td>86.0</td>\n",
       "      <td>2.0</td>\n",
       "    </tr>\n",
       "    <tr>\n",
       "      <th>75%</th>\n",
       "      <td>156.0</td>\n",
       "      <td>3.0</td>\n",
       "    </tr>\n",
       "    <tr>\n",
       "      <th>max</th>\n",
       "      <td>269.0</td>\n",
       "      <td>6977.0</td>\n",
       "    </tr>\n",
       "  </tbody>\n",
       "</table>\n",
       "</div>"
      ],
      "text/plain": [
       "             date   sum_click\n",
       "count  10655280.0  10655280.0\n",
       "mean         95.2         3.7\n",
       "std          76.1         8.8\n",
       "min         -25.0         1.0\n",
       "25%          25.0         1.0\n",
       "50%          86.0         2.0\n",
       "75%         156.0         3.0\n",
       "max         269.0      6977.0"
      ]
     },
     "execution_count": 69,
     "metadata": {},
     "output_type": "execute_result"
    }
   ],
   "source": [
    "student_vle.describe().round(1)"
   ]
  },
  {
   "cell_type": "code",
   "execution_count": 7,
   "id": "9c521226-0ae9-4e71-aa0e-caf33846efae",
   "metadata": {},
   "outputs": [
    {
     "data": {
      "text/markdown": [
       "\n",
       "The average number of clicks per session is  only 3.7 which makes the maximum number of clicks 6977 seem really high.\n",
       "Let's take a look at some of the higher click entries\n"
      ],
      "text/plain": [
       "<IPython.core.display.Markdown object>"
      ]
     },
     "execution_count": 7,
     "metadata": {},
     "output_type": "execute_result"
    }
   ],
   "source": [
    "avg_click_sum = round(student_vle['sum_click'].mean(), 1)\n",
    "max_click_sum = student_vle['sum_click'].max()\n",
    "md(f'''\n",
    "The average number of clicks per session is  only {avg_click_sum} which makes the maximum number of clicks {max_click_sum} seem really high.\n",
    "Let's take a look at some of the higher click entries\n",
    "''')"
   ]
  },
  {
   "cell_type": "code",
   "execution_count": 10,
   "id": "6b73fcbe-7fea-42ea-a74e-7dc0b9566849",
   "metadata": {},
   "outputs": [
    {
     "data": {
      "text/html": [
       "<div>\n",
       "<style scoped>\n",
       "    .dataframe tbody tr th:only-of-type {\n",
       "        vertical-align: middle;\n",
       "    }\n",
       "\n",
       "    .dataframe tbody tr th {\n",
       "        vertical-align: top;\n",
       "    }\n",
       "\n",
       "    .dataframe thead th {\n",
       "        text-align: right;\n",
       "    }\n",
       "</style>\n",
       "<table border=\"1\" class=\"dataframe\">\n",
       "  <thead>\n",
       "    <tr style=\"text-align: right;\">\n",
       "      <th></th>\n",
       "      <th>code_module</th>\n",
       "      <th>code_presentation</th>\n",
       "      <th>id_student</th>\n",
       "      <th>id_site</th>\n",
       "      <th>date</th>\n",
       "      <th>sum_click</th>\n",
       "    </tr>\n",
       "  </thead>\n",
       "  <tbody>\n",
       "    <tr>\n",
       "      <th>2442394</th>\n",
       "      <td>CCC</td>\n",
       "      <td>2014J</td>\n",
       "      <td>678395</td>\n",
       "      <td>909096</td>\n",
       "      <td>-6</td>\n",
       "      <td>1003</td>\n",
       "    </tr>\n",
       "    <tr>\n",
       "      <th>2383859</th>\n",
       "      <td>CCC</td>\n",
       "      <td>2014B</td>\n",
       "      <td>285170</td>\n",
       "      <td>729798</td>\n",
       "      <td>221</td>\n",
       "      <td>1008</td>\n",
       "    </tr>\n",
       "    <tr>\n",
       "      <th>1705569</th>\n",
       "      <td>BBB</td>\n",
       "      <td>2014J</td>\n",
       "      <td>633902</td>\n",
       "      <td>913490</td>\n",
       "      <td>97</td>\n",
       "      <td>1076</td>\n",
       "    </tr>\n",
       "    <tr>\n",
       "      <th>5592994</th>\n",
       "      <td>EEE</td>\n",
       "      <td>2013J</td>\n",
       "      <td>2616950</td>\n",
       "      <td>551035</td>\n",
       "      <td>164</td>\n",
       "      <td>1204</td>\n",
       "    </tr>\n",
       "    <tr>\n",
       "      <th>121977</th>\n",
       "      <td>AAA</td>\n",
       "      <td>2013J</td>\n",
       "      <td>1894188</td>\n",
       "      <td>546703</td>\n",
       "      <td>155</td>\n",
       "      <td>1326</td>\n",
       "    </tr>\n",
       "    <tr>\n",
       "      <th>7256258</th>\n",
       "      <td>FFF</td>\n",
       "      <td>2013J</td>\n",
       "      <td>491011</td>\n",
       "      <td>716238</td>\n",
       "      <td>-4</td>\n",
       "      <td>1357</td>\n",
       "    </tr>\n",
       "    <tr>\n",
       "      <th>6156812</th>\n",
       "      <td>EEE</td>\n",
       "      <td>2014J</td>\n",
       "      <td>687563</td>\n",
       "      <td>832729</td>\n",
       "      <td>160</td>\n",
       "      <td>1442</td>\n",
       "    </tr>\n",
       "    <tr>\n",
       "      <th>2222490</th>\n",
       "      <td>CCC</td>\n",
       "      <td>2014B</td>\n",
       "      <td>582087</td>\n",
       "      <td>729815</td>\n",
       "      <td>117</td>\n",
       "      <td>1481</td>\n",
       "    </tr>\n",
       "    <tr>\n",
       "      <th>5796255</th>\n",
       "      <td>EEE</td>\n",
       "      <td>2014B</td>\n",
       "      <td>618606</td>\n",
       "      <td>790888</td>\n",
       "      <td>141</td>\n",
       "      <td>1497</td>\n",
       "    </tr>\n",
       "    <tr>\n",
       "      <th>2113903</th>\n",
       "      <td>CCC</td>\n",
       "      <td>2014B</td>\n",
       "      <td>582087</td>\n",
       "      <td>729813</td>\n",
       "      <td>56</td>\n",
       "      <td>1517</td>\n",
       "    </tr>\n",
       "    <tr>\n",
       "      <th>2680511</th>\n",
       "      <td>CCC</td>\n",
       "      <td>2014J</td>\n",
       "      <td>306202</td>\n",
       "      <td>909315</td>\n",
       "      <td>54</td>\n",
       "      <td>1827</td>\n",
       "    </tr>\n",
       "    <tr>\n",
       "      <th>7732926</th>\n",
       "      <td>FFF</td>\n",
       "      <td>2013J</td>\n",
       "      <td>498031</td>\n",
       "      <td>716831</td>\n",
       "      <td>66</td>\n",
       "      <td>1836</td>\n",
       "    </tr>\n",
       "    <tr>\n",
       "      <th>2680532</th>\n",
       "      <td>CCC</td>\n",
       "      <td>2014J</td>\n",
       "      <td>306202</td>\n",
       "      <td>909314</td>\n",
       "      <td>54</td>\n",
       "      <td>1929</td>\n",
       "    </tr>\n",
       "    <tr>\n",
       "      <th>2597086</th>\n",
       "      <td>CCC</td>\n",
       "      <td>2014J</td>\n",
       "      <td>605868</td>\n",
       "      <td>909298</td>\n",
       "      <td>27</td>\n",
       "      <td>1996</td>\n",
       "    </tr>\n",
       "    <tr>\n",
       "      <th>2812615</th>\n",
       "      <td>CCC</td>\n",
       "      <td>2014J</td>\n",
       "      <td>649840</td>\n",
       "      <td>909032</td>\n",
       "      <td>113</td>\n",
       "      <td>2143</td>\n",
       "    </tr>\n",
       "    <tr>\n",
       "      <th>1744198</th>\n",
       "      <td>BBB</td>\n",
       "      <td>2014J</td>\n",
       "      <td>687378</td>\n",
       "      <td>913671</td>\n",
       "      <td>118</td>\n",
       "      <td>2664</td>\n",
       "    </tr>\n",
       "    <tr>\n",
       "      <th>2803808</th>\n",
       "      <td>CCC</td>\n",
       "      <td>2014J</td>\n",
       "      <td>649840</td>\n",
       "      <td>909032</td>\n",
       "      <td>109</td>\n",
       "      <td>2853</td>\n",
       "    </tr>\n",
       "    <tr>\n",
       "      <th>6931847</th>\n",
       "      <td>FFF</td>\n",
       "      <td>2013B</td>\n",
       "      <td>543643</td>\n",
       "      <td>526853</td>\n",
       "      <td>140</td>\n",
       "      <td>3725</td>\n",
       "    </tr>\n",
       "    <tr>\n",
       "      <th>4482533</th>\n",
       "      <td>DDD</td>\n",
       "      <td>2014B</td>\n",
       "      <td>620337</td>\n",
       "      <td>773028</td>\n",
       "      <td>35</td>\n",
       "      <td>3958</td>\n",
       "    </tr>\n",
       "    <tr>\n",
       "      <th>6331815</th>\n",
       "      <td>FFF</td>\n",
       "      <td>2013B</td>\n",
       "      <td>497180</td>\n",
       "      <td>526721</td>\n",
       "      <td>1</td>\n",
       "      <td>4098</td>\n",
       "    </tr>\n",
       "    <tr>\n",
       "      <th>5469679</th>\n",
       "      <td>EEE</td>\n",
       "      <td>2013J</td>\n",
       "      <td>601224</td>\n",
       "      <td>551135</td>\n",
       "      <td>87</td>\n",
       "      <td>4523</td>\n",
       "    </tr>\n",
       "    <tr>\n",
       "      <th>5072596</th>\n",
       "      <td>DDD</td>\n",
       "      <td>2014J</td>\n",
       "      <td>592214</td>\n",
       "      <td>814061</td>\n",
       "      <td>121</td>\n",
       "      <td>4953</td>\n",
       "    </tr>\n",
       "    <tr>\n",
       "      <th>3907683</th>\n",
       "      <td>DDD</td>\n",
       "      <td>2013J</td>\n",
       "      <td>204505</td>\n",
       "      <td>673519</td>\n",
       "      <td>43</td>\n",
       "      <td>6977</td>\n",
       "    </tr>\n",
       "  </tbody>\n",
       "</table>\n",
       "</div>"
      ],
      "text/plain": [
       "        code_module code_presentation  id_student  id_site  date  sum_click\n",
       "2442394         CCC             2014J      678395   909096    -6       1003\n",
       "2383859         CCC             2014B      285170   729798   221       1008\n",
       "1705569         BBB             2014J      633902   913490    97       1076\n",
       "5592994         EEE             2013J     2616950   551035   164       1204\n",
       "121977          AAA             2013J     1894188   546703   155       1326\n",
       "7256258         FFF             2013J      491011   716238    -4       1357\n",
       "6156812         EEE             2014J      687563   832729   160       1442\n",
       "2222490         CCC             2014B      582087   729815   117       1481\n",
       "5796255         EEE             2014B      618606   790888   141       1497\n",
       "2113903         CCC             2014B      582087   729813    56       1517\n",
       "2680511         CCC             2014J      306202   909315    54       1827\n",
       "7732926         FFF             2013J      498031   716831    66       1836\n",
       "2680532         CCC             2014J      306202   909314    54       1929\n",
       "2597086         CCC             2014J      605868   909298    27       1996\n",
       "2812615         CCC             2014J      649840   909032   113       2143\n",
       "1744198         BBB             2014J      687378   913671   118       2664\n",
       "2803808         CCC             2014J      649840   909032   109       2853\n",
       "6931847         FFF             2013B      543643   526853   140       3725\n",
       "4482533         DDD             2014B      620337   773028    35       3958\n",
       "6331815         FFF             2013B      497180   526721     1       4098\n",
       "5469679         EEE             2013J      601224   551135    87       4523\n",
       "5072596         DDD             2014J      592214   814061   121       4953\n",
       "3907683         DDD             2013J      204505   673519    43       6977"
      ]
     },
     "execution_count": 10,
     "metadata": {},
     "output_type": "execute_result"
    }
   ],
   "source": [
    "student_vle[student_vle['sum_click'] > 1000].sort_values('sum_click')"
   ]
  },
  {
   "cell_type": "code",
   "execution_count": null,
   "id": "75116457-92fd-4f64-b760-4bc5ebfe33e7",
   "metadata": {},
   "outputs": [],
   "source": []
  },
  {
   "cell_type": "markdown",
   "id": "d33db49e-b10f-46e6-89f5-e3c7e7b0819d",
   "metadata": {},
   "source": [
    "Above are all of the entries with over 1000 clicks. These seem to be far outliers compared to the average"
   ]
  },
  {
   "cell_type": "markdown",
   "id": "7b5fb28d-db0f-4252-94d1-ff51a74ad60b",
   "metadata": {},
   "source": [
    "## Merged VLE and Student VLE Dataframe\n",
    "---\n",
    "\n",
    "We will combine the student_vle and vle dataframes to have the student data mapped to the resource data"
   ]
  },
  {
   "cell_type": "code",
   "execution_count": 70,
   "id": "96b3640d-cc0a-4320-83e8-8e716fa5eeb2",
   "metadata": {
    "tags": [
     "remove_input"
    ]
   },
   "outputs": [
    {
     "data": {
      "text/html": [
       "<div>\n",
       "<style scoped>\n",
       "    .dataframe tbody tr th:only-of-type {\n",
       "        vertical-align: middle;\n",
       "    }\n",
       "\n",
       "    .dataframe tbody tr th {\n",
       "        vertical-align: top;\n",
       "    }\n",
       "\n",
       "    .dataframe thead th {\n",
       "        text-align: right;\n",
       "    }\n",
       "</style>\n",
       "<table border=\"1\" class=\"dataframe\">\n",
       "  <thead>\n",
       "    <tr style=\"text-align: right;\">\n",
       "      <th></th>\n",
       "      <th>module</th>\n",
       "      <th>presentation</th>\n",
       "      <th>id_student</th>\n",
       "      <th>id_site</th>\n",
       "      <th>date</th>\n",
       "      <th>sum_click</th>\n",
       "      <th>activity_type</th>\n",
       "      <th>_merge</th>\n",
       "    </tr>\n",
       "  </thead>\n",
       "  <tbody>\n",
       "    <tr>\n",
       "      <th>0</th>\n",
       "      <td>AAA</td>\n",
       "      <td>2013J</td>\n",
       "      <td>28400</td>\n",
       "      <td>546652</td>\n",
       "      <td>-10.0</td>\n",
       "      <td>4.0</td>\n",
       "      <td>forumng</td>\n",
       "      <td>both</td>\n",
       "    </tr>\n",
       "    <tr>\n",
       "      <th>1</th>\n",
       "      <td>AAA</td>\n",
       "      <td>2013J</td>\n",
       "      <td>28400</td>\n",
       "      <td>546652</td>\n",
       "      <td>-10.0</td>\n",
       "      <td>1.0</td>\n",
       "      <td>forumng</td>\n",
       "      <td>both</td>\n",
       "    </tr>\n",
       "    <tr>\n",
       "      <th>2</th>\n",
       "      <td>AAA</td>\n",
       "      <td>2013J</td>\n",
       "      <td>28400</td>\n",
       "      <td>546652</td>\n",
       "      <td>-10.0</td>\n",
       "      <td>1.0</td>\n",
       "      <td>forumng</td>\n",
       "      <td>both</td>\n",
       "    </tr>\n",
       "    <tr>\n",
       "      <th>3</th>\n",
       "      <td>AAA</td>\n",
       "      <td>2013J</td>\n",
       "      <td>28400</td>\n",
       "      <td>546652</td>\n",
       "      <td>-10.0</td>\n",
       "      <td>8.0</td>\n",
       "      <td>forumng</td>\n",
       "      <td>both</td>\n",
       "    </tr>\n",
       "    <tr>\n",
       "      <th>4</th>\n",
       "      <td>AAA</td>\n",
       "      <td>2013J</td>\n",
       "      <td>30268</td>\n",
       "      <td>546652</td>\n",
       "      <td>-10.0</td>\n",
       "      <td>3.0</td>\n",
       "      <td>forumng</td>\n",
       "      <td>both</td>\n",
       "    </tr>\n",
       "  </tbody>\n",
       "</table>\n",
       "</div>"
      ],
      "text/plain": [
       "  module presentation id_student id_site  date  sum_click activity_type _merge\n",
       "0    AAA        2013J      28400  546652 -10.0        4.0       forumng   both\n",
       "1    AAA        2013J      28400  546652 -10.0        1.0       forumng   both\n",
       "2    AAA        2013J      28400  546652 -10.0        1.0       forumng   both\n",
       "3    AAA        2013J      28400  546652 -10.0        8.0       forumng   both\n",
       "4    AAA        2013J      30268  546652 -10.0        3.0       forumng   both"
      ]
     },
     "execution_count": 70,
     "metadata": {},
     "output_type": "execute_result"
    }
   ],
   "source": [
    "# merging vle & student vle with a full outer join on common columns\n",
    "merged_vle = student_vle.merge(vle, how='outer', on=['id_site', 'module', 'presentation'],indicator=True)\n",
    "merged_vle.head()"
   ]
  },
  {
   "cell_type": "markdown",
   "id": "7accf914-25f1-42f8-97b7-410d94aab5e1",
   "metadata": {},
   "source": [
    "The added merge column tells us if the data maps perfectly to both dataframes, or if it is only found on the right or left side, the right side in this case being the VLE dataframe and the left side being the student_VLE dataframe"
   ]
  },
  {
   "cell_type": "code",
   "execution_count": 71,
   "id": "4bd25d6c-7f8e-4671-a730-8221156d2577",
   "metadata": {
    "tags": [
     "remove_input"
    ]
   },
   "outputs": [
    {
     "data": {
      "text/html": [
       "<div>\n",
       "<style scoped>\n",
       "    .dataframe tbody tr th:only-of-type {\n",
       "        vertical-align: middle;\n",
       "    }\n",
       "\n",
       "    .dataframe tbody tr th {\n",
       "        vertical-align: top;\n",
       "    }\n",
       "\n",
       "    .dataframe thead th {\n",
       "        text-align: right;\n",
       "    }\n",
       "</style>\n",
       "<table border=\"1\" class=\"dataframe\">\n",
       "  <thead>\n",
       "    <tr style=\"text-align: right;\">\n",
       "      <th></th>\n",
       "      <th>module</th>\n",
       "      <th>presentation</th>\n",
       "      <th>id_student</th>\n",
       "      <th>id_site</th>\n",
       "      <th>date</th>\n",
       "      <th>sum_click</th>\n",
       "      <th>activity_type</th>\n",
       "      <th>_merge</th>\n",
       "    </tr>\n",
       "  </thead>\n",
       "  <tbody>\n",
       "    <tr>\n",
       "      <th>10655280</th>\n",
       "      <td>AAA</td>\n",
       "      <td>2013J</td>\n",
       "      <td>NaN</td>\n",
       "      <td>546897</td>\n",
       "      <td>NaN</td>\n",
       "      <td>NaN</td>\n",
       "      <td>url</td>\n",
       "      <td>right_only</td>\n",
       "    </tr>\n",
       "    <tr>\n",
       "      <th>10655281</th>\n",
       "      <td>AAA</td>\n",
       "      <td>2013J</td>\n",
       "      <td>NaN</td>\n",
       "      <td>546872</td>\n",
       "      <td>NaN</td>\n",
       "      <td>NaN</td>\n",
       "      <td>subpage</td>\n",
       "      <td>right_only</td>\n",
       "    </tr>\n",
       "    <tr>\n",
       "      <th>10655282</th>\n",
       "      <td>AAA</td>\n",
       "      <td>2014J</td>\n",
       "      <td>NaN</td>\n",
       "      <td>1032910</td>\n",
       "      <td>NaN</td>\n",
       "      <td>NaN</td>\n",
       "      <td>url</td>\n",
       "      <td>right_only</td>\n",
       "    </tr>\n",
       "    <tr>\n",
       "      <th>10655283</th>\n",
       "      <td>AAA</td>\n",
       "      <td>2014J</td>\n",
       "      <td>NaN</td>\n",
       "      <td>1072237</td>\n",
       "      <td>NaN</td>\n",
       "      <td>NaN</td>\n",
       "      <td>url</td>\n",
       "      <td>right_only</td>\n",
       "    </tr>\n",
       "    <tr>\n",
       "      <th>10655284</th>\n",
       "      <td>AAA</td>\n",
       "      <td>2014J</td>\n",
       "      <td>NaN</td>\n",
       "      <td>1027118</td>\n",
       "      <td>NaN</td>\n",
       "      <td>NaN</td>\n",
       "      <td>url</td>\n",
       "      <td>right_only</td>\n",
       "    </tr>\n",
       "  </tbody>\n",
       "</table>\n",
       "</div>"
      ],
      "text/plain": [
       "         module presentation id_student  id_site  date  sum_click  \\\n",
       "10655280    AAA        2013J        NaN   546897   NaN        NaN   \n",
       "10655281    AAA        2013J        NaN   546872   NaN        NaN   \n",
       "10655282    AAA        2014J        NaN  1032910   NaN        NaN   \n",
       "10655283    AAA        2014J        NaN  1072237   NaN        NaN   \n",
       "10655284    AAA        2014J        NaN  1027118   NaN        NaN   \n",
       "\n",
       "         activity_type      _merge  \n",
       "10655280           url  right_only  \n",
       "10655281       subpage  right_only  \n",
       "10655282           url  right_only  \n",
       "10655283           url  right_only  \n",
       "10655284           url  right_only  "
      ]
     },
     "execution_count": 71,
     "metadata": {},
     "output_type": "execute_result"
    }
   ],
   "source": [
    "# makes a dataframe containing only entries where _merge value is not both.\n",
    "vle_only = merged_vle.loc[merged_vle['_merge'] != 'both']\n",
    "vle_only.head()"
   ]
  },
  {
   "cell_type": "code",
   "execution_count": 72,
   "id": "f2f242d6-ca59-4eba-a98f-2d891e7f69c3",
   "metadata": {},
   "outputs": [
    {
     "data": {
      "text/markdown": [
       "\n",
       "In this case the data either maps perfectly to both or is only found on the right hand side, or the VLE dataframe. These 96 \n",
       "entries represent materials which we have no student activity associated with which can be dropped along with the _merge column \n",
       "which will have no more interesting information.\n"
      ],
      "text/plain": [
       "<IPython.core.display.Markdown object>"
      ]
     },
     "execution_count": 72,
     "metadata": {},
     "output_type": "execute_result"
    }
   ],
   "source": [
    "unvisited_sites_count = len(vle_only)\n",
    "md(f'''\n",
    "In this case the data either maps perfectly to both or is only found on the right hand side, or the VLE dataframe. These {unvisited_sites_count} \n",
    "entries represent materials which we have no student activity associated with which can be dropped along with the _merge column \n",
    "which will have no more interesting information.\n",
    "''')"
   ]
  },
  {
   "cell_type": "code",
   "execution_count": 73,
   "id": "38ab4cfc-52cb-4022-9898-096418ba1eea",
   "metadata": {
    "tags": [
     "remove_input"
    ]
   },
   "outputs": [
    {
     "data": {
      "text/html": [
       "<div>\n",
       "<style scoped>\n",
       "    .dataframe tbody tr th:only-of-type {\n",
       "        vertical-align: middle;\n",
       "    }\n",
       "\n",
       "    .dataframe tbody tr th {\n",
       "        vertical-align: top;\n",
       "    }\n",
       "\n",
       "    .dataframe thead th {\n",
       "        text-align: right;\n",
       "    }\n",
       "</style>\n",
       "<table border=\"1\" class=\"dataframe\">\n",
       "  <thead>\n",
       "    <tr style=\"text-align: right;\">\n",
       "      <th></th>\n",
       "      <th>module</th>\n",
       "      <th>presentation</th>\n",
       "      <th>id_student</th>\n",
       "      <th>id_site</th>\n",
       "      <th>date</th>\n",
       "      <th>sum_click</th>\n",
       "      <th>activity_type</th>\n",
       "    </tr>\n",
       "  </thead>\n",
       "  <tbody>\n",
       "    <tr>\n",
       "      <th>0</th>\n",
       "      <td>AAA</td>\n",
       "      <td>2013J</td>\n",
       "      <td>28400</td>\n",
       "      <td>546652</td>\n",
       "      <td>-10.0</td>\n",
       "      <td>4.0</td>\n",
       "      <td>forumng</td>\n",
       "    </tr>\n",
       "    <tr>\n",
       "      <th>1</th>\n",
       "      <td>AAA</td>\n",
       "      <td>2013J</td>\n",
       "      <td>28400</td>\n",
       "      <td>546652</td>\n",
       "      <td>-10.0</td>\n",
       "      <td>1.0</td>\n",
       "      <td>forumng</td>\n",
       "    </tr>\n",
       "    <tr>\n",
       "      <th>2</th>\n",
       "      <td>AAA</td>\n",
       "      <td>2013J</td>\n",
       "      <td>28400</td>\n",
       "      <td>546652</td>\n",
       "      <td>-10.0</td>\n",
       "      <td>1.0</td>\n",
       "      <td>forumng</td>\n",
       "    </tr>\n",
       "    <tr>\n",
       "      <th>3</th>\n",
       "      <td>AAA</td>\n",
       "      <td>2013J</td>\n",
       "      <td>28400</td>\n",
       "      <td>546652</td>\n",
       "      <td>-10.0</td>\n",
       "      <td>8.0</td>\n",
       "      <td>forumng</td>\n",
       "    </tr>\n",
       "    <tr>\n",
       "      <th>4</th>\n",
       "      <td>AAA</td>\n",
       "      <td>2013J</td>\n",
       "      <td>30268</td>\n",
       "      <td>546652</td>\n",
       "      <td>-10.0</td>\n",
       "      <td>3.0</td>\n",
       "      <td>forumng</td>\n",
       "    </tr>\n",
       "  </tbody>\n",
       "</table>\n",
       "</div>"
      ],
      "text/plain": [
       "  module presentation id_student id_site  date  sum_click activity_type\n",
       "0    AAA        2013J      28400  546652 -10.0        4.0       forumng\n",
       "1    AAA        2013J      28400  546652 -10.0        1.0       forumng\n",
       "2    AAA        2013J      28400  546652 -10.0        1.0       forumng\n",
       "3    AAA        2013J      28400  546652 -10.0        8.0       forumng\n",
       "4    AAA        2013J      30268  546652 -10.0        3.0       forumng"
      ]
     },
     "execution_count": 73,
     "metadata": {},
     "output_type": "execute_result"
    }
   ],
   "source": [
    "# drop rows which have NaN values for id_student\n",
    "merged_vle = merged_vle.dropna(subset=['id_student'])\n",
    "\n",
    "# drop _merge column\n",
    "merged_vle = merged_vle.drop(columns=['_merge'])\n",
    "\n",
    "# reset index\n",
    "merged_vle.reset_index(drop=True).head()"
   ]
  },
  {
   "cell_type": "markdown",
   "id": "535f708b-29c5-4819-9645-d1c378680d44",
   "metadata": {},
   "source": [
    "**Aggregating Clicks**"
   ]
  },
  {
   "cell_type": "markdown",
   "id": "4835db11-fed8-4a79-ad7e-d086915a1367",
   "metadata": {
    "jupyter": {
     "outputs_hidden": true
    },
    "tags": []
   },
   "source": [
    "* It would be interesting for the student info and assessments dataframes to have the total clicks and average number of clicks per day"
   ]
  },
  {
   "cell_type": "markdown",
   "id": "3869b630-4ff1-4623-8f28-b9b5c601b6c3",
   "metadata": {},
   "source": [
    "**Number of activity types**"
   ]
  },
  {
   "cell_type": "markdown",
   "id": "5138475e-4b2c-48fa-825b-19cedd185b50",
   "metadata": {},
   "source": [
    "* We are going to remove activity_type for now. If sum_clicks overall ends up being a good predictor of how a student does, we will add it back.\n",
    "* We will remove id_site for now since it does not add any information to the resource it maps to.\n",
    "* We will add a column avg_click representing the students average clicks per day."
   ]
  },
  {
   "cell_type": "code",
   "execution_count": 76,
   "id": "6d29da79-d764-4c01-9819-8c422a0bca95",
   "metadata": {
    "tags": [
     "remove-cell"
    ]
   },
   "outputs": [],
   "source": [
    "# removing activity_type and id_site columns\n",
    "agg_clicks = merged_vle.drop(columns=['activity_type', 'id_site'])"
   ]
  },
  {
   "cell_type": "markdown",
   "id": "d71cf67c-01d1-4139-9ed2-c33c25ccd4af",
   "metadata": {},
   "source": [
    "**VLE with clicks per student per module aggregated**"
   ]
  },
  {
   "cell_type": "code",
   "execution_count": 77,
   "id": "2b224e84-0a08-471b-958d-577357d506e2",
   "metadata": {
    "tags": [
     "remove_input"
    ]
   },
   "outputs": [],
   "source": [
    "agg_clicks['avg_click'] = agg_clicks['sum_click']\n",
    "# gets sum click as total for the whol module. Removes date since no longer relevant.\n",
    "aggregates = {'sum_click':'sum', 'module':'first', 'presentation':'first', 'avg_click':'mean'}\n",
    "\n",
    "agg_clicks = agg_clicks.groupby(['id_student']).aggregate(aggregates).reset_index()\n",
    "agg_clicks['avg_click'] = agg_clicks['avg_click'].round(2)\n",
    "# change id_student to int and then object to remove the .0\n",
    "agg_clicks = agg_clicks.astype({'id_student': str})"
   ]
  },
  {
   "cell_type": "code",
   "execution_count": 78,
   "id": "7bc2bc3f-26d0-4636-9d38-f2d41fe54764",
   "metadata": {},
   "outputs": [],
   "source": [
    "agg_clicks = agg_clicks[['module', 'presentation', 'id_student', 'sum_click', 'avg_click']]"
   ]
  },
  {
   "cell_type": "code",
   "execution_count": 79,
   "id": "c7f26bda-8595-46b6-bd12-ff6d3ec5dc29",
   "metadata": {},
   "outputs": [
    {
     "data": {
      "text/html": [
       "<div>\n",
       "<style scoped>\n",
       "    .dataframe tbody tr th:only-of-type {\n",
       "        vertical-align: middle;\n",
       "    }\n",
       "\n",
       "    .dataframe tbody tr th {\n",
       "        vertical-align: top;\n",
       "    }\n",
       "\n",
       "    .dataframe thead th {\n",
       "        text-align: right;\n",
       "    }\n",
       "</style>\n",
       "<table border=\"1\" class=\"dataframe\">\n",
       "  <thead>\n",
       "    <tr style=\"text-align: right;\">\n",
       "      <th></th>\n",
       "      <th>module</th>\n",
       "      <th>presentation</th>\n",
       "      <th>id_student</th>\n",
       "      <th>sum_click</th>\n",
       "      <th>avg_click</th>\n",
       "    </tr>\n",
       "  </thead>\n",
       "  <tbody>\n",
       "    <tr>\n",
       "      <th>0</th>\n",
       "      <td>FFF</td>\n",
       "      <td>2013J</td>\n",
       "      <td>100064</td>\n",
       "      <td>6514.0</td>\n",
       "      <td>3.99</td>\n",
       "    </tr>\n",
       "    <tr>\n",
       "      <th>1</th>\n",
       "      <td>BBB</td>\n",
       "      <td>2013J</td>\n",
       "      <td>100282</td>\n",
       "      <td>42.0</td>\n",
       "      <td>2.62</td>\n",
       "    </tr>\n",
       "    <tr>\n",
       "      <th>2</th>\n",
       "      <td>DDD</td>\n",
       "      <td>2014J</td>\n",
       "      <td>100561</td>\n",
       "      <td>950.0</td>\n",
       "      <td>2.04</td>\n",
       "    </tr>\n",
       "    <tr>\n",
       "      <th>3</th>\n",
       "      <td>CCC</td>\n",
       "      <td>2014B</td>\n",
       "      <td>100621</td>\n",
       "      <td>59.0</td>\n",
       "      <td>2.81</td>\n",
       "    </tr>\n",
       "    <tr>\n",
       "      <th>4</th>\n",
       "      <td>FFF</td>\n",
       "      <td>2014B</td>\n",
       "      <td>1006742</td>\n",
       "      <td>2421.0</td>\n",
       "      <td>3.67</td>\n",
       "    </tr>\n",
       "    <tr>\n",
       "      <th>...</th>\n",
       "      <td>...</td>\n",
       "      <td>...</td>\n",
       "      <td>...</td>\n",
       "      <td>...</td>\n",
       "      <td>...</td>\n",
       "    </tr>\n",
       "    <tr>\n",
       "      <th>26069</th>\n",
       "      <td>DDD</td>\n",
       "      <td>2014B</td>\n",
       "      <td>997948</td>\n",
       "      <td>61.0</td>\n",
       "      <td>1.79</td>\n",
       "    </tr>\n",
       "    <tr>\n",
       "      <th>26070</th>\n",
       "      <td>BBB</td>\n",
       "      <td>2014B</td>\n",
       "      <td>99799</td>\n",
       "      <td>553.0</td>\n",
       "      <td>2.25</td>\n",
       "    </tr>\n",
       "    <tr>\n",
       "      <th>26071</th>\n",
       "      <td>AAA</td>\n",
       "      <td>2014J</td>\n",
       "      <td>998493</td>\n",
       "      <td>10464.0</td>\n",
       "      <td>5.07</td>\n",
       "    </tr>\n",
       "    <tr>\n",
       "      <th>26072</th>\n",
       "      <td>FFF</td>\n",
       "      <td>2013B</td>\n",
       "      <td>999174</td>\n",
       "      <td>6307.0</td>\n",
       "      <td>2.86</td>\n",
       "    </tr>\n",
       "    <tr>\n",
       "      <th>26073</th>\n",
       "      <td>FFF</td>\n",
       "      <td>2013B</td>\n",
       "      <td>99993</td>\n",
       "      <td>3922.0</td>\n",
       "      <td>4.13</td>\n",
       "    </tr>\n",
       "  </tbody>\n",
       "</table>\n",
       "<p>26074 rows × 5 columns</p>\n",
       "</div>"
      ],
      "text/plain": [
       "      module presentation id_student  sum_click  avg_click\n",
       "0        FFF        2013J     100064     6514.0       3.99\n",
       "1        BBB        2013J     100282       42.0       2.62\n",
       "2        DDD        2014J     100561      950.0       2.04\n",
       "3        CCC        2014B     100621       59.0       2.81\n",
       "4        FFF        2014B    1006742     2421.0       3.67\n",
       "...      ...          ...        ...        ...        ...\n",
       "26069    DDD        2014B     997948       61.0       1.79\n",
       "26070    BBB        2014B      99799      553.0       2.25\n",
       "26071    AAA        2014J     998493    10464.0       5.07\n",
       "26072    FFF        2013B     999174     6307.0       2.86\n",
       "26073    FFF        2013B      99993     3922.0       4.13\n",
       "\n",
       "[26074 rows x 5 columns]"
      ]
     },
     "execution_count": 79,
     "metadata": {},
     "output_type": "execute_result"
    }
   ],
   "source": [
    "agg_clicks"
   ]
  },
  {
   "cell_type": "markdown",
   "id": "5ef217d3-0c73-4a6a-9127-9f475c62dbf9",
   "metadata": {},
   "source": [
    "**Merge with Student Info Dataframe**"
   ]
  },
  {
   "cell_type": "markdown",
   "id": "043530ac-d306-4fed-9af3-8dc313eaf72e",
   "metadata": {},
   "source": [
    "Finally, we will merge the merged VLE dataframe with the Student info dataframe to ensure wwe are only working with students who were not previously eliminated due to dropping out before the first day or for being on higher than their first attempt"
   ]
  },
  {
   "cell_type": "markdown",
   "id": "bbc57dc7-f255-46a1-9796-7e7795279f87",
   "metadata": {},
   "source": [
    "**Adding Aggregated Clicks to Student Info**"
   ]
  },
  {
   "cell_type": "code",
   "execution_count": 81,
   "id": "660c32c7-49e6-4ccf-a503-7b1bd548b97c",
   "metadata": {
    "collapsed": true,
    "jupyter": {
     "outputs_hidden": true
    },
    "tags": []
   },
   "outputs": [
    {
     "ename": "ValueError",
     "evalue": "Cannot use name of an existing column for indicator column",
     "output_type": "error",
     "traceback": [
      "\u001b[1;31m---------------------------------------------------------------------------\u001b[0m",
      "\u001b[1;31mValueError\u001b[0m                                Traceback (most recent call last)",
      "\u001b[1;32m<ipython-input-81-790849c35d89>\u001b[0m in \u001b[0;36m<module>\u001b[1;34m\u001b[0m\n\u001b[0;32m      1\u001b[0m \u001b[1;31m# outer merge of stud_info and vle dataframes on common columns\u001b[0m\u001b[1;33m\u001b[0m\u001b[1;33m\u001b[0m\u001b[1;33m\u001b[0m\u001b[0m\n\u001b[1;32m----> 2\u001b[1;33m \u001b[0mstud_info\u001b[0m \u001b[1;33m=\u001b[0m \u001b[0mstud_info\u001b[0m\u001b[1;33m.\u001b[0m\u001b[0mmerge\u001b[0m\u001b[1;33m(\u001b[0m\u001b[0magg_clicks\u001b[0m\u001b[1;33m,\u001b[0m \u001b[0mhow\u001b[0m\u001b[1;33m=\u001b[0m\u001b[1;34m'outer'\u001b[0m\u001b[1;33m,\u001b[0m \u001b[0mon\u001b[0m\u001b[1;33m=\u001b[0m\u001b[1;33m[\u001b[0m\u001b[1;34m'id_student'\u001b[0m\u001b[1;33m,\u001b[0m \u001b[1;34m'presentation'\u001b[0m\u001b[1;33m,\u001b[0m \u001b[1;34m'module'\u001b[0m\u001b[1;33m]\u001b[0m\u001b[1;33m,\u001b[0m\u001b[0mindicator\u001b[0m\u001b[1;33m=\u001b[0m\u001b[1;32mTrue\u001b[0m\u001b[1;33m)\u001b[0m\u001b[1;33m\u001b[0m\u001b[1;33m\u001b[0m\u001b[0m\n\u001b[0m\u001b[0;32m      3\u001b[0m \u001b[1;33m\u001b[0m\u001b[0m\n\u001b[0;32m      4\u001b[0m \u001b[1;31m# convert datatypes back\u001b[0m\u001b[1;33m\u001b[0m\u001b[1;33m\u001b[0m\u001b[1;33m\u001b[0m\u001b[0m\n\u001b[0;32m      5\u001b[0m \u001b[0mstud_info\u001b[0m \u001b[1;33m=\u001b[0m \u001b[0mstud_info\u001b[0m\u001b[1;33m.\u001b[0m\u001b[0mconvert_dtypes\u001b[0m\u001b[1;33m(\u001b[0m\u001b[1;33m)\u001b[0m\u001b[1;33m\u001b[0m\u001b[1;33m\u001b[0m\u001b[0m\n",
      "\u001b[1;32m~\\anaconda3\\envs\\py39\\lib\\site-packages\\pandas\\core\\frame.py\u001b[0m in \u001b[0;36mmerge\u001b[1;34m(self, right, how, on, left_on, right_on, left_index, right_index, sort, suffixes, copy, indicator, validate)\u001b[0m\n\u001b[0;32m   9184\u001b[0m         \u001b[1;32mfrom\u001b[0m \u001b[0mpandas\u001b[0m\u001b[1;33m.\u001b[0m\u001b[0mcore\u001b[0m\u001b[1;33m.\u001b[0m\u001b[0mreshape\u001b[0m\u001b[1;33m.\u001b[0m\u001b[0mmerge\u001b[0m \u001b[1;32mimport\u001b[0m \u001b[0mmerge\u001b[0m\u001b[1;33m\u001b[0m\u001b[1;33m\u001b[0m\u001b[0m\n\u001b[0;32m   9185\u001b[0m \u001b[1;33m\u001b[0m\u001b[0m\n\u001b[1;32m-> 9186\u001b[1;33m         return merge(\n\u001b[0m\u001b[0;32m   9187\u001b[0m             \u001b[0mself\u001b[0m\u001b[1;33m,\u001b[0m\u001b[1;33m\u001b[0m\u001b[1;33m\u001b[0m\u001b[0m\n\u001b[0;32m   9188\u001b[0m             \u001b[0mright\u001b[0m\u001b[1;33m,\u001b[0m\u001b[1;33m\u001b[0m\u001b[1;33m\u001b[0m\u001b[0m\n",
      "\u001b[1;32m~\\anaconda3\\envs\\py39\\lib\\site-packages\\pandas\\core\\reshape\\merge.py\u001b[0m in \u001b[0;36mmerge\u001b[1;34m(left, right, how, on, left_on, right_on, left_index, right_index, sort, suffixes, copy, indicator, validate)\u001b[0m\n\u001b[0;32m    120\u001b[0m         \u001b[0mvalidate\u001b[0m\u001b[1;33m=\u001b[0m\u001b[0mvalidate\u001b[0m\u001b[1;33m,\u001b[0m\u001b[1;33m\u001b[0m\u001b[1;33m\u001b[0m\u001b[0m\n\u001b[0;32m    121\u001b[0m     )\n\u001b[1;32m--> 122\u001b[1;33m     \u001b[1;32mreturn\u001b[0m \u001b[0mop\u001b[0m\u001b[1;33m.\u001b[0m\u001b[0mget_result\u001b[0m\u001b[1;33m(\u001b[0m\u001b[1;33m)\u001b[0m\u001b[1;33m\u001b[0m\u001b[1;33m\u001b[0m\u001b[0m\n\u001b[0m\u001b[0;32m    123\u001b[0m \u001b[1;33m\u001b[0m\u001b[0m\n\u001b[0;32m    124\u001b[0m \u001b[1;33m\u001b[0m\u001b[0m\n",
      "\u001b[1;32m~\\anaconda3\\envs\\py39\\lib\\site-packages\\pandas\\core\\reshape\\merge.py\u001b[0m in \u001b[0;36mget_result\u001b[1;34m(self)\u001b[0m\n\u001b[0;32m    712\u001b[0m     \u001b[1;32mdef\u001b[0m \u001b[0mget_result\u001b[0m\u001b[1;33m(\u001b[0m\u001b[0mself\u001b[0m\u001b[1;33m)\u001b[0m \u001b[1;33m->\u001b[0m \u001b[0mDataFrame\u001b[0m\u001b[1;33m:\u001b[0m\u001b[1;33m\u001b[0m\u001b[1;33m\u001b[0m\u001b[0m\n\u001b[0;32m    713\u001b[0m         \u001b[1;32mif\u001b[0m \u001b[0mself\u001b[0m\u001b[1;33m.\u001b[0m\u001b[0mindicator\u001b[0m\u001b[1;33m:\u001b[0m\u001b[1;33m\u001b[0m\u001b[1;33m\u001b[0m\u001b[0m\n\u001b[1;32m--> 714\u001b[1;33m             \u001b[0mself\u001b[0m\u001b[1;33m.\u001b[0m\u001b[0mleft\u001b[0m\u001b[1;33m,\u001b[0m \u001b[0mself\u001b[0m\u001b[1;33m.\u001b[0m\u001b[0mright\u001b[0m \u001b[1;33m=\u001b[0m \u001b[0mself\u001b[0m\u001b[1;33m.\u001b[0m\u001b[0m_indicator_pre_merge\u001b[0m\u001b[1;33m(\u001b[0m\u001b[0mself\u001b[0m\u001b[1;33m.\u001b[0m\u001b[0mleft\u001b[0m\u001b[1;33m,\u001b[0m \u001b[0mself\u001b[0m\u001b[1;33m.\u001b[0m\u001b[0mright\u001b[0m\u001b[1;33m)\u001b[0m\u001b[1;33m\u001b[0m\u001b[1;33m\u001b[0m\u001b[0m\n\u001b[0m\u001b[0;32m    715\u001b[0m \u001b[1;33m\u001b[0m\u001b[0m\n\u001b[0;32m    716\u001b[0m         \u001b[0mjoin_index\u001b[0m\u001b[1;33m,\u001b[0m \u001b[0mleft_indexer\u001b[0m\u001b[1;33m,\u001b[0m \u001b[0mright_indexer\u001b[0m \u001b[1;33m=\u001b[0m \u001b[0mself\u001b[0m\u001b[1;33m.\u001b[0m\u001b[0m_get_join_info\u001b[0m\u001b[1;33m(\u001b[0m\u001b[1;33m)\u001b[0m\u001b[1;33m\u001b[0m\u001b[1;33m\u001b[0m\u001b[0m\n",
      "\u001b[1;32m~\\anaconda3\\envs\\py39\\lib\\site-packages\\pandas\\core\\reshape\\merge.py\u001b[0m in \u001b[0;36m_indicator_pre_merge\u001b[1;34m(self, left, right)\u001b[0m\n\u001b[0;32m    763\u001b[0m                 )\n\u001b[0;32m    764\u001b[0m         \u001b[1;32mif\u001b[0m \u001b[0mself\u001b[0m\u001b[1;33m.\u001b[0m\u001b[0mindicator_name\u001b[0m \u001b[1;32min\u001b[0m \u001b[0mcolumns\u001b[0m\u001b[1;33m:\u001b[0m\u001b[1;33m\u001b[0m\u001b[1;33m\u001b[0m\u001b[0m\n\u001b[1;32m--> 765\u001b[1;33m             raise ValueError(\n\u001b[0m\u001b[0;32m    766\u001b[0m                 \u001b[1;34m\"Cannot use name of an existing column for indicator column\"\u001b[0m\u001b[1;33m\u001b[0m\u001b[1;33m\u001b[0m\u001b[0m\n\u001b[0;32m    767\u001b[0m             )\n",
      "\u001b[1;31mValueError\u001b[0m: Cannot use name of an existing column for indicator column"
     ]
    }
   ],
   "source": [
    "# outer merge of stud_info and vle dataframes on common columns\n",
    "stud_info = stud_info.merge(agg_clicks, how='outer', on=['id_student', 'presentation', 'module'],indicator=True)\n",
    "\n",
    "# convert datatypes back\n",
    "stud_info = stud_info.convert_dtypes()"
   ]
  },
  {
   "cell_type": "code",
   "execution_count": 82,
   "id": "d5ab6b18-0a4a-4ee9-8418-5d8646f8fe47",
   "metadata": {},
   "outputs": [
    {
     "data": {
      "text/html": [
       "<div>\n",
       "<style scoped>\n",
       "    .dataframe tbody tr th:only-of-type {\n",
       "        vertical-align: middle;\n",
       "    }\n",
       "\n",
       "    .dataframe tbody tr th {\n",
       "        vertical-align: top;\n",
       "    }\n",
       "\n",
       "    .dataframe thead th {\n",
       "        text-align: right;\n",
       "    }\n",
       "</style>\n",
       "<table border=\"1\" class=\"dataframe\">\n",
       "  <thead>\n",
       "    <tr style=\"text-align: right;\">\n",
       "      <th></th>\n",
       "      <th>module</th>\n",
       "      <th>presentation</th>\n",
       "      <th>id_student</th>\n",
       "      <th>region</th>\n",
       "      <th>imd</th>\n",
       "      <th>age</th>\n",
       "      <th>gender</th>\n",
       "      <th>education</th>\n",
       "      <th>disability</th>\n",
       "      <th>attempts</th>\n",
       "      <th>credits</th>\n",
       "      <th>result</th>\n",
       "      <th>sum_click</th>\n",
       "      <th>avg_click</th>\n",
       "      <th>_merge</th>\n",
       "    </tr>\n",
       "  </thead>\n",
       "  <tbody>\n",
       "    <tr>\n",
       "      <th>0</th>\n",
       "      <td>AAA</td>\n",
       "      <td>2013J</td>\n",
       "      <td>11391</td>\n",
       "      <td>East Anglian</td>\n",
       "      <td>90-100%</td>\n",
       "      <td>55&lt;=</td>\n",
       "      <td>M</td>\n",
       "      <td>HE</td>\n",
       "      <td>False</td>\n",
       "      <td>0</td>\n",
       "      <td>240</td>\n",
       "      <td>Pass</td>\n",
       "      <td>934</td>\n",
       "      <td>4.77</td>\n",
       "      <td>both</td>\n",
       "    </tr>\n",
       "    <tr>\n",
       "      <th>1</th>\n",
       "      <td>AAA</td>\n",
       "      <td>2013J</td>\n",
       "      <td>28400</td>\n",
       "      <td>Scotland</td>\n",
       "      <td>20-30%</td>\n",
       "      <td>35-55</td>\n",
       "      <td>F</td>\n",
       "      <td>HE</td>\n",
       "      <td>False</td>\n",
       "      <td>0</td>\n",
       "      <td>60</td>\n",
       "      <td>Pass</td>\n",
       "      <td>1435</td>\n",
       "      <td>3.34</td>\n",
       "      <td>both</td>\n",
       "    </tr>\n",
       "    <tr>\n",
       "      <th>2</th>\n",
       "      <td>AAA</td>\n",
       "      <td>2013J</td>\n",
       "      <td>30268</td>\n",
       "      <td>North Western</td>\n",
       "      <td>30-40%</td>\n",
       "      <td>35-55</td>\n",
       "      <td>F</td>\n",
       "      <td>A Level</td>\n",
       "      <td>True</td>\n",
       "      <td>0</td>\n",
       "      <td>60</td>\n",
       "      <td>Withdrawn</td>\n",
       "      <td>281</td>\n",
       "      <td>3.7</td>\n",
       "      <td>both</td>\n",
       "    </tr>\n",
       "    <tr>\n",
       "      <th>3</th>\n",
       "      <td>AAA</td>\n",
       "      <td>2013J</td>\n",
       "      <td>31604</td>\n",
       "      <td>South East</td>\n",
       "      <td>50-60%</td>\n",
       "      <td>35-55</td>\n",
       "      <td>F</td>\n",
       "      <td>A Level</td>\n",
       "      <td>False</td>\n",
       "      <td>0</td>\n",
       "      <td>60</td>\n",
       "      <td>Pass</td>\n",
       "      <td>2158</td>\n",
       "      <td>3.25</td>\n",
       "      <td>both</td>\n",
       "    </tr>\n",
       "    <tr>\n",
       "      <th>4</th>\n",
       "      <td>AAA</td>\n",
       "      <td>2013J</td>\n",
       "      <td>32885</td>\n",
       "      <td>West Midlands</td>\n",
       "      <td>50-60%</td>\n",
       "      <td>0-35</td>\n",
       "      <td>F</td>\n",
       "      <td>Under A Level</td>\n",
       "      <td>False</td>\n",
       "      <td>0</td>\n",
       "      <td>60</td>\n",
       "      <td>Pass</td>\n",
       "      <td>1034</td>\n",
       "      <td>2.94</td>\n",
       "      <td>both</td>\n",
       "    </tr>\n",
       "  </tbody>\n",
       "</table>\n",
       "</div>"
      ],
      "text/plain": [
       "  module presentation id_student         region      imd    age gender  \\\n",
       "0    AAA        2013J      11391   East Anglian  90-100%   55<=      M   \n",
       "1    AAA        2013J      28400       Scotland   20-30%  35-55      F   \n",
       "2    AAA        2013J      30268  North Western   30-40%  35-55      F   \n",
       "3    AAA        2013J      31604     South East   50-60%  35-55      F   \n",
       "4    AAA        2013J      32885  West Midlands   50-60%   0-35      F   \n",
       "\n",
       "       education  disability  attempts  credits     result  sum_click  \\\n",
       "0             HE       False         0      240       Pass        934   \n",
       "1             HE       False         0       60       Pass       1435   \n",
       "2        A Level        True         0       60  Withdrawn        281   \n",
       "3        A Level       False         0       60       Pass       2158   \n",
       "4  Under A Level       False         0       60       Pass       1034   \n",
       "\n",
       "   avg_click _merge  \n",
       "0       4.77   both  \n",
       "1       3.34   both  \n",
       "2        3.7   both  \n",
       "3       3.25   both  \n",
       "4       2.94   both  "
      ]
     },
     "execution_count": 82,
     "metadata": {},
     "output_type": "execute_result"
    }
   ],
   "source": [
    "# show head of resulting dataframe\n",
    "stud_info.head()"
   ]
  },
  {
   "cell_type": "markdown",
   "id": "9481fe7f-e053-4625-8af2-3b2015166d3f",
   "metadata": {},
   "source": [
    "For the `_merge` column for this dataframe, `left_only tells` us that the data is only found in student info, and right only tells us the data is only found in VLE. There are no entries found only in VLE and so we will look at the students who have no click data."
   ]
  },
  {
   "cell_type": "code",
   "execution_count": 36,
   "id": "c57b959b-8095-46eb-bd56-cfba2c7cf093",
   "metadata": {},
   "outputs": [
    {
     "data": {
      "text/html": [
       "<div>\n",
       "<style scoped>\n",
       "    .dataframe tbody tr th:only-of-type {\n",
       "        vertical-align: middle;\n",
       "    }\n",
       "\n",
       "    .dataframe tbody tr th {\n",
       "        vertical-align: top;\n",
       "    }\n",
       "\n",
       "    .dataframe thead th {\n",
       "        text-align: right;\n",
       "    }\n",
       "</style>\n",
       "<table border=\"1\" class=\"dataframe\">\n",
       "  <thead>\n",
       "    <tr style=\"text-align: right;\">\n",
       "      <th></th>\n",
       "      <th>module</th>\n",
       "      <th>presentation</th>\n",
       "      <th>id_student</th>\n",
       "      <th>region</th>\n",
       "      <th>imd</th>\n",
       "      <th>age</th>\n",
       "      <th>gender</th>\n",
       "      <th>education</th>\n",
       "      <th>disability</th>\n",
       "      <th>attempts</th>\n",
       "      <th>credits</th>\n",
       "      <th>result</th>\n",
       "      <th>sum_click</th>\n",
       "      <th>avg_click</th>\n",
       "      <th>_merge</th>\n",
       "    </tr>\n",
       "  </thead>\n",
       "  <tbody>\n",
       "    <tr>\n",
       "      <th>125</th>\n",
       "      <td>AAA</td>\n",
       "      <td>2013J</td>\n",
       "      <td>292923</td>\n",
       "      <td>South East</td>\n",
       "      <td>90-100%</td>\n",
       "      <td>35-55</td>\n",
       "      <td>F</td>\n",
       "      <td>A Level</td>\n",
       "      <td>False</td>\n",
       "      <td>0</td>\n",
       "      <td>180</td>\n",
       "      <td>Withdrawn</td>\n",
       "      <td>&lt;NA&gt;</td>\n",
       "      <td>&lt;NA&gt;</td>\n",
       "      <td>left_only</td>\n",
       "    </tr>\n",
       "    <tr>\n",
       "      <th>198</th>\n",
       "      <td>AAA</td>\n",
       "      <td>2013J</td>\n",
       "      <td>405961</td>\n",
       "      <td>Scotland</td>\n",
       "      <td>90-100%</td>\n",
       "      <td>0-35</td>\n",
       "      <td>M</td>\n",
       "      <td>A Level</td>\n",
       "      <td>True</td>\n",
       "      <td>0</td>\n",
       "      <td>240</td>\n",
       "      <td>Withdrawn</td>\n",
       "      <td>&lt;NA&gt;</td>\n",
       "      <td>&lt;NA&gt;</td>\n",
       "      <td>left_only</td>\n",
       "    </tr>\n",
       "    <tr>\n",
       "      <th>298</th>\n",
       "      <td>AAA</td>\n",
       "      <td>2013J</td>\n",
       "      <td>2318055</td>\n",
       "      <td>Wales</td>\n",
       "      <td>90-100%</td>\n",
       "      <td>35-55</td>\n",
       "      <td>M</td>\n",
       "      <td>A Level</td>\n",
       "      <td>False</td>\n",
       "      <td>0</td>\n",
       "      <td>60</td>\n",
       "      <td>Withdrawn</td>\n",
       "      <td>&lt;NA&gt;</td>\n",
       "      <td>&lt;NA&gt;</td>\n",
       "      <td>left_only</td>\n",
       "    </tr>\n",
       "    <tr>\n",
       "      <th>299</th>\n",
       "      <td>AAA</td>\n",
       "      <td>2013J</td>\n",
       "      <td>2324976</td>\n",
       "      <td>Scotland</td>\n",
       "      <td>90-100%</td>\n",
       "      <td>35-55</td>\n",
       "      <td>F</td>\n",
       "      <td>HE</td>\n",
       "      <td>False</td>\n",
       "      <td>0</td>\n",
       "      <td>60</td>\n",
       "      <td>Withdrawn</td>\n",
       "      <td>&lt;NA&gt;</td>\n",
       "      <td>&lt;NA&gt;</td>\n",
       "      <td>left_only</td>\n",
       "    </tr>\n",
       "    <tr>\n",
       "      <th>307</th>\n",
       "      <td>AAA</td>\n",
       "      <td>2013J</td>\n",
       "      <td>2365101</td>\n",
       "      <td>South East</td>\n",
       "      <td>20-30%</td>\n",
       "      <td>0-35</td>\n",
       "      <td>M</td>\n",
       "      <td>HE</td>\n",
       "      <td>False</td>\n",
       "      <td>0</td>\n",
       "      <td>300</td>\n",
       "      <td>Withdrawn</td>\n",
       "      <td>&lt;NA&gt;</td>\n",
       "      <td>&lt;NA&gt;</td>\n",
       "      <td>left_only</td>\n",
       "    </tr>\n",
       "  </tbody>\n",
       "</table>\n",
       "</div>"
      ],
      "text/plain": [
       "    module presentation id_student      region      imd    age gender  \\\n",
       "125    AAA        2013J     292923  South East  90-100%  35-55      F   \n",
       "198    AAA        2013J     405961    Scotland  90-100%   0-35      M   \n",
       "298    AAA        2013J    2318055       Wales  90-100%  35-55      M   \n",
       "299    AAA        2013J    2324976    Scotland  90-100%  35-55      F   \n",
       "307    AAA        2013J    2365101  South East   20-30%   0-35      M   \n",
       "\n",
       "    education  disability  attempts  credits     result  sum_click  avg_click  \\\n",
       "125   A Level       False         0      180  Withdrawn       <NA>       <NA>   \n",
       "198   A Level        True         0      240  Withdrawn       <NA>       <NA>   \n",
       "298   A Level       False         0       60  Withdrawn       <NA>       <NA>   \n",
       "299        HE       False         0       60  Withdrawn       <NA>       <NA>   \n",
       "307        HE       False         0      300  Withdrawn       <NA>       <NA>   \n",
       "\n",
       "        _merge  \n",
       "125  left_only  \n",
       "198  left_only  \n",
       "298  left_only  \n",
       "299  left_only  \n",
       "307  left_only  "
      ]
     },
     "execution_count": 36,
     "metadata": {},
     "output_type": "execute_result"
    }
   ],
   "source": [
    "# find where _merge column value is left_only meaning only in student info\n",
    "only_stud_info= stud_info.loc[stud_info['_merge'] == 'left_only']\n",
    "only_stud_info.head()"
   ]
  },
  {
   "cell_type": "code",
   "execution_count": 83,
   "id": "8dad301c-407b-4ecc-a49c-187f076db2b0",
   "metadata": {},
   "outputs": [
    {
     "data": {
      "text/markdown": [
       "\n",
       "We have 6,519 values in only student_info, which is how many students for whom we have no click data.\n"
      ],
      "text/plain": [
       "<IPython.core.display.Markdown object>"
      ]
     },
     "execution_count": 83,
     "metadata": {},
     "output_type": "execute_result"
    }
   ],
   "source": [
    "md(f'''\n",
    "We have {\"{:,}\".format(len(only_stud_info))} values in only student_info, which is how many students for whom we have no click data.\n",
    "''')"
   ]
  },
  {
   "cell_type": "markdown",
   "id": "3ca95932-956c-41b2-a28e-c2d588471a5e",
   "metadata": {},
   "source": [
    "**Adding Aggregated Clicks to Assessments**"
   ]
  },
  {
   "cell_type": "markdown",
   "id": "0f581f2c-8700-4b7d-886d-9d0302e9133f",
   "metadata": {},
   "source": [
    "Finally we will be creating a merged dataframe of the the merged vle and student info and assessments dataframes. This is so that we can attempt to predict scores based on number of clicks."
   ]
  },
  {
   "cell_type": "code",
   "execution_count": 84,
   "id": "5f04e02e-33ce-4572-9321-0db784053840",
   "metadata": {},
   "outputs": [
    {
     "data": {
      "text/html": [
       "<div>\n",
       "<style scoped>\n",
       "    .dataframe tbody tr th:only-of-type {\n",
       "        vertical-align: middle;\n",
       "    }\n",
       "\n",
       "    .dataframe tbody tr th {\n",
       "        vertical-align: top;\n",
       "    }\n",
       "\n",
       "    .dataframe thead th {\n",
       "        text-align: right;\n",
       "    }\n",
       "</style>\n",
       "<table border=\"1\" class=\"dataframe\">\n",
       "  <thead>\n",
       "    <tr style=\"text-align: right;\">\n",
       "      <th></th>\n",
       "      <th>id_assessment</th>\n",
       "      <th>id_student</th>\n",
       "      <th>date_submitted</th>\n",
       "      <th>score</th>\n",
       "      <th>module</th>\n",
       "      <th>presentation</th>\n",
       "      <th>assessment_type</th>\n",
       "      <th>date</th>\n",
       "      <th>weight</th>\n",
       "      <th>module_presentation</th>\n",
       "      <th>sum_click</th>\n",
       "      <th>avg_click</th>\n",
       "      <th>_merge</th>\n",
       "    </tr>\n",
       "  </thead>\n",
       "  <tbody>\n",
       "    <tr>\n",
       "      <th>0</th>\n",
       "      <td>1752</td>\n",
       "      <td>11391</td>\n",
       "      <td>18</td>\n",
       "      <td>78</td>\n",
       "      <td>AAA</td>\n",
       "      <td>2013J</td>\n",
       "      <td>TMA</td>\n",
       "      <td>19.0</td>\n",
       "      <td>10.0</td>\n",
       "      <td>AAA2013J</td>\n",
       "      <td>934</td>\n",
       "      <td>4.77</td>\n",
       "      <td>both</td>\n",
       "    </tr>\n",
       "    <tr>\n",
       "      <th>1</th>\n",
       "      <td>1753</td>\n",
       "      <td>11391</td>\n",
       "      <td>53</td>\n",
       "      <td>85</td>\n",
       "      <td>AAA</td>\n",
       "      <td>2013J</td>\n",
       "      <td>TMA</td>\n",
       "      <td>54.0</td>\n",
       "      <td>20.0</td>\n",
       "      <td>AAA2013J</td>\n",
       "      <td>934</td>\n",
       "      <td>4.77</td>\n",
       "      <td>both</td>\n",
       "    </tr>\n",
       "    <tr>\n",
       "      <th>2</th>\n",
       "      <td>1754</td>\n",
       "      <td>11391</td>\n",
       "      <td>115</td>\n",
       "      <td>80</td>\n",
       "      <td>AAA</td>\n",
       "      <td>2013J</td>\n",
       "      <td>TMA</td>\n",
       "      <td>117.0</td>\n",
       "      <td>20.0</td>\n",
       "      <td>AAA2013J</td>\n",
       "      <td>934</td>\n",
       "      <td>4.77</td>\n",
       "      <td>both</td>\n",
       "    </tr>\n",
       "    <tr>\n",
       "      <th>3</th>\n",
       "      <td>1755</td>\n",
       "      <td>11391</td>\n",
       "      <td>164</td>\n",
       "      <td>85</td>\n",
       "      <td>AAA</td>\n",
       "      <td>2013J</td>\n",
       "      <td>TMA</td>\n",
       "      <td>166.0</td>\n",
       "      <td>20.0</td>\n",
       "      <td>AAA2013J</td>\n",
       "      <td>934</td>\n",
       "      <td>4.77</td>\n",
       "      <td>both</td>\n",
       "    </tr>\n",
       "    <tr>\n",
       "      <th>4</th>\n",
       "      <td>1756</td>\n",
       "      <td>11391</td>\n",
       "      <td>212</td>\n",
       "      <td>82</td>\n",
       "      <td>AAA</td>\n",
       "      <td>2013J</td>\n",
       "      <td>TMA</td>\n",
       "      <td>215.0</td>\n",
       "      <td>30.0</td>\n",
       "      <td>AAA2013J</td>\n",
       "      <td>934</td>\n",
       "      <td>4.77</td>\n",
       "      <td>both</td>\n",
       "    </tr>\n",
       "  </tbody>\n",
       "</table>\n",
       "</div>"
      ],
      "text/plain": [
       "  id_assessment id_student  date_submitted  score module presentation  \\\n",
       "0          1752      11391              18     78    AAA        2013J   \n",
       "1          1753      11391              53     85    AAA        2013J   \n",
       "2          1754      11391             115     80    AAA        2013J   \n",
       "3          1755      11391             164     85    AAA        2013J   \n",
       "4          1756      11391             212     82    AAA        2013J   \n",
       "\n",
       "  assessment_type   date  weight module_presentation  sum_click  avg_click  \\\n",
       "0             TMA   19.0    10.0            AAA2013J        934       4.77   \n",
       "1             TMA   54.0    20.0            AAA2013J        934       4.77   \n",
       "2             TMA  117.0    20.0            AAA2013J        934       4.77   \n",
       "3             TMA  166.0    20.0            AAA2013J        934       4.77   \n",
       "4             TMA  215.0    30.0            AAA2013J        934       4.77   \n",
       "\n",
       "  _merge  \n",
       "0   both  \n",
       "1   both  \n",
       "2   both  \n",
       "3   both  \n",
       "4   both  "
      ]
     },
     "execution_count": 84,
     "metadata": {},
     "output_type": "execute_result"
    }
   ],
   "source": [
    "# drop merged_assessments _merge column so we can use it again\n",
    "merged_assessments = merged_assessments.drop(columns='_merge')\n",
    "# merge merged_assessments with agg_clicks and assign it to merged_assessments\n",
    "merged_assessments = merged_assessments.merge(agg_clicks, how='outer', on=['module', 'presentation', 'id_student'],indicator=True)\n",
    "# change datatypes back\n",
    "merged_assessments = merged_assessments.convert_dtypes()\n",
    "merged_assessments.head()"
   ]
  },
  {
   "cell_type": "markdown",
   "id": "3b48cb99-ef50-4db2-841a-aadcfb8863de",
   "metadata": {},
   "source": [
    "In this case a `_merge` result of `left_only` indicates the student entry was only found in assessments."
   ]
  },
  {
   "cell_type": "code",
   "execution_count": 85,
   "id": "bc0f2238-b542-483e-8f37-d1560e704876",
   "metadata": {},
   "outputs": [
    {
     "data": {
      "text/html": [
       "<div>\n",
       "<style scoped>\n",
       "    .dataframe tbody tr th:only-of-type {\n",
       "        vertical-align: middle;\n",
       "    }\n",
       "\n",
       "    .dataframe tbody tr th {\n",
       "        vertical-align: top;\n",
       "    }\n",
       "\n",
       "    .dataframe thead th {\n",
       "        text-align: right;\n",
       "    }\n",
       "</style>\n",
       "<table border=\"1\" class=\"dataframe\">\n",
       "  <thead>\n",
       "    <tr style=\"text-align: right;\">\n",
       "      <th></th>\n",
       "      <th>id_assessment</th>\n",
       "      <th>id_student</th>\n",
       "      <th>date_submitted</th>\n",
       "      <th>score</th>\n",
       "      <th>module</th>\n",
       "      <th>presentation</th>\n",
       "      <th>assessment_type</th>\n",
       "      <th>date</th>\n",
       "      <th>weight</th>\n",
       "      <th>module_presentation</th>\n",
       "      <th>sum_click</th>\n",
       "      <th>avg_click</th>\n",
       "      <th>_merge</th>\n",
       "    </tr>\n",
       "  </thead>\n",
       "  <tbody>\n",
       "    <tr>\n",
       "      <th>1671</th>\n",
       "      <td>1758</td>\n",
       "      <td>603861</td>\n",
       "      <td>-1</td>\n",
       "      <td>61</td>\n",
       "      <td>AAA</td>\n",
       "      <td>2014J</td>\n",
       "      <td>TMA</td>\n",
       "      <td>19.0</td>\n",
       "      <td>10.0</td>\n",
       "      <td>AAA2014J</td>\n",
       "      <td>&lt;NA&gt;</td>\n",
       "      <td>&lt;NA&gt;</td>\n",
       "      <td>left_only</td>\n",
       "    </tr>\n",
       "    <tr>\n",
       "      <th>1672</th>\n",
       "      <td>1759</td>\n",
       "      <td>603861</td>\n",
       "      <td>-1</td>\n",
       "      <td>56</td>\n",
       "      <td>AAA</td>\n",
       "      <td>2014J</td>\n",
       "      <td>TMA</td>\n",
       "      <td>54.0</td>\n",
       "      <td>20.0</td>\n",
       "      <td>AAA2014J</td>\n",
       "      <td>&lt;NA&gt;</td>\n",
       "      <td>&lt;NA&gt;</td>\n",
       "      <td>left_only</td>\n",
       "    </tr>\n",
       "    <tr>\n",
       "      <th>1673</th>\n",
       "      <td>1760</td>\n",
       "      <td>603861</td>\n",
       "      <td>-1</td>\n",
       "      <td>58</td>\n",
       "      <td>AAA</td>\n",
       "      <td>2014J</td>\n",
       "      <td>TMA</td>\n",
       "      <td>117.0</td>\n",
       "      <td>20.0</td>\n",
       "      <td>AAA2014J</td>\n",
       "      <td>&lt;NA&gt;</td>\n",
       "      <td>&lt;NA&gt;</td>\n",
       "      <td>left_only</td>\n",
       "    </tr>\n",
       "    <tr>\n",
       "      <th>1674</th>\n",
       "      <td>1761</td>\n",
       "      <td>603861</td>\n",
       "      <td>-1</td>\n",
       "      <td>69</td>\n",
       "      <td>AAA</td>\n",
       "      <td>2014J</td>\n",
       "      <td>TMA</td>\n",
       "      <td>166.0</td>\n",
       "      <td>20.0</td>\n",
       "      <td>AAA2014J</td>\n",
       "      <td>&lt;NA&gt;</td>\n",
       "      <td>&lt;NA&gt;</td>\n",
       "      <td>left_only</td>\n",
       "    </tr>\n",
       "    <tr>\n",
       "      <th>1675</th>\n",
       "      <td>1762</td>\n",
       "      <td>603861</td>\n",
       "      <td>-1</td>\n",
       "      <td>71</td>\n",
       "      <td>AAA</td>\n",
       "      <td>2014J</td>\n",
       "      <td>TMA</td>\n",
       "      <td>215.0</td>\n",
       "      <td>30.0</td>\n",
       "      <td>AAA2014J</td>\n",
       "      <td>&lt;NA&gt;</td>\n",
       "      <td>&lt;NA&gt;</td>\n",
       "      <td>left_only</td>\n",
       "    </tr>\n",
       "  </tbody>\n",
       "</table>\n",
       "</div>"
      ],
      "text/plain": [
       "     id_assessment id_student  date_submitted  score module presentation  \\\n",
       "1671          1758     603861              -1     61    AAA        2014J   \n",
       "1672          1759     603861              -1     56    AAA        2014J   \n",
       "1673          1760     603861              -1     58    AAA        2014J   \n",
       "1674          1761     603861              -1     69    AAA        2014J   \n",
       "1675          1762     603861              -1     71    AAA        2014J   \n",
       "\n",
       "     assessment_type   date  weight module_presentation  sum_click  avg_click  \\\n",
       "1671             TMA   19.0    10.0            AAA2014J       <NA>       <NA>   \n",
       "1672             TMA   54.0    20.0            AAA2014J       <NA>       <NA>   \n",
       "1673             TMA  117.0    20.0            AAA2014J       <NA>       <NA>   \n",
       "1674             TMA  166.0    20.0            AAA2014J       <NA>       <NA>   \n",
       "1675             TMA  215.0    30.0            AAA2014J       <NA>       <NA>   \n",
       "\n",
       "         _merge  \n",
       "1671  left_only  \n",
       "1672  left_only  \n",
       "1673  left_only  \n",
       "1674  left_only  \n",
       "1675  left_only  "
      ]
     },
     "execution_count": 85,
     "metadata": {},
     "output_type": "execute_result"
    }
   ],
   "source": [
    "# display students with no click data\n",
    "only_assessments = merged_assessments.loc[merged_assessments['_merge'] == 'left_only']\n",
    "only_assessments.head()"
   ]
  },
  {
   "cell_type": "code",
   "execution_count": 86,
   "id": "69621ea5-39ec-4885-97c2-da7375466893",
   "metadata": {},
   "outputs": [
    {
     "data": {
      "text/markdown": [
       "\n",
       "There are 16,792 students found only in the assessments dataframe and have no click data associated with them. These are likely the\n",
       "same students who were missing click data in student info.\n"
      ],
      "text/plain": [
       "<IPython.core.display.Markdown object>"
      ]
     },
     "execution_count": 86,
     "metadata": {},
     "output_type": "execute_result"
    }
   ],
   "source": [
    "# store length of dataframe of students with no clicks\n",
    "stud_w_no_clicks = \"{:,}\".format(len(only_assessments))\n",
    "md(f'''\n",
    "There are {stud_w_no_clicks} students found only in the assessments dataframe and have no click data associated with them. These are likely the\n",
    "same students who were missing click data in student info.\n",
    "''')"
   ]
  },
  {
   "cell_type": "code",
   "execution_count": 87,
   "id": "a7a76ff3-be54-414c-9d9b-8603c51f6719",
   "metadata": {},
   "outputs": [
    {
     "data": {
      "text/html": [
       "<div>\n",
       "<style scoped>\n",
       "    .dataframe tbody tr th:only-of-type {\n",
       "        vertical-align: middle;\n",
       "    }\n",
       "\n",
       "    .dataframe tbody tr th {\n",
       "        vertical-align: top;\n",
       "    }\n",
       "\n",
       "    .dataframe thead th {\n",
       "        text-align: right;\n",
       "    }\n",
       "</style>\n",
       "<table border=\"1\" class=\"dataframe\">\n",
       "  <thead>\n",
       "    <tr style=\"text-align: right;\">\n",
       "      <th></th>\n",
       "      <th>id_assessment</th>\n",
       "      <th>id_student</th>\n",
       "      <th>date_submitted</th>\n",
       "      <th>score</th>\n",
       "      <th>module</th>\n",
       "      <th>presentation</th>\n",
       "      <th>assessment_type</th>\n",
       "      <th>date</th>\n",
       "      <th>weight</th>\n",
       "      <th>module_presentation</th>\n",
       "      <th>sum_click</th>\n",
       "      <th>avg_click</th>\n",
       "      <th>_merge</th>\n",
       "    </tr>\n",
       "  </thead>\n",
       "  <tbody>\n",
       "    <tr>\n",
       "      <th>173739</th>\n",
       "      <td>&lt;NA&gt;</td>\n",
       "      <td>100621</td>\n",
       "      <td>&lt;NA&gt;</td>\n",
       "      <td>&lt;NA&gt;</td>\n",
       "      <td>CCC</td>\n",
       "      <td>2014B</td>\n",
       "      <td>&lt;NA&gt;</td>\n",
       "      <td>&lt;NA&gt;</td>\n",
       "      <td>&lt;NA&gt;</td>\n",
       "      <td>&lt;NA&gt;</td>\n",
       "      <td>59</td>\n",
       "      <td>2.81</td>\n",
       "      <td>right_only</td>\n",
       "    </tr>\n",
       "    <tr>\n",
       "      <th>173740</th>\n",
       "      <td>&lt;NA&gt;</td>\n",
       "      <td>102849</td>\n",
       "      <td>&lt;NA&gt;</td>\n",
       "      <td>&lt;NA&gt;</td>\n",
       "      <td>BBB</td>\n",
       "      <td>2013B</td>\n",
       "      <td>&lt;NA&gt;</td>\n",
       "      <td>&lt;NA&gt;</td>\n",
       "      <td>&lt;NA&gt;</td>\n",
       "      <td>&lt;NA&gt;</td>\n",
       "      <td>1</td>\n",
       "      <td>1.0</td>\n",
       "      <td>right_only</td>\n",
       "    </tr>\n",
       "    <tr>\n",
       "      <th>173741</th>\n",
       "      <td>&lt;NA&gt;</td>\n",
       "      <td>103891</td>\n",
       "      <td>&lt;NA&gt;</td>\n",
       "      <td>&lt;NA&gt;</td>\n",
       "      <td>DDD</td>\n",
       "      <td>2014J</td>\n",
       "      <td>&lt;NA&gt;</td>\n",
       "      <td>&lt;NA&gt;</td>\n",
       "      <td>&lt;NA&gt;</td>\n",
       "      <td>&lt;NA&gt;</td>\n",
       "      <td>83</td>\n",
       "      <td>3.95</td>\n",
       "      <td>right_only</td>\n",
       "    </tr>\n",
       "    <tr>\n",
       "      <th>173742</th>\n",
       "      <td>&lt;NA&gt;</td>\n",
       "      <td>103998</td>\n",
       "      <td>&lt;NA&gt;</td>\n",
       "      <td>&lt;NA&gt;</td>\n",
       "      <td>BBB</td>\n",
       "      <td>2014J</td>\n",
       "      <td>&lt;NA&gt;</td>\n",
       "      <td>&lt;NA&gt;</td>\n",
       "      <td>&lt;NA&gt;</td>\n",
       "      <td>&lt;NA&gt;</td>\n",
       "      <td>49</td>\n",
       "      <td>4.45</td>\n",
       "      <td>right_only</td>\n",
       "    </tr>\n",
       "    <tr>\n",
       "      <th>173743</th>\n",
       "      <td>&lt;NA&gt;</td>\n",
       "      <td>1040037</td>\n",
       "      <td>&lt;NA&gt;</td>\n",
       "      <td>&lt;NA&gt;</td>\n",
       "      <td>EEE</td>\n",
       "      <td>2014J</td>\n",
       "      <td>&lt;NA&gt;</td>\n",
       "      <td>&lt;NA&gt;</td>\n",
       "      <td>&lt;NA&gt;</td>\n",
       "      <td>&lt;NA&gt;</td>\n",
       "      <td>282</td>\n",
       "      <td>4.55</td>\n",
       "      <td>right_only</td>\n",
       "    </tr>\n",
       "  </tbody>\n",
       "</table>\n",
       "</div>"
      ],
      "text/plain": [
       "       id_assessment id_student  date_submitted  score module presentation  \\\n",
       "173739          <NA>     100621            <NA>   <NA>    CCC        2014B   \n",
       "173740          <NA>     102849            <NA>   <NA>    BBB        2013B   \n",
       "173741          <NA>     103891            <NA>   <NA>    DDD        2014J   \n",
       "173742          <NA>     103998            <NA>   <NA>    BBB        2014J   \n",
       "173743          <NA>    1040037            <NA>   <NA>    EEE        2014J   \n",
       "\n",
       "       assessment_type  date  weight module_presentation  sum_click  \\\n",
       "173739            <NA>  <NA>    <NA>                <NA>         59   \n",
       "173740            <NA>  <NA>    <NA>                <NA>          1   \n",
       "173741            <NA>  <NA>    <NA>                <NA>         83   \n",
       "173742            <NA>  <NA>    <NA>                <NA>         49   \n",
       "173743            <NA>  <NA>    <NA>                <NA>        282   \n",
       "\n",
       "        avg_click      _merge  \n",
       "173739       2.81  right_only  \n",
       "173740        1.0  right_only  \n",
       "173741       3.95  right_only  \n",
       "173742       4.45  right_only  \n",
       "173743       4.55  right_only  "
      ]
     },
     "execution_count": 87,
     "metadata": {},
     "output_type": "execute_result"
    }
   ],
   "source": [
    "# make dataframe where _merge column is right_only/only in VLE dataframe\n",
    "only_vle = merged_assessments.loc[merged_assessments['_merge'] == 'right_only']\n",
    "only_vle.head()"
   ]
  },
  {
   "cell_type": "code",
   "execution_count": 88,
   "id": "e3417f64-1113-4c42-8a95-6b9d29955114",
   "metadata": {},
   "outputs": [
    {
     "data": {
      "text/markdown": [
       "\n",
       "There are 3,136 click data accounts found only in the VLE dataframe. These are likely the students we eliminated\n",
       "for having NA scores. Unfortunately, their click data is not of much value and will be dropped.\n"
      ],
      "text/plain": [
       "<IPython.core.display.Markdown object>"
      ]
     },
     "execution_count": 88,
     "metadata": {},
     "output_type": "execute_result"
    }
   ],
   "source": [
    "clicks_missing_students = \"{:,}\".format(len(only_vle))\n",
    "md(f'''\n",
    "There are {clicks_missing_students} click data accounts found only in the VLE dataframe. These are likely the students we eliminated\n",
    "for having NA scores. Unfortunately, their click data is not of much value and will be dropped.\n",
    "''')"
   ]
  },
  {
   "cell_type": "code",
   "execution_count": 89,
   "id": "86c1aa41-481f-4bd1-a984-ccac7ecb3c40",
   "metadata": {},
   "outputs": [],
   "source": [
    "# drop any NA values in id_assessment\n",
    "merged_assessments = merged_assessments.dropna(subset=['id_assessment'])"
   ]
  },
  {
   "cell_type": "code",
   "execution_count": 90,
   "id": "d20dc16c-6644-4de3-b11f-2eb959634e33",
   "metadata": {},
   "outputs": [],
   "source": [
    "# reorder merged_assessment so that like columns are together\n",
    "merged_assessments = merged_assessments[['module', 'presentation', 'id_student', 'id_assessment', 'assessment_type', 'date', 'date_submitted', 'weight', 'sum_click', 'avg_click', 'score' ]]"
   ]
  },
  {
   "cell_type": "code",
   "execution_count": null,
   "id": "44732439-65bc-4ff5-bc9f-26e88344b7ff",
   "metadata": {},
   "outputs": [],
   "source": []
  }
 ],
 "metadata": {
  "kernelspec": {
   "display_name": "Python 3",
   "language": "python",
   "name": "python3"
  },
  "language_info": {
   "codemirror_mode": {
    "name": "ipython",
    "version": 3
   },
   "file_extension": ".py",
   "mimetype": "text/x-python",
   "name": "python",
   "nbconvert_exporter": "python",
   "pygments_lexer": "ipython3",
   "version": "3.9.6"
  }
 },
 "nbformat": 4,
 "nbformat_minor": 5
}
