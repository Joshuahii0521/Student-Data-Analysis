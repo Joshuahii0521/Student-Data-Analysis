{
 "cells": [
  {
   "cell_type": "code",
   "execution_count": 1,
   "id": "9bcb060c-b76b-4bf4-b110-906b4b9f9e07",
   "metadata": {
    "tags": [
     "remove-cell"
    ]
   },
   "outputs": [
    {
     "name": "stdout",
     "output_type": "stream",
     "text": [
      "code_module: ['AAA' 'BBB' 'CCC' 'DDD' 'EEE' 'FFF' 'GGG']\n",
      "\n",
      "code_presentation: ['2013J' '2014J' '2013B' '2014B']\n",
      "\n",
      "id_student: [11391 28400 30268 ... 2648187 2679821 2684003]\n",
      "\n",
      "region: ['East Anglian Region' 'Scotland' 'North Western Region'\n",
      " 'South East Region' 'West Midlands Region' 'Wales' 'North Region'\n",
      " 'South Region' 'Ireland' 'South West Region' 'East Midlands Region'\n",
      " 'Yorkshire Region' 'London Region']\n",
      "\n",
      "imd_band: ['90-100%' '20-30%' '30-40%' '50-60%' '80-90%' '70-80%' nan '60-70%'\n",
      " '40-50%' '10-20' '0-10%']\n",
      "\n",
      "age_band: ['55<=' '35-55' '0-35']\n",
      "\n",
      "gender: ['M' 'F']\n",
      "\n",
      "highest_education: ['HE Qualification' 'A Level or Equivalent' 'Lower Than A Level'\n",
      " 'Post Graduate Qualification' 'No Formal quals']\n",
      "\n",
      "disability: ['N' 'Y']\n",
      "\n",
      "final_result: ['Pass' 'Withdrawn' 'Fail' 'Distinction']\n",
      "\n",
      "['90-100%' '20-30%' '30-40%' '50-60%' '80-90%' '70-80%' nan '60-70%'\n",
      " '40-50%' '10-20%' '0-10%']\n"
     ]
    }
   ],
   "source": [
    "from ipynb.fs.full.Student_Info import stud_info\n",
    "from functions import *\n"
   ]
  },
  {
   "cell_type": "markdown",
   "id": "fc1acb26-714c-4527-9345-0f8621a5ff4d",
   "metadata": {},
   "source": [
    "---\n",
    "\n",
    "<h2>Assessments and Student Assessments Dataframes</h2>"
   ]
  },
  {
   "cell_type": "markdown",
   "id": "b1617c86-2c53-43fa-be8b-3b3895c1e0c2",
   "metadata": {},
   "source": [
    "---\n",
    "\n",
    "<h3>Assessments</h3>"
   ]
  },
  {
   "cell_type": "markdown",
   "id": "c1ec2c79-d6f5-49c7-80df-edf5c0d7ae07",
   "metadata": {
    "tags": []
   },
   "source": [
    "The assessments dataframe contains information about the unique assessments in each code module and presentation."
   ]
  },
  {
   "cell_type": "code",
   "execution_count": 123,
   "id": "8e92fbec-277a-45e9-9850-4d2660311ff4",
   "metadata": {
    "tags": [
     "remove_input"
    ]
   },
   "outputs": [
    {
     "data": {
      "text/html": [
       "<div>\n",
       "<style scoped>\n",
       "    .dataframe tbody tr th:only-of-type {\n",
       "        vertical-align: middle;\n",
       "    }\n",
       "\n",
       "    .dataframe tbody tr th {\n",
       "        vertical-align: top;\n",
       "    }\n",
       "\n",
       "    .dataframe thead th {\n",
       "        text-align: right;\n",
       "    }\n",
       "</style>\n",
       "<table border=\"1\" class=\"dataframe\">\n",
       "  <thead>\n",
       "    <tr style=\"text-align: right;\">\n",
       "      <th></th>\n",
       "      <th>code_module</th>\n",
       "      <th>code_presentation</th>\n",
       "      <th>id_assessment</th>\n",
       "      <th>assessment_type</th>\n",
       "      <th>date</th>\n",
       "      <th>weight</th>\n",
       "    </tr>\n",
       "  </thead>\n",
       "  <tbody>\n",
       "    <tr>\n",
       "      <th>0</th>\n",
       "      <td>AAA</td>\n",
       "      <td>2013J</td>\n",
       "      <td>1752</td>\n",
       "      <td>TMA</td>\n",
       "      <td>19.0</td>\n",
       "      <td>10.0</td>\n",
       "    </tr>\n",
       "    <tr>\n",
       "      <th>1</th>\n",
       "      <td>AAA</td>\n",
       "      <td>2013J</td>\n",
       "      <td>1753</td>\n",
       "      <td>TMA</td>\n",
       "      <td>54.0</td>\n",
       "      <td>20.0</td>\n",
       "    </tr>\n",
       "    <tr>\n",
       "      <th>2</th>\n",
       "      <td>AAA</td>\n",
       "      <td>2013J</td>\n",
       "      <td>1754</td>\n",
       "      <td>TMA</td>\n",
       "      <td>117.0</td>\n",
       "      <td>20.0</td>\n",
       "    </tr>\n",
       "    <tr>\n",
       "      <th>3</th>\n",
       "      <td>AAA</td>\n",
       "      <td>2013J</td>\n",
       "      <td>1755</td>\n",
       "      <td>TMA</td>\n",
       "      <td>166.0</td>\n",
       "      <td>20.0</td>\n",
       "    </tr>\n",
       "    <tr>\n",
       "      <th>4</th>\n",
       "      <td>AAA</td>\n",
       "      <td>2013J</td>\n",
       "      <td>1756</td>\n",
       "      <td>TMA</td>\n",
       "      <td>215.0</td>\n",
       "      <td>30.0</td>\n",
       "    </tr>\n",
       "  </tbody>\n",
       "</table>\n",
       "</div>"
      ],
      "text/plain": [
       "  code_module code_presentation  id_assessment assessment_type   date  weight\n",
       "0         AAA             2013J           1752             TMA   19.0    10.0\n",
       "1         AAA             2013J           1753             TMA   54.0    20.0\n",
       "2         AAA             2013J           1754             TMA  117.0    20.0\n",
       "3         AAA             2013J           1755             TMA  166.0    20.0\n",
       "4         AAA             2013J           1756             TMA  215.0    30.0"
      ]
     },
     "execution_count": 123,
     "metadata": {},
     "output_type": "execute_result"
    }
   ],
   "source": [
    "assessments.head()"
   ]
  },
  {
   "cell_type": "markdown",
   "id": "59824f80-17e2-4660-acbb-e42304d9fce3",
   "metadata": {},
   "source": [
    "---\n",
    "\n",
    "<h4>Assessments Contents</h4>\n",
    "\n",
    "* <b>code_module</b>: The code module represents the code name of the course the assessment was held for.\n",
    "* <b>code_presentation</b>: The presentation represents the presentation which the test was held for.\n",
    "* <b>id_assessment</b>: The assessment ID is the unique identifier for each assessment.\n",
    "* <b>assessment_type</b>: The assessment type represents the kind of assessment it was.\n",
    "    - There are three assessment types:\n",
    "        * TMA: Tutor Marked Assessment\n",
    "        * CMA: Computer Marked Assessment\n",
    "        * Exam: The Final Exam\n",
    "* <b>date</b>: The date is how many days from the start of the course the assessment took place\n",
    "* <b>weight</b>: The weight is the weighted value of the assessment. Exams should have a weight of 100 which the rest of the assessments should add to 100 in total."
   ]
  },
  {
   "cell_type": "markdown",
   "id": "2f4301c7-b0c4-4f5c-8c29-4f60e412123f",
   "metadata": {},
   "source": [
    "---\n",
    "\n",
    "<h3>Student Assessments</h3>"
   ]
  },
  {
   "cell_type": "markdown",
   "id": "a2b95941-b268-4c44-bfbd-639ee3e4034e",
   "metadata": {},
   "source": [
    "The Student Assessments dataframe contains information about each student and the assessments they took during the module"
   ]
  },
  {
   "cell_type": "code",
   "execution_count": 124,
   "id": "c9cf2b18-60e4-4965-bafc-4bb1d831e7f9",
   "metadata": {
    "tags": [
     "remove_input"
    ]
   },
   "outputs": [
    {
     "data": {
      "text/html": [
       "<div>\n",
       "<style scoped>\n",
       "    .dataframe tbody tr th:only-of-type {\n",
       "        vertical-align: middle;\n",
       "    }\n",
       "\n",
       "    .dataframe tbody tr th {\n",
       "        vertical-align: top;\n",
       "    }\n",
       "\n",
       "    .dataframe thead th {\n",
       "        text-align: right;\n",
       "    }\n",
       "</style>\n",
       "<table border=\"1\" class=\"dataframe\">\n",
       "  <thead>\n",
       "    <tr style=\"text-align: right;\">\n",
       "      <th></th>\n",
       "      <th>id_assessment</th>\n",
       "      <th>id_student</th>\n",
       "      <th>date_submitted</th>\n",
       "      <th>is_banked</th>\n",
       "      <th>score</th>\n",
       "    </tr>\n",
       "  </thead>\n",
       "  <tbody>\n",
       "    <tr>\n",
       "      <th>0</th>\n",
       "      <td>1752</td>\n",
       "      <td>11391</td>\n",
       "      <td>18</td>\n",
       "      <td>0</td>\n",
       "      <td>78.0</td>\n",
       "    </tr>\n",
       "    <tr>\n",
       "      <th>1</th>\n",
       "      <td>1752</td>\n",
       "      <td>28400</td>\n",
       "      <td>22</td>\n",
       "      <td>0</td>\n",
       "      <td>70.0</td>\n",
       "    </tr>\n",
       "    <tr>\n",
       "      <th>2</th>\n",
       "      <td>1752</td>\n",
       "      <td>31604</td>\n",
       "      <td>17</td>\n",
       "      <td>0</td>\n",
       "      <td>72.0</td>\n",
       "    </tr>\n",
       "    <tr>\n",
       "      <th>3</th>\n",
       "      <td>1752</td>\n",
       "      <td>32885</td>\n",
       "      <td>26</td>\n",
       "      <td>0</td>\n",
       "      <td>69.0</td>\n",
       "    </tr>\n",
       "    <tr>\n",
       "      <th>4</th>\n",
       "      <td>1752</td>\n",
       "      <td>38053</td>\n",
       "      <td>19</td>\n",
       "      <td>0</td>\n",
       "      <td>79.0</td>\n",
       "    </tr>\n",
       "  </tbody>\n",
       "</table>\n",
       "</div>"
      ],
      "text/plain": [
       "   id_assessment  id_student  date_submitted  is_banked  score\n",
       "0           1752       11391              18          0   78.0\n",
       "1           1752       28400              22          0   70.0\n",
       "2           1752       31604              17          0   72.0\n",
       "3           1752       32885              26          0   69.0\n",
       "4           1752       38053              19          0   79.0"
      ]
     },
     "execution_count": 124,
     "metadata": {},
     "output_type": "execute_result"
    }
   ],
   "source": [
    "student_assessment.head()"
   ]
  },
  {
   "cell_type": "markdown",
   "id": "6ecc2137-eaa7-4e22-bf65-1b7868707fac",
   "metadata": {},
   "source": [
    "---\n",
    "\n",
    "<h4>Student Assessment Contents</h4>\n",
    "\n",
    "* <b>id_assessment</b>: The assessment ID is the unique identifier for the assessment the student took.\n",
    "* <b>id_student</b>: The student ID is the unique identifier for the student who took the assessment.\n",
    "* <b>date_submitted</b>: The date submitted is the date the student submitted the exam relevant to the start date of the module.\n",
    "* <b>is_banked</b>: Whether the score for the assessment is banked indicates wheter the assessment result was transferred from a previous presentation.\n",
    "    - is_banked does indicate that the student took the course previously, but since it is their first score that is retained it is not a confounder and entries with a 1 for is_banked will be kept.\n",
    "    - is_banked has no other relevant information though and so can be removed."
   ]
  },
  {
   "cell_type": "code",
   "execution_count": 125,
   "id": "202d12b6-e2d9-42ff-8cd9-865cb1b72cad",
   "metadata": {
    "tags": [
     "remove-cell"
    ]
   },
   "outputs": [],
   "source": [
    "# remove is_banked column from dataframe\n",
    "student_assessment = student_assessment.drop(columns=['is_banked'])"
   ]
  },
  {
   "cell_type": "markdown",
   "id": "3917330a-0c94-47a5-80bb-9f0a4a4fd1fc",
   "metadata": {},
   "source": [
    "```{note}\n",
    "Since we are only interested in information that is directly relevant to our students, and since assessments just contains extra information about our student assessments, we will merge the assessments and student_assessment dataframes.\n",
    "```"
   ]
  },
  {
   "cell_type": "markdown",
   "id": "cdc50bc2-6b9e-4a49-ba4a-58ae30df7145",
   "metadata": {},
   "source": [
    "---\n",
    "\n",
    "<h4>Assessments and Student Assessments Merged Dataframe:</h4>"
   ]
  },
  {
   "cell_type": "code",
   "execution_count": 126,
   "id": "5dbe7e22-ab4d-4438-89b9-aeb6c725a23d",
   "metadata": {
    "tags": [
     "remove_input"
    ]
   },
   "outputs": [
    {
     "data": {
      "text/html": [
       "<div>\n",
       "<style scoped>\n",
       "    .dataframe tbody tr th:only-of-type {\n",
       "        vertical-align: middle;\n",
       "    }\n",
       "\n",
       "    .dataframe tbody tr th {\n",
       "        vertical-align: top;\n",
       "    }\n",
       "\n",
       "    .dataframe thead th {\n",
       "        text-align: right;\n",
       "    }\n",
       "</style>\n",
       "<table border=\"1\" class=\"dataframe\">\n",
       "  <thead>\n",
       "    <tr style=\"text-align: right;\">\n",
       "      <th></th>\n",
       "      <th>id_assessment</th>\n",
       "      <th>id_student</th>\n",
       "      <th>date_submitted</th>\n",
       "      <th>score</th>\n",
       "      <th>code_module</th>\n",
       "      <th>code_presentation</th>\n",
       "      <th>assessment_type</th>\n",
       "      <th>date</th>\n",
       "      <th>weight</th>\n",
       "      <th>_merge</th>\n",
       "    </tr>\n",
       "  </thead>\n",
       "  <tbody>\n",
       "    <tr>\n",
       "      <th>0</th>\n",
       "      <td>1752</td>\n",
       "      <td>11391.0</td>\n",
       "      <td>18.0</td>\n",
       "      <td>78.0</td>\n",
       "      <td>AAA</td>\n",
       "      <td>2013J</td>\n",
       "      <td>TMA</td>\n",
       "      <td>19.0</td>\n",
       "      <td>10.0</td>\n",
       "      <td>both</td>\n",
       "    </tr>\n",
       "    <tr>\n",
       "      <th>1</th>\n",
       "      <td>1752</td>\n",
       "      <td>28400.0</td>\n",
       "      <td>22.0</td>\n",
       "      <td>70.0</td>\n",
       "      <td>AAA</td>\n",
       "      <td>2013J</td>\n",
       "      <td>TMA</td>\n",
       "      <td>19.0</td>\n",
       "      <td>10.0</td>\n",
       "      <td>both</td>\n",
       "    </tr>\n",
       "    <tr>\n",
       "      <th>2</th>\n",
       "      <td>1752</td>\n",
       "      <td>31604.0</td>\n",
       "      <td>17.0</td>\n",
       "      <td>72.0</td>\n",
       "      <td>AAA</td>\n",
       "      <td>2013J</td>\n",
       "      <td>TMA</td>\n",
       "      <td>19.0</td>\n",
       "      <td>10.0</td>\n",
       "      <td>both</td>\n",
       "    </tr>\n",
       "    <tr>\n",
       "      <th>3</th>\n",
       "      <td>1752</td>\n",
       "      <td>32885.0</td>\n",
       "      <td>26.0</td>\n",
       "      <td>69.0</td>\n",
       "      <td>AAA</td>\n",
       "      <td>2013J</td>\n",
       "      <td>TMA</td>\n",
       "      <td>19.0</td>\n",
       "      <td>10.0</td>\n",
       "      <td>both</td>\n",
       "    </tr>\n",
       "    <tr>\n",
       "      <th>4</th>\n",
       "      <td>1752</td>\n",
       "      <td>38053.0</td>\n",
       "      <td>19.0</td>\n",
       "      <td>79.0</td>\n",
       "      <td>AAA</td>\n",
       "      <td>2013J</td>\n",
       "      <td>TMA</td>\n",
       "      <td>19.0</td>\n",
       "      <td>10.0</td>\n",
       "      <td>both</td>\n",
       "    </tr>\n",
       "  </tbody>\n",
       "</table>\n",
       "</div>"
      ],
      "text/plain": [
       "   id_assessment  id_student  date_submitted  score code_module  \\\n",
       "0           1752     11391.0            18.0   78.0         AAA   \n",
       "1           1752     28400.0            22.0   70.0         AAA   \n",
       "2           1752     31604.0            17.0   72.0         AAA   \n",
       "3           1752     32885.0            26.0   69.0         AAA   \n",
       "4           1752     38053.0            19.0   79.0         AAA   \n",
       "\n",
       "  code_presentation assessment_type  date  weight _merge  \n",
       "0             2013J             TMA  19.0    10.0   both  \n",
       "1             2013J             TMA  19.0    10.0   both  \n",
       "2             2013J             TMA  19.0    10.0   both  \n",
       "3             2013J             TMA  19.0    10.0   both  \n",
       "4             2013J             TMA  19.0    10.0   both  "
      ]
     },
     "execution_count": 126,
     "metadata": {},
     "output_type": "execute_result"
    }
   ],
   "source": [
    "# merges dataframes student_assessment with assessments with a full outer join on their common ID id_assessment\n",
    "# creates a column _merge which tells you if the id_assessment was found in one or both dataframes\n",
    "merged_assessments = student_assessment.merge(assessments, how='outer', on=['id_assessment'] ,indicator=True)\n",
    "merged_assessments.head()"
   ]
  },
  {
   "cell_type": "markdown",
   "id": "3e0efb43-75b9-471f-835b-39a56275052a",
   "metadata": {},
   "source": [
    "* Our new merge column tells us if the data maps perfectly, or if it is only found on the right or left side, the right side being the assessments dataframe and the left side being the student_assessments dataframe"
   ]
  },
  {
   "cell_type": "markdown",
   "id": "3d2e42f8-bb1b-46f9-9adc-110457904188",
   "metadata": {},
   "source": [
    "<b>Rows that do not map:</b>"
   ]
  },
  {
   "cell_type": "code",
   "execution_count": 127,
   "id": "76ab299d-ba6e-4e3a-ba2c-5e74f388a292",
   "metadata": {
    "tags": [
     "remove_input"
    ]
   },
   "outputs": [
    {
     "data": {
      "text/html": [
       "<div>\n",
       "<style scoped>\n",
       "    .dataframe tbody tr th:only-of-type {\n",
       "        vertical-align: middle;\n",
       "    }\n",
       "\n",
       "    .dataframe tbody tr th {\n",
       "        vertical-align: top;\n",
       "    }\n",
       "\n",
       "    .dataframe thead th {\n",
       "        text-align: right;\n",
       "    }\n",
       "</style>\n",
       "<table border=\"1\" class=\"dataframe\">\n",
       "  <thead>\n",
       "    <tr style=\"text-align: right;\">\n",
       "      <th></th>\n",
       "      <th>id_assessment</th>\n",
       "      <th>id_student</th>\n",
       "      <th>date_submitted</th>\n",
       "      <th>score</th>\n",
       "      <th>code_module</th>\n",
       "      <th>code_presentation</th>\n",
       "      <th>assessment_type</th>\n",
       "      <th>date</th>\n",
       "      <th>weight</th>\n",
       "      <th>_merge</th>\n",
       "    </tr>\n",
       "  </thead>\n",
       "  <tbody>\n",
       "    <tr>\n",
       "      <th>173912</th>\n",
       "      <td>1757</td>\n",
       "      <td>NaN</td>\n",
       "      <td>NaN</td>\n",
       "      <td>NaN</td>\n",
       "      <td>AAA</td>\n",
       "      <td>2013J</td>\n",
       "      <td>Exam</td>\n",
       "      <td>268.0</td>\n",
       "      <td>100.0</td>\n",
       "      <td>right_only</td>\n",
       "    </tr>\n",
       "    <tr>\n",
       "      <th>173913</th>\n",
       "      <td>1763</td>\n",
       "      <td>NaN</td>\n",
       "      <td>NaN</td>\n",
       "      <td>NaN</td>\n",
       "      <td>AAA</td>\n",
       "      <td>2014J</td>\n",
       "      <td>Exam</td>\n",
       "      <td>269.0</td>\n",
       "      <td>100.0</td>\n",
       "      <td>right_only</td>\n",
       "    </tr>\n",
       "    <tr>\n",
       "      <th>173914</th>\n",
       "      <td>14990</td>\n",
       "      <td>NaN</td>\n",
       "      <td>NaN</td>\n",
       "      <td>NaN</td>\n",
       "      <td>BBB</td>\n",
       "      <td>2013B</td>\n",
       "      <td>Exam</td>\n",
       "      <td>240.0</td>\n",
       "      <td>100.0</td>\n",
       "      <td>right_only</td>\n",
       "    </tr>\n",
       "    <tr>\n",
       "      <th>173915</th>\n",
       "      <td>15002</td>\n",
       "      <td>NaN</td>\n",
       "      <td>NaN</td>\n",
       "      <td>NaN</td>\n",
       "      <td>BBB</td>\n",
       "      <td>2013J</td>\n",
       "      <td>Exam</td>\n",
       "      <td>268.0</td>\n",
       "      <td>100.0</td>\n",
       "      <td>right_only</td>\n",
       "    </tr>\n",
       "    <tr>\n",
       "      <th>173916</th>\n",
       "      <td>15014</td>\n",
       "      <td>NaN</td>\n",
       "      <td>NaN</td>\n",
       "      <td>NaN</td>\n",
       "      <td>BBB</td>\n",
       "      <td>2014B</td>\n",
       "      <td>Exam</td>\n",
       "      <td>234.0</td>\n",
       "      <td>100.0</td>\n",
       "      <td>right_only</td>\n",
       "    </tr>\n",
       "    <tr>\n",
       "      <th>173917</th>\n",
       "      <td>15025</td>\n",
       "      <td>NaN</td>\n",
       "      <td>NaN</td>\n",
       "      <td>NaN</td>\n",
       "      <td>BBB</td>\n",
       "      <td>2014J</td>\n",
       "      <td>Exam</td>\n",
       "      <td>262.0</td>\n",
       "      <td>100.0</td>\n",
       "      <td>right_only</td>\n",
       "    </tr>\n",
       "    <tr>\n",
       "      <th>173918</th>\n",
       "      <td>40087</td>\n",
       "      <td>NaN</td>\n",
       "      <td>NaN</td>\n",
       "      <td>NaN</td>\n",
       "      <td>CCC</td>\n",
       "      <td>2014B</td>\n",
       "      <td>Exam</td>\n",
       "      <td>241.0</td>\n",
       "      <td>100.0</td>\n",
       "      <td>right_only</td>\n",
       "    </tr>\n",
       "    <tr>\n",
       "      <th>173919</th>\n",
       "      <td>40088</td>\n",
       "      <td>NaN</td>\n",
       "      <td>NaN</td>\n",
       "      <td>NaN</td>\n",
       "      <td>CCC</td>\n",
       "      <td>2014J</td>\n",
       "      <td>Exam</td>\n",
       "      <td>269.0</td>\n",
       "      <td>100.0</td>\n",
       "      <td>right_only</td>\n",
       "    </tr>\n",
       "    <tr>\n",
       "      <th>173920</th>\n",
       "      <td>30713</td>\n",
       "      <td>NaN</td>\n",
       "      <td>NaN</td>\n",
       "      <td>NaN</td>\n",
       "      <td>EEE</td>\n",
       "      <td>2013J</td>\n",
       "      <td>Exam</td>\n",
       "      <td>235.0</td>\n",
       "      <td>100.0</td>\n",
       "      <td>right_only</td>\n",
       "    </tr>\n",
       "    <tr>\n",
       "      <th>173921</th>\n",
       "      <td>30718</td>\n",
       "      <td>NaN</td>\n",
       "      <td>NaN</td>\n",
       "      <td>NaN</td>\n",
       "      <td>EEE</td>\n",
       "      <td>2014B</td>\n",
       "      <td>Exam</td>\n",
       "      <td>228.0</td>\n",
       "      <td>100.0</td>\n",
       "      <td>right_only</td>\n",
       "    </tr>\n",
       "    <tr>\n",
       "      <th>173922</th>\n",
       "      <td>30723</td>\n",
       "      <td>NaN</td>\n",
       "      <td>NaN</td>\n",
       "      <td>NaN</td>\n",
       "      <td>EEE</td>\n",
       "      <td>2014J</td>\n",
       "      <td>Exam</td>\n",
       "      <td>235.0</td>\n",
       "      <td>100.0</td>\n",
       "      <td>right_only</td>\n",
       "    </tr>\n",
       "    <tr>\n",
       "      <th>173923</th>\n",
       "      <td>34872</td>\n",
       "      <td>NaN</td>\n",
       "      <td>NaN</td>\n",
       "      <td>NaN</td>\n",
       "      <td>FFF</td>\n",
       "      <td>2013B</td>\n",
       "      <td>Exam</td>\n",
       "      <td>222.0</td>\n",
       "      <td>100.0</td>\n",
       "      <td>right_only</td>\n",
       "    </tr>\n",
       "    <tr>\n",
       "      <th>173924</th>\n",
       "      <td>34885</td>\n",
       "      <td>NaN</td>\n",
       "      <td>NaN</td>\n",
       "      <td>NaN</td>\n",
       "      <td>FFF</td>\n",
       "      <td>2013J</td>\n",
       "      <td>Exam</td>\n",
       "      <td>236.0</td>\n",
       "      <td>100.0</td>\n",
       "      <td>right_only</td>\n",
       "    </tr>\n",
       "    <tr>\n",
       "      <th>173925</th>\n",
       "      <td>34898</td>\n",
       "      <td>NaN</td>\n",
       "      <td>NaN</td>\n",
       "      <td>NaN</td>\n",
       "      <td>FFF</td>\n",
       "      <td>2014B</td>\n",
       "      <td>Exam</td>\n",
       "      <td>227.0</td>\n",
       "      <td>100.0</td>\n",
       "      <td>right_only</td>\n",
       "    </tr>\n",
       "    <tr>\n",
       "      <th>173926</th>\n",
       "      <td>34911</td>\n",
       "      <td>NaN</td>\n",
       "      <td>NaN</td>\n",
       "      <td>NaN</td>\n",
       "      <td>FFF</td>\n",
       "      <td>2014J</td>\n",
       "      <td>Exam</td>\n",
       "      <td>241.0</td>\n",
       "      <td>100.0</td>\n",
       "      <td>right_only</td>\n",
       "    </tr>\n",
       "    <tr>\n",
       "      <th>173927</th>\n",
       "      <td>37424</td>\n",
       "      <td>NaN</td>\n",
       "      <td>NaN</td>\n",
       "      <td>NaN</td>\n",
       "      <td>GGG</td>\n",
       "      <td>2013J</td>\n",
       "      <td>Exam</td>\n",
       "      <td>229.0</td>\n",
       "      <td>100.0</td>\n",
       "      <td>right_only</td>\n",
       "    </tr>\n",
       "    <tr>\n",
       "      <th>173928</th>\n",
       "      <td>37434</td>\n",
       "      <td>NaN</td>\n",
       "      <td>NaN</td>\n",
       "      <td>NaN</td>\n",
       "      <td>GGG</td>\n",
       "      <td>2014B</td>\n",
       "      <td>Exam</td>\n",
       "      <td>222.0</td>\n",
       "      <td>100.0</td>\n",
       "      <td>right_only</td>\n",
       "    </tr>\n",
       "    <tr>\n",
       "      <th>173929</th>\n",
       "      <td>37444</td>\n",
       "      <td>NaN</td>\n",
       "      <td>NaN</td>\n",
       "      <td>NaN</td>\n",
       "      <td>GGG</td>\n",
       "      <td>2014J</td>\n",
       "      <td>Exam</td>\n",
       "      <td>229.0</td>\n",
       "      <td>100.0</td>\n",
       "      <td>right_only</td>\n",
       "    </tr>\n",
       "  </tbody>\n",
       "</table>\n",
       "</div>"
      ],
      "text/plain": [
       "        id_assessment  id_student  date_submitted  score code_module  \\\n",
       "173912           1757         NaN             NaN    NaN         AAA   \n",
       "173913           1763         NaN             NaN    NaN         AAA   \n",
       "173914          14990         NaN             NaN    NaN         BBB   \n",
       "173915          15002         NaN             NaN    NaN         BBB   \n",
       "173916          15014         NaN             NaN    NaN         BBB   \n",
       "173917          15025         NaN             NaN    NaN         BBB   \n",
       "173918          40087         NaN             NaN    NaN         CCC   \n",
       "173919          40088         NaN             NaN    NaN         CCC   \n",
       "173920          30713         NaN             NaN    NaN         EEE   \n",
       "173921          30718         NaN             NaN    NaN         EEE   \n",
       "173922          30723         NaN             NaN    NaN         EEE   \n",
       "173923          34872         NaN             NaN    NaN         FFF   \n",
       "173924          34885         NaN             NaN    NaN         FFF   \n",
       "173925          34898         NaN             NaN    NaN         FFF   \n",
       "173926          34911         NaN             NaN    NaN         FFF   \n",
       "173927          37424         NaN             NaN    NaN         GGG   \n",
       "173928          37434         NaN             NaN    NaN         GGG   \n",
       "173929          37444         NaN             NaN    NaN         GGG   \n",
       "\n",
       "       code_presentation assessment_type   date  weight      _merge  \n",
       "173912             2013J            Exam  268.0   100.0  right_only  \n",
       "173913             2014J            Exam  269.0   100.0  right_only  \n",
       "173914             2013B            Exam  240.0   100.0  right_only  \n",
       "173915             2013J            Exam  268.0   100.0  right_only  \n",
       "173916             2014B            Exam  234.0   100.0  right_only  \n",
       "173917             2014J            Exam  262.0   100.0  right_only  \n",
       "173918             2014B            Exam  241.0   100.0  right_only  \n",
       "173919             2014J            Exam  269.0   100.0  right_only  \n",
       "173920             2013J            Exam  235.0   100.0  right_only  \n",
       "173921             2014B            Exam  228.0   100.0  right_only  \n",
       "173922             2014J            Exam  235.0   100.0  right_only  \n",
       "173923             2013B            Exam  222.0   100.0  right_only  \n",
       "173924             2013J            Exam  236.0   100.0  right_only  \n",
       "173925             2014B            Exam  227.0   100.0  right_only  \n",
       "173926             2014J            Exam  241.0   100.0  right_only  \n",
       "173927             2013J            Exam  229.0   100.0  right_only  \n",
       "173928             2014B            Exam  222.0   100.0  right_only  \n",
       "173929             2014J            Exam  229.0   100.0  right_only  "
      ]
     },
     "execution_count": 127,
     "metadata": {},
     "output_type": "execute_result"
    }
   ],
   "source": [
    "merged_assessments.loc[merged_assessments['_merge'] != 'both']"
   ]
  },
  {
   "cell_type": "markdown",
   "id": "414e03f5-c9c1-4de5-9daf-13433a8fa860",
   "metadata": {},
   "source": [
    "These rows all have entries in the assessments dataframe but have no match in the student_assessment dataframe. This indicates that no students in our data took these exams, and so we will drop them, and then the merge column since it will have no more useful information."
   ]
  },
  {
   "cell_type": "code",
   "execution_count": 128,
   "id": "95868dda-8856-404c-aef0-05d1ee595ad2",
   "metadata": {
    "tags": [
     "remove-cell"
    ]
   },
   "outputs": [],
   "source": [
    "# remove tests that students did not take\n",
    "assessments = merged_assessments.dropna(subset=['id_student'])\n",
    "\n",
    "# reset the index to be consecutive again\n",
    "assessments = assessments.reset_index(drop=True)"
   ]
  },
  {
   "cell_type": "code",
   "execution_count": 129,
   "id": "2e76431c-da1c-4845-bf76-4f6bec1749e5",
   "metadata": {
    "tags": [
     "remove-cell"
    ]
   },
   "outputs": [],
   "source": [
    "# drop the merge column since it is no longer of use\n",
    "assessments = assessments.drop(columns=['_merge'])"
   ]
  },
  {
   "cell_type": "markdown",
   "id": "8de5f19a-b5fc-46df-b9bf-22130c04447b",
   "metadata": {},
   "source": [
    "---\n",
    "\n",
    "<h4>Assessments Information</h4>\n",
    "\n",
    "<b>Updated Dataframe</b>"
   ]
  },
  {
   "cell_type": "code",
   "execution_count": 130,
   "id": "878d0375-834d-47d2-8f90-c1617f99a34c",
   "metadata": {
    "tags": [
     "remove_input"
    ]
   },
   "outputs": [
    {
     "data": {
      "text/html": [
       "<div>\n",
       "<style scoped>\n",
       "    .dataframe tbody tr th:only-of-type {\n",
       "        vertical-align: middle;\n",
       "    }\n",
       "\n",
       "    .dataframe tbody tr th {\n",
       "        vertical-align: top;\n",
       "    }\n",
       "\n",
       "    .dataframe thead th {\n",
       "        text-align: right;\n",
       "    }\n",
       "</style>\n",
       "<table border=\"1\" class=\"dataframe\">\n",
       "  <thead>\n",
       "    <tr style=\"text-align: right;\">\n",
       "      <th></th>\n",
       "      <th>id_assessment</th>\n",
       "      <th>id_student</th>\n",
       "      <th>date_submitted</th>\n",
       "      <th>score</th>\n",
       "      <th>code_module</th>\n",
       "      <th>code_presentation</th>\n",
       "      <th>assessment_type</th>\n",
       "      <th>date</th>\n",
       "      <th>weight</th>\n",
       "    </tr>\n",
       "  </thead>\n",
       "  <tbody>\n",
       "    <tr>\n",
       "      <th>0</th>\n",
       "      <td>1752</td>\n",
       "      <td>11391.0</td>\n",
       "      <td>18.0</td>\n",
       "      <td>78.0</td>\n",
       "      <td>AAA</td>\n",
       "      <td>2013J</td>\n",
       "      <td>TMA</td>\n",
       "      <td>19.0</td>\n",
       "      <td>10.0</td>\n",
       "    </tr>\n",
       "    <tr>\n",
       "      <th>1</th>\n",
       "      <td>1752</td>\n",
       "      <td>28400.0</td>\n",
       "      <td>22.0</td>\n",
       "      <td>70.0</td>\n",
       "      <td>AAA</td>\n",
       "      <td>2013J</td>\n",
       "      <td>TMA</td>\n",
       "      <td>19.0</td>\n",
       "      <td>10.0</td>\n",
       "    </tr>\n",
       "    <tr>\n",
       "      <th>2</th>\n",
       "      <td>1752</td>\n",
       "      <td>31604.0</td>\n",
       "      <td>17.0</td>\n",
       "      <td>72.0</td>\n",
       "      <td>AAA</td>\n",
       "      <td>2013J</td>\n",
       "      <td>TMA</td>\n",
       "      <td>19.0</td>\n",
       "      <td>10.0</td>\n",
       "    </tr>\n",
       "    <tr>\n",
       "      <th>3</th>\n",
       "      <td>1752</td>\n",
       "      <td>32885.0</td>\n",
       "      <td>26.0</td>\n",
       "      <td>69.0</td>\n",
       "      <td>AAA</td>\n",
       "      <td>2013J</td>\n",
       "      <td>TMA</td>\n",
       "      <td>19.0</td>\n",
       "      <td>10.0</td>\n",
       "    </tr>\n",
       "    <tr>\n",
       "      <th>4</th>\n",
       "      <td>1752</td>\n",
       "      <td>38053.0</td>\n",
       "      <td>19.0</td>\n",
       "      <td>79.0</td>\n",
       "      <td>AAA</td>\n",
       "      <td>2013J</td>\n",
       "      <td>TMA</td>\n",
       "      <td>19.0</td>\n",
       "      <td>10.0</td>\n",
       "    </tr>\n",
       "  </tbody>\n",
       "</table>\n",
       "</div>"
      ],
      "text/plain": [
       "   id_assessment  id_student  date_submitted  score code_module  \\\n",
       "0           1752     11391.0            18.0   78.0         AAA   \n",
       "1           1752     28400.0            22.0   70.0         AAA   \n",
       "2           1752     31604.0            17.0   72.0         AAA   \n",
       "3           1752     32885.0            26.0   69.0         AAA   \n",
       "4           1752     38053.0            19.0   79.0         AAA   \n",
       "\n",
       "  code_presentation assessment_type  date  weight  \n",
       "0             2013J             TMA  19.0    10.0  \n",
       "1             2013J             TMA  19.0    10.0  \n",
       "2             2013J             TMA  19.0    10.0  \n",
       "3             2013J             TMA  19.0    10.0  \n",
       "4             2013J             TMA  19.0    10.0  "
      ]
     },
     "execution_count": 130,
     "metadata": {},
     "output_type": "execute_result"
    }
   ],
   "source": [
    "assessments.head()"
   ]
  },
  {
   "cell_type": "markdown",
   "id": "766d6951-45d3-4cfa-b3a0-0c8f36d794fb",
   "metadata": {},
   "source": [
    "<b>Size</b>"
   ]
  },
  {
   "cell_type": "code",
   "execution_count": 131,
   "id": "0035b3b3-b761-42ba-a649-a8c77e59564e",
   "metadata": {
    "tags": [
     "remove_input"
    ]
   },
   "outputs": [
    {
     "data": {
      "text/markdown": [
       "* Number of Rows: 173912\n",
       "* Number of Columns: 9"
      ],
      "text/plain": [
       "<IPython.core.display.Markdown object>"
      ]
     },
     "execution_count": 131,
     "metadata": {},
     "output_type": "execute_result"
    }
   ],
   "source": [
    "md(f'''* Number of Rows: {len(assessments)}\n",
    "* Number of Columns: {len(assessments.columns)}''')"
   ]
  },
  {
   "cell_type": "markdown",
   "id": "a748695b-f90b-4bf8-912f-d123585ff9f2",
   "metadata": {},
   "source": [
    "<b>Data Types</b>"
   ]
  },
  {
   "cell_type": "code",
   "execution_count": 132,
   "id": "71fed38e-4597-4631-bd6e-78d5c82600ec",
   "metadata": {
    "tags": [
     "remove_input"
    ]
   },
   "outputs": [
    {
     "data": {
      "text/plain": [
       "id_assessment          int64\n",
       "id_student           float64\n",
       "date_submitted       float64\n",
       "score                float64\n",
       "code_module           object\n",
       "code_presentation     object\n",
       "assessment_type       object\n",
       "date                 float64\n",
       "weight               float64\n",
       "dtype: object"
      ]
     },
     "execution_count": 132,
     "metadata": {},
     "output_type": "execute_result"
    }
   ],
   "source": [
    "assessments.dtypes"
   ]
  },
  {
   "cell_type": "markdown",
   "id": "b87836e4-b938-43dd-8e40-033ef284c4cc",
   "metadata": {},
   "source": [
    "* id_student and id_assessments are both categorical values and so should be converted to objects"
   ]
  },
  {
   "cell_type": "code",
   "execution_count": 133,
   "id": "16bfc18e-6a1e-404f-bfaa-b5586296ee98",
   "metadata": {
    "tags": [
     "remove-cell"
    ]
   },
   "outputs": [],
   "source": [
    "# converting the data types\n",
    "assessments = assessments.astype({'id_assessment': int, 'id_student': int})\n",
    "assessments = assessments.astype({'id_assessment': object, 'id_student': object})"
   ]
  },
  {
   "cell_type": "markdown",
   "id": "f90bb93a-6076-4ecf-82a7-3b6f924e9f2d",
   "metadata": {},
   "source": [
    "<b>Null Values</b>"
   ]
  },
  {
   "cell_type": "code",
   "execution_count": 134,
   "id": "a8c9b7b6-21ed-4033-a973-462dca7db7ec",
   "metadata": {
    "tags": [
     "remove_input"
    ]
   },
   "outputs": [
    {
     "data": {
      "text/plain": [
       "id_assessment          0\n",
       "id_student             0\n",
       "date_submitted         0\n",
       "score                173\n",
       "code_module            0\n",
       "code_presentation      0\n",
       "assessment_type        0\n",
       "date                   0\n",
       "weight                 0\n",
       "dtype: int64"
      ]
     },
     "execution_count": 134,
     "metadata": {},
     "output_type": "execute_result"
    }
   ],
   "source": [
    "# prints the sum of a columns null value\n",
    "assessments.isnull().sum()"
   ]
  },
  {
   "cell_type": "markdown",
   "id": "06130a10-4837-432d-97d0-087edc8be19b",
   "metadata": {},
   "source": [
    "* We have 2,873 null data points for assessment date. The documentation of this dataset states that if the exam date is missing then it is as the end of the last presentation week. We can find this information in the courses dataframe."
   ]
  },
  {
   "cell_type": "code",
   "execution_count": 135,
   "id": "f13a8942-82eb-468d-b3d1-132e8853158d",
   "metadata": {
    "tags": [
     "remove-cell"
    ]
   },
   "outputs": [
    {
     "data": {
      "text/plain": [
       "id_assessment          0\n",
       "id_student             0\n",
       "date_submitted         0\n",
       "score                173\n",
       "code_module            0\n",
       "code_presentation      0\n",
       "assessment_type        0\n",
       "date                   0\n",
       "weight                 0\n",
       "dtype: int64"
      ]
     },
     "execution_count": 135,
     "metadata": {},
     "output_type": "execute_result"
    }
   ],
   "source": [
    "# adding the dates for the null test dates\n",
    "for index, row in assessments[assessments['date'].isna()].iterrows():\n",
    "    assessments.at[index, 'date'] = courses.loc[(courses['code_module'] == row['code_module']) & (courses['code_presentation'] == row['code_presentation']), 'module_presentation_length']\n",
    "\n",
    "# reprinting to ensure it worked\n",
    "assessments.isnull().sum()"
   ]
  },
  {
   "cell_type": "markdown",
   "id": "4a6d5de9-8be9-4685-8035-97346ce88dca",
   "metadata": {},
   "source": [
    "* There are 173 null values for score. These records are, unfortunately not of much interest to us, since score is what we are trying to find the relationship for, and so we will discard them. This leaves us with no null data in assessments."
   ]
  },
  {
   "cell_type": "code",
   "execution_count": 136,
   "id": "97d4c5f5-e3e6-4453-b548-09408917eb46",
   "metadata": {
    "tags": [
     "remove-cell"
    ]
   },
   "outputs": [
    {
     "data": {
      "text/plain": [
       "id_assessment        0\n",
       "id_student           0\n",
       "date_submitted       0\n",
       "score                0\n",
       "code_module          0\n",
       "code_presentation    0\n",
       "assessment_type      0\n",
       "date                 0\n",
       "weight               0\n",
       "dtype: int64"
      ]
     },
     "execution_count": 136,
     "metadata": {},
     "output_type": "execute_result"
    }
   ],
   "source": [
    "# removes any entry where the score is NaN\n",
    "assessments = assessments.dropna(subset=['score'])\n",
    "\n",
    "# reprinting to ensure it worked\n",
    "assessments.isnull().sum()"
   ]
  },
  {
   "cell_type": "markdown",
   "id": "79737c4f-e54d-4b4a-ae1c-7da3fe8a421b",
   "metadata": {},
   "source": [
    "<b>Merged Assessment/Student_info dataframes</b>"
   ]
  },
  {
   "cell_type": "markdown",
   "id": "e02b07c7-78b9-40ac-81ec-3b1fcf9aaf3f",
   "metadata": {},
   "source": [
    "In order to remove the students that we removed for the number of previous attempts, we must merge assessments and student info and find the difference"
   ]
  },
  {
   "cell_type": "code",
   "execution_count": 137,
   "id": "1415babb-3164-4430-b130-f1baed32307b",
   "metadata": {
    "tags": [
     "remove_input"
    ]
   },
   "outputs": [
    {
     "data": {
      "text/html": [
       "<div>\n",
       "<style scoped>\n",
       "    .dataframe tbody tr th:only-of-type {\n",
       "        vertical-align: middle;\n",
       "    }\n",
       "\n",
       "    .dataframe tbody tr th {\n",
       "        vertical-align: top;\n",
       "    }\n",
       "\n",
       "    .dataframe thead th {\n",
       "        text-align: right;\n",
       "    }\n",
       "</style>\n",
       "<table border=\"1\" class=\"dataframe\">\n",
       "  <thead>\n",
       "    <tr style=\"text-align: right;\">\n",
       "      <th></th>\n",
       "      <th>id_assessment</th>\n",
       "      <th>id_student</th>\n",
       "      <th>date_submitted</th>\n",
       "      <th>score</th>\n",
       "      <th>code_module</th>\n",
       "      <th>code_presentation</th>\n",
       "      <th>assessment_type</th>\n",
       "      <th>date</th>\n",
       "      <th>weight</th>\n",
       "      <th>region</th>\n",
       "      <th>imd_band</th>\n",
       "      <th>age_band</th>\n",
       "      <th>gender</th>\n",
       "      <th>highest_education</th>\n",
       "      <th>disability</th>\n",
       "      <th>final_result</th>\n",
       "      <th>date_registration</th>\n",
       "      <th>date_unregistration</th>\n",
       "      <th>_merge</th>\n",
       "    </tr>\n",
       "  </thead>\n",
       "  <tbody>\n",
       "    <tr>\n",
       "      <th>0</th>\n",
       "      <td>1752</td>\n",
       "      <td>11391.0</td>\n",
       "      <td>18.0</td>\n",
       "      <td>78.0</td>\n",
       "      <td>AAA</td>\n",
       "      <td>2013J</td>\n",
       "      <td>TMA</td>\n",
       "      <td>19.0</td>\n",
       "      <td>10.0</td>\n",
       "      <td>East Anglian Region</td>\n",
       "      <td>90-100%</td>\n",
       "      <td>55&lt;=</td>\n",
       "      <td>M</td>\n",
       "      <td>HE Qualification</td>\n",
       "      <td>N</td>\n",
       "      <td>Pass</td>\n",
       "      <td>-159.0</td>\n",
       "      <td>NaN</td>\n",
       "      <td>both</td>\n",
       "    </tr>\n",
       "    <tr>\n",
       "      <th>1</th>\n",
       "      <td>1753</td>\n",
       "      <td>11391.0</td>\n",
       "      <td>53.0</td>\n",
       "      <td>85.0</td>\n",
       "      <td>AAA</td>\n",
       "      <td>2013J</td>\n",
       "      <td>TMA</td>\n",
       "      <td>54.0</td>\n",
       "      <td>20.0</td>\n",
       "      <td>East Anglian Region</td>\n",
       "      <td>90-100%</td>\n",
       "      <td>55&lt;=</td>\n",
       "      <td>M</td>\n",
       "      <td>HE Qualification</td>\n",
       "      <td>N</td>\n",
       "      <td>Pass</td>\n",
       "      <td>-159.0</td>\n",
       "      <td>NaN</td>\n",
       "      <td>both</td>\n",
       "    </tr>\n",
       "    <tr>\n",
       "      <th>2</th>\n",
       "      <td>1754</td>\n",
       "      <td>11391.0</td>\n",
       "      <td>115.0</td>\n",
       "      <td>80.0</td>\n",
       "      <td>AAA</td>\n",
       "      <td>2013J</td>\n",
       "      <td>TMA</td>\n",
       "      <td>117.0</td>\n",
       "      <td>20.0</td>\n",
       "      <td>East Anglian Region</td>\n",
       "      <td>90-100%</td>\n",
       "      <td>55&lt;=</td>\n",
       "      <td>M</td>\n",
       "      <td>HE Qualification</td>\n",
       "      <td>N</td>\n",
       "      <td>Pass</td>\n",
       "      <td>-159.0</td>\n",
       "      <td>NaN</td>\n",
       "      <td>both</td>\n",
       "    </tr>\n",
       "    <tr>\n",
       "      <th>3</th>\n",
       "      <td>1755</td>\n",
       "      <td>11391.0</td>\n",
       "      <td>164.0</td>\n",
       "      <td>85.0</td>\n",
       "      <td>AAA</td>\n",
       "      <td>2013J</td>\n",
       "      <td>TMA</td>\n",
       "      <td>166.0</td>\n",
       "      <td>20.0</td>\n",
       "      <td>East Anglian Region</td>\n",
       "      <td>90-100%</td>\n",
       "      <td>55&lt;=</td>\n",
       "      <td>M</td>\n",
       "      <td>HE Qualification</td>\n",
       "      <td>N</td>\n",
       "      <td>Pass</td>\n",
       "      <td>-159.0</td>\n",
       "      <td>NaN</td>\n",
       "      <td>both</td>\n",
       "    </tr>\n",
       "    <tr>\n",
       "      <th>4</th>\n",
       "      <td>1756</td>\n",
       "      <td>11391.0</td>\n",
       "      <td>212.0</td>\n",
       "      <td>82.0</td>\n",
       "      <td>AAA</td>\n",
       "      <td>2013J</td>\n",
       "      <td>TMA</td>\n",
       "      <td>215.0</td>\n",
       "      <td>30.0</td>\n",
       "      <td>East Anglian Region</td>\n",
       "      <td>90-100%</td>\n",
       "      <td>55&lt;=</td>\n",
       "      <td>M</td>\n",
       "      <td>HE Qualification</td>\n",
       "      <td>N</td>\n",
       "      <td>Pass</td>\n",
       "      <td>-159.0</td>\n",
       "      <td>NaN</td>\n",
       "      <td>both</td>\n",
       "    </tr>\n",
       "  </tbody>\n",
       "</table>\n",
       "</div>"
      ],
      "text/plain": [
       "  id_assessment id_student  date_submitted  score code_module  \\\n",
       "0          1752    11391.0            18.0   78.0         AAA   \n",
       "1          1753    11391.0            53.0   85.0         AAA   \n",
       "2          1754    11391.0           115.0   80.0         AAA   \n",
       "3          1755    11391.0           164.0   85.0         AAA   \n",
       "4          1756    11391.0           212.0   82.0         AAA   \n",
       "\n",
       "  code_presentation assessment_type   date  weight               region  \\\n",
       "0             2013J             TMA   19.0    10.0  East Anglian Region   \n",
       "1             2013J             TMA   54.0    20.0  East Anglian Region   \n",
       "2             2013J             TMA  117.0    20.0  East Anglian Region   \n",
       "3             2013J             TMA  166.0    20.0  East Anglian Region   \n",
       "4             2013J             TMA  215.0    30.0  East Anglian Region   \n",
       "\n",
       "  imd_band age_band gender highest_education disability final_result  \\\n",
       "0  90-100%     55<=      M  HE Qualification          N         Pass   \n",
       "1  90-100%     55<=      M  HE Qualification          N         Pass   \n",
       "2  90-100%     55<=      M  HE Qualification          N         Pass   \n",
       "3  90-100%     55<=      M  HE Qualification          N         Pass   \n",
       "4  90-100%     55<=      M  HE Qualification          N         Pass   \n",
       "\n",
       "   date_registration  date_unregistration _merge  \n",
       "0             -159.0                  NaN   both  \n",
       "1             -159.0                  NaN   both  \n",
       "2             -159.0                  NaN   both  \n",
       "3             -159.0                  NaN   both  \n",
       "4             -159.0                  NaN   both  "
      ]
     },
     "execution_count": 137,
     "metadata": {},
     "output_type": "execute_result"
    }
   ],
   "source": [
    "# merged 'student info/assessments' with a full outer join on their common columns\n",
    "merged_sia = assessments.merge(stud_info, how='outer', on=['id_student', 'code_module', 'code_presentation'], indicator=True)\n",
    "merged_sia.head()"
   ]
  },
  {
   "cell_type": "markdown",
   "id": "b19d4ef0-eff1-4e47-aae5-bf260e4a6de5",
   "metadata": {},
   "source": [
    "For this merge column the right side would be the student info dataframe and the left side would be assessments. If an entry receives the label of right_only there is a student who has no assessments, if the label is left_only, there is an assessment that doesn't match up with a student."
   ]
  },
  {
   "cell_type": "code",
   "execution_count": 138,
   "id": "cf5ad962-7e3a-4798-8cce-59647a781690",
   "metadata": {
    "tags": [
     "remove-cell"
    ]
   },
   "outputs": [],
   "source": [
    "# variable for where merge is left_only, and only found on the \n",
    "only_assessments = merged_sia.loc[merged_sia['_merge']=='left_only']\n",
    "only_stud_info = merged_sia.loc[merged_sia['_merge']=='right_only']"
   ]
  },
  {
   "cell_type": "markdown",
   "id": "e9534013-73d6-44b9-8447-83d2a74e447b",
   "metadata": {},
   "source": [
    "<b>Assessments that do not map to students</b>:"
   ]
  },
  {
   "cell_type": "code",
   "execution_count": 139,
   "id": "0b0f683e-be6a-4b52-b3bc-684f9c3a8271",
   "metadata": {
    "tags": [
     "remove_input"
    ]
   },
   "outputs": [
    {
     "data": {
      "text/html": [
       "<div>\n",
       "<style scoped>\n",
       "    .dataframe tbody tr th:only-of-type {\n",
       "        vertical-align: middle;\n",
       "    }\n",
       "\n",
       "    .dataframe tbody tr th {\n",
       "        vertical-align: top;\n",
       "    }\n",
       "\n",
       "    .dataframe thead th {\n",
       "        text-align: right;\n",
       "    }\n",
       "</style>\n",
       "<table border=\"1\" class=\"dataframe\">\n",
       "  <thead>\n",
       "    <tr style=\"text-align: right;\">\n",
       "      <th></th>\n",
       "      <th>id_assessment</th>\n",
       "      <th>id_student</th>\n",
       "      <th>date_submitted</th>\n",
       "      <th>score</th>\n",
       "      <th>code_module</th>\n",
       "      <th>code_presentation</th>\n",
       "      <th>assessment_type</th>\n",
       "      <th>date</th>\n",
       "      <th>weight</th>\n",
       "      <th>region</th>\n",
       "      <th>imd_band</th>\n",
       "      <th>age_band</th>\n",
       "      <th>gender</th>\n",
       "      <th>highest_education</th>\n",
       "      <th>disability</th>\n",
       "      <th>final_result</th>\n",
       "      <th>date_registration</th>\n",
       "      <th>date_unregistration</th>\n",
       "      <th>_merge</th>\n",
       "    </tr>\n",
       "  </thead>\n",
       "  <tbody>\n",
       "    <tr>\n",
       "      <th>1671</th>\n",
       "      <td>1758</td>\n",
       "      <td>603861.0</td>\n",
       "      <td>-1.0</td>\n",
       "      <td>61.0</td>\n",
       "      <td>AAA</td>\n",
       "      <td>2014J</td>\n",
       "      <td>TMA</td>\n",
       "      <td>19.0</td>\n",
       "      <td>10.0</td>\n",
       "      <td>NaN</td>\n",
       "      <td>NaN</td>\n",
       "      <td>NaN</td>\n",
       "      <td>NaN</td>\n",
       "      <td>NaN</td>\n",
       "      <td>NaN</td>\n",
       "      <td>NaN</td>\n",
       "      <td>NaN</td>\n",
       "      <td>NaN</td>\n",
       "      <td>left_only</td>\n",
       "    </tr>\n",
       "    <tr>\n",
       "      <th>1672</th>\n",
       "      <td>1759</td>\n",
       "      <td>603861.0</td>\n",
       "      <td>-1.0</td>\n",
       "      <td>56.0</td>\n",
       "      <td>AAA</td>\n",
       "      <td>2014J</td>\n",
       "      <td>TMA</td>\n",
       "      <td>54.0</td>\n",
       "      <td>20.0</td>\n",
       "      <td>NaN</td>\n",
       "      <td>NaN</td>\n",
       "      <td>NaN</td>\n",
       "      <td>NaN</td>\n",
       "      <td>NaN</td>\n",
       "      <td>NaN</td>\n",
       "      <td>NaN</td>\n",
       "      <td>NaN</td>\n",
       "      <td>NaN</td>\n",
       "      <td>left_only</td>\n",
       "    </tr>\n",
       "    <tr>\n",
       "      <th>1673</th>\n",
       "      <td>1760</td>\n",
       "      <td>603861.0</td>\n",
       "      <td>-1.0</td>\n",
       "      <td>58.0</td>\n",
       "      <td>AAA</td>\n",
       "      <td>2014J</td>\n",
       "      <td>TMA</td>\n",
       "      <td>117.0</td>\n",
       "      <td>20.0</td>\n",
       "      <td>NaN</td>\n",
       "      <td>NaN</td>\n",
       "      <td>NaN</td>\n",
       "      <td>NaN</td>\n",
       "      <td>NaN</td>\n",
       "      <td>NaN</td>\n",
       "      <td>NaN</td>\n",
       "      <td>NaN</td>\n",
       "      <td>NaN</td>\n",
       "      <td>left_only</td>\n",
       "    </tr>\n",
       "    <tr>\n",
       "      <th>1674</th>\n",
       "      <td>1761</td>\n",
       "      <td>603861.0</td>\n",
       "      <td>-1.0</td>\n",
       "      <td>69.0</td>\n",
       "      <td>AAA</td>\n",
       "      <td>2014J</td>\n",
       "      <td>TMA</td>\n",
       "      <td>166.0</td>\n",
       "      <td>20.0</td>\n",
       "      <td>NaN</td>\n",
       "      <td>NaN</td>\n",
       "      <td>NaN</td>\n",
       "      <td>NaN</td>\n",
       "      <td>NaN</td>\n",
       "      <td>NaN</td>\n",
       "      <td>NaN</td>\n",
       "      <td>NaN</td>\n",
       "      <td>NaN</td>\n",
       "      <td>left_only</td>\n",
       "    </tr>\n",
       "    <tr>\n",
       "      <th>1675</th>\n",
       "      <td>1762</td>\n",
       "      <td>603861.0</td>\n",
       "      <td>-1.0</td>\n",
       "      <td>71.0</td>\n",
       "      <td>AAA</td>\n",
       "      <td>2014J</td>\n",
       "      <td>TMA</td>\n",
       "      <td>215.0</td>\n",
       "      <td>30.0</td>\n",
       "      <td>NaN</td>\n",
       "      <td>NaN</td>\n",
       "      <td>NaN</td>\n",
       "      <td>NaN</td>\n",
       "      <td>NaN</td>\n",
       "      <td>NaN</td>\n",
       "      <td>NaN</td>\n",
       "      <td>NaN</td>\n",
       "      <td>NaN</td>\n",
       "      <td>left_only</td>\n",
       "    </tr>\n",
       "  </tbody>\n",
       "</table>\n",
       "</div>"
      ],
      "text/plain": [
       "     id_assessment id_student  date_submitted  score code_module  \\\n",
       "1671          1758   603861.0            -1.0   61.0         AAA   \n",
       "1672          1759   603861.0            -1.0   56.0         AAA   \n",
       "1673          1760   603861.0            -1.0   58.0         AAA   \n",
       "1674          1761   603861.0            -1.0   69.0         AAA   \n",
       "1675          1762   603861.0            -1.0   71.0         AAA   \n",
       "\n",
       "     code_presentation assessment_type   date  weight region imd_band  \\\n",
       "1671             2014J             TMA   19.0    10.0    NaN      NaN   \n",
       "1672             2014J             TMA   54.0    20.0    NaN      NaN   \n",
       "1673             2014J             TMA  117.0    20.0    NaN      NaN   \n",
       "1674             2014J             TMA  166.0    20.0    NaN      NaN   \n",
       "1675             2014J             TMA  215.0    30.0    NaN      NaN   \n",
       "\n",
       "     age_band gender highest_education disability final_result  \\\n",
       "1671      NaN    NaN               NaN        NaN          NaN   \n",
       "1672      NaN    NaN               NaN        NaN          NaN   \n",
       "1673      NaN    NaN               NaN        NaN          NaN   \n",
       "1674      NaN    NaN               NaN        NaN          NaN   \n",
       "1675      NaN    NaN               NaN        NaN          NaN   \n",
       "\n",
       "      date_registration  date_unregistration     _merge  \n",
       "1671                NaN                  NaN  left_only  \n",
       "1672                NaN                  NaN  left_only  \n",
       "1673                NaN                  NaN  left_only  \n",
       "1674                NaN                  NaN  left_only  \n",
       "1675                NaN                  NaN  left_only  "
      ]
     },
     "execution_count": 139,
     "metadata": {},
     "output_type": "execute_result"
    }
   ],
   "source": [
    "only_assessments.head()"
   ]
  },
  {
   "cell_type": "markdown",
   "id": "e20b3939-7696-4721-8c51-f8b87d2ecbee",
   "metadata": {},
   "source": [
    "<b>Students without any test scores<b>:"
   ]
  },
  {
   "cell_type": "code",
   "execution_count": 140,
   "id": "81417eee-e722-4d24-b351-6dfd8614d9bc",
   "metadata": {},
   "outputs": [
    {
     "data": {
      "text/html": [
       "<div>\n",
       "<style scoped>\n",
       "    .dataframe tbody tr th:only-of-type {\n",
       "        vertical-align: middle;\n",
       "    }\n",
       "\n",
       "    .dataframe tbody tr th {\n",
       "        vertical-align: top;\n",
       "    }\n",
       "\n",
       "    .dataframe thead th {\n",
       "        text-align: right;\n",
       "    }\n",
       "</style>\n",
       "<table border=\"1\" class=\"dataframe\">\n",
       "  <thead>\n",
       "    <tr style=\"text-align: right;\">\n",
       "      <th></th>\n",
       "      <th>id_assessment</th>\n",
       "      <th>id_student</th>\n",
       "      <th>date_submitted</th>\n",
       "      <th>score</th>\n",
       "      <th>code_module</th>\n",
       "      <th>code_presentation</th>\n",
       "      <th>assessment_type</th>\n",
       "      <th>date</th>\n",
       "      <th>weight</th>\n",
       "      <th>region</th>\n",
       "      <th>imd_band</th>\n",
       "      <th>age_band</th>\n",
       "      <th>gender</th>\n",
       "      <th>highest_education</th>\n",
       "      <th>disability</th>\n",
       "      <th>final_result</th>\n",
       "      <th>date_registration</th>\n",
       "      <th>date_unregistration</th>\n",
       "      <th>_merge</th>\n",
       "    </tr>\n",
       "  </thead>\n",
       "  <tbody>\n",
       "    <tr>\n",
       "      <th>173739</th>\n",
       "      <td>NaN</td>\n",
       "      <td>30268</td>\n",
       "      <td>NaN</td>\n",
       "      <td>NaN</td>\n",
       "      <td>AAA</td>\n",
       "      <td>2013J</td>\n",
       "      <td>NaN</td>\n",
       "      <td>NaN</td>\n",
       "      <td>NaN</td>\n",
       "      <td>North Western Region</td>\n",
       "      <td>30-40%</td>\n",
       "      <td>35-55</td>\n",
       "      <td>F</td>\n",
       "      <td>A Level or Equivalent</td>\n",
       "      <td>Y</td>\n",
       "      <td>Withdrawn</td>\n",
       "      <td>-92.0</td>\n",
       "      <td>12.0</td>\n",
       "      <td>right_only</td>\n",
       "    </tr>\n",
       "    <tr>\n",
       "      <th>173740</th>\n",
       "      <td>NaN</td>\n",
       "      <td>135335</td>\n",
       "      <td>NaN</td>\n",
       "      <td>NaN</td>\n",
       "      <td>AAA</td>\n",
       "      <td>2013J</td>\n",
       "      <td>NaN</td>\n",
       "      <td>NaN</td>\n",
       "      <td>NaN</td>\n",
       "      <td>East Anglian Region</td>\n",
       "      <td>20-30%</td>\n",
       "      <td>0-35</td>\n",
       "      <td>F</td>\n",
       "      <td>Lower Than A Level</td>\n",
       "      <td>N</td>\n",
       "      <td>Withdrawn</td>\n",
       "      <td>-29.0</td>\n",
       "      <td>30.0</td>\n",
       "      <td>right_only</td>\n",
       "    </tr>\n",
       "    <tr>\n",
       "      <th>173741</th>\n",
       "      <td>NaN</td>\n",
       "      <td>281589</td>\n",
       "      <td>NaN</td>\n",
       "      <td>NaN</td>\n",
       "      <td>AAA</td>\n",
       "      <td>2013J</td>\n",
       "      <td>NaN</td>\n",
       "      <td>NaN</td>\n",
       "      <td>NaN</td>\n",
       "      <td>North Western Region</td>\n",
       "      <td>30-40%</td>\n",
       "      <td>0-35</td>\n",
       "      <td>M</td>\n",
       "      <td>HE Qualification</td>\n",
       "      <td>N</td>\n",
       "      <td>Fail</td>\n",
       "      <td>-50.0</td>\n",
       "      <td>NaN</td>\n",
       "      <td>right_only</td>\n",
       "    </tr>\n",
       "    <tr>\n",
       "      <th>173742</th>\n",
       "      <td>NaN</td>\n",
       "      <td>346843</td>\n",
       "      <td>NaN</td>\n",
       "      <td>NaN</td>\n",
       "      <td>AAA</td>\n",
       "      <td>2013J</td>\n",
       "      <td>NaN</td>\n",
       "      <td>NaN</td>\n",
       "      <td>NaN</td>\n",
       "      <td>Scotland</td>\n",
       "      <td>50-60%</td>\n",
       "      <td>35-55</td>\n",
       "      <td>F</td>\n",
       "      <td>HE Qualification</td>\n",
       "      <td>N</td>\n",
       "      <td>Fail</td>\n",
       "      <td>-44.0</td>\n",
       "      <td>NaN</td>\n",
       "      <td>right_only</td>\n",
       "    </tr>\n",
       "    <tr>\n",
       "      <th>173743</th>\n",
       "      <td>NaN</td>\n",
       "      <td>354858</td>\n",
       "      <td>NaN</td>\n",
       "      <td>NaN</td>\n",
       "      <td>AAA</td>\n",
       "      <td>2013J</td>\n",
       "      <td>NaN</td>\n",
       "      <td>NaN</td>\n",
       "      <td>NaN</td>\n",
       "      <td>South Region</td>\n",
       "      <td>90-100%</td>\n",
       "      <td>35-55</td>\n",
       "      <td>M</td>\n",
       "      <td>HE Qualification</td>\n",
       "      <td>N</td>\n",
       "      <td>Withdrawn</td>\n",
       "      <td>-32.0</td>\n",
       "      <td>5.0</td>\n",
       "      <td>right_only</td>\n",
       "    </tr>\n",
       "  </tbody>\n",
       "</table>\n",
       "</div>"
      ],
      "text/plain": [
       "       id_assessment id_student  date_submitted  score code_module  \\\n",
       "173739           NaN      30268             NaN    NaN         AAA   \n",
       "173740           NaN     135335             NaN    NaN         AAA   \n",
       "173741           NaN     281589             NaN    NaN         AAA   \n",
       "173742           NaN     346843             NaN    NaN         AAA   \n",
       "173743           NaN     354858             NaN    NaN         AAA   \n",
       "\n",
       "       code_presentation assessment_type  date  weight                region  \\\n",
       "173739             2013J             NaN   NaN     NaN  North Western Region   \n",
       "173740             2013J             NaN   NaN     NaN   East Anglian Region   \n",
       "173741             2013J             NaN   NaN     NaN  North Western Region   \n",
       "173742             2013J             NaN   NaN     NaN              Scotland   \n",
       "173743             2013J             NaN   NaN     NaN          South Region   \n",
       "\n",
       "       imd_band age_band gender      highest_education disability  \\\n",
       "173739   30-40%    35-55      F  A Level or Equivalent          Y   \n",
       "173740   20-30%     0-35      F     Lower Than A Level          N   \n",
       "173741   30-40%     0-35      M       HE Qualification          N   \n",
       "173742   50-60%    35-55      F       HE Qualification          N   \n",
       "173743  90-100%    35-55      M       HE Qualification          N   \n",
       "\n",
       "       final_result  date_registration  date_unregistration      _merge  \n",
       "173739    Withdrawn              -92.0                 12.0  right_only  \n",
       "173740    Withdrawn              -29.0                 30.0  right_only  \n",
       "173741         Fail              -50.0                  NaN  right_only  \n",
       "173742         Fail              -44.0                  NaN  right_only  \n",
       "173743    Withdrawn              -32.0                  5.0  right_only  "
      ]
     },
     "execution_count": 140,
     "metadata": {},
     "output_type": "execute_result"
    }
   ],
   "source": [
    "only_stud_info.head()"
   ]
  },
  {
   "cell_type": "code",
   "execution_count": 141,
   "id": "1fccc36f-5ec6-4c15-8eac-77a017dc98db",
   "metadata": {
    "tags": [
     "remove_input"
    ]
   },
   "outputs": [
    {
     "data": {
      "text/markdown": [
       "\n",
       "    We have 20211 values in only assessments, which map to students who had made previous attempts, and 3162 values in only student_info, which means we have students for whom we have no test scores.\n",
       "    We can drop both of these which are missing values for the purpose of this dataframe since we are just analyzing test scores\n",
       "    "
      ],
      "text/plain": [
       "<IPython.core.display.Markdown object>"
      ]
     },
     "execution_count": 141,
     "metadata": {},
     "output_type": "execute_result"
    }
   ],
   "source": [
    "md(f'''\n",
    "    We have {len(only_assessments)} values in only assessments, which map to students who had made previous attempts, and {len(only_stud_info)} values in only student_info, which means we have students for whom we have no test scores.\n",
    "    We can drop both of these which are missing values for the purpose of this dataframe since we are just analyzing test scores\n",
    "    ''')"
   ]
  },
  {
   "cell_type": "code",
   "execution_count": 142,
   "id": "1b118400-07c9-4c10-a707-da66ea528409",
   "metadata": {
    "tags": [
     "remove-cell"
    ]
   },
   "outputs": [
    {
     "data": {
      "text/html": [
       "<div>\n",
       "<style scoped>\n",
       "    .dataframe tbody tr th:only-of-type {\n",
       "        vertical-align: middle;\n",
       "    }\n",
       "\n",
       "    .dataframe tbody tr th {\n",
       "        vertical-align: top;\n",
       "    }\n",
       "\n",
       "    .dataframe thead th {\n",
       "        text-align: right;\n",
       "    }\n",
       "</style>\n",
       "<table border=\"1\" class=\"dataframe\">\n",
       "  <thead>\n",
       "    <tr style=\"text-align: right;\">\n",
       "      <th></th>\n",
       "      <th>id_assessment</th>\n",
       "      <th>id_student</th>\n",
       "      <th>date_submitted</th>\n",
       "      <th>score</th>\n",
       "      <th>code_module</th>\n",
       "      <th>code_presentation</th>\n",
       "      <th>assessment_type</th>\n",
       "      <th>date</th>\n",
       "      <th>weight</th>\n",
       "      <th>gender</th>\n",
       "      <th>region</th>\n",
       "      <th>highest_education</th>\n",
       "      <th>imd_band</th>\n",
       "      <th>age_band</th>\n",
       "      <th>num_of_prev_attempts</th>\n",
       "      <th>studied_credits</th>\n",
       "      <th>disability</th>\n",
       "      <th>final_result</th>\n",
       "      <th>_merge</th>\n",
       "    </tr>\n",
       "  </thead>\n",
       "  <tbody>\n",
       "  </tbody>\n",
       "</table>\n",
       "</div>"
      ],
      "text/plain": [
       "Empty DataFrame\n",
       "Columns: [id_assessment, id_student, date_submitted, score, code_module, code_presentation, assessment_type, date, weight, gender, region, highest_education, imd_band, age_band, num_of_prev_attempts, studied_credits, disability, final_result, _merge]\n",
       "Index: []"
      ]
     },
     "execution_count": 142,
     "metadata": {},
     "output_type": "execute_result"
    }
   ],
   "source": [
    "# merging assessments with the original student data dataframe to make sure that the missing students are the ones we removed.\n",
    "merged_test = assessments.merge(student_info, how='outer', on=['id_student', 'code_module', 'code_presentation'], indicator=True)\n",
    "\n",
    "# removing entries where num_prev_attempts == 0\n",
    "merged_test = merged_test[merged_test['num_of_prev_attempts'] == 0]\n",
    "\n",
    "# checking if any in only the student info dataframe remain (left_only). No output means all of the tests without students map to a student where num_prev_attempts == 0\n",
    "merged_test.loc[merged_test['_merge']=='left_only']"
   ]
  },
  {
   "cell_type": "code",
   "execution_count": 143,
   "id": "6084ddc8-e024-4233-b4e1-323f5f036144",
   "metadata": {
    "tags": [
     "remove-cell"
    ]
   },
   "outputs": [],
   "source": [
    "# removing any student with NaN values in id_assessment or region\n",
    "assessments = merged_sia.dropna(subset=['id_assessment', 'region'])"
   ]
  },
  {
   "cell_type": "code",
   "execution_count": 144,
   "id": "12a2ceee-46cd-476b-b3d0-c2ec51c81405",
   "metadata": {
    "tags": [
     "remove-cell"
    ]
   },
   "outputs": [],
   "source": [
    "# reordering dataframe columns to group like data\n",
    "assessments = assessments[['code_module', 'code_presentation', 'id_student', 'region', 'imd_band', 'age_band', 'gender', 'highest_education', 'disability', 'final_result', 'id_assessment', 'assessment_type', 'date_submitted', 'date', 'weight', 'score']]"
   ]
  },
  {
   "cell_type": "code",
   "execution_count": 145,
   "id": "8929c3d0-7505-44c8-b16c-bf76f29e9fac",
   "metadata": {},
   "outputs": [],
   "source": [
    "# converting the data types back\n",
    "assessments = assessments.astype({'id_assessment': int, 'id_student': int})\n",
    "assessments = assessments.astype({'id_assessment': object, 'id_student': object})"
   ]
  },
  {
   "cell_type": "code",
   "execution_count": 146,
   "id": "d9bcffd6-b31b-40b2-a742-c38a5de1274d",
   "metadata": {
    "tags": [
     "remove_input"
    ]
   },
   "outputs": [
    {
     "data": {
      "text/html": [
       "<div>\n",
       "<style scoped>\n",
       "    .dataframe tbody tr th:only-of-type {\n",
       "        vertical-align: middle;\n",
       "    }\n",
       "\n",
       "    .dataframe tbody tr th {\n",
       "        vertical-align: top;\n",
       "    }\n",
       "\n",
       "    .dataframe thead th {\n",
       "        text-align: right;\n",
       "    }\n",
       "</style>\n",
       "<table border=\"1\" class=\"dataframe\">\n",
       "  <thead>\n",
       "    <tr style=\"text-align: right;\">\n",
       "      <th></th>\n",
       "      <th>code_module</th>\n",
       "      <th>code_presentation</th>\n",
       "      <th>id_student</th>\n",
       "      <th>region</th>\n",
       "      <th>imd_band</th>\n",
       "      <th>age_band</th>\n",
       "      <th>gender</th>\n",
       "      <th>highest_education</th>\n",
       "      <th>disability</th>\n",
       "      <th>final_result</th>\n",
       "      <th>id_assessment</th>\n",
       "      <th>assessment_type</th>\n",
       "      <th>date_submitted</th>\n",
       "      <th>date</th>\n",
       "      <th>weight</th>\n",
       "      <th>score</th>\n",
       "    </tr>\n",
       "  </thead>\n",
       "  <tbody>\n",
       "    <tr>\n",
       "      <th>0</th>\n",
       "      <td>AAA</td>\n",
       "      <td>2013J</td>\n",
       "      <td>11391</td>\n",
       "      <td>East Anglian Region</td>\n",
       "      <td>90-100%</td>\n",
       "      <td>55&lt;=</td>\n",
       "      <td>M</td>\n",
       "      <td>HE Qualification</td>\n",
       "      <td>N</td>\n",
       "      <td>Pass</td>\n",
       "      <td>1752</td>\n",
       "      <td>TMA</td>\n",
       "      <td>18.0</td>\n",
       "      <td>19.0</td>\n",
       "      <td>10.0</td>\n",
       "      <td>78.0</td>\n",
       "    </tr>\n",
       "    <tr>\n",
       "      <th>1</th>\n",
       "      <td>AAA</td>\n",
       "      <td>2013J</td>\n",
       "      <td>11391</td>\n",
       "      <td>East Anglian Region</td>\n",
       "      <td>90-100%</td>\n",
       "      <td>55&lt;=</td>\n",
       "      <td>M</td>\n",
       "      <td>HE Qualification</td>\n",
       "      <td>N</td>\n",
       "      <td>Pass</td>\n",
       "      <td>1753</td>\n",
       "      <td>TMA</td>\n",
       "      <td>53.0</td>\n",
       "      <td>54.0</td>\n",
       "      <td>20.0</td>\n",
       "      <td>85.0</td>\n",
       "    </tr>\n",
       "    <tr>\n",
       "      <th>2</th>\n",
       "      <td>AAA</td>\n",
       "      <td>2013J</td>\n",
       "      <td>11391</td>\n",
       "      <td>East Anglian Region</td>\n",
       "      <td>90-100%</td>\n",
       "      <td>55&lt;=</td>\n",
       "      <td>M</td>\n",
       "      <td>HE Qualification</td>\n",
       "      <td>N</td>\n",
       "      <td>Pass</td>\n",
       "      <td>1754</td>\n",
       "      <td>TMA</td>\n",
       "      <td>115.0</td>\n",
       "      <td>117.0</td>\n",
       "      <td>20.0</td>\n",
       "      <td>80.0</td>\n",
       "    </tr>\n",
       "    <tr>\n",
       "      <th>3</th>\n",
       "      <td>AAA</td>\n",
       "      <td>2013J</td>\n",
       "      <td>11391</td>\n",
       "      <td>East Anglian Region</td>\n",
       "      <td>90-100%</td>\n",
       "      <td>55&lt;=</td>\n",
       "      <td>M</td>\n",
       "      <td>HE Qualification</td>\n",
       "      <td>N</td>\n",
       "      <td>Pass</td>\n",
       "      <td>1755</td>\n",
       "      <td>TMA</td>\n",
       "      <td>164.0</td>\n",
       "      <td>166.0</td>\n",
       "      <td>20.0</td>\n",
       "      <td>85.0</td>\n",
       "    </tr>\n",
       "    <tr>\n",
       "      <th>4</th>\n",
       "      <td>AAA</td>\n",
       "      <td>2013J</td>\n",
       "      <td>11391</td>\n",
       "      <td>East Anglian Region</td>\n",
       "      <td>90-100%</td>\n",
       "      <td>55&lt;=</td>\n",
       "      <td>M</td>\n",
       "      <td>HE Qualification</td>\n",
       "      <td>N</td>\n",
       "      <td>Pass</td>\n",
       "      <td>1756</td>\n",
       "      <td>TMA</td>\n",
       "      <td>212.0</td>\n",
       "      <td>215.0</td>\n",
       "      <td>30.0</td>\n",
       "      <td>82.0</td>\n",
       "    </tr>\n",
       "  </tbody>\n",
       "</table>\n",
       "</div>"
      ],
      "text/plain": [
       "  code_module code_presentation id_student               region imd_band  \\\n",
       "0         AAA             2013J      11391  East Anglian Region  90-100%   \n",
       "1         AAA             2013J      11391  East Anglian Region  90-100%   \n",
       "2         AAA             2013J      11391  East Anglian Region  90-100%   \n",
       "3         AAA             2013J      11391  East Anglian Region  90-100%   \n",
       "4         AAA             2013J      11391  East Anglian Region  90-100%   \n",
       "\n",
       "  age_band gender highest_education disability final_result id_assessment  \\\n",
       "0     55<=      M  HE Qualification          N         Pass          1752   \n",
       "1     55<=      M  HE Qualification          N         Pass          1753   \n",
       "2     55<=      M  HE Qualification          N         Pass          1754   \n",
       "3     55<=      M  HE Qualification          N         Pass          1755   \n",
       "4     55<=      M  HE Qualification          N         Pass          1756   \n",
       "\n",
       "  assessment_type  date_submitted   date  weight  score  \n",
       "0             TMA            18.0   19.0    10.0   78.0  \n",
       "1             TMA            53.0   54.0    20.0   85.0  \n",
       "2             TMA           115.0  117.0    20.0   80.0  \n",
       "3             TMA           164.0  166.0    20.0   85.0  \n",
       "4             TMA           212.0  215.0    30.0   82.0  "
      ]
     },
     "execution_count": 146,
     "metadata": {},
     "output_type": "execute_result"
    }
   ],
   "source": [
    "# reset the index\n",
    "assessments.reset_index(drop=True).head()"
   ]
  },
  {
   "cell_type": "markdown",
   "id": "12a82008-f64a-4b36-b4df-8d0fe5cbcf21",
   "metadata": {},
   "source": [
    "<b>Unique Counts</b>"
   ]
  },
  {
   "cell_type": "code",
   "execution_count": 147,
   "id": "fd2e029c-9dc3-442c-a150-097032cf18bc",
   "metadata": {
    "tags": [
     "remove_input"
    ]
   },
   "outputs": [
    {
     "data": {
      "text/plain": [
       "code_module              7\n",
       "code_presentation        4\n",
       "id_student           21040\n",
       "region                  13\n",
       "imd_band                10\n",
       "age_band                 3\n",
       "gender                   2\n",
       "highest_education        5\n",
       "disability               2\n",
       "final_result             4\n",
       "id_assessment          188\n",
       "assessment_type          3\n",
       "date_submitted         299\n",
       "date                    74\n",
       "weight                  24\n",
       "score                  101\n",
       "dtype: int64"
      ]
     },
     "execution_count": 147,
     "metadata": {},
     "output_type": "execute_result"
    }
   ],
   "source": [
    "assessments.nunique()"
   ]
  },
  {
   "cell_type": "markdown",
   "id": "12b44979-f5b1-4122-923c-dca2d7dac7d3",
   "metadata": {},
   "source": [
    "<b>Unique Categorical Values</b>"
   ]
  },
  {
   "cell_type": "code",
   "execution_count": 148,
   "id": "cc695273-72e6-4547-bde6-f870e75f850b",
   "metadata": {
    "tags": [
     "remove_input"
    ]
   },
   "outputs": [
    {
     "name": "stdout",
     "output_type": "stream",
     "text": [
      "code_module: ['AAA' 'BBB' 'CCC' 'DDD' 'EEE' 'FFF' 'GGG']\n",
      "\n",
      "code_presentation: ['2013J' '2014J' '2013B' '2014B']\n",
      "\n",
      "id_student: [11391 28400 31604 ... 692171 650630 573320]\n",
      "\n",
      "region: ['East Anglian Region' 'Scotland' 'South East Region'\n",
      " 'West Midlands Region' 'Wales' 'North Western Region' 'North Region'\n",
      " 'South Region' 'Ireland' 'South West Region' 'East Midlands Region'\n",
      " 'Yorkshire Region' 'London Region']\n",
      "\n",
      "imd_band: ['90-100%' '20-30%' '50-60%' '80-90%' '30-40%' '70-80%' nan '60-70%'\n",
      " '40-50%' '10-20' '0-10%']\n",
      "\n",
      "age_band: ['55<=' '35-55' '0-35']\n",
      "\n",
      "gender: ['M' 'F']\n",
      "\n",
      "highest_education: ['HE Qualification' 'A Level or Equivalent' 'Lower Than A Level'\n",
      " 'Post Graduate Qualification' 'No Formal quals']\n",
      "\n",
      "disability: ['N' 'Y']\n",
      "\n",
      "final_result: ['Pass' 'Withdrawn' 'Fail' 'Distinction']\n",
      "\n",
      "id_assessment: [1752 1753 1754 1755 1756 1758 1759 1760 1761 1762 14984 14985 14986 14987\n",
      " 14988 14989 14991 14992 14993 14994 14995 14996 14997 14998 14999 15000\n",
      " 15001 15003 15004 15005 15006 15007 15008 15009 15010 15011 15012 15013\n",
      " 15015 15016 15017 15018 15019 15020 15021 15022 15023 15024 24282 24283\n",
      " 24284 24285 24286 24287 24288 24289 24290 24291 24292 24293 24294 24295\n",
      " 24296 24297 24298 24299 25334 25341 25335 25336 25337 25338 25342 25343\n",
      " 25344 25345 25346 25339 25340 25347 25348 25349 25350 25351 25352 25353\n",
      " 25354 25355 25356 25357 25358 25360 25361 25359 25362 25363 25364 25366\n",
      " 25367 25368 25365 30709 30710 30711 30712 30714 30715 30716 30717 30719\n",
      " 30720 30721 30722 34860 34861 34862 34863 34864 34865 34866 34867 34868\n",
      " 34869 34870 34871 34873 34874 34875 34876 34877 34878 34879 34880 34881\n",
      " 34882 34883 34884 34886 34887 34888 34889 34890 34891 34892 34893 34894\n",
      " 34895 34896 34897 34899 34900 34901 34902 34903 34904 34905 34906 34907\n",
      " 34908 34909 34910 37415 37416 37417 37418 37419 37420 37421 37422 37423\n",
      " 37425 37426 37427 37428 37429 37430 37432 37431 37433 37435 37436 37438\n",
      " 37437 37439 37440 37441 37442 37443]\n",
      "\n",
      "assessment_type: ['TMA' 'CMA' 'Exam']\n",
      "\n"
     ]
    }
   ],
   "source": [
    "unique_vals(assessments)"
   ]
  },
  {
   "cell_type": "markdown",
   "id": "6b6c5f0f-bb08-49af-a523-546a159dffae",
   "metadata": {},
   "source": [
    "<b>Duplicate Values:</b>"
   ]
  },
  {
   "cell_type": "code",
   "execution_count": 149,
   "id": "193037fb-6b33-4002-9882-f92bfaa3d4fa",
   "metadata": {
    "tags": [
     "remove_input"
    ]
   },
   "outputs": [
    {
     "name": "stdout",
     "output_type": "stream",
     "text": [
      "No Duplicate Values\n"
     ]
    }
   ],
   "source": [
    "duplicate_vals(assessments)"
   ]
  },
  {
   "cell_type": "markdown",
   "id": "c2a3dea0-4249-4808-8990-a06002234ed8",
   "metadata": {},
   "source": [
    "<b>Statistics</b>"
   ]
  },
  {
   "cell_type": "code",
   "execution_count": 150,
   "id": "513daf4b-0bca-4c52-81b6-8dcf7cc46df0",
   "metadata": {},
   "outputs": [
    {
     "data": {
      "text/html": [
       "<div>\n",
       "<style scoped>\n",
       "    .dataframe tbody tr th:only-of-type {\n",
       "        vertical-align: middle;\n",
       "    }\n",
       "\n",
       "    .dataframe tbody tr th {\n",
       "        vertical-align: top;\n",
       "    }\n",
       "\n",
       "    .dataframe thead th {\n",
       "        text-align: right;\n",
       "    }\n",
       "</style>\n",
       "<table border=\"1\" class=\"dataframe\">\n",
       "  <thead>\n",
       "    <tr style=\"text-align: right;\">\n",
       "      <th></th>\n",
       "      <th>date_submitted</th>\n",
       "      <th>date</th>\n",
       "      <th>weight</th>\n",
       "      <th>score</th>\n",
       "    </tr>\n",
       "  </thead>\n",
       "  <tbody>\n",
       "    <tr>\n",
       "      <th>count</th>\n",
       "      <td>153528.000000</td>\n",
       "      <td>153528.000000</td>\n",
       "      <td>153528.000000</td>\n",
       "      <td>153528.000000</td>\n",
       "    </tr>\n",
       "    <tr>\n",
       "      <th>mean</th>\n",
       "      <td>117.590785</td>\n",
       "      <td>133.821622</td>\n",
       "      <td>12.810627</td>\n",
       "      <td>76.256943</td>\n",
       "    </tr>\n",
       "    <tr>\n",
       "      <th>std</th>\n",
       "      <td>70.647748</td>\n",
       "      <td>79.053746</td>\n",
       "      <td>18.040581</td>\n",
       "      <td>18.646354</td>\n",
       "    </tr>\n",
       "    <tr>\n",
       "      <th>min</th>\n",
       "      <td>-11.000000</td>\n",
       "      <td>12.000000</td>\n",
       "      <td>0.000000</td>\n",
       "      <td>0.000000</td>\n",
       "    </tr>\n",
       "    <tr>\n",
       "      <th>25%</th>\n",
       "      <td>52.000000</td>\n",
       "      <td>54.000000</td>\n",
       "      <td>0.000000</td>\n",
       "      <td>66.000000</td>\n",
       "    </tr>\n",
       "    <tr>\n",
       "      <th>50%</th>\n",
       "      <td>117.000000</td>\n",
       "      <td>131.000000</td>\n",
       "      <td>9.000000</td>\n",
       "      <td>80.000000</td>\n",
       "    </tr>\n",
       "    <tr>\n",
       "      <th>75%</th>\n",
       "      <td>173.000000</td>\n",
       "      <td>222.000000</td>\n",
       "      <td>18.000000</td>\n",
       "      <td>90.000000</td>\n",
       "    </tr>\n",
       "    <tr>\n",
       "      <th>max</th>\n",
       "      <td>594.000000</td>\n",
       "      <td>269.000000</td>\n",
       "      <td>100.000000</td>\n",
       "      <td>100.000000</td>\n",
       "    </tr>\n",
       "  </tbody>\n",
       "</table>\n",
       "</div>"
      ],
      "text/plain": [
       "       date_submitted           date         weight          score\n",
       "count   153528.000000  153528.000000  153528.000000  153528.000000\n",
       "mean       117.590785     133.821622      12.810627      76.256943\n",
       "std         70.647748      79.053746      18.040581      18.646354\n",
       "min        -11.000000      12.000000       0.000000       0.000000\n",
       "25%         52.000000      54.000000       0.000000      66.000000\n",
       "50%        117.000000     131.000000       9.000000      80.000000\n",
       "75%        173.000000     222.000000      18.000000      90.000000\n",
       "max        594.000000     269.000000     100.000000     100.000000"
      ]
     },
     "execution_count": 150,
     "metadata": {},
     "output_type": "execute_result"
    }
   ],
   "source": [
    "assessments.describe()"
   ]
  },
  {
   "cell_type": "code",
   "execution_count": 151,
   "id": "b49f5105-d385-4416-b487-5e8b679d8738",
   "metadata": {},
   "outputs": [],
   "source": [
    "assessments_final = assessments"
   ]
  },
  {
   "cell_type": "code",
   "execution_count": null,
   "id": "a50decc8-8eff-47a0-a4d1-2043844339c9",
   "metadata": {},
   "outputs": [],
   "source": []
  },
  {
   "cell_type": "code",
   "execution_count": null,
   "id": "c0d68571-6b1e-4b55-95b6-eb99e3aed969",
   "metadata": {},
   "outputs": [],
   "source": []
  }
 ],
 "metadata": {
  "kernelspec": {
   "display_name": "Python 3 (ipykernel)",
   "language": "python",
   "name": "python3"
  },
  "language_info": {
   "codemirror_mode": {
    "name": "ipython",
    "version": 3
   },
   "file_extension": ".py",
   "mimetype": "text/x-python",
   "name": "python",
   "nbconvert_exporter": "python",
   "pygments_lexer": "ipython3",
   "version": "3.9.5"
  }
 },
 "nbformat": 4,
 "nbformat_minor": 5
}
