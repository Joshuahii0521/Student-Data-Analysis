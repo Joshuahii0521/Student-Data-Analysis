{
 "cells": [
  {
   "cell_type": "code",
   "execution_count": 1,
   "id": "9bcb060c-b76b-4bf4-b110-906b4b9f9e07",
   "metadata": {
    "tags": [
     "remove-cell"
    ]
   },
   "outputs": [
    {
     "data": {
      "text/plain": [
       "''"
      ]
     },
     "execution_count": 1,
     "metadata": {},
     "output_type": "execute_result"
    }
   ],
   "source": [
    "from functions import *\n",
    "\n",
    "@register_cell_magic\n",
    "def markdown(line, cell):\n",
    "    return md(cell.format(**globals()))\n",
    "\n",
    ";"
   ]
  },
  {
   "cell_type": "markdown",
   "id": "fc1acb26-714c-4527-9345-0f8621a5ff4d",
   "metadata": {},
   "source": [
    "---\n",
    "\n",
    "<h2>Assessments and Student Assessments Dataframes</h2>"
   ]
  },
  {
   "cell_type": "markdown",
   "id": "b1617c86-2c53-43fa-be8b-3b3895c1e0c2",
   "metadata": {},
   "source": [
    "---\n",
    "\n",
    "<h3>Assessments</h3>"
   ]
  },
  {
   "cell_type": "markdown",
   "id": "c1ec2c79-d6f5-49c7-80df-edf5c0d7ae07",
   "metadata": {
    "tags": []
   },
   "source": [
    "The assessments dataframe contains information about the unique assessments in each code module and presentation."
   ]
  },
  {
   "cell_type": "code",
   "execution_count": 2,
   "id": "8e92fbec-277a-45e9-9850-4d2660311ff4",
   "metadata": {
    "tags": [
     "remove_input"
    ]
   },
   "outputs": [
    {
     "data": {
      "text/html": [
       "<div>\n",
       "<style scoped>\n",
       "    .dataframe tbody tr th:only-of-type {\n",
       "        vertical-align: middle;\n",
       "    }\n",
       "\n",
       "    .dataframe tbody tr th {\n",
       "        vertical-align: top;\n",
       "    }\n",
       "\n",
       "    .dataframe thead th {\n",
       "        text-align: right;\n",
       "    }\n",
       "</style>\n",
       "<table border=\"1\" class=\"dataframe\">\n",
       "  <thead>\n",
       "    <tr style=\"text-align: right;\">\n",
       "      <th></th>\n",
       "      <th>code_module</th>\n",
       "      <th>code_presentation</th>\n",
       "      <th>id_assessment</th>\n",
       "      <th>assessment_type</th>\n",
       "      <th>date</th>\n",
       "      <th>weight</th>\n",
       "    </tr>\n",
       "  </thead>\n",
       "  <tbody>\n",
       "    <tr>\n",
       "      <th>0</th>\n",
       "      <td>AAA</td>\n",
       "      <td>2013J</td>\n",
       "      <td>1752</td>\n",
       "      <td>TMA</td>\n",
       "      <td>19.0</td>\n",
       "      <td>10.0</td>\n",
       "    </tr>\n",
       "    <tr>\n",
       "      <th>1</th>\n",
       "      <td>AAA</td>\n",
       "      <td>2013J</td>\n",
       "      <td>1753</td>\n",
       "      <td>TMA</td>\n",
       "      <td>54.0</td>\n",
       "      <td>20.0</td>\n",
       "    </tr>\n",
       "    <tr>\n",
       "      <th>2</th>\n",
       "      <td>AAA</td>\n",
       "      <td>2013J</td>\n",
       "      <td>1754</td>\n",
       "      <td>TMA</td>\n",
       "      <td>117.0</td>\n",
       "      <td>20.0</td>\n",
       "    </tr>\n",
       "    <tr>\n",
       "      <th>3</th>\n",
       "      <td>AAA</td>\n",
       "      <td>2013J</td>\n",
       "      <td>1755</td>\n",
       "      <td>TMA</td>\n",
       "      <td>166.0</td>\n",
       "      <td>20.0</td>\n",
       "    </tr>\n",
       "    <tr>\n",
       "      <th>4</th>\n",
       "      <td>AAA</td>\n",
       "      <td>2013J</td>\n",
       "      <td>1756</td>\n",
       "      <td>TMA</td>\n",
       "      <td>215.0</td>\n",
       "      <td>30.0</td>\n",
       "    </tr>\n",
       "  </tbody>\n",
       "</table>\n",
       "</div>"
      ],
      "text/plain": [
       "  code_module code_presentation  id_assessment assessment_type   date  weight\n",
       "0         AAA             2013J           1752             TMA   19.0    10.0\n",
       "1         AAA             2013J           1753             TMA   54.0    20.0\n",
       "2         AAA             2013J           1754             TMA  117.0    20.0\n",
       "3         AAA             2013J           1755             TMA  166.0    20.0\n",
       "4         AAA             2013J           1756             TMA  215.0    30.0"
      ]
     },
     "execution_count": 2,
     "metadata": {},
     "output_type": "execute_result"
    }
   ],
   "source": [
    "assessments.head()"
   ]
  },
  {
   "cell_type": "markdown",
   "id": "59824f80-17e2-4660-acbb-e42304d9fce3",
   "metadata": {},
   "source": [
    "---\n",
    "\n",
    "<h4>Assessments Contents</h4>\n",
    "\n",
    "* <b>code_module</b>: The code module represents the code name of the course the assessment was held for.\n",
    "* <b>code_presentation</b>: The presentation represents the presentation which the test was held for.\n",
    "* <b>id_assessment</b>: The assessment ID is the unique identifier for each assessment.\n",
    "* <b>assessment_type</b>: The assessment type represents the kind of assessment it was.\n",
    "    - There are three assessment types:\n",
    "        * TMA: Tutor Marked Assessment\n",
    "        * CMA: Computer Marked Assessment\n",
    "        * Exam: The Final Exam\n",
    "* <b>date</b>: The date is how many days from the start of the course the assessment took place\n",
    "* <b>weight</b>: The weight is the weighted value of the assessment. Exams should have a weight of 100 which the rest of the assessments should add to 100 in total."
   ]
  },
  {
   "cell_type": "markdown",
   "id": "2f4301c7-b0c4-4f5c-8c29-4f60e412123f",
   "metadata": {},
   "source": [
    "---\n",
    "\n",
    "<h3>Student Assessments</h3>"
   ]
  },
  {
   "cell_type": "markdown",
   "id": "a2b95941-b268-4c44-bfbd-639ee3e4034e",
   "metadata": {},
   "source": [
    "The Student Assessments dataframe contains information about each student and the assessments they took during the module"
   ]
  },
  {
   "cell_type": "code",
   "execution_count": 3,
   "id": "c9cf2b18-60e4-4965-bafc-4bb1d831e7f9",
   "metadata": {
    "tags": [
     "remove_input"
    ]
   },
   "outputs": [
    {
     "data": {
      "text/html": [
       "<div>\n",
       "<style scoped>\n",
       "    .dataframe tbody tr th:only-of-type {\n",
       "        vertical-align: middle;\n",
       "    }\n",
       "\n",
       "    .dataframe tbody tr th {\n",
       "        vertical-align: top;\n",
       "    }\n",
       "\n",
       "    .dataframe thead th {\n",
       "        text-align: right;\n",
       "    }\n",
       "</style>\n",
       "<table border=\"1\" class=\"dataframe\">\n",
       "  <thead>\n",
       "    <tr style=\"text-align: right;\">\n",
       "      <th></th>\n",
       "      <th>id_assessment</th>\n",
       "      <th>id_student</th>\n",
       "      <th>date_submitted</th>\n",
       "      <th>is_banked</th>\n",
       "      <th>score</th>\n",
       "    </tr>\n",
       "  </thead>\n",
       "  <tbody>\n",
       "    <tr>\n",
       "      <th>0</th>\n",
       "      <td>1752</td>\n",
       "      <td>11391</td>\n",
       "      <td>18</td>\n",
       "      <td>0</td>\n",
       "      <td>78.0</td>\n",
       "    </tr>\n",
       "    <tr>\n",
       "      <th>1</th>\n",
       "      <td>1752</td>\n",
       "      <td>28400</td>\n",
       "      <td>22</td>\n",
       "      <td>0</td>\n",
       "      <td>70.0</td>\n",
       "    </tr>\n",
       "    <tr>\n",
       "      <th>2</th>\n",
       "      <td>1752</td>\n",
       "      <td>31604</td>\n",
       "      <td>17</td>\n",
       "      <td>0</td>\n",
       "      <td>72.0</td>\n",
       "    </tr>\n",
       "    <tr>\n",
       "      <th>3</th>\n",
       "      <td>1752</td>\n",
       "      <td>32885</td>\n",
       "      <td>26</td>\n",
       "      <td>0</td>\n",
       "      <td>69.0</td>\n",
       "    </tr>\n",
       "    <tr>\n",
       "      <th>4</th>\n",
       "      <td>1752</td>\n",
       "      <td>38053</td>\n",
       "      <td>19</td>\n",
       "      <td>0</td>\n",
       "      <td>79.0</td>\n",
       "    </tr>\n",
       "  </tbody>\n",
       "</table>\n",
       "</div>"
      ],
      "text/plain": [
       "   id_assessment  id_student  date_submitted  is_banked  score\n",
       "0           1752       11391              18          0   78.0\n",
       "1           1752       28400              22          0   70.0\n",
       "2           1752       31604              17          0   72.0\n",
       "3           1752       32885              26          0   69.0\n",
       "4           1752       38053              19          0   79.0"
      ]
     },
     "execution_count": 3,
     "metadata": {},
     "output_type": "execute_result"
    }
   ],
   "source": [
    "student_assessment.head()"
   ]
  },
  {
   "cell_type": "markdown",
   "id": "6ecc2137-eaa7-4e22-bf65-1b7868707fac",
   "metadata": {},
   "source": [
    "---\n",
    "\n",
    "<h4>Student Assessment Contents</h4>\n",
    "\n",
    "* <b>id_assessment</b>: The assessment ID is the unique identifier for the assessment the student took.\n",
    "* <b>id_student</b>: The student ID is the unique identifier for the student who took the assessment.\n",
    "* <b>date_submitted</b>: The date submitted is the date the student submitted the exam relevant to the start date of the module.\n",
    "* <b>is_banked</b>: Whether the score for the assessment is banked indicates wheter the assessment result was transferred from a previous presentation.\n",
    "    - is_banked does indicate that the student took the course previously, but since it is their first score that is retained it is not a confounder and entries with a 1 for is_banked will be kept.\n",
    "    - is_banked has no other relevant information though and so can be removed."
   ]
  },
  {
   "cell_type": "code",
   "execution_count": 4,
   "id": "202d12b6-e2d9-42ff-8cd9-865cb1b72cad",
   "metadata": {
    "tags": [
     "remove-cell"
    ]
   },
   "outputs": [],
   "source": [
    "# remove is_banked column from dataframe\n",
    "student_assessment = student_assessment.drop(columns=['is_banked'])"
   ]
  },
  {
   "cell_type": "markdown",
   "id": "3917330a-0c94-47a5-80bb-9f0a4a4fd1fc",
   "metadata": {},
   "source": [
    "```{note}\n",
    "Since we are only interested in information that is directly relevant to our students, and since assessments just contains extra information about our student assessments, we will merge the assessments and student_assessment dataframes.\n",
    "```"
   ]
  },
  {
   "cell_type": "markdown",
   "id": "cdc50bc2-6b9e-4a49-ba4a-58ae30df7145",
   "metadata": {},
   "source": [
    "---\n",
    "\n",
    "<h4>Assessments and Student Assessments Merged Dataframe:</h4>"
   ]
  },
  {
   "cell_type": "code",
   "execution_count": 5,
   "id": "5dbe7e22-ab4d-4438-89b9-aeb6c725a23d",
   "metadata": {
    "tags": [
     "remove_input"
    ]
   },
   "outputs": [
    {
     "data": {
      "text/html": [
       "<div>\n",
       "<style scoped>\n",
       "    .dataframe tbody tr th:only-of-type {\n",
       "        vertical-align: middle;\n",
       "    }\n",
       "\n",
       "    .dataframe tbody tr th {\n",
       "        vertical-align: top;\n",
       "    }\n",
       "\n",
       "    .dataframe thead th {\n",
       "        text-align: right;\n",
       "    }\n",
       "</style>\n",
       "<table border=\"1\" class=\"dataframe\">\n",
       "  <thead>\n",
       "    <tr style=\"text-align: right;\">\n",
       "      <th></th>\n",
       "      <th>id_assessment</th>\n",
       "      <th>id_student</th>\n",
       "      <th>date_submitted</th>\n",
       "      <th>score</th>\n",
       "      <th>code_module</th>\n",
       "      <th>code_presentation</th>\n",
       "      <th>assessment_type</th>\n",
       "      <th>date</th>\n",
       "      <th>weight</th>\n",
       "      <th>_merge</th>\n",
       "    </tr>\n",
       "  </thead>\n",
       "  <tbody>\n",
       "    <tr>\n",
       "      <th>0</th>\n",
       "      <td>1752</td>\n",
       "      <td>11391.0</td>\n",
       "      <td>18.0</td>\n",
       "      <td>78.0</td>\n",
       "      <td>AAA</td>\n",
       "      <td>2013J</td>\n",
       "      <td>TMA</td>\n",
       "      <td>19.0</td>\n",
       "      <td>10.0</td>\n",
       "      <td>both</td>\n",
       "    </tr>\n",
       "    <tr>\n",
       "      <th>1</th>\n",
       "      <td>1752</td>\n",
       "      <td>28400.0</td>\n",
       "      <td>22.0</td>\n",
       "      <td>70.0</td>\n",
       "      <td>AAA</td>\n",
       "      <td>2013J</td>\n",
       "      <td>TMA</td>\n",
       "      <td>19.0</td>\n",
       "      <td>10.0</td>\n",
       "      <td>both</td>\n",
       "    </tr>\n",
       "    <tr>\n",
       "      <th>2</th>\n",
       "      <td>1752</td>\n",
       "      <td>31604.0</td>\n",
       "      <td>17.0</td>\n",
       "      <td>72.0</td>\n",
       "      <td>AAA</td>\n",
       "      <td>2013J</td>\n",
       "      <td>TMA</td>\n",
       "      <td>19.0</td>\n",
       "      <td>10.0</td>\n",
       "      <td>both</td>\n",
       "    </tr>\n",
       "    <tr>\n",
       "      <th>3</th>\n",
       "      <td>1752</td>\n",
       "      <td>32885.0</td>\n",
       "      <td>26.0</td>\n",
       "      <td>69.0</td>\n",
       "      <td>AAA</td>\n",
       "      <td>2013J</td>\n",
       "      <td>TMA</td>\n",
       "      <td>19.0</td>\n",
       "      <td>10.0</td>\n",
       "      <td>both</td>\n",
       "    </tr>\n",
       "    <tr>\n",
       "      <th>4</th>\n",
       "      <td>1752</td>\n",
       "      <td>38053.0</td>\n",
       "      <td>19.0</td>\n",
       "      <td>79.0</td>\n",
       "      <td>AAA</td>\n",
       "      <td>2013J</td>\n",
       "      <td>TMA</td>\n",
       "      <td>19.0</td>\n",
       "      <td>10.0</td>\n",
       "      <td>both</td>\n",
       "    </tr>\n",
       "  </tbody>\n",
       "</table>\n",
       "</div>"
      ],
      "text/plain": [
       "   id_assessment  id_student  date_submitted  score code_module  \\\n",
       "0           1752     11391.0            18.0   78.0         AAA   \n",
       "1           1752     28400.0            22.0   70.0         AAA   \n",
       "2           1752     31604.0            17.0   72.0         AAA   \n",
       "3           1752     32885.0            26.0   69.0         AAA   \n",
       "4           1752     38053.0            19.0   79.0         AAA   \n",
       "\n",
       "  code_presentation assessment_type  date  weight _merge  \n",
       "0             2013J             TMA  19.0    10.0   both  \n",
       "1             2013J             TMA  19.0    10.0   both  \n",
       "2             2013J             TMA  19.0    10.0   both  \n",
       "3             2013J             TMA  19.0    10.0   both  \n",
       "4             2013J             TMA  19.0    10.0   both  "
      ]
     },
     "execution_count": 5,
     "metadata": {},
     "output_type": "execute_result"
    }
   ],
   "source": [
    "# merges dataframes student_assessment with assessments with a full outer join on their common ID id_assessment\n",
    "# creates a column _merge which tells you if the id_assessment was found in one or both dataframes\n",
    "merged_assessments = student_assessment.merge(assessments, how='outer', on=['id_assessment'] ,indicator=True)\n",
    "merged_assessments.head()"
   ]
  },
  {
   "cell_type": "markdown",
   "id": "3e0efb43-75b9-471f-835b-39a56275052a",
   "metadata": {},
   "source": [
    "* Our new merge column tells us if the data maps perfectly, or if it is only found on the right or left side, the right side being the assessments dataframe and the left side being the student_assessments dataframe"
   ]
  },
  {
   "cell_type": "markdown",
   "id": "3d2e42f8-bb1b-46f9-9adc-110457904188",
   "metadata": {},
   "source": [
    "<b>Rows that do not map:</b>"
   ]
  },
  {
   "cell_type": "code",
   "execution_count": 6,
   "id": "76ab299d-ba6e-4e3a-ba2c-5e74f388a292",
   "metadata": {
    "tags": [
     "remove_input"
    ]
   },
   "outputs": [
    {
     "data": {
      "text/html": [
       "<div>\n",
       "<style scoped>\n",
       "    .dataframe tbody tr th:only-of-type {\n",
       "        vertical-align: middle;\n",
       "    }\n",
       "\n",
       "    .dataframe tbody tr th {\n",
       "        vertical-align: top;\n",
       "    }\n",
       "\n",
       "    .dataframe thead th {\n",
       "        text-align: right;\n",
       "    }\n",
       "</style>\n",
       "<table border=\"1\" class=\"dataframe\">\n",
       "  <thead>\n",
       "    <tr style=\"text-align: right;\">\n",
       "      <th></th>\n",
       "      <th>id_assessment</th>\n",
       "      <th>id_student</th>\n",
       "      <th>date_submitted</th>\n",
       "      <th>score</th>\n",
       "      <th>code_module</th>\n",
       "      <th>code_presentation</th>\n",
       "      <th>assessment_type</th>\n",
       "      <th>date</th>\n",
       "      <th>weight</th>\n",
       "      <th>_merge</th>\n",
       "    </tr>\n",
       "  </thead>\n",
       "  <tbody>\n",
       "    <tr>\n",
       "      <th>173912</th>\n",
       "      <td>1757</td>\n",
       "      <td>NaN</td>\n",
       "      <td>NaN</td>\n",
       "      <td>NaN</td>\n",
       "      <td>AAA</td>\n",
       "      <td>2013J</td>\n",
       "      <td>Exam</td>\n",
       "      <td>NaN</td>\n",
       "      <td>100.0</td>\n",
       "      <td>right_only</td>\n",
       "    </tr>\n",
       "    <tr>\n",
       "      <th>173913</th>\n",
       "      <td>1763</td>\n",
       "      <td>NaN</td>\n",
       "      <td>NaN</td>\n",
       "      <td>NaN</td>\n",
       "      <td>AAA</td>\n",
       "      <td>2014J</td>\n",
       "      <td>Exam</td>\n",
       "      <td>NaN</td>\n",
       "      <td>100.0</td>\n",
       "      <td>right_only</td>\n",
       "    </tr>\n",
       "    <tr>\n",
       "      <th>173914</th>\n",
       "      <td>14990</td>\n",
       "      <td>NaN</td>\n",
       "      <td>NaN</td>\n",
       "      <td>NaN</td>\n",
       "      <td>BBB</td>\n",
       "      <td>2013B</td>\n",
       "      <td>Exam</td>\n",
       "      <td>NaN</td>\n",
       "      <td>100.0</td>\n",
       "      <td>right_only</td>\n",
       "    </tr>\n",
       "    <tr>\n",
       "      <th>173915</th>\n",
       "      <td>15002</td>\n",
       "      <td>NaN</td>\n",
       "      <td>NaN</td>\n",
       "      <td>NaN</td>\n",
       "      <td>BBB</td>\n",
       "      <td>2013J</td>\n",
       "      <td>Exam</td>\n",
       "      <td>NaN</td>\n",
       "      <td>100.0</td>\n",
       "      <td>right_only</td>\n",
       "    </tr>\n",
       "    <tr>\n",
       "      <th>173916</th>\n",
       "      <td>15014</td>\n",
       "      <td>NaN</td>\n",
       "      <td>NaN</td>\n",
       "      <td>NaN</td>\n",
       "      <td>BBB</td>\n",
       "      <td>2014B</td>\n",
       "      <td>Exam</td>\n",
       "      <td>NaN</td>\n",
       "      <td>100.0</td>\n",
       "      <td>right_only</td>\n",
       "    </tr>\n",
       "    <tr>\n",
       "      <th>173917</th>\n",
       "      <td>15025</td>\n",
       "      <td>NaN</td>\n",
       "      <td>NaN</td>\n",
       "      <td>NaN</td>\n",
       "      <td>BBB</td>\n",
       "      <td>2014J</td>\n",
       "      <td>Exam</td>\n",
       "      <td>NaN</td>\n",
       "      <td>100.0</td>\n",
       "      <td>right_only</td>\n",
       "    </tr>\n",
       "    <tr>\n",
       "      <th>173918</th>\n",
       "      <td>40087</td>\n",
       "      <td>NaN</td>\n",
       "      <td>NaN</td>\n",
       "      <td>NaN</td>\n",
       "      <td>CCC</td>\n",
       "      <td>2014B</td>\n",
       "      <td>Exam</td>\n",
       "      <td>NaN</td>\n",
       "      <td>100.0</td>\n",
       "      <td>right_only</td>\n",
       "    </tr>\n",
       "    <tr>\n",
       "      <th>173919</th>\n",
       "      <td>40088</td>\n",
       "      <td>NaN</td>\n",
       "      <td>NaN</td>\n",
       "      <td>NaN</td>\n",
       "      <td>CCC</td>\n",
       "      <td>2014J</td>\n",
       "      <td>Exam</td>\n",
       "      <td>NaN</td>\n",
       "      <td>100.0</td>\n",
       "      <td>right_only</td>\n",
       "    </tr>\n",
       "    <tr>\n",
       "      <th>173920</th>\n",
       "      <td>30713</td>\n",
       "      <td>NaN</td>\n",
       "      <td>NaN</td>\n",
       "      <td>NaN</td>\n",
       "      <td>EEE</td>\n",
       "      <td>2013J</td>\n",
       "      <td>Exam</td>\n",
       "      <td>235.0</td>\n",
       "      <td>100.0</td>\n",
       "      <td>right_only</td>\n",
       "    </tr>\n",
       "    <tr>\n",
       "      <th>173921</th>\n",
       "      <td>30718</td>\n",
       "      <td>NaN</td>\n",
       "      <td>NaN</td>\n",
       "      <td>NaN</td>\n",
       "      <td>EEE</td>\n",
       "      <td>2014B</td>\n",
       "      <td>Exam</td>\n",
       "      <td>228.0</td>\n",
       "      <td>100.0</td>\n",
       "      <td>right_only</td>\n",
       "    </tr>\n",
       "    <tr>\n",
       "      <th>173922</th>\n",
       "      <td>30723</td>\n",
       "      <td>NaN</td>\n",
       "      <td>NaN</td>\n",
       "      <td>NaN</td>\n",
       "      <td>EEE</td>\n",
       "      <td>2014J</td>\n",
       "      <td>Exam</td>\n",
       "      <td>235.0</td>\n",
       "      <td>100.0</td>\n",
       "      <td>right_only</td>\n",
       "    </tr>\n",
       "    <tr>\n",
       "      <th>173923</th>\n",
       "      <td>34872</td>\n",
       "      <td>NaN</td>\n",
       "      <td>NaN</td>\n",
       "      <td>NaN</td>\n",
       "      <td>FFF</td>\n",
       "      <td>2013B</td>\n",
       "      <td>Exam</td>\n",
       "      <td>222.0</td>\n",
       "      <td>100.0</td>\n",
       "      <td>right_only</td>\n",
       "    </tr>\n",
       "    <tr>\n",
       "      <th>173924</th>\n",
       "      <td>34885</td>\n",
       "      <td>NaN</td>\n",
       "      <td>NaN</td>\n",
       "      <td>NaN</td>\n",
       "      <td>FFF</td>\n",
       "      <td>2013J</td>\n",
       "      <td>Exam</td>\n",
       "      <td>236.0</td>\n",
       "      <td>100.0</td>\n",
       "      <td>right_only</td>\n",
       "    </tr>\n",
       "    <tr>\n",
       "      <th>173925</th>\n",
       "      <td>34898</td>\n",
       "      <td>NaN</td>\n",
       "      <td>NaN</td>\n",
       "      <td>NaN</td>\n",
       "      <td>FFF</td>\n",
       "      <td>2014B</td>\n",
       "      <td>Exam</td>\n",
       "      <td>227.0</td>\n",
       "      <td>100.0</td>\n",
       "      <td>right_only</td>\n",
       "    </tr>\n",
       "    <tr>\n",
       "      <th>173926</th>\n",
       "      <td>34911</td>\n",
       "      <td>NaN</td>\n",
       "      <td>NaN</td>\n",
       "      <td>NaN</td>\n",
       "      <td>FFF</td>\n",
       "      <td>2014J</td>\n",
       "      <td>Exam</td>\n",
       "      <td>241.0</td>\n",
       "      <td>100.0</td>\n",
       "      <td>right_only</td>\n",
       "    </tr>\n",
       "    <tr>\n",
       "      <th>173927</th>\n",
       "      <td>37424</td>\n",
       "      <td>NaN</td>\n",
       "      <td>NaN</td>\n",
       "      <td>NaN</td>\n",
       "      <td>GGG</td>\n",
       "      <td>2013J</td>\n",
       "      <td>Exam</td>\n",
       "      <td>229.0</td>\n",
       "      <td>100.0</td>\n",
       "      <td>right_only</td>\n",
       "    </tr>\n",
       "    <tr>\n",
       "      <th>173928</th>\n",
       "      <td>37434</td>\n",
       "      <td>NaN</td>\n",
       "      <td>NaN</td>\n",
       "      <td>NaN</td>\n",
       "      <td>GGG</td>\n",
       "      <td>2014B</td>\n",
       "      <td>Exam</td>\n",
       "      <td>222.0</td>\n",
       "      <td>100.0</td>\n",
       "      <td>right_only</td>\n",
       "    </tr>\n",
       "    <tr>\n",
       "      <th>173929</th>\n",
       "      <td>37444</td>\n",
       "      <td>NaN</td>\n",
       "      <td>NaN</td>\n",
       "      <td>NaN</td>\n",
       "      <td>GGG</td>\n",
       "      <td>2014J</td>\n",
       "      <td>Exam</td>\n",
       "      <td>229.0</td>\n",
       "      <td>100.0</td>\n",
       "      <td>right_only</td>\n",
       "    </tr>\n",
       "  </tbody>\n",
       "</table>\n",
       "</div>"
      ],
      "text/plain": [
       "        id_assessment  id_student  date_submitted  score code_module  \\\n",
       "173912           1757         NaN             NaN    NaN         AAA   \n",
       "173913           1763         NaN             NaN    NaN         AAA   \n",
       "173914          14990         NaN             NaN    NaN         BBB   \n",
       "173915          15002         NaN             NaN    NaN         BBB   \n",
       "173916          15014         NaN             NaN    NaN         BBB   \n",
       "173917          15025         NaN             NaN    NaN         BBB   \n",
       "173918          40087         NaN             NaN    NaN         CCC   \n",
       "173919          40088         NaN             NaN    NaN         CCC   \n",
       "173920          30713         NaN             NaN    NaN         EEE   \n",
       "173921          30718         NaN             NaN    NaN         EEE   \n",
       "173922          30723         NaN             NaN    NaN         EEE   \n",
       "173923          34872         NaN             NaN    NaN         FFF   \n",
       "173924          34885         NaN             NaN    NaN         FFF   \n",
       "173925          34898         NaN             NaN    NaN         FFF   \n",
       "173926          34911         NaN             NaN    NaN         FFF   \n",
       "173927          37424         NaN             NaN    NaN         GGG   \n",
       "173928          37434         NaN             NaN    NaN         GGG   \n",
       "173929          37444         NaN             NaN    NaN         GGG   \n",
       "\n",
       "       code_presentation assessment_type   date  weight      _merge  \n",
       "173912             2013J            Exam    NaN   100.0  right_only  \n",
       "173913             2014J            Exam    NaN   100.0  right_only  \n",
       "173914             2013B            Exam    NaN   100.0  right_only  \n",
       "173915             2013J            Exam    NaN   100.0  right_only  \n",
       "173916             2014B            Exam    NaN   100.0  right_only  \n",
       "173917             2014J            Exam    NaN   100.0  right_only  \n",
       "173918             2014B            Exam    NaN   100.0  right_only  \n",
       "173919             2014J            Exam    NaN   100.0  right_only  \n",
       "173920             2013J            Exam  235.0   100.0  right_only  \n",
       "173921             2014B            Exam  228.0   100.0  right_only  \n",
       "173922             2014J            Exam  235.0   100.0  right_only  \n",
       "173923             2013B            Exam  222.0   100.0  right_only  \n",
       "173924             2013J            Exam  236.0   100.0  right_only  \n",
       "173925             2014B            Exam  227.0   100.0  right_only  \n",
       "173926             2014J            Exam  241.0   100.0  right_only  \n",
       "173927             2013J            Exam  229.0   100.0  right_only  \n",
       "173928             2014B            Exam  222.0   100.0  right_only  \n",
       "173929             2014J            Exam  229.0   100.0  right_only  "
      ]
     },
     "execution_count": 6,
     "metadata": {},
     "output_type": "execute_result"
    }
   ],
   "source": [
    "merged_assessments.loc[merged_assessments['_merge'] != 'both']"
   ]
  },
  {
   "cell_type": "markdown",
   "id": "414e03f5-c9c1-4de5-9daf-13433a8fa860",
   "metadata": {},
   "source": [
    "These rows all have entries in the assessments dataframe but have no match in the student_assessment dataframe. This indicates that no students in our data took these exams, and so we will drop them, and then the merge column since it will have no more useful information."
   ]
  },
  {
   "cell_type": "code",
   "execution_count": 7,
   "id": "95868dda-8856-404c-aef0-05d1ee595ad2",
   "metadata": {
    "tags": [
     "remove-cell"
    ]
   },
   "outputs": [],
   "source": [
    "# remove tests that students did not take\n",
    "# reset the index to be consecutive again\n",
    "merged_assessments = merged_assessments.dropna(subset=['id_student']).reset_index(drop=True)\n",
    "\n",
    "\n"
   ]
  },
  {
   "cell_type": "code",
   "execution_count": 8,
   "id": "2e76431c-da1c-4845-bf76-4f6bec1749e5",
   "metadata": {
    "tags": [
     "remove-cell"
    ]
   },
   "outputs": [],
   "source": [
    "# drop the merge column since it is no longer of use\n",
    "merged_assessments = merged_assessments.drop(columns=['_merge']).reset_index(drop=True)"
   ]
  },
  {
   "cell_type": "markdown",
   "id": "e7657729-3dc9-4230-b20d-39ef7b63340a",
   "metadata": {},
   "source": [
    "---\n",
    "\n",
    "<h4>Testing Area"
   ]
  },
  {
   "cell_type": "code",
   "execution_count": 9,
   "id": "7b1b7a7b-6023-4abf-b143-7bab2b234f8d",
   "metadata": {},
   "outputs": [
    {
     "data": {
      "text/plain": [
       "173912"
      ]
     },
     "execution_count": 9,
     "metadata": {},
     "output_type": "execute_result"
    }
   ],
   "source": [
    "len(merged_assessments)"
   ]
  },
  {
   "cell_type": "code",
   "execution_count": 10,
   "id": "13b01d02-5b64-4b9a-a8be-ad1ee303b946",
   "metadata": {},
   "outputs": [
    {
     "data": {
      "text/html": [
       "<div>\n",
       "<style scoped>\n",
       "    .dataframe tbody tr th:only-of-type {\n",
       "        vertical-align: middle;\n",
       "    }\n",
       "\n",
       "    .dataframe tbody tr th {\n",
       "        vertical-align: top;\n",
       "    }\n",
       "\n",
       "    .dataframe thead th {\n",
       "        text-align: right;\n",
       "    }\n",
       "</style>\n",
       "<table border=\"1\" class=\"dataframe\">\n",
       "  <thead>\n",
       "    <tr style=\"text-align: right;\">\n",
       "      <th></th>\n",
       "      <th>id_assessment</th>\n",
       "      <th>id_student</th>\n",
       "      <th>date_submitted</th>\n",
       "      <th>score</th>\n",
       "    </tr>\n",
       "  </thead>\n",
       "  <tbody>\n",
       "    <tr>\n",
       "      <th>0</th>\n",
       "      <td>1752</td>\n",
       "      <td>11391</td>\n",
       "      <td>18</td>\n",
       "      <td>78.0</td>\n",
       "    </tr>\n",
       "    <tr>\n",
       "      <th>501</th>\n",
       "      <td>1753</td>\n",
       "      <td>11391</td>\n",
       "      <td>53</td>\n",
       "      <td>85.0</td>\n",
       "    </tr>\n",
       "    <tr>\n",
       "      <th>842</th>\n",
       "      <td>1754</td>\n",
       "      <td>11391</td>\n",
       "      <td>115</td>\n",
       "      <td>80.0</td>\n",
       "    </tr>\n",
       "    <tr>\n",
       "      <th>1032</th>\n",
       "      <td>1755</td>\n",
       "      <td>11391</td>\n",
       "      <td>164</td>\n",
       "      <td>85.0</td>\n",
       "    </tr>\n",
       "    <tr>\n",
       "      <th>1457</th>\n",
       "      <td>1756</td>\n",
       "      <td>11391</td>\n",
       "      <td>212</td>\n",
       "      <td>82.0</td>\n",
       "    </tr>\n",
       "  </tbody>\n",
       "</table>\n",
       "</div>"
      ],
      "text/plain": [
       "      id_assessment  id_student  date_submitted  score\n",
       "0              1752       11391              18   78.0\n",
       "501            1753       11391              53   85.0\n",
       "842            1754       11391             115   80.0\n",
       "1032           1755       11391             164   85.0\n",
       "1457           1756       11391             212   82.0"
      ]
     },
     "execution_count": 10,
     "metadata": {},
     "output_type": "execute_result"
    }
   ],
   "source": [
    "student_assessment.loc[student_assessment['id_student']==11391]"
   ]
  },
  {
   "cell_type": "code",
   "execution_count": 11,
   "id": "010fba50-7f05-4a10-9501-23b9141c7745",
   "metadata": {},
   "outputs": [
    {
     "data": {
      "text/html": [
       "<div>\n",
       "<style scoped>\n",
       "    .dataframe tbody tr th:only-of-type {\n",
       "        vertical-align: middle;\n",
       "    }\n",
       "\n",
       "    .dataframe tbody tr th {\n",
       "        vertical-align: top;\n",
       "    }\n",
       "\n",
       "    .dataframe thead th {\n",
       "        text-align: right;\n",
       "    }\n",
       "</style>\n",
       "<table border=\"1\" class=\"dataframe\">\n",
       "  <thead>\n",
       "    <tr style=\"text-align: right;\">\n",
       "      <th></th>\n",
       "      <th>id_assessment</th>\n",
       "      <th>id_student</th>\n",
       "      <th>date_submitted</th>\n",
       "      <th>score</th>\n",
       "      <th>code_module</th>\n",
       "      <th>code_presentation</th>\n",
       "      <th>assessment_type</th>\n",
       "      <th>date</th>\n",
       "      <th>weight</th>\n",
       "    </tr>\n",
       "  </thead>\n",
       "  <tbody>\n",
       "    <tr>\n",
       "      <th>0</th>\n",
       "      <td>1752</td>\n",
       "      <td>11391.0</td>\n",
       "      <td>18.0</td>\n",
       "      <td>78.0</td>\n",
       "      <td>AAA</td>\n",
       "      <td>2013J</td>\n",
       "      <td>TMA</td>\n",
       "      <td>19.0</td>\n",
       "      <td>10.0</td>\n",
       "    </tr>\n",
       "    <tr>\n",
       "      <th>1</th>\n",
       "      <td>1752</td>\n",
       "      <td>28400.0</td>\n",
       "      <td>22.0</td>\n",
       "      <td>70.0</td>\n",
       "      <td>AAA</td>\n",
       "      <td>2013J</td>\n",
       "      <td>TMA</td>\n",
       "      <td>19.0</td>\n",
       "      <td>10.0</td>\n",
       "    </tr>\n",
       "    <tr>\n",
       "      <th>2</th>\n",
       "      <td>1752</td>\n",
       "      <td>31604.0</td>\n",
       "      <td>17.0</td>\n",
       "      <td>72.0</td>\n",
       "      <td>AAA</td>\n",
       "      <td>2013J</td>\n",
       "      <td>TMA</td>\n",
       "      <td>19.0</td>\n",
       "      <td>10.0</td>\n",
       "    </tr>\n",
       "    <tr>\n",
       "      <th>3</th>\n",
       "      <td>1752</td>\n",
       "      <td>32885.0</td>\n",
       "      <td>26.0</td>\n",
       "      <td>69.0</td>\n",
       "      <td>AAA</td>\n",
       "      <td>2013J</td>\n",
       "      <td>TMA</td>\n",
       "      <td>19.0</td>\n",
       "      <td>10.0</td>\n",
       "    </tr>\n",
       "    <tr>\n",
       "      <th>4</th>\n",
       "      <td>1752</td>\n",
       "      <td>38053.0</td>\n",
       "      <td>19.0</td>\n",
       "      <td>79.0</td>\n",
       "      <td>AAA</td>\n",
       "      <td>2013J</td>\n",
       "      <td>TMA</td>\n",
       "      <td>19.0</td>\n",
       "      <td>10.0</td>\n",
       "    </tr>\n",
       "    <tr>\n",
       "      <th>...</th>\n",
       "      <td>...</td>\n",
       "      <td>...</td>\n",
       "      <td>...</td>\n",
       "      <td>...</td>\n",
       "      <td>...</td>\n",
       "      <td>...</td>\n",
       "      <td>...</td>\n",
       "      <td>...</td>\n",
       "      <td>...</td>\n",
       "    </tr>\n",
       "    <tr>\n",
       "      <th>3144</th>\n",
       "      <td>1762</td>\n",
       "      <td>2654628.0</td>\n",
       "      <td>216.0</td>\n",
       "      <td>74.0</td>\n",
       "      <td>AAA</td>\n",
       "      <td>2014J</td>\n",
       "      <td>TMA</td>\n",
       "      <td>215.0</td>\n",
       "      <td>30.0</td>\n",
       "    </tr>\n",
       "    <tr>\n",
       "      <th>3145</th>\n",
       "      <td>1762</td>\n",
       "      <td>2677624.0</td>\n",
       "      <td>215.0</td>\n",
       "      <td>79.0</td>\n",
       "      <td>AAA</td>\n",
       "      <td>2014J</td>\n",
       "      <td>TMA</td>\n",
       "      <td>215.0</td>\n",
       "      <td>30.0</td>\n",
       "    </tr>\n",
       "    <tr>\n",
       "      <th>3146</th>\n",
       "      <td>1762</td>\n",
       "      <td>2680312.0</td>\n",
       "      <td>220.0</td>\n",
       "      <td>85.0</td>\n",
       "      <td>AAA</td>\n",
       "      <td>2014J</td>\n",
       "      <td>TMA</td>\n",
       "      <td>215.0</td>\n",
       "      <td>30.0</td>\n",
       "    </tr>\n",
       "    <tr>\n",
       "      <th>3147</th>\n",
       "      <td>1762</td>\n",
       "      <td>2688166.0</td>\n",
       "      <td>214.0</td>\n",
       "      <td>46.0</td>\n",
       "      <td>AAA</td>\n",
       "      <td>2014J</td>\n",
       "      <td>TMA</td>\n",
       "      <td>215.0</td>\n",
       "      <td>30.0</td>\n",
       "    </tr>\n",
       "    <tr>\n",
       "      <th>3148</th>\n",
       "      <td>1762</td>\n",
       "      <td>2692514.0</td>\n",
       "      <td>215.0</td>\n",
       "      <td>74.0</td>\n",
       "      <td>AAA</td>\n",
       "      <td>2014J</td>\n",
       "      <td>TMA</td>\n",
       "      <td>215.0</td>\n",
       "      <td>30.0</td>\n",
       "    </tr>\n",
       "  </tbody>\n",
       "</table>\n",
       "<p>3149 rows × 9 columns</p>\n",
       "</div>"
      ],
      "text/plain": [
       "      id_assessment  id_student  date_submitted  score code_module  \\\n",
       "0              1752     11391.0            18.0   78.0         AAA   \n",
       "1              1752     28400.0            22.0   70.0         AAA   \n",
       "2              1752     31604.0            17.0   72.0         AAA   \n",
       "3              1752     32885.0            26.0   69.0         AAA   \n",
       "4              1752     38053.0            19.0   79.0         AAA   \n",
       "...             ...         ...             ...    ...         ...   \n",
       "3144           1762   2654628.0           216.0   74.0         AAA   \n",
       "3145           1762   2677624.0           215.0   79.0         AAA   \n",
       "3146           1762   2680312.0           220.0   85.0         AAA   \n",
       "3147           1762   2688166.0           214.0   46.0         AAA   \n",
       "3148           1762   2692514.0           215.0   74.0         AAA   \n",
       "\n",
       "     code_presentation assessment_type   date  weight  \n",
       "0                2013J             TMA   19.0    10.0  \n",
       "1                2013J             TMA   19.0    10.0  \n",
       "2                2013J             TMA   19.0    10.0  \n",
       "3                2013J             TMA   19.0    10.0  \n",
       "4                2013J             TMA   19.0    10.0  \n",
       "...                ...             ...    ...     ...  \n",
       "3144             2014J             TMA  215.0    30.0  \n",
       "3145             2014J             TMA  215.0    30.0  \n",
       "3146             2014J             TMA  215.0    30.0  \n",
       "3147             2014J             TMA  215.0    30.0  \n",
       "3148             2014J             TMA  215.0    30.0  \n",
       "\n",
       "[3149 rows x 9 columns]"
      ]
     },
     "execution_count": 11,
     "metadata": {},
     "output_type": "execute_result"
    }
   ],
   "source": [
    "merged_assessments.loc[merged_assessments['code_module'] == 'AAA']"
   ]
  },
  {
   "cell_type": "code",
   "execution_count": 12,
   "id": "d389a19f-dd13-4951-ab63-88e7d7396193",
   "metadata": {},
   "outputs": [],
   "source": [
    "assessments['module_presentation'] = assessments['code_module'] + assessments['code_presentation']\n",
    "merged_assessments['module_presentation'] = merged_assessments['code_module'] + merged_assessments['code_presentation']"
   ]
  },
  {
   "cell_type": "code",
   "execution_count": 13,
   "id": "4f2f145c-265b-4e8b-bbad-28620d59e2fb",
   "metadata": {},
   "outputs": [
    {
     "data": {
      "text/html": [
       "<div>\n",
       "<style scoped>\n",
       "    .dataframe tbody tr th:only-of-type {\n",
       "        vertical-align: middle;\n",
       "    }\n",
       "\n",
       "    .dataframe tbody tr th {\n",
       "        vertical-align: top;\n",
       "    }\n",
       "\n",
       "    .dataframe thead th {\n",
       "        text-align: right;\n",
       "    }\n",
       "</style>\n",
       "<table border=\"1\" class=\"dataframe\">\n",
       "  <thead>\n",
       "    <tr style=\"text-align: right;\">\n",
       "      <th></th>\n",
       "      <th>code_module</th>\n",
       "      <th>code_presentation</th>\n",
       "      <th>id_assessment</th>\n",
       "      <th>assessment_type</th>\n",
       "      <th>date</th>\n",
       "      <th>weight</th>\n",
       "      <th>module_presentation</th>\n",
       "    </tr>\n",
       "  </thead>\n",
       "  <tbody>\n",
       "    <tr>\n",
       "      <th>0</th>\n",
       "      <td>AAA</td>\n",
       "      <td>2013J</td>\n",
       "      <td>1752</td>\n",
       "      <td>TMA</td>\n",
       "      <td>19.0</td>\n",
       "      <td>10.0</td>\n",
       "      <td>AAA2013J</td>\n",
       "    </tr>\n",
       "    <tr>\n",
       "      <th>1</th>\n",
       "      <td>AAA</td>\n",
       "      <td>2013J</td>\n",
       "      <td>1753</td>\n",
       "      <td>TMA</td>\n",
       "      <td>54.0</td>\n",
       "      <td>20.0</td>\n",
       "      <td>AAA2013J</td>\n",
       "    </tr>\n",
       "    <tr>\n",
       "      <th>2</th>\n",
       "      <td>AAA</td>\n",
       "      <td>2013J</td>\n",
       "      <td>1754</td>\n",
       "      <td>TMA</td>\n",
       "      <td>117.0</td>\n",
       "      <td>20.0</td>\n",
       "      <td>AAA2013J</td>\n",
       "    </tr>\n",
       "    <tr>\n",
       "      <th>3</th>\n",
       "      <td>AAA</td>\n",
       "      <td>2013J</td>\n",
       "      <td>1755</td>\n",
       "      <td>TMA</td>\n",
       "      <td>166.0</td>\n",
       "      <td>20.0</td>\n",
       "      <td>AAA2013J</td>\n",
       "    </tr>\n",
       "    <tr>\n",
       "      <th>4</th>\n",
       "      <td>AAA</td>\n",
       "      <td>2013J</td>\n",
       "      <td>1756</td>\n",
       "      <td>TMA</td>\n",
       "      <td>215.0</td>\n",
       "      <td>30.0</td>\n",
       "      <td>AAA2013J</td>\n",
       "    </tr>\n",
       "    <tr>\n",
       "      <th>...</th>\n",
       "      <td>...</td>\n",
       "      <td>...</td>\n",
       "      <td>...</td>\n",
       "      <td>...</td>\n",
       "      <td>...</td>\n",
       "      <td>...</td>\n",
       "      <td>...</td>\n",
       "    </tr>\n",
       "    <tr>\n",
       "      <th>201</th>\n",
       "      <td>GGG</td>\n",
       "      <td>2014J</td>\n",
       "      <td>37443</td>\n",
       "      <td>CMA</td>\n",
       "      <td>229.0</td>\n",
       "      <td>0.0</td>\n",
       "      <td>GGG2014J</td>\n",
       "    </tr>\n",
       "    <tr>\n",
       "      <th>202</th>\n",
       "      <td>GGG</td>\n",
       "      <td>2014J</td>\n",
       "      <td>37435</td>\n",
       "      <td>TMA</td>\n",
       "      <td>61.0</td>\n",
       "      <td>0.0</td>\n",
       "      <td>GGG2014J</td>\n",
       "    </tr>\n",
       "    <tr>\n",
       "      <th>203</th>\n",
       "      <td>GGG</td>\n",
       "      <td>2014J</td>\n",
       "      <td>37436</td>\n",
       "      <td>TMA</td>\n",
       "      <td>124.0</td>\n",
       "      <td>0.0</td>\n",
       "      <td>GGG2014J</td>\n",
       "    </tr>\n",
       "    <tr>\n",
       "      <th>204</th>\n",
       "      <td>GGG</td>\n",
       "      <td>2014J</td>\n",
       "      <td>37437</td>\n",
       "      <td>TMA</td>\n",
       "      <td>173.0</td>\n",
       "      <td>0.0</td>\n",
       "      <td>GGG2014J</td>\n",
       "    </tr>\n",
       "    <tr>\n",
       "      <th>205</th>\n",
       "      <td>GGG</td>\n",
       "      <td>2014J</td>\n",
       "      <td>37444</td>\n",
       "      <td>Exam</td>\n",
       "      <td>229.0</td>\n",
       "      <td>100.0</td>\n",
       "      <td>GGG2014J</td>\n",
       "    </tr>\n",
       "  </tbody>\n",
       "</table>\n",
       "<p>206 rows × 7 columns</p>\n",
       "</div>"
      ],
      "text/plain": [
       "    code_module code_presentation  id_assessment assessment_type   date  \\\n",
       "0           AAA             2013J           1752             TMA   19.0   \n",
       "1           AAA             2013J           1753             TMA   54.0   \n",
       "2           AAA             2013J           1754             TMA  117.0   \n",
       "3           AAA             2013J           1755             TMA  166.0   \n",
       "4           AAA             2013J           1756             TMA  215.0   \n",
       "..          ...               ...            ...             ...    ...   \n",
       "201         GGG             2014J          37443             CMA  229.0   \n",
       "202         GGG             2014J          37435             TMA   61.0   \n",
       "203         GGG             2014J          37436             TMA  124.0   \n",
       "204         GGG             2014J          37437             TMA  173.0   \n",
       "205         GGG             2014J          37444            Exam  229.0   \n",
       "\n",
       "     weight module_presentation  \n",
       "0      10.0            AAA2013J  \n",
       "1      20.0            AAA2013J  \n",
       "2      20.0            AAA2013J  \n",
       "3      20.0            AAA2013J  \n",
       "4      30.0            AAA2013J  \n",
       "..      ...                 ...  \n",
       "201     0.0            GGG2014J  \n",
       "202     0.0            GGG2014J  \n",
       "203     0.0            GGG2014J  \n",
       "204     0.0            GGG2014J  \n",
       "205   100.0            GGG2014J  \n",
       "\n",
       "[206 rows x 7 columns]"
      ]
     },
     "execution_count": 13,
     "metadata": {},
     "output_type": "execute_result"
    }
   ],
   "source": [
    "assessments"
   ]
  },
  {
   "cell_type": "code",
   "execution_count": 14,
   "id": "6d55274b-24c7-4f68-988d-2839a14e4499",
   "metadata": {},
   "outputs": [
    {
     "data": {
      "text/html": [
       "<div>\n",
       "<style scoped>\n",
       "    .dataframe tbody tr th:only-of-type {\n",
       "        vertical-align: middle;\n",
       "    }\n",
       "\n",
       "    .dataframe tbody tr th {\n",
       "        vertical-align: top;\n",
       "    }\n",
       "\n",
       "    .dataframe thead th {\n",
       "        text-align: right;\n",
       "    }\n",
       "</style>\n",
       "<table border=\"1\" class=\"dataframe\">\n",
       "  <thead>\n",
       "    <tr style=\"text-align: right;\">\n",
       "      <th></th>\n",
       "      <th>id_assessment</th>\n",
       "      <th>id_student</th>\n",
       "      <th>date_submitted</th>\n",
       "      <th>score</th>\n",
       "      <th>code_module</th>\n",
       "      <th>code_presentation</th>\n",
       "      <th>assessment_type</th>\n",
       "      <th>date</th>\n",
       "      <th>weight</th>\n",
       "      <th>module_presentation</th>\n",
       "    </tr>\n",
       "  </thead>\n",
       "  <tbody>\n",
       "    <tr>\n",
       "      <th>0</th>\n",
       "      <td>1752</td>\n",
       "      <td>11391.0</td>\n",
       "      <td>18.0</td>\n",
       "      <td>78.0</td>\n",
       "      <td>AAA</td>\n",
       "      <td>2013J</td>\n",
       "      <td>TMA</td>\n",
       "      <td>19.0</td>\n",
       "      <td>10.0</td>\n",
       "      <td>AAA2013J</td>\n",
       "    </tr>\n",
       "    <tr>\n",
       "      <th>1</th>\n",
       "      <td>1752</td>\n",
       "      <td>28400.0</td>\n",
       "      <td>22.0</td>\n",
       "      <td>70.0</td>\n",
       "      <td>AAA</td>\n",
       "      <td>2013J</td>\n",
       "      <td>TMA</td>\n",
       "      <td>19.0</td>\n",
       "      <td>10.0</td>\n",
       "      <td>AAA2013J</td>\n",
       "    </tr>\n",
       "    <tr>\n",
       "      <th>2</th>\n",
       "      <td>1752</td>\n",
       "      <td>31604.0</td>\n",
       "      <td>17.0</td>\n",
       "      <td>72.0</td>\n",
       "      <td>AAA</td>\n",
       "      <td>2013J</td>\n",
       "      <td>TMA</td>\n",
       "      <td>19.0</td>\n",
       "      <td>10.0</td>\n",
       "      <td>AAA2013J</td>\n",
       "    </tr>\n",
       "    <tr>\n",
       "      <th>3</th>\n",
       "      <td>1752</td>\n",
       "      <td>32885.0</td>\n",
       "      <td>26.0</td>\n",
       "      <td>69.0</td>\n",
       "      <td>AAA</td>\n",
       "      <td>2013J</td>\n",
       "      <td>TMA</td>\n",
       "      <td>19.0</td>\n",
       "      <td>10.0</td>\n",
       "      <td>AAA2013J</td>\n",
       "    </tr>\n",
       "    <tr>\n",
       "      <th>4</th>\n",
       "      <td>1752</td>\n",
       "      <td>38053.0</td>\n",
       "      <td>19.0</td>\n",
       "      <td>79.0</td>\n",
       "      <td>AAA</td>\n",
       "      <td>2013J</td>\n",
       "      <td>TMA</td>\n",
       "      <td>19.0</td>\n",
       "      <td>10.0</td>\n",
       "      <td>AAA2013J</td>\n",
       "    </tr>\n",
       "    <tr>\n",
       "      <th>...</th>\n",
       "      <td>...</td>\n",
       "      <td>...</td>\n",
       "      <td>...</td>\n",
       "      <td>...</td>\n",
       "      <td>...</td>\n",
       "      <td>...</td>\n",
       "      <td>...</td>\n",
       "      <td>...</td>\n",
       "      <td>...</td>\n",
       "      <td>...</td>\n",
       "    </tr>\n",
       "    <tr>\n",
       "      <th>173907</th>\n",
       "      <td>37443</td>\n",
       "      <td>527538.0</td>\n",
       "      <td>227.0</td>\n",
       "      <td>60.0</td>\n",
       "      <td>GGG</td>\n",
       "      <td>2014J</td>\n",
       "      <td>CMA</td>\n",
       "      <td>229.0</td>\n",
       "      <td>0.0</td>\n",
       "      <td>GGG2014J</td>\n",
       "    </tr>\n",
       "    <tr>\n",
       "      <th>173908</th>\n",
       "      <td>37443</td>\n",
       "      <td>534672.0</td>\n",
       "      <td>229.0</td>\n",
       "      <td>100.0</td>\n",
       "      <td>GGG</td>\n",
       "      <td>2014J</td>\n",
       "      <td>CMA</td>\n",
       "      <td>229.0</td>\n",
       "      <td>0.0</td>\n",
       "      <td>GGG2014J</td>\n",
       "    </tr>\n",
       "    <tr>\n",
       "      <th>173909</th>\n",
       "      <td>37443</td>\n",
       "      <td>546286.0</td>\n",
       "      <td>215.0</td>\n",
       "      <td>80.0</td>\n",
       "      <td>GGG</td>\n",
       "      <td>2014J</td>\n",
       "      <td>CMA</td>\n",
       "      <td>229.0</td>\n",
       "      <td>0.0</td>\n",
       "      <td>GGG2014J</td>\n",
       "    </tr>\n",
       "    <tr>\n",
       "      <th>173910</th>\n",
       "      <td>37443</td>\n",
       "      <td>546724.0</td>\n",
       "      <td>230.0</td>\n",
       "      <td>100.0</td>\n",
       "      <td>GGG</td>\n",
       "      <td>2014J</td>\n",
       "      <td>CMA</td>\n",
       "      <td>229.0</td>\n",
       "      <td>0.0</td>\n",
       "      <td>GGG2014J</td>\n",
       "    </tr>\n",
       "    <tr>\n",
       "      <th>173911</th>\n",
       "      <td>37443</td>\n",
       "      <td>558486.0</td>\n",
       "      <td>224.0</td>\n",
       "      <td>80.0</td>\n",
       "      <td>GGG</td>\n",
       "      <td>2014J</td>\n",
       "      <td>CMA</td>\n",
       "      <td>229.0</td>\n",
       "      <td>0.0</td>\n",
       "      <td>GGG2014J</td>\n",
       "    </tr>\n",
       "  </tbody>\n",
       "</table>\n",
       "<p>173912 rows × 10 columns</p>\n",
       "</div>"
      ],
      "text/plain": [
       "        id_assessment  id_student  date_submitted  score code_module  \\\n",
       "0                1752     11391.0            18.0   78.0         AAA   \n",
       "1                1752     28400.0            22.0   70.0         AAA   \n",
       "2                1752     31604.0            17.0   72.0         AAA   \n",
       "3                1752     32885.0            26.0   69.0         AAA   \n",
       "4                1752     38053.0            19.0   79.0         AAA   \n",
       "...               ...         ...             ...    ...         ...   \n",
       "173907          37443    527538.0           227.0   60.0         GGG   \n",
       "173908          37443    534672.0           229.0  100.0         GGG   \n",
       "173909          37443    546286.0           215.0   80.0         GGG   \n",
       "173910          37443    546724.0           230.0  100.0         GGG   \n",
       "173911          37443    558486.0           224.0   80.0         GGG   \n",
       "\n",
       "       code_presentation assessment_type   date  weight module_presentation  \n",
       "0                  2013J             TMA   19.0    10.0            AAA2013J  \n",
       "1                  2013J             TMA   19.0    10.0            AAA2013J  \n",
       "2                  2013J             TMA   19.0    10.0            AAA2013J  \n",
       "3                  2013J             TMA   19.0    10.0            AAA2013J  \n",
       "4                  2013J             TMA   19.0    10.0            AAA2013J  \n",
       "...                  ...             ...    ...     ...                 ...  \n",
       "173907             2014J             CMA  229.0     0.0            GGG2014J  \n",
       "173908             2014J             CMA  229.0     0.0            GGG2014J  \n",
       "173909             2014J             CMA  229.0     0.0            GGG2014J  \n",
       "173910             2014J             CMA  229.0     0.0            GGG2014J  \n",
       "173911             2014J             CMA  229.0     0.0            GGG2014J  \n",
       "\n",
       "[173912 rows x 10 columns]"
      ]
     },
     "execution_count": 14,
     "metadata": {},
     "output_type": "execute_result"
    }
   ],
   "source": [
    "merged_assessments"
   ]
  },
  {
   "cell_type": "code",
   "execution_count": 15,
   "id": "c59f981e-0990-4381-935a-6d8408422e87",
   "metadata": {},
   "outputs": [
    {
     "data": {
      "text/html": [
       "<div>\n",
       "<style scoped>\n",
       "    .dataframe tbody tr th:only-of-type {\n",
       "        vertical-align: middle;\n",
       "    }\n",
       "\n",
       "    .dataframe tbody tr th {\n",
       "        vertical-align: top;\n",
       "    }\n",
       "\n",
       "    .dataframe thead th {\n",
       "        text-align: right;\n",
       "    }\n",
       "</style>\n",
       "<table border=\"1\" class=\"dataframe\">\n",
       "  <thead>\n",
       "    <tr style=\"text-align: right;\">\n",
       "      <th></th>\n",
       "      <th>code_module</th>\n",
       "      <th>code_presentation</th>\n",
       "      <th>id_assessment</th>\n",
       "      <th>assessment_type</th>\n",
       "      <th>date</th>\n",
       "      <th>weight</th>\n",
       "      <th>module_presentation</th>\n",
       "    </tr>\n",
       "  </thead>\n",
       "  <tbody>\n",
       "    <tr>\n",
       "      <th>0</th>\n",
       "      <td>AAA</td>\n",
       "      <td>2013J</td>\n",
       "      <td>1752</td>\n",
       "      <td>TMA</td>\n",
       "      <td>19.0</td>\n",
       "      <td>10.0</td>\n",
       "      <td>AAA2013J</td>\n",
       "    </tr>\n",
       "    <tr>\n",
       "      <th>1</th>\n",
       "      <td>AAA</td>\n",
       "      <td>2013J</td>\n",
       "      <td>1753</td>\n",
       "      <td>TMA</td>\n",
       "      <td>54.0</td>\n",
       "      <td>20.0</td>\n",
       "      <td>AAA2013J</td>\n",
       "    </tr>\n",
       "    <tr>\n",
       "      <th>2</th>\n",
       "      <td>AAA</td>\n",
       "      <td>2013J</td>\n",
       "      <td>1754</td>\n",
       "      <td>TMA</td>\n",
       "      <td>117.0</td>\n",
       "      <td>20.0</td>\n",
       "      <td>AAA2013J</td>\n",
       "    </tr>\n",
       "    <tr>\n",
       "      <th>3</th>\n",
       "      <td>AAA</td>\n",
       "      <td>2013J</td>\n",
       "      <td>1755</td>\n",
       "      <td>TMA</td>\n",
       "      <td>166.0</td>\n",
       "      <td>20.0</td>\n",
       "      <td>AAA2013J</td>\n",
       "    </tr>\n",
       "    <tr>\n",
       "      <th>4</th>\n",
       "      <td>AAA</td>\n",
       "      <td>2013J</td>\n",
       "      <td>1756</td>\n",
       "      <td>TMA</td>\n",
       "      <td>215.0</td>\n",
       "      <td>30.0</td>\n",
       "      <td>AAA2013J</td>\n",
       "    </tr>\n",
       "    <tr>\n",
       "      <th>5</th>\n",
       "      <td>AAA</td>\n",
       "      <td>2013J</td>\n",
       "      <td>1757</td>\n",
       "      <td>Exam</td>\n",
       "      <td>NaN</td>\n",
       "      <td>100.0</td>\n",
       "      <td>AAA2013J</td>\n",
       "    </tr>\n",
       "  </tbody>\n",
       "</table>\n",
       "</div>"
      ],
      "text/plain": [
       "  code_module code_presentation  id_assessment assessment_type   date  weight  \\\n",
       "0         AAA             2013J           1752             TMA   19.0    10.0   \n",
       "1         AAA             2013J           1753             TMA   54.0    20.0   \n",
       "2         AAA             2013J           1754             TMA  117.0    20.0   \n",
       "3         AAA             2013J           1755             TMA  166.0    20.0   \n",
       "4         AAA             2013J           1756             TMA  215.0    30.0   \n",
       "5         AAA             2013J           1757            Exam    NaN   100.0   \n",
       "\n",
       "  module_presentation  \n",
       "0            AAA2013J  \n",
       "1            AAA2013J  \n",
       "2            AAA2013J  \n",
       "3            AAA2013J  \n",
       "4            AAA2013J  \n",
       "5            AAA2013J  "
      ]
     },
     "execution_count": 15,
     "metadata": {},
     "output_type": "execute_result"
    }
   ],
   "source": [
    "assessments[assessments['module_presentation'] == 'AAA2013J']"
   ]
  },
  {
   "cell_type": "code",
   "execution_count": 16,
   "id": "f5df158d-f5b1-4dbf-86c8-2be4216cfc19",
   "metadata": {},
   "outputs": [
    {
     "data": {
      "text/html": [
       "<div>\n",
       "<style scoped>\n",
       "    .dataframe tbody tr th:only-of-type {\n",
       "        vertical-align: middle;\n",
       "    }\n",
       "\n",
       "    .dataframe tbody tr th {\n",
       "        vertical-align: top;\n",
       "    }\n",
       "\n",
       "    .dataframe thead th {\n",
       "        text-align: right;\n",
       "    }\n",
       "</style>\n",
       "<table border=\"1\" class=\"dataframe\">\n",
       "  <thead>\n",
       "    <tr style=\"text-align: right;\">\n",
       "      <th></th>\n",
       "      <th>id_assessment</th>\n",
       "      <th>id_student</th>\n",
       "      <th>date_submitted</th>\n",
       "      <th>score</th>\n",
       "      <th>code_module</th>\n",
       "      <th>code_presentation</th>\n",
       "      <th>assessment_type</th>\n",
       "      <th>date</th>\n",
       "      <th>weight</th>\n",
       "      <th>module_presentation</th>\n",
       "    </tr>\n",
       "  </thead>\n",
       "  <tbody>\n",
       "    <tr>\n",
       "      <th>0</th>\n",
       "      <td>1752</td>\n",
       "      <td>11391.0</td>\n",
       "      <td>18.0</td>\n",
       "      <td>78.0</td>\n",
       "      <td>AAA</td>\n",
       "      <td>2013J</td>\n",
       "      <td>TMA</td>\n",
       "      <td>19.0</td>\n",
       "      <td>10.0</td>\n",
       "      <td>AAA2013J</td>\n",
       "    </tr>\n",
       "    <tr>\n",
       "      <th>1</th>\n",
       "      <td>1752</td>\n",
       "      <td>28400.0</td>\n",
       "      <td>22.0</td>\n",
       "      <td>70.0</td>\n",
       "      <td>AAA</td>\n",
       "      <td>2013J</td>\n",
       "      <td>TMA</td>\n",
       "      <td>19.0</td>\n",
       "      <td>10.0</td>\n",
       "      <td>AAA2013J</td>\n",
       "    </tr>\n",
       "    <tr>\n",
       "      <th>2</th>\n",
       "      <td>1752</td>\n",
       "      <td>31604.0</td>\n",
       "      <td>17.0</td>\n",
       "      <td>72.0</td>\n",
       "      <td>AAA</td>\n",
       "      <td>2013J</td>\n",
       "      <td>TMA</td>\n",
       "      <td>19.0</td>\n",
       "      <td>10.0</td>\n",
       "      <td>AAA2013J</td>\n",
       "    </tr>\n",
       "    <tr>\n",
       "      <th>3</th>\n",
       "      <td>1752</td>\n",
       "      <td>32885.0</td>\n",
       "      <td>26.0</td>\n",
       "      <td>69.0</td>\n",
       "      <td>AAA</td>\n",
       "      <td>2013J</td>\n",
       "      <td>TMA</td>\n",
       "      <td>19.0</td>\n",
       "      <td>10.0</td>\n",
       "      <td>AAA2013J</td>\n",
       "    </tr>\n",
       "    <tr>\n",
       "      <th>4</th>\n",
       "      <td>1752</td>\n",
       "      <td>38053.0</td>\n",
       "      <td>19.0</td>\n",
       "      <td>79.0</td>\n",
       "      <td>AAA</td>\n",
       "      <td>2013J</td>\n",
       "      <td>TMA</td>\n",
       "      <td>19.0</td>\n",
       "      <td>10.0</td>\n",
       "      <td>AAA2013J</td>\n",
       "    </tr>\n",
       "    <tr>\n",
       "      <th>...</th>\n",
       "      <td>...</td>\n",
       "      <td>...</td>\n",
       "      <td>...</td>\n",
       "      <td>...</td>\n",
       "      <td>...</td>\n",
       "      <td>...</td>\n",
       "      <td>...</td>\n",
       "      <td>...</td>\n",
       "      <td>...</td>\n",
       "      <td>...</td>\n",
       "    </tr>\n",
       "    <tr>\n",
       "      <th>1628</th>\n",
       "      <td>1756</td>\n",
       "      <td>572652.0</td>\n",
       "      <td>215.0</td>\n",
       "      <td>76.0</td>\n",
       "      <td>AAA</td>\n",
       "      <td>2013J</td>\n",
       "      <td>TMA</td>\n",
       "      <td>215.0</td>\n",
       "      <td>30.0</td>\n",
       "      <td>AAA2013J</td>\n",
       "    </tr>\n",
       "    <tr>\n",
       "      <th>1629</th>\n",
       "      <td>1756</td>\n",
       "      <td>580389.0</td>\n",
       "      <td>215.0</td>\n",
       "      <td>67.0</td>\n",
       "      <td>AAA</td>\n",
       "      <td>2013J</td>\n",
       "      <td>TMA</td>\n",
       "      <td>215.0</td>\n",
       "      <td>30.0</td>\n",
       "      <td>AAA2013J</td>\n",
       "    </tr>\n",
       "    <tr>\n",
       "      <th>1630</th>\n",
       "      <td>1756</td>\n",
       "      <td>588775.0</td>\n",
       "      <td>213.0</td>\n",
       "      <td>81.0</td>\n",
       "      <td>AAA</td>\n",
       "      <td>2013J</td>\n",
       "      <td>TMA</td>\n",
       "      <td>215.0</td>\n",
       "      <td>30.0</td>\n",
       "      <td>AAA2013J</td>\n",
       "    </tr>\n",
       "    <tr>\n",
       "      <th>1631</th>\n",
       "      <td>1756</td>\n",
       "      <td>591774.0</td>\n",
       "      <td>215.0</td>\n",
       "      <td>60.0</td>\n",
       "      <td>AAA</td>\n",
       "      <td>2013J</td>\n",
       "      <td>TMA</td>\n",
       "      <td>215.0</td>\n",
       "      <td>30.0</td>\n",
       "      <td>AAA2013J</td>\n",
       "    </tr>\n",
       "    <tr>\n",
       "      <th>1632</th>\n",
       "      <td>1756</td>\n",
       "      <td>603861.0</td>\n",
       "      <td>222.0</td>\n",
       "      <td>71.0</td>\n",
       "      <td>AAA</td>\n",
       "      <td>2013J</td>\n",
       "      <td>TMA</td>\n",
       "      <td>215.0</td>\n",
       "      <td>30.0</td>\n",
       "      <td>AAA2013J</td>\n",
       "    </tr>\n",
       "  </tbody>\n",
       "</table>\n",
       "<p>1633 rows × 10 columns</p>\n",
       "</div>"
      ],
      "text/plain": [
       "      id_assessment  id_student  date_submitted  score code_module  \\\n",
       "0              1752     11391.0            18.0   78.0         AAA   \n",
       "1              1752     28400.0            22.0   70.0         AAA   \n",
       "2              1752     31604.0            17.0   72.0         AAA   \n",
       "3              1752     32885.0            26.0   69.0         AAA   \n",
       "4              1752     38053.0            19.0   79.0         AAA   \n",
       "...             ...         ...             ...    ...         ...   \n",
       "1628           1756    572652.0           215.0   76.0         AAA   \n",
       "1629           1756    580389.0           215.0   67.0         AAA   \n",
       "1630           1756    588775.0           213.0   81.0         AAA   \n",
       "1631           1756    591774.0           215.0   60.0         AAA   \n",
       "1632           1756    603861.0           222.0   71.0         AAA   \n",
       "\n",
       "     code_presentation assessment_type   date  weight module_presentation  \n",
       "0                2013J             TMA   19.0    10.0            AAA2013J  \n",
       "1                2013J             TMA   19.0    10.0            AAA2013J  \n",
       "2                2013J             TMA   19.0    10.0            AAA2013J  \n",
       "3                2013J             TMA   19.0    10.0            AAA2013J  \n",
       "4                2013J             TMA   19.0    10.0            AAA2013J  \n",
       "...                ...             ...    ...     ...                 ...  \n",
       "1628             2013J             TMA  215.0    30.0            AAA2013J  \n",
       "1629             2013J             TMA  215.0    30.0            AAA2013J  \n",
       "1630             2013J             TMA  215.0    30.0            AAA2013J  \n",
       "1631             2013J             TMA  215.0    30.0            AAA2013J  \n",
       "1632             2013J             TMA  215.0    30.0            AAA2013J  \n",
       "\n",
       "[1633 rows x 10 columns]"
      ]
     },
     "execution_count": 16,
     "metadata": {},
     "output_type": "execute_result"
    }
   ],
   "source": [
    "merged_assessments.loc[merged_assessments['module_presentation'] == 'AAA2013J']"
   ]
  },
  {
   "cell_type": "code",
   "execution_count": null,
   "id": "e2038d17-001c-436f-8501-a42b5b382c78",
   "metadata": {},
   "outputs": [
    {
     "name": "stdout",
     "output_type": "stream",
     "text": [
      "3607 rows appended\r"
     ]
    }
   ],
   "source": [
    "new_df = pd.DataFrame()\n",
    "count = 0\n",
    "# modules = ['AAA', 'BBB', 'CCC', 'DDD', 'EEE', 'FFF', 'GGG']\n",
    "# for x in modules:\n",
    "for index, row in merged_assessments.loc[merged_assessments['module_presentation'] == 'AAA2013J'].iterrows():\n",
    "    for i, r in assessments[assessments['module_presentation'] == 'AAA2013J'].iterrows():\n",
    "        if str(merged_assessments['module_presentation'][index]) == str(assessments['module_presentation'][i]):\n",
    "             if (assessments['id_assessment'][i]) not in (merged_assessments.loc[merged_assessments['id_student'] == merged_assessments['id_student'][index], 'id_assessment']):\n",
    "                new_df = new_df.append((row, r), ignore_index=True)\n",
    "                count += 1\n",
    "                print(f\"{count} rows appended\", end=\"\\r\")"
   ]
  },
  {
   "cell_type": "code",
   "execution_count": null,
   "id": "49de31d3-ac90-4e97-80cb-f9ffe10cc375",
   "metadata": {},
   "outputs": [],
   "source": [
    "merged_assessments.tail(20)"
   ]
  },
  {
   "cell_type": "markdown",
   "id": "8de5f19a-b5fc-46df-b9bf-22130c04447b",
   "metadata": {},
   "source": [
    "merged_assessmentsssessments Information</h4>\n",
    "\n",
    "<b>Updated Dataframe</b>"
   ]
  },
  {
   "cell_type": "code",
   "execution_count": null,
   "id": "878d0375-834d-47d2-8f90-c1617f99a34c",
   "metadata": {
    "tags": [
     "remove_input"
    ]
   },
   "outputs": [],
   "source": [
    "merged_assessments.head()"
   ]
  },
  {
   "cell_type": "markdown",
   "id": "766d6951-45d3-4cfa-b3a0-0c8f36d794fb",
   "metadata": {},
   "source": [
    "<b>Size</b>"
   ]
  },
  {
   "cell_type": "code",
   "execution_count": null,
   "id": "0035b3b3-b761-42ba-a649-a8c77e59564e",
   "metadata": {
    "tags": [
     "remove_input"
    ]
   },
   "outputs": [],
   "source": [
    "md(f'''* Number of Rows: {len(merged_assessments)}\n",
    "* Number of Columns: {len(merged_assessments.columns)}''')"
   ]
  },
  {
   "cell_type": "markdown",
   "id": "a748695b-f90b-4bf8-912f-d123585ff9f2",
   "metadata": {},
   "source": [
    "<b>Data Types</b>"
   ]
  },
  {
   "cell_type": "code",
   "execution_count": null,
   "id": "71fed38e-4597-4631-bd6e-78d5c82600ec",
   "metadata": {
    "tags": [
     "remove_input"
    ]
   },
   "outputs": [],
   "source": [
    "merged_assessments.dtypes"
   ]
  },
  {
   "cell_type": "markdown",
   "id": "b87836e4-b938-43dd-8e40-033ef284c4cc",
   "metadata": {},
   "source": [
    "* id_student and id_assessments are both categorical values and so should be converted to objects"
   ]
  },
  {
   "cell_type": "code",
   "execution_count": null,
   "id": "16bfc18e-6a1e-404f-bfaa-b5586296ee98",
   "metadata": {
    "tags": [
     "remove-cell"
    ]
   },
   "outputs": [],
   "source": [
    "# converting the data types\n",
    "merged_assessments = merged_assessments.astype({'id_assessment': int, 'id_student': int})\n",
    "merged_assessments = merged_assessments.astype({'id_assessment': object, 'id_student': object})"
   ]
  },
  {
   "cell_type": "markdown",
   "id": "f90bb93a-6076-4ecf-82a7-3b6f924e9f2d",
   "metadata": {},
   "source": [
    "<b>Null Values</b>"
   ]
  },
  {
   "cell_type": "code",
   "execution_count": null,
   "id": "a8c9b7b6-21ed-4033-a973-462dca7db7ec",
   "metadata": {
    "tags": [
     "remove_input"
    ]
   },
   "outputs": [],
   "source": [
    "# prints the sum of a columns null value\n",
    "merged_assessments.isnull().sum()"
   ]
  },
  {
   "cell_type": "markdown",
   "id": "06130a10-4837-432d-97d0-087edc8be19b",
   "metadata": {},
   "source": [
    "* We have 2,873 null data points for assessment date. The documentation of this dataset states that if the exam date is missing then it is as the end of the last presentation week. We can find this information in the courses dataframe."
   ]
  },
  {
   "cell_type": "code",
   "execution_count": null,
   "id": "f13a8942-82eb-468d-b3d1-132e8853158d",
   "metadata": {
    "tags": [
     "remove-cell"
    ]
   },
   "outputs": [],
   "source": [
    "# adding the dates for the null test dates\n",
    "for index, row in merged_assessments[merged_assessments['date'].isna()].iterrows():\n",
    "    merged_assessments.at[index, 'date'] = courses.loc[(courses['code_module'] == row['code_module']) & (courses['code_presentation'] == row['code_presentation']), 'module_presentation_length']\n",
    "\n",
    "# reprinting to ensure it worked\n",
    "merged_assessments.isnull().sum()"
   ]
  },
  {
   "cell_type": "markdown",
   "id": "4a6d5de9-8be9-4685-8035-97346ce88dca",
   "metadata": {},
   "source": [
    "* There are 173 null values for score. These records are, unfortunately not of much interest to us, since score is what we are trying to find the relationship for, and so we will discard them. This leaves us with no null data in assessments."
   ]
  },
  {
   "cell_type": "code",
   "execution_count": null,
   "id": "97d4c5f5-e3e6-4453-b548-09408917eb46",
   "metadata": {
    "tags": [
     "remove-cell"
    ]
   },
   "outputs": [],
   "source": [
    "# removes any entry where the score is NaN\n",
    "merged_assessments = merged_assessments.dropna(subset=['score'])\n",
    "\n",
    "# reprinting to ensure it worked\n",
    "merged_assessments.isnull().sum()"
   ]
  },
  {
   "cell_type": "markdown",
   "id": "79737c4f-e54d-4b4a-ae1c-7da3fe8a421b",
   "metadata": {},
   "source": [
    "<b>Merged Assessment/Student_info dataframes</b>"
   ]
  },
  {
   "cell_type": "markdown",
   "id": "e02b07c7-78b9-40ac-81ec-3b1fcf9aaf3f",
   "metadata": {},
   "source": [
    "In order to remove the students that we removed for the number of previous attempts, we must merge assessments and student info and find the difference"
   ]
  },
  {
   "cell_type": "code",
   "execution_count": null,
   "id": "1415babb-3164-4430-b130-f1baed32307b",
   "metadata": {
    "tags": [
     "remove_input"
    ]
   },
   "outputs": [],
   "source": [
    "# merged 'student info/assessments' with a full outer join on their common columns\n",
    "merged_si_assm = merged_assessments.merge(student_info, how='outer', on=['id_student', 'code_module', 'code_presentation'], indicator=True)\n",
    "merged_si_assm.head()"
   ]
  },
  {
   "cell_type": "markdown",
   "id": "b19d4ef0-eff1-4e47-aae5-bf260e4a6de5",
   "metadata": {},
   "source": [
    "For this merge column the right side would be the student info dataframe and the left side would be assessments. If an entry receives the label of right_only there is a student who has no assessments, if the label is left_only, there is an assessment that doesn't match up with a student."
   ]
  },
  {
   "cell_type": "code",
   "execution_count": null,
   "id": "cf5ad962-7e3a-4798-8cce-59647a781690",
   "metadata": {
    "tags": [
     "remove-cell"
    ]
   },
   "outputs": [],
   "source": [
    "# variable for where merge is left_only, and only found on the \n",
    "only_assessments = merged_si_assm.loc[merged_si_assm['_merge']=='left_only']\n",
    "only_student_info = merged_si_assm.loc[merged_si_assm['_merge']=='right_only']"
   ]
  },
  {
   "cell_type": "markdown",
   "id": "e9534013-73d6-44b9-8447-83d2a74e447b",
   "metadata": {},
   "source": [
    "<b>Assessments that do not map to students</b>:"
   ]
  },
  {
   "cell_type": "code",
   "execution_count": null,
   "id": "0b0f683e-be6a-4b52-b3bc-684f9c3a8271",
   "metadata": {
    "tags": [
     "remove_input"
    ]
   },
   "outputs": [],
   "source": [
    "only_assessments.head()"
   ]
  },
  {
   "cell_type": "markdown",
   "id": "e20b3939-7696-4721-8c51-f8b87d2ecbee",
   "metadata": {},
   "source": [
    "<b>Students without any test scores<b>:"
   ]
  },
  {
   "cell_type": "code",
   "execution_count": null,
   "id": "81417eee-e722-4d24-b351-6dfd8614d9bc",
   "metadata": {},
   "outputs": [],
   "source": [
    "only_student_info.head()"
   ]
  },
  {
   "cell_type": "code",
   "execution_count": null,
   "id": "1fccc36f-5ec6-4c15-8eac-77a017dc98db",
   "metadata": {
    "tags": [
     "remove_input"
    ]
   },
   "outputs": [],
   "source": [
    "md(f'''\n",
    "    We have {len(only_assessments)} values in only assessments, which map to students who had made previous attempts which we eliminated, and {len(only_student_info)} values in only student_info, which means we have students for whom we have no test scores.\n",
    "    We can drop both of these which are missing values for the purpose of this dataframe since we are just analyzing test scores\n",
    "    ''')"
   ]
  },
  {
   "cell_type": "code",
   "execution_count": null,
   "id": "1b118400-07c9-4c10-a707-da66ea528409",
   "metadata": {
    "tags": [
     "remove-cell"
    ]
   },
   "outputs": [],
   "source": [
    "# merging assessments with the original student data dataframe to make sure that the missing students are the ones we removed.\n",
    "merged_test = merged_assessments.merge(student_info, how='outer', on=['id_student', 'code_module', 'code_presentation'], indicator=True)\n",
    "\n",
    "# removing entries where num_prev_attempts == 0\n",
    "merged_test = merged_test[merged_test['num_of_prev_attempts'] == 0]\n",
    "\n",
    "# checking if any in only the student info dataframe remain (left_only). No output means all of the tests without students map to a student where num_prev_attempts == 0\n",
    "merged_test.loc[merged_test['_merge']=='left_only']"
   ]
  },
  {
   "cell_type": "code",
   "execution_count": null,
   "id": "6084ddc8-e024-4233-b4e1-323f5f036144",
   "metadata": {
    "tags": [
     "remove-cell"
    ]
   },
   "outputs": [],
   "source": [
    "# removing any student with NaN values in id_assessment or region\n",
    "merged_si_assm = merged_si_assm.dropna(subset=['id_assessment', 'region'])"
   ]
  },
  {
   "cell_type": "code",
   "execution_count": null,
   "id": "12a2ceee-46cd-476b-b3d0-c2ec51c81405",
   "metadata": {
    "tags": [
     "remove-cell"
    ]
   },
   "outputs": [],
   "source": [
    "# reordering dataframe columns to group like data\n",
    "merged_si_assm = merged_si_assm[['code_module', 'code_presentation', 'id_student', 'region', 'imd_band', 'age_band', 'gender', 'highest_education', 'disability', 'final_result', 'id_assessment', 'assessment_type', 'date_submitted', 'date', 'weight', 'score']]"
   ]
  },
  {
   "cell_type": "code",
   "execution_count": null,
   "id": "8929c3d0-7505-44c8-b16c-bf76f29e9fac",
   "metadata": {},
   "outputs": [],
   "source": [
    "# converting the data types back\n",
    "merged_si_assm = merged_si_assm.astype({'id_assessment': int, 'id_student': int})\n",
    "merged_si_assm = merged_si_assm.astype({'id_assessment': object, 'id_student': object})"
   ]
  },
  {
   "cell_type": "code",
   "execution_count": null,
   "id": "d9bcffd6-b31b-40b2-a742-c38a5de1274d",
   "metadata": {
    "tags": [
     "remove_input"
    ]
   },
   "outputs": [],
   "source": [
    "# reset the index\n",
    "merged_si_assm.reset_index(drop=True).head()"
   ]
  },
  {
   "cell_type": "code",
   "execution_count": null,
   "id": "70ad6983-2a0f-4947-9232-a5b767174f7d",
   "metadata": {},
   "outputs": [],
   "source": [
    "cleaned_assessments = merged_si_assm"
   ]
  },
  {
   "cell_type": "markdown",
   "id": "12a82008-f64a-4b36-b4df-8d0fe5cbcf21",
   "metadata": {},
   "source": [
    "<b>Unique Counts</b>"
   ]
  },
  {
   "cell_type": "code",
   "execution_count": null,
   "id": "fd2e029c-9dc3-442c-a150-097032cf18bc",
   "metadata": {
    "tags": [
     "remove_input"
    ]
   },
   "outputs": [],
   "source": [
    "cleaned_assessments.nunique()"
   ]
  },
  {
   "cell_type": "markdown",
   "id": "12b44979-f5b1-4122-923c-dca2d7dac7d3",
   "metadata": {},
   "source": [
    "<b>Unique Categorical Values</b>"
   ]
  },
  {
   "cell_type": "code",
   "execution_count": null,
   "id": "cc695273-72e6-4547-bde6-f870e75f850b",
   "metadata": {
    "tags": [
     "remove_input"
    ]
   },
   "outputs": [],
   "source": [
    "unique_vals(cleaned_assessments)"
   ]
  },
  {
   "cell_type": "markdown",
   "id": "6b6c5f0f-bb08-49af-a523-546a159dffae",
   "metadata": {},
   "source": [
    "<b>Duplicate Values:</b>"
   ]
  },
  {
   "cell_type": "code",
   "execution_count": null,
   "id": "193037fb-6b33-4002-9882-f92bfaa3d4fa",
   "metadata": {
    "tags": [
     "remove_input"
    ]
   },
   "outputs": [],
   "source": [
    "duplicate_vals(cleaned_assessments)"
   ]
  },
  {
   "cell_type": "markdown",
   "id": "c2a3dea0-4249-4808-8990-a06002234ed8",
   "metadata": {},
   "source": [
    "<b>Statistics</b>"
   ]
  },
  {
   "cell_type": "code",
   "execution_count": null,
   "id": "513daf4b-0bca-4c52-81b6-8dcf7cc46df0",
   "metadata": {},
   "outputs": [],
   "source": [
    "cleaned_assessments.describe()"
   ]
  },
  {
   "cell_type": "code",
   "execution_count": null,
   "id": "a50decc8-8eff-47a0-a4d1-2043844339c9",
   "metadata": {},
   "outputs": [],
   "source": [
    "cleaned_assessments"
   ]
  },
  {
   "cell_type": "code",
   "execution_count": null,
   "id": "1d6a98aa-2870-4376-a745-de447026fe85",
   "metadata": {
    "tags": []
   },
   "outputs": [],
   "source": [
    "assessments"
   ]
  },
  {
   "cell_type": "code",
   "execution_count": null,
   "id": "e8f17cb8-da13-4904-9722-ddb575807b9b",
   "metadata": {},
   "outputs": [],
   "source": [
    "cleaned_assessments.loc[cleaned_assessments['id_student'] == 11391, 'id_assessment']"
   ]
  },
  {
   "cell_type": "markdown",
   "id": "4cd7e44c-ce0d-4797-96df-793a3e5dfdfa",
   "metadata": {},
   "source": [
    "if a test id is in assessments in the same code module and presentation as a student is in:\n",
    "    if the test is already in the dataframe under that student id:\n",
    "        do nothing\n",
    "    else:\n",
    "        add the test with all the same student information, the assessment id, type, and weight to the dataframe"
   ]
  },
  {
   "cell_type": "code",
   "execution_count": null,
   "id": "dd7214fd-1209-4380-a1ec-05257f6a8f40",
   "metadata": {},
   "outputs": [],
   "source": [
    "count = 0\n",
    "\n",
    "# iterate through cleaned_assessments dataframe\n",
    "for i, r in assessments.iterrows():\n",
    "    for index, row in cleaned_assessments.iterrows():\n",
    "    # iterate through assessments dataframe\n",
    "    \n",
    "        # if the code module in cleaned_assessments is the same as the code_module in assessments\n",
    "        # convert to strings to compare\n",
    "        if str(cleaned_assessments['code_module'][index]) == str(assessments['code_module'][i]):\n",
    "            # if the code presentations are also the same\n",
    "            if str(cleaned_assessments['code_presentation'][index]) == str(assessments['code_presentation'][i]):\n",
    "                # if the assessment id is not found under that student append another row with that students information and the test they are missing\n",
    "                if assessments['id_assessment'][i] not in cleaned_assessments.loc[cleaned_assessments['id_student'] == cleaned_assessments['id_student'][index], 'id_assessment']:\n",
    "                    cleaned_assessments = cleaned_assessments.append([cleaned_assessments['code_module'][index], cleaned_assessments['code_presentation'][index], cleaned_assessments['id_student'][index], cleaned_assessments['region'][index], cleaned_assessments['imd_band'][index], cleaned_assessments['age_band'][index], cleaned_assessments['gender'][index], cleaned_assessments['highest_education'][index], cleaned_assessments['disability'][index], assessments['id_assessment'][i], assessments['assessment_type'][i], assessments['weight'][i]])\n",
    "                    count += 1\n",
    "                    print(f\"{count} rows appended\", end=\"\\r\")"
   ]
  },
  {
   "cell_type": "code",
   "execution_count": null,
   "id": "caaeba15-a0ff-4fd0-bef0-2794bd6c621b",
   "metadata": {},
   "outputs": [],
   "source": [
    "aggregates = { 'assessment_type':'first','weight':'sum'}\n",
    "assessments.groupby(['code_module','code_presentation']).aggregate(aggregates).reset_index()"
   ]
  },
  {
   "cell_type": "code",
   "execution_count": null,
   "id": "c0d68571-6b1e-4b55-95b6-eb99e3aed969",
   "metadata": {
    "tags": []
   },
   "outputs": [],
   "source": [
    "\n",
    "for index, row in cleaned_assessments.iterrows():\n",
    "    for i, r in assessments.iterrows():\n",
    "        if cleaned_assessments['code_module'][index] == assessments['code_module'][i]:\n",
    "            if cleaned_assessments['code_presentation'][index] == assessments['code_presentation'][i]:\n",
    "                cleaned_assessments.append([cleaned_assessments['code_module'][index], cleaned_assessments['code_presentation'][index], cleaned_assessments['id_student'][index], cleaned_assessments['region'][index], cleaned_assessments['imd_band'][index], cleaned_assessments['age_band'][index], cleaned_assessments['gender'][index], cleaned_assessments['highest_education'][index], cleaned_assessments['disability'][index], assessments['id_assessment'][i], assessments['assessment_type'][i], assessments['weight'][i]])\n",
    "                \n",
    "                "
   ]
  },
  {
   "cell_type": "code",
   "execution_count": null,
   "id": "68aab0f3-8c6f-4162-9a83-b01dd6327baf",
   "metadata": {},
   "outputs": [],
   "source": [
    "for index, row in cleaned_assessments.loc[cleaned_assessments['final_result'] == 'Withdrawn'].iterrows():\n",
    "    for i, r in assessments.iterrows():\n",
    "        if cleaned_assessments['code_module'][index] == assessments['code_module'][i]:\n",
    "            if cleaned_assessments['code_presentation'][index] == assessments['code_presentation'][i]:\n",
    "                cleaned_assessments.append([cleaned_assessments['code_module'][index], cleaned_assessments['code_presentation'][index], cleaned_assessments['id_student'][index], cleaned_assessments['region'][index], cleaned_assessments['imd_band'][index], cleaned_assessments['age_band'][index], cleaned_assessments['gender'][index], cleaned_assessments['highest_education'][index], cleaned_assessments['disability'][index], assessments['id_assessment'][i], assessments['assessment_type'][i], assessments['weight'][i]])"
   ]
  },
  {
   "cell_type": "code",
   "execution_count": null,
   "id": "05d77321-0f76-4fd3-b8c2-25219c05069f",
   "metadata": {},
   "outputs": [],
   "source": [
    "pd.concat(x for _, x in cleaned_assessments.groupby(\"id_assessment\") if len(x) > 1).head()"
   ]
  },
  {
   "cell_type": "code",
   "execution_count": null,
   "id": "daf5a371-81f8-4d0a-a638-3b17cc10a11f",
   "metadata": {},
   "outputs": [],
   "source": [
    "for i, r in assessments[student_info.loc['final_result'] == 'Withdrawn'].iterrows():\n",
    "        cleaned_assessments.append(courses.loc[(courses['code_module'] == row['code_module']) & (courses['code_presentation'] == row['code_presentation']), 'module_presentation_length']"
   ]
  },
  {
   "cell_type": "code",
   "execution_count": null,
   "id": "27a4f606-6be9-4039-afee-fbe93bb24064",
   "metadata": {},
   "outputs": [],
   "source": [
    "student_assessment"
   ]
  },
  {
   "cell_type": "code",
   "execution_count": null,
   "id": "c375f489-3597-46fb-9bc1-838d61a94aeb",
   "metadata": {},
   "outputs": [],
   "source": [
    "assessments"
   ]
  },
  {
   "cell_type": "code",
   "execution_count": null,
   "id": "df72cacf-d611-4e87-867f-5dd867c8d4f5",
   "metadata": {},
   "outputs": [],
   "source": [
    "cleaned_assessments"
   ]
  },
  {
   "cell_type": "code",
   "execution_count": null,
   "id": "301ad05e-59c8-4cd1-9cdd-000cb6949b22",
   "metadata": {},
   "outputs": [],
   "source": []
  },
  {
   "cell_type": "code",
   "execution_count": null,
   "id": "f9951ffd-67f7-4212-98e3-6606a7ac97b7",
   "metadata": {},
   "outputs": [],
   "source": [
    "for index, row in student_info.iterrows():\n",
    "    for i, r in assessments.iterrows():\n",
    "        if student_info['code_module'][index] == assessments['code_module'][i]:\n",
    "            if student_info['code_presentation'][index] == assessments['code_presentation'][i]:\n",
    "                new_df = new_df.append([student_info['code_module'][index], student_info['code_presentation'][index], student_info['id_student'][index], assessments['id_assessment'][i], assessments['assessment_type'][i], assessments['weight'][i]])\n",
    "                print(f\"{len(new_df)}/ rows appended\", end=\"\\r\")"
   ]
  }
 ],
 "metadata": {
  "kernelspec": {
   "display_name": "Python 3 (ipykernel)",
   "language": "python",
   "name": "python3"
  },
  "language_info": {
   "codemirror_mode": {
    "name": "ipython",
    "version": 3
   },
   "file_extension": ".py",
   "mimetype": "text/x-python",
   "name": "python",
   "nbconvert_exporter": "python",
   "pygments_lexer": "ipython3",
   "version": "3.9.5"
  }
 },
 "nbformat": 4,
 "nbformat_minor": 5
}
