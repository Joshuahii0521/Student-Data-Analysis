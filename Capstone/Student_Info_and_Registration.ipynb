{
 "cells": [
  {
   "cell_type": "code",
   "execution_count": 1,
   "id": "d548f977-55e4-499c-996c-5aa8070958b0",
   "metadata": {
    "tags": [
     "remove",
     "_cell"
    ]
   },
   "outputs": [],
   "source": [
    "from functions import *\n",
    "from ipynb.fs.full.Student_Info import student_info\n",
    "from ipynb.fs.full.Student_Registration import student_registration"
   ]
  },
  {
   "cell_type": "markdown",
   "id": "e5a14227-1aa2-445b-8c28-1dcf1751ca8b",
   "metadata": {},
   "source": [
    "<a id='StudentInfo'></a>\n",
    "\n",
    "# Student Info and Student Registration\n",
    "\n",
    "---"
   ]
  },
  {
   "cell_type": "markdown",
   "id": "4ce7e280-fb59-45fc-bd34-96c6a3132835",
   "metadata": {},
   "source": [
    "```{note}\n",
    "* The student registration dataframe matches 1:1 with the student_info dataframe only adding the date the student registered and the date, if applicable, they unregistered, and so we will merge these two dataframes\n",
    "* Though the number of previous attempts may be interesting to analyze on its own to see the relationship between students who had to take the course multiple times, and the differences in their behavior on the second or higher attempt, here we are only interested in students on their first attempt. The reason is that familiarity with course content is a confounding variable. Due to this we will remove students on their second or higher attempt. We will then remove num_prev_attempts since it will not contain any interesting data.\n",
    "* The dataframe columns can then be reordered to keep relevent data together. \n",
    "```"
   ]
  },
  {
   "cell_type": "code",
   "execution_count": 22,
   "id": "f69de1aa-f373-4ecb-9f00-dfbb7111edb2",
   "metadata": {
    "tags": [
     "remove"
    ]
   },
   "outputs": [],
   "source": [
    "# outer join and merge student info with student registration\n",
    "student_info_reg = student_info.merge(student_registration, how='outer', on=['code_module', 'code_presentation', 'id_student'], indicator=True)\n",
    "\n",
    "# locating where there is student info that did not match with student registration\n",
    "only_student_info = student_info_reg.loc[student_info_reg['_merge']=='left_only']\n",
    "# changing the student info dataframe to include only records where num_prev_attempts is \n",
    "# student_info_reg = student_info_reg[student_info_reg['num_of_prev_attempts'] == 0]\n",
    "\n"
   ]
  },
  {
   "cell_type": "markdown",
   "id": "99c5e274-8b18-41fc-9b1a-95b4bc1d4415",
   "metadata": {},
   "source": [
    "**Updated Dataframe**"
   ]
  },
  {
   "cell_type": "markdown",
   "id": "e1c02bf8-ecfc-49d9-9924-c845b53503a1",
   "metadata": {},
   "source": [
    "We removed the students that did not attend from student registration and so there will be students in student info who no longer map to a registration date in student registration"
   ]
  },
  {
   "cell_type": "code",
   "execution_count": 23,
   "id": "8d12462d-bbfe-4017-a50c-73431443d9fa",
   "metadata": {},
   "outputs": [
    {
     "data": {
      "text/html": [
       "<div>\n",
       "<style scoped>\n",
       "    .dataframe tbody tr th:only-of-type {\n",
       "        vertical-align: middle;\n",
       "    }\n",
       "\n",
       "    .dataframe tbody tr th {\n",
       "        vertical-align: top;\n",
       "    }\n",
       "\n",
       "    .dataframe thead th {\n",
       "        text-align: right;\n",
       "    }\n",
       "</style>\n",
       "<table border=\"1\" class=\"dataframe\">\n",
       "  <thead>\n",
       "    <tr style=\"text-align: right;\">\n",
       "      <th></th>\n",
       "      <th>code_module</th>\n",
       "      <th>code_presentation</th>\n",
       "      <th>id_student</th>\n",
       "      <th>gender</th>\n",
       "      <th>region</th>\n",
       "      <th>highest_education</th>\n",
       "      <th>imd_band</th>\n",
       "      <th>age_band</th>\n",
       "      <th>prev_attempts</th>\n",
       "      <th>studied_credits</th>\n",
       "      <th>disability</th>\n",
       "      <th>final_result</th>\n",
       "      <th>date_registration</th>\n",
       "      <th>date_unregistration</th>\n",
       "      <th>_merge</th>\n",
       "    </tr>\n",
       "  </thead>\n",
       "  <tbody>\n",
       "    <tr>\n",
       "      <th>0</th>\n",
       "      <td>AAA</td>\n",
       "      <td>2013J</td>\n",
       "      <td>11391</td>\n",
       "      <td>M</td>\n",
       "      <td>East Anglian Region</td>\n",
       "      <td>HE Qualification</td>\n",
       "      <td>90-100%</td>\n",
       "      <td>55&lt;=</td>\n",
       "      <td>0</td>\n",
       "      <td>240</td>\n",
       "      <td>False</td>\n",
       "      <td>Pass</td>\n",
       "      <td>-159</td>\n",
       "      <td>&lt;NA&gt;</td>\n",
       "      <td>both</td>\n",
       "    </tr>\n",
       "    <tr>\n",
       "      <th>1</th>\n",
       "      <td>AAA</td>\n",
       "      <td>2013J</td>\n",
       "      <td>28400</td>\n",
       "      <td>F</td>\n",
       "      <td>Scotland</td>\n",
       "      <td>HE Qualification</td>\n",
       "      <td>20-30%</td>\n",
       "      <td>35-55</td>\n",
       "      <td>0</td>\n",
       "      <td>60</td>\n",
       "      <td>False</td>\n",
       "      <td>Pass</td>\n",
       "      <td>-53</td>\n",
       "      <td>&lt;NA&gt;</td>\n",
       "      <td>both</td>\n",
       "    </tr>\n",
       "    <tr>\n",
       "      <th>2</th>\n",
       "      <td>AAA</td>\n",
       "      <td>2013J</td>\n",
       "      <td>30268</td>\n",
       "      <td>F</td>\n",
       "      <td>North Western Region</td>\n",
       "      <td>A Level or Equivalent</td>\n",
       "      <td>30-40%</td>\n",
       "      <td>35-55</td>\n",
       "      <td>0</td>\n",
       "      <td>60</td>\n",
       "      <td>True</td>\n",
       "      <td>Withdrawn</td>\n",
       "      <td>-92</td>\n",
       "      <td>12</td>\n",
       "      <td>both</td>\n",
       "    </tr>\n",
       "    <tr>\n",
       "      <th>3</th>\n",
       "      <td>AAA</td>\n",
       "      <td>2013J</td>\n",
       "      <td>31604</td>\n",
       "      <td>F</td>\n",
       "      <td>South East Region</td>\n",
       "      <td>A Level or Equivalent</td>\n",
       "      <td>50-60%</td>\n",
       "      <td>35-55</td>\n",
       "      <td>0</td>\n",
       "      <td>60</td>\n",
       "      <td>False</td>\n",
       "      <td>Pass</td>\n",
       "      <td>-52</td>\n",
       "      <td>&lt;NA&gt;</td>\n",
       "      <td>both</td>\n",
       "    </tr>\n",
       "    <tr>\n",
       "      <th>4</th>\n",
       "      <td>AAA</td>\n",
       "      <td>2013J</td>\n",
       "      <td>32885</td>\n",
       "      <td>F</td>\n",
       "      <td>West Midlands Region</td>\n",
       "      <td>Lower Than A Level</td>\n",
       "      <td>50-60%</td>\n",
       "      <td>0-35</td>\n",
       "      <td>0</td>\n",
       "      <td>60</td>\n",
       "      <td>False</td>\n",
       "      <td>Pass</td>\n",
       "      <td>-176</td>\n",
       "      <td>&lt;NA&gt;</td>\n",
       "      <td>both</td>\n",
       "    </tr>\n",
       "  </tbody>\n",
       "</table>\n",
       "</div>"
      ],
      "text/plain": [
       "  code_module code_presentation id_student gender                region  \\\n",
       "0         AAA             2013J      11391      M   East Anglian Region   \n",
       "1         AAA             2013J      28400      F              Scotland   \n",
       "2         AAA             2013J      30268      F  North Western Region   \n",
       "3         AAA             2013J      31604      F     South East Region   \n",
       "4         AAA             2013J      32885      F  West Midlands Region   \n",
       "\n",
       "       highest_education imd_band age_band  prev_attempts  studied_credits  \\\n",
       "0       HE Qualification  90-100%     55<=              0              240   \n",
       "1       HE Qualification   20-30%    35-55              0               60   \n",
       "2  A Level or Equivalent   30-40%    35-55              0               60   \n",
       "3  A Level or Equivalent   50-60%    35-55              0               60   \n",
       "4     Lower Than A Level   50-60%     0-35              0               60   \n",
       "\n",
       "   disability final_result  date_registration  date_unregistration _merge  \n",
       "0       False         Pass               -159                 <NA>   both  \n",
       "1       False         Pass                -53                 <NA>   both  \n",
       "2        True    Withdrawn                -92                   12   both  \n",
       "3       False         Pass                -52                 <NA>   both  \n",
       "4       False         Pass               -176                 <NA>   both  "
      ]
     },
     "execution_count": 23,
     "metadata": {},
     "output_type": "execute_result"
    }
   ],
   "source": [
    "student_info_reg.head()"
   ]
  },
  {
   "cell_type": "code",
   "execution_count": 24,
   "id": "c7b6121e-9b50-45bd-a2e8-a618e71266d6",
   "metadata": {
    "tags": [
     "remove_input"
    ]
   },
   "outputs": [
    {
     "data": {
      "text/html": [
       "<div>\n",
       "<style scoped>\n",
       "    .dataframe tbody tr th:only-of-type {\n",
       "        vertical-align: middle;\n",
       "    }\n",
       "\n",
       "    .dataframe tbody tr th {\n",
       "        vertical-align: top;\n",
       "    }\n",
       "\n",
       "    .dataframe thead th {\n",
       "        text-align: right;\n",
       "    }\n",
       "</style>\n",
       "<table border=\"1\" class=\"dataframe\">\n",
       "  <thead>\n",
       "    <tr style=\"text-align: right;\">\n",
       "      <th></th>\n",
       "      <th>code_module</th>\n",
       "      <th>code_presentation</th>\n",
       "      <th>id_student</th>\n",
       "      <th>gender</th>\n",
       "      <th>region</th>\n",
       "      <th>highest_education</th>\n",
       "      <th>imd_band</th>\n",
       "      <th>age_band</th>\n",
       "      <th>prev_attempts</th>\n",
       "      <th>studied_credits</th>\n",
       "      <th>disability</th>\n",
       "      <th>final_result</th>\n",
       "      <th>date_registration</th>\n",
       "      <th>date_unregistration</th>\n",
       "      <th>_merge</th>\n",
       "    </tr>\n",
       "  </thead>\n",
       "  <tbody>\n",
       "    <tr>\n",
       "      <th>125</th>\n",
       "      <td>AAA</td>\n",
       "      <td>2013J</td>\n",
       "      <td>292923</td>\n",
       "      <td>F</td>\n",
       "      <td>South East Region</td>\n",
       "      <td>A Level or Equivalent</td>\n",
       "      <td>90-100%</td>\n",
       "      <td>35-55</td>\n",
       "      <td>0</td>\n",
       "      <td>180</td>\n",
       "      <td>False</td>\n",
       "      <td>Withdrawn</td>\n",
       "      <td>&lt;NA&gt;</td>\n",
       "      <td>&lt;NA&gt;</td>\n",
       "      <td>left_only</td>\n",
       "    </tr>\n",
       "    <tr>\n",
       "      <th>136</th>\n",
       "      <td>AAA</td>\n",
       "      <td>2013J</td>\n",
       "      <td>305539</td>\n",
       "      <td>F</td>\n",
       "      <td>Wales</td>\n",
       "      <td>Lower Than A Level</td>\n",
       "      <td>80-90%</td>\n",
       "      <td>0-35</td>\n",
       "      <td>0</td>\n",
       "      <td>120</td>\n",
       "      <td>False</td>\n",
       "      <td>Withdrawn</td>\n",
       "      <td>&lt;NA&gt;</td>\n",
       "      <td>&lt;NA&gt;</td>\n",
       "      <td>left_only</td>\n",
       "    </tr>\n",
       "    <tr>\n",
       "      <th>198</th>\n",
       "      <td>AAA</td>\n",
       "      <td>2013J</td>\n",
       "      <td>405961</td>\n",
       "      <td>M</td>\n",
       "      <td>Scotland</td>\n",
       "      <td>A Level or Equivalent</td>\n",
       "      <td>90-100%</td>\n",
       "      <td>0-35</td>\n",
       "      <td>0</td>\n",
       "      <td>240</td>\n",
       "      <td>True</td>\n",
       "      <td>Withdrawn</td>\n",
       "      <td>&lt;NA&gt;</td>\n",
       "      <td>&lt;NA&gt;</td>\n",
       "      <td>left_only</td>\n",
       "    </tr>\n",
       "    <tr>\n",
       "      <th>256</th>\n",
       "      <td>AAA</td>\n",
       "      <td>2013J</td>\n",
       "      <td>1763015</td>\n",
       "      <td>F</td>\n",
       "      <td>Scotland</td>\n",
       "      <td>A Level or Equivalent</td>\n",
       "      <td>10-20%</td>\n",
       "      <td>35-55</td>\n",
       "      <td>0</td>\n",
       "      <td>60</td>\n",
       "      <td>False</td>\n",
       "      <td>Withdrawn</td>\n",
       "      <td>&lt;NA&gt;</td>\n",
       "      <td>&lt;NA&gt;</td>\n",
       "      <td>left_only</td>\n",
       "    </tr>\n",
       "    <tr>\n",
       "      <th>298</th>\n",
       "      <td>AAA</td>\n",
       "      <td>2013J</td>\n",
       "      <td>2318055</td>\n",
       "      <td>M</td>\n",
       "      <td>Wales</td>\n",
       "      <td>A Level or Equivalent</td>\n",
       "      <td>90-100%</td>\n",
       "      <td>35-55</td>\n",
       "      <td>0</td>\n",
       "      <td>60</td>\n",
       "      <td>False</td>\n",
       "      <td>Withdrawn</td>\n",
       "      <td>&lt;NA&gt;</td>\n",
       "      <td>&lt;NA&gt;</td>\n",
       "      <td>left_only</td>\n",
       "    </tr>\n",
       "  </tbody>\n",
       "</table>\n",
       "</div>"
      ],
      "text/plain": [
       "    code_module code_presentation id_student gender             region  \\\n",
       "125         AAA             2013J     292923      F  South East Region   \n",
       "136         AAA             2013J     305539      F              Wales   \n",
       "198         AAA             2013J     405961      M           Scotland   \n",
       "256         AAA             2013J    1763015      F           Scotland   \n",
       "298         AAA             2013J    2318055      M              Wales   \n",
       "\n",
       "         highest_education imd_band age_band  prev_attempts  studied_credits  \\\n",
       "125  A Level or Equivalent  90-100%    35-55              0              180   \n",
       "136     Lower Than A Level   80-90%     0-35              0              120   \n",
       "198  A Level or Equivalent  90-100%     0-35              0              240   \n",
       "256  A Level or Equivalent   10-20%    35-55              0               60   \n",
       "298  A Level or Equivalent  90-100%    35-55              0               60   \n",
       "\n",
       "     disability final_result  date_registration  date_unregistration  \\\n",
       "125       False    Withdrawn               <NA>                 <NA>   \n",
       "136       False    Withdrawn               <NA>                 <NA>   \n",
       "198        True    Withdrawn               <NA>                 <NA>   \n",
       "256       False    Withdrawn               <NA>                 <NA>   \n",
       "298       False    Withdrawn               <NA>                 <NA>   \n",
       "\n",
       "        _merge  \n",
       "125  left_only  \n",
       "136  left_only  \n",
       "198  left_only  \n",
       "256  left_only  \n",
       "298  left_only  "
      ]
     },
     "execution_count": 24,
     "metadata": {},
     "output_type": "execute_result"
    }
   ],
   "source": [
    "only_student_info.head()"
   ]
  },
  {
   "cell_type": "code",
   "execution_count": 25,
   "id": "b9812fb9-c3d0-4f94-8edf-eb2f1de43e75",
   "metadata": {
    "tags": [
     "remove_input"
    ]
   },
   "outputs": [
    {
     "data": {
      "text/markdown": [
       "\n",
       "* Here is a dataframe of the 3,097 students who we eliminated from student registration for not having attended the course.\n",
       "* Here we will eliminate those with left_only as a _merge value from the dataframe\n"
      ],
      "text/plain": [
       "<IPython.core.display.Markdown object>"
      ]
     },
     "execution_count": 25,
     "metadata": {},
     "output_type": "execute_result"
    }
   ],
   "source": [
    "md(f'''\n",
    "* Here is a dataframe of the {\"{:,}\".format(len(only_student_info))} students who we eliminated from student registration for not having attended the course.\n",
    "* Here we will eliminate those with left_only as a _merge value from the dataframe\n",
    "''')"
   ]
  },
  {
   "cell_type": "code",
   "execution_count": 26,
   "id": "13e7bd74-6287-41b7-973f-56a4e60711ca",
   "metadata": {},
   "outputs": [],
   "source": [
    "student_info_reg = student_info_reg[student_info_reg['_merge'] != 'left_only']"
   ]
  },
  {
   "cell_type": "code",
   "execution_count": 27,
   "id": "43805d05-0407-4806-aa1d-861e2ed45814",
   "metadata": {},
   "outputs": [],
   "source": [
    "### reordering the student_info dataframe to keep country, module and student data together\n",
    "student_info_reg = student_info_reg[['code_module', 'code_presentation', 'id_student', 'region', 'imd_band', 'age_band', 'gender', 'highest_education', 'disability', 'final_result', 'date_registration', 'date_unregistration']]"
   ]
  },
  {
   "cell_type": "code",
   "execution_count": 28,
   "id": "2df86315-9e1d-43ff-bd19-61d75510f622",
   "metadata": {
    "tags": [
     "remove_input"
    ]
   },
   "outputs": [
    {
     "data": {
      "text/html": [
       "<div>\n",
       "<style scoped>\n",
       "    .dataframe tbody tr th:only-of-type {\n",
       "        vertical-align: middle;\n",
       "    }\n",
       "\n",
       "    .dataframe tbody tr th {\n",
       "        vertical-align: top;\n",
       "    }\n",
       "\n",
       "    .dataframe thead th {\n",
       "        text-align: right;\n",
       "    }\n",
       "</style>\n",
       "<table border=\"1\" class=\"dataframe\">\n",
       "  <thead>\n",
       "    <tr style=\"text-align: right;\">\n",
       "      <th></th>\n",
       "      <th>code_module</th>\n",
       "      <th>code_presentation</th>\n",
       "      <th>id_student</th>\n",
       "      <th>region</th>\n",
       "      <th>imd_band</th>\n",
       "      <th>age_band</th>\n",
       "      <th>gender</th>\n",
       "      <th>highest_education</th>\n",
       "      <th>disability</th>\n",
       "      <th>final_result</th>\n",
       "      <th>date_registration</th>\n",
       "      <th>date_unregistration</th>\n",
       "    </tr>\n",
       "  </thead>\n",
       "  <tbody>\n",
       "    <tr>\n",
       "      <th>0</th>\n",
       "      <td>AAA</td>\n",
       "      <td>2013J</td>\n",
       "      <td>11391</td>\n",
       "      <td>East Anglian Region</td>\n",
       "      <td>90-100%</td>\n",
       "      <td>55&lt;=</td>\n",
       "      <td>M</td>\n",
       "      <td>HE Qualification</td>\n",
       "      <td>False</td>\n",
       "      <td>Pass</td>\n",
       "      <td>-159</td>\n",
       "      <td>&lt;NA&gt;</td>\n",
       "    </tr>\n",
       "    <tr>\n",
       "      <th>1</th>\n",
       "      <td>AAA</td>\n",
       "      <td>2013J</td>\n",
       "      <td>28400</td>\n",
       "      <td>Scotland</td>\n",
       "      <td>20-30%</td>\n",
       "      <td>35-55</td>\n",
       "      <td>F</td>\n",
       "      <td>HE Qualification</td>\n",
       "      <td>False</td>\n",
       "      <td>Pass</td>\n",
       "      <td>-53</td>\n",
       "      <td>&lt;NA&gt;</td>\n",
       "    </tr>\n",
       "    <tr>\n",
       "      <th>2</th>\n",
       "      <td>AAA</td>\n",
       "      <td>2013J</td>\n",
       "      <td>30268</td>\n",
       "      <td>North Western Region</td>\n",
       "      <td>30-40%</td>\n",
       "      <td>35-55</td>\n",
       "      <td>F</td>\n",
       "      <td>A Level or Equivalent</td>\n",
       "      <td>True</td>\n",
       "      <td>Withdrawn</td>\n",
       "      <td>-92</td>\n",
       "      <td>12</td>\n",
       "    </tr>\n",
       "    <tr>\n",
       "      <th>3</th>\n",
       "      <td>AAA</td>\n",
       "      <td>2013J</td>\n",
       "      <td>31604</td>\n",
       "      <td>South East Region</td>\n",
       "      <td>50-60%</td>\n",
       "      <td>35-55</td>\n",
       "      <td>F</td>\n",
       "      <td>A Level or Equivalent</td>\n",
       "      <td>False</td>\n",
       "      <td>Pass</td>\n",
       "      <td>-52</td>\n",
       "      <td>&lt;NA&gt;</td>\n",
       "    </tr>\n",
       "    <tr>\n",
       "      <th>4</th>\n",
       "      <td>AAA</td>\n",
       "      <td>2013J</td>\n",
       "      <td>32885</td>\n",
       "      <td>West Midlands Region</td>\n",
       "      <td>50-60%</td>\n",
       "      <td>0-35</td>\n",
       "      <td>F</td>\n",
       "      <td>Lower Than A Level</td>\n",
       "      <td>False</td>\n",
       "      <td>Pass</td>\n",
       "      <td>-176</td>\n",
       "      <td>&lt;NA&gt;</td>\n",
       "    </tr>\n",
       "  </tbody>\n",
       "</table>\n",
       "</div>"
      ],
      "text/plain": [
       "  code_module code_presentation id_student                region imd_band  \\\n",
       "0         AAA             2013J      11391   East Anglian Region  90-100%   \n",
       "1         AAA             2013J      28400              Scotland   20-30%   \n",
       "2         AAA             2013J      30268  North Western Region   30-40%   \n",
       "3         AAA             2013J      31604     South East Region   50-60%   \n",
       "4         AAA             2013J      32885  West Midlands Region   50-60%   \n",
       "\n",
       "  age_band gender      highest_education  disability final_result  \\\n",
       "0     55<=      M       HE Qualification       False         Pass   \n",
       "1    35-55      F       HE Qualification       False         Pass   \n",
       "2    35-55      F  A Level or Equivalent        True    Withdrawn   \n",
       "3    35-55      F  A Level or Equivalent       False         Pass   \n",
       "4     0-35      F     Lower Than A Level       False         Pass   \n",
       "\n",
       "   date_registration  date_unregistration  \n",
       "0               -159                 <NA>  \n",
       "1                -53                 <NA>  \n",
       "2                -92                   12  \n",
       "3                -52                 <NA>  \n",
       "4               -176                 <NA>  "
      ]
     },
     "execution_count": 28,
     "metadata": {},
     "output_type": "execute_result"
    }
   ],
   "source": [
    "# looking at our now merged dataframe\n",
    "student_info_reg.head()"
   ]
  },
  {
   "cell_type": "code",
   "execution_count": 29,
   "id": "ee706d71-4274-4a34-9449-6fc3f962873c",
   "metadata": {
    "tags": [
     "remove_input"
    ]
   },
   "outputs": [
    {
     "data": {
      "text/html": [
       "<div>\n",
       "<style scoped>\n",
       "    .dataframe tbody tr th:only-of-type {\n",
       "        vertical-align: middle;\n",
       "    }\n",
       "\n",
       "    .dataframe tbody tr th {\n",
       "        vertical-align: top;\n",
       "    }\n",
       "\n",
       "    .dataframe thead th {\n",
       "        text-align: right;\n",
       "    }\n",
       "</style>\n",
       "<table border=\"1\" class=\"dataframe\">\n",
       "  <thead>\n",
       "    <tr style=\"text-align: right;\">\n",
       "      <th></th>\n",
       "      <th>Count</th>\n",
       "    </tr>\n",
       "  </thead>\n",
       "  <tbody>\n",
       "    <tr>\n",
       "      <th>Columns</th>\n",
       "      <td>12</td>\n",
       "    </tr>\n",
       "    <tr>\n",
       "      <th>Rows</th>\n",
       "      <td>29496</td>\n",
       "    </tr>\n",
       "  </tbody>\n",
       "</table>\n",
       "</div>"
      ],
      "text/plain": [
       "         Count\n",
       "Columns     12\n",
       "Rows     29496"
      ]
     },
     "execution_count": 29,
     "metadata": {},
     "output_type": "execute_result"
    }
   ],
   "source": [
    "get_size(student_info_reg)"
   ]
  },
  {
   "cell_type": "code",
   "execution_count": 13,
   "id": "f5aace78-48dc-4328-aba9-26d30fd18dcb",
   "metadata": {
    "tags": [
     "remove_input"
    ]
   },
   "outputs": [],
   "source": [
    "# changing id_student to the object data type\n",
    "student_info_reg['id_student'] = student_info_reg['id_student'].astype(object)"
   ]
  },
  {
   "cell_type": "markdown",
   "id": "a9bff32a-0995-4135-87c7-195ee15cf083",
   "metadata": {},
   "source": [
    "**Null Values:**"
   ]
  },
  {
   "cell_type": "code",
   "execution_count": 31,
   "id": "d5afafad-68eb-462a-aadb-024459790296",
   "metadata": {
    "tags": [
     "remove_input"
    ]
   },
   "outputs": [
    {
     "data": {
      "text/plain": [
       "code_module                0\n",
       "code_presentation          0\n",
       "id_student                 0\n",
       "region                     0\n",
       "imd_band                1054\n",
       "age_band                   0\n",
       "gender                     0\n",
       "highest_education          0\n",
       "disability                 0\n",
       "final_result               0\n",
       "date_registration         10\n",
       "date_unregistration    22521\n",
       "dtype: int64"
      ]
     },
     "execution_count": 31,
     "metadata": {},
     "output_type": "execute_result"
    }
   ],
   "source": [
    "student_info_reg.isnull().sum()"
   ]
  },
  {
   "cell_type": "markdown",
   "id": "410a313c-e487-4301-83d3-d954a871a87e",
   "metadata": {},
   "source": [
    "* The imd_band variable has 990 null values which we may have to work around. \n",
    "* There are 19,809 null values for date_unregistration which represent the students that did not withdraw from the course.\n",
    "* We have 38 null values for date_registration, and no mention of this in the dataset documentation, so we will treat this as missing data."
   ]
  },
  {
   "cell_type": "markdown",
   "id": "22de507f-e475-4e22-afbd-dc3fd9393de5",
   "metadata": {},
   "source": [
    "**Unique Counts:**"
   ]
  },
  {
   "cell_type": "code",
   "execution_count": 34,
   "id": "8f2f48bf-d9fe-4964-8807-eda67574843c",
   "metadata": {
    "tags": [
     "remove_input"
    ]
   },
   "outputs": [
    {
     "data": {
      "text/html": [
       "<style type=\"text/css\">\n",
       "#T_e2f40_ td.col0 {\n",
       "  font-weight: bold;\n",
       "}\n",
       "</style>\n",
       "<table id=\"T_e2f40_\">\n",
       "  <thead>\n",
       "    <tr>\n",
       "      <th class=\"col_heading level0 col0\" >index</th>\n",
       "      <th class=\"col_heading level0 col1\" >Count</th>\n",
       "    </tr>\n",
       "  </thead>\n",
       "  <tbody>\n",
       "    <tr>\n",
       "      <td id=\"T_e2f40_row0_col0\" class=\"data row0 col0\" >code_module</td>\n",
       "      <td id=\"T_e2f40_row0_col1\" class=\"data row0 col1\" >7</td>\n",
       "    </tr>\n",
       "    <tr>\n",
       "      <td id=\"T_e2f40_row1_col0\" class=\"data row1 col0\" >code_presentation</td>\n",
       "      <td id=\"T_e2f40_row1_col1\" class=\"data row1 col1\" >4</td>\n",
       "    </tr>\n",
       "    <tr>\n",
       "      <td id=\"T_e2f40_row2_col0\" class=\"data row2 col0\" >id_student</td>\n",
       "      <td id=\"T_e2f40_row2_col1\" class=\"data row2 col1\" >26358</td>\n",
       "    </tr>\n",
       "    <tr>\n",
       "      <td id=\"T_e2f40_row3_col0\" class=\"data row3 col0\" >region</td>\n",
       "      <td id=\"T_e2f40_row3_col1\" class=\"data row3 col1\" >13</td>\n",
       "    </tr>\n",
       "    <tr>\n",
       "      <td id=\"T_e2f40_row4_col0\" class=\"data row4 col0\" >imd_band</td>\n",
       "      <td id=\"T_e2f40_row4_col1\" class=\"data row4 col1\" >10</td>\n",
       "    </tr>\n",
       "    <tr>\n",
       "      <td id=\"T_e2f40_row5_col0\" class=\"data row5 col0\" >age_band</td>\n",
       "      <td id=\"T_e2f40_row5_col1\" class=\"data row5 col1\" >3</td>\n",
       "    </tr>\n",
       "    <tr>\n",
       "      <td id=\"T_e2f40_row6_col0\" class=\"data row6 col0\" >gender</td>\n",
       "      <td id=\"T_e2f40_row6_col1\" class=\"data row6 col1\" >2</td>\n",
       "    </tr>\n",
       "    <tr>\n",
       "      <td id=\"T_e2f40_row7_col0\" class=\"data row7 col0\" >highest_education</td>\n",
       "      <td id=\"T_e2f40_row7_col1\" class=\"data row7 col1\" >5</td>\n",
       "    </tr>\n",
       "    <tr>\n",
       "      <td id=\"T_e2f40_row8_col0\" class=\"data row8 col0\" >disability</td>\n",
       "      <td id=\"T_e2f40_row8_col1\" class=\"data row8 col1\" >2</td>\n",
       "    </tr>\n",
       "    <tr>\n",
       "      <td id=\"T_e2f40_row9_col0\" class=\"data row9 col0\" >final_result</td>\n",
       "      <td id=\"T_e2f40_row9_col1\" class=\"data row9 col1\" >4</td>\n",
       "    </tr>\n",
       "    <tr>\n",
       "      <td id=\"T_e2f40_row10_col0\" class=\"data row10 col0\" >date_registration</td>\n",
       "      <td id=\"T_e2f40_row10_col1\" class=\"data row10 col1\" >317</td>\n",
       "    </tr>\n",
       "    <tr>\n",
       "      <td id=\"T_e2f40_row11_col0\" class=\"data row11 col0\" >date_unregistration</td>\n",
       "      <td id=\"T_e2f40_row11_col1\" class=\"data row11 col1\" >242</td>\n",
       "    </tr>\n",
       "  </tbody>\n",
       "</table>\n"
      ],
      "text/plain": [
       "<pandas.io.formats.style.Styler at 0x201af6ec0d0>"
      ]
     },
     "execution_count": 34,
     "metadata": {},
     "output_type": "execute_result"
    }
   ],
   "source": [
    "count_unique(student_info_reg)"
   ]
  },
  {
   "cell_type": "markdown",
   "id": "f24cab70-bc40-46f2-83e9-2c0e89601a44",
   "metadata": {},
   "source": [
    "**Unique Categorical Values**"
   ]
  },
  {
   "cell_type": "code",
   "execution_count": 35,
   "id": "1c0a70d4-b84f-4108-96b0-381d2f4646fd",
   "metadata": {
    "tags": [
     "remove_input"
    ]
   },
   "outputs": [
    {
     "data": {
      "text/html": [
       "<style type=\"text/css\">\n",
       "#T_857d7_ td.col0 {\n",
       "  font-weight: bold;\n",
       "}\n",
       "</style>\n",
       "<table id=\"T_857d7_\">\n",
       "  <thead>\n",
       "    <tr>\n",
       "      <th class=\"col_heading level0 col0\" >index</th>\n",
       "      <th class=\"col_heading level0 col1\" >Values</th>\n",
       "    </tr>\n",
       "  </thead>\n",
       "  <tbody>\n",
       "    <tr>\n",
       "      <td id=\"T_857d7_row0_col0\" class=\"data row0 col0\" >code_module</td>\n",
       "      <td id=\"T_857d7_row0_col1\" class=\"data row0 col1\" >['AAA', 'BBB', 'CCC', 'DDD', 'EEE', 'FFF', 'GGG']</td>\n",
       "    </tr>\n",
       "    <tr>\n",
       "      <td id=\"T_857d7_row1_col0\" class=\"data row1 col0\" >code_presentation</td>\n",
       "      <td id=\"T_857d7_row1_col1\" class=\"data row1 col1\" >['2013J', '2014J', '2013B', '2014B']</td>\n",
       "    </tr>\n",
       "    <tr>\n",
       "      <td id=\"T_857d7_row2_col0\" class=\"data row2 col0\" >region</td>\n",
       "      <td id=\"T_857d7_row2_col1\" class=\"data row2 col1\" >['East Anglian Region', 'Scotland', 'North Western Region', 'South East Region', 'West Midlands Region', 'Wales', 'North Region', 'South Region', 'Ireland', 'South West Region', 'East Midlands Region', 'Yorkshire Region', 'London Region']</td>\n",
       "    </tr>\n",
       "    <tr>\n",
       "      <td id=\"T_857d7_row3_col0\" class=\"data row3 col0\" >imd_band</td>\n",
       "      <td id=\"T_857d7_row3_col1\" class=\"data row3 col1\" >['90-100%', '20-30%', '30-40%', '50-60%', '80-90%', '70-80%', <NA>, '60-70%', '40-50%', '10-20%', '0-10%']</td>\n",
       "    </tr>\n",
       "    <tr>\n",
       "      <td id=\"T_857d7_row4_col0\" class=\"data row4 col0\" >age_band</td>\n",
       "      <td id=\"T_857d7_row4_col1\" class=\"data row4 col1\" >['55<=', '35-55', '0-35']</td>\n",
       "    </tr>\n",
       "    <tr>\n",
       "      <td id=\"T_857d7_row5_col0\" class=\"data row5 col0\" >gender</td>\n",
       "      <td id=\"T_857d7_row5_col1\" class=\"data row5 col1\" >['M', 'F']</td>\n",
       "    </tr>\n",
       "    <tr>\n",
       "      <td id=\"T_857d7_row6_col0\" class=\"data row6 col0\" >highest_education</td>\n",
       "      <td id=\"T_857d7_row6_col1\" class=\"data row6 col1\" >['HE Qualification', 'A Level or Equivalent', 'Lower Than A Level', 'Post Graduate Qualification', 'No Formal quals']</td>\n",
       "    </tr>\n",
       "    <tr>\n",
       "      <td id=\"T_857d7_row7_col0\" class=\"data row7 col0\" >final_result</td>\n",
       "      <td id=\"T_857d7_row7_col1\" class=\"data row7 col1\" >['Pass', 'Withdrawn', 'Fail', 'Distinction']</td>\n",
       "    </tr>\n",
       "  </tbody>\n",
       "</table>\n"
      ],
      "text/plain": [
       "<pandas.io.formats.style.Styler at 0x201ad880e20>"
      ]
     },
     "execution_count": 35,
     "metadata": {},
     "output_type": "execute_result"
    }
   ],
   "source": [
    "unique_vals(student_info_reg)"
   ]
  },
  {
   "cell_type": "markdown",
   "id": "3c7117eb-3a57-4735-b7c3-17b2101032c4",
   "metadata": {},
   "source": [
    "**Duplicate Values**"
   ]
  },
  {
   "cell_type": "code",
   "execution_count": 36,
   "id": "c6b0c86c-1eb9-47dc-ae26-04858b8b63dc",
   "metadata": {
    "tags": [
     "remove_input"
    ]
   },
   "outputs": [
    {
     "data": {
      "text/markdown": [
       "There are no Duplicate Values"
      ],
      "text/plain": [
       "<IPython.core.display.Markdown object>"
      ]
     },
     "execution_count": 36,
     "metadata": {},
     "output_type": "execute_result"
    }
   ],
   "source": [
    "get_dupes(student_info_reg)"
   ]
  },
  {
   "cell_type": "markdown",
   "id": "33021991-b346-4bee-9a22-d0eafed344de",
   "metadata": {},
   "source": [
    "**Statistics:**"
   ]
  },
  {
   "cell_type": "code",
   "execution_count": 41,
   "id": "92fb8a11-86e1-4936-8773-ba2c27a9738a",
   "metadata": {
    "tags": [
     "remove_input"
    ]
   },
   "outputs": [
    {
     "data": {
      "text/html": [
       "<div>\n",
       "<style scoped>\n",
       "    .dataframe tbody tr th:only-of-type {\n",
       "        vertical-align: middle;\n",
       "    }\n",
       "\n",
       "    .dataframe tbody tr th {\n",
       "        vertical-align: top;\n",
       "    }\n",
       "\n",
       "    .dataframe thead th {\n",
       "        text-align: right;\n",
       "    }\n",
       "</style>\n",
       "<table border=\"1\" class=\"dataframe\">\n",
       "  <thead>\n",
       "    <tr style=\"text-align: right;\">\n",
       "      <th></th>\n",
       "      <th>disability</th>\n",
       "      <th>date_registration</th>\n",
       "      <th>date_unregistration</th>\n",
       "    </tr>\n",
       "  </thead>\n",
       "  <tbody>\n",
       "    <tr>\n",
       "      <th>count</th>\n",
       "      <td>29496</td>\n",
       "      <td>29486.0</td>\n",
       "      <td>6975.0</td>\n",
       "    </tr>\n",
       "    <tr>\n",
       "      <th>unique</th>\n",
       "      <td>2</td>\n",
       "      <td>NaN</td>\n",
       "      <td>NaN</td>\n",
       "    </tr>\n",
       "    <tr>\n",
       "      <th>top</th>\n",
       "      <td>False</td>\n",
       "      <td>NaN</td>\n",
       "      <td>NaN</td>\n",
       "    </tr>\n",
       "    <tr>\n",
       "      <th>freq</th>\n",
       "      <td>26662</td>\n",
       "      <td>NaN</td>\n",
       "      <td>NaN</td>\n",
       "    </tr>\n",
       "    <tr>\n",
       "      <th>mean</th>\n",
       "      <td>NaN</td>\n",
       "      <td>-66.6</td>\n",
       "      <td>86.9</td>\n",
       "    </tr>\n",
       "    <tr>\n",
       "      <th>std</th>\n",
       "      <td>NaN</td>\n",
       "      <td>47.7</td>\n",
       "      <td>67.4</td>\n",
       "    </tr>\n",
       "    <tr>\n",
       "      <th>min</th>\n",
       "      <td>NaN</td>\n",
       "      <td>-311.0</td>\n",
       "      <td>1.0</td>\n",
       "    </tr>\n",
       "    <tr>\n",
       "      <th>25%</th>\n",
       "      <td>NaN</td>\n",
       "      <td>-95.0</td>\n",
       "      <td>26.0</td>\n",
       "    </tr>\n",
       "    <tr>\n",
       "      <th>50%</th>\n",
       "      <td>NaN</td>\n",
       "      <td>-53.0</td>\n",
       "      <td>73.0</td>\n",
       "    </tr>\n",
       "    <tr>\n",
       "      <th>75%</th>\n",
       "      <td>NaN</td>\n",
       "      <td>-29.0</td>\n",
       "      <td>142.0</td>\n",
       "    </tr>\n",
       "    <tr>\n",
       "      <th>max</th>\n",
       "      <td>NaN</td>\n",
       "      <td>167.0</td>\n",
       "      <td>444.0</td>\n",
       "    </tr>\n",
       "  </tbody>\n",
       "</table>\n",
       "</div>"
      ],
      "text/plain": [
       "       disability  date_registration  date_unregistration\n",
       "count       29496            29486.0               6975.0\n",
       "unique          2                NaN                  NaN\n",
       "top         False                NaN                  NaN\n",
       "freq        26662                NaN                  NaN\n",
       "mean          NaN              -66.6                 86.9\n",
       "std           NaN               47.7                 67.4\n",
       "min           NaN             -311.0                  1.0\n",
       "25%           NaN              -95.0                 26.0\n",
       "50%           NaN              -53.0                 73.0\n",
       "75%           NaN              -29.0                142.0\n",
       "max           NaN              167.0                444.0"
      ]
     },
     "execution_count": 41,
     "metadata": {},
     "output_type": "execute_result"
    }
   ],
   "source": [
    "student_info_reg.describe().round(1)"
   ]
  },
  {
   "cell_type": "code",
   "execution_count": 18,
   "id": "305e26ba-8279-44b2-b485-d6d9407836a7",
   "metadata": {
    "tags": [
     "remove_input"
    ]
   },
   "outputs": [
    {
     "data": {
      "text/html": [
       "<div>\n",
       "<style scoped>\n",
       "    .dataframe tbody tr th:only-of-type {\n",
       "        vertical-align: middle;\n",
       "    }\n",
       "\n",
       "    .dataframe tbody tr th {\n",
       "        vertical-align: top;\n",
       "    }\n",
       "\n",
       "    .dataframe thead th {\n",
       "        text-align: right;\n",
       "    }\n",
       "</style>\n",
       "<table border=\"1\" class=\"dataframe\">\n",
       "  <thead>\n",
       "    <tr style=\"text-align: right;\">\n",
       "      <th></th>\n",
       "      <th>code_module</th>\n",
       "      <th>code_presentation</th>\n",
       "      <th>id_student</th>\n",
       "      <th>region</th>\n",
       "      <th>imd_band</th>\n",
       "      <th>age_band</th>\n",
       "      <th>gender</th>\n",
       "      <th>highest_education</th>\n",
       "      <th>disability</th>\n",
       "      <th>final_result</th>\n",
       "      <th>date_registration</th>\n",
       "      <th>date_unregistration</th>\n",
       "    </tr>\n",
       "  </thead>\n",
       "  <tbody>\n",
       "    <tr>\n",
       "      <th>0</th>\n",
       "      <td>AAA</td>\n",
       "      <td>2013J</td>\n",
       "      <td>11391</td>\n",
       "      <td>East Anglian Region</td>\n",
       "      <td>90-100%</td>\n",
       "      <td>55&lt;=</td>\n",
       "      <td>M</td>\n",
       "      <td>HE Qualification</td>\n",
       "      <td>N</td>\n",
       "      <td>Pass</td>\n",
       "      <td>-159.0</td>\n",
       "      <td>NaN</td>\n",
       "    </tr>\n",
       "    <tr>\n",
       "      <th>1</th>\n",
       "      <td>AAA</td>\n",
       "      <td>2013J</td>\n",
       "      <td>28400</td>\n",
       "      <td>Scotland</td>\n",
       "      <td>20-30%</td>\n",
       "      <td>35-55</td>\n",
       "      <td>F</td>\n",
       "      <td>HE Qualification</td>\n",
       "      <td>N</td>\n",
       "      <td>Pass</td>\n",
       "      <td>-53.0</td>\n",
       "      <td>NaN</td>\n",
       "    </tr>\n",
       "    <tr>\n",
       "      <th>2</th>\n",
       "      <td>AAA</td>\n",
       "      <td>2013J</td>\n",
       "      <td>30268</td>\n",
       "      <td>North Western Region</td>\n",
       "      <td>30-40%</td>\n",
       "      <td>35-55</td>\n",
       "      <td>F</td>\n",
       "      <td>A Level or Equivalent</td>\n",
       "      <td>Y</td>\n",
       "      <td>Withdrawn</td>\n",
       "      <td>-92.0</td>\n",
       "      <td>12.0</td>\n",
       "    </tr>\n",
       "    <tr>\n",
       "      <th>3</th>\n",
       "      <td>AAA</td>\n",
       "      <td>2013J</td>\n",
       "      <td>31604</td>\n",
       "      <td>South East Region</td>\n",
       "      <td>50-60%</td>\n",
       "      <td>35-55</td>\n",
       "      <td>F</td>\n",
       "      <td>A Level or Equivalent</td>\n",
       "      <td>N</td>\n",
       "      <td>Pass</td>\n",
       "      <td>-52.0</td>\n",
       "      <td>NaN</td>\n",
       "    </tr>\n",
       "    <tr>\n",
       "      <th>4</th>\n",
       "      <td>AAA</td>\n",
       "      <td>2013J</td>\n",
       "      <td>32885</td>\n",
       "      <td>West Midlands Region</td>\n",
       "      <td>50-60%</td>\n",
       "      <td>0-35</td>\n",
       "      <td>F</td>\n",
       "      <td>Lower Than A Level</td>\n",
       "      <td>N</td>\n",
       "      <td>Pass</td>\n",
       "      <td>-176.0</td>\n",
       "      <td>NaN</td>\n",
       "    </tr>\n",
       "  </tbody>\n",
       "</table>\n",
       "</div>"
      ],
      "text/plain": [
       "  code_module code_presentation id_student                region imd_band  \\\n",
       "0         AAA             2013J      11391   East Anglian Region  90-100%   \n",
       "1         AAA             2013J      28400              Scotland   20-30%   \n",
       "2         AAA             2013J      30268  North Western Region   30-40%   \n",
       "3         AAA             2013J      31604     South East Region   50-60%   \n",
       "4         AAA             2013J      32885  West Midlands Region   50-60%   \n",
       "\n",
       "  age_band gender      highest_education disability final_result  \\\n",
       "0     55<=      M       HE Qualification          N         Pass   \n",
       "1    35-55      F       HE Qualification          N         Pass   \n",
       "2    35-55      F  A Level or Equivalent          Y    Withdrawn   \n",
       "3    35-55      F  A Level or Equivalent          N         Pass   \n",
       "4     0-35      F     Lower Than A Level          N         Pass   \n",
       "\n",
       "   date_registration  date_unregistration  \n",
       "0             -159.0                  NaN  \n",
       "1              -53.0                  NaN  \n",
       "2              -92.0                 12.0  \n",
       "3              -52.0                  NaN  \n",
       "4             -176.0                  NaN  "
      ]
     },
     "execution_count": 18,
     "metadata": {},
     "output_type": "execute_result"
    }
   ],
   "source": [
    "# removing students who withdrew on or before the first day\n",
    "student_info_reg = student_info_reg.drop(student_info_reg[(student_info_reg['date_unregistration'] <= 0)].index)\n",
    "student_info_reg.reset_index(drop=True).head()"
   ]
  },
  {
   "cell_type": "code",
   "execution_count": 22,
   "id": "b60515cb-c209-473a-875c-9ffda174280a",
   "metadata": {
    "tags": [
     "remove_input"
    ]
   },
   "outputs": [
    {
     "data": {
      "text/markdown": [
       "* The longest course from module_presentation length in the courses dataframe was 269 days, yet we see here the latest unregistration date is 444 days, which is longer than any course went on.\n",
       "    "
      ],
      "text/plain": [
       "<IPython.core.display.Markdown object>"
      ]
     },
     "execution_count": 22,
     "metadata": {},
     "output_type": "execute_result"
    }
   ],
   "source": [
    "# finds the longest module length in courses and prints it\n",
    "longest_course = courses['module_presentation_length'].max()\n",
    "longest_unreg = int(student_info_reg['date_unregistration'].max())\n",
    "md(f'''* The longest course from module_presentation length in the courses dataframe was {longest_course} days, yet we see here the latest unregistration date is {longest_unreg} days, which is longer than any course went on.\n",
    "    ''')"
   ]
  },
  {
   "cell_type": "markdown",
   "id": "cf2cf6da-71d1-4184-b7f5-b20a50266798",
   "metadata": {},
   "source": [
    "**All Students with an unregistration point after 269 days:**"
   ]
  },
  {
   "cell_type": "code",
   "execution_count": 23,
   "id": "f6f8b825-7b82-43ca-b174-5bcaaed2192f",
   "metadata": {
    "tags": [
     "remove_input"
    ]
   },
   "outputs": [
    {
     "data": {
      "text/html": [
       "<div>\n",
       "<style scoped>\n",
       "    .dataframe tbody tr th:only-of-type {\n",
       "        vertical-align: middle;\n",
       "    }\n",
       "\n",
       "    .dataframe tbody tr th {\n",
       "        vertical-align: top;\n",
       "    }\n",
       "\n",
       "    .dataframe thead th {\n",
       "        text-align: right;\n",
       "    }\n",
       "</style>\n",
       "<table border=\"1\" class=\"dataframe\">\n",
       "  <thead>\n",
       "    <tr style=\"text-align: right;\">\n",
       "      <th></th>\n",
       "      <th>code_module</th>\n",
       "      <th>code_presentation</th>\n",
       "      <th>id_student</th>\n",
       "      <th>region</th>\n",
       "      <th>imd_band</th>\n",
       "      <th>age_band</th>\n",
       "      <th>gender</th>\n",
       "      <th>highest_education</th>\n",
       "      <th>disability</th>\n",
       "      <th>final_result</th>\n",
       "      <th>date_registration</th>\n",
       "      <th>date_unregistration</th>\n",
       "    </tr>\n",
       "  </thead>\n",
       "  <tbody>\n",
       "    <tr>\n",
       "      <th>25249</th>\n",
       "      <td>FFF</td>\n",
       "      <td>2013J</td>\n",
       "      <td>586851</td>\n",
       "      <td>Wales</td>\n",
       "      <td>0-10%</td>\n",
       "      <td>0-35</td>\n",
       "      <td>M</td>\n",
       "      <td>Lower Than A Level</td>\n",
       "      <td>N</td>\n",
       "      <td>Withdrawn</td>\n",
       "      <td>-22.0</td>\n",
       "      <td>444.0</td>\n",
       "    </tr>\n",
       "  </tbody>\n",
       "</table>\n",
       "</div>"
      ],
      "text/plain": [
       "      code_module code_presentation id_student region imd_band age_band  \\\n",
       "25249         FFF             2013J     586851  Wales    0-10%     0-35   \n",
       "\n",
       "      gender   highest_education disability final_result  date_registration  \\\n",
       "25249      M  Lower Than A Level          N    Withdrawn              -22.0   \n",
       "\n",
       "       date_unregistration  \n",
       "25249                444.0  "
      ]
     },
     "execution_count": 23,
     "metadata": {},
     "output_type": "execute_result"
    }
   ],
   "source": [
    "# finding students whose courses went on for longer than the maximum course length\n",
    "student_info_reg.loc[student_info_reg['date_unregistration'] > 269]"
   ]
  },
  {
   "cell_type": "markdown",
   "id": "8812360e-ebe5-4025-b752-f583b0f50351",
   "metadata": {},
   "source": [
    "* It seems to be just this one student is an outlier, but should not affect our overall analysis so we will leave this intact"
   ]
  },
  {
   "cell_type": "code",
   "execution_count": null,
   "id": "1e66dcfb-a999-4080-9aed-a3c577e4c513",
   "metadata": {},
   "outputs": [],
   "source": []
  }
 ],
 "metadata": {
  "kernelspec": {
   "display_name": "Python 3",
   "language": "python",
   "name": "python3"
  },
  "language_info": {
   "codemirror_mode": {
    "name": "ipython",
    "version": 3
   },
   "file_extension": ".py",
   "mimetype": "text/x-python",
   "name": "python",
   "nbconvert_exporter": "python",
   "pygments_lexer": "ipython3",
   "version": "3.9.6"
  }
 },
 "nbformat": 4,
 "nbformat_minor": 5
}
