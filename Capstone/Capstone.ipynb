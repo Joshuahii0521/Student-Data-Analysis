{
 "cells": [
  {
   "cell_type": "markdown",
   "id": "8b068e8f",
   "metadata": {
    "colab_type": "text",
    "id": "view-in-github"
   },
   "source": [
    "<a href=\"https://colab.research.google.com/github/freyjagarner/Student-Data-Analysis/blob/main/Capstone.ipynb\" target=\"_parent\"><img src=\"https://colab.research.google.com/assets/colab-badge.svg\" alt=\"Open In Colab\"/></a>"
   ]
  },
  {
   "cell_type": "markdown",
   "id": "621a0aa6-257c-46b0-bb00-6c1465f367eb",
   "metadata": {
    "id": "621a0aa6-257c-46b0-bb00-6c1465f367eb"
   },
   "source": [
    "# Student MOOC Outcome Analysis"
   ]
  },
  {
   "cell_type": "markdown",
   "id": "91b8de52-4f0f-4f11-9a6e-a43bfbe28cfc",
   "metadata": {
    "id": "91b8de52-4f0f-4f11-9a6e-a43bfbe28cfc"
   },
   "source": [
    "## Introduction\n",
    "\n",
    "In this notebook we will be exploring student demographics and online behavior in online courses.\n",
    "\n",
    "The first goal of this exploration will be to first find information about our students. Knowing about students helps teachers to improve course content by customizing courses to their audience. For example, if it is found that most of our students only completed high school (or in this dataset A-Levels since this is based on data from the UK region) then teachers can avoid using college level language in order for students to better understand course content.\n",
    "\n",
    "The second goal of this exploration will be to find which student demographics and behavior are the best predictors of student outcome. This information can also be very useful to teachers. For example if it is found that students who interact on forums are more frequently successful in courses, teachers could perhaps set up forum updates to be sent to students via email to encourage them to interact, or assignments can be created to post and interact on forums potentially improving the odds of student success. \n",
    "\n",
    "The final goal of this exploration will be to create a model to predict student success based on the features in the data that we find to be the most significant predictors of student outcome. Such a model could be useful in the way of if applied to all students, teachers could get a notification if a student is predicted to fail at a certain point and the teacher could then reach out to the student to see if they can assist in their studies.\n",
    "\n",
    "The data for this notebook is the Open University Learning Analytics dataset available [here](https://analyse.kmi.open.ac.uk/open_dataset) and is released under the creative commons license CC-BY 4.0.\n",
    "\n",
    "The dataset consists of seven files:\n",
    "* *courses* which provides information of each course which consists of a module, the class offered, and presentation, the time at which the class was offered, and the length of the course.\n",
    "* *studentInfo* Which contains ID's for individual students, the course the student took, the student demographical information, and the student's final results.\n",
    "* *studentRegistration* which contains the registration and, if applicable, unregistration dates of students.\n",
    "* *assessments* which contains the assessment information per module.\n",
    "* *studentAssessment* which contains the student assessment scores.\n",
    "* *vle* which contains inforamtion about the virtual learning environment resources.\n",
    "* *studentVle* which contains information about student interaction with the virtual learning environment."
   ]
  },
  {
   "cell_type": "markdown",
   "id": "240da0fe-a701-4511-8c3b-b38ea78f012c",
   "metadata": {
    "id": "240da0fe-a701-4511-8c3b-b38ea78f012c"
   },
   "source": [
    "### Initial Imports"
   ]
  },
  {
   "cell_type": "code",
   "execution_count": 1,
   "id": "1ec8294f-cf12-4229-87b5-55c0226b39ad",
   "metadata": {
    "id": "1ec8294f-cf12-4229-87b5-55c0226b39ad",
    "tags": [
     "remove_cell"
    ]
   },
   "outputs": [],
   "source": [
    "#from google.colab import drive\n",
    "#drive.mount('/content/drive')\n",
    "\n",
    "#import sys\n",
    "#sys.path.insert(0,'/content/drive/My Drive/Colab Notebooks/Capstone')\n",
    "\n",
    "# import libraries, data and helper functions\n",
    "from functions import *"
   ]
  },
  {
   "cell_type": "markdown",
   "id": "58f2cf3f-9d13-4ee3-8ae7-63c7c2aca51c",
   "metadata": {
    "id": "58f2cf3f-9d13-4ee3-8ae7-63c7c2aca51c"
   },
   "source": [
    "## Cleaning"
   ]
  },
  {
   "cell_type": "markdown",
   "id": "f80c0f1d-193b-464f-8d61-9e1735624836",
   "metadata": {
    "id": "f80c0f1d-193b-464f-8d61-9e1735624836"
   },
   "source": [
    "### Courses\n",
    "\n",
    "---"
   ]
  },
  {
   "cell_type": "markdown",
   "id": "80d71c40-b913-437d-9e19-c8476990cb82",
   "metadata": {
    "id": "80d71c40-b913-437d-9e19-c8476990cb82"
   },
   "source": [
    "The courses dataframe has information for all modules (courses) and their presentations."
   ]
  },
  {
   "cell_type": "code",
   "execution_count": 2,
   "id": "dc9c6d23-8df8-4af7-b928-455f3294ccd9",
   "metadata": {
    "colab": {
     "base_uri": "https://localhost:8080/",
     "height": 0
    },
    "id": "dc9c6d23-8df8-4af7-b928-455f3294ccd9",
    "outputId": "53e74ecc-af16-48da-b140-0f78187443cd",
    "tags": []
   },
   "outputs": [
    {
     "data": {
      "text/html": [
       "<div>\n",
       "<style scoped>\n",
       "    .dataframe tbody tr th:only-of-type {\n",
       "        vertical-align: middle;\n",
       "    }\n",
       "\n",
       "    .dataframe tbody tr th {\n",
       "        vertical-align: top;\n",
       "    }\n",
       "\n",
       "    .dataframe thead th {\n",
       "        text-align: right;\n",
       "    }\n",
       "</style>\n",
       "<table border=\"1\" class=\"dataframe\">\n",
       "  <thead>\n",
       "    <tr style=\"text-align: right;\">\n",
       "      <th></th>\n",
       "      <th>code_module</th>\n",
       "      <th>code_presentation</th>\n",
       "      <th>module_presentation_length</th>\n",
       "    </tr>\n",
       "  </thead>\n",
       "  <tbody>\n",
       "    <tr>\n",
       "      <th>0</th>\n",
       "      <td>AAA</td>\n",
       "      <td>2013J</td>\n",
       "      <td>268</td>\n",
       "    </tr>\n",
       "    <tr>\n",
       "      <th>1</th>\n",
       "      <td>AAA</td>\n",
       "      <td>2014J</td>\n",
       "      <td>269</td>\n",
       "    </tr>\n",
       "    <tr>\n",
       "      <th>2</th>\n",
       "      <td>BBB</td>\n",
       "      <td>2013J</td>\n",
       "      <td>268</td>\n",
       "    </tr>\n",
       "    <tr>\n",
       "      <th>3</th>\n",
       "      <td>BBB</td>\n",
       "      <td>2014J</td>\n",
       "      <td>262</td>\n",
       "    </tr>\n",
       "    <tr>\n",
       "      <th>4</th>\n",
       "      <td>BBB</td>\n",
       "      <td>2013B</td>\n",
       "      <td>240</td>\n",
       "    </tr>\n",
       "  </tbody>\n",
       "</table>\n",
       "</div>"
      ],
      "text/plain": [
       "  code_module code_presentation  module_presentation_length\n",
       "0         AAA             2013J                         268\n",
       "1         AAA             2014J                         269\n",
       "2         BBB             2013J                         268\n",
       "3         BBB             2014J                         262\n",
       "4         BBB             2013B                         240"
      ]
     },
     "execution_count": 2,
     "metadata": {},
     "output_type": "execute_result"
    }
   ],
   "source": [
    "# show head of courses dataframe\n",
    "courses.head()"
   ]
  },
  {
   "cell_type": "markdown",
   "id": "b3cffd6a-015c-4bf2-a8f0-f7413cda8f37",
   "metadata": {
    "id": "b3cffd6a-015c-4bf2-a8f0-f7413cda8f37"
   },
   "source": [
    "---\n",
    "\n",
    "#### Courses Contents\n",
    "\n",
    "* **code_module**: The code module represents the code name of the course. Modules are identified with three capital letters which run sequentially between AAA and GGG\n",
    "* **code_presentation**: The presentations are codified by their year and what month they are offered in. B is for February and J is for October. Thus 2013B for example is February of 2013. \n",
    "* **mode_presentation_length**: The module presentation length is the length of the course in days."
   ]
  },
  {
   "cell_type": "markdown",
   "id": "1c18cbad-111f-4e65-8373-9d5907fa5100",
   "metadata": {
    "id": "1c18cbad-111f-4e65-8373-9d5907fa5100"
   },
   "source": [
    "#### Changing Column names\n",
    "* The column names will be changed to be less verbose as follows:\n",
    "    * code_module to module\n",
    "    * code_presentation to presentation\n",
    "    * module_presentation_length to course_length"
   ]
  },
  {
   "cell_type": "code",
   "execution_count": 3,
   "id": "ff49aaec-edb3-4517-abca-6a743d600b2b",
   "metadata": {
    "id": "ff49aaec-edb3-4517-abca-6a743d600b2b"
   },
   "outputs": [],
   "source": [
    "# dictionary to pass to rename to change column names\n",
    "courses_rename = {'code_module':'module', 'code_presentation':'presentation', 'module_presentation_length':'course_length'}\n",
    "\n",
    "# rename columns according to dictionary\n",
    "courses = courses.rename(columns=courses_rename)"
   ]
  },
  {
   "cell_type": "markdown",
   "id": "6e869245-5a8e-4b38-b112-16f9012892b1",
   "metadata": {
    "id": "6e869245-5a8e-4b38-b112-16f9012892b1"
   },
   "source": [
    "---\n",
    "\n",
    "#### Courses Information"
   ]
  },
  {
   "cell_type": "markdown",
   "id": "1415fdc7-1538-4aec-95c6-598f4b364a4d",
   "metadata": {
    "id": "1415fdc7-1538-4aec-95c6-598f4b364a4d"
   },
   "source": [
    "**Size**"
   ]
  },
  {
   "cell_type": "code",
   "execution_count": 4,
   "id": "ba42aced-3d12-4303-a050-5e2515292af2",
   "metadata": {
    "colab": {
     "base_uri": "https://localhost:8080/",
     "height": 0
    },
    "id": "ba42aced-3d12-4303-a050-5e2515292af2",
    "outputId": "84a8cc44-5016-4f9d-95e8-e4b747e04e98",
    "tags": []
   },
   "outputs": [
    {
     "data": {
      "text/html": [
       "<div>\n",
       "<style scoped>\n",
       "    .dataframe tbody tr th:only-of-type {\n",
       "        vertical-align: middle;\n",
       "    }\n",
       "\n",
       "    .dataframe tbody tr th {\n",
       "        vertical-align: top;\n",
       "    }\n",
       "\n",
       "    .dataframe thead th {\n",
       "        text-align: right;\n",
       "    }\n",
       "</style>\n",
       "<table border=\"1\" class=\"dataframe\">\n",
       "  <thead>\n",
       "    <tr style=\"text-align: right;\">\n",
       "      <th></th>\n",
       "      <th>Count</th>\n",
       "    </tr>\n",
       "  </thead>\n",
       "  <tbody>\n",
       "    <tr>\n",
       "      <th>Columns</th>\n",
       "      <td>3</td>\n",
       "    </tr>\n",
       "    <tr>\n",
       "      <th>Rows</th>\n",
       "      <td>22</td>\n",
       "    </tr>\n",
       "  </tbody>\n",
       "</table>\n",
       "</div>"
      ],
      "text/plain": [
       "         Count\n",
       "Columns      3\n",
       "Rows        22"
      ]
     },
     "execution_count": 4,
     "metadata": {},
     "output_type": "execute_result"
    }
   ],
   "source": [
    "# get row & column count for courses dataframe\n",
    "get_size(courses)"
   ]
  },
  {
   "cell_type": "code",
   "execution_count": 5,
   "id": "488e422b-4ad5-4a4f-9429-4e4e50cc22bc",
   "metadata": {
    "colab": {
     "base_uri": "https://localhost:8080/",
     "height": 0
    },
    "id": "488e422b-4ad5-4a4f-9429-4e4e50cc22bc",
    "outputId": "51807539-38ac-44ce-a1af-5efdfd9347f4",
    "tags": [
     "remove_input"
    ]
   },
   "outputs": [
    {
     "data": {
      "text/markdown": [
       "\n",
       "Courses has 3 columns and 22 rows\n"
      ],
      "text/plain": [
       "<IPython.core.display.Markdown object>"
      ]
     },
     "execution_count": 5,
     "metadata": {},
     "output_type": "execute_result"
    }
   ],
   "source": [
    "md(f'''\n",
    "Courses has {len(courses.columns)} columns and {len(courses)} rows\n",
    "''')"
   ]
  },
  {
   "cell_type": "markdown",
   "id": "0fb61db0-6c7b-44d9-9b2e-23424a657d46",
   "metadata": {
    "id": "0fb61db0-6c7b-44d9-9b2e-23424a657d46"
   },
   "source": [
    "**Data Types**"
   ]
  },
  {
   "cell_type": "code",
   "execution_count": 6,
   "id": "8d5c6d37-c0b3-485e-9e9a-400c2fb5904d",
   "metadata": {
    "colab": {
     "base_uri": "https://localhost:8080/",
     "height": 0
    },
    "id": "8d5c6d37-c0b3-485e-9e9a-400c2fb5904d",
    "outputId": "e40b5941-cdfb-4832-b447-1406d26b83dc",
    "tags": []
   },
   "outputs": [
    {
     "data": {
      "text/html": [
       "<style type=\"text/css\">\n",
       "#T_b824f_ td.col0 {\n",
       "  font-weight: bold;\n",
       "}\n",
       "</style>\n",
       "<table id=\"T_b824f_\">\n",
       "  <thead>\n",
       "    <tr>\n",
       "      <th class=\"col_heading level0 col0\" >index</th>\n",
       "      <th class=\"col_heading level0 col1\" >Type</th>\n",
       "    </tr>\n",
       "  </thead>\n",
       "  <tbody>\n",
       "    <tr>\n",
       "      <td id=\"T_b824f_row0_col0\" class=\"data row0 col0\" >module</td>\n",
       "      <td id=\"T_b824f_row0_col1\" class=\"data row0 col1\" >object</td>\n",
       "    </tr>\n",
       "    <tr>\n",
       "      <td id=\"T_b824f_row1_col0\" class=\"data row1 col0\" >presentation</td>\n",
       "      <td id=\"T_b824f_row1_col1\" class=\"data row1 col1\" >object</td>\n",
       "    </tr>\n",
       "    <tr>\n",
       "      <td id=\"T_b824f_row2_col0\" class=\"data row2 col0\" >course_length</td>\n",
       "      <td id=\"T_b824f_row2_col1\" class=\"data row2 col1\" >int64</td>\n",
       "    </tr>\n",
       "  </tbody>\n",
       "</table>\n"
      ],
      "text/plain": [
       "<pandas.io.formats.style.Styler at 0x1a938322940>"
      ]
     },
     "execution_count": 6,
     "metadata": {},
     "output_type": "execute_result"
    }
   ],
   "source": [
    "# show data types for courses dataframe\n",
    "get_dtypes(courses)"
   ]
  },
  {
   "cell_type": "markdown",
   "id": "234a1993-26b6-4c83-91fb-8596b95d2549",
   "metadata": {
    "id": "234a1993-26b6-4c83-91fb-8596b95d2549"
   },
   "source": [
    "In courses `module` and `presentation` are categorical variables and will be converted to `string` so we can later combine them to get the unique courses."
   ]
  },
  {
   "cell_type": "code",
   "execution_count": 7,
   "id": "652b033e-6b35-4ad9-9f26-77c020c0ae8d",
   "metadata": {
    "id": "652b033e-6b35-4ad9-9f26-77c020c0ae8d",
    "tags": []
   },
   "outputs": [],
   "source": [
    "# convert objects into datatypes that support pandas NA\n",
    "courses = courses.convert_dtypes(convert_integer=False)"
   ]
  },
  {
   "cell_type": "markdown",
   "id": "f1f6d1e7-f635-4a30-becd-26226e770121",
   "metadata": {
    "id": "f1f6d1e7-f635-4a30-becd-26226e770121"
   },
   "source": [
    "**Null Values**"
   ]
  },
  {
   "cell_type": "code",
   "execution_count": 8,
   "id": "489eb52f-34f6-4c58-88c4-109fd575419c",
   "metadata": {
    "colab": {
     "base_uri": "https://localhost:8080/",
     "height": 0
    },
    "id": "489eb52f-34f6-4c58-88c4-109fd575419c",
    "outputId": "8019e1b0-cb80-4d4c-beaf-fed481b48088",
    "tags": []
   },
   "outputs": [
    {
     "data": {
      "text/html": [
       "<style type=\"text/css\">\n",
       "#T_2e402_ td.col0 {\n",
       "  font-weight: bold;\n",
       "}\n",
       "</style>\n",
       "<table id=\"T_2e402_\">\n",
       "  <thead>\n",
       "    <tr>\n",
       "      <th class=\"col_heading level0 col0\" >index</th>\n",
       "      <th class=\"col_heading level0 col1\" >Null Values</th>\n",
       "    </tr>\n",
       "  </thead>\n",
       "  <tbody>\n",
       "    <tr>\n",
       "      <td id=\"T_2e402_row0_col0\" class=\"data row0 col0\" >module</td>\n",
       "      <td id=\"T_2e402_row0_col1\" class=\"data row0 col1\" >0</td>\n",
       "    </tr>\n",
       "    <tr>\n",
       "      <td id=\"T_2e402_row1_col0\" class=\"data row1 col0\" >presentation</td>\n",
       "      <td id=\"T_2e402_row1_col1\" class=\"data row1 col1\" >0</td>\n",
       "    </tr>\n",
       "    <tr>\n",
       "      <td id=\"T_2e402_row2_col0\" class=\"data row2 col0\" >course_length</td>\n",
       "      <td id=\"T_2e402_row2_col1\" class=\"data row2 col1\" >0</td>\n",
       "    </tr>\n",
       "  </tbody>\n",
       "</table>\n"
      ],
      "text/plain": [
       "<pandas.io.formats.style.Styler at 0x1a90081e220>"
      ]
     },
     "execution_count": 8,
     "metadata": {},
     "output_type": "execute_result"
    }
   ],
   "source": [
    "# show null values for columns in courses\n",
    "null_vals(courses)"
   ]
  },
  {
   "cell_type": "markdown",
   "id": "4fa3b665-1ffa-4e88-9b10-cea3f17bf951",
   "metadata": {},
   "source": [
    "There are no null values."
   ]
  },
  {
   "cell_type": "markdown",
   "id": "4ae1a4eb-956b-4eb6-a0b1-fb9d331c45c7",
   "metadata": {
    "id": "4ae1a4eb-956b-4eb6-a0b1-fb9d331c45c7"
   },
   "source": [
    "**Duplicate Values**"
   ]
  },
  {
   "cell_type": "code",
   "execution_count": 9,
   "id": "b3f6159b-ae2e-45fa-b000-adb5acf31fa7",
   "metadata": {
    "colab": {
     "base_uri": "https://localhost:8080/",
     "height": 0
    },
    "id": "b3f6159b-ae2e-45fa-b000-adb5acf31fa7",
    "outputId": "3469b251-f571-40b4-9199-5cb81e45f6fd",
    "tags": []
   },
   "outputs": [
    {
     "data": {
      "text/markdown": [
       "There are no Duplicate Values"
      ],
      "text/plain": [
       "<IPython.core.display.Markdown object>"
      ]
     },
     "execution_count": 9,
     "metadata": {},
     "output_type": "execute_result"
    }
   ],
   "source": [
    "# show duplicate values in courses if any\n",
    "get_dupes(courses)"
   ]
  },
  {
   "cell_type": "markdown",
   "id": "4ed21dfb-c83c-4a33-ad85-1c4578c96241",
   "metadata": {
    "id": "4ed21dfb-c83c-4a33-ad85-1c4578c96241"
   },
   "source": [
    "**Unique Counts**"
   ]
  },
  {
   "cell_type": "code",
   "execution_count": 10,
   "id": "1a4b1e80-483d-486c-a777-793025e43d19",
   "metadata": {
    "colab": {
     "base_uri": "https://localhost:8080/",
     "height": 0
    },
    "id": "1a4b1e80-483d-486c-a777-793025e43d19",
    "outputId": "0532e139-ad1f-4377-c32e-746aeebe44b0",
    "tags": []
   },
   "outputs": [
    {
     "data": {
      "text/html": [
       "<style type=\"text/css\">\n",
       "#T_b315a_ td.col0 {\n",
       "  font-weight: bold;\n",
       "}\n",
       "</style>\n",
       "<table id=\"T_b315a_\">\n",
       "  <thead>\n",
       "    <tr>\n",
       "      <th class=\"col_heading level0 col0\" >index</th>\n",
       "      <th class=\"col_heading level0 col1\" >Count</th>\n",
       "    </tr>\n",
       "  </thead>\n",
       "  <tbody>\n",
       "    <tr>\n",
       "      <td id=\"T_b315a_row0_col0\" class=\"data row0 col0\" >module</td>\n",
       "      <td id=\"T_b315a_row0_col1\" class=\"data row0 col1\" >7</td>\n",
       "    </tr>\n",
       "    <tr>\n",
       "      <td id=\"T_b315a_row1_col0\" class=\"data row1 col0\" >presentation</td>\n",
       "      <td id=\"T_b315a_row1_col1\" class=\"data row1 col1\" >4</td>\n",
       "    </tr>\n",
       "    <tr>\n",
       "      <td id=\"T_b315a_row2_col0\" class=\"data row2 col0\" >course_length</td>\n",
       "      <td id=\"T_b315a_row2_col1\" class=\"data row2 col1\" >7</td>\n",
       "    </tr>\n",
       "  </tbody>\n",
       "</table>\n"
      ],
      "text/plain": [
       "<pandas.io.formats.style.Styler at 0x1a9009ef940>"
      ]
     },
     "execution_count": 10,
     "metadata": {},
     "output_type": "execute_result"
    }
   ],
   "source": [
    "# get counts for the unque values in courses columns\n",
    "count_unique(courses)"
   ]
  },
  {
   "cell_type": "code",
   "execution_count": 11,
   "id": "61c4a459-98d4-4e5f-8ef0-f3eb9cc055d5",
   "metadata": {
    "colab": {
     "base_uri": "https://localhost:8080/",
     "height": 0
    },
    "id": "61c4a459-98d4-4e5f-8ef0-f3eb9cc055d5",
    "outputId": "d45a5fcb-4f15-4a3d-efde-88e1c25f2c32",
    "tags": [
     "remove_input"
    ]
   },
   "outputs": [
    {
     "data": {
      "text/markdown": [
       "We see in our unique  counts that there are 7 unique modules \n",
       "       delivered over 4 presentations"
      ],
      "text/plain": [
       "<IPython.core.display.Markdown object>"
      ]
     },
     "execution_count": 11,
     "metadata": {},
     "output_type": "execute_result"
    }
   ],
   "source": [
    "# store the number of unique modules\n",
    "mod_count = courses['module'].nunique()\n",
    "\n",
    "# store the number of unique presentations\n",
    "presentation_count = courses['presentation'].nunique()\n",
    "\n",
    "# store the minimum module length in days\n",
    "min_mod_count = courses['course_length'].min()\n",
    "\n",
    "# store the maximum module length in dats\n",
    "max_mod_count = courses['course_length'].max()\n",
    "\n",
    "# store the average module length in days\n",
    "avg_mod_count = round(courses['course_length'].mean(), 1)\n",
    "\n",
    "md(f'''We see in our unique  counts that there are {mod_count} unique modules \n",
    "       delivered over {presentation_count} presentations''')"
   ]
  },
  {
   "cell_type": "markdown",
   "id": "b97d3af8-0fd1-4e27-a334-7a50b71213eb",
   "metadata": {
    "id": "b97d3af8-0fd1-4e27-a334-7a50b71213eb"
   },
   "source": [
    "**Unique Categorical Values**"
   ]
  },
  {
   "cell_type": "code",
   "execution_count": 12,
   "id": "7604441a-bbab-4e55-94bb-a16c1d7b3caa",
   "metadata": {
    "colab": {
     "base_uri": "https://localhost:8080/",
     "height": 0
    },
    "id": "7604441a-bbab-4e55-94bb-a16c1d7b3caa",
    "outputId": "455db3fe-721a-439f-c38e-f72bb996227c",
    "tags": []
   },
   "outputs": [
    {
     "data": {
      "text/html": [
       "<style type=\"text/css\">\n",
       "#T_09b1d_ td.col0 {\n",
       "  font-weight: bold;\n",
       "}\n",
       "</style>\n",
       "<table id=\"T_09b1d_\">\n",
       "  <thead>\n",
       "    <tr>\n",
       "      <th class=\"col_heading level0 col0\" >index</th>\n",
       "      <th class=\"col_heading level0 col1\" >Values</th>\n",
       "    </tr>\n",
       "  </thead>\n",
       "  <tbody>\n",
       "    <tr>\n",
       "      <td id=\"T_09b1d_row0_col0\" class=\"data row0 col0\" >module</td>\n",
       "      <td id=\"T_09b1d_row0_col1\" class=\"data row0 col1\" >['AAA', 'BBB', 'CCC', 'DDD', 'EEE', 'FFF', 'GGG']</td>\n",
       "    </tr>\n",
       "    <tr>\n",
       "      <td id=\"T_09b1d_row1_col0\" class=\"data row1 col0\" >presentation</td>\n",
       "      <td id=\"T_09b1d_row1_col1\" class=\"data row1 col1\" >['2013J', '2014J', '2013B', '2014B']</td>\n",
       "    </tr>\n",
       "  </tbody>\n",
       "</table>\n"
      ],
      "text/plain": [
       "<pandas.io.formats.style.Styler at 0x1a9383227c0>"
      ]
     },
     "execution_count": 12,
     "metadata": {},
     "output_type": "execute_result"
    }
   ],
   "source": [
    "# get the unique categorical values in courses\n",
    "unique_vals(courses)"
   ]
  },
  {
   "cell_type": "markdown",
   "id": "0d38050a-5454-4f6f-aa13-1833b73bc026",
   "metadata": {
    "id": "0d38050a-5454-4f6f-aa13-1833b73bc026"
   },
   "source": [
    "Above, we can see the modules AAA through GGG and the four presentations they were delivered over"
   ]
  },
  {
   "cell_type": "code",
   "execution_count": 13,
   "id": "4dde668d-4acc-4faf-9cf5-56d938afbaed",
   "metadata": {
    "colab": {
     "base_uri": "https://localhost:8080/",
     "height": 0
    },
    "id": "4dde668d-4acc-4faf-9cf5-56d938afbaed",
    "outputId": "15ebf8ce-04e7-4f65-ef5a-0d84399b7082",
    "tags": [
     "remove_input"
    ]
   },
   "outputs": [
    {
     "data": {
      "text/html": [
       "<div>\n",
       "<style scoped>\n",
       "    .dataframe tbody tr th:only-of-type {\n",
       "        vertical-align: middle;\n",
       "    }\n",
       "\n",
       "    .dataframe tbody tr th {\n",
       "        vertical-align: top;\n",
       "    }\n",
       "\n",
       "    .dataframe thead th {\n",
       "        text-align: right;\n",
       "    }\n",
       "</style>\n",
       "<table border=\"1\" class=\"dataframe\">\n",
       "  <thead>\n",
       "    <tr style=\"text-align: right;\">\n",
       "      <th>module</th>\n",
       "      <th>AAA</th>\n",
       "      <th>BBB</th>\n",
       "      <th>CCC</th>\n",
       "      <th>DDD</th>\n",
       "      <th>EEE</th>\n",
       "      <th>FFF</th>\n",
       "      <th>GGG</th>\n",
       "    </tr>\n",
       "    <tr>\n",
       "      <th>presentation</th>\n",
       "      <th></th>\n",
       "      <th></th>\n",
       "      <th></th>\n",
       "      <th></th>\n",
       "      <th></th>\n",
       "      <th></th>\n",
       "      <th></th>\n",
       "    </tr>\n",
       "  </thead>\n",
       "  <tbody>\n",
       "    <tr>\n",
       "      <th>2013B</th>\n",
       "      <td>0</td>\n",
       "      <td>BBB</td>\n",
       "      <td>0</td>\n",
       "      <td>DDD</td>\n",
       "      <td>0</td>\n",
       "      <td>FFF</td>\n",
       "      <td>0</td>\n",
       "    </tr>\n",
       "    <tr>\n",
       "      <th>2013J</th>\n",
       "      <td>AAA</td>\n",
       "      <td>BBB</td>\n",
       "      <td>0</td>\n",
       "      <td>DDD</td>\n",
       "      <td>EEE</td>\n",
       "      <td>FFF</td>\n",
       "      <td>GGG</td>\n",
       "    </tr>\n",
       "    <tr>\n",
       "      <th>2014B</th>\n",
       "      <td>0</td>\n",
       "      <td>BBB</td>\n",
       "      <td>CCC</td>\n",
       "      <td>DDD</td>\n",
       "      <td>EEE</td>\n",
       "      <td>FFF</td>\n",
       "      <td>GGG</td>\n",
       "    </tr>\n",
       "    <tr>\n",
       "      <th>2014J</th>\n",
       "      <td>AAA</td>\n",
       "      <td>BBB</td>\n",
       "      <td>CCC</td>\n",
       "      <td>DDD</td>\n",
       "      <td>EEE</td>\n",
       "      <td>FFF</td>\n",
       "      <td>GGG</td>\n",
       "    </tr>\n",
       "  </tbody>\n",
       "</table>\n",
       "</div>"
      ],
      "text/plain": [
       "module        AAA  BBB  CCC  DDD  EEE  FFF  GGG\n",
       "presentation                                   \n",
       "2013B           0  BBB    0  DDD    0  FFF    0\n",
       "2013J         AAA  BBB    0  DDD  EEE  FFF  GGG\n",
       "2014B           0  BBB  CCC  DDD  EEE  FFF  GGG\n",
       "2014J         AAA  BBB  CCC  DDD  EEE  FFF  GGG"
      ]
     },
     "execution_count": 13,
     "metadata": {},
     "output_type": "execute_result"
    }
   ],
   "source": [
    "# making a crosstab to map each code module to its presentation\n",
    "modules_dates = pd.crosstab(index=courses['presentation'], columns=courses['module'])\n",
    "modules_dates = modules_dates.replace(1, pd.Series(modules_dates.columns, modules_dates.columns))\n",
    "modules_dates"
   ]
  },
  {
   "cell_type": "markdown",
   "id": "0adb977e-1b84-4d32-a8be-caac5dfb9ac3",
   "metadata": {
    "id": "0adb977e-1b84-4d32-a8be-caac5dfb9ac3"
   },
   "source": [
    "Above is a breakdown of each presentation and what modules were offered during that time"
   ]
  },
  {
   "cell_type": "markdown",
   "id": "337bf365-12e4-41b7-bfc9-d3c39e61d863",
   "metadata": {
    "id": "337bf365-12e4-41b7-bfc9-d3c39e61d863"
   },
   "source": [
    "**Numerical Values**"
   ]
  },
  {
   "cell_type": "code",
   "execution_count": 14,
   "id": "c3e0e635-0b4a-4cfa-8f67-2a191b160609",
   "metadata": {
    "colab": {
     "base_uri": "https://localhost:8080/",
     "height": 0
    },
    "id": "c3e0e635-0b4a-4cfa-8f67-2a191b160609",
    "outputId": "f94d9d09-7f39-428c-9a2d-1e0a27320cc1",
    "tags": []
   },
   "outputs": [
    {
     "data": {
      "text/html": [
       "<div>\n",
       "<style scoped>\n",
       "    .dataframe tbody tr th:only-of-type {\n",
       "        vertical-align: middle;\n",
       "    }\n",
       "\n",
       "    .dataframe tbody tr th {\n",
       "        vertical-align: top;\n",
       "    }\n",
       "\n",
       "    .dataframe thead th {\n",
       "        text-align: right;\n",
       "    }\n",
       "</style>\n",
       "<table border=\"1\" class=\"dataframe\">\n",
       "  <thead>\n",
       "    <tr style=\"text-align: right;\">\n",
       "      <th></th>\n",
       "      <th>course_length</th>\n",
       "    </tr>\n",
       "  </thead>\n",
       "  <tbody>\n",
       "    <tr>\n",
       "      <th>count</th>\n",
       "      <td>22.0</td>\n",
       "    </tr>\n",
       "    <tr>\n",
       "      <th>mean</th>\n",
       "      <td>255.5</td>\n",
       "    </tr>\n",
       "    <tr>\n",
       "      <th>std</th>\n",
       "      <td>13.7</td>\n",
       "    </tr>\n",
       "    <tr>\n",
       "      <th>min</th>\n",
       "      <td>234.0</td>\n",
       "    </tr>\n",
       "    <tr>\n",
       "      <th>25%</th>\n",
       "      <td>241.0</td>\n",
       "    </tr>\n",
       "    <tr>\n",
       "      <th>50%</th>\n",
       "      <td>261.5</td>\n",
       "    </tr>\n",
       "    <tr>\n",
       "      <th>75%</th>\n",
       "      <td>268.0</td>\n",
       "    </tr>\n",
       "    <tr>\n",
       "      <th>max</th>\n",
       "      <td>269.0</td>\n",
       "    </tr>\n",
       "  </tbody>\n",
       "</table>\n",
       "</div>"
      ],
      "text/plain": [
       "       course_length\n",
       "count           22.0\n",
       "mean           255.5\n",
       "std             13.7\n",
       "min            234.0\n",
       "25%            241.0\n",
       "50%            261.5\n",
       "75%            268.0\n",
       "max            269.0"
      ]
     },
     "execution_count": 14,
     "metadata": {},
     "output_type": "execute_result"
    }
   ],
   "source": [
    "# show statistical breakdown of numerical values in courses\n",
    "courses.describe().round(1)"
   ]
  },
  {
   "cell_type": "code",
   "execution_count": 15,
   "id": "f7d1f5cc-e553-4a86-b812-5c5f1a99c13d",
   "metadata": {
    "colab": {
     "base_uri": "https://localhost:8080/",
     "height": 0
    },
    "id": "f7d1f5cc-e553-4a86-b812-5c5f1a99c13d",
    "outputId": "b9eaf082-cd44-47ff-9920-120a648a2878",
    "tags": [
     "remove_input"
    ]
   },
   "outputs": [
    {
     "data": {
      "text/markdown": [
       "\n",
       "From our numerical breakdown above we can see that:\n",
       "* Modules range from 234 to 269 days in length.\n",
       "* The average module is 255.5 days.\n"
      ],
      "text/plain": [
       "<IPython.core.display.Markdown object>"
      ]
     },
     "execution_count": 15,
     "metadata": {},
     "output_type": "execute_result"
    }
   ],
   "source": [
    "md(f\"\"\"\n",
    "From our numerical breakdown above we can see that:\n",
    "* Modules range from {min_mod_count} to {max_mod_count} days in length.\n",
    "* The average module is {avg_mod_count} days.\n",
    "\"\"\")"
   ]
  },
  {
   "cell_type": "markdown",
   "id": "90f1c6c4-d01d-47f6-9c8f-28829b76dc4b",
   "metadata": {
    "id": "90f1c6c4-d01d-47f6-9c8f-28829b76dc4b"
   },
   "source": [
    "### Student Information\n",
    "\n",
    "---"
   ]
  },
  {
   "cell_type": "markdown",
   "id": "4a61b2f9-619b-48c0-93e5-2a100e8bb757",
   "metadata": {
    "id": "4a61b2f9-619b-48c0-93e5-2a100e8bb757"
   },
   "source": [
    "The student info file contains details about students including the module they took, the presentation they took the module during, demographic information and the final result of their studies."
   ]
  },
  {
   "cell_type": "code",
   "execution_count": 16,
   "id": "916d14fb-0e84-406d-a870-8825b484506c",
   "metadata": {
    "colab": {
     "base_uri": "https://localhost:8080/",
     "height": 0
    },
    "id": "916d14fb-0e84-406d-a870-8825b484506c",
    "outputId": "429f61f9-7a6c-4270-b165-9c703547ec4b",
    "tags": []
   },
   "outputs": [
    {
     "data": {
      "text/html": [
       "<div>\n",
       "<style scoped>\n",
       "    .dataframe tbody tr th:only-of-type {\n",
       "        vertical-align: middle;\n",
       "    }\n",
       "\n",
       "    .dataframe tbody tr th {\n",
       "        vertical-align: top;\n",
       "    }\n",
       "\n",
       "    .dataframe thead th {\n",
       "        text-align: right;\n",
       "    }\n",
       "</style>\n",
       "<table border=\"1\" class=\"dataframe\">\n",
       "  <thead>\n",
       "    <tr style=\"text-align: right;\">\n",
       "      <th></th>\n",
       "      <th>code_module</th>\n",
       "      <th>code_presentation</th>\n",
       "      <th>id_student</th>\n",
       "      <th>gender</th>\n",
       "      <th>region</th>\n",
       "      <th>highest_education</th>\n",
       "      <th>imd_band</th>\n",
       "      <th>age_band</th>\n",
       "      <th>num_of_prev_attempts</th>\n",
       "      <th>studied_credits</th>\n",
       "      <th>disability</th>\n",
       "      <th>final_result</th>\n",
       "    </tr>\n",
       "  </thead>\n",
       "  <tbody>\n",
       "    <tr>\n",
       "      <th>0</th>\n",
       "      <td>AAA</td>\n",
       "      <td>2013J</td>\n",
       "      <td>11391</td>\n",
       "      <td>M</td>\n",
       "      <td>East Anglian Region</td>\n",
       "      <td>HE Qualification</td>\n",
       "      <td>90-100%</td>\n",
       "      <td>55&lt;=</td>\n",
       "      <td>0</td>\n",
       "      <td>240</td>\n",
       "      <td>N</td>\n",
       "      <td>Pass</td>\n",
       "    </tr>\n",
       "    <tr>\n",
       "      <th>1</th>\n",
       "      <td>AAA</td>\n",
       "      <td>2013J</td>\n",
       "      <td>28400</td>\n",
       "      <td>F</td>\n",
       "      <td>Scotland</td>\n",
       "      <td>HE Qualification</td>\n",
       "      <td>20-30%</td>\n",
       "      <td>35-55</td>\n",
       "      <td>0</td>\n",
       "      <td>60</td>\n",
       "      <td>N</td>\n",
       "      <td>Pass</td>\n",
       "    </tr>\n",
       "    <tr>\n",
       "      <th>2</th>\n",
       "      <td>AAA</td>\n",
       "      <td>2013J</td>\n",
       "      <td>30268</td>\n",
       "      <td>F</td>\n",
       "      <td>North Western Region</td>\n",
       "      <td>A Level or Equivalent</td>\n",
       "      <td>30-40%</td>\n",
       "      <td>35-55</td>\n",
       "      <td>0</td>\n",
       "      <td>60</td>\n",
       "      <td>Y</td>\n",
       "      <td>Withdrawn</td>\n",
       "    </tr>\n",
       "    <tr>\n",
       "      <th>3</th>\n",
       "      <td>AAA</td>\n",
       "      <td>2013J</td>\n",
       "      <td>31604</td>\n",
       "      <td>F</td>\n",
       "      <td>South East Region</td>\n",
       "      <td>A Level or Equivalent</td>\n",
       "      <td>50-60%</td>\n",
       "      <td>35-55</td>\n",
       "      <td>0</td>\n",
       "      <td>60</td>\n",
       "      <td>N</td>\n",
       "      <td>Pass</td>\n",
       "    </tr>\n",
       "    <tr>\n",
       "      <th>4</th>\n",
       "      <td>AAA</td>\n",
       "      <td>2013J</td>\n",
       "      <td>32885</td>\n",
       "      <td>F</td>\n",
       "      <td>West Midlands Region</td>\n",
       "      <td>Lower Than A Level</td>\n",
       "      <td>50-60%</td>\n",
       "      <td>0-35</td>\n",
       "      <td>0</td>\n",
       "      <td>60</td>\n",
       "      <td>N</td>\n",
       "      <td>Pass</td>\n",
       "    </tr>\n",
       "  </tbody>\n",
       "</table>\n",
       "</div>"
      ],
      "text/plain": [
       "  code_module code_presentation  id_student gender                region  \\\n",
       "0         AAA             2013J       11391      M   East Anglian Region   \n",
       "1         AAA             2013J       28400      F              Scotland   \n",
       "2         AAA             2013J       30268      F  North Western Region   \n",
       "3         AAA             2013J       31604      F     South East Region   \n",
       "4         AAA             2013J       32885      F  West Midlands Region   \n",
       "\n",
       "       highest_education imd_band age_band  num_of_prev_attempts  \\\n",
       "0       HE Qualification  90-100%     55<=                     0   \n",
       "1       HE Qualification   20-30%    35-55                     0   \n",
       "2  A Level or Equivalent   30-40%    35-55                     0   \n",
       "3  A Level or Equivalent   50-60%    35-55                     0   \n",
       "4     Lower Than A Level   50-60%     0-35                     0   \n",
       "\n",
       "   studied_credits disability final_result  \n",
       "0              240          N         Pass  \n",
       "1               60          N         Pass  \n",
       "2               60          Y    Withdrawn  \n",
       "3               60          N         Pass  \n",
       "4               60          N         Pass  "
      ]
     },
     "execution_count": 16,
     "metadata": {},
     "output_type": "execute_result"
    }
   ],
   "source": [
    "# looking at the stud_info dataframe\n",
    "student_info.head()"
   ]
  },
  {
   "cell_type": "markdown",
   "id": "aa8d3274-6043-4182-bc45-04ddd66be152",
   "metadata": {
    "id": "aa8d3274-6043-4182-bc45-04ddd66be152"
   },
   "source": [
    "#### Student Info Contents\n",
    "\n",
    "* **code_module**: The code module represents the course the student took.\n",
    "* **code_presentation**: The code presentations are the year and month the student took the course.\n",
    "* **id_student**: The student ID is a unique identifier for each student\n",
    "* **gender**: The gender represents the binary gender of a student 'M' for students who identified as male and 'F' for students who identified as female.\n",
    "* **region**: Region represents the location of the student when they took the module. All regions are in the UK, Scotland, Ireland or Wales.\n",
    "* **highest_education**: Highest education is representative of a students highest level of formal academic achievement.\n",
    "    - Education levels in order from least to most formal education: \n",
    "        - No formal quals (qualifications).\n",
    "        - Lower than A Level, which is nearly but not quite analagous to under high school level in the US.\n",
    "        - A Level or equivalent which is again nearly analagous to high school level, but more akin to college ready.\n",
    "        - HE Qualification which stands for higher education qualification\n",
    "        - Post Graduate Qualification\n",
    "* **imd_band**: The imd_band represents the Indices of Multiple Deprivation (IMD) score which is a commonly used method in the UK to measure poverty or deprivation in an area. The lower the score, the more 'deprived' the area is.\n",
    "* **age_band**: The age band represents the student age group. There are only three bins for age; _0-35_, _35-55_ and _55<=_\n",
    "* **num_of_prev_attempts**: The number of previous attempts represents the number of times the student has attempted the course previously.\n",
    "* **studied_credits**: The studied credits represents the number of credits for all modules the student is taking.\n",
    "* **disability**: Disability status is represented by a binary 'Y', yes a student does identify as having a disability and 'N', no a student does not identify as having a disability.\n",
    "* **final_results**: * The final result is the students overall result in the class.\n",
    "    - Possible Results include:\n",
    "         - _Pass_: The student passed the course\n",
    "         - _Fail_: The student did not pass the course\n",
    "         - _Withdraw_: The student withdrew before the course term ended\n",
    "         - _Distinction_: The student passed the class with distinction"
   ]
  },
  {
   "cell_type": "markdown",
   "id": "2c6af919-e5c5-4c0f-9993-ee9a08b3aece",
   "metadata": {
    "id": "2c6af919-e5c5-4c0f-9993-ee9a08b3aece"
   },
   "source": [
    "#### Student Registration\n",
    "\n",
    "---"
   ]
  },
  {
   "cell_type": "markdown",
   "id": "5493a1e3-8362-440a-885c-905f20f1eaaf",
   "metadata": {
    "id": "5493a1e3-8362-440a-885c-905f20f1eaaf"
   },
   "source": [
    "The information that the student registration file adds includes the dates that students registered and, if applicable, unregistered from the module."
   ]
  },
  {
   "cell_type": "code",
   "execution_count": 17,
   "id": "038e7184-c4f0-4969-992f-aa2ef246eab1",
   "metadata": {
    "colab": {
     "base_uri": "https://localhost:8080/",
     "height": 0
    },
    "id": "038e7184-c4f0-4969-992f-aa2ef246eab1",
    "outputId": "b4f14e6f-1334-41a8-e37f-45a8a3f216b1",
    "tags": []
   },
   "outputs": [
    {
     "data": {
      "text/html": [
       "<div>\n",
       "<style scoped>\n",
       "    .dataframe tbody tr th:only-of-type {\n",
       "        vertical-align: middle;\n",
       "    }\n",
       "\n",
       "    .dataframe tbody tr th {\n",
       "        vertical-align: top;\n",
       "    }\n",
       "\n",
       "    .dataframe thead th {\n",
       "        text-align: right;\n",
       "    }\n",
       "</style>\n",
       "<table border=\"1\" class=\"dataframe\">\n",
       "  <thead>\n",
       "    <tr style=\"text-align: right;\">\n",
       "      <th></th>\n",
       "      <th>code_module</th>\n",
       "      <th>code_presentation</th>\n",
       "      <th>id_student</th>\n",
       "      <th>date_registration</th>\n",
       "      <th>date_unregistration</th>\n",
       "    </tr>\n",
       "  </thead>\n",
       "  <tbody>\n",
       "    <tr>\n",
       "      <th>0</th>\n",
       "      <td>AAA</td>\n",
       "      <td>2013J</td>\n",
       "      <td>11391</td>\n",
       "      <td>-159.0</td>\n",
       "      <td>NaN</td>\n",
       "    </tr>\n",
       "    <tr>\n",
       "      <th>1</th>\n",
       "      <td>AAA</td>\n",
       "      <td>2013J</td>\n",
       "      <td>28400</td>\n",
       "      <td>-53.0</td>\n",
       "      <td>NaN</td>\n",
       "    </tr>\n",
       "    <tr>\n",
       "      <th>2</th>\n",
       "      <td>AAA</td>\n",
       "      <td>2013J</td>\n",
       "      <td>30268</td>\n",
       "      <td>-92.0</td>\n",
       "      <td>12.0</td>\n",
       "    </tr>\n",
       "    <tr>\n",
       "      <th>3</th>\n",
       "      <td>AAA</td>\n",
       "      <td>2013J</td>\n",
       "      <td>31604</td>\n",
       "      <td>-52.0</td>\n",
       "      <td>NaN</td>\n",
       "    </tr>\n",
       "    <tr>\n",
       "      <th>4</th>\n",
       "      <td>AAA</td>\n",
       "      <td>2013J</td>\n",
       "      <td>32885</td>\n",
       "      <td>-176.0</td>\n",
       "      <td>NaN</td>\n",
       "    </tr>\n",
       "  </tbody>\n",
       "</table>\n",
       "</div>"
      ],
      "text/plain": [
       "  code_module code_presentation  id_student  date_registration  \\\n",
       "0         AAA             2013J       11391             -159.0   \n",
       "1         AAA             2013J       28400              -53.0   \n",
       "2         AAA             2013J       30268              -92.0   \n",
       "3         AAA             2013J       31604              -52.0   \n",
       "4         AAA             2013J       32885             -176.0   \n",
       "\n",
       "   date_unregistration  \n",
       "0                  NaN  \n",
       "1                  NaN  \n",
       "2                 12.0  \n",
       "3                  NaN  \n",
       "4                  NaN  "
      ]
     },
     "execution_count": 17,
     "metadata": {},
     "output_type": "execute_result"
    }
   ],
   "source": [
    "# looking at the student_registration dataframe\n",
    "student_registration.head()"
   ]
  },
  {
   "cell_type": "markdown",
   "id": "e1536280-ddb7-4bfe-ade1-047e6d0ea136",
   "metadata": {
    "id": "e1536280-ddb7-4bfe-ade1-047e6d0ea136"
   },
   "source": [
    "#### Student Registration Contents\n",
    "\n",
    "* **code_module**: The code module represents the course which the sutdent registered for.\n",
    "* **code_presentation**: The code presentation represents the time of year the course which the student registered for began.\n",
    "* **id_student**: The student ID is the unique identifier for each student.\n",
    "* **date_registration**: The registration date is the date that the student registered for the module relative to the start of the module. A negative value indicates the number of days before the module began.\n",
    "* **date_unregistration**: The unregistration date is the date that the student unregistered from the course module in relation to the start date of the course, if applicable."
   ]
  },
  {
   "cell_type": "markdown",
   "id": "efe9f3ff-3379-4e50-89ac-ae5804450279",
   "metadata": {
    "id": "efe9f3ff-3379-4e50-89ac-ae5804450279"
   },
   "source": [
    "```{note}\n",
    "* The student registration dataframe matches 1:1 with the student info dataframe on student id, only adding the date the student registered and the date in which they unregistered, and so we will merge these two dataframes.\n",
    "* The dataframe columns can then be reordered to keep relevent data together. \n",
    "```"
   ]
  },
  {
   "cell_type": "code",
   "execution_count": 18,
   "id": "ebbe7ba3-5498-42ba-82ac-b19e1c6aaa32",
   "metadata": {
    "id": "ebbe7ba3-5498-42ba-82ac-b19e1c6aaa32",
    "tags": []
   },
   "outputs": [],
   "source": [
    "# outer join and merge student info with student registration\n",
    "stud_info = student_info.merge(student_registration, how='outer', on=['code_module', 'code_presentation', 'id_student'], indicator=False)\n",
    "\n",
    "# reordering the stud_info dataframe to keep country, module and student data together\n",
    "stud_info = stud_info[['code_module', 'code_presentation', 'id_student', 'region', 'imd_band', 'age_band', 'gender', 'highest_education', 'disability', 'num_of_prev_attempts', 'studied_credits', 'final_result', 'date_registration', 'date_unregistration']]"
   ]
  },
  {
   "cell_type": "markdown",
   "id": "bc1cc623-30b3-45ed-b132-c2899a6fd043",
   "metadata": {
    "id": "bc1cc623-30b3-45ed-b132-c2899a6fd043"
   },
   "source": [
    "* Column names will be changed to be less verbose\n",
    "    * `code_module` to `module`\n",
    "    * `code_presentation` to `presentation`\n",
    "    * `highest_education` to `education`\n",
    "    * `imd_band` to `imd`\n",
    "    * `age_band` to `age`\n",
    "    * `num_of_prev_attempts` to `attempts`\n",
    "    * `studied_credits` to `credits`\n",
    "    * `final_result` to `result`\n",
    "    \n",
    "* Column values will be changed to be less verbose:\n",
    "    * education\n",
    "        - `HE Qualification` to `HE`\n",
    "        - `A Level or Equivalent` to `A Level`\n",
    "        - `Lower than A Level` to `Under A Level`\n",
    "        - `Post Graduate Qualification` to `Post Grad`\n",
    "        - `No Formal quals` to `No Formal`\n",
    "    * region\n",
    "        - \"Region\" will be removed from the end of each region name"
   ]
  },
  {
   "cell_type": "code",
   "execution_count": 19,
   "id": "39e86619-7289-4e68-9a10-9a23b680530a",
   "metadata": {
    "id": "39e86619-7289-4e68-9a10-9a23b680530a"
   },
   "outputs": [],
   "source": [
    "# dictionary to rename columns to be easier to see/work with\n",
    "stud_info_rename = {'code_module':'module', 'code_presentation':'presentation', 'final_result':'result', 'studied_credits':'credits', 'age_band':'age', 'num_of_prev_attempts':'attempts', 'highest_education':'education', 'imd_band':'imd'}\n",
    "\n",
    "# pass dictionary to rename to change column names\n",
    "stud_info = stud_info.rename(columns=stud_info_rename)\n",
    "\n",
    "# replace column values to be easier to see/work with\n",
    "stud_info = stud_info.replace({'region':{'East Anglian Region':'East Anglian', 'North Western Region':'North Western', 'South East Region':'South East', 'West Midlands Region':'West Midlands', 'North Region':'North',\n",
    " 'South Region':'South', 'South West Region':'South West', 'East Midlands Region':'East Midlands',\n",
    " 'Yorkshire Region':'Yorkshire', 'London Region':'London'}, 'education':{'HE Qualification':'HE', 'A Level or Equivalent':'A Level', 'Post Graduate Qualification':'Post Grad', 'No Formal quals':'No Formal', 'Lower Than A Level':'Under A Level'}})"
   ]
  },
  {
   "cell_type": "markdown",
   "id": "a820c190-3e19-4b58-af2a-e707f9aa32bc",
   "metadata": {
    "id": "a820c190-3e19-4b58-af2a-e707f9aa32bc"
   },
   "source": [
    "#### Student Info Information"
   ]
  },
  {
   "cell_type": "markdown",
   "id": "e5d0231a-4a87-4e72-92e2-6920a341fa64",
   "metadata": {
    "id": "e5d0231a-4a87-4e72-92e2-6920a341fa64"
   },
   "source": [
    "**Size**"
   ]
  },
  {
   "cell_type": "code",
   "execution_count": 20,
   "id": "1f8d9f74-6321-4862-a536-5668529ba91a",
   "metadata": {
    "colab": {
     "base_uri": "https://localhost:8080/",
     "height": 0
    },
    "id": "1f8d9f74-6321-4862-a536-5668529ba91a",
    "outputId": "c6a7f83a-fe17-4b84-a632-960a537036fd"
   },
   "outputs": [
    {
     "data": {
      "text/html": [
       "<div>\n",
       "<style scoped>\n",
       "    .dataframe tbody tr th:only-of-type {\n",
       "        vertical-align: middle;\n",
       "    }\n",
       "\n",
       "    .dataframe tbody tr th {\n",
       "        vertical-align: top;\n",
       "    }\n",
       "\n",
       "    .dataframe thead th {\n",
       "        text-align: right;\n",
       "    }\n",
       "</style>\n",
       "<table border=\"1\" class=\"dataframe\">\n",
       "  <thead>\n",
       "    <tr style=\"text-align: right;\">\n",
       "      <th></th>\n",
       "      <th>Count</th>\n",
       "    </tr>\n",
       "  </thead>\n",
       "  <tbody>\n",
       "    <tr>\n",
       "      <th>Columns</th>\n",
       "      <td>14</td>\n",
       "    </tr>\n",
       "    <tr>\n",
       "      <th>Rows</th>\n",
       "      <td>32593</td>\n",
       "    </tr>\n",
       "  </tbody>\n",
       "</table>\n",
       "</div>"
      ],
      "text/plain": [
       "         Count\n",
       "Columns     14\n",
       "Rows     32593"
      ]
     },
     "execution_count": 20,
     "metadata": {},
     "output_type": "execute_result"
    }
   ],
   "source": [
    "# get the number of columns and rows in student info\n",
    "get_size(stud_info)"
   ]
  },
  {
   "cell_type": "code",
   "execution_count": 21,
   "id": "846e6a24-8b7b-4c44-b0a1-061d72144c09",
   "metadata": {
    "colab": {
     "base_uri": "https://localhost:8080/",
     "height": 0
    },
    "id": "846e6a24-8b7b-4c44-b0a1-061d72144c09",
    "outputId": "0778f408-805f-4e01-e389-a19672a4c04d",
    "tags": [
     "remove_input"
    ]
   },
   "outputs": [
    {
     "data": {
      "text/markdown": [
       "\n",
       "`stud_info` has 14 columns and 32,593 rows representing our students and their information.\n"
      ],
      "text/plain": [
       "<IPython.core.display.Markdown object>"
      ]
     },
     "execution_count": 21,
     "metadata": {},
     "output_type": "execute_result"
    }
   ],
   "source": [
    "md(f'''\n",
    "`stud_info` has {len(stud_info.columns)} columns and {'{:,}'.format(len(stud_info))} rows representing our students and their information.\n",
    "''')"
   ]
  },
  {
   "cell_type": "markdown",
   "id": "76056444-a214-4282-a6b2-31f9a970c6bb",
   "metadata": {
    "id": "76056444-a214-4282-a6b2-31f9a970c6bb"
   },
   "source": [
    "**Data Types**"
   ]
  },
  {
   "cell_type": "code",
   "execution_count": 22,
   "id": "2d13252c-8afe-496c-b273-37ead8bc0b8b",
   "metadata": {
    "colab": {
     "base_uri": "https://localhost:8080/",
     "height": 0
    },
    "id": "2d13252c-8afe-496c-b273-37ead8bc0b8b",
    "outputId": "6f4183a6-b1a6-43e3-a5c2-8b667f35a5a2",
    "tags": []
   },
   "outputs": [
    {
     "data": {
      "text/html": [
       "<style type=\"text/css\">\n",
       "#T_61298_ td.col0 {\n",
       "  font-weight: bold;\n",
       "}\n",
       "</style>\n",
       "<table id=\"T_61298_\">\n",
       "  <thead>\n",
       "    <tr>\n",
       "      <th class=\"col_heading level0 col0\" >index</th>\n",
       "      <th class=\"col_heading level0 col1\" >Type</th>\n",
       "    </tr>\n",
       "  </thead>\n",
       "  <tbody>\n",
       "    <tr>\n",
       "      <td id=\"T_61298_row0_col0\" class=\"data row0 col0\" >module</td>\n",
       "      <td id=\"T_61298_row0_col1\" class=\"data row0 col1\" >object</td>\n",
       "    </tr>\n",
       "    <tr>\n",
       "      <td id=\"T_61298_row1_col0\" class=\"data row1 col0\" >presentation</td>\n",
       "      <td id=\"T_61298_row1_col1\" class=\"data row1 col1\" >object</td>\n",
       "    </tr>\n",
       "    <tr>\n",
       "      <td id=\"T_61298_row2_col0\" class=\"data row2 col0\" >id_student</td>\n",
       "      <td id=\"T_61298_row2_col1\" class=\"data row2 col1\" >int64</td>\n",
       "    </tr>\n",
       "    <tr>\n",
       "      <td id=\"T_61298_row3_col0\" class=\"data row3 col0\" >region</td>\n",
       "      <td id=\"T_61298_row3_col1\" class=\"data row3 col1\" >object</td>\n",
       "    </tr>\n",
       "    <tr>\n",
       "      <td id=\"T_61298_row4_col0\" class=\"data row4 col0\" >imd</td>\n",
       "      <td id=\"T_61298_row4_col1\" class=\"data row4 col1\" >object</td>\n",
       "    </tr>\n",
       "    <tr>\n",
       "      <td id=\"T_61298_row5_col0\" class=\"data row5 col0\" >age</td>\n",
       "      <td id=\"T_61298_row5_col1\" class=\"data row5 col1\" >object</td>\n",
       "    </tr>\n",
       "    <tr>\n",
       "      <td id=\"T_61298_row6_col0\" class=\"data row6 col0\" >gender</td>\n",
       "      <td id=\"T_61298_row6_col1\" class=\"data row6 col1\" >object</td>\n",
       "    </tr>\n",
       "    <tr>\n",
       "      <td id=\"T_61298_row7_col0\" class=\"data row7 col0\" >education</td>\n",
       "      <td id=\"T_61298_row7_col1\" class=\"data row7 col1\" >object</td>\n",
       "    </tr>\n",
       "    <tr>\n",
       "      <td id=\"T_61298_row8_col0\" class=\"data row8 col0\" >disability</td>\n",
       "      <td id=\"T_61298_row8_col1\" class=\"data row8 col1\" >object</td>\n",
       "    </tr>\n",
       "    <tr>\n",
       "      <td id=\"T_61298_row9_col0\" class=\"data row9 col0\" >attempts</td>\n",
       "      <td id=\"T_61298_row9_col1\" class=\"data row9 col1\" >int64</td>\n",
       "    </tr>\n",
       "    <tr>\n",
       "      <td id=\"T_61298_row10_col0\" class=\"data row10 col0\" >credits</td>\n",
       "      <td id=\"T_61298_row10_col1\" class=\"data row10 col1\" >int64</td>\n",
       "    </tr>\n",
       "    <tr>\n",
       "      <td id=\"T_61298_row11_col0\" class=\"data row11 col0\" >result</td>\n",
       "      <td id=\"T_61298_row11_col1\" class=\"data row11 col1\" >object</td>\n",
       "    </tr>\n",
       "    <tr>\n",
       "      <td id=\"T_61298_row12_col0\" class=\"data row12 col0\" >date_registration</td>\n",
       "      <td id=\"T_61298_row12_col1\" class=\"data row12 col1\" >float64</td>\n",
       "    </tr>\n",
       "    <tr>\n",
       "      <td id=\"T_61298_row13_col0\" class=\"data row13 col0\" >date_unregistration</td>\n",
       "      <td id=\"T_61298_row13_col1\" class=\"data row13 col1\" >float64</td>\n",
       "    </tr>\n",
       "  </tbody>\n",
       "</table>\n"
      ],
      "text/plain": [
       "<pandas.io.formats.style.Styler at 0x1a9009ddb80>"
      ]
     },
     "execution_count": 22,
     "metadata": {},
     "output_type": "execute_result"
    }
   ],
   "source": [
    "# show student info data types\n",
    "get_dtypes(stud_info)"
   ]
  },
  {
   "cell_type": "markdown",
   "id": "dfd5833a-1aed-4d3c-aec6-1de941ff4cfa",
   "metadata": {
    "id": "dfd5833a-1aed-4d3c-aec6-1de941ff4cfa"
   },
   "source": [
    "* `id_student`, `module`, `region`, `imd`, `age`, `gender`, `education`, `result` and `presentation` will be converted from `object` to `string`"
   ]
  },
  {
   "cell_type": "code",
   "execution_count": 23,
   "id": "66fa9c51-2c4c-451f-b20c-d3539e5d8a25",
   "metadata": {
    "id": "66fa9c51-2c4c-451f-b20c-d3539e5d8a25",
    "tags": []
   },
   "outputs": [],
   "source": [
    "# changing id_student to the string data type\n",
    "stud_info = stud_info.astype({'id_student':str})\n",
    "\n",
    "# change other datatypes to those that work with pandas <NA>\n",
    "stud_info = stud_info.convert_dtypes()"
   ]
  },
  {
   "cell_type": "markdown",
   "id": "fbb39656-e2ee-48ce-bcbb-c04d1f7403b6",
   "metadata": {
    "id": "fbb39656-e2ee-48ce-bcbb-c04d1f7403b6"
   },
   "source": [
    "**Null Values**"
   ]
  },
  {
   "cell_type": "code",
   "execution_count": 24,
   "id": "63f24df6-1d6c-4287-b3b6-7f7b92a82efc",
   "metadata": {
    "colab": {
     "base_uri": "https://localhost:8080/",
     "height": 0
    },
    "id": "63f24df6-1d6c-4287-b3b6-7f7b92a82efc",
    "outputId": "ab3ef6f7-50d8-4808-b4cb-7bc9b63e4812",
    "tags": []
   },
   "outputs": [
    {
     "data": {
      "text/html": [
       "<style type=\"text/css\">\n",
       "#T_754db_ td.col0 {\n",
       "  font-weight: bold;\n",
       "}\n",
       "</style>\n",
       "<table id=\"T_754db_\">\n",
       "  <thead>\n",
       "    <tr>\n",
       "      <th class=\"col_heading level0 col0\" >index</th>\n",
       "      <th class=\"col_heading level0 col1\" >Null Values</th>\n",
       "    </tr>\n",
       "  </thead>\n",
       "  <tbody>\n",
       "    <tr>\n",
       "      <td id=\"T_754db_row0_col0\" class=\"data row0 col0\" >module</td>\n",
       "      <td id=\"T_754db_row0_col1\" class=\"data row0 col1\" >0</td>\n",
       "    </tr>\n",
       "    <tr>\n",
       "      <td id=\"T_754db_row1_col0\" class=\"data row1 col0\" >presentation</td>\n",
       "      <td id=\"T_754db_row1_col1\" class=\"data row1 col1\" >0</td>\n",
       "    </tr>\n",
       "    <tr>\n",
       "      <td id=\"T_754db_row2_col0\" class=\"data row2 col0\" >id_student</td>\n",
       "      <td id=\"T_754db_row2_col1\" class=\"data row2 col1\" >0</td>\n",
       "    </tr>\n",
       "    <tr>\n",
       "      <td id=\"T_754db_row3_col0\" class=\"data row3 col0\" >region</td>\n",
       "      <td id=\"T_754db_row3_col1\" class=\"data row3 col1\" >0</td>\n",
       "    </tr>\n",
       "    <tr>\n",
       "      <td id=\"T_754db_row4_col0\" class=\"data row4 col0\" >imd</td>\n",
       "      <td id=\"T_754db_row4_col1\" class=\"data row4 col1\" >1111</td>\n",
       "    </tr>\n",
       "    <tr>\n",
       "      <td id=\"T_754db_row5_col0\" class=\"data row5 col0\" >age</td>\n",
       "      <td id=\"T_754db_row5_col1\" class=\"data row5 col1\" >0</td>\n",
       "    </tr>\n",
       "    <tr>\n",
       "      <td id=\"T_754db_row6_col0\" class=\"data row6 col0\" >gender</td>\n",
       "      <td id=\"T_754db_row6_col1\" class=\"data row6 col1\" >0</td>\n",
       "    </tr>\n",
       "    <tr>\n",
       "      <td id=\"T_754db_row7_col0\" class=\"data row7 col0\" >education</td>\n",
       "      <td id=\"T_754db_row7_col1\" class=\"data row7 col1\" >0</td>\n",
       "    </tr>\n",
       "    <tr>\n",
       "      <td id=\"T_754db_row8_col0\" class=\"data row8 col0\" >disability</td>\n",
       "      <td id=\"T_754db_row8_col1\" class=\"data row8 col1\" >0</td>\n",
       "    </tr>\n",
       "    <tr>\n",
       "      <td id=\"T_754db_row9_col0\" class=\"data row9 col0\" >attempts</td>\n",
       "      <td id=\"T_754db_row9_col1\" class=\"data row9 col1\" >0</td>\n",
       "    </tr>\n",
       "    <tr>\n",
       "      <td id=\"T_754db_row10_col0\" class=\"data row10 col0\" >credits</td>\n",
       "      <td id=\"T_754db_row10_col1\" class=\"data row10 col1\" >0</td>\n",
       "    </tr>\n",
       "    <tr>\n",
       "      <td id=\"T_754db_row11_col0\" class=\"data row11 col0\" >result</td>\n",
       "      <td id=\"T_754db_row11_col1\" class=\"data row11 col1\" >0</td>\n",
       "    </tr>\n",
       "    <tr>\n",
       "      <td id=\"T_754db_row12_col0\" class=\"data row12 col0\" >date_registration</td>\n",
       "      <td id=\"T_754db_row12_col1\" class=\"data row12 col1\" >45</td>\n",
       "    </tr>\n",
       "    <tr>\n",
       "      <td id=\"T_754db_row13_col0\" class=\"data row13 col0\" >date_unregistration</td>\n",
       "      <td id=\"T_754db_row13_col1\" class=\"data row13 col1\" >22521</td>\n",
       "    </tr>\n",
       "  </tbody>\n",
       "</table>\n"
      ],
      "text/plain": [
       "<pandas.io.formats.style.Styler at 0x1a9009b9d00>"
      ]
     },
     "execution_count": 24,
     "metadata": {},
     "output_type": "execute_result"
    }
   ],
   "source": [
    "# make a dataframe of null values in each column in student info\n",
    "null_vals(stud_info)"
   ]
  },
  {
   "cell_type": "code",
   "execution_count": 25,
   "id": "3df60b4b-af12-49b1-9a97-2445d421c767",
   "metadata": {
    "colab": {
     "base_uri": "https://localhost:8080/",
     "height": 0
    },
    "id": "3df60b4b-af12-49b1-9a97-2445d421c767",
    "outputId": "1659abbd-1b56-46e0-f491-a8f48a4205e5",
    "tags": [
     "remove_input"
    ]
   },
   "outputs": [
    {
     "data": {
      "text/markdown": [
       "\n",
       "Above we can see the null values in each column in student info. From this we can note:\n",
       "* The `imd` variable has 1,111 null values. To handle these, we will find the most common \n",
       "imd band for each region and assert that as the missing value.\n",
       "* We have 45 null values for date_registration, and no mention of this in the dataset documentation, \n",
       "so we will treat this as missing data. We will fill these missing dates with the average registration date of all students\n",
       "* There are 22,521 null values for `date_unregistration` which represent the students \n",
       "who did not withdraw from the course.\n",
       "    * Not every withdrawn student has a date that they unregistered. There are 93 entries of students \n",
       "    with a `Withdrawn` result but a `date_unregstration` of `<NA>`"
      ],
      "text/plain": [
       "<IPython.core.display.Markdown object>"
      ]
     },
     "execution_count": 25,
     "metadata": {},
     "output_type": "execute_result"
    }
   ],
   "source": [
    "# store sum of imd null values\n",
    "imd_null = stud_info['imd'].isnull().sum()\n",
    "\n",
    "# store the sum of null values of date_registration\n",
    "null_registration = student_registration['date_registration'].isnull().sum()\n",
    "\n",
    "# store the sum of null values of date_unregistration\n",
    "null_unregistration = student_registration['date_unregistration'].isnull().sum()\n",
    "\n",
    "# locate where stud_info has a result of withdrawn and a date_unregistration of NA\n",
    "withdrawn_na = stud_info.loc[(stud_info['result'] == 'Withdrawn') & (stud_info['date_unregistration'].isna())]\n",
    "\n",
    "\n",
    "md(f'''\n",
    "Above we can see the null values in each column in student info. From this we can note:\n",
    "* The `imd` variable has {\"{:,}\".format(imd_null)} null values. To handle these, we will find the most common \n",
    "imd band for each region and assert that as the missing value.\n",
    "* We have {null_registration} null values for date_registration, and no mention of this in the dataset documentation, \n",
    "so we will treat this as missing data. We will fill these missing dates with the average registration date of all students\n",
    "* There are {\"{:,}\".format(null_unregistration)} null values for `date_unregistration` which represent the students \n",
    "who did not withdraw from the course.\n",
    "    * Not every withdrawn student has a date that they unregistered. There are {len(withdrawn_na)} entries of students \n",
    "    with a `Withdrawn` result but a `date_unregstration` of `<NA>`''')"
   ]
  },
  {
   "cell_type": "code",
   "execution_count": 26,
   "id": "b35d3c26-c8d1-407f-afd9-e07ea73f5b59",
   "metadata": {
    "id": "b35d3c26-c8d1-407f-afd9-e07ea73f5b59",
    "tags": []
   },
   "outputs": [],
   "source": [
    "# find the unique values in regions \n",
    "regions = stud_info['region'].values.unique()\n",
    "\n",
    "# initiate a dictionary for {region:imd}\n",
    "common_imds = {}\n",
    "\n",
    "# iterate through regions values\n",
    "for i in regions:\n",
    "    # locate the imds for each region in stud_info\n",
    "    region_imds = stud_info.loc[stud_info['region'] == i, 'imd']\n",
    "    # get the value_counts for the regions imds and add the highest count to a dict keyed by region\n",
    "    common_imds[i] = region_imds.value_counts().reset_index()['index'][0]\n",
    "\n",
    "# iterate through a sub dataframe of stud_info where imd is NA\n",
    "for index, row in stud_info[stud_info['imd'].isna()].iterrows():\n",
    "    # set the imd at the index of the sub dataframe to the key of the region in the dict in the main dataframe\n",
    "    stud_info.at[index, 'imd'] = common_imds[row['region']]"
   ]
  },
  {
   "cell_type": "code",
   "execution_count": 27,
   "id": "bdca9e2b-bb51-420b-861b-10290486af74",
   "metadata": {
    "id": "bdca9e2b-bb51-420b-861b-10290486af74"
   },
   "outputs": [],
   "source": [
    "# iterate through the rows in stud infor where the registration date is na\n",
    "for index, row in stud_info[stud_info['date_registration'].isna()].iterrows():\n",
    "    # set the registration date at the index of the sub dataframe to mean registration date for all students\n",
    "    stud_info.at[index, 'date_registration'] = int(stud_info['date_registration'].mean())"
   ]
  },
  {
   "cell_type": "markdown",
   "id": "20644812-4e87-42e1-8d55-00e394154999",
   "metadata": {
    "id": "20644812-4e87-42e1-8d55-00e394154999"
   },
   "source": [
    "**Duplicate Values**"
   ]
  },
  {
   "cell_type": "code",
   "execution_count": 28,
   "id": "067fdecf-5b60-4d07-924c-5f21811fbc6c",
   "metadata": {
    "colab": {
     "base_uri": "https://localhost:8080/",
     "height": 0
    },
    "id": "067fdecf-5b60-4d07-924c-5f21811fbc6c",
    "outputId": "19991577-069f-4f20-a9e2-ec00ca90b296",
    "tags": []
   },
   "outputs": [
    {
     "data": {
      "text/markdown": [
       "There are no Duplicate Values"
      ],
      "text/plain": [
       "<IPython.core.display.Markdown object>"
      ]
     },
     "execution_count": 28,
     "metadata": {},
     "output_type": "execute_result"
    }
   ],
   "source": [
    "# show duplicate values in student info if any\n",
    "get_dupes(stud_info)"
   ]
  },
  {
   "cell_type": "markdown",
   "id": "29db75ae-e710-4c57-ac69-cd65b52d8c8d",
   "metadata": {
    "id": "29db75ae-e710-4c57-ac69-cd65b52d8c8d"
   },
   "source": [
    "**Unique Counts**"
   ]
  },
  {
   "cell_type": "code",
   "execution_count": 29,
   "id": "cac841e5-03b2-49e3-958c-207e1d3f2010",
   "metadata": {
    "colab": {
     "base_uri": "https://localhost:8080/",
     "height": 0
    },
    "id": "cac841e5-03b2-49e3-958c-207e1d3f2010",
    "outputId": "15d612b5-a1ee-4806-a8e6-abf369f84c6d",
    "tags": []
   },
   "outputs": [
    {
     "data": {
      "text/html": [
       "<style type=\"text/css\">\n",
       "#T_dca83_ td.col0 {\n",
       "  font-weight: bold;\n",
       "}\n",
       "</style>\n",
       "<table id=\"T_dca83_\">\n",
       "  <thead>\n",
       "    <tr>\n",
       "      <th class=\"col_heading level0 col0\" >index</th>\n",
       "      <th class=\"col_heading level0 col1\" >Count</th>\n",
       "    </tr>\n",
       "  </thead>\n",
       "  <tbody>\n",
       "    <tr>\n",
       "      <td id=\"T_dca83_row0_col0\" class=\"data row0 col0\" >module</td>\n",
       "      <td id=\"T_dca83_row0_col1\" class=\"data row0 col1\" >7</td>\n",
       "    </tr>\n",
       "    <tr>\n",
       "      <td id=\"T_dca83_row1_col0\" class=\"data row1 col0\" >presentation</td>\n",
       "      <td id=\"T_dca83_row1_col1\" class=\"data row1 col1\" >4</td>\n",
       "    </tr>\n",
       "    <tr>\n",
       "      <td id=\"T_dca83_row2_col0\" class=\"data row2 col0\" >id_student</td>\n",
       "      <td id=\"T_dca83_row2_col1\" class=\"data row2 col1\" >28785</td>\n",
       "    </tr>\n",
       "    <tr>\n",
       "      <td id=\"T_dca83_row3_col0\" class=\"data row3 col0\" >region</td>\n",
       "      <td id=\"T_dca83_row3_col1\" class=\"data row3 col1\" >13</td>\n",
       "    </tr>\n",
       "    <tr>\n",
       "      <td id=\"T_dca83_row4_col0\" class=\"data row4 col0\" >imd</td>\n",
       "      <td id=\"T_dca83_row4_col1\" class=\"data row4 col1\" >10</td>\n",
       "    </tr>\n",
       "    <tr>\n",
       "      <td id=\"T_dca83_row5_col0\" class=\"data row5 col0\" >age</td>\n",
       "      <td id=\"T_dca83_row5_col1\" class=\"data row5 col1\" >3</td>\n",
       "    </tr>\n",
       "    <tr>\n",
       "      <td id=\"T_dca83_row6_col0\" class=\"data row6 col0\" >gender</td>\n",
       "      <td id=\"T_dca83_row6_col1\" class=\"data row6 col1\" >2</td>\n",
       "    </tr>\n",
       "    <tr>\n",
       "      <td id=\"T_dca83_row7_col0\" class=\"data row7 col0\" >education</td>\n",
       "      <td id=\"T_dca83_row7_col1\" class=\"data row7 col1\" >5</td>\n",
       "    </tr>\n",
       "    <tr>\n",
       "      <td id=\"T_dca83_row8_col0\" class=\"data row8 col0\" >disability</td>\n",
       "      <td id=\"T_dca83_row8_col1\" class=\"data row8 col1\" >2</td>\n",
       "    </tr>\n",
       "    <tr>\n",
       "      <td id=\"T_dca83_row9_col0\" class=\"data row9 col0\" >attempts</td>\n",
       "      <td id=\"T_dca83_row9_col1\" class=\"data row9 col1\" >7</td>\n",
       "    </tr>\n",
       "    <tr>\n",
       "      <td id=\"T_dca83_row10_col0\" class=\"data row10 col0\" >credits</td>\n",
       "      <td id=\"T_dca83_row10_col1\" class=\"data row10 col1\" >61</td>\n",
       "    </tr>\n",
       "    <tr>\n",
       "      <td id=\"T_dca83_row11_col0\" class=\"data row11 col0\" >result</td>\n",
       "      <td id=\"T_dca83_row11_col1\" class=\"data row11 col1\" >4</td>\n",
       "    </tr>\n",
       "    <tr>\n",
       "      <td id=\"T_dca83_row12_col0\" class=\"data row12 col0\" >date_registration</td>\n",
       "      <td id=\"T_dca83_row12_col1\" class=\"data row12 col1\" >332</td>\n",
       "    </tr>\n",
       "    <tr>\n",
       "      <td id=\"T_dca83_row13_col0\" class=\"data row13 col0\" >date_unregistration</td>\n",
       "      <td id=\"T_dca83_row13_col1\" class=\"data row13 col1\" >416</td>\n",
       "    </tr>\n",
       "  </tbody>\n",
       "</table>\n"
      ],
      "text/plain": [
       "<pandas.io.formats.style.Styler at 0x1a9009a6220>"
      ]
     },
     "execution_count": 29,
     "metadata": {},
     "output_type": "execute_result"
    }
   ],
   "source": [
    "# Get number of unique values per variable in student info\n",
    "count_unique(stud_info)"
   ]
  },
  {
   "cell_type": "code",
   "execution_count": 30,
   "id": "9c1f6ce1-a8ab-4b5c-a9be-6e322acca4d5",
   "metadata": {
    "colab": {
     "base_uri": "https://localhost:8080/",
     "height": 0
    },
    "id": "9c1f6ce1-a8ab-4b5c-a9be-6e322acca4d5",
    "outputId": "5798d170-1403-4e3b-9e4a-2fb1277f9bfd",
    "tags": [
     "remove_input"
    ]
   },
   "outputs": [
    {
     "data": {
      "text/markdown": [
       "\n",
       "In the above dataframe for unique value counts in each column we can see:\n",
       "* There are 32,593 entries for students but only 28,785 unique student IDs.\n",
       "    * 2,479 student IDs appear multiple times due to students taking multiple modules\n",
       "    * 1,259 student IDs appear multiple times due to students attempting the same module more than once.\n"
      ],
      "text/plain": [
       "<IPython.core.display.Markdown object>"
      ]
     },
     "execution_count": 30,
     "metadata": {},
     "output_type": "execute_result"
    }
   ],
   "source": [
    "# store count of total student ids\n",
    "total_students = stud_info['id_student'].count()\n",
    "\n",
    "# store count of unique student ids\n",
    "unique_students = stud_info['id_student'].nunique()\n",
    "\n",
    "# retrieve all records from students in stud_info whose id is duplicated\n",
    "dupe_students = stud_info[stud_info.duplicated(subset=['id_student'], keep=False)]\n",
    "\n",
    "# convert the datatypes back in dupe_students\n",
    "dupe_students = dupe_students.astype({'id_student':'category'})\n",
    "dupe_students = dupe_students.convert_dtypes()\n",
    "\n",
    "# subset those who took multiple modules in the same presentation by finding duplicate id_students and presentations\n",
    "mult_mods = dupe_students[dupe_students.duplicated(subset=['id_student', 'presentation'], keep=False)]\n",
    "\n",
    "# subset those who took multiple attempts by finding duplicate id_students and modules\n",
    "mult_attempt = dupe_students[dupe_students.duplicated(subset=['module','id_student'], keep=False)]\n",
    "\n",
    "# merge students with multiple attempts and who took multiple modules to find the students we have values for\n",
    "merged_attempt_mods = mult_attempt.merge(mult_mods, how='outer', on=[i for i in mult_attempt.columns])\n",
    "\n",
    "# find students that are not in mult_mods or mult_attempt but still duplicated\n",
    "mult_mods_pres = pd.concat([merged_attempt_mods, dupe_students]).drop_duplicates(keep=False)\n",
    "\n",
    "# append the multiple module/presentation students to mult_mods\n",
    "mult_mods = mult_mods.append(mult_mods_pres)\n",
    "\n",
    "md(f'''\n",
    "In the above dataframe for unique value counts in each column we can see:\n",
    "* There are {\"{:,}\".format(total_students)} entries for students but only {\"{:,}\".format(unique_students)} unique student IDs.\n",
    "    * {\"{:,}\".format(mult_mods['id_student'].nunique())} student IDs appear multiple times due to students taking multiple modules\n",
    "    * {\"{:,}\".format(mult_attempt['id_student'].nunique())} student IDs appear multiple times due to students attempting the same module more than once.\n",
    "''')"
   ]
  },
  {
   "cell_type": "markdown",
   "id": "1a0d78e6-d5c4-43fe-873b-8fd6d63ca15e",
   "metadata": {
    "id": "1a0d78e6-d5c4-43fe-873b-8fd6d63ca15e"
   },
   "source": [
    "**Unique Categorical Values**"
   ]
  },
  {
   "cell_type": "code",
   "execution_count": 31,
   "id": "2d7aa17f-64aa-403e-b6b9-ea0d8c860e2e",
   "metadata": {
    "colab": {
     "base_uri": "https://localhost:8080/",
     "height": 0
    },
    "id": "2d7aa17f-64aa-403e-b6b9-ea0d8c860e2e",
    "outputId": "92845080-01d6-44d5-be4c-ea05b3ee30e3",
    "tags": []
   },
   "outputs": [
    {
     "data": {
      "text/html": [
       "<style type=\"text/css\">\n",
       "#T_c4cdc_ td.col0 {\n",
       "  font-weight: bold;\n",
       "}\n",
       "</style>\n",
       "<table id=\"T_c4cdc_\">\n",
       "  <thead>\n",
       "    <tr>\n",
       "      <th class=\"col_heading level0 col0\" >index</th>\n",
       "      <th class=\"col_heading level0 col1\" >Values</th>\n",
       "    </tr>\n",
       "  </thead>\n",
       "  <tbody>\n",
       "    <tr>\n",
       "      <td id=\"T_c4cdc_row0_col0\" class=\"data row0 col0\" >module</td>\n",
       "      <td id=\"T_c4cdc_row0_col1\" class=\"data row0 col1\" >['AAA', 'BBB', 'CCC', 'DDD', 'EEE', 'FFF', 'GGG']</td>\n",
       "    </tr>\n",
       "    <tr>\n",
       "      <td id=\"T_c4cdc_row1_col0\" class=\"data row1 col0\" >presentation</td>\n",
       "      <td id=\"T_c4cdc_row1_col1\" class=\"data row1 col1\" >['2013J', '2014J', '2013B', '2014B']</td>\n",
       "    </tr>\n",
       "    <tr>\n",
       "      <td id=\"T_c4cdc_row2_col0\" class=\"data row2 col0\" >region</td>\n",
       "      <td id=\"T_c4cdc_row2_col1\" class=\"data row2 col1\" >['East Anglian', 'Scotland', 'North Western', 'South East', 'West Midlands', 'Wales', 'North', 'South', 'Ireland', 'South West', 'East Midlands', 'Yorkshire', 'London']</td>\n",
       "    </tr>\n",
       "    <tr>\n",
       "      <td id=\"T_c4cdc_row3_col0\" class=\"data row3 col0\" >imd</td>\n",
       "      <td id=\"T_c4cdc_row3_col1\" class=\"data row3 col1\" >['90-100%', '20-30%', '30-40%', '50-60%', '80-90%', '70-80%', '10-20', '60-70%', '40-50%', '0-10%']</td>\n",
       "    </tr>\n",
       "    <tr>\n",
       "      <td id=\"T_c4cdc_row4_col0\" class=\"data row4 col0\" >age</td>\n",
       "      <td id=\"T_c4cdc_row4_col1\" class=\"data row4 col1\" >['55<=', '35-55', '0-35']</td>\n",
       "    </tr>\n",
       "    <tr>\n",
       "      <td id=\"T_c4cdc_row5_col0\" class=\"data row5 col0\" >gender</td>\n",
       "      <td id=\"T_c4cdc_row5_col1\" class=\"data row5 col1\" >['M', 'F']</td>\n",
       "    </tr>\n",
       "    <tr>\n",
       "      <td id=\"T_c4cdc_row6_col0\" class=\"data row6 col0\" >education</td>\n",
       "      <td id=\"T_c4cdc_row6_col1\" class=\"data row6 col1\" >['HE', 'A Level', 'Under A Level', 'Post Grad', 'No Formal']</td>\n",
       "    </tr>\n",
       "    <tr>\n",
       "      <td id=\"T_c4cdc_row7_col0\" class=\"data row7 col0\" >disability</td>\n",
       "      <td id=\"T_c4cdc_row7_col1\" class=\"data row7 col1\" >['N', 'Y']</td>\n",
       "    </tr>\n",
       "    <tr>\n",
       "      <td id=\"T_c4cdc_row8_col0\" class=\"data row8 col0\" >result</td>\n",
       "      <td id=\"T_c4cdc_row8_col1\" class=\"data row8 col1\" >['Pass', 'Withdrawn', 'Fail', 'Distinction']</td>\n",
       "    </tr>\n",
       "  </tbody>\n",
       "</table>\n"
      ],
      "text/plain": [
       "<pandas.io.formats.style.Styler at 0x1a9009e98e0>"
      ]
     },
     "execution_count": 31,
     "metadata": {},
     "output_type": "execute_result"
    }
   ],
   "source": [
    "unique_vals(stud_info)"
   ]
  },
  {
   "cell_type": "markdown",
   "id": "8536b503-6a18-4b27-b304-912a74efc0d9",
   "metadata": {
    "id": "8536b503-6a18-4b27-b304-912a74efc0d9"
   },
   "source": [
    "In  the unique categorical values we see imd_band the % sign is missing in the 10-20 imd band. We will add that for consistency and clarity"
   ]
  },
  {
   "cell_type": "code",
   "execution_count": 32,
   "id": "84e74222-1d6b-49a9-a11e-4c0d24b1d7d2",
   "metadata": {
    "id": "84e74222-1d6b-49a9-a11e-4c0d24b1d7d2",
    "tags": []
   },
   "outputs": [],
   "source": [
    "# changing all 10-20 values in stud_info imd_band to 10-20%\n",
    "stud_info.loc[stud_info['imd'] == '10-20', 'imd'] = '10-20%'"
   ]
  },
  {
   "cell_type": "markdown",
   "id": "1badb055-5b70-4e71-b31f-d004392bff05",
   "metadata": {
    "id": "1badb055-5b70-4e71-b31f-d004392bff05",
    "tags": []
   },
   "source": [
    "**Numerical Values**"
   ]
  },
  {
   "cell_type": "code",
   "execution_count": 33,
   "id": "df2620e5-4703-4063-b4ce-abbbc48cf241",
   "metadata": {
    "colab": {
     "base_uri": "https://localhost:8080/",
     "height": 0
    },
    "id": "df2620e5-4703-4063-b4ce-abbbc48cf241",
    "outputId": "168bdd02-48ce-4455-90c7-b15dfb6fc574",
    "tags": []
   },
   "outputs": [
    {
     "data": {
      "text/html": [
       "<div>\n",
       "<style scoped>\n",
       "    .dataframe tbody tr th:only-of-type {\n",
       "        vertical-align: middle;\n",
       "    }\n",
       "\n",
       "    .dataframe tbody tr th {\n",
       "        vertical-align: top;\n",
       "    }\n",
       "\n",
       "    .dataframe thead th {\n",
       "        text-align: right;\n",
       "    }\n",
       "</style>\n",
       "<table border=\"1\" class=\"dataframe\">\n",
       "  <thead>\n",
       "    <tr style=\"text-align: right;\">\n",
       "      <th></th>\n",
       "      <th>attempts</th>\n",
       "      <th>credits</th>\n",
       "      <th>date_registration</th>\n",
       "      <th>date_unregistration</th>\n",
       "    </tr>\n",
       "  </thead>\n",
       "  <tbody>\n",
       "    <tr>\n",
       "      <th>count</th>\n",
       "      <td>32593.0</td>\n",
       "      <td>32593.0</td>\n",
       "      <td>32593.0</td>\n",
       "      <td>10072.0</td>\n",
       "    </tr>\n",
       "    <tr>\n",
       "      <th>mean</th>\n",
       "      <td>0.2</td>\n",
       "      <td>79.8</td>\n",
       "      <td>-69.4</td>\n",
       "      <td>49.8</td>\n",
       "    </tr>\n",
       "    <tr>\n",
       "      <th>std</th>\n",
       "      <td>0.5</td>\n",
       "      <td>41.1</td>\n",
       "      <td>49.2</td>\n",
       "      <td>82.5</td>\n",
       "    </tr>\n",
       "    <tr>\n",
       "      <th>min</th>\n",
       "      <td>0.0</td>\n",
       "      <td>30.0</td>\n",
       "      <td>-322.0</td>\n",
       "      <td>-365.0</td>\n",
       "    </tr>\n",
       "    <tr>\n",
       "      <th>25%</th>\n",
       "      <td>0.0</td>\n",
       "      <td>60.0</td>\n",
       "      <td>-100.0</td>\n",
       "      <td>-2.0</td>\n",
       "    </tr>\n",
       "    <tr>\n",
       "      <th>50%</th>\n",
       "      <td>0.0</td>\n",
       "      <td>60.0</td>\n",
       "      <td>-57.0</td>\n",
       "      <td>27.0</td>\n",
       "    </tr>\n",
       "    <tr>\n",
       "      <th>75%</th>\n",
       "      <td>0.0</td>\n",
       "      <td>120.0</td>\n",
       "      <td>-29.0</td>\n",
       "      <td>109.0</td>\n",
       "    </tr>\n",
       "    <tr>\n",
       "      <th>max</th>\n",
       "      <td>6.0</td>\n",
       "      <td>655.0</td>\n",
       "      <td>167.0</td>\n",
       "      <td>444.0</td>\n",
       "    </tr>\n",
       "  </tbody>\n",
       "</table>\n",
       "</div>"
      ],
      "text/plain": [
       "       attempts  credits  date_registration  date_unregistration\n",
       "count   32593.0  32593.0            32593.0              10072.0\n",
       "mean        0.2     79.8              -69.4                 49.8\n",
       "std         0.5     41.1               49.2                 82.5\n",
       "min         0.0     30.0             -322.0               -365.0\n",
       "25%         0.0     60.0             -100.0                 -2.0\n",
       "50%         0.0     60.0              -57.0                 27.0\n",
       "75%         0.0    120.0              -29.0                109.0\n",
       "max         6.0    655.0              167.0                444.0"
      ]
     },
     "execution_count": 33,
     "metadata": {},
     "output_type": "execute_result"
    }
   ],
   "source": [
    "# show statistical breakdown of numerical values in student info\n",
    "stud_info.describe(include='int64').round(1)"
   ]
  },
  {
   "cell_type": "code",
   "execution_count": 34,
   "id": "95a738d8-7944-472e-b089-e90194d68b94",
   "metadata": {
    "colab": {
     "base_uri": "https://localhost:8080/",
     "height": 0
    },
    "id": "95a738d8-7944-472e-b089-e90194d68b94",
    "outputId": "395ffd5c-fc72-4fa7-ba55-897096c33aff",
    "tags": [
     "remove_input"
    ]
   },
   "outputs": [
    {
     "data": {
      "text/markdown": [
       "\n",
       "In the above breakdown we can see:\n",
       "* Most students do not have a previous attempt, but there is a high of 6 attempts.\n",
       "    * We can only have data for up to two of the students attempts since we only have two years worth of data.\n",
       "* The maximum amount of credits a student took during the module was 655\n",
       "    * This over twenty times the minimum of 30 credits.\n",
       "* It is unknown how these courses were weighted, but this amount of credits at the same time may have influenced student success\n",
       "* There are 10,072 values for of date_unregistration which represents the number of students who withdrew from the course.\n",
       "* The earliest date_unregistration date is -365.0 days before the course began, which means this student did not make it to the first day. \n"
      ],
      "text/plain": [
       "<IPython.core.display.Markdown object>"
      ]
     },
     "execution_count": 34,
     "metadata": {},
     "output_type": "execute_result"
    }
   ],
   "source": [
    "# store the highest number of module previous attempts by students\n",
    "max_attempts = stud_info['attempts'].max()\n",
    "\n",
    "# store the highest number of credits a student took\n",
    "max_credits = stud_info['credits'].max()\n",
    "\n",
    "# store the lowest amount of credits a student took\n",
    "min_credits = stud_info['credits'].min()\n",
    "\n",
    "# store the count of students with an unregistration date\n",
    "unreg_total = student_registration['date_unregistration'].count()\n",
    "\n",
    "# store the smallest value for unregistration date\n",
    "unreg_min = student_registration['date_unregistration'].min()\n",
    "\n",
    "md(f'''\n",
    "In the above breakdown we can see:\n",
    "* Most students do not have a previous attempt, but there is a high of {max_attempts} attempts.\n",
    "    * We can only have data for up to two of the students attempts since we only have two years worth of data.\n",
    "* The maximum amount of credits a student took during the module was {max_credits}\n",
    "    * This over twenty times the minimum of {min_credits} credits.\n",
    "* It is unknown how these courses were weighted, but this amount of credits at the same time may have influenced student success\n",
    "* There are {\"{:,}\".format(unreg_total)} values for of date_unregistration which represents the number of students who withdrew from the course.\n",
    "* The earliest date_unregistration date is {unreg_min} days before the course began, which means this student did not make it to the first day. \n",
    "''')"
   ]
  },
  {
   "cell_type": "markdown",
   "id": "6b20d077-e86e-4c4d-a903-0e5b4cb97097",
   "metadata": {
    "id": "6b20d077-e86e-4c4d-a903-0e5b4cb97097"
   },
   "source": [
    "**Early Withdrawals**\n",
    "\n",
    "Here we will look at the information we have on students who withdrew before the first day."
   ]
  },
  {
   "cell_type": "code",
   "execution_count": 35,
   "id": "853ebf71-e274-49f7-9861-31700da66bd2",
   "metadata": {
    "colab": {
     "base_uri": "https://localhost:8080/",
     "height": 0
    },
    "id": "853ebf71-e274-49f7-9861-31700da66bd2",
    "outputId": "49b98208-6a37-428f-d378-7c4909141199",
    "tags": []
   },
   "outputs": [
    {
     "data": {
      "text/html": [
       "<div>\n",
       "<style scoped>\n",
       "    .dataframe tbody tr th:only-of-type {\n",
       "        vertical-align: middle;\n",
       "    }\n",
       "\n",
       "    .dataframe tbody tr th {\n",
       "        vertical-align: top;\n",
       "    }\n",
       "\n",
       "    .dataframe thead th {\n",
       "        text-align: right;\n",
       "    }\n",
       "</style>\n",
       "<table border=\"1\" class=\"dataframe\">\n",
       "  <thead>\n",
       "    <tr style=\"text-align: right;\">\n",
       "      <th></th>\n",
       "      <th>module</th>\n",
       "      <th>presentation</th>\n",
       "      <th>id_student</th>\n",
       "      <th>region</th>\n",
       "      <th>imd</th>\n",
       "      <th>age</th>\n",
       "      <th>gender</th>\n",
       "      <th>education</th>\n",
       "      <th>disability</th>\n",
       "      <th>attempts</th>\n",
       "      <th>credits</th>\n",
       "      <th>result</th>\n",
       "      <th>date_registration</th>\n",
       "      <th>date_unregistration</th>\n",
       "    </tr>\n",
       "  </thead>\n",
       "  <tbody>\n",
       "    <tr>\n",
       "      <th>125</th>\n",
       "      <td>AAA</td>\n",
       "      <td>2013J</td>\n",
       "      <td>292923</td>\n",
       "      <td>South East</td>\n",
       "      <td>90-100%</td>\n",
       "      <td>35-55</td>\n",
       "      <td>F</td>\n",
       "      <td>A Level</td>\n",
       "      <td>N</td>\n",
       "      <td>0</td>\n",
       "      <td>180</td>\n",
       "      <td>Withdrawn</td>\n",
       "      <td>-162</td>\n",
       "      <td>-121</td>\n",
       "    </tr>\n",
       "    <tr>\n",
       "      <th>136</th>\n",
       "      <td>AAA</td>\n",
       "      <td>2013J</td>\n",
       "      <td>305539</td>\n",
       "      <td>Wales</td>\n",
       "      <td>80-90%</td>\n",
       "      <td>0-35</td>\n",
       "      <td>F</td>\n",
       "      <td>Under A Level</td>\n",
       "      <td>N</td>\n",
       "      <td>0</td>\n",
       "      <td>120</td>\n",
       "      <td>Withdrawn</td>\n",
       "      <td>-54</td>\n",
       "      <td>-3</td>\n",
       "    </tr>\n",
       "    <tr>\n",
       "      <th>198</th>\n",
       "      <td>AAA</td>\n",
       "      <td>2013J</td>\n",
       "      <td>405961</td>\n",
       "      <td>Scotland</td>\n",
       "      <td>90-100%</td>\n",
       "      <td>0-35</td>\n",
       "      <td>M</td>\n",
       "      <td>A Level</td>\n",
       "      <td>Y</td>\n",
       "      <td>0</td>\n",
       "      <td>240</td>\n",
       "      <td>Withdrawn</td>\n",
       "      <td>-170</td>\n",
       "      <td>-100</td>\n",
       "    </tr>\n",
       "    <tr>\n",
       "      <th>256</th>\n",
       "      <td>AAA</td>\n",
       "      <td>2013J</td>\n",
       "      <td>1763015</td>\n",
       "      <td>Scotland</td>\n",
       "      <td>10-20%</td>\n",
       "      <td>35-55</td>\n",
       "      <td>F</td>\n",
       "      <td>A Level</td>\n",
       "      <td>N</td>\n",
       "      <td>0</td>\n",
       "      <td>60</td>\n",
       "      <td>Withdrawn</td>\n",
       "      <td>-58</td>\n",
       "      <td>-2</td>\n",
       "    </tr>\n",
       "    <tr>\n",
       "      <th>298</th>\n",
       "      <td>AAA</td>\n",
       "      <td>2013J</td>\n",
       "      <td>2318055</td>\n",
       "      <td>Wales</td>\n",
       "      <td>90-100%</td>\n",
       "      <td>35-55</td>\n",
       "      <td>M</td>\n",
       "      <td>A Level</td>\n",
       "      <td>N</td>\n",
       "      <td>0</td>\n",
       "      <td>60</td>\n",
       "      <td>Withdrawn</td>\n",
       "      <td>-56</td>\n",
       "      <td>-19</td>\n",
       "    </tr>\n",
       "  </tbody>\n",
       "</table>\n",
       "</div>"
      ],
      "text/plain": [
       "    module presentation id_student      region      imd    age gender  \\\n",
       "125    AAA        2013J     292923  South East  90-100%  35-55      F   \n",
       "136    AAA        2013J     305539       Wales   80-90%   0-35      F   \n",
       "198    AAA        2013J     405961    Scotland  90-100%   0-35      M   \n",
       "256    AAA        2013J    1763015    Scotland   10-20%  35-55      F   \n",
       "298    AAA        2013J    2318055       Wales  90-100%  35-55      M   \n",
       "\n",
       "         education disability  attempts  credits     result  \\\n",
       "125        A Level          N         0      180  Withdrawn   \n",
       "136  Under A Level          N         0      120  Withdrawn   \n",
       "198        A Level          Y         0      240  Withdrawn   \n",
       "256        A Level          N         0       60  Withdrawn   \n",
       "298        A Level          N         0       60  Withdrawn   \n",
       "\n",
       "     date_registration  date_unregistration  \n",
       "125               -162                 -121  \n",
       "136                -54                   -3  \n",
       "198               -170                 -100  \n",
       "256                -58                   -2  \n",
       "298                -56                  -19  "
      ]
     },
     "execution_count": 35,
     "metadata": {},
     "output_type": "execute_result"
    }
   ],
   "source": [
    "# find students in stud_info with an unregistration date before the course started and display them\n",
    "early_withdraws = stud_info.loc[stud_info['date_unregistration'] <= 0]\n",
    "early_withdraws.head()"
   ]
  },
  {
   "cell_type": "code",
   "execution_count": 36,
   "id": "de4535a5-d1cd-495a-9b92-fffaeab23bf1",
   "metadata": {
    "colab": {
     "base_uri": "https://localhost:8080/",
     "height": 0
    },
    "id": "de4535a5-d1cd-495a-9b92-fffaeab23bf1",
    "outputId": "0f4d6b2d-9d89-4b7d-8e7b-a136e36f0221",
    "tags": [
     "remove_input"
    ]
   },
   "outputs": [
    {
     "data": {
      "text/markdown": [
       "\n",
       "Above we have a dataframe of the 3,097 students with a withdrawal date before the first day.\n",
       "\n",
       "Let's look at their results:\n"
      ],
      "text/plain": [
       "<IPython.core.display.Markdown object>"
      ]
     },
     "execution_count": 36,
     "metadata": {},
     "output_type": "execute_result"
    }
   ],
   "source": [
    "md(f'''\n",
    "Above we have a dataframe of the {\"{:,}\".format(len(early_withdraws))} students with a withdrawal date before the first day.\n",
    "\n",
    "Let's look at their results:\n",
    "''')"
   ]
  },
  {
   "cell_type": "code",
   "execution_count": 37,
   "id": "c8896dab-3daf-4dc5-87e6-703e702c55e4",
   "metadata": {
    "colab": {
     "base_uri": "https://localhost:8080/",
     "height": 0
    },
    "id": "c8896dab-3daf-4dc5-87e6-703e702c55e4",
    "outputId": "35cdd0ae-2691-49e4-e0e5-4b410b31df69",
    "tags": [
     "remove_input"
    ]
   },
   "outputs": [
    {
     "data": {
      "text/html": [
       "<div>\n",
       "<style scoped>\n",
       "    .dataframe tbody tr th:only-of-type {\n",
       "        vertical-align: middle;\n",
       "    }\n",
       "\n",
       "    .dataframe tbody tr th {\n",
       "        vertical-align: top;\n",
       "    }\n",
       "\n",
       "    .dataframe thead th {\n",
       "        text-align: right;\n",
       "    }\n",
       "</style>\n",
       "<table border=\"1\" class=\"dataframe\">\n",
       "  <thead>\n",
       "    <tr style=\"text-align: right;\">\n",
       "      <th></th>\n",
       "      <th>result</th>\n",
       "    </tr>\n",
       "  </thead>\n",
       "  <tbody>\n",
       "    <tr>\n",
       "      <th>Withdrawn</th>\n",
       "      <td>3089</td>\n",
       "    </tr>\n",
       "    <tr>\n",
       "      <th>Fail</th>\n",
       "      <td>8</td>\n",
       "    </tr>\n",
       "  </tbody>\n",
       "</table>\n",
       "</div>"
      ],
      "text/plain": [
       "           result\n",
       "Withdrawn    3089\n",
       "Fail            8"
      ]
     },
     "execution_count": 37,
     "metadata": {},
     "output_type": "execute_result"
    }
   ],
   "source": [
    "# find possible result values in early withdraw students\n",
    "dataframe(early_withdraws['result'].value_counts())"
   ]
  },
  {
   "cell_type": "markdown",
   "id": "b715d0d2-7acd-4985-9c10-52badaf0ad31",
   "metadata": {
    "id": "b715d0d2-7acd-4985-9c10-52badaf0ad31"
   },
   "source": [
    "Above we can see that while the bulk of these students withdrew, some managed to fail before the first day. \n",
    "\n",
    "Let's look at these students:"
   ]
  },
  {
   "cell_type": "code",
   "execution_count": 38,
   "id": "d40de8cd-c584-428f-9af5-f88c49bd0696",
   "metadata": {
    "colab": {
     "base_uri": "https://localhost:8080/",
     "height": 0
    },
    "id": "d40de8cd-c584-428f-9af5-f88c49bd0696",
    "outputId": "f859e636-2178-479d-febe-24eddc45a691"
   },
   "outputs": [
    {
     "data": {
      "text/html": [
       "<div>\n",
       "<style scoped>\n",
       "    .dataframe tbody tr th:only-of-type {\n",
       "        vertical-align: middle;\n",
       "    }\n",
       "\n",
       "    .dataframe tbody tr th {\n",
       "        vertical-align: top;\n",
       "    }\n",
       "\n",
       "    .dataframe thead th {\n",
       "        text-align: right;\n",
       "    }\n",
       "</style>\n",
       "<table border=\"1\" class=\"dataframe\">\n",
       "  <thead>\n",
       "    <tr style=\"text-align: right;\">\n",
       "      <th></th>\n",
       "      <th>module</th>\n",
       "      <th>presentation</th>\n",
       "      <th>id_student</th>\n",
       "      <th>region</th>\n",
       "      <th>imd</th>\n",
       "      <th>age</th>\n",
       "      <th>gender</th>\n",
       "      <th>education</th>\n",
       "      <th>disability</th>\n",
       "      <th>attempts</th>\n",
       "      <th>credits</th>\n",
       "      <th>result</th>\n",
       "      <th>date_registration</th>\n",
       "      <th>date_unregistration</th>\n",
       "    </tr>\n",
       "  </thead>\n",
       "  <tbody>\n",
       "    <tr>\n",
       "      <th>2777</th>\n",
       "      <td>BBB</td>\n",
       "      <td>2013J</td>\n",
       "      <td>362907</td>\n",
       "      <td>South West</td>\n",
       "      <td>20-30%</td>\n",
       "      <td>35-55</td>\n",
       "      <td>F</td>\n",
       "      <td>Under A Level</td>\n",
       "      <td>N</td>\n",
       "      <td>2</td>\n",
       "      <td>60</td>\n",
       "      <td>Fail</td>\n",
       "      <td>-37</td>\n",
       "      <td>0</td>\n",
       "    </tr>\n",
       "    <tr>\n",
       "      <th>2786</th>\n",
       "      <td>BBB</td>\n",
       "      <td>2013J</td>\n",
       "      <td>365288</td>\n",
       "      <td>South</td>\n",
       "      <td>70-80%</td>\n",
       "      <td>0-35</td>\n",
       "      <td>F</td>\n",
       "      <td>A Level</td>\n",
       "      <td>N</td>\n",
       "      <td>0</td>\n",
       "      <td>60</td>\n",
       "      <td>Fail</td>\n",
       "      <td>-75</td>\n",
       "      <td>0</td>\n",
       "    </tr>\n",
       "    <tr>\n",
       "      <th>14625</th>\n",
       "      <td>DDD</td>\n",
       "      <td>2013J</td>\n",
       "      <td>315082</td>\n",
       "      <td>West Midlands</td>\n",
       "      <td>50-60%</td>\n",
       "      <td>0-35</td>\n",
       "      <td>M</td>\n",
       "      <td>A Level</td>\n",
       "      <td>N</td>\n",
       "      <td>0</td>\n",
       "      <td>60</td>\n",
       "      <td>Fail</td>\n",
       "      <td>-73</td>\n",
       "      <td>0</td>\n",
       "    </tr>\n",
       "    <tr>\n",
       "      <th>14768</th>\n",
       "      <td>DDD</td>\n",
       "      <td>2013J</td>\n",
       "      <td>403052</td>\n",
       "      <td>Yorkshire</td>\n",
       "      <td>20-30%</td>\n",
       "      <td>0-35</td>\n",
       "      <td>F</td>\n",
       "      <td>HE</td>\n",
       "      <td>N</td>\n",
       "      <td>0</td>\n",
       "      <td>150</td>\n",
       "      <td>Fail</td>\n",
       "      <td>-22</td>\n",
       "      <td>0</td>\n",
       "    </tr>\n",
       "    <tr>\n",
       "      <th>15577</th>\n",
       "      <td>DDD</td>\n",
       "      <td>2013J</td>\n",
       "      <td>582954</td>\n",
       "      <td>London</td>\n",
       "      <td>10-20%</td>\n",
       "      <td>0-35</td>\n",
       "      <td>M</td>\n",
       "      <td>Under A Level</td>\n",
       "      <td>N</td>\n",
       "      <td>0</td>\n",
       "      <td>120</td>\n",
       "      <td>Fail</td>\n",
       "      <td>-81</td>\n",
       "      <td>-7</td>\n",
       "    </tr>\n",
       "    <tr>\n",
       "      <th>24057</th>\n",
       "      <td>FFF</td>\n",
       "      <td>2013J</td>\n",
       "      <td>234004</td>\n",
       "      <td>Yorkshire</td>\n",
       "      <td>50-60%</td>\n",
       "      <td>0-35</td>\n",
       "      <td>M</td>\n",
       "      <td>A Level</td>\n",
       "      <td>N</td>\n",
       "      <td>0</td>\n",
       "      <td>60</td>\n",
       "      <td>Fail</td>\n",
       "      <td>-33</td>\n",
       "      <td>0</td>\n",
       "    </tr>\n",
       "    <tr>\n",
       "      <th>24537</th>\n",
       "      <td>FFF</td>\n",
       "      <td>2013J</td>\n",
       "      <td>523777</td>\n",
       "      <td>North</td>\n",
       "      <td>0-10%</td>\n",
       "      <td>35-55</td>\n",
       "      <td>M</td>\n",
       "      <td>A Level</td>\n",
       "      <td>N</td>\n",
       "      <td>1</td>\n",
       "      <td>60</td>\n",
       "      <td>Fail</td>\n",
       "      <td>-60</td>\n",
       "      <td>0</td>\n",
       "    </tr>\n",
       "    <tr>\n",
       "      <th>25685</th>\n",
       "      <td>FFF</td>\n",
       "      <td>2013J</td>\n",
       "      <td>601640</td>\n",
       "      <td>London</td>\n",
       "      <td>20-30%</td>\n",
       "      <td>0-35</td>\n",
       "      <td>M</td>\n",
       "      <td>HE</td>\n",
       "      <td>N</td>\n",
       "      <td>0</td>\n",
       "      <td>90</td>\n",
       "      <td>Fail</td>\n",
       "      <td>-58</td>\n",
       "      <td>-4</td>\n",
       "    </tr>\n",
       "  </tbody>\n",
       "</table>\n",
       "</div>"
      ],
      "text/plain": [
       "      module presentation id_student         region     imd    age gender  \\\n",
       "2777     BBB        2013J     362907     South West  20-30%  35-55      F   \n",
       "2786     BBB        2013J     365288          South  70-80%   0-35      F   \n",
       "14625    DDD        2013J     315082  West Midlands  50-60%   0-35      M   \n",
       "14768    DDD        2013J     403052      Yorkshire  20-30%   0-35      F   \n",
       "15577    DDD        2013J     582954         London  10-20%   0-35      M   \n",
       "24057    FFF        2013J     234004      Yorkshire  50-60%   0-35      M   \n",
       "24537    FFF        2013J     523777          North   0-10%  35-55      M   \n",
       "25685    FFF        2013J     601640         London  20-30%   0-35      M   \n",
       "\n",
       "           education disability  attempts  credits result  date_registration  \\\n",
       "2777   Under A Level          N         2       60   Fail                -37   \n",
       "2786         A Level          N         0       60   Fail                -75   \n",
       "14625        A Level          N         0       60   Fail                -73   \n",
       "14768             HE          N         0      150   Fail                -22   \n",
       "15577  Under A Level          N         0      120   Fail                -81   \n",
       "24057        A Level          N         0       60   Fail                -33   \n",
       "24537        A Level          N         1       60   Fail                -60   \n",
       "25685             HE          N         0       90   Fail                -58   \n",
       "\n",
       "       date_unregistration  \n",
       "2777                     0  \n",
       "2786                     0  \n",
       "14625                    0  \n",
       "14768                    0  \n",
       "15577                   -7  \n",
       "24057                    0  \n",
       "24537                    0  \n",
       "25685                   -4  "
      ]
     },
     "execution_count": 38,
     "metadata": {},
     "output_type": "execute_result"
    }
   ],
   "source": [
    "# find students in early_withdraw with a fail result\n",
    "early_withdraws[early_withdraws['result'] == 'Fail']"
   ]
  },
  {
   "cell_type": "code",
   "execution_count": 39,
   "id": "28584f11-bc75-4608-ad32-e0556ed50ee3",
   "metadata": {
    "colab": {
     "base_uri": "https://localhost:8080/",
     "height": 0
    },
    "id": "28584f11-bc75-4608-ad32-e0556ed50ee3",
    "outputId": "ed59bb2a-d938-49cb-f712-0caf6adfafe4",
    "tags": [
     "remove_input"
    ]
   },
   "outputs": [
    {
     "data": {
      "text/markdown": [
       "\n",
       "In the above dataframe we can see the students who withdrew before the first day and yet received a result of 'Fail'.\n",
       "\n",
       "Notably, despite the fact that all of these students did unregister, they were for some reason marked as Fails. \n",
       "\n",
       "Let's see how many students have an unregistration date but are not marked as withdrawn:\n"
      ],
      "text/plain": [
       "<IPython.core.display.Markdown object>"
      ]
     },
     "execution_count": 39,
     "metadata": {},
     "output_type": "execute_result"
    }
   ],
   "source": [
    "md('''\n",
    "In the above dataframe we can see the students who withdrew before the first day and yet received a result of 'Fail'.\n",
    "\n",
    "Notably, despite the fact that all of these students did unregister, they were for some reason marked as Fails. \n",
    "\n",
    "Let's see how many students have an unregistration date but are not marked as withdrawn:\n",
    "''')"
   ]
  },
  {
   "cell_type": "code",
   "execution_count": 40,
   "id": "2376eb47-47ac-42dd-9de2-8c22bc254f5b",
   "metadata": {
    "colab": {
     "base_uri": "https://localhost:8080/",
     "height": 0
    },
    "id": "2376eb47-47ac-42dd-9de2-8c22bc254f5b",
    "outputId": "9e45d2d6-4bc5-4e2d-c1db-e4d46d5306a6"
   },
   "outputs": [
    {
     "data": {
      "text/html": [
       "<div>\n",
       "<style scoped>\n",
       "    .dataframe tbody tr th:only-of-type {\n",
       "        vertical-align: middle;\n",
       "    }\n",
       "\n",
       "    .dataframe tbody tr th {\n",
       "        vertical-align: top;\n",
       "    }\n",
       "\n",
       "    .dataframe thead th {\n",
       "        text-align: right;\n",
       "    }\n",
       "</style>\n",
       "<table border=\"1\" class=\"dataframe\">\n",
       "  <thead>\n",
       "    <tr style=\"text-align: right;\">\n",
       "      <th></th>\n",
       "      <th>module</th>\n",
       "      <th>presentation</th>\n",
       "      <th>id_student</th>\n",
       "      <th>region</th>\n",
       "      <th>imd</th>\n",
       "      <th>age</th>\n",
       "      <th>gender</th>\n",
       "      <th>education</th>\n",
       "      <th>disability</th>\n",
       "      <th>attempts</th>\n",
       "      <th>credits</th>\n",
       "      <th>result</th>\n",
       "      <th>date_registration</th>\n",
       "      <th>date_unregistration</th>\n",
       "    </tr>\n",
       "  </thead>\n",
       "  <tbody>\n",
       "    <tr>\n",
       "      <th>2777</th>\n",
       "      <td>BBB</td>\n",
       "      <td>2013J</td>\n",
       "      <td>362907</td>\n",
       "      <td>South West</td>\n",
       "      <td>20-30%</td>\n",
       "      <td>35-55</td>\n",
       "      <td>F</td>\n",
       "      <td>Under A Level</td>\n",
       "      <td>N</td>\n",
       "      <td>2</td>\n",
       "      <td>60</td>\n",
       "      <td>Fail</td>\n",
       "      <td>-37</td>\n",
       "      <td>0</td>\n",
       "    </tr>\n",
       "    <tr>\n",
       "      <th>2786</th>\n",
       "      <td>BBB</td>\n",
       "      <td>2013J</td>\n",
       "      <td>365288</td>\n",
       "      <td>South</td>\n",
       "      <td>70-80%</td>\n",
       "      <td>0-35</td>\n",
       "      <td>F</td>\n",
       "      <td>A Level</td>\n",
       "      <td>N</td>\n",
       "      <td>0</td>\n",
       "      <td>60</td>\n",
       "      <td>Fail</td>\n",
       "      <td>-75</td>\n",
       "      <td>0</td>\n",
       "    </tr>\n",
       "    <tr>\n",
       "      <th>3340</th>\n",
       "      <td>BBB</td>\n",
       "      <td>2013J</td>\n",
       "      <td>554243</td>\n",
       "      <td>South West</td>\n",
       "      <td>60-70%</td>\n",
       "      <td>0-35</td>\n",
       "      <td>F</td>\n",
       "      <td>Under A Level</td>\n",
       "      <td>N</td>\n",
       "      <td>0</td>\n",
       "      <td>60</td>\n",
       "      <td>Fail</td>\n",
       "      <td>-35</td>\n",
       "      <td>166</td>\n",
       "    </tr>\n",
       "    <tr>\n",
       "      <th>14625</th>\n",
       "      <td>DDD</td>\n",
       "      <td>2013J</td>\n",
       "      <td>315082</td>\n",
       "      <td>West Midlands</td>\n",
       "      <td>50-60%</td>\n",
       "      <td>0-35</td>\n",
       "      <td>M</td>\n",
       "      <td>A Level</td>\n",
       "      <td>N</td>\n",
       "      <td>0</td>\n",
       "      <td>60</td>\n",
       "      <td>Fail</td>\n",
       "      <td>-73</td>\n",
       "      <td>0</td>\n",
       "    </tr>\n",
       "    <tr>\n",
       "      <th>14768</th>\n",
       "      <td>DDD</td>\n",
       "      <td>2013J</td>\n",
       "      <td>403052</td>\n",
       "      <td>Yorkshire</td>\n",
       "      <td>20-30%</td>\n",
       "      <td>0-35</td>\n",
       "      <td>F</td>\n",
       "      <td>HE</td>\n",
       "      <td>N</td>\n",
       "      <td>0</td>\n",
       "      <td>150</td>\n",
       "      <td>Fail</td>\n",
       "      <td>-22</td>\n",
       "      <td>0</td>\n",
       "    </tr>\n",
       "    <tr>\n",
       "      <th>15577</th>\n",
       "      <td>DDD</td>\n",
       "      <td>2013J</td>\n",
       "      <td>582954</td>\n",
       "      <td>London</td>\n",
       "      <td>10-20%</td>\n",
       "      <td>0-35</td>\n",
       "      <td>M</td>\n",
       "      <td>Under A Level</td>\n",
       "      <td>N</td>\n",
       "      <td>0</td>\n",
       "      <td>120</td>\n",
       "      <td>Fail</td>\n",
       "      <td>-81</td>\n",
       "      <td>-7</td>\n",
       "    </tr>\n",
       "    <tr>\n",
       "      <th>24057</th>\n",
       "      <td>FFF</td>\n",
       "      <td>2013J</td>\n",
       "      <td>234004</td>\n",
       "      <td>Yorkshire</td>\n",
       "      <td>50-60%</td>\n",
       "      <td>0-35</td>\n",
       "      <td>M</td>\n",
       "      <td>A Level</td>\n",
       "      <td>N</td>\n",
       "      <td>0</td>\n",
       "      <td>60</td>\n",
       "      <td>Fail</td>\n",
       "      <td>-33</td>\n",
       "      <td>0</td>\n",
       "    </tr>\n",
       "    <tr>\n",
       "      <th>24537</th>\n",
       "      <td>FFF</td>\n",
       "      <td>2013J</td>\n",
       "      <td>523777</td>\n",
       "      <td>North</td>\n",
       "      <td>0-10%</td>\n",
       "      <td>35-55</td>\n",
       "      <td>M</td>\n",
       "      <td>A Level</td>\n",
       "      <td>N</td>\n",
       "      <td>1</td>\n",
       "      <td>60</td>\n",
       "      <td>Fail</td>\n",
       "      <td>-60</td>\n",
       "      <td>0</td>\n",
       "    </tr>\n",
       "    <tr>\n",
       "      <th>25685</th>\n",
       "      <td>FFF</td>\n",
       "      <td>2013J</td>\n",
       "      <td>601640</td>\n",
       "      <td>London</td>\n",
       "      <td>20-30%</td>\n",
       "      <td>0-35</td>\n",
       "      <td>M</td>\n",
       "      <td>HE</td>\n",
       "      <td>N</td>\n",
       "      <td>0</td>\n",
       "      <td>90</td>\n",
       "      <td>Fail</td>\n",
       "      <td>-58</td>\n",
       "      <td>-4</td>\n",
       "    </tr>\n",
       "  </tbody>\n",
       "</table>\n",
       "</div>"
      ],
      "text/plain": [
       "      module presentation id_student         region     imd    age gender  \\\n",
       "2777     BBB        2013J     362907     South West  20-30%  35-55      F   \n",
       "2786     BBB        2013J     365288          South  70-80%   0-35      F   \n",
       "3340     BBB        2013J     554243     South West  60-70%   0-35      F   \n",
       "14625    DDD        2013J     315082  West Midlands  50-60%   0-35      M   \n",
       "14768    DDD        2013J     403052      Yorkshire  20-30%   0-35      F   \n",
       "15577    DDD        2013J     582954         London  10-20%   0-35      M   \n",
       "24057    FFF        2013J     234004      Yorkshire  50-60%   0-35      M   \n",
       "24537    FFF        2013J     523777          North   0-10%  35-55      M   \n",
       "25685    FFF        2013J     601640         London  20-30%   0-35      M   \n",
       "\n",
       "           education disability  attempts  credits result  date_registration  \\\n",
       "2777   Under A Level          N         2       60   Fail                -37   \n",
       "2786         A Level          N         0       60   Fail                -75   \n",
       "3340   Under A Level          N         0       60   Fail                -35   \n",
       "14625        A Level          N         0       60   Fail                -73   \n",
       "14768             HE          N         0      150   Fail                -22   \n",
       "15577  Under A Level          N         0      120   Fail                -81   \n",
       "24057        A Level          N         0       60   Fail                -33   \n",
       "24537        A Level          N         1       60   Fail                -60   \n",
       "25685             HE          N         0       90   Fail                -58   \n",
       "\n",
       "       date_unregistration  \n",
       "2777                     0  \n",
       "2786                     0  \n",
       "3340                   166  \n",
       "14625                    0  \n",
       "14768                    0  \n",
       "15577                   -7  \n",
       "24057                    0  \n",
       "24537                    0  \n",
       "25685                   -4  "
      ]
     },
     "execution_count": 40,
     "metadata": {},
     "output_type": "execute_result"
    }
   ],
   "source": [
    "# Find students who withdrew but are not marked as withdrawn\n",
    "stud_info[(stud_info['result'] != 'Withdrawn') & (~stud_info['date_unregistration'].isna())]"
   ]
  },
  {
   "cell_type": "markdown",
   "id": "6ad0c18d-65dc-4943-b8f8-45b0c0ccbb62",
   "metadata": {
    "id": "6ad0c18d-65dc-4943-b8f8-45b0c0ccbb62"
   },
   "source": [
    "Above are the students who were improperly marked as failing when they withdrew. We will change these entries to be marked as withdrawn."
   ]
  },
  {
   "cell_type": "code",
   "execution_count": 41,
   "id": "5668a487-4cb2-4e40-ac0b-01db1c3517d9",
   "metadata": {
    "id": "5668a487-4cb2-4e40-ac0b-01db1c3517d9"
   },
   "outputs": [],
   "source": [
    "# change the values of result Fail where result should be Withdrawn\n",
    "stud_info.loc[(stud_info['result'] != 'Withdrawn') & (~stud_info['date_unregistration'].isna()), 'result'] = 'Withdrawn'"
   ]
  },
  {
   "cell_type": "markdown",
   "id": "9a76f0a5-6f79-447a-9557-a24158c0ffee",
   "metadata": {
    "id": "9a76f0a5-6f79-447a-9557-a24158c0ffee"
   },
   "source": [
    "We will now drop any students with a registration date before 0 (day 1) of the course, because we are only interested in students who at least began the courses."
   ]
  },
  {
   "cell_type": "code",
   "execution_count": 42,
   "id": "cb54d8ff-7bb9-4a63-a6bd-c5888cdff919",
   "metadata": {
    "id": "cb54d8ff-7bb9-4a63-a6bd-c5888cdff919"
   },
   "outputs": [],
   "source": [
    "# keep only student info entries where the date of unregistration before day one or did not unregister\n",
    "stud_info = stud_info[(stud_info['date_unregistration'] > 0) | (stud_info['date_unregistration'].isna())]"
   ]
  },
  {
   "cell_type": "markdown",
   "id": "37074113-304f-4267-ae40-f15d780b58c7",
   "metadata": {
    "id": "37074113-304f-4267-ae40-f15d780b58c7"
   },
   "source": [
    "Next we will see if there are any students where the opposite case is true - where a student is marked as having withdrawn but has no unregistration date."
   ]
  },
  {
   "cell_type": "code",
   "execution_count": 43,
   "id": "ce351690-2239-4ece-86bc-8ec32a0f7018",
   "metadata": {
    "colab": {
     "base_uri": "https://localhost:8080/",
     "height": 0
    },
    "id": "ce351690-2239-4ece-86bc-8ec32a0f7018",
    "outputId": "b53a992c-8766-4e88-d43f-05abd907a7ab"
   },
   "outputs": [
    {
     "data": {
      "text/html": [
       "<div>\n",
       "<style scoped>\n",
       "    .dataframe tbody tr th:only-of-type {\n",
       "        vertical-align: middle;\n",
       "    }\n",
       "\n",
       "    .dataframe tbody tr th {\n",
       "        vertical-align: top;\n",
       "    }\n",
       "\n",
       "    .dataframe thead th {\n",
       "        text-align: right;\n",
       "    }\n",
       "</style>\n",
       "<table border=\"1\" class=\"dataframe\">\n",
       "  <thead>\n",
       "    <tr style=\"text-align: right;\">\n",
       "      <th></th>\n",
       "      <th>module</th>\n",
       "      <th>presentation</th>\n",
       "      <th>id_student</th>\n",
       "      <th>region</th>\n",
       "      <th>imd</th>\n",
       "      <th>age</th>\n",
       "      <th>gender</th>\n",
       "      <th>education</th>\n",
       "      <th>disability</th>\n",
       "      <th>attempts</th>\n",
       "      <th>credits</th>\n",
       "      <th>result</th>\n",
       "      <th>date_registration</th>\n",
       "      <th>date_unregistration</th>\n",
       "    </tr>\n",
       "  </thead>\n",
       "  <tbody>\n",
       "    <tr>\n",
       "      <th>6315</th>\n",
       "      <td>BBB</td>\n",
       "      <td>2014B</td>\n",
       "      <td>2512349</td>\n",
       "      <td>Yorkshire</td>\n",
       "      <td>40-50%</td>\n",
       "      <td>35-55</td>\n",
       "      <td>F</td>\n",
       "      <td>Under A Level</td>\n",
       "      <td>N</td>\n",
       "      <td>0</td>\n",
       "      <td>60</td>\n",
       "      <td>Withdrawn</td>\n",
       "      <td>-17</td>\n",
       "      <td>&lt;NA&gt;</td>\n",
       "    </tr>\n",
       "    <tr>\n",
       "      <th>6484</th>\n",
       "      <td>BBB</td>\n",
       "      <td>2014J</td>\n",
       "      <td>271047</td>\n",
       "      <td>South West</td>\n",
       "      <td>90-100%</td>\n",
       "      <td>0-35</td>\n",
       "      <td>F</td>\n",
       "      <td>Under A Level</td>\n",
       "      <td>N</td>\n",
       "      <td>0</td>\n",
       "      <td>60</td>\n",
       "      <td>Withdrawn</td>\n",
       "      <td>-25</td>\n",
       "      <td>&lt;NA&gt;</td>\n",
       "    </tr>\n",
       "    <tr>\n",
       "      <th>6601</th>\n",
       "      <td>BBB</td>\n",
       "      <td>2014J</td>\n",
       "      <td>417978</td>\n",
       "      <td>Wales</td>\n",
       "      <td>80-90%</td>\n",
       "      <td>35-55</td>\n",
       "      <td>F</td>\n",
       "      <td>HE</td>\n",
       "      <td>N</td>\n",
       "      <td>0</td>\n",
       "      <td>60</td>\n",
       "      <td>Withdrawn</td>\n",
       "      <td>-24</td>\n",
       "      <td>&lt;NA&gt;</td>\n",
       "    </tr>\n",
       "    <tr>\n",
       "      <th>7247</th>\n",
       "      <td>BBB</td>\n",
       "      <td>2014J</td>\n",
       "      <td>636660</td>\n",
       "      <td>North Western</td>\n",
       "      <td>0-10%</td>\n",
       "      <td>0-35</td>\n",
       "      <td>F</td>\n",
       "      <td>Under A Level</td>\n",
       "      <td>N</td>\n",
       "      <td>0</td>\n",
       "      <td>60</td>\n",
       "      <td>Withdrawn</td>\n",
       "      <td>-113</td>\n",
       "      <td>&lt;NA&gt;</td>\n",
       "    </tr>\n",
       "    <tr>\n",
       "      <th>7410</th>\n",
       "      <td>BBB</td>\n",
       "      <td>2014J</td>\n",
       "      <td>647876</td>\n",
       "      <td>East Anglian</td>\n",
       "      <td>80-90%</td>\n",
       "      <td>0-35</td>\n",
       "      <td>F</td>\n",
       "      <td>Under A Level</td>\n",
       "      <td>N</td>\n",
       "      <td>0</td>\n",
       "      <td>120</td>\n",
       "      <td>Withdrawn</td>\n",
       "      <td>-162</td>\n",
       "      <td>&lt;NA&gt;</td>\n",
       "    </tr>\n",
       "    <tr>\n",
       "      <th>...</th>\n",
       "      <td>...</td>\n",
       "      <td>...</td>\n",
       "      <td>...</td>\n",
       "      <td>...</td>\n",
       "      <td>...</td>\n",
       "      <td>...</td>\n",
       "      <td>...</td>\n",
       "      <td>...</td>\n",
       "      <td>...</td>\n",
       "      <td>...</td>\n",
       "      <td>...</td>\n",
       "      <td>...</td>\n",
       "      <td>...</td>\n",
       "      <td>...</td>\n",
       "    </tr>\n",
       "    <tr>\n",
       "      <th>29978</th>\n",
       "      <td>FFF</td>\n",
       "      <td>2014J</td>\n",
       "      <td>2398260</td>\n",
       "      <td>London</td>\n",
       "      <td>10-20%</td>\n",
       "      <td>35-55</td>\n",
       "      <td>M</td>\n",
       "      <td>Under A Level</td>\n",
       "      <td>N</td>\n",
       "      <td>0</td>\n",
       "      <td>180</td>\n",
       "      <td>Withdrawn</td>\n",
       "      <td>-38</td>\n",
       "      <td>&lt;NA&gt;</td>\n",
       "    </tr>\n",
       "    <tr>\n",
       "      <th>30032</th>\n",
       "      <td>FFF</td>\n",
       "      <td>2014J</td>\n",
       "      <td>2622634</td>\n",
       "      <td>Ireland</td>\n",
       "      <td>10-20%</td>\n",
       "      <td>35-55</td>\n",
       "      <td>M</td>\n",
       "      <td>A Level</td>\n",
       "      <td>N</td>\n",
       "      <td>1</td>\n",
       "      <td>60</td>\n",
       "      <td>Withdrawn</td>\n",
       "      <td>-29</td>\n",
       "      <td>&lt;NA&gt;</td>\n",
       "    </tr>\n",
       "    <tr>\n",
       "      <th>30562</th>\n",
       "      <td>GGG</td>\n",
       "      <td>2013J</td>\n",
       "      <td>590248</td>\n",
       "      <td>Yorkshire</td>\n",
       "      <td>30-40%</td>\n",
       "      <td>0-35</td>\n",
       "      <td>F</td>\n",
       "      <td>Under A Level</td>\n",
       "      <td>N</td>\n",
       "      <td>0</td>\n",
       "      <td>30</td>\n",
       "      <td>Withdrawn</td>\n",
       "      <td>-16</td>\n",
       "      <td>&lt;NA&gt;</td>\n",
       "    </tr>\n",
       "    <tr>\n",
       "      <th>32149</th>\n",
       "      <td>GGG</td>\n",
       "      <td>2014J</td>\n",
       "      <td>646891</td>\n",
       "      <td>South</td>\n",
       "      <td>10-20%</td>\n",
       "      <td>35-55</td>\n",
       "      <td>F</td>\n",
       "      <td>Under A Level</td>\n",
       "      <td>N</td>\n",
       "      <td>0</td>\n",
       "      <td>60</td>\n",
       "      <td>Withdrawn</td>\n",
       "      <td>2</td>\n",
       "      <td>&lt;NA&gt;</td>\n",
       "    </tr>\n",
       "    <tr>\n",
       "      <th>32411</th>\n",
       "      <td>GGG</td>\n",
       "      <td>2014J</td>\n",
       "      <td>685028</td>\n",
       "      <td>Ireland</td>\n",
       "      <td>60-70%</td>\n",
       "      <td>35-55</td>\n",
       "      <td>F</td>\n",
       "      <td>Under A Level</td>\n",
       "      <td>N</td>\n",
       "      <td>0</td>\n",
       "      <td>30</td>\n",
       "      <td>Withdrawn</td>\n",
       "      <td>-9</td>\n",
       "      <td>&lt;NA&gt;</td>\n",
       "    </tr>\n",
       "  </tbody>\n",
       "</table>\n",
       "<p>93 rows × 14 columns</p>\n",
       "</div>"
      ],
      "text/plain": [
       "      module presentation id_student         region      imd    age gender  \\\n",
       "6315     BBB        2014B    2512349      Yorkshire   40-50%  35-55      F   \n",
       "6484     BBB        2014J     271047     South West  90-100%   0-35      F   \n",
       "6601     BBB        2014J     417978          Wales   80-90%  35-55      F   \n",
       "7247     BBB        2014J     636660  North Western    0-10%   0-35      F   \n",
       "7410     BBB        2014J     647876   East Anglian   80-90%   0-35      F   \n",
       "...      ...          ...        ...            ...      ...    ...    ...   \n",
       "29978    FFF        2014J    2398260         London   10-20%  35-55      M   \n",
       "30032    FFF        2014J    2622634        Ireland   10-20%  35-55      M   \n",
       "30562    GGG        2013J     590248      Yorkshire   30-40%   0-35      F   \n",
       "32149    GGG        2014J     646891          South   10-20%  35-55      F   \n",
       "32411    GGG        2014J     685028        Ireland   60-70%  35-55      F   \n",
       "\n",
       "           education disability  attempts  credits     result  \\\n",
       "6315   Under A Level          N         0       60  Withdrawn   \n",
       "6484   Under A Level          N         0       60  Withdrawn   \n",
       "6601              HE          N         0       60  Withdrawn   \n",
       "7247   Under A Level          N         0       60  Withdrawn   \n",
       "7410   Under A Level          N         0      120  Withdrawn   \n",
       "...              ...        ...       ...      ...        ...   \n",
       "29978  Under A Level          N         0      180  Withdrawn   \n",
       "30032        A Level          N         1       60  Withdrawn   \n",
       "30562  Under A Level          N         0       30  Withdrawn   \n",
       "32149  Under A Level          N         0       60  Withdrawn   \n",
       "32411  Under A Level          N         0       30  Withdrawn   \n",
       "\n",
       "       date_registration  date_unregistration  \n",
       "6315                 -17                 <NA>  \n",
       "6484                 -25                 <NA>  \n",
       "6601                 -24                 <NA>  \n",
       "7247                -113                 <NA>  \n",
       "7410                -162                 <NA>  \n",
       "...                  ...                  ...  \n",
       "29978                -38                 <NA>  \n",
       "30032                -29                 <NA>  \n",
       "30562                -16                 <NA>  \n",
       "32149                  2                 <NA>  \n",
       "32411                 -9                 <NA>  \n",
       "\n",
       "[93 rows x 14 columns]"
      ]
     },
     "execution_count": 43,
     "metadata": {},
     "output_type": "execute_result"
    }
   ],
   "source": [
    "# find students who have a result of withdrawn with no unregistration date\n",
    "stud_info.loc[(stud_info['result'] == 'Withdrawn') & (stud_info['date_unregistration'].isna())]"
   ]
  },
  {
   "cell_type": "code",
   "execution_count": 44,
   "id": "acf71efe-0455-4e66-8b34-5544e0515b58",
   "metadata": {
    "colab": {
     "base_uri": "https://localhost:8080/",
     "height": 0
    },
    "id": "acf71efe-0455-4e66-8b34-5544e0515b58",
    "outputId": "c38ea674-9b7b-4339-a1bb-cd04b94c868f",
    "tags": [
     "remove_input"
    ]
   },
   "outputs": [
    {
     "data": {
      "text/markdown": [
       "\n",
       "Above is a table of students who withdrew but have no unregistration date. \n",
       "\n",
       "93 out of 7068 students who withdrew or 1.32% of withdrawn \n",
       "students do not have an unregistration date like they should. This should not affect our analysis and will\n",
       "be left, but the incompleteness of this data set is of note.\n"
      ],
      "text/plain": [
       "<IPython.core.display.Markdown object>"
      ]
     },
     "execution_count": 44,
     "metadata": {},
     "output_type": "execute_result"
    }
   ],
   "source": [
    "# get a count of student id's with a withdrawn result\n",
    "withdrawn_students = int(stud_info.loc[stud_info['result'] == 'Withdrawn']['id_student'].count())\n",
    "\n",
    "# get a count of students who withdrew but have no unregistration date\n",
    "no_unreg_withdrawn = stud_info.loc[(stud_info['result'] == 'Withdrawn') & (stud_info['date_unregistration'].isna())]['id_student'].count()\n",
    "\n",
    "# find the percentage of students who withdrew and have no unreg date to the overall withdrawn students\n",
    "perc_missing_unreg = percentage(no_unreg_withdrawn, withdrawn_students)\n",
    "\n",
    "md(f'''\n",
    "Above is a table of students who withdrew but have no unregistration date. \n",
    "\n",
    "{no_unreg_withdrawn} out of {withdrawn_students} students who withdrew or {perc_missing_unreg}% of withdrawn \n",
    "students do not have an unregistration date like they should. This should not affect our analysis and will\n",
    "be left, but the incompleteness of this data set is of note.\n",
    "''')"
   ]
  },
  {
   "cell_type": "markdown",
   "id": "c9e25490-6600-442a-a775-f3d17008fc9f",
   "metadata": {
    "id": "c9e25490-6600-442a-a775-f3d17008fc9f"
   },
   "source": [
    "**Late Unregistration**\n",
    "\n",
    "Here we will look at students with registration dates longer than any of the courses."
   ]
  },
  {
   "cell_type": "code",
   "execution_count": 45,
   "id": "63254ff9-5863-418f-bf35-ac70aeb961e6",
   "metadata": {
    "colab": {
     "base_uri": "https://localhost:8080/",
     "height": 0
    },
    "id": "63254ff9-5863-418f-bf35-ac70aeb961e6",
    "outputId": "1754daea-b5f6-4da9-98de-2d6a10668f45",
    "tags": [
     "remove_input"
    ]
   },
   "outputs": [
    {
     "data": {
      "text/markdown": [
       "* The longest course from course_length length in the courses dataframe was 269 days, yet we see here the \n",
       "latest unregistration date is 444 days, which is longer than any course went on.\n"
      ],
      "text/plain": [
       "<IPython.core.display.Markdown object>"
      ]
     },
     "execution_count": 45,
     "metadata": {},
     "output_type": "execute_result"
    }
   ],
   "source": [
    "# store the longest module length in courses \n",
    "longest_course = courses['course_length'].max()\n",
    "\n",
    "# store the maximum unregistration date\n",
    "longest_unreg = int(stud_info['date_unregistration'].max())\n",
    "\n",
    "md(f'''* The longest course from course_length length in the courses dataframe was {longest_course} days, yet we see here the \n",
    "latest unregistration date is {longest_unreg} days, which is longer than any course went on.\n",
    "''')"
   ]
  },
  {
   "cell_type": "code",
   "execution_count": 46,
   "id": "433f97e2-ebfa-4d53-8b78-df5a0f57fd48",
   "metadata": {
    "colab": {
     "base_uri": "https://localhost:8080/",
     "height": 0
    },
    "id": "433f97e2-ebfa-4d53-8b78-df5a0f57fd48",
    "outputId": "ad6fd5ed-85c7-409e-bff1-15cea1f4c825",
    "tags": []
   },
   "outputs": [
    {
     "data": {
      "text/html": [
       "<div>\n",
       "<style scoped>\n",
       "    .dataframe tbody tr th:only-of-type {\n",
       "        vertical-align: middle;\n",
       "    }\n",
       "\n",
       "    .dataframe tbody tr th {\n",
       "        vertical-align: top;\n",
       "    }\n",
       "\n",
       "    .dataframe thead th {\n",
       "        text-align: right;\n",
       "    }\n",
       "</style>\n",
       "<table border=\"1\" class=\"dataframe\">\n",
       "  <thead>\n",
       "    <tr style=\"text-align: right;\">\n",
       "      <th></th>\n",
       "      <th>module</th>\n",
       "      <th>presentation</th>\n",
       "      <th>id_student</th>\n",
       "      <th>region</th>\n",
       "      <th>imd</th>\n",
       "      <th>age</th>\n",
       "      <th>gender</th>\n",
       "      <th>education</th>\n",
       "      <th>disability</th>\n",
       "      <th>attempts</th>\n",
       "      <th>credits</th>\n",
       "      <th>result</th>\n",
       "      <th>date_registration</th>\n",
       "      <th>date_unregistration</th>\n",
       "    </tr>\n",
       "  </thead>\n",
       "  <tbody>\n",
       "    <tr>\n",
       "      <th>25249</th>\n",
       "      <td>FFF</td>\n",
       "      <td>2013J</td>\n",
       "      <td>586851</td>\n",
       "      <td>Wales</td>\n",
       "      <td>0-10%</td>\n",
       "      <td>0-35</td>\n",
       "      <td>M</td>\n",
       "      <td>Under A Level</td>\n",
       "      <td>N</td>\n",
       "      <td>0</td>\n",
       "      <td>120</td>\n",
       "      <td>Withdrawn</td>\n",
       "      <td>-22</td>\n",
       "      <td>444</td>\n",
       "    </tr>\n",
       "  </tbody>\n",
       "</table>\n",
       "</div>"
      ],
      "text/plain": [
       "      module presentation id_student region    imd   age gender  \\\n",
       "25249    FFF        2013J     586851  Wales  0-10%  0-35      M   \n",
       "\n",
       "           education disability  attempts  credits     result  \\\n",
       "25249  Under A Level          N         0      120  Withdrawn   \n",
       "\n",
       "       date_registration  date_unregistration  \n",
       "25249                -22                  444  "
      ]
     },
     "execution_count": 46,
     "metadata": {},
     "output_type": "execute_result"
    }
   ],
   "source": [
    "# locate students whose courses went on for longer than the maximum course length\n",
    "stud_info.loc[stud_info['date_unregistration'] > 269]"
   ]
  },
  {
   "cell_type": "markdown",
   "id": "fb53b18e-ee6d-4ea2-b2cd-f485702d8be0",
   "metadata": {
    "id": "fb53b18e-ee6d-4ea2-b2cd-f485702d8be0"
   },
   "source": [
    "Above is a dataframe of all students with an unregistration point after 269 days.\n",
    "\n",
    "It seems to be just this one student is an outlier, but should not affect our overall analysis so we will leave this intact"
   ]
  },
  {
   "cell_type": "markdown",
   "id": "a572d8d1-18c8-4310-b350-5c381c22cf1f",
   "metadata": {
    "id": "a572d8d1-18c8-4310-b350-5c381c22cf1f"
   },
   "source": [
    "### Assessments\n",
    "---"
   ]
  },
  {
   "cell_type": "markdown",
   "id": "2f036d02-1b99-48c3-a881-381baa6f254d",
   "metadata": {
    "id": "2f036d02-1b99-48c3-a881-381baa6f254d"
   },
   "source": [
    "The assessments dataframe contains information about the unique assessments in each code module and presentation."
   ]
  },
  {
   "cell_type": "code",
   "execution_count": 47,
   "id": "4530a586-77ff-420d-b0c8-ca67c5813ed2",
   "metadata": {
    "colab": {
     "base_uri": "https://localhost:8080/",
     "height": 0
    },
    "id": "4530a586-77ff-420d-b0c8-ca67c5813ed2",
    "outputId": "62e50f63-ae77-4020-b13e-998f9f467b18",
    "tags": []
   },
   "outputs": [
    {
     "data": {
      "text/html": [
       "<div>\n",
       "<style scoped>\n",
       "    .dataframe tbody tr th:only-of-type {\n",
       "        vertical-align: middle;\n",
       "    }\n",
       "\n",
       "    .dataframe tbody tr th {\n",
       "        vertical-align: top;\n",
       "    }\n",
       "\n",
       "    .dataframe thead th {\n",
       "        text-align: right;\n",
       "    }\n",
       "</style>\n",
       "<table border=\"1\" class=\"dataframe\">\n",
       "  <thead>\n",
       "    <tr style=\"text-align: right;\">\n",
       "      <th></th>\n",
       "      <th>code_module</th>\n",
       "      <th>code_presentation</th>\n",
       "      <th>id_assessment</th>\n",
       "      <th>assessment_type</th>\n",
       "      <th>date</th>\n",
       "      <th>weight</th>\n",
       "    </tr>\n",
       "  </thead>\n",
       "  <tbody>\n",
       "    <tr>\n",
       "      <th>0</th>\n",
       "      <td>AAA</td>\n",
       "      <td>2013J</td>\n",
       "      <td>1752</td>\n",
       "      <td>TMA</td>\n",
       "      <td>19.0</td>\n",
       "      <td>10.0</td>\n",
       "    </tr>\n",
       "    <tr>\n",
       "      <th>1</th>\n",
       "      <td>AAA</td>\n",
       "      <td>2013J</td>\n",
       "      <td>1753</td>\n",
       "      <td>TMA</td>\n",
       "      <td>54.0</td>\n",
       "      <td>20.0</td>\n",
       "    </tr>\n",
       "    <tr>\n",
       "      <th>2</th>\n",
       "      <td>AAA</td>\n",
       "      <td>2013J</td>\n",
       "      <td>1754</td>\n",
       "      <td>TMA</td>\n",
       "      <td>117.0</td>\n",
       "      <td>20.0</td>\n",
       "    </tr>\n",
       "    <tr>\n",
       "      <th>3</th>\n",
       "      <td>AAA</td>\n",
       "      <td>2013J</td>\n",
       "      <td>1755</td>\n",
       "      <td>TMA</td>\n",
       "      <td>166.0</td>\n",
       "      <td>20.0</td>\n",
       "    </tr>\n",
       "    <tr>\n",
       "      <th>4</th>\n",
       "      <td>AAA</td>\n",
       "      <td>2013J</td>\n",
       "      <td>1756</td>\n",
       "      <td>TMA</td>\n",
       "      <td>215.0</td>\n",
       "      <td>30.0</td>\n",
       "    </tr>\n",
       "  </tbody>\n",
       "</table>\n",
       "</div>"
      ],
      "text/plain": [
       "  code_module code_presentation  id_assessment assessment_type   date  weight\n",
       "0         AAA             2013J           1752             TMA   19.0    10.0\n",
       "1         AAA             2013J           1753             TMA   54.0    20.0\n",
       "2         AAA             2013J           1754             TMA  117.0    20.0\n",
       "3         AAA             2013J           1755             TMA  166.0    20.0\n",
       "4         AAA             2013J           1756             TMA  215.0    30.0"
      ]
     },
     "execution_count": 47,
     "metadata": {},
     "output_type": "execute_result"
    }
   ],
   "source": [
    "# show assessments dataframe\n",
    "assessments.head()"
   ]
  },
  {
   "cell_type": "markdown",
   "id": "144e9ffd-9d36-4ca5-a8e4-6e8fe34337b8",
   "metadata": {
    "id": "144e9ffd-9d36-4ca5-a8e4-6e8fe34337b8"
   },
   "source": [
    "---\n",
    "\n",
    "#### Assessments Contents\n",
    "\n",
    "* **code_module**: The code module represents the code name of the course the assessment was held for.\n",
    "* **code_presentation**: The presentation represents the presentation which the test was held for.\n",
    "* **id_assessment**: The assessment ID is the unique identifier for each assessment.\n",
    "* **assessment_type**: The assessment type represents the kind of assessment it was.\n",
    "    - There are three assessment types:\n",
    "        * TMA: Tutor Marked Assessment\n",
    "        * CMA: Computer Marked Assessment\n",
    "        * Exam: The Final Exam\n",
    "* **date**: The date is how many days from the start of the course the assessment took place.\n",
    "* **weight**: The weight is the weighted value of the assessment. Exams should have a weight of 100 which the rest of the assessments should add to 100 in total."
   ]
  },
  {
   "cell_type": "markdown",
   "id": "c7fc00ac-4e3e-4a75-8574-bda500172372",
   "metadata": {
    "id": "c7fc00ac-4e3e-4a75-8574-bda500172372"
   },
   "source": [
    "#### Changing Column names\n",
    "* These column names will be changed to be less verbose:\n",
    "    * code_module to module\n",
    "    * code_presentation to presentation"
   ]
  },
  {
   "cell_type": "code",
   "execution_count": 48,
   "id": "9bfd6af0-c361-49ac-a621-b2766e8e7b2a",
   "metadata": {
    "id": "9bfd6af0-c361-49ac-a621-b2766e8e7b2a",
    "tags": []
   },
   "outputs": [],
   "source": [
    "# make a dictionary of columns mapping to their new name\n",
    "assessments_rename = {'code_module':'module', 'code_presentation':'presentation'}\n",
    "\n",
    "# rename columns in assessments based on dictionary\n",
    "assessments = assessments.rename(columns=assessments_rename)"
   ]
  },
  {
   "cell_type": "markdown",
   "id": "09f60929-8c00-407e-aed0-62cae2b277c7",
   "metadata": {
    "id": "09f60929-8c00-407e-aed0-62cae2b277c7"
   },
   "source": [
    "---\n",
    "\n",
    "#### Assessments Information"
   ]
  },
  {
   "cell_type": "markdown",
   "id": "2b19c95e-070a-43b4-9ef6-4166cb943bad",
   "metadata": {
    "id": "2b19c95e-070a-43b4-9ef6-4166cb943bad"
   },
   "source": [
    "**Size**"
   ]
  },
  {
   "cell_type": "code",
   "execution_count": 49,
   "id": "f7125bdb-50e7-45fc-90fd-355b2fa3967a",
   "metadata": {
    "colab": {
     "base_uri": "https://localhost:8080/",
     "height": 0
    },
    "id": "f7125bdb-50e7-45fc-90fd-355b2fa3967a",
    "outputId": "fa20b10d-5399-4233-9c57-83d2a7360a53",
    "tags": []
   },
   "outputs": [
    {
     "data": {
      "text/html": [
       "<div>\n",
       "<style scoped>\n",
       "    .dataframe tbody tr th:only-of-type {\n",
       "        vertical-align: middle;\n",
       "    }\n",
       "\n",
       "    .dataframe tbody tr th {\n",
       "        vertical-align: top;\n",
       "    }\n",
       "\n",
       "    .dataframe thead th {\n",
       "        text-align: right;\n",
       "    }\n",
       "</style>\n",
       "<table border=\"1\" class=\"dataframe\">\n",
       "  <thead>\n",
       "    <tr style=\"text-align: right;\">\n",
       "      <th></th>\n",
       "      <th>Count</th>\n",
       "    </tr>\n",
       "  </thead>\n",
       "  <tbody>\n",
       "    <tr>\n",
       "      <th>Columns</th>\n",
       "      <td>6</td>\n",
       "    </tr>\n",
       "    <tr>\n",
       "      <th>Rows</th>\n",
       "      <td>206</td>\n",
       "    </tr>\n",
       "  </tbody>\n",
       "</table>\n",
       "</div>"
      ],
      "text/plain": [
       "         Count\n",
       "Columns      6\n",
       "Rows       206"
      ]
     },
     "execution_count": 49,
     "metadata": {},
     "output_type": "execute_result"
    }
   ],
   "source": [
    "# function to get a dataframe of rows and columns\n",
    "get_size(assessments)"
   ]
  },
  {
   "cell_type": "code",
   "execution_count": 50,
   "id": "afa117d8-a4b3-43ea-a6be-f754070fd7be",
   "metadata": {
    "colab": {
     "base_uri": "https://localhost:8080/",
     "height": 0
    },
    "id": "afa117d8-a4b3-43ea-a6be-f754070fd7be",
    "outputId": "279e3c7e-3106-416e-dd66-140c2c5c7bc7",
    "tags": [
     "remove_input"
    ]
   },
   "outputs": [
    {
     "data": {
      "text/markdown": [
       "\n",
       "Assessments has 6 features describing 206 exam records.\n"
      ],
      "text/plain": [
       "<IPython.core.display.Markdown object>"
      ]
     },
     "execution_count": 50,
     "metadata": {},
     "output_type": "execute_result"
    }
   ],
   "source": [
    "md(f'''\n",
    "Assessments has {len(assessments.columns)} features describing {len(assessments)} exam records.\n",
    "''')"
   ]
  },
  {
   "cell_type": "markdown",
   "id": "337672e9-409f-4244-ae97-024cba8e6b63",
   "metadata": {
    "id": "337672e9-409f-4244-ae97-024cba8e6b63"
   },
   "source": [
    "**Data Types**"
   ]
  },
  {
   "cell_type": "code",
   "execution_count": 51,
   "id": "360f40ac-a3a7-43a6-8b89-8e9b4c9aecab",
   "metadata": {
    "colab": {
     "base_uri": "https://localhost:8080/",
     "height": 0
    },
    "id": "360f40ac-a3a7-43a6-8b89-8e9b4c9aecab",
    "outputId": "6446fae9-e753-4c36-f665-423b3f5657d0",
    "tags": []
   },
   "outputs": [
    {
     "data": {
      "text/html": [
       "<style type=\"text/css\">\n",
       "#T_f7138_ td.col0 {\n",
       "  font-weight: bold;\n",
       "}\n",
       "</style>\n",
       "<table id=\"T_f7138_\">\n",
       "  <thead>\n",
       "    <tr>\n",
       "      <th class=\"col_heading level0 col0\" >index</th>\n",
       "      <th class=\"col_heading level0 col1\" >Type</th>\n",
       "    </tr>\n",
       "  </thead>\n",
       "  <tbody>\n",
       "    <tr>\n",
       "      <td id=\"T_f7138_row0_col0\" class=\"data row0 col0\" >module</td>\n",
       "      <td id=\"T_f7138_row0_col1\" class=\"data row0 col1\" >object</td>\n",
       "    </tr>\n",
       "    <tr>\n",
       "      <td id=\"T_f7138_row1_col0\" class=\"data row1 col0\" >presentation</td>\n",
       "      <td id=\"T_f7138_row1_col1\" class=\"data row1 col1\" >object</td>\n",
       "    </tr>\n",
       "    <tr>\n",
       "      <td id=\"T_f7138_row2_col0\" class=\"data row2 col0\" >id_assessment</td>\n",
       "      <td id=\"T_f7138_row2_col1\" class=\"data row2 col1\" >int64</td>\n",
       "    </tr>\n",
       "    <tr>\n",
       "      <td id=\"T_f7138_row3_col0\" class=\"data row3 col0\" >assessment_type</td>\n",
       "      <td id=\"T_f7138_row3_col1\" class=\"data row3 col1\" >object</td>\n",
       "    </tr>\n",
       "    <tr>\n",
       "      <td id=\"T_f7138_row4_col0\" class=\"data row4 col0\" >date</td>\n",
       "      <td id=\"T_f7138_row4_col1\" class=\"data row4 col1\" >float64</td>\n",
       "    </tr>\n",
       "    <tr>\n",
       "      <td id=\"T_f7138_row5_col0\" class=\"data row5 col0\" >weight</td>\n",
       "      <td id=\"T_f7138_row5_col1\" class=\"data row5 col1\" >float64</td>\n",
       "    </tr>\n",
       "  </tbody>\n",
       "</table>\n"
      ],
      "text/plain": [
       "<pandas.io.formats.style.Styler at 0x1a901b19a00>"
      ]
     },
     "execution_count": 51,
     "metadata": {},
     "output_type": "execute_result"
    }
   ],
   "source": [
    "# function to get a dataframe of data types\n",
    "get_dtypes(assessments)"
   ]
  },
  {
   "cell_type": "markdown",
   "id": "70403608-2ded-4277-97c9-eaab70690d18",
   "metadata": {
    "id": "70403608-2ded-4277-97c9-eaab70690d18"
   },
   "source": [
    "* THe data types `module`, `presentation`,`assessment_type` and `id_student` will be converted to string."
   ]
  },
  {
   "cell_type": "code",
   "execution_count": 52,
   "id": "a450ef2a-1aaf-46c0-9dc2-10a3aa77ae1f",
   "metadata": {
    "id": "a450ef2a-1aaf-46c0-9dc2-10a3aa77ae1f",
    "tags": []
   },
   "outputs": [],
   "source": [
    "# converting id_assessment to string\n",
    "assessments= assessments.astype({'id_assessment':str})\n",
    "\n",
    "# all other data types to those which support pandas <NA>\n",
    "assessments = assessments.convert_dtypes(convert_integer=False)"
   ]
  },
  {
   "cell_type": "markdown",
   "id": "940d8601-2429-427c-b175-b945d2735035",
   "metadata": {
    "id": "940d8601-2429-427c-b175-b945d2735035"
   },
   "source": [
    "**Null Values**"
   ]
  },
  {
   "cell_type": "code",
   "execution_count": 53,
   "id": "efc24f30-1c35-406b-ab6c-34eec472f7cd",
   "metadata": {
    "colab": {
     "base_uri": "https://localhost:8080/",
     "height": 0
    },
    "id": "efc24f30-1c35-406b-ab6c-34eec472f7cd",
    "outputId": "9f7c0a94-1bf5-4ae4-9085-987bea018e52",
    "tags": []
   },
   "outputs": [
    {
     "data": {
      "text/html": [
       "<style type=\"text/css\">\n",
       "#T_36f8d_ td.col0 {\n",
       "  font-weight: bold;\n",
       "}\n",
       "</style>\n",
       "<table id=\"T_36f8d_\">\n",
       "  <thead>\n",
       "    <tr>\n",
       "      <th class=\"col_heading level0 col0\" >index</th>\n",
       "      <th class=\"col_heading level0 col1\" >Null Values</th>\n",
       "    </tr>\n",
       "  </thead>\n",
       "  <tbody>\n",
       "    <tr>\n",
       "      <td id=\"T_36f8d_row0_col0\" class=\"data row0 col0\" >module</td>\n",
       "      <td id=\"T_36f8d_row0_col1\" class=\"data row0 col1\" >0</td>\n",
       "    </tr>\n",
       "    <tr>\n",
       "      <td id=\"T_36f8d_row1_col0\" class=\"data row1 col0\" >presentation</td>\n",
       "      <td id=\"T_36f8d_row1_col1\" class=\"data row1 col1\" >0</td>\n",
       "    </tr>\n",
       "    <tr>\n",
       "      <td id=\"T_36f8d_row2_col0\" class=\"data row2 col0\" >id_assessment</td>\n",
       "      <td id=\"T_36f8d_row2_col1\" class=\"data row2 col1\" >0</td>\n",
       "    </tr>\n",
       "    <tr>\n",
       "      <td id=\"T_36f8d_row3_col0\" class=\"data row3 col0\" >assessment_type</td>\n",
       "      <td id=\"T_36f8d_row3_col1\" class=\"data row3 col1\" >0</td>\n",
       "    </tr>\n",
       "    <tr>\n",
       "      <td id=\"T_36f8d_row4_col0\" class=\"data row4 col0\" >date</td>\n",
       "      <td id=\"T_36f8d_row4_col1\" class=\"data row4 col1\" >11</td>\n",
       "    </tr>\n",
       "    <tr>\n",
       "      <td id=\"T_36f8d_row5_col0\" class=\"data row5 col0\" >weight</td>\n",
       "      <td id=\"T_36f8d_row5_col1\" class=\"data row5 col1\" >0</td>\n",
       "    </tr>\n",
       "  </tbody>\n",
       "</table>\n"
      ],
      "text/plain": [
       "<pandas.io.formats.style.Styler at 0x1a901b19be0>"
      ]
     },
     "execution_count": 53,
     "metadata": {},
     "output_type": "execute_result"
    }
   ],
   "source": [
    "# function to return dataframe of nulls in columns\n",
    "null_vals(assessments)"
   ]
  },
  {
   "cell_type": "code",
   "execution_count": 54,
   "id": "8b4e66fa-fd8b-4702-bfa2-561233a3edd6",
   "metadata": {
    "colab": {
     "base_uri": "https://localhost:8080/",
     "height": 0
    },
    "id": "8b4e66fa-fd8b-4702-bfa2-561233a3edd6",
    "outputId": "75368cbd-7ac5-4a50-dc21-d59ccad671d0",
    "tags": [
     "remove_input"
    ]
   },
   "outputs": [
    {
     "data": {
      "text/markdown": [
       "\n",
       "In the above dataframe of null values in each column of assessments we see:\n",
       "* We have 11 null data points for assessment date. \n",
       "    * The documentation of this dataset states that if the exam date is missing then it is as the end of the last presentation week. \n",
       "    * We can find this information in the courses dataframe, and add them in to get rid of the NaNs.\n"
      ],
      "text/plain": [
       "<IPython.core.display.Markdown object>"
      ]
     },
     "execution_count": 54,
     "metadata": {},
     "output_type": "execute_result"
    }
   ],
   "source": [
    "md(f'''\n",
    "In the above dataframe of null values in each column of assessments we see:\n",
    "* We have {assessments['date'].isnull().sum()} null data points for assessment date. \n",
    "    * The documentation of this dataset states that if the exam date is missing then it is as the end of the last presentation week. \n",
    "    * We can find this information in the courses dataframe, and add them in to get rid of the NaNs.\n",
    "''')"
   ]
  },
  {
   "cell_type": "code",
   "execution_count": 55,
   "id": "4d6cf378-18de-4c48-8b5e-276192cb99d0",
   "metadata": {
    "colab": {
     "base_uri": "https://localhost:8080/",
     "height": 0
    },
    "id": "4d6cf378-18de-4c48-8b5e-276192cb99d0",
    "outputId": "daa49ba2-914a-4a4e-b8fe-3faf8f35c463",
    "tags": []
   },
   "outputs": [
    {
     "data": {
      "text/html": [
       "<div>\n",
       "<style scoped>\n",
       "    .dataframe tbody tr th:only-of-type {\n",
       "        vertical-align: middle;\n",
       "    }\n",
       "\n",
       "    .dataframe tbody tr th {\n",
       "        vertical-align: top;\n",
       "    }\n",
       "\n",
       "    .dataframe thead th {\n",
       "        text-align: right;\n",
       "    }\n",
       "</style>\n",
       "<table border=\"1\" class=\"dataframe\">\n",
       "  <thead>\n",
       "    <tr style=\"text-align: right;\">\n",
       "      <th></th>\n",
       "      <th>Null Values</th>\n",
       "    </tr>\n",
       "  </thead>\n",
       "  <tbody>\n",
       "    <tr>\n",
       "      <th>module</th>\n",
       "      <td>0</td>\n",
       "    </tr>\n",
       "    <tr>\n",
       "      <th>presentation</th>\n",
       "      <td>0</td>\n",
       "    </tr>\n",
       "    <tr>\n",
       "      <th>id_assessment</th>\n",
       "      <td>0</td>\n",
       "    </tr>\n",
       "    <tr>\n",
       "      <th>assessment_type</th>\n",
       "      <td>0</td>\n",
       "    </tr>\n",
       "    <tr>\n",
       "      <th>date</th>\n",
       "      <td>0</td>\n",
       "    </tr>\n",
       "    <tr>\n",
       "      <th>weight</th>\n",
       "      <td>0</td>\n",
       "    </tr>\n",
       "  </tbody>\n",
       "</table>\n",
       "</div>"
      ],
      "text/plain": [
       "                 Null Values\n",
       "module                     0\n",
       "presentation               0\n",
       "id_assessment              0\n",
       "assessment_type            0\n",
       "date                       0\n",
       "weight                     0"
      ]
     },
     "execution_count": 55,
     "metadata": {},
     "output_type": "execute_result"
    }
   ],
   "source": [
    "# iterate through assessments entries where date is NA\n",
    "for index, row in assessments[assessments['date'].isna()].iterrows():\n",
    "    # change assessments date at current index to the course_length found in courses by locating the matching module/presentation\n",
    "    assessments.at[index, 'date'] = courses.loc[(courses['module'] == row['module']) & (courses['presentation'] == row['presentation']), 'course_length']\n",
    "\n",
    "# give a dataframe of null values to ensure there are now none\n",
    "dataframe(assessments.isnull().sum(), columns=['Null Values'])"
   ]
  },
  {
   "cell_type": "markdown",
   "id": "5020a62c-6b36-40ba-87fe-40edd597c90c",
   "metadata": {
    "id": "5020a62c-6b36-40ba-87fe-40edd597c90c"
   },
   "source": [
    "**Unique Counts**"
   ]
  },
  {
   "cell_type": "code",
   "execution_count": 56,
   "id": "501a7a58-1112-4763-8f97-9f33f311a2bb",
   "metadata": {
    "colab": {
     "base_uri": "https://localhost:8080/",
     "height": 0
    },
    "id": "501a7a58-1112-4763-8f97-9f33f311a2bb",
    "outputId": "19746c3b-e852-422b-ad0f-c841f4b5de4c",
    "tags": []
   },
   "outputs": [
    {
     "data": {
      "text/html": [
       "<style type=\"text/css\">\n",
       "#T_b8a26_ td.col0 {\n",
       "  font-weight: bold;\n",
       "}\n",
       "</style>\n",
       "<table id=\"T_b8a26_\">\n",
       "  <thead>\n",
       "    <tr>\n",
       "      <th class=\"col_heading level0 col0\" >index</th>\n",
       "      <th class=\"col_heading level0 col1\" >Count</th>\n",
       "    </tr>\n",
       "  </thead>\n",
       "  <tbody>\n",
       "    <tr>\n",
       "      <td id=\"T_b8a26_row0_col0\" class=\"data row0 col0\" >module</td>\n",
       "      <td id=\"T_b8a26_row0_col1\" class=\"data row0 col1\" >7</td>\n",
       "    </tr>\n",
       "    <tr>\n",
       "      <td id=\"T_b8a26_row1_col0\" class=\"data row1 col0\" >presentation</td>\n",
       "      <td id=\"T_b8a26_row1_col1\" class=\"data row1 col1\" >4</td>\n",
       "    </tr>\n",
       "    <tr>\n",
       "      <td id=\"T_b8a26_row2_col0\" class=\"data row2 col0\" >id_assessment</td>\n",
       "      <td id=\"T_b8a26_row2_col1\" class=\"data row2 col1\" >206</td>\n",
       "    </tr>\n",
       "    <tr>\n",
       "      <td id=\"T_b8a26_row3_col0\" class=\"data row3 col0\" >assessment_type</td>\n",
       "      <td id=\"T_b8a26_row3_col1\" class=\"data row3 col1\" >3</td>\n",
       "    </tr>\n",
       "    <tr>\n",
       "      <td id=\"T_b8a26_row4_col0\" class=\"data row4 col0\" >date</td>\n",
       "      <td id=\"T_b8a26_row4_col1\" class=\"data row4 col1\" >78</td>\n",
       "    </tr>\n",
       "    <tr>\n",
       "      <td id=\"T_b8a26_row5_col0\" class=\"data row5 col0\" >weight</td>\n",
       "      <td id=\"T_b8a26_row5_col1\" class=\"data row5 col1\" >24</td>\n",
       "    </tr>\n",
       "  </tbody>\n",
       "</table>\n"
      ],
      "text/plain": [
       "<pandas.io.formats.style.Styler at 0x1a901b14d00>"
      ]
     },
     "execution_count": 56,
     "metadata": {},
     "output_type": "execute_result"
    }
   ],
   "source": [
    "# function to get unique value counts\n",
    "count_unique(assessments)"
   ]
  },
  {
   "cell_type": "code",
   "execution_count": 57,
   "id": "80d2eef7-5548-4376-bb9a-322c6fc30882",
   "metadata": {
    "colab": {
     "base_uri": "https://localhost:8080/",
     "height": 0
    },
    "id": "80d2eef7-5548-4376-bb9a-322c6fc30882",
    "outputId": "bc6c6fc6-d206-40f5-8ffa-f8186187d8ab",
    "tags": [
     "remove_input"
    ]
   },
   "outputs": [
    {
     "data": {
      "text/markdown": [
       "\n",
       "Of note in the counts of unique values in the columns it that there are 206 unique assessment ID's\n"
      ],
      "text/plain": [
       "<IPython.core.display.Markdown object>"
      ]
     },
     "execution_count": 57,
     "metadata": {},
     "output_type": "execute_result"
    }
   ],
   "source": [
    "md(f'''\n",
    "Of note in the counts of unique values in the columns it that there are {assessments['id_assessment'].nunique()} unique assessment ID's\n",
    "''')"
   ]
  },
  {
   "cell_type": "markdown",
   "id": "84007370-bb35-4407-9426-6fdef951f1d3",
   "metadata": {
    "id": "84007370-bb35-4407-9426-6fdef951f1d3"
   },
   "source": [
    "**Unique Categorical Values**"
   ]
  },
  {
   "cell_type": "code",
   "execution_count": 58,
   "id": "6f1c74fb-769a-4a88-a09e-a648b84744a9",
   "metadata": {
    "colab": {
     "base_uri": "https://localhost:8080/",
     "height": 0
    },
    "id": "6f1c74fb-769a-4a88-a09e-a648b84744a9",
    "outputId": "1d64e585-d9e2-4feb-edb9-c847f8974658",
    "tags": []
   },
   "outputs": [
    {
     "data": {
      "text/html": [
       "<style type=\"text/css\">\n",
       "#T_e8729_ td.col0 {\n",
       "  font-weight: bold;\n",
       "}\n",
       "</style>\n",
       "<table id=\"T_e8729_\">\n",
       "  <thead>\n",
       "    <tr>\n",
       "      <th class=\"col_heading level0 col0\" >index</th>\n",
       "      <th class=\"col_heading level0 col1\" >Values</th>\n",
       "    </tr>\n",
       "  </thead>\n",
       "  <tbody>\n",
       "    <tr>\n",
       "      <td id=\"T_e8729_row0_col0\" class=\"data row0 col0\" >module</td>\n",
       "      <td id=\"T_e8729_row0_col1\" class=\"data row0 col1\" >['AAA', 'BBB', 'CCC', 'DDD', 'EEE', 'FFF', 'GGG']</td>\n",
       "    </tr>\n",
       "    <tr>\n",
       "      <td id=\"T_e8729_row1_col0\" class=\"data row1 col0\" >presentation</td>\n",
       "      <td id=\"T_e8729_row1_col1\" class=\"data row1 col1\" >['2013J', '2014J', '2013B', '2014B']</td>\n",
       "    </tr>\n",
       "    <tr>\n",
       "      <td id=\"T_e8729_row2_col0\" class=\"data row2 col0\" >id_assessment</td>\n",
       "      <td id=\"T_e8729_row2_col1\" class=\"data row2 col1\" >['1752', '1753', '1754', '1755', '1756', '1757', '1758', '1759', '1760', '1761', '1762', '1763', '14991', '14992', '14993', '14994', '14995', '14984', '14985', '14986', '14987', '14988', '14989', '14990', '15003', '15004', '15005', '15006', '15007', '14996', '14997', '14998', '14999', '15000', '15001', '15002', '15015', '15016', '15017', '15018', '15019', '15008', '15009', '15010', '15011', '15012', '15013', '15014', '15020', '15021', '15022', '15023', '15024', '15025', '24286', '24287', '24288', '24289', '24282', '24283', '24284', '24285', '24290', '40087', '24295', '24296', '24297', '24298', '24291', '24292', '24293', '24294', '24299', '40088', '25341', '25342', '25343', '25344', '25345', '25346', '25347', '25334', '25335', '25336', '25337', '25338', '25339', '25340', '25348', '25349', '25350', '25351', '25352', '25353', '25354', '25355', '25356', '25357', '25358', '25359', '25360', '25361', '25362', '25363', '25364', '25365', '25366', '25367', '25368', '30709', '30710', '30711', '30712', '30713', '30714', '30715', '30716', '30717', '30718', '30719', '30720', '30721', '30722', '30723', '34865', '34866', '34867', '34868', '34869', '34871', '34870', '34860', '34861', '34862', '34863', '34864', '34872', '34878', '34879', '34880', '34881', '34882', '34884', '34883', '34873', '34874', '34875', '34876', '34877', '34885', '34891', '34892', '34893', '34894', '34895', '34897', '34896', '34886', '34887', '34888', '34889', '34890', '34898', '34904', '34905', '34906', '34907', '34908', '34910', '34909', '34899', '34900', '34901', '34902', '34903', '34911', '37418', '37419', '37420', '37421', '37422', '37423', '37415', '37416', '37417', '37424', '37428', '37429', '37430', '37431', '37432', '37433', '37425', '37426', '37427', '37434', '37438', '37439', '37440', '37441', '37442', '37443', '37435', '37436', '37437', '37444']</td>\n",
       "    </tr>\n",
       "    <tr>\n",
       "      <td id=\"T_e8729_row3_col0\" class=\"data row3 col0\" >assessment_type</td>\n",
       "      <td id=\"T_e8729_row3_col1\" class=\"data row3 col1\" >['TMA', 'Exam', 'CMA']</td>\n",
       "    </tr>\n",
       "  </tbody>\n",
       "</table>\n"
      ],
      "text/plain": [
       "<pandas.io.formats.style.Styler at 0x1a901b19880>"
      ]
     },
     "execution_count": 58,
     "metadata": {},
     "output_type": "execute_result"
    }
   ],
   "source": [
    "# function to get unique categorical values in columns\n",
    "unique_vals(assessments)"
   ]
  },
  {
   "cell_type": "markdown",
   "id": "06abc18c-411c-4024-a949-0328579ca70d",
   "metadata": {
    "id": "06abc18c-411c-4024-a949-0328579ca70d"
   },
   "source": [
    "Everything in our unique categeorical variables is as we would expect based on the description of the data.\n",
    "\n",
    "Next we will look at how many of each type of exam there is."
   ]
  },
  {
   "cell_type": "code",
   "execution_count": 59,
   "id": "f4ceb5e6-0933-48f4-9a40-891fb2d82f76",
   "metadata": {
    "colab": {
     "base_uri": "https://localhost:8080/",
     "height": 0
    },
    "id": "f4ceb5e6-0933-48f4-9a40-891fb2d82f76",
    "outputId": "15f0cf19-144f-4f70-ee55-201fbd29647b"
   },
   "outputs": [
    {
     "data": {
      "text/html": [
       "<div>\n",
       "<style scoped>\n",
       "    .dataframe tbody tr th:only-of-type {\n",
       "        vertical-align: middle;\n",
       "    }\n",
       "\n",
       "    .dataframe tbody tr th {\n",
       "        vertical-align: top;\n",
       "    }\n",
       "\n",
       "    .dataframe thead th {\n",
       "        text-align: right;\n",
       "    }\n",
       "</style>\n",
       "<table border=\"1\" class=\"dataframe\">\n",
       "  <thead>\n",
       "    <tr style=\"text-align: right;\">\n",
       "      <th></th>\n",
       "      <th>assessment_type</th>\n",
       "    </tr>\n",
       "  </thead>\n",
       "  <tbody>\n",
       "    <tr>\n",
       "      <th>TMA</th>\n",
       "      <td>106</td>\n",
       "    </tr>\n",
       "    <tr>\n",
       "      <th>CMA</th>\n",
       "      <td>76</td>\n",
       "    </tr>\n",
       "    <tr>\n",
       "      <th>Exam</th>\n",
       "      <td>24</td>\n",
       "    </tr>\n",
       "  </tbody>\n",
       "</table>\n",
       "</div>"
      ],
      "text/plain": [
       "      assessment_type\n",
       "TMA               106\n",
       "CMA                76\n",
       "Exam               24"
      ]
     },
     "execution_count": 59,
     "metadata": {},
     "output_type": "execute_result"
    }
   ],
   "source": [
    "# get the value counts for each type of exam\n",
    "dataframe(assessments['assessment_type'].value_counts())"
   ]
  },
  {
   "cell_type": "code",
   "execution_count": 60,
   "id": "4ce7dd03-f6a8-4831-af06-b34677cfaf1c",
   "metadata": {
    "colab": {
     "base_uri": "https://localhost:8080/",
     "height": 0
    },
    "id": "4ce7dd03-f6a8-4831-af06-b34677cfaf1c",
    "outputId": "4d3e609a-bd80-442c-82ba-869fbaf57d96",
    "tags": [
     "remove_input"
    ]
   },
   "outputs": [
    {
     "data": {
      "text/markdown": [
       "\n",
       "Above we see that there are 106 Tutor Marked Assessements, 76 Computer Marked Assessments and 24 Final Exams in our data.\n"
      ],
      "text/plain": [
       "<IPython.core.display.Markdown object>"
      ]
     },
     "execution_count": 60,
     "metadata": {},
     "output_type": "execute_result"
    }
   ],
   "source": [
    "# store counts for each type of exam in assessments\n",
    "TMA_count = assessments['assessment_type'].value_counts()[0]\n",
    "CMA_count = assessments['assessment_type'].value_counts()[1]\n",
    "exam_count = assessments['assessment_type'].value_counts()[2]\n",
    "\n",
    "md(f'''\n",
    "Above we see that there are {TMA_count} Tutor Marked Assessements, {CMA_count} Computer Marked Assessments and {exam_count} Final Exams in our data.\n",
    "''')"
   ]
  },
  {
   "cell_type": "markdown",
   "id": "85869699-be08-4c05-90c8-4f877c37e055",
   "metadata": {
    "id": "85869699-be08-4c05-90c8-4f877c37e055",
    "tags": [
     "remove_input"
    ]
   },
   "source": [
    "Our data source tells us that final exams are weighted 100 and the weights of the rest of the exams in a module should amount to 100. Each module should thus have a total weight of 200. Let's ensure that is correct."
   ]
  },
  {
   "cell_type": "code",
   "execution_count": 61,
   "id": "35906b97-612a-483c-ac35-8ee9cead98e2",
   "metadata": {
    "colab": {
     "base_uri": "https://localhost:8080/",
     "height": 0
    },
    "id": "35906b97-612a-483c-ac35-8ee9cead98e2",
    "outputId": "4ce22554-8183-4e0e-e583-2b40fb7a09e4"
   },
   "outputs": [
    {
     "data": {
      "text/html": [
       "<div>\n",
       "<style scoped>\n",
       "    .dataframe tbody tr th:only-of-type {\n",
       "        vertical-align: middle;\n",
       "    }\n",
       "\n",
       "    .dataframe tbody tr th {\n",
       "        vertical-align: top;\n",
       "    }\n",
       "\n",
       "    .dataframe thead th {\n",
       "        text-align: right;\n",
       "    }\n",
       "</style>\n",
       "<table border=\"1\" class=\"dataframe\">\n",
       "  <thead>\n",
       "    <tr style=\"text-align: right;\">\n",
       "      <th></th>\n",
       "      <th></th>\n",
       "      <th>weight</th>\n",
       "    </tr>\n",
       "    <tr>\n",
       "      <th>presentation</th>\n",
       "      <th>module</th>\n",
       "      <th></th>\n",
       "    </tr>\n",
       "  </thead>\n",
       "  <tbody>\n",
       "    <tr>\n",
       "      <th rowspan=\"3\" valign=\"top\">2013B</th>\n",
       "      <th>BBB</th>\n",
       "      <td>200.0</td>\n",
       "    </tr>\n",
       "    <tr>\n",
       "      <th>DDD</th>\n",
       "      <td>200.0</td>\n",
       "    </tr>\n",
       "    <tr>\n",
       "      <th>FFF</th>\n",
       "      <td>200.0</td>\n",
       "    </tr>\n",
       "    <tr>\n",
       "      <th rowspan=\"6\" valign=\"top\">2013J</th>\n",
       "      <th>AAA</th>\n",
       "      <td>200.0</td>\n",
       "    </tr>\n",
       "    <tr>\n",
       "      <th>BBB</th>\n",
       "      <td>200.0</td>\n",
       "    </tr>\n",
       "    <tr>\n",
       "      <th>DDD</th>\n",
       "      <td>200.0</td>\n",
       "    </tr>\n",
       "    <tr>\n",
       "      <th>EEE</th>\n",
       "      <td>200.0</td>\n",
       "    </tr>\n",
       "    <tr>\n",
       "      <th>FFF</th>\n",
       "      <td>200.0</td>\n",
       "    </tr>\n",
       "    <tr>\n",
       "      <th>GGG</th>\n",
       "      <td>100.0</td>\n",
       "    </tr>\n",
       "    <tr>\n",
       "      <th rowspan=\"6\" valign=\"top\">2014B</th>\n",
       "      <th>BBB</th>\n",
       "      <td>200.0</td>\n",
       "    </tr>\n",
       "    <tr>\n",
       "      <th>CCC</th>\n",
       "      <td>300.0</td>\n",
       "    </tr>\n",
       "    <tr>\n",
       "      <th>DDD</th>\n",
       "      <td>200.0</td>\n",
       "    </tr>\n",
       "    <tr>\n",
       "      <th>EEE</th>\n",
       "      <td>200.0</td>\n",
       "    </tr>\n",
       "    <tr>\n",
       "      <th>FFF</th>\n",
       "      <td>200.0</td>\n",
       "    </tr>\n",
       "    <tr>\n",
       "      <th>GGG</th>\n",
       "      <td>100.0</td>\n",
       "    </tr>\n",
       "    <tr>\n",
       "      <th rowspan=\"7\" valign=\"top\">2014J</th>\n",
       "      <th>AAA</th>\n",
       "      <td>200.0</td>\n",
       "    </tr>\n",
       "    <tr>\n",
       "      <th>BBB</th>\n",
       "      <td>200.0</td>\n",
       "    </tr>\n",
       "    <tr>\n",
       "      <th>CCC</th>\n",
       "      <td>300.0</td>\n",
       "    </tr>\n",
       "    <tr>\n",
       "      <th>DDD</th>\n",
       "      <td>200.0</td>\n",
       "    </tr>\n",
       "    <tr>\n",
       "      <th>EEE</th>\n",
       "      <td>200.0</td>\n",
       "    </tr>\n",
       "    <tr>\n",
       "      <th>FFF</th>\n",
       "      <td>200.0</td>\n",
       "    </tr>\n",
       "    <tr>\n",
       "      <th>GGG</th>\n",
       "      <td>100.0</td>\n",
       "    </tr>\n",
       "  </tbody>\n",
       "</table>\n",
       "</div>"
      ],
      "text/plain": [
       "                     weight\n",
       "presentation module        \n",
       "2013B        BBB      200.0\n",
       "             DDD      200.0\n",
       "             FFF      200.0\n",
       "2013J        AAA      200.0\n",
       "             BBB      200.0\n",
       "             DDD      200.0\n",
       "             EEE      200.0\n",
       "             FFF      200.0\n",
       "             GGG      100.0\n",
       "2014B        BBB      200.0\n",
       "             CCC      300.0\n",
       "             DDD      200.0\n",
       "             EEE      200.0\n",
       "             FFF      200.0\n",
       "             GGG      100.0\n",
       "2014J        AAA      200.0\n",
       "             BBB      200.0\n",
       "             CCC      300.0\n",
       "             DDD      200.0\n",
       "             EEE      200.0\n",
       "             FFF      200.0\n",
       "             GGG      100.0"
      ]
     },
     "execution_count": 61,
     "metadata": {},
     "output_type": "execute_result"
    }
   ],
   "source": [
    "# create a pivot table grouped by presentation and then module then the total exam weight\n",
    "pd.pivot_table(assessments, index=['presentation', 'module'], values='weight', aggfunc=np.sum)"
   ]
  },
  {
   "cell_type": "markdown",
   "id": "962cd14e-ff01-449f-8fc0-098258c0d072",
   "metadata": {
    "id": "962cd14e-ff01-449f-8fc0-098258c0d072"
   },
   "source": [
    "This pivot table shows the module presentation, the module and the total of the weights of the exams in the module.\n",
    "Because the final exam is weighted 100 and the other exams should form another 100 we should have 200 points in each module. \n",
    "We see here that CCC module has a weight of 300 in total weight and GGG modules have 100 in total weight which is inconsistent with the data description.\n",
    "\n",
    "Let's look at the breakdown of the exams and their weights in these modules."
   ]
  },
  {
   "cell_type": "code",
   "execution_count": 62,
   "id": "6191cb07-8246-48ad-8fc5-d0638211d70e",
   "metadata": {
    "colab": {
     "base_uri": "https://localhost:8080/",
     "height": 0
    },
    "id": "6191cb07-8246-48ad-8fc5-d0638211d70e",
    "outputId": "03bece38-aaa2-44e2-a6b7-d81650df4bf5"
   },
   "outputs": [
    {
     "data": {
      "text/html": [
       "<div>\n",
       "<style scoped>\n",
       "    .dataframe tbody tr th:only-of-type {\n",
       "        vertical-align: middle;\n",
       "    }\n",
       "\n",
       "    .dataframe tbody tr th {\n",
       "        vertical-align: top;\n",
       "    }\n",
       "\n",
       "    .dataframe thead th {\n",
       "        text-align: right;\n",
       "    }\n",
       "</style>\n",
       "<table border=\"1\" class=\"dataframe\">\n",
       "  <thead>\n",
       "    <tr style=\"text-align: right;\">\n",
       "      <th></th>\n",
       "      <th>module</th>\n",
       "      <th>id_assessment</th>\n",
       "      <th>assessment_type</th>\n",
       "      <th>weight</th>\n",
       "    </tr>\n",
       "  </thead>\n",
       "  <tbody>\n",
       "    <tr>\n",
       "      <th>54</th>\n",
       "      <td>CCC</td>\n",
       "      <td>24286</td>\n",
       "      <td>CMA</td>\n",
       "      <td>2.0</td>\n",
       "    </tr>\n",
       "    <tr>\n",
       "      <th>55</th>\n",
       "      <td>CCC</td>\n",
       "      <td>24287</td>\n",
       "      <td>CMA</td>\n",
       "      <td>7.0</td>\n",
       "    </tr>\n",
       "    <tr>\n",
       "      <th>56</th>\n",
       "      <td>CCC</td>\n",
       "      <td>24288</td>\n",
       "      <td>CMA</td>\n",
       "      <td>8.0</td>\n",
       "    </tr>\n",
       "    <tr>\n",
       "      <th>57</th>\n",
       "      <td>CCC</td>\n",
       "      <td>24289</td>\n",
       "      <td>CMA</td>\n",
       "      <td>8.0</td>\n",
       "    </tr>\n",
       "    <tr>\n",
       "      <th>58</th>\n",
       "      <td>CCC</td>\n",
       "      <td>24282</td>\n",
       "      <td>TMA</td>\n",
       "      <td>9.0</td>\n",
       "    </tr>\n",
       "    <tr>\n",
       "      <th>59</th>\n",
       "      <td>CCC</td>\n",
       "      <td>24283</td>\n",
       "      <td>TMA</td>\n",
       "      <td>22.0</td>\n",
       "    </tr>\n",
       "    <tr>\n",
       "      <th>60</th>\n",
       "      <td>CCC</td>\n",
       "      <td>24284</td>\n",
       "      <td>TMA</td>\n",
       "      <td>22.0</td>\n",
       "    </tr>\n",
       "    <tr>\n",
       "      <th>61</th>\n",
       "      <td>CCC</td>\n",
       "      <td>24285</td>\n",
       "      <td>TMA</td>\n",
       "      <td>22.0</td>\n",
       "    </tr>\n",
       "    <tr>\n",
       "      <th>62</th>\n",
       "      <td>CCC</td>\n",
       "      <td>24290</td>\n",
       "      <td>Exam</td>\n",
       "      <td>100.0</td>\n",
       "    </tr>\n",
       "    <tr>\n",
       "      <th>63</th>\n",
       "      <td>CCC</td>\n",
       "      <td>40087</td>\n",
       "      <td>Exam</td>\n",
       "      <td>100.0</td>\n",
       "    </tr>\n",
       "    <tr>\n",
       "      <th>64</th>\n",
       "      <td>CCC</td>\n",
       "      <td>24295</td>\n",
       "      <td>CMA</td>\n",
       "      <td>2.0</td>\n",
       "    </tr>\n",
       "    <tr>\n",
       "      <th>65</th>\n",
       "      <td>CCC</td>\n",
       "      <td>24296</td>\n",
       "      <td>CMA</td>\n",
       "      <td>7.0</td>\n",
       "    </tr>\n",
       "    <tr>\n",
       "      <th>66</th>\n",
       "      <td>CCC</td>\n",
       "      <td>24297</td>\n",
       "      <td>CMA</td>\n",
       "      <td>8.0</td>\n",
       "    </tr>\n",
       "    <tr>\n",
       "      <th>67</th>\n",
       "      <td>CCC</td>\n",
       "      <td>24298</td>\n",
       "      <td>CMA</td>\n",
       "      <td>8.0</td>\n",
       "    </tr>\n",
       "    <tr>\n",
       "      <th>68</th>\n",
       "      <td>CCC</td>\n",
       "      <td>24291</td>\n",
       "      <td>TMA</td>\n",
       "      <td>9.0</td>\n",
       "    </tr>\n",
       "    <tr>\n",
       "      <th>69</th>\n",
       "      <td>CCC</td>\n",
       "      <td>24292</td>\n",
       "      <td>TMA</td>\n",
       "      <td>22.0</td>\n",
       "    </tr>\n",
       "    <tr>\n",
       "      <th>70</th>\n",
       "      <td>CCC</td>\n",
       "      <td>24293</td>\n",
       "      <td>TMA</td>\n",
       "      <td>22.0</td>\n",
       "    </tr>\n",
       "    <tr>\n",
       "      <th>71</th>\n",
       "      <td>CCC</td>\n",
       "      <td>24294</td>\n",
       "      <td>TMA</td>\n",
       "      <td>22.0</td>\n",
       "    </tr>\n",
       "    <tr>\n",
       "      <th>72</th>\n",
       "      <td>CCC</td>\n",
       "      <td>24299</td>\n",
       "      <td>Exam</td>\n",
       "      <td>100.0</td>\n",
       "    </tr>\n",
       "    <tr>\n",
       "      <th>73</th>\n",
       "      <td>CCC</td>\n",
       "      <td>40088</td>\n",
       "      <td>Exam</td>\n",
       "      <td>100.0</td>\n",
       "    </tr>\n",
       "    <tr>\n",
       "      <th>176</th>\n",
       "      <td>GGG</td>\n",
       "      <td>37418</td>\n",
       "      <td>CMA</td>\n",
       "      <td>0.0</td>\n",
       "    </tr>\n",
       "    <tr>\n",
       "      <th>177</th>\n",
       "      <td>GGG</td>\n",
       "      <td>37419</td>\n",
       "      <td>CMA</td>\n",
       "      <td>0.0</td>\n",
       "    </tr>\n",
       "    <tr>\n",
       "      <th>178</th>\n",
       "      <td>GGG</td>\n",
       "      <td>37420</td>\n",
       "      <td>CMA</td>\n",
       "      <td>0.0</td>\n",
       "    </tr>\n",
       "    <tr>\n",
       "      <th>179</th>\n",
       "      <td>GGG</td>\n",
       "      <td>37421</td>\n",
       "      <td>CMA</td>\n",
       "      <td>0.0</td>\n",
       "    </tr>\n",
       "    <tr>\n",
       "      <th>180</th>\n",
       "      <td>GGG</td>\n",
       "      <td>37422</td>\n",
       "      <td>CMA</td>\n",
       "      <td>0.0</td>\n",
       "    </tr>\n",
       "    <tr>\n",
       "      <th>181</th>\n",
       "      <td>GGG</td>\n",
       "      <td>37423</td>\n",
       "      <td>CMA</td>\n",
       "      <td>0.0</td>\n",
       "    </tr>\n",
       "    <tr>\n",
       "      <th>182</th>\n",
       "      <td>GGG</td>\n",
       "      <td>37415</td>\n",
       "      <td>TMA</td>\n",
       "      <td>0.0</td>\n",
       "    </tr>\n",
       "    <tr>\n",
       "      <th>183</th>\n",
       "      <td>GGG</td>\n",
       "      <td>37416</td>\n",
       "      <td>TMA</td>\n",
       "      <td>0.0</td>\n",
       "    </tr>\n",
       "    <tr>\n",
       "      <th>184</th>\n",
       "      <td>GGG</td>\n",
       "      <td>37417</td>\n",
       "      <td>TMA</td>\n",
       "      <td>0.0</td>\n",
       "    </tr>\n",
       "    <tr>\n",
       "      <th>185</th>\n",
       "      <td>GGG</td>\n",
       "      <td>37424</td>\n",
       "      <td>Exam</td>\n",
       "      <td>100.0</td>\n",
       "    </tr>\n",
       "    <tr>\n",
       "      <th>186</th>\n",
       "      <td>GGG</td>\n",
       "      <td>37428</td>\n",
       "      <td>CMA</td>\n",
       "      <td>0.0</td>\n",
       "    </tr>\n",
       "    <tr>\n",
       "      <th>187</th>\n",
       "      <td>GGG</td>\n",
       "      <td>37429</td>\n",
       "      <td>CMA</td>\n",
       "      <td>0.0</td>\n",
       "    </tr>\n",
       "    <tr>\n",
       "      <th>188</th>\n",
       "      <td>GGG</td>\n",
       "      <td>37430</td>\n",
       "      <td>CMA</td>\n",
       "      <td>0.0</td>\n",
       "    </tr>\n",
       "    <tr>\n",
       "      <th>189</th>\n",
       "      <td>GGG</td>\n",
       "      <td>37431</td>\n",
       "      <td>CMA</td>\n",
       "      <td>0.0</td>\n",
       "    </tr>\n",
       "    <tr>\n",
       "      <th>190</th>\n",
       "      <td>GGG</td>\n",
       "      <td>37432</td>\n",
       "      <td>CMA</td>\n",
       "      <td>0.0</td>\n",
       "    </tr>\n",
       "    <tr>\n",
       "      <th>191</th>\n",
       "      <td>GGG</td>\n",
       "      <td>37433</td>\n",
       "      <td>CMA</td>\n",
       "      <td>0.0</td>\n",
       "    </tr>\n",
       "    <tr>\n",
       "      <th>192</th>\n",
       "      <td>GGG</td>\n",
       "      <td>37425</td>\n",
       "      <td>TMA</td>\n",
       "      <td>0.0</td>\n",
       "    </tr>\n",
       "    <tr>\n",
       "      <th>193</th>\n",
       "      <td>GGG</td>\n",
       "      <td>37426</td>\n",
       "      <td>TMA</td>\n",
       "      <td>0.0</td>\n",
       "    </tr>\n",
       "    <tr>\n",
       "      <th>194</th>\n",
       "      <td>GGG</td>\n",
       "      <td>37427</td>\n",
       "      <td>TMA</td>\n",
       "      <td>0.0</td>\n",
       "    </tr>\n",
       "    <tr>\n",
       "      <th>195</th>\n",
       "      <td>GGG</td>\n",
       "      <td>37434</td>\n",
       "      <td>Exam</td>\n",
       "      <td>100.0</td>\n",
       "    </tr>\n",
       "    <tr>\n",
       "      <th>196</th>\n",
       "      <td>GGG</td>\n",
       "      <td>37438</td>\n",
       "      <td>CMA</td>\n",
       "      <td>0.0</td>\n",
       "    </tr>\n",
       "    <tr>\n",
       "      <th>197</th>\n",
       "      <td>GGG</td>\n",
       "      <td>37439</td>\n",
       "      <td>CMA</td>\n",
       "      <td>0.0</td>\n",
       "    </tr>\n",
       "    <tr>\n",
       "      <th>198</th>\n",
       "      <td>GGG</td>\n",
       "      <td>37440</td>\n",
       "      <td>CMA</td>\n",
       "      <td>0.0</td>\n",
       "    </tr>\n",
       "    <tr>\n",
       "      <th>199</th>\n",
       "      <td>GGG</td>\n",
       "      <td>37441</td>\n",
       "      <td>CMA</td>\n",
       "      <td>0.0</td>\n",
       "    </tr>\n",
       "    <tr>\n",
       "      <th>200</th>\n",
       "      <td>GGG</td>\n",
       "      <td>37442</td>\n",
       "      <td>CMA</td>\n",
       "      <td>0.0</td>\n",
       "    </tr>\n",
       "    <tr>\n",
       "      <th>201</th>\n",
       "      <td>GGG</td>\n",
       "      <td>37443</td>\n",
       "      <td>CMA</td>\n",
       "      <td>0.0</td>\n",
       "    </tr>\n",
       "    <tr>\n",
       "      <th>202</th>\n",
       "      <td>GGG</td>\n",
       "      <td>37435</td>\n",
       "      <td>TMA</td>\n",
       "      <td>0.0</td>\n",
       "    </tr>\n",
       "    <tr>\n",
       "      <th>203</th>\n",
       "      <td>GGG</td>\n",
       "      <td>37436</td>\n",
       "      <td>TMA</td>\n",
       "      <td>0.0</td>\n",
       "    </tr>\n",
       "    <tr>\n",
       "      <th>204</th>\n",
       "      <td>GGG</td>\n",
       "      <td>37437</td>\n",
       "      <td>TMA</td>\n",
       "      <td>0.0</td>\n",
       "    </tr>\n",
       "    <tr>\n",
       "      <th>205</th>\n",
       "      <td>GGG</td>\n",
       "      <td>37444</td>\n",
       "      <td>Exam</td>\n",
       "      <td>100.0</td>\n",
       "    </tr>\n",
       "  </tbody>\n",
       "</table>\n",
       "</div>"
      ],
      "text/plain": [
       "    module id_assessment assessment_type  weight\n",
       "54     CCC         24286             CMA     2.0\n",
       "55     CCC         24287             CMA     7.0\n",
       "56     CCC         24288             CMA     8.0\n",
       "57     CCC         24289             CMA     8.0\n",
       "58     CCC         24282             TMA     9.0\n",
       "59     CCC         24283             TMA    22.0\n",
       "60     CCC         24284             TMA    22.0\n",
       "61     CCC         24285             TMA    22.0\n",
       "62     CCC         24290            Exam   100.0\n",
       "63     CCC         40087            Exam   100.0\n",
       "64     CCC         24295             CMA     2.0\n",
       "65     CCC         24296             CMA     7.0\n",
       "66     CCC         24297             CMA     8.0\n",
       "67     CCC         24298             CMA     8.0\n",
       "68     CCC         24291             TMA     9.0\n",
       "69     CCC         24292             TMA    22.0\n",
       "70     CCC         24293             TMA    22.0\n",
       "71     CCC         24294             TMA    22.0\n",
       "72     CCC         24299            Exam   100.0\n",
       "73     CCC         40088            Exam   100.0\n",
       "176    GGG         37418             CMA     0.0\n",
       "177    GGG         37419             CMA     0.0\n",
       "178    GGG         37420             CMA     0.0\n",
       "179    GGG         37421             CMA     0.0\n",
       "180    GGG         37422             CMA     0.0\n",
       "181    GGG         37423             CMA     0.0\n",
       "182    GGG         37415             TMA     0.0\n",
       "183    GGG         37416             TMA     0.0\n",
       "184    GGG         37417             TMA     0.0\n",
       "185    GGG         37424            Exam   100.0\n",
       "186    GGG         37428             CMA     0.0\n",
       "187    GGG         37429             CMA     0.0\n",
       "188    GGG         37430             CMA     0.0\n",
       "189    GGG         37431             CMA     0.0\n",
       "190    GGG         37432             CMA     0.0\n",
       "191    GGG         37433             CMA     0.0\n",
       "192    GGG         37425             TMA     0.0\n",
       "193    GGG         37426             TMA     0.0\n",
       "194    GGG         37427             TMA     0.0\n",
       "195    GGG         37434            Exam   100.0\n",
       "196    GGG         37438             CMA     0.0\n",
       "197    GGG         37439             CMA     0.0\n",
       "198    GGG         37440             CMA     0.0\n",
       "199    GGG         37441             CMA     0.0\n",
       "200    GGG         37442             CMA     0.0\n",
       "201    GGG         37443             CMA     0.0\n",
       "202    GGG         37435             TMA     0.0\n",
       "203    GGG         37436             TMA     0.0\n",
       "204    GGG         37437             TMA     0.0\n",
       "205    GGG         37444            Exam   100.0"
      ]
     },
     "execution_count": 62,
     "metadata": {},
     "output_type": "execute_result"
    }
   ],
   "source": [
    "# locate CCC and GGG exams in assessments\n",
    "ccc_ggg_weights = assessments.loc[(assessments['module'] == 'CCC') | (assessments['module'] == 'GGG')]\n",
    "\n",
    "# reorder columns for clarity & display dataframe\n",
    "ccc_ggg_weights = ccc_ggg_weights[['module', 'id_assessment', 'assessment_type', 'weight']]\n",
    "ccc_ggg_weights"
   ]
  },
  {
   "cell_type": "markdown",
   "id": "37604f60-8961-4720-b356-e08ab7139420",
   "metadata": {
    "id": "37604f60-8961-4720-b356-e08ab7139420"
   },
   "source": [
    "We can see here that CCC Modules had two final exams, resulting in the extra 100 points of exam weight, and the GGG module's full course weight consisted only of a final exam, explaining why the weight of the GGG module exams was only 100. This may prove to be an intersting finding later in our analysis."
   ]
  },
  {
   "cell_type": "markdown",
   "id": "8cae5bcc-4cde-4c66-820e-4284794e2813",
   "metadata": {
    "id": "8cae5bcc-4cde-4c66-820e-4284794e2813"
   },
   "source": [
    "**Duplicate Values:**"
   ]
  },
  {
   "cell_type": "code",
   "execution_count": 63,
   "id": "79f753bb-1d7b-49ba-8d3d-fcaf244742d1",
   "metadata": {
    "colab": {
     "base_uri": "https://localhost:8080/",
     "height": 0
    },
    "id": "79f753bb-1d7b-49ba-8d3d-fcaf244742d1",
    "outputId": "404b0b97-91eb-4cc2-a415-ea7a045483fb",
    "tags": [
     "remove_input"
    ]
   },
   "outputs": [
    {
     "data": {
      "text/markdown": [
       "There are no Duplicate Values"
      ],
      "text/plain": [
       "<IPython.core.display.Markdown object>"
      ]
     },
     "execution_count": 63,
     "metadata": {},
     "output_type": "execute_result"
    }
   ],
   "source": [
    "# function to output a dataframe of duplicate values\n",
    "get_dupes(assessments)"
   ]
  },
  {
   "cell_type": "markdown",
   "id": "5432dbfe-ded5-4bbd-bc93-1ef0ec939ad3",
   "metadata": {
    "id": "5432dbfe-ded5-4bbd-bc93-1ef0ec939ad3"
   },
   "source": [
    "**Numerical Values**"
   ]
  },
  {
   "cell_type": "code",
   "execution_count": 64,
   "id": "19980394-6160-44dc-b796-bee02b24d58d",
   "metadata": {
    "colab": {
     "base_uri": "https://localhost:8080/",
     "height": 0
    },
    "id": "19980394-6160-44dc-b796-bee02b24d58d",
    "outputId": "3057b5ba-1075-4dbe-ebab-0210b374d47b",
    "tags": [
     "remove_input"
    ]
   },
   "outputs": [
    {
     "data": {
      "text/html": [
       "<div>\n",
       "<style scoped>\n",
       "    .dataframe tbody tr th:only-of-type {\n",
       "        vertical-align: middle;\n",
       "    }\n",
       "\n",
       "    .dataframe tbody tr th {\n",
       "        vertical-align: top;\n",
       "    }\n",
       "\n",
       "    .dataframe thead th {\n",
       "        text-align: right;\n",
       "    }\n",
       "</style>\n",
       "<table border=\"1\" class=\"dataframe\">\n",
       "  <thead>\n",
       "    <tr style=\"text-align: right;\">\n",
       "      <th></th>\n",
       "      <th>date</th>\n",
       "      <th>weight</th>\n",
       "    </tr>\n",
       "  </thead>\n",
       "  <tbody>\n",
       "    <tr>\n",
       "      <th>count</th>\n",
       "      <td>206.00</td>\n",
       "      <td>206.00</td>\n",
       "    </tr>\n",
       "    <tr>\n",
       "      <th>mean</th>\n",
       "      <td>150.97</td>\n",
       "      <td>20.87</td>\n",
       "    </tr>\n",
       "    <tr>\n",
       "      <th>std</th>\n",
       "      <td>78.16</td>\n",
       "      <td>30.38</td>\n",
       "    </tr>\n",
       "    <tr>\n",
       "      <th>min</th>\n",
       "      <td>12.00</td>\n",
       "      <td>0.00</td>\n",
       "    </tr>\n",
       "    <tr>\n",
       "      <th>25%</th>\n",
       "      <td>81.25</td>\n",
       "      <td>0.00</td>\n",
       "    </tr>\n",
       "    <tr>\n",
       "      <th>50%</th>\n",
       "      <td>159.00</td>\n",
       "      <td>12.50</td>\n",
       "    </tr>\n",
       "    <tr>\n",
       "      <th>75%</th>\n",
       "      <td>227.00</td>\n",
       "      <td>24.25</td>\n",
       "    </tr>\n",
       "    <tr>\n",
       "      <th>max</th>\n",
       "      <td>269.00</td>\n",
       "      <td>100.00</td>\n",
       "    </tr>\n",
       "  </tbody>\n",
       "</table>\n",
       "</div>"
      ],
      "text/plain": [
       "         date  weight\n",
       "count  206.00  206.00\n",
       "mean   150.97   20.87\n",
       "std     78.16   30.38\n",
       "min     12.00    0.00\n",
       "25%     81.25    0.00\n",
       "50%    159.00   12.50\n",
       "75%    227.00   24.25\n",
       "max    269.00  100.00"
      ]
     },
     "execution_count": 64,
     "metadata": {},
     "output_type": "execute_result"
    }
   ],
   "source": [
    "# show statistical information for numerical values\n",
    "assessments.describe().round(2)"
   ]
  },
  {
   "cell_type": "code",
   "execution_count": 65,
   "id": "fb3a6a9c-1884-4934-abb2-60c207e24031",
   "metadata": {
    "colab": {
     "base_uri": "https://localhost:8080/",
     "height": 0
    },
    "id": "fb3a6a9c-1884-4934-abb2-60c207e24031",
    "outputId": "eae85454-aaa0-4d1e-b830-50ab8c0928f7",
    "tags": [
     "remove_input"
    ]
   },
   "outputs": [
    {
     "data": {
      "text/markdown": [
       "\n",
       "We see in the above numerical breakdown that the average test is weighted at 20.87, which makes sense \n",
       "as there is normally 5 tests adding to 100  points, so 20 points each along with a final exam weighted at 100\n",
       "which likely brings up that mean slightly.\n"
      ],
      "text/plain": [
       "<IPython.core.display.Markdown object>"
      ]
     },
     "execution_count": 65,
     "metadata": {},
     "output_type": "execute_result"
    }
   ],
   "source": [
    "# find the average weight of assessments\n",
    "mean_weight = round(assessments['weight'].mean(), 2)\n",
    "\n",
    "md(f'''\n",
    "We see in the above numerical breakdown that the average test is weighted at {mean_weight}, which makes sense \n",
    "as there is normally 5 tests adding to 100  points, so 20 points each along with a final exam weighted at 100\n",
    "which likely brings up that mean slightly.\n",
    "''')"
   ]
  },
  {
   "cell_type": "markdown",
   "id": "b43f303f-57c0-4afb-b0b9-a4494a56d849",
   "metadata": {
    "id": "b43f303f-57c0-4afb-b0b9-a4494a56d849"
   },
   "source": [
    "### Student Assessment\n",
    "\n",
    "---"
   ]
  },
  {
   "cell_type": "markdown",
   "id": "424eb755-aa1c-418d-8394-2aed6d6d29dc",
   "metadata": {
    "id": "424eb755-aa1c-418d-8394-2aed6d6d29dc"
   },
   "source": [
    "The Student Assessments dataframe contains information about each student and the assessments they took during the module"
   ]
  },
  {
   "cell_type": "code",
   "execution_count": 66,
   "id": "cb91bd50-5c33-4cb3-a5ee-cb57df0c621b",
   "metadata": {
    "colab": {
     "base_uri": "https://localhost:8080/",
     "height": 0
    },
    "id": "cb91bd50-5c33-4cb3-a5ee-cb57df0c621b",
    "outputId": "28f23335-2231-4164-8589-70b4c9fdaa0d",
    "tags": []
   },
   "outputs": [
    {
     "data": {
      "text/html": [
       "<div>\n",
       "<style scoped>\n",
       "    .dataframe tbody tr th:only-of-type {\n",
       "        vertical-align: middle;\n",
       "    }\n",
       "\n",
       "    .dataframe tbody tr th {\n",
       "        vertical-align: top;\n",
       "    }\n",
       "\n",
       "    .dataframe thead th {\n",
       "        text-align: right;\n",
       "    }\n",
       "</style>\n",
       "<table border=\"1\" class=\"dataframe\">\n",
       "  <thead>\n",
       "    <tr style=\"text-align: right;\">\n",
       "      <th></th>\n",
       "      <th>id_assessment</th>\n",
       "      <th>id_student</th>\n",
       "      <th>date_submitted</th>\n",
       "      <th>is_banked</th>\n",
       "      <th>score</th>\n",
       "    </tr>\n",
       "  </thead>\n",
       "  <tbody>\n",
       "    <tr>\n",
       "      <th>0</th>\n",
       "      <td>1752</td>\n",
       "      <td>11391</td>\n",
       "      <td>18</td>\n",
       "      <td>0</td>\n",
       "      <td>78.0</td>\n",
       "    </tr>\n",
       "    <tr>\n",
       "      <th>1</th>\n",
       "      <td>1752</td>\n",
       "      <td>28400</td>\n",
       "      <td>22</td>\n",
       "      <td>0</td>\n",
       "      <td>70.0</td>\n",
       "    </tr>\n",
       "    <tr>\n",
       "      <th>2</th>\n",
       "      <td>1752</td>\n",
       "      <td>31604</td>\n",
       "      <td>17</td>\n",
       "      <td>0</td>\n",
       "      <td>72.0</td>\n",
       "    </tr>\n",
       "    <tr>\n",
       "      <th>3</th>\n",
       "      <td>1752</td>\n",
       "      <td>32885</td>\n",
       "      <td>26</td>\n",
       "      <td>0</td>\n",
       "      <td>69.0</td>\n",
       "    </tr>\n",
       "    <tr>\n",
       "      <th>4</th>\n",
       "      <td>1752</td>\n",
       "      <td>38053</td>\n",
       "      <td>19</td>\n",
       "      <td>0</td>\n",
       "      <td>79.0</td>\n",
       "    </tr>\n",
       "  </tbody>\n",
       "</table>\n",
       "</div>"
      ],
      "text/plain": [
       "   id_assessment  id_student  date_submitted  is_banked  score\n",
       "0           1752       11391              18          0   78.0\n",
       "1           1752       28400              22          0   70.0\n",
       "2           1752       31604              17          0   72.0\n",
       "3           1752       32885              26          0   69.0\n",
       "4           1752       38053              19          0   79.0"
      ]
     },
     "execution_count": 66,
     "metadata": {},
     "output_type": "execute_result"
    }
   ],
   "source": [
    "# show first 5 student_assessment entries\n",
    "student_assessment.head()"
   ]
  },
  {
   "cell_type": "markdown",
   "id": "ad32de33-bdef-49c8-9d6d-bdd138f14e1d",
   "metadata": {
    "id": "ad32de33-bdef-49c8-9d6d-bdd138f14e1d"
   },
   "source": [
    "---\n",
    "\n",
    "#### Student Assessment Contents\n",
    "\n",
    "* **id_assessment**: The assessment ID is the unique identifier for the assessment the student took.\n",
    "* **id_student**: The student ID is the unique identifier for the student who took the assessment.\n",
    "* **date_submitted**: The date submitted is the date the student submitted the exam relevant to the start date of the module.\n",
    "* **is_banked**: Whether the score for the assessment is banked indicates wheter the assessment result was transferred from a previous presentation.\n",
    "    - is_banked has no relevant information to our analysis and will be removed\n",
    "* **score**: The score the student received for the assessment. 40 or above is considered a passing score."
   ]
  },
  {
   "cell_type": "code",
   "execution_count": 67,
   "id": "f12d2a8c-1e47-4d15-a2ff-6f3b406616e9",
   "metadata": {
    "id": "f12d2a8c-1e47-4d15-a2ff-6f3b406616e9"
   },
   "outputs": [],
   "source": [
    "# drop is_banked from stud_assessment\n",
    "student_assessment = student_assessment.drop(columns='is_banked')"
   ]
  },
  {
   "cell_type": "markdown",
   "id": "9c4b29d4-4996-4251-8757-9b4027b282c7",
   "metadata": {
    "id": "9c4b29d4-4996-4251-8757-9b4027b282c7"
   },
   "source": [
    "---\n",
    "\n",
    "#### Student Assessment Information"
   ]
  },
  {
   "cell_type": "markdown",
   "id": "492fcca5-90f2-490a-ae3f-19e63cd15e06",
   "metadata": {
    "id": "492fcca5-90f2-490a-ae3f-19e63cd15e06"
   },
   "source": [
    "**Size**"
   ]
  },
  {
   "cell_type": "code",
   "execution_count": 68,
   "id": "72324a9d-04f4-4885-8b3f-8f2405a79c70",
   "metadata": {
    "colab": {
     "base_uri": "https://localhost:8080/",
     "height": 0
    },
    "id": "72324a9d-04f4-4885-8b3f-8f2405a79c70",
    "outputId": "bc2474eb-f2d4-4408-da6d-da2e26573d5f",
    "tags": []
   },
   "outputs": [
    {
     "data": {
      "text/html": [
       "<div>\n",
       "<style scoped>\n",
       "    .dataframe tbody tr th:only-of-type {\n",
       "        vertical-align: middle;\n",
       "    }\n",
       "\n",
       "    .dataframe tbody tr th {\n",
       "        vertical-align: top;\n",
       "    }\n",
       "\n",
       "    .dataframe thead th {\n",
       "        text-align: right;\n",
       "    }\n",
       "</style>\n",
       "<table border=\"1\" class=\"dataframe\">\n",
       "  <thead>\n",
       "    <tr style=\"text-align: right;\">\n",
       "      <th></th>\n",
       "      <th>Count</th>\n",
       "    </tr>\n",
       "  </thead>\n",
       "  <tbody>\n",
       "    <tr>\n",
       "      <th>Columns</th>\n",
       "      <td>4</td>\n",
       "    </tr>\n",
       "    <tr>\n",
       "      <th>Rows</th>\n",
       "      <td>173912</td>\n",
       "    </tr>\n",
       "  </tbody>\n",
       "</table>\n",
       "</div>"
      ],
      "text/plain": [
       "          Count\n",
       "Columns       4\n",
       "Rows     173912"
      ]
     },
     "execution_count": 68,
     "metadata": {},
     "output_type": "execute_result"
    }
   ],
   "source": [
    "# get the size of student_assessment\n",
    "get_size(student_assessment)"
   ]
  },
  {
   "cell_type": "code",
   "execution_count": 69,
   "id": "62a05009-8962-4636-9779-2e9d75b3ff8a",
   "metadata": {
    "colab": {
     "base_uri": "https://localhost:8080/",
     "height": 0
    },
    "id": "62a05009-8962-4636-9779-2e9d75b3ff8a",
    "outputId": "011dd96f-e6db-496e-8b4c-32a33270983b",
    "tags": [
     "remove_input"
    ]
   },
   "outputs": [
    {
     "data": {
      "text/markdown": [
       "\n",
       "Student Assessment has 4 columns and 173,912 rows, which is how many exams we have data for.\n"
      ],
      "text/plain": [
       "<IPython.core.display.Markdown object>"
      ]
     },
     "execution_count": 69,
     "metadata": {},
     "output_type": "execute_result"
    }
   ],
   "source": [
    "# store the size of student_assessment's columns\n",
    "sa_cols = len(student_assessment.columns)\n",
    "\n",
    "# store the size of student_assessment's rows\n",
    "sa_rows = len(student_assessment)\n",
    "\n",
    "md(f'''\n",
    "Student Assessment has {sa_cols} columns and {\"{:,}\".format(sa_rows)} rows, which is how many exams we have data for.\n",
    "''')"
   ]
  },
  {
   "cell_type": "markdown",
   "id": "d4ea6f67-ce58-4511-b108-6d95929edbc7",
   "metadata": {
    "id": "d4ea6f67-ce58-4511-b108-6d95929edbc7"
   },
   "source": [
    "**Data Types**"
   ]
  },
  {
   "cell_type": "code",
   "execution_count": 70,
   "id": "ba34573b-3932-4d38-9876-ecf8b59baee7",
   "metadata": {
    "colab": {
     "base_uri": "https://localhost:8080/",
     "height": 0
    },
    "id": "ba34573b-3932-4d38-9876-ecf8b59baee7",
    "outputId": "dac03bcb-50f1-4eb3-c984-339ec5c2f385",
    "tags": [
     "remove_input"
    ]
   },
   "outputs": [
    {
     "data": {
      "text/html": [
       "<style type=\"text/css\">\n",
       "#T_0cd10_ td.col0 {\n",
       "  font-weight: bold;\n",
       "}\n",
       "</style>\n",
       "<table id=\"T_0cd10_\">\n",
       "  <thead>\n",
       "    <tr>\n",
       "      <th class=\"col_heading level0 col0\" >index</th>\n",
       "      <th class=\"col_heading level0 col1\" >Type</th>\n",
       "    </tr>\n",
       "  </thead>\n",
       "  <tbody>\n",
       "    <tr>\n",
       "      <td id=\"T_0cd10_row0_col0\" class=\"data row0 col0\" >id_assessment</td>\n",
       "      <td id=\"T_0cd10_row0_col1\" class=\"data row0 col1\" >int64</td>\n",
       "    </tr>\n",
       "    <tr>\n",
       "      <td id=\"T_0cd10_row1_col0\" class=\"data row1 col0\" >id_student</td>\n",
       "      <td id=\"T_0cd10_row1_col1\" class=\"data row1 col1\" >int64</td>\n",
       "    </tr>\n",
       "    <tr>\n",
       "      <td id=\"T_0cd10_row2_col0\" class=\"data row2 col0\" >date_submitted</td>\n",
       "      <td id=\"T_0cd10_row2_col1\" class=\"data row2 col1\" >int64</td>\n",
       "    </tr>\n",
       "    <tr>\n",
       "      <td id=\"T_0cd10_row3_col0\" class=\"data row3 col0\" >score</td>\n",
       "      <td id=\"T_0cd10_row3_col1\" class=\"data row3 col1\" >float64</td>\n",
       "    </tr>\n",
       "  </tbody>\n",
       "</table>\n"
      ],
      "text/plain": [
       "<pandas.io.formats.style.Styler at 0x1a901b6fbe0>"
      ]
     },
     "execution_count": 70,
     "metadata": {},
     "output_type": "execute_result"
    }
   ],
   "source": [
    "# get student_assessment column datatypes\n",
    "get_dtypes(student_assessment)"
   ]
  },
  {
   "cell_type": "markdown",
   "id": "8deca1e2-135a-445f-9176-22bfcae7949f",
   "metadata": {
    "id": "8deca1e2-135a-445f-9176-22bfcae7949f"
   },
   "source": [
    "The data tpyes for `id_student` and `id_assessments` are both categorical values and so should be converted from `int64` to `string`"
   ]
  },
  {
   "cell_type": "code",
   "execution_count": 71,
   "id": "55107f47-0998-4782-9641-cf3735187af2",
   "metadata": {
    "id": "55107f47-0998-4782-9641-cf3735187af2",
    "tags": []
   },
   "outputs": [],
   "source": [
    "# converting the id_student and id_assessment data types\n",
    "student_assessment = student_assessment.astype({'id_assessment': str, 'id_student': str})\n",
    "\n",
    "# change student_assessment datatypes to values that support pandas NA\n",
    "student_assessment = student_assessment.convert_dtypes()"
   ]
  },
  {
   "cell_type": "markdown",
   "id": "e14ab405-3685-4ed3-8075-24b35f5b43d1",
   "metadata": {
    "id": "e14ab405-3685-4ed3-8075-24b35f5b43d1"
   },
   "source": [
    "**Null Values**"
   ]
  },
  {
   "cell_type": "code",
   "execution_count": 72,
   "id": "9f793dcd-0f30-48e4-9a65-4426f9aba89e",
   "metadata": {
    "colab": {
     "base_uri": "https://localhost:8080/",
     "height": 0
    },
    "id": "9f793dcd-0f30-48e4-9a65-4426f9aba89e",
    "outputId": "6797a14d-89ca-42ea-f5df-51e2582226d5",
    "tags": [
     "remove_input"
    ]
   },
   "outputs": [
    {
     "data": {
      "text/html": [
       "<style type=\"text/css\">\n",
       "#T_5235d_ td.col0 {\n",
       "  font-weight: bold;\n",
       "}\n",
       "</style>\n",
       "<table id=\"T_5235d_\">\n",
       "  <thead>\n",
       "    <tr>\n",
       "      <th class=\"col_heading level0 col0\" >index</th>\n",
       "      <th class=\"col_heading level0 col1\" >Null Values</th>\n",
       "    </tr>\n",
       "  </thead>\n",
       "  <tbody>\n",
       "    <tr>\n",
       "      <td id=\"T_5235d_row0_col0\" class=\"data row0 col0\" >id_assessment</td>\n",
       "      <td id=\"T_5235d_row0_col1\" class=\"data row0 col1\" >0</td>\n",
       "    </tr>\n",
       "    <tr>\n",
       "      <td id=\"T_5235d_row1_col0\" class=\"data row1 col0\" >id_student</td>\n",
       "      <td id=\"T_5235d_row1_col1\" class=\"data row1 col1\" >0</td>\n",
       "    </tr>\n",
       "    <tr>\n",
       "      <td id=\"T_5235d_row2_col0\" class=\"data row2 col0\" >date_submitted</td>\n",
       "      <td id=\"T_5235d_row2_col1\" class=\"data row2 col1\" >0</td>\n",
       "    </tr>\n",
       "    <tr>\n",
       "      <td id=\"T_5235d_row3_col0\" class=\"data row3 col0\" >score</td>\n",
       "      <td id=\"T_5235d_row3_col1\" class=\"data row3 col1\" >173</td>\n",
       "    </tr>\n",
       "  </tbody>\n",
       "</table>\n"
      ],
      "text/plain": [
       "<pandas.io.formats.style.Styler at 0x1a901b61eb0>"
      ]
     },
     "execution_count": 72,
     "metadata": {},
     "output_type": "execute_result"
    }
   ],
   "source": [
    "# get null values if any\n",
    "null_vals(student_assessment)"
   ]
  },
  {
   "cell_type": "code",
   "execution_count": 73,
   "id": "351f9d4b-32e1-4205-999e-f251891a5f6c",
   "metadata": {
    "colab": {
     "base_uri": "https://localhost:8080/",
     "height": 0
    },
    "id": "351f9d4b-32e1-4205-999e-f251891a5f6c",
    "outputId": "54a1f731-87a9-477b-90b8-c20d242e3fec",
    "tags": [
     "remove_input"
    ]
   },
   "outputs": [
    {
     "data": {
      "text/markdown": [
       "\n",
       "In the above dataframe of null values per column in student assessment we see:\n",
       "* We have 173 null values for score, which is important as it is a value we will be trying to predict.\n",
       "* To find which exams we are missing scores for are we will merge the assessments and student_assessment dataframes \n",
       "to have the score, assessment ID and module/presentation in one place.\n"
      ],
      "text/plain": [
       "<IPython.core.display.Markdown object>"
      ]
     },
     "execution_count": 73,
     "metadata": {},
     "output_type": "execute_result"
    }
   ],
   "source": [
    "# get number of null scores in student assessments\n",
    "null_score = student_assessment['score'].isnull().sum()\n",
    "\n",
    "md(f'''\n",
    "In the above dataframe of null values per column in student assessment we see:\n",
    "* We have {null_score} null values for score, which is important as it is a value we will be trying to predict.\n",
    "* To find which exams we are missing scores for are we will merge the assessments and student_assessment dataframes \n",
    "to have the score, assessment ID and module/presentation in one place.\n",
    "''')"
   ]
  },
  {
   "cell_type": "markdown",
   "id": "2bc5a9b4-2325-4f71-9b85-d693994e464c",
   "metadata": {
    "id": "2bc5a9b4-2325-4f71-9b85-d693994e464c"
   },
   "source": [
    "**Merged Asssessments**\n",
    "\n",
    "Here we will merge the assessments and student assessments dataframes in order to combine our student scores and submission dates with assessment type, date of the assessment, and weight of the assessment."
   ]
  },
  {
   "cell_type": "code",
   "execution_count": 74,
   "id": "b5f6facc-0ca1-4291-98cb-d035693961d5",
   "metadata": {
    "colab": {
     "base_uri": "https://localhost:8080/",
     "height": 0
    },
    "id": "b5f6facc-0ca1-4291-98cb-d035693961d5",
    "outputId": "79c487d8-7b4f-4887-b393-273a7b5b63c2",
    "tags": []
   },
   "outputs": [
    {
     "data": {
      "text/html": [
       "<div>\n",
       "<style scoped>\n",
       "    .dataframe tbody tr th:only-of-type {\n",
       "        vertical-align: middle;\n",
       "    }\n",
       "\n",
       "    .dataframe tbody tr th {\n",
       "        vertical-align: top;\n",
       "    }\n",
       "\n",
       "    .dataframe thead th {\n",
       "        text-align: right;\n",
       "    }\n",
       "</style>\n",
       "<table border=\"1\" class=\"dataframe\">\n",
       "  <thead>\n",
       "    <tr style=\"text-align: right;\">\n",
       "      <th></th>\n",
       "      <th>id_assessment</th>\n",
       "      <th>id_student</th>\n",
       "      <th>date_submitted</th>\n",
       "      <th>score</th>\n",
       "      <th>module</th>\n",
       "      <th>presentation</th>\n",
       "      <th>assessment_type</th>\n",
       "      <th>date</th>\n",
       "      <th>weight</th>\n",
       "      <th>_merge</th>\n",
       "    </tr>\n",
       "  </thead>\n",
       "  <tbody>\n",
       "    <tr>\n",
       "      <th>0</th>\n",
       "      <td>1752</td>\n",
       "      <td>11391</td>\n",
       "      <td>18</td>\n",
       "      <td>78</td>\n",
       "      <td>AAA</td>\n",
       "      <td>2013J</td>\n",
       "      <td>TMA</td>\n",
       "      <td>19.0</td>\n",
       "      <td>10.0</td>\n",
       "      <td>both</td>\n",
       "    </tr>\n",
       "    <tr>\n",
       "      <th>1</th>\n",
       "      <td>1752</td>\n",
       "      <td>28400</td>\n",
       "      <td>22</td>\n",
       "      <td>70</td>\n",
       "      <td>AAA</td>\n",
       "      <td>2013J</td>\n",
       "      <td>TMA</td>\n",
       "      <td>19.0</td>\n",
       "      <td>10.0</td>\n",
       "      <td>both</td>\n",
       "    </tr>\n",
       "    <tr>\n",
       "      <th>2</th>\n",
       "      <td>1752</td>\n",
       "      <td>31604</td>\n",
       "      <td>17</td>\n",
       "      <td>72</td>\n",
       "      <td>AAA</td>\n",
       "      <td>2013J</td>\n",
       "      <td>TMA</td>\n",
       "      <td>19.0</td>\n",
       "      <td>10.0</td>\n",
       "      <td>both</td>\n",
       "    </tr>\n",
       "    <tr>\n",
       "      <th>3</th>\n",
       "      <td>1752</td>\n",
       "      <td>32885</td>\n",
       "      <td>26</td>\n",
       "      <td>69</td>\n",
       "      <td>AAA</td>\n",
       "      <td>2013J</td>\n",
       "      <td>TMA</td>\n",
       "      <td>19.0</td>\n",
       "      <td>10.0</td>\n",
       "      <td>both</td>\n",
       "    </tr>\n",
       "    <tr>\n",
       "      <th>4</th>\n",
       "      <td>1752</td>\n",
       "      <td>38053</td>\n",
       "      <td>19</td>\n",
       "      <td>79</td>\n",
       "      <td>AAA</td>\n",
       "      <td>2013J</td>\n",
       "      <td>TMA</td>\n",
       "      <td>19.0</td>\n",
       "      <td>10.0</td>\n",
       "      <td>both</td>\n",
       "    </tr>\n",
       "  </tbody>\n",
       "</table>\n",
       "</div>"
      ],
      "text/plain": [
       "  id_assessment id_student  date_submitted  score module presentation  \\\n",
       "0          1752      11391              18     78    AAA        2013J   \n",
       "1          1752      28400              22     70    AAA        2013J   \n",
       "2          1752      31604              17     72    AAA        2013J   \n",
       "3          1752      32885              26     69    AAA        2013J   \n",
       "4          1752      38053              19     79    AAA        2013J   \n",
       "\n",
       "  assessment_type  date  weight _merge  \n",
       "0             TMA  19.0    10.0   both  \n",
       "1             TMA  19.0    10.0   both  \n",
       "2             TMA  19.0    10.0   both  \n",
       "3             TMA  19.0    10.0   both  \n",
       "4             TMA  19.0    10.0   both  "
      ]
     },
     "execution_count": 74,
     "metadata": {},
     "output_type": "execute_result"
    }
   ],
   "source": [
    "# merges dataframes student_assessment with assessments with a full outer join on their common ID id_assessment\n",
    "# creates a column _merge which tells you if the id_assessment was found in one or both dataframes\n",
    "merged_assessments = student_assessment.merge(assessments, how='outer', on=['id_assessment'] ,indicator=True)\n",
    "# convert datatypes back since merge doesn't preserve these\n",
    "merged_assessments = merged_assessments.astype({'id_student': str, 'id_assessment':str}).convert_dtypes()\n",
    "# show first 5 rows of dataframe\n",
    "merged_assessments.head()"
   ]
  },
  {
   "cell_type": "markdown",
   "id": "977be4f3-be08-4f28-a253-266b9b3b99c4",
   "metadata": {},
   "source": [
    "Above is our merged assessments/student assessment dataframe. Next we will check our `_merge` column to see which rows did not map directly to each other in the combination of the dataframes."
   ]
  },
  {
   "cell_type": "markdown",
   "id": "c3938439-c87b-441f-85cb-6037ade2962e",
   "metadata": {
    "id": "c3938439-c87b-441f-85cb-6037ade2962e",
    "tags": []
   },
   "source": [
    "**Rows that do not map**\n",
    "\n",
    "Here we will check our merge column to find which rows do not map to one another in our two dataframes."
   ]
  },
  {
   "cell_type": "code",
   "execution_count": 75,
   "id": "e29b179a-b092-4df0-9938-66f545159df8",
   "metadata": {
    "colab": {
     "base_uri": "https://localhost:8080/",
     "height": 0
    },
    "id": "e29b179a-b092-4df0-9938-66f545159df8",
    "outputId": "b9cf246e-1105-4a7f-cabf-19d042e96eb8",
    "tags": []
   },
   "outputs": [
    {
     "data": {
      "text/html": [
       "<div>\n",
       "<style scoped>\n",
       "    .dataframe tbody tr th:only-of-type {\n",
       "        vertical-align: middle;\n",
       "    }\n",
       "\n",
       "    .dataframe tbody tr th {\n",
       "        vertical-align: top;\n",
       "    }\n",
       "\n",
       "    .dataframe thead th {\n",
       "        text-align: right;\n",
       "    }\n",
       "</style>\n",
       "<table border=\"1\" class=\"dataframe\">\n",
       "  <thead>\n",
       "    <tr style=\"text-align: right;\">\n",
       "      <th></th>\n",
       "      <th>id_assessment</th>\n",
       "      <th>id_student</th>\n",
       "      <th>date_submitted</th>\n",
       "      <th>score</th>\n",
       "      <th>module</th>\n",
       "      <th>presentation</th>\n",
       "      <th>assessment_type</th>\n",
       "      <th>date</th>\n",
       "      <th>weight</th>\n",
       "      <th>_merge</th>\n",
       "    </tr>\n",
       "  </thead>\n",
       "  <tbody>\n",
       "    <tr>\n",
       "      <th>0</th>\n",
       "      <td>1757</td>\n",
       "      <td>&lt;NA&gt;</td>\n",
       "      <td>&lt;NA&gt;</td>\n",
       "      <td>&lt;NA&gt;</td>\n",
       "      <td>AAA</td>\n",
       "      <td>2013J</td>\n",
       "      <td>Exam</td>\n",
       "      <td>268.0</td>\n",
       "      <td>100.0</td>\n",
       "      <td>right_only</td>\n",
       "    </tr>\n",
       "    <tr>\n",
       "      <th>1</th>\n",
       "      <td>1763</td>\n",
       "      <td>&lt;NA&gt;</td>\n",
       "      <td>&lt;NA&gt;</td>\n",
       "      <td>&lt;NA&gt;</td>\n",
       "      <td>AAA</td>\n",
       "      <td>2014J</td>\n",
       "      <td>Exam</td>\n",
       "      <td>269.0</td>\n",
       "      <td>100.0</td>\n",
       "      <td>right_only</td>\n",
       "    </tr>\n",
       "    <tr>\n",
       "      <th>2</th>\n",
       "      <td>14990</td>\n",
       "      <td>&lt;NA&gt;</td>\n",
       "      <td>&lt;NA&gt;</td>\n",
       "      <td>&lt;NA&gt;</td>\n",
       "      <td>BBB</td>\n",
       "      <td>2013B</td>\n",
       "      <td>Exam</td>\n",
       "      <td>240.0</td>\n",
       "      <td>100.0</td>\n",
       "      <td>right_only</td>\n",
       "    </tr>\n",
       "    <tr>\n",
       "      <th>3</th>\n",
       "      <td>15002</td>\n",
       "      <td>&lt;NA&gt;</td>\n",
       "      <td>&lt;NA&gt;</td>\n",
       "      <td>&lt;NA&gt;</td>\n",
       "      <td>BBB</td>\n",
       "      <td>2013J</td>\n",
       "      <td>Exam</td>\n",
       "      <td>268.0</td>\n",
       "      <td>100.0</td>\n",
       "      <td>right_only</td>\n",
       "    </tr>\n",
       "    <tr>\n",
       "      <th>4</th>\n",
       "      <td>15014</td>\n",
       "      <td>&lt;NA&gt;</td>\n",
       "      <td>&lt;NA&gt;</td>\n",
       "      <td>&lt;NA&gt;</td>\n",
       "      <td>BBB</td>\n",
       "      <td>2014B</td>\n",
       "      <td>Exam</td>\n",
       "      <td>234.0</td>\n",
       "      <td>100.0</td>\n",
       "      <td>right_only</td>\n",
       "    </tr>\n",
       "    <tr>\n",
       "      <th>5</th>\n",
       "      <td>15025</td>\n",
       "      <td>&lt;NA&gt;</td>\n",
       "      <td>&lt;NA&gt;</td>\n",
       "      <td>&lt;NA&gt;</td>\n",
       "      <td>BBB</td>\n",
       "      <td>2014J</td>\n",
       "      <td>Exam</td>\n",
       "      <td>262.0</td>\n",
       "      <td>100.0</td>\n",
       "      <td>right_only</td>\n",
       "    </tr>\n",
       "    <tr>\n",
       "      <th>6</th>\n",
       "      <td>40087</td>\n",
       "      <td>&lt;NA&gt;</td>\n",
       "      <td>&lt;NA&gt;</td>\n",
       "      <td>&lt;NA&gt;</td>\n",
       "      <td>CCC</td>\n",
       "      <td>2014B</td>\n",
       "      <td>Exam</td>\n",
       "      <td>241.0</td>\n",
       "      <td>100.0</td>\n",
       "      <td>right_only</td>\n",
       "    </tr>\n",
       "    <tr>\n",
       "      <th>7</th>\n",
       "      <td>40088</td>\n",
       "      <td>&lt;NA&gt;</td>\n",
       "      <td>&lt;NA&gt;</td>\n",
       "      <td>&lt;NA&gt;</td>\n",
       "      <td>CCC</td>\n",
       "      <td>2014J</td>\n",
       "      <td>Exam</td>\n",
       "      <td>269.0</td>\n",
       "      <td>100.0</td>\n",
       "      <td>right_only</td>\n",
       "    </tr>\n",
       "    <tr>\n",
       "      <th>8</th>\n",
       "      <td>30713</td>\n",
       "      <td>&lt;NA&gt;</td>\n",
       "      <td>&lt;NA&gt;</td>\n",
       "      <td>&lt;NA&gt;</td>\n",
       "      <td>EEE</td>\n",
       "      <td>2013J</td>\n",
       "      <td>Exam</td>\n",
       "      <td>235.0</td>\n",
       "      <td>100.0</td>\n",
       "      <td>right_only</td>\n",
       "    </tr>\n",
       "    <tr>\n",
       "      <th>9</th>\n",
       "      <td>30718</td>\n",
       "      <td>&lt;NA&gt;</td>\n",
       "      <td>&lt;NA&gt;</td>\n",
       "      <td>&lt;NA&gt;</td>\n",
       "      <td>EEE</td>\n",
       "      <td>2014B</td>\n",
       "      <td>Exam</td>\n",
       "      <td>228.0</td>\n",
       "      <td>100.0</td>\n",
       "      <td>right_only</td>\n",
       "    </tr>\n",
       "    <tr>\n",
       "      <th>10</th>\n",
       "      <td>30723</td>\n",
       "      <td>&lt;NA&gt;</td>\n",
       "      <td>&lt;NA&gt;</td>\n",
       "      <td>&lt;NA&gt;</td>\n",
       "      <td>EEE</td>\n",
       "      <td>2014J</td>\n",
       "      <td>Exam</td>\n",
       "      <td>235.0</td>\n",
       "      <td>100.0</td>\n",
       "      <td>right_only</td>\n",
       "    </tr>\n",
       "    <tr>\n",
       "      <th>11</th>\n",
       "      <td>34872</td>\n",
       "      <td>&lt;NA&gt;</td>\n",
       "      <td>&lt;NA&gt;</td>\n",
       "      <td>&lt;NA&gt;</td>\n",
       "      <td>FFF</td>\n",
       "      <td>2013B</td>\n",
       "      <td>Exam</td>\n",
       "      <td>222.0</td>\n",
       "      <td>100.0</td>\n",
       "      <td>right_only</td>\n",
       "    </tr>\n",
       "    <tr>\n",
       "      <th>12</th>\n",
       "      <td>34885</td>\n",
       "      <td>&lt;NA&gt;</td>\n",
       "      <td>&lt;NA&gt;</td>\n",
       "      <td>&lt;NA&gt;</td>\n",
       "      <td>FFF</td>\n",
       "      <td>2013J</td>\n",
       "      <td>Exam</td>\n",
       "      <td>236.0</td>\n",
       "      <td>100.0</td>\n",
       "      <td>right_only</td>\n",
       "    </tr>\n",
       "    <tr>\n",
       "      <th>13</th>\n",
       "      <td>34898</td>\n",
       "      <td>&lt;NA&gt;</td>\n",
       "      <td>&lt;NA&gt;</td>\n",
       "      <td>&lt;NA&gt;</td>\n",
       "      <td>FFF</td>\n",
       "      <td>2014B</td>\n",
       "      <td>Exam</td>\n",
       "      <td>227.0</td>\n",
       "      <td>100.0</td>\n",
       "      <td>right_only</td>\n",
       "    </tr>\n",
       "    <tr>\n",
       "      <th>14</th>\n",
       "      <td>34911</td>\n",
       "      <td>&lt;NA&gt;</td>\n",
       "      <td>&lt;NA&gt;</td>\n",
       "      <td>&lt;NA&gt;</td>\n",
       "      <td>FFF</td>\n",
       "      <td>2014J</td>\n",
       "      <td>Exam</td>\n",
       "      <td>241.0</td>\n",
       "      <td>100.0</td>\n",
       "      <td>right_only</td>\n",
       "    </tr>\n",
       "    <tr>\n",
       "      <th>15</th>\n",
       "      <td>37424</td>\n",
       "      <td>&lt;NA&gt;</td>\n",
       "      <td>&lt;NA&gt;</td>\n",
       "      <td>&lt;NA&gt;</td>\n",
       "      <td>GGG</td>\n",
       "      <td>2013J</td>\n",
       "      <td>Exam</td>\n",
       "      <td>229.0</td>\n",
       "      <td>100.0</td>\n",
       "      <td>right_only</td>\n",
       "    </tr>\n",
       "    <tr>\n",
       "      <th>16</th>\n",
       "      <td>37434</td>\n",
       "      <td>&lt;NA&gt;</td>\n",
       "      <td>&lt;NA&gt;</td>\n",
       "      <td>&lt;NA&gt;</td>\n",
       "      <td>GGG</td>\n",
       "      <td>2014B</td>\n",
       "      <td>Exam</td>\n",
       "      <td>222.0</td>\n",
       "      <td>100.0</td>\n",
       "      <td>right_only</td>\n",
       "    </tr>\n",
       "    <tr>\n",
       "      <th>17</th>\n",
       "      <td>37444</td>\n",
       "      <td>&lt;NA&gt;</td>\n",
       "      <td>&lt;NA&gt;</td>\n",
       "      <td>&lt;NA&gt;</td>\n",
       "      <td>GGG</td>\n",
       "      <td>2014J</td>\n",
       "      <td>Exam</td>\n",
       "      <td>229.0</td>\n",
       "      <td>100.0</td>\n",
       "      <td>right_only</td>\n",
       "    </tr>\n",
       "  </tbody>\n",
       "</table>\n",
       "</div>"
      ],
      "text/plain": [
       "   id_assessment id_student  date_submitted  score module presentation  \\\n",
       "0           1757       <NA>            <NA>   <NA>    AAA        2013J   \n",
       "1           1763       <NA>            <NA>   <NA>    AAA        2014J   \n",
       "2          14990       <NA>            <NA>   <NA>    BBB        2013B   \n",
       "3          15002       <NA>            <NA>   <NA>    BBB        2013J   \n",
       "4          15014       <NA>            <NA>   <NA>    BBB        2014B   \n",
       "5          15025       <NA>            <NA>   <NA>    BBB        2014J   \n",
       "6          40087       <NA>            <NA>   <NA>    CCC        2014B   \n",
       "7          40088       <NA>            <NA>   <NA>    CCC        2014J   \n",
       "8          30713       <NA>            <NA>   <NA>    EEE        2013J   \n",
       "9          30718       <NA>            <NA>   <NA>    EEE        2014B   \n",
       "10         30723       <NA>            <NA>   <NA>    EEE        2014J   \n",
       "11         34872       <NA>            <NA>   <NA>    FFF        2013B   \n",
       "12         34885       <NA>            <NA>   <NA>    FFF        2013J   \n",
       "13         34898       <NA>            <NA>   <NA>    FFF        2014B   \n",
       "14         34911       <NA>            <NA>   <NA>    FFF        2014J   \n",
       "15         37424       <NA>            <NA>   <NA>    GGG        2013J   \n",
       "16         37434       <NA>            <NA>   <NA>    GGG        2014B   \n",
       "17         37444       <NA>            <NA>   <NA>    GGG        2014J   \n",
       "\n",
       "   assessment_type   date  weight      _merge  \n",
       "0             Exam  268.0   100.0  right_only  \n",
       "1             Exam  269.0   100.0  right_only  \n",
       "2             Exam  240.0   100.0  right_only  \n",
       "3             Exam  268.0   100.0  right_only  \n",
       "4             Exam  234.0   100.0  right_only  \n",
       "5             Exam  262.0   100.0  right_only  \n",
       "6             Exam  241.0   100.0  right_only  \n",
       "7             Exam  269.0   100.0  right_only  \n",
       "8             Exam  235.0   100.0  right_only  \n",
       "9             Exam  228.0   100.0  right_only  \n",
       "10            Exam  235.0   100.0  right_only  \n",
       "11            Exam  222.0   100.0  right_only  \n",
       "12            Exam  236.0   100.0  right_only  \n",
       "13            Exam  227.0   100.0  right_only  \n",
       "14            Exam  241.0   100.0  right_only  \n",
       "15            Exam  229.0   100.0  right_only  \n",
       "16            Exam  222.0   100.0  right_only  \n",
       "17            Exam  229.0   100.0  right_only  "
      ]
     },
     "execution_count": 75,
     "metadata": {},
     "output_type": "execute_result"
    }
   ],
   "source": [
    "# finds where the merge column is not both meaning the row has data not in both dataframes\n",
    "missing_exams = merged_assessments.loc[merged_assessments['_merge'] != 'both'].reset_index(drop=True)\n",
    "missing_exams"
   ]
  },
  {
   "cell_type": "code",
   "execution_count": 76,
   "id": "42093e10-a336-4b47-8009-e462eb2c52e3",
   "metadata": {
    "colab": {
     "base_uri": "https://localhost:8080/",
     "height": 0
    },
    "id": "42093e10-a336-4b47-8009-e462eb2c52e3",
    "outputId": "f4088aa0-0ec6-4116-8026-84bf4347163e",
    "tags": [
     "remove_input"
    ]
   },
   "outputs": [
    {
     "data": {
      "text/markdown": [
       "\n",
       "The above 18 rows all have entries in the assessments dataframe but have no match in the student_assessment dataframe. \n",
       "This indicates that no students in our data took these exams. These are all weight 100 and all represent missing final exams. \n",
       "\n",
       "Let's see what final exams we do have data for.\n"
      ],
      "text/plain": [
       "<IPython.core.display.Markdown object>"
      ]
     },
     "execution_count": 76,
     "metadata": {},
     "output_type": "execute_result"
    }
   ],
   "source": [
    "md(f'''\n",
    "The above {len(missing_exams)} rows all have entries in the assessments dataframe but have no match in the student_assessment dataframe. \n",
    "This indicates that no students in our data took these exams. These are all weight 100 and all represent missing final exams. \n",
    "\n",
    "Let's see what final exams we do have data for.\n",
    "''')"
   ]
  },
  {
   "cell_type": "code",
   "execution_count": 77,
   "id": "a96bbe3b-82da-4f99-979c-6d232c1a3698",
   "metadata": {
    "colab": {
     "base_uri": "https://localhost:8080/",
     "height": 0
    },
    "id": "a96bbe3b-82da-4f99-979c-6d232c1a3698",
    "outputId": "94531ca6-9c89-4e8a-f2bd-2c0b11212005"
   },
   "outputs": [
    {
     "data": {
      "text/html": [
       "<div>\n",
       "<style scoped>\n",
       "    .dataframe tbody tr th:only-of-type {\n",
       "        vertical-align: middle;\n",
       "    }\n",
       "\n",
       "    .dataframe tbody tr th {\n",
       "        vertical-align: top;\n",
       "    }\n",
       "\n",
       "    .dataframe thead th {\n",
       "        text-align: right;\n",
       "    }\n",
       "</style>\n",
       "<table border=\"1\" class=\"dataframe\">\n",
       "  <thead>\n",
       "    <tr style=\"text-align: right;\">\n",
       "      <th></th>\n",
       "      <th>weight</th>\n",
       "      <th>module</th>\n",
       "      <th>presentation</th>\n",
       "      <th>id_assessment</th>\n",
       "    </tr>\n",
       "  </thead>\n",
       "  <tbody>\n",
       "    <tr>\n",
       "      <th>52923</th>\n",
       "      <td>100.0</td>\n",
       "      <td>CCC</td>\n",
       "      <td>2014B</td>\n",
       "      <td>24290</td>\n",
       "    </tr>\n",
       "    <tr>\n",
       "      <th>63953</th>\n",
       "      <td>100.0</td>\n",
       "      <td>CCC</td>\n",
       "      <td>2014J</td>\n",
       "      <td>24299</td>\n",
       "    </tr>\n",
       "    <tr>\n",
       "      <th>69640</th>\n",
       "      <td>100.0</td>\n",
       "      <td>DDD</td>\n",
       "      <td>2013B</td>\n",
       "      <td>25340</td>\n",
       "    </tr>\n",
       "    <tr>\n",
       "      <th>82462</th>\n",
       "      <td>100.0</td>\n",
       "      <td>DDD</td>\n",
       "      <td>2013J</td>\n",
       "      <td>25354</td>\n",
       "    </tr>\n",
       "    <tr>\n",
       "      <th>87448</th>\n",
       "      <td>100.0</td>\n",
       "      <td>DDD</td>\n",
       "      <td>2014B</td>\n",
       "      <td>25361</td>\n",
       "    </tr>\n",
       "    <tr>\n",
       "      <th>95035</th>\n",
       "      <td>100.0</td>\n",
       "      <td>DDD</td>\n",
       "      <td>2014J</td>\n",
       "      <td>25368</td>\n",
       "    </tr>\n",
       "  </tbody>\n",
       "</table>\n",
       "</div>"
      ],
      "text/plain": [
       "       weight module presentation id_assessment\n",
       "52923   100.0    CCC        2014B         24290\n",
       "63953   100.0    CCC        2014J         24299\n",
       "69640   100.0    DDD        2013B         25340\n",
       "82462   100.0    DDD        2013J         25354\n",
       "87448   100.0    DDD        2014B         25361\n",
       "95035   100.0    DDD        2014J         25368"
      ]
     },
     "execution_count": 77,
     "metadata": {},
     "output_type": "execute_result"
    }
   ],
   "source": [
    "# locate the module and presentation for rows in merged_assessments where the weight is 100 and the score is not null\n",
    "finals_w_scores = merged_assessments.loc[(merged_assessments['weight'] == 100) & (merged_assessments['score'].notna()), ['weight', 'module', 'presentation', 'id_assessment']].drop_duplicates()\n",
    "finals_w_scores"
   ]
  },
  {
   "cell_type": "code",
   "execution_count": 78,
   "id": "616c642e-c8af-4b8e-b3b5-9d2846b423d7",
   "metadata": {
    "colab": {
     "base_uri": "https://localhost:8080/",
     "height": 0
    },
    "id": "616c642e-c8af-4b8e-b3b5-9d2846b423d7",
    "outputId": "955f67de-e597-4f54-ade9-b432d779f2a2"
   },
   "outputs": [
    {
     "data": {
      "text/markdown": [
       "Above is a dataframe of all of the modules and presentations we have a final exam for. Only 6 modules out of \n",
       "22 have final exam scores for any students.\n",
       "\n",
       "This is particularly troublesome because we have no final exams in GGG whose whole score is based on the final exams since the other \n",
       "exams in GGG are weight 0. The entire pass/fail basis for the GGG module is thus missing. This neccessitates our analyzing student \n",
       "scores and results seperately as we cannot combine the dataframes by way of calculating a weighted average since it would likely be\n",
       "wholly inaccurate.\n",
       "\n",
       "Next we will check NA scores for all exams.\n"
      ],
      "text/plain": [
       "<IPython.core.display.Markdown object>"
      ]
     },
     "execution_count": 78,
     "metadata": {},
     "output_type": "execute_result"
    }
   ],
   "source": [
    "# get the number of unique module/presentation combinations\n",
    "courses['module_presentation'] = (courses['module'].astype(str)) + (courses['presentation'].astype(str))\n",
    "ttl_mod_pres = courses['module_presentation'].nunique()\n",
    "\n",
    "# get the length of the dataframe of finals which have scores\n",
    "mod_pres_w_scores = len(finals_w_scores)\n",
    "\n",
    "md(f'''Above is a dataframe of all of the modules and presentations we have a final exam for. Only {mod_pres_w_scores} modules out of \n",
    "{ttl_mod_pres} have final exam scores for any students.\n",
    "\n",
    "This is particularly troublesome because we have no final exams in GGG whose whole score is based on the final exams since the other \n",
    "exams in GGG are weight 0. The entire pass/fail basis for the GGG module is thus missing. This neccessitates our analyzing student \n",
    "scores and results seperately as we cannot combine the dataframes by way of calculating a weighted average since it would likely be\n",
    "wholly inaccurate.\n",
    "\n",
    "Next we will check NA scores for all exams.\n",
    "''')"
   ]
  },
  {
   "cell_type": "code",
   "execution_count": 79,
   "id": "dc7f3a9d-7591-41aa-9a00-2d82b1ba2917",
   "metadata": {
    "colab": {
     "base_uri": "https://localhost:8080/",
     "height": 0
    },
    "id": "dc7f3a9d-7591-41aa-9a00-2d82b1ba2917",
    "outputId": "e6045ff6-dc65-4d8f-da65-ccc127631f5f"
   },
   "outputs": [
    {
     "data": {
      "text/html": [
       "<div>\n",
       "<style scoped>\n",
       "    .dataframe tbody tr th:only-of-type {\n",
       "        vertical-align: middle;\n",
       "    }\n",
       "\n",
       "    .dataframe tbody tr th {\n",
       "        vertical-align: top;\n",
       "    }\n",
       "\n",
       "    .dataframe thead th {\n",
       "        text-align: right;\n",
       "    }\n",
       "</style>\n",
       "<table border=\"1\" class=\"dataframe\">\n",
       "  <thead>\n",
       "    <tr style=\"text-align: right;\">\n",
       "      <th></th>\n",
       "      <th>id_assessment</th>\n",
       "    </tr>\n",
       "  </thead>\n",
       "  <tbody>\n",
       "    <tr>\n",
       "      <th>15013</th>\n",
       "      <td>7</td>\n",
       "    </tr>\n",
       "    <tr>\n",
       "      <th>25339</th>\n",
       "      <td>7</td>\n",
       "    </tr>\n",
       "    <tr>\n",
       "      <th>34860</th>\n",
       "      <td>6</td>\n",
       "    </tr>\n",
       "    <tr>\n",
       "      <th>14998</th>\n",
       "      <td>5</td>\n",
       "    </tr>\n",
       "    <tr>\n",
       "      <th>25363</th>\n",
       "      <td>5</td>\n",
       "    </tr>\n",
       "    <tr>\n",
       "      <th>...</th>\n",
       "      <td>...</td>\n",
       "    </tr>\n",
       "    <tr>\n",
       "      <th>40087</th>\n",
       "      <td>1</td>\n",
       "    </tr>\n",
       "    <tr>\n",
       "      <th>1763</th>\n",
       "      <td>1</td>\n",
       "    </tr>\n",
       "    <tr>\n",
       "      <th>34903</th>\n",
       "      <td>1</td>\n",
       "    </tr>\n",
       "    <tr>\n",
       "      <th>1752</th>\n",
       "      <td>1</td>\n",
       "    </tr>\n",
       "    <tr>\n",
       "      <th>37444</th>\n",
       "      <td>1</td>\n",
       "    </tr>\n",
       "  </tbody>\n",
       "</table>\n",
       "<p>96 rows × 1 columns</p>\n",
       "</div>"
      ],
      "text/plain": [
       "       id_assessment\n",
       "15013              7\n",
       "25339              7\n",
       "34860              6\n",
       "14998              5\n",
       "25363              5\n",
       "...              ...\n",
       "40087              1\n",
       "1763               1\n",
       "34903              1\n",
       "1752               1\n",
       "37444              1\n",
       "\n",
       "[96 rows x 1 columns]"
      ]
     },
     "execution_count": 79,
     "metadata": {},
     "output_type": "execute_result"
    }
   ],
   "source": [
    "# make a dataframe of students with a score of NA\n",
    "na_scores = merged_assessments.loc[merged_assessments['score'].isna(), ['presentation', 'module', 'weight', 'id_assessment']]\n",
    "dataframe(na_scores['id_assessment'].value_counts())"
   ]
  },
  {
   "cell_type": "code",
   "execution_count": 80,
   "id": "e9ad10d1-9acf-4426-bf4b-82c3304d4c97",
   "metadata": {
    "colab": {
     "base_uri": "https://localhost:8080/",
     "height": 0
    },
    "id": "e9ad10d1-9acf-4426-bf4b-82c3304d4c97",
    "outputId": "05f9e60e-4e19-48b2-c4fa-e9de75ecfe92",
    "tags": [
     "remove_input"
    ]
   },
   "outputs": [
    {
     "data": {
      "text/markdown": [
       "\n",
       "Above we can see a dataframe of the exams which have NA scores and the count of how many NA scores they have. \n",
       "* 96 out of 206 assessments have at least one NA score.\n",
       "* 18 exams  with NA scores are final exams\n",
       "* 78 exams with NA scores are not final exams\n",
       "\n",
       "The first thing to check to address these would be whether there are students with a 0 for a score to see if \n",
       "the NaNs represent 0 scores. \n",
       "\n",
       "Let's see how many exams have a score of 0.\n"
      ],
      "text/plain": [
       "<IPython.core.display.Markdown object>"
      ]
     },
     "execution_count": 80,
     "metadata": {},
     "output_type": "execute_result"
    }
   ],
   "source": [
    "# get all na scores that were not weight 100/final exams\n",
    "non_100_na = na_scores.loc[na_scores['weight'] != 100]\n",
    "\n",
    "# get all na scores that were weight 100/final exams\n",
    "weight_100_na = na_scores.loc[na_scores['weight'] == 100]\n",
    "\n",
    "md(f'''\n",
    "Above we can see a dataframe of the exams which have NA scores and the count of how many NA scores they have. \n",
    "* {na_scores['id_assessment'].nunique()} out of {len(assessments)} assessments have at least one NA score.\n",
    "* {weight_100_na['id_assessment'].nunique()} exams  with NA scores are final exams\n",
    "* {non_100_na['id_assessment'].nunique()} exams with NA scores are not final exams\n",
    "\n",
    "The first thing to check to address these would be whether there are students with a 0 for a score to see if \n",
    "the NaNs represent 0 scores. \n",
    "\n",
    "Let's see how many exams have a score of 0.\n",
    "''')"
   ]
  },
  {
   "cell_type": "code",
   "execution_count": 81,
   "id": "098f189f-9b4f-458d-9421-e89dd13b2563",
   "metadata": {
    "colab": {
     "base_uri": "https://localhost:8080/",
     "height": 0
    },
    "id": "098f189f-9b4f-458d-9421-e89dd13b2563",
    "outputId": "e87fc7ca-bb86-481c-ec95-7451bae49246",
    "tags": []
   },
   "outputs": [
    {
     "data": {
      "text/html": [
       "<div>\n",
       "<style scoped>\n",
       "    .dataframe tbody tr th:only-of-type {\n",
       "        vertical-align: middle;\n",
       "    }\n",
       "\n",
       "    .dataframe tbody tr th {\n",
       "        vertical-align: top;\n",
       "    }\n",
       "\n",
       "    .dataframe thead th {\n",
       "        text-align: right;\n",
       "    }\n",
       "</style>\n",
       "<table border=\"1\" class=\"dataframe\">\n",
       "  <thead>\n",
       "    <tr style=\"text-align: right;\">\n",
       "      <th></th>\n",
       "      <th>id_assessment</th>\n",
       "      <th>id_student</th>\n",
       "      <th>date_submitted</th>\n",
       "      <th>score</th>\n",
       "    </tr>\n",
       "  </thead>\n",
       "  <tbody>\n",
       "    <tr>\n",
       "      <th>785</th>\n",
       "      <td>1754</td>\n",
       "      <td>2456480</td>\n",
       "      <td>123</td>\n",
       "      <td>0</td>\n",
       "    </tr>\n",
       "    <tr>\n",
       "      <th>4322</th>\n",
       "      <td>14984</td>\n",
       "      <td>554986</td>\n",
       "      <td>24</td>\n",
       "      <td>0</td>\n",
       "    </tr>\n",
       "    <tr>\n",
       "      <th>4730</th>\n",
       "      <td>14985</td>\n",
       "      <td>141823</td>\n",
       "      <td>46</td>\n",
       "      <td>0</td>\n",
       "    </tr>\n",
       "    <tr>\n",
       "      <th>5391</th>\n",
       "      <td>14985</td>\n",
       "      <td>542259</td>\n",
       "      <td>46</td>\n",
       "      <td>0</td>\n",
       "    </tr>\n",
       "    <tr>\n",
       "      <th>5509</th>\n",
       "      <td>14985</td>\n",
       "      <td>549078</td>\n",
       "      <td>48</td>\n",
       "      <td>0</td>\n",
       "    </tr>\n",
       "  </tbody>\n",
       "</table>\n",
       "</div>"
      ],
      "text/plain": [
       "     id_assessment id_student  date_submitted  score\n",
       "785           1754    2456480             123      0\n",
       "4322         14984     554986              24      0\n",
       "4730         14985     141823              46      0\n",
       "5391         14985     542259              46      0\n",
       "5509         14985     549078              48      0"
      ]
     },
     "execution_count": 81,
     "metadata": {},
     "output_type": "execute_result"
    }
   ],
   "source": [
    "# make a dataframe of students with a score of 0 and display it\n",
    "zero_scores = student_assessment.loc[student_assessment['score'] == 0]\n",
    "zero_scores.head()"
   ]
  },
  {
   "cell_type": "code",
   "execution_count": 82,
   "id": "07b26bde-2f3c-4484-b354-9668fbe3cb80",
   "metadata": {
    "colab": {
     "base_uri": "https://localhost:8080/",
     "height": 0
    },
    "id": "07b26bde-2f3c-4484-b354-9668fbe3cb80",
    "outputId": "38515413-eb46-4cff-e44e-2aa44f078c2c",
    "tags": [
     "remove_input"
    ]
   },
   "outputs": [
    {
     "data": {
      "text/markdown": [
       "\n",
       "\n",
       "Above is a dataframe of length 329 for records of assessments with a 0 score, \n",
       "so the NaNs are not necessarily 0's.\n",
       "\n",
       "It is possible that students have other exams that are missing but not from all students, which would not show in our data.\n",
       "To check on this we can check whether students have an entry for all exams that they should have based on which module they are taking.\n",
       "We will do this by comparing the scores students have entries for in student assessments to the list of exams they should\n",
       "have entries for based on all exams in that module/presentation in the assessments dataframe. If a student is missing an \n",
       "exam they should have we will add it to a dateframe.\n",
       "\n",
       "Since this is a large dataframe we will observe just the first 1000 rows in merged_assessments.\n"
      ],
      "text/plain": [
       "<IPython.core.display.Markdown object>"
      ]
     },
     "execution_count": 82,
     "metadata": {},
     "output_type": "execute_result"
    }
   ],
   "source": [
    "md(f'''\n",
    "\n",
    "Above is a dataframe of length {len(zero_scores)} for records of assessments with a 0 score, \n",
    "so the NaNs are not necessarily 0's.\n",
    "\n",
    "It is possible that students have other exams that are missing but not from all students, which would not show in our data.\n",
    "To check on this we can check whether students have an entry for all exams that they should have based on which module they are taking.\n",
    "We will do this by comparing the scores students have entries for in student assessments to the list of exams they should\n",
    "have entries for based on all exams in that module/presentation in the assessments dataframe. If a student is missing an \n",
    "exam they should have we will add it to a dateframe.\n",
    "\n",
    "Since this is a large dataframe we will observe just the first 1000 rows in merged_assessments.\n",
    "''')"
   ]
  },
  {
   "cell_type": "code",
   "execution_count": null,
   "id": "169c68fb-de91-452a-a1fd-f05c972b18bc",
   "metadata": {
    "id": "169c68fb-de91-452a-a1fd-f05c972b18bc",
    "tags": []
   },
   "outputs": [],
   "source": [
    "# add a useful column module_presentation to merged_assessments and assessments to easily call on individual courses\n",
    "merged_assessments['module_presentation'] = merged_assessments['module'] + merged_assessments['presentation']\n",
    "assessments['module_presentation'] = assessments['module'] + assessments['presentation']\n",
    "\n",
    "# create a dataframe of assessments that are not in the missing exams list\n",
    "scored_assessments = assessments[~assessments['id_assessment'].isin(missing_exams['id_assessment'])]\n",
    "\n",
    "# initiate an empty dataframe to store students with all exams\n",
    "exams_w_no_entries = dataframe()\n",
    "\n",
    "# initiate a temporary dataframe to manipulate before we add it to the main dataframe exams_w_no_entries\n",
    "temp_df = dataframe()\n",
    "\n",
    "# prevent error for overwriting temp_df since it is irrelevant\n",
    "pd.options.mode.chained_assignment = None\n",
    "\n",
    "# iterate through the first 1000 rows in merged_assessments\n",
    "for i, r in merged_assessments.head(1000).iterrows():\n",
    "    # find where merged_assessments id_student and module_presentation matches the iteration we are on\n",
    "    # makes a dataframe of exams the student has\n",
    "    student_assessments = merged_assessments[merged_assessments['id_student'] == r['id_student']]\n",
    "    student_assessments = student_assessments[student_assessments['module_presentation'] == r['module_presentation']]    \n",
    "    # find where in scored assessments the module_presentation matches the iteration we are on\n",
    "    # makes a dataframe of exams the student should have being in that module/presentation\n",
    "    module_assessments = scored_assessments.loc[scored_assessments['module_presentation'] == r['module_presentation']]\n",
    "    # if any assessments from module_assessments not in student_assessments make temp_df a dataframe of the missing assessments\n",
    "    if ~module_assessments['id_assessment'].isin(student_assessments['id_assessment']).all():\n",
    "        temp_df = module_assessments[~module_assessments['id_assessment'].isin(student_assessments['id_assessment'])]\n",
    "        # set the id_student to the iteration we are on\n",
    "        temp_df['id_student'] = r['id_student']\n",
    "        # append the temp_df to our main dataframe\n",
    "        exams_w_no_entries = exams_w_no_entries.append(temp_df[['module_presentation', 'id_student', 'id_assessment']])"
   ]
  },
  {
   "cell_type": "code",
   "execution_count": null,
   "id": "d5afae76-1e49-43d6-9662-e6a4b390c153",
   "metadata": {
    "colab": {
     "base_uri": "https://localhost:8080/",
     "height": 0
    },
    "id": "d5afae76-1e49-43d6-9662-e6a4b390c153",
    "outputId": "8f7df432-cfac-46ac-c3cd-c51def622d87"
   },
   "outputs": [],
   "source": [
    "exams_w_no_entries"
   ]
  },
  {
   "cell_type": "code",
   "execution_count": null,
   "id": "b77244e0-f211-4c53-984d-2d05d875e5b6",
   "metadata": {
    "colab": {
     "base_uri": "https://localhost:8080/",
     "height": 0
    },
    "id": "b77244e0-f211-4c53-984d-2d05d875e5b6",
    "outputId": "92654d0b-c503-474e-da2c-fd847fadbb33",
    "tags": [
     "remove_input"
    ]
   },
   "outputs": [],
   "source": [
    "# store length of exams without entries\n",
    "first_1000_missing = len(exams_w_no_entries)\n",
    "\n",
    "md(f'''\n",
    "Above is a dataframe of the missing exams from the first thousand student entries.\n",
    "\n",
    "Out of the first 1000 entries we already see above that {first_1000_missing} exams are already missing that students should have 0 or NA scores for.\n",
    "\n",
    "Next we will look at the results of those students who are missing exams to see if these are all withdrawals/failures or if something else is going on.\n",
    "''')"
   ]
  },
  {
   "cell_type": "code",
   "execution_count": null,
   "id": "e316ee57-49a6-4897-a506-20cd083a502f",
   "metadata": {
    "colab": {
     "base_uri": "https://localhost:8080/",
     "height": 0
    },
    "id": "e316ee57-49a6-4897-a506-20cd083a502f",
    "outputId": "1c2278d5-f8a7-4ea0-df5d-d91336f17773"
   },
   "outputs": [],
   "source": [
    "# show results of students who have missing exams\n",
    "dataframe(stud_info[stud_info['id_student'].astype(str).isin(exams_w_no_entries['id_student'])]['result'].value_counts())"
   ]
  },
  {
   "cell_type": "code",
   "execution_count": null,
   "id": "9203914d-a145-43a6-a3b1-e05d4540bb8c",
   "metadata": {
    "colab": {
     "base_uri": "https://localhost:8080/",
     "height": 0
    },
    "id": "9203914d-a145-43a6-a3b1-e05d4540bb8c",
    "outputId": "c3c4586f-0555-4627-948b-8da78a5b338c",
    "tags": [
     "remove_input"
    ]
   },
   "outputs": [],
   "source": [
    "md('''\n",
    "Above we have the results of all of the students who are missing exams.\n",
    "\n",
    "It may have been interesting if all of the students with missing scores withdrew or failed since that may indicate that all missing\n",
    "exams are exams that the student skipped or failed, however we see we have some who passed, and even one who passed with distinction.\n",
    "\n",
    "Without having definitive information for a great deal of the exams, and no information for most of the final exams\n",
    "we will not be able to calculate a reliable weighted average, or even make meaningful assumptions about the exams we do have with \n",
    "entries but with NA scores. According to our data source exams that students did not take should not be recorded at all, and so exams\n",
    "with NA scores should not exist. It is likely that for many of these missing exams students who passed did in fact have scores in them\n",
    "that we are just missing. \n",
    "\n",
    "Due to this we will drop all entries for students with NA scores from merged assessments, and work with this dataframe for later analysis.\n",
    "Also, as previously stated, will analyze exam scores seperately from overall student results. \n",
    "\n",
    "For now we will continue to look at the original dataframe.\n",
    "''')"
   ]
  },
  {
   "cell_type": "code",
   "execution_count": null,
   "id": "d9d9caec-4721-479c-91e9-57367cb2fa9e",
   "metadata": {
    "id": "d9d9caec-4721-479c-91e9-57367cb2fa9e"
   },
   "outputs": [],
   "source": [
    "# drop na values from merged_assessments\n",
    "merged_assessments = merged_assessments.dropna()"
   ]
  },
  {
   "cell_type": "markdown",
   "id": "d538b58f-bdb1-431c-b284-6649d72a5ad9",
   "metadata": {
    "id": "d538b58f-bdb1-431c-b284-6649d72a5ad9"
   },
   "source": [
    "**Duplicate Values**"
   ]
  },
  {
   "cell_type": "code",
   "execution_count": null,
   "id": "c1b0cbeb-741f-4277-b30d-f9a6f6ca0b0a",
   "metadata": {
    "colab": {
     "base_uri": "https://localhost:8080/",
     "height": 0
    },
    "id": "c1b0cbeb-741f-4277-b30d-f9a6f6ca0b0a",
    "outputId": "2dfdfbbb-a92f-49e9-aa1b-0352ae573337",
    "tags": []
   },
   "outputs": [],
   "source": [
    "# gives a dataframe of duplicate values if any\n",
    "get_dupes(student_assessment)"
   ]
  },
  {
   "cell_type": "markdown",
   "id": "d9e1688b-ba8b-4feb-aab9-4734d13ce9fe",
   "metadata": {
    "id": "d9e1688b-ba8b-4feb-aab9-4734d13ce9fe"
   },
   "source": [
    "**Unique Value Counts**"
   ]
  },
  {
   "cell_type": "code",
   "execution_count": null,
   "id": "fdb4a1ee-49b4-4772-ad93-ada6aee9f0d7",
   "metadata": {
    "colab": {
     "base_uri": "https://localhost:8080/",
     "height": 0
    },
    "id": "fdb4a1ee-49b4-4772-ad93-ada6aee9f0d7",
    "outputId": "edd38750-11bb-4eff-9a20-859b78ca4117",
    "tags": []
   },
   "outputs": [],
   "source": [
    "# gives a dataframe of counts of unique values per column\n",
    "count_unique(student_assessment)"
   ]
  },
  {
   "cell_type": "code",
   "execution_count": null,
   "id": "ca239759-9195-40c7-8c26-dd8548fce76a",
   "metadata": {
    "colab": {
     "base_uri": "https://localhost:8080/",
     "height": 0
    },
    "id": "ca239759-9195-40c7-8c26-dd8548fce76a",
    "outputId": "21032096-2169-4de8-e0fb-3a59e0e1459f",
    "tags": [
     "remove_input"
    ]
   },
   "outputs": [],
   "source": [
    "# get the number of unique assessments in student assessment\n",
    "assmnt_count = student_assessment['id_assessment'].nunique()\n",
    "\n",
    "# get the number of unique assessments in assessments\n",
    "total_assmnts = assessments['id_assessment'].nunique()\n",
    "\n",
    "md(f'''\n",
    "Above in our dataframe of unique values in student assessments we can see:\n",
    "* There are {assmnt_count} unique assessments that students took.\n",
    "* This is less than the {total_assmnts} assessments we observed in the assessments dataframe meaning \n",
    "that there are some assessments on record that students did not take. These are the 18 missing final exams\n",
    "* There are less unique students in student_assessments than student_info meaning there are students whom we have no test information for.\n",
    "''')"
   ]
  },
  {
   "cell_type": "markdown",
   "id": "1908c737-7d0e-4caa-bc69-49d56d4050ec",
   "metadata": {
    "id": "1908c737-7d0e-4caa-bc69-49d56d4050ec"
   },
   "source": [
    "**Students with no assessment information**\n",
    "\n",
    "Here we will merge the student assessment and student info dataframes to find students with no test information"
   ]
  },
  {
   "cell_type": "code",
   "execution_count": null,
   "id": "ff597007-2b65-46dd-a133-f82c1ab14bb1",
   "metadata": {
    "colab": {
     "base_uri": "https://localhost:8080/",
     "height": 0
    },
    "id": "ff597007-2b65-46dd-a133-f82c1ab14bb1",
    "outputId": "13dbcaa1-d7ae-402b-a7db-b3a25f889a66"
   },
   "outputs": [],
   "source": [
    "# merge student info and student assessment dataframes\n",
    "# creates a column _merge which tells you if the id_assessment was found in one or both dataframes\n",
    "merged_si_sa = student_assessment.merge(stud_info, how='outer', indicator=True)\n",
    "\n",
    "# find students that are only located in right (stud_info) dataframe and not in student assessments\n",
    "no_assessments = merged_si_sa.loc[merged_si_sa['_merge'] == 'right_only']\n",
    "no_assessments"
   ]
  },
  {
   "cell_type": "code",
   "execution_count": null,
   "id": "8f46e1dd-2bd5-4070-bd6e-98e5f3f9383d",
   "metadata": {
    "colab": {
     "base_uri": "https://localhost:8080/",
     "height": 0
    },
    "id": "8f46e1dd-2bd5-4070-bd6e-98e5f3f9383d",
    "outputId": "4d342d5a-3bde-4d13-b496-970254d0f067",
    "tags": [
     "remove_input"
    ]
   },
   "outputs": [],
   "source": [
    "# get the length of the dataframe os students missing assessments\n",
    "total_no_assm = '{:,}'.format(len(no_assessments))\n",
    "\n",
    "md(f'''\n",
    "Our new `_merge` column tells us if the data maps perfectly, or if it is only found on the right or left side, the right side being the student info \n",
    "dataframe and the left side being the student_assessments dataframe.\n",
    "\n",
    "Above we see {total_no_assm} students have no exam information. Let's take a look at the results of these students.\n",
    "''')"
   ]
  },
  {
   "cell_type": "code",
   "execution_count": null,
   "id": "bee4ef69-e4e2-4f1b-826f-09ed4788b0f9",
   "metadata": {
    "colab": {
     "base_uri": "https://localhost:8080/",
     "height": 0
    },
    "id": "bee4ef69-e4e2-4f1b-826f-09ed4788b0f9",
    "outputId": "b0620082-3929-4114-f632-47f527d1b868"
   },
   "outputs": [],
   "source": [
    "# get all result values for students with no exams\n",
    "dataframe(no_assessments['result'].value_counts())"
   ]
  },
  {
   "cell_type": "markdown",
   "id": "cb35ac11-d383-4173-b527-8d38052417c0",
   "metadata": {
    "id": "cb35ac11-d383-4173-b527-8d38052417c0"
   },
   "source": [
    "In the dataframe above, results of withdrawn are to be expected, and it could be that most of the students who failed did not participate at all but did not formally withdraw and thus have no test scores. The two passing students assessment test information though are simply not within our dataframes. Let's look at these entries."
   ]
  },
  {
   "cell_type": "code",
   "execution_count": null,
   "id": "1debd049-c0b9-4e9c-8a3b-c1f9dfb3f8f3",
   "metadata": {
    "colab": {
     "base_uri": "https://localhost:8080/",
     "height": 0
    },
    "id": "1debd049-c0b9-4e9c-8a3b-c1f9dfb3f8f3",
    "outputId": "adba7642-2c2f-48b1-810d-343baf1fa981"
   },
   "outputs": [],
   "source": [
    "# find students with no assessments and passing result\n",
    "no_assessments[no_assessments['result'] == 'Pass']"
   ]
  },
  {
   "cell_type": "markdown",
   "id": "c446f9be-94af-4887-a891-0a352f2a279d",
   "metadata": {
    "id": "c446f9be-94af-4887-a891-0a352f2a279d"
   },
   "source": [
    "The only thing of note in these entries are that they are missing exam scores, and will not be useful to our scores analysis later on."
   ]
  },
  {
   "cell_type": "markdown",
   "id": "99ec9091-15c7-4667-8ef8-3bfaf5d42b9f",
   "metadata": {
    "id": "99ec9091-15c7-4667-8ef8-3bfaf5d42b9f"
   },
   "source": [
    "**Numerical Values**"
   ]
  },
  {
   "cell_type": "code",
   "execution_count": null,
   "id": "b84f5911-8fb8-4fb2-a21f-8c7099f1401e",
   "metadata": {
    "colab": {
     "base_uri": "https://localhost:8080/",
     "height": 0
    },
    "id": "b84f5911-8fb8-4fb2-a21f-8c7099f1401e",
    "outputId": "a1b10cea-891b-4b7b-b8ff-194fb1442c8e",
    "tags": []
   },
   "outputs": [],
   "source": [
    "# show statistical information for numerical values\n",
    "student_assessment.describe().round(1)"
   ]
  },
  {
   "cell_type": "code",
   "execution_count": null,
   "id": "a1b91424-0ec2-45c2-aef5-d935bcda4114",
   "metadata": {
    "colab": {
     "base_uri": "https://localhost:8080/",
     "height": 0
    },
    "id": "a1b91424-0ec2-45c2-aef5-d935bcda4114",
    "outputId": "74c51ad4-ede2-4c24-dfe5-ff231bf56987",
    "tags": [
     "remove_input"
    ]
   },
   "outputs": [],
   "source": [
    "# get average score of students\n",
    "mean_score = student_assessment['score'].mean().round(1)\n",
    "\n",
    "# get the largest date\n",
    "date_max = student_assessment['date_submitted'].max()\n",
    "\n",
    "# get the smallest date\n",
    "date_min = student_assessment['date_submitted'].min()\n",
    "\n",
    "# get the longest course length\n",
    "max_course_length = courses['course_length'].max()\n",
    "\n",
    "md(f'''\n",
    "In the above numerical breakdown we can see:\n",
    "* The average test score is {mean_score} so most students are passing handily if 40 is considered a failing score.\n",
    "* Scores are between 0 and 100 as would be expected.\n",
    "* The minimum date_submitted is {date_min} so it is possible the students had access to the first exam early, or that there is errors in the data.\n",
    "    * These dates don't fall too far outside of the range of possibility, so we will keep those as they are\n",
    "* The maximum date submitted is {date_max}, which is around 2.5 times longer than any course went on for.\n",
    "\n",
    "Let's check for records that are over the maximum course length of {max_course_length} days.\n",
    "''')"
   ]
  },
  {
   "cell_type": "code",
   "execution_count": null,
   "id": "a838fb7d-b81d-4ead-8bad-32d3f5a15bda",
   "metadata": {
    "colab": {
     "base_uri": "https://localhost:8080/",
     "height": 0
    },
    "id": "a838fb7d-b81d-4ead-8bad-32d3f5a15bda",
    "outputId": "cdf0d8d2-0c7b-42e7-f6d6-c52a1c78585a",
    "tags": []
   },
   "outputs": [],
   "source": [
    "# find students whose exams are submitted after the latest possible course_length\n",
    "late_tests = student_assessment.loc[student_assessment['date_submitted'] > 269].sort_values(by='date_submitted').reset_index(drop=True)\n",
    "late_tests"
   ]
  },
  {
   "cell_type": "code",
   "execution_count": null,
   "id": "4dfba6f2-4224-43c8-9cab-6b61dc5d00dc",
   "metadata": {
    "colab": {
     "base_uri": "https://localhost:8080/",
     "height": 0
    },
    "id": "4dfba6f2-4224-43c8-9cab-6b61dc5d00dc",
    "outputId": "b3821412-d331-46f9-88be-e662f1790fe3",
    "tags": [
     "remove_input"
    ]
   },
   "outputs": [],
   "source": [
    "# get the length of the dataframe of students with late test\n",
    "late_test_count = len(late_tests['date_submitted'])\n",
    "\n",
    "# find the lowest date submitted of the late tests\n",
    "late_test_min = late_tests['date_submitted'].min()\n",
    "\n",
    "# find the highest  date submitted of the late tests\n",
    "late_test_max = late_tests['date_submitted'].max()\n",
    "\n",
    "md(f'''\n",
    "Above in the dataframe of students who submitted exams later than any course went on we can observe:\n",
    "* There are {late_test_count} records of students handing in their exams well after the end of the module.\n",
    "* These dates range from {late_test_min} days after the course began and {late_test_max} days after the course began.\n",
    "\n",
    "The data source makes no mention of these, and they should not affect our analysis, so though strange, we will leave these records.\n",
    "''')"
   ]
  },
  {
   "cell_type": "markdown",
   "id": "f7eb4c1a-ede2-4d96-8441-0e12bbe076b9",
   "metadata": {
    "id": "f7eb4c1a-ede2-4d96-8441-0e12bbe076b9"
   },
   "source": [
    "### VLE\n",
    "---\n",
    "\n",
    "The VLE dataframe contains information about materials available on the Virtual Learning Environment."
   ]
  },
  {
   "cell_type": "code",
   "execution_count": null,
   "id": "aaef8ea4-1318-4fdf-9ee6-ebc7db8c67e1",
   "metadata": {
    "colab": {
     "base_uri": "https://localhost:8080/",
     "height": 0
    },
    "id": "aaef8ea4-1318-4fdf-9ee6-ebc7db8c67e1",
    "outputId": "763360cb-3eef-441e-d04c-6d93a1687295",
    "tags": []
   },
   "outputs": [],
   "source": [
    "# show first 5 of vle dataframe\n",
    "vle.head()"
   ]
  },
  {
   "cell_type": "markdown",
   "id": "b1530889-d0de-44b8-b45d-b023ce5f36d5",
   "metadata": {
    "id": "b1530889-d0de-44b8-b45d-b023ce5f36d5"
   },
   "source": [
    "---\n",
    "\n",
    "#### VLE Contents\n",
    "\n",
    "* **id_site**: The site ID is the unique identifier for the online resource.\n",
    "* **code_module**: The code module is the module the resource is associated with.\n",
    "* **code_presentation**: The code presentation represents the time the module was held at.\n",
    "* **activity_type**: The activity type is the type of online material.\n",
    "* **week_from**: The week from is the week the material was intended to be used from.\n",
    "    - week_from will not be used in our analysis due to it being irrelevant information and will be dropped.\n",
    "* **week_to**: The week to is the week the material was intended to be used until.\n",
    "    - week_to will not be used in our analysis due to it being irrelevant information and will be dropped."
   ]
  },
  {
   "cell_type": "markdown",
   "id": "849f9ecd-0a3e-4dcc-bb27-90bddf28fa24",
   "metadata": {
    "id": "849f9ecd-0a3e-4dcc-bb27-90bddf28fa24",
    "tags": []
   },
   "source": [
    "#### Changing column names\n",
    "* column names will be changed to be less verbose\n",
    "    * code_module to module\n",
    "    * code_presentation to presentation"
   ]
  },
  {
   "cell_type": "code",
   "execution_count": null,
   "id": "c329992e-a900-4bf3-93dd-377abaf9930f",
   "metadata": {
    "id": "c329992e-a900-4bf3-93dd-377abaf9930f",
    "tags": []
   },
   "outputs": [],
   "source": [
    "# make a dictionary of columns mapping to their new name\n",
    "vle_rename = {'code_module':'module', 'code_presentation':'presentation'}\n",
    "\n",
    "# rename columns in vle based on dictionary\n",
    "vle = vle.rename(columns=vle_rename)\n",
    "\n",
    "# dropping week_to and week_from from VLE dataframe\n",
    "vle = vle.drop(columns=['week_from', 'week_to'])"
   ]
  },
  {
   "cell_type": "markdown",
   "id": "cd2e8536-8979-4c84-bd99-73ee63718ce1",
   "metadata": {
    "id": "cd2e8536-8979-4c84-bd99-73ee63718ce1"
   },
   "source": [
    "---\n",
    "\n",
    "#### VLE Information"
   ]
  },
  {
   "cell_type": "markdown",
   "id": "efbb668c-3cfb-40b2-a634-9eb1cfbf9001",
   "metadata": {
    "id": "efbb668c-3cfb-40b2-a634-9eb1cfbf9001"
   },
   "source": [
    "**Size**"
   ]
  },
  {
   "cell_type": "code",
   "execution_count": null,
   "id": "d0d00bf9-e7de-4d66-bf84-bd2cbeac99e7",
   "metadata": {
    "colab": {
     "base_uri": "https://localhost:8080/",
     "height": 0
    },
    "id": "d0d00bf9-e7de-4d66-bf84-bd2cbeac99e7",
    "outputId": "bf73f766-c8b9-4f73-a8ea-c1854ecceeac",
    "tags": []
   },
   "outputs": [],
   "source": [
    "# return a dataframe of column and row count\n",
    "get_size(vle)"
   ]
  },
  {
   "cell_type": "code",
   "execution_count": null,
   "id": "93de0358-cb1e-4414-a509-228e7b4ac9a6",
   "metadata": {
    "colab": {
     "base_uri": "https://localhost:8080/",
     "height": 0
    },
    "id": "93de0358-cb1e-4414-a509-228e7b4ac9a6",
    "outputId": "9cd9775f-9068-4c11-83eb-d8a0fcbdbbe6",
    "tags": [
     "remove_input"
    ]
   },
   "outputs": [],
   "source": [
    "# store the size of vle's columns\n",
    "vle_cols = len(vle.columns)\n",
    "\n",
    "# store the size of vle's rows\n",
    "vle_rows = len(vle)\n",
    "\n",
    "md(f'''\n",
    "VLE has {vle_cols} columns and {\"{:,}\".format(vle_rows)} rows which represent the online resources we have data for.\n",
    "''')"
   ]
  },
  {
   "cell_type": "markdown",
   "id": "ae3dd9dc-313c-4a61-a557-acd282281156",
   "metadata": {
    "id": "ae3dd9dc-313c-4a61-a557-acd282281156"
   },
   "source": [
    "**Data Types**"
   ]
  },
  {
   "cell_type": "code",
   "execution_count": null,
   "id": "592b3721-edff-4311-80fd-400df081a766",
   "metadata": {
    "colab": {
     "base_uri": "https://localhost:8080/",
     "height": 0
    },
    "id": "592b3721-edff-4311-80fd-400df081a766",
    "outputId": "65a421b4-53f5-46ee-9fef-475222b77a3d",
    "tags": []
   },
   "outputs": [],
   "source": [
    "# return a dataframe of vle's columns' data types\n",
    "get_dtypes(vle)"
   ]
  },
  {
   "cell_type": "markdown",
   "id": "a85d9293-cb12-4ca3-8102-07042ccac67a",
   "metadata": {
    "id": "a85d9293-cb12-4ca3-8102-07042ccac67a"
   },
   "source": [
    "The `id_site`, `module`, `presentation` and `activity_type` columns contains categorical values and will need to be changed into the `string` data type"
   ]
  },
  {
   "cell_type": "code",
   "execution_count": null,
   "id": "c1e9e505-0edc-4013-bfd6-ae62da65b2af",
   "metadata": {
    "colab": {
     "base_uri": "https://localhost:8080/",
     "height": 0
    },
    "id": "c1e9e505-0edc-4013-bfd6-ae62da65b2af",
    "outputId": "c31971f6-0627-40c2-b8b1-71b03e1ea982",
    "tags": []
   },
   "outputs": [],
   "source": [
    "# change id_site to string type\n",
    "vle['id_site'] = vle['id_site'].astype(str)\n",
    "\n",
    "# convert all other types those that handle pandas <NA>\n",
    "vle = vle.convert_dtypes()"
   ]
  },
  {
   "cell_type": "markdown",
   "id": "05a04ff8-c49d-4060-bc08-fa31ea6867a4",
   "metadata": {
    "id": "05a04ff8-c49d-4060-bc08-fa31ea6867a4"
   },
   "source": [
    "**Null Values**"
   ]
  },
  {
   "cell_type": "code",
   "execution_count": null,
   "id": "9566cdc2-8a17-4a74-a156-65353aa49044",
   "metadata": {
    "colab": {
     "base_uri": "https://localhost:8080/",
     "height": 0
    },
    "id": "9566cdc2-8a17-4a74-a156-65353aa49044",
    "outputId": "7c990ac8-9b27-4cae-cae2-4a116aeb32bd",
    "tags": []
   },
   "outputs": [],
   "source": [
    "# return a dataframe of null values if any\n",
    "null_vals(vle)"
   ]
  },
  {
   "cell_type": "markdown",
   "id": "a711a637-9f7a-48be-8659-840ed9324c56",
   "metadata": {
    "id": "a711a637-9f7a-48be-8659-840ed9324c56"
   },
   "source": [
    "There are no null values."
   ]
  },
  {
   "cell_type": "markdown",
   "id": "aade22cf-0c29-4585-ba8e-b08195cc72bb",
   "metadata": {
    "id": "aade22cf-0c29-4585-ba8e-b08195cc72bb"
   },
   "source": [
    "**Duplicate Values**"
   ]
  },
  {
   "cell_type": "code",
   "execution_count": null,
   "id": "21724fae-ba6f-486b-ab5b-7190c306dc86",
   "metadata": {
    "colab": {
     "base_uri": "https://localhost:8080/",
     "height": 0
    },
    "id": "21724fae-ba6f-486b-ab5b-7190c306dc86",
    "outputId": "0e1a3088-5c01-4d03-84df-31bc5757d6ce",
    "tags": []
   },
   "outputs": [],
   "source": [
    "# return a dataframe of duplicate rows if any\n",
    "get_dupes(vle)"
   ]
  },
  {
   "cell_type": "markdown",
   "id": "ac903663-d614-4890-86cd-d49c7adcabc1",
   "metadata": {
    "id": "ac903663-d614-4890-86cd-d49c7adcabc1"
   },
   "source": [
    "**Unique Value Counts**"
   ]
  },
  {
   "cell_type": "code",
   "execution_count": null,
   "id": "5a9296c1-6e8f-455e-8eff-4909bb5f6ba8",
   "metadata": {
    "colab": {
     "base_uri": "https://localhost:8080/",
     "height": 0
    },
    "id": "5a9296c1-6e8f-455e-8eff-4909bb5f6ba8",
    "outputId": "3a7fbf22-b249-4d7b-f2ee-e81cd33fff7d",
    "tags": []
   },
   "outputs": [],
   "source": [
    "# return a dataframe of counts of unique values per column\n",
    "count_unique(vle)"
   ]
  },
  {
   "cell_type": "code",
   "execution_count": null,
   "id": "91d2cf84-dae2-4cb1-82a8-b3f421fbc039",
   "metadata": {},
   "outputs": [],
   "source": [
    "# get the number of unique activity types\n",
    "activity_count = vle['activity_type'].nunique()\n",
    "\n",
    "# get the number of activites with different ids\n",
    "id_site_count = vle['id_site'].nunique()\n",
    "\n",
    "md(f'''\n",
    "In the above dataframe of unique value counts per column of the vle table we see we have {activity_count} different \n",
    "types of activities students could have participated in and {\"{:,}\".format(id_site_count)} unique activities within these types.\n",
    "''')"
   ]
  },
  {
   "cell_type": "markdown",
   "id": "265aefd6-8088-4fd5-908a-8dc3a0ebcb65",
   "metadata": {
    "id": "265aefd6-8088-4fd5-908a-8dc3a0ebcb65"
   },
   "source": [
    "**Unique Categorical Values**"
   ]
  },
  {
   "cell_type": "code",
   "execution_count": null,
   "id": "d52f197a-2250-4a70-832e-b037a0a42c3c",
   "metadata": {},
   "outputs": [],
   "source": []
  },
  {
   "cell_type": "code",
   "execution_count": null,
   "id": "8c9c2704-88dc-44d9-8040-386ddf34f0f9",
   "metadata": {
    "colab": {
     "base_uri": "https://localhost:8080/",
     "height": 0
    },
    "id": "8c9c2704-88dc-44d9-8040-386ddf34f0f9",
    "outputId": "034f4951-726d-427d-d97a-e6536c98e146",
    "tags": []
   },
   "outputs": [],
   "source": [
    "# return a dataframe of unique categorical variables' values\n",
    "unique_vals(vle)"
   ]
  },
  {
   "cell_type": "code",
   "execution_count": null,
   "id": "9d861a1d-8fbf-4e3f-98cd-458172fc78e1",
   "metadata": {
    "colab": {
     "base_uri": "https://localhost:8080/",
     "height": 0
    },
    "id": "9d861a1d-8fbf-4e3f-98cd-458172fc78e1",
    "outputId": "9a1fbe60-5d6e-4ead-af08-10bff5a73110",
    "tags": []
   },
   "outputs": [],
   "source": [
    "md(f'''\n",
    "Above, in our unique categorical values dataframe we see the activity types available to students.\n",
    "''')"
   ]
  },
  {
   "cell_type": "markdown",
   "id": "d36c56a0-ea32-4c70-8bb2-952cd05d0845",
   "metadata": {
    "id": "d36c56a0-ea32-4c70-8bb2-952cd05d0845"
   },
   "source": [
    "### Student VLE\n",
    "---\n",
    "\n",
    "The Student VLE Dataframe contains information about student interactions with the online resources in the Virtual Learning Environment"
   ]
  },
  {
   "cell_type": "code",
   "execution_count": null,
   "id": "3a057166-8ef3-4883-b5fc-b48ffc2f9eea",
   "metadata": {
    "colab": {
     "base_uri": "https://localhost:8080/",
     "height": 203
    },
    "id": "3a057166-8ef3-4883-b5fc-b48ffc2f9eea",
    "outputId": "5005a1f2-c8f5-47c6-c74a-39afd34a5c64",
    "tags": []
   },
   "outputs": [],
   "source": [
    "student_vle.head()"
   ]
  },
  {
   "cell_type": "markdown",
   "id": "d3490f75-3aef-40af-b064-5567fb439618",
   "metadata": {
    "id": "d3490f75-3aef-40af-b064-5567fb439618"
   },
   "source": [
    "---\n",
    "\n",
    "#### Student VLE Contents\n",
    "\n",
    "* **code_module**: The code module is the module the resource and student are associated with.\n",
    "* **code_presentation**: The code presentation represents the time the module was held at.\n",
    "* **id_site**: The site ID is the unique identifier for the online resource with which the student engaged.\n",
    "* **date**: The date represents the date that the student engaged with the material relevant to the start date of the module.\n",
    "* **sum_click**: The sum click represents the number of clicks the student made on that day."
   ]
  },
  {
   "cell_type": "markdown",
   "id": "ba9521ec-c34f-4bed-99ee-23245f0a6751",
   "metadata": {
    "id": "ba9521ec-c34f-4bed-99ee-23245f0a6751"
   },
   "source": [
    "#### Changing column names\n",
    "* column names will be changed to be less verbose:\n",
    "    * code_module to module\n",
    "    * code_presentation to presentation"
   ]
  },
  {
   "cell_type": "code",
   "execution_count": null,
   "id": "14224ef6-4c6d-4b25-bb93-c003100742fb",
   "metadata": {
    "id": "14224ef6-4c6d-4b25-bb93-c003100742fb",
    "tags": []
   },
   "outputs": [],
   "source": [
    "# make a dictionary of columns mapping to their new name\n",
    "stud_vle_rename = {'code_module':'module', 'code_presentation':'presentation'}\n",
    "\n",
    "# rename columns in assessments based on dictionary\n",
    "student_vle = student_vle.rename(columns=stud_vle_rename)"
   ]
  },
  {
   "cell_type": "markdown",
   "id": "5e092f77-bd83-4829-b000-8ad16dfb7bee",
   "metadata": {
    "id": "5e092f77-bd83-4829-b000-8ad16dfb7bee"
   },
   "source": [
    "---\n",
    "\n",
    "#### Student VLE Information"
   ]
  },
  {
   "cell_type": "markdown",
   "id": "ee46fec1-4494-4f24-923b-8bdd273c377d",
   "metadata": {
    "id": "ee46fec1-4494-4f24-923b-8bdd273c377d"
   },
   "source": [
    "**Size**"
   ]
  },
  {
   "cell_type": "code",
   "execution_count": null,
   "id": "683339a2-03a3-4c77-893b-2d8202500928",
   "metadata": {
    "colab": {
     "base_uri": "https://localhost:8080/",
     "height": 110
    },
    "id": "683339a2-03a3-4c77-893b-2d8202500928",
    "outputId": "5118413d-ce14-46a4-ec5c-6ee4a71793a0",
    "tags": []
   },
   "outputs": [],
   "source": [
    "# return a dataframe of column and row count\n",
    "get_size(student_vle)"
   ]
  },
  {
   "cell_type": "code",
   "execution_count": null,
   "id": "aad090cd-6e5e-47d7-92d9-2ed2e7a16a5d",
   "metadata": {
    "colab": {
     "base_uri": "https://localhost:8080/",
     "height": 46
    },
    "id": "aad090cd-6e5e-47d7-92d9-2ed2e7a16a5d",
    "outputId": "79f8795c-5bb4-431f-8bf6-0e4e13477a68",
    "tags": [
     "remove_input"
    ]
   },
   "outputs": [],
   "source": [
    "# store the size of student_vle's columns\n",
    "stud_vle_cols = len(student_vle.columns)\n",
    "\n",
    "# store the size of student_vle's rows\n",
    "stud_vle_rows = len(student_vle)\n",
    "\n",
    "md(f'''\n",
    "Student VLE has {stud_vle_cols} features and {\"{:,}\".format(stud_vle_rows)} rows which represent the student resource interactions we have data for.\n",
    "''')"
   ]
  },
  {
   "cell_type": "markdown",
   "id": "6452f1a4-f4f2-49ee-b833-247a8deca37f",
   "metadata": {
    "id": "6452f1a4-f4f2-49ee-b833-247a8deca37f"
   },
   "source": [
    "**Data Types**"
   ]
  },
  {
   "cell_type": "code",
   "execution_count": null,
   "id": "cc9d8497-a901-48fd-9cc1-d566351d9817",
   "metadata": {
    "colab": {
     "base_uri": "https://localhost:8080/",
     "height": 234
    },
    "id": "cc9d8497-a901-48fd-9cc1-d566351d9817",
    "outputId": "753651bf-3c6e-4b5d-8a91-d590eb9df34d",
    "tags": []
   },
   "outputs": [],
   "source": [
    "# get data types of student_vle\n",
    "get_dtypes(student_vle)"
   ]
  },
  {
   "cell_type": "markdown",
   "id": "f6608da4-baec-40e9-88f5-3c7a8e256785",
   "metadata": {
    "id": "f6608da4-baec-40e9-88f5-3c7a8e256785"
   },
   "source": [
    "The `id_student` and `id_site` columns contain categorical values and must be converted to the `string` data type."
   ]
  },
  {
   "cell_type": "code",
   "execution_count": null,
   "id": "638101e5-e8ab-4e2b-980f-ed16f495033f",
   "metadata": {
    "colab": {
     "base_uri": "https://localhost:8080/",
     "height": 234
    },
    "id": "638101e5-e8ab-4e2b-980f-ed16f495033f",
    "outputId": "8ef1b811-030e-462e-b09d-4b847b030376",
    "tags": []
   },
   "outputs": [],
   "source": [
    "# convert id_site and id_student to strings\n",
    "student_vle = student_vle.astype({'id_site':str, 'id_student':str})\n",
    "\n",
    "# convert all datatypes to those that can work with pd NA\n",
    "student_vle = student_vle.convert_dtypes()\n",
    "\n",
    "# get the data types again to make sure it works\n",
    "get_dtypes(student_vle)"
   ]
  },
  {
   "cell_type": "markdown",
   "id": "685e8e69-f96c-4012-8e6e-2f94b3ce72f2",
   "metadata": {
    "id": "685e8e69-f96c-4012-8e6e-2f94b3ce72f2"
   },
   "source": [
    "**Null Values**"
   ]
  },
  {
   "cell_type": "code",
   "execution_count": null,
   "id": "f0d1a693-ab2d-4320-a357-9edb64f74079",
   "metadata": {
    "colab": {
     "base_uri": "https://localhost:8080/",
     "height": 234
    },
    "id": "f0d1a693-ab2d-4320-a357-9edb64f74079",
    "outputId": "f9724876-5335-4707-bdef-229d47b0065e",
    "tags": []
   },
   "outputs": [],
   "source": [
    "# get null values in dataframe\n",
    "null_vals(student_vle)"
   ]
  },
  {
   "cell_type": "markdown",
   "id": "4f935f93-c40e-4b34-b25c-7c4682947161",
   "metadata": {
    "id": "4f935f93-c40e-4b34-b25c-7c4682947161"
   },
   "source": [
    "There are no null values."
   ]
  },
  {
   "cell_type": "markdown",
   "id": "1ef2db4a-0787-427e-8958-94e39e2183f3",
   "metadata": {
    "id": "1ef2db4a-0787-427e-8958-94e39e2183f3"
   },
   "source": [
    "**Duplicate Values**"
   ]
  },
  {
   "cell_type": "code",
   "execution_count": null,
   "id": "ae355e85-c598-49b1-9119-c231ca40f5e7",
   "metadata": {
    "colab": {
     "base_uri": "https://localhost:8080/",
     "height": 203
    },
    "id": "ae355e85-c598-49b1-9119-c231ca40f5e7",
    "outputId": "da476431-56e6-4673-8a40-5f245d934028",
    "tags": []
   },
   "outputs": [],
   "source": [
    "# find duplicates in dataframe\n",
    "duplicates = get_dupes(student_vle)\n",
    "duplicates.head()"
   ]
  },
  {
   "cell_type": "code",
   "execution_count": null,
   "id": "b61253fa-1b44-4381-8edc-288679edcc21",
   "metadata": {
    "colab": {
     "base_uri": "https://localhost:8080/",
     "height": 62
    },
    "id": "b61253fa-1b44-4381-8edc-288679edcc21",
    "outputId": "3456deaf-2231-4b68-b882-51cc48bb8a38",
    "tags": [
     "remove_input"
    ]
   },
   "outputs": [],
   "source": [
    "md(f'''\n",
    "There are {'{:,}'.format(len(duplicates))} duplicated rows which are merely the same students on the same day, interacting with the same material in the same way, which is to be expected.\n",
    "''')"
   ]
  },
  {
   "cell_type": "markdown",
   "id": "72e52237-251a-46d2-b352-bb38e4cc6196",
   "metadata": {
    "id": "72e52237-251a-46d2-b352-bb38e4cc6196"
   },
   "source": [
    "**Unique Value Counts**"
   ]
  },
  {
   "cell_type": "code",
   "execution_count": null,
   "id": "2b8d254e-645a-475c-ac1d-c69942a149db",
   "metadata": {
    "colab": {
     "base_uri": "https://localhost:8080/",
     "height": 234
    },
    "id": "2b8d254e-645a-475c-ac1d-c69942a149db",
    "outputId": "8c989a3a-6676-4853-a704-135536c6f102",
    "tags": []
   },
   "outputs": [],
   "source": [
    "# get number of unique items in dataframe per feature\n",
    "count_unique(student_vle)"
   ]
  },
  {
   "cell_type": "code",
   "execution_count": null,
   "id": "9a5ced8c-f28c-47ad-a691-b3a66216142c",
   "metadata": {
    "colab": {
     "base_uri": "https://localhost:8080/",
     "height": 62
    },
    "id": "9a5ced8c-f28c-47ad-a691-b3a66216142c",
    "outputId": "b14177d1-77df-4e04-bea9-9dd8104c4f0c",
    "tags": [
     "remove_input"
    ]
   },
   "outputs": [],
   "source": [
    "# get a count of unique students in vle\n",
    "unique_students = student_vle['id_student'].nunique()\n",
    "\n",
    "# get a count of unique students in student info\n",
    "si_unique_students = student_info['id_student'].nunique()\n",
    "\n",
    "md(f'''\n",
    "Above in our unique value counts for the student vle dataframe we see there are {\"{:,}\".format(unique_students)} in the \n",
    "student_vle out of the {\"{:,}\".format(si_unique_students)} students we have in student info. So {\"{:,}\".format(si_unique_students - unique_students)} \n",
    "students from student info do not have online interaction data.\n",
    "''')"
   ]
  },
  {
   "cell_type": "markdown",
   "id": "5d40926b-6cef-45ce-aa5b-290bd0a7bf01",
   "metadata": {
    "id": "5d40926b-6cef-45ce-aa5b-290bd0a7bf01"
   },
   "source": [
    "**Numerical Values**"
   ]
  },
  {
   "cell_type": "code",
   "execution_count": null,
   "id": "6e165692-31af-4572-b00a-4ffb547d20b0",
   "metadata": {
    "colab": {
     "base_uri": "https://localhost:8080/",
     "height": 295
    },
    "id": "6e165692-31af-4572-b00a-4ffb547d20b0",
    "outputId": "9fb68d1b-5966-41d9-f073-eb75bf05ea88",
    "tags": []
   },
   "outputs": [],
   "source": [
    "# get statistical values for dataframe\n",
    "student_vle.describe().round(1)"
   ]
  },
  {
   "cell_type": "code",
   "execution_count": null,
   "id": "fa155620-17db-4b06-a4a8-7f3a8946306b",
   "metadata": {
    "colab": {
     "base_uri": "https://localhost:8080/",
     "height": 62
    },
    "id": "fa155620-17db-4b06-a4a8-7f3a8946306b",
    "outputId": "5a7d5ca4-552f-4fd9-e7b8-5d4ba87b6320",
    "tags": []
   },
   "outputs": [],
   "source": [
    "# get the average number of clicks in student vle\n",
    "avg_click_sum = round(student_vle['sum_click'].mean(), 1)\n",
    "\n",
    "# get the highest number of clicks in student vle\n",
    "max_click_sum = '{:,}'.format(student_vle['sum_click'].max())\n",
    "\n",
    "md(f'''\n",
    "In the above numerical breakdown we see that the average number of clicks per session is  only {avg_click_sum} \n",
    "which makes the maximum number of clicks {max_click_sum} seem really high.\n",
    "\n",
    "Let's take a look at some of the higher click entries\n",
    "''')"
   ]
  },
  {
   "cell_type": "code",
   "execution_count": null,
   "id": "4f809bab-27ce-4e80-9962-5639f10b4bdc",
   "metadata": {
    "colab": {
     "base_uri": "https://localhost:8080/",
     "height": 758
    },
    "id": "4f809bab-27ce-4e80-9962-5639f10b4bdc",
    "outputId": "9d214cfb-1da0-4e3a-aa81-acbf87ea2be7",
    "tags": []
   },
   "outputs": [],
   "source": [
    "# get a dataframe of students whose clicks summed over 1000\n",
    "student_vle[student_vle['sum_click'] > 1000].sort_values('sum_click')"
   ]
  },
  {
   "cell_type": "markdown",
   "id": "a8e78ff6-c1df-4aeb-8c0d-263b5bb4dd4a",
   "metadata": {
    "id": "a8e78ff6-c1df-4aeb-8c0d-263b5bb4dd4a"
   },
   "source": [
    "Above are all of the entries with over 1000 clicks. These seem to be far outliers compared to the average."
   ]
  },
  {
   "cell_type": "markdown",
   "id": "77d25c26-e8b8-4c7d-8443-1527bb742ed2",
   "metadata": {
    "id": "77d25c26-e8b8-4c7d-8443-1527bb742ed2"
   },
   "source": [
    "**Merged VLE**\n",
    "\n",
    "We will now combine the student_vle and vle dataframes to have the student data mapped to the resource data"
   ]
  },
  {
   "cell_type": "code",
   "execution_count": null,
   "id": "8297c56b-2122-4e11-a2bc-f26d467d81a3",
   "metadata": {
    "colab": {
     "base_uri": "https://localhost:8080/",
     "height": 203
    },
    "id": "8297c56b-2122-4e11-a2bc-f26d467d81a3",
    "outputId": "f3e237e8-f547-4fdd-bc85-aa2385300cf5",
    "tags": []
   },
   "outputs": [],
   "source": [
    "# merging vle & student vle with a full outer join on common columns\n",
    "merged_vle = student_vle.merge(vle, how='outer', on=['id_site', 'module', 'presentation'], indicator=True)\n",
    "merged_vle.head()"
   ]
  },
  {
   "cell_type": "markdown",
   "id": "2ba06958-88b1-420e-b2f1-503b3347beb0",
   "metadata": {
    "id": "2ba06958-88b1-420e-b2f1-503b3347beb0"
   },
   "source": [
    "Above we have our combined dataframes. The added merge column tells us if the data maps perfectly to both dataframes, or if it is only found on the right or left side, the right side in this case being the VLE dataframe and the left side being the student_VLE dataframe"
   ]
  },
  {
   "cell_type": "code",
   "execution_count": null,
   "id": "a4bb2727-89f7-4be9-97e7-2cc98ef8f429",
   "metadata": {
    "colab": {
     "base_uri": "https://localhost:8080/",
     "height": 203
    },
    "id": "a4bb2727-89f7-4be9-97e7-2cc98ef8f429",
    "outputId": "f7b9913c-c2ea-4a9f-d4c3-ec0c3d61563d",
    "tags": []
   },
   "outputs": [],
   "source": [
    "# makes a dataframe containing only entries where _merge value is not both.\n",
    "vle_only = merged_vle.loc[merged_vle['_merge'] != 'both']\n",
    "vle_only.head()"
   ]
  },
  {
   "cell_type": "code",
   "execution_count": null,
   "id": "c1991ae6-f84a-4e53-94be-73c50fcead00",
   "metadata": {
    "colab": {
     "base_uri": "https://localhost:8080/",
     "height": 62
    },
    "id": "c1991ae6-f84a-4e53-94be-73c50fcead00",
    "outputId": "2f5d3aca-183e-409e-cc5c-de66390a30fe",
    "tags": [
     "remove_input"
    ]
   },
   "outputs": [],
   "source": [
    "# get length of dataframe where there is no student info for click data\n",
    "unvisited_sites_count = len(vle_only)\n",
    "\n",
    "md(f'''\n",
    "Above we can see a dataframe of entries only found in the vle dataframe.\n",
    "\n",
    "In this case the data either maps perfectly to both or is only found on the right hand side, or the VLE dataframe. These {unvisited_sites_count} \n",
    "entries represent materials which we have no student activity associated with which can be dropped along with the _merge column \n",
    "which will have no more interesting information.\n",
    "''')"
   ]
  },
  {
   "cell_type": "code",
   "execution_count": null,
   "id": "7283226e-4c4a-4082-97ce-5acecf84eb80",
   "metadata": {
    "colab": {
     "base_uri": "https://localhost:8080/",
     "height": 203
    },
    "id": "7283226e-4c4a-4082-97ce-5acecf84eb80",
    "outputId": "09e244f6-bc79-4170-9da5-660ad576624a",
    "tags": []
   },
   "outputs": [],
   "source": [
    "# drop rows which have NaN values for id_student\n",
    "merged_vle = merged_vle.dropna(subset=['id_student'])\n",
    "\n",
    "# drop _merge column\n",
    "merged_vle = merged_vle.drop(columns=['_merge'])\n",
    "\n",
    "# reset index\n",
    "merged_vle.reset_index(drop=True).head()"
   ]
  },
  {
   "cell_type": "markdown",
   "id": "508a249d-bc3d-4145-958f-4462d0f0aca3",
   "metadata": {
    "id": "508a249d-bc3d-4145-958f-4462d0f0aca3"
   },
   "source": [
    "**Aggregating Clicks**\n",
    "\n",
    "Here we will combine student click data in the form of their total click number from each module and their average clicks per day during the module with student data found in student information and then seperately with the data found in our merged_assessments dataframe.\n",
    "\n",
    "**Adding and Removing Features**\n",
    "\n",
    "* We are going to remove activity_type since we will not be performing analysis on the type of activity a student interacts with, just the number of clicks a student has overall.\n",
    "* We will remove id_site since it does not add any information to the resource it maps to.\n",
    "* We will remove date since we will just be taking the sum of clicks overall, not per day.\n",
    "* We will change sum click from some click per day for the student to overall sum click for the course.\n",
    "* We will add a column avg_click representing the students average clicks per day."
   ]
  },
  {
   "cell_type": "code",
   "execution_count": null,
   "id": "ee3fc163-424e-4245-ac42-dd0c2ccf180d",
   "metadata": {
    "id": "ee3fc163-424e-4245-ac42-dd0c2ccf180d",
    "tags": []
   },
   "outputs": [],
   "source": [
    "# removing activity_type and id_site columns\n",
    "agg_clicks = merged_vle.drop(columns=['activity_type', 'id_site'])"
   ]
  },
  {
   "cell_type": "markdown",
   "id": "98ccea81-01ac-465b-adcb-b2274e6222df",
   "metadata": {
    "id": "98ccea81-01ac-465b-adcb-b2274e6222df"
   },
   "source": [
    "**VLE with clicks per student per module aggregated**\n",
    "\n",
    "Here we will make a dataframe of student id, module and presentation to ensure we are mapping to the correct student and then their sum clicks overall and average clicks per day over the course."
   ]
  },
  {
   "cell_type": "code",
   "execution_count": null,
   "id": "28612932-7f03-4215-8fcc-7179658c5476",
   "metadata": {
    "id": "28612932-7f03-4215-8fcc-7179658c5476"
   },
   "outputs": [],
   "source": [
    "# make a new column avg_click taking the values from sum_click\n",
    "agg_clicks['avg_click'] = agg_clicks['sum_click']\n",
    "\n",
    "# dictionary to pass to aggregate attribute\n",
    "aggregates = {'sum_click':'sum', 'module':'first', 'presentation':'first', 'avg_click':'mean'}\n",
    "\n",
    "# create agg_clicks which has the sum and average clicks per module\n",
    "agg_clicks = agg_clicks.groupby(['id_student']).aggregate(aggregates).reset_index()\n",
    "agg_clicks['avg_click'] = agg_clicks['avg_click'].round(2)\n",
    "\n",
    "# change id_student to int and then object to remove the .0\n",
    "agg_clicks = agg_clicks.astype({'id_student': str})\n",
    "\n",
    "# reorder dataframe\n",
    "agg_clicks = agg_clicks[['module', 'presentation', 'id_student', 'sum_click', 'avg_click']]"
   ]
  },
  {
   "cell_type": "code",
   "execution_count": null,
   "id": "9d3bd6c8-e1d8-439d-83d7-a2b8f95531a1",
   "metadata": {
    "colab": {
     "base_uri": "https://localhost:8080/",
     "height": 203
    },
    "id": "9d3bd6c8-e1d8-439d-83d7-a2b8f95531a1",
    "outputId": "0b63842b-94d0-4e34-e8a7-a73145e31eaf"
   },
   "outputs": [],
   "source": [
    "agg_clicks.head()"
   ]
  },
  {
   "cell_type": "markdown",
   "id": "3a47b5eb-0a9a-41dc-81d4-581c60e114fc",
   "metadata": {
    "id": "3a47b5eb-0a9a-41dc-81d4-581c60e114fc"
   },
   "source": [
    "Above, we now have a dataframe of students and their sum and average clicks"
   ]
  },
  {
   "cell_type": "markdown",
   "id": "ac5d00f9-59ae-4379-ab82-f1c72630e073",
   "metadata": {
    "id": "ac5d00f9-59ae-4379-ab82-f1c72630e073"
   },
   "source": [
    "**Merge with Student Info Dataframe**"
   ]
  },
  {
   "cell_type": "markdown",
   "id": "404b6c85-002b-410c-a4d8-a14cba2d7194",
   "metadata": {
    "id": "404b6c85-002b-410c-a4d8-a14cba2d7194"
   },
   "source": [
    "Finally, we will merge the merged VLE dataframe with the Student info dataframe to ensure wwe are only working with students who were not previously eliminated due to dropping out before the first day or for being on higher than their first attempt"
   ]
  },
  {
   "cell_type": "markdown",
   "id": "3afe2449-c140-4cb9-bf8f-f1b0c9e688f2",
   "metadata": {
    "id": "3afe2449-c140-4cb9-bf8f-f1b0c9e688f2"
   },
   "source": [
    "**Adding Aggregated Clicks to Student Info**\n",
    "\n",
    "Here we will add our sum click and average click features to the student info dataframe."
   ]
  },
  {
   "cell_type": "code",
   "execution_count": null,
   "id": "e1dc0523-e458-40b6-8c5e-4a2e251c1e42",
   "metadata": {
    "id": "e1dc0523-e458-40b6-8c5e-4a2e251c1e42",
    "tags": []
   },
   "outputs": [],
   "source": [
    "# outer merge of stud_info and vle dataframes on common columns\n",
    "stud_info_clicks = stud_info.merge(agg_clicks, how='outer', on=['id_student', 'presentation', 'module'],indicator=True)\n",
    "\n",
    "# convert datatypes back\n",
    "stud_info_clicks = stud_info_clicks.convert_dtypes()"
   ]
  },
  {
   "cell_type": "code",
   "execution_count": null,
   "id": "ff8e0b35-42b4-456e-85de-5dd3cac033b1",
   "metadata": {
    "colab": {
     "base_uri": "https://localhost:8080/",
     "height": 307
    },
    "id": "ff8e0b35-42b4-456e-85de-5dd3cac033b1",
    "outputId": "4da1ae94-40e6-45d3-fc94-a20506988ae0"
   },
   "outputs": [],
   "source": [
    "# show head of resulting dataframe\n",
    "stud_info_clicks.head()"
   ]
  },
  {
   "cell_type": "markdown",
   "id": "9cd90088-90e4-48a8-90b4-28440b2f7b24",
   "metadata": {
    "id": "9cd90088-90e4-48a8-90b4-28440b2f7b24"
   },
   "source": [
    "Above is our dataframe of student info merged with student click data.\n",
    "\n",
    "For the `_merge` column for this dataframe, `left_only` tells us that the data is only found in student info, and `right_only` tells us the data is only found in VLE. "
   ]
  },
  {
   "cell_type": "markdown",
   "id": "73bf6702-3030-496e-9ad6-3656d7af1126",
   "metadata": {
    "id": "73bf6702-3030-496e-9ad6-3656d7af1126"
   },
   "source": [
    "**Click data with no students**\n",
    "\n",
    "Let's first look at the students only found in the vle dataframe which is click data that has no student attached to it."
   ]
  },
  {
   "cell_type": "code",
   "execution_count": null,
   "id": "af2d4bf4-51a4-4a2c-a457-d9e5ab693596",
   "metadata": {
    "colab": {
     "base_uri": "https://localhost:8080/",
     "height": 437
    },
    "id": "af2d4bf4-51a4-4a2c-a457-d9e5ab693596",
    "outputId": "a8a10e94-898a-4104-a4a0-13ebc40f3548"
   },
   "outputs": [],
   "source": [
    "# show all _merge values of 'right only' thus only in vle\n",
    "only_vle = stud_info_clicks.loc[stud_info_clicks['_merge'] == 'right_only']\n",
    "only_vle"
   ]
  },
  {
   "cell_type": "code",
   "execution_count": null,
   "id": "37a225e6-6690-48e4-95a6-58d9ed017f3e",
   "metadata": {
    "colab": {
     "base_uri": "https://localhost:8080/",
     "height": 62
    },
    "id": "37a225e6-6690-48e4-95a6-58d9ed017f3e",
    "outputId": "34c2e353-98eb-40c2-a813-62675e8362cc",
    "tags": [
     "remove_input"
    ]
   },
   "outputs": [],
   "source": [
    "md(f'''\n",
    "Above in our dataframe of student click information that does not map to a student in student info\n",
    "we have {\"{:,}\".format(len(only_vle))} values. This is how many students for whom we have click data that\n",
    "doesn't correspond to a student in student info. These are previously eliminated students, and will be removed from here\n",
    "as well.''')"
   ]
  },
  {
   "cell_type": "code",
   "execution_count": null,
   "id": "0b6fdb3f-32b5-4a99-8170-0f79d183240e",
   "metadata": {
    "id": "0b6fdb3f-32b5-4a99-8170-0f79d183240e"
   },
   "outputs": [],
   "source": [
    "# drop any students found only in student vle by eliminating those without a result\n",
    "stud_info_clicks = stud_info_clicks.dropna(subset=['result'])"
   ]
  },
  {
   "cell_type": "markdown",
   "id": "689d8085-cf92-4017-be03-6caae3b42c79",
   "metadata": {
    "id": "689d8085-cf92-4017-be03-6caae3b42c79"
   },
   "source": [
    "**Students with no clicks**\n",
    "\n",
    "Next we will look at students found only in the student info dataframe and therefore have no click data."
   ]
  },
  {
   "cell_type": "code",
   "execution_count": null,
   "id": "7ba2282c-fd82-4d93-a509-17c6fdcbd560",
   "metadata": {
    "colab": {
     "base_uri": "https://localhost:8080/",
     "height": 307
    },
    "id": "7ba2282c-fd82-4d93-a509-17c6fdcbd560",
    "outputId": "c5dc1067-4acf-457e-e22d-0b72bf7bc593"
   },
   "outputs": [],
   "source": [
    "# find where _merge column value is left_only meaning only in student info\n",
    "only_stud_info= stud_info_clicks.loc[stud_info_clicks['_merge'] == 'left_only']\n",
    "only_stud_info.head()"
   ]
  },
  {
   "cell_type": "markdown",
   "id": "d7b1ec4c-469f-4808-b4f1-e52def504e82",
   "metadata": {
    "id": "d7b1ec4c-469f-4808-b4f1-e52def504e82"
   },
   "source": [
    "above is our dataframe of students who are missing click data.\n",
    "\n",
    "Let's see the results of the students with no click data:"
   ]
  },
  {
   "cell_type": "code",
   "execution_count": null,
   "id": "20302b2f-4325-497f-a8c2-ce420fce2321",
   "metadata": {
    "colab": {
     "base_uri": "https://localhost:8080/",
     "height": 172
    },
    "id": "20302b2f-4325-497f-a8c2-ce420fce2321",
    "outputId": "2b3955b2-f14f-4f40-dba7-b96d9c3278e0",
    "tags": []
   },
   "outputs": [],
   "source": [
    "# make a dataframe of results of students without click data\n",
    "dataframe(only_stud_info['result'].value_counts())"
   ]
  },
  {
   "cell_type": "code",
   "execution_count": null,
   "id": "7befbccb-64d8-4adc-a791-4d502659167f",
   "metadata": {
    "colab": {
     "base_uri": "https://localhost:8080/",
     "height": 136
    },
    "id": "7befbccb-64d8-4adc-a791-4d502659167f",
    "outputId": "f437de9d-24bc-4cf4-b762-2552963ff084",
    "tags": [
     "remove_input"
    ]
   },
   "outputs": [],
   "source": [
    "# get percentage of students with missing clicks to overall students\n",
    "perc_no_clicks = percentage(len(only_stud_info), len(stud_info))\n",
    "\n",
    "md(f'''\n",
    "In the above table of the results of the students for whom we have no click data we see {\"{:,}\".format(len(only_stud_info))} students in only \n",
    "student info, and thus {perc_no_clicks}% of students for whom we have no click data.\n",
    "\n",
    "We could assume that these students never interacted with the material, but as we can see above we have many students who passed with no click data. \n",
    "Since the click data includes clicks on the homepage it is safe to say that all of these students must have had click data that we are missing.\n",
    "\n",
    "Since these students represent a fair amount of our data we will add for these students the median clicks for their module/presentation. \n",
    "We will use the median since the click data has such a large spread and per module/presentation because it will be more representative of\n",
    "the resources that were probably available to that sect of students.\n",
    "''')"
   ]
  },
  {
   "cell_type": "code",
   "execution_count": null,
   "id": "b1521639-768d-44a0-814a-6dea7322d449",
   "metadata": {
    "colab": {
     "base_uri": "https://localhost:8080/",
     "height": 603
    },
    "id": "b1521639-768d-44a0-814a-6dea7322d449",
    "outputId": "3414256a-a3cc-4172-dc6d-7554af3cd6da"
   },
   "outputs": [],
   "source": [
    "# create module_presentation column to find students in exact courses\n",
    "stud_info_clicks['module_presentation'] = stud_info_clicks['module'] + stud_info_clicks['presentation']\n",
    "\n",
    "# iterate through stud_info_clicks entries where avg_click or sum_click is NA\n",
    "for index, row in stud_info_clicks[stud_info_clicks['avg_click'].isna() | stud_info_clicks['sum_click'].isna()].iterrows():\n",
    "    # change stud_info avg_click at current index to the median of the student's module/presentation\n",
    "    stud_info_clicks.at[index, 'avg_click'] = stud_info_clicks.loc[(stud_info_clicks['module_presentation'] == row['module_presentation']), 'avg_click'].median()\n",
    "    # change stud_info sum_click at current index to the median of the student's module/presentation\n",
    "    stud_info_clicks.at[index, 'sum_click'] = int(stud_info_clicks.loc[(stud_info_clicks['module_presentation'] == row['module_presentation']), 'sum_click'].median())"
   ]
  },
  {
   "cell_type": "code",
   "execution_count": null,
   "id": "a82bf568-cac8-4b48-91a3-d499b0846d3c",
   "metadata": {
    "id": "a82bf568-cac8-4b48-91a3-d499b0846d3c"
   },
   "outputs": [],
   "source": [
    "# reorder columns for clarity without drop _merge column as it is no longer of use\n",
    "stud_info_clicks = stud_info_clicks[['module_presentation', 'module', 'presentation', 'id_student', 'region', 'imd', 'age', 'gender', 'education', 'disability', 'date_registration', 'attempts', 'credits', 'sum_click', 'avg_click', 'result']]"
   ]
  },
  {
   "cell_type": "markdown",
   "id": "ca80209b-28fc-46cd-9385-fceb06cc7b05",
   "metadata": {
    "id": "ca80209b-28fc-46cd-9385-fceb06cc7b05"
   },
   "source": [
    "**Adding Aggregated Clicks to Assessments**"
   ]
  },
  {
   "cell_type": "markdown",
   "id": "348799ec-35f4-4550-8e20-536aa75f8435",
   "metadata": {
    "id": "348799ec-35f4-4550-8e20-536aa75f8435"
   },
   "source": [
    "Now, we will be adding the student click data to the merged assessments dataframe."
   ]
  },
  {
   "cell_type": "code",
   "execution_count": null,
   "id": "86d0c34c-fdf1-43c4-8f8f-1ed49a2ad022",
   "metadata": {
    "id": "86d0c34c-fdf1-43c4-8f8f-1ed49a2ad022"
   },
   "outputs": [],
   "source": [
    "# drop merged_assessments _merge column so we can use it again\n",
    "merged_assessments = merged_assessments.drop(columns='_merge')"
   ]
  },
  {
   "cell_type": "code",
   "execution_count": null,
   "id": "69ffe7e9-7ea6-426b-bb6c-131cf4b8cc64",
   "metadata": {
    "colab": {
     "base_uri": "https://localhost:8080/",
     "height": 223
    },
    "id": "69ffe7e9-7ea6-426b-bb6c-131cf4b8cc64",
    "outputId": "bbf3ae67-ab98-40a3-f922-342ba8283247"
   },
   "outputs": [],
   "source": [
    "# merge merged_assessments with agg_clicks and assign it to merged_assessments\n",
    "merged_assessments_clicks = merged_assessments.merge(agg_clicks, how='outer', on=['module', 'presentation', 'id_student'],indicator=True)\n",
    "\n",
    "# change datatypes back sinvce merging changes them to defaults\n",
    "merged_assessments_clicks = merged_assessments_clicks.convert_dtypes()\n",
    "\n",
    "merged_assessments_clicks.head()"
   ]
  },
  {
   "cell_type": "markdown",
   "id": "836bc008-4a51-4062-88ef-8b9e9868c364",
   "metadata": {},
   "source": [
    "Above is our dataframe of assessment information merged with student click data."
   ]
  },
  {
   "cell_type": "markdown",
   "id": "c012eae2-028c-4627-9367-dd839cdab365",
   "metadata": {
    "id": "c012eae2-028c-4627-9367-dd839cdab365"
   },
   "source": [
    "**Students with clicks but no assessments**\n",
    "\n",
    "Here we will again check our `_merge` column to see if our data does not map from one dataframe to the other. We will first check on students that have click data with no assessment information."
   ]
  },
  {
   "cell_type": "code",
   "execution_count": null,
   "id": "5d917000-acde-43d0-8f7d-1b55d048a562",
   "metadata": {
    "colab": {
     "base_uri": "https://localhost:8080/",
     "height": 223
    },
    "id": "5d917000-acde-43d0-8f7d-1b55d048a562",
    "outputId": "703cabd5-92c4-43c3-dae9-84b7e1f9e525",
    "tags": []
   },
   "outputs": [],
   "source": [
    "# make dataframe where _merge column is right_only/only in VLE dataframe\n",
    "only_vle = merged_assessments_clicks.loc[merged_assessments_clicks['_merge'] == 'right_only']\n",
    "only_vle.head()"
   ]
  },
  {
   "cell_type": "code",
   "execution_count": null,
   "id": "1a9a0999-b5f6-4a9d-a432-6b7185a7a9bb",
   "metadata": {
    "colab": {
     "base_uri": "https://localhost:8080/",
     "height": 69
    },
    "id": "1a9a0999-b5f6-4a9d-a432-6b7185a7a9bb",
    "outputId": "4c6df113-ac46-4cda-f0d7-48655f0fd4fd"
   },
   "outputs": [],
   "source": [
    "# store length of dataframe of students with clicks but no assessments\n",
    "clicks_missing_students = \"{:,}\".format(len(only_vle))\n",
    "\n",
    "md(f'''\n",
    "In the above table we see {clicks_missing_students} click data accounts found only in the VLE dataframe. \n",
    "\n",
    "Unfortunately, click data without students to attach it to is not of much value and so these entries will be dropped.\n",
    "''')"
   ]
  },
  {
   "cell_type": "code",
   "execution_count": null,
   "id": "ae5cbd10-2fb0-406f-b0d7-31a4c2a16855",
   "metadata": {
    "id": "ae5cbd10-2fb0-406f-b0d7-31a4c2a16855"
   },
   "outputs": [],
   "source": [
    "# drop any NA values in id_assessment\n",
    "merged_assessments_clicks = merged_assessments_clicks.dropna(subset=['id_assessment'])"
   ]
  },
  {
   "cell_type": "markdown",
   "id": "e5cfa56b-df88-45c6-ae63-e9156e1a24fe",
   "metadata": {
    "id": "e5cfa56b-df88-45c6-ae63-e9156e1a24fe"
   },
   "source": [
    "**Students with assessments but no clicks**"
   ]
  },
  {
   "cell_type": "markdown",
   "id": "75cdfe1c-e677-42d9-b91b-a61192a176b6",
   "metadata": {
    "id": "75cdfe1c-e677-42d9-b91b-a61192a176b6"
   },
   "source": [
    "In this case a `_merge` result of `left_only` indicates the student entry was only found in assessments. We will now check on students who have assessment data, but no click data."
   ]
  },
  {
   "cell_type": "code",
   "execution_count": null,
   "id": "05a7dd49-e9a1-46fa-b8d6-af1c1f70eff8",
   "metadata": {
    "colab": {
     "base_uri": "https://localhost:8080/",
     "height": 223
    },
    "id": "05a7dd49-e9a1-46fa-b8d6-af1c1f70eff8",
    "outputId": "8ca40e27-d549-4343-f7d8-b7f04fdca893"
   },
   "outputs": [],
   "source": [
    "# display students with no click data\n",
    "only_assessments = merged_assessments_clicks.loc[merged_assessments_clicks['_merge'] == 'left_only']\n",
    "only_assessments.head()"
   ]
  },
  {
   "cell_type": "code",
   "execution_count": null,
   "id": "9f1bb777-1d01-463a-a1d3-c718842aab06",
   "metadata": {
    "colab": {
     "base_uri": "https://localhost:8080/",
     "height": 62
    },
    "id": "9f1bb777-1d01-463a-a1d3-c718842aab06",
    "outputId": "ecb77ddd-cd66-47db-f0b4-642cfc605a94"
   },
   "outputs": [],
   "source": [
    "# store length of dataframe of students with no clicks\n",
    "stud_w_no_clicks = \"{:,}\".format(len(only_assessments))\n",
    "\n",
    "md(f'''\n",
    "In the above table of students who have no click data we see that there are {stud_w_no_clicks} students found only in the \n",
    "assessments dataframe and have no click data associated with them. We will treat these as\n",
    "we treated the students in student info by adding the median of their whole module/presentation's student clicks to NA values.\n",
    "''')"
   ]
  },
  {
   "cell_type": "code",
   "execution_count": null,
   "id": "873f2c7a-f1d5-4211-93cd-6772cb1fc364",
   "metadata": {
    "id": "873f2c7a-f1d5-4211-93cd-6772cb1fc364"
   },
   "outputs": [],
   "source": [
    "# add module_presentation to merged_assessments_clicks find exact courses students took\n",
    "merged_assessments_clicks['module_presentation'] = merged_assessments_clicks['module'] + merged_assessments_clicks['presentation']\n",
    "\n",
    "# iterate through merged_assessments_clicks entries where avg_click or sum_click is NA\n",
    "for index, row in merged_assessments_clicks[merged_assessments_clicks['avg_click'].isna() | merged_assessments_clicks['sum_click'].isna()].iterrows():\n",
    "    # change merged_assessments_clicks avg_click at current index to the median of the student's module/presentation\n",
    "    merged_assessments_clicks.at[index, 'avg_click'] = merged_assessments_clicks.loc[(merged_assessments_clicks['module_presentation'] == row['module_presentation']), 'avg_click'].median()\n",
    "    # change merged_assessments_clicks sum_click at current index to the median of the student's module/presentation\n",
    "    merged_assessments_clicks.at[index, 'sum_click'] = int(merged_assessments_clicks.loc[(merged_assessments_clicks['module_presentation'] == row['module_presentation']), 'sum_click'].median())"
   ]
  },
  {
   "cell_type": "markdown",
   "id": "c089f6e5-20e0-43bc-bc76-fecbfbfa1ecb",
   "metadata": {},
   "source": [
    "#### Combine Student Info with Student Assessments"
   ]
  },
  {
   "cell_type": "markdown",
   "id": "54229d1a-8b54-4fb2-b036-a17c7b7678f3",
   "metadata": {
    "id": "54229d1a-8b54-4fb2-b036-a17c7b7678f3"
   },
   "source": [
    "Finally before we go further we will add student information for the student information dataframe to merged assessments.\n",
    "\n",
    "We do this so that we may predict student scores based on their information."
   ]
  },
  {
   "cell_type": "code",
   "execution_count": null,
   "id": "57223bec-5a35-4751-9539-0fce75df3960",
   "metadata": {
    "id": "57223bec-5a35-4751-9539-0fce75df3960"
   },
   "outputs": [],
   "source": [
    "# combine assessments and student info to predict scores based on student info\n",
    "merged_assessments_info = merged_assessments_clicks.merge(stud_info_clicks, on=['module', 'presentation', 'module_presentation', 'id_student', 'sum_click', 'avg_click'])"
   ]
  },
  {
   "cell_type": "markdown",
   "id": "f04c08bf-f2b2-41ee-b540-67696990ebde",
   "metadata": {
    "id": "f04c08bf-f2b2-41ee-b540-67696990ebde",
    "tags": [
     "remove-cell"
    ]
   },
   "source": [
    "## Analysis\n",
    "---\n",
    "\n",
    "In this section we will observe demographical and behavioral data in student info. This will be for the purpose of seeing who are students are and what they are doing only. We will not be looking at the relationship between these factors and student results until the next section."
   ]
  },
  {
   "cell_type": "markdown",
   "id": "471b2cc6-dfc4-496c-951f-a7fe0c992d98",
   "metadata": {
    "id": "471b2cc6-dfc4-496c-951f-a7fe0c992d98"
   },
   "source": [
    "```{note}\n",
    "First we will split the data into train/test sets to avoid any bias in model selection later.\n",
    "```"
   ]
  },
  {
   "cell_type": "code",
   "execution_count": null,
   "id": "3d5dc0f7-369a-4b83-bd29-aef5a41811ed",
   "metadata": {
    "id": "3d5dc0f7-369a-4b83-bd29-aef5a41811ed"
   },
   "outputs": [],
   "source": [
    "from sklearn.model_selection import train_test_split\n",
    "\n",
    "# split stud_info clicks into train/test sets stratified by module_presentation\n",
    "class_train, class_test = train_test_split(stud_info_clicks, test_size=0.2, random_state=42, stratify=stud_info_clicks['module_presentation'])"
   ]
  },
  {
   "cell_type": "markdown",
   "id": "183dcdd8-3b2e-42b9-936c-f7b4ed13d79a",
   "metadata": {
    "id": "183dcdd8-3b2e-42b9-936c-f7b4ed13d79a"
   },
   "source": [
    "### Univariate Analysis"
   ]
  },
  {
   "cell_type": "markdown",
   "id": "dc2b0e3b-52d6-45f1-9b98-16f05e9f72da",
   "metadata": {
    "id": "dc2b0e3b-52d6-45f1-9b98-16f05e9f72da"
   },
   "source": [
    "**Count of Students per course**"
   ]
  },
  {
   "cell_type": "code",
   "execution_count": null,
   "id": "1454ce10-3fd3-4e7b-8b7e-beeb928dfd1f",
   "metadata": {
    "colab": {
     "base_uri": "https://localhost:8080/",
     "height": 0
    },
    "id": "1454ce10-3fd3-4e7b-8b7e-beeb928dfd1f",
    "outputId": "bbf2ecac-43ce-4068-9977-77226923c14c"
   },
   "outputs": [],
   "source": [
    "# create crosstab of result counts per module/presentation\n",
    "modpres_res_counts = pd.crosstab(class_train['module_presentation'], values=class_train['result'], columns=class_train['result'], aggfunc='count')\n",
    "\n",
    "# reset the index to be consecutive\n",
    "modpres_res_counts = modpres_res_counts.reset_index()\n",
    "\n",
    "# change datatypes or frequencies to work with\n",
    "modpres_res_counts = modpres_res_counts.astype({'Distinction':int, 'Pass':int, 'Fail':int, 'Withdrawn':int})\n",
    "\n",
    "# get total of results\n",
    "modpres_res_counts['total'] = modpres_res_counts['Pass'] + modpres_res_counts['Fail'] + modpres_res_counts['Withdrawn'] + modpres_res_counts['Distinction']\n",
    "\n",
    "# divide individual results by total and multiple by 100 to get frequencies\n",
    "modpres_res_counts[['Distinction','Pass', 'Fail', 'Withdrawn']] = modpres_res_counts[['Distinction','Pass', 'Fail', 'Withdrawn']].div(modpres_res_counts['total'], axis=0) *100\n",
    "\n",
    "# reorder columns\n",
    "modpres_res_freq = modpres_res_counts[['module_presentation', 'Pass', 'Fail', 'Withdrawn', 'Distinction', 'total']]\n",
    "\n",
    "\n",
    "\n",
    "# sort modules by number of results and plot\n",
    "modpres_res_freq.sort_values(by='total').plot.bar(rot=90, x='module_presentation', y='total', title='Number of Students per Course', xlabel='Course', ylabel='Student Count', figsize=(10,5))"
   ]
  },
  {
   "cell_type": "markdown",
   "id": "b1809d1a-21f2-4273-ad94-43782ba661cf",
   "metadata": {
    "id": "b1809d1a-21f2-4273-ad94-43782ba661cf"
   },
   "source": [
    "In the above graph we can see BBB, CCC, DDD and FFF courses seem to have the most students regularly with AAA, GGG and EEE having the least number of students."
   ]
  },
  {
   "cell_type": "markdown",
   "id": "33b8d811-e479-4c34-9ee0-79a85ce36197",
   "metadata": {
    "id": "33b8d811-e479-4c34-9ee0-79a85ce36197"
   },
   "source": [
    "**Region**"
   ]
  },
  {
   "cell_type": "code",
   "execution_count": null,
   "id": "8d34ac33-536a-4cbd-b0b6-353fb5d2c83d",
   "metadata": {
    "colab": {
     "base_uri": "https://localhost:8080/",
     "height": 0
    },
    "id": "8d34ac33-536a-4cbd-b0b6-353fb5d2c83d",
    "outputId": "f467df0f-de16-4955-a281-e6a43160df18",
    "tags": [
     "remove_input"
    ]
   },
   "outputs": [],
   "source": [
    "# sorts regions by number of students per regino\n",
    "sorted_regions = class_train['region'].value_counts(ascending=True)\n",
    "\n",
    "# plot a count plot of number of students per region in ascending order\n",
    "plt.figure(figsize=(25, 3))\n",
    "plt.title('Student Region Distribution')\n",
    "sns.countplot(data=class_train, x=class_train['region'], order = sorted_regions.index).set(xlabel='Regions', ylabel='Student Count')\n",
    "plt.show()"
   ]
  },
  {
   "cell_type": "markdown",
   "id": "ce61eb1a-83b7-4096-8afb-b4b09957f4db",
   "metadata": {
    "id": "ce61eb1a-83b7-4096-8afb-b4b09957f4db"
   },
   "source": [
    "Above we can see the distribution of students by region. Our students come from various regions of the UK, Scotland, Ireland and Wales."
   ]
  },
  {
   "cell_type": "markdown",
   "id": "01051252-6c71-4708-80de-3e1d7511b135",
   "metadata": {
    "id": "01051252-6c71-4708-80de-3e1d7511b135"
   },
   "source": [
    "**IMD Band Counts**"
   ]
  },
  {
   "cell_type": "code",
   "execution_count": null,
   "id": "e9fe739b-2522-48e3-9335-874e89b82c3e",
   "metadata": {
    "colab": {
     "base_uri": "https://localhost:8080/",
     "height": 0
    },
    "id": "e9fe739b-2522-48e3-9335-874e89b82c3e",
    "outputId": "709134c1-8ff7-47c0-d43b-a5106af3d28a",
    "tags": [
     "remove_input"
    ]
   },
   "outputs": [],
   "source": [
    "# sorted list of unique imd categories\n",
    "imds = class_train[class_train['imd'].notna()]['imd'].sort_values().unique()\n",
    "\n",
    "# create a count plot of number of students per imd band ordered by band valuesa\n",
    "plt.figure(figsize=(25, 3))\n",
    "plt.title('Student IMD Band Distribution')\n",
    "sns.countplot(data=class_train, x=class_train['imd'], order=imds).set(xlabel='IMD Bands', ylabel='Student Count')"
   ]
  },
  {
   "cell_type": "markdown",
   "id": "a1adb3c3-6288-44bb-8356-1aef71ac46a0",
   "metadata": {
    "id": "a1adb3c3-6288-44bb-8356-1aef71ac46a0"
   },
   "source": [
    "In the above bar graph we see the distribution of students by IMD band. Many students seem to be in more deprived areas with a spike in students in the 10-20% band."
   ]
  },
  {
   "cell_type": "markdown",
   "id": "ef1feab0-c5fb-45e2-b505-f118e009753a",
   "metadata": {
    "id": "ef1feab0-c5fb-45e2-b505-f118e009753a"
   },
   "source": [
    "**Age Percentages**"
   ]
  },
  {
   "cell_type": "code",
   "execution_count": null,
   "id": "2d8cd428-d93f-488b-8f68-361095eb7fb2",
   "metadata": {
    "colab": {
     "base_uri": "https://localhost:8080/",
     "height": 0
    },
    "id": "2d8cd428-d93f-488b-8f68-361095eb7fb2",
    "outputId": "61f1e249-dd1e-495b-fc82-d28e747cfef4"
   },
   "outputs": [],
   "source": [
    "# ordered list of age_band possibilities\n",
    "ages = class_train['age'].sort_values().unique()\n",
    "\n",
    "# normalized value counts of age bands\n",
    "age_freqs = class_train['age'].value_counts(normalize=True)\n",
    "\n",
    "age_colors = ['green', 'gold', 'red']\n",
    "\n",
    "# make a pie chart of age groups in our data\n",
    "plt.figure(figsize=(25, 3))\n",
    "plt.title('Student Ages')\n",
    "plt.pie(data=class_train, x=age_freqs, labels=ages, autopct='%1.1f%%', startangle=90, colors=age_colors)\n",
    "plt.show()"
   ]
  },
  {
   "cell_type": "markdown",
   "id": "5091c6a1-89d3-4058-b7ff-7de8aafb62ab",
   "metadata": {
    "id": "5091c6a1-89d3-4058-b7ff-7de8aafb62ab"
   },
   "source": [
    "In the above pie chart of age bands we can see that nearly 70% of our students are under 35, just under 30% of our students and under 1% of students are age 55+."
   ]
  },
  {
   "cell_type": "markdown",
   "id": "e2a866f8-addd-44ba-ba99-568036865af3",
   "metadata": {
    "id": "e2a866f8-addd-44ba-ba99-568036865af3"
   },
   "source": [
    "**Gender Counts**"
   ]
  },
  {
   "cell_type": "code",
   "execution_count": null,
   "id": "7029e469-cb45-49aa-8671-f7abae9a2086",
   "metadata": {
    "colab": {
     "base_uri": "https://localhost:8080/",
     "height": 0
    },
    "id": "7029e469-cb45-49aa-8671-f7abae9a2086",
    "outputId": "a957b277-3fb3-4b76-c623-bce158c4411f"
   },
   "outputs": [],
   "source": [
    "# list of possible genders in data\n",
    "genders = ['M', 'F']\n",
    "\n",
    "# get normalized value counts of genders in data\n",
    "gender_freqs = class_train['gender'].value_counts(normalize=True)\n",
    "\n",
    "gen_colors = ['lightskyblue', 'pink']\n",
    "\n",
    "# make a pie chart of overall gender distribution\n",
    "plt.figure(figsize=(25, 3))\n",
    "plt.title('Student Genders')\n",
    "plt.pie(data=class_train, x=gender_freqs, autopct='%1.1f%%', startangle=90, colors=gen_colors)\n",
    "plt.legend(labels=genders, bbox_to_anchor=(.8,1), loc='upper left') "
   ]
  },
  {
   "cell_type": "markdown",
   "id": "f7c3724b-7087-4011-b5e1-31da303e6e53",
   "metadata": {
    "id": "f7c3724b-7087-4011-b5e1-31da303e6e53"
   },
   "source": [
    "In the above pie chart of gender distributions we see that the genders are fairly evenly distributed with males being slightly more represented in our student sample."
   ]
  },
  {
   "cell_type": "markdown",
   "id": "36dc01e2-def7-4231-8c85-0259d821f68a",
   "metadata": {
    "id": "36dc01e2-def7-4231-8c85-0259d821f68a"
   },
   "source": [
    "**Education**"
   ]
  },
  {
   "cell_type": "code",
   "execution_count": null,
   "id": "cc3b85cf-c6f1-4fa2-9f90-a16f1640605d",
   "metadata": {
    "colab": {
     "base_uri": "https://localhost:8080/",
     "height": 0
    },
    "id": "cc3b85cf-c6f1-4fa2-9f90-a16f1640605d",
    "outputId": "4570a72c-08a2-4d6f-e2db-5eb9c4737671"
   },
   "outputs": [],
   "source": [
    "# list of education possibilities in order \n",
    "educations = ['No Formal', 'Under A Level', 'A Level', 'HE', 'Post Grad']\n",
    "\n",
    "# create a bar graph/count plot of students per education level\n",
    "plt.figure(figsize=(20, 3))\n",
    "plt.title('Student Education Distribution')\n",
    "sns.countplot(data=class_train, x=class_train['education'], order=educations).set(xlabel= 'Student Education Level', ylabel='Student Count')"
   ]
  },
  {
   "cell_type": "markdown",
   "id": "0124875f-9f87-4967-b589-f492a649665f",
   "metadata": {
    "id": "0124875f-9f87-4967-b589-f492a649665f"
   },
   "source": [
    "In the above chart of the distribution of levels of formal education we see that most of our students fall Under A Level or at A Level as their furthest education. \n",
    "\n",
    "Post Grad Students and students with no formal education are underrespresented."
   ]
  },
  {
   "cell_type": "markdown",
   "id": "ddb2efdb-24b3-4104-a6a2-2a8f20063053",
   "metadata": {
    "id": "ddb2efdb-24b3-4104-a6a2-2a8f20063053"
   },
   "source": [
    "**Disability Percentage**"
   ]
  },
  {
   "cell_type": "code",
   "execution_count": null,
   "id": "73b2046f-975c-4c63-8140-d0d521090b84",
   "metadata": {
    "colab": {
     "base_uri": "https://localhost:8080/",
     "height": 0
    },
    "id": "73b2046f-975c-4c63-8140-d0d521090b84",
    "outputId": "b90b3fe8-fa8e-4c30-9184-72d7e42a409c"
   },
   "outputs": [],
   "source": [
    "# ordered disability list\n",
    "disabilities=['No Disability', 'Disability']\n",
    "\n",
    "# get normalized value counts of disabilties in data\n",
    "disability_freqs = class_train['disability'].value_counts(normalize=True)\n",
    "\n",
    "dis_colors = ['green', 'gold']\n",
    "\n",
    "# create pie chart of students with and without disabilities\n",
    "plt.figure(figsize=(25, 3))\n",
    "plt.title('Student Disabilities')\n",
    "plt.pie(data=class_train, x=disability_freqs, autopct='%1.1f%%', startangle=90, colors=dis_colors)\n",
    "plt.legend(labels=disabilities, loc='upper left', bbox_to_anchor=(.9,1))"
   ]
  },
  {
   "cell_type": "markdown",
   "id": "ef448b7f-efa2-482a-819f-4ff5e57c9238",
   "metadata": {
    "id": "ef448b7f-efa2-482a-819f-4ff5e57c9238"
   },
   "source": [
    "In the above pie chart of the distribution of disabled to non-disabled students we see that under 10% of our students identified as having disabilities and so are underrepresented in this group."
   ]
  },
  {
   "cell_type": "markdown",
   "id": "11c563ec-1229-4702-9f18-d3aa6372cc60",
   "metadata": {
    "id": "11c563ec-1229-4702-9f18-d3aa6372cc60"
   },
   "source": [
    "**Results Percentages**"
   ]
  },
  {
   "cell_type": "code",
   "execution_count": null,
   "id": "f5625f3c-fedf-44fc-aa7b-7a58bf57ee6e",
   "metadata": {
    "colab": {
     "base_uri": "https://localhost:8080/",
     "height": 0
    },
    "id": "f5625f3c-fedf-44fc-aa7b-7a58bf57ee6e",
    "outputId": "f96570a1-c663-4507-c0e0-e9bb03cb550e",
    "tags": []
   },
   "outputs": [],
   "source": [
    "# list of result possibilities\n",
    "results = ['Pass', 'Fail', 'Withdrawn', 'Distinction']\n",
    "\n",
    "# get normalized value counts of results\n",
    "result_freqs = class_train['result'].value_counts(normalize=True)\n",
    "\n",
    "results_colors = ['MediumSeaGreen', 'Tomato', 'LightGray','SlateBlue']\n",
    "\n",
    "# convert values to percentages\n",
    "pass_perc = round((result_freqs[0] * 100), 1)\n",
    "withdraw_perc = round((result_freqs[1] * 100), 1)\n",
    "fail_perc = round((result_freqs[2] * 100), 1)\n",
    "distinct_perc = round((result_freqs[3] * 100), 1)\n",
    "results_percs = [pass_perc, fail_perc, withdraw_perc, distinct_perc]\n",
    "\n",
    "# create pie chart of results by percentage\n",
    "fig1, ax = plt.subplots()\n",
    "ax.pie(results_percs, labels=results, autopct='%1.1f%%', startangle=90,colors=results_colors)\n",
    "ax.axis('equal')  # Equal aspect ratio ensures that pie is drawn as a circle.\n",
    "plt.title('Student Results')\n",
    "plt.show()"
   ]
  },
  {
   "cell_type": "code",
   "execution_count": null,
   "id": "a5bc7726-a3b1-4d3b-bbb6-198402115e5b",
   "metadata": {
    "colab": {
     "base_uri": "https://localhost:8080/",
     "height": 0
    },
    "id": "a5bc7726-a3b1-4d3b-bbb6-198402115e5b",
    "outputId": "ec0f2f3e-c78d-4ed7-ad11-e6b4556cc7b4",
    "tags": [
     "remove_input"
    ]
   },
   "outputs": [],
   "source": [
    "# get the percentage of students who failed or withdrew\n",
    "neg_result = round(fail_perc + withdraw_perc)\n",
    "\n",
    "# store the percentage of students who passed or passed with distinction\n",
    "pos_result = round(pass_perc + distinct_perc)\n",
    "\n",
    "md(f'''\n",
    "Above we can see that students have a negative result of withdrawing or failing nearly **{neg_result}%** of the time,\n",
    "with around **{pos_result}%** of students achieving a positive result of passing or passing with distinction.\n",
    "''')"
   ]
  },
  {
   "cell_type": "markdown",
   "id": "ecb1a9f5-e922-4743-9001-a53436365d6f",
   "metadata": {
    "id": "ecb1a9f5-e922-4743-9001-a53436365d6f"
   },
   "source": [
    "### Bivariate "
   ]
  },
  {
   "cell_type": "markdown",
   "id": "b56a4869-51b7-4375-b349-4930e0f9e0b9",
   "metadata": {
    "id": "b56a4869-51b7-4375-b349-4930e0f9e0b9"
   },
   "source": [
    "**Results per Module/Presentation**"
   ]
  },
  {
   "cell_type": "code",
   "execution_count": null,
   "id": "00a4116d-6820-4457-90cb-af06aa28f552",
   "metadata": {
    "colab": {
     "base_uri": "https://localhost:8080/",
     "height": 0
    },
    "id": "00a4116d-6820-4457-90cb-af06aa28f552",
    "outputId": "cb5a844d-3adb-429d-924d-6c50454f209c",
    "tags": []
   },
   "outputs": [],
   "source": [
    "# create crosstab of result counts per module/presentation\n",
    "modpres_res_counts = pd.crosstab(class_train['module_presentation'], values=class_train['result'], columns=class_train['result'], aggfunc='count')\n",
    "\n",
    "# reset the index to be consecutive\n",
    "modpres_res_counts = modpres_res_counts.reset_index()\n",
    "\n",
    "# change datatypes or frequencies to work with\n",
    "modpres_res_counts = modpres_res_counts.astype({'Distinction':int, 'Pass':int, 'Fail':int, 'Withdrawn':int})\n",
    "\n",
    "# get total of results\n",
    "modpres_res_counts['total'] = modpres_res_counts['Pass'] + modpres_res_counts['Fail'] + modpres_res_counts['Withdrawn'] + modpres_res_counts['Distinction']\n",
    "\n",
    "# divide individual results by total and multiple by 100 to get frequencies\n",
    "modpres_res_counts[['Distinction','Pass', 'Fail', 'Withdrawn']] = modpres_res_counts[['Distinction','Pass', 'Fail', 'Withdrawn']].div(modpres_res_counts['total'], axis=0) *100\n",
    "\n",
    "# reorder columns\n",
    "modpres_res_freq = modpres_res_counts[['module_presentation', 'Pass', 'Fail', 'Withdrawn', 'Distinction', 'total']]\n",
    "\n",
    "# get bar charts of frequencies per result per module/presentation\n",
    "nrows = 2\n",
    "ncols = 2\n",
    "fig, axes = plt.subplots(figsize=(24, 16) , nrows = nrows, ncols = ncols)\n",
    "plt.subplots_adjust(wspace=.05, hspace=.3)\n",
    "modpres_res_freq.sort_values(by='Pass').plot.bar(rot=90, ax=axes[0][0], x='module_presentation', y='Pass', title='% of Student Passes Per Course', xlabel='Course', ylabel='Student Count', color='MediumSeaGreen')\n",
    "modpres_res_freq.sort_values(by='Fail').plot.bar(rot=90, ax=axes[0][1], x='module_presentation', y='Fail', title='% of Student Failures Per Course', xlabel='Course', ylabel='Student Count', color='Tomato')\n",
    "modpres_res_freq.sort_values(by='Withdrawn').plot.bar(rot=90, ax=axes[1][0], x='module_presentation', y='Withdrawn', title='% of Student Withdraws Per Course', xlabel='Course', ylabel='Student Count', color='LightGray')\n",
    "modpres_res_freq.sort_values(by='Distinction').plot.bar(rot=90, ax=axes[1][1], x='module_presentation', y='Distinction', title='% of Students with Distinction Per Course',xlabel='Course', ylabel='Student Count', color='SlateBlue')"
   ]
  },
  {
   "cell_type": "markdown",
   "id": "0441874b-634d-48f4-89c6-ae5b77a3a299",
   "metadata": {
    "id": "0441874b-634d-48f4-89c6-ae5b77a3a299"
   },
   "source": [
    "The above graphs represent student results per module.\n",
    "\n",
    "Though the AAA module is the least popular, in the first graph we see that students in those module seem to have a noticably higher pass percentage than those in other modules.\n",
    "\n",
    "In the second graph we see that GGG modules having the highest percentage of failing students. The results of GGG could be that the full course weight of GGG is on that final exam giving students no chance to balance a poor final performance.\n",
    "\n",
    "In the third and fourth graphs we see that the GGG module has the lowest amount of withdrawals and the highest number of students who passed with distinction. It also has the highest number of failed students.\n",
    "\n",
    "Also noticable here is that the courses which we noted had the highest amount of students have a high amount of failures and withdrawals. It would be interesting to see if class size had an effect on student success, so we will add the column `class_size` reflecting the size of the class each student is enrolled in."
   ]
  },
  {
   "cell_type": "code",
   "execution_count": null,
   "id": "48ea0fc0-37ff-4b40-90c8-de6281493c38",
   "metadata": {
    "id": "48ea0fc0-37ff-4b40-90c8-de6281493c38",
    "tags": []
   },
   "outputs": [],
   "source": [
    "# make a pivot table with the count of student id's per module/presentation\n",
    "class_size = class_train.pivot_table(values='id_student', index='module_presentation', aggfunc='count')\n",
    "\n",
    "# merge student info with the class size table to add class size to student info in train/test sets\n",
    "stud_info_train = class_train.merge(class_size, how='outer', on='module_presentation')\n",
    "stud_info_test = class_test.merge(class_size, how='outer', on='module_presentation')\n",
    "\n",
    "# rename the duped id student column to the appropriate class_size\n",
    "stud_info_train.rename(columns={'id_student_y':'class_size', 'id_student_x':'id_student'}, inplace=True)\n",
    "stud_info_test.rename(columns={'id_student_y':'class_size', 'id_student_x':'id_student'}, inplace=True)\n",
    "\n",
    "# merge assessments info with the class size table to add class size to assessments\n",
    "assessments_class_size = merged_assessments_info.merge(class_size, how='outer', on='module_presentation')\n",
    "\n",
    "# rename the duped id student column to the appropriate class_size\n",
    "assessments_class_size.rename(columns={'id_student_y':'class_size', 'id_student_x':'id_student'}, inplace=True)\n",
    "\n",
    "#drop result column from assessments since we won't be predicting that with this dataframe\n",
    "assessments_class_size = assessments_class_size.drop(columns='result')\n",
    "\n",
    "# make train/test split of assessment data to avoid bias\n",
    "reg_train, reg_test = train_test_split(assessments_class_size, test_size=0.2, random_state=42, stratify=assessments_class_size['module_presentation'])"
   ]
  },
  {
   "cell_type": "markdown",
   "id": "c7510a6f-a3b4-4ddf-9e3c-e25b6a3908dc",
   "metadata": {
    "id": "c7510a6f-a3b4-4ddf-9e3c-e25b6a3908dc"
   },
   "source": [
    "**Results per Region**"
   ]
  },
  {
   "cell_type": "code",
   "execution_count": null,
   "id": "4b4307be-77e3-4e75-ab87-6041151aeb33",
   "metadata": {
    "colab": {
     "base_uri": "https://localhost:8080/",
     "height": 0
    },
    "id": "4b4307be-77e3-4e75-ab87-6041151aeb33",
    "outputId": "a86b60a8-0971-488d-e327-82828d0544c4"
   },
   "outputs": [],
   "source": [
    "# get bar charts of frequencies per result per module/presentation\n",
    "nrows = 2\n",
    "ncols = 2\n",
    "fig, axes = plt.subplots(figsize=(24, 16) , nrows = nrows, ncols = ncols)\n",
    "plt.subplots_adjust(wspace=.05, hspace=.3)\n",
    "region_res_freq = pd.crosstab(class_train['region'], values=class_train['result'], columns=class_train['result'], aggfunc='count', normalize='index').reset_index()\n",
    "region_res_freq.sort_values(by='Pass').plot.bar(rot=90, ax=axes[0][0], x='region', y='Pass', title='% of Student Passes Per Course', xlabel='Region', ylabel='Student Frequency', color='MediumSeaGreen')\n",
    "region_res_freq.sort_values(by='Fail').plot.bar(rot=90, ax=axes[0][1], x='region', y='Fail', title='% of Student Failures Per Course', xlabel='Region', ylabel='Student Frequency', color='Tomato')\n",
    "region_res_freq.sort_values(by='Withdrawn').plot.bar(rot=90, ax=axes[1][0], x='region', y='Withdrawn', title='% of Student Withdraws Per Course', xlabel='Region', ylabel='Student Frequency', color='LightGray')\n",
    "region_res_freq.sort_values(by='Distinction').plot.bar(rot=90, ax=axes[1][1], x='region', y='Distinction', title='% of Students with Distinction Per Course',xlabel='Region', ylabel='Student Frequency', color='SlateBlue')"
   ]
  },
  {
   "cell_type": "markdown",
   "id": "d9ebf244-f089-4e25-b6c4-1dbcf995db97",
   "metadata": {
    "id": "d9ebf244-f089-4e25-b6c4-1dbcf995db97"
   },
   "source": [
    "Above we can see that Ireland, though it had the lowest number of students, had the highest percentage of students who passed, and the lowest percentage of withdrawals. Wales had the highest number of Failed students and the North had the highest number of distinctions. Let's now look at IMD bands and the results of students based on their IMD band. "
   ]
  },
  {
   "cell_type": "markdown",
   "id": "87daa7a1-366c-4151-9068-212f174cafba",
   "metadata": {
    "id": "87daa7a1-366c-4151-9068-212f174cafba"
   },
   "source": [
    "**Results per IMD Band**"
   ]
  },
  {
   "cell_type": "code",
   "execution_count": null,
   "id": "21bda7e2-5c03-47e3-a4dd-bfdd98ec6839",
   "metadata": {
    "colab": {
     "base_uri": "https://localhost:8080/",
     "height": 0
    },
    "id": "21bda7e2-5c03-47e3-a4dd-bfdd98ec6839",
    "outputId": "fb2e112a-3620-4239-8b70-d92278962d97",
    "tags": []
   },
   "outputs": [],
   "source": [
    "\n",
    "# get bar charts of frequencies per result per module/presentation\n",
    "nrows = 2\n",
    "ncols = 2\n",
    "fig, axes = plt.subplots(figsize=(24, 16) , nrows = nrows, ncols = ncols)\n",
    "plt.subplots_adjust(wspace=.05, hspace=.3)\n",
    "imd_res_freq = pd.crosstab(class_train['imd'], values=class_train['result'], columns=class_train['result'], aggfunc='count', normalize='index').reset_index()\n",
    "imd_res_freq.sort_values(by='Pass').plot.bar(rot=90, ax=axes[0][0], x='imd', y='Pass', title='% of Student Passes Per Course', xlabel='IMD Band', ylabel='Student Frequency', color='MediumSeaGreen')\n",
    "imd_res_freq.sort_values(by='Fail').plot.bar(rot=90, ax=axes[0][1], x='imd', y='Fail', title='% of Student Failures Per Course', xlabel='IMD Band', ylabel='Student Frequency', color='Tomato')\n",
    "imd_res_freq.sort_values(by='Withdrawn').plot.bar(rot=90, ax=axes[1][0], x='imd', y='Withdrawn', title='% of Student Withdraws Per Course', xlabel='IMD Band', ylabel='Student Frequency', color='LightGray')\n",
    "imd_res_freq.sort_values(by='Distinction').plot.bar(rot=90, ax=axes[1][1], x='imd', y='Distinction', title='% of Students with Distinction Per Course',xlabel='IMD Band', ylabel='Student Frequency', color='SlateBlue')"
   ]
  },
  {
   "cell_type": "markdown",
   "id": "1b98fd8d-b785-432d-a504-a4c4383ee816",
   "metadata": {
    "id": "1b98fd8d-b785-432d-a504-a4c4383ee816"
   },
   "source": [
    "It is clear in the above charts that students from more deprived areas are failing and withdrawing more. In fact it runs almost consecutively where the more deprived an area, the worse a student does and vice versa. "
   ]
  },
  {
   "cell_type": "markdown",
   "id": "218fb042-da86-453e-b62e-63b97154b76a",
   "metadata": {
    "id": "218fb042-da86-453e-b62e-63b97154b76a"
   },
   "source": [
    "**Results per Age Group**"
   ]
  },
  {
   "cell_type": "code",
   "execution_count": null,
   "id": "3d368958-9117-4ce6-add6-c32111993b73",
   "metadata": {
    "colab": {
     "base_uri": "https://localhost:8080/",
     "height": 0
    },
    "id": "3d368958-9117-4ce6-add6-c32111993b73",
    "outputId": "ce4b7385-6e2e-4608-973b-a14fefcdaf46"
   },
   "outputs": [],
   "source": [
    "# get crosstab of student result counts per module/presentation\n",
    "age_res_freq = pd.crosstab(class_train['age'], values=class_train['result'], columns=class_train['result'], aggfunc='count', normalize='index')\n",
    "\n",
    "# ordered list of results\n",
    "age_res_freq = age_res_freq[['Pass', 'Fail', 'Withdrawn', 'Distinction']]\n",
    "\n",
    "# make pie charts of results per module/presentation\n",
    "fig, axes = plt.subplots(2, 2, figsize=(10, 10))\n",
    "\n",
    "for i, (idx, row) in enumerate(age_res_freq.iterrows()):\n",
    "    ax = axes[i // 2, i % 2]\n",
    "    row = row[row.gt(row.sum() * .01)]\n",
    "    ax.pie(row, startangle=90, labels=results, autopct='%1.1f%%', colors=results_colors)\n",
    "    ax.set_title(idx)\n",
    "else:\n",
    "    [ax.set_visible(False) for ax in axes.flatten()[i+1:]]\n",
    "    \n",
    "ax.legend(labels=results, bbox_to_anchor=(1,1.5), loc='upper left') \n",
    "fig.subplots_adjust(wspace=.5)"
   ]
  },
  {
   "cell_type": "markdown",
   "id": "4323210f-2b3a-45a6-a324-253067ca6937",
   "metadata": {
    "id": "4323210f-2b3a-45a6-a324-253067ca6937"
   },
   "source": [
    "In these pie charts we can see that each age group has a very similar distribution of overall results. The noticable difference is older students seem to be more likely to pass with distinction."
   ]
  },
  {
   "cell_type": "markdown",
   "id": "4502125a-a1e3-40c4-a904-0c69e8f5f5eb",
   "metadata": {
    "id": "4502125a-a1e3-40c4-a904-0c69e8f5f5eb"
   },
   "source": [
    "**Results per Gender**"
   ]
  },
  {
   "cell_type": "code",
   "execution_count": null,
   "id": "55ef520a-8d47-45b7-98b2-019bf8efd497",
   "metadata": {
    "colab": {
     "base_uri": "https://localhost:8080/",
     "height": 0
    },
    "id": "55ef520a-8d47-45b7-98b2-019bf8efd497",
    "outputId": "59f467e5-dfa2-4565-d2a1-fd48a5bcbc86"
   },
   "outputs": [],
   "source": [
    "# get crosstab of student result counts per module/presentation\n",
    "gen_res_freq = pd.crosstab(class_train['gender'], values=class_train['result'], columns=class_train['result'], aggfunc='count', normalize='index')\n",
    "\n",
    "# ordered list of results\n",
    "gen_res_freq = gen_res_freq[['Pass', 'Fail', 'Withdrawn', 'Distinction']]\n",
    "\n",
    "# make pie charts of results per module/presentation\n",
    "fig, axes = plt.subplots(2, 2, figsize=(10, 10))\n",
    "\n",
    "for i, (idx, row) in enumerate(gen_res_freq.iterrows()):\n",
    "    ax = axes[i // 2, i % 2]\n",
    "    row = row[row.gt(row.sum() * .01)]\n",
    "    ax.pie(row, startangle=90, labels=results, autopct='%1.1f%%', colors=results_colors)\n",
    "    ax.set_title(idx)\n",
    "else:\n",
    "    [ax.set_visible(False) for ax in axes.flatten()[i+1:]]\n",
    "    \n",
    "ax.legend(labels=results, bbox_to_anchor=(1,1.5), loc='upper left') \n",
    "fig.subplots_adjust(wspace=.5)"
   ]
  },
  {
   "cell_type": "markdown",
   "id": "0ea62031-aff2-4c85-8d8e-aed0f9d20482",
   "metadata": {
    "id": "0ea62031-aff2-4c85-8d8e-aed0f9d20482"
   },
   "source": [
    "In these pie charts of result per gender we can see  taht each gender seems to perform similarly in courses."
   ]
  },
  {
   "cell_type": "markdown",
   "id": "d707fa07-0d8c-4990-a5e5-df0d7889485a",
   "metadata": {
    "id": "d707fa07-0d8c-4990-a5e5-df0d7889485a"
   },
   "source": [
    "**Results per disability**"
   ]
  },
  {
   "cell_type": "code",
   "execution_count": null,
   "id": "960015ce-58a6-4214-9b9c-493a2001b37c",
   "metadata": {
    "colab": {
     "base_uri": "https://localhost:8080/",
     "height": 0
    },
    "id": "960015ce-58a6-4214-9b9c-493a2001b37c",
    "outputId": "7e330ac3-a6e3-4774-bddd-eb65e1be0713"
   },
   "outputs": [],
   "source": [
    "# get crosstab of student result counts per module/presentation\n",
    "dis_res_freq = pd.crosstab(class_train['disability'], values=class_train['result'], columns=class_train['result'], aggfunc='count', normalize='index')\n",
    "\n",
    "# ordered list of results\n",
    "dis_res_freq = dis_res_freq[['Pass', 'Fail', 'Withdrawn', 'Distinction']]\n",
    "\n",
    "# make pie charts of results per module/presentation\n",
    "fig, axes = plt.subplots(2, 2, figsize=(10, 10))\n",
    "\n",
    "for i, (idx, row) in enumerate(dis_res_freq.iterrows()):\n",
    "    ax = axes[i // 2, i % 2]\n",
    "    row = row[row.gt(row.sum() * .01)]\n",
    "    ax.pie(row, startangle=90, labels=results, autopct='%1.1f%%', colors=results_colors)\n",
    "    ax.set_title(idx)\n",
    "else:\n",
    "    [ax.set_visible(False) for ax in axes.flatten()[i+1:]]\n",
    "    \n",
    "ax.legend(labels=results, bbox_to_anchor=(1,1.5), loc='upper left') \n",
    "fig.subplots_adjust(wspace=.5)"
   ]
  },
  {
   "cell_type": "markdown",
   "id": "f87033d5-9363-412b-85e6-92bc9af81f9b",
   "metadata": {
    "id": "f87033d5-9363-412b-85e6-92bc9af81f9b"
   },
   "source": [
    "In these charts of resultes per disability identificaiton we see that disabled students do not seem to be failing much more frequently, but the withdrawal rate is much higher in students who identify as having a disability."
   ]
  },
  {
   "cell_type": "markdown",
   "id": "d0ad8684-32ff-463c-9ea7-18db5da8db40",
   "metadata": {
    "id": "d0ad8684-32ff-463c-9ea7-18db5da8db40"
   },
   "source": [
    "**Gender per Module**"
   ]
  },
  {
   "cell_type": "code",
   "execution_count": null,
   "id": "dee1a523-9ad3-417e-bec0-b88430cea7f2",
   "metadata": {
    "colab": {
     "base_uri": "https://localhost:8080/",
     "height": 0
    },
    "id": "dee1a523-9ad3-417e-bec0-b88430cea7f2",
    "outputId": "866d6bfa-6006-406e-ca4d-652a120f02c3"
   },
   "outputs": [],
   "source": [
    "# makes a crosstab of genders per module/presentation\n",
    "gender_res_freq = pd.crosstab(class_train['module_presentation'], values=class_train['gender'], columns=class_train['gender'], aggfunc='count', normalize='index')\n",
    "\n",
    "# order the genders\n",
    "gender_res_freq = gender_res_freq[['M','F']]\n",
    "\n",
    "# make a pie chart of gender distribution per module/presentation\n",
    "fig, axes = plt.subplots(4, 6, figsize=(15, 10))\n",
    "\n",
    "for i, (idx, row) in enumerate(gender_res_freq.iterrows()):\n",
    "    ax = axes[i // 6, i % 6]\n",
    "    row = row[row.gt(row.sum() * .01)]\n",
    "    ax.pie(row, labels=row.index, startangle=30, colors=['lightskyblue', 'pink'])\n",
    "    ax.set_title(idx)\n",
    "else:\n",
    "    [ax.set_visible(False) for ax in axes.flatten()[i+1:]]\n",
    "\n",
    "fig.subplots_adjust(wspace=.2)"
   ]
  },
  {
   "cell_type": "markdown",
   "id": "1c76f8e8-467c-4b03-9c9a-52b4df2bfac9",
   "metadata": {
    "id": "1c76f8e8-467c-4b03-9c9a-52b4df2bfac9"
   },
   "source": [
    "From these charts of student gender distribution per module it seems that GGG and BBB courses attract many more females than males, while The rest of the courses are dominated by male students."
   ]
  },
  {
   "cell_type": "markdown",
   "id": "300ccd77-a8f3-455a-b4bf-9552abcb9178",
   "metadata": {
    "id": "300ccd77-a8f3-455a-b4bf-9552abcb9178"
   },
   "source": [
    "**Age per Module**"
   ]
  },
  {
   "cell_type": "code",
   "execution_count": null,
   "id": "dd13009d-a00c-4ff6-8590-0264d2bde8c1",
   "metadata": {
    "colab": {
     "base_uri": "https://localhost:8080/",
     "height": 0
    },
    "id": "dd13009d-a00c-4ff6-8590-0264d2bde8c1",
    "outputId": "00e16b74-e44e-4d1a-c2ea-606c98dacd7c",
    "tags": []
   },
   "outputs": [],
   "source": [
    "# make crosstab of counts of student ages per module/presentation\n",
    "stud_age_freq = pd.crosstab(class_train['module_presentation'], values=class_train['age'], columns=class_train['age'], aggfunc='count', normalize='index')\n",
    "\n",
    "# make a pie chart for each module_presentation of counts of student ages\n",
    "\n",
    "fig, axes = plt.subplots(4, 6, figsize=(15, 10))\n",
    "\n",
    "for i, (idx, row) in enumerate(stud_age_freq.iterrows()):\n",
    "    ax = axes[i // 6, i % 6]\n",
    "    row = row[row.gt(row.sum() * .01)]\n",
    "    ax.pie(row, labels=row.index, startangle=90, colors=['green', 'gold', 'red'])\n",
    "    ax.set_title(idx)\n",
    "else:\n",
    "    [ax.set_visible(False) for ax in axes.flatten()[i+1:]]\n",
    "\n",
    "fig.subplots_adjust(wspace=.2)"
   ]
  },
  {
   "cell_type": "markdown",
   "id": "c44fc283-f1f5-4717-8660-91b18f89ac0a",
   "metadata": {
    "id": "c44fc283-f1f5-4717-8660-91b18f89ac0a"
   },
   "source": [
    "In these charts of age distribution per module it seems that many of our students over 35 were interested in the AAA class which also contains the bulk of our 55+ students. There is also a higher representation of older students in the BBB and GGG courses. The rest of the courses are, as expected, dominated by younger students."
   ]
  },
  {
   "cell_type": "markdown",
   "id": "ff726962-ffec-46e6-9b18-fa263193651e",
   "metadata": {
    "id": "ff726962-ffec-46e6-9b18-fa263193651e"
   },
   "source": [
    "**Scores per Assessment Type**"
   ]
  },
  {
   "cell_type": "code",
   "execution_count": null,
   "id": "b375c34d-edee-4b53-ab70-89aca4091b43",
   "metadata": {
    "colab": {
     "base_uri": "https://localhost:8080/",
     "height": 0
    },
    "id": "b375c34d-edee-4b53-ab70-89aca4091b43",
    "outputId": "481841cb-0958-4541-ae92-f8280424518a"
   },
   "outputs": [],
   "source": [
    "# make a box plot of each assessment type and their scores\n",
    "sns.catplot(x='assessment_type', y='score', data=reg_train, kind='box')"
   ]
  },
  {
   "cell_type": "markdown",
   "id": "31305221-1d1a-49f9-965f-ccc465c2c362",
   "metadata": {
    "id": "31305221-1d1a-49f9-965f-ccc465c2c362"
   },
   "source": [
    "According to our plots above computer marked exams get the best average scores, followed by the tutor marked exams and then the final exams."
   ]
  },
  {
   "cell_type": "markdown",
   "id": "15b95789-7c15-4e28-adc2-50b78a9d440c",
   "metadata": {
    "id": "15b95789-7c15-4e28-adc2-50b78a9d440c"
   },
   "source": [
    "**Sum of Clicks to Assessment Scores**"
   ]
  },
  {
   "cell_type": "code",
   "execution_count": null,
   "id": "c468d9a5-ed83-4e9d-ac8a-053d0c52797c",
   "metadata": {
    "id": "c468d9a5-ed83-4e9d-ac8a-053d0c52797c"
   },
   "outputs": [],
   "source": [
    "# store the correlation coef of sum_click to score\n",
    "click_to_score = reg_train['sum_click'].astype(int).corr(reg_train['score'].astype(int))"
   ]
  },
  {
   "cell_type": "code",
   "execution_count": null,
   "id": "4f178109-bfcd-4a3c-981f-f2ce020016e4",
   "metadata": {
    "colab": {
     "base_uri": "https://localhost:8080/",
     "height": 0
    },
    "id": "4f178109-bfcd-4a3c-981f-f2ce020016e4",
    "outputId": "c57437c4-f824-4559-f56f-ae96d4bb9f7c"
   },
   "outputs": [],
   "source": [
    "# make a scatter plot of sum click to score\n",
    "plt.figure(figsize=(10, 10))\n",
    "plt.title('Student Scores to Overall Clicks')\n",
    "plt.xlabel(\"Student Scores\")\n",
    "plt.ylabel(\"Sum of Student Clicks\")\n",
    "plt.scatter(data=reg_train, y='sum_click', x='score', alpha=.05)"
   ]
  },
  {
   "cell_type": "code",
   "execution_count": null,
   "id": "b0a0785d-1127-4ff6-92ce-786d37701e96",
   "metadata": {
    "colab": {
     "base_uri": "https://localhost:8080/",
     "height": 0
    },
    "id": "b0a0785d-1127-4ff6-92ce-786d37701e96",
    "outputId": "4194c82b-dfbc-47f8-f8fc-035cc0d15ce9",
    "tags": [
     "remove_input"
    ]
   },
   "outputs": [],
   "source": [
    "md(f'''\n",
    "In the above scatter plot we see that there is a very weak positive correlation according to our correlational coefficient of \n",
    "{round(click_to_score, 2)} between with the sum of clicks and student score. Interestingly there is a spike of scores at 0 where \n",
    "it looks like students with no clicks do better than students with around 5-20 clicks. \n",
    "\n",
    "Let's take a look at these students who have high scores, but low clicks.\n",
    "''')"
   ]
  },
  {
   "cell_type": "code",
   "execution_count": null,
   "id": "dec0ba83-7e62-4c7e-be43-a005e8ec7455",
   "metadata": {
    "colab": {
     "base_uri": "https://localhost:8080/",
     "height": 0
    },
    "id": "dec0ba83-7e62-4c7e-be43-a005e8ec7455",
    "outputId": "a3474928-3e5a-449b-b8df-46e51dec65e0"
   },
   "outputs": [],
   "source": [
    "# dataframe of students who had a sum click of under 1000 \n",
    "reg_train[reg_train['sum_click'] < 1000].sort_values('score', ascending=False).head(40)"
   ]
  },
  {
   "cell_type": "markdown",
   "id": "729815a3-57a6-4bc9-89c7-3bcd4a106ec0",
   "metadata": {
    "id": "729815a3-57a6-4bc9-89c7-3bcd4a106ec0"
   },
   "source": [
    "The above dataframe contains all students who have high scoresand low clicks.\n",
    "\n",
    "Taking a look at the top 40 scores in students who had a sum_click under 20 but great scores, it looks like many are from the BBB module, the date submitted was either -1, the day before the course began, or otherwise very early in the course and the weight of these exams were zero to one. Perhaps this exam was one where students could not get wrong answers. \n",
    "\n",
    "Let's pick one of these zero weight exams and see what scores other students received."
   ]
  },
  {
   "cell_type": "code",
   "execution_count": null,
   "id": "fc703b2a-be1b-4b59-8d92-cce77f35dad5",
   "metadata": {
    "colab": {
     "base_uri": "https://localhost:8080/",
     "height": 0
    },
    "id": "fc703b2a-be1b-4b59-8d92-cce77f35dad5",
    "outputId": "7129f7da-7a4d-485c-c338-95e7a91513ce"
   },
   "outputs": [],
   "source": [
    "# dataframe of students with 15003 assessment id and their scores\n",
    "dataframe(reg_train[reg_train['id_assessment'] =='15003'].sort_values('score')['score'].value_counts(normalize=True))"
   ]
  },
  {
   "cell_type": "markdown",
   "id": "1f8ced1a-7ba9-4716-a19b-33f15572df62",
   "metadata": {
    "id": "1f8ced1a-7ba9-4716-a19b-33f15572df62"
   },
   "source": [
    "Based on the above dataframe of score frequency for this exam this was probably an easy exam as so many students got 100 points. It is exams like this that are causing our spike at zero though.\n",
    "\n",
    "The relationship between average clicks is likely to be similar, but let's see what we can see."
   ]
  },
  {
   "cell_type": "markdown",
   "id": "c9a04890-bcd7-4d0b-aa39-620d7d7dceec",
   "metadata": {
    "id": "c9a04890-bcd7-4d0b-aa39-620d7d7dceec"
   },
   "source": [
    "**Average Clicks to Assessment Scores**"
   ]
  },
  {
   "cell_type": "code",
   "execution_count": null,
   "id": "863ded03-5c9d-47a6-a244-e68c3e892a3b",
   "metadata": {
    "colab": {
     "base_uri": "https://localhost:8080/",
     "height": 0
    },
    "id": "863ded03-5c9d-47a6-a244-e68c3e892a3b",
    "outputId": "fc143041-2424-41b6-94bc-fb265f0be508"
   },
   "outputs": [],
   "source": [
    "# make a scatter plot of average click to score\n",
    "plt.figure(figsize=(10, 10))\n",
    "plt.title('Student Scores to Average Clicks')\n",
    "plt.xlabel(\"Student Scores\")\n",
    "plt.ylabel(\"Average Clicks Per Day\")\n",
    "plt.scatter(data=reg_train, y='avg_click', x='score', alpha=.05)"
   ]
  },
  {
   "cell_type": "code",
   "execution_count": null,
   "id": "c89cfdc7-b685-490b-9597-fb0021db8e9c",
   "metadata": {
    "colab": {
     "base_uri": "https://localhost:8080/",
     "height": 0
    },
    "id": "c89cfdc7-b685-490b-9597-fb0021db8e9c",
    "outputId": "49a1c27f-a33e-4ca4-c0cc-8ab0c90af177",
    "tags": [
     "remove_input"
    ]
   },
   "outputs": [],
   "source": [
    "avg_click_to_score = reg_train['avg_click'].astype(int).corr(reg_train['score'].astype(int))\n",
    "\n",
    "md(f'''\n",
    "In the above scatterplot of score to student click data the same relationship seems to hold, where average clicks per day seem \n",
    "to be related to increased scores with a very weak, positive relationship of {round(avg_click_to_score,2)} but the overall effects \n",
    "seem to have a peak at around 6 clicks per day, where after that there is not much of a score increase per average click.  \n",
    "Students who got 100s on their exams do seem to have a much higher click average than their peers.\n",
    "''')"
   ]
  },
  {
   "cell_type": "markdown",
   "id": "5ba381bd-e1b5-43d5-9cea-9844534a3f8a",
   "metadata": {
    "id": "5ba381bd-e1b5-43d5-9cea-9844534a3f8a"
   },
   "source": [
    "The same relationship seems to hold, where average clicks per day seem to be related to increased scores, but the overall effects seem to have a peak at around 6 clicks per day, where after that there is not much of a score increase per average click. Students who got 100s on their exams do seem to have a much higher click average than their peers where many students seem to have 7-9 interactions with resources per day."
   ]
  },
  {
   "cell_type": "markdown",
   "id": "f6bcca9c-51dd-4d22-8f0a-c8ef295ab1b5",
   "metadata": {
    "id": "f6bcca9c-51dd-4d22-8f0a-c8ef295ab1b5"
   },
   "source": [
    "**Score to Module**"
   ]
  },
  {
   "cell_type": "code",
   "execution_count": null,
   "id": "cba18bbf-26cc-46b4-be56-9de6e8427bc0",
   "metadata": {
    "colab": {
     "base_uri": "https://localhost:8080/",
     "height": 0
    },
    "id": "cba18bbf-26cc-46b4-be56-9de6e8427bc0",
    "outputId": "2bd7d8ee-6497-459d-a177-7619e1bda8bb"
   },
   "outputs": [],
   "source": [
    "# make a catplot/boxplot of module scores sorted in ascending order\n",
    "sorted_mod_score = reg_train.groupby(by=['module'])['score'].mean().sort_values().index\n",
    "sns.catplot(x='module', y='score', data=reg_train, kind='box',order=sorted_mod_score, aspect=10.7/8.27)"
   ]
  },
  {
   "cell_type": "markdown",
   "id": "3201c06c-a8c8-4d95-8af9-f12d6fcb01f8",
   "metadata": {
    "id": "3201c06c-a8c8-4d95-8af9-f12d6fcb01f8"
   },
   "source": [
    "In the above plot we can see that students in the AAA module, despite getting overall better results than students in other modules seem to have the lowest average scores.\n",
    "\n",
    "It seems that EEE, FFF and GGG have generally higher exam scores. "
   ]
  },
  {
   "cell_type": "markdown",
   "id": "b7f0d789-6d3b-4676-bf2a-c144ff04263f",
   "metadata": {
    "id": "b7f0d789-6d3b-4676-bf2a-c144ff04263f"
   },
   "source": [
    "**Click Sum per Module**\n",
    "\n",
    "Let's take a look at each module's clicks per student to gauge student engagement."
   ]
  },
  {
   "cell_type": "code",
   "execution_count": null,
   "id": "2676a33f-e4c7-46d4-81fd-fe3daa1fe1fb",
   "metadata": {
    "id": "2676a33f-e4c7-46d4-81fd-fe3daa1fe1fb"
   },
   "outputs": [],
   "source": [
    "# make a pivot table of student class size and sum click to get the clicks per student per module\n",
    "clicks_per_stud = reg_train.pivot_table(index='module', values=['sum_click', 'class_size'], aggfunc='sum')\n",
    "clicks_per_stud['click_per_student'] = clicks_per_stud['class_size'].div(clicks_per_stud['sum_click'])\n",
    "clicks_per_stud = clicks_per_stud.reset_index()"
   ]
  },
  {
   "cell_type": "code",
   "execution_count": null,
   "id": "63ba19f8-68dc-4cdc-97c9-12f98b4248d7",
   "metadata": {
    "colab": {
     "base_uri": "https://localhost:8080/",
     "height": 0
    },
    "id": "63ba19f8-68dc-4cdc-97c9-12f98b4248d7",
    "outputId": "ac1b6822-6fcc-46a5-cbeb-1384b719c5f5",
    "tags": []
   },
   "outputs": [],
   "source": [
    "# make a barplot the clicks of student per module\n",
    "sns.barplot(x='module', y='click_per_student', data=clicks_per_stud)"
   ]
  },
  {
   "cell_type": "markdown",
   "id": "de3ccbcb-a68d-4374-b934-e6270417066f",
   "metadata": {
    "id": "de3ccbcb-a68d-4374-b934-e6270417066f"
   },
   "source": [
    "In the above chart we see that the AAA module has the lowest engagement per student and BBB has the highest. Again the GGG module seems to have had good student engagement and likely would have had many more passing students if the exams were weighted differently."
   ]
  },
  {
   "cell_type": "markdown",
   "id": "5c079b06-c6ba-4e7b-9743-1cacb7d13783",
   "metadata": {
    "id": "5c079b06-c6ba-4e7b-9743-1cacb7d13783"
   },
   "source": [
    "**Assessment Weight to Score**"
   ]
  },
  {
   "cell_type": "code",
   "execution_count": null,
   "id": "f618a4ee-4ba1-4711-802f-37a18c4c341e",
   "metadata": {
    "id": "f618a4ee-4ba1-4711-802f-37a18c4c341e"
   },
   "outputs": [],
   "source": [
    "# get the correlation coef between exam weight and score\n",
    "weight_to_score = reg_train['weight'].astype(int).corr(reg_train['score'].astype(int))"
   ]
  },
  {
   "cell_type": "code",
   "execution_count": null,
   "id": "44c813dc-aba4-44bb-8c07-91f2afaad90f",
   "metadata": {
    "colab": {
     "base_uri": "https://localhost:8080/",
     "height": 0
    },
    "id": "44c813dc-aba4-44bb-8c07-91f2afaad90f",
    "outputId": "7709a436-024b-4f46-e37d-bcc441504dfd"
   },
   "outputs": [],
   "source": [
    "# Make a scatterplot for exam weight to score\n",
    "plt.figure(figsize=(10, 10))\n",
    "x = np.array(reg_train['weight'].astype(int))\n",
    "y = np.array(reg_train['score'].astype(int))\n",
    "m, b = np.polyfit(x, y, 1)\n",
    "plt.scatter(x, y, alpha=.5, color='lightgrey')\n",
    "# add a line of best fit to scatterplot\n",
    "plt.plot(x, m*x + b, color='tomato', lw=4, alpha=.7)"
   ]
  },
  {
   "cell_type": "code",
   "execution_count": null,
   "id": "1f99d590-323f-4229-85ff-a24376723ed6",
   "metadata": {
    "colab": {
     "base_uri": "https://localhost:8080/",
     "height": 0
    },
    "id": "1f99d590-323f-4229-85ff-a24376723ed6",
    "outputId": "07513261-6556-4857-c1dc-6dad59c799b0"
   },
   "outputs": [],
   "source": [
    "md(f'''\n",
    "In the above scatterplot we see the relationship between exam weight and student score.\n",
    "\n",
    "There is a very weak negative correlation of {round(weight_to_score)}, so It does seem as the assessment weight increases \n",
    "the average score goes down. There is a large gap in our data though since the non-final exams only go up to weight 35. \n",
    "This might dramatize our relationship here. Let's see if this relationship holds true for exams under weight 100\n",
    "''')"
   ]
  },
  {
   "cell_type": "code",
   "execution_count": null,
   "id": "721dfba3-9379-4305-9489-21962a316a51",
   "metadata": {
    "id": "721dfba3-9379-4305-9489-21962a316a51"
   },
   "outputs": [],
   "source": [
    "under_50_weight = reg_train.loc[reg_train['weight'] < 100]\n",
    "under_50_weight_to_score = under_50_weight['weight'].astype(int).corr(under_50_weight['score'].astype(int))"
   ]
  },
  {
   "cell_type": "code",
   "execution_count": null,
   "id": "f75d5e4a-68da-4446-9475-1a452e879deb",
   "metadata": {
    "colab": {
     "base_uri": "https://localhost:8080/",
     "height": 0
    },
    "id": "f75d5e4a-68da-4446-9475-1a452e879deb",
    "outputId": "aac796c0-4d02-4e01-92f1-3f5bf43b04eb"
   },
   "outputs": [],
   "source": [
    "# create a scatterplot of the exam weight to score of exams weighted under 50\n",
    "plt.figure(figsize=(10, 10))\n",
    "x = np.array(under_50_weight['weight'].astype(int))\n",
    "y = np.array(under_50_weight['score'].astype(int))\n",
    "m, b = np.polyfit(x, y, 1)\n",
    "plt.scatter(x, y, alpha=.5, color='lightgrey')\n",
    "# add a line of best fit to scatterplot\n",
    "plt.plot(x, m*x + b, color='tomato', lw=4, alpha=.7)"
   ]
  },
  {
   "cell_type": "code",
   "execution_count": null,
   "id": "eb9d0044-1a8d-455e-baa0-5559d39199ef",
   "metadata": {
    "colab": {
     "base_uri": "https://localhost:8080/",
     "height": 0
    },
    "id": "eb9d0044-1a8d-455e-baa0-5559d39199ef",
    "outputId": "881137a0-2e0c-44e0-9c63-0bf831d274bc"
   },
   "outputs": [],
   "source": [
    "md(f'''\n",
    "Indeed we see in this scatterplot of exam weight of under 50 to student score that the exam scores do seem to \n",
    "get worse as the weight of the exams increases as we see here with a correlational coefficient of \n",
    "{round(under_50_weight_to_score, 2)}. We know the weight of the final exams is always 100,  \n",
    "let's see the average weight of the tutor marked exams.\n",
    "''')"
   ]
  },
  {
   "cell_type": "code",
   "execution_count": null,
   "id": "12daaff7-09f6-424e-a708-b8631240d8fd",
   "metadata": {
    "colab": {
     "base_uri": "https://localhost:8080/",
     "height": 0
    },
    "id": "12daaff7-09f6-424e-a708-b8631240d8fd",
    "outputId": "df80cd98-0d73-47d2-d11d-2207fd82c1c6"
   },
   "outputs": [],
   "source": [
    "# create a table of the average weight of an exam per assessment type\n",
    "pd.pivot_table(reg_train, index='assessment_type', values='weight', aggfunc='mean')"
   ]
  },
  {
   "cell_type": "markdown",
   "id": "076c66c8-1ece-48d8-81f2-072d2e01ecbd",
   "metadata": {
    "id": "076c66c8-1ece-48d8-81f2-072d2e01ecbd"
   },
   "source": [
    "In the above table of average exam weights per exam type we see that tutor marked exams carry a significantly higher weight than the computer marked exams"
   ]
  },
  {
   "cell_type": "markdown",
   "id": "1eb13f40-998a-4636-a089-9e60d769850a",
   "metadata": {
    "id": "1eb13f40-998a-4636-a089-9e60d769850a"
   },
   "source": [
    "**Assessment Date to Score**"
   ]
  },
  {
   "cell_type": "code",
   "execution_count": null,
   "id": "52d6c5a8-668a-472c-a2d5-ba5197234a88",
   "metadata": {
    "id": "52d6c5a8-668a-472c-a2d5-ba5197234a88"
   },
   "outputs": [],
   "source": [
    "# get the corr coef of date to score\n",
    "date_to_score = reg_train['date'].astype(int).corr(reg_train['score'].astype(int))"
   ]
  },
  {
   "cell_type": "code",
   "execution_count": null,
   "id": "cc8394ba-9bac-4661-a0b9-2c3bb9835cea",
   "metadata": {
    "colab": {
     "base_uri": "https://localhost:8080/",
     "height": 0
    },
    "id": "cc8394ba-9bac-4661-a0b9-2c3bb9835cea",
    "outputId": "17e82c33-ec47-46cc-9a48-7c15e786cd81",
    "tags": []
   },
   "outputs": [],
   "source": [
    "# create a scatterplot of date to score relationship\n",
    "plt.figure(figsize=(10, 10))\n",
    "x = np.array(reg_train['date'].astype(int))\n",
    "y = np.array(reg_train['score'].astype(int))\n",
    "m, b = np.polyfit(x, y, 1)\n",
    "plt.scatter(x, y, alpha=.5, color='lightgrey')\n",
    "# add a line of best fit to scatterplot\n",
    "plt.plot(x, m*x + b, color='tomato', lw=4, alpha=.7)"
   ]
  },
  {
   "cell_type": "markdown",
   "id": "8cde42b7-38ec-4c22-a431-8be85a5d4c4f",
   "metadata": {
    "id": "8cde42b7-38ec-4c22-a431-8be85a5d4c4f"
   },
   "source": [
    "In the above scatter plot of student exam scores to date we see that according to our line of best fit the assessment scores are getting slightly better over time. "
   ]
  },
  {
   "cell_type": "markdown",
   "id": "63bc3049-6125-46d9-a156-7064a3942ef1",
   "metadata": {
    "id": "63bc3049-6125-46d9-a156-7064a3942ef1"
   },
   "source": [
    "**Date Submitted to Score**"
   ]
  },
  {
   "cell_type": "code",
   "execution_count": null,
   "id": "9a6fa1c7-6d2b-499c-82d9-fb0bef95ebc0",
   "metadata": {
    "id": "9a6fa1c7-6d2b-499c-82d9-fb0bef95ebc0"
   },
   "outputs": [],
   "source": [
    "# get the corr coef of date submitted to score\n",
    "date_sub_to_score = reg_train['date_submitted'].astype(int).corr(reg_train['score'].astype(int))"
   ]
  },
  {
   "cell_type": "code",
   "execution_count": null,
   "id": "f5caf433-0564-4332-9ae3-805cc799d121",
   "metadata": {
    "colab": {
     "base_uri": "https://localhost:8080/",
     "height": 0
    },
    "id": "f5caf433-0564-4332-9ae3-805cc799d121",
    "outputId": "2466e5c0-1674-48bc-f05b-595833fea5e9"
   },
   "outputs": [],
   "source": [
    "# create a scatterplot of date submitted to score relationship\n",
    "plt.figure(figsize=(10, 10))\n",
    "x = np.array(reg_train['date_submitted'].astype(int))\n",
    "y = np.array(reg_train['score'].astype(int))\n",
    "m, b = np.polyfit(x, y, 1)\n",
    "plt.scatter(x, y, alpha=.5, color='lightgrey')\n",
    "# add a line of best fit to scatterplot\n",
    "plt.plot(x, m*x + b, color='tomato', lw=4, alpha=.7)"
   ]
  },
  {
   "cell_type": "markdown",
   "id": "f096988c-948e-44be-8a98-e313cb8d35f3",
   "metadata": {
    "id": "f096988c-948e-44be-8a98-e313cb8d35f3"
   },
   "source": [
    "According tho the above scatterplot of student submission date to student scores, it seems as the date submitted gets later and later, student scores get somewhat worse.\n",
    "\n",
    "Let's see how, how many days late an assignment is affects the score by adding a column to indicate how many days late an assessment was by subtracting the `date` from `date_submitted`"
   ]
  },
  {
   "cell_type": "markdown",
   "id": "6629a4a7-1443-45c4-8121-d1ca7cf4b482",
   "metadata": {
    "id": "6629a4a7-1443-45c4-8121-d1ca7cf4b482"
   },
   "source": [
    "**Lateness to Score**"
   ]
  },
  {
   "cell_type": "code",
   "execution_count": null,
   "id": "d48e1e3d-c760-44d1-99ec-1398a6b2b51f",
   "metadata": {
    "id": "d48e1e3d-c760-44d1-99ec-1398a6b2b51f"
   },
   "outputs": [],
   "source": [
    "# create a 'days_late' column by subtracting the date of the exam from the date the exam was submitted in both sets\n",
    "reg_train['days_late'] = reg_train['date_submitted'] - reg_train['date']\n",
    "reg_test['days_late'] = reg_test['date_submitted'] - reg_test['date']"
   ]
  },
  {
   "cell_type": "code",
   "execution_count": null,
   "id": "ca4c9dd7-19d6-462a-8621-cf8ec2e3a902",
   "metadata": {
    "id": "ca4c9dd7-19d6-462a-8621-cf8ec2e3a902"
   },
   "outputs": [],
   "source": [
    "# get the corr coef of latess to score\n",
    "lateness_to_score = reg_train['days_late'].astype(int).corr(reg_train['score'].astype(int))"
   ]
  },
  {
   "cell_type": "code",
   "execution_count": null,
   "id": "af8a0502-6298-4827-82f1-aaff60f05bb7",
   "metadata": {
    "colab": {
     "base_uri": "https://localhost:8080/",
     "height": 0
    },
    "id": "af8a0502-6298-4827-82f1-aaff60f05bb7",
    "outputId": "ba351f41-600c-4341-b3ad-d351c404b5b0"
   },
   "outputs": [],
   "source": [
    "# create a scatterplot of exam lateness to score relationship\n",
    "plt.figure(figsize=(10, 10))\n",
    "x = np.array(reg_train['days_late'].astype(int))\n",
    "y = np.array(reg_train['score'].astype(int))\n",
    "m, b = np.polyfit(x, y, 1)\n",
    "plt.scatter(x, y, alpha=.5, color='lightgrey')\n",
    "# add a line of best fit to scatterplot\n",
    "plt.plot(x, m*x + b, color='tomato', lw=4, alpha=.7)"
   ]
  },
  {
   "cell_type": "markdown",
   "id": "bbb48e06-425e-4ae4-9f1c-c247f5aad312",
   "metadata": {
    "id": "bbb48e06-425e-4ae4-9f1c-c247f5aad312"
   },
   "source": [
    "In the above scatterplot of days late to student score we can see here that students who turned in their exams earlier clearly got much better scores, and the later the exam turn in the worse the score trended toward. We also see that a great deal of students submitted their exams on time or early."
   ]
  },
  {
   "cell_type": "markdown",
   "id": "b914ea71-16bd-4ea7-884d-5f40df78dcff",
   "metadata": {
    "id": "b914ea71-16bd-4ea7-884d-5f40df78dcff",
    "tags": []
   },
   "source": [
    "**Age to Score**"
   ]
  },
  {
   "cell_type": "code",
   "execution_count": null,
   "id": "6be0ff56-77eb-47d2-a984-dc782cc7c278",
   "metadata": {
    "colab": {
     "base_uri": "https://localhost:8080/",
     "height": 0
    },
    "id": "6be0ff56-77eb-47d2-a984-dc782cc7c278",
    "outputId": "1512cd77-d4f7-4855-b35c-be8384ee3b58"
   },
   "outputs": [],
   "source": [
    "# make a catplot/boxplot of student age band vs their scores sorted in ascending order by score mean\n",
    "sns.catplot(x='age', y='score', data=reg_train, kind='box', palette=age_colors)"
   ]
  },
  {
   "cell_type": "markdown",
   "id": "d930529e-8ace-4b21-bd2f-73807c9be1dd",
   "metadata": {
    "id": "d930529e-8ace-4b21-bd2f-73807c9be1dd"
   },
   "source": [
    "According to the plot above of student age to score, the older the student, the higher the mean score, though only by a few points."
   ]
  },
  {
   "cell_type": "markdown",
   "id": "282da3c5-19f7-4fdd-800e-d7be67f7f81e",
   "metadata": {
    "id": "282da3c5-19f7-4fdd-800e-d7be67f7f81e"
   },
   "source": [
    "**Gender to Score**"
   ]
  },
  {
   "cell_type": "code",
   "execution_count": null,
   "id": "be6e2f42-c2d5-466e-9cbb-2bd60d0f4d1b",
   "metadata": {
    "colab": {
     "base_uri": "https://localhost:8080/",
     "height": 0
    },
    "id": "be6e2f42-c2d5-466e-9cbb-2bd60d0f4d1b",
    "outputId": "252edb28-442d-465d-ee5f-f24a68f0cdd5"
   },
   "outputs": [],
   "source": [
    "# make a catplot/boxplot of student gender vs their scores sorted in ascending order by score mean\n",
    "sns.catplot(x='gender', y='score', data=reg_train, kind='box', palette=gen_colors)"
   ]
  },
  {
   "cell_type": "markdown",
   "id": "33b4a834-8ab9-4b54-bfee-92f5d5c9e116",
   "metadata": {
    "id": "33b4a834-8ab9-4b54-bfee-92f5d5c9e116"
   },
   "source": [
    "According to the plot above of student gender to score each gender is performing similarly on exams score-wise with females having a slightly higher average score."
   ]
  },
  {
   "cell_type": "code",
   "execution_count": null,
   "id": "77e422e9-bdea-41d3-b05c-ce00abdc575a",
   "metadata": {
    "colab": {
     "base_uri": "https://localhost:8080/",
     "height": 0
    },
    "id": "77e422e9-bdea-41d3-b05c-ce00abdc575a",
    "outputId": "642b0b42-5ba7-4eb4-c3a3-5f001c72d286"
   },
   "outputs": [],
   "source": [
    "# make a catplot/boxplot of student region vs their scores sorted in ascending order by score mean\n",
    "sorted_region_mean = reg_train.groupby(by=['region'])['score'].mean().sort_values().index\n",
    "sns.catplot(x='region', y='score', data=reg_train, kind='box', aspect=20.7/8.27, order=sorted_region_mean)"
   ]
  },
  {
   "cell_type": "markdown",
   "id": "2f62bc52-ba0c-49d3-80e6-800d8f668c2f",
   "metadata": {
    "id": "2f62bc52-ba0c-49d3-80e6-800d8f668c2f"
   },
   "source": [
    "According to the plot above of student region to score the mean score per region is similar across the board."
   ]
  },
  {
   "cell_type": "code",
   "execution_count": null,
   "id": "fc32db64-da3d-4a89-a9bc-a0a8065e62b0",
   "metadata": {
    "colab": {
     "base_uri": "https://localhost:8080/",
     "height": 0
    },
    "id": "fc32db64-da3d-4a89-a9bc-a0a8065e62b0",
    "outputId": "ebf7d3fc-c4bc-4859-9023-8bc331d0d44d"
   },
   "outputs": [],
   "source": [
    "# make a catplot/boxplot of student IMD bands vs their scores sorted in ascending order by mean\n",
    "sorted_imd_mean = reg_train.groupby(by=['imd'])['score'].mean().sort_values().index\n",
    "sns.catplot(x='imd', y='score', data=reg_train, kind='box', order=sorted_imd_mean, aspect=20.7/8.27)"
   ]
  },
  {
   "cell_type": "markdown",
   "id": "c0fd9e04-bbf0-49d1-93ea-429bf0321f8c",
   "metadata": {
    "id": "c0fd9e04-bbf0-49d1-93ea-429bf0321f8c"
   },
   "source": [
    "According to the plot of student IMD band to score above, the mean assessment score goes up with IMD Band similar to what we saw in results."
   ]
  },
  {
   "cell_type": "code",
   "execution_count": null,
   "id": "79b4c2e7-1bfb-430a-a749-7daf620353c7",
   "metadata": {
    "colab": {
     "base_uri": "https://localhost:8080/",
     "height": 0
    },
    "id": "79b4c2e7-1bfb-430a-a749-7daf620353c7",
    "outputId": "22877de0-4f69-48bc-a8eb-d6a6f225262f"
   },
   "outputs": [],
   "source": [
    "# make a catplot/boxplot of student education vs their scores sorted in ascending order by mean\n",
    "sorted_edu_mean = reg_train.groupby(by=['education'])['score'].mean().sort_values().index\n",
    "sns.catplot(x='education', y='score', data=reg_train, kind='box',order=sorted_edu_mean, aspect=10.7/8.27)"
   ]
  },
  {
   "cell_type": "markdown",
   "id": "915874aa-241e-492b-87ce-64f68abcc2ff",
   "metadata": {
    "id": "915874aa-241e-492b-87ce-64f68abcc2ff"
   },
   "source": [
    "In our plot of student education to score shown above, the mean score imporoves notably with education."
   ]
  },
  {
   "cell_type": "code",
   "execution_count": null,
   "id": "aaaab6d2-b7ae-409a-bdee-d41a70dae2a6",
   "metadata": {
    "colab": {
     "base_uri": "https://localhost:8080/",
     "height": 0
    },
    "id": "aaaab6d2-b7ae-409a-bdee-d41a70dae2a6",
    "outputId": "5764e97a-904e-47a2-a39b-1f3236c3d543"
   },
   "outputs": [],
   "source": [
    "# make a catplot/boxplot of scores per disability category sorted in ascending order by mean\n",
    "sns.catplot(x='disability', y='score', data=reg_train, kind='box', palette=dis_colors)"
   ]
  },
  {
   "cell_type": "markdown",
   "id": "c11c69ff-6d4b-4d9d-b2be-60588812a6ce",
   "metadata": {},
   "source": [
    "In this plot of student disability to score disabled students are performting worse on their exams by a few points on average."
   ]
  },
  {
   "cell_type": "markdown",
   "id": "e8f244f0-3bd2-4724-bd78-e4c86c95250b",
   "metadata": {
    "id": "e8f244f0-3bd2-4724-bd78-e4c86c95250b"
   },
   "source": [
    "**Clicks per Resource**"
   ]
  },
  {
   "cell_type": "code",
   "execution_count": null,
   "id": "e60f1df3-38c8-439a-86d9-6b72bcf05065",
   "metadata": {
    "colab": {
     "base_uri": "https://localhost:8080/",
     "height": 0
    },
    "id": "e60f1df3-38c8-439a-86d9-6b72bcf05065",
    "outputId": "527d94d7-2b77-4271-880a-b629d2f6bb23"
   },
   "outputs": [],
   "source": [
    "# create a barchart of the resources students interacted with sorted by number of interactions in ascending order\n",
    "plt.figure(figsize=(20, 8))\n",
    "plt.title('Student Interaction per Activity Type')\n",
    "plt.xlabel('Activity Type')\n",
    "plt.ylabel('Interaction Count')\n",
    "sns.countplot(data=merged_vle, x='activity_type', order = merged_vle['activity_type'].value_counts(ascending=True).index)"
   ]
  },
  {
   "cell_type": "markdown",
   "id": "95cf0614-efe3-4a12-832e-d8431f412224",
   "metadata": {
    "id": "95cf0614-efe3-4a12-832e-d8431f412224"
   },
   "source": [
    "In the chart above of student clicks per resource, the most popular area seems to be forums where students can interact. \"oucontent\" stands for \"Open University\" content which is the source of our data. This is the meat and potatoes of Open University and is how students learn. The homepage of course is going to be a frequent click as well as subpages of the Open University. Quizzes, and resources are made available to students as well at the Open University Wiki. After this, the student interactions with certain resources grow less and less significant. "
   ]
  },
  {
   "cell_type": "markdown",
   "id": "313f7220-ecc5-41d8-af51-424beeb23b39",
   "metadata": {
    "id": "313f7220-ecc5-41d8-af51-424beeb23b39"
   },
   "source": [
    "**Clicks Over Time**"
   ]
  },
  {
   "cell_type": "code",
   "execution_count": null,
   "id": "225cb9a9-4688-4e82-9d23-c7b3fe258cec",
   "metadata": {
    "id": "225cb9a9-4688-4e82-9d23-c7b3fe258cec"
   },
   "outputs": [],
   "source": [
    "# store  first quantile of sum_click\n",
    "Q1 = merged_vle['sum_click'].astype(float).quantile(0.25)\n",
    "\n",
    "# store third quantile of sum_click\n",
    "Q3 = merged_vle['sum_click'].astype(float).quantile(0.75)\n",
    "\n",
    "# get IQR of sum_click by subtracting 1st from 3rd quantile\n",
    "IQR = Q3 - Q1\n",
    "\n",
    "# subset only non-outliers from click data\n",
    "vle_no_outliers = merged_vle[~(merged_vle['sum_click'] > (Q3 + 1.5 * IQR))]\n",
    "\n",
    "# get the clicks per day without the outliers in pivot table\n",
    "clicks_per_day = vle_no_outliers.pivot_table(vle_no_outliers, index='date', aggfunc='sum').reset_index()"
   ]
  },
  {
   "cell_type": "code",
   "execution_count": null,
   "id": "e8832b04-78b1-4eb0-b6f1-96948ca7f771",
   "metadata": {
    "id": "e8832b04-78b1-4eb0-b6f1-96948ca7f771"
   },
   "outputs": [],
   "source": [
    "# get corr coef of clicks to date without outliers\n",
    "clicks_to_date = reg_train['days_late'].astype(int).corr(merged_assessments['score'].astype(int))"
   ]
  },
  {
   "cell_type": "code",
   "execution_count": null,
   "id": "5a5420e8-893a-4bcf-84d4-f7d9a008d463",
   "metadata": {
    "colab": {
     "base_uri": "https://localhost:8080/",
     "height": 0
    },
    "id": "5a5420e8-893a-4bcf-84d4-f7d9a008d463",
    "outputId": "17b60944-ac2f-4c79-b848-345b6027436b"
   },
   "outputs": [],
   "source": [
    "# make a pivot table of click sum per day overall for students and plot it in a scatterplot\n",
    "clicks_per_day = vle_no_outliers.pivot_table(vle_no_outliers, index='date', aggfunc='sum').reset_index()\n",
    "plt.figure(figsize=(10, 10))\n",
    "x = np.array(clicks_per_day['date'].astype(int))\n",
    "y = np.array(clicks_per_day['sum_click'].astype(int))\n",
    "m, b = np.polyfit(x, y, 1)\n",
    "plt.scatter(x, y, alpha=.5, color='lightgrey')\n",
    "# make a line of best fit for scatterplot\n",
    "plt.plot(x, m*x + b, color='tomato', lw=4, alpha=.7)"
   ]
  },
  {
   "cell_type": "markdown",
   "id": "f584976f-4808-4dd7-9e6e-44a86db1ce11",
   "metadata": {
    "id": "f584976f-4808-4dd7-9e6e-44a86db1ce11"
   },
   "source": [
    "In this scatterplot of student clicks per day, the clicks per day overall start quite high, but decrease sharply up until day 75 when they start to go up and then drop again around day 150 repeating this pattern until the end of the modules. It is interesting that it is every 75 days that student interest reaches a low point, and then rises again."
   ]
  },
  {
   "cell_type": "markdown",
   "id": "8e2e4af0-b90a-4700-b897-dd0791d277ad",
   "metadata": {
    "id": "8e2e4af0-b90a-4700-b897-dd0791d277ad"
   },
   "source": [
    "#### Final Cleaning\n",
    "\n",
    "* For ages we see that there is less than 1% of people in the 55 and over range and so we will combine that with the 35-55 range to make two ranges: 0-35 and 35+\n",
    "\n",
    "* We will be using classification to identify students as having negative or positive results and so will identify `Distinction` and `Pass` as positive results which we will label as boolean True and `Fail` and `Withdrawn` as negative results which we will label as boolean False. This will be done in another column.\n",
    "\n",
    "* We can merge the courses and student information data frames to add the course length to student information as a potential predictor of student success.\n",
    "\n",
    "* We can then merge the assessments and student information dataframes to add student demographical information, and the course length as potential predictors of student assessment scores.\n",
    "\n",
    "* We will merge the VLE and student outcome data (pass, fail, withdrawn, distinction) to predict student outcomes based on resource interaction."
   ]
  },
  {
   "cell_type": "code",
   "execution_count": null,
   "id": "c8890301-b5b3-40e4-8c7f-1513fc862dcb",
   "metadata": {
    "id": "c8890301-b5b3-40e4-8c7f-1513fc862dcb",
    "tags": []
   },
   "outputs": [],
   "source": [
    "# replace ages and results values to be more model-friendly in train and test set for si\n",
    "si_train = stud_info_train.replace({'age':{'55<=':'35+', '35-55':'35+'}, 'result':{'Pass':'Pos','Fail':'Neg','Distinction':'Pos','Withdrawn':'Neg'}})\n",
    "si_test = stud_info_test.replace({'age':{'55<=':'35+', '35-55':'35+'}, 'result':{'Pass':'Pos','Fail':'Neg','Distinction':'Pos','Withdrawn':'Neg'}})\n",
    "\n",
    "# create course_length column in test/train set\n",
    "si_train['course_length'] = 0\n",
    "si_test['course_length'] = 0\n",
    "\n",
    "# assign course_length from courses dataframe to training set for appropriate module/presentation\n",
    "for index, row in si_train.iterrows():\n",
    "    # change assessments date at current index to the course_length found in courses by locating the matching module/presentation\n",
    "    si_train.at[index, 'course_length'] = courses.loc[(courses['module'] == row['module']) & (courses['presentation'] == row['presentation']), 'course_length']\n",
    "\n",
    "# assign course_length from courses dataframe to testing set for appropriate module/presentation\n",
    "for index, row in si_test.iterrows():\n",
    "    si_test.at[index, 'course_length'] = courses.loc[(courses['module'] == row['module']) & (courses['presentation'] == row['presentation']), 'course_length']\n",
    "\n",
    "# change \n",
    "si_train = si_train.astype({'region':'category', 'imd':'category', 'education':'category', 'disability':'category', 'gender':'category', 'result':'category', 'age':'category'})\n",
    "si_test = si_test.astype({'region':'category', 'imd':'category', 'education':'category', 'disability':'category', 'gender':'category', 'result':'category', 'age':'category'})\n",
    "\n",
    "# change order of rows to remove target/to make sense\n",
    "si_train = si_train[['region', 'imd', 'age', 'gender', 'education', 'disability', 'date_registration', 'attempts', 'credits', 'class_size', 'course_length', 'sum_click', 'avg_click', 'result']]\n",
    "si_test = si_test[['region', 'imd', 'age', 'gender', 'education', 'disability', 'date_registration', 'attempts', 'credits', 'class_size', 'course_length', 'sum_click', 'avg_click', 'result']]\n"
   ]
  },
  {
   "cell_type": "code",
   "execution_count": null,
   "id": "b8b01071-f367-4a6c-9355-b7bfbd80537e",
   "metadata": {
    "id": "b8b01071-f367-4a6c-9355-b7bfbd80537e",
    "tags": []
   },
   "outputs": [],
   "source": [
    "pd.set_option('display.max_columns', None)\n",
    "\n",
    "# replace ages and results values to be more model-friendly in train and test set for reg\n",
    "reg_train = reg_train.replace({'age':{'55<=':'35+', '35-55':'35+'}, 'result':{'Pass':'Pos','Fail':'Neg','Distinction':'Pos','Withdrawn':'Neg'}})\n",
    "reg_test = reg_test.replace({'age':{'55<=':'35+', '35-55':'35+'}, 'result':{'Pass':'Pos','Fail':'Neg','Distinction':'Pos','Withdrawn':'Neg'}})\n",
    "\n",
    "# remove any rows that are not properly merged\n",
    "reg_train = reg_train[reg_train['_merge'] == 'both']\n",
    "reg_test = reg_test[reg_test['_merge'] == 'both']\n",
    "\n",
    "# create course_length column in test/train set\n",
    "reg_train['course_length'] = 0\n",
    "reg_test['course_length'] = 0\n",
    "\n",
    "# assign course_length from courses dataframe to training set for appropriate module/presentation\n",
    "for index, row in reg_train.iterrows():\n",
    "    reg_train.at[index, 'course_length'] = courses.loc[(courses['module'] == row['module']) & (courses['presentation'] == row['presentation']), 'course_length']\n",
    "\n",
    "# assign course_length from courses dataframe to testing set for appropriate module/presentation\n",
    "for index, row in reg_test.iterrows():\n",
    "    reg_test.at[index, 'course_length'] = courses.loc[(courses['module'] == row['module']) & (courses['presentation'] == row['presentation']), 'course_length']\n",
    "\n",
    "# drop columns that are not for prediction\n",
    "assm_train = reg_train.drop(columns=['_merge', 'module', 'presentation', 'module_presentation', 'id_student', 'id_assessment'])\n",
    "assm_test = reg_test.drop(columns=['_merge', 'module', 'presentation', 'module_presentation', 'id_student', 'id_assessment'])\n",
    "\n",
    "assm_train = assm_train.astype({'region':'category', 'imd':'category', 'education':'category', 'disability':'category', 'gender':'category', 'age':'category', 'assessment_type':'category'})\n",
    "assm_test = assm_test.astype({'region':'category', 'imd':'category', 'education':'category', 'disability':'category', 'gender':'category', 'age':'category', 'assessment_type':'category'})\n",
    "\n",
    "# change order of rows to remove target/to make sense\n",
    "assm_train = assm_train[['region', 'imd', 'age', 'gender', 'education', 'disability', 'date_registration', 'attempts', 'credits', 'class_size', 'course_length', 'sum_click', 'avg_click', 'assessment_type', 'weight', 'date', 'days_late', 'score']]\n",
    "assm_test = assm_test[['region', 'imd', 'age', 'gender', 'education', 'disability', 'date_registration', 'attempts', 'credits', 'class_size', 'course_length', 'sum_click', 'avg_click', 'assessment_type', 'weight', 'date', 'days_late', 'score']]"
   ]
  },
  {
   "cell_type": "markdown",
   "id": "57d3e512-72d0-4d1d-a80b-2cccd3b7f6fa",
   "metadata": {
    "id": "57d3e512-72d0-4d1d-a80b-2cccd3b7f6fa"
   },
   "source": [
    "## Modeling\n",
    "---"
   ]
  },
  {
   "cell_type": "markdown",
   "id": "f597e92c-9797-479c-a7fb-8c0d748d3edf",
   "metadata": {
    "id": "f597e92c-9797-479c-a7fb-8c0d748d3edf"
   },
   "source": [
    "In this section we will be using classification for the the student info/result dataframe to find the best predictors of student outcomes overall and then seperately combining the student info/assessments dataframe and using regression to find the best predictors of student exam scores.\n",
    "\n",
    "It would be presumable that these would line up with one another, afterall if a student gets good exam scores, generally they will get a successful outcome, and the opposite should also be true. In this case though, predictors of student exam scores may not align with the predictors of student outcome since many exams are weighted at zero or a very low weight potentially resulting in students doing well on many exams despite not passing the course. This also can show the scores of students who withdrew and so achieved a negative result despite getting good scores."
   ]
  },
  {
   "cell_type": "code",
   "execution_count": null,
   "id": "5dc65566-e4de-4f49-aedf-471299c83a03",
   "metadata": {
    "id": "5dc65566-e4de-4f49-aedf-471299c83a03"
   },
   "outputs": [],
   "source": [
    "# import sklean libraries\n",
    "from sklearn.model_selection import StratifiedShuffleSplit, GridSearchCV, cross_val_score\n",
    "from sklearn.feature_selection import SelectKBest, f_classif, chi2 \n",
    "from sklearn.svm import SVC\n",
    "from sklearn.naive_bayes import GaussianNB\n",
    "from sklearn.tree import DecisionTreeClassifier\n",
    "from sklearn.neighbors import KNeighborsClassifier\n",
    "from sklearn.linear_model import LinearRegression, SGDClassifier\n",
    "from sklearn import preprocessing\n",
    "from sklearn.preprocessing import StandardScaler, OneHotEncoder, LabelEncoder, OrdinalEncoder, RobustScaler\n",
    "from sklearn.metrics import roc_curve, precision_recall_curve, auc, make_scorer, recall_score, accuracy_score, precision_score, confusion_matrix\n",
    "from sklearn.ensemble import RandomForestClassifier\n",
    "from sklearn.compose import ColumnTransformer\n",
    "from sklearn.pipeline import make_pipeline\n",
    "from sklearn.metrics import precision_recall_fscore_support\n",
    "from sklearn.linear_model import LogisticRegression\n",
    "from sklearn.svm import SVR"
   ]
  },
  {
   "cell_type": "markdown",
   "id": "ANGONibtzXcn",
   "metadata": {
    "id": "ANGONibtzXcn"
   },
   "source": [
    "### Classification"
   ]
  },
  {
   "cell_type": "markdown",
   "id": "9adb6379-b84f-4c2d-a5d4-636a81e40671",
   "metadata": {},
   "source": [
    "First we will replace the positive and negative result classifications with 1 and 0 respectively for our models since it is necessary to work with numerical data. "
   ]
  },
  {
   "cell_type": "code",
   "execution_count": null,
   "id": "VTPxAzVP7Pq0",
   "metadata": {
    "id": "VTPxAzVP7Pq0"
   },
   "outputs": [],
   "source": [
    "# replace results with 1 for positive results and 0 for negative result to pass \n",
    "# more easily through models\n",
    "si_train = si_train.replace({'result': {'Pos':1, 'Neg':0}})\n",
    "si_test = si_test.replace({'result': {'Pos':1, 'Neg':0}})"
   ]
  },
  {
   "cell_type": "markdown",
   "id": "a42e6c5e-655f-404a-900c-6585e079bb68",
   "metadata": {},
   "source": [
    "Now we must seperate our classification testing and training data into labels and targets."
   ]
  },
  {
   "cell_type": "code",
   "execution_count": null,
   "id": "ee796816-9a21-4055-983f-646d3a8c6e32",
   "metadata": {},
   "outputs": [],
   "source": [
    "# seperate training and testing sets into features and labels\n",
    "si_X_train, si_Y_train, si_X_test, si_Y_test = pd.get_dummies(si_train.iloc[:,0:-1]), si_train.iloc[:,-1:], pd.get_dummies(si_test.iloc[:,0:-1]), si_test.iloc[:,-1:]"
   ]
  },
  {
   "cell_type": "markdown",
   "id": "35f7ff6e-11c2-4eb7-8abe-9f5810b35438",
   "metadata": {},
   "source": [
    "Next we will get find the best features, which are the features that most highly correlate with student outcome.\n",
    "\n",
    "To do this we will first look at a correlation matrix."
   ]
  },
  {
   "cell_type": "code",
   "execution_count": null,
   "id": "YeA7Yynf6Z0i",
   "metadata": {
    "colab": {
     "base_uri": "https://localhost:8080/",
     "height": 295
    },
    "id": "YeA7Yynf6Z0i",
    "outputId": "870e8fba-a4b0-4052-ff1d-7f0a2ee51885"
   },
   "outputs": [],
   "source": [
    "si_train.corr()"
   ]
  },
  {
   "cell_type": "markdown",
   "id": "19b2a088-97ff-4510-993e-425b9c72bc7b",
   "metadata": {},
   "source": [
    "In the above correlation matrix we can see that sum_click and avg_click are most highly positively correlated with results where attempts, credits and class size are most negatively correlated with student result.\n",
    "\n",
    "In order to see the relationship of our categorical variables we will have to use SelectKBest through sklearn."
   ]
  },
  {
   "cell_type": "code",
   "execution_count": null,
   "id": "eN9ExYAM7WiM",
   "metadata": {
    "id": "eN9ExYAM7WiM"
   },
   "outputs": [],
   "source": [
    "get_kbest(si_X_train, si_Y_train)"
   ]
  },
  {
   "cell_type": "code",
   "execution_count": null,
   "id": "317OXCI6Br1V",
   "metadata": {
    "id": "317OXCI6Br1V"
   },
   "outputs": [],
   "source": [
    "si_kbest_feats = ['sum_click', 'avg_click', 'credits', 'age', 'imd', 'course_length', 'class_size']\n",
    "si_X_train, si_X_test = pd.get_dummies(si_train[si_kbest_feats]), pd.get_dummies(si_test[si_kbest_feats])"
   ]
  },
  {
   "cell_type": "code",
   "execution_count": null,
   "id": "jHzAbBIHBylZ",
   "metadata": {
    "id": "jHzAbBIHBylZ"
   },
   "outputs": [],
   "source": [
    "stud_nums = ['course_length', 'class_size', 'credits', 'sum_click', 'avg_click']\n",
    "\n",
    "si_transformer = ColumnTransformer(\n",
    "    [('scaler', RobustScaler(), stud_nums)],\n",
    "    remainder='passthrough'\n",
    ")"
   ]
  },
  {
   "cell_type": "code",
   "execution_count": null,
   "id": "eu62kLeIB9Li",
   "metadata": {
    "id": "eu62kLeIB9Li"
   },
   "outputs": [],
   "source": [
    "gnb_clf = make_pipeline(si_transformer, GaussianNB())\n",
    "gnb_clf.fit(si_X_train, si_Y_train)\n",
    "gnb_clf.score(si_X_test, si_Y_test)\n",
    "##gnb_pred = gnb_clf.predict(si_X_test)\n",
    "#precision_recall_fscore_support(si_Y_test, gnb_pred, average='micro')"
   ]
  },
  {
   "cell_type": "code",
   "execution_count": null,
   "id": "nUG7ZgptB37A",
   "metadata": {
    "id": "nUG7ZgptB37A"
   },
   "outputs": [],
   "source": [
    "sgd_clf = make_pipeline(si_transformer,\n",
    "                    SGDClassifier(max_iter=1000, tol=1e-3))\n",
    "sgd_clf.fit(si_X_train, si_Y_train)\n",
    "sgd_clf.predict(si_X_test)\n",
    "sgd_clf.score(si_X_test, si_Y_test)"
   ]
  },
  {
   "cell_type": "code",
   "execution_count": null,
   "id": "oINHAKjGB7V0",
   "metadata": {
    "id": "oINHAKjGB7V0"
   },
   "outputs": [],
   "source": [
    "dtc_clf = make_pipeline(si_transformer, DecisionTreeClassifier())\n",
    "dtc_clf.fit(si_X_train, si_Y_train)\n",
    "dtc_clf.score(si_X_test, si_Y_test)"
   ]
  },
  {
   "cell_type": "code",
   "execution_count": null,
   "id": "lfSINNrFDGjF",
   "metadata": {
    "id": "lfSINNrFDGjF"
   },
   "outputs": [],
   "source": [
    "# SVM SVC Classifier Test"
   ]
  },
  {
   "cell_type": "code",
   "execution_count": null,
   "id": "LNgrmmGvDMvS",
   "metadata": {
    "id": "LNgrmmGvDMvS"
   },
   "outputs": [],
   "source": [
    "# KNearestNeighbors classifier test\n",
    "knn_clf = make_pipeline(si_transformer, KNeighborsClassifier())\n",
    "knn_clf.fit(si_X_train, si_Y_train)\n",
    "knn_clf.score(si_X_test, si_Y_test)"
   ]
  },
  {
   "cell_type": "code",
   "execution_count": null,
   "id": "TyQWvlIADdCl",
   "metadata": {
    "id": "TyQWvlIADdCl"
   },
   "outputs": [],
   "source": [
    "#Random Forest Classifier Test\n",
    "rf_clf = make_pipeline(si_transformer, RandomForestClassifier())\n",
    "rf_clf.fit(si_X_train, si_Y_train)\n",
    "rf_clf.score(si_X_test, si_Y_test)"
   ]
  },
  {
   "cell_type": "code",
   "execution_count": null,
   "id": "hsoFTulpD6_b",
   "metadata": {
    "id": "hsoFTulpD6_b"
   },
   "outputs": [],
   "source": [
    "# Random Forest GridSearchCV\n",
    "parameters = {'criterion': [\"gini\", \"entropy\"],\n",
    "              'n_estimators': [50, 60, 70, 80, 90, 100, 110, 120, 130],\n",
    "              'max_depth': [range(1, 20), None],\n",
    "              'max_features': ['auto', 'sqrt', 'log2'],\n",
    "              'random_state':[42]\n",
    "              }\n",
    "\n",
    "\n",
    "RF_clf = GridSearchCV(estimator = RandomForestClassifier(), param_grid=parameters, cv = 2, n_jobs = -1)\n",
    "RF_clf.fit(si_X_train, si_Y_train)\n",
    "RF_clf.best_params_"
   ]
  },
  {
   "cell_type": "code",
   "execution_count": null,
   "id": "MXxEihWpKXEr",
   "metadata": {
    "id": "MXxEihWpKXEr"
   },
   "outputs": [],
   "source": [
    "#Random Forest Classifier Test\n",
    "rf_clf = make_pipeline(si_transformer, RandomForestClassifier(criterion='entropy', max_depth=None, max_features='auto', n_estimators=100, random_state=42))\n",
    "rf_clf.fit(si_X_train, si_Y_train)\n",
    "rf_clf.score(si_X_test, si_Y_test)"
   ]
  },
  {
   "cell_type": "markdown",
   "id": "vq8K2OZJzgC1",
   "metadata": {
    "id": "vq8K2OZJzgC1"
   },
   "source": [
    "### Regression"
   ]
  },
  {
   "cell_type": "code",
   "execution_count": null,
   "id": "20a122af-cfda-46c9-aded-0edcd61f09bf",
   "metadata": {
    "id": "20a122af-cfda-46c9-aded-0edcd61f09bf"
   },
   "outputs": [],
   "source": [
    "assm_train.corr()"
   ]
  },
  {
   "cell_type": "code",
   "execution_count": null,
   "id": "91ccfc84-3342-4be1-9375-59fadb1d0ac6",
   "metadata": {
    "id": "91ccfc84-3342-4be1-9375-59fadb1d0ac6",
    "tags": []
   },
   "outputs": [],
   "source": [
    "# seperate training and testing sets into features and labels\n",
    "assm_X_train, assm_Y_train, assm_X_test, assm_Y_test = pd.get_dummies(assm_train.iloc[:,0:-1]), assm_train.iloc[:,-1:], pd.get_dummies(assm_test.iloc[:,0:-1]), assm_test.iloc[:,-1:]"
   ]
  },
  {
   "cell_type": "code",
   "execution_count": null,
   "id": "3aac7a13-63e3-40a9-8408-665c114d9c1a",
   "metadata": {
    "id": "3aac7a13-63e3-40a9-8408-665c114d9c1a"
   },
   "outputs": [],
   "source": [
    "get_kbest(assm_X_train, assm_Y_train.values)"
   ]
  },
  {
   "cell_type": "code",
   "execution_count": null,
   "id": "7aeb5f4c-407d-4f02-b98a-6a0cfc66eb4f",
   "metadata": {
    "id": "7aeb5f4c-407d-4f02-b98a-6a0cfc66eb4f"
   },
   "outputs": [],
   "source": [
    "assm_kbest_feats = ['weight', 'date', 'class_size', 'days_late', 'sum_click', 'assessment_type', 'course_length', 'avg_click', 'gender',  'credits', 'date_registration']\n",
    "assm_X_train, assm_X_test = pd.get_dummies(assm_train[assm_kbest_feats]), pd.get_dummies(assm_test[assm_kbest_feats])"
   ]
  },
  {
   "cell_type": "code",
   "execution_count": null,
   "id": "e52bca37-b5dc-4659-a48d-ce1cbe042081",
   "metadata": {
    "id": "e52bca37-b5dc-4659-a48d-ce1cbe042081"
   },
   "outputs": [],
   "source": [
    "assm_nums = stud_nums + ['days_late', 'weight' ,'date', 'date_registration']\n",
    "\n",
    "assm_transformer = ColumnTransformer(\n",
    "   [('scaler', RobustScaler(), assm_nums)],\n",
    "    remainder='passthrough'\n",
    ")"
   ]
  },
  {
   "cell_type": "code",
   "execution_count": null,
   "id": "0b0b6818-7a80-4ddd-8b72-3511dc4ec12b",
   "metadata": {
    "colab": {
     "base_uri": "https://localhost:8080/"
    },
    "id": "0b0b6818-7a80-4ddd-8b72-3511dc4ec12b",
    "outputId": "9c401e57-1bd5-4cf1-86f9-61629186a861"
   },
   "outputs": [],
   "source": [
    "assm_Y_train = assm_Y_train.astype(int)\n",
    "lin_reg = make_pipeline(assm_transformer, LinearRegression())\n",
    "lin_reg.fit(assm_X_train, assm_Y_train)\n",
    "lin_reg.score(assm_X_test, assm_Y_test)\n",
    "cross_val_score(lin_reg, assm_X_train, assm_Y_train, cv=5)"
   ]
  },
  {
   "cell_type": "code",
   "execution_count": null,
   "id": "xKlCS_pTRFcz",
   "metadata": {
    "id": "xKlCS_pTRFcz"
   },
   "outputs": [],
   "source": [
    "assm_Y_train = assm_Y_train.astype(int)\n",
    "assm_X_train = assm_X_train.convert_dtypes()\n",
    "logreg = make_pipeline(assm_transformer, LogisticRegression(random_state=42))\n",
    "logreg.fit(assm_X_train, assm_Y_train)\n",
    "#logreg.predict(assm_X_train)\n",
    "logreg.score(assm_X_test, assm_Y_test)\n",
    "cross_val_score(logreg, assm_X_train, assm_Y_train, cv=5)"
   ]
  },
  {
   "cell_type": "code",
   "execution_count": null,
   "id": "bcb33711-a25d-44ae-bf72-2f112e45e975",
   "metadata": {},
   "outputs": [],
   "source": [
    "from sklearn.linear_model import ElasticNet\n",
    "en_regr = make_pipeline(assm_transformer, ElasticNet(random_state=42))\n",
    "en_regr.fit(assm_X_train, assm_Y_train)\n",
    "en_regr.score(assm_X_test, assm_Y_test)\n",
    "cross_val_score(en_regr, assm_X_train, assm_Y_train, cv=5)"
   ]
  },
  {
   "cell_type": "code",
   "execution_count": null,
   "id": "993da5cc-0ff0-4de6-9841-3fbd0bf6a643",
   "metadata": {},
   "outputs": [],
   "source": [
    "# elastic net GridSearchCV\n",
    "parameters = {'fit_intercept': [, \"entropy\"],\n",
    "              'n_estimators': [50, 60, 70, 80, 90, 100, 110, 120, 130],\n",
    "              'max_depth': [range(1, 20), None],\n",
    "              'max_features': ['auto', 'sqrt', 'log2'],\n",
    "              'random_state':[42]\n",
    "              }\n",
    "\n",
    "\n",
    "RF_clf = GridSearchCV(estimator = RandomForestClassifier(), param_grid=parameters, cv = 2, n_jobs = -1)\n",
    "RF_clf.fit(si_X_train, si_Y_train)\n",
    "RF_clf.best_params_"
   ]
  },
  {
   "cell_type": "code",
   "execution_count": null,
   "id": "72KQxlDoq7fV",
   "metadata": {
    "id": "72KQxlDoq7fV"
   },
   "outputs": [],
   "source": [
    "svregr = make_pipeline(assm_transformer, SVR())\n",
    "svregr.fit(assm_X_train, assm_Y_train)\n",
    "svregr.predict(assm_X_test)\n",
    "print(svregr.score(assm_X_test, assm_Y_test))\n",
    "cross_val_score(svregr, assm_X_train, assm_Y_train, cv=5)"
   ]
  },
  {
   "cell_type": "code",
   "execution_count": null,
   "id": "N0HijGMwqwS7",
   "metadata": {
    "id": "N0HijGMwqwS7"
   },
   "outputs": [],
   "source": [
    "from sklearn.linear_model import Lasso\n",
    "lass_reg = make_pipeline(assm_transformer, Lasso())\n",
    "lass_reg.fit(assm_X_train, assm_Y_train)\n",
    "#Lasso(alpha=0.1)\n",
    "#lass_reg.predict([[1, 1]])\n",
    "print(lass_reg.score(assm_X_test, assm_Y_test))\n",
    "cross_val_score(lass_reg, assm_X_train, assm_Y_train, cv=5)"
   ]
  },
  {
   "cell_type": "code",
   "execution_count": null,
   "id": "ae3d1dd8-6652-4ce3-91a6-092f821de5d0",
   "metadata": {},
   "outputs": [],
   "source": [
    "from sklearn.linear_model import Ridge\n",
    "rclf = Ridge(alpha=1.0)\n",
    "rclf.fit(assm_X_train, assm_Y_train)\n",
    "print(rclf.score(assm_X_test, assm_Y_test))\n",
    "cross_val_score(rclf, assm_X_train, assm_Y_train, cv=5)"
   ]
  },
  {
   "cell_type": "code",
   "execution_count": null,
   "id": "aa8ebf27-3be7-4b76-acd4-85115ded32f5",
   "metadata": {},
   "outputs": [],
   "source": []
  },
  {
   "cell_type": "code",
   "execution_count": null,
   "id": "367b455d-221f-4cfd-9cbf-cd8cc771ca66",
   "metadata": {
    "id": "367b455d-221f-4cfd-9cbf-cd8cc771ca66"
   },
   "outputs": [],
   "source": [
    "import warnings\n",
    "warnings.filterwarnings('ignore')\n",
    "\n",
    "from sklearn.metrics import classification_report\n",
    "from sklearn.metrics import mean_squared_error\n",
    "from sklearn.metrics import confusion_matrix"
   ]
  },
  {
   "cell_type": "code",
   "execution_count": null,
   "id": "7200a4a7-7aa5-4abe-8478-d46630d97d7d",
   "metadata": {
    "id": "7200a4a7-7aa5-4abe-8478-d46630d97d7d"
   },
   "outputs": [],
   "source": [
    "# put in right variables\n",
    "# put all through pipline\n",
    "# score all properly\n",
    "# gridsearch all"
   ]
  },
  {
   "cell_type": "code",
   "execution_count": null,
   "id": "dbf86fba-d532-4ec8-920c-a96d44229b5d",
   "metadata": {
    "id": "dbf86fba-d532-4ec8-920c-a96d44229b5d"
   },
   "outputs": [],
   "source": []
  },
  {
   "cell_type": "markdown",
   "id": "FmElz5qM0o9w",
   "metadata": {
    "id": "FmElz5qM0o9w"
   },
   "source": [
    "## Conclusions"
   ]
  },
  {
   "cell_type": "markdown",
   "id": "9b3be3fc-5217-4619-9788-cdd02d29b206",
   "metadata": {
    "id": "9b3be3fc-5217-4619-9788-cdd02d29b206"
   },
   "source": [
    "\n",
    "\n",
    "Here we will look at our findings are draw speculative conclusions. \n",
    "\n",
    "Many final exam scores were missing making calculating a meaningful weighted average to find students overall grade a potentially fruitless task. Student registration dates, un-registration dates and exam dates are potentially inaccurate. Many students are missing from click data and exam data who are in student info. Students with passing grades are missing from test scores. Many of the IMD bands were missing and were filled with the median IMD band per region which may be wholly inacurate. These all required workarounds and may introduce discrepancies in our conclusions.\n",
    "\n",
    "It should be noted that this data is incomplete, messy and somewhat dated and any conclustions noted here are educated guesswork.\n",
    "\n",
    "**Courses**\n",
    "* BBB, CCC, DDD and FFF courses seem to be the most popularwith AAA, GGG and EEE being least popular.\n",
    "\n",
    "* GGG courses had the highest percentage of failing students as well as students with distinction. This is likely due to the fact that the whole GGG course was weighted only on the final exam, and rode on students having a good or bad test day without them having room to balance it out with other scores. Despite having the highest percentage of failures, GGG had among the highest exam scores, so it is likely if those scores were included in their final grade these students would have done much better.\n",
    "\n",
    "* Though the AAA module is the least popular, the students seem to have a noticeably higher pass percentage in this course. Students in this module also have the lowest fail percentage. It could be that having fewer students in the course increases the availability of professors and improves student outcome. Improving the teacher to student ratio in courses would be a good thing to experiment on in this case.\n",
    "\n",
    "* The GGG module has the lowest percentage of withdrawals and the highest percentage of students who passed with distinction, but also the highest percentage of failures. If there is anything we can conclude, it seems that students stick with this course all the way to failing and it may be interesting to find what students find so engaging about the GGG module.\n",
    "\n",
    "* Students in the AAA module, despite getting overall better results than students in other modules seem to have the lowest average scores. This is likely due to score weights and the missing final exams.\n",
    "\n",
    "* It seems that EEE, FFF and GGG have generally higher exam scores. GGG we saw had the highest failure rate, but seems to be getting among the best average scores. This is likely due to GGG's full grade being reliant on the final.\n",
    "\n",
    "* Most of our students aged 35 and up were interested in the AAA, BBB and GGG courses and so it might be useful to somwhat gear those courses toward them. Overall though over 70% of our students were under the age of 35, and so instructors should keep that in mind while designing courses.\n",
    "\n",
    "* GGG and BBB courses for seem to attract many more females than males, while The rest of the courses are dominated by male students. \n",
    "\n",
    "**Results**\n",
    "\n",
    "* Our students are getting a negative result of failure or withdrawal nearly half the time. Most of the students who stick with the course do pass, with under a quarter of students failing and over half of the students passing or passing with distinction. Efforts might therefore be put into student retention.\n",
    "\n",
    "**Regions**\n",
    "* It is likely already known by instructors, but all students in this data are in and around the UK region and so British English should be used in courses.\n",
    "\n",
    "* While there is some regions that perform overall better than others, region does not seem to be a great predictor of student outcome, and it is likely that IMD band is a better predictor, and those regions that are doing worse have an overall lower average IMD band.\n",
    "\n",
    "* Region does not seem to be very significant in predicting exam scores or overall results.\n",
    "\n",
    "\n",
    "**IMD Bands**\n",
    "* Students in more deprived areas are getting a negative result more frequently than their peers in less deprived areas and efforts might be made to improve the results of those students.\n",
    "\n",
    "* Similarly to results, student scores seem to improve with their IMD band, though the mean score is overally very similar per IMD band\n",
    "\n",
    "\n",
    "**Education**\n",
    "* Most of our students are A level or below and so college level language should be avoided and depending on the content of the course remedial material may be necessary to get students up to speed on the course contents.\n",
    "\n",
    "* There is a clear relationship between exam score and education which we did not see in the overall student results where the higher the education the higher the mean exam score.\n",
    "\n",
    "**Age Bands**\n",
    "* Most of our students are under the age of 35, potentially come from lower economic backgrounds and have had less than the equivalent of a high school education. This is important because the courses need to be geared toward this type of student, meaning teachers may want to avoid college level vocabulary. People in these groups also tend to be more likely to be working a job during their course.\n",
    "\n",
    "* Each age group has a very similar distribution of overall results. The noticeable difference is older students seem to be more likely to pass with distinction. Students who pass with distinction, and older students are underrepresented though, so it may not hold true in larger samples.\n",
    "\n",
    "* The higher age groups have higher mean scores, and may be doing better overall since they potentially have more experience and may be working less. \n"
   ]
  },
  {
   "cell_type": "markdown",
   "id": "eca183ad-a68e-4947-9e5a-0a8276fd19a4",
   "metadata": {
    "id": "eca183ad-a68e-4947-9e5a-0a8276fd19a4"
   },
   "source": [
    "<img src=\"Employment.png\">"
   ]
  },
  {
   "cell_type": "markdown",
   "id": "7f2c6723-584c-49e2-b507-ce9c3d8eae4d",
   "metadata": {
    "id": "7f2c6723-584c-49e2-b507-ce9c3d8eae4d"
   },
   "source": [
    "* According to the chart above, through 2013-2014 when these courses took place nearly 60% of 18-24 year old people and around 80% of 25-34 year old people in the UK were employed. That number has only increased over the years, and so it should be taken into account that students are likely to have a time crunch that teachers must respect.\n",
    "\n",
    "**Genders**\n",
    "* We have a fairly balanced gender distribution overall.\n",
    "\n",
    "* Student gender does not seem to be a significant factor in their scores or overall results.\n",
    "\n",
    "**Disability**\n",
    "* Just under 10% of our students identify as having a disability and they are doing worse than their peers. It may be worthwhile to identify what disabilities these students have in order to best serve them and potentially improve their results. For example if it is found that many disabled students have poor vision it would be good to optimize the course website for screen readers.\n",
    "\n",
    "* Students who identify as having disabilities have a significantly higher withdrawal rate than their non-disabled peers. It could be that the online courses are unfriendly toward their disabilities, and this should be looked into. Disabled students also seem to get worse scores on their assessments, perhaps for similar reasons.\n",
    "\n",
    "\n",
    "**Assessments**\n",
    "* It seems that students do the best on computer marked exams. This could be that the computer marked exams are easier, being something like multiple choice, and the tutor marked exams are open-ended questions. This could also be due to human error on the tutor's end. Exams seem to have the worst overall scores and it could be that the pressure of the exams gets to students, or that the final exams are much harder. We also do not have complete information on the final exams for all courses, and so this data may not be representative of the courses as a whole.\n",
    "\n",
    "* Assessments with higher weights seem to get worse grades. This could be due to the difficulty of the assessment, due to student anxiety, and potentially due to human error as the higher weight exams are those that are tutor marked.\n",
    "\n",
    "* Exam scores seem to get better as the course goes on, but as the student takes longer to submit the exam the score goes down. Students should be encouraged to submit their exams as early as possible.\n",
    "\n",
    "* Assessment scores seem to get better as time goes on. Perhaps because the students get more accustomed to taking the course, or because students who have done poorly already may have already withdrawn.\n",
    "\n",
    "* The date a student submits the exam seems to have a negative effect on the exam score as time goes on. Students should be encouraged to take the exam on time or early while the information is fresh in their mind. The later an exam is turned in the more the score tends toward poor performance.\n",
    "\n",
    "**Clicks**\n",
    "* The sum of student clicks and the average clicks per day are positively associated with student scores and results. This makes sense as the more engagement a student makes with the course, the better they do. Encouraging student engagement can help to improve scores and retention.\n",
    "\n",
    "* Student interactions with resources per day seems to increase their exam scores plateuing at around 6 clicks per day, though the most successful students seem to be averaging higher than that.\n",
    "\n",
    "* Clicks decrease over time with a pattern of coming to a peak or valley every 75 days.\n",
    "\n",
    "* Quizzes, the main course material, forums, the homepage and subpages of the site seem to be the most interacted with areas of the site.\n"
   ]
  },
  {
   "cell_type": "markdown",
   "id": "f38bd11a-1327-4c3a-959c-7e6915bc7506",
   "metadata": {
    "id": "f38bd11a-1327-4c3a-959c-7e6915bc7506"
   },
   "source": [
    "**Further/Next Time**\n",
    "\n",
    "\n",
    "* It would have been interesting to be able to calculate student overall weighted averages in order to find the grades of students who withdrew to predict at what grade students usually withdrew at. This would have allowed us to calculate a 'warning' grade where students might withdraw if their grade falls below a certain number. With a warning grade, teachers might be able to reach out to students to get them the help they need instead of them withdrawing.\n",
    "\n",
    "* It would have been great to have more reliable data on the unregistration dates for the same reason.\n",
    "\n",
    "* Looking at the relationship between student grades/results and what resources they interacted with most on the VLE would be worthwhile to discover whether any one resource is helping students more than others."
   ]
  },
  {
   "cell_type": "markdown",
   "id": "73cad70d-3aaa-4e3a-9aea-f84b6d952930",
   "metadata": {
    "id": "73cad70d-3aaa-4e3a-9aea-f84b6d952930"
   },
   "source": [
    "https://www.ons.gov.uk/employmentandlabourmarket/peopleinwork/employmentandemployeetypes/bulletins/employmentintheuk/october2019"
   ]
  },
  {
   "cell_type": "markdown",
   "id": "bf0343a8-19aa-44fb-b6a9-c419e1e085dc",
   "metadata": {
    "id": "bf0343a8-19aa-44fb-b6a9-c419e1e085dc"
   },
   "source": []
  }
 ],
 "metadata": {
  "colab": {
   "collapsed_sections": [
    "240da0fe-a701-4511-8c3b-b38ea78f012c",
    "f80c0f1d-193b-464f-8d61-9e1735624836",
    "b3cffd6a-015c-4bf2-a8f0-f7413cda8f37",
    "6e869245-5a8e-4b38-b112-16f9012892b1",
    "90f1c6c4-d01d-47f6-9c8f-28829b76dc4b",
    "aa8d3274-6043-4182-bc45-04ddd66be152",
    "a572d8d1-18c8-4310-b350-5c381c22cf1f",
    "144e9ffd-9d36-4ca5-a8e4-6e8fe34337b8",
    "09f60929-8c00-407e-aed0-62cae2b277c7",
    "b43f303f-57c0-4afb-b0b9-a4494a56d849",
    "ad32de33-bdef-49c8-9d6d-bdd138f14e1d",
    "f7eb4c1a-ede2-4d96-8441-0e12bbe076b9",
    "b1530889-d0de-44b8-b45d-b023ce5f36d5",
    "cd2e8536-8979-4c84-bd99-73ee63718ce1",
    "d3490f75-3aef-40af-b064-5567fb439618",
    "f04c08bf-f2b2-41ee-b540-67696990ebde",
    "FmElz5qM0o9w",
    "9b3be3fc-5217-4619-9788-cdd02d29b206"
   ],
   "include_colab_link": true,
   "machine_shape": "hm",
   "name": "Capstone.ipynb",
   "provenance": []
  },
  "kernelspec": {
   "display_name": "Python 3",
   "language": "python",
   "name": "python3"
  },
  "language_info": {
   "codemirror_mode": {
    "name": "ipython",
    "version": 3
   },
   "file_extension": ".py",
   "mimetype": "text/x-python",
   "name": "python",
   "nbconvert_exporter": "python",
   "pygments_lexer": "ipython3",
   "version": "3.9.6"
  }
 },
 "nbformat": 4,
 "nbformat_minor": 5
}
