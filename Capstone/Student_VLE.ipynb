{
 "cells": [
  {
   "cell_type": "code",
   "execution_count": 1,
   "id": "ea82edcb-a8bd-4bca-9024-d824ea3c8798",
   "metadata": {
    "tags": [
     "remove_cell"
    ]
   },
   "outputs": [],
   "source": [
    "from functions import *"
   ]
  },
  {
   "cell_type": "markdown",
   "id": "86a4551a-dac0-4228-a185-43993ceb8bd4",
   "metadata": {},
   "source": [
    "# Student VLE\n",
    "---\n",
    "\n",
    "The Student VLE Dataframe contains information about student interactions with the online resources in the Virtual Learning Environment"
   ]
  },
  {
   "cell_type": "code",
   "execution_count": 2,
   "id": "7d9e353a-47b9-4199-86c3-89d0110fdddf",
   "metadata": {
    "tags": [
     "remove_input"
    ]
   },
   "outputs": [
    {
     "data": {
      "text/html": [
       "<div>\n",
       "<style scoped>\n",
       "    .dataframe tbody tr th:only-of-type {\n",
       "        vertical-align: middle;\n",
       "    }\n",
       "\n",
       "    .dataframe tbody tr th {\n",
       "        vertical-align: top;\n",
       "    }\n",
       "\n",
       "    .dataframe thead th {\n",
       "        text-align: right;\n",
       "    }\n",
       "</style>\n",
       "<table border=\"1\" class=\"dataframe\">\n",
       "  <thead>\n",
       "    <tr style=\"text-align: right;\">\n",
       "      <th></th>\n",
       "      <th>code_module</th>\n",
       "      <th>code_presentation</th>\n",
       "      <th>id_student</th>\n",
       "      <th>id_site</th>\n",
       "      <th>date</th>\n",
       "      <th>sum_click</th>\n",
       "    </tr>\n",
       "  </thead>\n",
       "  <tbody>\n",
       "    <tr>\n",
       "      <th>0</th>\n",
       "      <td>AAA</td>\n",
       "      <td>2013J</td>\n",
       "      <td>28400</td>\n",
       "      <td>546652</td>\n",
       "      <td>-10</td>\n",
       "      <td>4</td>\n",
       "    </tr>\n",
       "    <tr>\n",
       "      <th>1</th>\n",
       "      <td>AAA</td>\n",
       "      <td>2013J</td>\n",
       "      <td>28400</td>\n",
       "      <td>546652</td>\n",
       "      <td>-10</td>\n",
       "      <td>1</td>\n",
       "    </tr>\n",
       "    <tr>\n",
       "      <th>2</th>\n",
       "      <td>AAA</td>\n",
       "      <td>2013J</td>\n",
       "      <td>28400</td>\n",
       "      <td>546652</td>\n",
       "      <td>-10</td>\n",
       "      <td>1</td>\n",
       "    </tr>\n",
       "    <tr>\n",
       "      <th>3</th>\n",
       "      <td>AAA</td>\n",
       "      <td>2013J</td>\n",
       "      <td>28400</td>\n",
       "      <td>546614</td>\n",
       "      <td>-10</td>\n",
       "      <td>11</td>\n",
       "    </tr>\n",
       "    <tr>\n",
       "      <th>4</th>\n",
       "      <td>AAA</td>\n",
       "      <td>2013J</td>\n",
       "      <td>28400</td>\n",
       "      <td>546714</td>\n",
       "      <td>-10</td>\n",
       "      <td>1</td>\n",
       "    </tr>\n",
       "  </tbody>\n",
       "</table>\n",
       "</div>"
      ],
      "text/plain": [
       "  code_module code_presentation  id_student  id_site  date  sum_click\n",
       "0         AAA             2013J       28400   546652   -10          4\n",
       "1         AAA             2013J       28400   546652   -10          1\n",
       "2         AAA             2013J       28400   546652   -10          1\n",
       "3         AAA             2013J       28400   546614   -10         11\n",
       "4         AAA             2013J       28400   546714   -10          1"
      ]
     },
     "execution_count": 2,
     "metadata": {},
     "output_type": "execute_result"
    }
   ],
   "source": [
    "student_vle.head()"
   ]
  },
  {
   "cell_type": "markdown",
   "id": "669dc942-8662-4178-b67d-2adb65773b00",
   "metadata": {},
   "source": [
    "---\n",
    "\n",
    "## Student VLE Contents\n",
    "\n",
    "* **code_module**: The code module is the module the resource and student are associated with.\n",
    "* **code_presentation**: The code presentation represents the time the module was held at.\n",
    "* **id_site**: The site ID is the unique identifier for the online resource with which the student engaged.\n",
    "* **date**: The date represents the date that the student engaged with the material relevant to the start date of the module.\n",
    "* **sum_click**: The sum click represents the number of clicks the student made on that day."
   ]
  },
  {
   "cell_type": "markdown",
   "id": "37091497-ffa3-406c-87dd-b20c1959ef94",
   "metadata": {},
   "source": [
    "---\n",
    "\n",
    "## Student VLE Information"
   ]
  },
  {
   "cell_type": "markdown",
   "id": "8385ef6c-d75e-45b4-90fc-9a6700ec2369",
   "metadata": {},
   "source": [
    "**Size**"
   ]
  },
  {
   "cell_type": "code",
   "execution_count": 3,
   "id": "6d4d5f22-a329-46c4-9d5c-19d4d3c8aa32",
   "metadata": {
    "tags": [
     "remove_input"
    ]
   },
   "outputs": [
    {
     "data": {
      "text/html": [
       "<div>\n",
       "<style scoped>\n",
       "    .dataframe tbody tr th:only-of-type {\n",
       "        vertical-align: middle;\n",
       "    }\n",
       "\n",
       "    .dataframe tbody tr th {\n",
       "        vertical-align: top;\n",
       "    }\n",
       "\n",
       "    .dataframe thead th {\n",
       "        text-align: right;\n",
       "    }\n",
       "</style>\n",
       "<table border=\"1\" class=\"dataframe\">\n",
       "  <thead>\n",
       "    <tr style=\"text-align: right;\">\n",
       "      <th></th>\n",
       "      <th>Count</th>\n",
       "    </tr>\n",
       "  </thead>\n",
       "  <tbody>\n",
       "    <tr>\n",
       "      <th>Columns</th>\n",
       "      <td>6</td>\n",
       "    </tr>\n",
       "    <tr>\n",
       "      <th>Rows</th>\n",
       "      <td>10655280</td>\n",
       "    </tr>\n",
       "  </tbody>\n",
       "</table>\n",
       "</div>"
      ],
      "text/plain": [
       "            Count\n",
       "Columns         6\n",
       "Rows     10655280"
      ]
     },
     "execution_count": 3,
     "metadata": {},
     "output_type": "execute_result"
    }
   ],
   "source": [
    "get_size(student_vle)"
   ]
  },
  {
   "cell_type": "code",
   "execution_count": 4,
   "id": "7de453f7-ebb0-48e1-8026-0e68b9815201",
   "metadata": {
    "tags": [
     "remove_input"
    ]
   },
   "outputs": [
    {
     "data": {
      "text/markdown": [
       "\n",
       "Student VLE has 6 columns and 10,655,280 rows which represent the student resource interactions we have data for.\n"
      ],
      "text/plain": [
       "<IPython.core.display.Markdown object>"
      ]
     },
     "execution_count": 4,
     "metadata": {},
     "output_type": "execute_result"
    }
   ],
   "source": [
    "# store the size of student_vle's columns\n",
    "stud_vle_cols = len(student_vle.columns)\n",
    "# store the size of student_vle's rows\n",
    "stud_vle_rows = len(student_vle)\n",
    "md(f'''\n",
    "Student VLE has {stud_vle_cols} columns and {\"{:,}\".format(stud_vle_rows)} rows which represent the student resource interactions we have data for.\n",
    "''')"
   ]
  },
  {
   "cell_type": "markdown",
   "id": "646996ff-67e4-4214-8a9b-069c20f4360d",
   "metadata": {},
   "source": [
    "**Data Types**"
   ]
  },
  {
   "cell_type": "code",
   "execution_count": 5,
   "id": "a830dd6f-659b-40fd-a920-477675b3629e",
   "metadata": {
    "tags": [
     "remove_input"
    ]
   },
   "outputs": [
    {
     "data": {
      "text/html": [
       "<style type=\"text/css\">\n",
       "#T_3637d_ td.col0 {\n",
       "  font-weight: bold;\n",
       "}\n",
       "</style>\n",
       "<table id=\"T_3637d_\">\n",
       "  <thead>\n",
       "    <tr>\n",
       "      <th class=\"col_heading level0 col0\" >index</th>\n",
       "      <th class=\"col_heading level0 col1\" >Type</th>\n",
       "    </tr>\n",
       "  </thead>\n",
       "  <tbody>\n",
       "    <tr>\n",
       "      <td id=\"T_3637d_row0_col0\" class=\"data row0 col0\" >code_module</td>\n",
       "      <td id=\"T_3637d_row0_col1\" class=\"data row0 col1\" >object</td>\n",
       "    </tr>\n",
       "    <tr>\n",
       "      <td id=\"T_3637d_row1_col0\" class=\"data row1 col0\" >code_presentation</td>\n",
       "      <td id=\"T_3637d_row1_col1\" class=\"data row1 col1\" >object</td>\n",
       "    </tr>\n",
       "    <tr>\n",
       "      <td id=\"T_3637d_row2_col0\" class=\"data row2 col0\" >id_student</td>\n",
       "      <td id=\"T_3637d_row2_col1\" class=\"data row2 col1\" >int64</td>\n",
       "    </tr>\n",
       "    <tr>\n",
       "      <td id=\"T_3637d_row3_col0\" class=\"data row3 col0\" >id_site</td>\n",
       "      <td id=\"T_3637d_row3_col1\" class=\"data row3 col1\" >int64</td>\n",
       "    </tr>\n",
       "    <tr>\n",
       "      <td id=\"T_3637d_row4_col0\" class=\"data row4 col0\" >date</td>\n",
       "      <td id=\"T_3637d_row4_col1\" class=\"data row4 col1\" >int64</td>\n",
       "    </tr>\n",
       "    <tr>\n",
       "      <td id=\"T_3637d_row5_col0\" class=\"data row5 col0\" >sum_click</td>\n",
       "      <td id=\"T_3637d_row5_col1\" class=\"data row5 col1\" >int64</td>\n",
       "    </tr>\n",
       "  </tbody>\n",
       "</table>\n"
      ],
      "text/plain": [
       "<pandas.io.formats.style.Styler at 0x264da44beb0>"
      ]
     },
     "execution_count": 5,
     "metadata": {},
     "output_type": "execute_result"
    }
   ],
   "source": [
    "get_dtypes(student_vle)"
   ]
  },
  {
   "cell_type": "code",
   "execution_count": 6,
   "id": "0747d287-b6f3-4454-bf7a-20883f3345ca",
   "metadata": {
    "tags": [
     "remove_cell"
    ]
   },
   "outputs": [],
   "source": [
    "student_vle = student_vle.astype({'id_site':str, 'id_student':str})\n",
    "student_vle = student_vle.convert_dtypes(convert_integer=False)"
   ]
  },
  {
   "cell_type": "markdown",
   "id": "ffcb2967-174c-4d2a-9602-c9702de084f7",
   "metadata": {},
   "source": [
    "**Null Values**"
   ]
  },
  {
   "cell_type": "code",
   "execution_count": 7,
   "id": "d0b29bf3-1f4a-49ff-90aa-59756b76500c",
   "metadata": {
    "tags": [
     "remove_input"
    ]
   },
   "outputs": [
    {
     "data": {
      "text/html": [
       "<style type=\"text/css\">\n",
       "#T_311e2_ td.col0 {\n",
       "  font-weight: bold;\n",
       "}\n",
       "</style>\n",
       "<table id=\"T_311e2_\">\n",
       "  <thead>\n",
       "    <tr>\n",
       "      <th class=\"col_heading level0 col0\" >index</th>\n",
       "      <th class=\"col_heading level0 col1\" >Null Values</th>\n",
       "    </tr>\n",
       "  </thead>\n",
       "  <tbody>\n",
       "    <tr>\n",
       "      <td id=\"T_311e2_row0_col0\" class=\"data row0 col0\" >code_module</td>\n",
       "      <td id=\"T_311e2_row0_col1\" class=\"data row0 col1\" >0</td>\n",
       "    </tr>\n",
       "    <tr>\n",
       "      <td id=\"T_311e2_row1_col0\" class=\"data row1 col0\" >code_presentation</td>\n",
       "      <td id=\"T_311e2_row1_col1\" class=\"data row1 col1\" >0</td>\n",
       "    </tr>\n",
       "    <tr>\n",
       "      <td id=\"T_311e2_row2_col0\" class=\"data row2 col0\" >id_student</td>\n",
       "      <td id=\"T_311e2_row2_col1\" class=\"data row2 col1\" >0</td>\n",
       "    </tr>\n",
       "    <tr>\n",
       "      <td id=\"T_311e2_row3_col0\" class=\"data row3 col0\" >id_site</td>\n",
       "      <td id=\"T_311e2_row3_col1\" class=\"data row3 col1\" >0</td>\n",
       "    </tr>\n",
       "    <tr>\n",
       "      <td id=\"T_311e2_row4_col0\" class=\"data row4 col0\" >date</td>\n",
       "      <td id=\"T_311e2_row4_col1\" class=\"data row4 col1\" >0</td>\n",
       "    </tr>\n",
       "    <tr>\n",
       "      <td id=\"T_311e2_row5_col0\" class=\"data row5 col0\" >sum_click</td>\n",
       "      <td id=\"T_311e2_row5_col1\" class=\"data row5 col1\" >0</td>\n",
       "    </tr>\n",
       "  </tbody>\n",
       "</table>\n"
      ],
      "text/plain": [
       "<pandas.io.formats.style.Styler at 0x2648001cc70>"
      ]
     },
     "execution_count": 7,
     "metadata": {},
     "output_type": "execute_result"
    }
   ],
   "source": [
    "null_vals(student_vle)"
   ]
  },
  {
   "cell_type": "markdown",
   "id": "9d962024-4936-4366-87cf-19c665b9f214",
   "metadata": {},
   "source": [
    "**Duplicate Values**"
   ]
  },
  {
   "cell_type": "code",
   "execution_count": 8,
   "id": "eeaaa1b7-b13d-43ce-8fab-7fe7bab2a824",
   "metadata": {
    "tags": [
     "remove_input"
    ]
   },
   "outputs": [
    {
     "data": {
      "text/html": [
       "<div>\n",
       "<style scoped>\n",
       "    .dataframe tbody tr th:only-of-type {\n",
       "        vertical-align: middle;\n",
       "    }\n",
       "\n",
       "    .dataframe tbody tr th {\n",
       "        vertical-align: top;\n",
       "    }\n",
       "\n",
       "    .dataframe thead th {\n",
       "        text-align: right;\n",
       "    }\n",
       "</style>\n",
       "<table border=\"1\" class=\"dataframe\">\n",
       "  <thead>\n",
       "    <tr style=\"text-align: right;\">\n",
       "      <th></th>\n",
       "      <th>code_module</th>\n",
       "      <th>code_presentation</th>\n",
       "      <th>id_student</th>\n",
       "      <th>id_site</th>\n",
       "      <th>date</th>\n",
       "      <th>sum_click</th>\n",
       "    </tr>\n",
       "  </thead>\n",
       "  <tbody>\n",
       "    <tr>\n",
       "      <th>2</th>\n",
       "      <td>AAA</td>\n",
       "      <td>2013J</td>\n",
       "      <td>28400</td>\n",
       "      <td>546652</td>\n",
       "      <td>-10</td>\n",
       "      <td>1</td>\n",
       "    </tr>\n",
       "    <tr>\n",
       "      <th>63</th>\n",
       "      <td>AAA</td>\n",
       "      <td>2013J</td>\n",
       "      <td>45462</td>\n",
       "      <td>546652</td>\n",
       "      <td>-10</td>\n",
       "      <td>1</td>\n",
       "    </tr>\n",
       "    <tr>\n",
       "      <th>180</th>\n",
       "      <td>AAA</td>\n",
       "      <td>2013J</td>\n",
       "      <td>77367</td>\n",
       "      <td>546652</td>\n",
       "      <td>-10</td>\n",
       "      <td>4</td>\n",
       "    </tr>\n",
       "    <tr>\n",
       "      <th>193</th>\n",
       "      <td>AAA</td>\n",
       "      <td>2013J</td>\n",
       "      <td>94961</td>\n",
       "      <td>546652</td>\n",
       "      <td>-10</td>\n",
       "      <td>2</td>\n",
       "    </tr>\n",
       "    <tr>\n",
       "      <th>442</th>\n",
       "      <td>AAA</td>\n",
       "      <td>2013J</td>\n",
       "      <td>248270</td>\n",
       "      <td>546652</td>\n",
       "      <td>-10</td>\n",
       "      <td>4</td>\n",
       "    </tr>\n",
       "  </tbody>\n",
       "</table>\n",
       "</div>"
      ],
      "text/plain": [
       "    code_module code_presentation id_student id_site  date  sum_click\n",
       "2           AAA             2013J      28400  546652   -10          1\n",
       "63          AAA             2013J      45462  546652   -10          1\n",
       "180         AAA             2013J      77367  546652   -10          4\n",
       "193         AAA             2013J      94961  546652   -10          2\n",
       "442         AAA             2013J     248270  546652   -10          4"
      ]
     },
     "execution_count": 8,
     "metadata": {},
     "output_type": "execute_result"
    }
   ],
   "source": [
    "duplicates = get_dupes(student_vle)\n",
    "duplicates.head()"
   ]
  },
  {
   "cell_type": "code",
   "execution_count": 13,
   "id": "61ba4c45-b3cf-4b18-bf77-6a2b708a2843",
   "metadata": {
    "tags": [
     "remove_input"
    ]
   },
   "outputs": [
    {
     "data": {
      "text/markdown": [
       "\n",
       "There are 787,170 duplicated rows which are merely the same students on the same day, interacting with the same material in the same way, which is to be expected.\n"
      ],
      "text/plain": [
       "<IPython.core.display.Markdown object>"
      ]
     },
     "execution_count": 13,
     "metadata": {},
     "output_type": "execute_result"
    }
   ],
   "source": [
    "md(f'''\n",
    "There are {\"{:,}\".format(len(duplicates))} duplicated rows which are merely the same students on the same day, interacting with the same material in the same way, which is to be expected.\n",
    "''')"
   ]
  },
  {
   "cell_type": "markdown",
   "id": "c79a572a-35cc-499a-8157-9981a44d8e63",
   "metadata": {},
   "source": [
    "**Unique Value Counts**"
   ]
  },
  {
   "cell_type": "code",
   "execution_count": 10,
   "id": "b4fdb65e-87d0-44a1-b062-ed47efeb329d",
   "metadata": {
    "tags": [
     "remove_input"
    ]
   },
   "outputs": [
    {
     "data": {
      "text/html": [
       "<style type=\"text/css\">\n",
       "#T_7c5c7_ td.col0 {\n",
       "  font-weight: bold;\n",
       "}\n",
       "</style>\n",
       "<table id=\"T_7c5c7_\">\n",
       "  <thead>\n",
       "    <tr>\n",
       "      <th class=\"col_heading level0 col0\" >index</th>\n",
       "      <th class=\"col_heading level0 col1\" >Count</th>\n",
       "    </tr>\n",
       "  </thead>\n",
       "  <tbody>\n",
       "    <tr>\n",
       "      <td id=\"T_7c5c7_row0_col0\" class=\"data row0 col0\" >code_module</td>\n",
       "      <td id=\"T_7c5c7_row0_col1\" class=\"data row0 col1\" >7</td>\n",
       "    </tr>\n",
       "    <tr>\n",
       "      <td id=\"T_7c5c7_row1_col0\" class=\"data row1 col0\" >code_presentation</td>\n",
       "      <td id=\"T_7c5c7_row1_col1\" class=\"data row1 col1\" >4</td>\n",
       "    </tr>\n",
       "    <tr>\n",
       "      <td id=\"T_7c5c7_row2_col0\" class=\"data row2 col0\" >id_student</td>\n",
       "      <td id=\"T_7c5c7_row2_col1\" class=\"data row2 col1\" >26074</td>\n",
       "    </tr>\n",
       "    <tr>\n",
       "      <td id=\"T_7c5c7_row3_col0\" class=\"data row3 col0\" >id_site</td>\n",
       "      <td id=\"T_7c5c7_row3_col1\" class=\"data row3 col1\" >6268</td>\n",
       "    </tr>\n",
       "    <tr>\n",
       "      <td id=\"T_7c5c7_row4_col0\" class=\"data row4 col0\" >date</td>\n",
       "      <td id=\"T_7c5c7_row4_col1\" class=\"data row4 col1\" >295</td>\n",
       "    </tr>\n",
       "    <tr>\n",
       "      <td id=\"T_7c5c7_row5_col0\" class=\"data row5 col0\" >sum_click</td>\n",
       "      <td id=\"T_7c5c7_row5_col1\" class=\"data row5 col1\" >498</td>\n",
       "    </tr>\n",
       "  </tbody>\n",
       "</table>\n"
      ],
      "text/plain": [
       "<pandas.io.formats.style.Styler at 0x264801deb80>"
      ]
     },
     "execution_count": 10,
     "metadata": {},
     "output_type": "execute_result"
    }
   ],
   "source": [
    "count_unique(student_vle)"
   ]
  },
  {
   "cell_type": "code",
   "execution_count": 15,
   "id": "961595d8-352a-4129-897d-d35bfe6aaa29",
   "metadata": {
    "tags": [
     "remove_input"
    ]
   },
   "outputs": [
    {
     "data": {
      "text/markdown": [
       "\n",
       "There are 26,074 in the student_vle out of the 28,785 \n",
       "students we have in student info. So 2,711 students from student info do not have online interaction data.\n"
      ],
      "text/plain": [
       "<IPython.core.display.Markdown object>"
      ]
     },
     "execution_count": 15,
     "metadata": {},
     "output_type": "execute_result"
    }
   ],
   "source": [
    "unique_students = student_vle['id_student'].nunique()\n",
    "si_unique_students = student_info['id_student'].nunique()\n",
    "md(f'''\n",
    "There are {\"{:,}\".format(unique_students)} in the student_vle out of the {\"{:,}\".format(si_unique_students)} \n",
    "students we have in student info. So {\"{:,}\".format(si_unique_students - unique_students)} students from student info do not have online interaction data.\n",
    "''')"
   ]
  },
  {
   "cell_type": "markdown",
   "id": "7a562590-c29b-48fb-9520-9342b6fda56e",
   "metadata": {},
   "source": [
    "**Numerical Values**"
   ]
  },
  {
   "cell_type": "code",
   "execution_count": 11,
   "id": "d023ff4d-786a-47aa-970a-49229747e964",
   "metadata": {
    "tags": [
     "remove_input"
    ]
   },
   "outputs": [
    {
     "data": {
      "text/html": [
       "<div>\n",
       "<style scoped>\n",
       "    .dataframe tbody tr th:only-of-type {\n",
       "        vertical-align: middle;\n",
       "    }\n",
       "\n",
       "    .dataframe tbody tr th {\n",
       "        vertical-align: top;\n",
       "    }\n",
       "\n",
       "    .dataframe thead th {\n",
       "        text-align: right;\n",
       "    }\n",
       "</style>\n",
       "<table border=\"1\" class=\"dataframe\">\n",
       "  <thead>\n",
       "    <tr style=\"text-align: right;\">\n",
       "      <th></th>\n",
       "      <th>date</th>\n",
       "      <th>sum_click</th>\n",
       "    </tr>\n",
       "  </thead>\n",
       "  <tbody>\n",
       "    <tr>\n",
       "      <th>count</th>\n",
       "      <td>10655280.0</td>\n",
       "      <td>10655280.0</td>\n",
       "    </tr>\n",
       "    <tr>\n",
       "      <th>mean</th>\n",
       "      <td>95.2</td>\n",
       "      <td>3.7</td>\n",
       "    </tr>\n",
       "    <tr>\n",
       "      <th>std</th>\n",
       "      <td>76.1</td>\n",
       "      <td>8.8</td>\n",
       "    </tr>\n",
       "    <tr>\n",
       "      <th>min</th>\n",
       "      <td>-25.0</td>\n",
       "      <td>1.0</td>\n",
       "    </tr>\n",
       "    <tr>\n",
       "      <th>25%</th>\n",
       "      <td>25.0</td>\n",
       "      <td>1.0</td>\n",
       "    </tr>\n",
       "    <tr>\n",
       "      <th>50%</th>\n",
       "      <td>86.0</td>\n",
       "      <td>2.0</td>\n",
       "    </tr>\n",
       "    <tr>\n",
       "      <th>75%</th>\n",
       "      <td>156.0</td>\n",
       "      <td>3.0</td>\n",
       "    </tr>\n",
       "    <tr>\n",
       "      <th>max</th>\n",
       "      <td>269.0</td>\n",
       "      <td>6977.0</td>\n",
       "    </tr>\n",
       "  </tbody>\n",
       "</table>\n",
       "</div>"
      ],
      "text/plain": [
       "             date   sum_click\n",
       "count  10655280.0  10655280.0\n",
       "mean         95.2         3.7\n",
       "std          76.1         8.8\n",
       "min         -25.0         1.0\n",
       "25%          25.0         1.0\n",
       "50%          86.0         2.0\n",
       "75%         156.0         3.0\n",
       "max         269.0      6977.0"
      ]
     },
     "execution_count": 11,
     "metadata": {},
     "output_type": "execute_result"
    }
   ],
   "source": [
    "student_vle.describe().round(1)"
   ]
  }
 ],
 "metadata": {
  "kernelspec": {
   "display_name": "Python 3",
   "language": "python",
   "name": "python3"
  },
  "language_info": {
   "codemirror_mode": {
    "name": "ipython",
    "version": 3
   },
   "file_extension": ".py",
   "mimetype": "text/x-python",
   "name": "python",
   "nbconvert_exporter": "python",
   "pygments_lexer": "ipython3",
   "version": "3.9.6"
  }
 },
 "nbformat": 4,
 "nbformat_minor": 5
}
