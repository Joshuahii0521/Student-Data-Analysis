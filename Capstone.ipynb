{
  "nbformat": 4,
  "nbformat_minor": 5,
  "metadata": {
    "kernelspec": {
      "display_name": "Python 3",
      "language": "python",
      "name": "python3"
    },
    "language_info": {
      "codemirror_mode": {
        "name": "ipython",
        "version": 3
      },
      "file_extension": ".py",
      "mimetype": "text/x-python",
      "name": "python",
      "nbconvert_exporter": "python",
      "pygments_lexer": "ipython3",
      "version": "3.9.6"
    },
    "colab": {
      "name": "Capstone.ipynb",
      "provenance": [],
      "collapsed_sections": [
        "240da0fe-a701-4511-8c3b-b38ea78f012c",
        "58f2cf3f-9d13-4ee3-8ae7-63c7c2aca51c",
        "f80c0f1d-193b-464f-8d61-9e1735624836",
        "b3cffd6a-015c-4bf2-a8f0-f7413cda8f37",
        "6e869245-5a8e-4b38-b112-16f9012892b1",
        "90f1c6c4-d01d-47f6-9c8f-28829b76dc4b",
        "aa8d3274-6043-4182-bc45-04ddd66be152",
        "a572d8d1-18c8-4310-b350-5c381c22cf1f",
        "144e9ffd-9d36-4ca5-a8e4-6e8fe34337b8",
        "09f60929-8c00-407e-aed0-62cae2b277c7",
        "b43f303f-57c0-4afb-b0b9-a4494a56d849",
        "ad32de33-bdef-49c8-9d6d-bdd138f14e1d",
        "f7eb4c1a-ede2-4d96-8441-0e12bbe076b9",
        "b1530889-d0de-44b8-b45d-b023ce5f36d5",
        "cd2e8536-8979-4c84-bd99-73ee63718ce1",
        "d36c56a0-ea32-4c70-8bb2-952cd05d0845",
        "d3490f75-3aef-40af-b064-5567fb439618",
        "f04c08bf-f2b2-41ee-b540-67696990ebde",
        "FmElz5qM0o9w",
        "9b3be3fc-5217-4619-9788-cdd02d29b206"
      ],
      "machine_shape": "hm",
      "include_colab_link": true
    },
    "accelerator": "GPU"
  },
  "cells": [
    {
      "cell_type": "markdown",
      "metadata": {
        "id": "view-in-github",
        "colab_type": "text"
      },
      "source": [
        "<a href=\"https://colab.research.google.com/github/freyjagarner/Student-Data-Analysis/blob/main/Capstone.ipynb\" target=\"_parent\"><img src=\"https://colab.research.google.com/assets/colab-badge.svg\" alt=\"Open In Colab\"/></a>"
      ]
    },
    {
      "cell_type": "markdown",
      "metadata": {
        "id": "621a0aa6-257c-46b0-bb00-6c1465f367eb"
      },
      "source": [
        "# Student MOOC Outcome Analysis"
      ],
      "id": "621a0aa6-257c-46b0-bb00-6c1465f367eb"
    },
    {
      "cell_type": "markdown",
      "metadata": {
        "id": "91b8de52-4f0f-4f11-9a6e-a43bfbe28cfc"
      },
      "source": [
        "## Introduction\n",
        "\n",
        "In this notebook we will be exploring student demographics and online behavior in online courses.\n",
        "\n",
        "The first goal of this exploration will be to first find information about our students. Knowing about students helps teachers to improve course content by customizing courses to their audience. For example, if it is found that most of our students only completed high school (or in this dataset A-Levels since this is based on data from the UK region) then teachers can avoid using college level language in order for students to better understand course content.\n",
        "\n",
        "The second goal of this exploration will be to find which student demographics and behavior are the best predictors of student outcome. This information can also be very useful to teachers. For example if it is found that students who interact on forums are more frequently successful in courses, teachers could perhaps set up forum updates to be sent to students via email to encourage them to interact, or assignments can be created to post and interact on forums potentially improving the odds of student success. \n",
        "\n",
        "The final goal of this exploration will be to create a model to predict student success based on the features in the data that we find to be the most significant predictors of student outcome. Such a model could be useful in the way of if applied to all students, teachers could get a notification if a student is predicted to fail at a certain point and the teacher could then reach out to the student to see if they can assist in their studies.\n",
        "\n",
        "The data for this notebook is the Open University Learning Analytics dataset available [here](https://analyse.kmi.open.ac.uk/open_dataset) and is released under the creative commons license CC-BY 4.0.\n",
        "\n",
        "The dataset consists of seven files:\n",
        "* *courses* which provides information of each course which consists of a module, the class offered, and presentation, the time at which the class was offered, and the length of the course.\n",
        "* *studentInfo* Which contains ID's for individual students, the course the student took, the student demographical information, and the student's final results.\n",
        "* *studentRegistration* which contains the registration and, if applicable, unregistration dates of students.\n",
        "* *assessments* which contains the assessment information per module.\n",
        "* *studentAssessment* which contains the student assessment scores.\n",
        "* *vle* which contains inforamtion about the virtual learning environment resources.\n",
        "* *studentVle* which contains information about student interaction with the virtual learning environment."
      ],
      "id": "91b8de52-4f0f-4f11-9a6e-a43bfbe28cfc"
    },
    {
      "cell_type": "markdown",
      "metadata": {
        "id": "240da0fe-a701-4511-8c3b-b38ea78f012c"
      },
      "source": [
        "### Initial Imports"
      ],
      "id": "240da0fe-a701-4511-8c3b-b38ea78f012c"
    },
    {
      "cell_type": "code",
      "metadata": {
        "tags": [
          "remove_cell"
        ],
        "colab": {
          "base_uri": "https://localhost:8080/"
        },
        "id": "1ec8294f-cf12-4229-87b5-55c0226b39ad",
        "outputId": "032f0125-572c-4262-b8dc-97c5857e9e7c"
      },
      "source": [
        "from google.colab import drive\n",
        "drive.mount('/content/drive')\n",
        "\n",
        "import sys\n",
        "sys.path.insert(0,'/content/drive/My Drive/Colab Notebooks/Capstone')\n",
        "\n",
        "# import libraries, data and helper functions\n",
        "from functions import *"
      ],
      "id": "1ec8294f-cf12-4229-87b5-55c0226b39ad",
      "execution_count": 1,
      "outputs": [
        {
          "output_type": "stream",
          "name": "stdout",
          "text": [
            "Mounted at /content/drive\n"
          ]
        }
      ]
    },
    {
      "cell_type": "markdown",
      "metadata": {
        "id": "58f2cf3f-9d13-4ee3-8ae7-63c7c2aca51c"
      },
      "source": [
        "## Cleaning"
      ],
      "id": "58f2cf3f-9d13-4ee3-8ae7-63c7c2aca51c"
    },
    {
      "cell_type": "markdown",
      "metadata": {
        "id": "f80c0f1d-193b-464f-8d61-9e1735624836"
      },
      "source": [
        "### Courses\n",
        "\n",
        "---"
      ],
      "id": "f80c0f1d-193b-464f-8d61-9e1735624836"
    },
    {
      "cell_type": "markdown",
      "metadata": {
        "id": "80d71c40-b913-437d-9e19-c8476990cb82"
      },
      "source": [
        "The courses dataframe has information for all modules and their presentations."
      ],
      "id": "80d71c40-b913-437d-9e19-c8476990cb82"
    },
    {
      "cell_type": "code",
      "metadata": {
        "tags": [],
        "colab": {
          "base_uri": "https://localhost:8080/",
          "height": 0
        },
        "id": "dc9c6d23-8df8-4af7-b928-455f3294ccd9",
        "outputId": "478ec2a8-091d-4bda-8698-66ef34b004d4"
      },
      "source": [
        "# show head of courses dataframe\n",
        "courses.head()"
      ],
      "id": "dc9c6d23-8df8-4af7-b928-455f3294ccd9",
      "execution_count": 2,
      "outputs": [
        {
          "output_type": "execute_result",
          "data": {
            "text/html": [
              "<div>\n",
              "<style scoped>\n",
              "    .dataframe tbody tr th:only-of-type {\n",
              "        vertical-align: middle;\n",
              "    }\n",
              "\n",
              "    .dataframe tbody tr th {\n",
              "        vertical-align: top;\n",
              "    }\n",
              "\n",
              "    .dataframe thead th {\n",
              "        text-align: right;\n",
              "    }\n",
              "</style>\n",
              "<table border=\"1\" class=\"dataframe\">\n",
              "  <thead>\n",
              "    <tr style=\"text-align: right;\">\n",
              "      <th></th>\n",
              "      <th>code_module</th>\n",
              "      <th>code_presentation</th>\n",
              "      <th>module_presentation_length</th>\n",
              "    </tr>\n",
              "  </thead>\n",
              "  <tbody>\n",
              "    <tr>\n",
              "      <th>0</th>\n",
              "      <td>AAA</td>\n",
              "      <td>2013J</td>\n",
              "      <td>268</td>\n",
              "    </tr>\n",
              "    <tr>\n",
              "      <th>1</th>\n",
              "      <td>AAA</td>\n",
              "      <td>2014J</td>\n",
              "      <td>269</td>\n",
              "    </tr>\n",
              "    <tr>\n",
              "      <th>2</th>\n",
              "      <td>BBB</td>\n",
              "      <td>2013J</td>\n",
              "      <td>268</td>\n",
              "    </tr>\n",
              "    <tr>\n",
              "      <th>3</th>\n",
              "      <td>BBB</td>\n",
              "      <td>2014J</td>\n",
              "      <td>262</td>\n",
              "    </tr>\n",
              "    <tr>\n",
              "      <th>4</th>\n",
              "      <td>BBB</td>\n",
              "      <td>2013B</td>\n",
              "      <td>240</td>\n",
              "    </tr>\n",
              "  </tbody>\n",
              "</table>\n",
              "</div>"
            ],
            "text/plain": [
              "  code_module code_presentation  module_presentation_length\n",
              "0         AAA             2013J                         268\n",
              "1         AAA             2014J                         269\n",
              "2         BBB             2013J                         268\n",
              "3         BBB             2014J                         262\n",
              "4         BBB             2013B                         240"
            ]
          },
          "metadata": {},
          "execution_count": 2
        }
      ]
    },
    {
      "cell_type": "markdown",
      "metadata": {
        "id": "b3cffd6a-015c-4bf2-a8f0-f7413cda8f37"
      },
      "source": [
        "---\n",
        "\n",
        "#### Courses Contents\n",
        "\n",
        "* **code_module**: The code module represents the code name of the course. Modules are identified with three capital letters which run sequentially between AAA and GGG\n",
        "* **code_presentation**: The presentations are codified by their year and offering semester. B is for February and J is for October. 2013B for example is February of 2013. \n",
        "* **mode_presentation_length**: The module presentation length is the length of the course in days."
      ],
      "id": "b3cffd6a-015c-4bf2-a8f0-f7413cda8f37"
    },
    {
      "cell_type": "markdown",
      "metadata": {
        "id": "1c18cbad-111f-4e65-8373-9d5907fa5100"
      },
      "source": [
        "* First the column names will be changed to be less verbose\n",
        "    * code_module to module\n",
        "    * code_presentation to presentation\n",
        "    * module_presentation_length to course_length"
      ],
      "id": "1c18cbad-111f-4e65-8373-9d5907fa5100"
    },
    {
      "cell_type": "code",
      "metadata": {
        "id": "ff49aaec-edb3-4517-abca-6a743d600b2b"
      },
      "source": [
        "# rename columns\n",
        "courses_rename = {'code_module':'module', 'code_presentation':'presentation', 'module_presentation_length':'course_length'}\n",
        "courses = courses.rename(columns=courses_rename)"
      ],
      "id": "ff49aaec-edb3-4517-abca-6a743d600b2b",
      "execution_count": 3,
      "outputs": []
    },
    {
      "cell_type": "markdown",
      "metadata": {
        "id": "6e869245-5a8e-4b38-b112-16f9012892b1"
      },
      "source": [
        "---\n",
        "\n",
        "#### Courses Information"
      ],
      "id": "6e869245-5a8e-4b38-b112-16f9012892b1"
    },
    {
      "cell_type": "markdown",
      "metadata": {
        "id": "1415fdc7-1538-4aec-95c6-598f4b364a4d"
      },
      "source": [
        "**Size**"
      ],
      "id": "1415fdc7-1538-4aec-95c6-598f4b364a4d"
    },
    {
      "cell_type": "code",
      "metadata": {
        "tags": [],
        "colab": {
          "base_uri": "https://localhost:8080/",
          "height": 0
        },
        "id": "ba42aced-3d12-4303-a050-5e2515292af2",
        "outputId": "29407ee9-a185-4a88-9c9d-fce334a059dd"
      },
      "source": [
        "# get row & column count for courses dataframe\n",
        "get_size(courses)"
      ],
      "id": "ba42aced-3d12-4303-a050-5e2515292af2",
      "execution_count": 4,
      "outputs": [
        {
          "output_type": "execute_result",
          "data": {
            "text/html": [
              "<div>\n",
              "<style scoped>\n",
              "    .dataframe tbody tr th:only-of-type {\n",
              "        vertical-align: middle;\n",
              "    }\n",
              "\n",
              "    .dataframe tbody tr th {\n",
              "        vertical-align: top;\n",
              "    }\n",
              "\n",
              "    .dataframe thead th {\n",
              "        text-align: right;\n",
              "    }\n",
              "</style>\n",
              "<table border=\"1\" class=\"dataframe\">\n",
              "  <thead>\n",
              "    <tr style=\"text-align: right;\">\n",
              "      <th></th>\n",
              "      <th>Count</th>\n",
              "    </tr>\n",
              "  </thead>\n",
              "  <tbody>\n",
              "    <tr>\n",
              "      <th>Columns</th>\n",
              "      <td>3</td>\n",
              "    </tr>\n",
              "    <tr>\n",
              "      <th>Rows</th>\n",
              "      <td>22</td>\n",
              "    </tr>\n",
              "  </tbody>\n",
              "</table>\n",
              "</div>"
            ],
            "text/plain": [
              "         Count\n",
              "Columns      3\n",
              "Rows        22"
            ]
          },
          "metadata": {},
          "execution_count": 4
        }
      ]
    },
    {
      "cell_type": "code",
      "metadata": {
        "tags": [
          "remove_input"
        ],
        "colab": {
          "base_uri": "https://localhost:8080/",
          "height": 0
        },
        "id": "488e422b-4ad5-4a4f-9429-4e4e50cc22bc",
        "outputId": "7646159f-e3ec-4c63-b167-9b50bde03237"
      },
      "source": [
        "md(f'''\n",
        "Courses has {len(courses.columns)} columns and {len(courses)} rows\n",
        "''')"
      ],
      "id": "488e422b-4ad5-4a4f-9429-4e4e50cc22bc",
      "execution_count": 5,
      "outputs": [
        {
          "output_type": "execute_result",
          "data": {
            "text/markdown": "\nCourses has 3 columns and 22 rows\n",
            "text/plain": [
              "<IPython.core.display.Markdown object>"
            ]
          },
          "metadata": {},
          "execution_count": 5
        }
      ]
    },
    {
      "cell_type": "markdown",
      "metadata": {
        "id": "0fb61db0-6c7b-44d9-9b2e-23424a657d46"
      },
      "source": [
        "**Data Types**"
      ],
      "id": "0fb61db0-6c7b-44d9-9b2e-23424a657d46"
    },
    {
      "cell_type": "code",
      "metadata": {
        "tags": [],
        "colab": {
          "base_uri": "https://localhost:8080/",
          "height": 0
        },
        "id": "8d5c6d37-c0b3-485e-9e9a-400c2fb5904d",
        "outputId": "46fc85f6-292b-4dfd-84f1-dd85be278a50"
      },
      "source": [
        "# show data types for courses dataframe\n",
        "get_dtypes(courses)"
      ],
      "id": "8d5c6d37-c0b3-485e-9e9a-400c2fb5904d",
      "execution_count": 6,
      "outputs": [
        {
          "output_type": "execute_result",
          "data": {
            "text/html": [
              "<div>\n",
              "<style scoped>\n",
              "    .dataframe tbody tr th:only-of-type {\n",
              "        vertical-align: middle;\n",
              "    }\n",
              "\n",
              "    .dataframe tbody tr th {\n",
              "        vertical-align: top;\n",
              "    }\n",
              "\n",
              "    .dataframe thead th {\n",
              "        text-align: right;\n",
              "    }\n",
              "</style>\n",
              "<table border=\"1\" class=\"dataframe\">\n",
              "  <thead>\n",
              "    <tr style=\"text-align: right;\">\n",
              "      <th></th>\n",
              "      <th>Variable</th>\n",
              "      <th>Type</th>\n",
              "    </tr>\n",
              "  </thead>\n",
              "  <tbody>\n",
              "    <tr>\n",
              "      <th>0</th>\n",
              "      <td>module</td>\n",
              "      <td>object</td>\n",
              "    </tr>\n",
              "    <tr>\n",
              "      <th>1</th>\n",
              "      <td>presentation</td>\n",
              "      <td>object</td>\n",
              "    </tr>\n",
              "    <tr>\n",
              "      <th>2</th>\n",
              "      <td>course_length</td>\n",
              "      <td>int64</td>\n",
              "    </tr>\n",
              "  </tbody>\n",
              "</table>\n",
              "</div>"
            ],
            "text/plain": [
              "        Variable    Type\n",
              "0         module  object\n",
              "1   presentation  object\n",
              "2  course_length   int64"
            ]
          },
          "metadata": {},
          "execution_count": 6
        }
      ]
    },
    {
      "cell_type": "markdown",
      "metadata": {
        "id": "234a1993-26b6-4c83-91fb-8596b95d2549"
      },
      "source": [
        "`module` and `presentation` are categorical variables and will be converted to `string` so we can later combine them to get the unique courses"
      ],
      "id": "234a1993-26b6-4c83-91fb-8596b95d2549"
    },
    {
      "cell_type": "code",
      "metadata": {
        "tags": [],
        "id": "652b033e-6b35-4ad9-9f26-77c020c0ae8d"
      },
      "source": [
        "# convert objects into datatypes that support pandas NA\n",
        "courses = courses.convert_dtypes(convert_integer=False)"
      ],
      "id": "652b033e-6b35-4ad9-9f26-77c020c0ae8d",
      "execution_count": 7,
      "outputs": []
    },
    {
      "cell_type": "markdown",
      "metadata": {
        "id": "f1f6d1e7-f635-4a30-becd-26226e770121"
      },
      "source": [
        "**Null Values**"
      ],
      "id": "f1f6d1e7-f635-4a30-becd-26226e770121"
    },
    {
      "cell_type": "code",
      "metadata": {
        "tags": [],
        "colab": {
          "base_uri": "https://localhost:8080/",
          "height": 0
        },
        "id": "489eb52f-34f6-4c58-88c4-109fd575419c",
        "outputId": "9ad8a207-48d2-456f-eeb2-1a25c50b8348"
      },
      "source": [
        "# show null values for columns in courses\n",
        "null_vals(courses)"
      ],
      "id": "489eb52f-34f6-4c58-88c4-109fd575419c",
      "execution_count": 8,
      "outputs": [
        {
          "output_type": "execute_result",
          "data": {
            "text/html": [
              "<div>\n",
              "<style scoped>\n",
              "    .dataframe tbody tr th:only-of-type {\n",
              "        vertical-align: middle;\n",
              "    }\n",
              "\n",
              "    .dataframe tbody tr th {\n",
              "        vertical-align: top;\n",
              "    }\n",
              "\n",
              "    .dataframe thead th {\n",
              "        text-align: right;\n",
              "    }\n",
              "</style>\n",
              "<table border=\"1\" class=\"dataframe\">\n",
              "  <thead>\n",
              "    <tr style=\"text-align: right;\">\n",
              "      <th></th>\n",
              "      <th>Variable</th>\n",
              "      <th>Null Values</th>\n",
              "    </tr>\n",
              "  </thead>\n",
              "  <tbody>\n",
              "    <tr>\n",
              "      <th>0</th>\n",
              "      <td>module</td>\n",
              "      <td>0</td>\n",
              "    </tr>\n",
              "    <tr>\n",
              "      <th>1</th>\n",
              "      <td>presentation</td>\n",
              "      <td>0</td>\n",
              "    </tr>\n",
              "    <tr>\n",
              "      <th>2</th>\n",
              "      <td>course_length</td>\n",
              "      <td>0</td>\n",
              "    </tr>\n",
              "  </tbody>\n",
              "</table>\n",
              "</div>"
            ],
            "text/plain": [
              "        Variable  Null Values\n",
              "0         module            0\n",
              "1   presentation            0\n",
              "2  course_length            0"
            ]
          },
          "metadata": {},
          "execution_count": 8
        }
      ]
    },
    {
      "cell_type": "markdown",
      "metadata": {
        "id": "4ae1a4eb-956b-4eb6-a0b1-fb9d331c45c7"
      },
      "source": [
        "**Duplicate Values**"
      ],
      "id": "4ae1a4eb-956b-4eb6-a0b1-fb9d331c45c7"
    },
    {
      "cell_type": "code",
      "metadata": {
        "tags": [],
        "colab": {
          "base_uri": "https://localhost:8080/",
          "height": 0
        },
        "id": "b3f6159b-ae2e-45fa-b000-adb5acf31fa7",
        "outputId": "36795bb2-fac1-4fbb-c0a2-5df57bf53073"
      },
      "source": [
        "# show duplicate values in courses if any\n",
        "get_dupes(courses)"
      ],
      "id": "b3f6159b-ae2e-45fa-b000-adb5acf31fa7",
      "execution_count": 9,
      "outputs": [
        {
          "output_type": "execute_result",
          "data": {
            "text/markdown": "There are no Duplicate Values",
            "text/plain": [
              "<IPython.core.display.Markdown object>"
            ]
          },
          "metadata": {},
          "execution_count": 9
        }
      ]
    },
    {
      "cell_type": "markdown",
      "metadata": {
        "id": "4ed21dfb-c83c-4a33-ad85-1c4578c96241"
      },
      "source": [
        "**Unique Counts**"
      ],
      "id": "4ed21dfb-c83c-4a33-ad85-1c4578c96241"
    },
    {
      "cell_type": "code",
      "metadata": {
        "tags": [],
        "colab": {
          "base_uri": "https://localhost:8080/",
          "height": 0
        },
        "id": "1a4b1e80-483d-486c-a777-793025e43d19",
        "outputId": "f114e923-fb2d-49c6-b743-843fec9d8a6f"
      },
      "source": [
        "# get counts for the unque values in courses columns\n",
        "count_unique(courses)"
      ],
      "id": "1a4b1e80-483d-486c-a777-793025e43d19",
      "execution_count": 10,
      "outputs": [
        {
          "output_type": "execute_result",
          "data": {
            "text/html": [
              "<div>\n",
              "<style scoped>\n",
              "    .dataframe tbody tr th:only-of-type {\n",
              "        vertical-align: middle;\n",
              "    }\n",
              "\n",
              "    .dataframe tbody tr th {\n",
              "        vertical-align: top;\n",
              "    }\n",
              "\n",
              "    .dataframe thead th {\n",
              "        text-align: right;\n",
              "    }\n",
              "</style>\n",
              "<table border=\"1\" class=\"dataframe\">\n",
              "  <thead>\n",
              "    <tr style=\"text-align: right;\">\n",
              "      <th></th>\n",
              "      <th>Variable</th>\n",
              "      <th>Count</th>\n",
              "    </tr>\n",
              "  </thead>\n",
              "  <tbody>\n",
              "    <tr>\n",
              "      <th>0</th>\n",
              "      <td>module</td>\n",
              "      <td>7</td>\n",
              "    </tr>\n",
              "    <tr>\n",
              "      <th>1</th>\n",
              "      <td>presentation</td>\n",
              "      <td>4</td>\n",
              "    </tr>\n",
              "    <tr>\n",
              "      <th>2</th>\n",
              "      <td>course_length</td>\n",
              "      <td>7</td>\n",
              "    </tr>\n",
              "  </tbody>\n",
              "</table>\n",
              "</div>"
            ],
            "text/plain": [
              "        Variable  Count\n",
              "0         module      7\n",
              "1   presentation      4\n",
              "2  course_length      7"
            ]
          },
          "metadata": {},
          "execution_count": 10
        }
      ]
    },
    {
      "cell_type": "code",
      "metadata": {
        "tags": [
          "remove_input"
        ],
        "colab": {
          "base_uri": "https://localhost:8080/",
          "height": 0
        },
        "id": "61c4a459-98d4-4e5f-8ef0-f3eb9cc055d5",
        "outputId": "1e9fd7cc-71b6-4040-d675-bb099e276183"
      },
      "source": [
        "# store the number of unique modules\n",
        "mod_count = courses['module'].nunique()\n",
        "\n",
        "# store the number of unique presentations\n",
        "presentation_count = courses['presentation'].nunique()\n",
        "\n",
        "# store the minimum module length in days\n",
        "min_mod_count = courses['course_length'].min()\n",
        "\n",
        "# store the maximum module length in dats\n",
        "max_mod_count = courses['course_length'].max()\n",
        "\n",
        "# store the average module length in days\n",
        "avg_mod_count = round(courses['course_length'].mean(), 1)\n",
        "\n",
        "md(f'''There are {mod_count} unique modules delivered over {presentation_count} presentations''')"
      ],
      "id": "61c4a459-98d4-4e5f-8ef0-f3eb9cc055d5",
      "execution_count": 11,
      "outputs": [
        {
          "output_type": "execute_result",
          "data": {
            "text/markdown": "There are 7 unique modules delivered over 4 presentations",
            "text/plain": [
              "<IPython.core.display.Markdown object>"
            ]
          },
          "metadata": {},
          "execution_count": 11
        }
      ]
    },
    {
      "cell_type": "markdown",
      "metadata": {
        "id": "b97d3af8-0fd1-4e27-a334-7a50b71213eb"
      },
      "source": [
        "**Unique Categorical Values**"
      ],
      "id": "b97d3af8-0fd1-4e27-a334-7a50b71213eb"
    },
    {
      "cell_type": "code",
      "metadata": {
        "tags": [],
        "colab": {
          "base_uri": "https://localhost:8080/",
          "height": 0
        },
        "id": "7604441a-bbab-4e55-94bb-a16c1d7b3caa",
        "outputId": "fcea8955-a9e9-4c42-c421-a0bdbaf42735"
      },
      "source": [
        "# get the unique categorical values in courses\n",
        "unique_vals(courses)"
      ],
      "id": "7604441a-bbab-4e55-94bb-a16c1d7b3caa",
      "execution_count": 12,
      "outputs": [
        {
          "output_type": "execute_result",
          "data": {
            "text/html": [
              "<div>\n",
              "<style scoped>\n",
              "    .dataframe tbody tr th:only-of-type {\n",
              "        vertical-align: middle;\n",
              "    }\n",
              "\n",
              "    .dataframe tbody tr th {\n",
              "        vertical-align: top;\n",
              "    }\n",
              "\n",
              "    .dataframe thead th {\n",
              "        text-align: right;\n",
              "    }\n",
              "</style>\n",
              "<table border=\"1\" class=\"dataframe\">\n",
              "  <thead>\n",
              "    <tr style=\"text-align: right;\">\n",
              "      <th></th>\n",
              "      <th>Variable</th>\n",
              "      <th>Values</th>\n",
              "    </tr>\n",
              "  </thead>\n",
              "  <tbody>\n",
              "    <tr>\n",
              "      <th>0</th>\n",
              "      <td>module</td>\n",
              "      <td>[AAA, BBB, CCC, DDD, EEE, FFF, GGG]</td>\n",
              "    </tr>\n",
              "    <tr>\n",
              "      <th>1</th>\n",
              "      <td>presentation</td>\n",
              "      <td>[2013J, 2014J, 2013B, 2014B]</td>\n",
              "    </tr>\n",
              "  </tbody>\n",
              "</table>\n",
              "</div>"
            ],
            "text/plain": [
              "       Variable                               Values\n",
              "0        module  [AAA, BBB, CCC, DDD, EEE, FFF, GGG]\n",
              "1  presentation         [2013J, 2014J, 2013B, 2014B]"
            ]
          },
          "metadata": {},
          "execution_count": 12
        }
      ]
    },
    {
      "cell_type": "markdown",
      "metadata": {
        "id": "0d38050a-5454-4f6f-aa13-1833b73bc026"
      },
      "source": [
        "Here we can see the modules AAA through GGG and the four presentations they were delivered over"
      ],
      "id": "0d38050a-5454-4f6f-aa13-1833b73bc026"
    },
    {
      "cell_type": "code",
      "metadata": {
        "tags": [
          "remove_input"
        ],
        "colab": {
          "base_uri": "https://localhost:8080/",
          "height": 0
        },
        "id": "4dde668d-4acc-4faf-9cf5-56d938afbaed",
        "outputId": "235166df-023d-40d8-e06a-504ce4fa8f6d"
      },
      "source": [
        "# making a crosstab to map each code module to its presentation\n",
        "modules_dates = pd.crosstab(index=courses['presentation'], columns=courses['module'])\n",
        "modules_dates = modules_dates.replace(1, pd.Series(modules_dates.columns, modules_dates.columns))\n",
        "modules_dates"
      ],
      "id": "4dde668d-4acc-4faf-9cf5-56d938afbaed",
      "execution_count": 13,
      "outputs": [
        {
          "output_type": "execute_result",
          "data": {
            "text/html": [
              "<div>\n",
              "<style scoped>\n",
              "    .dataframe tbody tr th:only-of-type {\n",
              "        vertical-align: middle;\n",
              "    }\n",
              "\n",
              "    .dataframe tbody tr th {\n",
              "        vertical-align: top;\n",
              "    }\n",
              "\n",
              "    .dataframe thead th {\n",
              "        text-align: right;\n",
              "    }\n",
              "</style>\n",
              "<table border=\"1\" class=\"dataframe\">\n",
              "  <thead>\n",
              "    <tr style=\"text-align: right;\">\n",
              "      <th>module</th>\n",
              "      <th>AAA</th>\n",
              "      <th>BBB</th>\n",
              "      <th>CCC</th>\n",
              "      <th>DDD</th>\n",
              "      <th>EEE</th>\n",
              "      <th>FFF</th>\n",
              "      <th>GGG</th>\n",
              "    </tr>\n",
              "    <tr>\n",
              "      <th>presentation</th>\n",
              "      <th></th>\n",
              "      <th></th>\n",
              "      <th></th>\n",
              "      <th></th>\n",
              "      <th></th>\n",
              "      <th></th>\n",
              "      <th></th>\n",
              "    </tr>\n",
              "  </thead>\n",
              "  <tbody>\n",
              "    <tr>\n",
              "      <th>2013B</th>\n",
              "      <td>0</td>\n",
              "      <td>BBB</td>\n",
              "      <td>0</td>\n",
              "      <td>DDD</td>\n",
              "      <td>0</td>\n",
              "      <td>FFF</td>\n",
              "      <td>0</td>\n",
              "    </tr>\n",
              "    <tr>\n",
              "      <th>2013J</th>\n",
              "      <td>AAA</td>\n",
              "      <td>BBB</td>\n",
              "      <td>0</td>\n",
              "      <td>DDD</td>\n",
              "      <td>EEE</td>\n",
              "      <td>FFF</td>\n",
              "      <td>GGG</td>\n",
              "    </tr>\n",
              "    <tr>\n",
              "      <th>2014B</th>\n",
              "      <td>0</td>\n",
              "      <td>BBB</td>\n",
              "      <td>CCC</td>\n",
              "      <td>DDD</td>\n",
              "      <td>EEE</td>\n",
              "      <td>FFF</td>\n",
              "      <td>GGG</td>\n",
              "    </tr>\n",
              "    <tr>\n",
              "      <th>2014J</th>\n",
              "      <td>AAA</td>\n",
              "      <td>BBB</td>\n",
              "      <td>CCC</td>\n",
              "      <td>DDD</td>\n",
              "      <td>EEE</td>\n",
              "      <td>FFF</td>\n",
              "      <td>GGG</td>\n",
              "    </tr>\n",
              "  </tbody>\n",
              "</table>\n",
              "</div>"
            ],
            "text/plain": [
              "module        AAA  BBB  CCC  DDD  EEE  FFF  GGG\n",
              "presentation                                   \n",
              "2013B           0  BBB    0  DDD    0  FFF    0\n",
              "2013J         AAA  BBB    0  DDD  EEE  FFF  GGG\n",
              "2014B           0  BBB  CCC  DDD  EEE  FFF  GGG\n",
              "2014J         AAA  BBB  CCC  DDD  EEE  FFF  GGG"
            ]
          },
          "metadata": {},
          "execution_count": 13
        }
      ]
    },
    {
      "cell_type": "markdown",
      "metadata": {
        "id": "0adb977e-1b84-4d32-a8be-caac5dfb9ac3"
      },
      "source": [
        "Here is a breakdown of each presentation and what modules were offered during that time"
      ],
      "id": "0adb977e-1b84-4d32-a8be-caac5dfb9ac3"
    },
    {
      "cell_type": "markdown",
      "metadata": {
        "id": "337bf365-12e4-41b7-bfc9-d3c39e61d863"
      },
      "source": [
        "**Numerical Values**"
      ],
      "id": "337bf365-12e4-41b7-bfc9-d3c39e61d863"
    },
    {
      "cell_type": "code",
      "metadata": {
        "tags": [],
        "colab": {
          "base_uri": "https://localhost:8080/",
          "height": 0
        },
        "id": "c3e0e635-0b4a-4cfa-8f67-2a191b160609",
        "outputId": "8da36e16-509f-4853-cbed-981730d38bfa"
      },
      "source": [
        "# show statistical breakdown of numerical values in courses\n",
        "courses.describe().round(1)"
      ],
      "id": "c3e0e635-0b4a-4cfa-8f67-2a191b160609",
      "execution_count": 14,
      "outputs": [
        {
          "output_type": "execute_result",
          "data": {
            "text/html": [
              "<div>\n",
              "<style scoped>\n",
              "    .dataframe tbody tr th:only-of-type {\n",
              "        vertical-align: middle;\n",
              "    }\n",
              "\n",
              "    .dataframe tbody tr th {\n",
              "        vertical-align: top;\n",
              "    }\n",
              "\n",
              "    .dataframe thead th {\n",
              "        text-align: right;\n",
              "    }\n",
              "</style>\n",
              "<table border=\"1\" class=\"dataframe\">\n",
              "  <thead>\n",
              "    <tr style=\"text-align: right;\">\n",
              "      <th></th>\n",
              "      <th>course_length</th>\n",
              "    </tr>\n",
              "  </thead>\n",
              "  <tbody>\n",
              "    <tr>\n",
              "      <th>count</th>\n",
              "      <td>22.0</td>\n",
              "    </tr>\n",
              "    <tr>\n",
              "      <th>mean</th>\n",
              "      <td>255.5</td>\n",
              "    </tr>\n",
              "    <tr>\n",
              "      <th>std</th>\n",
              "      <td>13.7</td>\n",
              "    </tr>\n",
              "    <tr>\n",
              "      <th>min</th>\n",
              "      <td>234.0</td>\n",
              "    </tr>\n",
              "    <tr>\n",
              "      <th>25%</th>\n",
              "      <td>241.0</td>\n",
              "    </tr>\n",
              "    <tr>\n",
              "      <th>50%</th>\n",
              "      <td>261.5</td>\n",
              "    </tr>\n",
              "    <tr>\n",
              "      <th>75%</th>\n",
              "      <td>268.0</td>\n",
              "    </tr>\n",
              "    <tr>\n",
              "      <th>max</th>\n",
              "      <td>269.0</td>\n",
              "    </tr>\n",
              "  </tbody>\n",
              "</table>\n",
              "</div>"
            ],
            "text/plain": [
              "       course_length\n",
              "count           22.0\n",
              "mean           255.5\n",
              "std             13.7\n",
              "min            234.0\n",
              "25%            241.0\n",
              "50%            261.5\n",
              "75%            268.0\n",
              "max            269.0"
            ]
          },
          "metadata": {},
          "execution_count": 14
        }
      ]
    },
    {
      "cell_type": "code",
      "metadata": {
        "tags": [
          "remove_input"
        ],
        "colab": {
          "base_uri": "https://localhost:8080/",
          "height": 0
        },
        "id": "f7d1f5cc-e553-4a86-b812-5c5f1a99c13d",
        "outputId": "3fad65ed-2553-4a21-88cc-c67c78e40303"
      },
      "source": [
        "md(f\"\"\"\n",
        "* Modules range from {min_mod_count} to {max_mod_count} days in length.\n",
        "* The average module is {avg_mod_count} days.\n",
        "\"\"\")"
      ],
      "id": "f7d1f5cc-e553-4a86-b812-5c5f1a99c13d",
      "execution_count": 15,
      "outputs": [
        {
          "output_type": "execute_result",
          "data": {
            "text/markdown": "\n* Modules range from 234 to 269 days in length.\n* The average module is 255.5 days.\n",
            "text/plain": [
              "<IPython.core.display.Markdown object>"
            ]
          },
          "metadata": {},
          "execution_count": 15
        }
      ]
    },
    {
      "cell_type": "markdown",
      "metadata": {
        "id": "90f1c6c4-d01d-47f6-9c8f-28829b76dc4b"
      },
      "source": [
        "### Student Information\n",
        "\n",
        "---"
      ],
      "id": "90f1c6c4-d01d-47f6-9c8f-28829b76dc4b"
    },
    {
      "cell_type": "markdown",
      "metadata": {
        "id": "4a61b2f9-619b-48c0-93e5-2a100e8bb757"
      },
      "source": [
        "The student info file contains details about students including the module they took, the presentation they took the module during, demographic information and the final result of their studies."
      ],
      "id": "4a61b2f9-619b-48c0-93e5-2a100e8bb757"
    },
    {
      "cell_type": "code",
      "metadata": {
        "tags": [],
        "colab": {
          "base_uri": "https://localhost:8080/",
          "height": 0
        },
        "id": "916d14fb-0e84-406d-a870-8825b484506c",
        "outputId": "3709ca11-3eca-4442-d054-b87ba42d6c45"
      },
      "source": [
        "# looking at the stud_info dataframe\n",
        "student_info.head()"
      ],
      "id": "916d14fb-0e84-406d-a870-8825b484506c",
      "execution_count": 16,
      "outputs": [
        {
          "output_type": "execute_result",
          "data": {
            "text/html": [
              "<div>\n",
              "<style scoped>\n",
              "    .dataframe tbody tr th:only-of-type {\n",
              "        vertical-align: middle;\n",
              "    }\n",
              "\n",
              "    .dataframe tbody tr th {\n",
              "        vertical-align: top;\n",
              "    }\n",
              "\n",
              "    .dataframe thead th {\n",
              "        text-align: right;\n",
              "    }\n",
              "</style>\n",
              "<table border=\"1\" class=\"dataframe\">\n",
              "  <thead>\n",
              "    <tr style=\"text-align: right;\">\n",
              "      <th></th>\n",
              "      <th>code_module</th>\n",
              "      <th>code_presentation</th>\n",
              "      <th>id_student</th>\n",
              "      <th>gender</th>\n",
              "      <th>region</th>\n",
              "      <th>highest_education</th>\n",
              "      <th>imd_band</th>\n",
              "      <th>age_band</th>\n",
              "      <th>num_of_prev_attempts</th>\n",
              "      <th>studied_credits</th>\n",
              "      <th>disability</th>\n",
              "      <th>final_result</th>\n",
              "    </tr>\n",
              "  </thead>\n",
              "  <tbody>\n",
              "    <tr>\n",
              "      <th>0</th>\n",
              "      <td>AAA</td>\n",
              "      <td>2013J</td>\n",
              "      <td>11391</td>\n",
              "      <td>M</td>\n",
              "      <td>East Anglian Region</td>\n",
              "      <td>HE Qualification</td>\n",
              "      <td>90-100%</td>\n",
              "      <td>55&lt;=</td>\n",
              "      <td>0</td>\n",
              "      <td>240</td>\n",
              "      <td>N</td>\n",
              "      <td>Pass</td>\n",
              "    </tr>\n",
              "    <tr>\n",
              "      <th>1</th>\n",
              "      <td>AAA</td>\n",
              "      <td>2013J</td>\n",
              "      <td>28400</td>\n",
              "      <td>F</td>\n",
              "      <td>Scotland</td>\n",
              "      <td>HE Qualification</td>\n",
              "      <td>20-30%</td>\n",
              "      <td>35-55</td>\n",
              "      <td>0</td>\n",
              "      <td>60</td>\n",
              "      <td>N</td>\n",
              "      <td>Pass</td>\n",
              "    </tr>\n",
              "    <tr>\n",
              "      <th>2</th>\n",
              "      <td>AAA</td>\n",
              "      <td>2013J</td>\n",
              "      <td>30268</td>\n",
              "      <td>F</td>\n",
              "      <td>North Western Region</td>\n",
              "      <td>A Level or Equivalent</td>\n",
              "      <td>30-40%</td>\n",
              "      <td>35-55</td>\n",
              "      <td>0</td>\n",
              "      <td>60</td>\n",
              "      <td>Y</td>\n",
              "      <td>Withdrawn</td>\n",
              "    </tr>\n",
              "    <tr>\n",
              "      <th>3</th>\n",
              "      <td>AAA</td>\n",
              "      <td>2013J</td>\n",
              "      <td>31604</td>\n",
              "      <td>F</td>\n",
              "      <td>South East Region</td>\n",
              "      <td>A Level or Equivalent</td>\n",
              "      <td>50-60%</td>\n",
              "      <td>35-55</td>\n",
              "      <td>0</td>\n",
              "      <td>60</td>\n",
              "      <td>N</td>\n",
              "      <td>Pass</td>\n",
              "    </tr>\n",
              "    <tr>\n",
              "      <th>4</th>\n",
              "      <td>AAA</td>\n",
              "      <td>2013J</td>\n",
              "      <td>32885</td>\n",
              "      <td>F</td>\n",
              "      <td>West Midlands Region</td>\n",
              "      <td>Lower Than A Level</td>\n",
              "      <td>50-60%</td>\n",
              "      <td>0-35</td>\n",
              "      <td>0</td>\n",
              "      <td>60</td>\n",
              "      <td>N</td>\n",
              "      <td>Pass</td>\n",
              "    </tr>\n",
              "  </tbody>\n",
              "</table>\n",
              "</div>"
            ],
            "text/plain": [
              "  code_module code_presentation  ...  disability final_result\n",
              "0         AAA             2013J  ...           N         Pass\n",
              "1         AAA             2013J  ...           N         Pass\n",
              "2         AAA             2013J  ...           Y    Withdrawn\n",
              "3         AAA             2013J  ...           N         Pass\n",
              "4         AAA             2013J  ...           N         Pass\n",
              "\n",
              "[5 rows x 12 columns]"
            ]
          },
          "metadata": {},
          "execution_count": 16
        }
      ]
    },
    {
      "cell_type": "markdown",
      "metadata": {
        "id": "aa8d3274-6043-4182-bc45-04ddd66be152"
      },
      "source": [
        "#### Student Info Contents\n",
        "\n",
        "* **code_module**: The code module represents the course the student is taking.\n",
        "* **code_presentation**: The code presentations are the year and semester the student is taking the course.\n",
        "* **id_student**: The student ID is a unique identifier for each student\n",
        "* **gender**: The gender represents the binary gender of a student 'M' for students who identify as male and 'F' for students who identify as female.\n",
        "* **region**: Region represents the location of the student when they took the module. All regions are in the UK, Scotland, Ireland or Wales.\n",
        "* **highest_education**: Highest education is representative of a students highest level of formal academic achievement.\n",
        "    - Education levels in order from least to most formal education: \n",
        "        - No formal quals (qualifications)\n",
        "        - Lower than A Level which is nearly but not quite analagous to under high school level\n",
        "        - A Level or equivalent which is again nearly analagous to high school level, but more like college ready\n",
        "        - HE Qualification which stands for higher education qualification\n",
        "        - Post Graduate Qualification\n",
        "* **imd_band**: The imd_band represents the Indices of multiple deprivation (IMD) score which is a commonly used method in the UK to measure poverty or deprivation in an area. The lower the score, the more 'deprived' the area is.\n",
        "* **age_band**: There are only three bins for age; _0-35_, _35-55_ and _55<=_\n",
        "* **num_of_prev_attempts**: The number of times the student has attempted the course previously.\n",
        "* **studied_credits**: The number of credits for the module the student is taking.\n",
        "* **disability**: Disability status is represented by a binary 'Y', yes a student does identify as having a disability and 'N', no a student does not identify as having a disability.\n",
        "* **final_results**: * The final result is the students overall result in the class.\n",
        "    - Possible Results include:\n",
        "         - _Pass_: The student passed the course\n",
        "         - _Fail_: The student did not pass the course\n",
        "         - _Withdraw_: The student withdrew before the course term ended\n",
        "         - _Distinction_: The student passed the class with distinction"
      ],
      "id": "aa8d3274-6043-4182-bc45-04ddd66be152"
    },
    {
      "cell_type": "markdown",
      "metadata": {
        "id": "2c6af919-e5c5-4c0f-9993-ee9a08b3aece"
      },
      "source": [
        "#### Student Registration\n",
        "\n",
        "---"
      ],
      "id": "2c6af919-e5c5-4c0f-9993-ee9a08b3aece"
    },
    {
      "cell_type": "markdown",
      "metadata": {
        "id": "5493a1e3-8362-440a-885c-905f20f1eaaf"
      },
      "source": [
        "The information that the student registration file adds includes the dates that students registered and, if applicable, unregistered from the module."
      ],
      "id": "5493a1e3-8362-440a-885c-905f20f1eaaf"
    },
    {
      "cell_type": "code",
      "metadata": {
        "tags": [],
        "colab": {
          "base_uri": "https://localhost:8080/",
          "height": 0
        },
        "id": "038e7184-c4f0-4969-992f-aa2ef246eab1",
        "outputId": "e6f9af03-32b5-4bda-d207-d3de817eb82a"
      },
      "source": [
        "# looking at the student_registration dataframe\n",
        "student_registration.head()"
      ],
      "id": "038e7184-c4f0-4969-992f-aa2ef246eab1",
      "execution_count": 17,
      "outputs": [
        {
          "output_type": "execute_result",
          "data": {
            "text/html": [
              "<div>\n",
              "<style scoped>\n",
              "    .dataframe tbody tr th:only-of-type {\n",
              "        vertical-align: middle;\n",
              "    }\n",
              "\n",
              "    .dataframe tbody tr th {\n",
              "        vertical-align: top;\n",
              "    }\n",
              "\n",
              "    .dataframe thead th {\n",
              "        text-align: right;\n",
              "    }\n",
              "</style>\n",
              "<table border=\"1\" class=\"dataframe\">\n",
              "  <thead>\n",
              "    <tr style=\"text-align: right;\">\n",
              "      <th></th>\n",
              "      <th>code_module</th>\n",
              "      <th>code_presentation</th>\n",
              "      <th>id_student</th>\n",
              "      <th>date_registration</th>\n",
              "      <th>date_unregistration</th>\n",
              "    </tr>\n",
              "  </thead>\n",
              "  <tbody>\n",
              "    <tr>\n",
              "      <th>0</th>\n",
              "      <td>AAA</td>\n",
              "      <td>2013J</td>\n",
              "      <td>11391</td>\n",
              "      <td>-159.0</td>\n",
              "      <td>NaN</td>\n",
              "    </tr>\n",
              "    <tr>\n",
              "      <th>1</th>\n",
              "      <td>AAA</td>\n",
              "      <td>2013J</td>\n",
              "      <td>28400</td>\n",
              "      <td>-53.0</td>\n",
              "      <td>NaN</td>\n",
              "    </tr>\n",
              "    <tr>\n",
              "      <th>2</th>\n",
              "      <td>AAA</td>\n",
              "      <td>2013J</td>\n",
              "      <td>30268</td>\n",
              "      <td>-92.0</td>\n",
              "      <td>12.0</td>\n",
              "    </tr>\n",
              "    <tr>\n",
              "      <th>3</th>\n",
              "      <td>AAA</td>\n",
              "      <td>2013J</td>\n",
              "      <td>31604</td>\n",
              "      <td>-52.0</td>\n",
              "      <td>NaN</td>\n",
              "    </tr>\n",
              "    <tr>\n",
              "      <th>4</th>\n",
              "      <td>AAA</td>\n",
              "      <td>2013J</td>\n",
              "      <td>32885</td>\n",
              "      <td>-176.0</td>\n",
              "      <td>NaN</td>\n",
              "    </tr>\n",
              "  </tbody>\n",
              "</table>\n",
              "</div>"
            ],
            "text/plain": [
              "  code_module code_presentation  ...  date_registration  date_unregistration\n",
              "0         AAA             2013J  ...             -159.0                  NaN\n",
              "1         AAA             2013J  ...              -53.0                  NaN\n",
              "2         AAA             2013J  ...              -92.0                 12.0\n",
              "3         AAA             2013J  ...              -52.0                  NaN\n",
              "4         AAA             2013J  ...             -176.0                  NaN\n",
              "\n",
              "[5 rows x 5 columns]"
            ]
          },
          "metadata": {},
          "execution_count": 17
        }
      ]
    },
    {
      "cell_type": "markdown",
      "metadata": {
        "id": "e1536280-ddb7-4bfe-ade1-047e6d0ea136"
      },
      "source": [
        "#### Student Registration Contents\n",
        "\n",
        "* **code_module**: The code module represents the course which the sutdent registered for.\n",
        "* **code_presentation**: The code presentation represents the time of year the course which the student registered for began.\n",
        "* **id_student**: The student ID is the unique identifier for each student.\n",
        "* **date_registration**: The registration date is the date that the student registered for the module relative to the start of the module. A negative value indicates that many days before the module began.\n",
        "* **date_unregistration**: The unregistration date is the date that the student unregistered from the course module in relation to the start date of the course, if applicable."
      ],
      "id": "e1536280-ddb7-4bfe-ade1-047e6d0ea136"
    },
    {
      "cell_type": "markdown",
      "metadata": {
        "id": "efe9f3ff-3379-4e50-89ac-ae5804450279"
      },
      "source": [
        "```{note}\n",
        "* The student registration dataframe matches 1:1 with the student info dataframe only adding the date the student registered and the date in which they unregistered, and so we will merge these two dataframes.\n",
        "* The dataframe columns can then be reordered to keep relevent data together. \n",
        "```"
      ],
      "id": "efe9f3ff-3379-4e50-89ac-ae5804450279"
    },
    {
      "cell_type": "code",
      "metadata": {
        "tags": [],
        "id": "ebbe7ba3-5498-42ba-82ac-b19e1c6aaa32"
      },
      "source": [
        "# outer join and merge student info with student registration\n",
        "stud_info = student_info.merge(student_registration, how='outer', on=['code_module', 'code_presentation', 'id_student'], indicator=False)\n",
        "\n",
        "# reordering the stud_info dataframe to keep country, module and student data together\n",
        "stud_info = stud_info[['code_module', 'code_presentation', 'id_student', 'region', 'imd_band', 'age_band', 'gender', 'highest_education', 'disability', 'num_of_prev_attempts', 'studied_credits', 'final_result', 'date_registration', 'date_unregistration']]"
      ],
      "id": "ebbe7ba3-5498-42ba-82ac-b19e1c6aaa32",
      "execution_count": 18,
      "outputs": []
    },
    {
      "cell_type": "markdown",
      "metadata": {
        "id": "bc1cc623-30b3-45ed-b132-c2899a6fd043"
      },
      "source": [
        "* Column names will be changed to be less verbose\n",
        "    * code_module to module\n",
        "    * code_presentation to presentation\n",
        "    * highest_education to education\n",
        "    * imd_band to imd\n",
        "    * age_band to age\n",
        "    * num_of_prev_attempts to attempts\n",
        "    * studied_credits to credits\n",
        "    * final result to result\n",
        "    \n",
        "* Column values will be changed to be less verbose:\n",
        "    * education\n",
        "        - `HE Qualification` to `HE`\n",
        "        - `A Level or Equivalent` to `A Level`\n",
        "        - `Lower than A Level` to `Under A Level`\n",
        "        - `Post Graduate Qualification` to `Post Grad`\n",
        "        - `No Formal quals` to `No Formal`\n",
        "    * region\n",
        "        - Region will be removed from the end of each region name"
      ],
      "id": "bc1cc623-30b3-45ed-b132-c2899a6fd043"
    },
    {
      "cell_type": "code",
      "metadata": {
        "id": "39e86619-7289-4e68-9a10-9a23b680530a"
      },
      "source": [
        "# rename columns to be easier to see/work with\n",
        "stud_info_rename = {'code_module':'module', 'code_presentation':'presentation', 'final_result':'result', 'studied_credits':'credits', 'age_band':'age', 'num_of_prev_attempts':'attempts', 'highest_education':'education', 'imd_band':'imd'}\n",
        "stud_info = stud_info.rename(columns=stud_info_rename)\n",
        "\n",
        "# rename column values to be easier to see/work with\n",
        "stud_info = stud_info.replace({'region':{'East Anglian Region':'East Anglian', 'North Western Region':'North Western', 'South East Region':'South East', 'West Midlands Region':'West Midlands', 'North Region':'North',\n",
        " 'South Region':'South', 'South West Region':'South West', 'East Midlands Region':'East Midlands',\n",
        " 'Yorkshire Region':'Yorkshire', 'London Region':'London'}, 'education':{'HE Qualification':'HE', 'A Level or Equivalent':'A Level', 'Post Graduate Qualification':'Post Grad', 'No Formal quals':'No Formal', 'Lower Than A Level':'Under A Level'}})"
      ],
      "id": "39e86619-7289-4e68-9a10-9a23b680530a",
      "execution_count": 19,
      "outputs": []
    },
    {
      "cell_type": "markdown",
      "metadata": {
        "id": "a820c190-3e19-4b58-af2a-e707f9aa32bc"
      },
      "source": [
        "#### Student Info Information"
      ],
      "id": "a820c190-3e19-4b58-af2a-e707f9aa32bc"
    },
    {
      "cell_type": "markdown",
      "metadata": {
        "id": "e5d0231a-4a87-4e72-92e2-6920a341fa64"
      },
      "source": [
        "**Size**"
      ],
      "id": "e5d0231a-4a87-4e72-92e2-6920a341fa64"
    },
    {
      "cell_type": "code",
      "metadata": {
        "colab": {
          "base_uri": "https://localhost:8080/",
          "height": 0
        },
        "id": "1f8d9f74-6321-4862-a536-5668529ba91a",
        "outputId": "02c10c59-edd1-46c6-db27-249c8b34d29c"
      },
      "source": [
        "get_size(stud_info)"
      ],
      "id": "1f8d9f74-6321-4862-a536-5668529ba91a",
      "execution_count": 20,
      "outputs": [
        {
          "output_type": "execute_result",
          "data": {
            "text/html": [
              "<div>\n",
              "<style scoped>\n",
              "    .dataframe tbody tr th:only-of-type {\n",
              "        vertical-align: middle;\n",
              "    }\n",
              "\n",
              "    .dataframe tbody tr th {\n",
              "        vertical-align: top;\n",
              "    }\n",
              "\n",
              "    .dataframe thead th {\n",
              "        text-align: right;\n",
              "    }\n",
              "</style>\n",
              "<table border=\"1\" class=\"dataframe\">\n",
              "  <thead>\n",
              "    <tr style=\"text-align: right;\">\n",
              "      <th></th>\n",
              "      <th>Count</th>\n",
              "    </tr>\n",
              "  </thead>\n",
              "  <tbody>\n",
              "    <tr>\n",
              "      <th>Columns</th>\n",
              "      <td>14</td>\n",
              "    </tr>\n",
              "    <tr>\n",
              "      <th>Rows</th>\n",
              "      <td>32593</td>\n",
              "    </tr>\n",
              "  </tbody>\n",
              "</table>\n",
              "</div>"
            ],
            "text/plain": [
              "         Count\n",
              "Columns     14\n",
              "Rows     32593"
            ]
          },
          "metadata": {},
          "execution_count": 20
        }
      ]
    },
    {
      "cell_type": "code",
      "metadata": {
        "tags": [
          "remove_input"
        ],
        "colab": {
          "base_uri": "https://localhost:8080/",
          "height": 0
        },
        "id": "846e6a24-8b7b-4c44-b0a1-061d72144c09",
        "outputId": "2d04842c-b9b3-4ffe-d37d-b33ad99c87f3"
      },
      "source": [
        "md(f'''\n",
        "`stud_info` has {len(stud_info.columns)} columns and {'{:,}'.format(len(stud_info))} rows representing our students and their information.\n",
        "''')"
      ],
      "id": "846e6a24-8b7b-4c44-b0a1-061d72144c09",
      "execution_count": 21,
      "outputs": [
        {
          "output_type": "execute_result",
          "data": {
            "text/markdown": "\n`stud_info` has 14 columns and 32,593 rows representing our students and their information.\n",
            "text/plain": [
              "<IPython.core.display.Markdown object>"
            ]
          },
          "metadata": {},
          "execution_count": 21
        }
      ]
    },
    {
      "cell_type": "markdown",
      "metadata": {
        "id": "76056444-a214-4282-a6b2-31f9a970c6bb"
      },
      "source": [
        "**Data Types**"
      ],
      "id": "76056444-a214-4282-a6b2-31f9a970c6bb"
    },
    {
      "cell_type": "code",
      "metadata": {
        "tags": [],
        "colab": {
          "base_uri": "https://localhost:8080/",
          "height": 0
        },
        "id": "2d13252c-8afe-496c-b273-37ead8bc0b8b",
        "outputId": "2f5e0c40-3543-4dfe-d31e-ba88203917ac"
      },
      "source": [
        "# show student info data types\n",
        "get_dtypes(stud_info)"
      ],
      "id": "2d13252c-8afe-496c-b273-37ead8bc0b8b",
      "execution_count": 22,
      "outputs": [
        {
          "output_type": "execute_result",
          "data": {
            "text/html": [
              "<div>\n",
              "<style scoped>\n",
              "    .dataframe tbody tr th:only-of-type {\n",
              "        vertical-align: middle;\n",
              "    }\n",
              "\n",
              "    .dataframe tbody tr th {\n",
              "        vertical-align: top;\n",
              "    }\n",
              "\n",
              "    .dataframe thead th {\n",
              "        text-align: right;\n",
              "    }\n",
              "</style>\n",
              "<table border=\"1\" class=\"dataframe\">\n",
              "  <thead>\n",
              "    <tr style=\"text-align: right;\">\n",
              "      <th></th>\n",
              "      <th>Variable</th>\n",
              "      <th>Type</th>\n",
              "    </tr>\n",
              "  </thead>\n",
              "  <tbody>\n",
              "    <tr>\n",
              "      <th>0</th>\n",
              "      <td>module</td>\n",
              "      <td>object</td>\n",
              "    </tr>\n",
              "    <tr>\n",
              "      <th>1</th>\n",
              "      <td>presentation</td>\n",
              "      <td>object</td>\n",
              "    </tr>\n",
              "    <tr>\n",
              "      <th>2</th>\n",
              "      <td>id_student</td>\n",
              "      <td>int64</td>\n",
              "    </tr>\n",
              "    <tr>\n",
              "      <th>3</th>\n",
              "      <td>region</td>\n",
              "      <td>object</td>\n",
              "    </tr>\n",
              "    <tr>\n",
              "      <th>4</th>\n",
              "      <td>imd</td>\n",
              "      <td>object</td>\n",
              "    </tr>\n",
              "    <tr>\n",
              "      <th>5</th>\n",
              "      <td>age</td>\n",
              "      <td>object</td>\n",
              "    </tr>\n",
              "    <tr>\n",
              "      <th>6</th>\n",
              "      <td>gender</td>\n",
              "      <td>object</td>\n",
              "    </tr>\n",
              "    <tr>\n",
              "      <th>7</th>\n",
              "      <td>education</td>\n",
              "      <td>object</td>\n",
              "    </tr>\n",
              "    <tr>\n",
              "      <th>8</th>\n",
              "      <td>disability</td>\n",
              "      <td>object</td>\n",
              "    </tr>\n",
              "    <tr>\n",
              "      <th>9</th>\n",
              "      <td>attempts</td>\n",
              "      <td>int64</td>\n",
              "    </tr>\n",
              "    <tr>\n",
              "      <th>10</th>\n",
              "      <td>credits</td>\n",
              "      <td>int64</td>\n",
              "    </tr>\n",
              "    <tr>\n",
              "      <th>11</th>\n",
              "      <td>result</td>\n",
              "      <td>object</td>\n",
              "    </tr>\n",
              "    <tr>\n",
              "      <th>12</th>\n",
              "      <td>date_registration</td>\n",
              "      <td>float64</td>\n",
              "    </tr>\n",
              "    <tr>\n",
              "      <th>13</th>\n",
              "      <td>date_unregistration</td>\n",
              "      <td>float64</td>\n",
              "    </tr>\n",
              "  </tbody>\n",
              "</table>\n",
              "</div>"
            ],
            "text/plain": [
              "               Variable     Type\n",
              "0                module   object\n",
              "1          presentation   object\n",
              "2            id_student    int64\n",
              "3                region   object\n",
              "4                   imd   object\n",
              "5                   age   object\n",
              "6                gender   object\n",
              "7             education   object\n",
              "8            disability   object\n",
              "9              attempts    int64\n",
              "10              credits    int64\n",
              "11               result   object\n",
              "12    date_registration  float64\n",
              "13  date_unregistration  float64"
            ]
          },
          "metadata": {},
          "execution_count": 22
        }
      ]
    },
    {
      "cell_type": "markdown",
      "metadata": {
        "id": "dfd5833a-1aed-4d3c-aec6-1de941ff4cfa"
      },
      "source": [
        "* `id_student`, `module`, `region`, `imd`, `age`, `gender`, `education`, `result` and `presentation` will be converted to `string`"
      ],
      "id": "dfd5833a-1aed-4d3c-aec6-1de941ff4cfa"
    },
    {
      "cell_type": "code",
      "metadata": {
        "tags": [],
        "id": "66fa9c51-2c4c-451f-b20c-d3539e5d8a25"
      },
      "source": [
        "# changing id_student to the category data type\n",
        "stud_info = stud_info.astype({'id_student':str})\n",
        "stud_info = stud_info.convert_dtypes()"
      ],
      "id": "66fa9c51-2c4c-451f-b20c-d3539e5d8a25",
      "execution_count": 23,
      "outputs": []
    },
    {
      "cell_type": "markdown",
      "metadata": {
        "id": "fbb39656-e2ee-48ce-bcbb-c04d1f7403b6"
      },
      "source": [
        "**Null Values**"
      ],
      "id": "fbb39656-e2ee-48ce-bcbb-c04d1f7403b6"
    },
    {
      "cell_type": "code",
      "metadata": {
        "tags": [],
        "colab": {
          "base_uri": "https://localhost:8080/",
          "height": 0
        },
        "id": "63f24df6-1d6c-4287-b3b6-7f7b92a82efc",
        "outputId": "4ce2da31-83a3-44fa-8234-0fd2569e7ce7"
      },
      "source": [
        "null_vals(stud_info)"
      ],
      "id": "63f24df6-1d6c-4287-b3b6-7f7b92a82efc",
      "execution_count": 24,
      "outputs": [
        {
          "output_type": "execute_result",
          "data": {
            "text/html": [
              "<div>\n",
              "<style scoped>\n",
              "    .dataframe tbody tr th:only-of-type {\n",
              "        vertical-align: middle;\n",
              "    }\n",
              "\n",
              "    .dataframe tbody tr th {\n",
              "        vertical-align: top;\n",
              "    }\n",
              "\n",
              "    .dataframe thead th {\n",
              "        text-align: right;\n",
              "    }\n",
              "</style>\n",
              "<table border=\"1\" class=\"dataframe\">\n",
              "  <thead>\n",
              "    <tr style=\"text-align: right;\">\n",
              "      <th></th>\n",
              "      <th>Variable</th>\n",
              "      <th>Null Values</th>\n",
              "    </tr>\n",
              "  </thead>\n",
              "  <tbody>\n",
              "    <tr>\n",
              "      <th>0</th>\n",
              "      <td>module</td>\n",
              "      <td>0</td>\n",
              "    </tr>\n",
              "    <tr>\n",
              "      <th>1</th>\n",
              "      <td>presentation</td>\n",
              "      <td>0</td>\n",
              "    </tr>\n",
              "    <tr>\n",
              "      <th>2</th>\n",
              "      <td>id_student</td>\n",
              "      <td>0</td>\n",
              "    </tr>\n",
              "    <tr>\n",
              "      <th>3</th>\n",
              "      <td>region</td>\n",
              "      <td>0</td>\n",
              "    </tr>\n",
              "    <tr>\n",
              "      <th>4</th>\n",
              "      <td>imd</td>\n",
              "      <td>1111</td>\n",
              "    </tr>\n",
              "    <tr>\n",
              "      <th>5</th>\n",
              "      <td>age</td>\n",
              "      <td>0</td>\n",
              "    </tr>\n",
              "    <tr>\n",
              "      <th>6</th>\n",
              "      <td>gender</td>\n",
              "      <td>0</td>\n",
              "    </tr>\n",
              "    <tr>\n",
              "      <th>7</th>\n",
              "      <td>education</td>\n",
              "      <td>0</td>\n",
              "    </tr>\n",
              "    <tr>\n",
              "      <th>8</th>\n",
              "      <td>disability</td>\n",
              "      <td>0</td>\n",
              "    </tr>\n",
              "    <tr>\n",
              "      <th>9</th>\n",
              "      <td>attempts</td>\n",
              "      <td>0</td>\n",
              "    </tr>\n",
              "    <tr>\n",
              "      <th>10</th>\n",
              "      <td>credits</td>\n",
              "      <td>0</td>\n",
              "    </tr>\n",
              "    <tr>\n",
              "      <th>11</th>\n",
              "      <td>result</td>\n",
              "      <td>0</td>\n",
              "    </tr>\n",
              "    <tr>\n",
              "      <th>12</th>\n",
              "      <td>date_registration</td>\n",
              "      <td>45</td>\n",
              "    </tr>\n",
              "    <tr>\n",
              "      <th>13</th>\n",
              "      <td>date_unregistration</td>\n",
              "      <td>22521</td>\n",
              "    </tr>\n",
              "  </tbody>\n",
              "</table>\n",
              "</div>"
            ],
            "text/plain": [
              "               Variable  Null Values\n",
              "0                module            0\n",
              "1          presentation            0\n",
              "2            id_student            0\n",
              "3                region            0\n",
              "4                   imd         1111\n",
              "5                   age            0\n",
              "6                gender            0\n",
              "7             education            0\n",
              "8            disability            0\n",
              "9              attempts            0\n",
              "10              credits            0\n",
              "11               result            0\n",
              "12    date_registration           45\n",
              "13  date_unregistration        22521"
            ]
          },
          "metadata": {},
          "execution_count": 24
        }
      ]
    },
    {
      "cell_type": "code",
      "metadata": {
        "tags": [
          "remove_input"
        ],
        "colab": {
          "base_uri": "https://localhost:8080/",
          "height": 0
        },
        "id": "3df60b4b-af12-49b1-9a97-2445d421c767",
        "outputId": "9260868c-2a34-4205-e361-0a5af3078a82"
      },
      "source": [
        "# store sum of imd null values\n",
        "imd_null = stud_info['imd'].isnull().sum()\n",
        "\n",
        "# store the sum of null values of date_registration\n",
        "null_registration = student_registration['date_registration'].isnull().sum()\n",
        "\n",
        "# store the sum of null values of date_unregistration\n",
        "null_unregistration = student_registration['date_unregistration'].isnull().sum()\n",
        "\n",
        "# locate where stud_info has a result of withdrawn and a date_unregistration of NA\n",
        "withdrawn_na = stud_info.loc[(stud_info['result'] == 'Withdrawn') & (stud_info['date_unregistration'].isna())]\n",
        "\n",
        "\n",
        "md(f'''\n",
        "* The `imd` variable has {\"{:,}\".format(imd_null)} null values. For these, we will find the most common imd band for each region and assert that as the value.\n",
        "* We have {null_registration} null values for date_registration, and no mention of this in the dataset documentation, so we will treat this as missing data.\n",
        "We will fill these missing dates with the average registration date.\n",
        "* There are {\"{:,}\".format(null_unregistration)} null values for `date_unregistration` which represent the students that did not withdraw from the course.\n",
        "    * Not every withdrawn student has a date that they unregistered. There are {len(withdrawn_na)} entries of students with a `Withdrawn` result but a `date_unregstration` of `<NA>`''')"
      ],
      "id": "3df60b4b-af12-49b1-9a97-2445d421c767",
      "execution_count": 25,
      "outputs": [
        {
          "output_type": "execute_result",
          "data": {
            "text/markdown": "\n* The `imd` variable has 1,111 null values. For these, we will find the most common imd band for each region and assert that as the value.\n* We have 45 null values for date_registration, and no mention of this in the dataset documentation, so we will treat this as missing data.\nWe will fill these missing dates with the average registration date.\n* There are 22,521 null values for `date_unregistration` which represent the students that did not withdraw from the course.\n    * Not every withdrawn student has a date that they unregistered. There are 93 entries of students with a `Withdrawn` result but a `date_unregstration` of `<NA>`",
            "text/plain": [
              "<IPython.core.display.Markdown object>"
            ]
          },
          "metadata": {},
          "execution_count": 25
        }
      ]
    },
    {
      "cell_type": "code",
      "metadata": {
        "id": "bdca9e2b-bb51-420b-861b-10290486af74"
      },
      "source": [
        "for index, row in stud_info[stud_info['date_registration'].isna()].iterrows():\n",
        "    # set the imd at the index of the sub dataframe to the key of the region in the dict in the main dataframe\n",
        "    stud_info.at[index, 'date_registration'] = int(stud_info['date_registration'].mean())"
      ],
      "id": "bdca9e2b-bb51-420b-861b-10290486af74",
      "execution_count": 26,
      "outputs": []
    },
    {
      "cell_type": "code",
      "metadata": {
        "tags": [],
        "id": "b35d3c26-c8d1-407f-afd9-e07ea73f5b59"
      },
      "source": [
        "# find the unique values in regions \n",
        "regions = stud_info['region'].values.unique()\n",
        "\n",
        "# initiate a dictionary for {region:imd}\n",
        "common_imds = {}\n",
        "\n",
        "# iterate through regions values\n",
        "for i in regions:\n",
        "    # locate the imds for each region in stud_info\n",
        "    region_imds = stud_info.loc[stud_info['region'] == i, 'imd']\n",
        "    # get the value_counts for the regions imds and add the highest count to a dict keyed by region\n",
        "    common_imds[i] = region_imds.value_counts().reset_index()['index'][0]\n",
        "\n",
        "# iterate through a sub dataframe of stud_info where imd is NA\n",
        "for index, row in stud_info[stud_info['imd'].isna()].iterrows():\n",
        "    # set the imd at the index of the sub dataframe to the key of the region in the dict in the main dataframe\n",
        "    stud_info.at[index, 'imd'] = common_imds[row['region']]"
      ],
      "id": "b35d3c26-c8d1-407f-afd9-e07ea73f5b59",
      "execution_count": 27,
      "outputs": []
    },
    {
      "cell_type": "markdown",
      "metadata": {
        "id": "20644812-4e87-42e1-8d55-00e394154999"
      },
      "source": [
        "**Duplicate Values**"
      ],
      "id": "20644812-4e87-42e1-8d55-00e394154999"
    },
    {
      "cell_type": "code",
      "metadata": {
        "tags": [],
        "colab": {
          "base_uri": "https://localhost:8080/",
          "height": 0
        },
        "id": "067fdecf-5b60-4d07-924c-5f21811fbc6c",
        "outputId": "94a34c6d-91bd-4701-a14c-b2c7af64e97e"
      },
      "source": [
        "# show duplicate values in student info if any\n",
        "get_dupes(stud_info)"
      ],
      "id": "067fdecf-5b60-4d07-924c-5f21811fbc6c",
      "execution_count": 28,
      "outputs": [
        {
          "output_type": "execute_result",
          "data": {
            "text/markdown": "There are no Duplicate Values",
            "text/plain": [
              "<IPython.core.display.Markdown object>"
            ]
          },
          "metadata": {},
          "execution_count": 28
        }
      ]
    },
    {
      "cell_type": "markdown",
      "metadata": {
        "id": "29db75ae-e710-4c57-ac69-cd65b52d8c8d"
      },
      "source": [
        "**Unique Counts**"
      ],
      "id": "29db75ae-e710-4c57-ac69-cd65b52d8c8d"
    },
    {
      "cell_type": "code",
      "metadata": {
        "tags": [],
        "colab": {
          "base_uri": "https://localhost:8080/",
          "height": 0
        },
        "id": "cac841e5-03b2-49e3-958c-207e1d3f2010",
        "outputId": "ce462e7e-ff6d-4011-8f60-ceb9333af2f4"
      },
      "source": [
        "# Get number of unique values per variable in student info\n",
        "count_unique(stud_info)"
      ],
      "id": "cac841e5-03b2-49e3-958c-207e1d3f2010",
      "execution_count": 29,
      "outputs": [
        {
          "output_type": "execute_result",
          "data": {
            "text/html": [
              "<div>\n",
              "<style scoped>\n",
              "    .dataframe tbody tr th:only-of-type {\n",
              "        vertical-align: middle;\n",
              "    }\n",
              "\n",
              "    .dataframe tbody tr th {\n",
              "        vertical-align: top;\n",
              "    }\n",
              "\n",
              "    .dataframe thead th {\n",
              "        text-align: right;\n",
              "    }\n",
              "</style>\n",
              "<table border=\"1\" class=\"dataframe\">\n",
              "  <thead>\n",
              "    <tr style=\"text-align: right;\">\n",
              "      <th></th>\n",
              "      <th>Variable</th>\n",
              "      <th>Count</th>\n",
              "    </tr>\n",
              "  </thead>\n",
              "  <tbody>\n",
              "    <tr>\n",
              "      <th>0</th>\n",
              "      <td>module</td>\n",
              "      <td>7</td>\n",
              "    </tr>\n",
              "    <tr>\n",
              "      <th>1</th>\n",
              "      <td>presentation</td>\n",
              "      <td>4</td>\n",
              "    </tr>\n",
              "    <tr>\n",
              "      <th>2</th>\n",
              "      <td>id_student</td>\n",
              "      <td>28785</td>\n",
              "    </tr>\n",
              "    <tr>\n",
              "      <th>3</th>\n",
              "      <td>region</td>\n",
              "      <td>13</td>\n",
              "    </tr>\n",
              "    <tr>\n",
              "      <th>4</th>\n",
              "      <td>imd</td>\n",
              "      <td>10</td>\n",
              "    </tr>\n",
              "    <tr>\n",
              "      <th>5</th>\n",
              "      <td>age</td>\n",
              "      <td>3</td>\n",
              "    </tr>\n",
              "    <tr>\n",
              "      <th>6</th>\n",
              "      <td>gender</td>\n",
              "      <td>2</td>\n",
              "    </tr>\n",
              "    <tr>\n",
              "      <th>7</th>\n",
              "      <td>education</td>\n",
              "      <td>5</td>\n",
              "    </tr>\n",
              "    <tr>\n",
              "      <th>8</th>\n",
              "      <td>disability</td>\n",
              "      <td>2</td>\n",
              "    </tr>\n",
              "    <tr>\n",
              "      <th>9</th>\n",
              "      <td>attempts</td>\n",
              "      <td>7</td>\n",
              "    </tr>\n",
              "    <tr>\n",
              "      <th>10</th>\n",
              "      <td>credits</td>\n",
              "      <td>61</td>\n",
              "    </tr>\n",
              "    <tr>\n",
              "      <th>11</th>\n",
              "      <td>result</td>\n",
              "      <td>4</td>\n",
              "    </tr>\n",
              "    <tr>\n",
              "      <th>12</th>\n",
              "      <td>date_registration</td>\n",
              "      <td>332</td>\n",
              "    </tr>\n",
              "    <tr>\n",
              "      <th>13</th>\n",
              "      <td>date_unregistration</td>\n",
              "      <td>416</td>\n",
              "    </tr>\n",
              "  </tbody>\n",
              "</table>\n",
              "</div>"
            ],
            "text/plain": [
              "               Variable  Count\n",
              "0                module      7\n",
              "1          presentation      4\n",
              "2            id_student  28785\n",
              "3                region     13\n",
              "4                   imd     10\n",
              "5                   age      3\n",
              "6                gender      2\n",
              "7             education      5\n",
              "8            disability      2\n",
              "9              attempts      7\n",
              "10              credits     61\n",
              "11               result      4\n",
              "12    date_registration    332\n",
              "13  date_unregistration    416"
            ]
          },
          "metadata": {},
          "execution_count": 29
        }
      ]
    },
    {
      "cell_type": "code",
      "metadata": {
        "tags": [
          "remove_input"
        ],
        "colab": {
          "base_uri": "https://localhost:8080/",
          "height": 0
        },
        "id": "9c1f6ce1-a8ab-4b5c-a9be-6e322acca4d5",
        "outputId": "efaa3db7-33b9-4701-af0f-1cdbbb782348"
      },
      "source": [
        "# store count of total student ids\n",
        "total_students = stud_info['id_student'].count()\n",
        "\n",
        "# store count of unique student ids\n",
        "unique_students = stud_info['id_student'].nunique()\n",
        "\n",
        "# retrieve all records from students in stud_info whose id is duplicated\n",
        "dupe_students = stud_info[stud_info.duplicated(subset=['id_student'], keep=False)]\n",
        "\n",
        "# convert the datatypes back in dupe_students\n",
        "dupe_students = dupe_students.astype({'id_student':'category'})\n",
        "dupe_students = dupe_students.convert_dtypes()\n",
        "\n",
        "# subset those who took multiple modules in the same presentation by finding duplicate id_students and presentations\n",
        "mult_mods = dupe_students[dupe_students.duplicated(subset=['id_student', 'presentation'], keep=False)]\n",
        "\n",
        "# subset those who took multiple attempts by finding duplicate id_students and modules\n",
        "mult_attempt = dupe_students[dupe_students.duplicated(subset=['module','id_student'], keep=False)]\n",
        "\n",
        "# merge students with multiple attempts and who took multiple modules to find the students we have values for\n",
        "merged_attempt_mods = mult_attempt.merge(mult_mods, how='outer', on=[i for i in mult_attempt.columns])\n",
        "\n",
        "# find students that are not in mult_mods or mult_attempt but still duplicated\n",
        "mult_mods_pres = pd.concat([merged_attempt_mods, dupe_students]).drop_duplicates(keep=False)\n",
        "\n",
        "# append the multiple module/presentation students to mult_mods\n",
        "mult_mods = mult_mods.append(mult_mods_pres)\n",
        "\n",
        "md(f'''\n",
        "* There are {\"{:,}\".format(total_students)} entries for students but only {\"{:,}\".format(unique_students)} unique student IDs.\n",
        "* {\"{:,}\".format(mult_mods['id_student'].nunique())} student IDs appear multiple times due to students taking multiple modules\n",
        "* {\"{:,}\".format(mult_attempt['id_student'].nunique())} student IDs appear multiple times due to students attempting the same module more than once.\n",
        "''')"
      ],
      "id": "9c1f6ce1-a8ab-4b5c-a9be-6e322acca4d5",
      "execution_count": 30,
      "outputs": [
        {
          "output_type": "execute_result",
          "data": {
            "text/markdown": "\n* There are 32,593 entries for students but only 28,785 unique student IDs.\n* 2,479 student IDs appear multiple times due to students taking multiple modules\n* 1,259 student IDs appear multiple times due to students attempting the same module more than once.\n",
            "text/plain": [
              "<IPython.core.display.Markdown object>"
            ]
          },
          "metadata": {},
          "execution_count": 30
        }
      ]
    },
    {
      "cell_type": "markdown",
      "metadata": {
        "id": "1a0d78e6-d5c4-43fe-873b-8fd6d63ca15e"
      },
      "source": [
        "**Unique Categorical Values**"
      ],
      "id": "1a0d78e6-d5c4-43fe-873b-8fd6d63ca15e"
    },
    {
      "cell_type": "code",
      "metadata": {
        "tags": [],
        "colab": {
          "base_uri": "https://localhost:8080/",
          "height": 0
        },
        "id": "2d7aa17f-64aa-403e-b6b9-ea0d8c860e2e",
        "outputId": "05124c53-49ab-4d0d-afdb-31a6a5713792"
      },
      "source": [
        "unique_vals(stud_info)"
      ],
      "id": "2d7aa17f-64aa-403e-b6b9-ea0d8c860e2e",
      "execution_count": 31,
      "outputs": [
        {
          "output_type": "execute_result",
          "data": {
            "text/html": [
              "<div>\n",
              "<style scoped>\n",
              "    .dataframe tbody tr th:only-of-type {\n",
              "        vertical-align: middle;\n",
              "    }\n",
              "\n",
              "    .dataframe tbody tr th {\n",
              "        vertical-align: top;\n",
              "    }\n",
              "\n",
              "    .dataframe thead th {\n",
              "        text-align: right;\n",
              "    }\n",
              "</style>\n",
              "<table border=\"1\" class=\"dataframe\">\n",
              "  <thead>\n",
              "    <tr style=\"text-align: right;\">\n",
              "      <th></th>\n",
              "      <th>Variable</th>\n",
              "      <th>Values</th>\n",
              "    </tr>\n",
              "  </thead>\n",
              "  <tbody>\n",
              "    <tr>\n",
              "      <th>0</th>\n",
              "      <td>module</td>\n",
              "      <td>[AAA, BBB, CCC, DDD, EEE, FFF, GGG]</td>\n",
              "    </tr>\n",
              "    <tr>\n",
              "      <th>1</th>\n",
              "      <td>presentation</td>\n",
              "      <td>[2013J, 2014J, 2013B, 2014B]</td>\n",
              "    </tr>\n",
              "    <tr>\n",
              "      <th>2</th>\n",
              "      <td>region</td>\n",
              "      <td>[East Anglian, Scotland, North Western, South ...</td>\n",
              "    </tr>\n",
              "    <tr>\n",
              "      <th>3</th>\n",
              "      <td>imd</td>\n",
              "      <td>[90-100%, 20-30%, 30-40%, 50-60%, 80-90%, 70-8...</td>\n",
              "    </tr>\n",
              "    <tr>\n",
              "      <th>4</th>\n",
              "      <td>age</td>\n",
              "      <td>[55&lt;=, 35-55, 0-35]</td>\n",
              "    </tr>\n",
              "    <tr>\n",
              "      <th>5</th>\n",
              "      <td>gender</td>\n",
              "      <td>[M, F]</td>\n",
              "    </tr>\n",
              "    <tr>\n",
              "      <th>6</th>\n",
              "      <td>education</td>\n",
              "      <td>[HE, A Level, Under A Level, Post Grad, No For...</td>\n",
              "    </tr>\n",
              "    <tr>\n",
              "      <th>7</th>\n",
              "      <td>disability</td>\n",
              "      <td>[N, Y]</td>\n",
              "    </tr>\n",
              "    <tr>\n",
              "      <th>8</th>\n",
              "      <td>result</td>\n",
              "      <td>[Pass, Withdrawn, Fail, Distinction]</td>\n",
              "    </tr>\n",
              "  </tbody>\n",
              "</table>\n",
              "</div>"
            ],
            "text/plain": [
              "       Variable                                             Values\n",
              "0        module                [AAA, BBB, CCC, DDD, EEE, FFF, GGG]\n",
              "1  presentation                       [2013J, 2014J, 2013B, 2014B]\n",
              "2        region  [East Anglian, Scotland, North Western, South ...\n",
              "3           imd  [90-100%, 20-30%, 30-40%, 50-60%, 80-90%, 70-8...\n",
              "4           age                                [55<=, 35-55, 0-35]\n",
              "5        gender                                             [M, F]\n",
              "6     education  [HE, A Level, Under A Level, Post Grad, No For...\n",
              "7    disability                                             [N, Y]\n",
              "8        result               [Pass, Withdrawn, Fail, Distinction]"
            ]
          },
          "metadata": {},
          "execution_count": 31
        }
      ]
    },
    {
      "cell_type": "markdown",
      "metadata": {
        "id": "8536b503-6a18-4b27-b304-912a74efc0d9"
      },
      "source": [
        "In imd_band the % sign is missing in 10-20. We will add that for consistency and clarity"
      ],
      "id": "8536b503-6a18-4b27-b304-912a74efc0d9"
    },
    {
      "cell_type": "code",
      "metadata": {
        "tags": [],
        "id": "84e74222-1d6b-49a9-a11e-4c0d24b1d7d2"
      },
      "source": [
        "# changing all 10-20 values in stud_info imd_band to 10-20%\n",
        "stud_info.loc[stud_info['imd'] == '10-20', 'imd'] = '10-20%'"
      ],
      "id": "84e74222-1d6b-49a9-a11e-4c0d24b1d7d2",
      "execution_count": 32,
      "outputs": []
    },
    {
      "cell_type": "markdown",
      "metadata": {
        "tags": [],
        "id": "1badb055-5b70-4e71-b31f-d004392bff05"
      },
      "source": [
        "**Numerical Values**"
      ],
      "id": "1badb055-5b70-4e71-b31f-d004392bff05"
    },
    {
      "cell_type": "code",
      "metadata": {
        "tags": [],
        "colab": {
          "base_uri": "https://localhost:8080/",
          "height": 0
        },
        "id": "df2620e5-4703-4063-b4ce-abbbc48cf241",
        "outputId": "04532847-15c7-40c5-e744-8a24a9109ea2"
      },
      "source": [
        "# show statistical breakdown of numerical values in student info\n",
        "stud_info.describe(include='int64').round(1)"
      ],
      "id": "df2620e5-4703-4063-b4ce-abbbc48cf241",
      "execution_count": 33,
      "outputs": [
        {
          "output_type": "execute_result",
          "data": {
            "text/html": [
              "<div>\n",
              "<style scoped>\n",
              "    .dataframe tbody tr th:only-of-type {\n",
              "        vertical-align: middle;\n",
              "    }\n",
              "\n",
              "    .dataframe tbody tr th {\n",
              "        vertical-align: top;\n",
              "    }\n",
              "\n",
              "    .dataframe thead th {\n",
              "        text-align: right;\n",
              "    }\n",
              "</style>\n",
              "<table border=\"1\" class=\"dataframe\">\n",
              "  <thead>\n",
              "    <tr style=\"text-align: right;\">\n",
              "      <th></th>\n",
              "      <th>attempts</th>\n",
              "      <th>credits</th>\n",
              "      <th>date_registration</th>\n",
              "      <th>date_unregistration</th>\n",
              "    </tr>\n",
              "  </thead>\n",
              "  <tbody>\n",
              "    <tr>\n",
              "      <th>count</th>\n",
              "      <td>32593.0</td>\n",
              "      <td>32593.0</td>\n",
              "      <td>32593.0</td>\n",
              "      <td>10072.0</td>\n",
              "    </tr>\n",
              "    <tr>\n",
              "      <th>mean</th>\n",
              "      <td>0.2</td>\n",
              "      <td>79.8</td>\n",
              "      <td>-69.4</td>\n",
              "      <td>49.8</td>\n",
              "    </tr>\n",
              "    <tr>\n",
              "      <th>std</th>\n",
              "      <td>0.5</td>\n",
              "      <td>41.1</td>\n",
              "      <td>49.2</td>\n",
              "      <td>82.5</td>\n",
              "    </tr>\n",
              "    <tr>\n",
              "      <th>min</th>\n",
              "      <td>0.0</td>\n",
              "      <td>30.0</td>\n",
              "      <td>-322.0</td>\n",
              "      <td>-365.0</td>\n",
              "    </tr>\n",
              "    <tr>\n",
              "      <th>25%</th>\n",
              "      <td>0.0</td>\n",
              "      <td>60.0</td>\n",
              "      <td>-100.0</td>\n",
              "      <td>-2.0</td>\n",
              "    </tr>\n",
              "    <tr>\n",
              "      <th>50%</th>\n",
              "      <td>0.0</td>\n",
              "      <td>60.0</td>\n",
              "      <td>-57.0</td>\n",
              "      <td>27.0</td>\n",
              "    </tr>\n",
              "    <tr>\n",
              "      <th>75%</th>\n",
              "      <td>0.0</td>\n",
              "      <td>120.0</td>\n",
              "      <td>-29.0</td>\n",
              "      <td>109.0</td>\n",
              "    </tr>\n",
              "    <tr>\n",
              "      <th>max</th>\n",
              "      <td>6.0</td>\n",
              "      <td>655.0</td>\n",
              "      <td>167.0</td>\n",
              "      <td>444.0</td>\n",
              "    </tr>\n",
              "  </tbody>\n",
              "</table>\n",
              "</div>"
            ],
            "text/plain": [
              "       attempts  credits  date_registration  date_unregistration\n",
              "count   32593.0  32593.0            32593.0              10072.0\n",
              "mean        0.2     79.8              -69.4                 49.8\n",
              "std         0.5     41.1               49.2                 82.5\n",
              "min         0.0     30.0             -322.0               -365.0\n",
              "25%         0.0     60.0             -100.0                 -2.0\n",
              "50%         0.0     60.0              -57.0                 27.0\n",
              "75%         0.0    120.0              -29.0                109.0\n",
              "max         6.0    655.0              167.0                444.0"
            ]
          },
          "metadata": {},
          "execution_count": 33
        }
      ]
    },
    {
      "cell_type": "code",
      "metadata": {
        "tags": [
          "remove_input"
        ],
        "colab": {
          "base_uri": "https://localhost:8080/",
          "height": 0
        },
        "id": "95a738d8-7944-472e-b089-e90194d68b94",
        "outputId": "8ddefd9a-6540-460e-e7d5-8229231a8c1c"
      },
      "source": [
        "# store the highest number of module previous attempts by students\n",
        "max_attempts = stud_info['attempts'].max()\n",
        "\n",
        "# store the highest number of credits a student took\n",
        "max_credits = stud_info['credits'].max()\n",
        "\n",
        "# store the lowest amount of credits a student took\n",
        "min_credits = stud_info['credits'].min()\n",
        "\n",
        "# store the count of students with an unregistration date\n",
        "unreg_total = student_registration['date_unregistration'].count()\n",
        "\n",
        "# store the smallest value for unregistration date\n",
        "unreg_min = student_registration['date_unregistration'].min()\n",
        "\n",
        "md(f'''\n",
        "* Most students do not have a previous attempt, but there is a high of {max_attempts} attempts.\n",
        "    * We can only have data for up to two of the students attempts since we only have two years worth of data.\n",
        "* The maximum amount of credits a student took during the module was {max_credits}\n",
        "    * This over twenty times the minimum of {min_credits} credits.\n",
        "* It is unknown how these courses were weighted, but this amount of credits at the same time may have influenced student success\n",
        "* There are {\"{:,}\".format(unreg_total)} values for of date_unregistration which represents the number of students who withdrew from the course.\n",
        "* The earliest date_unregistration date is {unreg_min} days before the course began, which means this student did not make it to the first day. \n",
        "''')"
      ],
      "id": "95a738d8-7944-472e-b089-e90194d68b94",
      "execution_count": 34,
      "outputs": [
        {
          "output_type": "execute_result",
          "data": {
            "text/markdown": "\n* Most students do not have a previous attempt, but there is a high of 6 attempts.\n    * We can only have data for up to two of the students attempts since we only have two years worth of data.\n* The maximum amount of credits a student took during the module was 655\n    * This over twenty times the minimum of 30 credits.\n* It is unknown how these courses were weighted, but this amount of credits at the same time may have influenced student success\n* There are 10,072 values for of date_unregistration which represents the number of students who withdrew from the course.\n* The earliest date_unregistration date is -365.0 days before the course began, which means this student did not make it to the first day. \n",
            "text/plain": [
              "<IPython.core.display.Markdown object>"
            ]
          },
          "metadata": {},
          "execution_count": 34
        }
      ]
    },
    {
      "cell_type": "markdown",
      "metadata": {
        "id": "6b20d077-e86e-4c4d-a903-0e5b4cb97097"
      },
      "source": [
        "**Early Withdrawals**"
      ],
      "id": "6b20d077-e86e-4c4d-a903-0e5b4cb97097"
    },
    {
      "cell_type": "code",
      "metadata": {
        "tags": [],
        "colab": {
          "base_uri": "https://localhost:8080/",
          "height": 0
        },
        "id": "853ebf71-e274-49f7-9861-31700da66bd2",
        "outputId": "86d91b5a-e853-4f5b-d2a6-e5606bd7f4c8"
      },
      "source": [
        "# find students in stud_info with an unregistration date before the course started and display them\n",
        "early_withdraws = stud_info.loc[stud_info['date_unregistration'] <= 0]\n",
        "early_withdraws.head()"
      ],
      "id": "853ebf71-e274-49f7-9861-31700da66bd2",
      "execution_count": 35,
      "outputs": [
        {
          "output_type": "execute_result",
          "data": {
            "text/html": [
              "<div>\n",
              "<style scoped>\n",
              "    .dataframe tbody tr th:only-of-type {\n",
              "        vertical-align: middle;\n",
              "    }\n",
              "\n",
              "    .dataframe tbody tr th {\n",
              "        vertical-align: top;\n",
              "    }\n",
              "\n",
              "    .dataframe thead th {\n",
              "        text-align: right;\n",
              "    }\n",
              "</style>\n",
              "<table border=\"1\" class=\"dataframe\">\n",
              "  <thead>\n",
              "    <tr style=\"text-align: right;\">\n",
              "      <th></th>\n",
              "      <th>module</th>\n",
              "      <th>presentation</th>\n",
              "      <th>id_student</th>\n",
              "      <th>region</th>\n",
              "      <th>imd</th>\n",
              "      <th>age</th>\n",
              "      <th>gender</th>\n",
              "      <th>education</th>\n",
              "      <th>disability</th>\n",
              "      <th>attempts</th>\n",
              "      <th>credits</th>\n",
              "      <th>result</th>\n",
              "      <th>date_registration</th>\n",
              "      <th>date_unregistration</th>\n",
              "    </tr>\n",
              "  </thead>\n",
              "  <tbody>\n",
              "    <tr>\n",
              "      <th>125</th>\n",
              "      <td>AAA</td>\n",
              "      <td>2013J</td>\n",
              "      <td>292923</td>\n",
              "      <td>South East</td>\n",
              "      <td>90-100%</td>\n",
              "      <td>35-55</td>\n",
              "      <td>F</td>\n",
              "      <td>A Level</td>\n",
              "      <td>N</td>\n",
              "      <td>0</td>\n",
              "      <td>180</td>\n",
              "      <td>Withdrawn</td>\n",
              "      <td>-162</td>\n",
              "      <td>-121</td>\n",
              "    </tr>\n",
              "    <tr>\n",
              "      <th>136</th>\n",
              "      <td>AAA</td>\n",
              "      <td>2013J</td>\n",
              "      <td>305539</td>\n",
              "      <td>Wales</td>\n",
              "      <td>80-90%</td>\n",
              "      <td>0-35</td>\n",
              "      <td>F</td>\n",
              "      <td>Under A Level</td>\n",
              "      <td>N</td>\n",
              "      <td>0</td>\n",
              "      <td>120</td>\n",
              "      <td>Withdrawn</td>\n",
              "      <td>-54</td>\n",
              "      <td>-3</td>\n",
              "    </tr>\n",
              "    <tr>\n",
              "      <th>198</th>\n",
              "      <td>AAA</td>\n",
              "      <td>2013J</td>\n",
              "      <td>405961</td>\n",
              "      <td>Scotland</td>\n",
              "      <td>90-100%</td>\n",
              "      <td>0-35</td>\n",
              "      <td>M</td>\n",
              "      <td>A Level</td>\n",
              "      <td>Y</td>\n",
              "      <td>0</td>\n",
              "      <td>240</td>\n",
              "      <td>Withdrawn</td>\n",
              "      <td>-170</td>\n",
              "      <td>-100</td>\n",
              "    </tr>\n",
              "    <tr>\n",
              "      <th>256</th>\n",
              "      <td>AAA</td>\n",
              "      <td>2013J</td>\n",
              "      <td>1763015</td>\n",
              "      <td>Scotland</td>\n",
              "      <td>10-20%</td>\n",
              "      <td>35-55</td>\n",
              "      <td>F</td>\n",
              "      <td>A Level</td>\n",
              "      <td>N</td>\n",
              "      <td>0</td>\n",
              "      <td>60</td>\n",
              "      <td>Withdrawn</td>\n",
              "      <td>-58</td>\n",
              "      <td>-2</td>\n",
              "    </tr>\n",
              "    <tr>\n",
              "      <th>298</th>\n",
              "      <td>AAA</td>\n",
              "      <td>2013J</td>\n",
              "      <td>2318055</td>\n",
              "      <td>Wales</td>\n",
              "      <td>90-100%</td>\n",
              "      <td>35-55</td>\n",
              "      <td>M</td>\n",
              "      <td>A Level</td>\n",
              "      <td>N</td>\n",
              "      <td>0</td>\n",
              "      <td>60</td>\n",
              "      <td>Withdrawn</td>\n",
              "      <td>-56</td>\n",
              "      <td>-19</td>\n",
              "    </tr>\n",
              "  </tbody>\n",
              "</table>\n",
              "</div>"
            ],
            "text/plain": [
              "    module presentation  ... date_registration date_unregistration\n",
              "125    AAA        2013J  ...              -162                -121\n",
              "136    AAA        2013J  ...               -54                  -3\n",
              "198    AAA        2013J  ...              -170                -100\n",
              "256    AAA        2013J  ...               -58                  -2\n",
              "298    AAA        2013J  ...               -56                 -19\n",
              "\n",
              "[5 rows x 14 columns]"
            ]
          },
          "metadata": {},
          "execution_count": 35
        }
      ]
    },
    {
      "cell_type": "code",
      "metadata": {
        "tags": [
          "remove_input"
        ],
        "colab": {
          "base_uri": "https://localhost:8080/",
          "height": 0
        },
        "id": "de4535a5-d1cd-495a-9b92-fffaeab23bf1",
        "outputId": "cdbc4ab7-173f-4b0c-8456-26f98cec347a"
      },
      "source": [
        "md(f'''\n",
        "Here we can see the {\"{:,}\".format(len(early_withdraws))} students with a withdrawal date before the first day,\n",
        "let's look at their results:\n",
        "''')"
      ],
      "id": "de4535a5-d1cd-495a-9b92-fffaeab23bf1",
      "execution_count": 36,
      "outputs": [
        {
          "output_type": "execute_result",
          "data": {
            "text/markdown": "\nHere we can see the 3,097 students with a withdrawal date before the first day,\nlet's look at their results:\n",
            "text/plain": [
              "<IPython.core.display.Markdown object>"
            ]
          },
          "metadata": {},
          "execution_count": 36
        }
      ]
    },
    {
      "cell_type": "code",
      "metadata": {
        "tags": [
          "remove_input"
        ],
        "colab": {
          "base_uri": "https://localhost:8080/",
          "height": 0
        },
        "id": "c8896dab-3daf-4dc5-87e6-703e702c55e4",
        "outputId": "bd52ad4f-e92c-4451-c3c8-e8d849a019e9"
      },
      "source": [
        "# find possible result values in early withdraw students\n",
        "dataframe(early_withdraws['result'].value_counts())"
      ],
      "id": "c8896dab-3daf-4dc5-87e6-703e702c55e4",
      "execution_count": 37,
      "outputs": [
        {
          "output_type": "execute_result",
          "data": {
            "text/html": [
              "<div>\n",
              "<style scoped>\n",
              "    .dataframe tbody tr th:only-of-type {\n",
              "        vertical-align: middle;\n",
              "    }\n",
              "\n",
              "    .dataframe tbody tr th {\n",
              "        vertical-align: top;\n",
              "    }\n",
              "\n",
              "    .dataframe thead th {\n",
              "        text-align: right;\n",
              "    }\n",
              "</style>\n",
              "<table border=\"1\" class=\"dataframe\">\n",
              "  <thead>\n",
              "    <tr style=\"text-align: right;\">\n",
              "      <th></th>\n",
              "      <th>result</th>\n",
              "    </tr>\n",
              "  </thead>\n",
              "  <tbody>\n",
              "    <tr>\n",
              "      <th>Withdrawn</th>\n",
              "      <td>3089</td>\n",
              "    </tr>\n",
              "    <tr>\n",
              "      <th>Fail</th>\n",
              "      <td>8</td>\n",
              "    </tr>\n",
              "  </tbody>\n",
              "</table>\n",
              "</div>"
            ],
            "text/plain": [
              "           result\n",
              "Withdrawn    3089\n",
              "Fail            8"
            ]
          },
          "metadata": {},
          "execution_count": 37
        }
      ]
    },
    {
      "cell_type": "markdown",
      "metadata": {
        "id": "b715d0d2-7acd-4985-9c10-52badaf0ad31"
      },
      "source": [
        "While the bulk of these students Withdrew, it seems some managed to fail before the first day. Let's look at these students"
      ],
      "id": "b715d0d2-7acd-4985-9c10-52badaf0ad31"
    },
    {
      "cell_type": "code",
      "metadata": {
        "colab": {
          "base_uri": "https://localhost:8080/",
          "height": 0
        },
        "id": "d40de8cd-c584-428f-9af5-f88c49bd0696",
        "outputId": "24b03151-5921-4cdc-fa43-2f9367750674"
      },
      "source": [
        "# find students in early_withdraw with a fail result\n",
        "early_withdraws[early_withdraws['result'] == 'Fail']"
      ],
      "id": "d40de8cd-c584-428f-9af5-f88c49bd0696",
      "execution_count": 38,
      "outputs": [
        {
          "output_type": "execute_result",
          "data": {
            "text/html": [
              "<div>\n",
              "<style scoped>\n",
              "    .dataframe tbody tr th:only-of-type {\n",
              "        vertical-align: middle;\n",
              "    }\n",
              "\n",
              "    .dataframe tbody tr th {\n",
              "        vertical-align: top;\n",
              "    }\n",
              "\n",
              "    .dataframe thead th {\n",
              "        text-align: right;\n",
              "    }\n",
              "</style>\n",
              "<table border=\"1\" class=\"dataframe\">\n",
              "  <thead>\n",
              "    <tr style=\"text-align: right;\">\n",
              "      <th></th>\n",
              "      <th>module</th>\n",
              "      <th>presentation</th>\n",
              "      <th>id_student</th>\n",
              "      <th>region</th>\n",
              "      <th>imd</th>\n",
              "      <th>age</th>\n",
              "      <th>gender</th>\n",
              "      <th>education</th>\n",
              "      <th>disability</th>\n",
              "      <th>attempts</th>\n",
              "      <th>credits</th>\n",
              "      <th>result</th>\n",
              "      <th>date_registration</th>\n",
              "      <th>date_unregistration</th>\n",
              "    </tr>\n",
              "  </thead>\n",
              "  <tbody>\n",
              "    <tr>\n",
              "      <th>2777</th>\n",
              "      <td>BBB</td>\n",
              "      <td>2013J</td>\n",
              "      <td>362907</td>\n",
              "      <td>South West</td>\n",
              "      <td>20-30%</td>\n",
              "      <td>35-55</td>\n",
              "      <td>F</td>\n",
              "      <td>Under A Level</td>\n",
              "      <td>N</td>\n",
              "      <td>2</td>\n",
              "      <td>60</td>\n",
              "      <td>Fail</td>\n",
              "      <td>-37</td>\n",
              "      <td>0</td>\n",
              "    </tr>\n",
              "    <tr>\n",
              "      <th>2786</th>\n",
              "      <td>BBB</td>\n",
              "      <td>2013J</td>\n",
              "      <td>365288</td>\n",
              "      <td>South</td>\n",
              "      <td>70-80%</td>\n",
              "      <td>0-35</td>\n",
              "      <td>F</td>\n",
              "      <td>A Level</td>\n",
              "      <td>N</td>\n",
              "      <td>0</td>\n",
              "      <td>60</td>\n",
              "      <td>Fail</td>\n",
              "      <td>-75</td>\n",
              "      <td>0</td>\n",
              "    </tr>\n",
              "    <tr>\n",
              "      <th>14625</th>\n",
              "      <td>DDD</td>\n",
              "      <td>2013J</td>\n",
              "      <td>315082</td>\n",
              "      <td>West Midlands</td>\n",
              "      <td>50-60%</td>\n",
              "      <td>0-35</td>\n",
              "      <td>M</td>\n",
              "      <td>A Level</td>\n",
              "      <td>N</td>\n",
              "      <td>0</td>\n",
              "      <td>60</td>\n",
              "      <td>Fail</td>\n",
              "      <td>-73</td>\n",
              "      <td>0</td>\n",
              "    </tr>\n",
              "    <tr>\n",
              "      <th>14768</th>\n",
              "      <td>DDD</td>\n",
              "      <td>2013J</td>\n",
              "      <td>403052</td>\n",
              "      <td>Yorkshire</td>\n",
              "      <td>20-30%</td>\n",
              "      <td>0-35</td>\n",
              "      <td>F</td>\n",
              "      <td>HE</td>\n",
              "      <td>N</td>\n",
              "      <td>0</td>\n",
              "      <td>150</td>\n",
              "      <td>Fail</td>\n",
              "      <td>-22</td>\n",
              "      <td>0</td>\n",
              "    </tr>\n",
              "    <tr>\n",
              "      <th>15577</th>\n",
              "      <td>DDD</td>\n",
              "      <td>2013J</td>\n",
              "      <td>582954</td>\n",
              "      <td>London</td>\n",
              "      <td>10-20%</td>\n",
              "      <td>0-35</td>\n",
              "      <td>M</td>\n",
              "      <td>Under A Level</td>\n",
              "      <td>N</td>\n",
              "      <td>0</td>\n",
              "      <td>120</td>\n",
              "      <td>Fail</td>\n",
              "      <td>-81</td>\n",
              "      <td>-7</td>\n",
              "    </tr>\n",
              "    <tr>\n",
              "      <th>24057</th>\n",
              "      <td>FFF</td>\n",
              "      <td>2013J</td>\n",
              "      <td>234004</td>\n",
              "      <td>Yorkshire</td>\n",
              "      <td>50-60%</td>\n",
              "      <td>0-35</td>\n",
              "      <td>M</td>\n",
              "      <td>A Level</td>\n",
              "      <td>N</td>\n",
              "      <td>0</td>\n",
              "      <td>60</td>\n",
              "      <td>Fail</td>\n",
              "      <td>-33</td>\n",
              "      <td>0</td>\n",
              "    </tr>\n",
              "    <tr>\n",
              "      <th>24537</th>\n",
              "      <td>FFF</td>\n",
              "      <td>2013J</td>\n",
              "      <td>523777</td>\n",
              "      <td>North</td>\n",
              "      <td>0-10%</td>\n",
              "      <td>35-55</td>\n",
              "      <td>M</td>\n",
              "      <td>A Level</td>\n",
              "      <td>N</td>\n",
              "      <td>1</td>\n",
              "      <td>60</td>\n",
              "      <td>Fail</td>\n",
              "      <td>-60</td>\n",
              "      <td>0</td>\n",
              "    </tr>\n",
              "    <tr>\n",
              "      <th>25685</th>\n",
              "      <td>FFF</td>\n",
              "      <td>2013J</td>\n",
              "      <td>601640</td>\n",
              "      <td>London</td>\n",
              "      <td>20-30%</td>\n",
              "      <td>0-35</td>\n",
              "      <td>M</td>\n",
              "      <td>HE</td>\n",
              "      <td>N</td>\n",
              "      <td>0</td>\n",
              "      <td>90</td>\n",
              "      <td>Fail</td>\n",
              "      <td>-58</td>\n",
              "      <td>-4</td>\n",
              "    </tr>\n",
              "  </tbody>\n",
              "</table>\n",
              "</div>"
            ],
            "text/plain": [
              "      module presentation  ... date_registration date_unregistration\n",
              "2777     BBB        2013J  ...               -37                   0\n",
              "2786     BBB        2013J  ...               -75                   0\n",
              "14625    DDD        2013J  ...               -73                   0\n",
              "14768    DDD        2013J  ...               -22                   0\n",
              "15577    DDD        2013J  ...               -81                  -7\n",
              "24057    FFF        2013J  ...               -33                   0\n",
              "24537    FFF        2013J  ...               -60                   0\n",
              "25685    FFF        2013J  ...               -58                  -4\n",
              "\n",
              "[8 rows x 14 columns]"
            ]
          },
          "metadata": {},
          "execution_count": 38
        }
      ]
    },
    {
      "cell_type": "code",
      "metadata": {
        "tags": [
          "remove_input"
        ],
        "colab": {
          "base_uri": "https://localhost:8080/",
          "height": 0
        },
        "id": "28584f11-bc75-4608-ad32-e0556ed50ee3",
        "outputId": "2add58cc-e459-4dbc-c78c-d8e911dee89e"
      },
      "source": [
        "md('''\n",
        "So despite the fact that all of these students did unregister, they were for some reason marked as Fails. Let's see how many students have an\n",
        "unregistration date but are not marked as withdrawn\n",
        "''')"
      ],
      "id": "28584f11-bc75-4608-ad32-e0556ed50ee3",
      "execution_count": 39,
      "outputs": [
        {
          "output_type": "execute_result",
          "data": {
            "text/markdown": "\nSo despite the fact that all of these students did unregister, they were for some reason marked as Fails. Let's see how many students have an\nunregistration date but are not marked as withdrawn\n",
            "text/plain": [
              "<IPython.core.display.Markdown object>"
            ]
          },
          "metadata": {},
          "execution_count": 39
        }
      ]
    },
    {
      "cell_type": "code",
      "metadata": {
        "colab": {
          "base_uri": "https://localhost:8080/",
          "height": 0
        },
        "id": "2376eb47-47ac-42dd-9de2-8c22bc254f5b",
        "outputId": "a7f265e3-7dc6-4837-efcd-5eb154020ef1"
      },
      "source": [
        "# Find students who withdrew but are not marked as withdrawn\n",
        "stud_info[(stud_info['result'] != 'Withdrawn') & (~stud_info['date_unregistration'].isna())]"
      ],
      "id": "2376eb47-47ac-42dd-9de2-8c22bc254f5b",
      "execution_count": 40,
      "outputs": [
        {
          "output_type": "execute_result",
          "data": {
            "text/html": [
              "<div>\n",
              "<style scoped>\n",
              "    .dataframe tbody tr th:only-of-type {\n",
              "        vertical-align: middle;\n",
              "    }\n",
              "\n",
              "    .dataframe tbody tr th {\n",
              "        vertical-align: top;\n",
              "    }\n",
              "\n",
              "    .dataframe thead th {\n",
              "        text-align: right;\n",
              "    }\n",
              "</style>\n",
              "<table border=\"1\" class=\"dataframe\">\n",
              "  <thead>\n",
              "    <tr style=\"text-align: right;\">\n",
              "      <th></th>\n",
              "      <th>module</th>\n",
              "      <th>presentation</th>\n",
              "      <th>id_student</th>\n",
              "      <th>region</th>\n",
              "      <th>imd</th>\n",
              "      <th>age</th>\n",
              "      <th>gender</th>\n",
              "      <th>education</th>\n",
              "      <th>disability</th>\n",
              "      <th>attempts</th>\n",
              "      <th>credits</th>\n",
              "      <th>result</th>\n",
              "      <th>date_registration</th>\n",
              "      <th>date_unregistration</th>\n",
              "    </tr>\n",
              "  </thead>\n",
              "  <tbody>\n",
              "    <tr>\n",
              "      <th>2777</th>\n",
              "      <td>BBB</td>\n",
              "      <td>2013J</td>\n",
              "      <td>362907</td>\n",
              "      <td>South West</td>\n",
              "      <td>20-30%</td>\n",
              "      <td>35-55</td>\n",
              "      <td>F</td>\n",
              "      <td>Under A Level</td>\n",
              "      <td>N</td>\n",
              "      <td>2</td>\n",
              "      <td>60</td>\n",
              "      <td>Fail</td>\n",
              "      <td>-37</td>\n",
              "      <td>0</td>\n",
              "    </tr>\n",
              "    <tr>\n",
              "      <th>2786</th>\n",
              "      <td>BBB</td>\n",
              "      <td>2013J</td>\n",
              "      <td>365288</td>\n",
              "      <td>South</td>\n",
              "      <td>70-80%</td>\n",
              "      <td>0-35</td>\n",
              "      <td>F</td>\n",
              "      <td>A Level</td>\n",
              "      <td>N</td>\n",
              "      <td>0</td>\n",
              "      <td>60</td>\n",
              "      <td>Fail</td>\n",
              "      <td>-75</td>\n",
              "      <td>0</td>\n",
              "    </tr>\n",
              "    <tr>\n",
              "      <th>3340</th>\n",
              "      <td>BBB</td>\n",
              "      <td>2013J</td>\n",
              "      <td>554243</td>\n",
              "      <td>South West</td>\n",
              "      <td>60-70%</td>\n",
              "      <td>0-35</td>\n",
              "      <td>F</td>\n",
              "      <td>Under A Level</td>\n",
              "      <td>N</td>\n",
              "      <td>0</td>\n",
              "      <td>60</td>\n",
              "      <td>Fail</td>\n",
              "      <td>-35</td>\n",
              "      <td>166</td>\n",
              "    </tr>\n",
              "    <tr>\n",
              "      <th>14625</th>\n",
              "      <td>DDD</td>\n",
              "      <td>2013J</td>\n",
              "      <td>315082</td>\n",
              "      <td>West Midlands</td>\n",
              "      <td>50-60%</td>\n",
              "      <td>0-35</td>\n",
              "      <td>M</td>\n",
              "      <td>A Level</td>\n",
              "      <td>N</td>\n",
              "      <td>0</td>\n",
              "      <td>60</td>\n",
              "      <td>Fail</td>\n",
              "      <td>-73</td>\n",
              "      <td>0</td>\n",
              "    </tr>\n",
              "    <tr>\n",
              "      <th>14768</th>\n",
              "      <td>DDD</td>\n",
              "      <td>2013J</td>\n",
              "      <td>403052</td>\n",
              "      <td>Yorkshire</td>\n",
              "      <td>20-30%</td>\n",
              "      <td>0-35</td>\n",
              "      <td>F</td>\n",
              "      <td>HE</td>\n",
              "      <td>N</td>\n",
              "      <td>0</td>\n",
              "      <td>150</td>\n",
              "      <td>Fail</td>\n",
              "      <td>-22</td>\n",
              "      <td>0</td>\n",
              "    </tr>\n",
              "    <tr>\n",
              "      <th>15577</th>\n",
              "      <td>DDD</td>\n",
              "      <td>2013J</td>\n",
              "      <td>582954</td>\n",
              "      <td>London</td>\n",
              "      <td>10-20%</td>\n",
              "      <td>0-35</td>\n",
              "      <td>M</td>\n",
              "      <td>Under A Level</td>\n",
              "      <td>N</td>\n",
              "      <td>0</td>\n",
              "      <td>120</td>\n",
              "      <td>Fail</td>\n",
              "      <td>-81</td>\n",
              "      <td>-7</td>\n",
              "    </tr>\n",
              "    <tr>\n",
              "      <th>24057</th>\n",
              "      <td>FFF</td>\n",
              "      <td>2013J</td>\n",
              "      <td>234004</td>\n",
              "      <td>Yorkshire</td>\n",
              "      <td>50-60%</td>\n",
              "      <td>0-35</td>\n",
              "      <td>M</td>\n",
              "      <td>A Level</td>\n",
              "      <td>N</td>\n",
              "      <td>0</td>\n",
              "      <td>60</td>\n",
              "      <td>Fail</td>\n",
              "      <td>-33</td>\n",
              "      <td>0</td>\n",
              "    </tr>\n",
              "    <tr>\n",
              "      <th>24537</th>\n",
              "      <td>FFF</td>\n",
              "      <td>2013J</td>\n",
              "      <td>523777</td>\n",
              "      <td>North</td>\n",
              "      <td>0-10%</td>\n",
              "      <td>35-55</td>\n",
              "      <td>M</td>\n",
              "      <td>A Level</td>\n",
              "      <td>N</td>\n",
              "      <td>1</td>\n",
              "      <td>60</td>\n",
              "      <td>Fail</td>\n",
              "      <td>-60</td>\n",
              "      <td>0</td>\n",
              "    </tr>\n",
              "    <tr>\n",
              "      <th>25685</th>\n",
              "      <td>FFF</td>\n",
              "      <td>2013J</td>\n",
              "      <td>601640</td>\n",
              "      <td>London</td>\n",
              "      <td>20-30%</td>\n",
              "      <td>0-35</td>\n",
              "      <td>M</td>\n",
              "      <td>HE</td>\n",
              "      <td>N</td>\n",
              "      <td>0</td>\n",
              "      <td>90</td>\n",
              "      <td>Fail</td>\n",
              "      <td>-58</td>\n",
              "      <td>-4</td>\n",
              "    </tr>\n",
              "  </tbody>\n",
              "</table>\n",
              "</div>"
            ],
            "text/plain": [
              "      module presentation  ... date_registration date_unregistration\n",
              "2777     BBB        2013J  ...               -37                   0\n",
              "2786     BBB        2013J  ...               -75                   0\n",
              "3340     BBB        2013J  ...               -35                 166\n",
              "14625    DDD        2013J  ...               -73                   0\n",
              "14768    DDD        2013J  ...               -22                   0\n",
              "15577    DDD        2013J  ...               -81                  -7\n",
              "24057    FFF        2013J  ...               -33                   0\n",
              "24537    FFF        2013J  ...               -60                   0\n",
              "25685    FFF        2013J  ...               -58                  -4\n",
              "\n",
              "[9 rows x 14 columns]"
            ]
          },
          "metadata": {},
          "execution_count": 40
        }
      ]
    },
    {
      "cell_type": "markdown",
      "metadata": {
        "id": "6ad0c18d-65dc-4943-b8f8-45b0c0ccbb62"
      },
      "source": [
        "We can see there are a few students who are improperly marked as failing when they withdrew. Let's fix these entries"
      ],
      "id": "6ad0c18d-65dc-4943-b8f8-45b0c0ccbb62"
    },
    {
      "cell_type": "code",
      "metadata": {
        "id": "5668a487-4cb2-4e40-ac0b-01db1c3517d9"
      },
      "source": [
        "# change the values of result Fail where result should be Withdrawn\n",
        "stud_info.loc[(stud_info['result'] != 'Withdrawn') & (~stud_info['date_unregistration'].isna()), 'result'] = 'Withdrawn'"
      ],
      "id": "5668a487-4cb2-4e40-ac0b-01db1c3517d9",
      "execution_count": 41,
      "outputs": []
    },
    {
      "cell_type": "markdown",
      "metadata": {
        "id": "9a76f0a5-6f79-447a-9557-a24158c0ffee"
      },
      "source": [
        "We will now drop any students with a registration date before 0 (day 1) of the course, because we are only interested in students who at least began the courses."
      ],
      "id": "9a76f0a5-6f79-447a-9557-a24158c0ffee"
    },
    {
      "cell_type": "code",
      "metadata": {
        "id": "cb54d8ff-7bb9-4a63-a6bd-c5888cdff919"
      },
      "source": [
        "# keep only student info entries where the date of unregistration before day one or did not unregister\n",
        "stud_info = stud_info[(stud_info['date_unregistration'] > 0) | (stud_info['date_unregistration'].isna())]"
      ],
      "id": "cb54d8ff-7bb9-4a63-a6bd-c5888cdff919",
      "execution_count": 42,
      "outputs": []
    },
    {
      "cell_type": "markdown",
      "metadata": {
        "id": "37074113-304f-4267-ae40-f15d780b58c7"
      },
      "source": [
        "Let's see if there are any students where the opposite case is true - where they are marked as having withdrawn but have no unregistration date."
      ],
      "id": "37074113-304f-4267-ae40-f15d780b58c7"
    },
    {
      "cell_type": "code",
      "metadata": {
        "colab": {
          "base_uri": "https://localhost:8080/",
          "height": 0
        },
        "id": "ce351690-2239-4ece-86bc-8ec32a0f7018",
        "outputId": "6a9bae81-a25b-4695-9422-dc684a0e1593"
      },
      "source": [
        "# find students who have a result of withdrawn with no unregistration date\n",
        "stud_info.loc[(stud_info['result'] == 'Withdrawn') & (stud_info['date_unregistration'].isna())]"
      ],
      "id": "ce351690-2239-4ece-86bc-8ec32a0f7018",
      "execution_count": 43,
      "outputs": [
        {
          "output_type": "execute_result",
          "data": {
            "text/html": [
              "<div>\n",
              "<style scoped>\n",
              "    .dataframe tbody tr th:only-of-type {\n",
              "        vertical-align: middle;\n",
              "    }\n",
              "\n",
              "    .dataframe tbody tr th {\n",
              "        vertical-align: top;\n",
              "    }\n",
              "\n",
              "    .dataframe thead th {\n",
              "        text-align: right;\n",
              "    }\n",
              "</style>\n",
              "<table border=\"1\" class=\"dataframe\">\n",
              "  <thead>\n",
              "    <tr style=\"text-align: right;\">\n",
              "      <th></th>\n",
              "      <th>module</th>\n",
              "      <th>presentation</th>\n",
              "      <th>id_student</th>\n",
              "      <th>region</th>\n",
              "      <th>imd</th>\n",
              "      <th>age</th>\n",
              "      <th>gender</th>\n",
              "      <th>education</th>\n",
              "      <th>disability</th>\n",
              "      <th>attempts</th>\n",
              "      <th>credits</th>\n",
              "      <th>result</th>\n",
              "      <th>date_registration</th>\n",
              "      <th>date_unregistration</th>\n",
              "    </tr>\n",
              "  </thead>\n",
              "  <tbody>\n",
              "    <tr>\n",
              "      <th>6315</th>\n",
              "      <td>BBB</td>\n",
              "      <td>2014B</td>\n",
              "      <td>2512349</td>\n",
              "      <td>Yorkshire</td>\n",
              "      <td>40-50%</td>\n",
              "      <td>35-55</td>\n",
              "      <td>F</td>\n",
              "      <td>Under A Level</td>\n",
              "      <td>N</td>\n",
              "      <td>0</td>\n",
              "      <td>60</td>\n",
              "      <td>Withdrawn</td>\n",
              "      <td>-17</td>\n",
              "      <td>&lt;NA&gt;</td>\n",
              "    </tr>\n",
              "    <tr>\n",
              "      <th>6484</th>\n",
              "      <td>BBB</td>\n",
              "      <td>2014J</td>\n",
              "      <td>271047</td>\n",
              "      <td>South West</td>\n",
              "      <td>90-100%</td>\n",
              "      <td>0-35</td>\n",
              "      <td>F</td>\n",
              "      <td>Under A Level</td>\n",
              "      <td>N</td>\n",
              "      <td>0</td>\n",
              "      <td>60</td>\n",
              "      <td>Withdrawn</td>\n",
              "      <td>-25</td>\n",
              "      <td>&lt;NA&gt;</td>\n",
              "    </tr>\n",
              "    <tr>\n",
              "      <th>6601</th>\n",
              "      <td>BBB</td>\n",
              "      <td>2014J</td>\n",
              "      <td>417978</td>\n",
              "      <td>Wales</td>\n",
              "      <td>80-90%</td>\n",
              "      <td>35-55</td>\n",
              "      <td>F</td>\n",
              "      <td>HE</td>\n",
              "      <td>N</td>\n",
              "      <td>0</td>\n",
              "      <td>60</td>\n",
              "      <td>Withdrawn</td>\n",
              "      <td>-24</td>\n",
              "      <td>&lt;NA&gt;</td>\n",
              "    </tr>\n",
              "    <tr>\n",
              "      <th>7247</th>\n",
              "      <td>BBB</td>\n",
              "      <td>2014J</td>\n",
              "      <td>636660</td>\n",
              "      <td>North Western</td>\n",
              "      <td>0-10%</td>\n",
              "      <td>0-35</td>\n",
              "      <td>F</td>\n",
              "      <td>Under A Level</td>\n",
              "      <td>N</td>\n",
              "      <td>0</td>\n",
              "      <td>60</td>\n",
              "      <td>Withdrawn</td>\n",
              "      <td>-113</td>\n",
              "      <td>&lt;NA&gt;</td>\n",
              "    </tr>\n",
              "    <tr>\n",
              "      <th>7410</th>\n",
              "      <td>BBB</td>\n",
              "      <td>2014J</td>\n",
              "      <td>647876</td>\n",
              "      <td>East Anglian</td>\n",
              "      <td>80-90%</td>\n",
              "      <td>0-35</td>\n",
              "      <td>F</td>\n",
              "      <td>Under A Level</td>\n",
              "      <td>N</td>\n",
              "      <td>0</td>\n",
              "      <td>120</td>\n",
              "      <td>Withdrawn</td>\n",
              "      <td>-162</td>\n",
              "      <td>&lt;NA&gt;</td>\n",
              "    </tr>\n",
              "    <tr>\n",
              "      <th>...</th>\n",
              "      <td>...</td>\n",
              "      <td>...</td>\n",
              "      <td>...</td>\n",
              "      <td>...</td>\n",
              "      <td>...</td>\n",
              "      <td>...</td>\n",
              "      <td>...</td>\n",
              "      <td>...</td>\n",
              "      <td>...</td>\n",
              "      <td>...</td>\n",
              "      <td>...</td>\n",
              "      <td>...</td>\n",
              "      <td>...</td>\n",
              "      <td>...</td>\n",
              "    </tr>\n",
              "    <tr>\n",
              "      <th>29978</th>\n",
              "      <td>FFF</td>\n",
              "      <td>2014J</td>\n",
              "      <td>2398260</td>\n",
              "      <td>London</td>\n",
              "      <td>10-20%</td>\n",
              "      <td>35-55</td>\n",
              "      <td>M</td>\n",
              "      <td>Under A Level</td>\n",
              "      <td>N</td>\n",
              "      <td>0</td>\n",
              "      <td>180</td>\n",
              "      <td>Withdrawn</td>\n",
              "      <td>-38</td>\n",
              "      <td>&lt;NA&gt;</td>\n",
              "    </tr>\n",
              "    <tr>\n",
              "      <th>30032</th>\n",
              "      <td>FFF</td>\n",
              "      <td>2014J</td>\n",
              "      <td>2622634</td>\n",
              "      <td>Ireland</td>\n",
              "      <td>10-20%</td>\n",
              "      <td>35-55</td>\n",
              "      <td>M</td>\n",
              "      <td>A Level</td>\n",
              "      <td>N</td>\n",
              "      <td>1</td>\n",
              "      <td>60</td>\n",
              "      <td>Withdrawn</td>\n",
              "      <td>-29</td>\n",
              "      <td>&lt;NA&gt;</td>\n",
              "    </tr>\n",
              "    <tr>\n",
              "      <th>30562</th>\n",
              "      <td>GGG</td>\n",
              "      <td>2013J</td>\n",
              "      <td>590248</td>\n",
              "      <td>Yorkshire</td>\n",
              "      <td>30-40%</td>\n",
              "      <td>0-35</td>\n",
              "      <td>F</td>\n",
              "      <td>Under A Level</td>\n",
              "      <td>N</td>\n",
              "      <td>0</td>\n",
              "      <td>30</td>\n",
              "      <td>Withdrawn</td>\n",
              "      <td>-16</td>\n",
              "      <td>&lt;NA&gt;</td>\n",
              "    </tr>\n",
              "    <tr>\n",
              "      <th>32149</th>\n",
              "      <td>GGG</td>\n",
              "      <td>2014J</td>\n",
              "      <td>646891</td>\n",
              "      <td>South</td>\n",
              "      <td>10-20%</td>\n",
              "      <td>35-55</td>\n",
              "      <td>F</td>\n",
              "      <td>Under A Level</td>\n",
              "      <td>N</td>\n",
              "      <td>0</td>\n",
              "      <td>60</td>\n",
              "      <td>Withdrawn</td>\n",
              "      <td>2</td>\n",
              "      <td>&lt;NA&gt;</td>\n",
              "    </tr>\n",
              "    <tr>\n",
              "      <th>32411</th>\n",
              "      <td>GGG</td>\n",
              "      <td>2014J</td>\n",
              "      <td>685028</td>\n",
              "      <td>Ireland</td>\n",
              "      <td>60-70%</td>\n",
              "      <td>35-55</td>\n",
              "      <td>F</td>\n",
              "      <td>Under A Level</td>\n",
              "      <td>N</td>\n",
              "      <td>0</td>\n",
              "      <td>30</td>\n",
              "      <td>Withdrawn</td>\n",
              "      <td>-9</td>\n",
              "      <td>&lt;NA&gt;</td>\n",
              "    </tr>\n",
              "  </tbody>\n",
              "</table>\n",
              "<p>93 rows × 14 columns</p>\n",
              "</div>"
            ],
            "text/plain": [
              "      module presentation  ... date_registration date_unregistration\n",
              "6315     BBB        2014B  ...               -17                <NA>\n",
              "6484     BBB        2014J  ...               -25                <NA>\n",
              "6601     BBB        2014J  ...               -24                <NA>\n",
              "7247     BBB        2014J  ...              -113                <NA>\n",
              "7410     BBB        2014J  ...              -162                <NA>\n",
              "...      ...          ...  ...               ...                 ...\n",
              "29978    FFF        2014J  ...               -38                <NA>\n",
              "30032    FFF        2014J  ...               -29                <NA>\n",
              "30562    GGG        2013J  ...               -16                <NA>\n",
              "32149    GGG        2014J  ...                 2                <NA>\n",
              "32411    GGG        2014J  ...                -9                <NA>\n",
              "\n",
              "[93 rows x 14 columns]"
            ]
          },
          "metadata": {},
          "execution_count": 43
        }
      ]
    },
    {
      "cell_type": "code",
      "metadata": {
        "tags": [
          "remove_input"
        ],
        "colab": {
          "base_uri": "https://localhost:8080/",
          "height": 0
        },
        "id": "acf71efe-0455-4e66-8b34-5544e0515b58",
        "outputId": "731459f1-f023-417e-ebd6-6c583ff26a1f"
      },
      "source": [
        "# get a count of student id's with a withdrawn result\n",
        "withdrawn_students = int(stud_info.loc[stud_info['result'] == 'Withdrawn']['id_student'].count())\n",
        "\n",
        "# get a count of students who withdrew but have no unregistration date\n",
        "no_unreg_withdrawn = stud_info.loc[(stud_info['result'] == 'Withdrawn') & (stud_info['date_unregistration'].isna())]['id_student'].count()\n",
        "\n",
        "# find the percentage of students who withdrew and have no unreg date to the overall withdrawn students\n",
        "perc_missing_unreg = percentage(no_unreg_withdrawn, withdrawn_students)\n",
        "\n",
        "md(f'''\n",
        "Above is a table of students who withdrew but have no unregistration date. \n",
        "\n",
        "{no_unreg_withdrawn} out of {withdrawn_students} students who withdrew or {perc_missing_unreg}% of withdrawn \n",
        "students do not have an unregistration date like they should. This should not affect our analysis and will\n",
        "be left, but the incompleteness of this data set is of note.\n",
        "''')"
      ],
      "id": "acf71efe-0455-4e66-8b34-5544e0515b58",
      "execution_count": 44,
      "outputs": [
        {
          "output_type": "execute_result",
          "data": {
            "text/markdown": "\nAbove is a table of students who withdrew but have no unregistration date. \n\n93 out of 7068 students who withdrew or 1.32% of withdrawn \nstudents do not have an unregistration date like they should. This should not affect our analysis and will\nbe left, but the incompleteness of this data set is of note.\n",
            "text/plain": [
              "<IPython.core.display.Markdown object>"
            ]
          },
          "metadata": {},
          "execution_count": 44
        }
      ]
    },
    {
      "cell_type": "markdown",
      "metadata": {
        "id": "c9e25490-6600-442a-a775-f3d17008fc9f"
      },
      "source": [
        "**Late Unregistration**"
      ],
      "id": "c9e25490-6600-442a-a775-f3d17008fc9f"
    },
    {
      "cell_type": "code",
      "metadata": {
        "tags": [
          "remove_input"
        ],
        "colab": {
          "base_uri": "https://localhost:8080/",
          "height": 0
        },
        "id": "63254ff9-5863-418f-bf35-ac70aeb961e6",
        "outputId": "dca9ba03-5f6f-462d-86d6-28959965d7f7"
      },
      "source": [
        "# finds the longest module length in courses \n",
        "longest_course = courses['course_length'].max()\n",
        "\n",
        "# find the maximum unregistration date\n",
        "longest_unreg = int(student_registration['date_unregistration'].max())\n",
        "\n",
        "md(f'''* The longest course from course_length length in the courses dataframe was {longest_course} days, yet we see here the \n",
        "latest unregistration date is {longest_unreg} days, which is longer than any course went on.\n",
        "''')"
      ],
      "id": "63254ff9-5863-418f-bf35-ac70aeb961e6",
      "execution_count": 45,
      "outputs": [
        {
          "output_type": "execute_result",
          "data": {
            "text/markdown": "* The longest course from course_length length in the courses dataframe was 269 days, yet we see here the \nlatest unregistration date is 444 days, which is longer than any course went on.\n",
            "text/plain": [
              "<IPython.core.display.Markdown object>"
            ]
          },
          "metadata": {},
          "execution_count": 45
        }
      ]
    },
    {
      "cell_type": "markdown",
      "metadata": {
        "id": "7925c247-2ccf-4086-91e8-8c9935c84e20"
      },
      "source": [
        "All Students with an unregistration point after 269 days:"
      ],
      "id": "7925c247-2ccf-4086-91e8-8c9935c84e20"
    },
    {
      "cell_type": "code",
      "metadata": {
        "tags": [],
        "colab": {
          "base_uri": "https://localhost:8080/",
          "height": 0
        },
        "id": "433f97e2-ebfa-4d53-8b78-df5a0f57fd48",
        "outputId": "c09d9af0-3e02-4e78-dde7-9b0a165f3c8d"
      },
      "source": [
        "# finding students whose courses went on for longer than the maximum course length\n",
        "student_registration.loc[student_registration['date_unregistration'] > 269]"
      ],
      "id": "433f97e2-ebfa-4d53-8b78-df5a0f57fd48",
      "execution_count": 46,
      "outputs": [
        {
          "output_type": "execute_result",
          "data": {
            "text/html": [
              "<div>\n",
              "<style scoped>\n",
              "    .dataframe tbody tr th:only-of-type {\n",
              "        vertical-align: middle;\n",
              "    }\n",
              "\n",
              "    .dataframe tbody tr th {\n",
              "        vertical-align: top;\n",
              "    }\n",
              "\n",
              "    .dataframe thead th {\n",
              "        text-align: right;\n",
              "    }\n",
              "</style>\n",
              "<table border=\"1\" class=\"dataframe\">\n",
              "  <thead>\n",
              "    <tr style=\"text-align: right;\">\n",
              "      <th></th>\n",
              "      <th>code_module</th>\n",
              "      <th>code_presentation</th>\n",
              "      <th>id_student</th>\n",
              "      <th>date_registration</th>\n",
              "      <th>date_unregistration</th>\n",
              "    </tr>\n",
              "  </thead>\n",
              "  <tbody>\n",
              "    <tr>\n",
              "      <th>25249</th>\n",
              "      <td>FFF</td>\n",
              "      <td>2013J</td>\n",
              "      <td>586851</td>\n",
              "      <td>-22.0</td>\n",
              "      <td>444.0</td>\n",
              "    </tr>\n",
              "  </tbody>\n",
              "</table>\n",
              "</div>"
            ],
            "text/plain": [
              "      code_module code_presentation  ...  date_registration  date_unregistration\n",
              "25249         FFF             2013J  ...              -22.0                444.0\n",
              "\n",
              "[1 rows x 5 columns]"
            ]
          },
          "metadata": {},
          "execution_count": 46
        }
      ]
    },
    {
      "cell_type": "markdown",
      "metadata": {
        "id": "fb53b18e-ee6d-4ea2-b2cd-f485702d8be0"
      },
      "source": [
        "* It seems to be just this one student is an outlier, but should not affect our overall analysis so we will leave this intact\n",
        "* The registration date is unlikely to provide any more interesting information to us and will be dropped"
      ],
      "id": "fb53b18e-ee6d-4ea2-b2cd-f485702d8be0"
    },
    {
      "cell_type": "markdown",
      "metadata": {
        "id": "a572d8d1-18c8-4310-b350-5c381c22cf1f"
      },
      "source": [
        "### Assessments\n",
        "---"
      ],
      "id": "a572d8d1-18c8-4310-b350-5c381c22cf1f"
    },
    {
      "cell_type": "markdown",
      "metadata": {
        "id": "2f036d02-1b99-48c3-a881-381baa6f254d"
      },
      "source": [
        "The assessments dataframe contains information about the unique assessments in each code module and presentation."
      ],
      "id": "2f036d02-1b99-48c3-a881-381baa6f254d"
    },
    {
      "cell_type": "code",
      "metadata": {
        "tags": [],
        "colab": {
          "base_uri": "https://localhost:8080/",
          "height": 0
        },
        "id": "4530a586-77ff-420d-b0c8-ca67c5813ed2",
        "outputId": "a2147d24-af5a-4c80-acd0-222d35e10a22"
      },
      "source": [
        "# show assessments dataframe\n",
        "assessments.head()"
      ],
      "id": "4530a586-77ff-420d-b0c8-ca67c5813ed2",
      "execution_count": 47,
      "outputs": [
        {
          "output_type": "execute_result",
          "data": {
            "text/html": [
              "<div>\n",
              "<style scoped>\n",
              "    .dataframe tbody tr th:only-of-type {\n",
              "        vertical-align: middle;\n",
              "    }\n",
              "\n",
              "    .dataframe tbody tr th {\n",
              "        vertical-align: top;\n",
              "    }\n",
              "\n",
              "    .dataframe thead th {\n",
              "        text-align: right;\n",
              "    }\n",
              "</style>\n",
              "<table border=\"1\" class=\"dataframe\">\n",
              "  <thead>\n",
              "    <tr style=\"text-align: right;\">\n",
              "      <th></th>\n",
              "      <th>code_module</th>\n",
              "      <th>code_presentation</th>\n",
              "      <th>id_assessment</th>\n",
              "      <th>assessment_type</th>\n",
              "      <th>date</th>\n",
              "      <th>weight</th>\n",
              "    </tr>\n",
              "  </thead>\n",
              "  <tbody>\n",
              "    <tr>\n",
              "      <th>0</th>\n",
              "      <td>AAA</td>\n",
              "      <td>2013J</td>\n",
              "      <td>1752</td>\n",
              "      <td>TMA</td>\n",
              "      <td>19.0</td>\n",
              "      <td>10.0</td>\n",
              "    </tr>\n",
              "    <tr>\n",
              "      <th>1</th>\n",
              "      <td>AAA</td>\n",
              "      <td>2013J</td>\n",
              "      <td>1753</td>\n",
              "      <td>TMA</td>\n",
              "      <td>54.0</td>\n",
              "      <td>20.0</td>\n",
              "    </tr>\n",
              "    <tr>\n",
              "      <th>2</th>\n",
              "      <td>AAA</td>\n",
              "      <td>2013J</td>\n",
              "      <td>1754</td>\n",
              "      <td>TMA</td>\n",
              "      <td>117.0</td>\n",
              "      <td>20.0</td>\n",
              "    </tr>\n",
              "    <tr>\n",
              "      <th>3</th>\n",
              "      <td>AAA</td>\n",
              "      <td>2013J</td>\n",
              "      <td>1755</td>\n",
              "      <td>TMA</td>\n",
              "      <td>166.0</td>\n",
              "      <td>20.0</td>\n",
              "    </tr>\n",
              "    <tr>\n",
              "      <th>4</th>\n",
              "      <td>AAA</td>\n",
              "      <td>2013J</td>\n",
              "      <td>1756</td>\n",
              "      <td>TMA</td>\n",
              "      <td>215.0</td>\n",
              "      <td>30.0</td>\n",
              "    </tr>\n",
              "  </tbody>\n",
              "</table>\n",
              "</div>"
            ],
            "text/plain": [
              "  code_module code_presentation  id_assessment assessment_type   date  weight\n",
              "0         AAA             2013J           1752             TMA   19.0    10.0\n",
              "1         AAA             2013J           1753             TMA   54.0    20.0\n",
              "2         AAA             2013J           1754             TMA  117.0    20.0\n",
              "3         AAA             2013J           1755             TMA  166.0    20.0\n",
              "4         AAA             2013J           1756             TMA  215.0    30.0"
            ]
          },
          "metadata": {},
          "execution_count": 47
        }
      ]
    },
    {
      "cell_type": "markdown",
      "metadata": {
        "id": "144e9ffd-9d36-4ca5-a8e4-6e8fe34337b8"
      },
      "source": [
        "---\n",
        "\n",
        "#### Assessments Contents\n",
        "\n",
        "* **code_module**: The code module represents the code name of the course the assessment was held for.\n",
        "* **code_presentation**: The presentation represents the presentation which the test was held for.\n",
        "* **id_assessment**: The assessment ID is the unique identifier for each assessment.\n",
        "* **assessment_type**: The assessment type represents the kind of assessment it was.\n",
        "    - There are three assessment types:\n",
        "        * TMA: Tutor Marked Assessment\n",
        "        * CMA: Computer Marked Assessment\n",
        "        * Exam: The Final Exam\n",
        "* **date**: The date is how many days from the start of the course the assessment took place\n",
        "* **weight**: The weight is the weighted value of the assessment. Exams should have a weight of 100 which the rest of the assessments should add to 100 in total."
      ],
      "id": "144e9ffd-9d36-4ca5-a8e4-6e8fe34337b8"
    },
    {
      "cell_type": "markdown",
      "metadata": {
        "id": "c7fc00ac-4e3e-4a75-8574-bda500172372"
      },
      "source": [
        "* column names will be changed to be less verbose\n",
        "    * code_module to module\n",
        "    * code_presentation to presentation"
      ],
      "id": "c7fc00ac-4e3e-4a75-8574-bda500172372"
    },
    {
      "cell_type": "code",
      "metadata": {
        "tags": [],
        "id": "9bfd6af0-c361-49ac-a621-b2766e8e7b2a"
      },
      "source": [
        "# make a dictionary of columns mapping to their new name\n",
        "assessments_rename = {'code_module':'module', 'code_presentation':'presentation'}\n",
        "\n",
        "# rename columns in assessments based on dictionary\n",
        "assessments = assessments.rename(columns=assessments_rename)"
      ],
      "id": "9bfd6af0-c361-49ac-a621-b2766e8e7b2a",
      "execution_count": 48,
      "outputs": []
    },
    {
      "cell_type": "markdown",
      "metadata": {
        "id": "09f60929-8c00-407e-aed0-62cae2b277c7"
      },
      "source": [
        "---\n",
        "\n",
        "#### Assessments Information"
      ],
      "id": "09f60929-8c00-407e-aed0-62cae2b277c7"
    },
    {
      "cell_type": "markdown",
      "metadata": {
        "id": "2b19c95e-070a-43b4-9ef6-4166cb943bad"
      },
      "source": [
        "**Size**"
      ],
      "id": "2b19c95e-070a-43b4-9ef6-4166cb943bad"
    },
    {
      "cell_type": "code",
      "metadata": {
        "tags": [],
        "colab": {
          "base_uri": "https://localhost:8080/",
          "height": 0
        },
        "id": "f7125bdb-50e7-45fc-90fd-355b2fa3967a",
        "outputId": "0cd1a3ac-2606-4000-bb76-f74bf47a4aad"
      },
      "source": [
        "# function to get a dataframe of rows and columns\n",
        "get_size(assessments)"
      ],
      "id": "f7125bdb-50e7-45fc-90fd-355b2fa3967a",
      "execution_count": 49,
      "outputs": [
        {
          "output_type": "execute_result",
          "data": {
            "text/html": [
              "<div>\n",
              "<style scoped>\n",
              "    .dataframe tbody tr th:only-of-type {\n",
              "        vertical-align: middle;\n",
              "    }\n",
              "\n",
              "    .dataframe tbody tr th {\n",
              "        vertical-align: top;\n",
              "    }\n",
              "\n",
              "    .dataframe thead th {\n",
              "        text-align: right;\n",
              "    }\n",
              "</style>\n",
              "<table border=\"1\" class=\"dataframe\">\n",
              "  <thead>\n",
              "    <tr style=\"text-align: right;\">\n",
              "      <th></th>\n",
              "      <th>Count</th>\n",
              "    </tr>\n",
              "  </thead>\n",
              "  <tbody>\n",
              "    <tr>\n",
              "      <th>Columns</th>\n",
              "      <td>6</td>\n",
              "    </tr>\n",
              "    <tr>\n",
              "      <th>Rows</th>\n",
              "      <td>206</td>\n",
              "    </tr>\n",
              "  </tbody>\n",
              "</table>\n",
              "</div>"
            ],
            "text/plain": [
              "         Count\n",
              "Columns      6\n",
              "Rows       206"
            ]
          },
          "metadata": {},
          "execution_count": 49
        }
      ]
    },
    {
      "cell_type": "code",
      "metadata": {
        "tags": [
          "remove_input"
        ],
        "colab": {
          "base_uri": "https://localhost:8080/",
          "height": 0
        },
        "id": "afa117d8-a4b3-43ea-a6be-f754070fd7be",
        "outputId": "5a873811-726a-44b6-e4c6-ffa9582b3990"
      },
      "source": [
        "md(f'''\n",
        "Assessments has {len(assessments.columns)} features describing {len(assessments)} exam records.\n",
        "''')"
      ],
      "id": "afa117d8-a4b3-43ea-a6be-f754070fd7be",
      "execution_count": 50,
      "outputs": [
        {
          "output_type": "execute_result",
          "data": {
            "text/markdown": "\nAssessments has 6 features describing 206 exam records.\n",
            "text/plain": [
              "<IPython.core.display.Markdown object>"
            ]
          },
          "metadata": {},
          "execution_count": 50
        }
      ]
    },
    {
      "cell_type": "markdown",
      "metadata": {
        "id": "337672e9-409f-4244-ae97-024cba8e6b63"
      },
      "source": [
        "**Data Types**"
      ],
      "id": "337672e9-409f-4244-ae97-024cba8e6b63"
    },
    {
      "cell_type": "code",
      "metadata": {
        "tags": [],
        "colab": {
          "base_uri": "https://localhost:8080/",
          "height": 0
        },
        "id": "360f40ac-a3a7-43a6-8b89-8e9b4c9aecab",
        "outputId": "6e258a7d-689d-4aee-8f38-94ec414cce85"
      },
      "source": [
        "# function to get a dataframe of data types\n",
        "get_dtypes(assessments)"
      ],
      "id": "360f40ac-a3a7-43a6-8b89-8e9b4c9aecab",
      "execution_count": 51,
      "outputs": [
        {
          "output_type": "execute_result",
          "data": {
            "text/html": [
              "<div>\n",
              "<style scoped>\n",
              "    .dataframe tbody tr th:only-of-type {\n",
              "        vertical-align: middle;\n",
              "    }\n",
              "\n",
              "    .dataframe tbody tr th {\n",
              "        vertical-align: top;\n",
              "    }\n",
              "\n",
              "    .dataframe thead th {\n",
              "        text-align: right;\n",
              "    }\n",
              "</style>\n",
              "<table border=\"1\" class=\"dataframe\">\n",
              "  <thead>\n",
              "    <tr style=\"text-align: right;\">\n",
              "      <th></th>\n",
              "      <th>Variable</th>\n",
              "      <th>Type</th>\n",
              "    </tr>\n",
              "  </thead>\n",
              "  <tbody>\n",
              "    <tr>\n",
              "      <th>0</th>\n",
              "      <td>module</td>\n",
              "      <td>object</td>\n",
              "    </tr>\n",
              "    <tr>\n",
              "      <th>1</th>\n",
              "      <td>presentation</td>\n",
              "      <td>object</td>\n",
              "    </tr>\n",
              "    <tr>\n",
              "      <th>2</th>\n",
              "      <td>id_assessment</td>\n",
              "      <td>int64</td>\n",
              "    </tr>\n",
              "    <tr>\n",
              "      <th>3</th>\n",
              "      <td>assessment_type</td>\n",
              "      <td>object</td>\n",
              "    </tr>\n",
              "    <tr>\n",
              "      <th>4</th>\n",
              "      <td>date</td>\n",
              "      <td>float64</td>\n",
              "    </tr>\n",
              "    <tr>\n",
              "      <th>5</th>\n",
              "      <td>weight</td>\n",
              "      <td>float64</td>\n",
              "    </tr>\n",
              "  </tbody>\n",
              "</table>\n",
              "</div>"
            ],
            "text/plain": [
              "          Variable     Type\n",
              "0           module   object\n",
              "1     presentation   object\n",
              "2    id_assessment    int64\n",
              "3  assessment_type   object\n",
              "4             date  float64\n",
              "5           weight  float64"
            ]
          },
          "metadata": {},
          "execution_count": 51
        }
      ]
    },
    {
      "cell_type": "markdown",
      "metadata": {
        "id": "70403608-2ded-4277-97c9-eaab70690d18"
      },
      "source": [
        "* `module`, `presentation`,`assessment_type` and `id_student` will be converted to string"
      ],
      "id": "70403608-2ded-4277-97c9-eaab70690d18"
    },
    {
      "cell_type": "code",
      "metadata": {
        "tags": [],
        "id": "a450ef2a-1aaf-46c0-9dc2-10a3aa77ae1f"
      },
      "source": [
        "# converting id_assessment to string\n",
        "assessments= assessments.astype({'id_assessment':str})\n",
        "\n",
        "# all other data types to those which support pandas <NA>\n",
        "assessments = assessments.convert_dtypes(convert_integer=False)"
      ],
      "id": "a450ef2a-1aaf-46c0-9dc2-10a3aa77ae1f",
      "execution_count": 52,
      "outputs": []
    },
    {
      "cell_type": "markdown",
      "metadata": {
        "id": "940d8601-2429-427c-b175-b945d2735035"
      },
      "source": [
        "**Null Values**"
      ],
      "id": "940d8601-2429-427c-b175-b945d2735035"
    },
    {
      "cell_type": "code",
      "metadata": {
        "tags": [],
        "colab": {
          "base_uri": "https://localhost:8080/",
          "height": 0
        },
        "id": "efc24f30-1c35-406b-ab6c-34eec472f7cd",
        "outputId": "78d65c21-177f-4cd6-e51d-035918f49ed5"
      },
      "source": [
        "# function to return dataframe of nulls in columns\n",
        "null_vals(assessments)"
      ],
      "id": "efc24f30-1c35-406b-ab6c-34eec472f7cd",
      "execution_count": 53,
      "outputs": [
        {
          "output_type": "execute_result",
          "data": {
            "text/html": [
              "<div>\n",
              "<style scoped>\n",
              "    .dataframe tbody tr th:only-of-type {\n",
              "        vertical-align: middle;\n",
              "    }\n",
              "\n",
              "    .dataframe tbody tr th {\n",
              "        vertical-align: top;\n",
              "    }\n",
              "\n",
              "    .dataframe thead th {\n",
              "        text-align: right;\n",
              "    }\n",
              "</style>\n",
              "<table border=\"1\" class=\"dataframe\">\n",
              "  <thead>\n",
              "    <tr style=\"text-align: right;\">\n",
              "      <th></th>\n",
              "      <th>Variable</th>\n",
              "      <th>Null Values</th>\n",
              "    </tr>\n",
              "  </thead>\n",
              "  <tbody>\n",
              "    <tr>\n",
              "      <th>0</th>\n",
              "      <td>module</td>\n",
              "      <td>0</td>\n",
              "    </tr>\n",
              "    <tr>\n",
              "      <th>1</th>\n",
              "      <td>presentation</td>\n",
              "      <td>0</td>\n",
              "    </tr>\n",
              "    <tr>\n",
              "      <th>2</th>\n",
              "      <td>id_assessment</td>\n",
              "      <td>0</td>\n",
              "    </tr>\n",
              "    <tr>\n",
              "      <th>3</th>\n",
              "      <td>assessment_type</td>\n",
              "      <td>0</td>\n",
              "    </tr>\n",
              "    <tr>\n",
              "      <th>4</th>\n",
              "      <td>date</td>\n",
              "      <td>11</td>\n",
              "    </tr>\n",
              "    <tr>\n",
              "      <th>5</th>\n",
              "      <td>weight</td>\n",
              "      <td>0</td>\n",
              "    </tr>\n",
              "  </tbody>\n",
              "</table>\n",
              "</div>"
            ],
            "text/plain": [
              "          Variable  Null Values\n",
              "0           module            0\n",
              "1     presentation            0\n",
              "2    id_assessment            0\n",
              "3  assessment_type            0\n",
              "4             date           11\n",
              "5           weight            0"
            ]
          },
          "metadata": {},
          "execution_count": 53
        }
      ]
    },
    {
      "cell_type": "code",
      "metadata": {
        "tags": [
          "remove_input"
        ],
        "colab": {
          "base_uri": "https://localhost:8080/",
          "height": 0
        },
        "id": "8b4e66fa-fd8b-4702-bfa2-561233a3edd6",
        "outputId": "82a77365-3d2b-43b9-9b29-310b0672a4a0"
      },
      "source": [
        "md(f'''\n",
        "* We have {assessments['date'].isnull().sum()} null data points for assessment date. \n",
        "* The documentation of this dataset states that if the exam date is missing then it is as the end of the last presentation week. \n",
        "* We can find this information in the courses dataframe, and add them in to get rid of the NaNs.\n",
        "''')"
      ],
      "id": "8b4e66fa-fd8b-4702-bfa2-561233a3edd6",
      "execution_count": 54,
      "outputs": [
        {
          "output_type": "execute_result",
          "data": {
            "text/markdown": "\n* We have 11 null data points for assessment date. \n* The documentation of this dataset states that if the exam date is missing then it is as the end of the last presentation week. \n* We can find this information in the courses dataframe, and add them in to get rid of the NaNs.\n",
            "text/plain": [
              "<IPython.core.display.Markdown object>"
            ]
          },
          "metadata": {},
          "execution_count": 54
        }
      ]
    },
    {
      "cell_type": "code",
      "metadata": {
        "tags": [],
        "colab": {
          "base_uri": "https://localhost:8080/",
          "height": 0
        },
        "id": "4d6cf378-18de-4c48-8b5e-276192cb99d0",
        "outputId": "7b4ee0fb-0b7c-4504-e68b-fbc27b79e6ec"
      },
      "source": [
        "# iterate through assessments entries where date is NA\n",
        "for index, row in assessments[assessments['date'].isna()].iterrows():\n",
        "    # change assessments date at current index to the course_length found in courses by locating the matching module/presentation\n",
        "    assessments.at[index, 'date'] = courses.loc[(courses['module'] == row['module']) & (courses['presentation'] == row['presentation']), 'course_length']\n",
        "\n",
        "# give a dataframe of null values to ensure there are now none\n",
        "dataframe(assessments.isnull().sum(), columns=['Null Values'])"
      ],
      "id": "4d6cf378-18de-4c48-8b5e-276192cb99d0",
      "execution_count": 55,
      "outputs": [
        {
          "output_type": "execute_result",
          "data": {
            "text/html": [
              "<div>\n",
              "<style scoped>\n",
              "    .dataframe tbody tr th:only-of-type {\n",
              "        vertical-align: middle;\n",
              "    }\n",
              "\n",
              "    .dataframe tbody tr th {\n",
              "        vertical-align: top;\n",
              "    }\n",
              "\n",
              "    .dataframe thead th {\n",
              "        text-align: right;\n",
              "    }\n",
              "</style>\n",
              "<table border=\"1\" class=\"dataframe\">\n",
              "  <thead>\n",
              "    <tr style=\"text-align: right;\">\n",
              "      <th></th>\n",
              "      <th>Null Values</th>\n",
              "    </tr>\n",
              "  </thead>\n",
              "  <tbody>\n",
              "    <tr>\n",
              "      <th>module</th>\n",
              "      <td>0</td>\n",
              "    </tr>\n",
              "    <tr>\n",
              "      <th>presentation</th>\n",
              "      <td>0</td>\n",
              "    </tr>\n",
              "    <tr>\n",
              "      <th>id_assessment</th>\n",
              "      <td>0</td>\n",
              "    </tr>\n",
              "    <tr>\n",
              "      <th>assessment_type</th>\n",
              "      <td>0</td>\n",
              "    </tr>\n",
              "    <tr>\n",
              "      <th>date</th>\n",
              "      <td>0</td>\n",
              "    </tr>\n",
              "    <tr>\n",
              "      <th>weight</th>\n",
              "      <td>0</td>\n",
              "    </tr>\n",
              "  </tbody>\n",
              "</table>\n",
              "</div>"
            ],
            "text/plain": [
              "                 Null Values\n",
              "module                     0\n",
              "presentation               0\n",
              "id_assessment              0\n",
              "assessment_type            0\n",
              "date                       0\n",
              "weight                     0"
            ]
          },
          "metadata": {},
          "execution_count": 55
        }
      ]
    },
    {
      "cell_type": "markdown",
      "metadata": {
        "id": "5020a62c-6b36-40ba-87fe-40edd597c90c"
      },
      "source": [
        "**Unique Counts**"
      ],
      "id": "5020a62c-6b36-40ba-87fe-40edd597c90c"
    },
    {
      "cell_type": "code",
      "metadata": {
        "tags": [],
        "colab": {
          "base_uri": "https://localhost:8080/",
          "height": 0
        },
        "id": "501a7a58-1112-4763-8f97-9f33f311a2bb",
        "outputId": "18cfe115-00b6-4742-c6d4-b71729582951"
      },
      "source": [
        "# function to get unique value counts\n",
        "count_unique(assessments)"
      ],
      "id": "501a7a58-1112-4763-8f97-9f33f311a2bb",
      "execution_count": 56,
      "outputs": [
        {
          "output_type": "execute_result",
          "data": {
            "text/html": [
              "<div>\n",
              "<style scoped>\n",
              "    .dataframe tbody tr th:only-of-type {\n",
              "        vertical-align: middle;\n",
              "    }\n",
              "\n",
              "    .dataframe tbody tr th {\n",
              "        vertical-align: top;\n",
              "    }\n",
              "\n",
              "    .dataframe thead th {\n",
              "        text-align: right;\n",
              "    }\n",
              "</style>\n",
              "<table border=\"1\" class=\"dataframe\">\n",
              "  <thead>\n",
              "    <tr style=\"text-align: right;\">\n",
              "      <th></th>\n",
              "      <th>Variable</th>\n",
              "      <th>Count</th>\n",
              "    </tr>\n",
              "  </thead>\n",
              "  <tbody>\n",
              "    <tr>\n",
              "      <th>0</th>\n",
              "      <td>module</td>\n",
              "      <td>7</td>\n",
              "    </tr>\n",
              "    <tr>\n",
              "      <th>1</th>\n",
              "      <td>presentation</td>\n",
              "      <td>4</td>\n",
              "    </tr>\n",
              "    <tr>\n",
              "      <th>2</th>\n",
              "      <td>id_assessment</td>\n",
              "      <td>206</td>\n",
              "    </tr>\n",
              "    <tr>\n",
              "      <th>3</th>\n",
              "      <td>assessment_type</td>\n",
              "      <td>3</td>\n",
              "    </tr>\n",
              "    <tr>\n",
              "      <th>4</th>\n",
              "      <td>date</td>\n",
              "      <td>78</td>\n",
              "    </tr>\n",
              "    <tr>\n",
              "      <th>5</th>\n",
              "      <td>weight</td>\n",
              "      <td>24</td>\n",
              "    </tr>\n",
              "  </tbody>\n",
              "</table>\n",
              "</div>"
            ],
            "text/plain": [
              "          Variable  Count\n",
              "0           module      7\n",
              "1     presentation      4\n",
              "2    id_assessment    206\n",
              "3  assessment_type      3\n",
              "4             date     78\n",
              "5           weight     24"
            ]
          },
          "metadata": {},
          "execution_count": 56
        }
      ]
    },
    {
      "cell_type": "code",
      "metadata": {
        "tags": [
          "remove_input"
        ],
        "colab": {
          "base_uri": "https://localhost:8080/",
          "height": 0
        },
        "id": "80d2eef7-5548-4376-bb9a-322c6fc30882",
        "outputId": "945e1ee6-7fdc-4a6c-83dd-5871e538a04d"
      },
      "source": [
        "md(f'''\n",
        "There are {assessments['id_assessment'].nunique()} unique assessment ID's\n",
        "''')"
      ],
      "id": "80d2eef7-5548-4376-bb9a-322c6fc30882",
      "execution_count": 57,
      "outputs": [
        {
          "output_type": "execute_result",
          "data": {
            "text/markdown": "\nThere are 206 unique assessment ID's\n",
            "text/plain": [
              "<IPython.core.display.Markdown object>"
            ]
          },
          "metadata": {},
          "execution_count": 57
        }
      ]
    },
    {
      "cell_type": "markdown",
      "metadata": {
        "id": "84007370-bb35-4407-9426-6fdef951f1d3"
      },
      "source": [
        "**Unique Categorical Values**"
      ],
      "id": "84007370-bb35-4407-9426-6fdef951f1d3"
    },
    {
      "cell_type": "code",
      "metadata": {
        "tags": [],
        "colab": {
          "base_uri": "https://localhost:8080/",
          "height": 0
        },
        "id": "6f1c74fb-769a-4a88-a09e-a648b84744a9",
        "outputId": "83f439c7-44b1-4d84-993f-01444902cd72"
      },
      "source": [
        "# function to get unique categorical values in columns\n",
        "unique_vals(assessments)"
      ],
      "id": "6f1c74fb-769a-4a88-a09e-a648b84744a9",
      "execution_count": 58,
      "outputs": [
        {
          "output_type": "execute_result",
          "data": {
            "text/html": [
              "<div>\n",
              "<style scoped>\n",
              "    .dataframe tbody tr th:only-of-type {\n",
              "        vertical-align: middle;\n",
              "    }\n",
              "\n",
              "    .dataframe tbody tr th {\n",
              "        vertical-align: top;\n",
              "    }\n",
              "\n",
              "    .dataframe thead th {\n",
              "        text-align: right;\n",
              "    }\n",
              "</style>\n",
              "<table border=\"1\" class=\"dataframe\">\n",
              "  <thead>\n",
              "    <tr style=\"text-align: right;\">\n",
              "      <th></th>\n",
              "      <th>Variable</th>\n",
              "      <th>Values</th>\n",
              "    </tr>\n",
              "  </thead>\n",
              "  <tbody>\n",
              "    <tr>\n",
              "      <th>0</th>\n",
              "      <td>module</td>\n",
              "      <td>[AAA, BBB, CCC, DDD, EEE, FFF, GGG]</td>\n",
              "    </tr>\n",
              "    <tr>\n",
              "      <th>1</th>\n",
              "      <td>presentation</td>\n",
              "      <td>[2013J, 2014J, 2013B, 2014B]</td>\n",
              "    </tr>\n",
              "    <tr>\n",
              "      <th>2</th>\n",
              "      <td>id_assessment</td>\n",
              "      <td>[1752, 1753, 1754, 1755, 1756, 1757, 1758, 175...</td>\n",
              "    </tr>\n",
              "    <tr>\n",
              "      <th>3</th>\n",
              "      <td>assessment_type</td>\n",
              "      <td>[TMA, Exam, CMA]</td>\n",
              "    </tr>\n",
              "  </tbody>\n",
              "</table>\n",
              "</div>"
            ],
            "text/plain": [
              "          Variable                                             Values\n",
              "0           module                [AAA, BBB, CCC, DDD, EEE, FFF, GGG]\n",
              "1     presentation                       [2013J, 2014J, 2013B, 2014B]\n",
              "2    id_assessment  [1752, 1753, 1754, 1755, 1756, 1757, 1758, 175...\n",
              "3  assessment_type                                   [TMA, Exam, CMA]"
            ]
          },
          "metadata": {},
          "execution_count": 58
        }
      ]
    },
    {
      "cell_type": "markdown",
      "metadata": {
        "id": "06abc18c-411c-4024-a949-0328579ca70d"
      },
      "source": [
        "Everything here is as we would expect in the data's description"
      ],
      "id": "06abc18c-411c-4024-a949-0328579ca70d"
    },
    {
      "cell_type": "code",
      "metadata": {
        "colab": {
          "base_uri": "https://localhost:8080/",
          "height": 0
        },
        "id": "f4ceb5e6-0933-48f4-9a40-891fb2d82f76",
        "outputId": "b6d6f013-a2ab-4cff-f395-4f6df5bd6dc8"
      },
      "source": [
        "# get the value counts for each type of exam\n",
        "dataframe(assessments['assessment_type'].value_counts())"
      ],
      "id": "f4ceb5e6-0933-48f4-9a40-891fb2d82f76",
      "execution_count": 59,
      "outputs": [
        {
          "output_type": "execute_result",
          "data": {
            "text/html": [
              "<div>\n",
              "<style scoped>\n",
              "    .dataframe tbody tr th:only-of-type {\n",
              "        vertical-align: middle;\n",
              "    }\n",
              "\n",
              "    .dataframe tbody tr th {\n",
              "        vertical-align: top;\n",
              "    }\n",
              "\n",
              "    .dataframe thead th {\n",
              "        text-align: right;\n",
              "    }\n",
              "</style>\n",
              "<table border=\"1\" class=\"dataframe\">\n",
              "  <thead>\n",
              "    <tr style=\"text-align: right;\">\n",
              "      <th></th>\n",
              "      <th>assessment_type</th>\n",
              "    </tr>\n",
              "  </thead>\n",
              "  <tbody>\n",
              "    <tr>\n",
              "      <th>TMA</th>\n",
              "      <td>106</td>\n",
              "    </tr>\n",
              "    <tr>\n",
              "      <th>CMA</th>\n",
              "      <td>76</td>\n",
              "    </tr>\n",
              "    <tr>\n",
              "      <th>Exam</th>\n",
              "      <td>24</td>\n",
              "    </tr>\n",
              "  </tbody>\n",
              "</table>\n",
              "</div>"
            ],
            "text/plain": [
              "      assessment_type\n",
              "TMA               106\n",
              "CMA                76\n",
              "Exam               24"
            ]
          },
          "metadata": {},
          "execution_count": 59
        }
      ]
    },
    {
      "cell_type": "code",
      "metadata": {
        "tags": [
          "remove_input"
        ],
        "colab": {
          "base_uri": "https://localhost:8080/",
          "height": 0
        },
        "id": "4ce7dd03-f6a8-4831-af06-b34677cfaf1c",
        "outputId": "cb134a0c-8d20-438f-e22e-524cadaf9850"
      },
      "source": [
        "# store counts for each type of exam in assessments\n",
        "TMA_count = assessments['assessment_type'].value_counts()[0]\n",
        "CMA_count = assessments['assessment_type'].value_counts()[1]\n",
        "exam_count = assessments['assessment_type'].value_counts()[2]\n",
        "\n",
        "md(f'''\n",
        "There are {TMA_count} Tutor Marked Assessements, {CMA_count} Computer Marked Assessments and {exam_count} Final Exams in our data.\n",
        "''')"
      ],
      "id": "4ce7dd03-f6a8-4831-af06-b34677cfaf1c",
      "execution_count": 60,
      "outputs": [
        {
          "output_type": "execute_result",
          "data": {
            "text/markdown": "\nThere are 106 Tutor Marked Assessements, 76 Computer Marked Assessments and 24 Final Exams in our data.\n",
            "text/plain": [
              "<IPython.core.display.Markdown object>"
            ]
          },
          "metadata": {},
          "execution_count": 60
        }
      ]
    },
    {
      "cell_type": "markdown",
      "metadata": {
        "tags": [
          "remove_input"
        ],
        "id": "85869699-be08-4c05-90c8-4f877c37e055"
      },
      "source": [
        "Our data source tells us that final exams are weighted 100 and the weights of the rest of the exams in a module should amount to 100. So each module should have a total weight of 200."
      ],
      "id": "85869699-be08-4c05-90c8-4f877c37e055"
    },
    {
      "cell_type": "code",
      "metadata": {
        "colab": {
          "base_uri": "https://localhost:8080/",
          "height": 0
        },
        "id": "35906b97-612a-483c-ac35-8ee9cead98e2",
        "outputId": "a8219885-f34f-41a7-ba85-373385cddf48"
      },
      "source": [
        "# create a pivot table grouped by presentation and then module then the total exam weight\n",
        "pd.pivot_table(assessments, index=['presentation', 'module'], values='weight', aggfunc=np.sum)"
      ],
      "id": "35906b97-612a-483c-ac35-8ee9cead98e2",
      "execution_count": 61,
      "outputs": [
        {
          "output_type": "execute_result",
          "data": {
            "text/html": [
              "<div>\n",
              "<style scoped>\n",
              "    .dataframe tbody tr th:only-of-type {\n",
              "        vertical-align: middle;\n",
              "    }\n",
              "\n",
              "    .dataframe tbody tr th {\n",
              "        vertical-align: top;\n",
              "    }\n",
              "\n",
              "    .dataframe thead th {\n",
              "        text-align: right;\n",
              "    }\n",
              "</style>\n",
              "<table border=\"1\" class=\"dataframe\">\n",
              "  <thead>\n",
              "    <tr style=\"text-align: right;\">\n",
              "      <th></th>\n",
              "      <th></th>\n",
              "      <th>weight</th>\n",
              "    </tr>\n",
              "    <tr>\n",
              "      <th>presentation</th>\n",
              "      <th>module</th>\n",
              "      <th></th>\n",
              "    </tr>\n",
              "  </thead>\n",
              "  <tbody>\n",
              "    <tr>\n",
              "      <th rowspan=\"3\" valign=\"top\">2013B</th>\n",
              "      <th>BBB</th>\n",
              "      <td>200.0</td>\n",
              "    </tr>\n",
              "    <tr>\n",
              "      <th>DDD</th>\n",
              "      <td>200.0</td>\n",
              "    </tr>\n",
              "    <tr>\n",
              "      <th>FFF</th>\n",
              "      <td>200.0</td>\n",
              "    </tr>\n",
              "    <tr>\n",
              "      <th rowspan=\"6\" valign=\"top\">2013J</th>\n",
              "      <th>AAA</th>\n",
              "      <td>200.0</td>\n",
              "    </tr>\n",
              "    <tr>\n",
              "      <th>BBB</th>\n",
              "      <td>200.0</td>\n",
              "    </tr>\n",
              "    <tr>\n",
              "      <th>DDD</th>\n",
              "      <td>200.0</td>\n",
              "    </tr>\n",
              "    <tr>\n",
              "      <th>EEE</th>\n",
              "      <td>200.0</td>\n",
              "    </tr>\n",
              "    <tr>\n",
              "      <th>FFF</th>\n",
              "      <td>200.0</td>\n",
              "    </tr>\n",
              "    <tr>\n",
              "      <th>GGG</th>\n",
              "      <td>100.0</td>\n",
              "    </tr>\n",
              "    <tr>\n",
              "      <th rowspan=\"6\" valign=\"top\">2014B</th>\n",
              "      <th>BBB</th>\n",
              "      <td>200.0</td>\n",
              "    </tr>\n",
              "    <tr>\n",
              "      <th>CCC</th>\n",
              "      <td>300.0</td>\n",
              "    </tr>\n",
              "    <tr>\n",
              "      <th>DDD</th>\n",
              "      <td>200.0</td>\n",
              "    </tr>\n",
              "    <tr>\n",
              "      <th>EEE</th>\n",
              "      <td>200.0</td>\n",
              "    </tr>\n",
              "    <tr>\n",
              "      <th>FFF</th>\n",
              "      <td>200.0</td>\n",
              "    </tr>\n",
              "    <tr>\n",
              "      <th>GGG</th>\n",
              "      <td>100.0</td>\n",
              "    </tr>\n",
              "    <tr>\n",
              "      <th rowspan=\"7\" valign=\"top\">2014J</th>\n",
              "      <th>AAA</th>\n",
              "      <td>200.0</td>\n",
              "    </tr>\n",
              "    <tr>\n",
              "      <th>BBB</th>\n",
              "      <td>200.0</td>\n",
              "    </tr>\n",
              "    <tr>\n",
              "      <th>CCC</th>\n",
              "      <td>300.0</td>\n",
              "    </tr>\n",
              "    <tr>\n",
              "      <th>DDD</th>\n",
              "      <td>200.0</td>\n",
              "    </tr>\n",
              "    <tr>\n",
              "      <th>EEE</th>\n",
              "      <td>200.0</td>\n",
              "    </tr>\n",
              "    <tr>\n",
              "      <th>FFF</th>\n",
              "      <td>200.0</td>\n",
              "    </tr>\n",
              "    <tr>\n",
              "      <th>GGG</th>\n",
              "      <td>100.0</td>\n",
              "    </tr>\n",
              "  </tbody>\n",
              "</table>\n",
              "</div>"
            ],
            "text/plain": [
              "                     weight\n",
              "presentation module        \n",
              "2013B        BBB      200.0\n",
              "             DDD      200.0\n",
              "             FFF      200.0\n",
              "2013J        AAA      200.0\n",
              "             BBB      200.0\n",
              "             DDD      200.0\n",
              "             EEE      200.0\n",
              "             FFF      200.0\n",
              "             GGG      100.0\n",
              "2014B        BBB      200.0\n",
              "             CCC      300.0\n",
              "             DDD      200.0\n",
              "             EEE      200.0\n",
              "             FFF      200.0\n",
              "             GGG      100.0\n",
              "2014J        AAA      200.0\n",
              "             BBB      200.0\n",
              "             CCC      300.0\n",
              "             DDD      200.0\n",
              "             EEE      200.0\n",
              "             FFF      200.0\n",
              "             GGG      100.0"
            ]
          },
          "metadata": {},
          "execution_count": 61
        }
      ]
    },
    {
      "cell_type": "markdown",
      "metadata": {
        "id": "962cd14e-ff01-449f-8fc0-098258c0d072"
      },
      "source": [
        "This pivot table shows the module presentation, the module and the total of the weights of the exams in the module.\n",
        "Because the final exam is weighted 100 and the other exams should form another 100 we should have 200 points in each module. We see here that CCC modules 300 in total weight and GGG modules have 100 in total weight."
      ],
      "id": "962cd14e-ff01-449f-8fc0-098258c0d072"
    },
    {
      "cell_type": "code",
      "metadata": {
        "colab": {
          "base_uri": "https://localhost:8080/",
          "height": 0
        },
        "id": "6191cb07-8246-48ad-8fc5-d0638211d70e",
        "outputId": "f550de8c-2595-498f-be69-a4769fc66473"
      },
      "source": [
        "# locate CCC and GGG exams in assessments\n",
        "ccc_ggg_weights = assessments.loc[(assessments['module'] == 'CCC') | (assessments['module'] == 'GGG')]\n",
        "\n",
        "# reorder columns for clarity & display dataframe\n",
        "ccc_ggg_weights = ccc_ggg_weights[['module', 'id_assessment', 'assessment_type', 'weight']]\n",
        "ccc_ggg_weights"
      ],
      "id": "6191cb07-8246-48ad-8fc5-d0638211d70e",
      "execution_count": 62,
      "outputs": [
        {
          "output_type": "execute_result",
          "data": {
            "text/html": [
              "<div>\n",
              "<style scoped>\n",
              "    .dataframe tbody tr th:only-of-type {\n",
              "        vertical-align: middle;\n",
              "    }\n",
              "\n",
              "    .dataframe tbody tr th {\n",
              "        vertical-align: top;\n",
              "    }\n",
              "\n",
              "    .dataframe thead th {\n",
              "        text-align: right;\n",
              "    }\n",
              "</style>\n",
              "<table border=\"1\" class=\"dataframe\">\n",
              "  <thead>\n",
              "    <tr style=\"text-align: right;\">\n",
              "      <th></th>\n",
              "      <th>module</th>\n",
              "      <th>id_assessment</th>\n",
              "      <th>assessment_type</th>\n",
              "      <th>weight</th>\n",
              "    </tr>\n",
              "  </thead>\n",
              "  <tbody>\n",
              "    <tr>\n",
              "      <th>54</th>\n",
              "      <td>CCC</td>\n",
              "      <td>24286</td>\n",
              "      <td>CMA</td>\n",
              "      <td>2.0</td>\n",
              "    </tr>\n",
              "    <tr>\n",
              "      <th>55</th>\n",
              "      <td>CCC</td>\n",
              "      <td>24287</td>\n",
              "      <td>CMA</td>\n",
              "      <td>7.0</td>\n",
              "    </tr>\n",
              "    <tr>\n",
              "      <th>56</th>\n",
              "      <td>CCC</td>\n",
              "      <td>24288</td>\n",
              "      <td>CMA</td>\n",
              "      <td>8.0</td>\n",
              "    </tr>\n",
              "    <tr>\n",
              "      <th>57</th>\n",
              "      <td>CCC</td>\n",
              "      <td>24289</td>\n",
              "      <td>CMA</td>\n",
              "      <td>8.0</td>\n",
              "    </tr>\n",
              "    <tr>\n",
              "      <th>58</th>\n",
              "      <td>CCC</td>\n",
              "      <td>24282</td>\n",
              "      <td>TMA</td>\n",
              "      <td>9.0</td>\n",
              "    </tr>\n",
              "    <tr>\n",
              "      <th>59</th>\n",
              "      <td>CCC</td>\n",
              "      <td>24283</td>\n",
              "      <td>TMA</td>\n",
              "      <td>22.0</td>\n",
              "    </tr>\n",
              "    <tr>\n",
              "      <th>60</th>\n",
              "      <td>CCC</td>\n",
              "      <td>24284</td>\n",
              "      <td>TMA</td>\n",
              "      <td>22.0</td>\n",
              "    </tr>\n",
              "    <tr>\n",
              "      <th>61</th>\n",
              "      <td>CCC</td>\n",
              "      <td>24285</td>\n",
              "      <td>TMA</td>\n",
              "      <td>22.0</td>\n",
              "    </tr>\n",
              "    <tr>\n",
              "      <th>62</th>\n",
              "      <td>CCC</td>\n",
              "      <td>24290</td>\n",
              "      <td>Exam</td>\n",
              "      <td>100.0</td>\n",
              "    </tr>\n",
              "    <tr>\n",
              "      <th>63</th>\n",
              "      <td>CCC</td>\n",
              "      <td>40087</td>\n",
              "      <td>Exam</td>\n",
              "      <td>100.0</td>\n",
              "    </tr>\n",
              "    <tr>\n",
              "      <th>64</th>\n",
              "      <td>CCC</td>\n",
              "      <td>24295</td>\n",
              "      <td>CMA</td>\n",
              "      <td>2.0</td>\n",
              "    </tr>\n",
              "    <tr>\n",
              "      <th>65</th>\n",
              "      <td>CCC</td>\n",
              "      <td>24296</td>\n",
              "      <td>CMA</td>\n",
              "      <td>7.0</td>\n",
              "    </tr>\n",
              "    <tr>\n",
              "      <th>66</th>\n",
              "      <td>CCC</td>\n",
              "      <td>24297</td>\n",
              "      <td>CMA</td>\n",
              "      <td>8.0</td>\n",
              "    </tr>\n",
              "    <tr>\n",
              "      <th>67</th>\n",
              "      <td>CCC</td>\n",
              "      <td>24298</td>\n",
              "      <td>CMA</td>\n",
              "      <td>8.0</td>\n",
              "    </tr>\n",
              "    <tr>\n",
              "      <th>68</th>\n",
              "      <td>CCC</td>\n",
              "      <td>24291</td>\n",
              "      <td>TMA</td>\n",
              "      <td>9.0</td>\n",
              "    </tr>\n",
              "    <tr>\n",
              "      <th>69</th>\n",
              "      <td>CCC</td>\n",
              "      <td>24292</td>\n",
              "      <td>TMA</td>\n",
              "      <td>22.0</td>\n",
              "    </tr>\n",
              "    <tr>\n",
              "      <th>70</th>\n",
              "      <td>CCC</td>\n",
              "      <td>24293</td>\n",
              "      <td>TMA</td>\n",
              "      <td>22.0</td>\n",
              "    </tr>\n",
              "    <tr>\n",
              "      <th>71</th>\n",
              "      <td>CCC</td>\n",
              "      <td>24294</td>\n",
              "      <td>TMA</td>\n",
              "      <td>22.0</td>\n",
              "    </tr>\n",
              "    <tr>\n",
              "      <th>72</th>\n",
              "      <td>CCC</td>\n",
              "      <td>24299</td>\n",
              "      <td>Exam</td>\n",
              "      <td>100.0</td>\n",
              "    </tr>\n",
              "    <tr>\n",
              "      <th>73</th>\n",
              "      <td>CCC</td>\n",
              "      <td>40088</td>\n",
              "      <td>Exam</td>\n",
              "      <td>100.0</td>\n",
              "    </tr>\n",
              "    <tr>\n",
              "      <th>176</th>\n",
              "      <td>GGG</td>\n",
              "      <td>37418</td>\n",
              "      <td>CMA</td>\n",
              "      <td>0.0</td>\n",
              "    </tr>\n",
              "    <tr>\n",
              "      <th>177</th>\n",
              "      <td>GGG</td>\n",
              "      <td>37419</td>\n",
              "      <td>CMA</td>\n",
              "      <td>0.0</td>\n",
              "    </tr>\n",
              "    <tr>\n",
              "      <th>178</th>\n",
              "      <td>GGG</td>\n",
              "      <td>37420</td>\n",
              "      <td>CMA</td>\n",
              "      <td>0.0</td>\n",
              "    </tr>\n",
              "    <tr>\n",
              "      <th>179</th>\n",
              "      <td>GGG</td>\n",
              "      <td>37421</td>\n",
              "      <td>CMA</td>\n",
              "      <td>0.0</td>\n",
              "    </tr>\n",
              "    <tr>\n",
              "      <th>180</th>\n",
              "      <td>GGG</td>\n",
              "      <td>37422</td>\n",
              "      <td>CMA</td>\n",
              "      <td>0.0</td>\n",
              "    </tr>\n",
              "    <tr>\n",
              "      <th>181</th>\n",
              "      <td>GGG</td>\n",
              "      <td>37423</td>\n",
              "      <td>CMA</td>\n",
              "      <td>0.0</td>\n",
              "    </tr>\n",
              "    <tr>\n",
              "      <th>182</th>\n",
              "      <td>GGG</td>\n",
              "      <td>37415</td>\n",
              "      <td>TMA</td>\n",
              "      <td>0.0</td>\n",
              "    </tr>\n",
              "    <tr>\n",
              "      <th>183</th>\n",
              "      <td>GGG</td>\n",
              "      <td>37416</td>\n",
              "      <td>TMA</td>\n",
              "      <td>0.0</td>\n",
              "    </tr>\n",
              "    <tr>\n",
              "      <th>184</th>\n",
              "      <td>GGG</td>\n",
              "      <td>37417</td>\n",
              "      <td>TMA</td>\n",
              "      <td>0.0</td>\n",
              "    </tr>\n",
              "    <tr>\n",
              "      <th>185</th>\n",
              "      <td>GGG</td>\n",
              "      <td>37424</td>\n",
              "      <td>Exam</td>\n",
              "      <td>100.0</td>\n",
              "    </tr>\n",
              "    <tr>\n",
              "      <th>186</th>\n",
              "      <td>GGG</td>\n",
              "      <td>37428</td>\n",
              "      <td>CMA</td>\n",
              "      <td>0.0</td>\n",
              "    </tr>\n",
              "    <tr>\n",
              "      <th>187</th>\n",
              "      <td>GGG</td>\n",
              "      <td>37429</td>\n",
              "      <td>CMA</td>\n",
              "      <td>0.0</td>\n",
              "    </tr>\n",
              "    <tr>\n",
              "      <th>188</th>\n",
              "      <td>GGG</td>\n",
              "      <td>37430</td>\n",
              "      <td>CMA</td>\n",
              "      <td>0.0</td>\n",
              "    </tr>\n",
              "    <tr>\n",
              "      <th>189</th>\n",
              "      <td>GGG</td>\n",
              "      <td>37431</td>\n",
              "      <td>CMA</td>\n",
              "      <td>0.0</td>\n",
              "    </tr>\n",
              "    <tr>\n",
              "      <th>190</th>\n",
              "      <td>GGG</td>\n",
              "      <td>37432</td>\n",
              "      <td>CMA</td>\n",
              "      <td>0.0</td>\n",
              "    </tr>\n",
              "    <tr>\n",
              "      <th>191</th>\n",
              "      <td>GGG</td>\n",
              "      <td>37433</td>\n",
              "      <td>CMA</td>\n",
              "      <td>0.0</td>\n",
              "    </tr>\n",
              "    <tr>\n",
              "      <th>192</th>\n",
              "      <td>GGG</td>\n",
              "      <td>37425</td>\n",
              "      <td>TMA</td>\n",
              "      <td>0.0</td>\n",
              "    </tr>\n",
              "    <tr>\n",
              "      <th>193</th>\n",
              "      <td>GGG</td>\n",
              "      <td>37426</td>\n",
              "      <td>TMA</td>\n",
              "      <td>0.0</td>\n",
              "    </tr>\n",
              "    <tr>\n",
              "      <th>194</th>\n",
              "      <td>GGG</td>\n",
              "      <td>37427</td>\n",
              "      <td>TMA</td>\n",
              "      <td>0.0</td>\n",
              "    </tr>\n",
              "    <tr>\n",
              "      <th>195</th>\n",
              "      <td>GGG</td>\n",
              "      <td>37434</td>\n",
              "      <td>Exam</td>\n",
              "      <td>100.0</td>\n",
              "    </tr>\n",
              "    <tr>\n",
              "      <th>196</th>\n",
              "      <td>GGG</td>\n",
              "      <td>37438</td>\n",
              "      <td>CMA</td>\n",
              "      <td>0.0</td>\n",
              "    </tr>\n",
              "    <tr>\n",
              "      <th>197</th>\n",
              "      <td>GGG</td>\n",
              "      <td>37439</td>\n",
              "      <td>CMA</td>\n",
              "      <td>0.0</td>\n",
              "    </tr>\n",
              "    <tr>\n",
              "      <th>198</th>\n",
              "      <td>GGG</td>\n",
              "      <td>37440</td>\n",
              "      <td>CMA</td>\n",
              "      <td>0.0</td>\n",
              "    </tr>\n",
              "    <tr>\n",
              "      <th>199</th>\n",
              "      <td>GGG</td>\n",
              "      <td>37441</td>\n",
              "      <td>CMA</td>\n",
              "      <td>0.0</td>\n",
              "    </tr>\n",
              "    <tr>\n",
              "      <th>200</th>\n",
              "      <td>GGG</td>\n",
              "      <td>37442</td>\n",
              "      <td>CMA</td>\n",
              "      <td>0.0</td>\n",
              "    </tr>\n",
              "    <tr>\n",
              "      <th>201</th>\n",
              "      <td>GGG</td>\n",
              "      <td>37443</td>\n",
              "      <td>CMA</td>\n",
              "      <td>0.0</td>\n",
              "    </tr>\n",
              "    <tr>\n",
              "      <th>202</th>\n",
              "      <td>GGG</td>\n",
              "      <td>37435</td>\n",
              "      <td>TMA</td>\n",
              "      <td>0.0</td>\n",
              "    </tr>\n",
              "    <tr>\n",
              "      <th>203</th>\n",
              "      <td>GGG</td>\n",
              "      <td>37436</td>\n",
              "      <td>TMA</td>\n",
              "      <td>0.0</td>\n",
              "    </tr>\n",
              "    <tr>\n",
              "      <th>204</th>\n",
              "      <td>GGG</td>\n",
              "      <td>37437</td>\n",
              "      <td>TMA</td>\n",
              "      <td>0.0</td>\n",
              "    </tr>\n",
              "    <tr>\n",
              "      <th>205</th>\n",
              "      <td>GGG</td>\n",
              "      <td>37444</td>\n",
              "      <td>Exam</td>\n",
              "      <td>100.0</td>\n",
              "    </tr>\n",
              "  </tbody>\n",
              "</table>\n",
              "</div>"
            ],
            "text/plain": [
              "    module id_assessment assessment_type  weight\n",
              "54     CCC         24286             CMA     2.0\n",
              "55     CCC         24287             CMA     7.0\n",
              "56     CCC         24288             CMA     8.0\n",
              "57     CCC         24289             CMA     8.0\n",
              "58     CCC         24282             TMA     9.0\n",
              "59     CCC         24283             TMA    22.0\n",
              "60     CCC         24284             TMA    22.0\n",
              "61     CCC         24285             TMA    22.0\n",
              "62     CCC         24290            Exam   100.0\n",
              "63     CCC         40087            Exam   100.0\n",
              "64     CCC         24295             CMA     2.0\n",
              "65     CCC         24296             CMA     7.0\n",
              "66     CCC         24297             CMA     8.0\n",
              "67     CCC         24298             CMA     8.0\n",
              "68     CCC         24291             TMA     9.0\n",
              "69     CCC         24292             TMA    22.0\n",
              "70     CCC         24293             TMA    22.0\n",
              "71     CCC         24294             TMA    22.0\n",
              "72     CCC         24299            Exam   100.0\n",
              "73     CCC         40088            Exam   100.0\n",
              "176    GGG         37418             CMA     0.0\n",
              "177    GGG         37419             CMA     0.0\n",
              "178    GGG         37420             CMA     0.0\n",
              "179    GGG         37421             CMA     0.0\n",
              "180    GGG         37422             CMA     0.0\n",
              "181    GGG         37423             CMA     0.0\n",
              "182    GGG         37415             TMA     0.0\n",
              "183    GGG         37416             TMA     0.0\n",
              "184    GGG         37417             TMA     0.0\n",
              "185    GGG         37424            Exam   100.0\n",
              "186    GGG         37428             CMA     0.0\n",
              "187    GGG         37429             CMA     0.0\n",
              "188    GGG         37430             CMA     0.0\n",
              "189    GGG         37431             CMA     0.0\n",
              "190    GGG         37432             CMA     0.0\n",
              "191    GGG         37433             CMA     0.0\n",
              "192    GGG         37425             TMA     0.0\n",
              "193    GGG         37426             TMA     0.0\n",
              "194    GGG         37427             TMA     0.0\n",
              "195    GGG         37434            Exam   100.0\n",
              "196    GGG         37438             CMA     0.0\n",
              "197    GGG         37439             CMA     0.0\n",
              "198    GGG         37440             CMA     0.0\n",
              "199    GGG         37441             CMA     0.0\n",
              "200    GGG         37442             CMA     0.0\n",
              "201    GGG         37443             CMA     0.0\n",
              "202    GGG         37435             TMA     0.0\n",
              "203    GGG         37436             TMA     0.0\n",
              "204    GGG         37437             TMA     0.0\n",
              "205    GGG         37444            Exam   100.0"
            ]
          },
          "metadata": {},
          "execution_count": 62
        }
      ]
    },
    {
      "cell_type": "markdown",
      "metadata": {
        "id": "37604f60-8961-4720-b356-e08ab7139420"
      },
      "source": [
        "We can see here that CCC Modules had two final exams, and the GGG module's full course weight consisted only of a final exam. "
      ],
      "id": "37604f60-8961-4720-b356-e08ab7139420"
    },
    {
      "cell_type": "markdown",
      "metadata": {
        "id": "8cae5bcc-4cde-4c66-820e-4284794e2813"
      },
      "source": [
        "**Duplicate Values:**"
      ],
      "id": "8cae5bcc-4cde-4c66-820e-4284794e2813"
    },
    {
      "cell_type": "code",
      "metadata": {
        "tags": [
          "remove_input"
        ],
        "colab": {
          "base_uri": "https://localhost:8080/",
          "height": 0
        },
        "id": "79f753bb-1d7b-49ba-8d3d-fcaf244742d1",
        "outputId": "0fbc78b3-597f-4bb3-8266-f2f8f685259a"
      },
      "source": [
        "# function to output a dataframe of duplicate values\n",
        "get_dupes(assessments)"
      ],
      "id": "79f753bb-1d7b-49ba-8d3d-fcaf244742d1",
      "execution_count": 63,
      "outputs": [
        {
          "output_type": "execute_result",
          "data": {
            "text/markdown": "There are no Duplicate Values",
            "text/plain": [
              "<IPython.core.display.Markdown object>"
            ]
          },
          "metadata": {},
          "execution_count": 63
        }
      ]
    },
    {
      "cell_type": "markdown",
      "metadata": {
        "id": "5432dbfe-ded5-4bbd-bc93-1ef0ec939ad3"
      },
      "source": [
        "**Numerical Values**"
      ],
      "id": "5432dbfe-ded5-4bbd-bc93-1ef0ec939ad3"
    },
    {
      "cell_type": "code",
      "metadata": {
        "tags": [
          "remove_input"
        ],
        "colab": {
          "base_uri": "https://localhost:8080/",
          "height": 0
        },
        "id": "19980394-6160-44dc-b796-bee02b24d58d",
        "outputId": "105eb6e8-a8dd-43fb-ae4a-37f74ead5079"
      },
      "source": [
        "# show statistical information for numerical values\n",
        "assessments.describe().round(2)"
      ],
      "id": "19980394-6160-44dc-b796-bee02b24d58d",
      "execution_count": 64,
      "outputs": [
        {
          "output_type": "execute_result",
          "data": {
            "text/html": [
              "<div>\n",
              "<style scoped>\n",
              "    .dataframe tbody tr th:only-of-type {\n",
              "        vertical-align: middle;\n",
              "    }\n",
              "\n",
              "    .dataframe tbody tr th {\n",
              "        vertical-align: top;\n",
              "    }\n",
              "\n",
              "    .dataframe thead th {\n",
              "        text-align: right;\n",
              "    }\n",
              "</style>\n",
              "<table border=\"1\" class=\"dataframe\">\n",
              "  <thead>\n",
              "    <tr style=\"text-align: right;\">\n",
              "      <th></th>\n",
              "      <th>date</th>\n",
              "      <th>weight</th>\n",
              "    </tr>\n",
              "  </thead>\n",
              "  <tbody>\n",
              "    <tr>\n",
              "      <th>count</th>\n",
              "      <td>206.00</td>\n",
              "      <td>206.00</td>\n",
              "    </tr>\n",
              "    <tr>\n",
              "      <th>mean</th>\n",
              "      <td>150.97</td>\n",
              "      <td>20.87</td>\n",
              "    </tr>\n",
              "    <tr>\n",
              "      <th>std</th>\n",
              "      <td>78.16</td>\n",
              "      <td>30.38</td>\n",
              "    </tr>\n",
              "    <tr>\n",
              "      <th>min</th>\n",
              "      <td>12.00</td>\n",
              "      <td>0.00</td>\n",
              "    </tr>\n",
              "    <tr>\n",
              "      <th>25%</th>\n",
              "      <td>81.25</td>\n",
              "      <td>0.00</td>\n",
              "    </tr>\n",
              "    <tr>\n",
              "      <th>50%</th>\n",
              "      <td>159.00</td>\n",
              "      <td>12.50</td>\n",
              "    </tr>\n",
              "    <tr>\n",
              "      <th>75%</th>\n",
              "      <td>227.00</td>\n",
              "      <td>24.25</td>\n",
              "    </tr>\n",
              "    <tr>\n",
              "      <th>max</th>\n",
              "      <td>269.00</td>\n",
              "      <td>100.00</td>\n",
              "    </tr>\n",
              "  </tbody>\n",
              "</table>\n",
              "</div>"
            ],
            "text/plain": [
              "         date  weight\n",
              "count  206.00  206.00\n",
              "mean   150.97   20.87\n",
              "std     78.16   30.38\n",
              "min     12.00    0.00\n",
              "25%     81.25    0.00\n",
              "50%    159.00   12.50\n",
              "75%    227.00   24.25\n",
              "max    269.00  100.00"
            ]
          },
          "metadata": {},
          "execution_count": 64
        }
      ]
    },
    {
      "cell_type": "code",
      "metadata": {
        "tags": [
          "remove_input"
        ],
        "colab": {
          "base_uri": "https://localhost:8080/",
          "height": 0
        },
        "id": "fb3a6a9c-1884-4934-abb2-60c207e24031",
        "outputId": "61b8dce8-39b1-4704-db01-d0971a554185"
      },
      "source": [
        "# find the average weight of assessments\n",
        "mean_weight = round(assessments['weight'].mean(), 2)\n",
        "\n",
        "md(f'''\n",
        "The average test is weighted at {mean_weight}, which makes sense as there is normally 5 tests adding to 100 and then a final which likely brings up that mean.\n",
        "''')"
      ],
      "id": "fb3a6a9c-1884-4934-abb2-60c207e24031",
      "execution_count": 65,
      "outputs": [
        {
          "output_type": "execute_result",
          "data": {
            "text/markdown": "\nThe average test is weighted at 20.87, which makes sense as there is normally 5 tests adding to 100 and then a final which likely brings up that mean.\n",
            "text/plain": [
              "<IPython.core.display.Markdown object>"
            ]
          },
          "metadata": {},
          "execution_count": 65
        }
      ]
    },
    {
      "cell_type": "markdown",
      "metadata": {
        "id": "b43f303f-57c0-4afb-b0b9-a4494a56d849"
      },
      "source": [
        "### Student Assessment\n",
        "\n",
        "---"
      ],
      "id": "b43f303f-57c0-4afb-b0b9-a4494a56d849"
    },
    {
      "cell_type": "markdown",
      "metadata": {
        "id": "424eb755-aa1c-418d-8394-2aed6d6d29dc"
      },
      "source": [
        "The Student Assessments dataframe contains information about each student and the assessments they took during the module"
      ],
      "id": "424eb755-aa1c-418d-8394-2aed6d6d29dc"
    },
    {
      "cell_type": "code",
      "metadata": {
        "tags": [],
        "colab": {
          "base_uri": "https://localhost:8080/",
          "height": 0
        },
        "id": "cb91bd50-5c33-4cb3-a5ee-cb57df0c621b",
        "outputId": "0b8babbf-769d-4767-d29c-3a3a2cd088b6"
      },
      "source": [
        "# show first 5 student_assessment entries\n",
        "student_assessment.head()"
      ],
      "id": "cb91bd50-5c33-4cb3-a5ee-cb57df0c621b",
      "execution_count": 66,
      "outputs": [
        {
          "output_type": "execute_result",
          "data": {
            "text/html": [
              "<div>\n",
              "<style scoped>\n",
              "    .dataframe tbody tr th:only-of-type {\n",
              "        vertical-align: middle;\n",
              "    }\n",
              "\n",
              "    .dataframe tbody tr th {\n",
              "        vertical-align: top;\n",
              "    }\n",
              "\n",
              "    .dataframe thead th {\n",
              "        text-align: right;\n",
              "    }\n",
              "</style>\n",
              "<table border=\"1\" class=\"dataframe\">\n",
              "  <thead>\n",
              "    <tr style=\"text-align: right;\">\n",
              "      <th></th>\n",
              "      <th>id_assessment</th>\n",
              "      <th>id_student</th>\n",
              "      <th>date_submitted</th>\n",
              "      <th>is_banked</th>\n",
              "      <th>score</th>\n",
              "    </tr>\n",
              "  </thead>\n",
              "  <tbody>\n",
              "    <tr>\n",
              "      <th>0</th>\n",
              "      <td>1752</td>\n",
              "      <td>11391</td>\n",
              "      <td>18</td>\n",
              "      <td>0</td>\n",
              "      <td>78.0</td>\n",
              "    </tr>\n",
              "    <tr>\n",
              "      <th>1</th>\n",
              "      <td>1752</td>\n",
              "      <td>28400</td>\n",
              "      <td>22</td>\n",
              "      <td>0</td>\n",
              "      <td>70.0</td>\n",
              "    </tr>\n",
              "    <tr>\n",
              "      <th>2</th>\n",
              "      <td>1752</td>\n",
              "      <td>31604</td>\n",
              "      <td>17</td>\n",
              "      <td>0</td>\n",
              "      <td>72.0</td>\n",
              "    </tr>\n",
              "    <tr>\n",
              "      <th>3</th>\n",
              "      <td>1752</td>\n",
              "      <td>32885</td>\n",
              "      <td>26</td>\n",
              "      <td>0</td>\n",
              "      <td>69.0</td>\n",
              "    </tr>\n",
              "    <tr>\n",
              "      <th>4</th>\n",
              "      <td>1752</td>\n",
              "      <td>38053</td>\n",
              "      <td>19</td>\n",
              "      <td>0</td>\n",
              "      <td>79.0</td>\n",
              "    </tr>\n",
              "  </tbody>\n",
              "</table>\n",
              "</div>"
            ],
            "text/plain": [
              "   id_assessment  id_student  date_submitted  is_banked  score\n",
              "0           1752       11391              18          0   78.0\n",
              "1           1752       28400              22          0   70.0\n",
              "2           1752       31604              17          0   72.0\n",
              "3           1752       32885              26          0   69.0\n",
              "4           1752       38053              19          0   79.0"
            ]
          },
          "metadata": {},
          "execution_count": 66
        }
      ]
    },
    {
      "cell_type": "markdown",
      "metadata": {
        "id": "ad32de33-bdef-49c8-9d6d-bdd138f14e1d"
      },
      "source": [
        "---\n",
        "\n",
        "#### Student Assessment Contents\n",
        "\n",
        "* **id_assessment**: The assessment ID is the unique identifier for the assessment the student took.\n",
        "* **id_student**: The student ID is the unique identifier for the student who took the assessment.\n",
        "* **date_submitted**: The date submitted is the date the student submitted the exam relevant to the start date of the module.\n",
        "* **is_banked**: Whether the score for the assessment is banked indicates wheter the assessment result was transferred from a previous presentation.\n",
        "    - is_banked has no relevant information to our analysis and can be removed\n",
        "* **score**: The score the student received for the assessment. 40 or above is considered a passing score."
      ],
      "id": "ad32de33-bdef-49c8-9d6d-bdd138f14e1d"
    },
    {
      "cell_type": "code",
      "metadata": {
        "id": "f12d2a8c-1e47-4d15-a2ff-6f3b406616e9"
      },
      "source": [
        "# drop is_banked from stud_assessment\n",
        "student_assessment = student_assessment.drop(columns='is_banked')"
      ],
      "id": "f12d2a8c-1e47-4d15-a2ff-6f3b406616e9",
      "execution_count": 67,
      "outputs": []
    },
    {
      "cell_type": "markdown",
      "metadata": {
        "id": "9c4b29d4-4996-4251-8757-9b4027b282c7"
      },
      "source": [
        "---\n",
        "\n",
        "#### Student Assessment Information"
      ],
      "id": "9c4b29d4-4996-4251-8757-9b4027b282c7"
    },
    {
      "cell_type": "markdown",
      "metadata": {
        "id": "492fcca5-90f2-490a-ae3f-19e63cd15e06"
      },
      "source": [
        "**Size**"
      ],
      "id": "492fcca5-90f2-490a-ae3f-19e63cd15e06"
    },
    {
      "cell_type": "code",
      "metadata": {
        "tags": [],
        "colab": {
          "base_uri": "https://localhost:8080/",
          "height": 0
        },
        "id": "72324a9d-04f4-4885-8b3f-8f2405a79c70",
        "outputId": "68194484-f989-488a-d639-ac6d1ba8dc42"
      },
      "source": [
        "# get the size of student_assessment\n",
        "get_size(student_assessment)"
      ],
      "id": "72324a9d-04f4-4885-8b3f-8f2405a79c70",
      "execution_count": 68,
      "outputs": [
        {
          "output_type": "execute_result",
          "data": {
            "text/html": [
              "<div>\n",
              "<style scoped>\n",
              "    .dataframe tbody tr th:only-of-type {\n",
              "        vertical-align: middle;\n",
              "    }\n",
              "\n",
              "    .dataframe tbody tr th {\n",
              "        vertical-align: top;\n",
              "    }\n",
              "\n",
              "    .dataframe thead th {\n",
              "        text-align: right;\n",
              "    }\n",
              "</style>\n",
              "<table border=\"1\" class=\"dataframe\">\n",
              "  <thead>\n",
              "    <tr style=\"text-align: right;\">\n",
              "      <th></th>\n",
              "      <th>Count</th>\n",
              "    </tr>\n",
              "  </thead>\n",
              "  <tbody>\n",
              "    <tr>\n",
              "      <th>Columns</th>\n",
              "      <td>4</td>\n",
              "    </tr>\n",
              "    <tr>\n",
              "      <th>Rows</th>\n",
              "      <td>173912</td>\n",
              "    </tr>\n",
              "  </tbody>\n",
              "</table>\n",
              "</div>"
            ],
            "text/plain": [
              "          Count\n",
              "Columns       4\n",
              "Rows     173912"
            ]
          },
          "metadata": {},
          "execution_count": 68
        }
      ]
    },
    {
      "cell_type": "code",
      "metadata": {
        "tags": [
          "remove_input"
        ],
        "colab": {
          "base_uri": "https://localhost:8080/",
          "height": 0
        },
        "id": "62a05009-8962-4636-9779-2e9d75b3ff8a",
        "outputId": "75cceef9-5ba3-4ab6-f748-133add3ad9bc"
      },
      "source": [
        "# store the size of student_assessment's columns\n",
        "sa_cols = len(student_assessment.columns)\n",
        "\n",
        "# store the size of student_assessment's rows\n",
        "sa_rows = len(student_assessment)\n",
        "\n",
        "md(f'''\n",
        "Student Assessment has {sa_cols} columns and {\"{:,}\".format(sa_rows)} rows, which is how many exams we have data for.\n",
        "''')"
      ],
      "id": "62a05009-8962-4636-9779-2e9d75b3ff8a",
      "execution_count": 69,
      "outputs": [
        {
          "output_type": "execute_result",
          "data": {
            "text/markdown": "\nStudent Assessment has 4 columns and 173,912 rows, which is how many exams we have data for.\n",
            "text/plain": [
              "<IPython.core.display.Markdown object>"
            ]
          },
          "metadata": {},
          "execution_count": 69
        }
      ]
    },
    {
      "cell_type": "markdown",
      "metadata": {
        "id": "d4ea6f67-ce58-4511-b108-6d95929edbc7"
      },
      "source": [
        "**Data Types**"
      ],
      "id": "d4ea6f67-ce58-4511-b108-6d95929edbc7"
    },
    {
      "cell_type": "code",
      "metadata": {
        "tags": [
          "remove_input"
        ],
        "colab": {
          "base_uri": "https://localhost:8080/",
          "height": 0
        },
        "id": "ba34573b-3932-4d38-9876-ecf8b59baee7",
        "outputId": "0f7b992a-e3f4-4738-a66e-718b0e235ff7"
      },
      "source": [
        "# get student_assessment column datatypes\n",
        "get_dtypes(student_assessment)"
      ],
      "id": "ba34573b-3932-4d38-9876-ecf8b59baee7",
      "execution_count": 70,
      "outputs": [
        {
          "output_type": "execute_result",
          "data": {
            "text/html": [
              "<div>\n",
              "<style scoped>\n",
              "    .dataframe tbody tr th:only-of-type {\n",
              "        vertical-align: middle;\n",
              "    }\n",
              "\n",
              "    .dataframe tbody tr th {\n",
              "        vertical-align: top;\n",
              "    }\n",
              "\n",
              "    .dataframe thead th {\n",
              "        text-align: right;\n",
              "    }\n",
              "</style>\n",
              "<table border=\"1\" class=\"dataframe\">\n",
              "  <thead>\n",
              "    <tr style=\"text-align: right;\">\n",
              "      <th></th>\n",
              "      <th>Variable</th>\n",
              "      <th>Type</th>\n",
              "    </tr>\n",
              "  </thead>\n",
              "  <tbody>\n",
              "    <tr>\n",
              "      <th>0</th>\n",
              "      <td>id_assessment</td>\n",
              "      <td>int64</td>\n",
              "    </tr>\n",
              "    <tr>\n",
              "      <th>1</th>\n",
              "      <td>id_student</td>\n",
              "      <td>int64</td>\n",
              "    </tr>\n",
              "    <tr>\n",
              "      <th>2</th>\n",
              "      <td>date_submitted</td>\n",
              "      <td>int64</td>\n",
              "    </tr>\n",
              "    <tr>\n",
              "      <th>3</th>\n",
              "      <td>score</td>\n",
              "      <td>float64</td>\n",
              "    </tr>\n",
              "  </tbody>\n",
              "</table>\n",
              "</div>"
            ],
            "text/plain": [
              "         Variable     Type\n",
              "0   id_assessment    int64\n",
              "1      id_student    int64\n",
              "2  date_submitted    int64\n",
              "3           score  float64"
            ]
          },
          "metadata": {},
          "execution_count": 70
        }
      ]
    },
    {
      "cell_type": "markdown",
      "metadata": {
        "id": "8deca1e2-135a-445f-9176-22bfcae7949f"
      },
      "source": [
        "* `id_student` and `id_assessments` are both categorical values and so should be converted from `int64` to `string`"
      ],
      "id": "8deca1e2-135a-445f-9176-22bfcae7949f"
    },
    {
      "cell_type": "code",
      "metadata": {
        "tags": [],
        "id": "55107f47-0998-4782-9641-cf3735187af2"
      },
      "source": [
        "# converting the id_student and id_assessment data types\n",
        "student_assessment = student_assessment.astype({'id_assessment': str, 'id_student': str})\n",
        "\n",
        "# change student_assessment datatypes to values that support pandas NA\n",
        "student_assessment = student_assessment.convert_dtypes()"
      ],
      "id": "55107f47-0998-4782-9641-cf3735187af2",
      "execution_count": 71,
      "outputs": []
    },
    {
      "cell_type": "markdown",
      "metadata": {
        "id": "e14ab405-3685-4ed3-8075-24b35f5b43d1"
      },
      "source": [
        "**Null Values**"
      ],
      "id": "e14ab405-3685-4ed3-8075-24b35f5b43d1"
    },
    {
      "cell_type": "code",
      "metadata": {
        "tags": [
          "remove_input"
        ],
        "colab": {
          "base_uri": "https://localhost:8080/",
          "height": 0
        },
        "id": "9f793dcd-0f30-48e4-9a65-4426f9aba89e",
        "outputId": "62985adb-f515-4fa5-87ce-6fbe65b0fb2e"
      },
      "source": [
        "# get null values if any\n",
        "null_vals(student_assessment)"
      ],
      "id": "9f793dcd-0f30-48e4-9a65-4426f9aba89e",
      "execution_count": 72,
      "outputs": [
        {
          "output_type": "execute_result",
          "data": {
            "text/html": [
              "<div>\n",
              "<style scoped>\n",
              "    .dataframe tbody tr th:only-of-type {\n",
              "        vertical-align: middle;\n",
              "    }\n",
              "\n",
              "    .dataframe tbody tr th {\n",
              "        vertical-align: top;\n",
              "    }\n",
              "\n",
              "    .dataframe thead th {\n",
              "        text-align: right;\n",
              "    }\n",
              "</style>\n",
              "<table border=\"1\" class=\"dataframe\">\n",
              "  <thead>\n",
              "    <tr style=\"text-align: right;\">\n",
              "      <th></th>\n",
              "      <th>Variable</th>\n",
              "      <th>Null Values</th>\n",
              "    </tr>\n",
              "  </thead>\n",
              "  <tbody>\n",
              "    <tr>\n",
              "      <th>0</th>\n",
              "      <td>id_assessment</td>\n",
              "      <td>0</td>\n",
              "    </tr>\n",
              "    <tr>\n",
              "      <th>1</th>\n",
              "      <td>id_student</td>\n",
              "      <td>0</td>\n",
              "    </tr>\n",
              "    <tr>\n",
              "      <th>2</th>\n",
              "      <td>date_submitted</td>\n",
              "      <td>0</td>\n",
              "    </tr>\n",
              "    <tr>\n",
              "      <th>3</th>\n",
              "      <td>score</td>\n",
              "      <td>173</td>\n",
              "    </tr>\n",
              "  </tbody>\n",
              "</table>\n",
              "</div>"
            ],
            "text/plain": [
              "         Variable  Null Values\n",
              "0   id_assessment            0\n",
              "1      id_student            0\n",
              "2  date_submitted            0\n",
              "3           score          173"
            ]
          },
          "metadata": {},
          "execution_count": 72
        }
      ]
    },
    {
      "cell_type": "code",
      "metadata": {
        "tags": [
          "remove_input"
        ],
        "colab": {
          "base_uri": "https://localhost:8080/",
          "height": 0
        },
        "id": "351f9d4b-32e1-4205-999e-f251891a5f6c",
        "outputId": "85288c89-1cdf-46d2-d100-2a599b47b210"
      },
      "source": [
        "# get number of null scores in student assessments\n",
        "null_score = student_assessment['score'].isnull().sum()\n",
        "\n",
        "md(f'''\n",
        "* We have {null_score} null values for score, which is important as it is a value we will be trying to predict.\n",
        "* To find which exams these are we will merge the assessments and student_assessment dataframes to have the score, \n",
        "assessment ID and module/presentation in one place.\n",
        "''')"
      ],
      "id": "351f9d4b-32e1-4205-999e-f251891a5f6c",
      "execution_count": 73,
      "outputs": [
        {
          "output_type": "execute_result",
          "data": {
            "text/markdown": "\n* We have 173 null values for score, which is important as it is a value we will be trying to predict.\n* To find which exams these are we will merge the assessments and student_assessment dataframes to have the score, \nassessment ID and module/presentation in one place.\n",
            "text/plain": [
              "<IPython.core.display.Markdown object>"
            ]
          },
          "metadata": {},
          "execution_count": 73
        }
      ]
    },
    {
      "cell_type": "markdown",
      "metadata": {
        "id": "2bc5a9b4-2325-4f71-9b85-d693994e464c"
      },
      "source": [
        "**Merged Asssessments**\n",
        "\n",
        "Here we will merge the assessments and student assessments dataframes in order to combine our student scores and submission dates with assessment type, date of the assessment, and weight of the assessment."
      ],
      "id": "2bc5a9b4-2325-4f71-9b85-d693994e464c"
    },
    {
      "cell_type": "code",
      "metadata": {
        "tags": [],
        "colab": {
          "base_uri": "https://localhost:8080/",
          "height": 0
        },
        "id": "b5f6facc-0ca1-4291-98cb-d035693961d5",
        "outputId": "03ddcaf7-75de-4316-9da6-a6ac9b342b47"
      },
      "source": [
        "# merges dataframes student_assessment with assessments with a full outer join on their common ID id_assessment\n",
        "# creates a column _merge which tells you if the id_assessment was found in one or both dataframes\n",
        "merged_assessments = student_assessment.merge(assessments, how='outer', on=['id_assessment'] ,indicator=True)\n",
        "# convert datatypes back since merge doesn't preserve these\n",
        "merged_assessments = merged_assessments.astype({'id_student': str, 'id_assessment':str}).convert_dtypes()\n",
        "# show first 5 rows of dataframe\n",
        "merged_assessments.head()"
      ],
      "id": "b5f6facc-0ca1-4291-98cb-d035693961d5",
      "execution_count": 74,
      "outputs": [
        {
          "output_type": "execute_result",
          "data": {
            "text/html": [
              "<div>\n",
              "<style scoped>\n",
              "    .dataframe tbody tr th:only-of-type {\n",
              "        vertical-align: middle;\n",
              "    }\n",
              "\n",
              "    .dataframe tbody tr th {\n",
              "        vertical-align: top;\n",
              "    }\n",
              "\n",
              "    .dataframe thead th {\n",
              "        text-align: right;\n",
              "    }\n",
              "</style>\n",
              "<table border=\"1\" class=\"dataframe\">\n",
              "  <thead>\n",
              "    <tr style=\"text-align: right;\">\n",
              "      <th></th>\n",
              "      <th>id_assessment</th>\n",
              "      <th>id_student</th>\n",
              "      <th>date_submitted</th>\n",
              "      <th>score</th>\n",
              "      <th>module</th>\n",
              "      <th>presentation</th>\n",
              "      <th>assessment_type</th>\n",
              "      <th>date</th>\n",
              "      <th>weight</th>\n",
              "      <th>_merge</th>\n",
              "    </tr>\n",
              "  </thead>\n",
              "  <tbody>\n",
              "    <tr>\n",
              "      <th>0</th>\n",
              "      <td>1752</td>\n",
              "      <td>11391</td>\n",
              "      <td>18</td>\n",
              "      <td>78</td>\n",
              "      <td>AAA</td>\n",
              "      <td>2013J</td>\n",
              "      <td>TMA</td>\n",
              "      <td>19</td>\n",
              "      <td>10.0</td>\n",
              "      <td>both</td>\n",
              "    </tr>\n",
              "    <tr>\n",
              "      <th>1</th>\n",
              "      <td>1752</td>\n",
              "      <td>28400</td>\n",
              "      <td>22</td>\n",
              "      <td>70</td>\n",
              "      <td>AAA</td>\n",
              "      <td>2013J</td>\n",
              "      <td>TMA</td>\n",
              "      <td>19</td>\n",
              "      <td>10.0</td>\n",
              "      <td>both</td>\n",
              "    </tr>\n",
              "    <tr>\n",
              "      <th>2</th>\n",
              "      <td>1752</td>\n",
              "      <td>31604</td>\n",
              "      <td>17</td>\n",
              "      <td>72</td>\n",
              "      <td>AAA</td>\n",
              "      <td>2013J</td>\n",
              "      <td>TMA</td>\n",
              "      <td>19</td>\n",
              "      <td>10.0</td>\n",
              "      <td>both</td>\n",
              "    </tr>\n",
              "    <tr>\n",
              "      <th>3</th>\n",
              "      <td>1752</td>\n",
              "      <td>32885</td>\n",
              "      <td>26</td>\n",
              "      <td>69</td>\n",
              "      <td>AAA</td>\n",
              "      <td>2013J</td>\n",
              "      <td>TMA</td>\n",
              "      <td>19</td>\n",
              "      <td>10.0</td>\n",
              "      <td>both</td>\n",
              "    </tr>\n",
              "    <tr>\n",
              "      <th>4</th>\n",
              "      <td>1752</td>\n",
              "      <td>38053</td>\n",
              "      <td>19</td>\n",
              "      <td>79</td>\n",
              "      <td>AAA</td>\n",
              "      <td>2013J</td>\n",
              "      <td>TMA</td>\n",
              "      <td>19</td>\n",
              "      <td>10.0</td>\n",
              "      <td>both</td>\n",
              "    </tr>\n",
              "  </tbody>\n",
              "</table>\n",
              "</div>"
            ],
            "text/plain": [
              "  id_assessment id_student  date_submitted  ...  date weight _merge\n",
              "0          1752      11391              18  ...    19   10.0   both\n",
              "1          1752      28400              22  ...    19   10.0   both\n",
              "2          1752      31604              17  ...    19   10.0   both\n",
              "3          1752      32885              26  ...    19   10.0   both\n",
              "4          1752      38053              19  ...    19   10.0   both\n",
              "\n",
              "[5 rows x 10 columns]"
            ]
          },
          "metadata": {},
          "execution_count": 74
        }
      ]
    },
    {
      "cell_type": "markdown",
      "metadata": {
        "tags": [],
        "id": "c3938439-c87b-441f-85cb-6037ade2962e"
      },
      "source": [
        "**Rows that do not map**\n",
        "\n",
        "First we will check our merge column to find which rows do not map to one another in our two dataframes"
      ],
      "id": "c3938439-c87b-441f-85cb-6037ade2962e"
    },
    {
      "cell_type": "code",
      "metadata": {
        "tags": [],
        "colab": {
          "base_uri": "https://localhost:8080/",
          "height": 0
        },
        "id": "e29b179a-b092-4df0-9938-66f545159df8",
        "outputId": "6152287f-38cd-4e9c-e01a-57d79ba2af41"
      },
      "source": [
        "# finds where the merge column is not both meaning the row has data not in both dataframes\n",
        "missing_exams = merged_assessments.loc[merged_assessments['_merge'] != 'both'].reset_index(drop=True)\n",
        "missing_exams"
      ],
      "id": "e29b179a-b092-4df0-9938-66f545159df8",
      "execution_count": 75,
      "outputs": [
        {
          "output_type": "execute_result",
          "data": {
            "text/html": [
              "<div>\n",
              "<style scoped>\n",
              "    .dataframe tbody tr th:only-of-type {\n",
              "        vertical-align: middle;\n",
              "    }\n",
              "\n",
              "    .dataframe tbody tr th {\n",
              "        vertical-align: top;\n",
              "    }\n",
              "\n",
              "    .dataframe thead th {\n",
              "        text-align: right;\n",
              "    }\n",
              "</style>\n",
              "<table border=\"1\" class=\"dataframe\">\n",
              "  <thead>\n",
              "    <tr style=\"text-align: right;\">\n",
              "      <th></th>\n",
              "      <th>id_assessment</th>\n",
              "      <th>id_student</th>\n",
              "      <th>date_submitted</th>\n",
              "      <th>score</th>\n",
              "      <th>module</th>\n",
              "      <th>presentation</th>\n",
              "      <th>assessment_type</th>\n",
              "      <th>date</th>\n",
              "      <th>weight</th>\n",
              "      <th>_merge</th>\n",
              "    </tr>\n",
              "  </thead>\n",
              "  <tbody>\n",
              "    <tr>\n",
              "      <th>0</th>\n",
              "      <td>1757</td>\n",
              "      <td>&lt;NA&gt;</td>\n",
              "      <td>&lt;NA&gt;</td>\n",
              "      <td>&lt;NA&gt;</td>\n",
              "      <td>AAA</td>\n",
              "      <td>2013J</td>\n",
              "      <td>Exam</td>\n",
              "      <td>268</td>\n",
              "      <td>100.0</td>\n",
              "      <td>right_only</td>\n",
              "    </tr>\n",
              "    <tr>\n",
              "      <th>1</th>\n",
              "      <td>1763</td>\n",
              "      <td>&lt;NA&gt;</td>\n",
              "      <td>&lt;NA&gt;</td>\n",
              "      <td>&lt;NA&gt;</td>\n",
              "      <td>AAA</td>\n",
              "      <td>2014J</td>\n",
              "      <td>Exam</td>\n",
              "      <td>269</td>\n",
              "      <td>100.0</td>\n",
              "      <td>right_only</td>\n",
              "    </tr>\n",
              "    <tr>\n",
              "      <th>2</th>\n",
              "      <td>14990</td>\n",
              "      <td>&lt;NA&gt;</td>\n",
              "      <td>&lt;NA&gt;</td>\n",
              "      <td>&lt;NA&gt;</td>\n",
              "      <td>BBB</td>\n",
              "      <td>2013B</td>\n",
              "      <td>Exam</td>\n",
              "      <td>240</td>\n",
              "      <td>100.0</td>\n",
              "      <td>right_only</td>\n",
              "    </tr>\n",
              "    <tr>\n",
              "      <th>3</th>\n",
              "      <td>15002</td>\n",
              "      <td>&lt;NA&gt;</td>\n",
              "      <td>&lt;NA&gt;</td>\n",
              "      <td>&lt;NA&gt;</td>\n",
              "      <td>BBB</td>\n",
              "      <td>2013J</td>\n",
              "      <td>Exam</td>\n",
              "      <td>268</td>\n",
              "      <td>100.0</td>\n",
              "      <td>right_only</td>\n",
              "    </tr>\n",
              "    <tr>\n",
              "      <th>4</th>\n",
              "      <td>15014</td>\n",
              "      <td>&lt;NA&gt;</td>\n",
              "      <td>&lt;NA&gt;</td>\n",
              "      <td>&lt;NA&gt;</td>\n",
              "      <td>BBB</td>\n",
              "      <td>2014B</td>\n",
              "      <td>Exam</td>\n",
              "      <td>234</td>\n",
              "      <td>100.0</td>\n",
              "      <td>right_only</td>\n",
              "    </tr>\n",
              "    <tr>\n",
              "      <th>5</th>\n",
              "      <td>15025</td>\n",
              "      <td>&lt;NA&gt;</td>\n",
              "      <td>&lt;NA&gt;</td>\n",
              "      <td>&lt;NA&gt;</td>\n",
              "      <td>BBB</td>\n",
              "      <td>2014J</td>\n",
              "      <td>Exam</td>\n",
              "      <td>262</td>\n",
              "      <td>100.0</td>\n",
              "      <td>right_only</td>\n",
              "    </tr>\n",
              "    <tr>\n",
              "      <th>6</th>\n",
              "      <td>40087</td>\n",
              "      <td>&lt;NA&gt;</td>\n",
              "      <td>&lt;NA&gt;</td>\n",
              "      <td>&lt;NA&gt;</td>\n",
              "      <td>CCC</td>\n",
              "      <td>2014B</td>\n",
              "      <td>Exam</td>\n",
              "      <td>241</td>\n",
              "      <td>100.0</td>\n",
              "      <td>right_only</td>\n",
              "    </tr>\n",
              "    <tr>\n",
              "      <th>7</th>\n",
              "      <td>40088</td>\n",
              "      <td>&lt;NA&gt;</td>\n",
              "      <td>&lt;NA&gt;</td>\n",
              "      <td>&lt;NA&gt;</td>\n",
              "      <td>CCC</td>\n",
              "      <td>2014J</td>\n",
              "      <td>Exam</td>\n",
              "      <td>269</td>\n",
              "      <td>100.0</td>\n",
              "      <td>right_only</td>\n",
              "    </tr>\n",
              "    <tr>\n",
              "      <th>8</th>\n",
              "      <td>30713</td>\n",
              "      <td>&lt;NA&gt;</td>\n",
              "      <td>&lt;NA&gt;</td>\n",
              "      <td>&lt;NA&gt;</td>\n",
              "      <td>EEE</td>\n",
              "      <td>2013J</td>\n",
              "      <td>Exam</td>\n",
              "      <td>235</td>\n",
              "      <td>100.0</td>\n",
              "      <td>right_only</td>\n",
              "    </tr>\n",
              "    <tr>\n",
              "      <th>9</th>\n",
              "      <td>30718</td>\n",
              "      <td>&lt;NA&gt;</td>\n",
              "      <td>&lt;NA&gt;</td>\n",
              "      <td>&lt;NA&gt;</td>\n",
              "      <td>EEE</td>\n",
              "      <td>2014B</td>\n",
              "      <td>Exam</td>\n",
              "      <td>228</td>\n",
              "      <td>100.0</td>\n",
              "      <td>right_only</td>\n",
              "    </tr>\n",
              "    <tr>\n",
              "      <th>10</th>\n",
              "      <td>30723</td>\n",
              "      <td>&lt;NA&gt;</td>\n",
              "      <td>&lt;NA&gt;</td>\n",
              "      <td>&lt;NA&gt;</td>\n",
              "      <td>EEE</td>\n",
              "      <td>2014J</td>\n",
              "      <td>Exam</td>\n",
              "      <td>235</td>\n",
              "      <td>100.0</td>\n",
              "      <td>right_only</td>\n",
              "    </tr>\n",
              "    <tr>\n",
              "      <th>11</th>\n",
              "      <td>34872</td>\n",
              "      <td>&lt;NA&gt;</td>\n",
              "      <td>&lt;NA&gt;</td>\n",
              "      <td>&lt;NA&gt;</td>\n",
              "      <td>FFF</td>\n",
              "      <td>2013B</td>\n",
              "      <td>Exam</td>\n",
              "      <td>222</td>\n",
              "      <td>100.0</td>\n",
              "      <td>right_only</td>\n",
              "    </tr>\n",
              "    <tr>\n",
              "      <th>12</th>\n",
              "      <td>34885</td>\n",
              "      <td>&lt;NA&gt;</td>\n",
              "      <td>&lt;NA&gt;</td>\n",
              "      <td>&lt;NA&gt;</td>\n",
              "      <td>FFF</td>\n",
              "      <td>2013J</td>\n",
              "      <td>Exam</td>\n",
              "      <td>236</td>\n",
              "      <td>100.0</td>\n",
              "      <td>right_only</td>\n",
              "    </tr>\n",
              "    <tr>\n",
              "      <th>13</th>\n",
              "      <td>34898</td>\n",
              "      <td>&lt;NA&gt;</td>\n",
              "      <td>&lt;NA&gt;</td>\n",
              "      <td>&lt;NA&gt;</td>\n",
              "      <td>FFF</td>\n",
              "      <td>2014B</td>\n",
              "      <td>Exam</td>\n",
              "      <td>227</td>\n",
              "      <td>100.0</td>\n",
              "      <td>right_only</td>\n",
              "    </tr>\n",
              "    <tr>\n",
              "      <th>14</th>\n",
              "      <td>34911</td>\n",
              "      <td>&lt;NA&gt;</td>\n",
              "      <td>&lt;NA&gt;</td>\n",
              "      <td>&lt;NA&gt;</td>\n",
              "      <td>FFF</td>\n",
              "      <td>2014J</td>\n",
              "      <td>Exam</td>\n",
              "      <td>241</td>\n",
              "      <td>100.0</td>\n",
              "      <td>right_only</td>\n",
              "    </tr>\n",
              "    <tr>\n",
              "      <th>15</th>\n",
              "      <td>37424</td>\n",
              "      <td>&lt;NA&gt;</td>\n",
              "      <td>&lt;NA&gt;</td>\n",
              "      <td>&lt;NA&gt;</td>\n",
              "      <td>GGG</td>\n",
              "      <td>2013J</td>\n",
              "      <td>Exam</td>\n",
              "      <td>229</td>\n",
              "      <td>100.0</td>\n",
              "      <td>right_only</td>\n",
              "    </tr>\n",
              "    <tr>\n",
              "      <th>16</th>\n",
              "      <td>37434</td>\n",
              "      <td>&lt;NA&gt;</td>\n",
              "      <td>&lt;NA&gt;</td>\n",
              "      <td>&lt;NA&gt;</td>\n",
              "      <td>GGG</td>\n",
              "      <td>2014B</td>\n",
              "      <td>Exam</td>\n",
              "      <td>222</td>\n",
              "      <td>100.0</td>\n",
              "      <td>right_only</td>\n",
              "    </tr>\n",
              "    <tr>\n",
              "      <th>17</th>\n",
              "      <td>37444</td>\n",
              "      <td>&lt;NA&gt;</td>\n",
              "      <td>&lt;NA&gt;</td>\n",
              "      <td>&lt;NA&gt;</td>\n",
              "      <td>GGG</td>\n",
              "      <td>2014J</td>\n",
              "      <td>Exam</td>\n",
              "      <td>229</td>\n",
              "      <td>100.0</td>\n",
              "      <td>right_only</td>\n",
              "    </tr>\n",
              "  </tbody>\n",
              "</table>\n",
              "</div>"
            ],
            "text/plain": [
              "   id_assessment id_student  date_submitted  ...  date weight      _merge\n",
              "0           1757       <NA>            <NA>  ...   268  100.0  right_only\n",
              "1           1763       <NA>            <NA>  ...   269  100.0  right_only\n",
              "2          14990       <NA>            <NA>  ...   240  100.0  right_only\n",
              "3          15002       <NA>            <NA>  ...   268  100.0  right_only\n",
              "4          15014       <NA>            <NA>  ...   234  100.0  right_only\n",
              "5          15025       <NA>            <NA>  ...   262  100.0  right_only\n",
              "6          40087       <NA>            <NA>  ...   241  100.0  right_only\n",
              "7          40088       <NA>            <NA>  ...   269  100.0  right_only\n",
              "8          30713       <NA>            <NA>  ...   235  100.0  right_only\n",
              "9          30718       <NA>            <NA>  ...   228  100.0  right_only\n",
              "10         30723       <NA>            <NA>  ...   235  100.0  right_only\n",
              "11         34872       <NA>            <NA>  ...   222  100.0  right_only\n",
              "12         34885       <NA>            <NA>  ...   236  100.0  right_only\n",
              "13         34898       <NA>            <NA>  ...   227  100.0  right_only\n",
              "14         34911       <NA>            <NA>  ...   241  100.0  right_only\n",
              "15         37424       <NA>            <NA>  ...   229  100.0  right_only\n",
              "16         37434       <NA>            <NA>  ...   222  100.0  right_only\n",
              "17         37444       <NA>            <NA>  ...   229  100.0  right_only\n",
              "\n",
              "[18 rows x 10 columns]"
            ]
          },
          "metadata": {},
          "execution_count": 75
        }
      ]
    },
    {
      "cell_type": "code",
      "metadata": {
        "tags": [
          "remove_input"
        ],
        "colab": {
          "base_uri": "https://localhost:8080/",
          "height": 0
        },
        "id": "42093e10-a336-4b47-8009-e462eb2c52e3",
        "outputId": "bba22eff-24df-4020-f057-7e62b625e294"
      },
      "source": [
        "md(f'''\n",
        "These {len(missing_exams)} rows all have entries in the assessments dataframe but have no match in the student_assessment dataframe. \n",
        "This indicates that no students in our data took these exams. These are all weight 100 and will be the missing final exams. \n",
        "\n",
        "It is possible that students have other exams that are missing but not from all students, which would not show in our data.\n",
        "''')"
      ],
      "id": "42093e10-a336-4b47-8009-e462eb2c52e3",
      "execution_count": 76,
      "outputs": [
        {
          "output_type": "execute_result",
          "data": {
            "text/markdown": "\nThese 18 rows all have entries in the assessments dataframe but have no match in the student_assessment dataframe. \nThis indicates that no students in our data took these exams. These are all weight 100 and will be the missing final exams. \n\nIt is possible that students have other exams that are missing but not from all students, which would not show in our data.\n",
            "text/plain": [
              "<IPython.core.display.Markdown object>"
            ]
          },
          "metadata": {},
          "execution_count": 76
        }
      ]
    },
    {
      "cell_type": "code",
      "metadata": {
        "colab": {
          "base_uri": "https://localhost:8080/",
          "height": 0
        },
        "id": "a96bbe3b-82da-4f99-979c-6d232c1a3698",
        "outputId": "8e6a3f82-42da-4a0f-9c5c-4dff2a01320f"
      },
      "source": [
        "# locate the module and presentation for rows in merged_assessments where the weight is 100 and the score is not null\n",
        "finals_w_scores = merged_assessments.loc[(merged_assessments['weight'] == 100) & (merged_assessments['score'].notna()), ['weight', 'module', 'presentation', 'id_assessment']].drop_duplicates()\n",
        "finals_w_scores"
      ],
      "id": "a96bbe3b-82da-4f99-979c-6d232c1a3698",
      "execution_count": 77,
      "outputs": [
        {
          "output_type": "execute_result",
          "data": {
            "text/html": [
              "<div>\n",
              "<style scoped>\n",
              "    .dataframe tbody tr th:only-of-type {\n",
              "        vertical-align: middle;\n",
              "    }\n",
              "\n",
              "    .dataframe tbody tr th {\n",
              "        vertical-align: top;\n",
              "    }\n",
              "\n",
              "    .dataframe thead th {\n",
              "        text-align: right;\n",
              "    }\n",
              "</style>\n",
              "<table border=\"1\" class=\"dataframe\">\n",
              "  <thead>\n",
              "    <tr style=\"text-align: right;\">\n",
              "      <th></th>\n",
              "      <th>weight</th>\n",
              "      <th>module</th>\n",
              "      <th>presentation</th>\n",
              "      <th>id_assessment</th>\n",
              "    </tr>\n",
              "  </thead>\n",
              "  <tbody>\n",
              "    <tr>\n",
              "      <th>52923</th>\n",
              "      <td>100.0</td>\n",
              "      <td>CCC</td>\n",
              "      <td>2014B</td>\n",
              "      <td>24290</td>\n",
              "    </tr>\n",
              "    <tr>\n",
              "      <th>63953</th>\n",
              "      <td>100.0</td>\n",
              "      <td>CCC</td>\n",
              "      <td>2014J</td>\n",
              "      <td>24299</td>\n",
              "    </tr>\n",
              "    <tr>\n",
              "      <th>69640</th>\n",
              "      <td>100.0</td>\n",
              "      <td>DDD</td>\n",
              "      <td>2013B</td>\n",
              "      <td>25340</td>\n",
              "    </tr>\n",
              "    <tr>\n",
              "      <th>82462</th>\n",
              "      <td>100.0</td>\n",
              "      <td>DDD</td>\n",
              "      <td>2013J</td>\n",
              "      <td>25354</td>\n",
              "    </tr>\n",
              "    <tr>\n",
              "      <th>87448</th>\n",
              "      <td>100.0</td>\n",
              "      <td>DDD</td>\n",
              "      <td>2014B</td>\n",
              "      <td>25361</td>\n",
              "    </tr>\n",
              "    <tr>\n",
              "      <th>95035</th>\n",
              "      <td>100.0</td>\n",
              "      <td>DDD</td>\n",
              "      <td>2014J</td>\n",
              "      <td>25368</td>\n",
              "    </tr>\n",
              "  </tbody>\n",
              "</table>\n",
              "</div>"
            ],
            "text/plain": [
              "       weight module presentation id_assessment\n",
              "52923   100.0    CCC        2014B         24290\n",
              "63953   100.0    CCC        2014J         24299\n",
              "69640   100.0    DDD        2013B         25340\n",
              "82462   100.0    DDD        2013J         25354\n",
              "87448   100.0    DDD        2014B         25361\n",
              "95035   100.0    DDD        2014J         25368"
            ]
          },
          "metadata": {},
          "execution_count": 77
        }
      ]
    },
    {
      "cell_type": "code",
      "metadata": {
        "colab": {
          "base_uri": "https://localhost:8080/",
          "height": 0
        },
        "id": "616c642e-c8af-4b8e-b3b5-9d2846b423d7",
        "outputId": "6c804c46-6f7e-450d-cd58-d782c57d8193"
      },
      "source": [
        "# get the number of unique module/presentation combinations\n",
        "courses['module_presentation'] = (courses['module'].astype(str)) + (courses['presentation'].astype(str))\n",
        "ttl_mod_pres = courses['module_presentation'].nunique()\n",
        "\n",
        "# get the length of the dataframe of finals which have scores\n",
        "mod_pres_w_scores = len(finals_w_scores)\n",
        "\n",
        "md(f'''Above is a dataframe of all of the modules and presentations we have a final exam for. Only {mod_pres_w_scores} modules out of \n",
        "{ttl_mod_pres} have final exam scores for any students.\n",
        "\n",
        "This is particularly troublesome because we have no final exams in GGG whose whole score is based on the final exams since the other \n",
        "exams in GGG are weight 0. The entire pass/fail basis for the GGG module is thus missing. This neccessitates our analyzing student \n",
        "scores and results seperately.\n",
        "\n",
        "Let's now check for all exams with NA scores.\n",
        "''')"
      ],
      "id": "616c642e-c8af-4b8e-b3b5-9d2846b423d7",
      "execution_count": 78,
      "outputs": [
        {
          "output_type": "execute_result",
          "data": {
            "text/markdown": "Above is a dataframe of all of the modules and presentations we have a final exam for. Only 6 modules out of \n22 have final exam scores for any students.\n\nThis is particularly troublesome because we have no final exams in GGG whose whole score is based on the final exams since the other \nexams in GGG are weight 0. The entire pass/fail basis for the GGG module is thus missing. This neccessitates our analyzing student \nscores and results seperately.\n\nLet's now check for all exams with NA scores.\n",
            "text/plain": [
              "<IPython.core.display.Markdown object>"
            ]
          },
          "metadata": {},
          "execution_count": 78
        }
      ]
    },
    {
      "cell_type": "code",
      "metadata": {
        "colab": {
          "base_uri": "https://localhost:8080/",
          "height": 0
        },
        "id": "dc7f3a9d-7591-41aa-9a00-2d82b1ba2917",
        "outputId": "68654020-c748-40d6-8458-636a75b09e65"
      },
      "source": [
        "# make a dataframe of students with a score of NA\n",
        "na_scores = merged_assessments.loc[merged_assessments['score'].isna(), ['presentation', 'module', 'weight', 'id_assessment']]\n",
        "dataframe(na_scores['id_assessment'].value_counts())"
      ],
      "id": "dc7f3a9d-7591-41aa-9a00-2d82b1ba2917",
      "execution_count": 79,
      "outputs": [
        {
          "output_type": "execute_result",
          "data": {
            "text/html": [
              "<div>\n",
              "<style scoped>\n",
              "    .dataframe tbody tr th:only-of-type {\n",
              "        vertical-align: middle;\n",
              "    }\n",
              "\n",
              "    .dataframe tbody tr th {\n",
              "        vertical-align: top;\n",
              "    }\n",
              "\n",
              "    .dataframe thead th {\n",
              "        text-align: right;\n",
              "    }\n",
              "</style>\n",
              "<table border=\"1\" class=\"dataframe\">\n",
              "  <thead>\n",
              "    <tr style=\"text-align: right;\">\n",
              "      <th></th>\n",
              "      <th>id_assessment</th>\n",
              "    </tr>\n",
              "  </thead>\n",
              "  <tbody>\n",
              "    <tr>\n",
              "      <th>15013</th>\n",
              "      <td>7</td>\n",
              "    </tr>\n",
              "    <tr>\n",
              "      <th>25339</th>\n",
              "      <td>7</td>\n",
              "    </tr>\n",
              "    <tr>\n",
              "      <th>34860</th>\n",
              "      <td>6</td>\n",
              "    </tr>\n",
              "    <tr>\n",
              "      <th>25363</th>\n",
              "      <td>5</td>\n",
              "    </tr>\n",
              "    <tr>\n",
              "      <th>14984</th>\n",
              "      <td>5</td>\n",
              "    </tr>\n",
              "    <tr>\n",
              "      <th>...</th>\n",
              "      <td>...</td>\n",
              "    </tr>\n",
              "    <tr>\n",
              "      <th>14985</th>\n",
              "      <td>1</td>\n",
              "    </tr>\n",
              "    <tr>\n",
              "      <th>34862</th>\n",
              "      <td>1</td>\n",
              "    </tr>\n",
              "    <tr>\n",
              "      <th>34898</th>\n",
              "      <td>1</td>\n",
              "    </tr>\n",
              "    <tr>\n",
              "      <th>25355</th>\n",
              "      <td>1</td>\n",
              "    </tr>\n",
              "    <tr>\n",
              "      <th>30722</th>\n",
              "      <td>1</td>\n",
              "    </tr>\n",
              "  </tbody>\n",
              "</table>\n",
              "<p>96 rows × 1 columns</p>\n",
              "</div>"
            ],
            "text/plain": [
              "       id_assessment\n",
              "15013              7\n",
              "25339              7\n",
              "34860              6\n",
              "25363              5\n",
              "14984              5\n",
              "...              ...\n",
              "14985              1\n",
              "34862              1\n",
              "34898              1\n",
              "25355              1\n",
              "30722              1\n",
              "\n",
              "[96 rows x 1 columns]"
            ]
          },
          "metadata": {},
          "execution_count": 79
        }
      ]
    },
    {
      "cell_type": "code",
      "metadata": {
        "tags": [
          "remove_input"
        ],
        "colab": {
          "base_uri": "https://localhost:8080/",
          "height": 0
        },
        "id": "e9ad10d1-9acf-4426-bf4b-82c3304d4c97",
        "outputId": "3d688cac-f945-4047-bc8a-49fb3e827e50"
      },
      "source": [
        "# get all na scores that were not weight 100/final exams\n",
        "non_100_na = na_scores.loc[na_scores['weight'] != 100]\n",
        "\n",
        "# get all na scores that were weight 100/final exams\n",
        "weight_100_na = na_scores.loc[na_scores['weight'] == 100]\n",
        "\n",
        "md(f'''\n",
        "Above we can see a dataframe of the exams which have NA scores and the count of how many NA scores they have. \n",
        "* {na_scores['id_assessment'].nunique()} out of {len(assessments)} assessments have at least one NA score.\n",
        "* {weight_100_na['id_assessment'].nunique()} exams  with NA scores are final exams\n",
        "* {non_100_na['id_assessment'].nunique()} exams with NA scores are not final exams\n",
        "\n",
        "The first thing to check would be whether there are students with a 0 for a score to see if the NaNs represent 0 scores. \n",
        "\n",
        "Let's see how many exams have a score of 0.\n",
        "''')"
      ],
      "id": "e9ad10d1-9acf-4426-bf4b-82c3304d4c97",
      "execution_count": 80,
      "outputs": [
        {
          "output_type": "execute_result",
          "data": {
            "text/markdown": "\nAbove we can see a dataframe of the exams which have NA scores and the count of how many NA scores they have. \n* 96 out of 206 assessments have at least one NA score.\n* 18 exams  with NA scores are final exams\n* 78 exams with NA scores are not final exams\n\nThe first thing to check would be whether there are students with a 0 for a score to see if the NaNs represent 0 scores. \n\nLet's see how many exams have a score of 0.\n",
            "text/plain": [
              "<IPython.core.display.Markdown object>"
            ]
          },
          "metadata": {},
          "execution_count": 80
        }
      ]
    },
    {
      "cell_type": "code",
      "metadata": {
        "tags": [],
        "colab": {
          "base_uri": "https://localhost:8080/",
          "height": 0
        },
        "id": "098f189f-9b4f-458d-9421-e89dd13b2563",
        "outputId": "fa62177c-5457-444a-87c6-449855f05ebd"
      },
      "source": [
        "# make a dataframe of students with a score of 0 and display it\n",
        "zero_scores = student_assessment.loc[student_assessment['score'] == 0]\n",
        "zero_scores.head()"
      ],
      "id": "098f189f-9b4f-458d-9421-e89dd13b2563",
      "execution_count": 81,
      "outputs": [
        {
          "output_type": "execute_result",
          "data": {
            "text/html": [
              "<div>\n",
              "<style scoped>\n",
              "    .dataframe tbody tr th:only-of-type {\n",
              "        vertical-align: middle;\n",
              "    }\n",
              "\n",
              "    .dataframe tbody tr th {\n",
              "        vertical-align: top;\n",
              "    }\n",
              "\n",
              "    .dataframe thead th {\n",
              "        text-align: right;\n",
              "    }\n",
              "</style>\n",
              "<table border=\"1\" class=\"dataframe\">\n",
              "  <thead>\n",
              "    <tr style=\"text-align: right;\">\n",
              "      <th></th>\n",
              "      <th>id_assessment</th>\n",
              "      <th>id_student</th>\n",
              "      <th>date_submitted</th>\n",
              "      <th>score</th>\n",
              "    </tr>\n",
              "  </thead>\n",
              "  <tbody>\n",
              "    <tr>\n",
              "      <th>785</th>\n",
              "      <td>1754</td>\n",
              "      <td>2456480</td>\n",
              "      <td>123</td>\n",
              "      <td>0</td>\n",
              "    </tr>\n",
              "    <tr>\n",
              "      <th>4322</th>\n",
              "      <td>14984</td>\n",
              "      <td>554986</td>\n",
              "      <td>24</td>\n",
              "      <td>0</td>\n",
              "    </tr>\n",
              "    <tr>\n",
              "      <th>4730</th>\n",
              "      <td>14985</td>\n",
              "      <td>141823</td>\n",
              "      <td>46</td>\n",
              "      <td>0</td>\n",
              "    </tr>\n",
              "    <tr>\n",
              "      <th>5391</th>\n",
              "      <td>14985</td>\n",
              "      <td>542259</td>\n",
              "      <td>46</td>\n",
              "      <td>0</td>\n",
              "    </tr>\n",
              "    <tr>\n",
              "      <th>5509</th>\n",
              "      <td>14985</td>\n",
              "      <td>549078</td>\n",
              "      <td>48</td>\n",
              "      <td>0</td>\n",
              "    </tr>\n",
              "  </tbody>\n",
              "</table>\n",
              "</div>"
            ],
            "text/plain": [
              "     id_assessment id_student  date_submitted  score\n",
              "785           1754    2456480             123      0\n",
              "4322         14984     554986              24      0\n",
              "4730         14985     141823              46      0\n",
              "5391         14985     542259              46      0\n",
              "5509         14985     549078              48      0"
            ]
          },
          "metadata": {},
          "execution_count": 81
        }
      ]
    },
    {
      "cell_type": "code",
      "metadata": {
        "tags": [
          "remove_input"
        ],
        "colab": {
          "base_uri": "https://localhost:8080/",
          "height": 0
        },
        "id": "07b26bde-2f3c-4484-b354-9668fbe3cb80",
        "outputId": "d18bddc3-f788-4da7-9809-5de272cbc329"
      },
      "source": [
        "md(f'''\n",
        "\n",
        "Above is a dataframe of length {len(zero_scores)} for records of assessments with a 0 score, \n",
        "so the NaNs are not necessarily 0's.\n",
        "\n",
        "Next we can check whether students have an entry for all exams that they should have based on which module they are taking.\n",
        "We will do this by comparing the scores students have entries for in student assessments to the list of exams they should\n",
        "have entries for based on all exams in that module/presentation in the assessments dataframe. If a student is missing an \n",
        "exam they should have we will add it to a dateframe.\n",
        "\n",
        "Since this is a large dataframe we will observe just the first 1000 rows in merged_assessments.\n",
        "''')"
      ],
      "id": "07b26bde-2f3c-4484-b354-9668fbe3cb80",
      "execution_count": 82,
      "outputs": [
        {
          "output_type": "execute_result",
          "data": {
            "text/markdown": "\n\nAbove is a dataframe of length 329 for records of assessments with a 0 score, \nso the NaNs are not necessarily 0's.\n\nNext we can check whether students have an entry for all exams that they should have based on which module they are taking.\nWe will do this by comparing the scores students have entries for in student assessments to the list of exams they should\nhave entries for based on all exams in that module/presentation in the assessments dataframe. If a student is missing an \nexam they should have we will add it to a dateframe.\n\nSince this is a large dataframe we will observe just the first 1000 rows in merged_assessments.\n",
            "text/plain": [
              "<IPython.core.display.Markdown object>"
            ]
          },
          "metadata": {},
          "execution_count": 82
        }
      ]
    },
    {
      "cell_type": "code",
      "metadata": {
        "tags": [],
        "id": "169c68fb-de91-452a-a1fd-f05c972b18bc"
      },
      "source": [
        "# add a useful column module_presentation to merged_assessments and assessments to easily call on individual courses\n",
        "merged_assessments['module_presentation'] = merged_assessments['module'] + merged_assessments['presentation']\n",
        "assessments['module_presentation'] = assessments['module'] + assessments['presentation']\n",
        "\n",
        "# create a dataframe of assessments that are not in the missing exams list\n",
        "scored_assessments = assessments[~assessments['id_assessment'].isin(missing_exams['id_assessment'])]\n",
        "\n",
        "# initiate an empty dataframe to store students with all exams\n",
        "exams_w_no_entries = dataframe()\n",
        "\n",
        "# initiate a temporary dataframe to manipulate before we add it to the main dataframe exams_w_no_entries\n",
        "temp_df = dataframe()\n",
        "\n",
        "# prevent error for overwriting temp_df since it is irrelevant\n",
        "pd.options.mode.chained_assignment = None\n",
        "\n",
        "# iterate through the first 1000 rows in merged_assessments\n",
        "for i, r in merged_assessments.head(1000).iterrows():\n",
        "    # find where merged_assessments id_student and module_presentation matches the iteration we are on\n",
        "    # makes a dataframe of exams the student has\n",
        "    student_assessments = merged_assessments[merged_assessments['id_student'] == r['id_student']]\n",
        "    student_assessments = student_assessments[student_assessments['module_presentation'] == r['module_presentation']]    \n",
        "    # find where in scored assessments the module_presentation matches the iteration we are on\n",
        "    # makes a dataframe of exams the student should have being in that module/presentation\n",
        "    module_assessments = scored_assessments.loc[scored_assessments['module_presentation'] == r['module_presentation']]\n",
        "    # if any assessments from module_assessments not in student_assessments make temp_df a dataframe of the missing assessments\n",
        "    if ~module_assessments['id_assessment'].isin(student_assessments['id_assessment']).all():\n",
        "        temp_df = module_assessments[~module_assessments['id_assessment'].isin(student_assessments['id_assessment'])]\n",
        "        # set the id_student to the iteration we are on\n",
        "        temp_df['id_student'] = r['id_student']\n",
        "        # append the temp_df to our main dataframe\n",
        "        exams_w_no_entries = exams_w_no_entries.append(temp_df[['module_presentation', 'id_student', 'id_assessment']])"
      ],
      "id": "169c68fb-de91-452a-a1fd-f05c972b18bc",
      "execution_count": null,
      "outputs": []
    },
    {
      "cell_type": "code",
      "metadata": {
        "id": "d5afae76-1e49-43d6-9662-e6a4b390c153"
      },
      "source": [
        "exams_w_no_entries"
      ],
      "id": "d5afae76-1e49-43d6-9662-e6a4b390c153",
      "execution_count": null,
      "outputs": []
    },
    {
      "cell_type": "code",
      "metadata": {
        "tags": [
          "remove_input"
        ],
        "id": "b77244e0-f211-4c53-984d-2d05d875e5b6"
      },
      "source": [
        "# store length of exams without entries\n",
        "first_1000_missing = len(exams_w_no_entries)\n",
        "\n",
        "md(f'''\n",
        "Out of the first 1000 entries we already see above that {first_1000_missing} exams are already missing that students should have 9 or NA scores for.\n",
        "\n",
        "Next we will look at the results of those students who are missing exams to see if these are all withdrawals/failures or if something else is going on.\n",
        "''')"
      ],
      "id": "b77244e0-f211-4c53-984d-2d05d875e5b6",
      "execution_count": null,
      "outputs": []
    },
    {
      "cell_type": "code",
      "metadata": {
        "id": "e316ee57-49a6-4897-a506-20cd083a502f"
      },
      "source": [
        "# show results of students who have missing exams\n",
        "dataframe(stud_info[stud_info['id_student'].astype(str).isin(exams_w_no_entries['id_student'])]['result'].value_counts())"
      ],
      "id": "e316ee57-49a6-4897-a506-20cd083a502f",
      "execution_count": null,
      "outputs": []
    },
    {
      "cell_type": "code",
      "metadata": {
        "tags": [
          "remove_input"
        ],
        "id": "9203914d-a145-43a6-a3b1-e05d4540bb8c"
      },
      "source": [
        "md('''\n",
        "It may have been interesting if all of the students with missing scores withdrew or failed but we have some who passed as can be seen above, and even\n",
        "one who passed with distinction.\n",
        "\n",
        "Without having definitive information for a great deal of the exams, and no information for most of the final exams\n",
        "we will not be able to calculate a reliable weighted average, or even make meaningful assumptions about the exams we do have with \n",
        "entries but with NA scores. According to our data source exams that students did not take should not be recorded at all, and so exams\n",
        "with NA scores should not exist. It is likely that for many of these missing exams students who passed did in fact have scores in them\n",
        "that we are just missing. \n",
        "\n",
        "Due to this we will drop all entries for students with NA scores from merged assessments, and work with this dataframe for later analysis.\n",
        "Also, as previously stated, will analyze exam scores seperately from overall student results. \n",
        "\n",
        "For now we will continue to look at the original dataframe.\n",
        "''')"
      ],
      "id": "9203914d-a145-43a6-a3b1-e05d4540bb8c",
      "execution_count": null,
      "outputs": []
    },
    {
      "cell_type": "code",
      "metadata": {
        "id": "d9d9caec-4721-479c-91e9-57367cb2fa9e"
      },
      "source": [
        "# drop na values from merged_assessments\n",
        "merged_assessments = merged_assessments.dropna()"
      ],
      "id": "d9d9caec-4721-479c-91e9-57367cb2fa9e",
      "execution_count": null,
      "outputs": []
    },
    {
      "cell_type": "markdown",
      "metadata": {
        "id": "d538b58f-bdb1-431c-b284-6649d72a5ad9"
      },
      "source": [
        "**Duplicate Values**"
      ],
      "id": "d538b58f-bdb1-431c-b284-6649d72a5ad9"
    },
    {
      "cell_type": "code",
      "metadata": {
        "tags": [],
        "id": "c1b0cbeb-741f-4277-b30d-f9a6f6ca0b0a"
      },
      "source": [
        "# gives a dataframe of duplicate values if any\n",
        "get_dupes(student_assessment)"
      ],
      "id": "c1b0cbeb-741f-4277-b30d-f9a6f6ca0b0a",
      "execution_count": null,
      "outputs": []
    },
    {
      "cell_type": "markdown",
      "metadata": {
        "id": "d9e1688b-ba8b-4feb-aab9-4734d13ce9fe"
      },
      "source": [
        "**Unique Value Counts**"
      ],
      "id": "d9e1688b-ba8b-4feb-aab9-4734d13ce9fe"
    },
    {
      "cell_type": "code",
      "metadata": {
        "tags": [],
        "id": "fdb4a1ee-49b4-4772-ad93-ada6aee9f0d7"
      },
      "source": [
        "# gives a dataframe of counts of unique values per column\n",
        "count_unique(student_assessment)"
      ],
      "id": "fdb4a1ee-49b4-4772-ad93-ada6aee9f0d7",
      "execution_count": null,
      "outputs": []
    },
    {
      "cell_type": "code",
      "metadata": {
        "tags": [
          "remove_input"
        ],
        "id": "ca239759-9195-40c7-8c26-dd8548fce76a"
      },
      "source": [
        "# get the number of unique assessments in student assessment\n",
        "assmnt_count = student_assessment['id_assessment'].nunique()\n",
        "\n",
        "# get the number of unique assessments in assessments\n",
        "total_assmnts = assessments['id_assessment'].nunique()\n",
        "\n",
        "md(f'''\n",
        "* There are {assmnt_count} unique assessments that students took.\n",
        "* This is less than the {total_assmnts} assessments we observed in the assessments dataframe meaning that there are some assessments on record that students did not take.\n",
        "* There are less unique students in student_assessments than student_info meaning there are students whom we have no test information for.\n",
        "''')"
      ],
      "id": "ca239759-9195-40c7-8c26-dd8548fce76a",
      "execution_count": null,
      "outputs": []
    },
    {
      "cell_type": "markdown",
      "metadata": {
        "id": "1908c737-7d0e-4caa-bc69-49d56d4050ec"
      },
      "source": [
        "**Students with no assessment information**\n",
        "\n",
        "Here we will merge the student assessment and student info dataframes to find students with no test information"
      ],
      "id": "1908c737-7d0e-4caa-bc69-49d56d4050ec"
    },
    {
      "cell_type": "code",
      "metadata": {
        "id": "ff597007-2b65-46dd-a133-f82c1ab14bb1"
      },
      "source": [
        "# merge student info and student assessment dataframes\n",
        "# creates a column _merge which tells you if the id_assessment was found in one or both dataframes\n",
        "merged_si_sa = student_assessment.merge(stud_info, how='outer', indicator=True)\n",
        "\n",
        "# find students that are only located in right (stud_info) dataframe and not in student assessments\n",
        "no_assessments = merged_si_sa.loc[merged_si_sa['_merge'] == 'right_only']\n",
        "no_assessments"
      ],
      "id": "ff597007-2b65-46dd-a133-f82c1ab14bb1",
      "execution_count": null,
      "outputs": []
    },
    {
      "cell_type": "code",
      "metadata": {
        "tags": [
          "remove_input"
        ],
        "id": "8f46e1dd-2bd5-4070-bd6e-98e5f3f9383d"
      },
      "source": [
        "total_no_assm = '{:,}'.format(len(no_assessments))\n",
        "\n",
        "md(f'''\n",
        "Our new `_merge` column tells us if the data maps perfectly, or if it is only found on the right or left side, the right side being the student info \n",
        "dataframe and the left side being the student_assessments dataframe.\n",
        "\n",
        "Above we see {total_no_assm} students have no exam information. Let's take a look at the results of these students.\n",
        "''')"
      ],
      "id": "8f46e1dd-2bd5-4070-bd6e-98e5f3f9383d",
      "execution_count": null,
      "outputs": []
    },
    {
      "cell_type": "code",
      "metadata": {
        "id": "bee4ef69-e4e2-4f1b-826f-09ed4788b0f9"
      },
      "source": [
        "# get all result values for students with no exams\n",
        "dataframe(no_assessments['result'].value_counts())"
      ],
      "id": "bee4ef69-e4e2-4f1b-826f-09ed4788b0f9",
      "execution_count": null,
      "outputs": []
    },
    {
      "cell_type": "markdown",
      "metadata": {
        "id": "cb35ac11-d383-4173-b527-8d38052417c0"
      },
      "source": [
        "Results of withdrawn are to be expected, and it could be that most of the students who failed did not participate at all but did not formally withdraw and thus have no test scores. The two passing students assessment test information though are simply not within our dataframes. Let's look at these entries."
      ],
      "id": "cb35ac11-d383-4173-b527-8d38052417c0"
    },
    {
      "cell_type": "code",
      "metadata": {
        "id": "1debd049-c0b9-4e9c-8a3b-c1f9dfb3f8f3"
      },
      "source": [
        "# find students with no assessments and passing result\n",
        "no_assessments[no_assessments['result'] == 'Pass']"
      ],
      "id": "1debd049-c0b9-4e9c-8a3b-c1f9dfb3f8f3",
      "execution_count": null,
      "outputs": []
    },
    {
      "cell_type": "markdown",
      "metadata": {
        "id": "c446f9be-94af-4887-a891-0a352f2a279d"
      },
      "source": [
        "The only thing of note in these entries are that they are missing exam scores, and will not be useful to our scores analysis later on."
      ],
      "id": "c446f9be-94af-4887-a891-0a352f2a279d"
    },
    {
      "cell_type": "markdown",
      "metadata": {
        "id": "99ec9091-15c7-4667-8ef8-3bfaf5d42b9f"
      },
      "source": [
        "**Numerical Values**"
      ],
      "id": "99ec9091-15c7-4667-8ef8-3bfaf5d42b9f"
    },
    {
      "cell_type": "code",
      "metadata": {
        "tags": [],
        "id": "b84f5911-8fb8-4fb2-a21f-8c7099f1401e"
      },
      "source": [
        "# show statistical information for numerical values\n",
        "student_assessment.describe().round(1)"
      ],
      "id": "b84f5911-8fb8-4fb2-a21f-8c7099f1401e",
      "execution_count": null,
      "outputs": []
    },
    {
      "cell_type": "code",
      "metadata": {
        "tags": [
          "remove_input"
        ],
        "id": "a1b91424-0ec2-45c2-aef5-d935bcda4114"
      },
      "source": [
        "# get average score of students\n",
        "mean_score = student_assessment['score'].mean().round(1)\n",
        "\n",
        "# get the largest date\n",
        "date_max = student_assessment['date_submitted'].max()\n",
        "\n",
        "# get the smallest date\n",
        "date_min = student_assessment['date_submitted'].min()\n",
        "\n",
        "# get the longest course length\n",
        "max_course_length = courses['course_length'].max()\n",
        "\n",
        "md(f'''\n",
        "* The average test score is {mean_score} so most students are passing handily if 40 is considered a failing score.\n",
        "* Scores are between 0 and 100 as would be expected.\n",
        "* The minimum date_submitted is {date_min} so it is possible the students had access to the first exam early, or that there is errors in the data.\n",
        "    * They don't fall too far outside the range, so we will keep those as they are\n",
        "* The maximum date submitted is {date_max}, which is around 2.5 times longer than any course went on for.\n",
        "\n",
        "Let's check for records that are over the maximum course length of {max_course_length} days.\n",
        "''')"
      ],
      "id": "a1b91424-0ec2-45c2-aef5-d935bcda4114",
      "execution_count": null,
      "outputs": []
    },
    {
      "cell_type": "code",
      "metadata": {
        "tags": [],
        "id": "a838fb7d-b81d-4ead-8bad-32d3f5a15bda"
      },
      "source": [
        "# find students whose exams are submitted after the latest possible course_length\n",
        "late_tests = student_assessment.loc[student_assessment['date_submitted'] > 269].sort_values(by='date_submitted').reset_index(drop=True)\n",
        "late_tests"
      ],
      "id": "a838fb7d-b81d-4ead-8bad-32d3f5a15bda",
      "execution_count": null,
      "outputs": []
    },
    {
      "cell_type": "code",
      "metadata": {
        "tags": [
          "remove_input"
        ],
        "id": "4dfba6f2-4224-43c8-9cab-6b61dc5d00dc"
      },
      "source": [
        "# get the length of the dataframe of students with late test\n",
        "late_test_count = len(late_tests['date_submitted'])\n",
        "\n",
        "# find the lowest date submitted of the late tests\n",
        "late_test_min = late_tests['date_submitted'].min()\n",
        "\n",
        "# find the highest  date submitted of the late tests\n",
        "late_test_max = late_tests['date_submitted'].max()\n",
        "\n",
        "md(f'''\n",
        "* There are {late_test_count} records of students handing in their exams well after the end of the module.\n",
        "* These dates range from {late_test_min} days after the course began and {late_test_max} days after the course began.\n",
        "* The data source makes no mention of these, and they should not affect our analysis, so though strange, we will leave these records\n",
        "''')"
      ],
      "id": "4dfba6f2-4224-43c8-9cab-6b61dc5d00dc",
      "execution_count": null,
      "outputs": []
    },
    {
      "cell_type": "markdown",
      "metadata": {
        "id": "f7eb4c1a-ede2-4d96-8441-0e12bbe076b9"
      },
      "source": [
        "### VLE\n",
        "---\n",
        "\n",
        "The VLE dataframe contains information about materials available on the Virtual Learning Environment."
      ],
      "id": "f7eb4c1a-ede2-4d96-8441-0e12bbe076b9"
    },
    {
      "cell_type": "code",
      "metadata": {
        "tags": [],
        "id": "aaef8ea4-1318-4fdf-9ee6-ebc7db8c67e1"
      },
      "source": [
        "# show first 5 of vle dataframe\n",
        "vle.head()"
      ],
      "id": "aaef8ea4-1318-4fdf-9ee6-ebc7db8c67e1",
      "execution_count": null,
      "outputs": []
    },
    {
      "cell_type": "markdown",
      "metadata": {
        "id": "b1530889-d0de-44b8-b45d-b023ce5f36d5"
      },
      "source": [
        "---\n",
        "\n",
        "#### VLE Contents\n",
        "\n",
        "* **id_site**: The site ID is the unique identifier for the online resource.\n",
        "* **code_module**: The code module is the module the resource is associated with.\n",
        "* **code_presentation**: The code presentation represents the time the module was held at.\n",
        "* **activity_type**: The activity type is the type of online material.\n",
        "* **week_from**: The week from is the week the material was intended to be used from.\n",
        "    - week_from will not be used in our analysis due to it being irrelevant information and will be dropped.\n",
        "* **week_to**: The week to is the week the material was intended to be used until.\n",
        "    - week_to will not be used in our analysis due to it being irrelevant information and will be dropped."
      ],
      "id": "b1530889-d0de-44b8-b45d-b023ce5f36d5"
    },
    {
      "cell_type": "markdown",
      "metadata": {
        "tags": [],
        "id": "849f9ecd-0a3e-4dcc-bb27-90bddf28fa24"
      },
      "source": [
        "* column names will be changed to be less verbose\n",
        "    * code_module to module\n",
        "    * code_presentation to presentation"
      ],
      "id": "849f9ecd-0a3e-4dcc-bb27-90bddf28fa24"
    },
    {
      "cell_type": "code",
      "metadata": {
        "tags": [],
        "id": "c329992e-a900-4bf3-93dd-377abaf9930f"
      },
      "source": [
        "# make a dictionary of columns mapping to their new name\n",
        "vle_rename = {'code_module':'module', 'code_presentation':'presentation'}\n",
        "\n",
        "# rename columns in assessments based on dictionary\n",
        "vle = vle.rename(columns=vle_rename)\n",
        "\n",
        "# dropping week_to and week_from from VLE dataframe\n",
        "vle = vle.drop(columns=['week_from', 'week_to'])"
      ],
      "id": "c329992e-a900-4bf3-93dd-377abaf9930f",
      "execution_count": null,
      "outputs": []
    },
    {
      "cell_type": "markdown",
      "metadata": {
        "id": "cd2e8536-8979-4c84-bd99-73ee63718ce1"
      },
      "source": [
        "---\n",
        "\n",
        "#### VLE Information"
      ],
      "id": "cd2e8536-8979-4c84-bd99-73ee63718ce1"
    },
    {
      "cell_type": "markdown",
      "metadata": {
        "id": "efbb668c-3cfb-40b2-a634-9eb1cfbf9001"
      },
      "source": [
        "**Size**"
      ],
      "id": "efbb668c-3cfb-40b2-a634-9eb1cfbf9001"
    },
    {
      "cell_type": "code",
      "metadata": {
        "tags": [],
        "id": "d0d00bf9-e7de-4d66-bf84-bd2cbeac99e7"
      },
      "source": [
        "# return a dataframe of column and row count\n",
        "get_size(vle)"
      ],
      "id": "d0d00bf9-e7de-4d66-bf84-bd2cbeac99e7",
      "execution_count": null,
      "outputs": []
    },
    {
      "cell_type": "code",
      "metadata": {
        "tags": [
          "remove_input"
        ],
        "id": "93de0358-cb1e-4414-a509-228e7b4ac9a6"
      },
      "source": [
        "# store the size of vle's columns\n",
        "vle_cols = len(vle.columns)\n",
        "\n",
        "# store the size of vle's rows\n",
        "vle_rows = len(vle)\n",
        "\n",
        "md(f'''\n",
        "VLE has {vle_cols} features and {\"{:,}\".format(vle_rows)} rows which represent the online resources we have data for.\n",
        "''')"
      ],
      "id": "93de0358-cb1e-4414-a509-228e7b4ac9a6",
      "execution_count": null,
      "outputs": []
    },
    {
      "cell_type": "markdown",
      "metadata": {
        "id": "ae3dd9dc-313c-4a61-a557-acd282281156"
      },
      "source": [
        "**Data Types**"
      ],
      "id": "ae3dd9dc-313c-4a61-a557-acd282281156"
    },
    {
      "cell_type": "code",
      "metadata": {
        "tags": [],
        "id": "592b3721-edff-4311-80fd-400df081a766"
      },
      "source": [
        "# return a dataframe of vle's columns' data types\n",
        "get_dtypes(vle)"
      ],
      "id": "592b3721-edff-4311-80fd-400df081a766",
      "execution_count": null,
      "outputs": []
    },
    {
      "cell_type": "markdown",
      "metadata": {
        "id": "a85d9293-cb12-4ca3-8102-07042ccac67a"
      },
      "source": [
        "* `id_site` is categorical and will need to be changed into a `string`\n",
        "* `object` datatypes will again be turned into strings"
      ],
      "id": "a85d9293-cb12-4ca3-8102-07042ccac67a"
    },
    {
      "cell_type": "code",
      "metadata": {
        "tags": [],
        "id": "c1e9e505-0edc-4013-bfd6-ae62da65b2af"
      },
      "source": [
        "# change id_site to string type\n",
        "vle['id_site'] = vle['id_site'].astype(str)\n",
        "\n",
        "# convert all other types to ideal typings for pandas\n",
        "vle = vle.convert_dtypes()\n",
        "\n",
        "# show new datatypes dataframe\n",
        "get_dtypes(vle)"
      ],
      "id": "c1e9e505-0edc-4013-bfd6-ae62da65b2af",
      "execution_count": null,
      "outputs": []
    },
    {
      "cell_type": "markdown",
      "metadata": {
        "id": "05a04ff8-c49d-4060-bc08-fa31ea6867a4"
      },
      "source": [
        "**Null Values**"
      ],
      "id": "05a04ff8-c49d-4060-bc08-fa31ea6867a4"
    },
    {
      "cell_type": "code",
      "metadata": {
        "tags": [],
        "id": "9566cdc2-8a17-4a74-a156-65353aa49044"
      },
      "source": [
        "# return a dataframe of null values if any\n",
        "null_vals(vle)"
      ],
      "id": "9566cdc2-8a17-4a74-a156-65353aa49044",
      "execution_count": null,
      "outputs": []
    },
    {
      "cell_type": "markdown",
      "metadata": {
        "id": "a711a637-9f7a-48be-8659-840ed9324c56"
      },
      "source": [
        "We have no null values in VLE"
      ],
      "id": "a711a637-9f7a-48be-8659-840ed9324c56"
    },
    {
      "cell_type": "markdown",
      "metadata": {
        "id": "aade22cf-0c29-4585-ba8e-b08195cc72bb"
      },
      "source": [
        "**Duplicate Values**"
      ],
      "id": "aade22cf-0c29-4585-ba8e-b08195cc72bb"
    },
    {
      "cell_type": "code",
      "metadata": {
        "tags": [],
        "id": "21724fae-ba6f-486b-ab5b-7190c306dc86"
      },
      "source": [
        "# return a dataframe of duplicate rows if any\n",
        "get_dupes(vle)"
      ],
      "id": "21724fae-ba6f-486b-ab5b-7190c306dc86",
      "execution_count": null,
      "outputs": []
    },
    {
      "cell_type": "markdown",
      "metadata": {
        "id": "ac903663-d614-4890-86cd-d49c7adcabc1"
      },
      "source": [
        "**Unique Value Counts**"
      ],
      "id": "ac903663-d614-4890-86cd-d49c7adcabc1"
    },
    {
      "cell_type": "code",
      "metadata": {
        "tags": [],
        "id": "5a9296c1-6e8f-455e-8eff-4909bb5f6ba8"
      },
      "source": [
        "# return a dataframe of counts of unique values per column\n",
        "count_unique(vle)"
      ],
      "id": "5a9296c1-6e8f-455e-8eff-4909bb5f6ba8",
      "execution_count": null,
      "outputs": []
    },
    {
      "cell_type": "markdown",
      "metadata": {
        "id": "265aefd6-8088-4fd5-908a-8dc3a0ebcb65"
      },
      "source": [
        "**Unique Categorical Values**"
      ],
      "id": "265aefd6-8088-4fd5-908a-8dc3a0ebcb65"
    },
    {
      "cell_type": "code",
      "metadata": {
        "tags": [],
        "id": "8c9c2704-88dc-44d9-8040-386ddf34f0f9"
      },
      "source": [
        "# return a dataframe of unique categorical variables' values\n",
        "unique_vals(vle)"
      ],
      "id": "8c9c2704-88dc-44d9-8040-386ddf34f0f9",
      "execution_count": null,
      "outputs": []
    },
    {
      "cell_type": "code",
      "metadata": {
        "tags": [],
        "id": "9d861a1d-8fbf-4e3f-98cd-458172fc78e1"
      },
      "source": [
        "# get the number of unique activity types\n",
        "activity_count = vle['activity_type'].nunique()\n",
        "\n",
        "# get the number of activites with different ids\n",
        "id_site_count = vle['id_site'].nunique()\n",
        "md(f'''\n",
        "We have {activity_count} different types activities students could have participated in and {\"{:,}\".format(id_site_count)} unique activities within these types\n",
        "''')"
      ],
      "id": "9d861a1d-8fbf-4e3f-98cd-458172fc78e1",
      "execution_count": null,
      "outputs": []
    },
    {
      "cell_type": "markdown",
      "metadata": {
        "id": "d36c56a0-ea32-4c70-8bb2-952cd05d0845"
      },
      "source": [
        "### Student VLE\n",
        "---\n",
        "\n",
        "The Student VLE Dataframe contains information about student interactions with the online resources in the Virtual Learning Environment"
      ],
      "id": "d36c56a0-ea32-4c70-8bb2-952cd05d0845"
    },
    {
      "cell_type": "code",
      "metadata": {
        "tags": [],
        "id": "3a057166-8ef3-4883-b5fc-b48ffc2f9eea"
      },
      "source": [
        "student_vle.head()"
      ],
      "id": "3a057166-8ef3-4883-b5fc-b48ffc2f9eea",
      "execution_count": null,
      "outputs": []
    },
    {
      "cell_type": "markdown",
      "metadata": {
        "id": "d3490f75-3aef-40af-b064-5567fb439618"
      },
      "source": [
        "---\n",
        "\n",
        "#### Student VLE Contents\n",
        "\n",
        "* **code_module**: The code module is the module the resource and student are associated with.\n",
        "* **code_presentation**: The code presentation represents the time the module was held at.\n",
        "* **id_site**: The site ID is the unique identifier for the online resource with which the student engaged.\n",
        "* **date**: The date represents the date that the student engaged with the material relevant to the start date of the module.\n",
        "* **sum_click**: The sum click represents the number of clicks the student made on that day."
      ],
      "id": "d3490f75-3aef-40af-b064-5567fb439618"
    },
    {
      "cell_type": "markdown",
      "metadata": {
        "id": "ba9521ec-c34f-4bed-99ee-23245f0a6751"
      },
      "source": [
        "* column names will be changed to be less verbose\n",
        "    * code_module to module\n",
        "    * code_presentation to presentation"
      ],
      "id": "ba9521ec-c34f-4bed-99ee-23245f0a6751"
    },
    {
      "cell_type": "code",
      "metadata": {
        "tags": [],
        "id": "14224ef6-4c6d-4b25-bb93-c003100742fb"
      },
      "source": [
        "# make a dictionary of columns mapping to their new name\n",
        "stud_vle_rename = {'code_module':'module', 'code_presentation':'presentation'}\n",
        "\n",
        "# rename columns in assessments based on dictionary\n",
        "student_vle = student_vle.rename(columns=stud_vle_rename)"
      ],
      "id": "14224ef6-4c6d-4b25-bb93-c003100742fb",
      "execution_count": null,
      "outputs": []
    },
    {
      "cell_type": "markdown",
      "metadata": {
        "id": "5e092f77-bd83-4829-b000-8ad16dfb7bee"
      },
      "source": [
        "---\n",
        "\n",
        "#### Student VLE Information"
      ],
      "id": "5e092f77-bd83-4829-b000-8ad16dfb7bee"
    },
    {
      "cell_type": "markdown",
      "metadata": {
        "id": "ee46fec1-4494-4f24-923b-8bdd273c377d"
      },
      "source": [
        "**Size**"
      ],
      "id": "ee46fec1-4494-4f24-923b-8bdd273c377d"
    },
    {
      "cell_type": "code",
      "metadata": {
        "tags": [],
        "id": "683339a2-03a3-4c77-893b-2d8202500928"
      },
      "source": [
        "# return a dataframe of column and row count\n",
        "get_size(student_vle)"
      ],
      "id": "683339a2-03a3-4c77-893b-2d8202500928",
      "execution_count": null,
      "outputs": []
    },
    {
      "cell_type": "code",
      "metadata": {
        "tags": [
          "remove_input"
        ],
        "id": "aad090cd-6e5e-47d7-92d9-2ed2e7a16a5d"
      },
      "source": [
        "# store the size of student_vle's columns\n",
        "stud_vle_cols = len(student_vle.columns)\n",
        "\n",
        "# store the size of student_vle's rows\n",
        "stud_vle_rows = len(student_vle)\n",
        "\n",
        "md(f'''\n",
        "Student VLE has {stud_vle_cols} features and {\"{:,}\".format(stud_vle_rows)} rows which represent the student resource interactions we have data for.\n",
        "''')"
      ],
      "id": "aad090cd-6e5e-47d7-92d9-2ed2e7a16a5d",
      "execution_count": null,
      "outputs": []
    },
    {
      "cell_type": "markdown",
      "metadata": {
        "id": "6452f1a4-f4f2-49ee-b833-247a8deca37f"
      },
      "source": [
        "**Data Types**"
      ],
      "id": "6452f1a4-f4f2-49ee-b833-247a8deca37f"
    },
    {
      "cell_type": "code",
      "metadata": {
        "tags": [],
        "id": "cc9d8497-a901-48fd-9cc1-d566351d9817"
      },
      "source": [
        "# get data types of student_vle\n",
        "get_dtypes(student_vle)"
      ],
      "id": "cc9d8497-a901-48fd-9cc1-d566351d9817",
      "execution_count": null,
      "outputs": []
    },
    {
      "cell_type": "markdown",
      "metadata": {
        "id": "f6608da4-baec-40e9-88f5-3c7a8e256785"
      },
      "source": [
        "id_student and id_site are categorical and must be converted to strings."
      ],
      "id": "f6608da4-baec-40e9-88f5-3c7a8e256785"
    },
    {
      "cell_type": "code",
      "metadata": {
        "tags": [],
        "id": "638101e5-e8ab-4e2b-980f-ed16f495033f"
      },
      "source": [
        "# convert id_site and id_student to strings\n",
        "student_vle = student_vle.astype({'id_site':str, 'id_student':str})\n",
        "\n",
        "# convert all datatypes to those that can work with pd NA\n",
        "student_vle = student_vle.convert_dtypes()\n",
        "\n",
        "# get the data types again to make sure it works\n",
        "get_dtypes(student_vle)"
      ],
      "id": "638101e5-e8ab-4e2b-980f-ed16f495033f",
      "execution_count": null,
      "outputs": []
    },
    {
      "cell_type": "markdown",
      "metadata": {
        "id": "685e8e69-f96c-4012-8e6e-2f94b3ce72f2"
      },
      "source": [
        "**Null Values**"
      ],
      "id": "685e8e69-f96c-4012-8e6e-2f94b3ce72f2"
    },
    {
      "cell_type": "code",
      "metadata": {
        "tags": [],
        "id": "f0d1a693-ab2d-4320-a357-9edb64f74079"
      },
      "source": [
        "# get null values in dataframe\n",
        "null_vals(student_vle)"
      ],
      "id": "f0d1a693-ab2d-4320-a357-9edb64f74079",
      "execution_count": null,
      "outputs": []
    },
    {
      "cell_type": "markdown",
      "metadata": {
        "id": "4f935f93-c40e-4b34-b25c-7c4682947161"
      },
      "source": [
        "There are no null values in student_vle"
      ],
      "id": "4f935f93-c40e-4b34-b25c-7c4682947161"
    },
    {
      "cell_type": "markdown",
      "metadata": {
        "id": "1ef2db4a-0787-427e-8958-94e39e2183f3"
      },
      "source": [
        "**Duplicate Values**"
      ],
      "id": "1ef2db4a-0787-427e-8958-94e39e2183f3"
    },
    {
      "cell_type": "code",
      "metadata": {
        "tags": [],
        "id": "ae355e85-c598-49b1-9119-c231ca40f5e7"
      },
      "source": [
        "# find duplicates in dataframe\n",
        "duplicates = get_dupes(student_vle)\n",
        "duplicates.head()"
      ],
      "id": "ae355e85-c598-49b1-9119-c231ca40f5e7",
      "execution_count": null,
      "outputs": []
    },
    {
      "cell_type": "code",
      "metadata": {
        "tags": [
          "remove_input"
        ],
        "id": "b61253fa-1b44-4381-8edc-288679edcc21"
      },
      "source": [
        "md(f'''\n",
        "There are {'{:,}'.format(len(duplicates))} duplicated rows which are merely the same students on the same day, interacting with the same material in the same way, which is to be expected.\n",
        "''')"
      ],
      "id": "b61253fa-1b44-4381-8edc-288679edcc21",
      "execution_count": null,
      "outputs": []
    },
    {
      "cell_type": "markdown",
      "metadata": {
        "id": "72e52237-251a-46d2-b352-bb38e4cc6196"
      },
      "source": [
        "**Unique Value Counts**"
      ],
      "id": "72e52237-251a-46d2-b352-bb38e4cc6196"
    },
    {
      "cell_type": "code",
      "metadata": {
        "tags": [],
        "id": "2b8d254e-645a-475c-ac1d-c69942a149db"
      },
      "source": [
        "# get number of unique items in dataframe per feature\n",
        "count_unique(student_vle)"
      ],
      "id": "2b8d254e-645a-475c-ac1d-c69942a149db",
      "execution_count": null,
      "outputs": []
    },
    {
      "cell_type": "code",
      "metadata": {
        "tags": [
          "remove_input"
        ],
        "id": "9a5ced8c-f28c-47ad-a691-b3a66216142c"
      },
      "source": [
        "# get a count of unique students in vle\n",
        "unique_students = student_vle['id_student'].nunique()\n",
        "\n",
        "# get a count of unique students in student info\n",
        "si_unique_students = student_info['id_student'].nunique()\n",
        "\n",
        "md(f'''\n",
        "There are {\"{:,}\".format(unique_students)} in the student_vle out of the {\"{:,}\".format(si_unique_students)} \n",
        "students we have in student info. So {\"{:,}\".format(si_unique_students - unique_students)} students from student info do not have online interaction data.\n",
        "''')"
      ],
      "id": "9a5ced8c-f28c-47ad-a691-b3a66216142c",
      "execution_count": null,
      "outputs": []
    },
    {
      "cell_type": "markdown",
      "metadata": {
        "id": "5d40926b-6cef-45ce-aa5b-290bd0a7bf01"
      },
      "source": [
        "**Numerical Values**"
      ],
      "id": "5d40926b-6cef-45ce-aa5b-290bd0a7bf01"
    },
    {
      "cell_type": "code",
      "metadata": {
        "tags": [],
        "id": "6e165692-31af-4572-b00a-4ffb547d20b0"
      },
      "source": [
        "# get statistical values for dataframe\n",
        "student_vle.describe().round(1)"
      ],
      "id": "6e165692-31af-4572-b00a-4ffb547d20b0",
      "execution_count": null,
      "outputs": []
    },
    {
      "cell_type": "code",
      "metadata": {
        "tags": [],
        "id": "fa155620-17db-4b06-a4a8-7f3a8946306b"
      },
      "source": [
        "# get the average number of clicks in student vle\n",
        "avg_click_sum = round(student_vle['sum_click'].mean(), 1)\n",
        "\n",
        "# get the highest number of clicks in student vle\n",
        "max_click_sum = '{:,}'.format(student_vle['sum_click'].max())\n",
        "\n",
        "md(f'''\n",
        "The average number of clicks per session is  only {avg_click_sum} which makes the maximum number of clicks {max_click_sum} seem really high.\n",
        "Let's take a look at some of the higher click entries\n",
        "''')"
      ],
      "id": "fa155620-17db-4b06-a4a8-7f3a8946306b",
      "execution_count": null,
      "outputs": []
    },
    {
      "cell_type": "code",
      "metadata": {
        "tags": [],
        "id": "4f809bab-27ce-4e80-9962-5639f10b4bdc"
      },
      "source": [
        "# get a dataframe of students whose clicks summed over 1000\n",
        "student_vle[student_vle['sum_click'] > 1000].sort_values('sum_click')"
      ],
      "id": "4f809bab-27ce-4e80-9962-5639f10b4bdc",
      "execution_count": null,
      "outputs": []
    },
    {
      "cell_type": "markdown",
      "metadata": {
        "id": "a8e78ff6-c1df-4aeb-8c0d-263b5bb4dd4a"
      },
      "source": [
        "Above are all of the entries with over 1000 clicks. These seem to be far outliers compared to the average."
      ],
      "id": "a8e78ff6-c1df-4aeb-8c0d-263b5bb4dd4a"
    },
    {
      "cell_type": "markdown",
      "metadata": {
        "id": "77d25c26-e8b8-4c7d-8443-1527bb742ed2"
      },
      "source": [
        "**Merged VLE**\n",
        "\n",
        "We will now combine the student_vle and vle dataframes to have the student data mapped to the resource data"
      ],
      "id": "77d25c26-e8b8-4c7d-8443-1527bb742ed2"
    },
    {
      "cell_type": "code",
      "metadata": {
        "tags": [],
        "id": "8297c56b-2122-4e11-a2bc-f26d467d81a3"
      },
      "source": [
        "# merging vle & student vle with a full outer join on common columns\n",
        "merged_vle = student_vle.merge(vle, how='outer', on=['id_site', 'module', 'presentation'], indicator=True)\n",
        "merged_vle.head()"
      ],
      "id": "8297c56b-2122-4e11-a2bc-f26d467d81a3",
      "execution_count": null,
      "outputs": []
    },
    {
      "cell_type": "markdown",
      "metadata": {
        "id": "2ba06958-88b1-420e-b2f1-503b3347beb0"
      },
      "source": [
        "The added merge column tells us if the data maps perfectly to both dataframes, or if it is only found on the right or left side, the right side in this case being the VLE dataframe and the left side being the student_VLE dataframe"
      ],
      "id": "2ba06958-88b1-420e-b2f1-503b3347beb0"
    },
    {
      "cell_type": "code",
      "metadata": {
        "tags": [],
        "id": "a4bb2727-89f7-4be9-97e7-2cc98ef8f429"
      },
      "source": [
        "# makes a dataframe containing only entries where _merge value is not both.\n",
        "vle_only = merged_vle.loc[merged_vle['_merge'] != 'both']\n",
        "vle_only.head()"
      ],
      "id": "a4bb2727-89f7-4be9-97e7-2cc98ef8f429",
      "execution_count": null,
      "outputs": []
    },
    {
      "cell_type": "code",
      "metadata": {
        "tags": [
          "remove_input"
        ],
        "id": "c1991ae6-f84a-4e53-94be-73c50fcead00"
      },
      "source": [
        "# get length of dataframe where there is no student info for click data\n",
        "unvisited_sites_count = len(vle_only)\n",
        "\n",
        "md(f'''\n",
        "In this case the data either maps perfectly to both or is only found on the right hand side, or the VLE dataframe. These {unvisited_sites_count} \n",
        "entries represent materials which we have no student activity associated with which can be dropped along with the _merge column \n",
        "which will have no more interesting information.\n",
        "''')"
      ],
      "id": "c1991ae6-f84a-4e53-94be-73c50fcead00",
      "execution_count": null,
      "outputs": []
    },
    {
      "cell_type": "code",
      "metadata": {
        "tags": [],
        "id": "7283226e-4c4a-4082-97ce-5acecf84eb80"
      },
      "source": [
        "# drop rows which have NaN values for id_student\n",
        "merged_vle = merged_vle.dropna(subset=['id_student'])\n",
        "\n",
        "# drop _merge column\n",
        "merged_vle = merged_vle.drop(columns=['_merge'])\n",
        "\n",
        "# reset index\n",
        "merged_vle.reset_index(drop=True).head()"
      ],
      "id": "7283226e-4c4a-4082-97ce-5acecf84eb80",
      "execution_count": null,
      "outputs": []
    },
    {
      "cell_type": "markdown",
      "metadata": {
        "id": "508a249d-bc3d-4145-958f-4462d0f0aca3"
      },
      "source": [
        "**Aggregating Clicks**"
      ],
      "id": "508a249d-bc3d-4145-958f-4462d0f0aca3"
    },
    {
      "cell_type": "markdown",
      "metadata": {
        "jupyter": {
          "outputs_hidden": true
        },
        "tags": [],
        "id": "e35eb417-67a8-404d-a050-fac21cf6abf9"
      },
      "source": [
        "* It would be interesting for the student info and assessments dataframes to have the total clicks and average number of clicks per day\n",
        "* We are going to remove activity_type for now. If sum_clicks overall ends up being a good predictor of how a student does, we will add it back.\n",
        "* We will remove id_site for now since it does not add any information to the resource it maps to.\n",
        "* We will remove date since we will just be taking the sum of clicks overall, not per day\n",
        "* We will add a column avg_click representing the students average clicks per day."
      ],
      "id": "e35eb417-67a8-404d-a050-fac21cf6abf9"
    },
    {
      "cell_type": "code",
      "metadata": {
        "tags": [],
        "id": "ee3fc163-424e-4245-ac42-dd0c2ccf180d"
      },
      "source": [
        "# removing activity_type and id_site columns\n",
        "agg_clicks = merged_vle.drop(columns=['activity_type', 'id_site'])"
      ],
      "id": "ee3fc163-424e-4245-ac42-dd0c2ccf180d",
      "execution_count": null,
      "outputs": []
    },
    {
      "cell_type": "markdown",
      "metadata": {
        "id": "98ccea81-01ac-465b-adcb-b2274e6222df"
      },
      "source": [
        "**VLE with clicks per student per module aggregated**"
      ],
      "id": "98ccea81-01ac-465b-adcb-b2274e6222df"
    },
    {
      "cell_type": "code",
      "metadata": {
        "id": "28612932-7f03-4215-8fcc-7179658c5476"
      },
      "source": [
        "# make a new column avg_click taking the values from sum_click\n",
        "agg_clicks['avg_click'] = agg_clicks['sum_click']\n",
        "\n",
        "# dictionary to pass to aggregate attribute\n",
        "aggregates = {'sum_click':'sum', 'module':'first', 'presentation':'first', 'avg_click':'mean'}\n",
        "\n",
        "# create agg_clicks which has the sum and average clicks per module\n",
        "agg_clicks = agg_clicks.groupby(['id_student']).aggregate(aggregates).reset_index()\n",
        "agg_clicks['avg_click'] = agg_clicks['avg_click'].round(2)\n",
        "\n",
        "# change id_student to int and then object to remove the .0\n",
        "agg_clicks = agg_clicks.astype({'id_student': str})\n",
        "\n",
        "# reorder dataframe\n",
        "agg_clicks = agg_clicks[['module', 'presentation', 'id_student', 'sum_click', 'avg_click']]"
      ],
      "id": "28612932-7f03-4215-8fcc-7179658c5476",
      "execution_count": null,
      "outputs": []
    },
    {
      "cell_type": "code",
      "metadata": {
        "id": "9d3bd6c8-e1d8-439d-83d7-a2b8f95531a1"
      },
      "source": [
        "agg_clicks.head()"
      ],
      "id": "9d3bd6c8-e1d8-439d-83d7-a2b8f95531a1",
      "execution_count": null,
      "outputs": []
    },
    {
      "cell_type": "markdown",
      "metadata": {
        "id": "3a47b5eb-0a9a-41dc-81d4-581c60e114fc"
      },
      "source": [
        "Above, we now have a dataframe of students and their sum and average clicks"
      ],
      "id": "3a47b5eb-0a9a-41dc-81d4-581c60e114fc"
    },
    {
      "cell_type": "markdown",
      "metadata": {
        "id": "ac5d00f9-59ae-4379-ab82-f1c72630e073"
      },
      "source": [
        "**Merge with Student Info Dataframe**"
      ],
      "id": "ac5d00f9-59ae-4379-ab82-f1c72630e073"
    },
    {
      "cell_type": "markdown",
      "metadata": {
        "id": "404b6c85-002b-410c-a4d8-a14cba2d7194"
      },
      "source": [
        "Finally, we will merge the merged VLE dataframe with the Student info dataframe to ensure wwe are only working with students who were not previously eliminated due to dropping out before the first day or for being on higher than their first attempt"
      ],
      "id": "404b6c85-002b-410c-a4d8-a14cba2d7194"
    },
    {
      "cell_type": "markdown",
      "metadata": {
        "id": "3afe2449-c140-4cb9-bf8f-f1b0c9e688f2"
      },
      "source": [
        "**Adding Aggregated Clicks to Student Info**"
      ],
      "id": "3afe2449-c140-4cb9-bf8f-f1b0c9e688f2"
    },
    {
      "cell_type": "code",
      "metadata": {
        "tags": [],
        "id": "e1dc0523-e458-40b6-8c5e-4a2e251c1e42"
      },
      "source": [
        "# outer merge of stud_info and vle dataframes on common columns\n",
        "stud_info_clicks = stud_info.merge(agg_clicks, how='outer', on=['id_student', 'presentation', 'module'],indicator=True)\n",
        "\n",
        "# convert datatypes back\n",
        "stud_info_clicks = stud_info_clicks.convert_dtypes()"
      ],
      "id": "e1dc0523-e458-40b6-8c5e-4a2e251c1e42",
      "execution_count": null,
      "outputs": []
    },
    {
      "cell_type": "code",
      "metadata": {
        "id": "ff8e0b35-42b4-456e-85de-5dd3cac033b1"
      },
      "source": [
        "# show head of resulting dataframe\n",
        "stud_info_clicks.head()"
      ],
      "id": "ff8e0b35-42b4-456e-85de-5dd3cac033b1",
      "execution_count": null,
      "outputs": []
    },
    {
      "cell_type": "markdown",
      "metadata": {
        "id": "9cd90088-90e4-48a8-90b4-28440b2f7b24"
      },
      "source": [
        "For the `_merge` column for this dataframe, `left_only` tells us that the data is only found in student info, and `right_only` tells us the data is only found in VLE. "
      ],
      "id": "9cd90088-90e4-48a8-90b4-28440b2f7b24"
    },
    {
      "cell_type": "markdown",
      "metadata": {
        "id": "73bf6702-3030-496e-9ad6-3656d7af1126"
      },
      "source": [
        "**Click data with no students**\n",
        "\n",
        "Let's first look at the students only found in the vle dataframe"
      ],
      "id": "73bf6702-3030-496e-9ad6-3656d7af1126"
    },
    {
      "cell_type": "code",
      "metadata": {
        "id": "af2d4bf4-51a4-4a2c-a457-d9e5ab693596"
      },
      "source": [
        "# show all _merge values of 'right only' thus only in vle\n",
        "only_vle = stud_info_clicks.loc[stud_info_clicks['_merge'] == 'right_only']\n",
        "only_vle"
      ],
      "id": "af2d4bf4-51a4-4a2c-a457-d9e5ab693596",
      "execution_count": null,
      "outputs": []
    },
    {
      "cell_type": "code",
      "metadata": {
        "tags": [
          "remove_input"
        ],
        "id": "37a225e6-6690-48e4-95a6-58d9ed017f3e"
      },
      "source": [
        "md(f'''\n",
        "We have {\"{:,}\".format(len(only_vle))} values in only vle, which is how many students for whom we have click data that\n",
        "doesn't correspond to a student in student info. These are previously eliminated students, and will be removed from here\n",
        "as well.''')"
      ],
      "id": "37a225e6-6690-48e4-95a6-58d9ed017f3e",
      "execution_count": null,
      "outputs": []
    },
    {
      "cell_type": "code",
      "metadata": {
        "id": "0b6fdb3f-32b5-4a99-8170-0f79d183240e"
      },
      "source": [
        "# drop any students found only in student vle\n",
        "stud_info_clicks = stud_info_clicks.dropna(subset=['result'])"
      ],
      "id": "0b6fdb3f-32b5-4a99-8170-0f79d183240e",
      "execution_count": null,
      "outputs": []
    },
    {
      "cell_type": "markdown",
      "metadata": {
        "id": "689d8085-cf92-4017-be03-6caae3b42c79"
      },
      "source": [
        "**Students with no clicks**\n",
        "\n",
        "Next we will look at students found only in the student info dataframe and therefore have no click data."
      ],
      "id": "689d8085-cf92-4017-be03-6caae3b42c79"
    },
    {
      "cell_type": "code",
      "metadata": {
        "id": "7ba2282c-fd82-4d93-a509-17c6fdcbd560"
      },
      "source": [
        "# find where _merge column value is left_only meaning only in student info\n",
        "only_stud_info= stud_info_clicks.loc[stud_info_clicks['_merge'] == 'left_only']\n",
        "only_stud_info.head()"
      ],
      "id": "7ba2282c-fd82-4d93-a509-17c6fdcbd560",
      "execution_count": null,
      "outputs": []
    },
    {
      "cell_type": "markdown",
      "metadata": {
        "id": "d7b1ec4c-469f-4808-b4f1-e52def504e82"
      },
      "source": [
        "Finally let's see the results of the students with no click data:"
      ],
      "id": "d7b1ec4c-469f-4808-b4f1-e52def504e82"
    },
    {
      "cell_type": "code",
      "metadata": {
        "tags": [],
        "id": "20302b2f-4325-497f-a8c2-ce420fce2321"
      },
      "source": [
        "# make a dataframe of results of students without click data\n",
        "dataframe(only_stud_info['result'].value_counts())"
      ],
      "id": "20302b2f-4325-497f-a8c2-ce420fce2321",
      "execution_count": null,
      "outputs": []
    },
    {
      "cell_type": "code",
      "metadata": {
        "tags": [
          "remove_input"
        ],
        "id": "7befbccb-64d8-4adc-a791-4d502659167f"
      },
      "source": [
        "# get percentage of students with missing clicks to overall students\n",
        "perc_no_clicks = percentage(len(only_stud_info), len(stud_info))\n",
        "\n",
        "md(f'''\n",
        "We have {\"{:,}\".format(len(only_stud_info))} values in only student info, and thus {perc_no_clicks}% of studentsfor whom we have no click data. \n",
        "We could assume that these students never interacted with the material, but as we can see above we have many students who passed with no click data. \n",
        "Since the click data includes clicks on the homepage it is safe to say that these students must have had click data that we are missing.\n",
        "\n",
        "Since these students represent a fair amount of our data we will add for these students the median clicks for their module/presentation. \n",
        "We will use the median since the click data has such a large spread and per module/presentation because it will be more representative of\n",
        "the resources that were probably available to that sect of students.\n",
        "''')"
      ],
      "id": "7befbccb-64d8-4adc-a791-4d502659167f",
      "execution_count": null,
      "outputs": []
    },
    {
      "cell_type": "code",
      "metadata": {
        "id": "b1521639-768d-44a0-814a-6dea7322d449"
      },
      "source": [
        "# create module_presentation column to find students in exact courses\n",
        "stud_info_clicks['module_presentation'] = stud_info_clicks['module'] + stud_info_clicks['presentation']\n",
        "\n",
        "# iterate through stud_info_clicks entries where avg_click or sum_click is NA\n",
        "for index, row in stud_info_clicks[stud_info_clicks['avg_click'].isna() | stud_info_clicks['sum_click'].isna()].iterrows():\n",
        "    # change stud_info avg_click at current index to the median of the student's module/presentation\n",
        "    stud_info_clicks.at[index, 'avg_click'] = stud_info_clicks.loc[(stud_info_clicks['module_presentation'] == row['module_presentation']), 'avg_click'].median()\n",
        "    # change stud_info sum_click at current index to the median of the student's module/presentation\n",
        "    stud_info_clicks.at[index, 'sum_click'] = int(stud_info_clicks.loc[(stud_info_clicks['module_presentation'] == row['module_presentation']), 'sum_click'].median())\n",
        "\n",
        "\n",
        "# give a dataframe of null values to ensure we were successful\n",
        "dataframe(stud_info_clicks.isnull().sum(), columns=['Null Values'])"
      ],
      "id": "b1521639-768d-44a0-814a-6dea7322d449",
      "execution_count": null,
      "outputs": []
    },
    {
      "cell_type": "code",
      "metadata": {
        "id": "a82bf568-cac8-4b48-91a3-d499b0846d3c"
      },
      "source": [
        "# reorder columns for clarity without drop _merge column as it is no longer of use\n",
        "stud_info_clicks = stud_info_clicks[['module_presentation', 'module', 'presentation', 'id_student', 'region', 'imd', 'age', 'gender', 'education', 'disability', 'date_registration', 'attempts', 'credits', 'sum_click', 'avg_click', 'result']]"
      ],
      "id": "a82bf568-cac8-4b48-91a3-d499b0846d3c",
      "execution_count": null,
      "outputs": []
    },
    {
      "cell_type": "markdown",
      "metadata": {
        "id": "ca80209b-28fc-46cd-9385-fceb06cc7b05"
      },
      "source": [
        "**Adding Aggregated Clicks to Assessments**"
      ],
      "id": "ca80209b-28fc-46cd-9385-fceb06cc7b05"
    },
    {
      "cell_type": "markdown",
      "metadata": {
        "id": "348799ec-35f4-4550-8e20-536aa75f8435"
      },
      "source": [
        "Finally we will be creating a merged dataframe of the the merged vle and student info and assessments dataframes. This is so that we can attempt to predict scores based on number of clicks."
      ],
      "id": "348799ec-35f4-4550-8e20-536aa75f8435"
    },
    {
      "cell_type": "code",
      "metadata": {
        "id": "86d0c34c-fdf1-43c4-8f8f-1ed49a2ad022"
      },
      "source": [
        "# drop merged_assessments _merge column so we can use it again\n",
        "merged_assessments = merged_assessments.drop(columns='_merge')"
      ],
      "id": "86d0c34c-fdf1-43c4-8f8f-1ed49a2ad022",
      "execution_count": null,
      "outputs": []
    },
    {
      "cell_type": "code",
      "metadata": {
        "id": "69ffe7e9-7ea6-426b-bb6c-131cf4b8cc64"
      },
      "source": [
        "# merge merged_assessments with agg_clicks and assign it to merged_assessments\n",
        "merged_assessments_clicks = merged_assessments.merge(agg_clicks, how='outer', on=['module', 'presentation', 'id_student'],indicator=True)\n",
        "\n",
        "# change datatypes back sinvce merging changes them to defaults\n",
        "merged_assessments_clicks = merged_assessments_clicks.convert_dtypes()\n",
        "\n",
        "merged_assessments_clicks.head()"
      ],
      "id": "69ffe7e9-7ea6-426b-bb6c-131cf4b8cc64",
      "execution_count": null,
      "outputs": []
    },
    {
      "cell_type": "markdown",
      "metadata": {
        "id": "c012eae2-028c-4627-9367-dd839cdab365"
      },
      "source": [
        "**Students with clicks but no assessments**"
      ],
      "id": "c012eae2-028c-4627-9367-dd839cdab365"
    },
    {
      "cell_type": "code",
      "metadata": {
        "tags": [],
        "id": "5d917000-acde-43d0-8f7d-1b55d048a562"
      },
      "source": [
        "# make dataframe where _merge column is right_only/only in VLE dataframe\n",
        "only_vle = merged_assessments_clicks.loc[merged_assessments_clicks['_merge'] == 'right_only']\n",
        "only_vle.head()"
      ],
      "id": "5d917000-acde-43d0-8f7d-1b55d048a562",
      "execution_count": null,
      "outputs": []
    },
    {
      "cell_type": "code",
      "metadata": {
        "id": "1a9a0999-b5f6-4a9d-a432-6b7185a7a9bb"
      },
      "source": [
        "# store length of dataframe of students with clicks but no assessments\n",
        "clicks_missing_students = \"{:,}\".format(len(only_vle))\n",
        "\n",
        "md(f'''\n",
        "There are {clicks_missing_students} click data accounts found only in the VLE dataframe. \n",
        "\n",
        "Unfortunately, click data without students to attach it to is not of much value and so these entries will be dropped.\n",
        "''')"
      ],
      "id": "1a9a0999-b5f6-4a9d-a432-6b7185a7a9bb",
      "execution_count": null,
      "outputs": []
    },
    {
      "cell_type": "code",
      "metadata": {
        "id": "ae5cbd10-2fb0-406f-b0d7-31a4c2a16855"
      },
      "source": [
        "# drop any NA values in id_assessment\n",
        "merged_assessments_clicks = merged_assessments_clicks.dropna(subset=['id_assessment'])"
      ],
      "id": "ae5cbd10-2fb0-406f-b0d7-31a4c2a16855",
      "execution_count": null,
      "outputs": []
    },
    {
      "cell_type": "markdown",
      "metadata": {
        "id": "e5cfa56b-df88-45c6-ae63-e9156e1a24fe"
      },
      "source": [
        "**Students with assessments but no clicks**"
      ],
      "id": "e5cfa56b-df88-45c6-ae63-e9156e1a24fe"
    },
    {
      "cell_type": "markdown",
      "metadata": {
        "id": "75cdfe1c-e677-42d9-b91b-a61192a176b6"
      },
      "source": [
        "In this case a `_merge` result of `left_only` indicates the student entry was only found in assessments."
      ],
      "id": "75cdfe1c-e677-42d9-b91b-a61192a176b6"
    },
    {
      "cell_type": "code",
      "metadata": {
        "id": "05a7dd49-e9a1-46fa-b8d6-af1c1f70eff8"
      },
      "source": [
        "# display students with no click data\n",
        "only_assessments = merged_assessments_clicks.loc[merged_assessments_clicks['_merge'] == 'left_only']\n",
        "only_assessments.head()"
      ],
      "id": "05a7dd49-e9a1-46fa-b8d6-af1c1f70eff8",
      "execution_count": null,
      "outputs": []
    },
    {
      "cell_type": "code",
      "metadata": {
        "id": "9f1bb777-1d01-463a-a1d3-c718842aab06"
      },
      "source": [
        "# store length of dataframe of students with no clicks\n",
        "stud_w_no_clicks = \"{:,}\".format(len(only_assessments))\n",
        "md(f'''\n",
        "There are {stud_w_no_clicks} students found only in the assessments dataframe and have no click data associated with them. We will treat these as\n",
        "we treated the students in student info by adding the median of their whole module/presentation's student clicks to NA values.\n",
        "''')"
      ],
      "id": "9f1bb777-1d01-463a-a1d3-c718842aab06",
      "execution_count": null,
      "outputs": []
    },
    {
      "cell_type": "code",
      "metadata": {
        "id": "873f2c7a-f1d5-4211-93cd-6772cb1fc364"
      },
      "source": [
        "# add module_presentation to merged_assessments_clicks find exact courses students took\n",
        "merged_assessments_clicks['module_presentation'] = merged_assessments_clicks['module'] + merged_assessments_clicks['presentation']\n",
        "\n",
        "# iterate through merged_assessments_clicks entries where avg_click or sum_click is NA\n",
        "for index, row in merged_assessments_clicks[merged_assessments_clicks['avg_click'].isna() | merged_assessments_clicks['sum_click'].isna()].iterrows():\n",
        "    # change merged_assessments_clicks avg_click at current index to the median of the student's module/presentation\n",
        "    merged_assessments_clicks.at[index, 'avg_click'] = merged_assessments_clicks.loc[(merged_assessments_clicks['module_presentation'] == row['module_presentation']), 'avg_click'].median()\n",
        "    # change merged_assessments_clicks sum_click at current index to the median of the student's module/presentation\n",
        "    merged_assessments_clicks.at[index, 'sum_click'] = int(merged_assessments_clicks.loc[(merged_assessments_clicks['module_presentation'] == row['module_presentation']), 'sum_click'].median())"
      ],
      "id": "873f2c7a-f1d5-4211-93cd-6772cb1fc364",
      "execution_count": null,
      "outputs": []
    },
    {
      "cell_type": "markdown",
      "metadata": {
        "id": "54229d1a-8b54-4fb2-b036-a17c7b7678f3"
      },
      "source": [
        "Finally before we go further we will add student information for the student information dataframe to merged assessments so that we may predict student scores based on their information."
      ],
      "id": "54229d1a-8b54-4fb2-b036-a17c7b7678f3"
    },
    {
      "cell_type": "code",
      "metadata": {
        "id": "57223bec-5a35-4751-9539-0fce75df3960"
      },
      "source": [
        "# combine assessments and student info to predict scores based on student info\n",
        "merged_assessments_info = merged_assessments_clicks.merge(stud_info_clicks, on=['module', 'presentation', 'module_presentation', 'id_student', 'sum_click', 'avg_click'])"
      ],
      "id": "57223bec-5a35-4751-9539-0fce75df3960",
      "execution_count": null,
      "outputs": []
    },
    {
      "cell_type": "markdown",
      "metadata": {
        "tags": [
          "remove-cell"
        ],
        "id": "f04c08bf-f2b2-41ee-b540-67696990ebde"
      },
      "source": [
        "## Analysis\n",
        "---\n",
        "\n",
        "In this section we will observe demographical and behavioral data in student info. This will be for the purpose of seeing who are students are and what they are doing only. We will not be looking at the relationship between these factors and student results until the next section."
      ],
      "id": "f04c08bf-f2b2-41ee-b540-67696990ebde"
    },
    {
      "cell_type": "markdown",
      "metadata": {
        "id": "471b2cc6-dfc4-496c-951f-a7fe0c992d98"
      },
      "source": [
        "```{note}\n",
        "First we will split the data into train/test sets to avoid any bias in model selection later.\n",
        "```"
      ],
      "id": "471b2cc6-dfc4-496c-951f-a7fe0c992d98"
    },
    {
      "cell_type": "code",
      "metadata": {
        "id": "3d5dc0f7-369a-4b83-bd29-aef5a41811ed"
      },
      "source": [
        "from sklearn.model_selection import train_test_split\n",
        "\n",
        "# split stud_info clicks into train/test sets stratified by module_presentation\n",
        "class_train, class_test = train_test_split(stud_info_clicks, test_size=0.2, random_state=42, stratify=stud_info_clicks['module_presentation'])"
      ],
      "id": "3d5dc0f7-369a-4b83-bd29-aef5a41811ed",
      "execution_count": null,
      "outputs": []
    },
    {
      "cell_type": "markdown",
      "metadata": {
        "id": "183dcdd8-3b2e-42b9-936c-f7b4ed13d79a"
      },
      "source": [
        "### Univariate Analysis"
      ],
      "id": "183dcdd8-3b2e-42b9-936c-f7b4ed13d79a"
    },
    {
      "cell_type": "markdown",
      "metadata": {
        "id": "dc2b0e3b-52d6-45f1-9b98-16f05e9f72da"
      },
      "source": [
        "**Count of Students per course**"
      ],
      "id": "dc2b0e3b-52d6-45f1-9b98-16f05e9f72da"
    },
    {
      "cell_type": "code",
      "metadata": {
        "id": "1454ce10-3fd3-4e7b-8b7e-beeb928dfd1f"
      },
      "source": [
        "# create crosstab of result counts per module/presentation\n",
        "modpres_res_counts = pd.crosstab(class_train['module_presentation'], values=class_train['result'], columns=class_train['result'], aggfunc='count')\n",
        "\n",
        "# reset the index to be consecutive\n",
        "modpres_res_counts = modpres_res_counts.reset_index()\n",
        "\n",
        "# change datatypes or frequencies to work with\n",
        "modpres_res_counts = modpres_res_counts.astype({'Distinction':int, 'Pass':int, 'Fail':int, 'Withdrawn':int})\n",
        "\n",
        "# get total of results\n",
        "modpres_res_counts['total'] = modpres_res_counts['Pass'] + modpres_res_counts['Fail'] + modpres_res_counts['Withdrawn'] + modpres_res_counts['Distinction']\n",
        "\n",
        "# divide individual results by total and multiple by 100 to get frequencies\n",
        "modpres_res_counts[['Distinction','Pass', 'Fail', 'Withdrawn']] = modpres_res_counts[['Distinction','Pass', 'Fail', 'Withdrawn']].div(modpres_res_counts['total'], axis=0) *100\n",
        "\n",
        "# reorder columns\n",
        "modpres_res_freq = modpres_res_counts[['module_presentation', 'Pass', 'Fail', 'Withdrawn', 'Distinction', 'total']]\n",
        "\n",
        "\n",
        "\n",
        "# sort modules by number of results and plot\n",
        "modpres_res_freq.sort_values(by='total').plot.bar(rot=90, x='module_presentation', y='total', title='Number of Students per Course', xlabel='Course', ylabel='Student Count', figsize=(10,5))"
      ],
      "id": "1454ce10-3fd3-4e7b-8b7e-beeb928dfd1f",
      "execution_count": null,
      "outputs": []
    },
    {
      "cell_type": "markdown",
      "metadata": {
        "id": "b1809d1a-21f2-4273-ad94-43782ba661cf"
      },
      "source": [
        "BBB, CCC, DDD and FFF courses seem to be the most popularwith AAA, GGG and EEE being least popular."
      ],
      "id": "b1809d1a-21f2-4273-ad94-43782ba661cf"
    },
    {
      "cell_type": "markdown",
      "metadata": {
        "id": "33b8d811-e479-4c34-9ee0-79a85ce36197"
      },
      "source": [
        "**Region**"
      ],
      "id": "33b8d811-e479-4c34-9ee0-79a85ce36197"
    },
    {
      "cell_type": "code",
      "metadata": {
        "tags": [
          "remove_input"
        ],
        "id": "8d34ac33-536a-4cbd-b0b6-353fb5d2c83d"
      },
      "source": [
        "# sorts regions by number of students per regino\n",
        "sorted_regions = class_train['region'].value_counts(ascending=True)\n",
        "\n",
        "# plot a count plot of number of students per region in ascending order\n",
        "plt.figure(figsize=(25, 3))\n",
        "plt.title('Student Region Distribution')\n",
        "sns.countplot(data=class_train, x=class_train['region'], order = sorted_regions.index).set(xlabel='Regions', ylabel='Student Count')\n",
        "plt.show()"
      ],
      "id": "8d34ac33-536a-4cbd-b0b6-353fb5d2c83d",
      "execution_count": null,
      "outputs": []
    },
    {
      "cell_type": "markdown",
      "metadata": {
        "id": "ce61eb1a-83b7-4096-8afb-b4b09957f4db"
      },
      "source": [
        "Here we can see the distribution of students by region. Our students come from various regions of the UK, Scotland, Ireland and Wales."
      ],
      "id": "ce61eb1a-83b7-4096-8afb-b4b09957f4db"
    },
    {
      "cell_type": "markdown",
      "metadata": {
        "id": "01051252-6c71-4708-80de-3e1d7511b135"
      },
      "source": [
        "**IMD Band Counts**"
      ],
      "id": "01051252-6c71-4708-80de-3e1d7511b135"
    },
    {
      "cell_type": "code",
      "metadata": {
        "tags": [
          "remove_input"
        ],
        "id": "e9fe739b-2522-48e3-9335-874e89b82c3e"
      },
      "source": [
        "# sorted list of unique imd categories\n",
        "imds = class_train[class_train['imd'].notna()]['imd'].sort_values().unique()\n",
        "\n",
        "# create a count plot of number of students per imd band ordered by band valuesa\n",
        "plt.figure(figsize=(25, 3))\n",
        "plt.title('Student IMD Band Distribution')\n",
        "sns.countplot(data=class_train, x=class_train['imd'], order=imds).set(xlabel='IMD Bands', ylabel='Student Count')"
      ],
      "id": "e9fe739b-2522-48e3-9335-874e89b82c3e",
      "execution_count": null,
      "outputs": []
    },
    {
      "cell_type": "markdown",
      "metadata": {
        "id": "a1adb3c3-6288-44bb-8356-1aef71ac46a0"
      },
      "source": [
        "In this bar graph we see the distribution of students by IMD band. Many students seem to be in more deprived areas with a spike in students in the 10-20% band."
      ],
      "id": "a1adb3c3-6288-44bb-8356-1aef71ac46a0"
    },
    {
      "cell_type": "markdown",
      "metadata": {
        "id": "ef1feab0-c5fb-45e2-b505-f118e009753a"
      },
      "source": [
        "**Age Percentages**"
      ],
      "id": "ef1feab0-c5fb-45e2-b505-f118e009753a"
    },
    {
      "cell_type": "code",
      "metadata": {
        "id": "2d8cd428-d93f-488b-8f68-361095eb7fb2"
      },
      "source": [
        "# ordered list of age_band possibilities\n",
        "ages = class_train['age'].sort_values().unique()\n",
        "\n",
        "# normalized value counts of age bands\n",
        "age_freqs = class_train['age'].value_counts(normalize=True)\n",
        "\n",
        "age_colors = ['green', 'gold', 'red']\n",
        "\n",
        "# make a pie chart of age groups in our data\n",
        "plt.figure(figsize=(25, 3))\n",
        "plt.title('Student Ages')\n",
        "plt.pie(data=class_train, x=age_freqs, labels=ages, autopct='%1.1f%%', startangle=90, colors=age_colors)\n",
        "plt.show()"
      ],
      "id": "2d8cd428-d93f-488b-8f68-361095eb7fb2",
      "execution_count": null,
      "outputs": []
    },
    {
      "cell_type": "markdown",
      "metadata": {
        "id": "5091c6a1-89d3-4058-b7ff-7de8aafb62ab"
      },
      "source": [
        "Nearly 70% of our students are under 35 and under 1% are age 55+"
      ],
      "id": "5091c6a1-89d3-4058-b7ff-7de8aafb62ab"
    },
    {
      "cell_type": "markdown",
      "metadata": {
        "id": "e2a866f8-addd-44ba-ba99-568036865af3"
      },
      "source": [
        "**Gender Counts**"
      ],
      "id": "e2a866f8-addd-44ba-ba99-568036865af3"
    },
    {
      "cell_type": "code",
      "metadata": {
        "id": "7029e469-cb45-49aa-8671-f7abae9a2086"
      },
      "source": [
        "# list of possible genders in data\n",
        "genders = ['M', 'F']\n",
        "\n",
        "# get normalized value counts of genders in data\n",
        "gender_freqs = class_train['gender'].value_counts(normalize=True)\n",
        "\n",
        "gen_colors = ['lightskyblue', 'pink']\n",
        "\n",
        "# make a pie chart of overall gender distribution\n",
        "plt.figure(figsize=(25, 3))\n",
        "plt.title('Student Genders')\n",
        "plt.pie(data=class_train, x=gender_freqs, autopct='%1.1f%%', startangle=90, colors=gen_colors)\n",
        "plt.legend(labels=genders, bbox_to_anchor=(.8,1), loc='upper left') "
      ],
      "id": "7029e469-cb45-49aa-8671-f7abae9a2086",
      "execution_count": null,
      "outputs": []
    },
    {
      "cell_type": "markdown",
      "metadata": {
        "id": "f7c3724b-7087-4011-b5e1-31da303e6e53"
      },
      "source": [
        "Our genders are fairly evenly distributed with males being slightly more represented in our student sample."
      ],
      "id": "f7c3724b-7087-4011-b5e1-31da303e6e53"
    },
    {
      "cell_type": "markdown",
      "metadata": {
        "id": "36dc01e2-def7-4231-8c85-0259d821f68a"
      },
      "source": [
        "**Education**"
      ],
      "id": "36dc01e2-def7-4231-8c85-0259d821f68a"
    },
    {
      "cell_type": "code",
      "metadata": {
        "id": "cc3b85cf-c6f1-4fa2-9f90-a16f1640605d"
      },
      "source": [
        "# list of education possibilities in order \n",
        "educations = ['No Formal', 'Under A Level', 'A Level', 'HE', 'Post Grad']\n",
        "\n",
        "# create a bar graph/count plot of students per education level\n",
        "plt.figure(figsize=(20, 3))\n",
        "plt.title('Student Education Distribution')\n",
        "sns.countplot(data=class_train, x=class_train['education'], order=educations).set(xlabel= 'Student Education Level', ylabel='Student Count')"
      ],
      "id": "cc3b85cf-c6f1-4fa2-9f90-a16f1640605d",
      "execution_count": null,
      "outputs": []
    },
    {
      "cell_type": "markdown",
      "metadata": {
        "id": "0124875f-9f87-4967-b589-f492a649665f"
      },
      "source": [
        "Most of our students fall Under A Level or at A Level as their furthest education. Post Grad Students and students with no formal education are underrespresented."
      ],
      "id": "0124875f-9f87-4967-b589-f492a649665f"
    },
    {
      "cell_type": "markdown",
      "metadata": {
        "id": "ddb2efdb-24b3-4104-a6a2-2a8f20063053"
      },
      "source": [
        "**Disability Percentage**"
      ],
      "id": "ddb2efdb-24b3-4104-a6a2-2a8f20063053"
    },
    {
      "cell_type": "code",
      "metadata": {
        "id": "73b2046f-975c-4c63-8140-d0d521090b84"
      },
      "source": [
        "# ordered disability list\n",
        "disabilities=['No Disability', 'Disability']\n",
        "\n",
        "# get normalized value counts of disabilties in data\n",
        "disability_freqs = class_train['disability'].value_counts(normalize=True)\n",
        "\n",
        "dis_colors = ['green', 'gold']\n",
        "\n",
        "# create pie chart of students with and without disabilities\n",
        "plt.figure(figsize=(25, 3))\n",
        "plt.title('Student Disabilities')\n",
        "plt.pie(data=class_train, x=disability_freqs, autopct='%1.1f%%', startangle=90, colors=dis_colors)\n",
        "plt.legend(labels=disabilities, loc='upper left', bbox_to_anchor=(.9,1))"
      ],
      "id": "73b2046f-975c-4c63-8140-d0d521090b84",
      "execution_count": null,
      "outputs": []
    },
    {
      "cell_type": "markdown",
      "metadata": {
        "id": "ef448b7f-efa2-482a-819f-4ff5e57c9238"
      },
      "source": [
        "Under 10% of our students identified as having disabilities and so are underrepresented in this group."
      ],
      "id": "ef448b7f-efa2-482a-819f-4ff5e57c9238"
    },
    {
      "cell_type": "markdown",
      "metadata": {
        "id": "11c563ec-1229-4702-9f18-d3aa6372cc60"
      },
      "source": [
        "**Results Percentages**"
      ],
      "id": "11c563ec-1229-4702-9f18-d3aa6372cc60"
    },
    {
      "cell_type": "code",
      "metadata": {
        "tags": [],
        "id": "f5625f3c-fedf-44fc-aa7b-7a58bf57ee6e"
      },
      "source": [
        "# list of result possibilities\n",
        "results = ['Pass', 'Fail', 'Withdrawn', 'Distinction']\n",
        "\n",
        "# get normalized value counts of results\n",
        "result_freqs = class_train['result'].value_counts(normalize=True)\n",
        "\n",
        "results_colors = ['MediumSeaGreen', 'Tomato', 'LightGray','SlateBlue']\n",
        "\n",
        "# convert values to percentages\n",
        "pass_perc = round((result_freqs[0] * 100), 1)\n",
        "withdraw_perc = round((result_freqs[1] * 100), 1)\n",
        "fail_perc = round((result_freqs[2] * 100), 1)\n",
        "distinct_perc = round((result_freqs[3] * 100), 1)\n",
        "results_percs = [pass_perc, fail_perc, withdraw_perc, distinct_perc]\n",
        "\n",
        "# create pie chart of results by percentage\n",
        "fig1, ax = plt.subplots()\n",
        "ax.pie(results_percs, labels=results, autopct='%1.1f%%', startangle=90,colors=results_colors)\n",
        "ax.axis('equal')  # Equal aspect ratio ensures that pie is drawn as a circle.\n",
        "plt.title('Student Results')\n",
        "plt.show()"
      ],
      "id": "f5625f3c-fedf-44fc-aa7b-7a58bf57ee6e",
      "execution_count": null,
      "outputs": []
    },
    {
      "cell_type": "code",
      "metadata": {
        "tags": [
          "remove_input"
        ],
        "id": "a5bc7726-a3b1-4d3b-bbb6-198402115e5b"
      },
      "source": [
        "# get the percentage of students who failed or withdrew\n",
        "neg_result = round(fail_perc + withdraw_perc)\n",
        "\n",
        "# store the percentage of students who passed or passed with distinction\n",
        "pos_result = round(pass_perc + distinct_perc)\n",
        "\n",
        "md(f'''\n",
        "Here we can see that we have a negative result of withdrawing or failing nearly **{neg_result}%** of the time,\n",
        "with around **{pos_result}%** of students achieving a positive result of passing or passing with distinction.\n",
        "''')"
      ],
      "id": "a5bc7726-a3b1-4d3b-bbb6-198402115e5b",
      "execution_count": null,
      "outputs": []
    },
    {
      "cell_type": "markdown",
      "metadata": {
        "id": "ecb1a9f5-e922-4743-9001-a53436365d6f"
      },
      "source": [
        "### Bivariate "
      ],
      "id": "ecb1a9f5-e922-4743-9001-a53436365d6f"
    },
    {
      "cell_type": "markdown",
      "metadata": {
        "id": "b56a4869-51b7-4375-b349-4930e0f9e0b9"
      },
      "source": [
        "**Results per Module/Presentation**"
      ],
      "id": "b56a4869-51b7-4375-b349-4930e0f9e0b9"
    },
    {
      "cell_type": "code",
      "metadata": {
        "tags": [],
        "id": "00a4116d-6820-4457-90cb-af06aa28f552"
      },
      "source": [
        "# create crosstab of result counts per module/presentation\n",
        "modpres_res_counts = pd.crosstab(class_train['module_presentation'], values=class_train['result'], columns=class_train['result'], aggfunc='count')\n",
        "\n",
        "# reset the index to be consecutive\n",
        "modpres_res_counts = modpres_res_counts.reset_index()\n",
        "\n",
        "# change datatypes or frequencies to work with\n",
        "modpres_res_counts = modpres_res_counts.astype({'Distinction':int, 'Pass':int, 'Fail':int, 'Withdrawn':int})\n",
        "\n",
        "# get total of results\n",
        "modpres_res_counts['total'] = modpres_res_counts['Pass'] + modpres_res_counts['Fail'] + modpres_res_counts['Withdrawn'] + modpres_res_counts['Distinction']\n",
        "\n",
        "# divide individual results by total and multiple by 100 to get frequencies\n",
        "modpres_res_counts[['Distinction','Pass', 'Fail', 'Withdrawn']] = modpres_res_counts[['Distinction','Pass', 'Fail', 'Withdrawn']].div(modpres_res_counts['total'], axis=0) *100\n",
        "\n",
        "# reorder columns\n",
        "modpres_res_freq = modpres_res_counts[['module_presentation', 'Pass', 'Fail', 'Withdrawn', 'Distinction', 'total']]\n",
        "\n",
        "# get bar charts of frequencies per result per module/presentation\n",
        "nrows = 2\n",
        "ncols = 2\n",
        "fig, axes = plt.subplots(figsize=(24, 16) , nrows = nrows, ncols = ncols)\n",
        "plt.subplots_adjust(wspace=.05, hspace=.3)\n",
        "modpres_res_freq.sort_values(by='Pass').plot.bar(rot=90, ax=axes[0][0], x='module_presentation', y='Pass', title='% of Student Passes Per Course', xlabel='Course', ylabel='Student Count', color='MediumSeaGreen')\n",
        "modpres_res_freq.sort_values(by='Fail').plot.bar(rot=90, ax=axes[0][1], x='module_presentation', y='Fail', title='% of Student Failures Per Course', xlabel='Course', ylabel='Student Count', color='Tomato')\n",
        "modpres_res_freq.sort_values(by='Withdrawn').plot.bar(rot=90, ax=axes[1][0], x='module_presentation', y='Withdrawn', title='% of Student Withdraws Per Course', xlabel='Course', ylabel='Student Count', color='LightGray')\n",
        "modpres_res_freq.sort_values(by='Distinction').plot.bar(rot=90, ax=axes[1][1], x='module_presentation', y='Distinction', title='% of Students with Distinction Per Course',xlabel='Course', ylabel='Student Count', color='SlateBlue')"
      ],
      "id": "00a4116d-6820-4457-90cb-af06aa28f552",
      "execution_count": null,
      "outputs": []
    },
    {
      "cell_type": "markdown",
      "metadata": {
        "id": "0441874b-634d-48f4-89c6-ae5b77a3a299"
      },
      "source": [
        "Though the AAA module is the least popular, the students seem to have a noticably higher pass percentage in this course.\n",
        "\n",
        "The GGG module has the lowest amount of withdrawals and the highest number of students who passed with distinction. It also has the highest number of failed students."
      ],
      "id": "0441874b-634d-48f4-89c6-ae5b77a3a299"
    },
    {
      "cell_type": "markdown",
      "metadata": {
        "id": "d77cd50f-3ed1-4a9f-b205-1fd116b3abcd"
      },
      "source": [
        "**Results per Module/Presentation**"
      ],
      "id": "d77cd50f-3ed1-4a9f-b205-1fd116b3abcd"
    },
    {
      "cell_type": "markdown",
      "metadata": {
        "id": "11e30ef6-48fb-4bea-9eee-504b817df96f"
      },
      "source": [
        "We can see here that AAA modules had the highest percentage of students passing with GGG modules having the highest percent of failing students. The results of GGG could be that the full course weight of GGG is on that final exam giving students no chance to balance a poor final performance.\n",
        "\n",
        "Also noticable here is that the courses which we noted had the highest amount of students have a high amount of failures and withdrawals. It would be interesting to see if class size had an effect on student success, so we will add the column `class_size` reflecting the size of the class each student is enrolled in."
      ],
      "id": "11e30ef6-48fb-4bea-9eee-504b817df96f"
    },
    {
      "cell_type": "code",
      "metadata": {
        "tags": [],
        "id": "48ea0fc0-37ff-4b40-90c8-de6281493c38"
      },
      "source": [
        "class_size = class_train.pivot_table(values='id_student', index='module_presentation', aggfunc='count')\n",
        "stud_info_train = class_train.merge(class_size, how='outer', on='module_presentation')\n",
        "stud_info_test = class_test.merge(class_size, how='outer', on='module_presentation')\n",
        "stud_info_train.rename(columns={'id_student_y':'class_size', 'id_student_x':'id_student'}, inplace=True)\n",
        "stud_info_test.rename(columns={'id_student_y':'class_size', 'id_student_x':'id_student'}, inplace=True)\n",
        "\n",
        "\n",
        "assessments_class_size = merged_assessments_info.merge(class_size, how='outer', on='module_presentation')\n",
        "assessments_class_size.rename(columns={'id_student_y':'class_size', 'id_student_x':'id_student'}, inplace=True)\n",
        "assessments_class_size = assessments_class_size.drop(columns='result')\n",
        "\n",
        "# make train/test split of assessment data to avoid bias\n",
        "reg_train, reg_test = train_test_split(assessments_class_size, test_size=0.2, random_state=42, stratify=assessments_class_size['module_presentation'])"
      ],
      "id": "48ea0fc0-37ff-4b40-90c8-de6281493c38",
      "execution_count": null,
      "outputs": []
    },
    {
      "cell_type": "markdown",
      "metadata": {
        "id": "c7510a6f-a3b4-4ddf-9e3c-e25b6a3908dc"
      },
      "source": [
        "**Results per Region**"
      ],
      "id": "c7510a6f-a3b4-4ddf-9e3c-e25b6a3908dc"
    },
    {
      "cell_type": "code",
      "metadata": {
        "id": "4b4307be-77e3-4e75-ab87-6041151aeb33"
      },
      "source": [
        "# get bar charts of frequencies per result per module/presentation\n",
        "nrows = 2\n",
        "ncols = 2\n",
        "fig, axes = plt.subplots(figsize=(24, 16) , nrows = nrows, ncols = ncols)\n",
        "plt.subplots_adjust(wspace=.05, hspace=.3)\n",
        "region_res_freq = pd.crosstab(class_train['region'], values=class_train['result'], columns=class_train['result'], aggfunc='count', normalize='index').reset_index()\n",
        "region_res_freq.sort_values(by='Pass').plot.bar(rot=90, ax=axes[0][0], x='region', y='Pass', title='% of Student Passes Per Course', xlabel='Region', ylabel='Student Frequency', color='MediumSeaGreen')\n",
        "region_res_freq.sort_values(by='Fail').plot.bar(rot=90, ax=axes[0][1], x='region', y='Fail', title='% of Student Failures Per Course', xlabel='Region', ylabel='Student Frequency', color='Tomato')\n",
        "region_res_freq.sort_values(by='Withdrawn').plot.bar(rot=90, ax=axes[1][0], x='region', y='Withdrawn', title='% of Student Withdraws Per Course', xlabel='Region', ylabel='Student Frequency', color='LightGray')\n",
        "region_res_freq.sort_values(by='Distinction').plot.bar(rot=90, ax=axes[1][1], x='region', y='Distinction', title='% of Students with Distinction Per Course',xlabel='Region', ylabel='Student Frequency', color='SlateBlue')"
      ],
      "id": "4b4307be-77e3-4e75-ab87-6041151aeb33",
      "execution_count": null,
      "outputs": []
    },
    {
      "cell_type": "markdown",
      "metadata": {
        "id": "d9ebf244-f089-4e25-b6c4-1dbcf995db97"
      },
      "source": [
        "Above we can see that Ireland, though it had the lowest number of students, had the highest percentage of students who passed, and the lowest percentage of withdrawals. Wales had the highest number of Failed students and the North had the highest number of distinctions. Let's now look at IMD bands and the results of students based on their IMD band. "
      ],
      "id": "d9ebf244-f089-4e25-b6c4-1dbcf995db97"
    },
    {
      "cell_type": "markdown",
      "metadata": {
        "id": "87daa7a1-366c-4151-9068-212f174cafba"
      },
      "source": [
        "**Results per IMD Band**"
      ],
      "id": "87daa7a1-366c-4151-9068-212f174cafba"
    },
    {
      "cell_type": "code",
      "metadata": {
        "tags": [],
        "id": "21bda7e2-5c03-47e3-a4dd-bfdd98ec6839"
      },
      "source": [
        "\n",
        "# get bar charts of frequencies per result per module/presentation\n",
        "nrows = 2\n",
        "ncols = 2\n",
        "fig, axes = plt.subplots(figsize=(24, 16) , nrows = nrows, ncols = ncols)\n",
        "plt.subplots_adjust(wspace=.05, hspace=.3)\n",
        "imd_res_freq = pd.crosstab(class_train['imd'], values=class_train['result'], columns=class_train['result'], aggfunc='count', normalize='index').reset_index()\n",
        "imd_res_freq.sort_values(by='Pass').plot.bar(rot=90, ax=axes[0][0], x='imd', y='Pass', title='% of Student Passes Per Course', xlabel='IMD Band', ylabel='Student Frequency', color='MediumSeaGreen')\n",
        "imd_res_freq.sort_values(by='Fail').plot.bar(rot=90, ax=axes[0][1], x='imd', y='Fail', title='% of Student Failures Per Course', xlabel='IMD Band', ylabel='Student Frequency', color='Tomato')\n",
        "imd_res_freq.sort_values(by='Withdrawn').plot.bar(rot=90, ax=axes[1][0], x='imd', y='Withdrawn', title='% of Student Withdraws Per Course', xlabel='IMD Band', ylabel='Student Frequency', color='LightGray')\n",
        "imd_res_freq.sort_values(by='Distinction').plot.bar(rot=90, ax=axes[1][1], x='imd', y='Distinction', title='% of Students with Distinction Per Course',xlabel='IMD Band', ylabel='Student Frequency', color='SlateBlue')"
      ],
      "id": "21bda7e2-5c03-47e3-a4dd-bfdd98ec6839",
      "execution_count": null,
      "outputs": []
    },
    {
      "cell_type": "markdown",
      "metadata": {
        "id": "1b98fd8d-b785-432d-a504-a4c4383ee816"
      },
      "source": [
        "It is clear here that students from more deprived areas are failing and withdrawing more. In fact it runs almost consecutively where the more deprived an area, the worse a student does and vice versa. "
      ],
      "id": "1b98fd8d-b785-432d-a504-a4c4383ee816"
    },
    {
      "cell_type": "markdown",
      "metadata": {
        "id": "218fb042-da86-453e-b62e-63b97154b76a"
      },
      "source": [
        "**Results per Age Group**"
      ],
      "id": "218fb042-da86-453e-b62e-63b97154b76a"
    },
    {
      "cell_type": "code",
      "metadata": {
        "id": "3d368958-9117-4ce6-add6-c32111993b73"
      },
      "source": [
        "# get crosstab of student result counts per module/presentation\n",
        "age_res_freq = pd.crosstab(class_train['age'], values=class_train['result'], columns=class_train['result'], aggfunc='count', normalize='index')\n",
        "\n",
        "# ordered list of results\n",
        "age_res_freq = age_res_freq[['Pass', 'Fail', 'Withdrawn', 'Distinction']]\n",
        "\n",
        "# make pie charts of results per module/presentation\n",
        "fig, axes = plt.subplots(2, 2, figsize=(10, 10))\n",
        "\n",
        "for i, (idx, row) in enumerate(age_res_freq.iterrows()):\n",
        "    ax = axes[i // 2, i % 2]\n",
        "    row = row[row.gt(row.sum() * .01)]\n",
        "    ax.pie(row, startangle=90, labels=results, autopct='%1.1f%%', colors=results_colors)\n",
        "    ax.set_title(idx)\n",
        "else:\n",
        "    [ax.set_visible(False) for ax in axes.flatten()[i+1:]]\n",
        "    \n",
        "ax.legend(labels=results, bbox_to_anchor=(1,1.5), loc='upper left') \n",
        "fig.subplots_adjust(wspace=.5)"
      ],
      "id": "3d368958-9117-4ce6-add6-c32111993b73",
      "execution_count": null,
      "outputs": []
    },
    {
      "cell_type": "markdown",
      "metadata": {
        "id": "4323210f-2b3a-45a6-a324-253067ca6937"
      },
      "source": [
        "Each age group has a very similar distribution of overall results. The noticable difference is older students seem to be more likely to pass with distinction."
      ],
      "id": "4323210f-2b3a-45a6-a324-253067ca6937"
    },
    {
      "cell_type": "markdown",
      "metadata": {
        "id": "4502125a-a1e3-40c4-a904-0c69e8f5f5eb"
      },
      "source": [
        "**Results per Gender**"
      ],
      "id": "4502125a-a1e3-40c4-a904-0c69e8f5f5eb"
    },
    {
      "cell_type": "code",
      "metadata": {
        "id": "55ef520a-8d47-45b7-98b2-019bf8efd497"
      },
      "source": [
        "# get crosstab of student result counts per module/presentation\n",
        "gen_res_freq = pd.crosstab(class_train['gender'], values=class_train['result'], columns=class_train['result'], aggfunc='count', normalize='index')\n",
        "\n",
        "# ordered list of results\n",
        "gen_res_freq = gen_res_freq[['Pass', 'Fail', 'Withdrawn', 'Distinction']]\n",
        "\n",
        "# make pie charts of results per module/presentation\n",
        "fig, axes = plt.subplots(2, 2, figsize=(10, 10))\n",
        "\n",
        "for i, (idx, row) in enumerate(gen_res_freq.iterrows()):\n",
        "    ax = axes[i // 2, i % 2]\n",
        "    row = row[row.gt(row.sum() * .01)]\n",
        "    ax.pie(row, startangle=90, labels=results, autopct='%1.1f%%', colors=results_colors)\n",
        "    ax.set_title(idx)\n",
        "else:\n",
        "    [ax.set_visible(False) for ax in axes.flatten()[i+1:]]\n",
        "    \n",
        "ax.legend(labels=results, bbox_to_anchor=(1,1.5), loc='upper left') \n",
        "fig.subplots_adjust(wspace=.5)"
      ],
      "id": "55ef520a-8d47-45b7-98b2-019bf8efd497",
      "execution_count": null,
      "outputs": []
    },
    {
      "cell_type": "markdown",
      "metadata": {
        "id": "0ea62031-aff2-4c85-8d8e-aed0f9d20482"
      },
      "source": [
        "Each gender seems to perform similarly in courses."
      ],
      "id": "0ea62031-aff2-4c85-8d8e-aed0f9d20482"
    },
    {
      "cell_type": "markdown",
      "metadata": {
        "id": "d707fa07-0d8c-4990-a5e5-df0d7889485a"
      },
      "source": [
        "**Results per disability**"
      ],
      "id": "d707fa07-0d8c-4990-a5e5-df0d7889485a"
    },
    {
      "cell_type": "code",
      "metadata": {
        "id": "960015ce-58a6-4214-9b9c-493a2001b37c"
      },
      "source": [
        "# get crosstab of student result counts per module/presentation\n",
        "dis_res_freq = pd.crosstab(class_train['disability'], values=class_train['result'], columns=class_train['result'], aggfunc='count', normalize='index')\n",
        "\n",
        "# ordered list of results\n",
        "dis_res_freq = dis_res_freq[['Pass', 'Fail', 'Withdrawn', 'Distinction']]\n",
        "\n",
        "# make pie charts of results per module/presentation\n",
        "fig, axes = plt.subplots(2, 2, figsize=(10, 10))\n",
        "\n",
        "for i, (idx, row) in enumerate(dis_res_freq.iterrows()):\n",
        "    ax = axes[i // 2, i % 2]\n",
        "    row = row[row.gt(row.sum() * .01)]\n",
        "    ax.pie(row, startangle=90, labels=results, autopct='%1.1f%%', colors=results_colors)\n",
        "    ax.set_title(idx)\n",
        "else:\n",
        "    [ax.set_visible(False) for ax in axes.flatten()[i+1:]]\n",
        "    \n",
        "ax.legend(labels=results, bbox_to_anchor=(1,1.5), loc='upper left') \n",
        "fig.subplots_adjust(wspace=.5)"
      ],
      "id": "960015ce-58a6-4214-9b9c-493a2001b37c",
      "execution_count": null,
      "outputs": []
    },
    {
      "cell_type": "markdown",
      "metadata": {
        "id": "f87033d5-9363-412b-85e6-92bc9af81f9b"
      },
      "source": [
        "Disabled students do not seem to be failing much more frequently, but the withdrawal rate is much higher in students who identify as having a disability."
      ],
      "id": "f87033d5-9363-412b-85e6-92bc9af81f9b"
    },
    {
      "cell_type": "markdown",
      "metadata": {
        "id": "d0ad8684-32ff-463c-9ea7-18db5da8db40"
      },
      "source": [
        "**Gender per Module**"
      ],
      "id": "d0ad8684-32ff-463c-9ea7-18db5da8db40"
    },
    {
      "cell_type": "code",
      "metadata": {
        "id": "dee1a523-9ad3-417e-bec0-b88430cea7f2"
      },
      "source": [
        "# makes a crosstab of genders per module/presentation\n",
        "gender_res_freq = pd.crosstab(class_train['module_presentation'], values=class_train['gender'], columns=class_train['gender'], aggfunc='count', normalize='index')\n",
        "\n",
        "# order the genders\n",
        "gender_res_freq = gender_res_freq[['M','F']]\n",
        "\n",
        "# make a pie chart of gender distribution per module/presentation\n",
        "fig, axes = plt.subplots(4, 6, figsize=(15, 10))\n",
        "\n",
        "for i, (idx, row) in enumerate(gender_res_freq.iterrows()):\n",
        "    ax = axes[i // 6, i % 6]\n",
        "    row = row[row.gt(row.sum() * .01)]\n",
        "    ax.pie(row, labels=row.index, startangle=30, colors=['lightskyblue', 'pink'])\n",
        "    ax.set_title(idx)\n",
        "else:\n",
        "    [ax.set_visible(False) for ax in axes.flatten()[i+1:]]\n",
        "\n",
        "fig.subplots_adjust(wspace=.2)"
      ],
      "id": "dee1a523-9ad3-417e-bec0-b88430cea7f2",
      "execution_count": null,
      "outputs": []
    },
    {
      "cell_type": "markdown",
      "metadata": {
        "id": "1c76f8e8-467c-4b03-9c9a-52b4df2bfac9"
      },
      "source": [
        "It seems GGG and BBB courses attract many more females than males, while The rest of the courses are dominated by male students."
      ],
      "id": "1c76f8e8-467c-4b03-9c9a-52b4df2bfac9"
    },
    {
      "cell_type": "markdown",
      "metadata": {
        "id": "300ccd77-a8f3-455a-b4bf-9552abcb9178"
      },
      "source": [
        "**Age per Module**"
      ],
      "id": "300ccd77-a8f3-455a-b4bf-9552abcb9178"
    },
    {
      "cell_type": "code",
      "metadata": {
        "tags": [],
        "id": "dd13009d-a00c-4ff6-8590-0264d2bde8c1"
      },
      "source": [
        "# make crosstab of counts of student ages per module/presentation\n",
        "stud_age_freq = pd.crosstab(class_train['module_presentation'], values=class_train['age'], columns=class_train['age'], aggfunc='count', normalize='index')\n",
        "\n",
        "# make a pie chart for each module_presentation of counts of student ages\n",
        "\n",
        "fig, axes = plt.subplots(4, 6, figsize=(15, 10))\n",
        "\n",
        "for i, (idx, row) in enumerate(stud_age_freq.iterrows()):\n",
        "    ax = axes[i // 6, i % 6]\n",
        "    row = row[row.gt(row.sum() * .01)]\n",
        "    ax.pie(row, labels=row.index, startangle=90, colors=['green', 'gold', 'red'])\n",
        "    ax.set_title(idx)\n",
        "else:\n",
        "    [ax.set_visible(False) for ax in axes.flatten()[i+1:]]\n",
        "\n",
        "fig.subplots_adjust(wspace=.2)"
      ],
      "id": "dd13009d-a00c-4ff6-8590-0264d2bde8c1",
      "execution_count": null,
      "outputs": []
    },
    {
      "cell_type": "markdown",
      "metadata": {
        "id": "c44fc283-f1f5-4717-8660-91b18f89ac0a"
      },
      "source": [
        "It seems that many of our students over 35 were interested in the AAA class which also contains the bulk of our 55+ students. There is also a higher representation of older students in the BBB and GGG courses. The rest of the courses are, as expected, dominated by younger students."
      ],
      "id": "c44fc283-f1f5-4717-8660-91b18f89ac0a"
    },
    {
      "cell_type": "markdown",
      "metadata": {
        "id": "ff726962-ffec-46e6-9b18-fa263193651e"
      },
      "source": [
        "**Scores per Assessment Type**"
      ],
      "id": "ff726962-ffec-46e6-9b18-fa263193651e"
    },
    {
      "cell_type": "code",
      "metadata": {
        "id": "b375c34d-edee-4b53-ab70-89aca4091b43"
      },
      "source": [
        "# make a box plot of each assessment type and their scores\n",
        "sns.catplot(x='assessment_type', y='score', data=reg_train, kind='box')"
      ],
      "id": "b375c34d-edee-4b53-ab70-89aca4091b43",
      "execution_count": null,
      "outputs": []
    },
    {
      "cell_type": "markdown",
      "metadata": {
        "id": "31305221-1d1a-49f9-965f-ccc465c2c362"
      },
      "source": [
        "According to our data computer marked exams get the best average scores, followed by the tutor marked exams and then the final exams."
      ],
      "id": "31305221-1d1a-49f9-965f-ccc465c2c362"
    },
    {
      "cell_type": "markdown",
      "metadata": {
        "id": "15b95789-7c15-4e28-adc2-50b78a9d440c"
      },
      "source": [
        "**Sum of Clicks to Assessment Scores**"
      ],
      "id": "15b95789-7c15-4e28-adc2-50b78a9d440c"
    },
    {
      "cell_type": "code",
      "metadata": {
        "id": "c468d9a5-ed83-4e9d-ac8a-053d0c52797c"
      },
      "source": [
        "# store the correlation coef of sum_click to score\n",
        "click_to_score = reg_train['sum_click'].astype(int).corr(reg_train['score'].astype(int))"
      ],
      "id": "c468d9a5-ed83-4e9d-ac8a-053d0c52797c",
      "execution_count": null,
      "outputs": []
    },
    {
      "cell_type": "code",
      "metadata": {
        "id": "4f178109-bfcd-4a3c-981f-f2ce020016e4"
      },
      "source": [
        "# make a scatter plot of sum click to score\n",
        "plt.figure(figsize=(10, 10))\n",
        "plt.title('Student Scores to Overall Clicks')\n",
        "plt.xlabel(\"Student Scores\")\n",
        "plt.ylabel(\"Sum of Student Clicks\")\n",
        "plt.scatter(data=reg_train, y='sum_click', x='score', alpha=.05)"
      ],
      "id": "4f178109-bfcd-4a3c-981f-f2ce020016e4",
      "execution_count": null,
      "outputs": []
    },
    {
      "cell_type": "code",
      "metadata": {
        "tags": [
          "remove_input"
        ],
        "id": "b0a0785d-1127-4ff6-92ce-786d37701e96"
      },
      "source": [
        "\n",
        "\n",
        "md(f'''\n",
        "There is a very weak positive correlation according to our correlational coefficient of {round(click_to_score, 2)} between\n",
        "with the sum of clicks and student score. Interestingly there is a spike of scores at 0 where it looks like students with \n",
        "no clicks do better than students with around 5-20 clicks. Let's take a look at these students who have high scores, but low clicks.\n",
        "''')"
      ],
      "id": "b0a0785d-1127-4ff6-92ce-786d37701e96",
      "execution_count": null,
      "outputs": []
    },
    {
      "cell_type": "code",
      "metadata": {
        "id": "dec0ba83-7e62-4c7e-be43-a005e8ec7455"
      },
      "source": [
        "# dataframe of students who had a sum click of under 1000 \n",
        "reg_train[reg_train['sum_click'] < 1000].sort_values('score', ascending=False).head(40)"
      ],
      "id": "dec0ba83-7e62-4c7e-be43-a005e8ec7455",
      "execution_count": null,
      "outputs": []
    },
    {
      "cell_type": "markdown",
      "metadata": {
        "id": "729815a3-57a6-4bc9-89c7-3bcd4a106ec0"
      },
      "source": [
        "So taking a look at the top 40 scores in students who had a sum_click under 20 but great scores, it looks like many are from the BBB module, the date submitted was either -1, the day before the course began, or otherwise very early in the course and the weight of these exams were zero to one. Perhaps this exam was one where students could not get wrong answers. Let's pick one of these zero weight exams and see what scores other students received."
      ],
      "id": "729815a3-57a6-4bc9-89c7-3bcd4a106ec0"
    },
    {
      "cell_type": "code",
      "metadata": {
        "id": "fc703b2a-be1b-4b59-8d92-cce77f35dad5"
      },
      "source": [
        "# dataframe of students with 15003 assessment id and their scores\n",
        "dataframe(reg_train[reg_train['id_assessment'] =='15003'].sort_values('score')['score'].value_counts())"
      ],
      "id": "fc703b2a-be1b-4b59-8d92-cce77f35dad5",
      "execution_count": null,
      "outputs": []
    },
    {
      "cell_type": "markdown",
      "metadata": {
        "id": "1f8ced1a-7ba9-4716-a19b-33f15572df62"
      },
      "source": [
        "So while this was probably an easy exam as so many students got 100 points, some did not. It is exams like this that are causing our spike at zero though.\n",
        "\n",
        "The relationship between average clicks is likely to be similar, but let's see what we can see."
      ],
      "id": "1f8ced1a-7ba9-4716-a19b-33f15572df62"
    },
    {
      "cell_type": "markdown",
      "metadata": {
        "id": "c9a04890-bcd7-4d0b-aa39-620d7d7dceec"
      },
      "source": [
        "**Average Clicks to Assessment Scores**"
      ],
      "id": "c9a04890-bcd7-4d0b-aa39-620d7d7dceec"
    },
    {
      "cell_type": "code",
      "metadata": {
        "id": "863ded03-5c9d-47a6-a244-e68c3e892a3b"
      },
      "source": [
        "# make a scatter plot of average click to score\n",
        "plt.figure(figsize=(10, 10))\n",
        "plt.title('Student Scores to Average Clicks')\n",
        "plt.xlabel(\"Student Scores\")\n",
        "plt.ylabel(\"Average Clicks Per Day\")\n",
        "plt.scatter(data=reg_train, y='avg_click', x='score', alpha=.05)"
      ],
      "id": "863ded03-5c9d-47a6-a244-e68c3e892a3b",
      "execution_count": null,
      "outputs": []
    },
    {
      "cell_type": "code",
      "metadata": {
        "tags": [
          "remove_input"
        ],
        "id": "c89cfdc7-b685-490b-9597-fb0021db8e9c"
      },
      "source": [
        "avg_click_to_score = reg_train['avg_click'].astype(int).corr(reg_train['score'].astype(int))\n",
        "\n",
        "md(f'''\n",
        "The same relationship seems to hold, where average clicks per day seem to be related to increased scores with a very weak, positive\n",
        "relationship of {round(avg_click_to_score,2)} but the overall effects seem to have a peak at around 6 clicks per day, where after \n",
        "that there is not much of a score increase per average click.  Students who got 100s on their exams do seem to have a much higher \n",
        "click average than their peers where many students seem to average a higher amount of clicks per day\n",
        "''')"
      ],
      "id": "c89cfdc7-b685-490b-9597-fb0021db8e9c",
      "execution_count": null,
      "outputs": []
    },
    {
      "cell_type": "markdown",
      "metadata": {
        "id": "5ba381bd-e1b5-43d5-9cea-9844534a3f8a"
      },
      "source": [
        "The same relationship seems to hold, where average clicks per day seem to be related to increased scores, but the overall effects seem to have a peak at around 6 clicks per day, where after that there is not much of a score increase per average click. Students who got 100s on their exams do seem to have a much higher click average than their peers where many students seem to have 7-9 interactions with resources per day."
      ],
      "id": "5ba381bd-e1b5-43d5-9cea-9844534a3f8a"
    },
    {
      "cell_type": "markdown",
      "metadata": {
        "id": "f6bcca9c-51dd-4d22-8f0a-c8ef295ab1b5"
      },
      "source": [
        "**Score to Module**"
      ],
      "id": "f6bcca9c-51dd-4d22-8f0a-c8ef295ab1b5"
    },
    {
      "cell_type": "code",
      "metadata": {
        "id": "cba18bbf-26cc-46b4-be56-9de6e8427bc0"
      },
      "source": [
        "# make a catplot/boxplot of module scores sorted in ascending order\n",
        "sorted_mod_score = reg_train.groupby(by=['module'])['score'].mean().sort_values().index\n",
        "sns.catplot(x='module', y='score', data=reg_train, kind='box',order=sorted_mod_score, aspect=10.7/8.27)"
      ],
      "id": "cba18bbf-26cc-46b4-be56-9de6e8427bc0",
      "execution_count": null,
      "outputs": []
    },
    {
      "cell_type": "markdown",
      "metadata": {
        "id": "3201c06c-a8c8-4d95-8af9-f12d6fcb01f8"
      },
      "source": [
        "Students in the AAA module, despite getting overall better results than students in other modules seem to have the lowest average scores.\n",
        "\n",
        "It seems that EEE, FFF and GGG have generally higher exam scores. "
      ],
      "id": "3201c06c-a8c8-4d95-8af9-f12d6fcb01f8"
    },
    {
      "cell_type": "markdown",
      "metadata": {
        "id": "b7f0d789-6d3b-4676-bf2a-c144ff04263f"
      },
      "source": [
        "**Click Sum per Module**\n",
        "\n",
        "Let's take a look at each modules clicks per student"
      ],
      "id": "b7f0d789-6d3b-4676-bf2a-c144ff04263f"
    },
    {
      "cell_type": "code",
      "metadata": {
        "id": "2676a33f-e4c7-46d4-81fd-fe3daa1fe1fb"
      },
      "source": [
        "# make a pivot table of student class size and sum click to get the clicks per student per module\n",
        "clicks_per_stud = reg_train.pivot_table(index='module', values=['sum_click', 'class_size'], aggfunc='sum')\n",
        "clicks_per_stud['click_per_student'] = clicks_per_stud['class_size'].div(clicks_per_stud['sum_click'])\n",
        "clicks_per_stud = clicks_per_stud.reset_index()"
      ],
      "id": "2676a33f-e4c7-46d4-81fd-fe3daa1fe1fb",
      "execution_count": null,
      "outputs": []
    },
    {
      "cell_type": "code",
      "metadata": {
        "tags": [],
        "id": "63ba19f8-68dc-4cdc-97c9-12f98b4248d7"
      },
      "source": [
        "# make a barplot the clicks of student per module\n",
        "sns.barplot(x='module', y='click_per_student', data=clicks_per_stud)"
      ],
      "id": "63ba19f8-68dc-4cdc-97c9-12f98b4248d7",
      "execution_count": null,
      "outputs": []
    },
    {
      "cell_type": "markdown",
      "metadata": {
        "id": "de3ccbcb-a68d-4374-b934-e6270417066f"
      },
      "source": [
        "AAA has the lowest engagement per student and BBB has the highest. Again GGG seems to have had good student engagement and likely would have had many more passing students if the exams were weighted differently."
      ],
      "id": "de3ccbcb-a68d-4374-b934-e6270417066f"
    },
    {
      "cell_type": "markdown",
      "metadata": {
        "id": "5c079b06-c6ba-4e7b-9743-1cacb7d13783"
      },
      "source": [
        "**Assessment Weight to Score**"
      ],
      "id": "5c079b06-c6ba-4e7b-9743-1cacb7d13783"
    },
    {
      "cell_type": "code",
      "metadata": {
        "id": "f618a4ee-4ba1-4711-802f-37a18c4c341e"
      },
      "source": [
        "# get the correlation coef between exam weight and score\n",
        "weight_to_score = reg_train['weight'].astype(int).corr(reg_train['score'].astype(int))"
      ],
      "id": "f618a4ee-4ba1-4711-802f-37a18c4c341e",
      "execution_count": null,
      "outputs": []
    },
    {
      "cell_type": "code",
      "metadata": {
        "id": "44c813dc-aba4-44bb-8c07-91f2afaad90f"
      },
      "source": [
        "# Make a scatterplot for exam weight to score\n",
        "plt.figure(figsize=(10, 10))\n",
        "x = np.array(reg_train['weight'].astype(int))\n",
        "y = np.array(reg_train['score'].astype(int))\n",
        "m, b = np.polyfit(x, y, 1)\n",
        "plt.scatter(x, y, alpha=.5, color='lightgrey')\n",
        "# add a line of best fit to scatterplot\n",
        "plt.plot(x, m*x + b, color='tomato', lw=4, alpha=.7)"
      ],
      "id": "44c813dc-aba4-44bb-8c07-91f2afaad90f",
      "execution_count": null,
      "outputs": []
    },
    {
      "cell_type": "code",
      "metadata": {
        "id": "1f99d590-323f-4229-85ff-a24376723ed6"
      },
      "source": [
        "md(f'''\n",
        "There is a very weak negative correlation of {round(weight_to_score)}, so It does seem as the assessment weight increases \n",
        "the average score goes down. There is a large gap in our data though since the non-final exams only go up to weight 35. \n",
        "This might dramatize our relationship here. Let's see if this relationship holds true for exams under weight 100\n",
        "''')"
      ],
      "id": "1f99d590-323f-4229-85ff-a24376723ed6",
      "execution_count": null,
      "outputs": []
    },
    {
      "cell_type": "code",
      "metadata": {
        "id": "721dfba3-9379-4305-9489-21962a316a51"
      },
      "source": [
        "under_50_weight = reg_train.loc[reg_train['weight'] < 100]\n",
        "under_50_weight_to_score = under_50_weight['weight'].astype(int).corr(under_50_weight['score'].astype(int))"
      ],
      "id": "721dfba3-9379-4305-9489-21962a316a51",
      "execution_count": null,
      "outputs": []
    },
    {
      "cell_type": "code",
      "metadata": {
        "id": "f75d5e4a-68da-4446-9475-1a452e879deb"
      },
      "source": [
        "# create a scatterplot of the exam weight to score of exams weighted under 50\n",
        "plt.figure(figsize=(10, 10))\n",
        "x = np.array(under_50_weight['weight'].astype(int))\n",
        "y = np.array(under_50_weight['score'].astype(int))\n",
        "m, b = np.polyfit(x, y, 1)\n",
        "plt.scatter(x, y, alpha=.5, color='lightgrey')\n",
        "# add a line of best fit to scatterplot\n",
        "plt.plot(x, m*x + b, color='tomato', lw=4, alpha=.7)"
      ],
      "id": "f75d5e4a-68da-4446-9475-1a452e879deb",
      "execution_count": null,
      "outputs": []
    },
    {
      "cell_type": "code",
      "metadata": {
        "id": "eb9d0044-1a8d-455e-baa0-5559d39199ef"
      },
      "source": [
        "md(f'''\n",
        "Indeed the exam scores do seem to get worse as the weight of the exams increases as we see here with a correlational coefficient of \n",
        "{round(under_50_weight_to_score, 2)}. We know the weight of the final exams is always 100,  let's see the average weight of the tutor marked exams.\n",
        "''')"
      ],
      "id": "eb9d0044-1a8d-455e-baa0-5559d39199ef",
      "execution_count": null,
      "outputs": []
    },
    {
      "cell_type": "code",
      "metadata": {
        "id": "12daaff7-09f6-424e-a708-b8631240d8fd"
      },
      "source": [
        "# create a table of the average weight of an exam per assessment type\n",
        "pd.pivot_table(reg_train, index='assessment_type', values='weight', aggfunc='mean')"
      ],
      "id": "12daaff7-09f6-424e-a708-b8631240d8fd",
      "execution_count": null,
      "outputs": []
    },
    {
      "cell_type": "markdown",
      "metadata": {
        "id": "076c66c8-1ece-48d8-81f2-072d2e01ecbd"
      },
      "source": [
        "The tutor marked exams carry a significantly higher weight than the computer marked exams"
      ],
      "id": "076c66c8-1ece-48d8-81f2-072d2e01ecbd"
    },
    {
      "cell_type": "markdown",
      "metadata": {
        "id": "1eb13f40-998a-4636-a089-9e60d769850a"
      },
      "source": [
        "**Assessment Date to Score**"
      ],
      "id": "1eb13f40-998a-4636-a089-9e60d769850a"
    },
    {
      "cell_type": "code",
      "metadata": {
        "id": "52d6c5a8-668a-472c-a2d5-ba5197234a88"
      },
      "source": [
        "# get the corr coef of date to score\n",
        "date_to_score = reg_train['date'].astype(int).corr(reg_train['score'].astype(int))"
      ],
      "id": "52d6c5a8-668a-472c-a2d5-ba5197234a88",
      "execution_count": null,
      "outputs": []
    },
    {
      "cell_type": "code",
      "metadata": {
        "tags": [],
        "id": "cc8394ba-9bac-4661-a0b9-2c3bb9835cea"
      },
      "source": [
        "# create a scatterplot of date to score relationship\n",
        "plt.figure(figsize=(10, 10))\n",
        "x = np.array(reg_train['date'].astype(int))\n",
        "y = np.array(reg_train['score'].astype(int))\n",
        "m, b = np.polyfit(x, y, 1)\n",
        "plt.scatter(x, y, alpha=.5, color='lightgrey')\n",
        "# add a line of best fit to scatterplot\n",
        "plt.plot(x, m*x + b, color='tomato', lw=4, alpha=.7)"
      ],
      "id": "cc8394ba-9bac-4661-a0b9-2c3bb9835cea",
      "execution_count": null,
      "outputs": []
    },
    {
      "cell_type": "markdown",
      "metadata": {
        "id": "8cde42b7-38ec-4c22-a431-8be85a5d4c4f"
      },
      "source": [
        "According to our line of best fit the assessment scores are getting slightly better over time. "
      ],
      "id": "8cde42b7-38ec-4c22-a431-8be85a5d4c4f"
    },
    {
      "cell_type": "markdown",
      "metadata": {
        "id": "63bc3049-6125-46d9-a156-7064a3942ef1"
      },
      "source": [
        "**Date Submitted to Score**"
      ],
      "id": "63bc3049-6125-46d9-a156-7064a3942ef1"
    },
    {
      "cell_type": "code",
      "metadata": {
        "id": "9a6fa1c7-6d2b-499c-82d9-fb0bef95ebc0"
      },
      "source": [
        "# get the corr coef of date submitted to score\n",
        "date_sub_to_score = reg_train['date_submitted'].astype(int).corr(reg_train['score'].astype(int))"
      ],
      "id": "9a6fa1c7-6d2b-499c-82d9-fb0bef95ebc0",
      "execution_count": null,
      "outputs": []
    },
    {
      "cell_type": "code",
      "metadata": {
        "id": "f5caf433-0564-4332-9ae3-805cc799d121"
      },
      "source": [
        "# create a scatterplot of date submitted to score relationship\n",
        "plt.figure(figsize=(10, 10))\n",
        "x = np.array(reg_train['date_submitted'].astype(int))\n",
        "y = np.array(reg_train['score'].astype(int))\n",
        "m, b = np.polyfit(x, y, 1)\n",
        "plt.scatter(x, y, alpha=.5, color='lightgrey')\n",
        "# add a line of best fit to scatterplot\n",
        "plt.plot(x, m*x + b, color='tomato', lw=4, alpha=.7)"
      ],
      "id": "f5caf433-0564-4332-9ae3-805cc799d121",
      "execution_count": null,
      "outputs": []
    },
    {
      "cell_type": "markdown",
      "metadata": {
        "id": "f096988c-948e-44be-8a98-e313cb8d35f3"
      },
      "source": [
        "It seems as the date submitted gets later and later, student scores get worse and worse.\n",
        "\n",
        "Let's see how, how many days late an assignment is affects the score by adding a column to indicate how many days late an assessment was by subtracting the `date` from `date_submitted`"
      ],
      "id": "f096988c-948e-44be-8a98-e313cb8d35f3"
    },
    {
      "cell_type": "markdown",
      "metadata": {
        "id": "6629a4a7-1443-45c4-8121-d1ca7cf4b482"
      },
      "source": [
        "**Lateness to Score**"
      ],
      "id": "6629a4a7-1443-45c4-8121-d1ca7cf4b482"
    },
    {
      "cell_type": "code",
      "metadata": {
        "id": "d48e1e3d-c760-44d1-99ec-1398a6b2b51f"
      },
      "source": [
        "# create a 'days_late' column by subtracting the date of the exam from the date the exam was submitted in both sets\n",
        "reg_train['days_late'] = reg_train['date_submitted'] - reg_train['date']\n",
        "reg_test['days_late'] = reg_test['date_submitted'] - reg_test['date']"
      ],
      "id": "d48e1e3d-c760-44d1-99ec-1398a6b2b51f",
      "execution_count": null,
      "outputs": []
    },
    {
      "cell_type": "code",
      "metadata": {
        "id": "ca4c9dd7-19d6-462a-8621-cf8ec2e3a902"
      },
      "source": [
        "# get the corr coef of latess to score\n",
        "lateness_to_score = reg_train['days_late'].astype(int).corr(reg_train['score'].astype(int))"
      ],
      "id": "ca4c9dd7-19d6-462a-8621-cf8ec2e3a902",
      "execution_count": null,
      "outputs": []
    },
    {
      "cell_type": "code",
      "metadata": {
        "id": "af8a0502-6298-4827-82f1-aaff60f05bb7"
      },
      "source": [
        "# create a scatterplot of exam lateness to score relationship\n",
        "plt.figure(figsize=(10, 10))\n",
        "x = np.array(reg_train['days_late'].astype(int))\n",
        "y = np.array(reg_train['score'].astype(int))\n",
        "m, b = np.polyfit(x, y, 1)\n",
        "plt.scatter(x, y, alpha=.5, color='lightgrey')\n",
        "# add a line of best fit to scatterplot\n",
        "plt.plot(x, m*x + b, color='tomato', lw=4, alpha=.7)"
      ],
      "id": "af8a0502-6298-4827-82f1-aaff60f05bb7",
      "execution_count": null,
      "outputs": []
    },
    {
      "cell_type": "markdown",
      "metadata": {
        "id": "bbb48e06-425e-4ae4-9f1c-c247f5aad312"
      },
      "source": [
        "We can see here that students who turned in their exams earlier clearly got much better scores, and the lter the turn in the worse the score trended toward. We also see that a great deal of students submitted their exams on time or early."
      ],
      "id": "bbb48e06-425e-4ae4-9f1c-c247f5aad312"
    },
    {
      "cell_type": "markdown",
      "metadata": {
        "tags": [],
        "id": "b914ea71-16bd-4ea7-884d-5f40df78dcff"
      },
      "source": [
        "**Age to Score**"
      ],
      "id": "b914ea71-16bd-4ea7-884d-5f40df78dcff"
    },
    {
      "cell_type": "code",
      "metadata": {
        "id": "6be0ff56-77eb-47d2-a984-dc782cc7c278"
      },
      "source": [
        "# make a catplot/boxplot of student age band vs their scores sorted in ascending order by score mean\n",
        "sns.catplot(x='age', y='score', data=reg_train, kind='box', palette=age_colors)"
      ],
      "id": "6be0ff56-77eb-47d2-a984-dc782cc7c278",
      "execution_count": null,
      "outputs": []
    },
    {
      "cell_type": "markdown",
      "metadata": {
        "id": "d930529e-8ace-4b21-bd2f-73807c9be1dd"
      },
      "source": [
        "The older the student, the higher the mean score though not incredibly significantly."
      ],
      "id": "d930529e-8ace-4b21-bd2f-73807c9be1dd"
    },
    {
      "cell_type": "markdown",
      "metadata": {
        "id": "282da3c5-19f7-4fdd-800e-d7be67f7f81e"
      },
      "source": [
        "**Gender to Score**"
      ],
      "id": "282da3c5-19f7-4fdd-800e-d7be67f7f81e"
    },
    {
      "cell_type": "code",
      "metadata": {
        "id": "be6e2f42-c2d5-466e-9cbb-2bd60d0f4d1b"
      },
      "source": [
        "# make a catplot/boxplot of student gender vs their scores sorted in ascending order by score mean\n",
        "sns.catplot(x='gender', y='score', data=reg_train, kind='box', palette=gen_colors)"
      ],
      "id": "be6e2f42-c2d5-466e-9cbb-2bd60d0f4d1b",
      "execution_count": null,
      "outputs": []
    },
    {
      "cell_type": "markdown",
      "metadata": {
        "id": "33b4a834-8ab9-4b54-bfee-92f5d5c9e116"
      },
      "source": [
        "Each gender is performing similarly on exams score-wise with females having a slightly higher average score."
      ],
      "id": "33b4a834-8ab9-4b54-bfee-92f5d5c9e116"
    },
    {
      "cell_type": "code",
      "metadata": {
        "id": "77e422e9-bdea-41d3-b05c-ce00abdc575a"
      },
      "source": [
        "# make a catplot/boxplot of student region vs their scores sorted in ascending order by score mean\n",
        "sorted_region_mean = reg_train.groupby(by=['region'])['score'].mean().sort_values().index\n",
        "sns.catplot(x='region', y='score', data=reg_train, kind='box', aspect=20.7/8.27, order=sorted_region_mean)"
      ],
      "id": "77e422e9-bdea-41d3-b05c-ce00abdc575a",
      "execution_count": null,
      "outputs": []
    },
    {
      "cell_type": "markdown",
      "metadata": {
        "id": "2f62bc52-ba0c-49d3-80e6-800d8f668c2f"
      },
      "source": [
        "The mean score per region is similar across the board."
      ],
      "id": "2f62bc52-ba0c-49d3-80e6-800d8f668c2f"
    },
    {
      "cell_type": "code",
      "metadata": {
        "id": "fc32db64-da3d-4a89-a9bc-a0a8065e62b0"
      },
      "source": [
        "# make a catplot/boxplot of student IMD bands vs their scores sorted in ascending order by mean\n",
        "sorted_imd_mean = reg_train.groupby(by=['imd'])['score'].mean().sort_values().index\n",
        "sns.catplot(x='imd', y='score', data=reg_train, kind='box', order=sorted_imd_mean, aspect=20.7/8.27)"
      ],
      "id": "fc32db64-da3d-4a89-a9bc-a0a8065e62b0",
      "execution_count": null,
      "outputs": []
    },
    {
      "cell_type": "markdown",
      "metadata": {
        "id": "c0fd9e04-bbf0-49d1-93ea-429bf0321f8c"
      },
      "source": [
        "The mean assessment score goes up with IMD Band similar to what we saw in results."
      ],
      "id": "c0fd9e04-bbf0-49d1-93ea-429bf0321f8c"
    },
    {
      "cell_type": "code",
      "metadata": {
        "id": "79b4c2e7-1bfb-430a-a749-7daf620353c7"
      },
      "source": [
        "# make a catplot/boxplot of student education vs their scores sorted in ascending order by mean\n",
        "sorted_edu_mean = reg_train.groupby(by=['education'])['score'].mean().sort_values().index\n",
        "sns.catplot(x='education', y='score', data=reg_train, kind='box',order=sorted_edu_mean, aspect=10.7/8.27)"
      ],
      "id": "79b4c2e7-1bfb-430a-a749-7daf620353c7",
      "execution_count": null,
      "outputs": []
    },
    {
      "cell_type": "markdown",
      "metadata": {
        "id": "915874aa-241e-492b-87ce-64f68abcc2ff"
      },
      "source": [
        "The mean score imporoves notably with education."
      ],
      "id": "915874aa-241e-492b-87ce-64f68abcc2ff"
    },
    {
      "cell_type": "code",
      "metadata": {
        "id": "aaaab6d2-b7ae-409a-bdee-d41a70dae2a6"
      },
      "source": [
        "# make a catplot/boxplot of scores per disability category sorted in ascending order by mean\n",
        "sns.catplot(x='disability', y='score', data=reg_train, kind='box', palette=dis_colors)"
      ],
      "id": "aaaab6d2-b7ae-409a-bdee-d41a70dae2a6",
      "execution_count": null,
      "outputs": []
    },
    {
      "cell_type": "markdown",
      "metadata": {
        "id": "e8f244f0-3bd2-4724-bd78-e4c86c95250b"
      },
      "source": [
        "**Clicks per Resource**"
      ],
      "id": "e8f244f0-3bd2-4724-bd78-e4c86c95250b"
    },
    {
      "cell_type": "code",
      "metadata": {
        "id": "e60f1df3-38c8-439a-86d9-6b72bcf05065"
      },
      "source": [
        "# create a barchart of the resources students interacted with sorted by number of interactions in ascending order\n",
        "plt.figure(figsize=(20, 8))\n",
        "plt.title('Student Interaction per Activity Type')\n",
        "plt.xlabel('Activity Type')\n",
        "plt.ylabel('Interaction Count')\n",
        "sns.countplot(data=merged_vle, x='activity_type', order = merged_vle['activity_type'].value_counts(ascending=True).index)"
      ],
      "id": "e60f1df3-38c8-439a-86d9-6b72bcf05065",
      "execution_count": null,
      "outputs": []
    },
    {
      "cell_type": "markdown",
      "metadata": {
        "id": "95cf0614-efe3-4a12-832e-d8431f412224"
      },
      "source": [
        "The most popular area seems to be forums where students can interact. \"oucontent\" stands for \"Open University\" content which is the source of our data. This is the meat and potatoes of Open University and is how students learn. The homepage of course is going to be a frequent click as well as subpages of the Open University. Quizzes, and resources are made available to students as well at the Open University Wiki. After this, the student interactions with certain resources grow less and less significant. "
      ],
      "id": "95cf0614-efe3-4a12-832e-d8431f412224"
    },
    {
      "cell_type": "markdown",
      "metadata": {
        "id": "313f7220-ecc5-41d8-af51-424beeb23b39"
      },
      "source": [
        "**Clicks Over Time**"
      ],
      "id": "313f7220-ecc5-41d8-af51-424beeb23b39"
    },
    {
      "cell_type": "code",
      "metadata": {
        "id": "225cb9a9-4688-4e82-9d23-c7b3fe258cec"
      },
      "source": [
        "# store  first quantile of sum_click\n",
        "Q1 = merged_vle['sum_click'].astype(float).quantile(0.25)\n",
        "\n",
        "# store third quantile of sum_click\n",
        "Q3 = merged_vle['sum_click'].astype(float).quantile(0.75)\n",
        "\n",
        "# get IQR of sum_click by subtracting 1st from 3rd quantile\n",
        "IQR = Q3 - Q1\n",
        "\n",
        "# subset only non-outliers from click data\n",
        "vle_no_outliers = merged_vle[~(merged_vle['sum_click'] > (Q3 + 1.5 * IQR))]\n",
        "\n",
        "# get the clicks per day without the outliers in pivot table\n",
        "clicks_per_day = vle_no_outliers.pivot_table(vle_no_outliers, index='date', aggfunc='sum').reset_index()"
      ],
      "id": "225cb9a9-4688-4e82-9d23-c7b3fe258cec",
      "execution_count": null,
      "outputs": []
    },
    {
      "cell_type": "code",
      "metadata": {
        "id": "e8832b04-78b1-4eb0-b6f1-96948ca7f771"
      },
      "source": [
        "# get corr coef of clicks to date without outliers\n",
        "clicks_to_date = reg_train['days_late'].astype(int).corr(merged_assessments['score'].astype(int))"
      ],
      "id": "e8832b04-78b1-4eb0-b6f1-96948ca7f771",
      "execution_count": null,
      "outputs": []
    },
    {
      "cell_type": "code",
      "metadata": {
        "id": "5a5420e8-893a-4bcf-84d4-f7d9a008d463"
      },
      "source": [
        "# make a pivot table of click sum per day overall for students and plot it in a scatterplot\n",
        "clicks_per_day = vle_no_outliers.pivot_table(vle_no_outliers, index='date', aggfunc='sum').reset_index()\n",
        "plt.figure(figsize=(10, 10))\n",
        "x = np.array(clicks_per_day['date'].astype(int))\n",
        "y = np.array(clicks_per_day['sum_click'].astype(int))\n",
        "m, b = np.polyfit(x, y, 1)\n",
        "plt.scatter(x, y, alpha=.5, color='lightgrey')\n",
        "# make a line of best fit for scatterplot\n",
        "plt.plot(x, m*x + b, color='tomato', lw=4, alpha=.7)"
      ],
      "id": "5a5420e8-893a-4bcf-84d4-f7d9a008d463",
      "execution_count": null,
      "outputs": []
    },
    {
      "cell_type": "markdown",
      "metadata": {
        "id": "f584976f-4808-4dd7-9e6e-44a86db1ce11"
      },
      "source": [
        "The clicks per day overall start quite high, but decrease sharply up until day 75 when they start to go up and then drop again around day 150 repeating this pattern until the end of the modules. It is interesting that it is every 75 days that student interest reaches a low point, and then rises again."
      ],
      "id": "f584976f-4808-4dd7-9e6e-44a86db1ce11"
    },
    {
      "cell_type": "markdown",
      "metadata": {
        "id": "8e2e4af0-b90a-4700-b897-dd0791d277ad"
      },
      "source": [
        "Final Cleaning\n",
        "\n",
        "* For ages we see that there is less than 1% of people in the 55 and over range and so we will combine that with the 35-55 range to make two ranges: 0-35 and 35+\n",
        "\n",
        "* We will be using classification to identify students as having negative or positive results and so will identify `Distinction` and `Pass` as positive results which we will label as boolean True and `Fail` and `Withdrawn` as negative results which we will label as boolean False. This will be done in another column.\n",
        "\n",
        "* We can merge the courses and student information data frames to add the course length to student information as a potential predictor of student success.\n",
        "\n",
        "* We can then merge the assessments and student information dataframes to add student demographical information, and the course length as potential predictors of student assessment scores.\n",
        "\n",
        "* We will merge the VLE and student outcome data (pass, fail, withdrawn, distinction) to predict student outcomes based on resource interaction."
      ],
      "id": "8e2e4af0-b90a-4700-b897-dd0791d277ad"
    },
    {
      "cell_type": "code",
      "metadata": {
        "tags": [],
        "id": "c8890301-b5b3-40e4-8c7f-1513fc862dcb"
      },
      "source": [
        "# replace ages and results values to be more model-friendly in train and test set for si\n",
        "si_train = stud_info_train.replace({'age':{'55<=':'35+', '35-55':'35+'}, 'result':{'Pass':'Pos','Fail':'Neg','Distinction':'Pos','Withdrawn':'Neg'}})\n",
        "si_test = stud_info_test.replace({'age':{'55<=':'35+', '35-55':'35+'}, 'result':{'Pass':'Pos','Fail':'Neg','Distinction':'Pos','Withdrawn':'Neg'}})\n",
        "\n",
        "# create course_length column in test/train set\n",
        "si_train['course_length'] = 0\n",
        "si_test['course_length'] = 0\n",
        "\n",
        "# assign course_length from courses dataframe to training set for appropriate module/presentation\n",
        "for index, row in si_train.iterrows():\n",
        "    # change assessments date at current index to the course_length found in courses by locating the matching module/presentation\n",
        "    si_train.at[index, 'course_length'] = courses.loc[(courses['module'] == row['module']) & (courses['presentation'] == row['presentation']), 'course_length']\n",
        "\n",
        "# assign course_length from courses dataframe to testing set for appropriate module/presentation\n",
        "for index, row in si_test.iterrows():\n",
        "    si_test.at[index, 'course_length'] = courses.loc[(courses['module'] == row['module']) & (courses['presentation'] == row['presentation']), 'course_length']\n",
        "\n",
        "# change \n",
        "si_train = si_train.astype({'region':'category', 'imd':'category', 'education':'category', 'disability':'category', 'gender':'category', 'result':'category', 'age':'category'})\n",
        "si_test = si_test.astype({'region':'category', 'imd':'category', 'education':'category', 'disability':'category', 'gender':'category', 'result':'category', 'age':'category'})\n",
        "\n",
        "# change order of rows to remove target/to make sense\n",
        "si_train = si_train[['region', 'imd', 'age', 'gender', 'education', 'disability', 'date_registration', 'attempts', 'credits', 'class_size', 'course_length', 'sum_click', 'avg_click', 'result']]\n",
        "si_test = si_test[['region', 'imd', 'age', 'gender', 'education', 'disability', 'date_registration', 'attempts', 'credits', 'class_size', 'course_length', 'sum_click', 'avg_click', 'result']]\n"
      ],
      "id": "c8890301-b5b3-40e4-8c7f-1513fc862dcb",
      "execution_count": null,
      "outputs": []
    },
    {
      "cell_type": "code",
      "metadata": {
        "tags": [],
        "id": "b8b01071-f367-4a6c-9355-b7bfbd80537e"
      },
      "source": [
        "pd.set_option('display.max_columns', None)\n",
        "\n",
        "# replace ages and results values to be more model-friendly in train and test set for reg\n",
        "reg_train = reg_train.replace({'age':{'55<=':'35+', '35-55':'35+'}, 'result':{'Pass':'Pos','Fail':'Neg','Distinction':'Pos','Withdrawn':'Neg'}})\n",
        "reg_test = reg_test.replace({'age':{'55<=':'35+', '35-55':'35+'}, 'result':{'Pass':'Pos','Fail':'Neg','Distinction':'Pos','Withdrawn':'Neg'}})\n",
        "\n",
        "# remove any rows that are not properly merged\n",
        "reg_train = reg_train[reg_train['_merge'] == 'both']\n",
        "reg_test = reg_test[reg_test['_merge'] == 'both']\n",
        "\n",
        "# create course_length column in test/train set\n",
        "reg_train['course_length'] = 0\n",
        "reg_test['course_length'] = 0\n",
        "\n",
        "# assign course_length from courses dataframe to training set for appropriate module/presentation\n",
        "for index, row in reg_train.iterrows():\n",
        "    reg_train.at[index, 'course_length'] = courses.loc[(courses['module'] == row['module']) & (courses['presentation'] == row['presentation']), 'course_length']\n",
        "\n",
        "# assign course_length from courses dataframe to testing set for appropriate module/presentation\n",
        "for index, row in reg_test.iterrows():\n",
        "    reg_test.at[index, 'course_length'] = courses.loc[(courses['module'] == row['module']) & (courses['presentation'] == row['presentation']), 'course_length']\n",
        "\n",
        "# drop columns that are not for prediction\n",
        "assm_train = reg_train.drop(columns=['_merge', 'module', 'presentation', 'module_presentation', 'id_student', 'id_assessment'])\n",
        "assm_test = reg_test.drop(columns=['_merge', 'module', 'presentation', 'module_presentation', 'id_student', 'id_assessment'])\n",
        "\n",
        "assm_train = assm_train.astype({'region':'category', 'imd':'category', 'education':'category', 'disability':'category', 'gender':'category', 'age':'category', 'assessment_type':'category'})\n",
        "assm_test = assm_test.astype({'region':'category', 'imd':'category', 'education':'category', 'disability':'category', 'gender':'category', 'age':'category', 'assessment_type':'category'})\n",
        "\n",
        "# change order of rows to remove target/to make sense\n",
        "assm_train = assm_train[['region', 'imd', 'age', 'gender', 'education', 'disability', 'date_registration', 'attempts', 'credits', 'class_size', 'course_length', 'sum_click', 'avg_click', 'assessment_type', 'weight', 'date', 'days_late', 'score']]\n",
        "assm_test = assm_test[['region', 'imd', 'age', 'gender', 'education', 'disability', 'date_registration', 'attempts', 'credits', 'class_size', 'course_length', 'sum_click', 'avg_click', 'assessment_type', 'weight', 'date', 'days_late', 'score']]"
      ],
      "id": "b8b01071-f367-4a6c-9355-b7bfbd80537e",
      "execution_count": null,
      "outputs": []
    },
    {
      "cell_type": "markdown",
      "metadata": {
        "id": "f597e92c-9797-479c-a7fb-8c0d748d3edf"
      },
      "source": [
        "Note:\n",
        "\n",
        "We will be using classification for the the student info/result dataframe to find the best predictors of student outcomes overall and then seperately combining the student info/assessments dataframe and using regression to find the best predictors of student exam scores.\n",
        "\n",
        "It would be presumable that these would line up with one another, afterall if a student gets good exam scores, generally they will get a successful outcome, and the opposite should also be true. In this case though, predictors of student exam scores may not align with the predictors of student outcome since many exams are weighted at zero or a very low weight potentially resulting in students doing well on many exams despite not passing the course. This also can show the scores of students who withdrew and so achieved a negative result despite getting good scores.\n",
        "\n",
        "We will also be assessing the relationship between student interaction with certain resources and student success using classification."
      ],
      "id": "f597e92c-9797-479c-a7fb-8c0d748d3edf"
    },
    {
      "cell_type": "markdown",
      "metadata": {
        "id": "57d3e512-72d0-4d1d-a80b-2cccd3b7f6fa"
      },
      "source": [
        "## Modeling\n",
        "---"
      ],
      "id": "57d3e512-72d0-4d1d-a80b-2cccd3b7f6fa"
    },
    {
      "cell_type": "code",
      "metadata": {
        "id": "5dc65566-e4de-4f49-aedf-471299c83a03"
      },
      "source": [
        "# import sklean libraries\n",
        "from sklearn.model_selection import StratifiedShuffleSplit, GridSearchCV, cross_val_score\n",
        "from sklearn.feature_selection import SelectKBest, f_classif, chi2 \n",
        "from sklearn.svm import SVC\n",
        "from sklearn.naive_bayes import GaussianNB\n",
        "from sklearn.tree import DecisionTreeClassifier\n",
        "from sklearn.neighbors import KNeighborsClassifier\n",
        "from sklearn.linear_model import LinearRegression, SGDClassifier\n",
        "from sklearn import preprocessing\n",
        "from sklearn.preprocessing import StandardScaler, OneHotEncoder, LabelEncoder, OrdinalEncoder, RobustScaler\n",
        "from sklearn.metrics import roc_curve, precision_recall_curve, auc, make_scorer, recall_score, accuracy_score, precision_score, confusion_matrix\n",
        "from sklearn.ensemble import RandomForestClassifier\n",
        "from sklearn.compose import ColumnTransformer\n",
        "from sklearn.pipeline import make_pipeline\n",
        "from sklearn.metrics import precision_recall_fscore_support\n",
        "from sklearn.linear_model import LogisticRegression"
      ],
      "id": "5dc65566-e4de-4f49-aedf-471299c83a03",
      "execution_count": null,
      "outputs": []
    },
    {
      "cell_type": "markdown",
      "metadata": {
        "id": "ANGONibtzXcn"
      },
      "source": [
        "### Classification"
      ],
      "id": "ANGONibtzXcn"
    },
    {
      "cell_type": "code",
      "metadata": {
        "id": "VTPxAzVP7Pq0"
      },
      "source": [
        "# replace results with 1 for positive results and 0 for negative result to pass \n",
        "# more easily through models\n",
        "si_train = si_train.replace({'result': {'Pos':1, 'Neg':0}})\n",
        "si_test = si_test.replace({'result': {'Pos':1, 'Neg':0}})\n",
        "\n",
        "# seperate training and testing sets into features and labels\n",
        "si_X_train, si_Y_train, si_X_test, si_Y_test = pd.get_dummies(si_train.iloc[:,0:-1]), si_train.iloc[:,-1:], pd.get_dummies(si_test.iloc[:,0:-1]), si_test.iloc[:,-1:]\n"
      ],
      "id": "VTPxAzVP7Pq0",
      "execution_count": null,
      "outputs": []
    },
    {
      "cell_type": "code",
      "metadata": {
        "id": "YeA7Yynf6Z0i"
      },
      "source": [
        "si_train.corr()"
      ],
      "id": "YeA7Yynf6Z0i",
      "execution_count": null,
      "outputs": []
    },
    {
      "cell_type": "code",
      "metadata": {
        "id": "eN9ExYAM7WiM"
      },
      "source": [
        "get_kbest(si_X_train, si_Y_train)"
      ],
      "id": "eN9ExYAM7WiM",
      "execution_count": null,
      "outputs": []
    },
    {
      "cell_type": "code",
      "metadata": {
        "id": "317OXCI6Br1V"
      },
      "source": [
        "si_kbest_feats = ['sum_click', 'avg_click', 'credits', 'age', 'imd', 'course_length', 'class_size']\n",
        "si_X_train, si_X_test = pd.get_dummies(si_train[si_kbest_feats]), pd.get_dummies(si_test[si_kbest_feats])"
      ],
      "id": "317OXCI6Br1V",
      "execution_count": null,
      "outputs": []
    },
    {
      "cell_type": "code",
      "metadata": {
        "id": "jHzAbBIHBylZ"
      },
      "source": [
        "stud_nums = ['course_length', 'class_size', 'credits', 'sum_click', 'avg_click']\n",
        "\n",
        "si_transformer = ColumnTransformer(\n",
        "    [('scaler', RobustScaler(), stud_nums)],\n",
        "    remainder='passthrough'\n",
        ")"
      ],
      "id": "jHzAbBIHBylZ",
      "execution_count": null,
      "outputs": []
    },
    {
      "cell_type": "code",
      "metadata": {
        "id": "eu62kLeIB9Li"
      },
      "source": [
        "gnb_clf = make_pipeline(si_transformer, GaussianNB())\n",
        "gnb_clf.fit(si_X_train, si_Y_train)\n",
        "gnb_clf.score(si_X_test, si_Y_test)\n",
        "##gnb_pred = gnb_clf.predict(si_X_test)\n",
        "#precision_recall_fscore_support(si_Y_test, gnb_pred, average='micro')"
      ],
      "id": "eu62kLeIB9Li",
      "execution_count": null,
      "outputs": []
    },
    {
      "cell_type": "code",
      "metadata": {
        "id": "nUG7ZgptB37A"
      },
      "source": [
        "sgd_clf = make_pipeline(si_transformer,\n",
        "                    SGDClassifier(max_iter=1000, tol=1e-3))\n",
        "sgd_clf.fit(si_X_train, si_Y_train)\n",
        "sgd_clf.predict(si_X_test)\n",
        "sgd_clf.score(si_X_test, si_Y_test)"
      ],
      "id": "nUG7ZgptB37A",
      "execution_count": null,
      "outputs": []
    },
    {
      "cell_type": "code",
      "metadata": {
        "id": "oINHAKjGB7V0"
      },
      "source": [
        "dtc_clf = make_pipeline(si_transformer, DecisionTreeClassifier())\n",
        "dtc_clf.fit(si_X_train, si_Y_train)\n",
        "dtc_clf.score(si_X_test, si_Y_test)"
      ],
      "id": "oINHAKjGB7V0",
      "execution_count": null,
      "outputs": []
    },
    {
      "cell_type": "code",
      "metadata": {
        "id": "lfSINNrFDGjF"
      },
      "source": [
        "# SVM SVC Classifier Test"
      ],
      "id": "lfSINNrFDGjF",
      "execution_count": null,
      "outputs": []
    },
    {
      "cell_type": "code",
      "metadata": {
        "id": "LNgrmmGvDMvS"
      },
      "source": [
        "# KNearestNeighbors classifier test\n",
        "knn_clf = make_pipeline(si_transformer, KNeighborsClassifier())\n",
        "knn_clf.fit(si_X_train, si_Y_train)\n",
        "knn_clf.score(si_X_test, si_Y_test)"
      ],
      "id": "LNgrmmGvDMvS",
      "execution_count": null,
      "outputs": []
    },
    {
      "cell_type": "code",
      "metadata": {
        "id": "TyQWvlIADdCl"
      },
      "source": [
        "#Random Forest Classifier Test\n",
        "rf_clf = make_pipeline(si_transformer, RandomForestClassifier())\n",
        "rf_clf.fit(si_X_train, si_Y_train)\n",
        "rf_clf.score(si_X_test, si_Y_test)"
      ],
      "id": "TyQWvlIADdCl",
      "execution_count": null,
      "outputs": []
    },
    {
      "cell_type": "code",
      "metadata": {
        "id": "hsoFTulpD6_b"
      },
      "source": [
        "# Random Forest GridSearchCV\n",
        "parameters = {'criterion': [\"gini\", \"entropy\"],\n",
        "              'n_estimators': [50, 60, 70, 80, 90, 100, 110, 120, 130],\n",
        "              'max_depth': [range(1, 20), None],\n",
        "              \"max_features\": ['auto', 'sqrt', 'log2']\n",
        "              }\n",
        "\n",
        "\n",
        "RF_clf = GridSearchCV(estimator = RandomForestClassifier(), param_grid=parameters, cv = 2, n_jobs = -1)\n",
        "RF_clf.fit(si_X_train, si_Y_train)\n",
        "RF_clf.best_params_"
      ],
      "id": "hsoFTulpD6_b",
      "execution_count": null,
      "outputs": []
    },
    {
      "cell_type": "code",
      "metadata": {
        "id": "MXxEihWpKXEr"
      },
      "source": [
        "#Random Forest Classifier Test\n",
        "rf_clf = make_pipeline(si_transformer, RandomForestClassifier(criterion='entropy', max_depth=None, max_features='auto', n_estimators=100, random_state=42))\n",
        "rf_clf.fit(si_X_train, si_Y_train)\n",
        "rf_clf.score(si_X_test, si_Y_test)"
      ],
      "id": "MXxEihWpKXEr",
      "execution_count": null,
      "outputs": []
    },
    {
      "cell_type": "code",
      "metadata": {
        "id": "f5mY6X41DUrQ"
      },
      "source": [
        "# SVC GridSearchCV\n",
        "parameters = {'kernel': ['linear', 'poly', 'rbf', 'sigmoid'],\n",
        "              'gamma': ['scale','auto'],\n",
        "              'shrinking': [1, 0]\n",
        "              }\n",
        "\n",
        "svc_gs = GridSearchCV(estimator = SVC(), param_grid=parameters, cv = 2, n_jobs = -1)\n",
        "svc_gs.fit(si_X_train, si_Y_train)\n",
        "svc_gs.best_params_"
      ],
      "id": "f5mY6X41DUrQ",
      "execution_count": null,
      "outputs": []
    },
    {
      "cell_type": "code",
      "metadata": {
        "id": "ZAiaHi04Q2We"
      },
      "source": [
        "svc_clf = make_pipeline(si_transformer, SVC())\n",
        "svc_clf.fit(si_X_train, si_Y_train)\n",
        "svc_clf.score(si_X_test, si_Y_test)"
      ],
      "id": "ZAiaHi04Q2We",
      "execution_count": null,
      "outputs": []
    },
    {
      "cell_type": "markdown",
      "metadata": {
        "id": "vq8K2OZJzgC1"
      },
      "source": [
        "### Regression"
      ],
      "id": "vq8K2OZJzgC1"
    },
    {
      "cell_type": "code",
      "metadata": {
        "id": "20a122af-cfda-46c9-aded-0edcd61f09bf"
      },
      "source": [
        "assm_train.corr()"
      ],
      "id": "20a122af-cfda-46c9-aded-0edcd61f09bf",
      "execution_count": null,
      "outputs": []
    },
    {
      "cell_type": "code",
      "metadata": {
        "tags": [],
        "id": "91ccfc84-3342-4be1-9375-59fadb1d0ac6"
      },
      "source": [
        "# seperate training and testing sets into features and labels\n",
        "assm_X_train, assm_Y_train, assm_X_test, assm_Y_test = pd.get_dummies(assm_train.iloc[:,0:-1]), assm_train.iloc[:,-1:], pd.get_dummies(assm_test.iloc[:,0:-1]), assm_test.iloc[:,-1:]"
      ],
      "id": "91ccfc84-3342-4be1-9375-59fadb1d0ac6",
      "execution_count": null,
      "outputs": []
    },
    {
      "cell_type": "markdown",
      "metadata": {
        "id": "e2dd0635-5e2a-49d4-afd4-a4ccfd563871"
      },
      "source": [
        "We must seperate the target from the features in all testing and training sets"
      ],
      "id": "e2dd0635-5e2a-49d4-afd4-a4ccfd563871"
    },
    {
      "cell_type": "code",
      "metadata": {
        "id": "3aac7a13-63e3-40a9-8408-665c114d9c1a"
      },
      "source": [
        "get_kbest(assm_X_train, assm_Y_train.values)"
      ],
      "id": "3aac7a13-63e3-40a9-8408-665c114d9c1a",
      "execution_count": null,
      "outputs": []
    },
    {
      "cell_type": "code",
      "metadata": {
        "id": "7aeb5f4c-407d-4f02-b98a-6a0cfc66eb4f"
      },
      "source": [
        "assm_kbest_feats = ['weight', 'date', 'class_size', 'days_late', 'sum_click', 'assessment_type', 'course_length', 'avg_click', 'gender',  'credits', 'date_registration']\n",
        "assm_X_train, assm_X_test = pd.get_dummies(assm_train[assm_kbest_feats]), pd.get_dummies(assm_test[assm_kbest_feats])"
      ],
      "id": "7aeb5f4c-407d-4f02-b98a-6a0cfc66eb4f",
      "execution_count": null,
      "outputs": []
    },
    {
      "cell_type": "code",
      "metadata": {
        "id": "e52bca37-b5dc-4659-a48d-ce1cbe042081"
      },
      "source": [
        "assm_nums = stud_nums + ['days_late', 'weight' ,'date', 'date_registration']\n",
        "\n",
        "assm_transformer = ColumnTransformer(\n",
        "   [('scaler', RobustScaler(), assm_nums)],\n",
        "    remainder='passthrough'\n",
        ")"
      ],
      "id": "e52bca37-b5dc-4659-a48d-ce1cbe042081",
      "execution_count": null,
      "outputs": []
    },
    {
      "cell_type": "code",
      "metadata": {
        "id": "0b0b6818-7a80-4ddd-8b72-3511dc4ec12b"
      },
      "source": [
        "reg = make_pipeline(assm_transformer, LinearRegression())\n",
        "reg.fit(assm_X_train, assm_Y_train)\n",
        "reg.score(assm_X_test, assm_Y_test)\n",
        "#print(reg.coef_, reg.intercept_)"
      ],
      "id": "0b0b6818-7a80-4ddd-8b72-3511dc4ec12b",
      "execution_count": null,
      "outputs": []
    },
    {
      "cell_type": "code",
      "metadata": {
        "id": "tv31p9oAKJUm"
      },
      "source": [
        "from sklearn.svm import SVR\n",
        "regr = make_pipeline(StandardScaler(), SVR(kernal='linear', C=1.0, epsilon=0.2))\n",
        "regr.fit(assm_X_train, assm_Y_train)\n",
        "print(regr.score(assm_X_test, assm_X_test))"
      ],
      "id": "tv31p9oAKJUm",
      "execution_count": null,
      "outputs": []
    },
    {
      "cell_type": "code",
      "metadata": {
        "id": "xKlCS_pTRFcz"
      },
      "source": [
        "clf = LogisticRegression(random_state=0).fit(assm_X_train, assm_Y_train)\n",
        "clf.predict()\n",
        "clf.score(assm_X_test, assm_Y_test)"
      ],
      "id": "xKlCS_pTRFcz",
      "execution_count": null,
      "outputs": []
    },
    {
      "cell_type": "code",
      "metadata": {
        "id": "367b455d-221f-4cfd-9cbf-cd8cc771ca66"
      },
      "source": [
        "import warnings\n",
        "warnings.filterwarnings('ignore')\n",
        "\n",
        "from sklearn.metrics import classification_report\n",
        "from sklearn.metrics import mean_squared_error"
      ],
      "id": "367b455d-221f-4cfd-9cbf-cd8cc771ca66",
      "execution_count": null,
      "outputs": []
    },
    {
      "cell_type": "code",
      "metadata": {
        "tags": [],
        "id": "1615bbca-9d36-4c0b-b589-e9d4c6d3ea8a"
      },
      "source": [
        "# Predict the training data\n",
        "lm_pred = lm_pipeline.predict(assm_X_test)\n",
        "#mean_squared_error(assm_Y_test, lm_train_predictions)\n",
        "\n",
        "# Now let's evaluate the model\n",
        "import sklearn.metrics as metrics\n",
        "\n",
        "def regression_eval(X, y, predictions):\n",
        "    MSE = metrics.mean_squared_error(y, predictions)\n",
        "    RMSE = np.sqrt(MSE)\n",
        "    R2 = metrics.r2_score(y, predictions)\n",
        "    adj_R2 = 1 - ( (1-R2)*(len(y)-1)/(len(y)-X.shape[1]-1) )\n",
        "\n",
        "    print(\"-----------------------\")\n",
        "    print('RMSE is {}'.format(RMSE))\n",
        "    print('Adjusted R2 score is {}\\n'.format(adj_R2))\n",
        "\n",
        "#print(mean_squared_error(Y_test, Y_predicted))\n",
        "#print(math.sqrt(mean_squared_error(Y_test, Y_predicted)))\n",
        "    \n",
        "### For training set ###\n",
        "print(\"Model performance for training set:\")\n",
        "regression_eval(assm_X_test, assm_Y_test, lm_pred)"
      ],
      "id": "1615bbca-9d36-4c0b-b589-e9d4c6d3ea8a",
      "execution_count": null,
      "outputs": []
    },
    {
      "cell_type": "code",
      "metadata": {
        "id": "7200a4a7-7aa5-4abe-8478-d46630d97d7d"
      },
      "source": [
        "# put in right variables\n",
        "# put all through pipline\n",
        "# score all properly\n",
        "# gridsearch all"
      ],
      "id": "7200a4a7-7aa5-4abe-8478-d46630d97d7d",
      "execution_count": null,
      "outputs": []
    },
    {
      "cell_type": "code",
      "metadata": {
        "id": "c6990a12-b4fe-437c-8339-a3c820f28ba8"
      },
      "source": [
        ""
      ],
      "id": "c6990a12-b4fe-437c-8339-a3c820f28ba8",
      "execution_count": null,
      "outputs": []
    },
    {
      "cell_type": "code",
      "metadata": {
        "id": "a4b98b04-d3d0-4072-a989-c217b5e1f4ce"
      },
      "source": [
        ""
      ],
      "id": "a4b98b04-d3d0-4072-a989-c217b5e1f4ce",
      "execution_count": null,
      "outputs": []
    },
    {
      "cell_type": "code",
      "metadata": {
        "id": "f6be0de5-247f-438f-812d-1aabf1050be4"
      },
      "source": [
        ""
      ],
      "id": "f6be0de5-247f-438f-812d-1aabf1050be4",
      "execution_count": null,
      "outputs": []
    },
    {
      "cell_type": "code",
      "metadata": {
        "id": "673e5c34-bf6d-4efb-ab84-18d564e9d62b"
      },
      "source": [
        "# KNearestNeighbors classifier test\n",
        "knn_clf = KNeighborsClassifier(\n",
        "leaf_size= 1,\n",
        "metric= 'minkowski',\n",
        "n_neighbors= 3,\n",
        "p= 1,\n",
        "weights= 'distance')\n",
        "knn_clf.fit(assm_X_train, assm_Y_train)\n",
        "knn_clf.score(assm_X_test, assm_Y_test)"
      ],
      "id": "673e5c34-bf6d-4efb-ab84-18d564e9d62b",
      "execution_count": null,
      "outputs": []
    },
    {
      "cell_type": "code",
      "metadata": {
        "id": "35999eb1-d849-4af5-91a1-22d717ce4fc6"
      },
      "source": [
        "#Random Forest Classifier Test\n",
        "rf_clf = RandomForestClassifier(criterion= 'gini',\n",
        "max_depth= 2,\n",
        "max_features= 'log2',\n",
        "n_estimators= 50)\n",
        "rf_pred = rf_clf.fit(assm_X_train)\n",
        "#rf_clf.score(assm_X_test, assm_Y_test)"
      ],
      "id": "35999eb1-d849-4af5-91a1-22d717ce4fc6",
      "execution_count": null,
      "outputs": []
    },
    {
      "cell_type": "code",
      "metadata": {
        "id": "dbf86fba-d532-4ec8-920c-a96d44229b5d"
      },
      "source": [
        "from sklearn.metrics import confusion_matrix\n"
      ],
      "id": "dbf86fba-d532-4ec8-920c-a96d44229b5d",
      "execution_count": null,
      "outputs": []
    },
    {
      "cell_type": "code",
      "metadata": {
        "tags": [],
        "id": "d9505a6a-215f-470a-afb0-114acc571c8a"
      },
      "source": [
        "# Naive Bayes Classifier Test\n",
        "# clf = GaussianNB()\n",
        "# clf.fit(features_train, labels_train)\n",
        "\n",
        "#Results\n",
        "#GaussianNB()\n",
        "# Accuracy: 0.73900    Precision: 0.22604    Recall: 0.39500    F1: 0.28753    F2: 0.34363\n",
        "# Total predictions: 15000    True positives:  790    False positives: 2705    False negatives: 1210    True negatives: 10295\n",
        "\n",
        "# Decision Tree Classifier Test\n",
        "clf = DecisionTreeClassifier(criterion= 'gini',\n",
        " max_depth= None,\n",
        " max_features= 3,\n",
        " min_samples_leaf= 1,\n",
        " min_samples_split= 13,\n",
        " random_state = 8,\n",
        " splitter= 'best')\n",
        "clf.fit(features_train, labels_train)\n",
        "\n",
        "#Before Tuning\n",
        "#DecisionTreeClassifier()\n",
        "#Accuracy: 0.79633    Precision: 0.22879    Recall: 0.22250    F1: 0.22560    F2: 0.22373\n",
        "#Total predictions: 15000    True positives:  445    False positives: 1500    False negatives: 1555    True negatives: 11500\n",
        "\n",
        "#After Tuning\n",
        "# DecisionTreeClassifier(max_features=9, min_samples_split=13, random_state=8)\n",
        "# \tAccuracy: 0.83653\tPrecision: 0.37416\tRecall: 0.33600\tF1: 0.35406\tF2: 0.34300\n",
        "# \tTotal predictions: 15000\tTrue positives:  672\tFalse positives: 1124\tFalse negatives: 1328\tTrue negatives: 11876\n",
        "\n",
        "# SVM SVC Classifier Test\n",
        "# clf = SVC(gamma= 'scale', kernel= 'poly', shrinking = 1)\n",
        "# clf.fit(features_train, labels_train)\n",
        "\n",
        "#Before Tuning\n",
        "#SVC()\n",
        "#Accuracy: 0.86267    Precision: 0.30000    Recall: 0.02250    F1: 0.04186    F2: 0.02761\n",
        "#Total predictions: 15000    True positives:   45    False positives:  105    False negatives: 1955    True negatives: 12895\n",
        "\n",
        "# After Tuning\n",
        "# Accuracy: 0.86820\tPrecision: 0.55502\tRecall: 0.05800\tF1: 0.10502\tF2: 0.07065\n",
        "# Total predictions: 15000\tTrue positives:  116\tFalse positives:   93\tFalse negatives: 1884\tTrue negatives: 12907\n",
        "\n",
        "# KNearestNeighbors classifier test\n",
        "#clf = KNeighborsClassifier(\n",
        "# leaf_size= 1,\n",
        "# metric= 'minkowski',\n",
        "# n_neighbors= 3,\n",
        "# p= 1,\n",
        "# weights= 'distance')\n",
        "#clf.fit(features_train, labels_train)\n",
        "\n",
        "#Before Tuning\n",
        "# KNeighborsClassifier()\n",
        "# Accuracy: 0.87920    Precision: 0.65461    Recall: 0.19900    F1: 0.30521    F2: 0.23118\n",
        "# Total predictions: 15000    True positives:  398    False positives:  210    False negatives: 1602    True negatives: 12790\n",
        "\n",
        "#Random Forest Classifier Test\n",
        "# clf = RandomForestClassifier(criterion= 'gini',\n",
        "# max_depth= 2,\n",
        "# max_features= 'log2',\n",
        "# n_estimators= 50)\n",
        "#clf.fit(features_train, labels_train)\n",
        "\n",
        "#Before Tuning\n",
        "#RandomForestClassifier()\n",
        "# Accuracy: 0.86027    Precision: 0.42027    Recall: 0.12650    F1: 0.19447    F2: 0.14706\n",
        "# Total predictions: 15000    True positives:  253    False positives:  349    False negatives: 1747    True negatives: 12651\n",
        "\n",
        "### Task 5: Tune your classifier to achieve better than .3 precision and recall\n",
        "### using our testing script. Check the tester.py script in the final project\n",
        "### folder for details on the evaluation method, especially the test_classifier\n",
        "### function. Because of the small size of the dataset, the script uses\n",
        "### stratified shuffle split cross validation. For more info:\n",
        "### http://scikit-learn.org/stable/modules/generated/sklearn.cross_validation.StratifiedShuffleSplit.html\n",
        "\n",
        "# Example starting point. Try investigating other evaluation techniques!\n",
        "\n",
        "#KNearest Neighbors GridSearchCV\n",
        "#parameters = {\n",
        "#    'algorithm': ['auto', 'ball_tree', 'kd_tree', 'brute'],\n",
        "#    'n_neighbors': range(1,8),\n",
        "#    'leaf_size': range(1,50),\n",
        "#    'p': [1,2],\n",
        "#    'weights': ['uniform', 'distance'],\n",
        "#   'metric': ['minkowski', 'chebyshev', 'euclidean', 'manhattan']\n",
        "#}\n",
        "#KNN_clf = GridSearchCV(clf, parameters, n_jobs = -1)\n",
        "#KNN_clf.fit(features_train, labels_train)\n",
        "#KNN_clf.best_params_\n",
        "\n",
        "#Decision Tree GridSearchCV\n",
        "# parameters = {'criterion': [\"gini\", \"entropy\"],\n",
        "#              'splitter': ['best', 'random'],\n",
        "#              \"max_features\": range(1,10),\n",
        "#              \"min_samples_split\": range(1, 15),\n",
        "#              \"min_samples_leaf\": range(1, 15),\n",
        "#             \"random_state\": range(1,150)\n",
        "#             }\n",
        "\n",
        "#DT_clf = GridSearchCV(clf, parameters, cv = 2, n_jobs = -1)\n",
        "#DT_clf.fit(features_train, labels_train)\n",
        "#DT_clf.best_params_\n",
        "\n",
        "# SCV GridSearchCV\n",
        "# parameters = {'kernel': ['linear', 'poly', 'rbf', 'sigmoid'],\n",
        "#              'gamma': ['scale','auto'],\n",
        "#              'shrinking': [1, 0]\n",
        "#              }\n",
        "\n",
        "# SVC_clf = GridSearchCV(estimator = clf, param_grid=parameters, cv = 2, n_jobs = -1)\n",
        "# SVC_clf.fit(features_train, labels_train)\n",
        "# SVC_clf.best_params_\n",
        "\n",
        "# Random Forest GridSearchCV\n",
        "# parameters = {'criterion': [\"gini\", \"entropy\"],\n",
        "#              'n_estimators': [50, 60, 70, 80,90, 100],\n",
        "#              'max_depth': range(1, 11),\n",
        "#              \"max_features\": ['auto', 'sqrt', 'log2']\n",
        "#              }\n",
        "\n",
        "\n",
        "# RF_clf = GridSearchCV(estimator = clf, param_grid=parameters, cv = 2, n_jobs = -1)\n",
        "# RF_clf.fit(features_train, labels_train)\n",
        "# RF_clf.best_params_\n",
        "\n",
        "# RandomForestClassifier(max_depth=2, max_features='log2', n_estimators=50)\n",
        "#\tAccuracy: 0.86760\tPrecision: 0.52381\tRecall: 0.07700\tF1: 0.13426\tF2: 0.09284\n",
        "#\tTotal predictions: 15000\tTrue positives:  154\tFalse positives:  140\tFalse negatives: 1846\tTrue negatives: 12860\n"
      ],
      "id": "d9505a6a-215f-470a-afb0-114acc571c8a",
      "execution_count": null,
      "outputs": []
    },
    {
      "cell_type": "markdown",
      "metadata": {
        "id": "FmElz5qM0o9w"
      },
      "source": [
        "## Conclusions"
      ],
      "id": "FmElz5qM0o9w"
    },
    {
      "cell_type": "markdown",
      "metadata": {
        "id": "9b3be3fc-5217-4619-9788-cdd02d29b206"
      },
      "source": [
        "\n",
        "\n",
        "Here we will look at our findings are draw speculative conclusions. \n",
        "\n",
        "Many final exam scores were missing making calculating a meaningful weighted average to find students overall grade a potentially fruitless task. Student registration dates, un-registration dates and exam dates are potentially inaccurate. Many students are missing from click data and exam data who are in student info. Students with passing grades are missing from test scores. Many of the IMD bands were missing and were filled with the median IMD band per region which may be wholly inacurate. These all required workarounds and may introduce discrepancies in our conclusions.\n",
        "\n",
        "It should be noted that this data is incomplete, messy and somewhat dated and any conclustions noted here are educated guesswork.\n",
        "\n",
        "**Courses**\n",
        "* BBB, CCC, DDD and FFF courses seem to be the most popularwith AAA, GGG and EEE being least popular.\n",
        "\n",
        "* GGG courses had the highest percentage of failing students as well as students with distinction. This is likely due to the fact that the whole GGG course was weighted only on the final exam, and rode on students having a good or bad test day without them having room to balance it out with other scores. Despite having the highest percentage of failures, GGG had among the highest exam scores, so it is likely if those scores were included in their final grade these students would have done much better.\n",
        "\n",
        "* Though the AAA module is the least popular, the students seem to have a noticeably higher pass percentage in this course. Students in this module also have the lowest fail percentage. It could be that having fewer students in the course increases the availability of professors and improves student outcome. Improving the teacher to student ratio in courses would be a good thing to experiment on in this case.\n",
        "\n",
        "* The GGG module has the lowest percentage of withdrawals and the highest percentage of students who passed with distinction, but also the highest percentage of failures. If there is anything we can conclude, it seems that students stick with this course all the way to failing and it may be interesting to find what students find so engaging about the GGG module.\n",
        "\n",
        "* Students in the AAA module, despite getting overall better results than students in other modules seem to have the lowest average scores. This is likely due to score weights and the missing final exams.\n",
        "\n",
        "* It seems that EEE, FFF and GGG have generally higher exam scores. GGG we saw had the highest failure rate, but seems to be getting among the best average scores. This is likely due to GGG's full grade being reliant on the final.\n",
        "\n",
        "* Most of our students aged 35 and up were interested in the AAA, BBB and GGG courses and so it might be useful to somwhat gear those courses toward them. Overall though over 70% of our students were under the age of 35, and so instructors should keep that in mind while designing courses.\n",
        "\n",
        "* GGG and BBB courses for seem to attract many more females than males, while The rest of the courses are dominated by male students. \n",
        "\n",
        "**Results**\n",
        "\n",
        "* Our students are getting a negative result of failure or withdrawal nearly half the time. Most of the students who stick with the course do pass, with under a quarter of students failing and over half of the students passing or passing with distinction. Efforts might therefore be put into student retention.\n",
        "\n",
        "**Regions**\n",
        "* It is likely already known by instructors, but all students in this data are in and around the UK region and so British English should be used in courses.\n",
        "\n",
        "* While there is some regions that perform overall better than others, region does not seem to be a great predictor of student outcome, and it is likely that IMD band is a better predictor, and those regions that are doing worse have an overall lower average IMD band.\n",
        "\n",
        "* Region does not seem to be very significant in predicting exam scores or overall results.\n",
        "\n",
        "\n",
        "**IMD Bands**\n",
        "* Students in more deprived areas are getting a negative result more frequently than their peers in less deprived areas and efforts might be made to improve the results of those students.\n",
        "\n",
        "* Similarly to results, student scores seem to improve with their IMD band, though the mean score is overally very similar per IMD band\n",
        "\n",
        "\n",
        "**Education**\n",
        "* Most of our students are A level or below and so college level language should be avoided and depending on the content of the course remedial material may be necessary to get students up to speed on the course contents.\n",
        "\n",
        "* There is a clear relationship between exam score and education which we did not see in the overall student results where the higher the education the higher the mean exam score.\n",
        "\n",
        "**Age Bands**\n",
        "* Most of our students are under the age of 35, potentially come from lower economic backgrounds and have had less than the equivalent of a high school education. This is important because the courses need to be geared toward this type of student, meaning teachers may want to avoid college level vocabulary. People in these groups also tend to be more likely to be working a job during their course.\n",
        "\n",
        "* Each age group has a very similar distribution of overall results. The noticeable difference is older students seem to be more likely to pass with distinction. Students who pass with distinction, and older students are underrepresented though, so it may not hold true in larger samples.\n",
        "\n",
        "* The higher age groups have higher mean scores, and may be doing better overall since they potentially have more experience and may be working less. \n"
      ],
      "id": "9b3be3fc-5217-4619-9788-cdd02d29b206"
    },
    {
      "cell_type": "markdown",
      "metadata": {
        "id": "eca183ad-a68e-4947-9e5a-0a8276fd19a4"
      },
      "source": [
        "<img src=\"Employment.png\">"
      ],
      "id": "eca183ad-a68e-4947-9e5a-0a8276fd19a4"
    },
    {
      "cell_type": "markdown",
      "metadata": {
        "id": "7f2c6723-584c-49e2-b507-ce9c3d8eae4d"
      },
      "source": [
        "* According to the chart above, through 2013-2014 when these courses took place nearly 60% of 18-24 year old people and around 80% of 25-34 year old people in the UK were employed. That number has only increased over the years, and so it should be taken into account that students are likely to have a time crunch that teachers must respect.\n",
        "\n",
        "**Genders**\n",
        "* We have a fairly balanced gender distribution overall.\n",
        "\n",
        "* Student gender does not seem to be a significant factor in their scores or overall results.\n",
        "\n",
        "**Disability**\n",
        "* Just under 10% of our students identify as having a disability and they are doing worse than their peers. It may be worthwhile to identify what disabilities these students have in order to best serve them and potentially improve their results. For example if it is found that many disabled students have poor vision it would be good to optimize the course website for screen readers.\n",
        "\n",
        "* Students who identify as having disabilities have a significantly higher withdrawal rate than their non-disabled peers. It could be that the online courses are unfriendly toward their disabilities, and this should be looked into. Disabled students also seem to get worse scores on their assessments, perhaps for similar reasons.\n",
        "\n",
        "\n",
        "**Assessments**\n",
        "* It seems that students do the best on computer marked exams. This could be that the computer marked exams are easier, being something like multiple choice, and the tutor marked exams are open-ended questions. This could also be due to human error on the tutor's end. Exams seem to have the worst overall scores and it could be that the pressure of the exams gets to students, or that the final exams are much harder. We also do not have complete information on the final exams for all courses, and so this data may not be representative of the courses as a whole.\n",
        "\n",
        "* Assessments with higher weights seem to get worse grades. This could be due to the difficulty of the assessment, due to student anxiety, and potentially due to human error as the higher weight exams are those that are tutor marked.\n",
        "\n",
        "* Exam scores seem to get better as the course goes on, but as the student takes longer to submit the exam the score goes down. Students should be encouraged to submit their exams as early as possible.\n",
        "\n",
        "* Assessment scores seem to get better as time goes on. Perhaps because the students get more accustomed to taking the course, or because students who have done poorly already may have already withdrawn.\n",
        "\n",
        "* The date a student submits the exam seems to have a negative effect on the exam score as time goes on. Students should be encouraged to take the exam on time or early while the information is fresh in their mind. The later an exam is turned in the more the score tends toward poor performance.\n",
        "\n",
        "**Clicks**\n",
        "* The sum of student clicks and the average clicks per day are positively associated with student scores and results. This makes sense as the more engagement a student makes with the course, the better they do. Encouraging student engagement can help to improve scores and retention.\n",
        "\n",
        "* Student interactions with resources per day seems to increase their exam scores plateuing at around 6 clicks per day, though the most successful students seem to be averaging higher than that.\n",
        "\n",
        "* Clicks decrease over time with a pattern of coming to a peak or valley every 75 days.\n",
        "\n",
        "* Quizzes, the main course material, forums, the homepage and subpages of the site seem to be the most interacted with areas of the site.\n"
      ],
      "id": "7f2c6723-584c-49e2-b507-ce9c3d8eae4d"
    },
    {
      "cell_type": "markdown",
      "metadata": {
        "id": "f38bd11a-1327-4c3a-959c-7e6915bc7506"
      },
      "source": [
        "**Further/Next Time**\n",
        "\n",
        "\n",
        "* It would have been interesting to be able to calculate student overall weighted averages in order to find the grades of students who withdrew to predict at what grade students usually withdrew at. This would have allowed us to calculate a 'warning' grade where students might withdraw if their grade falls below a certain number. With a warning grade, teachers might be able to reach out to students to get them the help they need instead of them withdrawing.\n",
        "\n",
        "* It would have been great to have more reliable data on the unregistration dates for the same reason.\n",
        "\n",
        "* Looking at the relationship between student grades/results and what resources they interacted with most on the VLE would be worthwhile to discover whether any one resource is helping students more than others."
      ],
      "id": "f38bd11a-1327-4c3a-959c-7e6915bc7506"
    },
    {
      "cell_type": "markdown",
      "metadata": {
        "id": "73cad70d-3aaa-4e3a-9aea-f84b6d952930"
      },
      "source": [
        "https://www.ons.gov.uk/employmentandlabourmarket/peopleinwork/employmentandemployeetypes/bulletins/employmentintheuk/october2019"
      ],
      "id": "73cad70d-3aaa-4e3a-9aea-f84b6d952930"
    },
    {
      "cell_type": "markdown",
      "metadata": {
        "id": "bf0343a8-19aa-44fb-b6a9-c419e1e085dc"
      },
      "source": [
        ""
      ],
      "id": "bf0343a8-19aa-44fb-b6a9-c419e1e085dc"
    }
  ]
}